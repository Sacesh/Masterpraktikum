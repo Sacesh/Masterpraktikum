{
 "cells": [
  {
   "cell_type": "markdown",
   "metadata": {},
   "source": [
    "# In this file you will find all plot functions used during the Masterpraktikum"
   ]
  },
  {
   "cell_type": "code",
   "execution_count": null,
   "metadata": {},
   "outputs": [],
   "source": [
    "import numpy as np\n",
    "import pandas as pd\n",
    "import matplotlib.pyplot as plt\n",
    "import seaborn as sns"
   ]
  },
  {
   "cell_type": "code",
   "execution_count": null,
   "metadata": {},
   "outputs": [],
   "source": [
    "'''\n",
    "Generate overview plot for precursor_charge distribution in combined dataset\n",
    "'''\n",
    "def plot_most_abundant_charge_distribution(df):\n",
    "    # plot the distirbution of precursor_charge for the whole dataset\n",
    "    sns.set_theme(style=\"darkgrid\")\n",
    "    sns.set_context(\"paper\")\n",
    "    ax = sns.countplot(x='most_abundant_charge', data=df, palette=\"viridis\")\n",
    "    plt.xlabel('Precursor Charge')\n",
    "    plt.ylabel('Count')\n",
    "    plt.title('Distribution of Precursor Charge')\n",
    "    # add percentage of each charge state to the plot\n",
    "    total = len(df['most_abundant_charge'])\n",
    "    for p in ax.patches:\n",
    "        percentage = '{:.1f}%'.format(100 * p.get_height()/total)\n",
    "        x = p.get_x() + p.get_width() / 2 - 0.05\n",
    "        y = p.get_y() + p.get_height() + 5\n",
    "        ax.annotate(percentage, (x, y))\n",
    "    plt.show()"
   ]
  },
  {
   "cell_type": "code",
   "execution_count": null,
   "metadata": {},
   "outputs": [],
   "source": [
    "def plot_topK_charge_distribution(df, column_name='top_2_charge_states'):\n",
    "    charge_state_counter = {\n",
    "        1: 0,\n",
    "        2: 0,\n",
    "        3: 0,\n",
    "        4: 0,\n",
    "        5: 0,\n",
    "        6: 0\n",
    "    }\n",
    "    \n",
    "    for row in df[column_name]:\n",
    "        for k in row:\n",
    "            charge_state_counter[k] = charge_state_counter[k] + 1\n",
    "    sns.set_theme(style=\"darkgrid\")\n",
    "    sns.set_context(\"paper\")\n",
    "    palette = sns.color_palette(\"viridis\", len(charge_state_counter))\n",
    "    plt.figure(figsize=(8, 6))\n",
    "    plt.bar(range(len(charge_state_counter)), list(charge_state_counter.values()), align='center', color=palette)\n",
    "    plt.xticks(range(len(charge_state_counter)), list(charge_state_counter.keys()))\n",
    "    plt.xlabel('Charge State')\n",
    "    plt.ylabel('Count')\n",
    "    plt.title('Charge State Distribution')\n",
    "    plt.tight_layout()\n",
    "    \n",
    "    total = len(df['most_abundant_charge'])\n",
    "    for p in plt.gca().patches:\n",
    "        height = p.get_height()\n",
    "        plt.gca().text(p.get_x() + p.get_width()/2., height + 3, '{:.1f}%'.format(height/total*100), ha='center', fontsize=12)\n",
    "    \n",
    "    plt.show()"
   ]
  }
 ],
 "metadata": {
  "language_info": {
   "name": "python"
  },
  "orig_nbformat": 4
 },
 "nbformat": 4,
 "nbformat_minor": 2
}

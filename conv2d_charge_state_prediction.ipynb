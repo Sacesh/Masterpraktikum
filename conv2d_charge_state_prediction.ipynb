{
 "cells": [
  {
   "cell_type": "markdown",
   "source": [
    "# Playground to implement W&B as well as start hyperparameter-tuning"
   ],
   "metadata": {
    "collapsed": false
   }
  },
  {
   "cell_type": "markdown",
   "source": [
    "# WanDB"
   ],
   "metadata": {
    "collapsed": false
   }
  },
  {
   "cell_type": "code",
   "execution_count": 127,
   "outputs": [],
   "source": [
    "#%pip install wandb"
   ],
   "metadata": {
    "collapsed": false,
    "ExecuteTime": {
     "end_time": "2023-07-22T12:48:27.642365200Z",
     "start_time": "2023-07-22T12:48:27.393759500Z"
    }
   }
  },
  {
   "cell_type": "code",
   "execution_count": 1,
   "outputs": [],
   "source": [
    "import subprocess\n",
    "import wandb\n",
    "from wandb.keras import WandbCallback\n",
    "import tensorflow as tf\n",
    "import os"
   ],
   "metadata": {
    "collapsed": false,
    "ExecuteTime": {
     "end_time": "2023-07-30T09:32:16.381765900Z",
     "start_time": "2023-07-30T09:32:12.297748700Z"
    }
   }
  },
  {
   "cell_type": "code",
   "execution_count": 3,
   "outputs": [
    {
     "data": {
      "text/plain": "0"
     },
     "execution_count": 3,
     "metadata": {},
     "output_type": "execute_result"
    }
   ],
   "source": [
    "subprocess.call(['wandb', 'login', '4e8d3dcb1584ad129b3b49ccc34f65b20116ae54'])"
   ],
   "metadata": {
    "collapsed": false,
    "ExecuteTime": {
     "end_time": "2023-07-30T09:32:41.906130200Z",
     "start_time": "2023-07-30T09:32:39.365767300Z"
    }
   }
  },
  {
   "cell_type": "code",
   "execution_count": 4,
   "outputs": [
    {
     "name": "stderr",
     "output_type": "stream",
     "text": [
      "\u001B[34m\u001B[1mwandb\u001B[0m: Currently logged in as: \u001B[33mnkopp\u001B[0m (\u001B[33mteam-bioinf\u001B[0m). Use \u001B[1m`wandb login --relogin`\u001B[0m to force relogin\n"
     ]
    },
    {
     "data": {
      "text/plain": "<IPython.core.display.HTML object>",
      "text/html": "wandb version 0.15.7 is available!  To upgrade, please run:\n $ pip install wandb --upgrade"
     },
     "metadata": {},
     "output_type": "display_data"
    },
    {
     "data": {
      "text/plain": "<IPython.core.display.HTML object>",
      "text/html": "Tracking run with wandb version 0.15.5"
     },
     "metadata": {},
     "output_type": "display_data"
    },
    {
     "data": {
      "text/plain": "<IPython.core.display.HTML object>",
      "text/html": "Run data is saved locally in <code>C:\\Users\\micro\\OneDrive\\Dokumente\\GitHub\\Masterpraktikum\\wandb\\run-20230730_113244-d0mt4sd1</code>"
     },
     "metadata": {},
     "output_type": "display_data"
    },
    {
     "data": {
      "text/plain": "<IPython.core.display.HTML object>",
      "text/html": "Syncing run <strong><a href='https://wandb.ai/team-bioinf/precursor_charge_prediction/runs/d0mt4sd1' target=\"_blank\">faithful-water-23</a></strong> to <a href='https://wandb.ai/team-bioinf/precursor_charge_prediction' target=\"_blank\">Weights & Biases</a> (<a href='https://wandb.me/run' target=\"_blank\">docs</a>)<br/>"
     },
     "metadata": {},
     "output_type": "display_data"
    },
    {
     "data": {
      "text/plain": "<IPython.core.display.HTML object>",
      "text/html": " View project at <a href='https://wandb.ai/team-bioinf/precursor_charge_prediction' target=\"_blank\">https://wandb.ai/team-bioinf/precursor_charge_prediction</a>"
     },
     "metadata": {},
     "output_type": "display_data"
    },
    {
     "data": {
      "text/plain": "<IPython.core.display.HTML object>",
      "text/html": " View run at <a href='https://wandb.ai/team-bioinf/precursor_charge_prediction/runs/d0mt4sd1' target=\"_blank\">https://wandb.ai/team-bioinf/precursor_charge_prediction/runs/d0mt4sd1</a>"
     },
     "metadata": {},
     "output_type": "display_data"
    },
    {
     "data": {
      "text/html": "<button onClick=\"this.nextSibling.style.display='block';this.style.display='none';\">Display W&B run</button><iframe src='https://wandb.ai/team-bioinf/precursor_charge_prediction/runs/d0mt4sd1?jupyter=true' style='border:none;width:100%;height:420px;display:none;'></iframe>",
      "text/plain": "<wandb.sdk.wandb_run.Run at 0x2a65e5fa6d0>"
     },
     "execution_count": 4,
     "metadata": {},
     "output_type": "execute_result"
    }
   ],
   "source": [
    "wandb.init(project='precursor_charge_prediction')"
   ],
   "metadata": {
    "collapsed": false,
    "ExecuteTime": {
     "end_time": "2023-07-30T09:32:45.386580200Z",
     "start_time": "2023-07-30T09:32:43.914318200Z"
    }
   }
  },
  {
   "cell_type": "markdown",
   "source": [],
   "metadata": {
    "collapsed": false
   }
  },
  {
   "cell_type": "markdown",
   "source": [],
   "metadata": {
    "collapsed": false
   }
  },
  {
   "cell_type": "markdown",
   "source": [
    "## Setup"
   ],
   "metadata": {
    "collapsed": false
   }
  },
  {
   "cell_type": "code",
   "execution_count": null,
   "outputs": [],
   "source": [
    "#%pip install seaborn"
   ],
   "metadata": {
    "collapsed": false
   }
  },
  {
   "cell_type": "code",
   "execution_count": 5,
   "outputs": [],
   "source": [
    "import re\n",
    "import os\n",
    "import random\n",
    "import numpy as np\n",
    "import pandas as pd\n",
    "import tensorflow as tf\n",
    "import matplotlib.pyplot as plt\n",
    "from sklearn.model_selection import train_test_split\n",
    "from tensorflow.keras.callbacks import ModelCheckpoint\n",
    "from sklearn.utils import class_weight\n",
    "from sklearn.model_selection import StratifiedShuffleSplit\n",
    "from sklearn.metrics import confusion_matrix, classification_report\n",
    "import seaborn as sns\n",
    "import wandb\n",
    "from wandb.keras import WandbCallback\n",
    "import keras"
   ],
   "metadata": {
    "collapsed": false,
    "ExecuteTime": {
     "end_time": "2023-07-30T09:33:12.191779200Z",
     "start_time": "2023-07-30T09:33:11.995144100Z"
    }
   }
  },
  {
   "cell_type": "code",
   "execution_count": 6,
   "outputs": [],
   "source": [
    "train_datapath = [\"data/\"+file for file in os.listdir('data') if file.endswith(\".parquet\")][0]\n",
    "batch_size = 32"
   ],
   "metadata": {
    "collapsed": false,
    "ExecuteTime": {
     "end_time": "2023-07-30T09:33:14.205574600Z",
     "start_time": "2023-07-30T09:33:14.175191600Z"
    }
   }
  },
  {
   "cell_type": "markdown",
   "source": [
    "# Dataset batches + split"
   ],
   "metadata": {
    "collapsed": false
   }
  },
  {
   "cell_type": "code",
   "execution_count": 7,
   "outputs": [],
   "source": [
    "import re\n",
    "# the dictionary\n",
    "aa_syntax_dictionary = dict()\n",
    "for index, i in enumerate(list('XACDEFGHIKLMNPQRSTVWY')): # added X for 0 value\n",
    "    aa_syntax_dictionary[i] = index * 100\n",
    "    if i != 'X': # ignore 0 value for X\n",
    "        for count in range(0, 100):\n",
    "            aa_syntax_dictionary[i + \"[UNIMOD:\" + str(count) + \"]\"] = index * 100 + count\n",
    "\n",
    "def seq_translator(sequence, dictionary=aa_syntax_dictionary, print_result=False):\n",
    "    \"\"\"\n",
    "    Translates a sequence into a vector of integers\n",
    "    :param sequence: string\n",
    "    :param dictionary: dictionary\n",
    "    :return: list\n",
    "    \"\"\"\n",
    "    pattern = r'[A-Z]\\[[^\\]]*\\]|.' # regex pattern to match amino acids and modifications\n",
    "\n",
    "    result = [match for match in re.findall(pattern, sequence)]\n",
    "\n",
    "    if print_result:\n",
    "        print(result)\n",
    "    # Fill the list with \"X\" characters until it reaches a length of 40\n",
    "    result += ['X'] * (50 - len(result))\n",
    "\n",
    "    return [dictionary[aa] for aa in result]\n",
    "\n",
    "\n",
    "def one_hot_precursor(int_value, charges=[2,3,4]):\n",
    "    \"\"\"\n",
    "    One-hot encodes the precursor charge\n",
    "    :param df: dataframe\n",
    "    :param max_charge_included: int\n",
    "    :return: dataframe\n",
    "    \"\"\"\n",
    "    one_hot = [1 if x == int_value else 0 for x in charges]\n",
    "\n",
    "    return one_hot"
   ],
   "metadata": {
    "collapsed": false,
    "ExecuteTime": {
     "end_time": "2023-07-30T09:33:16.554337400Z",
     "start_time": "2023-07-30T09:33:16.522068Z"
    }
   }
  },
  {
   "cell_type": "code",
   "execution_count": 8,
   "outputs": [
    {
     "name": "stdout",
     "output_type": "stream",
     "text": [
      "['A', 'A', 'C[UNIMOD:4]', 'L', 'L', 'V', 'A', 'W']\n",
      "[100, 100, 204, 1000, 1000, 1800, 100, 1900, 0, 0, 0, 0, 0, 0, 0, 0, 0, 0, 0, 0, 0, 0, 0, 0, 0, 0, 0, 0, 0, 0, 0, 0, 0, 0, 0, 0, 0, 0, 0, 0, 0, 0, 0, 0, 0, 0, 0, 0, 0, 0]\n",
      "[1, 0, 0]\n"
     ]
    }
   ],
   "source": [
    "print(seq_translator('AAC[UNIMOD:4]LLVAW', print_result=True))\n",
    "print(one_hot_precursor(2))"
   ],
   "metadata": {
    "collapsed": false,
    "ExecuteTime": {
     "end_time": "2023-07-30T09:33:19.013041400Z",
     "start_time": "2023-07-30T09:33:18.961161800Z"
    }
   }
  },
  {
   "cell_type": "code",
   "execution_count": 9,
   "outputs": [
    {
     "name": "stdout",
     "output_type": "stream",
     "text": [
      "data/Thermo_SRM_Pool_meta_data.parquet\n"
     ]
    }
   ],
   "source": [
    "file_list = [\"data/\"+file for file in os.listdir('data') if file.endswith('.parquet')]\n",
    "print(file_list[0])"
   ],
   "metadata": {
    "collapsed": false,
    "ExecuteTime": {
     "end_time": "2023-07-30T09:33:20.548793400Z",
     "start_time": "2023-07-30T09:33:20.517269500Z"
    }
   }
  },
  {
   "cell_type": "markdown",
   "source": [
    "### import parquet files, drop all columns we dont need for training, one-hot encode precursor charge, translate sequence"
   ],
   "metadata": {
    "collapsed": false
   }
  },
  {
   "cell_type": "code",
   "execution_count": 10,
   "outputs": [],
   "source": [
    "batches_parquet = dict()\n",
    "counter = 0\n",
    "for file in file_list:\n",
    "    df = pd.read_parquet(file, engine='fastparquet')\n",
    "    # drop all columns we dont need for training\n",
    "    for column in df.columns:\n",
    "        if column not in [\"modified_sequence\",\"precursor_intensity\", \"precursor_charge\"]:\n",
    "            df.drop(column, axis=1, inplace=True)\n",
    "    charge_ranges = [2, 3, 4] # TODO SET RANGES\n",
    "    df = df[df[\"precursor_charge\"].isin(charge_ranges)] # remove 7+ charge states // only take charge states 2,3,4\n",
    "    df[\"modified_sequence_vector\"] = df[\"modified_sequence\"].apply(seq_translator)\n",
    "    df[\"precursor_charge_vector\"] = df[\"precursor_charge\"].apply(one_hot_precursor, args=(charge_ranges,))\n",
    "    df = df.dropna(subset=['precursor_intensity']) # drop rows with no precursor intensity\n",
    "    batches_parquet[file] = df\n",
    "    counter += 1\n",
    "    if counter > 1:\n",
    "        break # TODO REMOVE BREAK FOR FIRST FILE IN LIST"
   ],
   "metadata": {
    "collapsed": false,
    "ExecuteTime": {
     "end_time": "2023-07-30T09:34:40.321940400Z",
     "start_time": "2023-07-30T09:33:22.258590500Z"
    }
   }
  },
  {
   "cell_type": "code",
   "execution_count": 11,
   "outputs": [],
   "source": [
    "num_classes = len(charge_ranges)\n",
    "class_names = charge_ranges"
   ],
   "metadata": {
    "collapsed": false,
    "ExecuteTime": {
     "end_time": "2023-07-30T09:35:10.466977900Z",
     "start_time": "2023-07-30T09:35:10.419860600Z"
    }
   }
  },
  {
   "cell_type": "code",
   "execution_count": 12,
   "outputs": [
    {
     "data": {
      "text/plain": "      modified_sequence  precursor_charge  precursor_intensity  \\\n0  LPGSLETYVEQEQGENANDR                 2           29525630.0   \n1       HGSLQEYLQNDTGSK                 2           13188580.0   \n2        VEEEEEINSELTAR                 2           20663460.0   \n3  LPGSLETYVEQEQGENANDR                 2           19884630.0   \n4  NSSTAEINETTTSSTDFLAR                 2           12804420.0   \n\n                            modified_sequence_vector precursor_charge_vector  \n0  [1000, 1300, 600, 1600, 1000, 400, 1700, 2000,...               [1, 0, 0]  \n1  [700, 600, 1600, 1000, 1400, 400, 2000, 1000, ...               [1, 0, 0]  \n2  [1800, 400, 400, 400, 400, 400, 800, 1200, 160...               [1, 0, 0]  \n3  [1000, 1300, 600, 1600, 1000, 400, 1700, 2000,...               [1, 0, 0]  \n4  [1200, 1600, 1600, 1700, 100, 400, 800, 1200, ...               [1, 0, 0]  ",
      "text/html": "<div>\n<style scoped>\n    .dataframe tbody tr th:only-of-type {\n        vertical-align: middle;\n    }\n\n    .dataframe tbody tr th {\n        vertical-align: top;\n    }\n\n    .dataframe thead th {\n        text-align: right;\n    }\n</style>\n<table border=\"1\" class=\"dataframe\">\n  <thead>\n    <tr style=\"text-align: right;\">\n      <th></th>\n      <th>modified_sequence</th>\n      <th>precursor_charge</th>\n      <th>precursor_intensity</th>\n      <th>modified_sequence_vector</th>\n      <th>precursor_charge_vector</th>\n    </tr>\n  </thead>\n  <tbody>\n    <tr>\n      <th>0</th>\n      <td>LPGSLETYVEQEQGENANDR</td>\n      <td>2</td>\n      <td>29525630.0</td>\n      <td>[1000, 1300, 600, 1600, 1000, 400, 1700, 2000,...</td>\n      <td>[1, 0, 0]</td>\n    </tr>\n    <tr>\n      <th>1</th>\n      <td>HGSLQEYLQNDTGSK</td>\n      <td>2</td>\n      <td>13188580.0</td>\n      <td>[700, 600, 1600, 1000, 1400, 400, 2000, 1000, ...</td>\n      <td>[1, 0, 0]</td>\n    </tr>\n    <tr>\n      <th>2</th>\n      <td>VEEEEEINSELTAR</td>\n      <td>2</td>\n      <td>20663460.0</td>\n      <td>[1800, 400, 400, 400, 400, 400, 800, 1200, 160...</td>\n      <td>[1, 0, 0]</td>\n    </tr>\n    <tr>\n      <th>3</th>\n      <td>LPGSLETYVEQEQGENANDR</td>\n      <td>2</td>\n      <td>19884630.0</td>\n      <td>[1000, 1300, 600, 1600, 1000, 400, 1700, 2000,...</td>\n      <td>[1, 0, 0]</td>\n    </tr>\n    <tr>\n      <th>4</th>\n      <td>NSSTAEINETTTSSTDFLAR</td>\n      <td>2</td>\n      <td>12804420.0</td>\n      <td>[1200, 1600, 1600, 1700, 100, 400, 800, 1200, ...</td>\n      <td>[1, 0, 0]</td>\n    </tr>\n  </tbody>\n</table>\n</div>"
     },
     "execution_count": 12,
     "metadata": {},
     "output_type": "execute_result"
    }
   ],
   "source": [
    "batches_parquet[file_list[0]].head()"
   ],
   "metadata": {
    "collapsed": false,
    "ExecuteTime": {
     "end_time": "2023-07-30T09:35:11.606002Z",
     "start_time": "2023-07-30T09:35:11.541022Z"
    }
   }
  },
  {
   "cell_type": "code",
   "execution_count": 13,
   "outputs": [
    {
     "data": {
      "text/plain": "2    4331294\n3    1523398\n4     115577\nName: precursor_charge, dtype: int64"
     },
     "execution_count": 13,
     "metadata": {},
     "output_type": "execute_result"
    }
   ],
   "source": [
    "batches_parquet[file_list[0]][\"precursor_charge\"].value_counts()"
   ],
   "metadata": {
    "collapsed": false,
    "ExecuteTime": {
     "end_time": "2023-07-30T09:35:13.507178Z",
     "start_time": "2023-07-30T09:35:13.379993800Z"
    }
   }
  },
  {
   "cell_type": "markdown",
   "source": [
    "### import preprocessed df's"
   ],
   "metadata": {
    "collapsed": false
   }
  },
  {
   "cell_type": "code",
   "execution_count": 14,
   "outputs": [],
   "source": [
    "# Make validation data\n",
    "sample_df = batches_parquet[file_list[0]][[\"precursor_charge\", \"precursor_intensity\", \"modified_sequence_vector\"]].copy()"
   ],
   "metadata": {
    "collapsed": false,
    "ExecuteTime": {
     "end_time": "2023-07-30T09:35:17.451767300Z",
     "start_time": "2023-07-30T09:35:17.241137800Z"
    }
   }
  },
  {
   "cell_type": "code",
   "execution_count": null,
   "outputs": [],
   "source": [
    "sample_df"
   ],
   "metadata": {
    "collapsed": false
   }
  },
  {
   "cell_type": "code",
   "execution_count": 15,
   "outputs": [],
   "source": [
    "# Split the data into train, validation, and test sets\n",
    "sample_df[\"precursor_intensity\"] = sample_df[\"precursor_intensity\"].astype(int) # TODO or times 10 -> 0.1 = 1 .astype(int)\n",
    "main_ds = np.array(sample_df[[\"precursor_intensity\", \"modified_sequence_vector\"]]) # to list\n",
    "main_ds_labels = np.array(sample_df['precursor_charge'])\n",
    "max_len = max(sample_df.loc[:, 'modified_sequence_vector'].apply(len))  # Find the maximum length\n",
    "\n",
    "\n",
    "# Create an instance of StratifiedShuffleSplit\n",
    "sss = StratifiedShuffleSplit(n_splits=1, test_size=0.2, random_state=42)\n",
    "\n",
    "# Perform the split\n",
    "train_indicies, val_indicies = next(sss.split(main_ds, main_ds_labels))\n",
    "train_ds, train_ds_labels = main_ds[train_indicies], main_ds_labels[train_indicies]\n",
    "val_ds, val_ds_labels = main_ds[val_indicies], main_ds_labels[val_indicies]\n",
    "\n",
    "\n",
    "charges = [2,3,4] # TODO SELECT CLASSES\n",
    "num_classes = len(charges)\n",
    "\n",
    "train_ds_labels, val_ds_labels = np.array([one_hot_precursor(i, charges = charges) for i in train_ds_labels]), np.array([one_hot_precursor(i, charges = charges) for i in val_ds_labels])"
   ],
   "metadata": {
    "collapsed": false,
    "ExecuteTime": {
     "end_time": "2023-07-30T09:35:41.692620600Z",
     "start_time": "2023-07-30T09:35:19.576491200Z"
    }
   }
  },
  {
   "cell_type": "markdown",
   "source": [
    "### Model"
   ],
   "metadata": {
    "collapsed": false
   }
  },
  {
   "cell_type": "code",
   "execution_count": 561,
   "outputs": [
    {
     "data": {
      "text/plain": "<tf.Tensor: shape=(1,), dtype=int32, numpy=array([600])>"
     },
     "execution_count": 561,
     "metadata": {},
     "output_type": "execute_result"
    }
   ],
   "source": [
    "train_ds_b[1][0]"
   ],
   "metadata": {
    "collapsed": false,
    "ExecuteTime": {
     "end_time": "2023-07-28T13:04:57.312513500Z",
     "start_time": "2023-07-28T13:04:57.262572700Z"
    }
   }
  },
  {
   "cell_type": "code",
   "execution_count": 562,
   "outputs": [
    {
     "data": {
      "text/plain": "(4776215, 2)"
     },
     "execution_count": 562,
     "metadata": {},
     "output_type": "execute_result"
    }
   ],
   "source": [
    "train_ds.shape"
   ],
   "metadata": {
    "collapsed": false,
    "ExecuteTime": {
     "end_time": "2023-07-28T13:04:59.716695400Z",
     "start_time": "2023-07-28T13:04:59.661645300Z"
    }
   }
  },
  {
   "cell_type": "code",
   "execution_count": 16,
   "outputs": [],
   "source": [
    "train_ds_a, train_ds_b, val_ds_a, val_ds_b = train_ds[:, 0], train_ds[:, 1:], val_ds[:, 0], val_ds[:, 1:]"
   ],
   "metadata": {
    "collapsed": false,
    "ExecuteTime": {
     "end_time": "2023-07-30T09:35:41.701889800Z",
     "start_time": "2023-07-30T09:35:41.695127200Z"
    }
   }
  },
  {
   "cell_type": "code",
   "execution_count": 17,
   "outputs": [],
   "source": [
    "train_ds_a = train_ds_a.reshape(train_ds_a.shape[0], 1)\n",
    "val_ds_a = val_ds_a.reshape(val_ds_a.shape[0], 1)"
   ],
   "metadata": {
    "collapsed": false,
    "ExecuteTime": {
     "end_time": "2023-07-30T09:35:41.710157400Z",
     "start_time": "2023-07-30T09:35:41.699389400Z"
    }
   }
  },
  {
   "cell_type": "code",
   "execution_count": 565,
   "outputs": [
    {
     "data": {
      "text/plain": "(4776215, 1)"
     },
     "execution_count": 565,
     "metadata": {},
     "output_type": "execute_result"
    }
   ],
   "source": [
    "train_ds_a.shape"
   ],
   "metadata": {
    "collapsed": false,
    "ExecuteTime": {
     "end_time": "2023-07-28T13:05:06.768427Z",
     "start_time": "2023-07-28T13:05:06.701963900Z"
    }
   }
  },
  {
   "cell_type": "code",
   "execution_count": 18,
   "outputs": [],
   "source": [
    "train_ds_a = tf.convert_to_tensor(train_ds_a, dtype=tf.int32)\n",
    "val_ds_a = tf.convert_to_tensor(val_ds_a, dtype=tf.int32)"
   ],
   "metadata": {
    "collapsed": false,
    "ExecuteTime": {
     "end_time": "2023-07-30T09:35:42.513115400Z",
     "start_time": "2023-07-30T09:35:41.709159Z"
    }
   }
  },
  {
   "cell_type": "code",
   "execution_count": 545,
   "outputs": [],
   "source": [
    "# train_ds_b = [np.array(x[0]).reshape(-1,1) for x in train_ds_b] # todo for rows"
   ],
   "metadata": {
    "collapsed": false,
    "ExecuteTime": {
     "end_time": "2023-07-28T12:39:30.742411Z",
     "start_time": "2023-07-28T12:39:07.922689100Z"
    }
   }
  },
  {
   "cell_type": "code",
   "execution_count": 19,
   "outputs": [],
   "source": [
    "train_ds_b = [np.reshape(np.array(x[0]), (1, 50, 1)) for x in train_ds_b]\n",
    "val_ds_b = [np.reshape(np.array(x[0]), (1, 50, 1)) for x in val_ds_b]"
   ],
   "metadata": {
    "collapsed": false,
    "ExecuteTime": {
     "end_time": "2023-07-30T09:36:17.210322100Z",
     "start_time": "2023-07-30T09:35:42.516116Z"
    }
   }
  },
  {
   "cell_type": "code",
   "execution_count": 20,
   "outputs": [
    {
     "data": {
      "text/plain": "<Figure size 640x480 with 1 Axes>",
      "image/png": "[encoded data removed]"
     },
     "metadata": {},
     "output_type": "display_data"
    },
    {
     "data": {
      "text/plain": "<Figure size 640x480 with 1 Axes>",
      "image/png": "[encoded data removed]"
     },
     "metadata": {},
     "output_type": "display_data"
    },
    {
     "data": {
      "text/plain": "<Figure size 640x480 with 1 Axes>",
      "image/png": "[encoded data removed]"
     },
     "metadata": {},
     "output_type": "display_data"
    },
    {
     "data": {
      "text/plain": "<Figure size 640x480 with 1 Axes>",
      "image/png": "[encoded data removed]"
     },
     "metadata": {},
     "output_type": "display_data"
    },
    {
     "data": {
      "text/plain": "<Figure size 640x480 with 1 Axes>",
      "image/png": "[encoded data removed]"
     },
     "metadata": {},
     "output_type": "display_data"
    }
   ],
   "source": [
    "from matplotlib import pyplot as plt\n",
    "for i in range(5):\n",
    "    plt.imshow(train_ds_b[i], interpolation='nearest', cmap='seismic') # TODO CUSTOM COLORS FOR AA\n",
    "    plt.show()"
   ],
   "metadata": {
    "collapsed": false,
    "ExecuteTime": {
     "end_time": "2023-07-30T09:36:17.980035200Z",
     "start_time": "2023-07-30T09:36:17.211821Z"
    }
   }
  },
  {
   "cell_type": "code",
   "execution_count": 21,
   "outputs": [],
   "source": [
    "train_ds_b = tf.convert_to_tensor(train_ds_b)\n",
    "val_ds_b = tf.convert_to_tensor(val_ds_b)"
   ],
   "metadata": {
    "collapsed": false,
    "ExecuteTime": {
     "end_time": "2023-07-30T09:39:57.206653100Z",
     "start_time": "2023-07-30T09:36:17.977520200Z"
    }
   }
  },
  {
   "cell_type": "code",
   "execution_count": 620,
   "outputs": [
    {
     "data": {
      "text/plain": "TensorShape([4776215, 1, 50, 1])"
     },
     "execution_count": 620,
     "metadata": {},
     "output_type": "execute_result"
    }
   ],
   "source": [
    "train_ds_b.shape"
   ],
   "metadata": {
    "collapsed": false,
    "ExecuteTime": {
     "end_time": "2023-07-28T13:22:59.454042600Z",
     "start_time": "2023-07-28T13:22:59.408500600Z"
    }
   }
  },
  {
   "cell_type": "code",
   "execution_count": 621,
   "outputs": [
    {
     "data": {
      "text/plain": "TensorShape([1, 50, 1])"
     },
     "execution_count": 621,
     "metadata": {},
     "output_type": "execute_result"
    }
   ],
   "source": [
    "train_ds_b.shape[1:]"
   ],
   "metadata": {
    "collapsed": false,
    "ExecuteTime": {
     "end_time": "2023-07-28T13:23:10.537924100Z",
     "start_time": "2023-07-28T13:23:10.472171200Z"
    }
   }
  },
  {
   "cell_type": "code",
   "execution_count": 619,
   "outputs": [
    {
     "data": {
      "text/plain": "(4776215,)"
     },
     "execution_count": 619,
     "metadata": {},
     "output_type": "execute_result"
    }
   ],
   "source": [
    "train_ds_a.shape"
   ],
   "metadata": {
    "collapsed": false,
    "ExecuteTime": {
     "end_time": "2023-07-28T13:22:57.803342300Z",
     "start_time": "2023-07-28T13:22:57.739134100Z"
    }
   }
  },
  {
   "cell_type": "code",
   "execution_count": 703,
   "outputs": [
    {
     "data": {
      "text/plain": "(1194054, 2)"
     },
     "execution_count": 703,
     "metadata": {},
     "output_type": "execute_result"
    }
   ],
   "source": [
    "val_ds.shape"
   ],
   "metadata": {
    "collapsed": false,
    "ExecuteTime": {
     "end_time": "2023-07-28T13:54:24.264516400Z",
     "start_time": "2023-07-28T13:54:24.203946300Z"
    }
   }
  },
  {
   "cell_type": "code",
   "execution_count": 690,
   "outputs": [],
   "source": [
    "#train_ds_labels = tf.convert_to_tensor(train_ds_labels)\n",
    "#val_ds_labels = tf.convert_to_tensor(val_ds_labels)"
   ],
   "metadata": {
    "collapsed": false,
    "ExecuteTime": {
     "end_time": "2023-07-28T13:50:02.561881600Z",
     "start_time": "2023-07-28T13:50:02.519784300Z"
    }
   }
  },
  {
   "cell_type": "code",
   "execution_count": 701,
   "outputs": [
    {
     "data": {
      "text/plain": "TensorShape([4776215, 3])"
     },
     "execution_count": 701,
     "metadata": {},
     "output_type": "execute_result"
    }
   ],
   "source": [
    "train_ds_labels.shape"
   ],
   "metadata": {
    "collapsed": false,
    "ExecuteTime": {
     "end_time": "2023-07-28T13:53:44.277117200Z",
     "start_time": "2023-07-28T13:53:44.215932Z"
    }
   }
  },
  {
   "cell_type": "code",
   "execution_count": 702,
   "outputs": [
    {
     "data": {
      "text/plain": "TensorShape([1194054, 3])"
     },
     "execution_count": 702,
     "metadata": {},
     "output_type": "execute_result"
    }
   ],
   "source": [
    "val_ds_labels.shape"
   ],
   "metadata": {
    "collapsed": false,
    "ExecuteTime": {
     "end_time": "2023-07-28T13:53:55.868338Z",
     "start_time": "2023-07-28T13:53:55.733618Z"
    }
   }
  },
  {
   "cell_type": "code",
   "execution_count": 22,
   "outputs": [],
   "source": [
    "from keras import Sequential, Model\n",
    "from keras.layers import Embedding, Flatten, Dense, Conv1D, Conv2D, MaxPooling1D, MaxPooling2D, Input, concatenate, Rescaling\n",
    "# define two sets of inputs\n",
    "inputA = Input(shape=(1,)) # TODO only 1 column for intensities\n",
    "inputB = Input(shape=train_ds_b.shape[1:])\n",
    "# the first branch operates on the first input\n",
    "x = Model(inputs=inputA, outputs=inputA)\n",
    "# the second branch operates on the second input\n",
    "y = Rescaling(scale=1./2000)(inputB) # for dictionary of 2000 words (X = 0, aa 1-20 in 100 steps)\n",
    "#y = Embedding(input_dim=2000, output_dim=3, input_length=50)(inputB)\n",
    "y = Conv2D(filters=64, kernel_size=(1,3), strides=1, activation=\"relu\", padding='same')(y)\n",
    "y = MaxPooling2D(pool_size=(1,2), padding='same')(y)\n",
    "y = Conv2D(filters=128, kernel_size=(1,3), strides=1, activation=\"relu\", padding='same')(y)\n",
    "y = MaxPooling2D(pool_size=(1,2), padding='same')(y)\n",
    "y = Flatten()(y)\n",
    "y = Dense(2000, activation=\"relu\")(y)\n",
    "y = Model(inputs=inputB, outputs=y)\n",
    "# combine the output of the two branches\n",
    "combined = concatenate([x.output, y.output])\n",
    "# apply a FC layer and then a regression p0rediction on the\n",
    "# combined outputs\n",
    "z = Dense((inputA.shape[1]+inputB.shape[1]), activation=\"relu\")(combined) # 1 + 50 = 51\n",
    "#z = Flatten()(combined)\n",
    "z = Dense(num_classes, activation=\"softmax\")(combined)\n",
    "# our model will accept the inputs of the two branches and\n",
    "# then output a single value\n",
    "model = Model(inputs=[x.input, y.input], outputs=z)"
   ],
   "metadata": {
    "collapsed": false,
    "ExecuteTime": {
     "end_time": "2023-07-30T09:40:39.354969100Z",
     "start_time": "2023-07-30T09:40:39.215128400Z"
    }
   }
  },
  {
   "cell_type": "code",
   "execution_count": 23,
   "outputs": [
    {
     "name": "stdout",
     "output_type": "stream",
     "text": [
      "Model: \"model_2\"\n",
      "__________________________________________________________________________________________________\n",
      " Layer (type)                   Output Shape         Param #     Connected to                     \n",
      "==================================================================================================\n",
      " input_2 (InputLayer)           [(None, 1, 50, 1)]   0           []                               \n",
      "                                                                                                  \n",
      " rescaling (Rescaling)          (None, 1, 50, 1)     0           ['input_2[0][0]']                \n",
      "                                                                                                  \n",
      " conv2d (Conv2D)                (None, 1, 50, 64)    256         ['rescaling[0][0]']              \n",
      "                                                                                                  \n",
      " max_pooling2d (MaxPooling2D)   (None, 1, 25, 64)    0           ['conv2d[0][0]']                 \n",
      "                                                                                                  \n",
      " conv2d_1 (Conv2D)              (None, 1, 25, 128)   24704       ['max_pooling2d[0][0]']          \n",
      "                                                                                                  \n",
      " max_pooling2d_1 (MaxPooling2D)  (None, 1, 13, 128)  0           ['conv2d_1[0][0]']               \n",
      "                                                                                                  \n",
      " flatten (Flatten)              (None, 1664)         0           ['max_pooling2d_1[0][0]']        \n",
      "                                                                                                  \n",
      " input_1 (InputLayer)           [(None, 1)]          0           []                               \n",
      "                                                                                                  \n",
      " dense (Dense)                  (None, 2000)         3330000     ['flatten[0][0]']                \n",
      "                                                                                                  \n",
      " concatenate (Concatenate)      (None, 2001)         0           ['input_1[0][0]',                \n",
      "                                                                  'dense[0][0]']                  \n",
      "                                                                                                  \n",
      " dense_2 (Dense)                (None, 3)            6006        ['concatenate[0][0]']            \n",
      "                                                                                                  \n",
      "==================================================================================================\n",
      "Total params: 3,360,966\n",
      "Trainable params: 3,360,966\n",
      "Non-trainable params: 0\n",
      "__________________________________________________________________________________________________\n"
     ]
    }
   ],
   "source": [
    "model.summary()"
   ],
   "metadata": {
    "collapsed": false,
    "ExecuteTime": {
     "end_time": "2023-07-30T09:40:41.577021800Z",
     "start_time": "2023-07-30T09:40:41.476166600Z"
    }
   }
  },
  {
   "cell_type": "code",
   "execution_count": 24,
   "outputs": [
    {
     "data": {
      "image/png": "[encoded data removed]",
      "text/plain": "<IPython.core.display.Image object>"
     },
     "execution_count": 24,
     "metadata": {},
     "output_type": "execute_result"
    }
   ],
   "source": [
    "# plot model\n",
    "tf.keras.utils.plot_model(model, show_shapes=True, show_layer_names=True)"
   ],
   "metadata": {
    "collapsed": false,
    "ExecuteTime": {
     "end_time": "2023-07-30T09:40:45.107842Z",
     "start_time": "2023-07-30T09:40:44.746953600Z"
    }
   }
  },
  {
   "cell_type": "code",
   "execution_count": 25,
   "outputs": [],
   "source": [
    "# Compile the model\n",
    "model.compile(loss=tf.keras.losses.CategoricalCrossentropy(), optimizer=keras.optimizers.Adam(learning_rate=0.0001), metrics=['accuracy'])"
   ],
   "metadata": {
    "collapsed": false,
    "ExecuteTime": {
     "end_time": "2023-07-30T09:40:49.117696800Z",
     "start_time": "2023-07-30T09:40:49.085345Z"
    }
   }
  },
  {
   "cell_type": "code",
   "execution_count": 26,
   "outputs": [],
   "source": [
    "checkpoint_callback = ModelCheckpoint('precursor_charge_prediction_model_v1/cce_wo7_allSequences.h5', monitor='val_accuracy', save_best_only=True, mode='max')\n",
    "\n",
    "# Define early stopping\n",
    "early_stopping = tf.keras.callbacks.EarlyStopping(monitor='val_loss', patience=5)"
   ],
   "metadata": {
    "collapsed": false,
    "ExecuteTime": {
     "end_time": "2023-07-30T09:40:53.436754900Z",
     "start_time": "2023-07-30T09:40:53.406904200Z"
    }
   }
  },
  {
   "cell_type": "code",
   "execution_count": 683,
   "outputs": [],
   "source": [
    "#steps_per_epoch = train_ds_b.shape[0] // 256"
   ],
   "metadata": {
    "collapsed": false,
    "ExecuteTime": {
     "end_time": "2023-07-28T13:45:07.863196100Z",
     "start_time": "2023-07-28T13:45:07.826114300Z"
    }
   }
  },
  {
   "cell_type": "code",
   "execution_count": 29,
   "outputs": [],
   "source": [
    "# Train the model\n",
    "# X_train, X_test, y_train, y_test\n",
    "history = model.fit([train_ds_a, train_ds_b], train_ds_labels, epochs=10, batch_size=4096, validation_data=([val_ds_a, val_ds_b], val_ds_labels), callbacks=[WandbCallback()])"
   ],
   "metadata": {
    "collapsed": false
   }
  },
  {
   "cell_type": "code",
   "execution_count": 748,
   "outputs": [],
   "source": [
    "# Access the loss, validation loss, and accuracy from the history object\n",
    "loss = history.history['loss']\n",
    "val_loss = history.history['val_loss']\n",
    "accuracy = history.history['accuracy']\n",
    "val_accuracy = history.history['val_accuracy']\n",
    "\n",
    "# Plot the loss, validation loss, and accuracy curves\n",
    "epochs = range(1, len(loss) + 1)\n",
    "\n",
    "# Create subplots\n",
    "fig2, (ax1, ax2) = plt.subplots(1, 2, figsize=(12, 6))\n",
    "\n",
    "# Plot loss and validation loss\n",
    "ax1.plot(epochs, loss, 'b', label='Training Loss')\n",
    "ax1.plot(epochs, val_loss, 'r', label='Validation Loss')\n",
    "ax1.set_title('Training and Validation Loss')\n",
    "ax1.set_xlabel('Epochs')\n",
    "ax1.set_ylabel('Loss')\n",
    "ax1.legend()\n",
    "\n",
    "# Plot accuracy and validation accuracy\n",
    "ax2.plot(epochs, accuracy, 'b', label='Training Accuracy')\n",
    "ax2.plot(epochs, val_accuracy, 'r', label='Validation Accuracy')\n",
    "ax2.set_title('Training and Validation Accuracy')\n",
    "ax2.set_xlabel('Epochs')\n",
    "ax2.set_ylabel('Accuracy')\n",
    "ax2.legend()\n",
    "\n",
    "# Adjust spacing between subplots\n",
    "plt.tight_layout()\n",
    "\n",
    "# Show the plots\n",
    "plt.show()"
   ],
   "metadata": {
    "collapsed": false
   }
  },
  {
   "cell_type": "code",
   "execution_count": 30,
   "outputs": [],
   "source": [
    "model.save('precursor_charge_prediction_conv2d_model/big_conv2d_model.h5')"
   ],
   "metadata": {
    "collapsed": false
   }
  },
  {
   "cell_type": "markdown",
   "source": [
    "# Inference"
   ],
   "metadata": {
    "collapsed": false
   }
  },
  {
   "cell_type": "code",
   "execution_count": 13,
   "outputs": [],
   "source": [
    "inf_model = tf.keras.models.load_model('precursor_charge_prediction_conv2d_model/model_1_test.h5')"
   ],
   "metadata": {
    "collapsed": false,
    "ExecuteTime": {
     "end_time": "2023-07-28T15:24:11.341083100Z",
     "start_time": "2023-07-28T15:24:11.283458700Z"
    }
   }
  },
  {
   "cell_type": "code",
   "execution_count": 14,
   "outputs": [],
   "source": [
    "# Make validation data\n",
    "sample_df_inf = batches_parquet[file_list[1]][[\"precursor_charge\", \"precursor_intensity\", \"modified_sequence_vector\"]].copy()"
   ],
   "metadata": {
    "collapsed": false,
    "ExecuteTime": {
     "end_time": "2023-07-28T15:24:15.485362200Z",
     "start_time": "2023-07-28T15:24:15.337861100Z"
    }
   }
  },
  {
   "cell_type": "code",
   "execution_count": 42,
   "outputs": [],
   "source": [
    "# Split the data into train, validation, and test sets\n",
    "sample_df_inf[\"precursor_intensity\"] = sample_df_inf[\"precursor_intensity\"].astype(int) # TODO or times 10 -> 0.1 = 1 .astype(int)\n",
    "main_ds_inf = np.array(sample_df_inf[[\"precursor_intensity\", \"modified_sequence_vector\"]]) # to list\n",
    "main_ds_labels_inf = np.array(sample_df_inf['precursor_charge'])\n",
    "max_len_inf = max(sample_df_inf.loc[:, 'modified_sequence_vector'].apply(len))  # Find the maximum length\n",
    "\n",
    "charges = [2,3,4] # TODO SELECT CLASSES\n",
    "num_classes = len(charges)\n",
    "\n",
    "main_ds_labels_inf = np.array([one_hot_precursor(i, charges = charges) for i in main_ds_labels_inf])"
   ],
   "metadata": {
    "collapsed": false,
    "ExecuteTime": {
     "end_time": "2023-07-28T15:38:24.750914700Z",
     "start_time": "2023-07-28T15:38:20.770585200Z"
    }
   }
  },
  {
   "cell_type": "code",
   "execution_count": 43,
   "outputs": [],
   "source": [
    "main_ds_inf_a, main_ds_inf_b = main_ds_inf[:, 0], main_ds_inf[:, 1:]"
   ],
   "metadata": {
    "collapsed": false,
    "ExecuteTime": {
     "end_time": "2023-07-28T15:38:33.814282700Z",
     "start_time": "2023-07-28T15:38:33.647224100Z"
    }
   }
  },
  {
   "cell_type": "code",
   "execution_count": 44,
   "outputs": [],
   "source": [
    "main_ds_inf_a = main_ds_inf_a.reshape(main_ds_inf_a.shape[0], 1)\n",
    "main_ds_inf_a = tf.convert_to_tensor(main_ds_inf_a, dtype=tf.int32)\n",
    "\n",
    "main_ds_inf_b = [np.reshape(np.array(x[0]), (1, 50, 1)) for x in main_ds_inf_b]"
   ],
   "metadata": {
    "collapsed": false,
    "ExecuteTime": {
     "end_time": "2023-07-28T15:38:48.244121400Z",
     "start_time": "2023-07-28T15:38:35.385210500Z"
    }
   }
  },
  {
   "cell_type": "code",
   "execution_count": 28,
   "outputs": [
    {
     "data": {
      "text/plain": "<Figure size 640x480 with 1 Axes>",
      "image/png": "[encoded data removed]"
     },
     "metadata": {},
     "output_type": "display_data"
    },
    {
     "data": {
      "text/plain": "<Figure size 640x480 with 1 Axes>",
      "image/png": "[encoded data removed]"
     },
     "metadata": {},
     "output_type": "display_data"
    },
    {
     "data": {
      "text/plain": "<Figure size 640x480 with 1 Axes>",
      "image/png": "[encoded data removed]"
     },
     "metadata": {},
     "output_type": "display_data"
    },
    {
     "data": {
      "text/plain": "<Figure size 640x480 with 1 Axes>",
      "image/png": "[encoded data removed]"
     },
     "metadata": {},
     "output_type": "display_data"
    },
    {
     "data": {
      "text/plain": "<Figure size 640x480 with 1 Axes>",
      "image/png": "[encoded data removed]"
     },
     "metadata": {},
     "output_type": "display_data"
    }
   ],
   "source": [
    "from matplotlib import pyplot as plt\n",
    "for i in range(5):\n",
    "    plt.imshow(main_ds_inf_b[i], interpolation='nearest', cmap='seismic') # TODO CUSTOM COLORS FOR AA\n",
    "    plt.show()"
   ],
   "metadata": {
    "collapsed": false,
    "ExecuteTime": {
     "end_time": "2023-07-28T15:29:58.595253900Z",
     "start_time": "2023-07-28T15:29:58.049613300Z"
    }
   }
  },
  {
   "cell_type": "code",
   "execution_count": 45,
   "outputs": [
    {
     "data": {
      "text/plain": "(1, 50, 1)"
     },
     "execution_count": 45,
     "metadata": {},
     "output_type": "execute_result"
    }
   ],
   "source": [
    "main_ds_inf_b[0].shape"
   ],
   "metadata": {
    "collapsed": false,
    "ExecuteTime": {
     "end_time": "2023-07-28T15:38:52.340934500Z",
     "start_time": "2023-07-28T15:38:52.175662400Z"
    }
   }
  },
  {
   "cell_type": "code",
   "execution_count": 136,
   "outputs": [],
   "source": [
    "def batch_generator(X, Y, batch_size = 64):\n",
    "    complete_batches = []\n",
    "    x1, x2 = X\n",
    "    indices = np.arange(len(x1))\n",
    "    x1_array = []\n",
    "    x2_array = []\n",
    "    y_array = []\n",
    "    for index, i in enumerate(x1):\n",
    "\n",
    "        x1_array.append(i)\n",
    "        x2_array.append(x2[index])\n",
    "        y_array.append(Y[index])\n",
    "        if len(x1_array)==batch_size:\n",
    "            yield [x1_array, x2_array], y_array\n",
    "            complete_batches.append([x1_array, x2_array], y_array)\n",
    "            x1_array = []\n",
    "            x2_array = []\n",
    "            y_array = []\n",
    "    return complete_batches\n"
   ],
   "metadata": {
    "collapsed": false,
    "ExecuteTime": {
     "end_time": "2023-07-28T16:23:51.755792900Z",
     "start_time": "2023-07-28T16:23:51.594295600Z"
    }
   }
  },
  {
   "cell_type": "code",
   "execution_count": 158,
   "outputs": [
    {
     "name": "stdout",
     "output_type": "stream",
     "text": [
      "tf.Tensor(\n",
      "[[ 7552496]\n",
      " [ 7674974]\n",
      " [ 3298128]\n",
      " [ 1224600]\n",
      " [ 3298128]\n",
      " [ 7674974]\n",
      " [  738984]\n",
      " [ 7552496]\n",
      " [  717420]\n",
      " [ 1224600]\n",
      " [  753918]\n",
      " [  848189]\n",
      " [  921869]\n",
      " [16061060]\n",
      " [ 1667595]\n",
      " [  717122]\n",
      " [ 7668974]\n",
      " [  640085]\n",
      " [ 5893717]\n",
      " [ 1769198]\n",
      " [16061060]\n",
      " [ 1202825]\n",
      " [ 1125402]\n",
      " [16061060]\n",
      " [ 4053095]\n",
      " [ 3166896]\n",
      " [ 2297972]\n",
      " [16061060]\n",
      " [ 1761347]\n",
      " [  379347]\n",
      " [ 3478414]\n",
      " [ 2746510]], shape=(32, 1), dtype=int32)\n",
      "tf.Tensor(\n",
      "[[[[ 300]\n",
      "   [1600]\n",
      "   [1800]\n",
      "   ...\n",
      "   [   0]\n",
      "   [   0]\n",
      "   [   0]]]\n",
      "\n",
      "\n",
      " [[[ 300]\n",
      "   [1600]\n",
      "   [1800]\n",
      "   ...\n",
      "   [   0]\n",
      "   [   0]\n",
      "   [   0]]]\n",
      "\n",
      "\n",
      " [[[ 300]\n",
      "   [1600]\n",
      "   [1800]\n",
      "   ...\n",
      "   [   0]\n",
      "   [   0]\n",
      "   [   0]]]\n",
      "\n",
      "\n",
      " ...\n",
      "\n",
      "\n",
      " [[[ 300]\n",
      "   [1000]\n",
      "   [1800]\n",
      "   ...\n",
      "   [   0]\n",
      "   [   0]\n",
      "   [   0]]]\n",
      "\n",
      "\n",
      " [[[ 300]\n",
      "   [ 800]\n",
      "   [1000]\n",
      "   ...\n",
      "   [   0]\n",
      "   [   0]\n",
      "   [   0]]]\n",
      "\n",
      "\n",
      " [[[ 300]\n",
      "   [ 800]\n",
      "   [1000]\n",
      "   ...\n",
      "   [   0]\n",
      "   [   0]\n",
      "   [   0]]]], shape=(32, 1, 50, 1), dtype=int32)\n",
      "Unexpected exception formatting exception. Falling back to standard exception\n"
     ]
    },
    {
     "name": "stderr",
     "output_type": "stream",
     "text": [
      "Traceback (most recent call last):\n",
      "  File \"C:\\Users\\micro\\OneDrive\\Dokumente\\GitHub\\BachelorThesis\\venv\\Lib\\site-packages\\IPython\\core\\interactiveshell.py\", line 3460, in run_code\n",
      "    exec(code_obj, self.user_global_ns, self.user_ns)\n",
      "  File \"C:\\Users\\micro\\AppData\\Local\\Temp\\ipykernel_28136\\1210882676.py\", line 9, in <module>\n",
      "    yhat = inf_model.predict([intensities, sequences], labels, epochs=10)\n",
      "           ^^^^^^^^^^^^^^^^^^^^^^^^^^^^^^^^^^^^^^^^^^^^^^^^^^^^^^^^^^^^^^\n",
      "  File \"C:\\Users\\micro\\OneDrive\\Dokumente\\GitHub\\BachelorThesis\\venv\\Lib\\site-packages\\keras\\utils\\traceback_utils.py\", line 70, in error_handler\n",
      "    raise e.with_traceback(filtered_tb) from None\n",
      "  File \"C:\\Users\\micro\\OneDrive\\Dokumente\\GitHub\\BachelorThesis\\venv\\Lib\\site-packages\\keras\\utils\\traceback_utils.py\", line 67, in error_handler\n",
      "    filtered_tb = _process_traceback_frames(e.__traceback__)\n",
      "                  ^^^^^^^^^^^^^^^^^^^^^^^^^^^^^^^^^^^^^^^^^^\n",
      "TypeError: Model.predict() got an unexpected keyword argument 'epochs'\n",
      "\n",
      "During handling of the above exception, another exception occurred:\n",
      "\n",
      "Traceback (most recent call last):\n",
      "  File \"C:\\Users\\micro\\OneDrive\\Dokumente\\GitHub\\BachelorThesis\\venv\\Lib\\site-packages\\IPython\\core\\interactiveshell.py\", line 2057, in showtraceback\n",
      "    stb = self.InteractiveTB.structured_traceback(\n",
      "          ^^^^^^^^^^^^^^^^^^^^^^^^^^^^^^^^^^^^^^^^\n",
      "  File \"C:\\Users\\micro\\OneDrive\\Dokumente\\GitHub\\BachelorThesis\\venv\\Lib\\site-packages\\IPython\\core\\ultratb.py\", line 1288, in structured_traceback\n",
      "    return FormattedTB.structured_traceback(\n",
      "           ^^^^^^^^^^^^^^^^^^^^^^^^^^^^^^^^^\n",
      "  File \"C:\\Users\\micro\\OneDrive\\Dokumente\\GitHub\\BachelorThesis\\venv\\Lib\\site-packages\\IPython\\core\\ultratb.py\", line 1177, in structured_traceback\n",
      "    return VerboseTB.structured_traceback(\n",
      "           ^^^^^^^^^^^^^^^^^^^^^^^^^^^^^^^\n",
      "  File \"C:\\Users\\micro\\OneDrive\\Dokumente\\GitHub\\BachelorThesis\\venv\\Lib\\site-packages\\IPython\\core\\ultratb.py\", line 1030, in structured_traceback\n",
      "    formatted_exception = self.format_exception_as_a_whole(etype, evalue, etb, number_of_lines_of_context,\n",
      "                          ^^^^^^^^^^^^^^^^^^^^^^^^^^^^^^^^^^^^^^^^^^^^^^^^^^^^^^^^^^^^^^^^^^^^^^^^^^^^^^^^\n",
      "  File \"C:\\Users\\micro\\OneDrive\\Dokumente\\GitHub\\BachelorThesis\\venv\\Lib\\site-packages\\IPython\\core\\ultratb.py\", line 935, in format_exception_as_a_whole\n",
      "    self.get_records(etb, number_of_lines_of_context, tb_offset) if etb else []\n",
      "    ^^^^^^^^^^^^^^^^^^^^^^^^^^^^^^^^^^^^^^^^^^^^^^^^^^^^^^^^^^^^\n",
      "  File \"C:\\Users\\micro\\OneDrive\\Dokumente\\GitHub\\BachelorThesis\\venv\\Lib\\site-packages\\IPython\\core\\ultratb.py\", line 1017, in get_records\n",
      "    res = list(stack_data.FrameInfo.stack_data(etb, options=options))[tb_offset:]\n",
      "          ^^^^^^^^^^^^^^^^^^^^^^^^^^^^^^^^^^^^^^^^^^^^^^^^^^^^^^^^^^^\n",
      "  File \"C:\\Users\\micro\\OneDrive\\Dokumente\\GitHub\\BachelorThesis\\venv\\Lib\\site-packages\\stack_data\\core.py\", line 597, in stack_data\n",
      "    yield from collapse_repeated(\n",
      "  File \"C:\\Users\\micro\\OneDrive\\Dokumente\\GitHub\\BachelorThesis\\venv\\Lib\\site-packages\\stack_data\\utils.py\", line 83, in collapse_repeated\n",
      "    yield from map(mapper, original_group)\n",
      "  File \"C:\\Users\\micro\\OneDrive\\Dokumente\\GitHub\\BachelorThesis\\venv\\Lib\\site-packages\\stack_data\\core.py\", line 587, in mapper\n",
      "    return cls(f, options)\n",
      "           ^^^^^^^^^^^^^^^\n",
      "  File \"C:\\Users\\micro\\OneDrive\\Dokumente\\GitHub\\BachelorThesis\\venv\\Lib\\site-packages\\stack_data\\core.py\", line 551, in __init__\n",
      "    self.executing = Source.executing(frame_or_tb)\n",
      "                     ^^^^^^^^^^^^^^^^^^^^^^^^^^^^^\n",
      "  File \"C:\\Users\\micro\\OneDrive\\Dokumente\\GitHub\\BachelorThesis\\venv\\Lib\\site-packages\\executing\\executing.py\", line 378, in executing\n",
      "    assert_(new_stmts <= stmts)\n",
      "  File \"C:\\Users\\micro\\OneDrive\\Dokumente\\GitHub\\BachelorThesis\\venv\\Lib\\site-packages\\executing\\executing.py\", line 154, in assert_\n",
      "    raise AssertionError(str(message))\n",
      "AssertionError\n"
     ]
    }
   ],
   "source": [
    "train_generator = batch_generator([main_ds_inf_a, main_ds_inf_b], main_ds_labels_inf, batch_size = 32)\n",
    "for batch in train_generator:\n",
    "    intensities = tf.convert_to_tensor(batch[0][0], dtype=tf.int32)\n",
    "    sequences = tf.convert_to_tensor(batch[0][1], dtype=tf.int32)\n",
    "    labels = np.array(batch[1], dtype=np.float32)\n",
    "    print(intensities)\n",
    "    print(sequences)\n",
    "\n",
    "    yhat = inf_model.predict([intensities, sequences], labels, epochs=10)\n",
    "    #eval_prec.update_state(labels , yhat)\n",
    "    #eval_rec.update_state(labels, yhat)\n",
    "    #eval_acc.update_state(labels, yhat)"
   ],
   "metadata": {
    "collapsed": false,
    "ExecuteTime": {
     "end_time": "2023-07-28T16:38:45.932627100Z",
     "start_time": "2023-07-28T16:38:45.800852100Z"
    }
   }
  },
  {
   "cell_type": "code",
   "execution_count": 756,
   "outputs": [],
   "source": [
    "print(f'Precision: {eval_prec.result().numpy()}, Recall: {eval_rec.result().numpy()}, Accuracy: {eval_acc.result().numpy()}')"
   ],
   "metadata": {
    "collapsed": false
   }
  },
  {
   "cell_type": "code",
   "execution_count": 757,
   "outputs": [],
   "source": [
    "from tensorflow.keras import preprocessing\n",
    "from tensorflow.keras import backend as K\n",
    "from tensorflow.keras import models\n",
    "from PIL import Image\n",
    "import matplotlib.pyplot as plt\n",
    "import textwrap\n",
    "from matplotlib import cm\n",
    "import tensorflow as tf\n",
    "import numpy as np\n",
    "\n",
    "\n",
    "for layerpos in range(len(model.layers)-1):\n",
    "    try:\n",
    "        image_size = general_image_size\n",
    "\n",
    "        # Load pre-trained Keras model and the image to classify TODO VERIFY\n",
    "        img_tensor = labeled\n",
    "        img_tensor = np.expand_dims(img_tensor, axis=0)\n",
    "\n",
    "        select_layer = model.layers[layerpos].name #was -4\n",
    "        print(select_layer)\n",
    "        conv_layer = model.get_layer(select_layer)\n",
    "        heatmap_model = models.Model([model.inputs], [conv_layer.output, model.output])\n",
    "\n",
    "        heatmaps_generated = set()\n",
    "        heatmap_list = []\n",
    "        for pndex, value in enumerate(predictions[0]):\n",
    "            with tf.GradientTape() as gtape:\n",
    "                conv_output, predictions = heatmap_model(img_tensor)\n",
    "                loss = predictions[0][pndex]\n",
    "                grads = gtape.gradient(loss, conv_output)\n",
    "                pooled_grads = K.mean(grads, axis=(0, 1, 2))\n",
    "\n",
    "            heatmap = tf.reduce_mean(tf.multiply(pooled_grads, conv_output), axis=-1)\n",
    "            heatmap = np.maximum(heatmap, 0)\n",
    "            max_heat = np.max(heatmap)\n",
    "            if max_heat == 0:\n",
    "                max_heat = 1e-10\n",
    "            heatmap /= max_heat\n",
    "            heatmaps_generated.add(heatmap.shape)\n",
    "            heatmap_list.append(heatmap)\n",
    "        print(heatmaps_generated)\n",
    "\n",
    "        images_hm = []\n",
    "        titles_hm = []\n",
    "        predictions_hm = []\n",
    "\n",
    "        for i in range(num_classes):\n",
    "            # predictions\n",
    "            prediction_value = (predictions[0][i])\n",
    "            predictions_hm.append(prediction_value)\n",
    "\n",
    "            # titles\n",
    "            title = class_names[i]\n",
    "            titles_hm.append(title)\n",
    "\n",
    "            # images\n",
    "            hm=np.squeeze(heatmap_list[i])\n",
    "\n",
    "            current_img = (asarray(hm))\n",
    "            sm = cm.ScalarMappable(cmap='seismic')\n",
    "            sm.set_clim(current_img.min(), current_img.max())\n",
    "            current_img = sm.to_rgba(current_img)\n",
    "            current_img = current_img*255\n",
    "            current_img = current_img.astype(np.uint8)\n",
    "            current_img = cv2.cvtColor(current_img, cv2.COLOR_BGRA2BGR )\n",
    "            images_hm.append(current_img)\n",
    "\n",
    "        # plot them\n",
    "        #print(len(images_hm))\n",
    "        plot_image_grid(images_hm, titles_hm, predictions_hm, layername=select_layer)\n",
    "    except:\n",
    "        print(\"error\", layerpos, end=\" \")\n"
   ],
   "metadata": {
    "collapsed": false
   }
  },
  {
   "cell_type": "markdown",
   "source": [
    "# IGNORE FROM HERE"
   ],
   "metadata": {
    "collapsed": false
   }
  },
  {
   "cell_type": "markdown",
   "source": [
    "## Check in with Franzi's group for reporting"
   ],
   "metadata": {
    "collapsed": false
   },
   "outputs": [],
   "execution_count": 63
  },
  {
   "cell_type": "markdown",
   "source": [
    "### Multilable Model\n",
    "#### WIP in precursor_charge_predictor"
   ],
   "metadata": {
    "collapsed": false,
    "ExecuteTime": {
     "end_time": "2023-07-24T12:27:56.122188900Z",
     "start_time": "2023-07-24T12:27:55.994945600Z"
    }
   },
   "outputs": [],
   "execution_count": 3
  },
  {
   "cell_type": "code",
   "execution_count": null,
   "outputs": [],
   "source": [],
   "metadata": {
    "collapsed": false,
    "ExecuteTime": {
     "start_time": "2023-07-28T11:11:23.135445400Z"
    }
   }
  },
  {
   "cell_type": "markdown",
   "source": [
    "## Model Testing\n",
    "### check if models only predict charge 2 or also other charges. Due to 'overrepresentation' the best bet for the model could be to only output charge state 2"
   ],
   "metadata": {
    "collapsed": false,
    "ExecuteTime": {
     "end_time": "2023-07-24T12:28:17.283401900Z",
     "start_time": "2023-07-24T12:28:17.212145Z"
    }
   },
   "outputs": [
    {
     "ename": "TypeError",
     "evalue": "'NoneType' object is not subscriptable",
     "output_type": "error",
     "traceback": [
      "\u001B[1;31m---------------------------------------------------------------------------\u001B[0m",
      "\u001B[1;31mTypeError\u001B[0m                                 Traceback (most recent call last)",
      "Cell \u001B[1;32mIn[6], line 2\u001B[0m\n\u001B[0;32m      1\u001B[0m \u001B[38;5;66;03m# Access the loss, validation loss, and accuracy from the history object\u001B[39;00m\n\u001B[1;32m----> 2\u001B[0m loss \u001B[38;5;241m=\u001B[39m \u001B[43mhistory_cce\u001B[49m\u001B[38;5;241;43m.\u001B[39;49m\u001B[43mhistory\u001B[49m\u001B[43m[\u001B[49m\u001B[38;5;124;43m'\u001B[39;49m\u001B[38;5;124;43mloss\u001B[39;49m\u001B[38;5;124;43m'\u001B[39;49m\u001B[43m]\u001B[49m\n\u001B[0;32m      3\u001B[0m val_loss \u001B[38;5;241m=\u001B[39m history_cce\u001B[38;5;241m.\u001B[39mhistory[\u001B[38;5;124m'\u001B[39m\u001B[38;5;124mval_loss\u001B[39m\u001B[38;5;124m'\u001B[39m]\n\u001B[0;32m      4\u001B[0m accuracy \u001B[38;5;241m=\u001B[39m history_cce\u001B[38;5;241m.\u001B[39mhistory[\u001B[38;5;124m'\u001B[39m\u001B[38;5;124maccuracy\u001B[39m\u001B[38;5;124m'\u001B[39m]\n",
      "\u001B[1;31mTypeError\u001B[0m: 'NoneType' object is not subscriptable"
     ]
    }
   ],
   "execution_count": 6
  },
  {
   "cell_type": "code",
   "execution_count": null,
   "outputs": [],
   "source": [],
   "metadata": {
    "collapsed": false,
    "ExecuteTime": {
     "start_time": "2023-07-28T11:11:23.136444900Z"
    }
   }
  },
  {
   "cell_type": "markdown",
   "source": [
    "## Hyperparameter Tuning"
   ],
   "metadata": {
    "collapsed": false
   }
  },
  {
   "cell_type": "code",
   "execution_count": null,
   "outputs": [],
   "source": [],
   "metadata": {
    "collapsed": false,
    "ExecuteTime": {
     "start_time": "2023-07-28T11:11:23.137445100Z"
    }
   }
  },
  {
   "cell_type": "markdown",
   "source": [],
   "metadata": {
    "collapsed": false
   }
  },
  {
   "cell_type": "code",
   "execution_count": null,
   "outputs": [],
   "source": [],
   "metadata": {
    "collapsed": false,
    "ExecuteTime": {
     "start_time": "2023-07-28T11:11:23.137951300Z"
    }
   }
  },
  {
   "cell_type": "markdown",
   "source": [
    "# Inference"
   ],
   "metadata": {
    "collapsed": false
   }
  },
  {
   "cell_type": "code",
   "execution_count": 285,
   "outputs": [
    {
     "data": {
      "text/plain": "2    1401912\n3     787278\n4     220159\nName: precursor_charge, dtype: int64"
     },
     "execution_count": 285,
     "metadata": {},
     "output_type": "execute_result"
    }
   ],
   "source": [
    "batches_parquet[file_list[1]][\"precursor_charge\"].value_counts()"
   ],
   "metadata": {
    "collapsed": false,
    "ExecuteTime": {
     "end_time": "2023-07-28T11:11:24.358207500Z",
     "start_time": "2023-07-28T11:11:23.156493Z"
    }
   }
  },
  {
   "cell_type": "code",
   "execution_count": 286,
   "outputs": [],
   "source": [
    "last_model = keras.models.load_model('precursor_charge_prediction_model_cce_alpha/cce_wo7_allSequences.h5')"
   ],
   "metadata": {
    "collapsed": false,
    "ExecuteTime": {
     "end_time": "2023-07-28T11:11:24.530808400Z",
     "start_time": "2023-07-28T11:11:23.194770300Z"
    }
   }
  },
  {
   "cell_type": "code",
   "execution_count": 287,
   "outputs": [
    {
     "data": {
      "text/plain": "dict_keys(['data/Thermo_SRM_Pool_meta_data.parquet', 'data/TUM_aspn_meta_data.parquet'])"
     },
     "execution_count": 287,
     "metadata": {},
     "output_type": "execute_result"
    }
   ],
   "source": [
    "batches_parquet.keys()"
   ],
   "metadata": {
    "collapsed": false,
    "ExecuteTime": {
     "end_time": "2023-07-28T11:11:24.530808400Z",
     "start_time": "2023-07-28T11:11:23.321022600Z"
    }
   }
  },
  {
   "cell_type": "code",
   "execution_count": 288,
   "outputs": [],
   "source": [
    "# Make validation data\n",
    "inference_df = batches_parquet[file_list[1]][[\"precursor_charge\", \"modified_sequence_vector\", \"precursor_intensity\"]].copy()"
   ],
   "metadata": {
    "collapsed": false,
    "ExecuteTime": {
     "end_time": "2023-07-28T11:11:24.610632200Z",
     "start_time": "2023-07-28T11:11:23.325924800Z"
    }
   }
  },
  {
   "cell_type": "code",
   "execution_count": 289,
   "outputs": [
    {
     "data": {
      "text/plain": "   precursor_charge                           modified_sequence_vector  \\\n0                 2  [300, 1600, 1800, 600, 400, 800, 1700, 900, 40...   \n1                 2  [300, 1600, 1800, 600, 400, 800, 1700, 900, 40...   \n2                 2  [300, 1600, 1800, 600, 400, 800, 1700, 900, 40...   \n3                 2  [300, 1600, 1800, 600, 400, 800, 1700, 900, 40...   \n\n   precursor_intensity  \n0            7552496.0  \n1            7674974.0  \n2            3298128.0  \n3            1224600.0  ",
      "text/html": "<div>\n<style scoped>\n    .dataframe tbody tr th:only-of-type {\n        vertical-align: middle;\n    }\n\n    .dataframe tbody tr th {\n        vertical-align: top;\n    }\n\n    .dataframe thead th {\n        text-align: right;\n    }\n</style>\n<table border=\"1\" class=\"dataframe\">\n  <thead>\n    <tr style=\"text-align: right;\">\n      <th></th>\n      <th>precursor_charge</th>\n      <th>modified_sequence_vector</th>\n      <th>precursor_intensity</th>\n    </tr>\n  </thead>\n  <tbody>\n    <tr>\n      <th>0</th>\n      <td>2</td>\n      <td>[300, 1600, 1800, 600, 400, 800, 1700, 900, 40...</td>\n      <td>7552496.0</td>\n    </tr>\n    <tr>\n      <th>1</th>\n      <td>2</td>\n      <td>[300, 1600, 1800, 600, 400, 800, 1700, 900, 40...</td>\n      <td>7674974.0</td>\n    </tr>\n    <tr>\n      <th>2</th>\n      <td>2</td>\n      <td>[300, 1600, 1800, 600, 400, 800, 1700, 900, 40...</td>\n      <td>3298128.0</td>\n    </tr>\n    <tr>\n      <th>3</th>\n      <td>2</td>\n      <td>[300, 1600, 1800, 600, 400, 800, 1700, 900, 40...</td>\n      <td>1224600.0</td>\n    </tr>\n  </tbody>\n</table>\n</div>"
     },
     "execution_count": 289,
     "metadata": {},
     "output_type": "execute_result"
    }
   ],
   "source": [
    "inference_df.head(4)"
   ],
   "metadata": {
    "collapsed": false,
    "ExecuteTime": {
     "end_time": "2023-07-28T11:11:24.610632200Z",
     "start_time": "2023-07-28T11:11:23.484310Z"
    }
   }
  },
  {
   "cell_type": "code",
   "execution_count": 290,
   "outputs": [
    {
     "data": {
      "text/plain": "[]"
     },
     "execution_count": 290,
     "metadata": {},
     "output_type": "execute_result"
    }
   ],
   "source": [
    "[len(i) for i in inference_df[\"modified_sequence_vector\"] if len(i) != 50]"
   ],
   "metadata": {
    "collapsed": false,
    "ExecuteTime": {
     "end_time": "2023-07-28T11:11:24.628463100Z",
     "start_time": "2023-07-28T11:11:23.493961600Z"
    }
   }
  },
  {
   "cell_type": "code",
   "execution_count": 291,
   "outputs": [],
   "source": [
    "inference_df = inference_df[inference_df['modified_sequence_vector'].apply(lambda x: len(x) <= 50)]"
   ],
   "metadata": {
    "collapsed": false,
    "ExecuteTime": {
     "end_time": "2023-07-28T11:11:24.872379Z",
     "start_time": "2023-07-28T11:11:23.802639100Z"
    }
   }
  },
  {
   "cell_type": "markdown",
   "source": [],
   "metadata": {
    "collapsed": false
   }
  },
  {
   "cell_type": "code",
   "execution_count": 292,
   "outputs": [
    {
     "data": {
      "text/plain": "[]"
     },
     "execution_count": 292,
     "metadata": {},
     "output_type": "execute_result"
    }
   ],
   "source": [
    "[len(i) for i in inference_df[\"modified_sequence_vector\"] if len(i) != 50]"
   ],
   "metadata": {
    "collapsed": false
   }
  },
  {
   "cell_type": "code",
   "execution_count": 293,
   "outputs": [
    {
     "data": {
      "text/plain": "[]"
     },
     "execution_count": 293,
     "metadata": {},
     "output_type": "execute_result"
    }
   ],
   "source": [
    "[i for i in inference_df[\"precursor_charge\"] if i not in [2,3,4]]"
   ],
   "metadata": {
    "collapsed": false
   }
  },
  {
   "cell_type": "code",
   "execution_count": 294,
   "outputs": [
    {
     "data": {
      "text/plain": "[]"
     },
     "execution_count": 294,
     "metadata": {},
     "output_type": "execute_result"
    }
   ],
   "source": [
    "[i for i in inference_df[\"precursor_intensity\"] if i > 1000000000000]"
   ],
   "metadata": {
    "collapsed": false
   }
  },
  {
   "cell_type": "code",
   "execution_count": 295,
   "outputs": [
    {
     "data": {
      "text/plain": "         precursor_charge                           modified_sequence_vector  \\\n0                       2  [300, 1600, 1800, 600, 400, 800, 1700, 900, 40...   \n1                       2  [300, 1600, 1800, 600, 400, 800, 1700, 900, 40...   \n2                       2  [300, 1600, 1800, 600, 400, 800, 1700, 900, 40...   \n3                       2  [300, 1600, 1800, 600, 400, 800, 1700, 900, 40...   \n4                       2  [300, 1600, 1800, 600, 400, 800, 1700, 900, 40...   \n...                   ...                                                ...   \n2586142                 3  [300, 1800, 1000, 1600, 1200, 204, 400, 500, 1...   \n2586148                 3  [300, 800, 1500, 800, 900, 400, 400, 400, 1300...   \n2586154                 4  [300, 400, 1400, 1800, 100, 1000, 900, 900, 90...   \n2586155                 3  [300, 1300, 300, 1300, 1400, 1300, 1500, 2000,...   \n2586165                 3  [300, 900, 900, 600, 1600, 900, 1200, 500, 170...   \n\n         precursor_intensity  \n0                  7552496.0  \n1                  7674974.0  \n2                  3298128.0  \n3                  1224600.0  \n4                  3298128.0  \n...                      ...  \n2586142           10454540.0  \n2586148            5171662.0  \n2586154           37526080.0  \n2586155            8926203.0  \n2586165             199662.0  \n\n[2409349 rows x 3 columns]",
      "text/html": "<div>\n<style scoped>\n    .dataframe tbody tr th:only-of-type {\n        vertical-align: middle;\n    }\n\n    .dataframe tbody tr th {\n        vertical-align: top;\n    }\n\n    .dataframe thead th {\n        text-align: right;\n    }\n</style>\n<table border=\"1\" class=\"dataframe\">\n  <thead>\n    <tr style=\"text-align: right;\">\n      <th></th>\n      <th>precursor_charge</th>\n      <th>modified_sequence_vector</th>\n      <th>precursor_intensity</th>\n    </tr>\n  </thead>\n  <tbody>\n    <tr>\n      <th>0</th>\n      <td>2</td>\n      <td>[300, 1600, 1800, 600, 400, 800, 1700, 900, 40...</td>\n      <td>7552496.0</td>\n    </tr>\n    <tr>\n      <th>1</th>\n      <td>2</td>\n      <td>[300, 1600, 1800, 600, 400, 800, 1700, 900, 40...</td>\n      <td>7674974.0</td>\n    </tr>\n    <tr>\n      <th>2</th>\n      <td>2</td>\n      <td>[300, 1600, 1800, 600, 400, 800, 1700, 900, 40...</td>\n      <td>3298128.0</td>\n    </tr>\n    <tr>\n      <th>3</th>\n      <td>2</td>\n      <td>[300, 1600, 1800, 600, 400, 800, 1700, 900, 40...</td>\n      <td>1224600.0</td>\n    </tr>\n    <tr>\n      <th>4</th>\n      <td>2</td>\n      <td>[300, 1600, 1800, 600, 400, 800, 1700, 900, 40...</td>\n      <td>3298128.0</td>\n    </tr>\n    <tr>\n      <th>...</th>\n      <td>...</td>\n      <td>...</td>\n      <td>...</td>\n    </tr>\n    <tr>\n      <th>2586142</th>\n      <td>3</td>\n      <td>[300, 1800, 1000, 1600, 1200, 204, 400, 500, 1...</td>\n      <td>10454540.0</td>\n    </tr>\n    <tr>\n      <th>2586148</th>\n      <td>3</td>\n      <td>[300, 800, 1500, 800, 900, 400, 400, 400, 1300...</td>\n      <td>5171662.0</td>\n    </tr>\n    <tr>\n      <th>2586154</th>\n      <td>4</td>\n      <td>[300, 400, 1400, 1800, 100, 1000, 900, 900, 90...</td>\n      <td>37526080.0</td>\n    </tr>\n    <tr>\n      <th>2586155</th>\n      <td>3</td>\n      <td>[300, 1300, 300, 1300, 1400, 1300, 1500, 2000,...</td>\n      <td>8926203.0</td>\n    </tr>\n    <tr>\n      <th>2586165</th>\n      <td>3</td>\n      <td>[300, 900, 900, 600, 1600, 900, 1200, 500, 170...</td>\n      <td>199662.0</td>\n    </tr>\n  </tbody>\n</table>\n<p>2409349 rows × 3 columns</p>\n</div>"
     },
     "execution_count": 295,
     "metadata": {},
     "output_type": "execute_result"
    }
   ],
   "source": [
    "inference_df"
   ],
   "metadata": {
    "collapsed": false
   }
  },
  {
   "cell_type": "markdown",
   "source": [],
   "metadata": {
    "collapsed": false
   }
  },
  {
   "cell_type": "code",
   "execution_count": 296,
   "outputs": [
    {
     "ename": "KeyboardInterrupt",
     "evalue": "",
     "output_type": "error",
     "traceback": [
      "\u001B[1;31m---------------------------------------------------------------------------\u001B[0m",
      "\u001B[1;31mKeyboardInterrupt\u001B[0m                         Traceback (most recent call last)",
      "Cell \u001B[1;32mIn[296], line 1\u001B[0m\n\u001B[1;32m----> 1\u001B[0m inference_df[\u001B[38;5;28mlist\u001B[39m(\u001B[38;5;28mrange\u001B[39m(\u001B[38;5;241m0\u001B[39m, \u001B[38;5;241m50\u001B[39m))] \u001B[38;5;241m=\u001B[39m \u001B[43mpd\u001B[49m\u001B[38;5;241;43m.\u001B[39;49m\u001B[43mDataFrame\u001B[49m\u001B[43m(\u001B[49m\u001B[43minference_df\u001B[49m\u001B[43m[\u001B[49m\u001B[38;5;124;43m\"\u001B[39;49m\u001B[38;5;124;43mmodified_sequence_vector\u001B[39;49m\u001B[38;5;124;43m\"\u001B[39;49m\u001B[43m]\u001B[49m\u001B[38;5;241;43m.\u001B[39;49m\u001B[43mtolist\u001B[49m\u001B[43m(\u001B[49m\u001B[43m)\u001B[49m\u001B[43m,\u001B[49m\u001B[43m \u001B[49m\u001B[43mindex\u001B[49m\u001B[38;5;241;43m=\u001B[39;49m\u001B[43m \u001B[49m\u001B[43minference_df\u001B[49m\u001B[38;5;241;43m.\u001B[39;49m\u001B[43mindex\u001B[49m\u001B[43m)\u001B[49m\n",
      "File \u001B[1;32m~\\OneDrive\\Dokumente\\GitHub\\BachelorThesis\\venv\\Lib\\site-packages\\pandas\\core\\frame.py:746\u001B[0m, in \u001B[0;36mDataFrame.__init__\u001B[1;34m(self, data, index, columns, dtype, copy)\u001B[0m\n\u001B[0;32m    744\u001B[0m     \u001B[38;5;28;01mif\u001B[39;00m columns \u001B[38;5;129;01mis\u001B[39;00m \u001B[38;5;129;01mnot\u001B[39;00m \u001B[38;5;28;01mNone\u001B[39;00m:\n\u001B[0;32m    745\u001B[0m         columns \u001B[38;5;241m=\u001B[39m ensure_index(columns)\n\u001B[1;32m--> 746\u001B[0m     arrays, columns, index \u001B[38;5;241m=\u001B[39m \u001B[43mnested_data_to_arrays\u001B[49m\u001B[43m(\u001B[49m\n\u001B[0;32m    747\u001B[0m \u001B[43m        \u001B[49m\u001B[38;5;66;43;03m# error: Argument 3 to \"nested_data_to_arrays\" has incompatible\u001B[39;49;00m\n\u001B[0;32m    748\u001B[0m \u001B[43m        \u001B[49m\u001B[38;5;66;43;03m# type \"Optional[Collection[Any]]\"; expected \"Optional[Index]\"\u001B[39;49;00m\n\u001B[0;32m    749\u001B[0m \u001B[43m        \u001B[49m\u001B[43mdata\u001B[49m\u001B[43m,\u001B[49m\n\u001B[0;32m    750\u001B[0m \u001B[43m        \u001B[49m\u001B[43mcolumns\u001B[49m\u001B[43m,\u001B[49m\n\u001B[0;32m    751\u001B[0m \u001B[43m        \u001B[49m\u001B[43mindex\u001B[49m\u001B[43m,\u001B[49m\u001B[43m  \u001B[49m\u001B[38;5;66;43;03m# type: ignore[arg-type]\u001B[39;49;00m\n\u001B[0;32m    752\u001B[0m \u001B[43m        \u001B[49m\u001B[43mdtype\u001B[49m\u001B[43m,\u001B[49m\n\u001B[0;32m    753\u001B[0m \u001B[43m    \u001B[49m\u001B[43m)\u001B[49m\n\u001B[0;32m    754\u001B[0m     mgr \u001B[38;5;241m=\u001B[39m arrays_to_mgr(\n\u001B[0;32m    755\u001B[0m         arrays,\n\u001B[0;32m    756\u001B[0m         columns,\n\u001B[1;32m   (...)\u001B[0m\n\u001B[0;32m    759\u001B[0m         typ\u001B[38;5;241m=\u001B[39mmanager,\n\u001B[0;32m    760\u001B[0m     )\n\u001B[0;32m    761\u001B[0m \u001B[38;5;28;01melse\u001B[39;00m:\n",
      "File \u001B[1;32m~\\OneDrive\\Dokumente\\GitHub\\BachelorThesis\\venv\\Lib\\site-packages\\pandas\\core\\internals\\construction.py:510\u001B[0m, in \u001B[0;36mnested_data_to_arrays\u001B[1;34m(data, columns, index, dtype)\u001B[0m\n\u001B[0;32m    507\u001B[0m \u001B[38;5;28;01mif\u001B[39;00m is_named_tuple(data[\u001B[38;5;241m0\u001B[39m]) \u001B[38;5;129;01mand\u001B[39;00m columns \u001B[38;5;129;01mis\u001B[39;00m \u001B[38;5;28;01mNone\u001B[39;00m:\n\u001B[0;32m    508\u001B[0m     columns \u001B[38;5;241m=\u001B[39m ensure_index(data[\u001B[38;5;241m0\u001B[39m]\u001B[38;5;241m.\u001B[39m_fields)\n\u001B[1;32m--> 510\u001B[0m arrays, columns \u001B[38;5;241m=\u001B[39m \u001B[43mto_arrays\u001B[49m\u001B[43m(\u001B[49m\u001B[43mdata\u001B[49m\u001B[43m,\u001B[49m\u001B[43m \u001B[49m\u001B[43mcolumns\u001B[49m\u001B[43m,\u001B[49m\u001B[43m \u001B[49m\u001B[43mdtype\u001B[49m\u001B[38;5;241;43m=\u001B[39;49m\u001B[43mdtype\u001B[49m\u001B[43m)\u001B[49m\n\u001B[0;32m    511\u001B[0m columns \u001B[38;5;241m=\u001B[39m ensure_index(columns)\n\u001B[0;32m    513\u001B[0m \u001B[38;5;28;01mif\u001B[39;00m index \u001B[38;5;129;01mis\u001B[39;00m \u001B[38;5;28;01mNone\u001B[39;00m:\n",
      "File \u001B[1;32m~\\OneDrive\\Dokumente\\GitHub\\BachelorThesis\\venv\\Lib\\site-packages\\pandas\\core\\internals\\construction.py:875\u001B[0m, in \u001B[0;36mto_arrays\u001B[1;34m(data, columns, dtype)\u001B[0m\n\u001B[0;32m    872\u001B[0m     data \u001B[38;5;241m=\u001B[39m [\u001B[38;5;28mtuple\u001B[39m(x) \u001B[38;5;28;01mfor\u001B[39;00m x \u001B[38;5;129;01min\u001B[39;00m data]\n\u001B[0;32m    873\u001B[0m     arr \u001B[38;5;241m=\u001B[39m _list_to_arrays(data)\n\u001B[1;32m--> 875\u001B[0m content, columns \u001B[38;5;241m=\u001B[39m \u001B[43m_finalize_columns_and_data\u001B[49m\u001B[43m(\u001B[49m\u001B[43marr\u001B[49m\u001B[43m,\u001B[49m\u001B[43m \u001B[49m\u001B[43mcolumns\u001B[49m\u001B[43m,\u001B[49m\u001B[43m \u001B[49m\u001B[43mdtype\u001B[49m\u001B[43m)\u001B[49m\n\u001B[0;32m    876\u001B[0m \u001B[38;5;28;01mreturn\u001B[39;00m content, columns\n",
      "File \u001B[1;32m~\\OneDrive\\Dokumente\\GitHub\\BachelorThesis\\venv\\Lib\\site-packages\\pandas\\core\\internals\\construction.py:975\u001B[0m, in \u001B[0;36m_finalize_columns_and_data\u001B[1;34m(content, columns, dtype)\u001B[0m\n\u001B[0;32m    972\u001B[0m     \u001B[38;5;28;01mraise\u001B[39;00m \u001B[38;5;167;01mValueError\u001B[39;00m(err) \u001B[38;5;28;01mfrom\u001B[39;00m \u001B[38;5;21;01merr\u001B[39;00m\n\u001B[0;32m    974\u001B[0m \u001B[38;5;28;01mif\u001B[39;00m \u001B[38;5;28mlen\u001B[39m(contents) \u001B[38;5;129;01mand\u001B[39;00m contents[\u001B[38;5;241m0\u001B[39m]\u001B[38;5;241m.\u001B[39mdtype \u001B[38;5;241m==\u001B[39m np\u001B[38;5;241m.\u001B[39mobject_:\n\u001B[1;32m--> 975\u001B[0m     contents \u001B[38;5;241m=\u001B[39m \u001B[43m_convert_object_array\u001B[49m\u001B[43m(\u001B[49m\u001B[43mcontents\u001B[49m\u001B[43m,\u001B[49m\u001B[43m \u001B[49m\u001B[43mdtype\u001B[49m\u001B[38;5;241;43m=\u001B[39;49m\u001B[43mdtype\u001B[49m\u001B[43m)\u001B[49m\n\u001B[0;32m    977\u001B[0m \u001B[38;5;28;01mreturn\u001B[39;00m contents, columns\n",
      "File \u001B[1;32m~\\OneDrive\\Dokumente\\GitHub\\BachelorThesis\\venv\\Lib\\site-packages\\pandas\\core\\internals\\construction.py:1060\u001B[0m, in \u001B[0;36m_convert_object_array\u001B[1;34m(content, dtype)\u001B[0m\n\u001B[0;32m   1057\u001B[0m         arr \u001B[38;5;241m=\u001B[39m maybe_cast_to_datetime(arr, dtype)\n\u001B[0;32m   1058\u001B[0m     \u001B[38;5;28;01mreturn\u001B[39;00m arr\n\u001B[1;32m-> 1060\u001B[0m arrays \u001B[38;5;241m=\u001B[39m \u001B[43m[\u001B[49m\u001B[43mconvert\u001B[49m\u001B[43m(\u001B[49m\u001B[43marr\u001B[49m\u001B[43m)\u001B[49m\u001B[43m \u001B[49m\u001B[38;5;28;43;01mfor\u001B[39;49;00m\u001B[43m \u001B[49m\u001B[43marr\u001B[49m\u001B[43m \u001B[49m\u001B[38;5;129;43;01min\u001B[39;49;00m\u001B[43m \u001B[49m\u001B[43mcontent\u001B[49m\u001B[43m]\u001B[49m\n\u001B[0;32m   1062\u001B[0m \u001B[38;5;28;01mreturn\u001B[39;00m arrays\n",
      "File \u001B[1;32m~\\OneDrive\\Dokumente\\GitHub\\BachelorThesis\\venv\\Lib\\site-packages\\pandas\\core\\internals\\construction.py:1060\u001B[0m, in \u001B[0;36m<listcomp>\u001B[1;34m(.0)\u001B[0m\n\u001B[0;32m   1057\u001B[0m         arr \u001B[38;5;241m=\u001B[39m maybe_cast_to_datetime(arr, dtype)\n\u001B[0;32m   1058\u001B[0m     \u001B[38;5;28;01mreturn\u001B[39;00m arr\n\u001B[1;32m-> 1060\u001B[0m arrays \u001B[38;5;241m=\u001B[39m [\u001B[43mconvert\u001B[49m\u001B[43m(\u001B[49m\u001B[43marr\u001B[49m\u001B[43m)\u001B[49m \u001B[38;5;28;01mfor\u001B[39;00m arr \u001B[38;5;129;01min\u001B[39;00m content]\n\u001B[0;32m   1062\u001B[0m \u001B[38;5;28;01mreturn\u001B[39;00m arrays\n",
      "File \u001B[1;32m~\\OneDrive\\Dokumente\\GitHub\\BachelorThesis\\venv\\Lib\\site-packages\\pandas\\core\\internals\\construction.py:1057\u001B[0m, in \u001B[0;36m_convert_object_array.<locals>.convert\u001B[1;34m(arr)\u001B[0m\n\u001B[0;32m   1055\u001B[0m \u001B[38;5;28;01mif\u001B[39;00m dtype \u001B[38;5;241m!=\u001B[39m np\u001B[38;5;241m.\u001B[39mdtype(\u001B[38;5;124m\"\u001B[39m\u001B[38;5;124mO\u001B[39m\u001B[38;5;124m\"\u001B[39m):\n\u001B[0;32m   1056\u001B[0m     arr \u001B[38;5;241m=\u001B[39m lib\u001B[38;5;241m.\u001B[39mmaybe_convert_objects(arr)\n\u001B[1;32m-> 1057\u001B[0m     arr \u001B[38;5;241m=\u001B[39m \u001B[43mmaybe_cast_to_datetime\u001B[49m\u001B[43m(\u001B[49m\u001B[43marr\u001B[49m\u001B[43m,\u001B[49m\u001B[43m \u001B[49m\u001B[43mdtype\u001B[49m\u001B[43m)\u001B[49m\n\u001B[0;32m   1058\u001B[0m \u001B[38;5;28;01mreturn\u001B[39;00m arr\n",
      "File \u001B[1;32m~\\OneDrive\\Dokumente\\GitHub\\BachelorThesis\\venv\\Lib\\site-packages\\pandas\\core\\dtypes\\cast.py:1291\u001B[0m, in \u001B[0;36mmaybe_cast_to_datetime\u001B[1;34m(value, dtype)\u001B[0m\n\u001B[0;32m   1281\u001B[0m         warnings\u001B[38;5;241m.\u001B[39mwarn(\n\u001B[0;32m   1282\u001B[0m             \u001B[38;5;124mf\u001B[39m\u001B[38;5;124m\"\u001B[39m\u001B[38;5;124mInferring \u001B[39m\u001B[38;5;132;01m{\u001B[39;00mvalue\u001B[38;5;241m.\u001B[39mdtype\u001B[38;5;132;01m}\u001B[39;00m\u001B[38;5;124m from data containing strings is deprecated \u001B[39m\u001B[38;5;124m\"\u001B[39m\n\u001B[0;32m   1283\u001B[0m             \u001B[38;5;124m\"\u001B[39m\u001B[38;5;124mand will be removed in a future version. To retain the old behavior \u001B[39m\u001B[38;5;124m\"\u001B[39m\n\u001B[1;32m   (...)\u001B[0m\n\u001B[0;32m   1286\u001B[0m             stacklevel\u001B[38;5;241m=\u001B[39mfind_stack_level(),\n\u001B[0;32m   1287\u001B[0m         )\n\u001B[0;32m   1288\u001B[0m     \u001B[38;5;28;01mreturn\u001B[39;00m value\n\u001B[1;32m-> 1291\u001B[0m \u001B[38;5;28;01mdef\u001B[39;00m \u001B[38;5;21mmaybe_cast_to_datetime\u001B[39m(\n\u001B[0;32m   1292\u001B[0m     value: ExtensionArray \u001B[38;5;241m|\u001B[39m np\u001B[38;5;241m.\u001B[39mndarray \u001B[38;5;241m|\u001B[39m \u001B[38;5;28mlist\u001B[39m, dtype: DtypeObj \u001B[38;5;241m|\u001B[39m \u001B[38;5;28;01mNone\u001B[39;00m\n\u001B[0;32m   1293\u001B[0m ) \u001B[38;5;241m-\u001B[39m\u001B[38;5;241m>\u001B[39m ExtensionArray \u001B[38;5;241m|\u001B[39m np\u001B[38;5;241m.\u001B[39mndarray:\n\u001B[0;32m   1294\u001B[0m \u001B[38;5;250m    \u001B[39m\u001B[38;5;124;03m\"\"\"\u001B[39;00m\n\u001B[0;32m   1295\u001B[0m \u001B[38;5;124;03m    try to cast the array/value to a datetimelike dtype, converting float\u001B[39;00m\n\u001B[0;32m   1296\u001B[0m \u001B[38;5;124;03m    nan to iNaT\u001B[39;00m\n\u001B[0;32m   1297\u001B[0m \n\u001B[0;32m   1298\u001B[0m \u001B[38;5;124;03m    We allow a list *only* when dtype is not None.\u001B[39;00m\n\u001B[0;32m   1299\u001B[0m \u001B[38;5;124;03m    \"\"\"\u001B[39;00m\n\u001B[0;32m   1300\u001B[0m     \u001B[38;5;28;01mfrom\u001B[39;00m \u001B[38;5;21;01mpandas\u001B[39;00m\u001B[38;5;21;01m.\u001B[39;00m\u001B[38;5;21;01mcore\u001B[39;00m\u001B[38;5;21;01m.\u001B[39;00m\u001B[38;5;21;01marrays\u001B[39;00m\u001B[38;5;21;01m.\u001B[39;00m\u001B[38;5;21;01mdatetimes\u001B[39;00m \u001B[38;5;28;01mimport\u001B[39;00m sequence_to_datetimes\n",
      "\u001B[1;31mKeyboardInterrupt\u001B[0m: "
     ]
    }
   ],
   "source": [
    "inference_df[list(range(0, 50))] = pd.DataFrame(inference_df[\"modified_sequence_vector\"].tolist(), index= inference_df.index)"
   ],
   "metadata": {
    "collapsed": false
   }
  },
  {
   "cell_type": "code",
   "execution_count": null,
   "outputs": [],
   "source": [
    "inference_df.drop(\"modified_sequence_vector\", axis=1, inplace=True)"
   ],
   "metadata": {
    "collapsed": false
   }
  },
  {
   "cell_type": "code",
   "execution_count": null,
   "outputs": [],
   "source": [
    "inference_df.head(4)"
   ],
   "metadata": {
    "collapsed": false
   }
  },
  {
   "cell_type": "code",
   "execution_count": null,
   "outputs": [],
   "source": [
    "inference_ds = tf.convert_to_tensor(inference_df)"
   ],
   "metadata": {
    "collapsed": false
   }
  },
  {
   "cell_type": "code",
   "execution_count": null,
   "outputs": [],
   "source": [
    "inference_target = inference_ds[:, 0]\n",
    "inference_features = inference_ds[:, 1:]"
   ],
   "metadata": {
    "collapsed": false
   }
  },
  {
   "cell_type": "code",
   "execution_count": null,
   "outputs": [],
   "source": [
    "inference_target_labels =  np.array([one_hot_precursor(i, charges=charge_ranges) for i in inference_target])"
   ],
   "metadata": {
    "collapsed": false
   }
  },
  {
   "cell_type": "code",
   "execution_count": null,
   "outputs": [],
   "source": [
    "results = model_cce.evaluate(inference_features, inference_target_labels, batch_size=256)\n",
    "print(\"test loss, test acc:\", results)"
   ],
   "metadata": {
    "collapsed": false
   }
  },
  {
   "cell_type": "markdown",
   "source": [
    "## Evaluate the models\n",
    "- confusion matrix\n",
    "- accuracy\n",
    "- loss"
   ],
   "metadata": {
    "collapsed": false
   }
  },
  {
   "cell_type": "markdown",
   "source": [
    "Confusion Matrix"
   ],
   "metadata": {
    "collapsed": false
   }
  },
  {
   "cell_type": "code",
   "execution_count": null,
   "outputs": [],
   "source": [
    "import sklearn\n",
    "matrix = sklearn.metrics.confusion_matrix(train_ds_labels.argmax(axis=1), inference_target_labels.argmax(axis=1))"
   ],
   "metadata": {
    "collapsed": false
   }
  },
  {
   "cell_type": "code",
   "execution_count": null,
   "outputs": [],
   "source": [
    "#!pip install scikit-learn\n",
    "#!pip install numpy --upgrade\n",
    "#!pip install pandas --upgrade\n",
    "#!pip install matplotlib --upgrade\n",
    "from sklearn.metrics import confusion_matrix\n",
    "from sklearn.metrics import classification_report\n",
    "import pandas as pd\n",
    "#do_predictions = model.predict(test_ds)\n",
    "\n",
    "y_pred = []\n",
    "y_true = []\n",
    "\n",
    "# iterate over the dataset\n",
    "for index, i in enumerate(inference_ds):   # use dataset.unbatch() with repeat\n",
    "   print(inference_target_labels[index])\n",
    "   print(inference_features[index])\n",
    "   # append true labels\n",
    "   y_true.append(inference_target_labels[index])\n",
    "   # compute predictions\n",
    "   preds = model_cce.predict(inference_features[index])\n",
    "   # append predicted labels\n",
    "   y_pred.append(np.argmax(preds, axis = -1))\n",
    "# convert the true and predicted labels into tensors\n",
    "true_labels = tf.cast(tf.concat([item for item in y_true], axis = 0), tf.float32)\n",
    "predicted_labels = tf.cast(tf.concat([item for item in y_pred], axis = 0), tf.float32)\n",
    "\n",
    "\n",
    "cm = confusion_matrix(true_labels, predicted_labels)\n",
    "#print(cm)\n",
    "report = classification_report(true_labels,predicted_labels, target_names=class_names)\n",
    "\n",
    "report_dict = classification_report(true_labels, predicted_labels, output_dict=True)\n",
    "#print(report_dict)\n",
    "print(report)\n",
    "\n",
    "#pd.DataFrame(report_dict).transpose()\n"
   ],
   "metadata": {
    "collapsed": false
   }
  },
  {
   "cell_type": "markdown",
   "source": [
    "Accuracy/ Sens/ Spec"
   ],
   "metadata": {
    "collapsed": false,
    "ExecuteTime": {
     "end_time": "2023-07-24T12:31:25.645324800Z",
     "start_time": "2023-07-24T12:31:25.552652300Z"
    }
   },
   "outputs": [],
   "execution_count": 15
  },
  {
   "cell_type": "code",
   "execution_count": null,
   "outputs": [],
   "source": [
    "import keras.backend as K\n",
    "def matthews_correlation(y_true, y_pred):\n",
    "    #print(y_pred.shape, y_true.shape)\n",
    "    y_pred_pos = K.round(K.clip(y_pred, 0, 1))\n",
    "    y_pred_neg = 1 - y_pred_pos\n",
    "\n",
    "    y_pos = K.round(K.clip(y_true, 0, 1))\n",
    "    y_neg = 1 - y_pos\n",
    "\n",
    "    tp = K.sum(K.cast(y_pos * y_pred_pos, 'float32'))\n",
    "    tn = K.sum(K.cast(y_neg * y_pred_neg, 'float32'))\n",
    "    fp = K.sum(K.cast(y_neg * y_pred_pos, 'float32'))\n",
    "    fn = K.sum(K.cast(y_pos * y_pred_neg, 'float32'))\n",
    "\n",
    "    print(\"OVERALL:\")\n",
    "    print(\" Accuracy \", ((tp + tn) / (tp + tn + fp + fn)).numpy())\n",
    "    print(\" Sensitivity \", (tp / (tp + fn)).numpy())\n",
    "    print(\" Specificity \", (tn / (tn + fp)).numpy())\n",
    "\n",
    "    numerator = (tp * tn - fp * fn)\n",
    "    #print(tp.numpy(), fp.numpy())\n",
    "    test = (((tp + fp) * (tp + fn) * (tn + fp) * (tn + fn)))\n",
    "    #print(test)\n",
    "    denominator = K.sqrt(K.cast(test, 'float32'))\n",
    "\n",
    "    return numerator / (denominator + K.epsilon())\n",
    "\n",
    "\n",
    "#print(true_labels, predicted_labels)\n",
    "print(\" matthews_correlation(rounded): \", (matthews_correlation(true_labels, predicted_labels).numpy()))"
   ],
   "metadata": {
    "collapsed": false
   }
  },
  {
   "cell_type": "markdown",
   "source": [
    "MCC"
   ],
   "metadata": {
    "collapsed": false,
    "ExecuteTime": {
     "end_time": "2023-07-24T12:31:59.929377Z",
     "start_time": "2023-07-24T12:31:45.294917300Z"
    }
   },
   "outputs": [
    {
     "ename": "ValueError",
     "evalue": "Columns must be same length as key",
     "output_type": "error",
     "traceback": [
      "\u001B[1;31m---------------------------------------------------------------------------\u001B[0m",
      "\u001B[1;31mValueError\u001B[0m                                Traceback (most recent call last)",
      "Cell \u001B[1;32mIn[18], line 3\u001B[0m\n\u001B[0;32m      1\u001B[0m split_to_columns \u001B[38;5;241m=\u001B[39m \u001B[38;5;28;01mTrue\u001B[39;00m \u001B[38;5;66;03m# TODO SET BOOL\u001B[39;00m\n\u001B[0;32m      2\u001B[0m \u001B[38;5;28;01mif\u001B[39;00m split_to_columns:\n\u001B[1;32m----> 3\u001B[0m     \u001B[43minference_df\u001B[49m\u001B[43m[\u001B[49m\u001B[38;5;28;43mlist\u001B[39;49m\u001B[43m(\u001B[49m\u001B[38;5;28;43mrange\u001B[39;49m\u001B[43m(\u001B[49m\u001B[38;5;241;43m0\u001B[39;49m\u001B[43m,\u001B[49m\u001B[43m \u001B[49m\u001B[38;5;241;43m40\u001B[39;49m\u001B[43m)\u001B[49m\u001B[43m)\u001B[49m\u001B[43m]\u001B[49m \u001B[38;5;241m=\u001B[39m pd\u001B[38;5;241m.\u001B[39mDataFrame(inference_df[\u001B[38;5;124m\"\u001B[39m\u001B[38;5;124mmodified_sequence_vector\u001B[39m\u001B[38;5;124m\"\u001B[39m]\u001B[38;5;241m.\u001B[39mtolist(), index\u001B[38;5;241m=\u001B[39m inference_df\u001B[38;5;241m.\u001B[39mindex)\n\u001B[0;32m      4\u001B[0m     inference_df\u001B[38;5;241m.\u001B[39mdrop(\u001B[38;5;124m\"\u001B[39m\u001B[38;5;124mmodified_sequence_vector\u001B[39m\u001B[38;5;124m\"\u001B[39m, axis\u001B[38;5;241m=\u001B[39m\u001B[38;5;241m1\u001B[39m, inplace\u001B[38;5;241m=\u001B[39m\u001B[38;5;28;01mTrue\u001B[39;00m)\n",
      "File \u001B[1;32m~\\OneDrive\\Dokumente\\GitHub\\BachelorThesis\\venv\\Lib\\site-packages\\pandas\\core\\frame.py:3968\u001B[0m, in \u001B[0;36mDataFrame.__setitem__\u001B[1;34m(self, key, value)\u001B[0m\n\u001B[0;32m   3966\u001B[0m     \u001B[38;5;28mself\u001B[39m\u001B[38;5;241m.\u001B[39m_setitem_frame(key, value)\n\u001B[0;32m   3967\u001B[0m \u001B[38;5;28;01melif\u001B[39;00m \u001B[38;5;28misinstance\u001B[39m(key, (Series, np\u001B[38;5;241m.\u001B[39mndarray, \u001B[38;5;28mlist\u001B[39m, Index)):\n\u001B[1;32m-> 3968\u001B[0m     \u001B[38;5;28;43mself\u001B[39;49m\u001B[38;5;241;43m.\u001B[39;49m\u001B[43m_setitem_array\u001B[49m\u001B[43m(\u001B[49m\u001B[43mkey\u001B[49m\u001B[43m,\u001B[49m\u001B[43m \u001B[49m\u001B[43mvalue\u001B[49m\u001B[43m)\u001B[49m\n\u001B[0;32m   3969\u001B[0m \u001B[38;5;28;01melif\u001B[39;00m \u001B[38;5;28misinstance\u001B[39m(value, DataFrame):\n\u001B[0;32m   3970\u001B[0m     \u001B[38;5;28mself\u001B[39m\u001B[38;5;241m.\u001B[39m_set_item_frame_value(key, value)\n",
      "File \u001B[1;32m~\\OneDrive\\Dokumente\\GitHub\\BachelorThesis\\venv\\Lib\\site-packages\\pandas\\core\\frame.py:4010\u001B[0m, in \u001B[0;36mDataFrame._setitem_array\u001B[1;34m(self, key, value)\u001B[0m\n\u001B[0;32m   4005\u001B[0m \u001B[38;5;28;01melse\u001B[39;00m:\n\u001B[0;32m   4006\u001B[0m     \u001B[38;5;66;03m# Note: unlike self.iloc[:, indexer] = value, this will\u001B[39;00m\n\u001B[0;32m   4007\u001B[0m     \u001B[38;5;66;03m#  never try to overwrite values inplace\u001B[39;00m\n\u001B[0;32m   4009\u001B[0m     \u001B[38;5;28;01mif\u001B[39;00m \u001B[38;5;28misinstance\u001B[39m(value, DataFrame):\n\u001B[1;32m-> 4010\u001B[0m         \u001B[43mcheck_key_length\u001B[49m\u001B[43m(\u001B[49m\u001B[38;5;28;43mself\u001B[39;49m\u001B[38;5;241;43m.\u001B[39;49m\u001B[43mcolumns\u001B[49m\u001B[43m,\u001B[49m\u001B[43m \u001B[49m\u001B[43mkey\u001B[49m\u001B[43m,\u001B[49m\u001B[43m \u001B[49m\u001B[43mvalue\u001B[49m\u001B[43m)\u001B[49m\n\u001B[0;32m   4011\u001B[0m         \u001B[38;5;28;01mfor\u001B[39;00m k1, k2 \u001B[38;5;129;01min\u001B[39;00m \u001B[38;5;28mzip\u001B[39m(key, value\u001B[38;5;241m.\u001B[39mcolumns):\n\u001B[0;32m   4012\u001B[0m             \u001B[38;5;28mself\u001B[39m[k1] \u001B[38;5;241m=\u001B[39m value[k2]\n",
      "File \u001B[1;32m~\\OneDrive\\Dokumente\\GitHub\\BachelorThesis\\venv\\Lib\\site-packages\\pandas\\core\\indexers\\utils.py:401\u001B[0m, in \u001B[0;36mcheck_key_length\u001B[1;34m(columns, key, value)\u001B[0m\n\u001B[0;32m    399\u001B[0m \u001B[38;5;28;01mif\u001B[39;00m columns\u001B[38;5;241m.\u001B[39mis_unique:\n\u001B[0;32m    400\u001B[0m     \u001B[38;5;28;01mif\u001B[39;00m \u001B[38;5;28mlen\u001B[39m(value\u001B[38;5;241m.\u001B[39mcolumns) \u001B[38;5;241m!=\u001B[39m \u001B[38;5;28mlen\u001B[39m(key):\n\u001B[1;32m--> 401\u001B[0m         \u001B[38;5;28;01mraise\u001B[39;00m \u001B[38;5;167;01mValueError\u001B[39;00m(\u001B[38;5;124m\"\u001B[39m\u001B[38;5;124mColumns must be same length as key\u001B[39m\u001B[38;5;124m\"\u001B[39m)\n\u001B[0;32m    402\u001B[0m \u001B[38;5;28;01melse\u001B[39;00m:\n\u001B[0;32m    403\u001B[0m     \u001B[38;5;66;03m# Missing keys in columns are represented as -1\u001B[39;00m\n\u001B[0;32m    404\u001B[0m     \u001B[38;5;28;01mif\u001B[39;00m \u001B[38;5;28mlen\u001B[39m(columns\u001B[38;5;241m.\u001B[39mget_indexer_non_unique(key)[\u001B[38;5;241m0\u001B[39m]) \u001B[38;5;241m!=\u001B[39m \u001B[38;5;28mlen\u001B[39m(value\u001B[38;5;241m.\u001B[39mcolumns):\n",
      "\u001B[1;31mValueError\u001B[0m: Columns must be same length as key"
     ]
    }
   ],
   "execution_count": 18
  },
  {
   "cell_type": "code",
   "execution_count": null,
   "outputs": [],
   "source": [
    "from sklearn.metrics import matthews_corrcoef\n",
    "\n",
    "print(\"matthews_correlation:\", matthews_corrcoef(true_labels, predicted_labels))"
   ],
   "metadata": {
    "collapsed": false
   }
  },
  {
   "cell_type": "markdown",
   "source": [
    "Direct eval:"
   ],
   "metadata": {
    "collapsed": false
   }
  },
  {
   "cell_type": "code",
   "execution_count": null,
   "outputs": [],
   "source": [
    "from tensorflow.keras.metrics import Precision, Recall, BinaryAccuracy\n",
    "\n",
    "eval_prec = Precision()\n",
    "eval_rec = Recall()\n",
    "eval_acc = BinaryAccuracy()"
   ],
   "metadata": {
    "collapsed": false
   }
  },
  {
   "cell_type": "code",
   "execution_count": null,
   "outputs": [],
   "source": [
    "for batch in test_ds.as_numpy_iterator():\n",
    "    X, y = batch\n",
    "    y = tf.keras.utils.to_categorical(y, num_classes=13, dtype='int')\n",
    "    yhat = model.predict(X)\n",
    "    eval_prec.update_state(y, yhat)\n",
    "    eval_rec.update_state(y, yhat)\n",
    "    eval_acc.update_state(y, yhat)"
   ],
   "metadata": {
    "collapsed": false
   }
  },
  {
   "cell_type": "code",
   "execution_count": null,
   "outputs": [],
   "source": [
    "print(f'Precision: {eval_prec.result().numpy()}, Recall: {eval_rec.result().numpy()}, Accuracy: {eval_acc.result().numpy()}')"
   ],
   "metadata": {
    "collapsed": false
   }
  }
 ],
 "metadata": {
  "kernelspec": {
   "display_name": "Python 3",
   "language": "python",
   "name": "python3"
  },
  "language_info": {
   "codemirror_mode": {
    "name": "ipython",
    "version": 2
   },
   "file_extension": ".py",
   "mimetype": "text/x-python",
   "name": "python",
   "nbconvert_exporter": "python",
   "pygments_lexer": "ipython2",
   "version": "2.7.6"
  }
 },
 "nbformat": 4,
 "nbformat_minor": 0
}

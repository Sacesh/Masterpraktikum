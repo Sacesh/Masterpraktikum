{
 "cells": [
  {
   "cell_type": "markdown",
   "metadata": {
    "collapsed": false
   },
   "source": [
    "### Dependencies"
   ]
  },
  {
   "cell_type": "code",
   "execution_count": 1,
   "metadata": {
    "ExecuteTime": {
     "end_time": "2023-08-03T07:47:14.041354200Z",
     "start_time": "2023-08-03T07:47:13.840455900Z"
    },
    "collapsed": false
   },
   "outputs": [
    {
     "name": "stdout",
     "output_type": "stream",
     "text": [
      "Requirement already satisfied: pandas in ./mp_venv/lib/python3.10/site-packages (2.0.3)\n",
      "Requirement already satisfied: python-dateutil>=2.8.2 in ./mp_venv/lib/python3.10/site-packages (from pandas) (2.8.2)\n",
      "Requirement already satisfied: tzdata>=2022.1 in ./mp_venv/lib/python3.10/site-packages (from pandas) (2023.3)\n",
      "Requirement already satisfied: pytz>=2020.1 in ./mp_venv/lib/python3.10/site-packages (from pandas) (2023.3)\n",
      "Requirement already satisfied: numpy>=1.21.0 in ./mp_venv/lib/python3.10/site-packages (from pandas) (1.24.3)\n",
      "Requirement already satisfied: six>=1.5 in ./mp_venv/lib/python3.10/site-packages (from python-dateutil>=2.8.2->pandas) (1.16.0)\n",
      "Note: you may need to restart the kernel to use updated packages.\n",
      "Requirement already satisfied: fastparquet in ./mp_venv/lib/python3.10/site-packages (2023.7.0)\n",
      "Requirement already satisfied: packaging in ./mp_venv/lib/python3.10/site-packages (from fastparquet) (23.1)\n",
      "Requirement already satisfied: fsspec in ./mp_venv/lib/python3.10/site-packages (from fastparquet) (2023.6.0)\n",
      "Requirement already satisfied: cramjam>=2.3 in ./mp_venv/lib/python3.10/site-packages (from fastparquet) (2.7.0)\n",
      "Requirement already satisfied: numpy>=1.20.3 in ./mp_venv/lib/python3.10/site-packages (from fastparquet) (1.24.3)\n",
      "Requirement already satisfied: pandas>=1.5.0 in ./mp_venv/lib/python3.10/site-packages (from fastparquet) (2.0.3)\n",
      "Requirement already satisfied: tzdata>=2022.1 in ./mp_venv/lib/python3.10/site-packages (from pandas>=1.5.0->fastparquet) (2023.3)\n",
      "Requirement already satisfied: pytz>=2020.1 in ./mp_venv/lib/python3.10/site-packages (from pandas>=1.5.0->fastparquet) (2023.3)\n",
      "Requirement already satisfied: python-dateutil>=2.8.2 in ./mp_venv/lib/python3.10/site-packages (from pandas>=1.5.0->fastparquet) (2.8.2)\n",
      "Requirement already satisfied: six>=1.5 in ./mp_venv/lib/python3.10/site-packages (from python-dateutil>=2.8.2->pandas>=1.5.0->fastparquet) (1.16.0)\n",
      "Note: you may need to restart the kernel to use updated packages.\n",
      "Requirement already satisfied: tensorflow in ./mp_venv/lib/python3.10/site-packages (2.13.0)\n",
      "Requirement already satisfied: wrapt>=1.11.0 in ./mp_venv/lib/python3.10/site-packages (from tensorflow) (1.15.0)\n",
      "Requirement already satisfied: six>=1.12.0 in ./mp_venv/lib/python3.10/site-packages (from tensorflow) (1.16.0)\n",
      "Requirement already satisfied: opt-einsum>=2.3.2 in ./mp_venv/lib/python3.10/site-packages (from tensorflow) (3.3.0)\n",
      "Requirement already satisfied: flatbuffers>=23.1.21 in ./mp_venv/lib/python3.10/site-packages (from tensorflow) (23.5.26)\n",
      "Requirement already satisfied: protobuf!=4.21.0,!=4.21.1,!=4.21.2,!=4.21.3,!=4.21.4,!=4.21.5,<5.0.0dev,>=3.20.3 in ./mp_venv/lib/python3.10/site-packages (from tensorflow) (4.24.0)\n",
      "Requirement already satisfied: google-pasta>=0.1.1 in ./mp_venv/lib/python3.10/site-packages (from tensorflow) (0.2.0)\n",
      "Requirement already satisfied: grpcio<2.0,>=1.24.3 in ./mp_venv/lib/python3.10/site-packages (from tensorflow) (1.56.2)\n",
      "Requirement already satisfied: setuptools in ./mp_venv/lib/python3.10/site-packages (from tensorflow) (59.6.0)\n",
      "Requirement already satisfied: tensorflow-io-gcs-filesystem>=0.23.1 in ./mp_venv/lib/python3.10/site-packages (from tensorflow) (0.33.0)\n",
      "Requirement already satisfied: typing-extensions<4.6.0,>=3.6.6 in ./mp_venv/lib/python3.10/site-packages (from tensorflow) (4.5.0)\n",
      "Requirement already satisfied: gast<=0.4.0,>=0.2.1 in ./mp_venv/lib/python3.10/site-packages (from tensorflow) (0.4.0)\n",
      "Requirement already satisfied: h5py>=2.9.0 in ./mp_venv/lib/python3.10/site-packages (from tensorflow) (3.9.0)\n",
      "Requirement already satisfied: packaging in ./mp_venv/lib/python3.10/site-packages (from tensorflow) (23.1)\n",
      "Requirement already satisfied: tensorflow-estimator<2.14,>=2.13.0 in ./mp_venv/lib/python3.10/site-packages (from tensorflow) (2.13.0)\n",
      "Requirement already satisfied: termcolor>=1.1.0 in ./mp_venv/lib/python3.10/site-packages (from tensorflow) (2.3.0)\n",
      "Requirement already satisfied: numpy<=1.24.3,>=1.22 in ./mp_venv/lib/python3.10/site-packages (from tensorflow) (1.24.3)\n",
      "Requirement already satisfied: astunparse>=1.6.0 in ./mp_venv/lib/python3.10/site-packages (from tensorflow) (1.6.3)\n",
      "Requirement already satisfied: keras<2.14,>=2.13.1 in ./mp_venv/lib/python3.10/site-packages (from tensorflow) (2.13.1)\n",
      "Requirement already satisfied: tensorboard<2.14,>=2.13 in ./mp_venv/lib/python3.10/site-packages (from tensorflow) (2.13.0)\n",
      "Requirement already satisfied: libclang>=13.0.0 in ./mp_venv/lib/python3.10/site-packages (from tensorflow) (16.0.6)\n",
      "Requirement already satisfied: absl-py>=1.0.0 in ./mp_venv/lib/python3.10/site-packages (from tensorflow) (1.4.0)\n",
      "Requirement already satisfied: wheel<1.0,>=0.23.0 in ./mp_venv/lib/python3.10/site-packages (from astunparse>=1.6.0->tensorflow) (0.41.1)\n",
      "Requirement already satisfied: google-auth-oauthlib<1.1,>=0.5 in ./mp_venv/lib/python3.10/site-packages (from tensorboard<2.14,>=2.13->tensorflow) (1.0.0)\n",
      "Requirement already satisfied: tensorboard-data-server<0.8.0,>=0.7.0 in ./mp_venv/lib/python3.10/site-packages (from tensorboard<2.14,>=2.13->tensorflow) (0.7.1)\n",
      "Requirement already satisfied: requests<3,>=2.21.0 in ./mp_venv/lib/python3.10/site-packages (from tensorboard<2.14,>=2.13->tensorflow) (2.31.0)\n",
      "Requirement already satisfied: google-auth<3,>=1.6.3 in ./mp_venv/lib/python3.10/site-packages (from tensorboard<2.14,>=2.13->tensorflow) (2.22.0)\n",
      "Requirement already satisfied: werkzeug>=1.0.1 in ./mp_venv/lib/python3.10/site-packages (from tensorboard<2.14,>=2.13->tensorflow) (2.3.6)\n",
      "Requirement already satisfied: markdown>=2.6.8 in ./mp_venv/lib/python3.10/site-packages (from tensorboard<2.14,>=2.13->tensorflow) (3.4.4)\n",
      "Requirement already satisfied: rsa<5,>=3.1.4 in ./mp_venv/lib/python3.10/site-packages (from google-auth<3,>=1.6.3->tensorboard<2.14,>=2.13->tensorflow) (4.9)\n",
      "Requirement already satisfied: pyasn1-modules>=0.2.1 in ./mp_venv/lib/python3.10/site-packages (from google-auth<3,>=1.6.3->tensorboard<2.14,>=2.13->tensorflow) (0.3.0)\n",
      "Requirement already satisfied: urllib3<2.0 in ./mp_venv/lib/python3.10/site-packages (from google-auth<3,>=1.6.3->tensorboard<2.14,>=2.13->tensorflow) (1.26.16)\n",
      "Requirement already satisfied: cachetools<6.0,>=2.0.0 in ./mp_venv/lib/python3.10/site-packages (from google-auth<3,>=1.6.3->tensorboard<2.14,>=2.13->tensorflow) (5.3.1)\n",
      "Requirement already satisfied: requests-oauthlib>=0.7.0 in ./mp_venv/lib/python3.10/site-packages (from google-auth-oauthlib<1.1,>=0.5->tensorboard<2.14,>=2.13->tensorflow) (1.3.1)\n",
      "Requirement already satisfied: certifi>=2017.4.17 in ./mp_venv/lib/python3.10/site-packages (from requests<3,>=2.21.0->tensorboard<2.14,>=2.13->tensorflow) (2023.7.22)\n",
      "Requirement already satisfied: charset-normalizer<4,>=2 in ./mp_venv/lib/python3.10/site-packages (from requests<3,>=2.21.0->tensorboard<2.14,>=2.13->tensorflow) (3.2.0)\n",
      "Requirement already satisfied: idna<4,>=2.5 in ./mp_venv/lib/python3.10/site-packages (from requests<3,>=2.21.0->tensorboard<2.14,>=2.13->tensorflow) (3.4)\n",
      "Requirement already satisfied: MarkupSafe>=2.1.1 in ./mp_venv/lib/python3.10/site-packages (from werkzeug>=1.0.1->tensorboard<2.14,>=2.13->tensorflow) (2.1.3)\n",
      "Requirement already satisfied: pyasn1<0.6.0,>=0.4.6 in ./mp_venv/lib/python3.10/site-packages (from pyasn1-modules>=0.2.1->google-auth<3,>=1.6.3->tensorboard<2.14,>=2.13->tensorflow) (0.5.0)\n",
      "Requirement already satisfied: oauthlib>=3.0.0 in ./mp_venv/lib/python3.10/site-packages (from requests-oauthlib>=0.7.0->google-auth-oauthlib<1.1,>=0.5->tensorboard<2.14,>=2.13->tensorflow) (3.2.2)\n",
      "Note: you may need to restart the kernel to use updated packages.\n",
      "Requirement already satisfied: matplotlib in ./mp_venv/lib/python3.10/site-packages (3.7.2)\n",
      "Requirement already satisfied: contourpy>=1.0.1 in ./mp_venv/lib/python3.10/site-packages (from matplotlib) (1.1.0)\n",
      "Requirement already satisfied: packaging>=20.0 in ./mp_venv/lib/python3.10/site-packages (from matplotlib) (23.1)\n",
      "Requirement already satisfied: python-dateutil>=2.7 in ./mp_venv/lib/python3.10/site-packages (from matplotlib) (2.8.2)\n",
      "Requirement already satisfied: numpy>=1.20 in ./mp_venv/lib/python3.10/site-packages (from matplotlib) (1.24.3)\n",
      "Requirement already satisfied: kiwisolver>=1.0.1 in ./mp_venv/lib/python3.10/site-packages (from matplotlib) (1.4.4)\n",
      "Requirement already satisfied: pillow>=6.2.0 in ./mp_venv/lib/python3.10/site-packages (from matplotlib) (10.0.0)\n",
      "Requirement already satisfied: cycler>=0.10 in ./mp_venv/lib/python3.10/site-packages (from matplotlib) (0.11.0)\n",
      "Requirement already satisfied: pyparsing<3.1,>=2.3.1 in ./mp_venv/lib/python3.10/site-packages (from matplotlib) (3.0.9)\n",
      "Requirement already satisfied: fonttools>=4.22.0 in ./mp_venv/lib/python3.10/site-packages (from matplotlib) (4.42.0)\n",
      "Requirement already satisfied: six>=1.5 in ./mp_venv/lib/python3.10/site-packages (from python-dateutil>=2.7->matplotlib) (1.16.0)\n",
      "Note: you may need to restart the kernel to use updated packages.\n",
      "Requirement already satisfied: numpy in ./mp_venv/lib/python3.10/site-packages (1.24.3)\n",
      "Note: you may need to restart the kernel to use updated packages.\n",
      "Requirement already satisfied: keras in ./mp_venv/lib/python3.10/site-packages (2.13.1)\n",
      "Note: you may need to restart the kernel to use updated packages.\n",
      "Requirement already satisfied: pydot in ./mp_venv/lib/python3.10/site-packages (1.4.2)\n",
      "Requirement already satisfied: pyparsing>=2.1.4 in ./mp_venv/lib/python3.10/site-packages (from pydot) (3.0.9)\n",
      "Note: you may need to restart the kernel to use updated packages.\n",
      "Requirement already satisfied: seaborn in ./mp_venv/lib/python3.10/site-packages (0.12.2)\n",
      "Requirement already satisfied: matplotlib!=3.6.1,>=3.1 in ./mp_venv/lib/python3.10/site-packages (from seaborn) (3.7.2)\n",
      "Requirement already satisfied: pandas>=0.25 in ./mp_venv/lib/python3.10/site-packages (from seaborn) (2.0.3)\n",
      "Requirement already satisfied: numpy!=1.24.0,>=1.17 in ./mp_venv/lib/python3.10/site-packages (from seaborn) (1.24.3)\n",
      "Requirement already satisfied: pillow>=6.2.0 in ./mp_venv/lib/python3.10/site-packages (from matplotlib!=3.6.1,>=3.1->seaborn) (10.0.0)\n",
      "Requirement already satisfied: pyparsing<3.1,>=2.3.1 in ./mp_venv/lib/python3.10/site-packages (from matplotlib!=3.6.1,>=3.1->seaborn) (3.0.9)\n",
      "Requirement already satisfied: python-dateutil>=2.7 in ./mp_venv/lib/python3.10/site-packages (from matplotlib!=3.6.1,>=3.1->seaborn) (2.8.2)\n",
      "Requirement already satisfied: cycler>=0.10 in ./mp_venv/lib/python3.10/site-packages (from matplotlib!=3.6.1,>=3.1->seaborn) (0.11.0)\n",
      "Requirement already satisfied: contourpy>=1.0.1 in ./mp_venv/lib/python3.10/site-packages (from matplotlib!=3.6.1,>=3.1->seaborn) (1.1.0)\n",
      "Requirement already satisfied: packaging>=20.0 in ./mp_venv/lib/python3.10/site-packages (from matplotlib!=3.6.1,>=3.1->seaborn) (23.1)\n",
      "Requirement already satisfied: fonttools>=4.22.0 in ./mp_venv/lib/python3.10/site-packages (from matplotlib!=3.6.1,>=3.1->seaborn) (4.42.0)\n",
      "Requirement already satisfied: kiwisolver>=1.0.1 in ./mp_venv/lib/python3.10/site-packages (from matplotlib!=3.6.1,>=3.1->seaborn) (1.4.4)\n",
      "Requirement already satisfied: pytz>=2020.1 in ./mp_venv/lib/python3.10/site-packages (from pandas>=0.25->seaborn) (2023.3)\n",
      "Requirement already satisfied: tzdata>=2022.1 in ./mp_venv/lib/python3.10/site-packages (from pandas>=0.25->seaborn) (2023.3)\n",
      "Requirement already satisfied: six>=1.5 in ./mp_venv/lib/python3.10/site-packages (from python-dateutil>=2.7->matplotlib!=3.6.1,>=3.1->seaborn) (1.16.0)\n",
      "Note: you may need to restart the kernel to use updated packages.\n",
      "Requirement already satisfied: scikit-learn in ./mp_venv/lib/python3.10/site-packages (1.3.0)\n",
      "Requirement already satisfied: numpy>=1.17.3 in ./mp_venv/lib/python3.10/site-packages (from scikit-learn) (1.24.3)\n",
      "Requirement already satisfied: joblib>=1.1.1 in ./mp_venv/lib/python3.10/site-packages (from scikit-learn) (1.3.2)\n",
      "Requirement already satisfied: scipy>=1.5.0 in ./mp_venv/lib/python3.10/site-packages (from scikit-learn) (1.11.1)\n",
      "Requirement already satisfied: threadpoolctl>=2.0.0 in ./mp_venv/lib/python3.10/site-packages (from scikit-learn) (3.2.0)\n",
      "Note: you may need to restart the kernel to use updated packages.\n",
      "Requirement already satisfied: wandb in ./mp_venv/lib/python3.10/site-packages (0.15.8)\n",
      "Requirement already satisfied: GitPython!=3.1.29,>=1.0.0 in ./mp_venv/lib/python3.10/site-packages (from wandb) (3.1.32)\n",
      "Requirement already satisfied: protobuf!=4.21.0,<5,>=3.19.0 in ./mp_venv/lib/python3.10/site-packages (from wandb) (4.24.0)\n",
      "Requirement already satisfied: sentry-sdk>=1.0.0 in ./mp_venv/lib/python3.10/site-packages (from wandb) (1.29.2)\n",
      "Requirement already satisfied: requests<3,>=2.0.0 in ./mp_venv/lib/python3.10/site-packages (from wandb) (2.31.0)\n",
      "Requirement already satisfied: Click!=8.0.0,>=7.1 in ./mp_venv/lib/python3.10/site-packages (from wandb) (8.1.6)\n",
      "Requirement already satisfied: pathtools in ./mp_venv/lib/python3.10/site-packages (from wandb) (0.1.2)\n",
      "Requirement already satisfied: psutil>=5.0.0 in ./mp_venv/lib/python3.10/site-packages (from wandb) (5.9.5)\n",
      "Requirement already satisfied: setproctitle in ./mp_venv/lib/python3.10/site-packages (from wandb) (1.3.2)\n",
      "Requirement already satisfied: PyYAML in ./mp_venv/lib/python3.10/site-packages (from wandb) (6.0.1)\n",
      "Requirement already satisfied: docker-pycreds>=0.4.0 in ./mp_venv/lib/python3.10/site-packages (from wandb) (0.4.0)\n",
      "Requirement already satisfied: setuptools in ./mp_venv/lib/python3.10/site-packages (from wandb) (59.6.0)\n",
      "Requirement already satisfied: appdirs>=1.4.3 in ./mp_venv/lib/python3.10/site-packages (from wandb) (1.4.4)\n",
      "Requirement already satisfied: six>=1.4.0 in ./mp_venv/lib/python3.10/site-packages (from docker-pycreds>=0.4.0->wandb) (1.16.0)\n",
      "Requirement already satisfied: gitdb<5,>=4.0.1 in ./mp_venv/lib/python3.10/site-packages (from GitPython!=3.1.29,>=1.0.0->wandb) (4.0.10)\n",
      "Requirement already satisfied: certifi>=2017.4.17 in ./mp_venv/lib/python3.10/site-packages (from requests<3,>=2.0.0->wandb) (2023.7.22)\n",
      "Requirement already satisfied: idna<4,>=2.5 in ./mp_venv/lib/python3.10/site-packages (from requests<3,>=2.0.0->wandb) (3.4)\n",
      "Requirement already satisfied: charset-normalizer<4,>=2 in ./mp_venv/lib/python3.10/site-packages (from requests<3,>=2.0.0->wandb) (3.2.0)\n",
      "Requirement already satisfied: urllib3<3,>=1.21.1 in ./mp_venv/lib/python3.10/site-packages (from requests<3,>=2.0.0->wandb) (1.26.16)\n",
      "Requirement already satisfied: smmap<6,>=3.0.1 in ./mp_venv/lib/python3.10/site-packages (from gitdb<5,>=4.0.1->GitPython!=3.1.29,>=1.0.0->wandb) (5.0.0)\n",
      "Note: you may need to restart the kernel to use updated packages.\n"
     ]
    }
   ],
   "source": [
    "%pip install pandas\n",
    "%pip install fastparquet\n",
    "%pip install tensorflow\n",
    "%pip install matplotlib\n",
    "%pip install numpy\n",
    "%pip install keras\n",
    "%pip install pydot\n",
    "%pip install seaborn\n",
    "%pip install scikit-learn\n",
    "%pip install wandb"
   ]
  },
  {
   "cell_type": "markdown",
   "metadata": {
    "collapsed": false
   },
   "source": [
    "### Setup"
   ]
  },
  {
   "cell_type": "code",
   "execution_count": 2,
   "metadata": {
    "ExecuteTime": {
     "end_time": "2023-08-03T07:47:14.041354200Z",
     "start_time": "2023-08-03T07:47:13.848313300Z"
    },
    "collapsed": false
   },
   "outputs": [
    {
     "name": "stderr",
     "output_type": "stream",
     "text": [
      "2023-09-07 10:16:50.439816: I tensorflow/tsl/cuda/cudart_stub.cc:28] Could not find cuda drivers on your machine, GPU will not be used.\n",
      "2023-09-07 10:16:53.515831: I tensorflow/tsl/cuda/cudart_stub.cc:28] Could not find cuda drivers on your machine, GPU will not be used.\n",
      "2023-09-07 10:16:53.524559: I tensorflow/core/platform/cpu_feature_guard.cc:182] This TensorFlow binary is optimized to use available CPU instructions in performance-critical operations.\n",
      "To enable the following instructions: AVX2 FMA, in other operations, rebuild TensorFlow with the appropriate compiler flags.\n",
      "2023-09-07 10:17:13.209095: W tensorflow/compiler/tf2tensorrt/utils/py_utils.cc:38] TF-TRT Warning: Could not find TensorRT\n"
     ]
    }
   ],
   "source": [
    "import re\n",
    "import os\n",
    "import random\n",
    "import numpy as np\n",
    "import pandas as pd\n",
    "import tensorflow as tf\n",
    "import matplotlib.pyplot as plt\n",
    "from sklearn.model_selection import train_test_split\n",
    "from tensorflow.keras.callbacks import ModelCheckpoint\n",
    "from sklearn.utils import class_weight\n",
    "from sklearn.model_selection import StratifiedShuffleSplit\n",
    "from sklearn.metrics import confusion_matrix, classification_report\n",
    "import seaborn as sns\n",
    "import wandb\n",
    "from wandb.keras import WandbCallback"
   ]
  },
  {
   "cell_type": "markdown",
   "metadata": {},
   "source": [
    "- Multiclass (X)\n",
    "- Multilable (X) -- check how or if to normalize output // select cutoff for predicting charge as present\n",
    "- Prosit (X)\n",
    "- Multi-head Binary Classifier (Omar) (TODO)\n",
    "\n",
    "- Split for all of them (X) \n",
    "- Training (X)\n",
    "- Inference (X?) \n",
    "- Analysis (X)\n",
    "    - TopK\n",
    "----------------------\n",
    "----------------------\n",
    "- Clean up code for presentation (TODO?) \n",
    "- Presentation (TODO)"
   ]
  },
  {
   "cell_type": "markdown",
   "metadata": {
    "collapsed": false
   },
   "source": [
    "### Data preprocessing\n",
    "- remove all columns except: 'modified_sequence', 'precursor_charge', 'precursor_intensity'\n",
    "- filter out unwanted charge states\n",
    "- filter for most abundant charge state per sequence by precursor_intensity after normalizing the values\n",
    "- filter sequence length according to occurance in dataset (currently less than 100 sequences of a certain length get removed)\n",
    "- search for occurences of UNIMOD modifications and add them to the vocabulary\n",
    "- generate continous sequence encoding // first layer - embedding layer\n",
    "- generate precursor_charge one-hot encoding"
   ]
  },
  {
   "cell_type": "markdown",
   "metadata": {},
   "source": [
    "### Preprocessing functions"
   ]
  },
  {
   "cell_type": "code",
   "execution_count": 3,
   "metadata": {},
   "outputs": [],
   "source": [
    "'''\n",
    "Combine files into one dataframe and keep only desired columns\n",
    "Default: \n",
    "- dir_path = 'data/'\n",
    "- file_type = '.parquet'\n",
    "Default: drop everything except: modified_sequence, precursor_charge and precursor_intensity\n",
    "- columns_to_keep = ['modified_sequence','precursor_charge','precursor_intensity']\n",
    "'''\n",
    "def combine_parquet_into_df(dir_path='data/', file_type='.parquet', columns_to_keep=['modified_sequence','precursor_charge','precursor_intensity']):\n",
    "    dfs = [] \n",
    "    for file in os.listdir(dir_path):\n",
    "        if file.endswith(file_type):\n",
    "            file_path = os.path.join(dir_path, file)\n",
    "            df = pd.read_parquet(file_path, engine='fastparquet')\n",
    "            df = df[columns_to_keep]\n",
    "            dfs.append(df)\n",
    "\n",
    "    df = pd.concat(dfs, ignore_index=True)\n",
    "    return df"
   ]
  },
  {
   "cell_type": "code",
   "execution_count": 4,
   "metadata": {},
   "outputs": [],
   "source": [
    "'''\n",
    "Drop all rows with NaN values in a specific column\n",
    "Default: drop na from precursor_intensity column\n",
    "'''\n",
    "def drop_na(df, column='precursor_intensity'):\n",
    "    df = df[df[column].notna()]\n",
    "    return df"
   ]
  },
  {
   "cell_type": "code",
   "execution_count": 5,
   "metadata": {},
   "outputs": [],
   "source": [
    "'''\n",
    "Keep only desired charge entires\n",
    "Default: keep charges 1-6\n",
    "'''\n",
    "def keep_desired_charges(df, charge_list=[1, 2, 3, 4, 5, 6]):\n",
    "    df = df[df['precursor_charge'].isin(charge_list)]\n",
    "    return df"
   ]
  },
  {
   "cell_type": "code",
   "execution_count": 6,
   "metadata": {},
   "outputs": [],
   "source": [
    "'''\n",
    "Find all UNIMOD annotations and add them to the vocabulary\n",
    "(The length of the vocabulary +1 is used later for the embedding layer)\n",
    "'''\n",
    "def complete_vocabulary(df):\n",
    "    \"\"\"\n",
    "    Completes the vocabulary with all the possible amino acids and modifications\n",
    "    :return: list\n",
    "    \"\"\"\n",
    "    vocabulary = []\n",
    "    vocabulary+=list('XACDEFGHIKLMNPQRSTVWY')\n",
    "    annotations = re.findall(r'(\\w\\[UNIMOD:\\d+\\])', ' '.join(df['modified_sequence']))\n",
    "    for item in annotations:\n",
    "        if item not in vocabulary:\n",
    "                vocabulary.append(item)\n",
    "    vocab_len = len(vocabulary)\n",
    "    return vocabulary, vocab_len"
   ]
  },
  {
   "cell_type": "code",
   "execution_count": 7,
   "metadata": {},
   "outputs": [],
   "source": [
    "'''\n",
    "Combine unique sequences and aggregate their precursor_charges and intensity in order to later select the most abundant charge state per sequence.\n",
    "'''\n",
    "def aggregate_sequences(df):\n",
    "    df = df.groupby(\"modified_sequence\")[[\"precursor_charge\", \"precursor_intensity\"]].agg(list).reset_index()\n",
    "    return df"
   ]
  },
  {
   "cell_type": "code",
   "execution_count": null,
   "metadata": {},
   "outputs": [],
   "source": [
    "'''\n",
    "Generate overview plot for precursor_charge distribution in combined dataset\n",
    "'''\n",
    "def precursor_charge_distribution_plot(df):\n",
    "    # plot the distirbution of precursor_charge for the whole dataset\n",
    "    # add percentage of each charge state to the plot\n",
    "    sns.set_theme(style=\"darkgrid\")\n",
    "    sns.set_context(\"paper\")\n",
    "    ax = sns.countplot(x='precursor_charge', data=df, palette=\"viridis\")\n",
    "    # add title and axis labels\n",
    "    plt.xlabel('Precursor Charge')\n",
    "    plt.ylabel('Count')\n",
    "    plt.title('Distribution of Precursor Charge')\n",
    "    # add percentage of each charge state to the plot\n",
    "    total = len(df['precursor_charge'])\n",
    "    for p in ax.patches:\n",
    "        percentage = '{:.1f}%'.format(100 * p.get_height()/total)\n",
    "        x = p.get_x() + p.get_width() / 2 - 0.05\n",
    "        y = p.get_y() + p.get_height() + 5\n",
    "        ax.annotate(percentage, (x, y))\n",
    "    plt.show()"
   ]
  },
  {
   "cell_type": "code",
   "execution_count": 8,
   "metadata": {},
   "outputs": [],
   "source": [
    "# TODO\n",
    "def normalize_for_most_abundant(df_charge_list, df_intensity_list):\n",
    "    # Get the index of the most abundant precursor intensity\n",
    "    charge_dict = dict()\n",
    "    for index, i in enumerate(df_charge_list):\n",
    "        charge_dict[i] = []\n",
    "        charge_dict[i].append(df_intensity_list[index])\n",
    "\n",
    "    # Normalize the precursor intensity based on the most abundant precursor intensity\n",
    "    for key, value in charge_dict.items():\n",
    "        if len(value) > 1:\n",
    "            charge_dict[key] = sum(value) - min(value) / (max(value) - min(value))\n",
    "\n",
    "    # convert list of one float to float values\n",
    "    charge_dict = {key: value[0] for key, value in charge_dict.items()}\n",
    "\n",
    "    return charge_dict"
   ]
  },
  {
   "cell_type": "code",
   "execution_count": 9,
   "metadata": {},
   "outputs": [],
   "source": [
    "# TODO\n",
    "'''\n",
    "Select most abundand charge state per unique sequence according to the normalized precursor intensity\n",
    "'''\n",
    "def get_most_abundant(df_charge_list, df_intensity_list, distributions=False):\n",
    "    # Get the index of the most abundant precursor intensity\n",
    "    charge_dict = dict()\n",
    "    for index, i in enumerate(df_charge_list):\n",
    "        if i not in charge_dict:\n",
    "            charge_dict[i] = df_intensity_list[index]\n",
    "        else:\n",
    "            charge_dict[i] += df_intensity_list[index]\n",
    "    if distributions:\n",
    "        return charge_dict\n",
    "    else:\n",
    "        return max(charge_dict, key=charge_dict.get)"
   ]
  },
  {
   "cell_type": "code",
   "execution_count": 10,
   "metadata": {},
   "outputs": [],
   "source": [
    "# TODO \n",
    "'''\n",
    "One-Hot encode most abundand charge state\n",
    "'''\n",
    "def one_hot_encode_charge_states():\n",
    "    pass"
   ]
  },
  {
   "cell_type": "code",
   "execution_count": 11,
   "metadata": {},
   "outputs": [],
   "source": [
    "# TODO \n",
    "'''\n",
    "Encode all occuring charge states per unique sequence in a binary vector\n",
    "'''\n",
    "def encode_charge_states():\n",
    "    pass"
   ]
  },
  {
   "cell_type": "code",
   "execution_count": 12,
   "metadata": {},
   "outputs": [],
   "source": [
    "# TODO \n",
    "'''\n",
    "Filter Sequences 'skipping a charge' eg [1,1,0,1,0,0]\n",
    "'''\n",
    "def filter_skipped_charges():\n",
    "    pass"
   ]
  },
  {
   "cell_type": "code",
   "execution_count": 13,
   "metadata": {},
   "outputs": [],
   "source": [
    "'''\n",
    "Find the maximum sequence length in the dataset\n",
    "'''\n",
    "max_seq_len = 0 \n",
    "\n",
    "def find_max_seq_len(df):\n",
    "    max_seq_len = 0\n",
    "    if max_seq_len < df['modified_sequence'].str.len().max():\n",
    "        max_seq_len = df['modified_sequence'].str.len().max()\n",
    "    return max_seq_len"
   ]
  },
  {
   "cell_type": "code",
   "execution_count": 14,
   "metadata": {},
   "outputs": [],
   "source": [
    "# TODO\n",
    "'''\n",
    "Define sequence length cutoff. \n",
    "Remove sequences of a certain length if there aren't enough of them (at least k)\n",
    "'''\n",
    "def seq_len_cutoff(df, k):\n",
    "    df['seq_len_prepadding'] = df['modified_sequence'].apply(lambda x: len(x))\n",
    "    len_counts = df['seq_len_prepadding'].value_counts()\n",
    "    "
   ]
  },
  {
   "cell_type": "code",
   "execution_count": 15,
   "metadata": {},
   "outputs": [],
   "source": [
    "# TODO\n",
    "'''\n",
    "Encode modified_sequence column into a vector of integers\n",
    "'''\n",
    "vocabulary = []\n",
    "vocabulary+=list('XACDEFGHIKLMNPQRSTVWY')\n",
    "max_len_seq = 10\n",
    "\n",
    "def seq_translator(sequence, dictionary=vocabulary, max_len=max_len_seq, print_result=False):\n",
    "    \"\"\"\n",
    "    Translates a sequence into a vector of integers\n",
    "    :param print_result:\n",
    "    :param max_len:\n",
    "    :param sequence: string\n",
    "    :param dictionary: dictionary\n",
    "    :return: list\n",
    "    \"\"\"\n",
    "    pattern = r'[A-Z]\\[[^\\]]*\\]|.' # regex pattern to match amino acids and modifications\n",
    "    #pattern = r'(\\w\\[UNIMOD:\\d+\\])' # regex pattern to match amino acids and modifications\n",
    "\n",
    "    result = [match for match in re.findall(pattern, sequence)]\n",
    "\n",
    "    # Fill the list with \"X\" characters until it reaches a length of 40\n",
    "    result += ['X'] * (max_len - len(result))\n",
    "    if print_result:\n",
    "        print(result)\n",
    "\n",
    "    aa_dictionary = dict()\n",
    "    for index, aa in enumerate(dictionary):\n",
    "        aa_dictionary[aa] = index\n",
    "\n",
    "    return [aa_dictionary[aa] for aa in result]\n",
    "\n",
    "\n",
    "\n",
    "def modified_sequence_encoder(max_len=max_len_seq):\n",
    "    \"\"\"\n",
    "    Encodes the modified_sequence column into a vector of integers\n",
    "    :return: list\n",
    "    \"\"\"\n",
    "    max_len_seq = max([len(seq) for seq in df['modified_sequence']])\n",
    "    return [seq_translator(seq) for seq in df['modified_sequence']]"
   ]
  },
  {
   "cell_type": "markdown",
   "metadata": {
    "collapsed": false
   },
   "source": [
    "## Preprocessing"
   ]
  },
  {
   "cell_type": "code",
   "execution_count": 16,
   "metadata": {
    "ExecuteTime": {
     "end_time": "2023-08-03T07:47:14.169790500Z",
     "start_time": "2023-08-03T07:47:13.878881100Z"
    },
    "collapsed": false
   },
   "outputs": [],
   "source": [
    "dir_path = 'data/'\n",
    "file_type = '.parquet'\n",
    "max_seq_len = 0"
   ]
  },
  {
   "cell_type": "code",
   "execution_count": 17,
   "metadata": {},
   "outputs": [],
   "source": [
    "df = combine_parquet_into_df(dir_path, file_type)"
   ]
  },
  {
   "cell_type": "code",
   "execution_count": 18,
   "metadata": {},
   "outputs": [],
   "source": [
    "df = drop_na(df, 'precursor_intensity')"
   ]
  },
  {
   "cell_type": "code",
   "execution_count": 19,
   "metadata": {},
   "outputs": [],
   "source": [
    "df = keep_desired_charges(df)"
   ]
  },
  {
   "cell_type": "code",
   "execution_count": 35,
   "metadata": {},
   "outputs": [
    {
     "data": {
      "image/png": "[encoded data removed]",
      "text/plain": [
       "<Figure size 640x480 with 1 Axes>"
      ]
     },
     "metadata": {},
     "output_type": "display_data"
    }
   ],
   "source": [
    "precursor_charge_distribution_plot(df)"
   ]
  },
  {
   "cell_type": "markdown",
   "metadata": {},
   "source": [
    "### Accuracies to beat:\n",
    "- Single charge accuraccy needs to be >62,9%\n",
    "- TopK (k=2) accuracy needs to be >90,7%"
   ]
  },
  {
   "cell_type": "code",
   "execution_count": 21,
   "metadata": {},
   "outputs": [],
   "source": [
    "vocabulary, voc_len = complete_vocabulary(df)"
   ]
  },
  {
   "cell_type": "code",
   "execution_count": 22,
   "metadata": {},
   "outputs": [],
   "source": [
    "df = aggregate_sequences(df)"
   ]
  },
  {
   "cell_type": "code",
   "execution_count": 23,
   "metadata": {},
   "outputs": [
    {
     "data": {
      "text/html": [
       "<div>\n",
       "<style scoped>\n",
       "    .dataframe tbody tr th:only-of-type {\n",
       "        vertical-align: middle;\n",
       "    }\n",
       "\n",
       "    .dataframe tbody tr th {\n",
       "        vertical-align: top;\n",
       "    }\n",
       "\n",
       "    .dataframe thead th {\n",
       "        text-align: right;\n",
       "    }\n",
       "</style>\n",
       "<table border=\"1\" class=\"dataframe\">\n",
       "  <thead>\n",
       "    <tr style=\"text-align: right;\">\n",
       "      <th></th>\n",
       "      <th>modified_sequence</th>\n",
       "      <th>precursor_charge</th>\n",
       "      <th>precursor_intensity</th>\n",
       "    </tr>\n",
       "  </thead>\n",
       "  <tbody>\n",
       "    <tr>\n",
       "      <th>0</th>\n",
       "      <td>AAAAAAAAAAAAAAAAGLGLGP</td>\n",
       "      <td>[2, 3, 2, 1, 1, 2, 2, 2, 2, 2, 2, 3, 3, 3, 3, ...</td>\n",
       "      <td>[12746190.0, 2009914.0, 12746190.0, 791369.9, ...</td>\n",
       "    </tr>\n",
       "    <tr>\n",
       "      <th>1</th>\n",
       "      <td>AAAAAAAAAAAAAAAASAGGK</td>\n",
       "      <td>[2, 2, 2, 2, 2, 2, 2, 2, 2, 2, 2, 2, 2, 2, 2]</td>\n",
       "      <td>[5944787.0, 5944787.0, 8502878.0, 6425294.0, 8...</td>\n",
       "    </tr>\n",
       "    <tr>\n",
       "      <th>2</th>\n",
       "      <td>AAAAAAAAAAAAAAAGAGAGAK</td>\n",
       "      <td>[2, 2, 2, 2]</td>\n",
       "      <td>[3067981.0, 3067981.0, 3067981.0, 3067981.0]</td>\n",
       "    </tr>\n",
       "    <tr>\n",
       "      <th>3</th>\n",
       "      <td>AAAAAAAAAAAAAAASGFAYPGTSER</td>\n",
       "      <td>[2, 2, 2, 2, 2, 2, 2, 2, 2, 2, 2, 2, 2, 2, 2, ...</td>\n",
       "      <td>[11913300.0, 11913300.0, 11913300.0, 11913300....</td>\n",
       "    </tr>\n",
       "    <tr>\n",
       "      <th>4</th>\n",
       "      <td>AAAAAAAAAAAAAAG</td>\n",
       "      <td>[1, 1, 1, 1, 1, 1, 1, 1, 1, 1, 1, 1, 1, 1, 1, ...</td>\n",
       "      <td>[1573785.0, 4638296.0, 7934979.0, 2019978.0, 4...</td>\n",
       "    </tr>\n",
       "  </tbody>\n",
       "</table>\n",
       "</div>"
      ],
      "text/plain": [
       "            modified_sequence  \\\n",
       "0      AAAAAAAAAAAAAAAAGLGLGP   \n",
       "1       AAAAAAAAAAAAAAAASAGGK   \n",
       "2      AAAAAAAAAAAAAAAGAGAGAK   \n",
       "3  AAAAAAAAAAAAAAASGFAYPGTSER   \n",
       "4             AAAAAAAAAAAAAAG   \n",
       "\n",
       "                                    precursor_charge  \\\n",
       "0  [2, 3, 2, 1, 1, 2, 2, 2, 2, 2, 2, 3, 3, 3, 3, ...   \n",
       "1      [2, 2, 2, 2, 2, 2, 2, 2, 2, 2, 2, 2, 2, 2, 2]   \n",
       "2                                       [2, 2, 2, 2]   \n",
       "3  [2, 2, 2, 2, 2, 2, 2, 2, 2, 2, 2, 2, 2, 2, 2, ...   \n",
       "4  [1, 1, 1, 1, 1, 1, 1, 1, 1, 1, 1, 1, 1, 1, 1, ...   \n",
       "\n",
       "                                 precursor_intensity  \n",
       "0  [12746190.0, 2009914.0, 12746190.0, 791369.9, ...  \n",
       "1  [5944787.0, 5944787.0, 8502878.0, 6425294.0, 8...  \n",
       "2       [3067981.0, 3067981.0, 3067981.0, 3067981.0]  \n",
       "3  [11913300.0, 11913300.0, 11913300.0, 11913300....  \n",
       "4  [1573785.0, 4638296.0, 7934979.0, 2019978.0, 4...  "
      ]
     },
     "execution_count": 23,
     "metadata": {},
     "output_type": "execute_result"
    }
   ],
   "source": [
    "df.head()"
   ]
  },
  {
   "cell_type": "markdown",
   "metadata": {},
   "source": [
    "## Ziel sind Funktionen die jeweils den df nehmen und wieder einen df ausspucken so dass man am ende keine einzelnen Code-Abschnitte mehr im Ablauf hat und evtl für multiclass und multilable nur den ablauf an funktionen ändern muss"
   ]
  },
  {
   "cell_type": "code",
   "execution_count": null,
   "metadata": {},
   "outputs": [],
   "source": [
    "# TODO: rewrite normalization and finding of most abundant charge state into a function taking df and returning df\n",
    "# df = find_most_abundant_charge(df)"
   ]
  },
  {
   "cell_type": "code",
   "execution_count": null,
   "metadata": {},
   "outputs": [],
   "source": [
    "# TODO: write function to one hot encode most abunant charge state in df"
   ]
  },
  {
   "cell_type": "code",
   "execution_count": 35,
   "metadata": {},
   "outputs": [],
   "source": [
    "# TODO: filter sequence lengths with too little representation and take longest sequence with still enough representation as padding length\n",
    "\n",
    "max_seq_len = find_max_seq_len(df)"
   ]
  },
  {
   "cell_type": "code",
   "execution_count": 18,
   "metadata": {},
   "outputs": [],
   "source": [
    "# TODO: encode modified sequence wth padding to previously determined max_seq_len\n",
    "\n",
    "# df = modified_sequence_encoder(df['modified_sequence'], max_seq_len, 'modified_sequence_vector')"
   ]
  },
  {
   "cell_type": "code",
   "execution_count": null,
   "metadata": {},
   "outputs": [],
   "source": [
    "# TODO: "
   ]
  },
  {
   "cell_type": "markdown",
   "metadata": {
    "collapsed": false
   },
   "source": [
    "# Models\n",
    "\n",
    "General idea:\n",
    "Input: mod_seq_encoded, precursor_charge // precursor_charge_onehot\n",
    "Output: 5 nodes --> highest value == most probable charge for input sequence\n",
    "Use: Softmax, Crossentropy loss\n",
    "\n",
    "stratified split:\n",
    "- PROSITE\n",
    "- CCE\n",
    "- SCCE // ?\n",
    "\n",
    "evaluate models by:\n",
    "- categorical accuracy\n",
    "- f1 score // ?"
   ]
  },
  {
   "cell_type": "markdown",
   "metadata": {
    "collapsed": false
   },
   "source": [
    "#### Stratified split for all models\n",
    "Split into train_val and test by unique sequence \n",
    "\n",
    "Split into train and val via stratified split"
   ]
  },
  {
   "cell_type": "code",
   "execution_count": 41,
   "metadata": {
    "ExecuteTime": {
     "end_time": "2023-08-03T07:47:14.182800300Z",
     "start_time": "2023-08-03T07:47:13.961537600Z"
    },
    "collapsed": false
   },
   "outputs": [],
   "source": [
    "# Create an instance of StratifiedShuffleSplit\n",
    "sss = StratifiedShuffleSplit(n_splits=1, test_size=0.2, random_state=42)"
   ]
  },
  {
   "cell_type": "markdown",
   "metadata": {
    "collapsed": false
   },
   "source": [
    "#### CCE"
   ]
  },
  {
   "cell_type": "code",
   "execution_count": 46,
   "metadata": {
    "ExecuteTime": {
     "end_time": "2023-08-03T07:47:14.214061900Z",
     "start_time": "2023-08-03T07:47:13.999851Z"
    },
    "collapsed": false
   },
   "outputs": [],
   "source": [
    "from keras import Sequential, Model\n",
    "from keras.layers import Embedding, Flatten, Dense, Input\n",
    "\n",
    "inputA_embed = Input(shape=train_ds_embed[0].shape)\n",
    "x = Model(inputs=inputA_embed, outputs=inputA_embed)\n",
    "y = Embedding(input_dim=voc_len, output_dim=max_len_seq, input_length=max_len_seq)(inputA_embed)\n",
    "y = Flatten()(y)\n",
    "y = Dense(max_len_seq, activation=\"relu\")(y)\n",
    "z = Dense(num_classes, activation=\"softmax\")(y)\n",
    "multiclass_model = Model(inputs=[x.input], outputs=z)"
   ]
  },
  {
   "cell_type": "code",
   "execution_count": null,
   "metadata": {},
   "outputs": [],
   "source": [
    "multiclass_model.summary()"
   ]
  },
  {
   "cell_type": "code",
   "execution_count": null,
   "metadata": {},
   "outputs": [],
   "source": [
    "tf.keras.utils.plot_model(multiclass_model, show_shapes=True, show_layer_names=True)"
   ]
  },
  {
   "cell_type": "code",
   "execution_count": null,
   "metadata": {},
   "outputs": [],
   "source": [
    "# Define callbacks for multiclass model\n",
    "checkpoint_callback_multiclass_model = ModelCheckpoint('checkpoints/multiclass_model.h5', monitor='val_accuracy', save_best_only=True, mode='max')\n",
    "\n",
    "# Define early stopping\n",
    "early_stopping_multiclass_model = tf.keras.callbacks.EarlyStopping(monitor='val_loss', patience=10)\n",
    "\n",
    "# Compile the model\n",
    "multiclass_model.compile(loss=tf.keras.losses.CategoricalCrossentropy(), optimizer=keras.optimizers.Adam(learning_rate=0.0001), metrics=['categorical_accuracy'])"
   ]
  },
  {
   "cell_type": "code",
   "execution_count": null,
   "metadata": {},
   "outputs": [],
   "source": [
    "# training with stratified split\n",
    "# save history of model training\n",
    "history_multiclass_model = multiclass_model.fit(train_ds_embed, train_labels_embed, epochs=30, batch_size=4096, validation_data=(val_ds_embed, val_labels_embed), callbacks=[checkpoint_callback_embed, early_stopping_embed, WandbCallback()])"
   ]
  },
  {
   "cell_type": "markdown",
   "metadata": {},
   "source": [
    "### Anaylsis / Plots etc."
   ]
  },
  {
   "cell_type": "code",
   "execution_count": 49,
   "metadata": {
    "ExecuteTime": {
     "end_time": "2023-08-03T07:47:14.214061900Z",
     "start_time": "2023-08-03T07:47:14.016572400Z"
    },
    "collapsed": false
   },
   "outputs": [],
   "source": [
    "# eval"
   ]
  },
  {
   "cell_type": "markdown",
   "metadata": {},
   "source": [
    "## Postprocessing"
   ]
  },
  {
   "cell_type": "markdown",
   "metadata": {},
   "source": []
  },
  {
   "cell_type": "code",
   "execution_count": 35,
   "metadata": {},
   "outputs": [
    {
     "name": "stdout",
     "output_type": "stream",
     "text": [
      "The predicted charge state for the input sequence is 3 [53.0%].\n",
      "Prediction percentages for other states:\n",
      "Charge state 1: 0.0%\n",
      "Charge state 2: 30.0%\n",
      "Charge state 4: 17.0%\n",
      "Charge state 5: 0.0%\n",
      "Charge state 6: 0.0%\n",
      "\n"
     ]
    }
   ],
   "source": [
    "def generate_charge_prediction_text(charge_predictions):\n",
    "    max_charge_index = np.argmax(charge_predictions)\n",
    "    max_charge_value = round(charge_predictions[max_charge_index], 2)\n",
    "\n",
    "    charge_text = f\"The predicted charge state for the input sequence is {max_charge_index+1} [{round(max_charge_value*100,2)}%].\"\n",
    "    percentage_text = \"Prediction percentages for other states:\\n\"\n",
    "\n",
    "    for index, prediction in enumerate(charge_predictions):\n",
    "        if index != max_charge_index:\n",
    "            percentage = round(prediction * 100, 2)\n",
    "            percentage_text += f\"Charge state {index+1}: {percentage}%\\n\"\n",
    "\n",
    "    full_text = charge_text + \"\\n\" + percentage_text\n",
    "    return full_text\n",
    "\n",
    "\n",
    "# Beispiel\n",
    "charge_predictions = np.array([0, 0.3, 0.53, 0.17, 0, 0])\n",
    "output_text = generate_charge_prediction_text(charge_predictions)\n",
    "print(output_text)"
   ]
  },
  {
   "cell_type": "code",
   "execution_count": null,
   "metadata": {},
   "outputs": [],
   "source": []
  }
 ],
 "metadata": {
  "kernelspec": {
   "display_name": "Python 3",
   "language": "python",
   "name": "python3"
  },
  "language_info": {
   "codemirror_mode": {
    "name": "ipython",
    "version": 3
   },
   "file_extension": ".py",
   "mimetype": "text/x-python",
   "name": "python",
   "nbconvert_exporter": "python",
   "pygments_lexer": "ipython3",
   "version": "3.10.12"
  }
 },
 "nbformat": 4,
 "nbformat_minor": 0
}

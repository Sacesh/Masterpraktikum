{
 "cells": [
  {
   "cell_type": "markdown",
   "metadata": {
    "collapsed": false
   },
   "source": [
    "### Setup"
   ]
  },
  {
   "cell_type": "code",
   "execution_count": 94,
   "metadata": {
    "ExecuteTime": {
     "end_time": "2023-09-12T08:19:24.238093300Z",
     "start_time": "2023-09-12T08:19:24.090221700Z"
    },
    "collapsed": false
   },
   "outputs": [],
   "source": [
    "import re\n",
    "import os\n",
    "import random\n",
    "import numpy as np\n",
    "import pandas as pd\n",
    "import tensorflow as tf\n",
    "import matplotlib.pyplot as plt\n",
    "from sklearn.model_selection import train_test_split\n",
    "from tensorflow.keras.callbacks import ModelCheckpoint\n",
    "from sklearn.utils import class_weight\n",
    "from sklearn.model_selection import StratifiedShuffleSplit\n",
    "from sklearn.metrics import confusion_matrix, classification_report\n",
    "import seaborn as sns\n",
    "import wandb\n",
    "from wandb.keras import WandbCallback"
   ]
  },
  {
   "cell_type": "markdown",
   "metadata": {
    "collapsed": false
   },
   "source": [
    "### Data preprocessing\n",
    "- remove all columns except: 'modified_sequence', 'precursor_charge', 'precursor_intensity'\n",
    "- filter out unwanted charge states\n",
    "- filter for most abundant charge state per sequence by precursor_intensity after normalizing the values\n",
    "- filter sequence length according to occurance in dataset (currently less than 100 sequences of a certain length get removed)\n",
    "- search for occurences of UNIMOD modifications and add them to the vocabulary\n",
    "- generate continous sequence encoding // first layer - embedding layer\n",
    "- generate precursor_charge one-hot encoding"
   ]
  },
  {
   "cell_type": "markdown",
   "metadata": {},
   "source": [
    "### Preprocessing functions"
   ]
  },
  {
   "cell_type": "code",
   "execution_count": 95,
   "metadata": {
    "ExecuteTime": {
     "end_time": "2023-09-12T08:19:26.321996Z",
     "start_time": "2023-09-12T08:19:24.101542200Z"
    }
   },
   "outputs": [],
   "source": [
    "'''\n",
    "Combine files into one dataframe and keep only desired columns\n",
    "Default: \n",
    "- dir_path = 'data/'\n",
    "- file_type = '.parquet'\n",
    "Default: drop everything except: modified_sequence, precursor_charge and precursor_intensity\n",
    "- columns_to_keep = ['modified_sequence','precursor_charge','precursor_intensity']\n",
    "'''\n",
    "def combine_parquet_into_df(dir_path='data/', file_type='.parquet', columns_to_keep=['modified_sequence','precursor_charge','precursor_intensity']):\n",
    "    dfs = [] \n",
    "    for file in os.listdir(dir_path):\n",
    "        if file.endswith(file_type):\n",
    "            file_path = os.path.join(dir_path, file)\n",
    "            df = pd.read_parquet(file_path, engine='fastparquet')\n",
    "            df = df[columns_to_keep]\n",
    "            dfs.append(df)\n",
    "\n",
    "    df = pd.concat(dfs, ignore_index=True)\n",
    "    return df"
   ]
  },
  {
   "cell_type": "code",
   "execution_count": 96,
   "metadata": {
    "ExecuteTime": {
     "end_time": "2023-09-12T08:19:26.955309400Z",
     "start_time": "2023-09-12T08:19:24.107054500Z"
    }
   },
   "outputs": [],
   "source": [
    "'''\n",
    "Drop all rows with NaN values in a specific column\n",
    "Default: drop na from precursor_intensity column\n",
    "'''\n",
    "def drop_na(df, column='precursor_intensity'):\n",
    "    df = df[df[column].notna()]\n",
    "    return df"
   ]
  },
  {
   "cell_type": "code",
   "execution_count": 97,
   "metadata": {
    "ExecuteTime": {
     "end_time": "2023-09-12T08:19:27.087578800Z",
     "start_time": "2023-09-12T08:19:24.112909700Z"
    }
   },
   "outputs": [],
   "source": [
    "'''\n",
    "Keep only desired charge entires\n",
    "Default: keep charges 1-6\n",
    "'''\n",
    "def keep_desired_charges(df, charge_list=[1, 2, 3, 4, 5, 6]):\n",
    "    df = df[df['precursor_charge'].isin(charge_list)]\n",
    "    return df"
   ]
  },
  {
   "cell_type": "code",
   "execution_count": 98,
   "metadata": {
    "ExecuteTime": {
     "end_time": "2023-09-12T08:19:27.088589500Z",
     "start_time": "2023-09-12T08:19:24.121421100Z"
    }
   },
   "outputs": [],
   "source": [
    "'''\n",
    "Find all UNIMOD annotations and add them to the vocabulary\n",
    "(The length of the vocabulary +1 is used later for the embedding layer)\n",
    "'''\n",
    "def complete_vocabulary(df):\n",
    "    \"\"\"\n",
    "    Completes the vocabulary with all the possible amino acids and modifications\n",
    "    :return: list\n",
    "    \"\"\"\n",
    "    vocabulary = []\n",
    "    vocabulary+=list('XACDEFGHIKLMNPQRSTVWY')\n",
    "    annotations = re.findall(r'(\\w\\[UNIMOD:\\d+\\])', ' '.join(df['modified_sequence']))\n",
    "    for item in annotations:\n",
    "        if item not in vocabulary:\n",
    "                vocabulary.append(item)\n",
    "    vocab_len = len(vocabulary)\n",
    "    return vocabulary, vocab_len"
   ]
  },
  {
   "cell_type": "code",
   "execution_count": 99,
   "metadata": {
    "ExecuteTime": {
     "end_time": "2023-09-12T08:19:27.125923600Z",
     "start_time": "2023-09-12T08:19:24.128055500Z"
    }
   },
   "outputs": [],
   "source": [
    "'''\n",
    "Combine unique sequences and aggregate their precursor_charges and intensity in order to later select the most abundant charge state per sequence.\n",
    "'''\n",
    "def aggregate_sequences(df):\n",
    "    df = df.groupby(\"modified_sequence\")[[\"precursor_charge\", \"precursor_intensity\"]].agg(list).reset_index()\n",
    "    return df"
   ]
  },
  {
   "cell_type": "code",
   "execution_count": 100,
   "metadata": {
    "ExecuteTime": {
     "end_time": "2023-09-12T08:19:27.130436300Z",
     "start_time": "2023-09-12T08:19:24.134656400Z"
    }
   },
   "outputs": [],
   "source": [
    "# TODO: description\n",
    "'''\n",
    "Normalize precursor intensities for aggregated sequences\n",
    "'''\n",
    "def normalize_precursor_intensities(df_charge_list, df_intensity_list):\n",
    "    # Get the index of the most abundant precursor intensity\n",
    "    charge_dict = dict()\n",
    "    for index, i in enumerate(df_charge_list):\n",
    "        charge_dict[i] = []\n",
    "        charge_dict[i].append(df_intensity_list[index])\n",
    "\n",
    "    # Normalize the precursor intensity based on the most abundant precursor intensity\n",
    "    for key, value in charge_dict.items():\n",
    "        if len(value) > 1:\n",
    "            charge_dict[key] = sum(value) - min(value) / (max(value) - min(value))\n",
    "\n",
    "    # convert list of one float to float values\n",
    "    charge_dict = {key: value[0] for key, value in charge_dict.items()}\n",
    "\n",
    "    return charge_dict"
   ]
  },
  {
   "cell_type": "code",
   "execution_count": 101,
   "metadata": {
    "ExecuteTime": {
     "end_time": "2023-09-12T08:19:27.131444200Z",
     "start_time": "2023-09-12T08:19:24.144268400Z"
    }
   },
   "outputs": [],
   "source": [
    "# TODO: description\n",
    "'''\n",
    "Select most abundand charge state per unique sequence according to the normalized precursor intensity\n",
    "'''\n",
    "def get_most_abundant(df_charge_list, df_intensity_list, distributions=False):\n",
    "    charge_dict = dict()\n",
    "    for index, i in enumerate(df_charge_list):\n",
    "        if i not in charge_dict:\n",
    "            charge_dict[i] = df_intensity_list[index]\n",
    "        else:\n",
    "            charge_dict[i] += df_intensity_list[index]\n",
    "    if distributions:\n",
    "        return charge_dict\n",
    "    else:\n",
    "        return max(charge_dict, key=charge_dict.get)"
   ]
  },
  {
   "cell_type": "code",
   "execution_count": 102,
   "metadata": {
    "ExecuteTime": {
     "end_time": "2023-09-12T08:19:27.132442800Z",
     "start_time": "2023-09-12T08:19:24.151554700Z"
    }
   },
   "outputs": [],
   "source": [
    "'''\n",
    "One-Hot encode most abundand charge state\n",
    "input: df with \"most_abundance_charge\" column\n",
    "output: new column \"most_abundant_charge_vector\" containing one-hot encoded vector\n",
    "'''\n",
    "def one_hot_encode_charge(df, charge_list=[1, 2, 3, 4, 5, 6]):\n",
    "    df['most_abundant_charge_vector'] = df['most_abundant_charge'].apply(lambda x: [1 if x == i else 0 for i in charge_list])\n",
    "    return df"
   ]
  },
  {
   "cell_type": "code",
   "execution_count": 103,
   "metadata": {
    "ExecuteTime": {
     "end_time": "2023-09-12T08:19:27.133436100Z",
     "start_time": "2023-09-12T08:19:24.161078200Z"
    }
   },
   "outputs": [],
   "source": [
    "# TODO: description\n",
    "'''\n",
    "Applying normalization, selecting most abundant charge state and one-hot encoding\n",
    "'''\n",
    "def normalize_and_select_most_abundant(df):\n",
    "    df['normalized'] = df.apply(lambda x: normalize_precursor_intensities(x[\"precursor_charge\"], x[\"precursor_intensity\"]), axis=1)\n",
    "    df['pre_normalization'] = df.apply(lambda x: get_most_abundant(x[\"precursor_charge\"], x[\"precursor_intensity\"], True), axis=1)\n",
    "    df['most_abundant_charge'] = df['normalized'].apply(lambda x: max(x, key=x.get))\n",
    "    df = one_hot_encode_charge(df)\n",
    "    return df"
   ]
  },
  {
   "cell_type": "code",
   "execution_count": 104,
   "metadata": {
    "ExecuteTime": {
     "end_time": "2023-09-12T08:19:27.133436100Z",
     "start_time": "2023-09-12T08:19:24.169309100Z"
    }
   },
   "outputs": [],
   "source": [
    "'''\n",
    "get topK charge states for each sequence according to the normalized precursor intensity\n",
    "\n",
    "input: df with \"normalized\" column\n",
    "output: new column \"topK_charge_states\" containing list of topK charge states\n",
    "\n",
    "default: k=2\n",
    "'''\n",
    "def get_topK_charge_states(df, k=2):\n",
    "    def get_topK(label_dict):\n",
    "        allowed_keys = list()\n",
    "        sorted_values = sorted(label_dict.values(), reverse=True)\n",
    "        for i in sorted_values:\n",
    "            for key, value in label_dict.items():\n",
    "                if i == value and len(allowed_keys) <= k-1:\n",
    "                    allowed_keys.append(key)\n",
    "        return allowed_keys\n",
    "\n",
    "    df[f'top_{k}_charge_states'] = df['normalized'].apply(get_topK)\n",
    "    return df"
   ]
  },
  {
   "cell_type": "code",
   "execution_count": 105,
   "metadata": {
    "ExecuteTime": {
     "end_time": "2023-09-12T08:19:27.133436100Z",
     "start_time": "2023-09-12T08:19:24.175156300Z"
    }
   },
   "outputs": [],
   "source": [
    "'''\n",
    "Remove sequences of specific length represented less than a certain number of times\n",
    "\n",
    "input: df containig \"modified_sequence\" column, representation_threshold\n",
    "output: \n",
    "- df containing only sequence legths represented more than representation_threshold times\n",
    "- padding_length\n",
    "default: representation_threshold = 100\n",
    "\n",
    "Calculate the sequence lengths and their counts\n",
    "Filter out sequences with counts below the threshold\n",
    "Filter the original DataFrame based on sequence length\n",
    "Drop the temporary column\n",
    "'''\n",
    "def remove_rare_sequence_lengths(df, representation_threshold=100):\n",
    "    before_len = len(df)\n",
    "    df['sequence_length_prepadding'] = df['modified_sequence'].apply(len)\n",
    "    len_counts = df['sequence_length_prepadding'].value_counts().reset_index()\n",
    "    len_counts.columns = ['seq_len', 'count']\n",
    "    filtered_lengths = len_counts[len_counts['count'] >= representation_threshold]['seq_len']\n",
    "    df = df[df['sequence_length_prepadding'].isin(filtered_lengths)].copy()\n",
    "    padding_length = df['sequence_length_prepadding'].max()\n",
    "    df = df[df['sequence_length_prepadding'].isin(filtered_lengths)]\n",
    "    after_len = len(df)\n",
    "    print(f\"Removed {before_len - after_len} of {before_len} seqquences\")\n",
    "    return df, padding_length"
   ]
  },
  {
   "cell_type": "code",
   "execution_count": 106,
   "metadata": {
    "ExecuteTime": {
     "end_time": "2023-09-12T08:19:27.146473500Z",
     "start_time": "2023-09-12T08:19:24.182513700Z"
    }
   },
   "outputs": [],
   "source": [
    "'''\n",
    "Encode all occuring charge states per unique sequence in a binary vector\n",
    "\n",
    "input: df containing \"precursor_charge\" column\n",
    "output: df containing an additional \"charge_state_vector\" column encoding all occuring charge states per unique sequence in a binary vector\n",
    "'''\n",
    "def encode_charge_states(df):\n",
    "    df['charge_state_vector'] = df['precursor_charge'].apply(lambda x: [1 if i in x else 0 for i in range(1,7)])\n",
    "    return df"
   ]
  },
  {
   "cell_type": "code",
   "execution_count": 155,
   "metadata": {
    "ExecuteTime": {
     "end_time": "2023-09-12T08:41:52.757902800Z",
     "start_time": "2023-09-12T08:41:52.679906100Z"
    },
    "collapsed": false
   },
   "outputs": [],
   "source": [
    "'''\n",
    "Checks if a vector contains only continous charge states e.g. [1,1,1,0,0,0]\n",
    "Flase if a vector contains skipped charges e.g. [1,0,0,0,0,1]\n",
    "\n",
    "input: charge_state_vector\n",
    "output: True if no charge state is skipped, False if a charge state is skipped\n",
    "'''\n",
    "def has_skipped_charges(charge_state_vector):\n",
    "    was_found = False\n",
    "    was_concluded = False\n",
    "    for i in charge_state_vector:\n",
    "        if i == 1 and not was_found:\n",
    "            was_found = True\n",
    "        if i == 0 and was_found:\n",
    "            was_concluded = True\n",
    "        if i == 1 and was_concluded:\n",
    "            return True\n",
    "    return False"
   ]
  },
  {
   "cell_type": "code",
   "execution_count": 107,
   "metadata": {
    "ExecuteTime": {
     "end_time": "2023-09-12T08:19:27.148989300Z",
     "start_time": "2023-09-12T08:19:24.191122900Z"
    }
   },
   "outputs": [
    {
     "name": "stdout",
     "output_type": "stream",
     "text": [
      "original df\n",
      "  charge_state_vector modified_sequence\n",
      "0  [1, 1, 0, 1, 0, 0]            AAAAAA\n",
      "1  [1, 0, 0, 1, 1, 0]            BBBBBB\n",
      "2  [1, 0, 0, 1, 0, 0]            CCCCCC\n",
      "3  [0, 1, 0, 0, 0, 0]            DDDDDD\n",
      "4  [1, 1, 0, 0, 0, 0]            EEEEEE\n",
      "5  [1, 0, 0, 0, 0, 1]            FFFFFF\n",
      "6  [0, 0, 0, 1, 0, 0]            GGGGGG\n",
      "-----------------------------------\n",
      "filtered df\n",
      "  charge_state_vector modified_sequence\n",
      "3  [0, 1, 0, 0, 0, 0]            DDDDDD\n",
      "4  [1, 1, 0, 0, 0, 0]            EEEEEE\n",
      "6  [0, 0, 0, 1, 0, 0]            GGGGGG\n"
     ]
    }
   ],
   "source": [
    "'''\n",
    "Filter out all sequences where has_skipped_charges() returns True\n",
    "\n",
    "input: df containing \"charge_state_vector\" column\n",
    "output: df containing only sequences where has_skipped_charges() returns False\n",
    "'''\n",
    "def filter_skipped_charges(df):\n",
    "    return df[df['charge_state_vector'].apply(lambda x: not has_skipped_charges(x))]"
   ]
  },
  {
   "cell_type": "code",
   "execution_count": 169,
   "metadata": {
    "ExecuteTime": {
     "end_time": "2023-09-12T08:59:29.665313100Z",
     "start_time": "2023-09-12T08:59:29.564964100Z"
    },
    "collapsed": false
   },
   "outputs": [],
   "source": [
    "'''\n",
    "Removes sequences with skipped charges that occur less than a certain number of times\n",
    "\n",
    "input: df containing \"charge_state_vector\" column, cutoff\n",
    "output: df containing only sequences with skipped charges that occur more than cutoff times\n",
    "default: cutoff = 1000\n",
    "'''\n",
    "def skip_charges_for_occurrences(df, cutoff = 1000):\n",
    "    list_k = []\n",
    "    list_v = []\n",
    "    drop_out_index = []\n",
    "    for index, i in enumerate(df['charge_state_vector'].value_counts()):\n",
    "        list_k.append(df['charge_state_vector'].value_counts().index[index])\n",
    "        list_v.append(i)\n",
    "        if  has_skipped_charges(df['charge_state_vector'].value_counts().index[index]) and list_v[index] < cutoff:\n",
    "            drop_out_index.append(index)\n",
    "            \n",
    "    drop_out_list = []\n",
    "    for i in drop_out_index:\n",
    "        drop_out_list.append(list_k[i])\n",
    "    df_out = df[~df['charge_state_vector'].isin(drop_out_list)]\n",
    "    print(f\"Removed {len(df) - len(df_out)} of {len(df)} seqquences\")\n",
    "    return df_out    \n"
   ]
  },
  {
   "cell_type": "code",
   "execution_count": 108,
   "metadata": {
    "ExecuteTime": {
     "end_time": "2023-09-12T08:19:27.149990Z",
     "start_time": "2023-09-12T08:19:24.204551900Z"
    }
   },
   "outputs": [],
   "source": [
    "\"\"\"\n",
    "Encodes the 'modified_sequence' column in a DataFrame and adds a new column 'modified_sequence_vector'.\n",
    "\n",
    "input: df containing \"modified_sequence\" column, vocabulary, padding_length\n",
    "output: df containing \"modified_sequence_vector\" column with padded and encoded sequences\n",
    "\n",
    "defaults: padding_length = 50\n",
    "\"\"\"\n",
    "def sequence_encoder(df, padding_length=50, vocabulary=None):\n",
    "    \n",
    "    if 'modified_sequence' not in df.columns:\n",
    "        raise ValueError(\"DataFrame must contain a 'modified_sequence' column.\")\n",
    "\n",
    "    aa_dictionary = {aa: index for index, aa in enumerate(vocabulary)}\n",
    "\n",
    "    def encode_sequence(sequence):\n",
    "        pattern = r'[A-Z]\\[[^\\]]*\\]|.'\n",
    "        result = [match for match in re.findall(pattern, sequence)]\n",
    "        result += ['X'] * (padding_length - len(result))\n",
    "        return [aa_dictionary.get(aa, aa_dictionary['X']) for aa in result]\n",
    "\n",
    "    df['modified_sequence_vector'] = df['modified_sequence'].apply(encode_sequence)\n",
    "    return df"
   ]
  },
  {
   "cell_type": "code",
   "execution_count": 109,
   "metadata": {
    "ExecuteTime": {
     "end_time": "2023-09-12T08:19:27.149990Z",
     "start_time": "2023-09-12T08:19:24.210769300Z"
    }
   },
   "outputs": [],
   "source": [
    "'''\n",
    "Generate overview plot for precursor_charge distribution in combined dataset\n",
    "'''\n",
    "def plot_most_abundant_charge_distribution(df):\n",
    "    # plot the distirbution of precursor_charge for the whole dataset\n",
    "    sns.set_theme(style=\"darkgrid\")\n",
    "    sns.set_context(\"paper\")\n",
    "    ax = sns.countplot(x='most_abundant_charge', data=df, palette=\"viridis\")\n",
    "    plt.xlabel('Precursor Charge')\n",
    "    plt.ylabel('Count')\n",
    "    plt.title('Distribution of Precursor Charge')\n",
    "    # add percentage of each charge state to the plot\n",
    "    total = len(df['most_abundant_charge'])\n",
    "    for p in ax.patches:\n",
    "        percentage = '{:.1f}%'.format(100 * p.get_height()/total)\n",
    "        x = p.get_x() + p.get_width() / 2 - 0.05\n",
    "        y = p.get_y() + p.get_height() + 5\n",
    "        ax.annotate(percentage, (x, y))\n",
    "    plt.show()"
   ]
  },
  {
   "cell_type": "code",
   "execution_count": 110,
   "metadata": {
    "ExecuteTime": {
     "end_time": "2023-09-12T08:19:27.149990Z",
     "start_time": "2023-09-12T08:19:24.220759100Z"
    }
   },
   "outputs": [],
   "source": [
    "def plot_topK_charge_distribution(df, column_name='top_2_charge_states'):\n",
    "    charge_state_counter = {\n",
    "        1: 0,\n",
    "        2: 0,\n",
    "        3: 0,\n",
    "        4: 0,\n",
    "        5: 0,\n",
    "        6: 0\n",
    "    }\n",
    "    \n",
    "    for row in df[column_name]:\n",
    "        for k in row:\n",
    "            charge_state_counter[k] = charge_state_counter[k] + 1\n",
    "    sns.set_theme(style=\"darkgrid\")\n",
    "    sns.set_context(\"paper\")\n",
    "    palette = sns.color_palette(\"viridis\", len(charge_state_counter))\n",
    "    plt.figure(figsize=(8, 6))\n",
    "    plt.bar(range(len(charge_state_counter)), list(charge_state_counter.values()), align='center', color=palette)\n",
    "    plt.xticks(range(len(charge_state_counter)), list(charge_state_counter.keys()))\n",
    "    plt.xlabel('Charge State')\n",
    "    plt.ylabel('Count')\n",
    "    plt.title('Charge State Distribution')\n",
    "    plt.tight_layout()\n",
    "    \n",
    "    total = len(df['most_abundant_charge'])\n",
    "    for p in plt.gca().patches:\n",
    "        height = p.get_height()\n",
    "        plt.gca().text(p.get_x() + p.get_width()/2., height + 3, '{:.1f}%'.format(height/total*100), ha='center', fontsize=12)\n",
    "    \n",
    "    plt.show()"
   ]
  },
  {
   "cell_type": "markdown",
   "metadata": {
    "collapsed": false
   },
   "source": [
    "## Preprocessing"
   ]
  },
  {
   "cell_type": "code",
   "execution_count": 111,
   "metadata": {
    "ExecuteTime": {
     "end_time": "2023-09-12T08:19:27.149990Z",
     "start_time": "2023-09-12T08:19:24.225488200Z"
    },
    "collapsed": false
   },
   "outputs": [],
   "source": [
    "dir_path = 'data/'\n",
    "file_type = '.parquet'"
   ]
  },
  {
   "cell_type": "code",
   "execution_count": 113,
   "metadata": {
    "ExecuteTime": {
     "end_time": "2023-09-12T08:20:13.496397200Z",
     "start_time": "2023-09-12T08:19:47.093105600Z"
    }
   },
   "outputs": [],
   "source": [
    "df = combine_parquet_into_df(dir_path, file_type)"
   ]
  },
  {
   "cell_type": "code",
   "execution_count": 114,
   "metadata": {
    "ExecuteTime": {
     "end_time": "2023-09-12T08:20:18.389967300Z",
     "start_time": "2023-09-12T08:20:13.496397200Z"
    }
   },
   "outputs": [],
   "source": [
    "df = drop_na(df, 'precursor_intensity')"
   ]
  },
  {
   "cell_type": "code",
   "execution_count": 115,
   "metadata": {
    "ExecuteTime": {
     "end_time": "2023-09-12T08:20:21.069087100Z",
     "start_time": "2023-09-12T08:20:18.390974700Z"
    }
   },
   "outputs": [],
   "source": [
    "df = keep_desired_charges(df)"
   ]
  },
  {
   "cell_type": "code",
   "execution_count": 116,
   "metadata": {
    "ExecuteTime": {
     "end_time": "2023-09-12T08:21:43.489565300Z",
     "start_time": "2023-09-12T08:20:21.070088200Z"
    }
   },
   "outputs": [],
   "source": [
    "df = aggregate_sequences(df)"
   ]
  },
  {
   "cell_type": "code",
   "execution_count": null,
   "metadata": {
    "ExecuteTime": {
     "start_time": "2023-09-12T08:19:43.971125700Z"
    }
   },
   "outputs": [],
   "source": [
    "len(df)"
   ]
  },
  {
   "cell_type": "code",
   "execution_count": 117,
   "metadata": {
    "ExecuteTime": {
     "end_time": "2023-09-12T08:21:44.135085400Z",
     "start_time": "2023-09-12T08:21:43.631013400Z"
    }
   },
   "outputs": [
    {
     "name": "stdout",
     "output_type": "stream",
     "text": [
      "Removed 857 of 831677 seqquences\n"
     ]
    }
   ],
   "source": [
    "df, padding_length = remove_rare_sequence_lengths(df)"
   ]
  },
  {
   "cell_type": "code",
   "execution_count": null,
   "metadata": {
    "ExecuteTime": {
     "start_time": "2023-09-12T08:19:43.973130Z"
    }
   },
   "outputs": [],
   "source": [
    "len(df)"
   ]
  },
  {
   "cell_type": "code",
   "execution_count": 118,
   "metadata": {
    "ExecuteTime": {
     "end_time": "2023-09-12T08:21:44.698069500Z",
     "start_time": "2023-09-12T08:21:44.125573400Z"
    }
   },
   "outputs": [],
   "source": [
    "vocabulary, voc_len = complete_vocabulary(df)"
   ]
  },
  {
   "cell_type": "code",
   "execution_count": 119,
   "metadata": {
    "ExecuteTime": {
     "end_time": "2023-09-12T08:21:50.967601Z",
     "start_time": "2023-09-12T08:21:44.699996700Z"
    }
   },
   "outputs": [],
   "source": [
    "df = sequence_encoder(df, padding_length, vocabulary)"
   ]
  },
  {
   "cell_type": "code",
   "execution_count": 120,
   "metadata": {
    "ExecuteTime": {
     "end_time": "2023-09-12T08:22:19.843100600Z",
     "start_time": "2023-09-12T08:21:50.969611500Z"
    }
   },
   "outputs": [],
   "source": [
    "df = normalize_and_select_most_abundant(df)"
   ]
  },
  {
   "cell_type": "code",
   "execution_count": 121,
   "metadata": {
    "ExecuteTime": {
     "end_time": "2023-09-12T08:22:21.998086700Z",
     "start_time": "2023-09-12T08:22:19.843100600Z"
    }
   },
   "outputs": [
    {
     "data": {
      "text/plain": [
       "830820"
      ]
     },
     "execution_count": 121,
     "metadata": {},
     "output_type": "execute_result"
    }
   ],
   "source": [
    "df = encode_charge_states(df)\n",
    "len(df)"
   ]
  },
  {
   "cell_type": "code",
   "execution_count": 171,
   "metadata": {
    "ExecuteTime": {
     "end_time": "2023-09-12T09:00:30.189168600Z",
     "start_time": "2023-09-12T09:00:15.434988600Z"
    }
   },
   "outputs": [
    {
     "name": "stdout",
     "output_type": "stream",
     "text": [
      "Removed 728 of 830820 seqquences\n"
     ]
    }
   ],
   "source": [
    "df = skip_charges_for_occurrences(df)"
   ]
  },
  {
   "cell_type": "code",
   "execution_count": 172,
   "metadata": {
    "ExecuteTime": {
     "end_time": "2023-09-12T09:00:31.834442600Z",
     "start_time": "2023-09-12T09:00:31.561044500Z"
    }
   },
   "outputs": [
    {
     "data": {
      "image/png": "[encoded data removed]",
      "text/plain": [
       "<Figure size 640x480 with 1 Axes>"
      ]
     },
     "metadata": {},
     "output_type": "display_data"
    }
   ],
   "source": [
    "plot_most_abundant_charge_distribution(df)"
   ]
  },
  {
   "cell_type": "code",
   "execution_count": 173,
   "metadata": {
    "ExecuteTime": {
     "end_time": "2023-09-12T09:00:35.703648900Z",
     "start_time": "2023-09-12T09:00:34.174013300Z"
    }
   },
   "outputs": [
    {
     "name": "stderr",
     "output_type": "stream",
     "text": [
      "C:\\Users\\micro\\AppData\\Local\\Temp\\ipykernel_8976\\4187255033.py:19: SettingWithCopyWarning: \n",
      "A value is trying to be set on a copy of a slice from a DataFrame.\n",
      "Try using .loc[row_indexer,col_indexer] = value instead\n",
      "\n",
      "See the caveats in the documentation: https://pandas.pydata.org/pandas-docs/stable/user_guide/indexing.html#returning-a-view-versus-a-copy\n",
      "  df[f'top_{k}_charge_states'] = df['normalized'].apply(get_topK)\n"
     ]
    }
   ],
   "source": [
    "df = get_topK_charge_states(df)"
   ]
  },
  {
   "cell_type": "code",
   "execution_count": 174,
   "metadata": {
    "ExecuteTime": {
     "end_time": "2023-09-12T09:00:37.607869700Z",
     "start_time": "2023-09-12T09:00:37.280602100Z"
    }
   },
   "outputs": [
    {
     "data": {
      "image/png": "[encoded data removed]",
      "text/plain": [
       "<Figure size 800x600 with 1 Axes>"
      ]
     },
     "metadata": {},
     "output_type": "display_data"
    }
   ],
   "source": [
    "plot_topK_charge_distribution(df)"
   ]
  },
  {
   "cell_type": "markdown",
   "metadata": {
    "collapsed": false
   },
   "source": [
    "# Dataset-Class"
   ]
  },
  {
   "cell_type": "code",
   "execution_count": null,
   "metadata": {
    "collapsed": false
   },
   "outputs": [],
   "source": [
    "class ChargeStateDataset:\n",
    "        \n",
    "    def __len__(self):\n",
    "        return len(self.df)\n",
    "    \n",
    "    def __getitem__(self, idx):\n",
    "        if torch.is_tensor(idx):\n",
    "            idx = idx.tolist()\n",
    "        sample = {'sequence': self.sequence_vector[idx], 'charge_state': self.charge_state_vector[idx]}\n",
    "        return sample"
   ]
  },
  {
   "cell_type": "markdown",
   "metadata": {
    "collapsed": false
   },
   "source": [
    "\n",
    "# Models\n",
    "\n",
    "General idea:\n",
    "Input: mod_seq_encoded, precursor_charge // precursor_charge_onehot\n",
    "Output: 5 nodes --> highest value == most probable charge for input sequence\n",
    "Use: Softmax, Crossentropy loss\n",
    "\n",
    "stratified split:\n",
    "- PROSITE\n",
    "- CCE\n",
    "- SCCE // ?\n",
    "\n",
    "evaluate models by:\n",
    "- categorical accuracy\n",
    "- f1 score // ?"
   ]
  },
  {
   "cell_type": "markdown",
   "metadata": {
    "collapsed": false
   },
   "source": [
    "#### Stratified split for all models\n",
    "Split into train_val and test by unique sequence \n",
    "\n",
    "Split into train and val via stratified split"
   ]
  },
  {
   "cell_type": "code",
   "execution_count": 41,
   "metadata": {
    "ExecuteTime": {
     "end_time": "2023-08-03T07:47:14.182800300Z",
     "start_time": "2023-08-03T07:47:13.961537600Z"
    },
    "collapsed": false
   },
   "outputs": [],
   "source": [
    "# Create an instance of StratifiedShuffleSplit\n",
    "sss = StratifiedShuffleSplit(n_splits=1, test_size=0.2, random_state=42)"
   ]
  },
  {
   "cell_type": "markdown",
   "metadata": {
    "collapsed": false
   },
   "source": [
    "#### CCE"
   ]
  },
  {
   "cell_type": "code",
   "execution_count": 46,
   "metadata": {
    "ExecuteTime": {
     "end_time": "2023-08-03T07:47:14.214061900Z",
     "start_time": "2023-08-03T07:47:13.999851Z"
    },
    "collapsed": false
   },
   "outputs": [],
   "source": [
    "from keras import Sequential, Model\n",
    "from keras.layers import Embedding, Flatten, Dense, Input\n",
    "\n",
    "inputA_embed = Input(shape=train_ds_embed[0].shape)\n",
    "x = Model(inputs=inputA_embed, outputs=inputA_embed)\n",
    "y = Embedding(input_dim=voc_len, output_dim=max_len_seq, input_length=max_len_seq)(inputA_embed)\n",
    "y = Flatten()(y)\n",
    "y = Dense(max_len_seq, activation=\"relu\")(y)\n",
    "z = Dense(num_classes, activation=\"softmax\")(y)\n",
    "multiclass_model = Model(inputs=[x.input], outputs=z)"
   ]
  },
  {
   "cell_type": "code",
   "execution_count": null,
   "metadata": {},
   "outputs": [],
   "source": [
    "multiclass_model.summary()"
   ]
  },
  {
   "cell_type": "code",
   "execution_count": null,
   "metadata": {},
   "outputs": [],
   "source": [
    "tf.keras.utils.plot_model(multiclass_model, show_shapes=True, show_layer_names=True)"
   ]
  },
  {
   "cell_type": "code",
   "execution_count": null,
   "metadata": {},
   "outputs": [],
   "source": [
    "# Define callbacks for multiclass model\n",
    "checkpoint_callback_multiclass_model = ModelCheckpoint('checkpoints/multiclass_model.h5', monitor='val_accuracy', save_best_only=True, mode='max')\n",
    "\n",
    "# Define early stopping\n",
    "early_stopping_multiclass_model = tf.keras.callbacks.EarlyStopping(monitor='val_loss', patience=10)\n",
    "\n",
    "# Compile the model\n",
    "multiclass_model.compile(loss=tf.keras.losses.CategoricalCrossentropy(), optimizer=keras.optimizers.Adam(learning_rate=0.0001), metrics=['categorical_accuracy'])"
   ]
  },
  {
   "cell_type": "code",
   "execution_count": null,
   "metadata": {},
   "outputs": [],
   "source": [
    "# training with stratified split\n",
    "# save history of model training\n",
    "history_multiclass_model = multiclass_model.fit(train_ds_embed, train_labels_embed, epochs=30, batch_size=4096, validation_data=(val_ds_embed, val_labels_embed), callbacks=[checkpoint_callback_embed, early_stopping_embed, WandbCallback()])"
   ]
  },
  {
   "cell_type": "markdown",
   "metadata": {},
   "source": [
    "### Anaylsis / Plots etc."
   ]
  },
  {
   "cell_type": "code",
   "execution_count": 49,
   "metadata": {
    "ExecuteTime": {
     "end_time": "2023-08-03T07:47:14.214061900Z",
     "start_time": "2023-08-03T07:47:14.016572400Z"
    },
    "collapsed": false
   },
   "outputs": [],
   "source": [
    "# eval"
   ]
  },
  {
   "cell_type": "markdown",
   "metadata": {},
   "source": [
    "## Postprocessing"
   ]
  },
  {
   "cell_type": "markdown",
   "metadata": {},
   "source": []
  },
  {
   "cell_type": "code",
   "execution_count": 35,
   "metadata": {},
   "outputs": [
    {
     "name": "stdout",
     "output_type": "stream",
     "text": [
      "The predicted charge state for the input sequence is 3 [53.0%].\n",
      "Prediction percentages for other states:\n",
      "Charge state 1: 0.0%\n",
      "Charge state 2: 30.0%\n",
      "Charge state 4: 17.0%\n",
      "Charge state 5: 0.0%\n",
      "Charge state 6: 0.0%\n"
     ]
    }
   ],
   "source": [
    "def generate_charge_prediction_text(charge_predictions):\n",
    "    max_charge_index = np.argmax(charge_predictions)\n",
    "    max_charge_value = round(charge_predictions[max_charge_index], 2)\n",
    "\n",
    "    charge_text = f\"The predicted charge state for the input sequence is {max_charge_index+1} [{round(max_charge_value*100,2)}%].\"\n",
    "    percentage_text = \"Prediction percentages for other states:\\n\"\n",
    "\n",
    "    for index, prediction in enumerate(charge_predictions):\n",
    "        if index != max_charge_index:\n",
    "            percentage = round(prediction * 100, 2)\n",
    "            percentage_text += f\"Charge state {index+1}: {percentage}%\\n\"\n",
    "\n",
    "    full_text = charge_text + \"\\n\" + percentage_text\n",
    "    return full_text\n",
    "\n",
    "\n",
    "# Beispiel\n",
    "charge_predictions = np.array([0, 0.3, 0.53, 0.17, 0, 0])\n",
    "output_text = generate_charge_prediction_text(charge_predictions)\n",
    "print(output_text)"
   ]
  },
  {
   "cell_type": "code",
   "execution_count": null,
   "metadata": {},
   "outputs": [],
   "source": []
  }
 ],
 "metadata": {
  "kernelspec": {
   "display_name": "Python 3",
   "language": "python",
   "name": "python3"
  },
  "language_info": {
   "codemirror_mode": {
    "name": "ipython",
    "version": 3
   },
   "file_extension": ".py",
   "mimetype": "text/x-python",
   "name": "python",
   "nbconvert_exporter": "python",
   "pygments_lexer": "ipython3",
   "version": "3.10.12"
  }
 },
 "nbformat": 4,
 "nbformat_minor": 0
}

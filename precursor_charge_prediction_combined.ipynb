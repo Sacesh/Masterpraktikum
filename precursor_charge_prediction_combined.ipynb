{
 "cells": [
  {
   "cell_type": "markdown",
   "metadata": {
    "collapsed": false
   },
   "source": [
    "### Setup"
   ]
  },
  {
   "cell_type": "code",
   "execution_count": 2,
   "metadata": {
    "ExecuteTime": {
     "end_time": "2023-08-03T07:47:14.041354200Z",
     "start_time": "2023-08-03T07:47:13.848313300Z"
    },
    "collapsed": false
   },
   "outputs": [
    {
     "name": "stderr",
     "output_type": "stream",
     "text": [
      "2023-09-11 15:09:05.777546: I tensorflow/tsl/cuda/cudart_stub.cc:28] Could not find cuda drivers on your machine, GPU will not be used.\n",
      "2023-09-11 15:09:07.511160: I tensorflow/tsl/cuda/cudart_stub.cc:28] Could not find cuda drivers on your machine, GPU will not be used.\n",
      "2023-09-11 15:09:07.517976: I tensorflow/core/platform/cpu_feature_guard.cc:182] This TensorFlow binary is optimized to use available CPU instructions in performance-critical operations.\n",
      "To enable the following instructions: AVX2 FMA, in other operations, rebuild TensorFlow with the appropriate compiler flags.\n",
      "2023-09-11 15:09:25.548998: W tensorflow/compiler/tf2tensorrt/utils/py_utils.cc:38] TF-TRT Warning: Could not find TensorRT\n"
     ]
    }
   ],
   "source": [
    "import re\n",
    "import os\n",
    "import random\n",
    "import numpy as np\n",
    "import pandas as pd\n",
    "import tensorflow as tf\n",
    "import matplotlib.pyplot as plt\n",
    "from sklearn.model_selection import train_test_split\n",
    "from tensorflow.keras.callbacks import ModelCheckpoint\n",
    "from sklearn.utils import class_weight\n",
    "from sklearn.model_selection import StratifiedShuffleSplit\n",
    "from sklearn.metrics import confusion_matrix, classification_report\n",
    "import seaborn as sns\n",
    "import wandb\n",
    "from wandb.keras import WandbCallback"
   ]
  },
  {
   "cell_type": "markdown",
   "metadata": {},
   "source": [
    "- Multiclass (X)\n",
    "- Multilable (X) -- check how or if to normalize output // select cutoff for predicting charge as present\n",
    "- Prosit (X)\n",
    "- Multi-head Binary Classifier (Omar) (TODO)\n",
    "\n",
    "- Split for all of them (X) \n",
    "- Training (X)\n",
    "- Inference (X?) \n",
    "- Analysis (X)\n",
    "    - TopK\n",
    "----------------------\n",
    "----------------------\n",
    "- Clean up code for presentation (TODO?) \n",
    "- Presentation (TODO)"
   ]
  },
  {
   "cell_type": "markdown",
   "metadata": {
    "collapsed": false
   },
   "source": [
    "### Data preprocessing\n",
    "- remove all columns except: 'modified_sequence', 'precursor_charge', 'precursor_intensity'\n",
    "- filter out unwanted charge states\n",
    "- filter for most abundant charge state per sequence by precursor_intensity after normalizing the values\n",
    "- filter sequence length according to occurance in dataset (currently less than 100 sequences of a certain length get removed)\n",
    "- search for occurences of UNIMOD modifications and add them to the vocabulary\n",
    "- generate continous sequence encoding // first layer - embedding layer\n",
    "- generate precursor_charge one-hot encoding"
   ]
  },
  {
   "cell_type": "markdown",
   "metadata": {},
   "source": [
    "### Preprocessing functions"
   ]
  },
  {
   "cell_type": "code",
   "execution_count": 3,
   "metadata": {},
   "outputs": [],
   "source": [
    "'''\n",
    "Combine files into one dataframe and keep only desired columns\n",
    "Default: \n",
    "- dir_path = 'data/'\n",
    "- file_type = '.parquet'\n",
    "Default: drop everything except: modified_sequence, precursor_charge and precursor_intensity\n",
    "- columns_to_keep = ['modified_sequence','precursor_charge','precursor_intensity']\n",
    "'''\n",
    "def combine_parquet_into_df(dir_path='data/', file_type='.parquet', columns_to_keep=['modified_sequence','precursor_charge','precursor_intensity']):\n",
    "    dfs = [] \n",
    "    for file in os.listdir(dir_path):\n",
    "        if file.endswith(file_type):\n",
    "            file_path = os.path.join(dir_path, file)\n",
    "            df = pd.read_parquet(file_path, engine='fastparquet')\n",
    "            df = df[columns_to_keep]\n",
    "            dfs.append(df)\n",
    "\n",
    "    df = pd.concat(dfs, ignore_index=True)\n",
    "    return df"
   ]
  },
  {
   "cell_type": "code",
   "execution_count": 4,
   "metadata": {},
   "outputs": [],
   "source": [
    "'''\n",
    "Drop all rows with NaN values in a specific column\n",
    "Default: drop na from precursor_intensity column\n",
    "'''\n",
    "def drop_na(df, column='precursor_intensity'):\n",
    "    df = df[df[column].notna()]\n",
    "    return df"
   ]
  },
  {
   "cell_type": "code",
   "execution_count": 5,
   "metadata": {},
   "outputs": [],
   "source": [
    "'''\n",
    "Keep only desired charge entires\n",
    "Default: keep charges 1-6\n",
    "'''\n",
    "def keep_desired_charges(df, charge_list=[1, 2, 3, 4, 5, 6]):\n",
    "    df = df[df['precursor_charge'].isin(charge_list)]\n",
    "    return df"
   ]
  },
  {
   "cell_type": "code",
   "execution_count": 6,
   "metadata": {},
   "outputs": [],
   "source": [
    "'''\n",
    "Find all UNIMOD annotations and add them to the vocabulary\n",
    "(The length of the vocabulary +1 is used later for the embedding layer)\n",
    "'''\n",
    "def complete_vocabulary(df):\n",
    "    \"\"\"\n",
    "    Completes the vocabulary with all the possible amino acids and modifications\n",
    "    :return: list\n",
    "    \"\"\"\n",
    "    vocabulary = []\n",
    "    vocabulary+=list('XACDEFGHIKLMNPQRSTVWY')\n",
    "    annotations = re.findall(r'(\\w\\[UNIMOD:\\d+\\])', ' '.join(df['modified_sequence']))\n",
    "    for item in annotations:\n",
    "        if item not in vocabulary:\n",
    "                vocabulary.append(item)\n",
    "    vocab_len = len(vocabulary)\n",
    "    return vocabulary, vocab_len"
   ]
  },
  {
   "cell_type": "code",
   "execution_count": 7,
   "metadata": {},
   "outputs": [],
   "source": [
    "'''\n",
    "Combine unique sequences and aggregate their precursor_charges and intensity in order to later select the most abundant charge state per sequence.\n",
    "'''\n",
    "def aggregate_sequences(df):\n",
    "    df = df.groupby(\"modified_sequence\")[[\"precursor_charge\", \"precursor_intensity\"]].agg(list).reset_index()\n",
    "    return df"
   ]
  },
  {
   "cell_type": "code",
   "execution_count": 8,
   "metadata": {},
   "outputs": [],
   "source": [
    "# TODO: once filtering is done adjust plot for most abundand and topK\n",
    "'''\n",
    "Generate overview plot for precursor_charge distribution in combined dataset\n",
    "'''\n",
    "def precursor_charge_distribution_plot(df):\n",
    "    # plot the distirbution of precursor_charge for the whole dataset\n",
    "    sns.set_theme(style=\"darkgrid\")\n",
    "    sns.set_context(\"paper\")\n",
    "    ax = sns.countplot(x='precursor_charge', data=df, palette=\"viridis\")\n",
    "    plt.xlabel('Precursor Charge')\n",
    "    plt.ylabel('Count')\n",
    "    plt.title('Distribution of Precursor Charge')\n",
    "    # add percentage of each charge state to the plot\n",
    "    total = len(df['precursor_charge'])\n",
    "    for p in ax.patches:\n",
    "        percentage = '{:.1f}%'.format(100 * p.get_height()/total)\n",
    "        x = p.get_x() + p.get_width() / 2 - 0.05\n",
    "        y = p.get_y() + p.get_height() + 5\n",
    "        ax.annotate(percentage, (x, y))\n",
    "    plt.show()"
   ]
  },
  {
   "cell_type": "code",
   "execution_count": 9,
   "metadata": {},
   "outputs": [],
   "source": [
    "# TODO\n",
    "'''\n",
    "Normalize precursor intensities for aggregated sequences\n",
    "'''\n",
    "def normalize_precursor_intensities(df_charge_list, df_intensity_list):\n",
    "    # Get the index of the most abundant precursor intensity\n",
    "    charge_dict = dict()\n",
    "    for index, i in enumerate(df_charge_list):\n",
    "        charge_dict[i] = []\n",
    "        charge_dict[i].append(df_intensity_list[index])\n",
    "\n",
    "    # Normalize the precursor intensity based on the most abundant precursor intensity\n",
    "    for key, value in charge_dict.items():\n",
    "        if len(value) > 1:\n",
    "            charge_dict[key] = sum(value) - min(value) / (max(value) - min(value))\n",
    "\n",
    "    # convert list of one float to float values\n",
    "    charge_dict = {key: value[0] for key, value in charge_dict.items()}\n",
    "\n",
    "    return charge_dict"
   ]
  },
  {
   "cell_type": "code",
   "execution_count": 10,
   "metadata": {},
   "outputs": [],
   "source": [
    "# TODO\n",
    "'''\n",
    "Select most abundand charge state per unique sequence according to the normalized precursor intensity\n",
    "'''\n",
    "def get_most_abundant(df_charge_list, df_intensity_list, distributions=False):\n",
    "    # Get the index of the most abundant precursor intensity\n",
    "    charge_dict = dict()\n",
    "    for index, i in enumerate(df_charge_list):\n",
    "        if i not in charge_dict:\n",
    "            charge_dict[i] = df_intensity_list[index]\n",
    "        else:\n",
    "            charge_dict[i] += df_intensity_list[index]\n",
    "    if distributions:\n",
    "        return charge_dict\n",
    "    else:\n",
    "        return max(charge_dict, key=charge_dict.get)"
   ]
  },
  {
   "cell_type": "code",
   "execution_count": 11,
   "metadata": {},
   "outputs": [],
   "source": [
    "'''\n",
    "One-Hot encode most abundand charge state\n",
    "input: df with \"most_abundance_charge\" column\n",
    "output: new column \"most_abundant_charge_vector\" containing one-hot encoded vector\n",
    "'''\n",
    "def one_hot_encode_charge(df, charge_list=[1, 2, 3, 4, 5, 6]):\n",
    "    df['most_abundant_charge_vector'] = df['most_abundant_charge'].apply(lambda x: [1 if x == i else 0 for i in charge_list])\n",
    "    return df"
   ]
  },
  {
   "cell_type": "code",
   "execution_count": 30,
   "metadata": {},
   "outputs": [],
   "source": [
    "# TODO: description\n",
    "'''\n",
    "Applying normalization, selecting most abundant charge state and one-hot encoding\n",
    "'''\n",
    "# def normalize_and_select_most_abundant(df):\n",
    "#     df['normalized'] = df['precursor_intensity'].apply(lambda x: normalize_precursor_intensities(x[\"precursor_charge\"], x[\"precursor_intensity\"])) #, axis=1)\n",
    "#     df['pre_normalization'] = df.apply(lambda x: get_most_abundant(x[\"precursor_charge\"], x[\"precursor_intensity\"], True))# , axis=1)\n",
    "#     df['most_abundant_charge'] = df['normalized'].apply(lambda x: max(x, key=x.get))\n",
    "#     df = one_hot_encode_charge(df)\n",
    "#     return df\n",
    "\n",
    "def normalize_and_select_most_abundant(df):\n",
    "    df['normalized'] = df.apply(lambda x: normalize_precursor_intensities(x[\"precursor_charge\"], x[\"precursor_intensity\"]), axis=1)\n",
    "    df['pre_normalization'] = df.apply(lambda x: get_most_abundant(x[\"precursor_charge\"], x[\"precursor_intensity\"], True), axis=1)\n",
    "    df['most_abundant_charge'] = df['normalized'].apply(lambda x: max(x, key=x.get))\n",
    "    df = one_hot_encode_charge(df)\n",
    "    return df"
   ]
  },
  {
   "cell_type": "code",
   "execution_count": 13,
   "metadata": {},
   "outputs": [],
   "source": [
    "'''\n",
    "Remove sequences of specific length represented less than a certain number of times\n",
    "\n",
    "input: df containig \"modified_sequence\" column, representation_threshold\n",
    "output: \n",
    "- df containing only sequence legths represented more than representation_threshold times\n",
    "- padding_length\n",
    "default: representation_threshold = 100\n",
    "\n",
    "Calculate the sequence lengths and their counts\n",
    "Filter out sequences with counts below the threshold\n",
    "Filter the original DataFrame based on sequence length\n",
    "Drop the temporary column\n",
    "'''\n",
    "def remove_rare_sequence_lengths(df, representation_threshold=100):\n",
    "    df['sequence_length_prepadding'] = df['modified_sequence'].apply(len)\n",
    "    len_counts = df['sequence_length_prepadding'].value_counts().reset_index()\n",
    "    len_counts.columns = ['seq_len', 'count']\n",
    "    filtered_lengths = len_counts[len_counts['count'] >= representation_threshold]['seq_len']\n",
    "    df = df[df['sequence_length_prepadding'].isin(filtered_lengths)].copy()\n",
    "    padding_length = df['sequence_length_prepadding'].max()\n",
    "    df = df[df['sequence_length_prepadding'].isin(filtered_lengths)]\n",
    "    # df.drop(columns=['sequence_length_prepadding'], inplace=True)\n",
    "    return df, padding_length"
   ]
  },
  {
   "cell_type": "code",
   "execution_count": 14,
   "metadata": {},
   "outputs": [],
   "source": [
    "# TODO \n",
    "'''\n",
    "Encode all occuring charge states per unique sequence in a binary vector\n",
    "'''\n",
    "def encode_charge_states():\n",
    "    pass"
   ]
  },
  {
   "cell_type": "code",
   "execution_count": 15,
   "metadata": {},
   "outputs": [],
   "source": [
    "# TODO \n",
    "'''\n",
    "Filter Sequences 'skipping a charge' eg [1,1,0,1,0,0]\n",
    "'''\n",
    "def filter_skipped_charges():\n",
    "    pass"
   ]
  },
  {
   "cell_type": "code",
   "execution_count": 16,
   "metadata": {},
   "outputs": [],
   "source": [
    "\"\"\"\n",
    "Encodes the 'modified_sequence' column in a DataFrame and adds a new column 'modified_sequence_vector'.\n",
    "\n",
    "input: df containing \"modified_sequence\" column, vocabulary, padding_length\n",
    "output: df containing \"modified_sequence_vector\" column with padded and encoded sequences\n",
    "\n",
    "defaults: padding_length = 50\n",
    "\"\"\"\n",
    "def sequence_encoder(df, padding_length=50, vocabulary=None):\n",
    "    \n",
    "    if 'modified_sequence' not in df.columns:\n",
    "        raise ValueError(\"DataFrame must contain a 'modified_sequence' column.\")\n",
    "\n",
    "    aa_dictionary = {aa: index for index, aa in enumerate(vocabulary)}\n",
    "\n",
    "    def encode_sequence(sequence):\n",
    "        pattern = r'[A-Z]\\[[^\\]]*\\]|.'\n",
    "        result = [match for match in re.findall(pattern, sequence)]\n",
    "        result += ['X'] * (padding_length - len(result))\n",
    "        return [aa_dictionary.get(aa, aa_dictionary['X']) for aa in result]\n",
    "\n",
    "    df['modified_sequence_vector'] = df['modified_sequence'].apply(encode_sequence)\n",
    "    return df"
   ]
  },
  {
   "cell_type": "markdown",
   "metadata": {
    "collapsed": false
   },
   "source": [
    "## Preprocessing"
   ]
  },
  {
   "cell_type": "code",
   "execution_count": 17,
   "metadata": {
    "ExecuteTime": {
     "end_time": "2023-08-03T07:47:14.169790500Z",
     "start_time": "2023-08-03T07:47:13.878881100Z"
    },
    "collapsed": false
   },
   "outputs": [],
   "source": [
    "dir_path = 'data/'\n",
    "file_type = '.parquet'\n",
    "max_seq_len = 0"
   ]
  },
  {
   "cell_type": "code",
   "execution_count": 18,
   "metadata": {},
   "outputs": [],
   "source": [
    "df = combine_parquet_into_df(dir_path, file_type)"
   ]
  },
  {
   "cell_type": "code",
   "execution_count": 19,
   "metadata": {},
   "outputs": [],
   "source": [
    "df = drop_na(df, 'precursor_intensity')"
   ]
  },
  {
   "cell_type": "code",
   "execution_count": 20,
   "metadata": {},
   "outputs": [],
   "source": [
    "df = keep_desired_charges(df)"
   ]
  },
  {
   "cell_type": "code",
   "execution_count": 21,
   "metadata": {},
   "outputs": [],
   "source": [
    "df = aggregate_sequences(df)"
   ]
  },
  {
   "cell_type": "code",
   "execution_count": 22,
   "metadata": {},
   "outputs": [
    {
     "data": {
      "text/html": [
       "<div>\n",
       "<style scoped>\n",
       "    .dataframe tbody tr th:only-of-type {\n",
       "        vertical-align: middle;\n",
       "    }\n",
       "\n",
       "    .dataframe tbody tr th {\n",
       "        vertical-align: top;\n",
       "    }\n",
       "\n",
       "    .dataframe thead th {\n",
       "        text-align: right;\n",
       "    }\n",
       "</style>\n",
       "<table border=\"1\" class=\"dataframe\">\n",
       "  <thead>\n",
       "    <tr style=\"text-align: right;\">\n",
       "      <th></th>\n",
       "      <th>modified_sequence</th>\n",
       "      <th>precursor_charge</th>\n",
       "      <th>precursor_intensity</th>\n",
       "    </tr>\n",
       "  </thead>\n",
       "  <tbody>\n",
       "    <tr>\n",
       "      <th>0</th>\n",
       "      <td>AAAAAAAAAAAAAAAAGLGLGP</td>\n",
       "      <td>[2, 3, 2, 1, 1, 2, 2, 2, 2, 2, 2, 3, 3, 3, 3, ...</td>\n",
       "      <td>[12746190.0, 2009914.0, 12746190.0, 791369.9, ...</td>\n",
       "    </tr>\n",
       "    <tr>\n",
       "      <th>1</th>\n",
       "      <td>AAAAAAAAAAAAAAAASAGGK</td>\n",
       "      <td>[2, 2, 2, 2, 2, 2, 2, 2, 2, 2, 2, 2, 2, 2, 2]</td>\n",
       "      <td>[5944787.0, 5944787.0, 8502878.0, 6425294.0, 8...</td>\n",
       "    </tr>\n",
       "    <tr>\n",
       "      <th>2</th>\n",
       "      <td>AAAAAAAAAAAAAAAGAGAGAK</td>\n",
       "      <td>[2, 2, 2, 2]</td>\n",
       "      <td>[3067981.0, 3067981.0, 3067981.0, 3067981.0]</td>\n",
       "    </tr>\n",
       "    <tr>\n",
       "      <th>3</th>\n",
       "      <td>AAAAAAAAAAAAAAASGFAYPGTSER</td>\n",
       "      <td>[2, 2, 2, 2, 2, 2, 2, 2, 2, 2, 2, 2, 2, 2, 2, ...</td>\n",
       "      <td>[11913300.0, 11913300.0, 11913300.0, 11913300....</td>\n",
       "    </tr>\n",
       "    <tr>\n",
       "      <th>4</th>\n",
       "      <td>AAAAAAAAAAAAAAG</td>\n",
       "      <td>[1, 1, 1, 1, 1, 1, 1, 1, 1, 1, 1, 1, 1, 1, 1, ...</td>\n",
       "      <td>[1573785.0, 4638296.0, 7934979.0, 2019978.0, 4...</td>\n",
       "    </tr>\n",
       "  </tbody>\n",
       "</table>\n",
       "</div>"
      ],
      "text/plain": [
       "            modified_sequence  \\\n",
       "0      AAAAAAAAAAAAAAAAGLGLGP   \n",
       "1       AAAAAAAAAAAAAAAASAGGK   \n",
       "2      AAAAAAAAAAAAAAAGAGAGAK   \n",
       "3  AAAAAAAAAAAAAAASGFAYPGTSER   \n",
       "4             AAAAAAAAAAAAAAG   \n",
       "\n",
       "                                    precursor_charge  \\\n",
       "0  [2, 3, 2, 1, 1, 2, 2, 2, 2, 2, 2, 3, 3, 3, 3, ...   \n",
       "1      [2, 2, 2, 2, 2, 2, 2, 2, 2, 2, 2, 2, 2, 2, 2]   \n",
       "2                                       [2, 2, 2, 2]   \n",
       "3  [2, 2, 2, 2, 2, 2, 2, 2, 2, 2, 2, 2, 2, 2, 2, ...   \n",
       "4  [1, 1, 1, 1, 1, 1, 1, 1, 1, 1, 1, 1, 1, 1, 1, ...   \n",
       "\n",
       "                                 precursor_intensity  \n",
       "0  [12746190.0, 2009914.0, 12746190.0, 791369.9, ...  \n",
       "1  [5944787.0, 5944787.0, 8502878.0, 6425294.0, 8...  \n",
       "2       [3067981.0, 3067981.0, 3067981.0, 3067981.0]  \n",
       "3  [11913300.0, 11913300.0, 11913300.0, 11913300....  \n",
       "4  [1573785.0, 4638296.0, 7934979.0, 2019978.0, 4...  "
      ]
     },
     "execution_count": 22,
     "metadata": {},
     "output_type": "execute_result"
    }
   ],
   "source": [
    "aggreagated_df = df.copy()\n",
    "aggreagated_df.head()"
   ]
  },
  {
   "cell_type": "code",
   "execution_count": 23,
   "metadata": {},
   "outputs": [],
   "source": [
    "df, padding_length = remove_rare_sequence_lengths(df)"
   ]
  },
  {
   "cell_type": "code",
   "execution_count": 24,
   "metadata": {},
   "outputs": [],
   "source": [
    "vocabulary, voc_len = complete_vocabulary(df)"
   ]
  },
  {
   "cell_type": "code",
   "execution_count": 25,
   "metadata": {},
   "outputs": [],
   "source": [
    "df = sequence_encoder(df, padding_length, vocabulary)"
   ]
  },
  {
   "cell_type": "code",
   "execution_count": 31,
   "metadata": {},
   "outputs": [],
   "source": [
    "df = normalize_and_select_most_abundant(df)"
   ]
  },
  {
   "cell_type": "code",
   "execution_count": 32,
   "metadata": {},
   "outputs": [
    {
     "data": {
      "text/html": [
       "<div>\n",
       "<style scoped>\n",
       "    .dataframe tbody tr th:only-of-type {\n",
       "        vertical-align: middle;\n",
       "    }\n",
       "\n",
       "    .dataframe tbody tr th {\n",
       "        vertical-align: top;\n",
       "    }\n",
       "\n",
       "    .dataframe thead th {\n",
       "        text-align: right;\n",
       "    }\n",
       "</style>\n",
       "<table border=\"1\" class=\"dataframe\">\n",
       "  <thead>\n",
       "    <tr style=\"text-align: right;\">\n",
       "      <th></th>\n",
       "      <th>modified_sequence</th>\n",
       "      <th>precursor_charge</th>\n",
       "      <th>precursor_intensity</th>\n",
       "      <th>sequence_length_prepadding</th>\n",
       "      <th>modified_sequence_vector</th>\n",
       "      <th>normalized</th>\n",
       "      <th>pre_normalization</th>\n",
       "      <th>most_abundant_charge</th>\n",
       "      <th>most_abundant_charge_vector</th>\n",
       "    </tr>\n",
       "  </thead>\n",
       "  <tbody>\n",
       "    <tr>\n",
       "      <th>0</th>\n",
       "      <td>AAAAAAAAAAAAAAAAGLGLGP</td>\n",
       "      <td>[2, 3, 2, 1, 1, 2, 2, 2, 2, 2, 2, 3, 3, 3, 3, ...</td>\n",
       "      <td>[12746190.0, 2009914.0, 12746190.0, 791369.9, ...</td>\n",
       "      <td>22</td>\n",
       "      <td>[1, 1, 1, 1, 1, 1, 1, 1, 1, 1, 1, 1, 1, 1, 1, ...</td>\n",
       "      <td>{2: 588796.3, 3: 4654280.0, 1: 791369.9}</td>\n",
       "      <td>{2: 1043873837.3, 3: 30130627.0, 1: 1582739.8}</td>\n",
       "      <td>3</td>\n",
       "      <td>[0, 0, 1, 0, 0, 0]</td>\n",
       "    </tr>\n",
       "    <tr>\n",
       "      <th>1</th>\n",
       "      <td>AAAAAAAAAAAAAAAASAGGK</td>\n",
       "      <td>[2, 2, 2, 2, 2, 2, 2, 2, 2, 2, 2, 2, 2, 2, 2]</td>\n",
       "      <td>[5944787.0, 5944787.0, 8502878.0, 6425294.0, 8...</td>\n",
       "      <td>21</td>\n",
       "      <td>[1, 1, 1, 1, 1, 1, 1, 1, 1, 1, 1, 1, 1, 1, 1, ...</td>\n",
       "      <td>{2: 303307.5}</td>\n",
       "      <td>{2: 107202221.5}</td>\n",
       "      <td>2</td>\n",
       "      <td>[0, 1, 0, 0, 0, 0]</td>\n",
       "    </tr>\n",
       "    <tr>\n",
       "      <th>2</th>\n",
       "      <td>AAAAAAAAAAAAAAAGAGAGAK</td>\n",
       "      <td>[2, 2, 2, 2]</td>\n",
       "      <td>[3067981.0, 3067981.0, 3067981.0, 3067981.0]</td>\n",
       "      <td>22</td>\n",
       "      <td>[1, 1, 1, 1, 1, 1, 1, 1, 1, 1, 1, 1, 1, 1, 1, ...</td>\n",
       "      <td>{2: 3067981.0}</td>\n",
       "      <td>{2: 12271924.0}</td>\n",
       "      <td>2</td>\n",
       "      <td>[0, 1, 0, 0, 0, 0]</td>\n",
       "    </tr>\n",
       "    <tr>\n",
       "      <th>3</th>\n",
       "      <td>AAAAAAAAAAAAAAASGFAYPGTSER</td>\n",
       "      <td>[2, 2, 2, 2, 2, 2, 2, 2, 2, 2, 2, 2, 2, 2, 2, ...</td>\n",
       "      <td>[11913300.0, 11913300.0, 11913300.0, 11913300....</td>\n",
       "      <td>26</td>\n",
       "      <td>[1, 1, 1, 1, 1, 1, 1, 1, 1, 1, 1, 1, 1, 1, 1, ...</td>\n",
       "      <td>{2: 8093413.0, 3: 1414907.0}</td>\n",
       "      <td>{2: 148659685.0, 3: 4244721.0}</td>\n",
       "      <td>2</td>\n",
       "      <td>[0, 1, 0, 0, 0, 0]</td>\n",
       "    </tr>\n",
       "    <tr>\n",
       "      <th>4</th>\n",
       "      <td>AAAAAAAAAAAAAAG</td>\n",
       "      <td>[1, 1, 1, 1, 1, 1, 1, 1, 1, 1, 1, 1, 1, 1, 1, ...</td>\n",
       "      <td>[1573785.0, 4638296.0, 7934979.0, 2019978.0, 4...</td>\n",
       "      <td>15</td>\n",
       "      <td>[1, 1, 1, 1, 1, 1, 1, 1, 1, 1, 1, 1, 1, 1, 6, ...</td>\n",
       "      <td>{1: 1124818.0}</td>\n",
       "      <td>{1: 546950229.4000001}</td>\n",
       "      <td>1</td>\n",
       "      <td>[1, 0, 0, 0, 0, 0]</td>\n",
       "    </tr>\n",
       "  </tbody>\n",
       "</table>\n",
       "</div>"
      ],
      "text/plain": [
       "            modified_sequence  \\\n",
       "0      AAAAAAAAAAAAAAAAGLGLGP   \n",
       "1       AAAAAAAAAAAAAAAASAGGK   \n",
       "2      AAAAAAAAAAAAAAAGAGAGAK   \n",
       "3  AAAAAAAAAAAAAAASGFAYPGTSER   \n",
       "4             AAAAAAAAAAAAAAG   \n",
       "\n",
       "                                    precursor_charge  \\\n",
       "0  [2, 3, 2, 1, 1, 2, 2, 2, 2, 2, 2, 3, 3, 3, 3, ...   \n",
       "1      [2, 2, 2, 2, 2, 2, 2, 2, 2, 2, 2, 2, 2, 2, 2]   \n",
       "2                                       [2, 2, 2, 2]   \n",
       "3  [2, 2, 2, 2, 2, 2, 2, 2, 2, 2, 2, 2, 2, 2, 2, ...   \n",
       "4  [1, 1, 1, 1, 1, 1, 1, 1, 1, 1, 1, 1, 1, 1, 1, ...   \n",
       "\n",
       "                                 precursor_intensity  \\\n",
       "0  [12746190.0, 2009914.0, 12746190.0, 791369.9, ...   \n",
       "1  [5944787.0, 5944787.0, 8502878.0, 6425294.0, 8...   \n",
       "2       [3067981.0, 3067981.0, 3067981.0, 3067981.0]   \n",
       "3  [11913300.0, 11913300.0, 11913300.0, 11913300....   \n",
       "4  [1573785.0, 4638296.0, 7934979.0, 2019978.0, 4...   \n",
       "\n",
       "   sequence_length_prepadding  \\\n",
       "0                          22   \n",
       "1                          21   \n",
       "2                          22   \n",
       "3                          26   \n",
       "4                          15   \n",
       "\n",
       "                            modified_sequence_vector  \\\n",
       "0  [1, 1, 1, 1, 1, 1, 1, 1, 1, 1, 1, 1, 1, 1, 1, ...   \n",
       "1  [1, 1, 1, 1, 1, 1, 1, 1, 1, 1, 1, 1, 1, 1, 1, ...   \n",
       "2  [1, 1, 1, 1, 1, 1, 1, 1, 1, 1, 1, 1, 1, 1, 1, ...   \n",
       "3  [1, 1, 1, 1, 1, 1, 1, 1, 1, 1, 1, 1, 1, 1, 1, ...   \n",
       "4  [1, 1, 1, 1, 1, 1, 1, 1, 1, 1, 1, 1, 1, 1, 6, ...   \n",
       "\n",
       "                                 normalized  \\\n",
       "0  {2: 588796.3, 3: 4654280.0, 1: 791369.9}   \n",
       "1                             {2: 303307.5}   \n",
       "2                            {2: 3067981.0}   \n",
       "3              {2: 8093413.0, 3: 1414907.0}   \n",
       "4                            {1: 1124818.0}   \n",
       "\n",
       "                                pre_normalization  most_abundant_charge  \\\n",
       "0  {2: 1043873837.3, 3: 30130627.0, 1: 1582739.8}                     3   \n",
       "1                                {2: 107202221.5}                     2   \n",
       "2                                 {2: 12271924.0}                     2   \n",
       "3                  {2: 148659685.0, 3: 4244721.0}                     2   \n",
       "4                          {1: 546950229.4000001}                     1   \n",
       "\n",
       "  most_abundant_charge_vector  \n",
       "0          [0, 0, 1, 0, 0, 0]  \n",
       "1          [0, 1, 0, 0, 0, 0]  \n",
       "2          [0, 1, 0, 0, 0, 0]  \n",
       "3          [0, 1, 0, 0, 0, 0]  \n",
       "4          [1, 0, 0, 0, 0, 0]  "
      ]
     },
     "execution_count": 32,
     "metadata": {},
     "output_type": "execute_result"
    }
   ],
   "source": [
    "df.head()"
   ]
  },
  {
   "cell_type": "markdown",
   "metadata": {
    "collapsed": false
   },
   "source": [
    "# Models\n",
    "\n",
    "General idea:\n",
    "Input: mod_seq_encoded, precursor_charge // precursor_charge_onehot\n",
    "Output: 5 nodes --> highest value == most probable charge for input sequence\n",
    "Use: Softmax, Crossentropy loss\n",
    "\n",
    "stratified split:\n",
    "- PROSITE\n",
    "- CCE\n",
    "- SCCE // ?\n",
    "\n",
    "evaluate models by:\n",
    "- categorical accuracy\n",
    "- f1 score // ?"
   ]
  },
  {
   "cell_type": "markdown",
   "metadata": {
    "collapsed": false
   },
   "source": [
    "#### Stratified split for all models\n",
    "Split into train_val and test by unique sequence \n",
    "\n",
    "Split into train and val via stratified split"
   ]
  },
  {
   "cell_type": "code",
   "execution_count": 41,
   "metadata": {
    "ExecuteTime": {
     "end_time": "2023-08-03T07:47:14.182800300Z",
     "start_time": "2023-08-03T07:47:13.961537600Z"
    },
    "collapsed": false
   },
   "outputs": [],
   "source": [
    "# Create an instance of StratifiedShuffleSplit\n",
    "sss = StratifiedShuffleSplit(n_splits=1, test_size=0.2, random_state=42)"
   ]
  },
  {
   "cell_type": "markdown",
   "metadata": {
    "collapsed": false
   },
   "source": [
    "#### CCE"
   ]
  },
  {
   "cell_type": "code",
   "execution_count": 46,
   "metadata": {
    "ExecuteTime": {
     "end_time": "2023-08-03T07:47:14.214061900Z",
     "start_time": "2023-08-03T07:47:13.999851Z"
    },
    "collapsed": false
   },
   "outputs": [],
   "source": [
    "from keras import Sequential, Model\n",
    "from keras.layers import Embedding, Flatten, Dense, Input\n",
    "\n",
    "inputA_embed = Input(shape=train_ds_embed[0].shape)\n",
    "x = Model(inputs=inputA_embed, outputs=inputA_embed)\n",
    "y = Embedding(input_dim=voc_len, output_dim=max_len_seq, input_length=max_len_seq)(inputA_embed)\n",
    "y = Flatten()(y)\n",
    "y = Dense(max_len_seq, activation=\"relu\")(y)\n",
    "z = Dense(num_classes, activation=\"softmax\")(y)\n",
    "multiclass_model = Model(inputs=[x.input], outputs=z)"
   ]
  },
  {
   "cell_type": "code",
   "execution_count": null,
   "metadata": {},
   "outputs": [],
   "source": [
    "multiclass_model.summary()"
   ]
  },
  {
   "cell_type": "code",
   "execution_count": null,
   "metadata": {},
   "outputs": [],
   "source": [
    "tf.keras.utils.plot_model(multiclass_model, show_shapes=True, show_layer_names=True)"
   ]
  },
  {
   "cell_type": "code",
   "execution_count": null,
   "metadata": {},
   "outputs": [],
   "source": [
    "# Define callbacks for multiclass model\n",
    "checkpoint_callback_multiclass_model = ModelCheckpoint('checkpoints/multiclass_model.h5', monitor='val_accuracy', save_best_only=True, mode='max')\n",
    "\n",
    "# Define early stopping\n",
    "early_stopping_multiclass_model = tf.keras.callbacks.EarlyStopping(monitor='val_loss', patience=10)\n",
    "\n",
    "# Compile the model\n",
    "multiclass_model.compile(loss=tf.keras.losses.CategoricalCrossentropy(), optimizer=keras.optimizers.Adam(learning_rate=0.0001), metrics=['categorical_accuracy'])"
   ]
  },
  {
   "cell_type": "code",
   "execution_count": null,
   "metadata": {},
   "outputs": [],
   "source": [
    "# training with stratified split\n",
    "# save history of model training\n",
    "history_multiclass_model = multiclass_model.fit(train_ds_embed, train_labels_embed, epochs=30, batch_size=4096, validation_data=(val_ds_embed, val_labels_embed), callbacks=[checkpoint_callback_embed, early_stopping_embed, WandbCallback()])"
   ]
  },
  {
   "cell_type": "markdown",
   "metadata": {},
   "source": [
    "### Anaylsis / Plots etc."
   ]
  },
  {
   "cell_type": "code",
   "execution_count": 49,
   "metadata": {
    "ExecuteTime": {
     "end_time": "2023-08-03T07:47:14.214061900Z",
     "start_time": "2023-08-03T07:47:14.016572400Z"
    },
    "collapsed": false
   },
   "outputs": [],
   "source": [
    "# eval"
   ]
  },
  {
   "cell_type": "markdown",
   "metadata": {},
   "source": [
    "## Postprocessing"
   ]
  },
  {
   "cell_type": "markdown",
   "metadata": {},
   "source": []
  },
  {
   "cell_type": "code",
   "execution_count": 35,
   "metadata": {},
   "outputs": [
    {
     "name": "stdout",
     "output_type": "stream",
     "text": [
      "The predicted charge state for the input sequence is 3 [53.0%].\n",
      "Prediction percentages for other states:\n",
      "Charge state 1: 0.0%\n",
      "Charge state 2: 30.0%\n",
      "Charge state 4: 17.0%\n",
      "Charge state 5: 0.0%\n",
      "Charge state 6: 0.0%\n",
      "\n"
     ]
    }
   ],
   "source": [
    "def generate_charge_prediction_text(charge_predictions):\n",
    "    max_charge_index = np.argmax(charge_predictions)\n",
    "    max_charge_value = round(charge_predictions[max_charge_index], 2)\n",
    "\n",
    "    charge_text = f\"The predicted charge state for the input sequence is {max_charge_index+1} [{round(max_charge_value*100,2)}%].\"\n",
    "    percentage_text = \"Prediction percentages for other states:\\n\"\n",
    "\n",
    "    for index, prediction in enumerate(charge_predictions):\n",
    "        if index != max_charge_index:\n",
    "            percentage = round(prediction * 100, 2)\n",
    "            percentage_text += f\"Charge state {index+1}: {percentage}%\\n\"\n",
    "\n",
    "    full_text = charge_text + \"\\n\" + percentage_text\n",
    "    return full_text\n",
    "\n",
    "\n",
    "# Beispiel\n",
    "charge_predictions = np.array([0, 0.3, 0.53, 0.17, 0, 0])\n",
    "output_text = generate_charge_prediction_text(charge_predictions)\n",
    "print(output_text)"
   ]
  },
  {
   "cell_type": "code",
   "execution_count": null,
   "metadata": {},
   "outputs": [],
   "source": []
  }
 ],
 "metadata": {
  "kernelspec": {
   "display_name": "Python 3",
   "language": "python",
   "name": "python3"
  },
  "language_info": {
   "codemirror_mode": {
    "name": "ipython",
    "version": 3
   },
   "file_extension": ".py",
   "mimetype": "text/x-python",
   "name": "python",
   "nbconvert_exporter": "python",
   "pygments_lexer": "ipython3",
   "version": "3.10.12"
  }
 },
 "nbformat": 4,
 "nbformat_minor": 0
}

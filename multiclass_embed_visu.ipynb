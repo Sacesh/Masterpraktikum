{
 "cells": [
  {
   "cell_type": "markdown",
   "source": [
    "# Playground to implement W&B as well as start hyperparameter-tuning"
   ],
   "metadata": {
    "collapsed": false
   }
  },
  {
   "cell_type": "markdown",
   "source": [
    "# WanDB"
   ],
   "metadata": {
    "collapsed": false
   }
  },
  {
   "cell_type": "code",
   "execution_count": 1,
   "outputs": [],
   "source": [
    "#%pip install wandb"
   ],
   "metadata": {
    "collapsed": false,
    "ExecuteTime": {
     "end_time": "2023-09-09T10:23:28.515921800Z",
     "start_time": "2023-09-09T10:23:27.612164600Z"
    }
   }
  },
  {
   "cell_type": "code",
   "execution_count": 2,
   "outputs": [],
   "source": [
    "import subprocess\n",
    "import wandb\n",
    "from wandb.keras import WandbCallback\n",
    "import tensorflow as tf\n",
    "import os"
   ],
   "metadata": {
    "collapsed": false,
    "ExecuteTime": {
     "end_time": "2023-09-09T10:23:40.395363500Z",
     "start_time": "2023-09-09T10:23:27.616924400Z"
    }
   }
  },
  {
   "cell_type": "code",
   "execution_count": 3,
   "outputs": [
    {
     "data": {
      "text/plain": "0"
     },
     "execution_count": 3,
     "metadata": {},
     "output_type": "execute_result"
    }
   ],
   "source": [
    "subprocess.call(['wandb', 'login', '4e8d3dcb1584ad129b3b49ccc34f65b20116ae54'])"
   ],
   "metadata": {
    "collapsed": false,
    "ExecuteTime": {
     "end_time": "2023-09-09T10:23:40.399365400Z",
     "start_time": "2023-09-09T10:23:30.891462600Z"
    }
   }
  },
  {
   "cell_type": "code",
   "execution_count": 4,
   "outputs": [
    {
     "name": "stderr",
     "output_type": "stream",
     "text": [
      "\u001B[34m\u001B[1mwandb\u001B[0m: Currently logged in as: \u001B[33mnkopp\u001B[0m (\u001B[33mteam-bioinf\u001B[0m). Use \u001B[1m`wandb login --relogin`\u001B[0m to force relogin\n"
     ]
    },
    {
     "data": {
      "text/plain": "<IPython.core.display.HTML object>",
      "text/html": "wandb version 0.15.10 is available!  To upgrade, please run:\n $ pip install wandb --upgrade"
     },
     "metadata": {},
     "output_type": "display_data"
    },
    {
     "data": {
      "text/plain": "<IPython.core.display.HTML object>",
      "text/html": "Tracking run with wandb version 0.15.5"
     },
     "metadata": {},
     "output_type": "display_data"
    },
    {
     "data": {
      "text/plain": "<IPython.core.display.HTML object>",
      "text/html": "Run data is saved locally in <code>C:\\Users\\micro\\OneDrive\\Dokumente\\GitHub\\Masterpraktikum\\wandb\\run-20230909_122337-r61jz2gj</code>"
     },
     "metadata": {},
     "output_type": "display_data"
    },
    {
     "data": {
      "text/plain": "<IPython.core.display.HTML object>",
      "text/html": "Syncing run <strong><a href='https://wandb.ai/team-bioinf/embed_visualisation/runs/r61jz2gj' target=\"_blank\">wobbly-shape-16</a></strong> to <a href='https://wandb.ai/team-bioinf/embed_visualisation' target=\"_blank\">Weights & Biases</a> (<a href='https://wandb.me/run' target=\"_blank\">docs</a>)<br/>"
     },
     "metadata": {},
     "output_type": "display_data"
    },
    {
     "data": {
      "text/plain": "<IPython.core.display.HTML object>",
      "text/html": " View project at <a href='https://wandb.ai/team-bioinf/embed_visualisation' target=\"_blank\">https://wandb.ai/team-bioinf/embed_visualisation</a>"
     },
     "metadata": {},
     "output_type": "display_data"
    },
    {
     "data": {
      "text/plain": "<IPython.core.display.HTML object>",
      "text/html": " View run at <a href='https://wandb.ai/team-bioinf/embed_visualisation/runs/r61jz2gj' target=\"_blank\">https://wandb.ai/team-bioinf/embed_visualisation/runs/r61jz2gj</a>"
     },
     "metadata": {},
     "output_type": "display_data"
    },
    {
     "data": {
      "text/html": "<button onClick=\"this.nextSibling.style.display='block';this.style.display='none';\">Display W&B run</button><iframe src='https://wandb.ai/team-bioinf/embed_visualisation/runs/r61jz2gj?jupyter=true' style='border:none;width:100%;height:420px;display:none;'></iframe>",
      "text/plain": "<wandb.sdk.wandb_run.Run at 0x284061f2310>"
     },
     "execution_count": 4,
     "metadata": {},
     "output_type": "execute_result"
    }
   ],
   "source": [
    "wandb.init(project='embed_visualisation')"
   ],
   "metadata": {
    "collapsed": false,
    "ExecuteTime": {
     "end_time": "2023-09-09T10:23:40.402365900Z",
     "start_time": "2023-09-09T10:23:34.667915900Z"
    }
   }
  },
  {
   "cell_type": "markdown",
   "source": [],
   "metadata": {
    "collapsed": false
   }
  },
  {
   "cell_type": "markdown",
   "source": [],
   "metadata": {
    "collapsed": false
   }
  },
  {
   "cell_type": "markdown",
   "source": [
    "## Setup"
   ],
   "metadata": {
    "collapsed": false
   }
  },
  {
   "cell_type": "code",
   "execution_count": 5,
   "outputs": [],
   "source": [
    "#%pip install seaborn"
   ],
   "metadata": {
    "collapsed": false,
    "ExecuteTime": {
     "end_time": "2023-09-09T10:23:40.402365900Z",
     "start_time": "2023-09-09T10:23:38.499448400Z"
    }
   }
  },
  {
   "cell_type": "code",
   "execution_count": 6,
   "outputs": [],
   "source": [
    "import re\n",
    "import os\n",
    "import random\n",
    "import numpy as np\n",
    "import pandas as pd\n",
    "import tensorflow as tf\n",
    "import matplotlib.pyplot as plt\n",
    "from sklearn.model_selection import train_test_split\n",
    "from tensorflow.keras.callbacks import ModelCheckpoint\n",
    "from sklearn.utils import class_weight\n",
    "from sklearn.model_selection import StratifiedShuffleSplit\n",
    "from sklearn.metrics import confusion_matrix, classification_report\n",
    "import seaborn as sns\n",
    "import wandb\n",
    "from wandb.keras import WandbCallback\n",
    "import keras"
   ],
   "metadata": {
    "collapsed": false,
    "ExecuteTime": {
     "end_time": "2023-09-09T10:23:40.402365900Z",
     "start_time": "2023-09-09T10:23:38.715378800Z"
    }
   }
  },
  {
   "cell_type": "code",
   "execution_count": 7,
   "outputs": [],
   "source": [
    "train_datapath = [\"data/\"+file for file in os.listdir('data') if file.endswith(\".parquet\")][0]\n",
    "batch_size = 32"
   ],
   "metadata": {
    "collapsed": false,
    "ExecuteTime": {
     "end_time": "2023-09-09T10:23:40.403370500Z",
     "start_time": "2023-09-09T10:23:39.061907500Z"
    }
   }
  },
  {
   "cell_type": "markdown",
   "source": [
    "# Dataset batches + split"
   ],
   "metadata": {
    "collapsed": false
   }
  },
  {
   "cell_type": "code",
   "execution_count": 8,
   "outputs": [],
   "source": [
    "import re\n",
    "\n",
    "def one_hot_precursor(int_value, charges=[1,2,3,4,5,6]):\n",
    "    \"\"\"\n",
    "    One-hot encodes the precursor charge\n",
    "    :param df: dataframe\n",
    "    :param max_charge_included: int\n",
    "    :return: dataframe\n",
    "    \"\"\"\n",
    "    one_hot = [1 if x == int_value else 0 for x in charges]\n",
    "\n",
    "    return one_hot"
   ],
   "metadata": {
    "collapsed": false,
    "ExecuteTime": {
     "end_time": "2023-09-09T10:23:40.403370500Z",
     "start_time": "2023-09-09T10:23:39.313938100Z"
    }
   }
  },
  {
   "cell_type": "code",
   "execution_count": 9,
   "outputs": [
    {
     "name": "stdout",
     "output_type": "stream",
     "text": [
      "data/Thermo_SRM_Pool_meta_data.parquet\n"
     ]
    }
   ],
   "source": [
    "file_list = [\"data/\"+file for file in os.listdir('data') if file.endswith('.parquet')]\n",
    "print(file_list[0])"
   ],
   "metadata": {
    "collapsed": false,
    "ExecuteTime": {
     "end_time": "2023-09-09T10:23:40.403370500Z",
     "start_time": "2023-09-09T10:23:39.542714100Z"
    }
   }
  },
  {
   "cell_type": "markdown",
   "source": [
    "### import parquet files, drop all columns we dont need for training, one-hot encode precursor charge, translate sequence"
   ],
   "metadata": {
    "collapsed": false
   }
  },
  {
   "cell_type": "code",
   "execution_count": 10,
   "outputs": [],
   "source": [
    "batches_parquet = dict()\n",
    "counter = 0\n",
    "for file in file_list:\n",
    "    df = pd.read_parquet(file, engine='fastparquet')\n",
    "    # drop all columns we dont need for training\n",
    "    for column in df.columns:\n",
    "        if column not in [\"modified_sequence\",\"precursor_intensity\", \"precursor_charge\"]:\n",
    "            df.drop(column, axis=1, inplace=True)\n",
    "    charge_ranges = [1, 2, 3, 4, 5, 6] # TODO SET RANGES\n",
    "    df = df[df[\"precursor_charge\"].isin(charge_ranges)] # remove 7+ charge states // only take charge states 2,3,4\n",
    "    df = df.dropna(subset=['precursor_intensity']) # drop rows with no precursor intensity\n",
    "    batches_parquet[file] = df\n",
    "    counter += 1\n",
    "    #if counter > 1:\n",
    "    #    break # TODO REMOVE BREAK FOR FIRST FILE IN LIST"
   ],
   "metadata": {
    "collapsed": false,
    "ExecuteTime": {
     "end_time": "2023-09-09T10:24:23.500475600Z",
     "start_time": "2023-09-09T10:23:39.758734700Z"
    }
   }
  },
  {
   "cell_type": "code",
   "execution_count": 11,
   "outputs": [],
   "source": [
    "vocabulary = []\n",
    "vocabulary+=list('XACDEFGHIKLMNPQRSTVWY')\n",
    "max_len_seq = 0\n",
    "\n",
    "for df in batches_parquet.values():\n",
    "    if max_len_seq < df['modified_sequence'].str.len().max():\n",
    "        max_len_seq = df['modified_sequence'].str.len().max()\n",
    "    annotations = re.findall(r'(\\w\\[UNIMOD:\\d+\\])', ' '.join(df['modified_sequence']))\n",
    "    #annotations = re.findall(r'[A-Z]\\[[^\\]]*\\]|.', ' '.join(df['modified_sequence']))\n",
    "    for item in annotations:\n",
    "        if item not in vocabulary:\n",
    "                vocabulary.append(item)"
   ],
   "metadata": {
    "collapsed": false,
    "ExecuteTime": {
     "end_time": "2023-09-09T10:25:05.504482700Z",
     "start_time": "2023-09-09T10:24:23.502474900Z"
    }
   }
  },
  {
   "cell_type": "code",
   "execution_count": 12,
   "outputs": [
    {
     "name": "stdout",
     "output_type": "stream",
     "text": [
      "['X', 'A', 'C', 'D', 'E', 'F', 'G', 'H', 'I', 'K', 'L', 'M', 'N', 'P', 'Q', 'R', 'S', 'T', 'V', 'W', 'Y', 'C[UNIMOD:4]', 'M[UNIMOD:35]']\n"
     ]
    },
    {
     "data": {
      "text/plain": "23"
     },
     "execution_count": 12,
     "metadata": {},
     "output_type": "execute_result"
    }
   ],
   "source": [
    "print(vocabulary)\n",
    "voc_len = len(vocabulary)\n",
    "voc_len"
   ],
   "metadata": {
    "collapsed": false,
    "ExecuteTime": {
     "end_time": "2023-09-09T10:25:05.742969700Z",
     "start_time": "2023-09-09T10:25:05.505485700Z"
    }
   }
  },
  {
   "cell_type": "code",
   "execution_count": 13,
   "outputs": [],
   "source": [
    "num_classes = len(charge_ranges)\n",
    "class_names = charge_ranges"
   ],
   "metadata": {
    "collapsed": false,
    "ExecuteTime": {
     "end_time": "2023-09-09T10:25:05.978141900Z",
     "start_time": "2023-09-09T10:25:05.743967500Z"
    }
   }
  },
  {
   "cell_type": "code",
   "execution_count": 14,
   "outputs": [
    {
     "data": {
      "text/plain": "      modified_sequence  precursor_charge  precursor_intensity\n0  LPGSLETYVEQEQGENANDR                 2           29525630.0\n1       HGSLQEYLQNDTGSK                 2           13188580.0\n2        VEEEEEINSELTAR                 2           20663460.0\n3  LPGSLETYVEQEQGENANDR                 2           19884630.0\n4  NSSTAEINETTTSSTDFLAR                 2           12804420.0",
      "text/html": "<div>\n<style scoped>\n    .dataframe tbody tr th:only-of-type {\n        vertical-align: middle;\n    }\n\n    .dataframe tbody tr th {\n        vertical-align: top;\n    }\n\n    .dataframe thead th {\n        text-align: right;\n    }\n</style>\n<table border=\"1\" class=\"dataframe\">\n  <thead>\n    <tr style=\"text-align: right;\">\n      <th></th>\n      <th>modified_sequence</th>\n      <th>precursor_charge</th>\n      <th>precursor_intensity</th>\n    </tr>\n  </thead>\n  <tbody>\n    <tr>\n      <th>0</th>\n      <td>LPGSLETYVEQEQGENANDR</td>\n      <td>2</td>\n      <td>29525630.0</td>\n    </tr>\n    <tr>\n      <th>1</th>\n      <td>HGSLQEYLQNDTGSK</td>\n      <td>2</td>\n      <td>13188580.0</td>\n    </tr>\n    <tr>\n      <th>2</th>\n      <td>VEEEEEINSELTAR</td>\n      <td>2</td>\n      <td>20663460.0</td>\n    </tr>\n    <tr>\n      <th>3</th>\n      <td>LPGSLETYVEQEQGENANDR</td>\n      <td>2</td>\n      <td>19884630.0</td>\n    </tr>\n    <tr>\n      <th>4</th>\n      <td>NSSTAEINETTTSSTDFLAR</td>\n      <td>2</td>\n      <td>12804420.0</td>\n    </tr>\n  </tbody>\n</table>\n</div>"
     },
     "execution_count": 14,
     "metadata": {},
     "output_type": "execute_result"
    }
   ],
   "source": [
    "batches_parquet[file_list[0]].head()"
   ],
   "metadata": {
    "collapsed": false,
    "ExecuteTime": {
     "end_time": "2023-09-09T10:25:06.224995100Z",
     "start_time": "2023-09-09T10:25:05.979141700Z"
    }
   }
  },
  {
   "cell_type": "code",
   "execution_count": 15,
   "outputs": [
    {
     "data": {
      "text/plain": "['data/Thermo_SRM_Pool_meta_data.parquet',\n 'data/TUM_aspn_meta_data.parquet',\n 'data/TUM_first_pool_meta_data.parquet',\n 'data/TUM_HLA2_meta_data.parquet',\n 'data/TUM_HLA_meta_data.parquet',\n 'data/TUM_isoform_meta_data.parquet',\n 'data/TUM_lysn_meta_data.parquet',\n 'data/TUM_missing_first_meta_data.parquet',\n 'data/TUM_proteo_TMT_meta_data.parquet',\n 'data/TUM_second_addon_meta_data.parquet',\n 'data/TUM_second_pool_meta_data.parquet',\n 'data/TUM_third_pool_meta_data.parquet']"
     },
     "execution_count": 15,
     "metadata": {},
     "output_type": "execute_result"
    }
   ],
   "source": [
    "file_list"
   ],
   "metadata": {
    "collapsed": false,
    "ExecuteTime": {
     "end_time": "2023-09-09T10:25:06.473741900Z",
     "start_time": "2023-09-09T10:25:06.222992100Z"
    }
   }
  },
  {
   "cell_type": "code",
   "execution_count": 16,
   "outputs": [
    {
     "data": {
      "text/plain": "2    4331294\n3    1523398\n4     115577\n5       2723\n1       1022\n6        143\nName: precursor_charge, dtype: int64"
     },
     "execution_count": 16,
     "metadata": {},
     "output_type": "execute_result"
    }
   ],
   "source": [
    "batches_parquet[file_list[0]][\"precursor_charge\"].value_counts()"
   ],
   "metadata": {
    "collapsed": false,
    "ExecuteTime": {
     "end_time": "2023-09-09T10:25:06.716355400Z",
     "start_time": "2023-09-09T10:25:06.474745500Z"
    }
   }
  },
  {
   "cell_type": "markdown",
   "source": [
    "# Normalisieren:"
   ],
   "metadata": {
    "collapsed": false
   }
  },
  {
   "cell_type": "code",
   "execution_count": 17,
   "outputs": [],
   "source": [
    "def normalize_for_most_abundant(df_charge_list, df_intensity_list):\n",
    "    # Get the index of the most abundant precursor intensity\n",
    "    charge_dict = dict()\n",
    "    for index, i in enumerate(df_charge_list):\n",
    "        charge_dict[i] = []\n",
    "        charge_dict[i].append(df_intensity_list[index])\n",
    "\n",
    "    # Normalize the precursor intensity based on the most abundant precursor intensity\n",
    "    for key, value in charge_dict.items():\n",
    "        if len(value) > 1:\n",
    "         charge_dict[key] = sum(value) - min(value) / (max(value) - min(value))\n",
    "\n",
    "    # convert list of one float to float values\n",
    "    charge_dict = {key: value[0] for key, value in charge_dict.items()}\n",
    "\n",
    "    return charge_dict"
   ],
   "metadata": {
    "collapsed": false,
    "ExecuteTime": {
     "end_time": "2023-09-09T10:25:06.928225100Z",
     "start_time": "2023-09-09T10:25:06.718350200Z"
    }
   }
  },
  {
   "cell_type": "code",
   "execution_count": 18,
   "outputs": [],
   "source": [
    "def get_most_abundant(df_charge_list, df_intensity_list, distributions=False):\n",
    "    # Get the index of the most abundant precursor intensity\n",
    "    charge_dict = dict()\n",
    "    for index, i in enumerate(df_charge_list):\n",
    "        if i not in charge_dict:\n",
    "            charge_dict[i] = df_intensity_list[index]\n",
    "        else:\n",
    "            charge_dict[i] += df_intensity_list[index]\n",
    "    if distributions:\n",
    "        #print(charge_dict)\n",
    "        return charge_dict\n",
    "    else:\n",
    "        return max(charge_dict, key=charge_dict.get)\n"
   ],
   "metadata": {
    "collapsed": false,
    "ExecuteTime": {
     "end_time": "2023-09-09T10:25:07.138296Z",
     "start_time": "2023-09-09T10:25:06.929226500Z"
    }
   }
  },
  {
   "cell_type": "code",
   "execution_count": 19,
   "outputs": [
    {
     "name": "stderr",
     "output_type": "stream",
     "text": [
      "C:\\Users\\micro\\AppData\\Local\\Temp\\ipykernel_4768\\2139590162.py:4: FutureWarning: Indexing with multiple keys (implicitly converted to a tuple of keys) will be deprecated, use a list instead.\n",
      "  df_dict[file] = batches_parquet[file].groupby(\"modified_sequence\")[\"precursor_charge\", \"precursor_intensity\"].agg(list).reset_index()\n",
      "C:\\Users\\micro\\AppData\\Local\\Temp\\ipykernel_4768\\2139590162.py:4: FutureWarning: Indexing with multiple keys (implicitly converted to a tuple of keys) will be deprecated, use a list instead.\n",
      "  df_dict[file] = batches_parquet[file].groupby(\"modified_sequence\")[\"precursor_charge\", \"precursor_intensity\"].agg(list).reset_index()\n",
      "C:\\Users\\micro\\AppData\\Local\\Temp\\ipykernel_4768\\2139590162.py:4: FutureWarning: Indexing with multiple keys (implicitly converted to a tuple of keys) will be deprecated, use a list instead.\n",
      "  df_dict[file] = batches_parquet[file].groupby(\"modified_sequence\")[\"precursor_charge\", \"precursor_intensity\"].agg(list).reset_index()\n",
      "C:\\Users\\micro\\AppData\\Local\\Temp\\ipykernel_4768\\2139590162.py:4: FutureWarning: Indexing with multiple keys (implicitly converted to a tuple of keys) will be deprecated, use a list instead.\n",
      "  df_dict[file] = batches_parquet[file].groupby(\"modified_sequence\")[\"precursor_charge\", \"precursor_intensity\"].agg(list).reset_index()\n",
      "C:\\Users\\micro\\AppData\\Local\\Temp\\ipykernel_4768\\2139590162.py:4: FutureWarning: Indexing with multiple keys (implicitly converted to a tuple of keys) will be deprecated, use a list instead.\n",
      "  df_dict[file] = batches_parquet[file].groupby(\"modified_sequence\")[\"precursor_charge\", \"precursor_intensity\"].agg(list).reset_index()\n",
      "C:\\Users\\micro\\AppData\\Local\\Temp\\ipykernel_4768\\2139590162.py:4: FutureWarning: Indexing with multiple keys (implicitly converted to a tuple of keys) will be deprecated, use a list instead.\n",
      "  df_dict[file] = batches_parquet[file].groupby(\"modified_sequence\")[\"precursor_charge\", \"precursor_intensity\"].agg(list).reset_index()\n",
      "C:\\Users\\micro\\AppData\\Local\\Temp\\ipykernel_4768\\2139590162.py:4: FutureWarning: Indexing with multiple keys (implicitly converted to a tuple of keys) will be deprecated, use a list instead.\n",
      "  df_dict[file] = batches_parquet[file].groupby(\"modified_sequence\")[\"precursor_charge\", \"precursor_intensity\"].agg(list).reset_index()\n",
      "C:\\Users\\micro\\AppData\\Local\\Temp\\ipykernel_4768\\2139590162.py:4: FutureWarning: Indexing with multiple keys (implicitly converted to a tuple of keys) will be deprecated, use a list instead.\n",
      "  df_dict[file] = batches_parquet[file].groupby(\"modified_sequence\")[\"precursor_charge\", \"precursor_intensity\"].agg(list).reset_index()\n",
      "C:\\Users\\micro\\AppData\\Local\\Temp\\ipykernel_4768\\2139590162.py:4: FutureWarning: Indexing with multiple keys (implicitly converted to a tuple of keys) will be deprecated, use a list instead.\n",
      "  df_dict[file] = batches_parquet[file].groupby(\"modified_sequence\")[\"precursor_charge\", \"precursor_intensity\"].agg(list).reset_index()\n",
      "C:\\Users\\micro\\AppData\\Local\\Temp\\ipykernel_4768\\2139590162.py:4: FutureWarning: Indexing with multiple keys (implicitly converted to a tuple of keys) will be deprecated, use a list instead.\n",
      "  df_dict[file] = batches_parquet[file].groupby(\"modified_sequence\")[\"precursor_charge\", \"precursor_intensity\"].agg(list).reset_index()\n",
      "C:\\Users\\micro\\AppData\\Local\\Temp\\ipykernel_4768\\2139590162.py:4: FutureWarning: Indexing with multiple keys (implicitly converted to a tuple of keys) will be deprecated, use a list instead.\n",
      "  df_dict[file] = batches_parquet[file].groupby(\"modified_sequence\")[\"precursor_charge\", \"precursor_intensity\"].agg(list).reset_index()\n",
      "C:\\Users\\micro\\AppData\\Local\\Temp\\ipykernel_4768\\2139590162.py:4: FutureWarning: Indexing with multiple keys (implicitly converted to a tuple of keys) will be deprecated, use a list instead.\n",
      "  df_dict[file] = batches_parquet[file].groupby(\"modified_sequence\")[\"precursor_charge\", \"precursor_intensity\"].agg(list).reset_index()\n"
     ]
    }
   ],
   "source": [
    "# load all parquets into df\n",
    "df_dict = dict()\n",
    "for file in file_list:\n",
    "    df_dict[file] = batches_parquet[file].groupby(\"modified_sequence\")[\"precursor_charge\", \"precursor_intensity\"].agg(list).reset_index()"
   ],
   "metadata": {
    "collapsed": false,
    "ExecuteTime": {
     "end_time": "2023-09-09T10:25:49.449703700Z",
     "start_time": "2023-09-09T10:25:07.139297400Z"
    }
   }
  },
  {
   "cell_type": "markdown",
   "source": [
    "# init merged_df"
   ],
   "metadata": {
    "collapsed": false
   }
  },
  {
   "cell_type": "code",
   "execution_count": 20,
   "outputs": [
    {
     "name": "stderr",
     "output_type": "stream",
     "text": [
      "C:\\Users\\micro\\AppData\\Local\\Temp\\ipykernel_4768\\1215419649.py:1: FutureWarning: Indexing with multiple keys (implicitly converted to a tuple of keys) will be deprecated, use a list instead.\n",
      "  merged_df = pd.concat(list(df_dict.values())).groupby(\"modified_sequence\")[\"precursor_charge\", \"precursor_intensity\"].sum().reset_index()\n"
     ]
    }
   ],
   "source": [
    "merged_df = pd.concat(list(df_dict.values())).groupby(\"modified_sequence\")[\"precursor_charge\", \"precursor_intensity\"].sum().reset_index()"
   ],
   "metadata": {
    "collapsed": false,
    "ExecuteTime": {
     "end_time": "2023-09-09T10:25:51.762970100Z",
     "start_time": "2023-09-09T10:25:49.450702900Z"
    }
   }
  },
  {
   "cell_type": "code",
   "execution_count": 21,
   "outputs": [],
   "source": [
    "merged_df['seq_len_prepadding'] = merged_df['modified_sequence'].apply(lambda x: len(x))"
   ],
   "metadata": {
    "collapsed": false,
    "ExecuteTime": {
     "end_time": "2023-09-09T10:25:52.314715700Z",
     "start_time": "2023-09-09T10:25:51.763974300Z"
    }
   }
  },
  {
   "cell_type": "code",
   "execution_count": 22,
   "outputs": [
    {
     "data": {
      "text/plain": "87     9\n82     8\n85     7\n89     6\n90     5\n107    4\n97     4\n95     4\n92     4\n83     3\n86     3\n98     3\n91     2\n84     2\n93     2\n88     2\n96     2\n110    2\n105    1\n104    1\n102    1\n94     1\n103    1\n115    1\n99     1\n125    1\n108    1\nName: seq_len_prepadding, dtype: int64"
     },
     "execution_count": 22,
     "metadata": {},
     "output_type": "execute_result"
    }
   ],
   "source": [
    "len_counts = merged_df['seq_len_prepadding'].value_counts()\n",
    "seq_too_long = len_counts[len_counts <= 10]\n",
    "seq_too_long"
   ],
   "metadata": {
    "collapsed": false,
    "ExecuteTime": {
     "end_time": "2023-09-09T10:25:52.551579300Z",
     "start_time": "2023-09-09T10:25:52.314715700Z"
    }
   }
  },
  {
   "cell_type": "code",
   "execution_count": 23,
   "outputs": [
    {
     "data": {
      "text/plain": "    seq_len  count\n0        50   1087\n1        51    764\n2        52    595\n3        53    426\n4        56    385\n5        57    385\n6        55    382\n7        58    373\n8        54    366\n9        59    290\n10       60    245\n11       61    199\n12       62    140\n13       63    105\n14       67     86\n15       66     81\n16       65     78\n17       64     78\n18       68     72\n19       69     69\n20       70     67\n21       71     34\n22       72     31\n23       75     26\n24       77     21\n25       74     21\n26       78     21\n27       73     18\n28       81     17\n29       79     16\n30       80     15\n31       76     13\n32      100     12\n33       87      9\n34       82      8\n35       85      7\n36       89      6\n37       90      5\n38      107      4\n39       97      4\n40       95      4\n41       92      4\n42       83      3\n43       86      3\n44       98      3\n45       91      2\n46       84      2\n47       93      2\n48       88      2\n49       96      2\n50      110      2\n51      105      1\n52      104      1\n53      102      1\n54       94      1\n55      103      1\n56      115      1\n57       99      1\n58      125      1\n59      108      1",
      "text/html": "<div>\n<style scoped>\n    .dataframe tbody tr th:only-of-type {\n        vertical-align: middle;\n    }\n\n    .dataframe tbody tr th {\n        vertical-align: top;\n    }\n\n    .dataframe thead th {\n        text-align: right;\n    }\n</style>\n<table border=\"1\" class=\"dataframe\">\n  <thead>\n    <tr style=\"text-align: right;\">\n      <th></th>\n      <th>seq_len</th>\n      <th>count</th>\n    </tr>\n  </thead>\n  <tbody>\n    <tr>\n      <th>0</th>\n      <td>50</td>\n      <td>1087</td>\n    </tr>\n    <tr>\n      <th>1</th>\n      <td>51</td>\n      <td>764</td>\n    </tr>\n    <tr>\n      <th>2</th>\n      <td>52</td>\n      <td>595</td>\n    </tr>\n    <tr>\n      <th>3</th>\n      <td>53</td>\n      <td>426</td>\n    </tr>\n    <tr>\n      <th>4</th>\n      <td>56</td>\n      <td>385</td>\n    </tr>\n    <tr>\n      <th>5</th>\n      <td>57</td>\n      <td>385</td>\n    </tr>\n    <tr>\n      <th>6</th>\n      <td>55</td>\n      <td>382</td>\n    </tr>\n    <tr>\n      <th>7</th>\n      <td>58</td>\n      <td>373</td>\n    </tr>\n    <tr>\n      <th>8</th>\n      <td>54</td>\n      <td>366</td>\n    </tr>\n    <tr>\n      <th>9</th>\n      <td>59</td>\n      <td>290</td>\n    </tr>\n    <tr>\n      <th>10</th>\n      <td>60</td>\n      <td>245</td>\n    </tr>\n    <tr>\n      <th>11</th>\n      <td>61</td>\n      <td>199</td>\n    </tr>\n    <tr>\n      <th>12</th>\n      <td>62</td>\n      <td>140</td>\n    </tr>\n    <tr>\n      <th>13</th>\n      <td>63</td>\n      <td>105</td>\n    </tr>\n    <tr>\n      <th>14</th>\n      <td>67</td>\n      <td>86</td>\n    </tr>\n    <tr>\n      <th>15</th>\n      <td>66</td>\n      <td>81</td>\n    </tr>\n    <tr>\n      <th>16</th>\n      <td>65</td>\n      <td>78</td>\n    </tr>\n    <tr>\n      <th>17</th>\n      <td>64</td>\n      <td>78</td>\n    </tr>\n    <tr>\n      <th>18</th>\n      <td>68</td>\n      <td>72</td>\n    </tr>\n    <tr>\n      <th>19</th>\n      <td>69</td>\n      <td>69</td>\n    </tr>\n    <tr>\n      <th>20</th>\n      <td>70</td>\n      <td>67</td>\n    </tr>\n    <tr>\n      <th>21</th>\n      <td>71</td>\n      <td>34</td>\n    </tr>\n    <tr>\n      <th>22</th>\n      <td>72</td>\n      <td>31</td>\n    </tr>\n    <tr>\n      <th>23</th>\n      <td>75</td>\n      <td>26</td>\n    </tr>\n    <tr>\n      <th>24</th>\n      <td>77</td>\n      <td>21</td>\n    </tr>\n    <tr>\n      <th>25</th>\n      <td>74</td>\n      <td>21</td>\n    </tr>\n    <tr>\n      <th>26</th>\n      <td>78</td>\n      <td>21</td>\n    </tr>\n    <tr>\n      <th>27</th>\n      <td>73</td>\n      <td>18</td>\n    </tr>\n    <tr>\n      <th>28</th>\n      <td>81</td>\n      <td>17</td>\n    </tr>\n    <tr>\n      <th>29</th>\n      <td>79</td>\n      <td>16</td>\n    </tr>\n    <tr>\n      <th>30</th>\n      <td>80</td>\n      <td>15</td>\n    </tr>\n    <tr>\n      <th>31</th>\n      <td>76</td>\n      <td>13</td>\n    </tr>\n    <tr>\n      <th>32</th>\n      <td>100</td>\n      <td>12</td>\n    </tr>\n    <tr>\n      <th>33</th>\n      <td>87</td>\n      <td>9</td>\n    </tr>\n    <tr>\n      <th>34</th>\n      <td>82</td>\n      <td>8</td>\n    </tr>\n    <tr>\n      <th>35</th>\n      <td>85</td>\n      <td>7</td>\n    </tr>\n    <tr>\n      <th>36</th>\n      <td>89</td>\n      <td>6</td>\n    </tr>\n    <tr>\n      <th>37</th>\n      <td>90</td>\n      <td>5</td>\n    </tr>\n    <tr>\n      <th>38</th>\n      <td>107</td>\n      <td>4</td>\n    </tr>\n    <tr>\n      <th>39</th>\n      <td>97</td>\n      <td>4</td>\n    </tr>\n    <tr>\n      <th>40</th>\n      <td>95</td>\n      <td>4</td>\n    </tr>\n    <tr>\n      <th>41</th>\n      <td>92</td>\n      <td>4</td>\n    </tr>\n    <tr>\n      <th>42</th>\n      <td>83</td>\n      <td>3</td>\n    </tr>\n    <tr>\n      <th>43</th>\n      <td>86</td>\n      <td>3</td>\n    </tr>\n    <tr>\n      <th>44</th>\n      <td>98</td>\n      <td>3</td>\n    </tr>\n    <tr>\n      <th>45</th>\n      <td>91</td>\n      <td>2</td>\n    </tr>\n    <tr>\n      <th>46</th>\n      <td>84</td>\n      <td>2</td>\n    </tr>\n    <tr>\n      <th>47</th>\n      <td>93</td>\n      <td>2</td>\n    </tr>\n    <tr>\n      <th>48</th>\n      <td>88</td>\n      <td>2</td>\n    </tr>\n    <tr>\n      <th>49</th>\n      <td>96</td>\n      <td>2</td>\n    </tr>\n    <tr>\n      <th>50</th>\n      <td>110</td>\n      <td>2</td>\n    </tr>\n    <tr>\n      <th>51</th>\n      <td>105</td>\n      <td>1</td>\n    </tr>\n    <tr>\n      <th>52</th>\n      <td>104</td>\n      <td>1</td>\n    </tr>\n    <tr>\n      <th>53</th>\n      <td>102</td>\n      <td>1</td>\n    </tr>\n    <tr>\n      <th>54</th>\n      <td>94</td>\n      <td>1</td>\n    </tr>\n    <tr>\n      <th>55</th>\n      <td>103</td>\n      <td>1</td>\n    </tr>\n    <tr>\n      <th>56</th>\n      <td>115</td>\n      <td>1</td>\n    </tr>\n    <tr>\n      <th>57</th>\n      <td>99</td>\n      <td>1</td>\n    </tr>\n    <tr>\n      <th>58</th>\n      <td>125</td>\n      <td>1</td>\n    </tr>\n    <tr>\n      <th>59</th>\n      <td>108</td>\n      <td>1</td>\n    </tr>\n  </tbody>\n</table>\n</div>"
     },
     "execution_count": 23,
     "metadata": {},
     "output_type": "execute_result"
    }
   ],
   "source": [
    "seq_lengths = merged_df['seq_len_prepadding'].value_counts().index.values, merged_df['seq_len_prepadding'].value_counts().values\n",
    "seq_too_long = pd.DataFrame()\n",
    "seq_too_long['seq_len'] = seq_lengths[0][seq_lengths[0] >= 50]\n",
    "seq_too_long['count'] = seq_lengths[1][seq_lengths[0] >= 50]\n",
    "seq_too_long"
   ],
   "metadata": {
    "collapsed": false,
    "ExecuteTime": {
     "end_time": "2023-09-09T10:25:52.797750400Z",
     "start_time": "2023-09-09T10:25:52.553577900Z"
    }
   }
  },
  {
   "cell_type": "code",
   "execution_count": 24,
   "outputs": [],
   "source": [
    "# give smallest seq_len when count <= 100\n",
    "seq_len_cutoff_df = seq_too_long[seq_too_long['count'] <= 100]\n",
    "seq_len_cutoff = min(seq_len_cutoff_df['seq_len'])"
   ],
   "metadata": {
    "collapsed": false,
    "ExecuteTime": {
     "end_time": "2023-09-09T10:25:53.003729700Z",
     "start_time": "2023-09-09T10:25:52.794751900Z"
    }
   }
  },
  {
   "cell_type": "code",
   "execution_count": 25,
   "outputs": [
    {
     "data": {
      "text/plain": "64"
     },
     "execution_count": 25,
     "metadata": {},
     "output_type": "execute_result"
    }
   ],
   "source": [
    "seq_len_cutoff"
   ],
   "metadata": {
    "collapsed": false,
    "ExecuteTime": {
     "end_time": "2023-09-09T10:25:53.230746200Z",
     "start_time": "2023-09-09T10:25:53.004725400Z"
    }
   }
  },
  {
   "cell_type": "code",
   "execution_count": 26,
   "outputs": [],
   "source": [
    "# reapply max len\n",
    "max_len_seq = seq_len_cutoff-1"
   ],
   "metadata": {
    "collapsed": false,
    "ExecuteTime": {
     "end_time": "2023-09-09T10:25:53.436711300Z",
     "start_time": "2023-09-09T10:25:53.232743300Z"
    }
   }
  },
  {
   "cell_type": "code",
   "execution_count": 27,
   "outputs": [],
   "source": [
    "def seq_translator(sequence, dictionary=vocabulary, max_len=max_len_seq, print_result=False, no_padding=False):\n",
    "    \"\"\"\n",
    "    Translates a sequence into a vector of integers\n",
    "    :param print_result:\n",
    "    :param max_len:\n",
    "    :param sequence: string\n",
    "    :param dictionary: dictionary\n",
    "    :return: list\n",
    "    \"\"\"\n",
    "    pattern = r'[A-Z]\\[[^\\]]*\\]|.' # regex pattern to match amino acids and modifications\n",
    "    #pattern = r'(\\w\\[UNIMOD:\\d+\\])' # regex pattern to match amino acids and modifications\n",
    "\n",
    "    result = [match for match in re.findall(pattern, sequence)]\n",
    "\n",
    "    # Fill the list with \"X\" characters until it reaches a length of 40\n",
    "    if not no_padding:\n",
    "        result += ['X'] * (max_len - len(result))\n",
    "    if print_result:\n",
    "        print(result)\n",
    "\n",
    "    aa_dictionary = dict()\n",
    "    for index, aa in enumerate(dictionary):\n",
    "        aa_dictionary[aa] = index\n",
    "\n",
    "    return [aa_dictionary[aa] for aa in result]"
   ],
   "metadata": {
    "collapsed": false,
    "ExecuteTime": {
     "end_time": "2023-09-09T10:25:53.677721600Z",
     "start_time": "2023-09-09T10:25:53.438711300Z"
    }
   }
  },
  {
   "cell_type": "code",
   "execution_count": 28,
   "outputs": [],
   "source": [
    "delete_a_row = True\n",
    "if delete_a_row:\n",
    "# delete row if seq_len_prepadding larger or equal to seq_len_cutoff\n",
    "    index_to_delete_seq = merged_df[merged_df['seq_len_prepadding'] >= seq_len_cutoff].index\n",
    "    merged_df.drop(index_to_delete_seq, inplace=True)"
   ],
   "metadata": {
    "collapsed": false,
    "ExecuteTime": {
     "end_time": "2023-09-09T10:25:54.107760300Z",
     "start_time": "2023-09-09T10:25:53.683723900Z"
    }
   }
  },
  {
   "cell_type": "code",
   "execution_count": 29,
   "outputs": [
    {
     "data": {
      "text/plain": "Empty DataFrame\nColumns: [modified_sequence, precursor_charge, precursor_intensity, seq_len_prepadding]\nIndex: []",
      "text/html": "<div>\n<style scoped>\n    .dataframe tbody tr th:only-of-type {\n        vertical-align: middle;\n    }\n\n    .dataframe tbody tr th {\n        vertical-align: top;\n    }\n\n    .dataframe thead th {\n        text-align: right;\n    }\n</style>\n<table border=\"1\" class=\"dataframe\">\n  <thead>\n    <tr style=\"text-align: right;\">\n      <th></th>\n      <th>modified_sequence</th>\n      <th>precursor_charge</th>\n      <th>precursor_intensity</th>\n      <th>seq_len_prepadding</th>\n    </tr>\n  </thead>\n  <tbody>\n  </tbody>\n</table>\n</div>"
     },
     "execution_count": 29,
     "metadata": {},
     "output_type": "execute_result"
    }
   ],
   "source": [
    "# output all sequences with seq_len_prepadding >= 50\n",
    "merged_df[merged_df['seq_len_prepadding'] >= seq_len_cutoff]"
   ],
   "metadata": {
    "collapsed": false,
    "ExecuteTime": {
     "end_time": "2023-09-09T10:25:54.345346600Z",
     "start_time": "2023-09-09T10:25:54.108157100Z"
    }
   }
  },
  {
   "cell_type": "code",
   "execution_count": 30,
   "outputs": [],
   "source": [
    "merged_df['normalized'] = merged_df.apply(lambda x: normalize_for_most_abundant(x[\"precursor_charge\"], x[\"precursor_intensity\"]), axis=1)"
   ],
   "metadata": {
    "collapsed": false,
    "ExecuteTime": {
     "end_time": "2023-09-09T10:26:05.981865900Z",
     "start_time": "2023-09-09T10:25:54.346351700Z"
    }
   }
  },
  {
   "cell_type": "code",
   "execution_count": 31,
   "outputs": [],
   "source": [
    "merged_df['pre_normalization'] = merged_df.apply(lambda x: get_most_abundant(x[\"precursor_charge\"], x[\"precursor_intensity\"], True), axis=1)"
   ],
   "metadata": {
    "collapsed": false,
    "ExecuteTime": {
     "end_time": "2023-09-09T10:26:16.249881400Z",
     "start_time": "2023-09-09T10:26:05.982870500Z"
    }
   }
  },
  {
   "cell_type": "code",
   "execution_count": 32,
   "outputs": [],
   "source": [
    "# return key for max value in dict\n",
    "merged_df['most_abundant_charge'] = merged_df['normalized'].apply(lambda x: max(x, key=x.get))"
   ],
   "metadata": {
    "collapsed": false,
    "ExecuteTime": {
     "end_time": "2023-09-09T10:26:16.929488400Z",
     "start_time": "2023-09-09T10:26:16.250882600Z"
    }
   }
  },
  {
   "cell_type": "code",
   "execution_count": 33,
   "outputs": [],
   "source": [
    "merged_df[\"most_abundant_charge_vector\"] = merged_df[\"most_abundant_charge\"].apply(one_hot_precursor, args=(charge_ranges,))"
   ],
   "metadata": {
    "collapsed": false,
    "ExecuteTime": {
     "end_time": "2023-09-09T10:26:19.882091300Z",
     "start_time": "2023-09-09T10:26:16.931484100Z"
    }
   }
  },
  {
   "cell_type": "code",
   "execution_count": 34,
   "outputs": [],
   "source": [
    "merged_df[\"modified_sequence_vector\"] = merged_df[\"modified_sequence\"].apply(seq_translator)"
   ],
   "metadata": {
    "collapsed": false,
    "ExecuteTime": {
     "end_time": "2023-09-09T10:26:27.399332800Z",
     "start_time": "2023-09-09T10:26:19.882091300Z"
    }
   }
  },
  {
   "cell_type": "code",
   "execution_count": 35,
   "outputs": [
    {
     "data": {
      "text/plain": "             modified_sequence  \\\n0       AAAAAAAAAAAAAAAAGLGLGP   \n1        AAAAAAAAAAAAAAAASAGGK   \n2       AAAAAAAAAAAAAAAGAGAGAK   \n3   AAAAAAAAAAAAAAASGFAYPGTSER   \n4              AAAAAAAAAAAAAAG   \n5            AAAAAAAAAAAAAAGAG   \n6       AAAAAAAAAAAAAAGGLALGLH   \n7          AAAAAAAAAAAAAAVTSGV   \n8             AAAAAAAAAAAAAGAG   \n9               AAAAAAAAAAAAAK   \n10            AAAAAAAAAAAAHLPS   \n\n                                     precursor_charge  \\\n0   [2, 3, 2, 1, 1, 2, 2, 2, 2, 2, 2, 3, 3, 3, 3, ...   \n1       [2, 2, 2, 2, 2, 2, 2, 2, 2, 2, 2, 2, 2, 2, 2]   \n2                                        [2, 2, 2, 2]   \n3   [2, 2, 2, 2, 2, 2, 2, 2, 2, 2, 2, 2, 2, 2, 2, ...   \n4   [1, 1, 1, 1, 1, 1, 1, 1, 1, 1, 1, 1, 1, 1, 1, ...   \n5   [1, 1, 1, 1, 1, 1, 1, 1, 1, 1, 1, 1, 1, 1, 1, ...   \n6   [2, 2, 2, 2, 2, 2, 2, 2, 2, 2, 2, 2, 2, 2, 2, ...   \n7   [2, 2, 2, 2, 2, 2, 2, 2, 2, 2, 2, 2, 2, 2, 2, ...   \n8   [1, 2, 1, 1, 1, 1, 1, 2, 2, 2, 2, 2, 2, 2, 1, ...   \n9   [1, 2, 2, 2, 2, 2, 1, 1, 1, 2, 2, 1, 1, 2, 2, ...   \n10  [2, 2, 2, 2, 2, 2, 2, 2, 2, 2, 2, 2, 2, 2, 2, ...   \n\n                                  precursor_intensity  seq_len_prepadding  \\\n0   [12746190.0, 2009914.0, 12746190.0, 791369.9, ...                  22   \n1   [5944787.0, 5944787.0, 8502878.0, 6425294.0, 8...                  21   \n2        [3067981.0, 3067981.0, 3067981.0, 3067981.0]                  22   \n3   [11913300.0, 11913300.0, 11913300.0, 11913300....                  26   \n4   [1573785.0, 4638296.0, 7934979.0, 2019978.0, 4...                  15   \n5   [853119.3, 4332449.0, 3688977.0, 3469130.0, 33...                  17   \n6   [33516080.0, 33516080.0, 8522070.0, 4549188.0,...                  22   \n7   [4576179.0, 3336856.0, 4954145.0, 4317804.0, 3...                  19   \n8   [1233316.0, 2671238.0, 11414430.0, 13683660.0,...                  16   \n9   [2540360.0, 31115000.0, 31115000.0, 70371250.0...                  14   \n10  [27030420.0, 22099630.0, 71770480.0, 22099630....                  16   \n\n                                  normalized  \\\n0   {2: 588796.3, 3: 4654280.0, 1: 791369.9}   \n1                              {2: 303307.5}   \n2                             {2: 3067981.0}   \n3               {2: 8093413.0, 3: 1414907.0}   \n4                             {1: 1124818.0}   \n5                              {1: 679216.3}   \n6                              {2: 365943.3}   \n7              {2: 14611910.0, 1: 1211272.0}   \n8               {1: 1879604.0, 2: 2586197.0}   \n9              {1: 8372130.0, 2: 15308280.0}   \n10                            {2: 5810305.0}   \n\n                                 pre_normalization  most_abundant_charge  \\\n0   {2: 1043873837.3, 3: 30130627.0, 1: 1582739.8}                     3   \n1                                 {2: 107202221.5}                     2   \n2                                  {2: 12271924.0}                     2   \n3                   {2: 148659685.0, 3: 4244721.0}                     2   \n4                           {1: 546950229.4000001}                     1   \n5                                  {1: 52634067.9}                     1   \n6                           {2: 6848110396.300002}                     2   \n7            {2: 225462597.40000004, 1: 5840742.2}                     2   \n8                 {1: 349665943.5, 2: 228379326.3}                     2   \n9                 {1: 99493666.2, 2: 6574531120.0}                     2   \n10                               {2: 9446767331.0}                     2   \n\n   most_abundant_charge_vector  \\\n0           [0, 0, 1, 0, 0, 0]   \n1           [0, 1, 0, 0, 0, 0]   \n2           [0, 1, 0, 0, 0, 0]   \n3           [0, 1, 0, 0, 0, 0]   \n4           [1, 0, 0, 0, 0, 0]   \n5           [1, 0, 0, 0, 0, 0]   \n6           [0, 1, 0, 0, 0, 0]   \n7           [0, 1, 0, 0, 0, 0]   \n8           [0, 1, 0, 0, 0, 0]   \n9           [0, 1, 0, 0, 0, 0]   \n10          [0, 1, 0, 0, 0, 0]   \n\n                             modified_sequence_vector  \n0   [1, 1, 1, 1, 1, 1, 1, 1, 1, 1, 1, 1, 1, 1, 1, ...  \n1   [1, 1, 1, 1, 1, 1, 1, 1, 1, 1, 1, 1, 1, 1, 1, ...  \n2   [1, 1, 1, 1, 1, 1, 1, 1, 1, 1, 1, 1, 1, 1, 1, ...  \n3   [1, 1, 1, 1, 1, 1, 1, 1, 1, 1, 1, 1, 1, 1, 1, ...  \n4   [1, 1, 1, 1, 1, 1, 1, 1, 1, 1, 1, 1, 1, 1, 6, ...  \n5   [1, 1, 1, 1, 1, 1, 1, 1, 1, 1, 1, 1, 1, 1, 6, ...  \n6   [1, 1, 1, 1, 1, 1, 1, 1, 1, 1, 1, 1, 1, 1, 6, ...  \n7   [1, 1, 1, 1, 1, 1, 1, 1, 1, 1, 1, 1, 1, 1, 18,...  \n8   [1, 1, 1, 1, 1, 1, 1, 1, 1, 1, 1, 1, 1, 6, 1, ...  \n9   [1, 1, 1, 1, 1, 1, 1, 1, 1, 1, 1, 1, 1, 9, 0, ...  \n10  [1, 1, 1, 1, 1, 1, 1, 1, 1, 1, 1, 1, 7, 10, 13...  ",
      "text/html": "<div>\n<style scoped>\n    .dataframe tbody tr th:only-of-type {\n        vertical-align: middle;\n    }\n\n    .dataframe tbody tr th {\n        vertical-align: top;\n    }\n\n    .dataframe thead th {\n        text-align: right;\n    }\n</style>\n<table border=\"1\" class=\"dataframe\">\n  <thead>\n    <tr style=\"text-align: right;\">\n      <th></th>\n      <th>modified_sequence</th>\n      <th>precursor_charge</th>\n      <th>precursor_intensity</th>\n      <th>seq_len_prepadding</th>\n      <th>normalized</th>\n      <th>pre_normalization</th>\n      <th>most_abundant_charge</th>\n      <th>most_abundant_charge_vector</th>\n      <th>modified_sequence_vector</th>\n    </tr>\n  </thead>\n  <tbody>\n    <tr>\n      <th>0</th>\n      <td>AAAAAAAAAAAAAAAAGLGLGP</td>\n      <td>[2, 3, 2, 1, 1, 2, 2, 2, 2, 2, 2, 3, 3, 3, 3, ...</td>\n      <td>[12746190.0, 2009914.0, 12746190.0, 791369.9, ...</td>\n      <td>22</td>\n      <td>{2: 588796.3, 3: 4654280.0, 1: 791369.9}</td>\n      <td>{2: 1043873837.3, 3: 30130627.0, 1: 1582739.8}</td>\n      <td>3</td>\n      <td>[0, 0, 1, 0, 0, 0]</td>\n      <td>[1, 1, 1, 1, 1, 1, 1, 1, 1, 1, 1, 1, 1, 1, 1, ...</td>\n    </tr>\n    <tr>\n      <th>1</th>\n      <td>AAAAAAAAAAAAAAAASAGGK</td>\n      <td>[2, 2, 2, 2, 2, 2, 2, 2, 2, 2, 2, 2, 2, 2, 2]</td>\n      <td>[5944787.0, 5944787.0, 8502878.0, 6425294.0, 8...</td>\n      <td>21</td>\n      <td>{2: 303307.5}</td>\n      <td>{2: 107202221.5}</td>\n      <td>2</td>\n      <td>[0, 1, 0, 0, 0, 0]</td>\n      <td>[1, 1, 1, 1, 1, 1, 1, 1, 1, 1, 1, 1, 1, 1, 1, ...</td>\n    </tr>\n    <tr>\n      <th>2</th>\n      <td>AAAAAAAAAAAAAAAGAGAGAK</td>\n      <td>[2, 2, 2, 2]</td>\n      <td>[3067981.0, 3067981.0, 3067981.0, 3067981.0]</td>\n      <td>22</td>\n      <td>{2: 3067981.0}</td>\n      <td>{2: 12271924.0}</td>\n      <td>2</td>\n      <td>[0, 1, 0, 0, 0, 0]</td>\n      <td>[1, 1, 1, 1, 1, 1, 1, 1, 1, 1, 1, 1, 1, 1, 1, ...</td>\n    </tr>\n    <tr>\n      <th>3</th>\n      <td>AAAAAAAAAAAAAAASGFAYPGTSER</td>\n      <td>[2, 2, 2, 2, 2, 2, 2, 2, 2, 2, 2, 2, 2, 2, 2, ...</td>\n      <td>[11913300.0, 11913300.0, 11913300.0, 11913300....</td>\n      <td>26</td>\n      <td>{2: 8093413.0, 3: 1414907.0}</td>\n      <td>{2: 148659685.0, 3: 4244721.0}</td>\n      <td>2</td>\n      <td>[0, 1, 0, 0, 0, 0]</td>\n      <td>[1, 1, 1, 1, 1, 1, 1, 1, 1, 1, 1, 1, 1, 1, 1, ...</td>\n    </tr>\n    <tr>\n      <th>4</th>\n      <td>AAAAAAAAAAAAAAG</td>\n      <td>[1, 1, 1, 1, 1, 1, 1, 1, 1, 1, 1, 1, 1, 1, 1, ...</td>\n      <td>[1573785.0, 4638296.0, 7934979.0, 2019978.0, 4...</td>\n      <td>15</td>\n      <td>{1: 1124818.0}</td>\n      <td>{1: 546950229.4000001}</td>\n      <td>1</td>\n      <td>[1, 0, 0, 0, 0, 0]</td>\n      <td>[1, 1, 1, 1, 1, 1, 1, 1, 1, 1, 1, 1, 1, 1, 6, ...</td>\n    </tr>\n    <tr>\n      <th>5</th>\n      <td>AAAAAAAAAAAAAAGAG</td>\n      <td>[1, 1, 1, 1, 1, 1, 1, 1, 1, 1, 1, 1, 1, 1, 1, ...</td>\n      <td>[853119.3, 4332449.0, 3688977.0, 3469130.0, 33...</td>\n      <td>17</td>\n      <td>{1: 679216.3}</td>\n      <td>{1: 52634067.9}</td>\n      <td>1</td>\n      <td>[1, 0, 0, 0, 0, 0]</td>\n      <td>[1, 1, 1, 1, 1, 1, 1, 1, 1, 1, 1, 1, 1, 1, 6, ...</td>\n    </tr>\n    <tr>\n      <th>6</th>\n      <td>AAAAAAAAAAAAAAGGLALGLH</td>\n      <td>[2, 2, 2, 2, 2, 2, 2, 2, 2, 2, 2, 2, 2, 2, 2, ...</td>\n      <td>[33516080.0, 33516080.0, 8522070.0, 4549188.0,...</td>\n      <td>22</td>\n      <td>{2: 365943.3}</td>\n      <td>{2: 6848110396.300002}</td>\n      <td>2</td>\n      <td>[0, 1, 0, 0, 0, 0]</td>\n      <td>[1, 1, 1, 1, 1, 1, 1, 1, 1, 1, 1, 1, 1, 1, 6, ...</td>\n    </tr>\n    <tr>\n      <th>7</th>\n      <td>AAAAAAAAAAAAAAVTSGV</td>\n      <td>[2, 2, 2, 2, 2, 2, 2, 2, 2, 2, 2, 2, 2, 2, 2, ...</td>\n      <td>[4576179.0, 3336856.0, 4954145.0, 4317804.0, 3...</td>\n      <td>19</td>\n      <td>{2: 14611910.0, 1: 1211272.0}</td>\n      <td>{2: 225462597.40000004, 1: 5840742.2}</td>\n      <td>2</td>\n      <td>[0, 1, 0, 0, 0, 0]</td>\n      <td>[1, 1, 1, 1, 1, 1, 1, 1, 1, 1, 1, 1, 1, 1, 18,...</td>\n    </tr>\n    <tr>\n      <th>8</th>\n      <td>AAAAAAAAAAAAAGAG</td>\n      <td>[1, 2, 1, 1, 1, 1, 1, 2, 2, 2, 2, 2, 2, 2, 1, ...</td>\n      <td>[1233316.0, 2671238.0, 11414430.0, 13683660.0,...</td>\n      <td>16</td>\n      <td>{1: 1879604.0, 2: 2586197.0}</td>\n      <td>{1: 349665943.5, 2: 228379326.3}</td>\n      <td>2</td>\n      <td>[0, 1, 0, 0, 0, 0]</td>\n      <td>[1, 1, 1, 1, 1, 1, 1, 1, 1, 1, 1, 1, 1, 6, 1, ...</td>\n    </tr>\n    <tr>\n      <th>9</th>\n      <td>AAAAAAAAAAAAAK</td>\n      <td>[1, 2, 2, 2, 2, 2, 1, 1, 1, 2, 2, 1, 1, 2, 2, ...</td>\n      <td>[2540360.0, 31115000.0, 31115000.0, 70371250.0...</td>\n      <td>14</td>\n      <td>{1: 8372130.0, 2: 15308280.0}</td>\n      <td>{1: 99493666.2, 2: 6574531120.0}</td>\n      <td>2</td>\n      <td>[0, 1, 0, 0, 0, 0]</td>\n      <td>[1, 1, 1, 1, 1, 1, 1, 1, 1, 1, 1, 1, 1, 9, 0, ...</td>\n    </tr>\n    <tr>\n      <th>10</th>\n      <td>AAAAAAAAAAAAHLPS</td>\n      <td>[2, 2, 2, 2, 2, 2, 2, 2, 2, 2, 2, 2, 2, 2, 2, ...</td>\n      <td>[27030420.0, 22099630.0, 71770480.0, 22099630....</td>\n      <td>16</td>\n      <td>{2: 5810305.0}</td>\n      <td>{2: 9446767331.0}</td>\n      <td>2</td>\n      <td>[0, 1, 0, 0, 0, 0]</td>\n      <td>[1, 1, 1, 1, 1, 1, 1, 1, 1, 1, 1, 1, 7, 10, 13...</td>\n    </tr>\n  </tbody>\n</table>\n</div>"
     },
     "execution_count": 35,
     "metadata": {},
     "output_type": "execute_result"
    }
   ],
   "source": [
    "merged_df.head(11)"
   ],
   "metadata": {
    "collapsed": false,
    "ExecuteTime": {
     "end_time": "2023-09-09T10:26:27.683621Z",
     "start_time": "2023-09-09T10:26:27.400333500Z"
    }
   }
  },
  {
   "cell_type": "code",
   "execution_count": 36,
   "outputs": [
    {
     "data": {
      "text/plain": "830820"
     },
     "execution_count": 36,
     "metadata": {},
     "output_type": "execute_result"
    }
   ],
   "source": [
    "len(merged_df)"
   ],
   "metadata": {
    "collapsed": false,
    "ExecuteTime": {
     "end_time": "2023-09-09T10:26:27.897244500Z",
     "start_time": "2023-09-09T10:26:27.683621Z"
    }
   }
  },
  {
   "cell_type": "code",
   "execution_count": 37,
   "outputs": [
    {
     "data": {
      "text/plain": "2    452544\n3    259972\n4     65966\n1     41352\n5      9069\n6      1917\nName: most_abundant_charge, dtype: int64"
     },
     "execution_count": 37,
     "metadata": {},
     "output_type": "execute_result"
    }
   ],
   "source": [
    "merged_df[\"most_abundant_charge\"].value_counts()"
   ],
   "metadata": {
    "collapsed": false,
    "ExecuteTime": {
     "end_time": "2023-09-09T10:26:28.180177600Z",
     "start_time": "2023-09-09T10:26:27.898249600Z"
    }
   }
  },
  {
   "cell_type": "code",
   "execution_count": 38,
   "outputs": [],
   "source": [
    "#get the"
   ],
   "metadata": {
    "collapsed": false,
    "ExecuteTime": {
     "end_time": "2023-09-09T10:26:28.396156800Z",
     "start_time": "2023-09-09T10:26:28.180177600Z"
    }
   }
  },
  {
   "cell_type": "code",
   "execution_count": 39,
   "outputs": [
    {
     "name": "stdout",
     "output_type": "stream",
     "text": [
      "data/Thermo_SRM_Pool_meta_data.parquet\n"
     ]
    },
    {
     "name": "stderr",
     "output_type": "stream",
     "text": [
      "C:\\Users\\micro\\AppData\\Local\\Temp\\ipykernel_4768\\365009680.py:2: FutureWarning: Indexing with multiple keys (implicitly converted to a tuple of keys) will be deprecated, use a list instead.\n",
      "  look_up_df = batches_parquet[file_list[0]].groupby(\"modified_sequence\")[\"precursor_charge\", \"precursor_intensity\"].agg(list).reset_index()\n"
     ]
    },
    {
     "data": {
      "text/plain": "70445"
     },
     "execution_count": 39,
     "metadata": {},
     "output_type": "execute_result"
    }
   ],
   "source": [
    "print(file_list[0])\n",
    "look_up_df = batches_parquet[file_list[0]].groupby(\"modified_sequence\")[\"precursor_charge\", \"precursor_intensity\"].agg(list).reset_index()\n",
    "len(look_up_df)"
   ],
   "metadata": {
    "collapsed": false,
    "ExecuteTime": {
     "end_time": "2023-09-09T10:26:32.636758200Z",
     "start_time": "2023-09-09T10:26:28.398289100Z"
    }
   }
  },
  {
   "cell_type": "markdown",
   "source": [
    "# Dataset preprocessing: Conv2d"
   ],
   "metadata": {
    "collapsed": false
   }
  },
  {
   "cell_type": "code",
   "execution_count": 40,
   "outputs": [
    {
     "name": "stdout",
     "output_type": "stream",
     "text": [
      "most abundant:  {1: 91111655, 2: 612265}\n"
     ]
    }
   ],
   "source": [
    "# proof of concept\n",
    "# we have a sequence ABC with:\n",
    "list_a = [1,2,1,2,1,2,1,2,1,2] # charge states for \"ABC\" sequence with multiple appearances\n",
    "list_b = [111,21,311,41,51,611111,71,81,91111111,1011] # intensities for \"ABC\" sequence in each charge state\n",
    "print(\"most abundant: \", get_most_abundant(list_a, list_b, True))"
   ],
   "metadata": {
    "collapsed": false,
    "ExecuteTime": {
     "end_time": "2023-09-09T10:26:32.921661500Z",
     "start_time": "2023-09-09T10:26:32.637758600Z"
    }
   }
  },
  {
   "cell_type": "code",
   "execution_count": 41,
   "outputs": [],
   "source": [
    "main_ds = np.array(merged_df[\"modified_sequence_vector\"]) # to list\n",
    "main_ds_labels = np.array(merged_df['most_abundant_charge_vector'])"
   ],
   "metadata": {
    "collapsed": false,
    "ExecuteTime": {
     "end_time": "2023-09-09T10:26:33.202435600Z",
     "start_time": "2023-09-09T10:26:32.915658900Z"
    }
   }
  },
  {
   "cell_type": "code",
   "execution_count": 42,
   "outputs": [],
   "source": [
    "# Create an instance of StratifiedShuffleSplit\n",
    "sss1 = StratifiedShuffleSplit(n_splits=1, test_size=0.1, random_state=42)\n",
    "sss2 = StratifiedShuffleSplit(n_splits=1, test_size=0.3, random_state=42)\n",
    "\n",
    "# Perform the split train+val and test\n",
    "trainval_indicies, test_indicies = next(sss1.split(main_ds, main_ds_labels))\n",
    "\n",
    "trainval_ds, trainval_labels = main_ds[trainval_indicies], main_ds_labels[trainval_indicies]\n",
    "test_ds, test_labels = main_ds[test_indicies], main_ds_labels[test_indicies]"
   ],
   "metadata": {
    "collapsed": false,
    "ExecuteTime": {
     "end_time": "2023-09-09T10:26:34.389381Z",
     "start_time": "2023-09-09T10:26:33.204264100Z"
    }
   }
  },
  {
   "cell_type": "code",
   "execution_count": 43,
   "outputs": [],
   "source": [
    "# Perform the split train and val\n",
    "train_indicies, val_indicies = next(sss2.split(trainval_ds, trainval_labels))\n",
    "\n",
    "train_ds, train_labels = trainval_ds[train_indicies], trainval_labels[train_indicies]\n",
    "val_ds, val_labels = trainval_ds[val_indicies], trainval_labels[val_indicies]\n",
    "\n",
    "\n",
    "charges = [1,2,3,4,5,6] # TODO SELECT CLASSES\n",
    "num_classes = len(charges)"
   ],
   "metadata": {
    "collapsed": false,
    "ExecuteTime": {
     "end_time": "2023-09-09T10:26:35.916472900Z",
     "start_time": "2023-09-09T10:26:34.391383Z"
    }
   }
  },
  {
   "cell_type": "markdown",
   "source": [
    "# Embedding model test:"
   ],
   "metadata": {
    "collapsed": false
   }
  },
  {
   "cell_type": "code",
   "execution_count": 44,
   "outputs": [],
   "source": [
    "# Create an instance of StratifiedShuffleSplit\n",
    "sss = StratifiedShuffleSplit(n_splits=1, test_size=0.2, random_state=42)"
   ],
   "metadata": {
    "collapsed": false,
    "ExecuteTime": {
     "end_time": "2023-09-09T10:26:36.127401700Z",
     "start_time": "2023-09-09T10:26:35.917472300Z"
    }
   }
  },
  {
   "cell_type": "code",
   "execution_count": 45,
   "outputs": [],
   "source": [
    "df1 = merged_df.sample(frac = 0.1, random_state = 42)\n",
    "test_ds_embed = np.array(df1['modified_sequence_vector'])\n",
    "test_ds_embed_raw = np.array(df1['modified_sequence'])\n",
    "test_labels_embed = np.array(df1['most_abundant_charge_vector'])\n",
    "test_true_labels_normalized = np.array(df1['normalized'])\n",
    "\n",
    "df2 = merged_df.drop(df1.index)\n",
    "trainval_ds_embed = np.array(df2['modified_sequence_vector'])\n",
    "trainval_ds_embed_raw = np.array(df2['modified_sequence'])\n",
    "trainval_labels_embed = np.array(df2['most_abundant_charge_vector'])"
   ],
   "metadata": {
    "collapsed": false,
    "ExecuteTime": {
     "end_time": "2023-09-09T10:26:36.686621300Z",
     "start_time": "2023-09-09T10:26:36.129403900Z"
    }
   }
  },
  {
   "cell_type": "code",
   "execution_count": 46,
   "outputs": [],
   "source": [
    "# Perform the split train and val\n",
    "train_indicies_embed, val_indicies_embed = next(sss.split(trainval_ds_embed, trainval_labels_embed, trainval_ds_embed_raw))"
   ],
   "metadata": {
    "collapsed": false,
    "ExecuteTime": {
     "end_time": "2023-09-09T10:26:37.715595500Z",
     "start_time": "2023-09-09T10:26:36.686621300Z"
    }
   }
  },
  {
   "cell_type": "code",
   "execution_count": 47,
   "outputs": [],
   "source": [
    "train_ds_embed, train_labels_embed = trainval_ds_embed[train_indicies_embed], trainval_labels_embed[train_indicies_embed]\n",
    "val_ds_embed, val_labels_embed = trainval_ds_embed[val_indicies_embed], trainval_labels_embed[val_indicies_embed]\n",
    "train_ds_embed_raw, val_ds_embed_raw = trainval_ds_embed_raw[train_indicies_embed], trainval_ds_embed_raw[val_indicies_embed]\n",
    "\n",
    "charges = [1,2,3,4,5,6] # TODO SELECT CLASSES\n",
    "num_classes = len(charges)"
   ],
   "metadata": {
    "collapsed": false,
    "ExecuteTime": {
     "end_time": "2023-09-09T10:26:38.031411Z",
     "start_time": "2023-09-09T10:26:37.716596300Z"
    }
   }
  },
  {
   "cell_type": "code",
   "execution_count": 48,
   "outputs": [],
   "source": [
    "train_ds_embed  = [np.array(x) for x in train_ds_embed]\n",
    "val_ds_embed = [np.array(x) for x in val_ds_embed]\n",
    "test_ds_embed = [np.array(x) for x in test_ds_embed]"
   ],
   "metadata": {
    "collapsed": false,
    "ExecuteTime": {
     "end_time": "2023-09-09T10:26:42.239607Z",
     "start_time": "2023-09-09T10:26:38.033411100Z"
    }
   }
  },
  {
   "cell_type": "code",
   "execution_count": 49,
   "outputs": [],
   "source": [
    "train_labels_embed = [np.array(x) for x in train_labels_embed]\n",
    "val_labels_embed = [np.array(x) for x in val_labels_embed]\n",
    "test_labels_embed = [np.array(x) for x in test_labels_embed]"
   ],
   "metadata": {
    "collapsed": false,
    "ExecuteTime": {
     "end_time": "2023-09-09T10:26:43.250292200Z",
     "start_time": "2023-09-09T10:26:42.250005300Z"
    }
   }
  },
  {
   "cell_type": "code",
   "execution_count": 50,
   "outputs": [],
   "source": [
    "train_ds_embed = tf.convert_to_tensor(train_ds_embed)\n",
    "val_ds_embed = tf.convert_to_tensor(val_ds_embed)\n",
    "train_labels_embed = tf.convert_to_tensor(train_labels_embed)\n",
    "val_labels_embed = tf.convert_to_tensor(val_labels_embed)\n",
    "\n",
    "test_ds_embed = tf.convert_to_tensor(test_ds_embed)\n",
    "test_labels_embed = tf.convert_to_tensor(test_labels_embed)"
   ],
   "metadata": {
    "collapsed": false,
    "ExecuteTime": {
     "end_time": "2023-09-09T10:26:48.350626500Z",
     "start_time": "2023-09-09T10:26:43.251292100Z"
    }
   }
  },
  {
   "cell_type": "markdown",
   "source": [],
   "metadata": {
    "collapsed": false
   }
  },
  {
   "cell_type": "code",
   "execution_count": 51,
   "outputs": [
    {
     "data": {
      "text/plain": "<tf.Tensor: shape=(63,), dtype=int32, numpy=\narray([18, 18, 16,  1,  6, 13, 19, 16, 16,  4,  9,  1,  4, 11, 12,  8, 10,\n        4,  8, 12,  4, 17, 10, 15,  0,  0,  0,  0,  0,  0,  0,  0,  0,  0,\n        0,  0,  0,  0,  0,  0,  0,  0,  0,  0,  0,  0,  0,  0,  0,  0,  0,\n        0,  0,  0,  0,  0,  0,  0,  0,  0,  0,  0,  0])>"
     },
     "execution_count": 51,
     "metadata": {},
     "output_type": "execute_result"
    }
   ],
   "source": [
    "train_ds_embed[0]"
   ],
   "metadata": {
    "collapsed": false,
    "ExecuteTime": {
     "end_time": "2023-09-09T10:26:48.568375200Z",
     "start_time": "2023-09-09T10:26:48.351625900Z"
    }
   }
  },
  {
   "cell_type": "code",
   "execution_count": 52,
   "outputs": [
    {
     "data": {
      "text/plain": "<IPython.core.display.HTML object>",
      "text/html": "Finishing last run (ID:r61jz2gj) before initializing another..."
     },
     "metadata": {},
     "output_type": "display_data"
    },
    {
     "data": {
      "text/plain": "<IPython.core.display.HTML object>",
      "text/html": "Waiting for W&B process to finish... <strong style=\"color:green\">(success).</strong>"
     },
     "metadata": {},
     "output_type": "display_data"
    },
    {
     "data": {
      "text/plain": "<IPython.core.display.HTML object>",
      "text/html": " View run <strong style=\"color:#cdcd00\">wobbly-shape-16</strong> at: <a href='https://wandb.ai/team-bioinf/embed_visualisation/runs/r61jz2gj' target=\"_blank\">https://wandb.ai/team-bioinf/embed_visualisation/runs/r61jz2gj</a><br/>Synced 6 W&B file(s), 0 media file(s), 10 artifact file(s) and 1 other file(s)"
     },
     "metadata": {},
     "output_type": "display_data"
    },
    {
     "data": {
      "text/plain": "<IPython.core.display.HTML object>",
      "text/html": "Find logs at: <code>.\\wandb\\run-20230909_122337-r61jz2gj\\logs</code>"
     },
     "metadata": {},
     "output_type": "display_data"
    },
    {
     "data": {
      "text/plain": "<IPython.core.display.HTML object>",
      "text/html": "Successfully finished last run (ID:r61jz2gj). Initializing new run:<br/>"
     },
     "metadata": {},
     "output_type": "display_data"
    },
    {
     "data": {
      "text/plain": "VBox(children=(Label(value='Waiting for wandb.init()...\\r'), FloatProgress(value=0.016666666666666666, max=1.0…",
      "application/vnd.jupyter.widget-view+json": {
       "version_major": 2,
       "version_minor": 0,
       "model_id": "222f887572384dcd91912c5d884164e9"
      }
     },
     "metadata": {},
     "output_type": "display_data"
    },
    {
     "data": {
      "text/plain": "<IPython.core.display.HTML object>",
      "text/html": "wandb version 0.15.10 is available!  To upgrade, please run:\n $ pip install wandb --upgrade"
     },
     "metadata": {},
     "output_type": "display_data"
    },
    {
     "data": {
      "text/plain": "<IPython.core.display.HTML object>",
      "text/html": "Tracking run with wandb version 0.15.5"
     },
     "metadata": {},
     "output_type": "display_data"
    },
    {
     "data": {
      "text/plain": "<IPython.core.display.HTML object>",
      "text/html": "Run data is saved locally in <code>C:\\Users\\micro\\OneDrive\\Dokumente\\GitHub\\Masterpraktikum\\wandb\\run-20230909_122648-mpkab4qv</code>"
     },
     "metadata": {},
     "output_type": "display_data"
    },
    {
     "data": {
      "text/plain": "<IPython.core.display.HTML object>",
      "text/html": "Syncing run <strong><a href='https://wandb.ai/team-bioinf/embed_visualisation/runs/mpkab4qv' target=\"_blank\">desert-water-17</a></strong> to <a href='https://wandb.ai/team-bioinf/embed_visualisation' target=\"_blank\">Weights & Biases</a> (<a href='https://wandb.me/run' target=\"_blank\">docs</a>)<br/>"
     },
     "metadata": {},
     "output_type": "display_data"
    },
    {
     "data": {
      "text/plain": "<IPython.core.display.HTML object>",
      "text/html": " View project at <a href='https://wandb.ai/team-bioinf/embed_visualisation' target=\"_blank\">https://wandb.ai/team-bioinf/embed_visualisation</a>"
     },
     "metadata": {},
     "output_type": "display_data"
    },
    {
     "data": {
      "text/plain": "<IPython.core.display.HTML object>",
      "text/html": " View run at <a href='https://wandb.ai/team-bioinf/embed_visualisation/runs/mpkab4qv' target=\"_blank\">https://wandb.ai/team-bioinf/embed_visualisation/runs/mpkab4qv</a>"
     },
     "metadata": {},
     "output_type": "display_data"
    },
    {
     "data": {
      "text/html": "<button onClick=\"this.nextSibling.style.display='block';this.style.display='none';\">Display W&B run</button><iframe src='https://wandb.ai/team-bioinf/embed_visualisation/runs/mpkab4qv?jupyter=true' style='border:none;width:100%;height:420px;display:none;'></iframe>",
      "text/plain": "<wandb.sdk.wandb_run.Run at 0x286386cd5d0>"
     },
     "execution_count": 52,
     "metadata": {},
     "output_type": "execute_result"
    }
   ],
   "source": [
    "wandb.init(project='embed_visualisation', settings=wandb.Settings(code_dir=\"models/\"))"
   ],
   "metadata": {
    "collapsed": false,
    "ExecuteTime": {
     "end_time": "2023-09-09T10:27:04.290721300Z",
     "start_time": "2023-09-09T10:26:48.569375300Z"
    }
   }
  },
  {
   "cell_type": "code",
   "execution_count": 53,
   "outputs": [],
   "source": [
    "# create a wandb table with all hyperparameters\n",
    "config = wandb.config\n",
    "config.trueness =\"ye, this is just default. Dont mention it.\"\n",
    "config.learning_rate = 0.0001\n",
    "config.epochs = 30\n",
    "config.batch_size = 4096\n",
    "config.optimizer = \"Adam\"\n",
    "config.loss_function = \"CategoricalCrossentropy\"\n",
    "config.layers = \"Embedding, Flatten, Dense, Dense\"\n",
    "config.activation_function = \"relu\"\n",
    "config.output_activation_function = \"softmax\"\n",
    "config.embedding_output_dim = max_len_seq\n",
    "config.embedding_input_dim = voc_len\n",
    "config.embedding_input_length = max_len_seq\n",
    "config.embedding_trainable = True\n",
    "config.embedding_mask_zero = False\n",
    "config.embedding_activity_regularizer = None\n",
    "config.embedding_weights = None\n"
   ],
   "metadata": {
    "collapsed": false,
    "ExecuteTime": {
     "end_time": "2023-09-09T10:27:04.292721Z",
     "start_time": "2023-09-09T10:27:04.268468800Z"
    }
   }
  },
  {
   "cell_type": "code",
   "execution_count": 54,
   "outputs": [],
   "source": [
    "from keras import Sequential, Model\n",
    "from keras.layers import Embedding, Flatten, Dense, Conv1D, Conv2D, MaxPooling1D, MaxPooling2D, Input, concatenate, Rescaling\n",
    "# define two sets of inputs\n",
    "inputA_embed = Input(shape=train_ds_embed[0].shape)\n",
    "# the first branch operates on the first input\n",
    "x = Model(inputs=inputA_embed, outputs=inputA_embed)\n",
    "y = Embedding(input_dim=voc_len, output_dim=max_len_seq, input_length=max_len_seq)(inputA_embed)\n",
    "# input dim = vocabulary size\n",
    "# output dim = the number opf dimensions we WISH to embed into. Each word will be represented by a vector of this much dimensions\n",
    "# input length = length of the maximum input sequence\n",
    "y = Flatten()(y)\n",
    "#y = Dense(max_len_seq, activation=\"relu\")(y)\n",
    "z = Dense(num_classes, activation=\"softmax\")(y)\n",
    "# our model will accept the inputs of the two branches and\n",
    "# then output a single value\n",
    "model_embed = Model(inputs=[x.input], outputs=z)"
   ],
   "metadata": {
    "collapsed": false,
    "ExecuteTime": {
     "end_time": "2023-09-09T10:27:04.389474700Z",
     "start_time": "2023-09-09T10:27:04.276721500Z"
    }
   }
  },
  {
   "cell_type": "code",
   "execution_count": 55,
   "outputs": [],
   "source": [
    "# # MODEL\n",
    "# seq_len_after_cutoff = seq_len_cutoff-1\n",
    "# \n",
    "# from keras import Sequential, Model\n",
    "# from keras.layers import Embedding, Flatten, Dense, Conv1D, Conv2D, MaxPooling1D, MaxPooling2D, Input, concatenate, Rescaling\n",
    "# # define two sets of inputs\n",
    "# inputA_embed = Input(shape=train_ds_embed[0].shape)\n",
    "# x = Model(inputs=inputA_embed, outputs=inputA_embed)\n",
    "# y = Embedding(input_dim=voc_len, output_dim=max_len_seq, input_length=max_len_seq)(inputA_embed)\n",
    "# y = Flatten()(y)\n",
    "# #y = Dense(seq_len_after_cutoff, activation=\"relu\")(y)\n",
    "# z = Dense(num_classes, activation=\"sigmoid\")(y)\n",
    "# model_embed = Model(inputs=[x.input], outputs=z)"
   ],
   "metadata": {
    "collapsed": false,
    "ExecuteTime": {
     "end_time": "2023-09-09T10:27:04.390473300Z",
     "start_time": "2023-09-09T10:27:04.320975500Z"
    }
   }
  },
  {
   "cell_type": "code",
   "execution_count": 56,
   "outputs": [
    {
     "name": "stdout",
     "output_type": "stream",
     "text": [
      "Model: \"model_1\"\n",
      "_________________________________________________________________\n",
      " Layer (type)                Output Shape              Param #   \n",
      "=================================================================\n",
      " input_1 (InputLayer)        [(None, 63)]              0         \n",
      "                                                                 \n",
      " embedding (Embedding)       (None, 63, 63)            1449      \n",
      "                                                                 \n",
      " flatten (Flatten)           (None, 3969)              0         \n",
      "                                                                 \n",
      " dense (Dense)               (None, 6)                 23820     \n",
      "                                                                 \n",
      "=================================================================\n",
      "Total params: 25,269\n",
      "Trainable params: 25,269\n",
      "Non-trainable params: 0\n",
      "_________________________________________________________________\n"
     ]
    }
   ],
   "source": [
    "model_embed.summary()"
   ],
   "metadata": {
    "collapsed": false,
    "ExecuteTime": {
     "end_time": "2023-09-09T10:27:04.407474500Z",
     "start_time": "2023-09-09T10:27:04.324498400Z"
    }
   }
  },
  {
   "cell_type": "code",
   "execution_count": 57,
   "outputs": [
    {
     "data": {
      "image/png": "[encoded data removed]",
      "text/plain": "<IPython.core.display.Image object>"
     },
     "execution_count": 57,
     "metadata": {},
     "output_type": "execute_result"
    }
   ],
   "source": [
    "# plot model\n",
    "tf.keras.utils.plot_model(model_embed, show_shapes=True, show_layer_names=True)"
   ],
   "metadata": {
    "collapsed": false,
    "ExecuteTime": {
     "end_time": "2023-09-09T10:27:05.044864400Z",
     "start_time": "2023-09-09T10:27:04.341474100Z"
    }
   }
  },
  {
   "cell_type": "code",
   "execution_count": 58,
   "outputs": [],
   "source": [
    "# # Compile the model\n",
    "model_embed.compile(loss=tf.keras.losses.CategoricalCrossentropy(), optimizer=keras.optimizers.Adam(learning_rate=0.0001), metrics=['categorical_accuracy'])"
   ],
   "metadata": {
    "collapsed": false,
    "ExecuteTime": {
     "end_time": "2023-09-09T10:27:05.044864400Z",
     "start_time": "2023-09-09T10:27:04.435682200Z"
    }
   }
  },
  {
   "cell_type": "code",
   "execution_count": 59,
   "outputs": [],
   "source": [
    "# Compile the model\n",
    "#model_embed.compile(loss=tf.keras.losses.BinaryCrossentropy(), optimizer=keras.optimizers.Adam(learning_rate=0.0001), metrics=['binary_accuracy'])"
   ],
   "metadata": {
    "collapsed": false,
    "ExecuteTime": {
     "end_time": "2023-09-09T10:27:05.044864400Z",
     "start_time": "2023-09-09T10:27:04.445728600Z"
    }
   }
  },
  {
   "cell_type": "code",
   "execution_count": 60,
   "outputs": [],
   "source": [
    "checkpoint_callback_embed = ModelCheckpoint('precursor_charge_prediction_model_embed/embed.h5', monitor='val_accuracy', save_best_only=True, mode='max')\n",
    "\n",
    "# Define early stopping\n",
    "early_stopping_embed = tf.keras.callbacks.EarlyStopping(monitor='val_loss', patience=10)"
   ],
   "metadata": {
    "collapsed": false,
    "ExecuteTime": {
     "end_time": "2023-09-09T10:27:05.044864400Z",
     "start_time": "2023-09-09T10:27:04.449401200Z"
    }
   }
  },
  {
   "cell_type": "code",
   "execution_count": 61,
   "outputs": [
    {
     "data": {
      "text/plain": "2.584962500721156"
     },
     "execution_count": 61,
     "metadata": {},
     "output_type": "execute_result"
    }
   ],
   "source": [
    "# sanity check for loss\n",
    "np.log2(6)"
   ],
   "metadata": {
    "collapsed": false,
    "ExecuteTime": {
     "end_time": "2023-09-09T10:27:05.045864200Z",
     "start_time": "2023-09-09T10:27:04.457476600Z"
    }
   }
  },
  {
   "cell_type": "code",
   "execution_count": 62,
   "outputs": [
    {
     "name": "stderr",
     "output_type": "stream",
     "text": [
      "\u001B[34m\u001B[1mwandb\u001B[0m: \u001B[33mWARNING\u001B[0m The save_model argument by default saves the model in the HDF5 format that cannot save custom objects like subclassed models and custom layers. This behavior will be deprecated in a future release in favor of the SavedModel format. Meanwhile, the HDF5 model is saved as W&B files and the SavedModel as W&B Artifacts.\n"
     ]
    },
    {
     "name": "stdout",
     "output_type": "stream",
     "text": [
      "Epoch 1/30\n",
      "145/147 [============================>.] - ETA: 0s - loss: 1.3210 - categorical_accuracy: 0.5178WARNING:tensorflow:Can save best model only with val_accuracy available, skipping.\n",
      "INFO:tensorflow:Assets written to: C:\\Users\\micro\\OneDrive\\Dokumente\\GitHub\\Masterpraktikum\\wandb\\run-20230909_122648-mpkab4qv\\files\\model-best\\assets\n"
     ]
    },
    {
     "name": "stderr",
     "output_type": "stream",
     "text": [
      "\u001B[34m\u001B[1mwandb\u001B[0m: Adding directory to artifact (C:\\Users\\micro\\OneDrive\\Dokumente\\GitHub\\Masterpraktikum\\wandb\\run-20230909_122648-mpkab4qv\\files\\model-best)... Done. 0.0s\n"
     ]
    },
    {
     "name": "stdout",
     "output_type": "stream",
     "text": [
      "147/147 [==============================] - 7s 44ms/step - loss: 1.3194 - categorical_accuracy: 0.5180 - val_loss: 1.0907 - val_categorical_accuracy: 0.5446\n",
      "Epoch 2/30\n",
      "145/147 [============================>.] - ETA: 0s - loss: 1.0393 - categorical_accuracy: 0.5708WARNING:tensorflow:Can save best model only with val_accuracy available, skipping.\n",
      "INFO:tensorflow:Assets written to: C:\\Users\\micro\\OneDrive\\Dokumente\\GitHub\\Masterpraktikum\\wandb\\run-20230909_122648-mpkab4qv\\files\\model-best\\assets\n"
     ]
    },
    {
     "name": "stderr",
     "output_type": "stream",
     "text": [
      "\u001B[34m\u001B[1mwandb\u001B[0m: Adding directory to artifact (C:\\Users\\micro\\OneDrive\\Dokumente\\GitHub\\Masterpraktikum\\wandb\\run-20230909_122648-mpkab4qv\\files\\model-best)... Done. 0.0s\n"
     ]
    },
    {
     "name": "stdout",
     "output_type": "stream",
     "text": [
      "147/147 [==============================] - 6s 43ms/step - loss: 1.0389 - categorical_accuracy: 0.5710 - val_loss: 0.9970 - val_categorical_accuracy: 0.5992\n",
      "Epoch 3/30\n",
      "145/147 [============================>.] - ETA: 0s - loss: 0.9670 - categorical_accuracy: 0.6085WARNING:tensorflow:Can save best model only with val_accuracy available, skipping.\n",
      "INFO:tensorflow:Assets written to: C:\\Users\\micro\\OneDrive\\Dokumente\\GitHub\\Masterpraktikum\\wandb\\run-20230909_122648-mpkab4qv\\files\\model-best\\assets\n"
     ]
    },
    {
     "name": "stderr",
     "output_type": "stream",
     "text": [
      "\u001B[34m\u001B[1mwandb\u001B[0m: Adding directory to artifact (C:\\Users\\micro\\OneDrive\\Dokumente\\GitHub\\Masterpraktikum\\wandb\\run-20230909_122648-mpkab4qv\\files\\model-best)... Done. 0.0s\n"
     ]
    },
    {
     "name": "stdout",
     "output_type": "stream",
     "text": [
      "147/147 [==============================] - 6s 44ms/step - loss: 0.9669 - categorical_accuracy: 0.6085 - val_loss: 0.9419 - val_categorical_accuracy: 0.6139\n",
      "Epoch 4/30\n",
      "145/147 [============================>.] - ETA: 0s - loss: 0.9192 - categorical_accuracy: 0.6220WARNING:tensorflow:Can save best model only with val_accuracy available, skipping.\n",
      "INFO:tensorflow:Assets written to: C:\\Users\\micro\\OneDrive\\Dokumente\\GitHub\\Masterpraktikum\\wandb\\run-20230909_122648-mpkab4qv\\files\\model-best\\assets\n"
     ]
    },
    {
     "name": "stderr",
     "output_type": "stream",
     "text": [
      "\u001B[34m\u001B[1mwandb\u001B[0m: Adding directory to artifact (C:\\Users\\micro\\OneDrive\\Dokumente\\GitHub\\Masterpraktikum\\wandb\\run-20230909_122648-mpkab4qv\\files\\model-best)... Done. 0.0s\n"
     ]
    },
    {
     "name": "stdout",
     "output_type": "stream",
     "text": [
      "147/147 [==============================] - 6s 42ms/step - loss: 0.9191 - categorical_accuracy: 0.6220 - val_loss: 0.8978 - val_categorical_accuracy: 0.6292\n",
      "Epoch 5/30\n",
      "145/147 [============================>.] - ETA: 0s - loss: 0.8757 - categorical_accuracy: 0.6391WARNING:tensorflow:Can save best model only with val_accuracy available, skipping.\n",
      "INFO:tensorflow:Assets written to: C:\\Users\\micro\\OneDrive\\Dokumente\\GitHub\\Masterpraktikum\\wandb\\run-20230909_122648-mpkab4qv\\files\\model-best\\assets\n"
     ]
    },
    {
     "name": "stderr",
     "output_type": "stream",
     "text": [
      "\u001B[34m\u001B[1mwandb\u001B[0m: Adding directory to artifact (C:\\Users\\micro\\OneDrive\\Dokumente\\GitHub\\Masterpraktikum\\wandb\\run-20230909_122648-mpkab4qv\\files\\model-best)... Done. 0.0s\n"
     ]
    },
    {
     "name": "stdout",
     "output_type": "stream",
     "text": [
      "147/147 [==============================] - 6s 42ms/step - loss: 0.8755 - categorical_accuracy: 0.6392 - val_loss: 0.8542 - val_categorical_accuracy: 0.6460\n",
      "Epoch 6/30\n",
      "145/147 [============================>.] - ETA: 0s - loss: 0.8333 - categorical_accuracy: 0.6562WARNING:tensorflow:Can save best model only with val_accuracy available, skipping.\n",
      "INFO:tensorflow:Assets written to: C:\\Users\\micro\\OneDrive\\Dokumente\\GitHub\\Masterpraktikum\\wandb\\run-20230909_122648-mpkab4qv\\files\\model-best\\assets\n"
     ]
    },
    {
     "name": "stderr",
     "output_type": "stream",
     "text": [
      "\u001B[34m\u001B[1mwandb\u001B[0m: Adding directory to artifact (C:\\Users\\micro\\OneDrive\\Dokumente\\GitHub\\Masterpraktikum\\wandb\\run-20230909_122648-mpkab4qv\\files\\model-best)... Done. 0.0s\n"
     ]
    },
    {
     "name": "stdout",
     "output_type": "stream",
     "text": [
      "147/147 [==============================] - 6s 43ms/step - loss: 0.8332 - categorical_accuracy: 0.6562 - val_loss: 0.8128 - val_categorical_accuracy: 0.6628\n",
      "Epoch 7/30\n",
      "145/147 [============================>.] - ETA: 0s - loss: 0.7942 - categorical_accuracy: 0.6705WARNING:tensorflow:Can save best model only with val_accuracy available, skipping.\n",
      "INFO:tensorflow:Assets written to: C:\\Users\\micro\\OneDrive\\Dokumente\\GitHub\\Masterpraktikum\\wandb\\run-20230909_122648-mpkab4qv\\files\\model-best\\assets\n"
     ]
    },
    {
     "name": "stderr",
     "output_type": "stream",
     "text": [
      "\u001B[34m\u001B[1mwandb\u001B[0m: Adding directory to artifact (C:\\Users\\micro\\OneDrive\\Dokumente\\GitHub\\Masterpraktikum\\wandb\\run-20230909_122648-mpkab4qv\\files\\model-best)... Done. 0.0s\n"
     ]
    },
    {
     "name": "stdout",
     "output_type": "stream",
     "text": [
      "147/147 [==============================] - 6s 43ms/step - loss: 0.7940 - categorical_accuracy: 0.6705 - val_loss: 0.7755 - val_categorical_accuracy: 0.6777\n",
      "Epoch 8/30\n",
      "145/147 [============================>.] - ETA: 0s - loss: 0.7591 - categorical_accuracy: 0.6821WARNING:tensorflow:Can save best model only with val_accuracy available, skipping.\n",
      "INFO:tensorflow:Assets written to: C:\\Users\\micro\\OneDrive\\Dokumente\\GitHub\\Masterpraktikum\\wandb\\run-20230909_122648-mpkab4qv\\files\\model-best\\assets\n"
     ]
    },
    {
     "name": "stderr",
     "output_type": "stream",
     "text": [
      "\u001B[34m\u001B[1mwandb\u001B[0m: Adding directory to artifact (C:\\Users\\micro\\OneDrive\\Dokumente\\GitHub\\Masterpraktikum\\wandb\\run-20230909_122648-mpkab4qv\\files\\model-best)... Done. 0.0s\n"
     ]
    },
    {
     "name": "stdout",
     "output_type": "stream",
     "text": [
      "147/147 [==============================] - 6s 43ms/step - loss: 0.7591 - categorical_accuracy: 0.6821 - val_loss: 0.7426 - val_categorical_accuracy: 0.6890\n",
      "Epoch 9/30\n",
      "145/147 [============================>.] - ETA: 0s - loss: 0.7284 - categorical_accuracy: 0.6915WARNING:tensorflow:Can save best model only with val_accuracy available, skipping.\n",
      "INFO:tensorflow:Assets written to: C:\\Users\\micro\\OneDrive\\Dokumente\\GitHub\\Masterpraktikum\\wandb\\run-20230909_122648-mpkab4qv\\files\\model-best\\assets\n"
     ]
    },
    {
     "name": "stderr",
     "output_type": "stream",
     "text": [
      "\u001B[34m\u001B[1mwandb\u001B[0m: Adding directory to artifact (C:\\Users\\micro\\OneDrive\\Dokumente\\GitHub\\Masterpraktikum\\wandb\\run-20230909_122648-mpkab4qv\\files\\model-best)... Done. 0.0s\n"
     ]
    },
    {
     "name": "stdout",
     "output_type": "stream",
     "text": [
      "147/147 [==============================] - 6s 41ms/step - loss: 0.7283 - categorical_accuracy: 0.6915 - val_loss: 0.7138 - val_categorical_accuracy: 0.6969\n",
      "Epoch 10/30\n",
      "145/147 [============================>.] - ETA: 0s - loss: 0.7012 - categorical_accuracy: 0.6991WARNING:tensorflow:Can save best model only with val_accuracy available, skipping.\n",
      "INFO:tensorflow:Assets written to: C:\\Users\\micro\\OneDrive\\Dokumente\\GitHub\\Masterpraktikum\\wandb\\run-20230909_122648-mpkab4qv\\files\\model-best\\assets\n"
     ]
    },
    {
     "name": "stderr",
     "output_type": "stream",
     "text": [
      "\u001B[34m\u001B[1mwandb\u001B[0m: Adding directory to artifact (C:\\Users\\micro\\OneDrive\\Dokumente\\GitHub\\Masterpraktikum\\wandb\\run-20230909_122648-mpkab4qv\\files\\model-best)... Done. 0.0s\n"
     ]
    },
    {
     "name": "stdout",
     "output_type": "stream",
     "text": [
      "147/147 [==============================] - 6s 41ms/step - loss: 0.7012 - categorical_accuracy: 0.6992 - val_loss: 0.6886 - val_categorical_accuracy: 0.7061\n",
      "Epoch 11/30\n",
      "145/147 [============================>.] - ETA: 0s - loss: 0.6778 - categorical_accuracy: 0.7064WARNING:tensorflow:Can save best model only with val_accuracy available, skipping.\n",
      "INFO:tensorflow:Assets written to: C:\\Users\\micro\\OneDrive\\Dokumente\\GitHub\\Masterpraktikum\\wandb\\run-20230909_122648-mpkab4qv\\files\\model-best\\assets\n"
     ]
    },
    {
     "name": "stderr",
     "output_type": "stream",
     "text": [
      "\u001B[34m\u001B[1mwandb\u001B[0m: Adding directory to artifact (C:\\Users\\micro\\OneDrive\\Dokumente\\GitHub\\Masterpraktikum\\wandb\\run-20230909_122648-mpkab4qv\\files\\model-best)... Done. 0.0s\n"
     ]
    },
    {
     "name": "stdout",
     "output_type": "stream",
     "text": [
      "147/147 [==============================] - 6s 42ms/step - loss: 0.6777 - categorical_accuracy: 0.7064 - val_loss: 0.6668 - val_categorical_accuracy: 0.7101\n",
      "Epoch 12/30\n",
      "145/147 [============================>.] - ETA: 0s - loss: 0.6573 - categorical_accuracy: 0.7134WARNING:tensorflow:Can save best model only with val_accuracy available, skipping.\n",
      "INFO:tensorflow:Assets written to: C:\\Users\\micro\\OneDrive\\Dokumente\\GitHub\\Masterpraktikum\\wandb\\run-20230909_122648-mpkab4qv\\files\\model-best\\assets\n"
     ]
    },
    {
     "name": "stderr",
     "output_type": "stream",
     "text": [
      "\u001B[34m\u001B[1mwandb\u001B[0m: Adding directory to artifact (C:\\Users\\micro\\OneDrive\\Dokumente\\GitHub\\Masterpraktikum\\wandb\\run-20230909_122648-mpkab4qv\\files\\model-best)... Done. 0.0s\n"
     ]
    },
    {
     "name": "stdout",
     "output_type": "stream",
     "text": [
      "147/147 [==============================] - 6s 43ms/step - loss: 0.6573 - categorical_accuracy: 0.7133 - val_loss: 0.6480 - val_categorical_accuracy: 0.7195\n",
      "Epoch 13/30\n",
      "145/147 [============================>.] - ETA: 0s - loss: 0.6398 - categorical_accuracy: 0.7218WARNING:tensorflow:Can save best model only with val_accuracy available, skipping.\n",
      "INFO:tensorflow:Assets written to: C:\\Users\\micro\\OneDrive\\Dokumente\\GitHub\\Masterpraktikum\\wandb\\run-20230909_122648-mpkab4qv\\files\\model-best\\assets\n"
     ]
    },
    {
     "name": "stderr",
     "output_type": "stream",
     "text": [
      "\u001B[34m\u001B[1mwandb\u001B[0m: Adding directory to artifact (C:\\Users\\micro\\OneDrive\\Dokumente\\GitHub\\Masterpraktikum\\wandb\\run-20230909_122648-mpkab4qv\\files\\model-best)... Done. 0.0s\n"
     ]
    },
    {
     "name": "stdout",
     "output_type": "stream",
     "text": [
      "147/147 [==============================] - 6s 41ms/step - loss: 0.6398 - categorical_accuracy: 0.7219 - val_loss: 0.6317 - val_categorical_accuracy: 0.7266\n",
      "Epoch 14/30\n",
      "145/147 [============================>.] - ETA: 0s - loss: 0.6247 - categorical_accuracy: 0.7307WARNING:tensorflow:Can save best model only with val_accuracy available, skipping.\n",
      "INFO:tensorflow:Assets written to: C:\\Users\\micro\\OneDrive\\Dokumente\\GitHub\\Masterpraktikum\\wandb\\run-20230909_122648-mpkab4qv\\files\\model-best\\assets\n"
     ]
    },
    {
     "name": "stderr",
     "output_type": "stream",
     "text": [
      "\u001B[34m\u001B[1mwandb\u001B[0m: Adding directory to artifact (C:\\Users\\micro\\OneDrive\\Dokumente\\GitHub\\Masterpraktikum\\wandb\\run-20230909_122648-mpkab4qv\\files\\model-best)... Done. 0.0s\n"
     ]
    },
    {
     "name": "stdout",
     "output_type": "stream",
     "text": [
      "147/147 [==============================] - 6s 42ms/step - loss: 0.6247 - categorical_accuracy: 0.7307 - val_loss: 0.6177 - val_categorical_accuracy: 0.7355\n",
      "Epoch 15/30\n",
      "145/147 [============================>.] - ETA: 0s - loss: 0.6118 - categorical_accuracy: 0.7385WARNING:tensorflow:Can save best model only with val_accuracy available, skipping.\n",
      "INFO:tensorflow:Assets written to: C:\\Users\\micro\\OneDrive\\Dokumente\\GitHub\\Masterpraktikum\\wandb\\run-20230909_122648-mpkab4qv\\files\\model-best\\assets\n"
     ]
    },
    {
     "name": "stderr",
     "output_type": "stream",
     "text": [
      "\u001B[34m\u001B[1mwandb\u001B[0m: Adding directory to artifact (C:\\Users\\micro\\OneDrive\\Dokumente\\GitHub\\Masterpraktikum\\wandb\\run-20230909_122648-mpkab4qv\\files\\model-best)... Done. 0.0s\n"
     ]
    },
    {
     "name": "stdout",
     "output_type": "stream",
     "text": [
      "147/147 [==============================] - 6s 44ms/step - loss: 0.6117 - categorical_accuracy: 0.7385 - val_loss: 0.6058 - val_categorical_accuracy: 0.7397\n",
      "Epoch 16/30\n",
      "145/147 [============================>.] - ETA: 0s - loss: 0.6006 - categorical_accuracy: 0.7446WARNING:tensorflow:Can save best model only with val_accuracy available, skipping.\n",
      "INFO:tensorflow:Assets written to: C:\\Users\\micro\\OneDrive\\Dokumente\\GitHub\\Masterpraktikum\\wandb\\run-20230909_122648-mpkab4qv\\files\\model-best\\assets\n"
     ]
    },
    {
     "name": "stderr",
     "output_type": "stream",
     "text": [
      "\u001B[34m\u001B[1mwandb\u001B[0m: Adding directory to artifact (C:\\Users\\micro\\OneDrive\\Dokumente\\GitHub\\Masterpraktikum\\wandb\\run-20230909_122648-mpkab4qv\\files\\model-best)... Done. 0.0s\n"
     ]
    },
    {
     "name": "stdout",
     "output_type": "stream",
     "text": [
      "147/147 [==============================] - 6s 41ms/step - loss: 0.6005 - categorical_accuracy: 0.7447 - val_loss: 0.5954 - val_categorical_accuracy: 0.7458\n",
      "Epoch 17/30\n",
      "145/147 [============================>.] - ETA: 0s - loss: 0.5910 - categorical_accuracy: 0.7496WARNING:tensorflow:Can save best model only with val_accuracy available, skipping.\n",
      "INFO:tensorflow:Assets written to: C:\\Users\\micro\\OneDrive\\Dokumente\\GitHub\\Masterpraktikum\\wandb\\run-20230909_122648-mpkab4qv\\files\\model-best\\assets\n"
     ]
    },
    {
     "name": "stderr",
     "output_type": "stream",
     "text": [
      "\u001B[34m\u001B[1mwandb\u001B[0m: Adding directory to artifact (C:\\Users\\micro\\OneDrive\\Dokumente\\GitHub\\Masterpraktikum\\wandb\\run-20230909_122648-mpkab4qv\\files\\model-best)... Done. 0.0s\n"
     ]
    },
    {
     "name": "stdout",
     "output_type": "stream",
     "text": [
      "147/147 [==============================] - 6s 42ms/step - loss: 0.5909 - categorical_accuracy: 0.7496 - val_loss: 0.5864 - val_categorical_accuracy: 0.7521\n",
      "Epoch 18/30\n",
      "145/147 [============================>.] - ETA: 0s - loss: 0.5828 - categorical_accuracy: 0.7537WARNING:tensorflow:Can save best model only with val_accuracy available, skipping.\n",
      "INFO:tensorflow:Assets written to: C:\\Users\\micro\\OneDrive\\Dokumente\\GitHub\\Masterpraktikum\\wandb\\run-20230909_122648-mpkab4qv\\files\\model-best\\assets\n"
     ]
    },
    {
     "name": "stderr",
     "output_type": "stream",
     "text": [
      "\u001B[34m\u001B[1mwandb\u001B[0m: Adding directory to artifact (C:\\Users\\micro\\OneDrive\\Dokumente\\GitHub\\Masterpraktikum\\wandb\\run-20230909_122648-mpkab4qv\\files\\model-best)... Done. 0.0s\n"
     ]
    },
    {
     "name": "stdout",
     "output_type": "stream",
     "text": [
      "147/147 [==============================] - 6s 42ms/step - loss: 0.5827 - categorical_accuracy: 0.7537 - val_loss: 0.5789 - val_categorical_accuracy: 0.7558\n",
      "Epoch 19/30\n",
      "145/147 [============================>.] - ETA: 0s - loss: 0.5757 - categorical_accuracy: 0.7564WARNING:tensorflow:Can save best model only with val_accuracy available, skipping.\n",
      "INFO:tensorflow:Assets written to: C:\\Users\\micro\\OneDrive\\Dokumente\\GitHub\\Masterpraktikum\\wandb\\run-20230909_122648-mpkab4qv\\files\\model-best\\assets\n"
     ]
    },
    {
     "name": "stderr",
     "output_type": "stream",
     "text": [
      "\u001B[34m\u001B[1mwandb\u001B[0m: Adding directory to artifact (C:\\Users\\micro\\OneDrive\\Dokumente\\GitHub\\Masterpraktikum\\wandb\\run-20230909_122648-mpkab4qv\\files\\model-best)... Done. 0.0s\n"
     ]
    },
    {
     "name": "stdout",
     "output_type": "stream",
     "text": [
      "147/147 [==============================] - 6s 43ms/step - loss: 0.5757 - categorical_accuracy: 0.7565 - val_loss: 0.5725 - val_categorical_accuracy: 0.7596\n",
      "Epoch 20/30\n",
      "145/147 [============================>.] - ETA: 0s - loss: 0.5698 - categorical_accuracy: 0.7593WARNING:tensorflow:Can save best model only with val_accuracy available, skipping.\n",
      "INFO:tensorflow:Assets written to: C:\\Users\\micro\\OneDrive\\Dokumente\\GitHub\\Masterpraktikum\\wandb\\run-20230909_122648-mpkab4qv\\files\\model-best\\assets\n"
     ]
    },
    {
     "name": "stderr",
     "output_type": "stream",
     "text": [
      "\u001B[34m\u001B[1mwandb\u001B[0m: Adding directory to artifact (C:\\Users\\micro\\OneDrive\\Dokumente\\GitHub\\Masterpraktikum\\wandb\\run-20230909_122648-mpkab4qv\\files\\model-best)... Done. 0.0s\n"
     ]
    },
    {
     "name": "stdout",
     "output_type": "stream",
     "text": [
      "147/147 [==============================] - 6s 42ms/step - loss: 0.5698 - categorical_accuracy: 0.7594 - val_loss: 0.5673 - val_categorical_accuracy: 0.7631\n",
      "Epoch 21/30\n",
      "145/147 [============================>.] - ETA: 0s - loss: 0.5648 - categorical_accuracy: 0.7610WARNING:tensorflow:Can save best model only with val_accuracy available, skipping.\n",
      "INFO:tensorflow:Assets written to: C:\\Users\\micro\\OneDrive\\Dokumente\\GitHub\\Masterpraktikum\\wandb\\run-20230909_122648-mpkab4qv\\files\\model-best\\assets\n"
     ]
    },
    {
     "name": "stderr",
     "output_type": "stream",
     "text": [
      "\u001B[34m\u001B[1mwandb\u001B[0m: Adding directory to artifact (C:\\Users\\micro\\OneDrive\\Dokumente\\GitHub\\Masterpraktikum\\wandb\\run-20230909_122648-mpkab4qv\\files\\model-best)... Done. 0.0s\n"
     ]
    },
    {
     "name": "stdout",
     "output_type": "stream",
     "text": [
      "147/147 [==============================] - 6s 42ms/step - loss: 0.5648 - categorical_accuracy: 0.7610 - val_loss: 0.5625 - val_categorical_accuracy: 0.7646\n",
      "Epoch 22/30\n",
      "145/147 [============================>.] - ETA: 0s - loss: 0.5605 - categorical_accuracy: 0.7629WARNING:tensorflow:Can save best model only with val_accuracy available, skipping.\n",
      "INFO:tensorflow:Assets written to: C:\\Users\\micro\\OneDrive\\Dokumente\\GitHub\\Masterpraktikum\\wandb\\run-20230909_122648-mpkab4qv\\files\\model-best\\assets\n"
     ]
    },
    {
     "name": "stderr",
     "output_type": "stream",
     "text": [
      "\u001B[34m\u001B[1mwandb\u001B[0m: Adding directory to artifact (C:\\Users\\micro\\OneDrive\\Dokumente\\GitHub\\Masterpraktikum\\wandb\\run-20230909_122648-mpkab4qv\\files\\model-best)... Done. 0.0s\n"
     ]
    },
    {
     "name": "stdout",
     "output_type": "stream",
     "text": [
      "147/147 [==============================] - 6s 41ms/step - loss: 0.5605 - categorical_accuracy: 0.7630 - val_loss: 0.5586 - val_categorical_accuracy: 0.7629\n",
      "Epoch 23/30\n",
      "145/147 [============================>.] - ETA: 0s - loss: 0.5569 - categorical_accuracy: 0.7646WARNING:tensorflow:Can save best model only with val_accuracy available, skipping.\n",
      "INFO:tensorflow:Assets written to: C:\\Users\\micro\\OneDrive\\Dokumente\\GitHub\\Masterpraktikum\\wandb\\run-20230909_122648-mpkab4qv\\files\\model-best\\assets\n"
     ]
    },
    {
     "name": "stderr",
     "output_type": "stream",
     "text": [
      "\u001B[34m\u001B[1mwandb\u001B[0m: Adding directory to artifact (C:\\Users\\micro\\OneDrive\\Dokumente\\GitHub\\Masterpraktikum\\wandb\\run-20230909_122648-mpkab4qv\\files\\model-best)... Done. 0.0s\n"
     ]
    },
    {
     "name": "stdout",
     "output_type": "stream",
     "text": [
      "147/147 [==============================] - 6s 42ms/step - loss: 0.5568 - categorical_accuracy: 0.7646 - val_loss: 0.5551 - val_categorical_accuracy: 0.7661\n",
      "Epoch 24/30\n",
      "145/147 [============================>.] - ETA: 0s - loss: 0.5536 - categorical_accuracy: 0.7661WARNING:tensorflow:Can save best model only with val_accuracy available, skipping.\n",
      "INFO:tensorflow:Assets written to: C:\\Users\\micro\\OneDrive\\Dokumente\\GitHub\\Masterpraktikum\\wandb\\run-20230909_122648-mpkab4qv\\files\\model-best\\assets\n"
     ]
    },
    {
     "name": "stderr",
     "output_type": "stream",
     "text": [
      "\u001B[34m\u001B[1mwandb\u001B[0m: Adding directory to artifact (C:\\Users\\micro\\OneDrive\\Dokumente\\GitHub\\Masterpraktikum\\wandb\\run-20230909_122648-mpkab4qv\\files\\model-best)... Done. 0.0s\n"
     ]
    },
    {
     "name": "stdout",
     "output_type": "stream",
     "text": [
      "147/147 [==============================] - 6s 43ms/step - loss: 0.5537 - categorical_accuracy: 0.7660 - val_loss: 0.5524 - val_categorical_accuracy: 0.7638\n",
      "Epoch 25/30\n",
      "145/147 [============================>.] - ETA: 0s - loss: 0.5510 - categorical_accuracy: 0.7667WARNING:tensorflow:Can save best model only with val_accuracy available, skipping.\n",
      "INFO:tensorflow:Assets written to: C:\\Users\\micro\\OneDrive\\Dokumente\\GitHub\\Masterpraktikum\\wandb\\run-20230909_122648-mpkab4qv\\files\\model-best\\assets\n"
     ]
    },
    {
     "name": "stderr",
     "output_type": "stream",
     "text": [
      "\u001B[34m\u001B[1mwandb\u001B[0m: Adding directory to artifact (C:\\Users\\micro\\OneDrive\\Dokumente\\GitHub\\Masterpraktikum\\wandb\\run-20230909_122648-mpkab4qv\\files\\model-best)... Done. 0.0s\n"
     ]
    },
    {
     "name": "stdout",
     "output_type": "stream",
     "text": [
      "147/147 [==============================] - 6s 42ms/step - loss: 0.5510 - categorical_accuracy: 0.7668 - val_loss: 0.5499 - val_categorical_accuracy: 0.7686\n",
      "Epoch 26/30\n",
      "145/147 [============================>.] - ETA: 0s - loss: 0.5487 - categorical_accuracy: 0.7679WARNING:tensorflow:Can save best model only with val_accuracy available, skipping.\n",
      "INFO:tensorflow:Assets written to: C:\\Users\\micro\\OneDrive\\Dokumente\\GitHub\\Masterpraktikum\\wandb\\run-20230909_122648-mpkab4qv\\files\\model-best\\assets\n"
     ]
    },
    {
     "name": "stderr",
     "output_type": "stream",
     "text": [
      "\u001B[34m\u001B[1mwandb\u001B[0m: Adding directory to artifact (C:\\Users\\micro\\OneDrive\\Dokumente\\GitHub\\Masterpraktikum\\wandb\\run-20230909_122648-mpkab4qv\\files\\model-best)... Done. 0.0s\n"
     ]
    },
    {
     "name": "stdout",
     "output_type": "stream",
     "text": [
      "147/147 [==============================] - 6s 43ms/step - loss: 0.5487 - categorical_accuracy: 0.7679 - val_loss: 0.5475 - val_categorical_accuracy: 0.7680\n",
      "Epoch 27/30\n",
      "145/147 [============================>.] - ETA: 0s - loss: 0.5467 - categorical_accuracy: 0.7684WARNING:tensorflow:Can save best model only with val_accuracy available, skipping.\n",
      "INFO:tensorflow:Assets written to: C:\\Users\\micro\\OneDrive\\Dokumente\\GitHub\\Masterpraktikum\\wandb\\run-20230909_122648-mpkab4qv\\files\\model-best\\assets\n"
     ]
    },
    {
     "name": "stderr",
     "output_type": "stream",
     "text": [
      "\u001B[34m\u001B[1mwandb\u001B[0m: Adding directory to artifact (C:\\Users\\micro\\OneDrive\\Dokumente\\GitHub\\Masterpraktikum\\wandb\\run-20230909_122648-mpkab4qv\\files\\model-best)... Done. 0.0s\n"
     ]
    },
    {
     "name": "stdout",
     "output_type": "stream",
     "text": [
      "147/147 [==============================] - 6s 41ms/step - loss: 0.5466 - categorical_accuracy: 0.7685 - val_loss: 0.5458 - val_categorical_accuracy: 0.7709\n",
      "Epoch 28/30\n",
      "145/147 [============================>.] - ETA: 0s - loss: 0.5449 - categorical_accuracy: 0.7695WARNING:tensorflow:Can save best model only with val_accuracy available, skipping.\n",
      "INFO:tensorflow:Assets written to: C:\\Users\\micro\\OneDrive\\Dokumente\\GitHub\\Masterpraktikum\\wandb\\run-20230909_122648-mpkab4qv\\files\\model-best\\assets\n"
     ]
    },
    {
     "name": "stderr",
     "output_type": "stream",
     "text": [
      "\u001B[34m\u001B[1mwandb\u001B[0m: Adding directory to artifact (C:\\Users\\micro\\OneDrive\\Dokumente\\GitHub\\Masterpraktikum\\wandb\\run-20230909_122648-mpkab4qv\\files\\model-best)... Done. 0.0s\n"
     ]
    },
    {
     "name": "stdout",
     "output_type": "stream",
     "text": [
      "147/147 [==============================] - 6s 40ms/step - loss: 0.5449 - categorical_accuracy: 0.7696 - val_loss: 0.5447 - val_categorical_accuracy: 0.7659\n",
      "Epoch 29/30\n",
      "145/147 [============================>.] - ETA: 0s - loss: 0.5433 - categorical_accuracy: 0.7698WARNING:tensorflow:Can save best model only with val_accuracy available, skipping.\n",
      "INFO:tensorflow:Assets written to: C:\\Users\\micro\\OneDrive\\Dokumente\\GitHub\\Masterpraktikum\\wandb\\run-20230909_122648-mpkab4qv\\files\\model-best\\assets\n"
     ]
    },
    {
     "name": "stderr",
     "output_type": "stream",
     "text": [
      "\u001B[34m\u001B[1mwandb\u001B[0m: Adding directory to artifact (C:\\Users\\micro\\OneDrive\\Dokumente\\GitHub\\Masterpraktikum\\wandb\\run-20230909_122648-mpkab4qv\\files\\model-best)... Done. 0.0s\n"
     ]
    },
    {
     "name": "stdout",
     "output_type": "stream",
     "text": [
      "147/147 [==============================] - 6s 44ms/step - loss: 0.5434 - categorical_accuracy: 0.7697 - val_loss: 0.5426 - val_categorical_accuracy: 0.7702\n",
      "Epoch 30/30\n",
      "145/147 [============================>.] - ETA: 0s - loss: 0.5420 - categorical_accuracy: 0.7704WARNING:tensorflow:Can save best model only with val_accuracy available, skipping.\n",
      "INFO:tensorflow:Assets written to: C:\\Users\\micro\\OneDrive\\Dokumente\\GitHub\\Masterpraktikum\\wandb\\run-20230909_122648-mpkab4qv\\files\\model-best\\assets\n"
     ]
    },
    {
     "name": "stderr",
     "output_type": "stream",
     "text": [
      "\u001B[34m\u001B[1mwandb\u001B[0m: Adding directory to artifact (C:\\Users\\micro\\OneDrive\\Dokumente\\GitHub\\Masterpraktikum\\wandb\\run-20230909_122648-mpkab4qv\\files\\model-best)... Done. 0.0s\n"
     ]
    },
    {
     "name": "stdout",
     "output_type": "stream",
     "text": [
      "147/147 [==============================] - 6s 42ms/step - loss: 0.5419 - categorical_accuracy: 0.7704 - val_loss: 0.5417 - val_categorical_accuracy: 0.7687\n"
     ]
    }
   ],
   "source": [
    "# Train the model\n",
    "# X_train, X_test, y_train, y_test\n",
    "history_embed = model_embed.fit(train_ds_embed, train_labels_embed, epochs=30, batch_size=4096, validation_data=(val_ds_embed, val_labels_embed), callbacks=[checkpoint_callback_embed, early_stopping_embed, WandbCallback()]) #WandbCallback()"
   ],
   "metadata": {
    "collapsed": false,
    "ExecuteTime": {
     "end_time": "2023-09-09T10:30:10.919259700Z",
     "start_time": "2023-09-09T10:27:04.465930400Z"
    }
   }
  },
  {
   "cell_type": "code",
   "execution_count": 63,
   "outputs": [
    {
     "name": "stdout",
     "output_type": "stream",
     "text": [
      "09092023\n"
     ]
    }
   ],
   "source": [
    "import datetime\n",
    "date = datetime.datetime.now().strftime(\"%m%d%Y\")\n",
    "print(date)"
   ],
   "metadata": {
    "collapsed": false,
    "ExecuteTime": {
     "end_time": "2023-09-09T10:30:10.925575600Z",
     "start_time": "2023-09-09T10:30:10.899483900Z"
    }
   }
  },
  {
   "cell_type": "code",
   "execution_count": 64,
   "outputs": [],
   "source": [
    "# https://cpcscientific.com/esi-ms-peptide-interpretation-guide/\n",
    "# https://www.ncbi.nlm.nih.gov/pmc/articles/PMC5588090/\n",
    "# https://pubs.acs.org/doi/10.1021/acs.analchem.7b01899\n",
    "# https://www.researchgate.net/publication/8143943_Amino_Acid_Cluster_Formation_Studied_by_Electrospray_Ionization_Mass_Spectrometry\n",
    "# https://pubs.acs.org/doi/epdf/10.1021/ac990976y\n",
    "# https://analyticalsciencejournals.onlinelibrary.wiley.com/doi/epdf/10.1002/jms.4348?saml_referrer"
   ],
   "metadata": {
    "collapsed": false,
    "ExecuteTime": {
     "end_time": "2023-09-09T10:30:10.927113300Z",
     "start_time": "2023-09-09T10:30:10.902315700Z"
    }
   }
  },
  {
   "cell_type": "code",
   "execution_count": 65,
   "outputs": [],
   "source": [
    "model_embed.save(f'precursor_charge_prediction_model_embed/history_embed_150epoch_{date}.h5')"
   ],
   "metadata": {
    "collapsed": false,
    "ExecuteTime": {
     "end_time": "2023-09-09T10:30:10.965118500Z",
     "start_time": "2023-09-09T10:30:10.910260500Z"
    }
   }
  },
  {
   "cell_type": "code",
   "execution_count": 65,
   "outputs": [],
   "source": [],
   "metadata": {
    "collapsed": false,
    "ExecuteTime": {
     "end_time": "2023-09-09T10:30:11.055118500Z",
     "start_time": "2023-09-09T10:30:10.926577900Z"
    }
   }
  },
  {
   "cell_type": "code",
   "execution_count": 66,
   "outputs": [
    {
     "data": {
      "text/plain": "<Figure size 1200x600 with 2 Axes>",
      "image/png": "[encoded data removed]"
     },
     "metadata": {},
     "output_type": "display_data"
    }
   ],
   "source": [
    "# Access the loss, validation loss, and accuracy from the history object\n",
    "loss = history_embed.history['loss']\n",
    "val_loss = history_embed.history['val_loss']\n",
    "accuracy = history_embed.history['categorical_accuracy']\n",
    "val_accuracy = history_embed.history['val_categorical_accuracy']\n",
    "\n",
    "# Plot the loss, validation loss, and accuracy curves\n",
    "epochs = range(1, len(loss) + 1)\n",
    "\n",
    "# Create subplots\n",
    "fig2, (ax1, ax2) = plt.subplots(1, 2, figsize=(12, 6))\n",
    "\n",
    "# Plot loss and validation loss\n",
    "ax1.plot(epochs, loss, 'b', label='Training Loss')\n",
    "ax1.plot(epochs, val_loss, 'r', label='Validation Loss')\n",
    "ax1.set_title('Training and Validation Loss')\n",
    "ax1.set_xlabel('Epochs')\n",
    "ax1.set_ylabel('Loss')\n",
    "ax1.legend()\n",
    "\n",
    "# Plot accuracy and validation accuracy\n",
    "ax2.plot(epochs, accuracy, 'b', label='Training Accuracy')\n",
    "ax2.plot(epochs, val_accuracy, 'r', label='Validation Accuracy')\n",
    "ax2.set_title('Training and Validation Accuracy')\n",
    "ax2.set_xlabel('Epochs')\n",
    "ax2.set_ylabel('Accuracy')\n",
    "ax2.legend()\n",
    "\n",
    "# Adjust spacing between subplots\n",
    "plt.tight_layout()\n",
    "\n",
    "# Show the plots\n",
    "plt.show()"
   ],
   "metadata": {
    "collapsed": false,
    "ExecuteTime": {
     "end_time": "2023-09-09T10:30:11.366490100Z",
     "start_time": "2023-09-09T10:30:10.931122300Z"
    }
   }
  },
  {
   "cell_type": "markdown",
   "source": [
    "# Inference"
   ],
   "metadata": {
    "collapsed": false
   }
  },
  {
   "cell_type": "code",
   "execution_count": 67,
   "outputs": [],
   "source": [
    "import keras\n",
    "# load model TODO manually switch on/off\n",
    "#model_embed = keras.models.load_model('precursor_charge_prediction_model_embed/history_embed_150epoch_09052023.h5')"
   ],
   "metadata": {
    "collapsed": false,
    "ExecuteTime": {
     "end_time": "2023-09-09T10:30:11.367488300Z",
     "start_time": "2023-09-09T10:30:11.345358100Z"
    }
   }
  },
  {
   "cell_type": "code",
   "execution_count": 68,
   "outputs": [],
   "source": [
    "def decode_one_hot(one_hot, charges = [1,2,3,4,5,6]):\n",
    "    for index, hot in enumerate(one_hot):\n",
    "        if hot == 1:\n",
    "            return charges[index]"
   ],
   "metadata": {
    "collapsed": false,
    "ExecuteTime": {
     "end_time": "2023-09-09T10:30:11.369714200Z",
     "start_time": "2023-09-09T10:30:11.347870400Z"
    }
   }
  },
  {
   "cell_type": "code",
   "execution_count": 69,
   "outputs": [],
   "source": [
    "def predictions_no_hot(one_hot, charges = [1,2,3,4,5,6]):\n",
    "    if one_hot is not None:\n",
    "        index = np.argmax(one_hot)\n",
    "        return charges[index]\n",
    "    else:\n",
    "        return 'None'"
   ],
   "metadata": {
    "collapsed": false,
    "ExecuteTime": {
     "end_time": "2023-09-09T10:30:11.370714800Z",
     "start_time": "2023-09-09T10:30:11.355382800Z"
    }
   }
  },
  {
   "cell_type": "code",
   "execution_count": 70,
   "outputs": [
    {
     "data": {
      "text/plain": "4"
     },
     "execution_count": 70,
     "metadata": {},
     "output_type": "execute_result"
    }
   ],
   "source": [
    "np.argmax([0, 0 ,0 ,0, 1])"
   ],
   "metadata": {
    "collapsed": false,
    "ExecuteTime": {
     "end_time": "2023-09-09T10:30:11.540565700Z",
     "start_time": "2023-09-09T10:30:11.362489900Z"
    }
   }
  },
  {
   "cell_type": "code",
   "execution_count": 71,
   "outputs": [],
   "source": [
    "def get_topK(label_dict, k=1):\n",
    "    allowed_keys = list()\n",
    "    sorted_values = sorted(label_dict.values(), reverse=True)\n",
    "    for i in sorted_values:\n",
    "        for key, value in label_dict.items():\n",
    "            if i == value and len(allowed_keys) <= k:\n",
    "                #allowed_keys.append((key, value))\n",
    "                allowed_keys.append(key)\n",
    "    return allowed_keys"
   ],
   "metadata": {
    "collapsed": false,
    "ExecuteTime": {
     "end_time": "2023-09-09T10:30:11.603565900Z",
     "start_time": "2023-09-09T10:30:11.371715900Z"
    }
   }
  },
  {
   "cell_type": "code",
   "execution_count": 72,
   "outputs": [],
   "source": [
    "import pandas as pd\n",
    "predict_df = pd.DataFrame(columns=['modified_sequence_vector', 'true_label', 'pred_label', 'prediction', 'modified_sequence', 'seq_length', 'normalized', 'topK'])\n",
    "# every row of tensor to list\n",
    "predict_df['modified_sequence_vector'] = test_ds_embed.numpy().tolist()\n",
    "predict_df['true_label'] = test_labels_embed.numpy().tolist()\n",
    "predict_df['pred_label'] = None\n",
    "predict_df['prediction'] = None\n",
    "predict_df['true_label'] = predict_df['true_label'].apply(decode_one_hot)\n",
    "predict_df['modified_sequence'] = test_ds_embed_raw\n",
    "predict_df['normalized'] = test_true_labels_normalized\n",
    "predict_df['topK'] = predict_df['normalized'].apply(get_topK)\n",
    "# write length of modified sequence after seq_translator to 'seq_length'\n",
    "predict_df['seq_length'] = predict_df['modified_sequence'].apply(lambda x: len(list(seq_translator(x, no_padding=True))))\n"
   ],
   "metadata": {
    "collapsed": false,
    "ExecuteTime": {
     "end_time": "2023-09-09T10:30:13.943737500Z",
     "start_time": "2023-09-09T10:30:11.377563800Z"
    }
   }
  },
  {
   "cell_type": "code",
   "execution_count": 73,
   "outputs": [
    {
     "data": {
      "text/plain": "                            modified_sequence_vector  true_label pred_label  \\\n0  [4, 18, 1, 1, 1, 15, 1, 1, 4, 17, 4, 0, 0, 0, ...           2       None   \n1  [16, 12, 16, 10, 15, 10, 16, 10, 8, 6, 3, 15, ...           2       None   \n2  [4, 22, 10, 17, 15, 1, 8, 9, 17, 14, 10, 18, 1...           3       None   \n3  [8, 13, 15, 18, 17, 17, 13, 10, 16, 16, 10, 0,...           2       None   \n\n  prediction           modified_sequence  seq_length  \\\n0       None                 EVAAARAAETE          11   \n1       None                SNSLRLSLIGDR          12   \n2       None  EM[UNIMOD:35]LTRAIKTQLVLLT          15   \n3       None                 IPRVTTPLSSL          11   \n\n                       normalized    topK  \n0                  {2: 2308078.0}     [2]  \n1  {3: 15888960.0, 2: 41187530.0}  [2, 3]  \n2   {3: 48770720.0, 2: 7114500.0}  [3, 2]  \n3                  {2: 9628667.0}     [2]  ",
      "text/html": "<div>\n<style scoped>\n    .dataframe tbody tr th:only-of-type {\n        vertical-align: middle;\n    }\n\n    .dataframe tbody tr th {\n        vertical-align: top;\n    }\n\n    .dataframe thead th {\n        text-align: right;\n    }\n</style>\n<table border=\"1\" class=\"dataframe\">\n  <thead>\n    <tr style=\"text-align: right;\">\n      <th></th>\n      <th>modified_sequence_vector</th>\n      <th>true_label</th>\n      <th>pred_label</th>\n      <th>prediction</th>\n      <th>modified_sequence</th>\n      <th>seq_length</th>\n      <th>normalized</th>\n      <th>topK</th>\n    </tr>\n  </thead>\n  <tbody>\n    <tr>\n      <th>0</th>\n      <td>[4, 18, 1, 1, 1, 15, 1, 1, 4, 17, 4, 0, 0, 0, ...</td>\n      <td>2</td>\n      <td>None</td>\n      <td>None</td>\n      <td>EVAAARAAETE</td>\n      <td>11</td>\n      <td>{2: 2308078.0}</td>\n      <td>[2]</td>\n    </tr>\n    <tr>\n      <th>1</th>\n      <td>[16, 12, 16, 10, 15, 10, 16, 10, 8, 6, 3, 15, ...</td>\n      <td>2</td>\n      <td>None</td>\n      <td>None</td>\n      <td>SNSLRLSLIGDR</td>\n      <td>12</td>\n      <td>{3: 15888960.0, 2: 41187530.0}</td>\n      <td>[2, 3]</td>\n    </tr>\n    <tr>\n      <th>2</th>\n      <td>[4, 22, 10, 17, 15, 1, 8, 9, 17, 14, 10, 18, 1...</td>\n      <td>3</td>\n      <td>None</td>\n      <td>None</td>\n      <td>EM[UNIMOD:35]LTRAIKTQLVLLT</td>\n      <td>15</td>\n      <td>{3: 48770720.0, 2: 7114500.0}</td>\n      <td>[3, 2]</td>\n    </tr>\n    <tr>\n      <th>3</th>\n      <td>[8, 13, 15, 18, 17, 17, 13, 10, 16, 16, 10, 0,...</td>\n      <td>2</td>\n      <td>None</td>\n      <td>None</td>\n      <td>IPRVTTPLSSL</td>\n      <td>11</td>\n      <td>{2: 9628667.0}</td>\n      <td>[2]</td>\n    </tr>\n  </tbody>\n</table>\n</div>"
     },
     "execution_count": 73,
     "metadata": {},
     "output_type": "execute_result"
    }
   ],
   "source": [
    "predict_df.head(4)"
   ],
   "metadata": {
    "collapsed": false,
    "ExecuteTime": {
     "end_time": "2023-09-09T10:30:13.974456200Z",
     "start_time": "2023-09-09T10:30:13.945623100Z"
    }
   }
  },
  {
   "cell_type": "code",
   "execution_count": 74,
   "outputs": [
    {
     "data": {
      "text/plain": "0       [2]\n1    [2, 3]\n2    [3, 2]\n3       [2]\nName: topK, dtype: object"
     },
     "execution_count": 74,
     "metadata": {},
     "output_type": "execute_result"
    }
   ],
   "source": [
    "predict_df['topK'].head(4)"
   ],
   "metadata": {
    "collapsed": false,
    "ExecuteTime": {
     "end_time": "2023-09-09T10:30:13.994453300Z",
     "start_time": "2023-09-09T10:30:13.954019300Z"
    }
   }
  },
  {
   "cell_type": "code",
   "execution_count": 75,
   "outputs": [
    {
     "name": "stdout",
     "output_type": "stream",
     "text": [
      "[[ 4 18  1  1  1 15  1  1  4 17  4  0  0  0  0  0  0  0  0  0  0  0  0  0\n",
      "   0  0  0  0  0  0  0  0  0  0  0  0  0  0  0  0  0  0  0  0  0  0  0  0\n",
      "   0  0  0  0  0  0  0  0  0  0  0  0  0  0  0]]\n",
      "[9.7610861e-02 8.6250490e-01 3.9846424e-02 3.7722184e-05 2.8105889e-08\n",
      " 3.3556127e-08]\n"
     ]
    }
   ],
   "source": [
    "# test predict for one\n",
    "for index, row in predict_df.iterrows():\n",
    "    solut1 = np.expand_dims(tf.convert_to_tensor(np.array(predict_df.at[index, \"modified_sequence_vector\"])), axis=0)\n",
    "    print(solut1)\n",
    "    test_give = model_embed.predict(solut1, verbose=False)\n",
    "    break\n",
    "print(test_give[0])"
   ],
   "metadata": {
    "collapsed": false,
    "ExecuteTime": {
     "end_time": "2023-09-09T10:30:14.237280400Z",
     "start_time": "2023-09-09T10:30:13.967454700Z"
    }
   }
  },
  {
   "cell_type": "code",
   "execution_count": 76,
   "outputs": [],
   "source": [
    "def generate_charge_prediction_text(charge_predictions, input_sequence='AAAVVCCAA'):\n",
    "    max_charge_index = np.argmax(charge_predictions)\n",
    "    max_charge_value = round(charge_predictions[max_charge_index], 2)\n",
    "\n",
    "    charge_text = f\"The predicted charge state for the input sequence '{input_sequence}' is {max_charge_index+1} [{round(max_charge_value*100,2)}%].\"\n",
    "    percentage_text = \"Prediction percentages for all states:\\n\"\n",
    "\n",
    "    for index, prediction in enumerate(charge_predictions):\n",
    "        if index != max_charge_index:\n",
    "            percentage = round(prediction * 100, 2)\n",
    "            percentage_text += f\"Charge state {index+1}: {percentage}%\\n\"\n",
    "        else:\n",
    "            percentage = round(prediction * 100, 2)\n",
    "            percentage_text += f\"--Charge state {index+1}: {percentage}%\\n\"\n",
    "\n",
    "    full_text = charge_text + \"\\n\" + percentage_text\n",
    "    return full_text"
   ],
   "metadata": {
    "collapsed": false,
    "ExecuteTime": {
     "end_time": "2023-09-09T10:30:14.237280400Z",
     "start_time": "2023-09-09T10:30:14.099140500Z"
    }
   }
  },
  {
   "cell_type": "markdown",
   "source": [],
   "metadata": {
    "collapsed": false
   }
  },
  {
   "cell_type": "code",
   "execution_count": 77,
   "outputs": [
    {
     "name": "stdout",
     "output_type": "stream",
     "text": [
      "Model: \"model_1\"\n",
      "_________________________________________________________________\n",
      " Layer (type)                Output Shape              Param #   \n",
      "=================================================================\n",
      " input_1 (InputLayer)        [(None, 63)]              0         \n",
      "                                                                 \n",
      " embedding (Embedding)       (None, 63, 63)            1449      \n",
      "                                                                 \n",
      " flatten (Flatten)           (None, 3969)              0         \n",
      "                                                                 \n",
      " dense (Dense)               (None, 6)                 23820     \n",
      "                                                                 \n",
      "=================================================================\n",
      "Total params: 25,269\n",
      "Trainable params: 25,269\n",
      "Non-trainable params: 0\n",
      "_________________________________________________________________\n"
     ]
    }
   ],
   "source": [
    "model_embed.summary()"
   ],
   "metadata": {
    "collapsed": false,
    "ExecuteTime": {
     "end_time": "2023-09-09T10:30:14.238280Z",
     "start_time": "2023-09-09T10:30:14.102430500Z"
    }
   }
  },
  {
   "cell_type": "code",
   "execution_count": 78,
   "outputs": [
    {
     "data": {
      "text/plain": "19501"
     },
     "execution_count": 78,
     "metadata": {},
     "output_type": "execute_result"
    }
   ],
   "source": [
    "# search modified_sequence of length 60 in predict_df and return row index\n",
    "predict_df[predict_df['seq_length'] >= 40].index[0]"
   ],
   "metadata": {
    "collapsed": false,
    "ExecuteTime": {
     "end_time": "2023-09-09T10:30:14.239279700Z",
     "start_time": "2023-09-09T10:30:14.118583600Z"
    }
   }
  },
  {
   "cell_type": "code",
   "execution_count": 79,
   "outputs": [
    {
     "data": {
      "text/plain": "                            modified_sequence_vector  true_label pred_label  \\\n0  [4, 18, 1, 1, 1, 15, 1, 1, 4, 17, 4, 0, 0, 0, ...           2       None   \n1  [16, 12, 16, 10, 15, 10, 16, 10, 8, 6, 3, 15, ...           2       None   \n2  [4, 22, 10, 17, 15, 1, 8, 9, 17, 14, 10, 18, 1...           3       None   \n3  [8, 13, 15, 18, 17, 17, 13, 10, 16, 16, 10, 0,...           2       None   \n\n  prediction           modified_sequence  seq_length  \\\n0       None                 EVAAARAAETE          11   \n1       None                SNSLRLSLIGDR          12   \n2       None  EM[UNIMOD:35]LTRAIKTQLVLLT          15   \n3       None                 IPRVTTPLSSL          11   \n\n                       normalized    topK  \n0                  {2: 2308078.0}     [2]  \n1  {3: 15888960.0, 2: 41187530.0}  [2, 3]  \n2   {3: 48770720.0, 2: 7114500.0}  [3, 2]  \n3                  {2: 9628667.0}     [2]  ",
      "text/html": "<div>\n<style scoped>\n    .dataframe tbody tr th:only-of-type {\n        vertical-align: middle;\n    }\n\n    .dataframe tbody tr th {\n        vertical-align: top;\n    }\n\n    .dataframe thead th {\n        text-align: right;\n    }\n</style>\n<table border=\"1\" class=\"dataframe\">\n  <thead>\n    <tr style=\"text-align: right;\">\n      <th></th>\n      <th>modified_sequence_vector</th>\n      <th>true_label</th>\n      <th>pred_label</th>\n      <th>prediction</th>\n      <th>modified_sequence</th>\n      <th>seq_length</th>\n      <th>normalized</th>\n      <th>topK</th>\n    </tr>\n  </thead>\n  <tbody>\n    <tr>\n      <th>0</th>\n      <td>[4, 18, 1, 1, 1, 15, 1, 1, 4, 17, 4, 0, 0, 0, ...</td>\n      <td>2</td>\n      <td>None</td>\n      <td>None</td>\n      <td>EVAAARAAETE</td>\n      <td>11</td>\n      <td>{2: 2308078.0}</td>\n      <td>[2]</td>\n    </tr>\n    <tr>\n      <th>1</th>\n      <td>[16, 12, 16, 10, 15, 10, 16, 10, 8, 6, 3, 15, ...</td>\n      <td>2</td>\n      <td>None</td>\n      <td>None</td>\n      <td>SNSLRLSLIGDR</td>\n      <td>12</td>\n      <td>{3: 15888960.0, 2: 41187530.0}</td>\n      <td>[2, 3]</td>\n    </tr>\n    <tr>\n      <th>2</th>\n      <td>[4, 22, 10, 17, 15, 1, 8, 9, 17, 14, 10, 18, 1...</td>\n      <td>3</td>\n      <td>None</td>\n      <td>None</td>\n      <td>EM[UNIMOD:35]LTRAIKTQLVLLT</td>\n      <td>15</td>\n      <td>{3: 48770720.0, 2: 7114500.0}</td>\n      <td>[3, 2]</td>\n    </tr>\n    <tr>\n      <th>3</th>\n      <td>[8, 13, 15, 18, 17, 17, 13, 10, 16, 16, 10, 0,...</td>\n      <td>2</td>\n      <td>None</td>\n      <td>None</td>\n      <td>IPRVTTPLSSL</td>\n      <td>11</td>\n      <td>{2: 9628667.0}</td>\n      <td>[2]</td>\n    </tr>\n  </tbody>\n</table>\n</div>"
     },
     "execution_count": 79,
     "metadata": {},
     "output_type": "execute_result"
    }
   ],
   "source": [
    "predict_df.head(4)"
   ],
   "metadata": {
    "collapsed": false,
    "ExecuteTime": {
     "end_time": "2023-09-09T10:30:14.240279400Z",
     "start_time": "2023-09-09T10:30:14.124675100Z"
    }
   }
  },
  {
   "cell_type": "markdown",
   "source": [
    "# Embedding parameters are: vocabulary size, the size of the embedding vectors and an input length of the size of used padded sequences"
   ],
   "metadata": {
    "collapsed": false
   }
  },
  {
   "cell_type": "code",
   "execution_count": 80,
   "outputs": [
    {
     "name": "stdout",
     "output_type": "stream",
     "text": [
      "0 0.08170723 X; 1 0.11736488 X; 2 0.0979304 X; 3 0.14894181 X; 4 -0.08518012 X; 5 0.15783754 X; 6 0.10352782 X; 7 -0.10148758 X; 8 -0.100750975 X; 9 -0.097309634 X; 10 0.08529962 X; 11 0.08934465 X; 12 0.06075232 X; 13 0.09499151 X; 14 -0.087075755 X; 15 -0.14521572 X; 16 0.08887492 X; 17 0.092370175 X; 18 -0.08007247 X; 19 -0.07167796 X; 20 -0.08343777 X; 21 0.11168156 X; 22 0.06408392 X; 23 -0.14722039 X; 24 0.03536254 X; 25 0.10223643 X; 26 -0.122792505 X; 27 -0.08935402 X; 28 0.07309371 X; 29 0.09042872 X; 30 0.056323662 X; 31 -0.065291665 X; 32 0.11142817 X; 33 -0.08910501 X; 34 0.10014447 X; 35 -0.06818736 X; 36 0.09890698 X; 37 -0.096017934 X; 38 -0.08317895 X; 39 -0.133386 X; 40 0.1099448 X; 41 0.07601384 X; 42 -0.045244865 X; 43 -0.08869097 X; 44 -0.107191324 X; 45 0.1349565 X; 46 0.040082943 X; 47 -0.05220934 X; 48 -0.08549634 X; 49 -0.107799284 X; 50 -0.08196304 X; 51 0.1349126 X; 52 -0.04128728 X; 53 -0.0679483 X; 54 -0.08577122 X; 55 0.135497 X; 56 -0.0909505 X; 57 -0.050771646 X; 58 0.07551835 X; 59 0.105071805 X; 60 -0.078013755 X; 61 0.14112833 X; 62 -0.05420415 X; \n",
      "\n",
      "0 0.011638937 A; 1 0.07542557 A; 2 0.13168532 A; 3 -0.120519966 A; 4 0.03345358 A; 5 -0.086708315 A; 6 -0.08797549 A; 7 0.004703361 A; 8 -0.02090988 A; 9 -0.11730841 A; 10 -0.0019758972 A; 11 0.06464088 A; 12 0.03475103 A; 13 -0.076568335 A; 14 -0.11506476 A; 15 0.025292741 A; 16 0.08978569 A; 17 0.1138011 A; 18 -0.13781855 A; 19 -0.05785746 A; 20 0.101490974 A; 21 -0.016172877 A; 22 -0.015145938 A; 23 0.13907544 A; 24 0.06897612 A; 25 -0.09333257 A; 26 0.04997609 A; 27 0.054168478 A; 28 0.168475 A; 29 0.101604566 A; 30 0.03393229 A; 31 -0.08264832 A; 32 -0.07473892 A; 33 -0.111227855 A; 34 -0.08387843 A; 35 -0.14623341 A; 36 -0.008830329 A; 37 0.12641086 A; 38 -0.1402843 A; 39 0.1885544 A; 40 -0.17219082 A; 41 0.050799247 A; 42 -0.06594113 A; 43 -0.11498147 A; 44 0.0075970017 A; 45 -0.070378006 A; 46 0.17642935 A; 47 -0.031842384 A; 48 -0.06302492 A; 49 -0.0810345 A; 50 -0.0037575816 A; 51 -0.026332049 A; 52 -0.123541 A; 53 -0.08860755 A; 54 0.20470819 A; 55 -0.012810998 A; 56 -0.11149811 A; 57 -0.075919725 A; 58 0.08742072 A; 59 -0.095046535 A; 60 -0.031860147 A; 61 -0.16729599 A; 62 -0.13424318 A; \n",
      "\n",
      "0 0.015702318 C; 1 0.001807522 C; 2 0.01815683 C; 3 0.0019037127 C; 4 -0.003767144 C; 5 0.03737751 C; 6 0.027264882 C; 7 -0.0050249323 C; 8 0.037273202 C; 9 0.0451574 C; 10 0.010740232 C; 11 -0.00483061 C; 12 0.02234267 C; 13 0.0014936328 C; 14 -0.04634551 C; 15 -0.021182835 C; 16 -0.03896762 C; 17 -0.017607607 C; 18 0.04493836 C; 19 -0.02650243 C; 20 -0.0105316155 C; 21 -0.047394253 C; 22 -0.030721212 C; 23 0.0039016604 C; 24 0.03793147 C; 25 -0.023236467 C; 26 -0.009503521 C; 27 -0.041179083 C; 28 0.044257667 C; 29 0.035486136 C; 30 0.009418808 C; 31 -0.029781712 C; 32 -0.006657649 C; 33 0.00041457266 C; 34 0.018193569 C; 35 -0.032612815 C; 36 0.027390968 C; 37 0.042641234 C; 38 0.031536963 C; 39 0.04901835 C; 40 0.013707425 C; 41 0.03021684 C; 42 0.045266736 C; 43 0.015724186 C; 44 -0.036063205 C; 45 -0.01244279 C; 46 -0.049972545 C; 47 0.012863446 C; 48 -0.039824594 C; 49 -0.021256411 C; 50 -0.0159191 C; 51 -0.033377603 C; 52 -0.037407734 C; 53 0.011098135 C; 54 -0.03499799 C; 55 0.010116648 C; 56 0.02512126 C; 57 0.02926309 C; 58 0.022302259 C; 59 -0.039438594 C; 60 0.026433337 C; 61 0.017296504 C; 62 0.0113976225 C; \n",
      "\n",
      "0 -0.032472536 D; 1 0.14220797 D; 2 -0.034641515 D; 3 -0.02259758 D; 4 -0.081088156 D; 5 0.12140241 D; 6 -0.111699484 D; 7 0.29203233 D; 8 0.07476328 D; 9 0.0009795816 D; 10 -0.15195745 D; 11 0.08451277 D; 12 0.0924196 D; 13 0.2415968 D; 14 -0.14517827 D; 15 -0.03422413 D; 16 0.07973469 D; 17 0.12971593 D; 18 -0.2021084 D; 19 -0.0001892178 D; 20 0.09817861 D; 21 -0.1110492 D; 22 0.061051454 D; 23 0.1242888 D; 24 0.13756292 D; 25 -0.1033911 D; 26 0.09223817 D; 27 -0.0052331365 D; 28 0.069992565 D; 29 0.058905087 D; 30 -0.21216922 D; 31 0.06556272 D; 32 0.07471549 D; 33 -0.013940874 D; 34 -0.18193823 D; 35 -0.07337007 D; 36 0.043798074 D; 37 0.121424116 D; 38 0.07331439 D; 39 0.22725423 D; 40 -0.28556472 D; 41 0.08051324 D; 42 -0.07556528 D; 43 -0.06648049 D; 44 0.06792042 D; 45 -0.013997627 D; 46 0.09876874 D; 47 -0.085402705 D; 48 -0.12456156 D; 49 -0.10571471 D; 50 -0.0218712 D; 51 -0.24116015 D; 52 -0.02069474 D; 53 -0.1364975 D; 54 0.25460014 D; 55 0.08868938 D; 56 -0.09304532 D; 57 -0.113914184 D; 58 0.12619689 D; 59 0.08424153 D; 60 -0.004798539 D; 61 -0.12907454 D; 62 -0.16958228 D; \n",
      "\n",
      "0 0.00044813709 E; 1 0.012738588 E; 2 0.031620875 E; 3 -0.029229037 E; 4 -0.13638313 E; 5 -0.0074760066 E; 6 -0.10184058 E; 7 0.121774636 E; 8 -0.042674344 E; 9 -0.016003385 E; 10 -0.009325036 E; 11 0.07559581 E; 12 0.123927444 E; 13 -0.095406406 E; 14 -0.0064526377 E; 15 0.10196355 E; 16 -0.06395632 E; 17 0.034367453 E; 18 -0.09226759 E; 19 -0.052326817 E; 20 0.09929167 E; 21 -0.10606564 E; 22 0.04780743 E; 23 0.11177305 E; 24 0.14152683 E; 25 0.1025682 E; 26 -0.10828809 E; 27 0.06728672 E; 28 0.060468964 E; 29 0.014236331 E; 30 -0.035017602 E; 31 -0.04670649 E; 32 0.069824055 E; 33 0.010344164 E; 34 -0.1088204 E; 35 -0.03484398 E; 36 0.06511728 E; 37 0.12224419 E; 38 0.044942927 E; 39 0.1033425 E; 40 -0.15807843 E; 41 0.10046835 E; 42 -0.107588515 E; 43 -0.003434531 E; 44 0.1258844 E; 45 -0.052605048 E; 46 0.030525688 E; 47 -0.08423995 E; 48 -0.083947964 E; 49 -0.009680431 E; 50 0.07033634 E; 51 -0.046491504 E; 52 -0.09644426 E; 53 -0.14488053 E; 54 0.077402644 E; 55 -0.10729287 E; 56 -0.045285393 E; 57 -0.06635895 E; 58 -0.0013547189 E; 59 -0.080511 E; 60 -0.0241037 E; 61 -0.14936873 E; 62 -0.10233272 E; \n",
      "\n",
      "0 0.01597845 F; 1 -0.02499771 F; 2 0.09978891 F; 3 -0.0852969 F; 4 0.049885534 F; 5 -0.029999219 F; 6 -0.100529574 F; 7 0.008235529 F; 8 -0.024742858 F; 9 0.013365894 F; 10 0.007906016 F; 11 0.04805273 F; 12 -0.0050313203 F; 13 -0.14859743 F; 14 -0.037935037 F; 15 0.06893066 F; 16 0.018121062 F; 17 0.023104323 F; 18 -0.031202065 F; 19 -0.033974398 F; 20 0.103793174 F; 21 -0.057783164 F; 22 0.03183529 F; 23 0.16184139 F; 24 0.041626897 F; 25 -0.0012431768 F; 26 0.037330598 F; 27 0.08839026 F; 28 0.13532963 F; 29 0.086977765 F; 30 -0.026381157 F; 31 -0.016287541 F; 32 -0.02507321 F; 33 -0.068459325 F; 34 -0.13681166 F; 35 -0.1015105 F; 36 0.002979241 F; 37 0.12712729 F; 38 -0.0765287 F; 39 0.22424865 F; 40 -0.17524298 F; 41 0.03208128 F; 42 -0.08147245 F; 43 -0.06755382 F; 44 -0.008935511 F; 45 -0.085099414 F; 46 0.13284102 F; 47 -0.09579881 F; 48 -0.059429966 F; 49 0.004707363 F; 50 -0.020398697 F; 51 -0.0065486487 F; 52 -0.11143213 F; 53 -0.09539988 F; 54 0.12037955 F; 55 -0.0057719126 F; 56 -0.10588121 F; 57 -0.044709176 F; 58 0.12742616 F; 59 -0.027940134 F; 60 -0.04473055 F; 61 -0.11632588 F; 62 -0.08740303 F; \n",
      "\n",
      "0 -0.005222737 G; 1 0.09460973 G; 2 0.07222023 G; 3 -0.038569417 G; 4 -0.072979465 G; 5 -0.0025519705 G; 6 -0.10026291 G; 7 0.06247595 G; 8 -0.0037108304 G; 9 -0.095959395 G; 10 -0.04129971 G; 11 -0.011515996 G; 12 0.015721425 G; 13 -0.067398 G; 14 -0.06504443 G; 15 0.051905468 G; 16 0.1092547 G; 17 0.14011319 G; 18 -0.09085704 G; 19 -0.023010524 G; 20 0.110411525 G; 21 0.01214234 G; 22 0.0480762 G; 23 0.0927976 G; 24 0.09455169 G; 25 -0.042293113 G; 26 0.04336863 G; 27 0.055077452 G; 28 0.1394036 G; 29 0.15322812 G; 30 0.021347195 G; 31 -0.0070889187 G; 32 -0.04002766 G; 33 -0.016007869 G; 34 -0.1402495 G; 35 -0.11057212 G; 36 0.09352683 G; 37 0.14732336 G; 38 -0.0122996615 G; 39 0.23969838 G; 40 -0.15743408 G; 41 0.089615904 G; 42 -0.12552065 G; 43 -0.10768252 G; 44 0.049015615 G; 45 -0.13871762 G; 46 0.15205276 G; 47 -0.07048257 G; 48 -0.107715085 G; 49 -0.091016114 G; 50 0.022497546 G; 51 -0.028177254 G; 52 -0.10051648 G; 53 -0.0544228 G; 54 0.18789952 G; 55 0.007999897 G; 56 -0.14284031 G; 57 -0.06368018 G; 58 0.042601705 G; 59 -0.011043419 G; 60 -0.058002256 G; 61 -0.20887679 G; 62 -0.12088601 G; \n",
      "\n",
      "0 -0.2898596 H; 1 -0.30963063 H; 2 -0.2851549 H; 3 -0.28151157 H; 4 0.3258998 H; 5 -0.35123318 H; 6 -0.34440333 H; 7 0.38928118 H; 8 0.32765716 H; 9 0.2313994 H; 10 -0.3329473 H; 11 -0.25712433 H; 12 -0.33107534 H; 13 -0.26934952 H; 14 0.18561478 H; 15 0.35850507 H; 16 -0.31676942 H; 17 -0.23715505 H; 18 0.3698012 H; 19 0.31818175 H; 20 0.29775745 H; 21 -0.35654563 H; 22 -0.35103452 H; 23 0.13676023 H; 24 -0.32454416 H; 25 -0.24926333 H; 26 0.19353676 H; 27 0.3175258 H; 28 -0.23102686 H; 29 -0.27522692 H; 30 -0.36098376 H; 31 0.32351184 H; 32 -0.26805732 H; 33 0.32838434 H; 34 -0.34118843 H; 35 0.33335844 H; 36 -0.23762254 H; 37 -0.3350224 H; 38 0.28481087 H; 39 0.055261664 H; 40 0.26431617 H; 41 -0.33205625 H; 42 0.34179667 H; 43 0.29206046 H; 44 0.25932407 H; 45 -0.34273392 H; 46 -0.38471726 H; 47 0.30135432 H; 48 0.27808824 H; 49 0.30279377 H; 50 0.32708007 H; 51 -0.39049444 H; 52 0.2726196 H; 53 0.21982324 H; 54 0.3215839 H; 55 -0.31487137 H; 56 0.2981831 H; 57 0.2812888 H; 58 -0.34709698 H; 59 -0.22649014 H; 60 0.24155997 H; 61 0.34617692 H; 62 0.3035993 H; \n",
      "\n",
      "0 0.036217988 I; 1 -0.056132074 I; 2 0.096644856 I; 3 -0.11226987 I; 4 -0.0013398306 I; 5 -0.039378837 I; 6 -0.041786168 I; 7 0.027549274 I; 8 -0.00021703946 I; 9 -0.05100127 I; 10 0.008969806 I; 11 0.04505048 I; 12 -0.013009836 I; 13 -0.15857136 I; 14 -0.1102295 I; 15 0.06085501 I; 16 -0.005895084 I; 17 0.010080721 I; 18 -0.13735795 I; 19 -0.04964788 I; 20 0.012646487 I; 21 0.0001357079 I; 22 0.04039206 I; 23 0.15614526 I; 24 0.04190242 I; 25 -0.016844844 I; 26 0.011145631 I; 27 0.110563666 I; 28 0.083770186 I; 29 0.15462846 I; 30 0.049530853 I; 31 -0.12665103 I; 32 -0.04375372 I; 33 -0.009891033 I; 34 -0.06520282 I; 35 -0.12208414 I; 36 0.08080457 I; 37 0.14350218 I; 38 -0.11837712 I; 39 0.17779757 I; 40 -0.12019235 I; 41 0.050134376 I; 42 -0.10803623 I; 43 0.010655881 I; 44 0.005914442 I; 45 -0.05097534 I; 46 0.091325805 I; 47 -0.054081555 I; 48 -0.052168958 I; 49 -0.0056583667 I; 50 -0.016795788 I; 51 -0.009353715 I; 52 -0.090730175 I; 53 -0.016503109 I; 54 0.15874861 I; 55 -0.05333614 I; 56 -0.045834612 I; 57 -0.124552555 I; 58 0.108715 I; 59 -0.15500703 I; 60 -0.044987798 I; 61 -0.17864202 I; 62 -0.095348865 I; \n",
      "\n",
      "0 -0.36102432 K; 1 -0.31236356 K; 2 -0.32170594 K; 3 -0.34293422 K; 4 0.24766798 K; 5 -0.3269113 K; 6 -0.34012303 K; 7 0.34450597 K; 8 0.32390386 K; 9 0.3669713 K; 10 -0.30713987 K; 11 -0.23095314 K; 12 -0.28846022 K; 13 -0.36474082 K; 14 0.3006742 K; 15 0.33904347 K; 16 -0.28012198 K; 17 -0.29818636 K; 18 0.2580658 K; 19 0.21321656 K; 20 0.36308596 K; 21 -0.38367718 K; 22 -0.3296533 K; 23 0.10259196 K; 24 -0.2518141 K; 25 -0.31411546 K; 26 0.31020516 K; 27 0.31770337 K; 28 -0.352429 K; 29 -0.28309074 K; 30 -0.31455135 K; 31 0.2456053 K; 32 -0.31317022 K; 33 0.35417268 K; 34 -0.28910437 K; 35 0.3304048 K; 36 -0.30745187 K; 37 -0.3760076 K; 38 0.37865826 K; 39 -0.24774085 K; 40 0.32401484 K; 41 -0.2989376 K; 42 0.32260957 K; 43 0.33151957 K; 44 0.3327771 K; 45 -0.34625828 K; 46 -0.26676184 K; 47 0.28264776 K; 48 0.30018994 K; 49 0.3263955 K; 50 0.3139649 K; 51 -0.25201404 K; 52 0.35160983 K; 53 0.2820019 K; 54 0.26509437 K; 55 -0.33541217 K; 56 0.31970832 K; 57 0.33464152 K; 58 -0.2198255 K; 59 -0.23316912 K; 60 0.2926914 K; 61 0.3014419 K; 62 0.34745693 K; \n",
      "\n",
      "0 -0.0100384075 L; 1 -0.005785422 L; 2 0.12758465 L; 3 -0.15168512 L; 4 -0.026238654 L; 5 -0.040604606 L; 6 -0.10302758 L; 7 0.06388168 L; 8 -0.09309294 L; 9 0.011862974 L; 10 -0.028720574 L; 11 0.031147731 L; 12 0.077682 L; 13 -0.13130857 L; 14 -0.10503326 L; 15 0.045837928 L; 16 0.013858551 L; 17 -0.0022951462 L; 18 -0.111033216 L; 19 -0.0656937 L; 20 -0.0062311003 L; 21 -0.059801277 L; 22 0.08941578 L; 23 0.14319439 L; 24 0.09435819 L; 25 -0.03526285 L; 26 -0.055522744 L; 27 0.064897075 L; 28 0.11206494 L; 29 0.13252516 L; 30 0.041129645 L; 31 -0.07952792 L; 32 -0.067394525 L; 33 0.018614855 L; 34 -0.043553397 L; 35 -0.048629165 L; 36 0.09825307 L; 37 0.08606347 L; 38 -0.08577217 L; 39 0.12582865 L; 40 -0.20210809 L; 41 0.13156112 L; 42 -0.11176724 L; 43 -0.04765206 L; 44 0.022281954 L; 45 0.00030454883 L; 46 0.082114145 L; 47 -0.023482196 L; 48 -0.053424932 L; 49 -0.036500197 L; 50 0.032693774 L; 51 -0.0218824 L; 52 -0.15068376 L; 53 -0.034248963 L; 54 0.15147518 L; 55 -0.060140293 L; 56 -0.06910527 L; 57 -0.1019507 L; 58 0.023052167 L; 59 -0.11934867 L; 60 -0.07515799 L; 61 -0.14800327 L; 62 -0.09492608 L; \n",
      "\n",
      "0 -0.032869544 M; 1 -0.052032832 M; 2 -0.036043454 M; 3 -0.055534963 M; 4 -0.07819207 M; 5 0.006482645 M; 6 -0.063521594 M; 7 0.12257978 M; 8 -0.025039168 M; 9 -0.008094863 M; 10 -0.13068871 M; 11 0.029238189 M; 12 0.12744248 M; 13 -0.07827589 M; 14 0.0054833824 M; 15 0.1349275 M; 16 -0.078063935 M; 17 0.0005292327 M; 18 -0.066541865 M; 19 -0.107890695 M; 20 -0.0041504777 M; 21 -0.12646039 M; 22 -0.07221702 M; 23 0.14918189 M; 24 0.1730501 M; 25 0.062181514 M; 26 0.0123992935 M; 27 0.05164745 M; 28 -0.04898213 M; 29 0.09373167 M; 30 0.09385881 M; 31 -0.09674875 M; 32 0.044425398 M; 33 8.7045395e-05 M; 34 -0.115997255 M; 35 0.023575371 M; 36 0.051335026 M; 37 -0.0036409628 M; 38 0.06443004 M; 39 0.08564194 M; 40 -0.1705278 M; 41 0.09013051 M; 42 -0.11489379 M; 43 0.08951002 M; 44 0.13863215 M; 45 -0.057153877 M; 46 0.0048226975 M; 47 -0.112080336 M; 48 -0.0038317074 M; 49 0.03308803 M; 50 0.063555375 M; 51 -0.065794215 M; 52 0.02711082 M; 53 0.04447991 M; 54 0.11592638 M; 55 -0.036931247 M; 56 0.00878695 M; 57 -0.0379771 M; 58 0.08897692 M; 59 -0.09267803 M; 60 -0.08371991 M; 61 -0.19273177 M; 62 0.04540889 M; \n",
      "\n",
      "0 -0.001356249 N; 1 -0.032639515 N; 2 0.027025187 N; 3 -0.096623845 N; 4 -0.09511665 N; 5 0.05075761 N; 6 -0.07387595 N; 7 0.17606519 N; 8 0.03693084 N; 9 0.038016826 N; 10 -0.077023946 N; 11 0.029954972 N; 12 0.055617444 N; 13 0.002716458 N; 14 -0.122262165 N; 15 0.095930226 N; 16 0.036360633 N; 17 0.065196276 N; 18 -0.09519169 N; 19 -0.05755266 N; 20 0.010944331 N; 21 -0.057242647 N; 22 0.0534817 N; 23 0.07038308 N; 24 0.080866024 N; 25 0.059089262 N; 26 -0.04130507 N; 27 0.07097379 N; 28 0.025161177 N; 29 0.05535417 N; 30 -0.036132827 N; 31 0.0028753378 N; 32 0.020983538 N; 33 0.04055275 N; 34 -0.16489816 N; 35 -0.03279921 N; 36 0.08028313 N; 37 0.0755554 N; 38 0.024236174 N; 39 0.15982305 N; 40 -0.21384475 N; 41 0.018044649 N; 42 -0.11064915 N; 43 0.016177947 N; 44 0.03201367 N; 45 -0.1067099 N; 46 0.16383535 N; 47 -0.10597161 N; 48 -0.13293962 N; 49 0.007410529 N; 50 -0.037999332 N; 51 -0.12696084 N; 52 -0.07586146 N; 53 -0.03837692 N; 54 0.13005187 N; 55 -0.02027988 N; 56 -0.0046171243 N; 57 -0.038723193 N; 58 0.040576156 N; 59 -0.051735546 N; 60 -0.046128057 N; 61 -0.1521654 N; 62 -0.061523806 N; \n",
      "\n",
      "0 -0.040395014 P; 1 0.010899975 P; 2 0.08069366 P; 3 -0.0929405 P; 4 -0.08134862 P; 5 -0.0018658489 P; 6 -0.0066090394 P; 7 -0.036904752 P; 8 0.031343214 P; 9 0.028988402 P; 10 -0.04722268 P; 11 -0.008468056 P; 12 0.04996363 P; 13 -0.18637298 P; 14 -0.023448812 P; 15 -0.004390109 P; 16 0.016454492 P; 17 -0.07262381 P; 18 0.021604944 P; 19 -0.030590577 P; 20 0.1266763 P; 21 -0.014369139 P; 22 0.042576466 P; 23 0.0753377 P; 24 -0.008495253 P; 25 0.07407795 P; 26 -0.075091876 P; 27 -0.0009359213 P; 28 0.090904266 P; 29 -0.0041723917 P; 30 0.029930025 P; 31 -0.012999261 P; 32 -0.06024286 P; 33 0.019907407 P; 34 -0.11865194 P; 35 -0.031143734 P; 36 -0.00018599074 P; 37 0.16300139 P; 38 -0.05656394 P; 39 0.13351251 P; 40 -0.10524061 P; 41 0.041305244 P; 42 -0.09373265 P; 43 -0.002624954 P; 44 0.11102885 P; 45 -0.05464837 P; 46 0.07189616 P; 47 -0.055723447 P; 48 -0.04945217 P; 49 -0.038818058 P; 50 0.044594888 P; 51 0.042101797 P; 52 -0.17599402 P; 53 -0.10841605 P; 54 0.16446218 P; 55 -0.057308566 P; 56 -0.10947374 P; 57 -0.112817526 P; 58 0.042918127 P; 59 -0.14172842 P; 60 -0.028731953 P; 61 -0.23916557 P; 62 -0.12198308 P; \n",
      "\n",
      "0 0.043025784 Q; 1 -0.055517316 Q; 2 -0.0192193 Q; 3 -0.023086365 Q; 4 -0.0325632 Q; 5 -0.008532007 Q; 6 -0.10606199 Q; 7 0.057686146 Q; 8 0.020586863 Q; 9 0.0023683056 Q; 10 -0.034864888 Q; 11 0.034631286 Q; 12 0.09264602 Q; 13 -0.0975323 Q; 14 -0.009049641 Q; 15 0.12229971 Q; 16 -0.07195622 Q; 17 -0.008091662 Q; 18 0.061352085 Q; 19 -0.09207978 Q; 20 -0.010235687 Q; 21 -0.04053378 Q; 22 0.0069961296 Q; 23 0.10098543 Q; 24 0.034905475 Q; 25 0.13190939 Q; 26 -0.1256685 Q; 27 0.010640438 Q; 28 0.06346582 Q; 29 0.09354292 Q; 30 0.018956797 Q; 31 -0.03776558 Q; 32 -0.03034731 Q; 33 0.07330535 Q; 34 -0.052151777 Q; 35 -0.0023733233 Q; 36 0.07263577 Q; 37 0.15145598 Q; 38 0.058785632 Q; 39 0.025399547 Q; 40 -0.19649425 Q; 41 0.07405796 Q; 42 -0.07930922 Q; 43 0.103783965 Q; 44 0.04619778 Q; 45 -0.07836479 Q; 46 0.07365535 Q; 47 -0.104998566 Q; 48 -0.12352637 Q; 49 0.017769832 Q; 50 0.102084935 Q; 51 -0.044801317 Q; 52 -0.081321314 Q; 53 -0.07894151 Q; 54 0.108272225 Q; 55 -0.10950487 Q; 56 -0.04413947 Q; 57 -0.07471476 Q; 58 0.018253375 Q; 59 -0.116837166 Q; 60 -0.047733843 Q; 61 -0.13451186 Q; 62 -0.041249562 Q; \n",
      "\n",
      "0 -0.38872334 R; 1 -0.29027864 R; 2 -0.30460143 R; 3 -0.31221282 R; 4 0.31632516 R; 5 -0.33956861 R; 6 -0.34791917 R; 7 0.35901836 R; 8 0.32737088 R; 9 0.3264516 R; 10 -0.37128207 R; 11 -0.35861388 R; 12 -0.32900515 R; 13 -0.33844772 R; 14 0.33331102 R; 15 0.3337074 R; 16 -0.38291168 R; 17 -0.36237913 R; 18 0.3151741 R; 19 0.30752003 R; 20 0.35949132 R; 21 -0.4030689 R; 22 -0.30831248 R; 23 0.13780601 R; 24 -0.31996256 R; 25 -0.3220914 R; 26 0.35070655 R; 27 0.2840693 R; 28 -0.34289595 R; 29 -0.3699678 R; 30 -0.34492832 R; 31 0.3427913 R; 32 -0.39215788 R; 33 0.3310129 R; 34 -0.31152 R; 35 0.35506222 R; 36 -0.27749 R; 37 -0.32294664 R; 38 0.35611755 R; 39 -0.26153997 R; 40 0.33530423 R; 41 -0.3105267 R; 42 0.2965173 R; 43 0.37252203 R; 44 0.33374992 R; 45 -0.38621274 R; 46 -0.32306883 R; 47 0.3655045 R; 48 0.35179058 R; 49 0.33139214 R; 50 0.37774134 R; 51 -0.36539435 R; 52 0.35665345 R; 53 0.38779813 R; 54 0.31866112 R; 55 -0.33974603 R; 56 0.292312 R; 57 0.29008335 R; 58 -0.29808345 R; 59 -0.28265625 R; 60 0.30085805 R; 61 0.31352448 R; 62 0.32551563 R; \n",
      "\n",
      "0 0.037233062 S; 1 0.03916311 S; 2 0.062973075 S; 3 -0.046566904 S; 4 -0.09369844 S; 5 0.08342132 S; 6 -0.07027123 S; 7 0.14763178 S; 8 -0.03139464 S; 9 -0.016767453 S; 10 -0.077496216 S; 11 0.013511428 S; 12 0.06737262 S; 13 -0.070772715 S; 14 -0.09931556 S; 15 0.05605618 S; 16 0.0074187503 S; 17 0.10148135 S; 18 -0.044202797 S; 19 -0.011504917 S; 20 0.10427036 S; 21 -0.08340548 S; 22 -0.00010505632 S; 23 0.1298107 S; 24 0.09541378 S; 25 0.023246262 S; 26 -0.013542604 S; 27 0.055778846 S; 28 0.10213466 S; 29 0.04270842 S; 30 0.041962057 S; 31 -0.084376656 S; 32 0.05106632 S; 33 0.0018232431 S; 34 -0.1182845 S; 35 -0.07309211 S; 36 0.06819925 S; 37 0.102160424 S; 38 -0.00018632865 S; 39 0.21574485 S; 40 -0.14940701 S; 41 0.01366065 S; 42 -0.111521155 S; 43 0.008075833 S; 44 0.085041374 S; 45 -0.050127953 S; 46 0.099421576 S; 47 -0.07191247 S; 48 -0.07583906 S; 49 -0.034590676 S; 50 0.007350233 S; 51 -0.07290382 S; 52 -0.12020292 S; 53 -0.12043415 S; 54 0.11577451 S; 55 -0.011860761 S; 56 -0.045841407 S; 57 -0.07662786 S; 58 0.05796825 S; 59 -0.08845786 S; 60 -0.10284095 S; 61 -0.1745902 S; 62 -0.11127713 S; \n",
      "\n",
      "0 -0.051355246 T; 1 0.042424932 T; 2 0.084238976 T; 3 -0.07811192 T; 4 -0.05415947 T; 5 -0.00013412982 T; 6 -0.053193815 T; 7 0.045736715 T; 8 0.038938716 T; 9 0.03330181 T; 10 -0.04972086 T; 11 0.020460961 T; 12 -0.02028585 T; 13 -0.14960158 T; 14 -0.109067924 T; 15 0.033184946 T; 16 0.005505731 T; 17 0.04359924 T; 18 -0.09489939 T; 19 -0.05593135 T; 20 0.08660954 T; 21 -0.019927075 T; 22 0.079161145 T; 23 0.12772729 T; 24 0.07690827 T; 25 -0.006457016 T; 26 -0.048209414 T; 27 0.03661853 T; 28 0.106637314 T; 29 0.07956997 T; 30 0.038165055 T; 31 -0.11933085 T; 32 -0.0035448545 T; 33 -0.041628826 T; 34 -0.07674009 T; 35 -0.08062636 T; 36 0.040586617 T; 37 0.17193295 T; 38 -0.0036621522 T; 39 0.1760927 T; 40 -0.18773346 T; 41 0.06512203 T; 42 -0.0710989 T; 43 -0.06771584 T; 44 0.023529416 T; 45 -0.08897201 T; 46 0.1241902 T; 47 -0.08987226 T; 48 -0.009225254 T; 49 -0.06598791 T; 50 -0.0040284726 T; 51 -0.01850837 T; 52 -0.066229984 T; 53 -0.081250235 T; 54 0.12790942 T; 55 -0.044356875 T; 56 -0.021750849 T; 57 -0.037903883 T; 58 -0.0044715363 T; 59 -0.11871354 T; 60 -0.06099457 T; 61 -0.16605902 T; 62 -0.099657714 T; \n",
      "\n",
      "0 0.07939887 V; 1 -0.060873743 V; 2 0.07221075 V; 3 -0.17761664 V; 4 0.0015968033 V; 5 -0.06973845 V; 6 -0.05594726 V; 7 0.020834813 V; 8 -0.0127262445 V; 9 -0.04278609 V; 10 0.03999416 V; 11 0.023885272 V; 12 0.016385257 V; 13 -0.1764941 V; 14 -0.057294708 V; 15 -0.0039402265 V; 16 0.07826625 V; 17 0.08010865 V; 18 -0.11220346 V; 19 -0.08423898 V; 20 0.028076401 V; 21 -0.039703593 V; 22 0.03894713 V; 23 0.16296993 V; 24 0.079139926 V; 25 -0.05961115 V; 26 0.026054127 V; 27 0.08553671 V; 28 0.14279483 V; 29 0.10681119 V; 30 0.09256284 V; 31 -0.12263026 V; 32 -0.086432144 V; 33 -0.047028158 V; 34 -0.08741383 V; 35 -0.058598835 V; 36 0.09439419 V; 37 0.089154646 V; 38 -0.14526193 V; 39 0.16547428 V; 40 -0.19318627 V; 41 0.09282038 V; 42 -0.0786129 V; 43 -0.012651382 V; 44 0.056350395 V; 45 -0.052528672 V; 46 0.0995855 V; 47 -0.056115676 V; 48 -0.017024014 V; 49 -0.039423473 V; 50 -0.006611722 V; 51 -0.07315228 V; 52 -0.15042046 V; 53 -0.015101638 V; 54 0.09148553 V; 55 -0.033006232 V; 56 -0.091120556 V; 57 -0.113239095 V; 58 0.089872494 V; 59 -0.17298914 V; 60 -0.10766881 V; 61 -0.1763376 V; 62 -0.07726585 V; \n",
      "\n",
      "0 0.030332305 W; 1 -0.10112667 W; 2 -0.05076783 W; 3 -0.05846885 W; 4 -0.08612255 W; 5 0.06543876 W; 6 -0.04897848 W; 7 0.100852564 W; 8 -0.041195896 W; 9 0.09630375 W; 10 -0.08711655 W; 11 0.038303364 W; 12 0.0884893 W; 13 -0.05726398 W; 14 0.0021394521 W; 15 0.029663242 W; 16 -0.0682581 W; 17 -0.04520973 W; 18 0.0001638778 W; 19 -0.120909125 W; 20 0.076425776 W; 21 -0.0468484 W; 22 0.049851194 W; 23 0.13605411 W; 24 0.1480111 W; 25 0.12935579 W; 26 0.0007664703 W; 27 0.12135109 W; 28 0.042842172 W; 29 0.07853718 W; 30 0.019202538 W; 31 -0.0075046425 W; 32 3.5469584e-05 W; 33 0.04829964 W; 34 -0.08199154 W; 35 -0.03155305 W; 36 0.04747385 W; 37 0.09398425 W; 38 0.09138501 W; 39 0.086143516 W; 40 -0.11102847 W; 41 0.118360765 W; 42 -0.053489916 W; 43 0.03303912 W; 44 0.07404176 W; 45 -0.08524059 W; 46 0.026813332 W; 47 -0.05814547 W; 48 0.008216393 W; 49 0.036620814 W; 50 0.10505793 W; 51 -0.06293179 W; 52 0.0070860316 W; 53 -0.028637204 W; 54 0.095583715 W; 55 -0.120925345 W; 56 0.034746278 W; 57 -0.049863506 W; 58 0.044737488 W; 59 -0.07409803 W; 60 0.025988301 W; 61 -0.1501252 W; 62 -0.0038133177 W; \n",
      "\n",
      "0 -0.021214869 Y; 1 -0.09381572 Y; 2 0.05674829 Y; 3 -0.14563271 Y; 4 0.10022689 Y; 5 -0.045843545 Y; 6 -0.0874148 Y; 7 0.099960625 Y; 8 0.0021080694 Y; 9 0.06228527 Y; 10 -0.038090203 Y; 11 0.092044994 Y; 12 0.072944395 Y; 13 -0.077342734 Y; 14 -0.057407357 Y; 15 0.012692803 Y; 16 -0.04026247 Y; 17 0.00022670894 Y; 18 -0.17599766 Y; 19 0.061387468 Y; 20 0.035455473 Y; 21 -0.040643822 Y; 22 -0.030766912 Y; 23 0.13632971 Y; 24 0.1061025 Y; 25 -0.11536079 Y; 26 0.049947094 Y; 27 0.056861743 Y; 28 0.08908107 Y; 29 0.18695249 Y; 30 0.075124346 Y; 31 -0.07015201 Y; 32 -0.03965656 Y; 33 -0.07185871 Y; 34 0.0353508 Y; 35 -0.10579627 Y; 36 0.12292289 Y; 37 0.1428677 Y; 38 -0.12620959 Y; 39 0.19157371 Y; 40 -0.14400376 Y; 41 0.09798782 Y; 42 -0.14647135 Y; 43 -0.0012576845 Y; 44 0.067765266 Y; 45 -0.031108135 Y; 46 0.0730174 Y; 47 -0.027222166 Y; 48 -0.034842808 Y; 49 -0.0021065075 Y; 50 -0.04850994 Y; 51 -0.107370675 Y; 52 -0.09153424 Y; 53 -0.066381805 Y; 54 0.09817839 Y; 55 -0.11798521 Y; 56 -0.12337839 Y; 57 -0.105729416 Y; 58 0.070348546 Y; 59 -0.15431878 Y; 60 -0.038566172 Y; 61 -0.088687465 Y; 62 -0.08886398 Y; \n",
      "\n",
      "0 0.019346962 C[UNIMOD:4]; 1 -0.059419412 C[UNIMOD:4]; 2 -0.114045106 C[UNIMOD:4]; 3 0.020347059 C[UNIMOD:4]; 4 -0.09650198 C[UNIMOD:4]; 5 -0.0027231916 C[UNIMOD:4]; 6 -0.08306302 C[UNIMOD:4]; 7 0.17609484 C[UNIMOD:4]; 8 -0.04607565 C[UNIMOD:4]; 9 0.078630075 C[UNIMOD:4]; 10 -0.14974353 C[UNIMOD:4]; 11 0.10851678 C[UNIMOD:4]; 12 0.11631669 C[UNIMOD:4]; 13 0.019411381 C[UNIMOD:4]; 14 0.0019706192 C[UNIMOD:4]; 15 0.105057776 C[UNIMOD:4]; 16 -0.12687741 C[UNIMOD:4]; 17 -0.037012797 C[UNIMOD:4]; 18 0.100679785 C[UNIMOD:4]; 19 0.0100942515 C[UNIMOD:4]; 20 0.054630265 C[UNIMOD:4]; 21 -0.07399642 C[UNIMOD:4]; 22 -0.021848049 C[UNIMOD:4]; 23 0.17784016 C[UNIMOD:4]; 24 0.15697579 C[UNIMOD:4]; 25 0.1328562 C[UNIMOD:4]; 26 -0.050815172 C[UNIMOD:4]; 27 0.07076761 C[UNIMOD:4]; 28 -0.020310817 C[UNIMOD:4]; 29 -0.00060878857 C[UNIMOD:4]; 30 -0.03204395 C[UNIMOD:4]; 31 -0.041815683 C[UNIMOD:4]; 32 0.08175412 C[UNIMOD:4]; 33 0.039788976 C[UNIMOD:4]; 34 -0.06250254 C[UNIMOD:4]; 35 0.0054206764 C[UNIMOD:4]; 36 0.001817991 C[UNIMOD:4]; 37 0.03956095 C[UNIMOD:4]; 38 0.09279733 C[UNIMOD:4]; 39 -0.10531712 C[UNIMOD:4]; 40 -0.1279552 C[UNIMOD:4]; 41 0.038193345 C[UNIMOD:4]; 42 -0.08475481 C[UNIMOD:4]; 43 0.14819595 C[UNIMOD:4]; 44 0.18680088 C[UNIMOD:4]; 45 -0.12697342 C[UNIMOD:4]; 46 -0.023234203 C[UNIMOD:4]; 47 -0.118522935 C[UNIMOD:4]; 48 -0.08735158 C[UNIMOD:4]; 49 -0.010026259 C[UNIMOD:4]; 50 0.12497636 C[UNIMOD:4]; 51 -0.11693882 C[UNIMOD:4]; 52 0.009500014 C[UNIMOD:4]; 53 -0.02916353 C[UNIMOD:4]; 54 0.043351974 C[UNIMOD:4]; 55 -0.14096537 C[UNIMOD:4]; 56 0.035974797 C[UNIMOD:4]; 57 -0.06769832 C[UNIMOD:4]; 58 -0.025707925 C[UNIMOD:4]; 59 -0.08570106 C[UNIMOD:4]; 60 0.019879177 C[UNIMOD:4]; 61 -0.14497814 C[UNIMOD:4]; 62 0.01775031 C[UNIMOD:4]; \n",
      "\n",
      "0 -0.08291 M[UNIMOD:35]; 1 -0.037824426 M[UNIMOD:35]; 2 -0.0136528 M[UNIMOD:35]; 3 -0.06795621 M[UNIMOD:35]; 4 -0.053423215 M[UNIMOD:35]; 5 0.055092912 M[UNIMOD:35]; 6 -0.06821321 M[UNIMOD:35]; 7 0.018286735 M[UNIMOD:35]; 8 0.032103788 M[UNIMOD:35]; 9 0.12526642 M[UNIMOD:35]; 10 -0.084976204 M[UNIMOD:35]; 11 0.04455146 M[UNIMOD:35]; 12 0.04863063 M[UNIMOD:35]; 13 -0.017538711 M[UNIMOD:35]; 14 0.019323694 M[UNIMOD:35]; 15 0.064877056 M[UNIMOD:35]; 16 -0.10402782 M[UNIMOD:35]; 17 -0.044735122 M[UNIMOD:35]; 18 -0.12273802 M[UNIMOD:35]; 19 -0.01473447 M[UNIMOD:35]; 20 0.108647466 M[UNIMOD:35]; 21 -0.15765123 M[UNIMOD:35]; 22 -0.08253924 M[UNIMOD:35]; 23 0.12936495 M[UNIMOD:35]; 24 0.18516131 M[UNIMOD:35]; 25 0.07998169 M[UNIMOD:35]; 26 0.031095719 M[UNIMOD:35]; 27 0.02018276 M[UNIMOD:35]; 28 -0.04534948 M[UNIMOD:35]; 29 0.069067545 M[UNIMOD:35]; 30 0.06297366 M[UNIMOD:35]; 31 -0.0448584 M[UNIMOD:35]; 32 -0.0068750787 M[UNIMOD:35]; 33 0.027617894 M[UNIMOD:35]; 34 -0.13531645 M[UNIMOD:35]; 35 0.032813396 M[UNIMOD:35]; 36 -0.0009178105 M[UNIMOD:35]; 37 0.090939164 M[UNIMOD:35]; 38 0.011746147 M[UNIMOD:35]; 39 0.07206204 M[UNIMOD:35]; 40 -0.16426523 M[UNIMOD:35]; 41 0.07784181 M[UNIMOD:35]; 42 -0.017101109 M[UNIMOD:35]; 43 0.09388801 M[UNIMOD:35]; 44 0.045193866 M[UNIMOD:35]; 45 -0.10499549 M[UNIMOD:35]; 46 0.08175477 M[UNIMOD:35]; 47 -0.0018780401 M[UNIMOD:35]; 48 0.0006593203 M[UNIMOD:35]; 49 0.03629837 M[UNIMOD:35]; 50 0.093597144 M[UNIMOD:35]; 51 -0.11212508 M[UNIMOD:35]; 52 -0.04363461 M[UNIMOD:35]; 53 0.063919194 M[UNIMOD:35]; 54 0.073570974 M[UNIMOD:35]; 55 -0.12860475 M[UNIMOD:35]; 56 0.019326605 M[UNIMOD:35]; 57 -0.055366855 M[UNIMOD:35]; 58 0.05743562 M[UNIMOD:35]; 59 -0.17073324 M[UNIMOD:35]; 60 -0.0023522787 M[UNIMOD:35]; 61 -0.16484742 M[UNIMOD:35]; 62 0.0090584215 M[UNIMOD:35]; \n"
     ]
    }
   ],
   "source": [
    "# all weights for embed layer per position\n",
    "layers = [layer.get_weights() for layer in model_embed.layers]\n",
    "\n",
    "position_dict = dict()\n",
    "for i in range(23):\n",
    "    list_of_positions_for_vocab = layers[1][0][i]\n",
    "    for index, j in enumerate(list_of_positions_for_vocab):\n",
    "        print(index, j, vocabulary[i], end=\"; \")\n",
    "        if index not in position_dict:\n",
    "            position_dict[index] = list()\n",
    "            position_dict[index].append(j)\n",
    "        else:\n",
    "            position_dict[index].append(j)\n",
    "    print(\"\\n\")\n",
    "    #print(i, (layers[1][0][i]))\n",
    "    \n",
    "#for key, value in position_dict.items():\n",
    "    #print(f\"mean pos{key}: \",np.mean(value))"
   ],
   "metadata": {
    "collapsed": false,
    "ExecuteTime": {
     "end_time": "2023-09-09T10:30:15.059428600Z",
     "start_time": "2023-09-09T10:30:14.137761900Z"
    }
   }
  },
  {
   "cell_type": "code",
   "execution_count": 81,
   "outputs": [
    {
     "data": {
      "text/plain": "array([[ 0.08170723,  0.11736488,  0.0979304 , ..., -0.07801376,\n         0.14112833, -0.05420415],\n       [ 0.01163894,  0.07542557,  0.13168532, ..., -0.03186015,\n        -0.16729599, -0.13424318],\n       [ 0.01570232,  0.00180752,  0.01815683, ...,  0.02643334,\n         0.0172965 ,  0.01139762],\n       ...,\n       [-0.02121487, -0.09381572,  0.05674829, ..., -0.03856617,\n        -0.08868746, -0.08886398],\n       [ 0.01934696, -0.05941941, -0.11404511, ...,  0.01987918,\n        -0.14497814,  0.01775031],\n       [-0.08291   , -0.03782443, -0.0136528 , ..., -0.00235228,\n        -0.16484742,  0.00905842]], dtype=float32)"
     },
     "execution_count": 81,
     "metadata": {},
     "output_type": "execute_result"
    }
   ],
   "source": [
    "#embedding layer\n",
    "layers[1][0]"
   ],
   "metadata": {
    "collapsed": false,
    "ExecuteTime": {
     "end_time": "2023-09-09T10:30:15.112944500Z",
     "start_time": "2023-09-09T10:30:14.392565400Z"
    }
   }
  },
  {
   "cell_type": "markdown",
   "source": [
    "# Output of Embedding and Input to the Dense layer is: (batch_size, sequence_length: the sequence itself, output_dim: embedding)"
   ],
   "metadata": {
    "collapsed": false
   }
  },
  {
   "cell_type": "code",
   "execution_count": 82,
   "outputs": [
    {
     "data": {
      "text/plain": "array([[ 0.19363678,  0.06063577, -0.08357827, -0.12278026, -0.13078421,\n        -0.11751617],\n       [ 0.35621363,  0.15381488, -0.05294081, -0.26670927, -0.30941054,\n        -0.13427578],\n       [ 0.19412316,  0.04344833, -0.09753732, -0.02249147, -0.22167015,\n        -0.20116882],\n       ...,\n       [ 0.06406162,  0.01535143,  0.00518757, -0.01705749,  0.0327313 ,\n         0.02161037],\n       [-0.06587638,  0.00724718, -0.02204681,  0.01439242, -0.03345931,\n         0.03266273],\n       [ 0.05472472,  0.01058583, -0.04472524,  0.01814221,  0.00879392,\n         0.03510151]], dtype=float32)"
     },
     "execution_count": 82,
     "metadata": {},
     "output_type": "execute_result"
    }
   ],
   "source": [
    "#dense layer\n",
    "layers[3][0]"
   ],
   "metadata": {
    "collapsed": false,
    "ExecuteTime": {
     "end_time": "2023-09-09T10:30:15.112944500Z",
     "start_time": "2023-09-09T10:30:14.395752700Z"
    }
   }
  },
  {
   "cell_type": "markdown",
   "source": [
    "# Output of Dense layer is: (batch_size, sequence_length: the sequence itself, output_dim: number of classes)"
   ],
   "metadata": {
    "collapsed": false
   }
  },
  {
   "cell_type": "markdown",
   "source": [
    "Lets calculate the weight prediction given the model weights: IPRVTTPLSSL"
   ],
   "metadata": {
    "collapsed": false
   }
  },
  {
   "cell_type": "code",
   "execution_count": 94,
   "outputs": [
    {
     "name": "stdout",
     "output_type": "stream",
     "text": [
      "[1.4699601233005524, 0.839300811290741, -0.5987411141395569, -0.33339306712150574, -0.5942969433963299, 0.5037218146026134, 1.9300983622670174, -0.5355607867240906, -0.399789422750473, -0.3656791225075722, 0.840423583984375] 11\n"
     ]
    }
   ],
   "source": [
    "# IPRVTTPLSSL\n",
    "\n",
    "# get all layers from model\n",
    "layers = [layer.get_weights() for layer in model_embed.layers]\n",
    "\n",
    "amino_dict = dict()\n",
    "\n",
    "\n",
    "sequence_indexes = list(range(63)) # 0,1,2,3,4,5...62\n",
    "# select embedding layer\n",
    "embedding_structure = layers[1][0] # 23 blocks of AA weights\n",
    "\n",
    "# create the amino to index dictionary: every weight for every amino at every position\n",
    "for position in sequence_indexes: # 63 stk\n",
    "    amino_dict[position] = dict()\n",
    "    for index, i in enumerate(embedding_structure): #23 stk\n",
    "        if vocabulary[index] not in amino_dict[position]:\n",
    "            amino_dict[position][vocabulary[index]] = list()\n",
    "            amino_dict[position][vocabulary[index]].append(embedding_structure[index][position])\n",
    "        else:   \n",
    "            amino_dict[position][vocabulary[index]].append(embedding_structure[index][position])\n",
    "\n",
    "# now add the weights, normalized for visualisation\n",
    "weight_dictionary_per_position = dict()\n",
    "for i in amino_dict:\n",
    "    weight_dictionary_per_position[i] = dict()\n",
    "    weight_position = 0\n",
    "    sorted_list = [x[0] for x in amino_dict[i].values()]\n",
    "    sorted_list = sorted(sorted_list, key=float, reverse=False)\n",
    "    for j in sorted_list:\n",
    "        for key, value in amino_dict[i].items():\n",
    "            if j == value[0]:\n",
    "                \n",
    "                # TODO: Normalisation\n",
    "                average_for_position = np.average([x[0] for x in amino_dict[i].values()]) # normalisation\n",
    "                \n",
    "                weight_dictionary_per_position[i][key] = (j - average_for_position) * (weight_position+1) # \n",
    "                weight_position += 1\n",
    "                \n",
    "# without padding\n",
    "weights_embedding = []\n",
    "test_input_sequence = \"IPRVTTPLSSL\"\n",
    "test_input_sequence_formatted = re.findall(r'[A-Z]\\[[^\\]]*\\]|.', test_input_sequence)\n",
    "for index, amino in enumerate(test_input_sequence_formatted):\n",
    "    weights_embedding.append(weight_dictionary_per_position[index][amino])\n",
    "    \n",
    "    \n",
    "# with padding\n",
    "weights_embedding_padding = []\n",
    "test_input_sequence_padding = test_input_sequence + 'X' * (63 - len(test_input_sequence))\n",
    "test_input_sequence_formatted_padding = re.findall(r'[A-Z]\\[[^\\]]*\\]|.', test_input_sequence_padding)\n",
    "for index, amino in enumerate(test_input_sequence_formatted_padding):\n",
    "    weights_embedding_padding.append(weight_dictionary_per_position[index][amino])\n",
    "    \n",
    "print(weights_embedding, len(weights_embedding))\n",
    "#print(weights_embedding_padding, len(weights_embedding_padding))"
   ],
   "metadata": {
    "collapsed": false,
    "ExecuteTime": {
     "end_time": "2023-09-09T10:49:57.076148600Z",
     "start_time": "2023-09-09T10:49:56.871451100Z"
    }
   }
  },
  {
   "cell_type": "code",
   "execution_count": 142,
   "outputs": [
    {
     "name": "stdout",
     "output_type": "stream",
     "text": [
      "Normalized: \n",
      " dict_values([1.0, 0.9194735240960552, 0.5993118571997869, 0.2811639467439271, 0.0, 0.031514251077917825])\n",
      "Pred-Weights: \n",
      " dict_values([177.9973351057158, 142.5737320807519, 1.734589865308821, -138.2187007350818, -261.90274281671293, -248.0396213118699])\n",
      "Model-Prediction:  [0.05, 0.89, 0.06, 0.0, 0.0, 0.0]\n"
     ]
    }
   ],
   "source": [
    "# now add dense layer to prediction calculation\n",
    "#dense layer\n",
    "dense_structure = layers[3][0]\n",
    "\n",
    "output_weights_list = []\n",
    "\n",
    "multiplier = 0\n",
    "for embedding_step in range(63):\n",
    "    prediction_list = []\n",
    "    embedding_offset = 63*multiplier\n",
    "    for charge_state in range(6):\n",
    "        charge_state_eval_list = []\n",
    "        for index, i in enumerate(weights_embedding_padding):\n",
    "            charge_state_eval_list.append(i * dense_structure[index+embedding_offset][charge_state])\n",
    "        prediction_list.append(sum(charge_state_eval_list))\n",
    "    multiplier += 1\n",
    "    output_weights_list.append(prediction_list)\n",
    "\n",
    "\n",
    "#print(output_weights_list)\n",
    "# sum all indexes of output_weights_list_\n",
    "charge_prediction_output_dict = dict()\n",
    "for i in range(6):\n",
    "    charge_prediction_output_dict[i] = sum([x[i] for x in output_weights_list])\n",
    "    \n",
    "# normalize\n",
    "max_value = max(charge_prediction_output_dict.values())\n",
    "min_value = min(charge_prediction_output_dict.values())\n",
    "normalized_charge_prediction_output_dict = dict()\n",
    "for key, value in charge_prediction_output_dict.items():\n",
    "   normalized_charge_prediction_output_dict[key] = (value - min_value) / (max_value - min_value)\n",
    "\n",
    "print(\"Normalized: \\n\",normalized_charge_prediction_output_dict.values())\n",
    "print(\"Pred-Weights: \\n\",charge_prediction_output_dict.values())\n",
    "\n",
    "\n",
    "\n",
    "\n",
    "input_sequence_vector = seq_translator(test_input_sequence, max_len=63)\n",
    "input_sequence_vector = np.expand_dims(tf.convert_to_tensor(np.array(input_sequence_vector)), axis=0)\n",
    "print(\"Model-Prediction: \", [round(x, 2) for x in model_embed.predict(input_sequence_vector, verbose=False)[0]])"
   ],
   "metadata": {
    "collapsed": false,
    "ExecuteTime": {
     "end_time": "2023-09-09T11:37:43.178855900Z",
     "start_time": "2023-09-09T11:37:43.010092100Z"
    }
   }
  },
  {
   "cell_type": "code",
   "execution_count": 167,
   "outputs": [
    {
     "name": "stdout",
     "output_type": "stream",
     "text": [
      "Sequence:  IPRVTTPLSSL\n",
      "Normalized: \n",
      " [0.8457942877610183, 1.0, 0.5358059180922488, 0.3033085181185575, 0.0, 0.011940096102905667]\n",
      "Pred-Weights: \n",
      " [76.2682183342365, 121.94790056991039, -15.55827769905673, -84.4299634311619, -174.27771631827207, -170.74075398448466]\n",
      "Softmax:  [0.0, 1.0, 0.0, 0.0, 0.0, 0.0]\n",
      "Model-Prediction:  [0.05, 0.89, 0.06, 0.0, 0.0, 0.0]\n",
      "Weight-Algorithm-Iterations:  23814  of 63*63 (should be 3969) embeddings:  3969.0\n"
     ]
    }
   ],
   "source": [
    "# now add dense layer to prediction calculation\n",
    "#dense layer\n",
    "dense_structure = layers[3][0]\n",
    "counter = 0\n",
    "output_weights_list = []\n",
    "\n",
    "multiplier = 0\n",
    "for embedding_step in range(63):\n",
    "    prediction_list = []\n",
    "    for charge_state in range(6):\n",
    "        charge_state_eval_list = []\n",
    "        for index, i in enumerate(weights_embedding_padding):\n",
    "            current_index = index*63\n",
    "            charge_state_eval_list.append(i * dense_structure[current_index][charge_state])\n",
    "            counter += 1\n",
    "        prediction_list.append(sum(charge_state_eval_list))\n",
    "    multiplier += 1\n",
    "    output_weights_list.append(prediction_list)\n",
    "\n",
    "\n",
    "#print(output_weights_list)\n",
    "# sum all indexes of output_weights_list_\n",
    "charge_prediction_output_dict = dict()\n",
    "for i in range(6):\n",
    "    charge_prediction_output_dict[i] = sum([x[i] for x in output_weights_list])\n",
    "    \n",
    "    \n",
    "# normalize\n",
    "max_value = max(charge_prediction_output_dict.values())\n",
    "min_value = min(charge_prediction_output_dict.values())\n",
    "normalized_charge_prediction_output_dict = dict()\n",
    "for key, value in charge_prediction_output_dict.items():\n",
    "   normalized_charge_prediction_output_dict[key] = (value - min_value) / (max_value - min_value)\n",
    "\n",
    "print(\"Sequence: \", test_input_sequence)\n",
    "print(\"Normalized: \\n\", list(normalized_charge_prediction_output_dict.values()))\n",
    "print(\"Pred-Weights: \\n\", list(charge_prediction_output_dict.values()))\n",
    "\n",
    "\n",
    "# add softmax formula to prediction\n",
    "# https://stackoverflow.com/questions/34968722/how-to-implement-the-softmax-function-in-python\n",
    "import numpy as np\n",
    "# correct solution:\n",
    "def softmax(x):\n",
    "    \"\"\"Compute softmax values for each sets of scores in x.\"\"\"\n",
    "    e_x = np.exp(x - np.max(x))\n",
    "    return e_x / e_x.sum(axis=0) # working for 2D+\n",
    "\n",
    "# softmax as 3 decimals\n",
    "softmax_output = softmax(list(charge_prediction_output_dict.values()))\n",
    "softmax_output = [round(x, 3) for x in softmax_output]\n",
    "print(\"Softmax: \", softmax_output)\n",
    "\n",
    "input_sequence_vector = seq_translator(test_input_sequence, max_len=63)\n",
    "input_sequence_vector = np.expand_dims(tf.convert_to_tensor(np.array(input_sequence_vector)), axis=0)\n",
    "print(\"Model-Prediction: \", [round(x, 2) for x in model_embed.predict(input_sequence_vector, verbose=False)[0]])\n",
    "\n",
    "\n",
    "print(\"Weight-Algorithm-Iterations: \", counter, \" of 63*63 (should be 3969) embeddings: \", counter/6)"
   ],
   "metadata": {
    "collapsed": false,
    "ExecuteTime": {
     "end_time": "2023-09-09T12:06:41.496733100Z",
     "start_time": "2023-09-09T12:06:41.311751500Z"
    }
   }
  },
  {
   "cell_type": "code",
   "execution_count": 171,
   "outputs": [
    {
     "name": "stdout",
     "output_type": "stream",
     "text": [
      "Sequence:  IPRVTTPLSSL\n",
      "Normalized: \n",
      " [1.0, 0.9143749018488312, 0.4419458602669172, 0.19823523721358743, 0.0, 0.062044750939022286]\n",
      "Pred-Weights: \n",
      " [1004.6448116895687, 804.869381929145, -297.37419911419494, -865.9854533950742, -1328.4962190830352, -1183.7370649231352]\n",
      "Softmax:  [1.0, 0.0, 0.0, 0.0, 0.0, 0.0]\n",
      "Model-Prediction:  [0.05, 0.89, 0.06, 0.0, 0.0, 0.0]\n",
      "Weight-Algorithm-Iterations:  23814  of 63*63 (should be 3969) embeddings:  3969.0\n"
     ]
    }
   ],
   "source": [
    "# IPRVTTPLSSL\n",
    "\n",
    "# get all layers from model\n",
    "layers = [layer.get_weights() for layer in model_embed.layers]\n",
    "\n",
    "amino_dict = dict()\n",
    "\n",
    "\n",
    "sequence_indexes = list(range(63)) # 0,1,2,3,4,5...62\n",
    "# select embedding layer\n",
    "embedding_structure = layers[1][0] # 23 blocks of AA weights\n",
    "\n",
    "# create the amino to index dictionary: every weight for every amino at every position\n",
    "for position in sequence_indexes: # 63 stk\n",
    "    amino_dict[position] = dict()\n",
    "    for index, i in enumerate(embedding_structure): #23 stk\n",
    "        if vocabulary[index] not in amino_dict[position]:\n",
    "            amino_dict[position][vocabulary[index]] = list()\n",
    "            amino_dict[position][vocabulary[index]].append(embedding_structure[index][position])\n",
    "        else:   \n",
    "            amino_dict[position][vocabulary[index]].append(embedding_structure[index][position])\n",
    "\n",
    "# now add the weights, normalized for visualisation\n",
    "weight_dictionary_per_position = dict()\n",
    "for i in amino_dict:\n",
    "    weight_dictionary_per_position[i] = dict()\n",
    "    weight_position = 0\n",
    "    sorted_list = [x[0] for x in amino_dict[i].values()]\n",
    "    sorted_list = sorted(sorted_list, key=float, reverse=False)\n",
    "    for j in sorted_list:\n",
    "        for key, value in amino_dict[i].items():\n",
    "            if j == value[0]:\n",
    "                \n",
    "                # TODO: Normalisation\n",
    "                average_for_position = np.average([x[0] for x in amino_dict[i].values()]) # normalisation\n",
    "                \n",
    "                weight_dictionary_per_position[i][key] = (j - average_for_position) * (weight_position+1) # \n",
    "                weight_position += 1\n",
    "                \n",
    "# without padding\n",
    "weights_embedding = []\n",
    "test_input_sequence = \"IPRVTTPLSSL\"\n",
    "test_input_sequence_formatted = re.findall(r'[A-Z]\\[[^\\]]*\\]|.', test_input_sequence)\n",
    "for index, amino in enumerate(test_input_sequence_formatted):\n",
    "    weights_embedding.append(weight_dictionary_per_position[index][amino])\n",
    "    \n",
    "    \n",
    "# with padding\n",
    "weights_embedding_padding = []\n",
    "test_input_sequence_padding = test_input_sequence + 'X' * (63 - len(test_input_sequence))\n",
    "test_input_sequence_formatted_padding = re.findall(r'[A-Z]\\[[^\\]]*\\]|.', test_input_sequence_padding)\n",
    "for index, amino in enumerate(test_input_sequence_formatted_padding):\n",
    "    weights_embedding_padding.append(weight_dictionary_per_position[index][amino])\n",
    "    \n",
    "#print(weights_embedding, len(weights_embedding))\n",
    "#print(weights_embedding_padding, len(weights_embedding_padding))\n",
    "\n",
    "# now add dense layer to prediction calculation\n",
    "#dense layer\n",
    "dense_structure = layers[3][0]\n",
    "counter = 0\n",
    "output_weights_list = []\n",
    "\n",
    "multiplier = 0\n",
    "for embedding_step in range(63):\n",
    "    prediction_list = []\n",
    "    for charge_state in range(6):\n",
    "        charge_state_eval_list = []\n",
    "        for index, i in enumerate(weights_embedding_padding):\n",
    "            current_index = index*63\n",
    "            charge_state_eval_list.append(i * dense_structure[current_index][charge_state])\n",
    "            counter += 1\n",
    "        prediction_list.append(sum(charge_state_eval_list))\n",
    "    multiplier += 1\n",
    "    output_weights_list.append(prediction_list)\n",
    "\n",
    "\n",
    "#print(output_weights_list)\n",
    "# sum all indexes of output_weights_list_\n",
    "charge_prediction_output_dict = dict()\n",
    "for i in range(6):\n",
    "    charge_prediction_output_dict[i] = sum([x[i] for x in output_weights_list])\n",
    "    \n",
    "    \n",
    "# normalize\n",
    "max_value = max(charge_prediction_output_dict.values())\n",
    "min_value = min(charge_prediction_output_dict.values())\n",
    "normalized_charge_prediction_output_dict = dict()\n",
    "for key, value in charge_prediction_output_dict.items():\n",
    "   normalized_charge_prediction_output_dict[key] = (value - min_value) / (max_value - min_value)\n",
    "\n",
    "print(\"Sequence: \", test_input_sequence)\n",
    "print(\"Normalized: \\n\", list(normalized_charge_prediction_output_dict.values()))\n",
    "print(\"Pred-Weights: \\n\", list(charge_prediction_output_dict.values()))\n",
    "\n",
    "\n",
    "# add softmax formula to prediction\n",
    "# https://stackoverflow.com/questions/34968722/how-to-implement-the-softmax-function-in-python\n",
    "import numpy as np\n",
    "# correct solution:\n",
    "def softmax(x):\n",
    "    \"\"\"Compute softmax values for each sets of scores in x.\"\"\"\n",
    "    e_x = np.exp(x - np.max(x))\n",
    "    return e_x / e_x.sum(axis=0) # working for 2D+\n",
    "\n",
    "# softmax as 3 decimals\n",
    "softmax_output = softmax(list(charge_prediction_output_dict.values()))\n",
    "softmax_output = [round(x, 3) for x in softmax_output]\n",
    "print(\"Softmax: \", softmax_output)\n",
    "\n",
    "input_sequence_vector = seq_translator(test_input_sequence, max_len=63)\n",
    "input_sequence_vector = np.expand_dims(tf.convert_to_tensor(np.array(input_sequence_vector)), axis=0)\n",
    "print(\"Model-Prediction: \", [round(x, 2) for x in model_embed.predict(input_sequence_vector, verbose=False)[0]])\n",
    "\n",
    "\n",
    "print(\"Weight-Algorithm-Iterations: \", counter, \" of 63*63 (should be 3969) embeddings: \", counter/6)"
   ],
   "metadata": {
    "collapsed": false,
    "ExecuteTime": {
     "end_time": "2023-09-09T12:09:28.952155600Z",
     "start_time": "2023-09-09T12:09:28.781535400Z"
    }
   }
  },
  {
   "cell_type": "code",
   "execution_count": 83,
   "outputs": [
    {
     "data": {
      "text/plain": "<IPython.core.display.HTML object>",
      "text/html": "Finishing last run (ID:mpkab4qv) before initializing another..."
     },
     "metadata": {},
     "output_type": "display_data"
    },
    {
     "data": {
      "text/plain": "<IPython.core.display.HTML object>",
      "text/html": "Waiting for W&B process to finish... <strong style=\"color:green\">(success).</strong>"
     },
     "metadata": {},
     "output_type": "display_data"
    },
    {
     "data": {
      "text/plain": "<IPython.core.display.HTML object>",
      "text/html": "<style>\n    table.wandb td:nth-child(1) { padding: 0 10px; text-align: left ; width: auto;} td:nth-child(2) {text-align: left ; width: 100%}\n    .wandb-row { display: flex; flex-direction: row; flex-wrap: wrap; justify-content: flex-start; width: 100% }\n    .wandb-col { display: flex; flex-direction: column; flex-basis: 100%; flex: 1; padding: 10px; }\n    </style>\n<div class=\"wandb-row\"><div class=\"wandb-col\"><h3>Run history:</h3><br/><table class=\"wandb\"><tr><td>categorical_accuracy</td><td>▁▂▄▄▄▅▅▆▆▆▆▆▇▇▇▇▇█████████████</td></tr><tr><td>epoch</td><td>▁▁▁▂▂▂▂▃▃▃▃▄▄▄▄▅▅▅▅▆▆▆▆▇▇▇▇███</td></tr><tr><td>loss</td><td>█▅▅▄▄▄▃▃▃▂▂▂▂▂▂▂▁▁▁▁▁▁▁▁▁▁▁▁▁▁</td></tr><tr><td>val_categorical_accuracy</td><td>▁▃▃▄▄▅▅▅▆▆▆▆▇▇▇▇▇█████████████</td></tr><tr><td>val_loss</td><td>█▇▆▆▅▄▄▄▃▃▃▂▂▂▂▂▂▁▁▁▁▁▁▁▁▁▁▁▁▁</td></tr></table><br/></div><div class=\"wandb-col\"><h3>Run summary:</h3><br/><table class=\"wandb\"><tr><td>best_epoch</td><td>29</td></tr><tr><td>best_val_loss</td><td>0.54166</td></tr><tr><td>categorical_accuracy</td><td>0.77041</td></tr><tr><td>epoch</td><td>29</td></tr><tr><td>loss</td><td>0.54194</td></tr><tr><td>val_categorical_accuracy</td><td>0.76868</td></tr><tr><td>val_loss</td><td>0.54166</td></tr></table><br/></div></div>"
     },
     "metadata": {},
     "output_type": "display_data"
    },
    {
     "data": {
      "text/plain": "<IPython.core.display.HTML object>",
      "text/html": " View run <strong style=\"color:#cdcd00\">desert-water-17</strong> at: <a href='https://wandb.ai/team-bioinf/embed_visualisation/runs/mpkab4qv' target=\"_blank\">https://wandb.ai/team-bioinf/embed_visualisation/runs/mpkab4qv</a><br/>Synced 6 W&B file(s), 1 media file(s), 154 artifact file(s) and 1 other file(s)"
     },
     "metadata": {},
     "output_type": "display_data"
    },
    {
     "data": {
      "text/plain": "<IPython.core.display.HTML object>",
      "text/html": "Find logs at: <code>.\\wandb\\run-20230909_122648-mpkab4qv\\logs</code>"
     },
     "metadata": {},
     "output_type": "display_data"
    },
    {
     "data": {
      "text/plain": "<IPython.core.display.HTML object>",
      "text/html": "Successfully finished last run (ID:mpkab4qv). Initializing new run:<br/>"
     },
     "metadata": {},
     "output_type": "display_data"
    },
    {
     "data": {
      "text/plain": "VBox(children=(Label(value='Waiting for wandb.init()...\\r'), FloatProgress(value=0.016666666666666666, max=1.0…",
      "application/vnd.jupyter.widget-view+json": {
       "version_major": 2,
       "version_minor": 0,
       "model_id": "e27a7b3b53fb4b1ea48dd27e71801125"
      }
     },
     "metadata": {},
     "output_type": "display_data"
    },
    {
     "data": {
      "text/plain": "<IPython.core.display.HTML object>",
      "text/html": "wandb version 0.15.10 is available!  To upgrade, please run:\n $ pip install wandb --upgrade"
     },
     "metadata": {},
     "output_type": "display_data"
    },
    {
     "data": {
      "text/plain": "<IPython.core.display.HTML object>",
      "text/html": "Tracking run with wandb version 0.15.5"
     },
     "metadata": {},
     "output_type": "display_data"
    },
    {
     "data": {
      "text/plain": "<IPython.core.display.HTML object>",
      "text/html": "Run data is saved locally in <code>C:\\Users\\micro\\OneDrive\\Dokumente\\GitHub\\Masterpraktikum\\wandb\\run-20230909_123014-7ljrdj8w</code>"
     },
     "metadata": {},
     "output_type": "display_data"
    },
    {
     "data": {
      "text/plain": "<IPython.core.display.HTML object>",
      "text/html": "Syncing run <strong><a href='https://wandb.ai/team-bioinf/embed_visualisation/runs/7ljrdj8w' target=\"_blank\">autumn-galaxy-18</a></strong> to <a href='https://wandb.ai/team-bioinf/embed_visualisation' target=\"_blank\">Weights & Biases</a> (<a href='https://wandb.me/run' target=\"_blank\">docs</a>)<br/>"
     },
     "metadata": {},
     "output_type": "display_data"
    },
    {
     "data": {
      "text/plain": "<IPython.core.display.HTML object>",
      "text/html": " View project at <a href='https://wandb.ai/team-bioinf/embed_visualisation' target=\"_blank\">https://wandb.ai/team-bioinf/embed_visualisation</a>"
     },
     "metadata": {},
     "output_type": "display_data"
    },
    {
     "data": {
      "text/plain": "<IPython.core.display.HTML object>",
      "text/html": " View run at <a href='https://wandb.ai/team-bioinf/embed_visualisation/runs/7ljrdj8w' target=\"_blank\">https://wandb.ai/team-bioinf/embed_visualisation/runs/7ljrdj8w</a>"
     },
     "metadata": {},
     "output_type": "display_data"
    },
    {
     "data": {
      "text/html": "<button onClick=\"this.nextSibling.style.display='block';this.style.display='none';\">Display W&B run</button><iframe src='https://wandb.ai/team-bioinf/embed_visualisation/runs/7ljrdj8w?jupyter=true' style='border:none;width:100%;height:420px;display:none;'></iframe>",
      "text/plain": "<wandb.sdk.wandb_run.Run at 0x285831a6b10>"
     },
     "execution_count": 83,
     "metadata": {},
     "output_type": "execute_result"
    }
   ],
   "source": [
    "wandb.init(project='embed_visualisation')"
   ],
   "metadata": {
    "collapsed": false,
    "ExecuteTime": {
     "end_time": "2023-09-09T10:30:25.443740300Z",
     "start_time": "2023-09-09T10:30:14.404971900Z"
    }
   }
  },
  {
   "cell_type": "code",
   "execution_count": 84,
   "outputs": [],
   "source": [
    "# take only columns true_label and modified_sequence from predict_df\n",
    "wandb_df = predict_df[['true_label','modified_sequence']]\n",
    "wandb.log({\"digits\": wandb_df})"
   ],
   "metadata": {
    "collapsed": false,
    "ExecuteTime": {
     "end_time": "2023-09-09T10:30:29.171354600Z",
     "start_time": "2023-09-09T10:30:25.443740300Z"
    }
   }
  },
  {
   "cell_type": "code",
   "execution_count": 85,
   "outputs": [
    {
     "data": {
      "text/plain": "<IPython.core.display.HTML object>",
      "text/html": "Waiting for W&B process to finish... <strong style=\"color:green\">(success).</strong>"
     },
     "metadata": {},
     "output_type": "display_data"
    },
    {
     "data": {
      "text/plain": "<IPython.core.display.HTML object>",
      "text/html": " View run <strong style=\"color:#cdcd00\">autumn-galaxy-18</strong> at: <a href='https://wandb.ai/team-bioinf/embed_visualisation/runs/7ljrdj8w' target=\"_blank\">https://wandb.ai/team-bioinf/embed_visualisation/runs/7ljrdj8w</a><br/>Synced 5 W&B file(s), 2 media file(s), 8 artifact file(s) and 1 other file(s)"
     },
     "metadata": {},
     "output_type": "display_data"
    },
    {
     "data": {
      "text/plain": "<IPython.core.display.HTML object>",
      "text/html": "Find logs at: <code>.\\wandb\\run-20230909_123014-7ljrdj8w\\logs</code>"
     },
     "metadata": {},
     "output_type": "display_data"
    }
   ],
   "source": [
    "# https://docs.wandb.ai/guides/app/features/panels/weave/embedding-projector\n",
    "embeddings = layers[1]\n",
    "wandb.log(\n",
    "    {\"embeddings\": wandb.Table(columns=vocabulary, data=embeddings)}\n",
    ")\n",
    "wandb.finish()"
   ],
   "metadata": {
    "collapsed": false,
    "ExecuteTime": {
     "end_time": "2023-09-09T10:30:42.066137700Z",
     "start_time": "2023-09-09T10:30:29.173355300Z"
    }
   }
  },
  {
   "cell_type": "code",
   "execution_count": 86,
   "outputs": [
    {
     "data": {
      "text/plain": "2    45328\n3    26040\n4     6503\n1     4126\n5      903\n6      182\nName: true_label, dtype: int64"
     },
     "execution_count": 86,
     "metadata": {},
     "output_type": "execute_result"
    }
   ],
   "source": [
    "predict_df['true_label'].value_counts()"
   ],
   "metadata": {
    "collapsed": false,
    "ExecuteTime": {
     "end_time": "2023-09-09T10:30:42.102137800Z",
     "start_time": "2023-09-09T10:30:42.026085600Z"
    }
   }
  },
  {
   "cell_type": "code",
   "execution_count": 87,
   "outputs": [
    {
     "data": {
      "text/plain": "83082"
     },
     "execution_count": 87,
     "metadata": {},
     "output_type": "execute_result"
    }
   ],
   "source": [
    "len(predict_df)"
   ],
   "metadata": {
    "collapsed": false,
    "ExecuteTime": {
     "end_time": "2023-09-09T10:30:42.105135800Z",
     "start_time": "2023-09-09T10:30:42.032015400Z"
    }
   }
  },
  {
   "cell_type": "code",
   "execution_count": 88,
   "outputs": [
    {
     "name": "stdout",
     "output_type": "stream",
     "text": [
      "\n",
      "\n",
      "---- new plot: ----\n",
      "EM[UNIMOD:35]LTRAIKTQLVLLT\n"
     ]
    },
    {
     "data": {
      "text/plain": "<Figure size 640x480 with 1 Axes>",
      "image/png": "[encoded data removed]"
     },
     "metadata": {},
     "output_type": "display_data"
    },
    {
     "name": "stdout",
     "output_type": "stream",
     "text": [
      "Sequence:  EM[UNIMOD:35]LTRAIKTQLVLLT\n",
      "Diagram-Algorithm-Prediction:  3\n",
      "True labels are  dict_keys([3, 2])\n",
      "Embedding-Layer Prediction-Weights:\n",
      "   charge state 1:  0.0 False\n",
      "   charge state 2:  0.34 -> True\n",
      "   charge state 3:  0.62 -> True\n",
      "   charge state 4:  0.04 False\n",
      "   charge state 5:  0.0 False\n",
      "   charge state 6:  0.0 False\n",
      "-> True: True labels are  dict_keys([3, 2]) DA-Prediction:  3  is TRUE\n",
      "Model-Prediction:  [0.0, 0.34, 0.62, 0.04, 0.0, 0.0]\n",
      "\n",
      "\n",
      "---- new plot: ----\n",
      "VTAEADSSSPTGILATSESKHVSTSSDEGSPSASTPMINK\n"
     ]
    },
    {
     "data": {
      "text/plain": "<Figure size 640x480 with 1 Axes>",
      "image/png": "[encoded data removed]"
     },
     "metadata": {},
     "output_type": "display_data"
    },
    {
     "name": "stdout",
     "output_type": "stream",
     "text": [
      "Sequence:  VTAEADSSSPTGILATSESKHVSTSSDEGSPSASTPMINK\n",
      "Diagram-Algorithm-Prediction:  7\n",
      "True labels are  dict_keys([6])\n",
      "Embedding-Layer Prediction-Weights:\n",
      "   charge state 1:  0.11 False\n",
      "   charge state 2:  0.04 False\n",
      "   charge state 3:  0.32 False\n",
      "   charge state 4:  0.32 False\n",
      "   charge state 5:  0.04 False\n",
      "   charge state 6:  0.16 -> True\n",
      "-> False: True labels are  dict_keys([6]) , DA-Prediction:  7  is False\n",
      "Model-Prediction:  [0.11, 0.04, 0.32, 0.32, 0.04, 0.16]\n",
      "\n",
      "\n",
      "---- new plot: ----\n",
      "IPRVTTPLSSL\n"
     ]
    },
    {
     "data": {
      "text/plain": "<Figure size 640x480 with 1 Axes>",
      "image/png": "[encoded data removed]"
     },
     "metadata": {},
     "output_type": "display_data"
    },
    {
     "name": "stdout",
     "output_type": "stream",
     "text": [
      "Sequence:  IPRVTTPLSSL\n",
      "Diagram-Algorithm-Prediction:  3\n",
      "True labels are  dict_keys([2])\n",
      "Embedding-Layer Prediction-Weights:\n",
      "   charge state 1:  0.05 False\n",
      "   charge state 2:  0.89 -> True\n",
      "   charge state 3:  0.06 False\n",
      "   charge state 4:  0.0 False\n",
      "   charge state 5:  0.0 False\n",
      "   charge state 6:  0.0 False\n",
      "-> False: True labels are  dict_keys([2]) , DA-Prediction:  3  is False\n",
      "Model-Prediction:  [0.05, 0.89, 0.06, 0.0, 0.0, 0.0]\n",
      "\n",
      "\n",
      "---- new plot: ----\n",
      "HSVLEVLTAAVEYGLEELR\n"
     ]
    },
    {
     "data": {
      "text/plain": "<Figure size 640x480 with 1 Axes>",
      "image/png": "[encoded data removed]"
     },
     "metadata": {},
     "output_type": "display_data"
    },
    {
     "name": "stdout",
     "output_type": "stream",
     "text": [
      "Sequence:  HSVLEVLTAAVEYGLEELR\n",
      "Diagram-Algorithm-Prediction:  2\n",
      "True labels are  dict_keys([3])\n",
      "Embedding-Layer Prediction-Weights:\n",
      "   charge state 1:  0.0 False\n",
      "   charge state 2:  0.52 False\n",
      "   charge state 3:  0.44 -> True\n",
      "   charge state 4:  0.03 False\n",
      "   charge state 5:  0.0 False\n",
      "   charge state 6:  0.0 False\n",
      "-> False: True labels are  dict_keys([3]) , DA-Prediction:  2  is False\n",
      "Model-Prediction:  [0.0, 0.52, 0.44, 0.03, 0.0, 0.0]\n",
      "\n",
      "\n",
      "---- new plot: ----\n",
      "FLGNLDITV\n"
     ]
    },
    {
     "data": {
      "text/plain": "<Figure size 640x480 with 1 Axes>",
      "image/png": "[encoded data removed]"
     },
     "metadata": {},
     "output_type": "display_data"
    },
    {
     "name": "stdout",
     "output_type": "stream",
     "text": [
      "Sequence:  FLGNLDITV\n",
      "Diagram-Algorithm-Prediction:  3\n",
      "True labels are  dict_keys([1])\n",
      "Embedding-Layer Prediction-Weights:\n",
      "   charge state 1:  0.91 -> True\n",
      "   charge state 2:  0.09 False\n",
      "   charge state 3:  0.0 False\n",
      "   charge state 4:  0.0 False\n",
      "   charge state 5:  0.0 False\n",
      "   charge state 6:  0.0 False\n",
      "-> False: True labels are  dict_keys([1]) , DA-Prediction:  3  is False\n",
      "Model-Prediction:  [0.91, 0.09, 0.0, 0.0, 0.0, 0.0]\n",
      "\n",
      "\n",
      "---- new plot: ----\n",
      "EPEPDVAVL\n"
     ]
    },
    {
     "data": {
      "text/plain": "<Figure size 640x480 with 1 Axes>",
      "image/png": "[encoded data removed]"
     },
     "metadata": {},
     "output_type": "display_data"
    },
    {
     "name": "stdout",
     "output_type": "stream",
     "text": [
      "Sequence:  EPEPDVAVL\n",
      "Diagram-Algorithm-Prediction:  1\n",
      "True labels are  dict_keys([1])\n",
      "Embedding-Layer Prediction-Weights:\n",
      "   charge state 1:  0.87 -> True\n",
      "   charge state 2:  0.13 False\n",
      "   charge state 3:  0.0 False\n",
      "   charge state 4:  0.0 False\n",
      "   charge state 5:  0.0 False\n",
      "   charge state 6:  0.0 False\n",
      "-> True: True labels are  dict_keys([1]) DA-Prediction:  1  is TRUE\n",
      "Model-Prediction:  [0.87, 0.13, 0.0, 0.0, 0.0, 0.0]\n",
      "\n",
      "\n",
      "---- new plot: ----\n",
      "MVTHSKFPAAGM[UNIMOD:35]SR\n"
     ]
    },
    {
     "data": {
      "text/plain": "<Figure size 640x480 with 1 Axes>",
      "image/png": "[encoded data removed]"
     },
     "metadata": {},
     "output_type": "display_data"
    },
    {
     "name": "stdout",
     "output_type": "stream",
     "text": [
      "Sequence:  MVTHSKFPAAGM[UNIMOD:35]SR\n",
      "Diagram-Algorithm-Prediction:  2\n",
      "True labels are  dict_keys([3, 2, 4])\n",
      "Embedding-Layer Prediction-Weights:\n",
      "   charge state 1:  0.0 False\n",
      "   charge state 2:  0.04 -> True\n",
      "   charge state 3:  0.7 -> True\n",
      "   charge state 4:  0.25 -> True\n",
      "   charge state 5:  0.0 False\n",
      "   charge state 6:  0.0 False\n",
      "-> True: True labels are  dict_keys([3, 2, 4]) DA-Prediction:  2  is TRUE\n",
      "Model-Prediction:  [0.0, 0.04, 0.7, 0.25, 0.0, 0.0]\n",
      "\n",
      "\n",
      " true:  3 false:  4 total:  7\n"
     ]
    }
   ],
   "source": [
    "layers = [layer.get_weights() for layer in model_embed.layers]\n",
    "\n",
    "amino_dict = dict()\n",
    "\n",
    "\n",
    "sequence_positionen = list(range(63)) # 0,1,2,3,4,5...62\n",
    "embedding_structure = layers[1][0] # 23 blocks of AA weights\n",
    "\n",
    "\n",
    "for position in sequence_positionen: # 63 stk\n",
    "    amino_dict[position] = dict()\n",
    "    for index, i in enumerate(embedding_structure): #23 stk\n",
    "        if vocabulary[index] not in amino_dict[position]:\n",
    "            amino_dict[position][vocabulary[index]] = list()\n",
    "            amino_dict[position][vocabulary[index]].append(embedding_structure[index][position])\n",
    "        else:   \n",
    "            amino_dict[position][vocabulary[index]].append(embedding_structure[index][position])\n",
    "\n",
    "aminos = list(amino_dict[0])\n",
    "#print(aminos)\n",
    "# an welcher position steht die gewichtung an der position 0 für das Amino A\n",
    "\n",
    "\n",
    "\n",
    "weight_dictionary_per_position = dict()\n",
    "for i in amino_dict:\n",
    "    weight_dictionary_per_position[i] = dict()\n",
    "    weight_position = 0\n",
    "    sorted_list = [x[0] for x in amino_dict[i].values()]\n",
    "    sorted_list = sorted(sorted_list, key=float, reverse=False)\n",
    "    for j in sorted_list:\n",
    "        for key, value in amino_dict[i].items():\n",
    "            if j == value[0]:\n",
    "                #weight_dictionary_per_position[i][key] = weight_position\n",
    "                #weight_dictionary_per_position[i][key] = weight_position\n",
    "                average_for_position = np.average([x[0] for x in amino_dict[i].values()]) # normalisation\n",
    "                weight_dictionary_per_position[i][key] = (j - average_for_position) * (weight_position+1) # highest value = high multiplier\n",
    "                #print(weight_dictionary_per_position[i][key], key, value[0])\n",
    "                weight_position += 1\n",
    "                \n",
    "\n",
    "#Amino: \"A\" an index 0 -> [block A für index 0] -> 0.0725 (20/23 Gewichtungsposition -> Farbe (weiss->schwarz): hellgrau)\n",
    "#test_input_sequence = predict_df['modified_sequence'][51]\n",
    "total_counter = 0\n",
    "false_counter = 0\n",
    "true_counter = 0\n",
    "\n",
    "for gg in [2, 19501, 3, 4, 5, 6, 7]:\n",
    "    total_counter+=1\n",
    "    print(\"\\n\")\n",
    "    print(\"---- new plot: ----\")\n",
    "    test_input_sequence = predict_df['modified_sequence'][gg]\n",
    "    test_true_label_input_sequence = predict_df['normalized'][gg]\n",
    "    print(test_input_sequence)\n",
    "    #test_input_sequence = 'CCCCCCCCCCCCCCCCCCCCCCCCCCCCCCCCC' #TODO manually overwrite\n",
    "    #print(test_input_sequence, len(test_input_sequence))\n",
    "    test_input_sequence_length = len(re.findall(r'[A-Z]\\[[^\\]]*\\]|.', test_input_sequence))\n",
    "    #print(\"len: \", test_input_sequence_length)\n",
    "    #test_input_sequence += 'X' * (63 - test_input_sequence_length)\n",
    "    # TODO test_input_sequence += 'X' * (63 - test_input_sequence_length)\n",
    "    #print(test_input_sequence, len(re.findall(r'[A-Z]\\[[^\\]]*\\]|.', test_input_sequence)))\n",
    "    test_input_sequence_formatted = re.findall(r'[A-Z]\\[[^\\]]*\\]|.', test_input_sequence)\n",
    "    #print(test_input_sequence_formatted)\n",
    "           \n",
    "    \n",
    "    \n",
    "    x_for_plot = list(range(len(test_input_sequence_formatted))) # vocabolary of length 23\n",
    "    y_for_plot = list()\n",
    "    # create a list of 0 and 1, 1 if 'X' in test_input_sequence, 0 if not\n",
    "    #c_for_plot = ['red' if x == 'X' else 'green' for x in test_input_sequence_formatted]\n",
    "    c_for_plot = []\n",
    "    \n",
    "    for index, amino in enumerate(test_input_sequence_formatted):\n",
    "        if amino in ['R', 'H', 'K']: # Positive\n",
    "            c_for_plot.append('green')\n",
    "        elif amino in ['D', 'E']: # Negative\n",
    "            c_for_plot.append('blue')\n",
    "        elif amino in ['S', 'T', 'N', 'Q']: # Polar\n",
    "            c_for_plot.append('orange')\n",
    "        elif amino in ['A', 'V', 'I', 'L', 'M', 'F', 'Y', 'W']: # Hydrophobic\n",
    "            c_for_plot.append('pink')\n",
    "        elif amino in ['G', 'P', 'C']: # Special\n",
    "            c_for_plot.append('yellow')\n",
    "        else:\n",
    "            c_for_plot.append('black')\n",
    "            \n",
    "    for index, amino in enumerate(test_input_sequence_formatted):\n",
    "        y_for_plot.append(weight_dictionary_per_position[index][amino])\n",
    "        #print(index, amino, \": \", weight_dictionary_per_position[index][amino], \"/22\")\n",
    "    \n",
    "    # for index, amino in enumerate(test_input_sequence_formatted):\n",
    "    #     if amino == 'X':\n",
    "    #         c_for_plot.append('red')\n",
    "    #     voc_list_positive = ['H', 'N', 'R', 'S', 'G', 'T', 'A', 'P', 'M', 'V', 'I', 'L', 'F', 'W', 'K']\n",
    "    #     if amino in voc_list_positive:\n",
    "    #         # 14 shades of blue from light to dark:\n",
    "    #         list_of_colors = ['#e6f2ff', '#cce6ff', '#b3d9ff', '#99ccff', '#80bfff', '#66b3ff', '#4da6ff', '#3399ff', '#1a8cff', '#0080ff', '#0073e6', '#0066cc', '#0059b3', '#004d99']\n",
    "    #         if amino in ['H', 'R', 'K']: # basic\n",
    "    #             c_for_plot.append('red')\n",
    "    #         else:\n",
    "    #             c_for_plot.append(list_of_colors[voc_list_positive.index(amino)])\n",
    "    #         #c_for_plot.append('blue')\n",
    "    #     else:\n",
    "    #         c_for_plot.append('green')\n",
    "    # \n",
    "    # for index, amino in enumerate(test_input_sequence_formatted):\n",
    "    #     y_for_plot.append(weight_dictionary_per_position[index][amino])\n",
    "    #     #print(index, amino, \": \", weight_dictionary_per_position[index][amino], \"/22\")\n",
    "    # # colors bars according to c_for_plot\n",
    "    \n",
    "    \n",
    "    ## TODO PREDICTION WITH DIAGRAM\n",
    "    # give a prediction according to y_for_plot by counting the highest values if at least 1 index away from preivous peak\n",
    "    peak_height = 0\n",
    "    peak_counter = 0\n",
    "    distance_after_last_peak = 1\n",
    "    minimum_distance = 1\n",
    "    peak_set = False\n",
    "    \n",
    "    for xndex, x in enumerate(y_for_plot):\n",
    "        #print(xndex,\"; \", x, \"peak-height: \", peak_height, \"distance_after: \", distance_after_last_peak)\n",
    "        if x > peak_height:\n",
    "            peak_set = False\n",
    "            peak_height = x\n",
    "            distance_after_last_peak+=1\n",
    "            if xndex == len(y_for_plot)-1 and peak_height > max(y_for_plot)/4:\n",
    "                peak_counter += 1\n",
    "                #print(\"peak found at: \", test_input_sequence_formatted[xndex-1], \"peak_counter: \", peak_counter)\n",
    "    \n",
    "        elif x < peak_height:\n",
    "            distance_after_last_peak += 1\n",
    "            if distance_after_last_peak >= 2 and peak_set == False:\n",
    "                if peak_height > max(y_for_plot)/4:\n",
    "                    peak_counter += 1\n",
    "                peak_height = 0 # reset\n",
    "                distance_after_last_peak = 1\n",
    "                peak_set = True\n",
    "                #print(\"peak found at: \", test_input_sequence_formatted[xndex-1], \"peak_counter: \", peak_counter)        \n",
    "    \n",
    "    \n",
    "    # insert horizontal line at max(y_for_plot)/4 and add label \"cutoff\"\n",
    "    plt.axhline(y=max(y_for_plot)/4, color='r', linestyle='-')\n",
    "    plt.text(0, max(y_for_plot)/4, f'cutoff {round(max(y_for_plot)/4, 2)}', color='red', fontsize=10)\n",
    "\n",
    "    \n",
    "    # add title and legend\n",
    "    plt.title(f\"Sequence: {test_input_sequence}\")\n",
    "    plt.xlabel(\"Amino Acid\")\n",
    "    plt.ylabel(\"Normalized Weight for AA at index\\n (0 = mean of weights at index)\")\n",
    "    plt.xticks(x_for_plot, [x if len(x) == 1 else x[:1]+\"*\" for x in test_input_sequence_formatted])\n",
    "    plt.bar(x_for_plot, y_for_plot, color=c_for_plot)\n",
    "    plt.show()\n",
    "        \n",
    "    # TODO prediction\n",
    "    input_sequence = test_input_sequence\n",
    "    input_sequence_vector = seq_translator(input_sequence, max_len=63)\n",
    "    input_sequence_vector = np.expand_dims(tf.convert_to_tensor(np.array(input_sequence_vector)), axis=0)\n",
    "    test_give = model_embed.predict(input_sequence_vector, verbose=False)\n",
    "    counter = 1\n",
    "    #print(\"-----------------------------\")\n",
    "    print(\"Sequence: \", input_sequence)\n",
    "    print(\"Diagram-Algorithm-Prediction: \", peak_counter)\n",
    "    print(\"True labels are \", test_true_label_input_sequence.keys())\n",
    "    print(\"Embedding-Layer Prediction-Weights:\")\n",
    "    for x in test_give[0]:\n",
    "        print(f\"   charge state {counter}: \", round(x, 2), end='')\n",
    "        if counter in test_true_label_input_sequence:\n",
    "            print(\" -> True\")\n",
    "        else:\n",
    "            print(\" False\")\n",
    "        counter += 1\n",
    "    if peak_counter in test_true_label_input_sequence:\n",
    "        true_counter+=1\n",
    "        print(\"-> True: True labels are \", test_true_label_input_sequence.keys(), \"DA-Prediction: \", peak_counter, \" is TRUE\")\n",
    "    else: \n",
    "        false_counter+=1\n",
    "        print(\"-> False: True labels are \", test_true_label_input_sequence.keys(), \", DA-Prediction: \", peak_counter, \" is False\")\n",
    "        \n",
    "    print(\"Model-Prediction: \", [round(x, 2) for x in model_embed.predict(input_sequence_vector, verbose=False)[0]])\n",
    "        \n",
    "print(\"\\n\\n true: \", true_counter, \"false: \", false_counter, \"total: \", total_counter)\n"
   ],
   "metadata": {
    "collapsed": false,
    "ExecuteTime": {
     "end_time": "2023-09-09T10:30:43.940329800Z",
     "start_time": "2023-09-09T10:30:42.048137500Z"
    }
   }
  },
  {
   "cell_type": "code",
   "execution_count": 89,
   "outputs": [
    {
     "ename": "KeyboardInterrupt",
     "evalue": "",
     "output_type": "error",
     "traceback": [
      "\u001B[1;31m---------------------------------------------------------------------------\u001B[0m",
      "\u001B[1;31mKeyboardInterrupt\u001B[0m                         Traceback (most recent call last)",
      "Cell \u001B[1;32mIn[89], line 113\u001B[0m\n\u001B[0;32m    111\u001B[0m input_sequence_vector \u001B[38;5;241m=\u001B[39m seq_translator(input_sequence, max_len\u001B[38;5;241m=\u001B[39m\u001B[38;5;241m63\u001B[39m)\n\u001B[0;32m    112\u001B[0m input_sequence_vector \u001B[38;5;241m=\u001B[39m np\u001B[38;5;241m.\u001B[39mexpand_dims(tf\u001B[38;5;241m.\u001B[39mconvert_to_tensor(np\u001B[38;5;241m.\u001B[39marray(input_sequence_vector)), axis\u001B[38;5;241m=\u001B[39m\u001B[38;5;241m0\u001B[39m)\n\u001B[1;32m--> 113\u001B[0m test_give \u001B[38;5;241m=\u001B[39m \u001B[43mmodel_embed\u001B[49m\u001B[38;5;241;43m.\u001B[39;49m\u001B[43mpredict\u001B[49m\u001B[43m(\u001B[49m\u001B[43minput_sequence_vector\u001B[49m\u001B[43m,\u001B[49m\u001B[43m \u001B[49m\u001B[43mverbose\u001B[49m\u001B[38;5;241;43m=\u001B[39;49m\u001B[38;5;28;43;01mFalse\u001B[39;49;00m\u001B[43m)\u001B[49m\n\u001B[0;32m    114\u001B[0m counter \u001B[38;5;241m=\u001B[39m \u001B[38;5;241m1\u001B[39m\n\u001B[0;32m    115\u001B[0m \u001B[38;5;66;03m#print(\"-----------------------------\")\u001B[39;00m\n\u001B[0;32m    116\u001B[0m \u001B[38;5;66;03m#print(\"Sequence: \", input_sequence)\u001B[39;00m\n",
      "File \u001B[1;32m~\\OneDrive\\Dokumente\\GitHub\\BachelorThesis\\venv\\Lib\\site-packages\\keras\\utils\\traceback_utils.py:65\u001B[0m, in \u001B[0;36mfilter_traceback.<locals>.error_handler\u001B[1;34m(*args, **kwargs)\u001B[0m\n\u001B[0;32m     63\u001B[0m filtered_tb \u001B[38;5;241m=\u001B[39m \u001B[38;5;28;01mNone\u001B[39;00m\n\u001B[0;32m     64\u001B[0m \u001B[38;5;28;01mtry\u001B[39;00m:\n\u001B[1;32m---> 65\u001B[0m     \u001B[38;5;28;01mreturn\u001B[39;00m \u001B[43mfn\u001B[49m\u001B[43m(\u001B[49m\u001B[38;5;241;43m*\u001B[39;49m\u001B[43margs\u001B[49m\u001B[43m,\u001B[49m\u001B[43m \u001B[49m\u001B[38;5;241;43m*\u001B[39;49m\u001B[38;5;241;43m*\u001B[39;49m\u001B[43mkwargs\u001B[49m\u001B[43m)\u001B[49m\n\u001B[0;32m     66\u001B[0m \u001B[38;5;28;01mexcept\u001B[39;00m \u001B[38;5;167;01mException\u001B[39;00m \u001B[38;5;28;01mas\u001B[39;00m e:\n\u001B[0;32m     67\u001B[0m     filtered_tb \u001B[38;5;241m=\u001B[39m _process_traceback_frames(e\u001B[38;5;241m.\u001B[39m__traceback__)\n",
      "File \u001B[1;32m~\\OneDrive\\Dokumente\\GitHub\\BachelorThesis\\venv\\Lib\\site-packages\\keras\\engine\\training.py:2378\u001B[0m, in \u001B[0;36mModel.predict\u001B[1;34m(self, x, batch_size, verbose, steps, callbacks, max_queue_size, workers, use_multiprocessing)\u001B[0m\n\u001B[0;32m   2376\u001B[0m callbacks\u001B[38;5;241m.\u001B[39mon_predict_begin()\n\u001B[0;32m   2377\u001B[0m batch_outputs \u001B[38;5;241m=\u001B[39m \u001B[38;5;28;01mNone\u001B[39;00m\n\u001B[1;32m-> 2378\u001B[0m \u001B[38;5;28;01mfor\u001B[39;00m _, iterator \u001B[38;5;129;01min\u001B[39;00m data_handler\u001B[38;5;241m.\u001B[39menumerate_epochs():  \u001B[38;5;66;03m# Single epoch.\u001B[39;00m\n\u001B[0;32m   2379\u001B[0m     \u001B[38;5;28;01mwith\u001B[39;00m data_handler\u001B[38;5;241m.\u001B[39mcatch_stop_iteration():\n\u001B[0;32m   2380\u001B[0m         \u001B[38;5;28;01mfor\u001B[39;00m step \u001B[38;5;129;01min\u001B[39;00m data_handler\u001B[38;5;241m.\u001B[39msteps():\n",
      "File \u001B[1;32m~\\OneDrive\\Dokumente\\GitHub\\BachelorThesis\\venv\\Lib\\site-packages\\keras\\engine\\data_adapter.py:1305\u001B[0m, in \u001B[0;36mDataHandler.enumerate_epochs\u001B[1;34m(self)\u001B[0m\n\u001B[0;32m   1303\u001B[0m \u001B[38;5;250m\u001B[39m\u001B[38;5;124;03m\"\"\"Yields `(epoch, tf.data.Iterator)`.\"\"\"\u001B[39;00m\n\u001B[0;32m   1304\u001B[0m \u001B[38;5;28;01mwith\u001B[39;00m \u001B[38;5;28mself\u001B[39m\u001B[38;5;241m.\u001B[39m_truncate_execution_to_epoch():\n\u001B[1;32m-> 1305\u001B[0m     data_iterator \u001B[38;5;241m=\u001B[39m \u001B[38;5;28miter\u001B[39m(\u001B[38;5;28mself\u001B[39m\u001B[38;5;241m.\u001B[39m_dataset)\n\u001B[0;32m   1306\u001B[0m     \u001B[38;5;28;01mfor\u001B[39;00m epoch \u001B[38;5;129;01min\u001B[39;00m \u001B[38;5;28mrange\u001B[39m(\u001B[38;5;28mself\u001B[39m\u001B[38;5;241m.\u001B[39m_initial_epoch, \u001B[38;5;28mself\u001B[39m\u001B[38;5;241m.\u001B[39m_epochs):\n\u001B[0;32m   1307\u001B[0m         \u001B[38;5;28;01mif\u001B[39;00m \u001B[38;5;28mself\u001B[39m\u001B[38;5;241m.\u001B[39m_insufficient_data:  \u001B[38;5;66;03m# Set by `catch_stop_iteration`.\u001B[39;00m\n",
      "File \u001B[1;32m~\\OneDrive\\Dokumente\\GitHub\\BachelorThesis\\venv\\Lib\\site-packages\\tensorflow\\python\\data\\ops\\dataset_ops.py:505\u001B[0m, in \u001B[0;36mDatasetV2.__iter__\u001B[1;34m(self)\u001B[0m\n\u001B[0;32m    503\u001B[0m \u001B[38;5;28;01mif\u001B[39;00m context\u001B[38;5;241m.\u001B[39mexecuting_eagerly() \u001B[38;5;129;01mor\u001B[39;00m ops\u001B[38;5;241m.\u001B[39minside_function():\n\u001B[0;32m    504\u001B[0m   \u001B[38;5;28;01mwith\u001B[39;00m ops\u001B[38;5;241m.\u001B[39mcolocate_with(\u001B[38;5;28mself\u001B[39m\u001B[38;5;241m.\u001B[39m_variant_tensor):\n\u001B[1;32m--> 505\u001B[0m     \u001B[38;5;28;01mreturn\u001B[39;00m \u001B[43miterator_ops\u001B[49m\u001B[38;5;241;43m.\u001B[39;49m\u001B[43mOwnedIterator\u001B[49m\u001B[43m(\u001B[49m\u001B[38;5;28;43mself\u001B[39;49m\u001B[43m)\u001B[49m\n\u001B[0;32m    506\u001B[0m \u001B[38;5;28;01melse\u001B[39;00m:\n\u001B[0;32m    507\u001B[0m   \u001B[38;5;28;01mraise\u001B[39;00m \u001B[38;5;167;01mRuntimeError\u001B[39;00m(\u001B[38;5;124m\"\u001B[39m\u001B[38;5;124m`tf.data.Dataset` only supports Python-style \u001B[39m\u001B[38;5;124m\"\u001B[39m\n\u001B[0;32m    508\u001B[0m                      \u001B[38;5;124m\"\u001B[39m\u001B[38;5;124miteration in eager mode or within tf.function.\u001B[39m\u001B[38;5;124m\"\u001B[39m)\n",
      "File \u001B[1;32m~\\OneDrive\\Dokumente\\GitHub\\BachelorThesis\\venv\\Lib\\site-packages\\tensorflow\\python\\data\\ops\\iterator_ops.py:713\u001B[0m, in \u001B[0;36mOwnedIterator.__init__\u001B[1;34m(self, dataset, components, element_spec)\u001B[0m\n\u001B[0;32m    709\u001B[0m   \u001B[38;5;28;01mif\u001B[39;00m (components \u001B[38;5;129;01mis\u001B[39;00m \u001B[38;5;129;01mnot\u001B[39;00m \u001B[38;5;28;01mNone\u001B[39;00m \u001B[38;5;129;01mor\u001B[39;00m element_spec \u001B[38;5;129;01mis\u001B[39;00m \u001B[38;5;129;01mnot\u001B[39;00m \u001B[38;5;28;01mNone\u001B[39;00m):\n\u001B[0;32m    710\u001B[0m     \u001B[38;5;28;01mraise\u001B[39;00m \u001B[38;5;167;01mValueError\u001B[39;00m(\n\u001B[0;32m    711\u001B[0m         \u001B[38;5;124m\"\u001B[39m\u001B[38;5;124mWhen `dataset` is provided, `element_spec` and `components` must \u001B[39m\u001B[38;5;124m\"\u001B[39m\n\u001B[0;32m    712\u001B[0m         \u001B[38;5;124m\"\u001B[39m\u001B[38;5;124mnot be specified.\u001B[39m\u001B[38;5;124m\"\u001B[39m)\n\u001B[1;32m--> 713\u001B[0m   \u001B[38;5;28;43mself\u001B[39;49m\u001B[38;5;241;43m.\u001B[39;49m\u001B[43m_create_iterator\u001B[49m\u001B[43m(\u001B[49m\u001B[43mdataset\u001B[49m\u001B[43m)\u001B[49m\n\u001B[0;32m    715\u001B[0m \u001B[38;5;28mself\u001B[39m\u001B[38;5;241m.\u001B[39m_get_next_call_count \u001B[38;5;241m=\u001B[39m \u001B[38;5;241m0\u001B[39m\n",
      "File \u001B[1;32m~\\OneDrive\\Dokumente\\GitHub\\BachelorThesis\\venv\\Lib\\site-packages\\tensorflow\\python\\data\\ops\\iterator_ops.py:752\u001B[0m, in \u001B[0;36mOwnedIterator._create_iterator\u001B[1;34m(self, dataset)\u001B[0m\n\u001B[0;32m    749\u001B[0m   \u001B[38;5;28;01massert\u001B[39;00m \u001B[38;5;28mlen\u001B[39m(fulltype\u001B[38;5;241m.\u001B[39margs[\u001B[38;5;241m0\u001B[39m]\u001B[38;5;241m.\u001B[39margs[\u001B[38;5;241m0\u001B[39m]\u001B[38;5;241m.\u001B[39margs) \u001B[38;5;241m==\u001B[39m \u001B[38;5;28mlen\u001B[39m(\n\u001B[0;32m    750\u001B[0m       \u001B[38;5;28mself\u001B[39m\u001B[38;5;241m.\u001B[39m_flat_output_types)\n\u001B[0;32m    751\u001B[0m   \u001B[38;5;28mself\u001B[39m\u001B[38;5;241m.\u001B[39m_iterator_resource\u001B[38;5;241m.\u001B[39mop\u001B[38;5;241m.\u001B[39mexperimental_set_type(fulltype)\n\u001B[1;32m--> 752\u001B[0m \u001B[43mgen_dataset_ops\u001B[49m\u001B[38;5;241;43m.\u001B[39;49m\u001B[43mmake_iterator\u001B[49m\u001B[43m(\u001B[49m\u001B[43mds_variant\u001B[49m\u001B[43m,\u001B[49m\u001B[43m \u001B[49m\u001B[38;5;28;43mself\u001B[39;49m\u001B[38;5;241;43m.\u001B[39;49m\u001B[43m_iterator_resource\u001B[49m\u001B[43m)\u001B[49m\n",
      "File \u001B[1;32m~\\OneDrive\\Dokumente\\GitHub\\BachelorThesis\\venv\\Lib\\site-packages\\tensorflow\\python\\ops\\gen_dataset_ops.py:3439\u001B[0m, in \u001B[0;36mmake_iterator\u001B[1;34m(dataset, iterator, name)\u001B[0m\n\u001B[0;32m   3437\u001B[0m \u001B[38;5;28;01mif\u001B[39;00m tld\u001B[38;5;241m.\u001B[39mis_eager:\n\u001B[0;32m   3438\u001B[0m   \u001B[38;5;28;01mtry\u001B[39;00m:\n\u001B[1;32m-> 3439\u001B[0m     _result \u001B[38;5;241m=\u001B[39m \u001B[43mpywrap_tfe\u001B[49m\u001B[38;5;241;43m.\u001B[39;49m\u001B[43mTFE_Py_FastPathExecute\u001B[49m\u001B[43m(\u001B[49m\n\u001B[0;32m   3440\u001B[0m \u001B[43m      \u001B[49m\u001B[43m_ctx\u001B[49m\u001B[43m,\u001B[49m\u001B[43m \u001B[49m\u001B[38;5;124;43m\"\u001B[39;49m\u001B[38;5;124;43mMakeIterator\u001B[39;49m\u001B[38;5;124;43m\"\u001B[39;49m\u001B[43m,\u001B[49m\u001B[43m \u001B[49m\u001B[43mname\u001B[49m\u001B[43m,\u001B[49m\u001B[43m \u001B[49m\u001B[43mdataset\u001B[49m\u001B[43m,\u001B[49m\u001B[43m \u001B[49m\u001B[43miterator\u001B[49m\u001B[43m)\u001B[49m\n\u001B[0;32m   3441\u001B[0m     \u001B[38;5;28;01mreturn\u001B[39;00m _result\n\u001B[0;32m   3442\u001B[0m   \u001B[38;5;28;01mexcept\u001B[39;00m _core\u001B[38;5;241m.\u001B[39m_NotOkStatusException \u001B[38;5;28;01mas\u001B[39;00m e:\n",
      "\u001B[1;31mKeyboardInterrupt\u001B[0m: "
     ]
    }
   ],
   "source": [
    "layers = [layer.get_weights() for layer in model_embed.layers]\n",
    "\n",
    "amino_dict = dict()\n",
    "\n",
    "max_modifier = 4 # todo adjust cutoff max/ max modifier\n",
    "\n",
    "\n",
    "sequence_positionen = list(range(63)) # 0,1,2,3,4,5...62\n",
    "embedding_structure = layers[1][0] # 23 blocks of AA weights\n",
    "\n",
    "\n",
    "for position in sequence_positionen: # 63 stk\n",
    "    amino_dict[position] = dict()\n",
    "    for index, i in enumerate(embedding_structure): #23 stk\n",
    "        if vocabulary[index] not in amino_dict[position]:\n",
    "            amino_dict[position][vocabulary[index]] = list()\n",
    "            amino_dict[position][vocabulary[index]].append(embedding_structure[index][position])\n",
    "        else:   \n",
    "            amino_dict[position][vocabulary[index]].append(embedding_structure[index][position])\n",
    "\n",
    "aminos = list(amino_dict[0])\n",
    "#print(aminos)\n",
    "# an welcher position steht die gewichtung an der position 0 für das Amino A\n",
    "\n",
    "\n",
    "\n",
    "weight_dictionary_per_position = dict()\n",
    "for i in amino_dict:\n",
    "    weight_dictionary_per_position[i] = dict()\n",
    "    weight_position = 0\n",
    "    sorted_list = [x[0] for x in amino_dict[i].values()]\n",
    "    sorted_list = sorted(sorted_list, key=float, reverse=False)\n",
    "    for j in sorted_list:\n",
    "        for key, value in amino_dict[i].items():\n",
    "            if j == value[0]:\n",
    "                #weight_dictionary_per_position[i][key] = weight_position\n",
    "                #weight_dictionary_per_position[i][key] = weight_position\n",
    "                average_for_position = np.average([x[0] for x in amino_dict[i].values()]) # normalisation\n",
    "                weight_dictionary_per_position[i][key] = (j - average_for_position) * (weight_position+1) # highest value = high multiplier\n",
    "                #print(weight_dictionary_per_position[i][key], key, value[0])\n",
    "                weight_position += 1\n",
    "                \n",
    "\n",
    "#Amino: \"A\" an index 0 -> [block A für index 0] -> 0.0725 (20/23 Gewichtungsposition -> Farbe (weiss->schwarz): hellgrau)\n",
    "#test_input_sequence = predict_df['modified_sequence'][51]\n",
    "total_counter = 0\n",
    "false_counter = 0\n",
    "true_counter = 0\n",
    "predict_counter = 0\n",
    "\n",
    "for gg in range(len(predict_df)):\n",
    "    total_counter+=1\n",
    "    #print(\"\\n\")\n",
    "    #print(\"---- new plot: ----\")\n",
    "    test_input_sequence = predict_df['modified_sequence'][gg]\n",
    "    test_true_label_input_sequence = predict_df['normalized'][gg]\n",
    "    #print(test_input_sequence)\n",
    "    #test_input_sequence = 'CCCCCCCCCCCCCCCCCCCCCCCCCCCCCCCCC' #TODO manually overwrite\n",
    "    #print(test_input_sequence, len(test_input_sequence))\n",
    "    test_input_sequence_length = len(re.findall(r'[A-Z]\\[[^\\]]*\\]|.', test_input_sequence))\n",
    "    #print(\"len: \", test_input_sequence_length)\n",
    "    # TODO test_input_sequence += 'X' * (63 - test_input_sequence_length)\n",
    "    #print(test_input_sequence, len(re.findall(r'[A-Z]\\[[^\\]]*\\]|.', test_input_sequence)))\n",
    "    test_input_sequence_formatted = re.findall(r'[A-Z]\\[[^\\]]*\\]|.', test_input_sequence)\n",
    "    #print(test_input_sequence_formatted)\n",
    "           \n",
    "    \n",
    "    \n",
    "    x_for_plot = list(range(len(test_input_sequence_formatted))) # vocabolary of length 23\n",
    "    y_for_plot = list()\n",
    "    # create a list of 0 and 1, 1 if 'X' in test_input_sequence, 0 if not\n",
    "    c_for_plot = ['red' if x == 'X' else 'green' for x in test_input_sequence_formatted]\n",
    "    for index, amino in enumerate(test_input_sequence_formatted):\n",
    "        y_for_plot.append(weight_dictionary_per_position[index][amino])\n",
    "        #print(index, amino, \": \", weight_dictionary_per_position[index][amino], \"/22\")\n",
    "    # colors bars according to c_for_plot\n",
    "    \n",
    "    ## TODO PREDICTION WITH DIAGRAM\n",
    "    # give a prediction according to y_for_plot by counting the highest values if at least 1 index away from preivous peak\n",
    "    peak_height = 0\n",
    "    peak_counter = 0\n",
    "    distance_after_last_peak = 1\n",
    "    minimum_distance = 1\n",
    "    peak_set = False\n",
    "    \n",
    "    \n",
    "    for xndex, x in enumerate(y_for_plot):\n",
    "        #print(xndex,\"; \", x, \"peak-height: \", peak_height, \"distance_after: \", distance_after_last_peak)\n",
    "        if x > peak_height:\n",
    "            peak_set = False\n",
    "            peak_height = x\n",
    "            distance_after_last_peak+=1\n",
    "            if xndex == len(y_for_plot)-1 and peak_height > max(y_for_plot)/max_modifier:\n",
    "                peak_counter += 1\n",
    "                #print(\"peak found at: \", test_input_sequence_formatted[xndex-1], \"peak_counter: \", peak_counter)\n",
    "    \n",
    "        elif x < peak_height:\n",
    "            distance_after_last_peak += 1\n",
    "            if distance_after_last_peak >= 2 and peak_set == False:\n",
    "                if peak_height > max(y_for_plot)/max_modifier:\n",
    "                    peak_counter += 1\n",
    "                peak_height = 0 # reset\n",
    "                distance_after_last_peak = 1\n",
    "                peak_set = True\n",
    "                #print(\"peak found at: \", test_input_sequence_formatted[xndex-1], \"peak_counter: \", peak_counter)        \n",
    "    #print(\"Prediction: \", peak_counter)\n",
    "\n",
    "        \n",
    "    # TODO prediction\n",
    "    input_sequence = test_input_sequence\n",
    "    input_sequence_vector = seq_translator(input_sequence, max_len=63)\n",
    "    input_sequence_vector = np.expand_dims(tf.convert_to_tensor(np.array(input_sequence_vector)), axis=0)\n",
    "    test_give = model_embed.predict(input_sequence_vector, verbose=False)\n",
    "    counter = 1\n",
    "    #print(\"-----------------------------\")\n",
    "    #print(\"Sequence: \", input_sequence)\n",
    "    for x in test_give[0]:\n",
    "        #print(f\"charge state {counter}: \", round(x, 2))\n",
    "        counter += 1\n",
    "        if x == peak_counter:\n",
    "            predict_counter += 1\n",
    "    if peak_counter in test_true_label_input_sequence:\n",
    "        true_counter+=1\n",
    "        #print(\"-> \", test_true_label_input_sequence[peak_counter], \"Prediction: \", peak_counter, \" is TRUE\")\n",
    "    else: \n",
    "        false_counter+=1\n",
    "        #print(\"-> prediction wrong: \", test_true_label_input_sequence, \" for \", peak_counter, \" peaks\")\n",
    "   # if total_counter > 1000:\n",
    "    #    break\n",
    "print(\"true: \", true_counter, \"false: \", false_counter, \"total: \", total_counter)\n",
    "print(\"accuracy: \", true_counter/total_counter)\n",
    "print(\"predict_counter: \", predict_counter, \"total: \", total_counter, \"accuracy: \", predict_counter/total_counter)\n"
   ],
   "metadata": {
    "collapsed": false,
    "ExecuteTime": {
     "end_time": "2023-09-09T10:32:35.811862800Z",
     "start_time": "2023-09-09T10:30:43.941330400Z"
    }
   }
  },
  {
   "cell_type": "code",
   "execution_count": null,
   "outputs": [],
   "source": [
    "# all weights for embed layer per position\n",
    "layers = [layer.get_weights() for layer in model_embed.layers]\n",
    "\n",
    "position_dict = dict()\n",
    "for i in range(23):\n",
    "    list_of_positions_for_vocab = layers[1][0][i]\n",
    "    for index, j in enumerate(list_of_positions_for_vocab):\n",
    "        print(index, j, vocabulary[i], end=\"; \")\n",
    "        if index not in position_dict:\n",
    "            position_dict[index] = list()\n",
    "            position_dict[index].append(j)\n",
    "        else:\n",
    "            position_dict[index].append(j)\n",
    "    print(\"\\n\")\n",
    "    #print(i, (layers[1][0][i]))\n",
    "    \n",
    "for key, value in position_dict.items():\n",
    "    print(f\"mean pos{key}: \",np.mean(value))"
   ],
   "metadata": {
    "collapsed": false,
    "ExecuteTime": {
     "start_time": "2023-09-09T10:32:35.787861700Z"
    }
   }
  },
  {
   "cell_type": "code",
   "execution_count": null,
   "outputs": [],
   "source": [
    "predict_df.head(4)"
   ],
   "metadata": {
    "collapsed": false,
    "ExecuteTime": {
     "start_time": "2023-09-09T10:32:35.788863Z"
    }
   }
  },
  {
   "cell_type": "code",
   "execution_count": null,
   "outputs": [],
   "source": [
    "# TODO prediction\n",
    "#input_sequence = \"NGVVIATENKHKSPLYEQHSVH\"\n",
    "input_sequence = \"EM[UNIMOD:35]LTRAIKTQLVLLT\"\n",
    "print(\"Sequence: \", input_sequence)\n",
    "#input_sequence = \"AAAGCNN\"\n",
    "input_sequence_vector = seq_translator(input_sequence, max_len=63)\n",
    "input_sequence_vector = np.expand_dims(tf.convert_to_tensor(np.array(input_sequence_vector)), axis=0)\n",
    "print(\"Sequence_vector: \", input_sequence_vector)\n",
    "test_give = model_embed.predict(input_sequence_vector, verbose=False)\n",
    "print(\"Weights_per_Charge_State: \",[round(x, 2) for x in test_give[0]], \"Sum: \" ,sum([round(x, 2) for x in test_give[0]]))\n",
    "counter = 1\n",
    "#print(\"-----------------------------\")\n",
    "# print(\"Sequence: \", input_sequence)\n",
    "# for x in test_give[0]:\n",
    "#     print(f\"charge state {counter}: \", round(x, 2))\n",
    "#     counter += 1\n",
    "print(\"-----------------------------\")\n",
    "print(generate_charge_prediction_text(test_give[0]))"
   ],
   "metadata": {
    "collapsed": false,
    "ExecuteTime": {
     "start_time": "2023-09-09T10:32:35.790862700Z"
    }
   }
  },
  {
   "cell_type": "code",
   "execution_count": null,
   "outputs": [],
   "source": [
    "# # PREDICT\n",
    "# counter_index = 0\n",
    "# stop_index = 100\n",
    "# test_run = False # TODO manual switch\n",
    "# try: \n",
    "#     for index, row in predict_df.iterrows():\n",
    "#         solut = np.expand_dims(tf.convert_to_tensor(np.array(predict_df.at[index, \"modified_sequence_vector\"])), axis=0)\n",
    "#         predict_df.at[index, 'prediction'] = model_embed.predict(solut, verbose=False)\n",
    "#         counter_index += 1\n",
    "#         if test_run:\n",
    "#             if counter_index >= stop_index:\n",
    "#                 break\n",
    "#     predict_df['pred_label'] = predict_df['prediction'].apply(predictions_no_hot)\n",
    "# except KeyboardInterrupt:\n",
    "#     print(\"KeyboardInterrupt\", f\"at {counter_index} of {predict_df.shape[0]}\")\n",
    "#     predict_df['pred_label'] = predict_df['prediction'].apply(predictions_no_hot)"
   ],
   "metadata": {
    "collapsed": false,
    "ExecuteTime": {
     "start_time": "2023-09-09T10:32:35.791863300Z"
    }
   }
  },
  {
   "cell_type": "code",
   "execution_count": null,
   "outputs": [],
   "source": [
    "predict_df.tail(4)"
   ],
   "metadata": {
    "collapsed": false,
    "ExecuteTime": {
     "start_time": "2023-09-09T10:32:35.792860500Z"
    }
   }
  },
  {
   "cell_type": "code",
   "execution_count": null,
   "outputs": [],
   "source": [
    "predict_df['normalized']"
   ],
   "metadata": {
    "collapsed": false,
    "ExecuteTime": {
     "start_time": "2023-09-09T10:32:35.793863500Z"
    }
   }
  },
  {
   "cell_type": "code",
   "execution_count": null,
   "outputs": [],
   "source": [
    "# IMPORTANT for label verification after PREDICT TODO if not called before\n",
    "#predict_df['pred_label'] = predict_df['prediction'].apply(predictions_no_hot)"
   ],
   "metadata": {
    "collapsed": false,
    "ExecuteTime": {
     "start_time": "2023-09-09T10:32:35.795865800Z"
    }
   }
  },
  {
   "cell_type": "code",
   "execution_count": null,
   "outputs": [],
   "source": [
    "predict_df.head(4)"
   ],
   "metadata": {
    "collapsed": false,
    "ExecuteTime": {
     "start_time": "2023-09-09T10:32:35.796868100Z"
    }
   }
  },
  {
   "cell_type": "code",
   "execution_count": null,
   "outputs": [],
   "source": [
    "# iterate all rows of grouped_df_embed\n",
    "size_of_df = predict_df.shape[0]\n",
    "true_counter = 0\n",
    "for index, row in predict_df.iterrows():\n",
    "    if row['true_label'] == row['pred_label']:\n",
    "        true_counter += 1\n",
    "\n",
    "print(true_counter/size_of_df, true_counter, size_of_df)"
   ],
   "metadata": {
    "collapsed": false,
    "ExecuteTime": {
     "start_time": "2023-09-09T10:32:35.798863500Z"
    }
   }
  },
  {
   "cell_type": "code",
   "execution_count": null,
   "outputs": [],
   "source": [
    "1 / np.log10(6) # TODO sanity check, look into formula"
   ],
   "metadata": {
    "collapsed": false,
    "ExecuteTime": {
     "start_time": "2023-09-09T10:32:35.799868100Z"
    }
   }
  },
  {
   "cell_type": "code",
   "execution_count": null,
   "outputs": [],
   "source": [
    "from sklearn.metrics import classification_report, confusion_matrix, accuracy_score, precision_score, recall_score, f1_score, ConfusionMatrixDisplay\n",
    "import seaborn as sn\n",
    "\n",
    "true_labels = predict_df['true_label']\n",
    "predicted_labels = predict_df['pred_label']\n",
    "\n",
    "\n",
    "cm = confusion_matrix(true_labels, predicted_labels)\n",
    "print(cm)\n",
    "print(\"Accuracy: \", accuracy_score(true_labels, predicted_labels))\n",
    "# TODO calculate for score for each class (and/or average)\n",
    "# TODO lookup logic for weighted, macro etc. -> presentation\n",
    "print(\"Precision_weighted: \", precision_score(true_labels, predicted_labels, average='weighted'))\n",
    "print(\"Recall_weighted: \", recall_score(true_labels, predicted_labels, average='weighted'))\n",
    "print(\"F1_weighted: \", f1_score(true_labels, predicted_labels, average='weighted'))\n",
    "disp = ConfusionMatrixDisplay(confusion_matrix=cm, display_labels=class_names)\n",
    "disp.plot(cmap=plt.cm.Blues, xticks_rotation=45)\n",
    "# add legend title and axis labels\n",
    "plt.xlabel('Predicted Label')\n",
    "plt.ylabel('True Label')\n",
    "plt.title('Confusion Matrix')\n",
    "# plt.colorbar(label=\"Number of Samples\")\n",
    "plt.show()\n",
    "\n",
    "\n",
    "#sn.heatmap(cm2, annot=True, cmap=\"crest\")\n",
    "# TODO  check if most abundant is chosen"
   ],
   "metadata": {
    "collapsed": false,
    "ExecuteTime": {
     "start_time": "2023-09-09T10:32:35.801864500Z"
    }
   }
  },
  {
   "cell_type": "code",
   "execution_count": null,
   "outputs": [],
   "source": [
    "# TopK-Metrics\n",
    "# iterate over all rows in predict_df and compare true_label with topK and set column topK_inference to either True or False\n",
    "predict_df['topK_inference'] = None\n",
    "for index, row in predict_df.iterrows():\n",
    "        if row['pred_label'] is None or row['prediction'] is None:\n",
    "            predict_df.at[index, 'topK_inference'] = None\n",
    "        elif row['pred_label'] in row['topK']:\n",
    "            predict_df.at[index, 'topK_inference'] = True\n",
    "        else:\n",
    "            predict_df.at[index, 'topK_inference'] = False\n",
    "            #print(row['prediction'], row['pred_label'], row['topK'])\n"
   ],
   "metadata": {
    "collapsed": false,
    "ExecuteTime": {
     "start_time": "2023-09-09T10:32:35.802865600Z"
    }
   }
  },
  {
   "cell_type": "code",
   "execution_count": null,
   "outputs": [],
   "source": [
    "# calculate accuracy for topK_inference\n",
    "topK_true = predict_df['topK_inference'].value_counts()[True] \n",
    "topK_false = predict_df['topK_inference'].value_counts()[False]\n",
    "topK_total = topK_true + topK_false\n",
    "print(\"Correct: \", topK_true, \"Wrong: \", topK_false, \"Total: \",topK_total)\n",
    "\n",
    "topK_accuracy = predict_df['topK_inference'].value_counts()[True] / (predict_df['topK_inference'].value_counts()[True] + predict_df['topK_inference'].value_counts()[False])\n",
    "print(\"TopK-Accuracy: \", topK_accuracy)"
   ],
   "metadata": {
    "collapsed": false,
    "ExecuteTime": {
     "start_time": "2023-09-09T10:32:35.803864300Z"
    }
   }
  },
  {
   "cell_type": "code",
   "execution_count": null,
   "outputs": [],
   "source": [
    "predict_df.head(4)"
   ],
   "metadata": {
    "collapsed": false,
    "ExecuteTime": {
     "start_time": "2023-09-09T10:32:35.804864100Z"
    }
   }
  },
  {
   "cell_type": "markdown",
   "source": [
    "# Error for each class due to sequence length"
   ],
   "metadata": {
    "collapsed": false
   }
  },
  {
   "cell_type": "code",
   "execution_count": null,
   "outputs": [],
   "source": [
    "# calculate error for each class corresponding to sequence length, TODO normalize for sequence length occurence\n",
    "seq_len_dict = dict()\n",
    "seq_len_correct = dict()\n",
    "for index, length in predict_df['seq_length'].items():\n",
    "    if length in seq_len_dict:\n",
    "        seq_len_dict[length] += 1\n",
    "        if predict_df.at[index, 'true_label'] == predict_df.at[index, 'pred_label']:\n",
    "            seq_len_correct[length] += 1\n",
    "    else:\n",
    "        seq_len_dict[length] = 1\n",
    "        if predict_df.at[index, 'true_label'] == predict_df.at[index, 'pred_label']:\n",
    "            seq_len_correct[length] = 1\n",
    "        else:\n",
    "            seq_len_correct[length] = 0\n",
    "\n",
    "print(len(seq_len_dict), sum(seq_len_dict.values()))\n",
    "print(seq_len_dict[11])\n",
    "print(seq_len_correct[11])"
   ],
   "metadata": {
    "collapsed": false,
    "ExecuteTime": {
     "start_time": "2023-09-09T10:32:35.805863900Z"
    }
   }
  },
  {
   "cell_type": "code",
   "execution_count": null,
   "outputs": [],
   "source": [
    "correct_matches = dict()\n",
    "for key, value in seq_len_dict.items():\n",
    "    correct_matches[key] = seq_len_correct[key] / value\n",
    "# plot in pyplot seq_len_dict vs seq_len_correct\n",
    "import matplotlib.pyplot as plt\n",
    "\n",
    "plt.xlabel('Sequence Length')\n",
    "plt.ylabel('Accuracy')\n",
    "#label for color\n",
    "plt.title('Accuracy per Sequence Length')\n",
    "\n",
    "\n",
    "plt.colorbar(plt.scatter(list(seq_len_dict.keys()), list(correct_matches.values()), c=list(seq_len_dict.values()), cmap='viridis', label=\"all\"))\n",
    "plt.scatter(list(seq_len_dict.keys()), list(correct_matches.values()), c=list(seq_len_dict.values()), cmap='viridis', label=\"all\")"
   ],
   "metadata": {
    "collapsed": false,
    "ExecuteTime": {
     "start_time": "2023-09-09T10:32:35.806863900Z"
    }
   }
  },
  {
   "cell_type": "markdown",
   "source": [],
   "metadata": {
    "collapsed": false
   }
  },
  {
   "cell_type": "markdown",
   "source": [
    "# TOPK: Error for each class due to sequence length"
   ],
   "metadata": {
    "collapsed": false
   }
  },
  {
   "cell_type": "code",
   "execution_count": null,
   "outputs": [],
   "source": [
    "predict_df.tail(4)"
   ],
   "metadata": {
    "collapsed": false,
    "ExecuteTime": {
     "start_time": "2023-09-09T10:32:35.807863100Z"
    }
   }
  },
  {
   "cell_type": "code",
   "execution_count": null,
   "outputs": [],
   "source": [
    "# calculate error for each class corresponding to sequence length, TODO normalize for sequence length occurence\n",
    "seq_len_dict = dict()\n",
    "seq_len_correct = dict()\n",
    "for index, length in predict_df['seq_length'].items():\n",
    "    if length in seq_len_dict:\n",
    "        seq_len_dict[length] += 1\n",
    "        if predict_df.at[index, 'topK_inference']:\n",
    "            seq_len_correct[length] += 1\n",
    "    else:\n",
    "        seq_len_dict[length] = 1\n",
    "        if predict_df.at[index, 'topK_inference']:\n",
    "            \n",
    "            seq_len_correct[length] = 1\n",
    "        else:\n",
    "            seq_len_correct[length] = 0\n",
    "print(len(seq_len_dict), sum(seq_len_dict.values()))\n",
    "print(seq_len_dict[11])\n",
    "print(seq_len_correct[11])"
   ],
   "metadata": {
    "collapsed": false,
    "ExecuteTime": {
     "start_time": "2023-09-09T10:32:35.809864600Z"
    }
   }
  },
  {
   "cell_type": "code",
   "execution_count": null,
   "outputs": [],
   "source": [
    "correct_matches = dict()\n",
    "for key, value in seq_len_dict.items():\n",
    "    correct_matches[key] = seq_len_correct[key] / value\n",
    "# plot in pyplot seq_len_dict vs seq_len_correct\n",
    "import matplotlib.pyplot as plt\n",
    "\n",
    "plt.xlabel('Sequence Length')\n",
    "plt.ylabel('TopK Accuracy')\n",
    "#label for color\n",
    "plt.title('TopK Accuracy per Sequence Length')\n",
    "\n",
    "\n",
    "plt.colorbar(plt.scatter(list(seq_len_dict.keys()), list(correct_matches.values()), c=list(seq_len_dict.values()), cmap='viridis', label=\"all\"))\n",
    "plt.scatter(list(seq_len_dict.keys()), list(correct_matches.values()), c=list(seq_len_dict.values()), cmap='viridis', label=\"all\")"
   ],
   "metadata": {
    "collapsed": false,
    "ExecuteTime": {
     "start_time": "2023-09-09T10:32:35.810864300Z"
    }
   }
  },
  {
   "cell_type": "code",
   "execution_count": null,
   "outputs": [],
   "source": [
    "from sklearn.metrics import confusion_matrix\n",
    "\n",
    "new_df = pd.DataFrame(columns=['charge','accuracy'])\n",
    "\n",
    "new_df['charge'] = [1,2,3,4,5,6]\n",
    "new_df['precision'] = precision_score(true_labels, predicted_labels, average=None)\n",
    "new_df['recall'] = recall_score(true_labels, predicted_labels, average=None)\n",
    "new_df['f1'] = f1_score(true_labels, predicted_labels, average=None)\n"
   ],
   "metadata": {
    "collapsed": false,
    "ExecuteTime": {
     "start_time": "2023-09-09T10:32:35.811862800Z"
    }
   }
  },
  {
   "cell_type": "code",
   "execution_count": null,
   "outputs": [],
   "source": [
    "new_df # evaluation metrics per charge state (class)"
   ],
   "metadata": {
    "collapsed": false,
    "ExecuteTime": {
     "end_time": "2023-09-09T10:32:35.813861300Z",
     "start_time": "2023-09-09T10:32:35.812863800Z"
    }
   }
  },
  {
   "cell_type": "markdown",
   "source": [
    "# Outputs to compare with prosit"
   ],
   "metadata": {
    "collapsed": false
   }
  },
  {
   "cell_type": "code",
   "execution_count": null,
   "outputs": [],
   "source": [
    "train_df"
   ],
   "metadata": {
    "collapsed": false,
    "ExecuteTime": {
     "start_time": "2023-09-09T10:32:35.813861300Z"
    }
   }
  },
  {
   "cell_type": "code",
   "execution_count": null,
   "outputs": [],
   "source": [
    "train_df = pd.DataFrame(columns=['modified_sequence', 'most_abundant_charge_vector', 'modified_sequence_vector'])\n",
    "train_df['modified_sequence'] = train_ds_embed_raw\n",
    "train_df['most_abundant_charge_vector'] = train_labels_embed.numpy().tolist()\n",
    "train_df['modified_sequence_vector'] = train_ds_embed.numpy().tolist()\n",
    "\n",
    "val_df = pd.DataFrame(columns=['modified_sequence', 'most_abundant_charge_vector', 'modified_sequence_vector'])\n",
    "val_df['modified_sequence'] = val_ds_embed_raw\n",
    "val_df['modified_sequence_vector'] = val_ds_embed.numpy().tolist()\n",
    "val_df['most_abundant_charge_vector'] = val_labels_embed.numpy().tolist()\n",
    "\n",
    "test_df = pd.DataFrame(columns=['modified_sequence', 'most_abundant_charge_vector', 'modified_sequence_vector'])\n",
    "test_df['modified_sequence'] = test_ds_embed_raw\n",
    "test_df['modified_sequence_vector'] = test_ds_embed.numpy().tolist()\n",
    "test_df['most_abundant_charge_vector'] = test_labels_embed.numpy().tolist()"
   ],
   "metadata": {
    "collapsed": false,
    "ExecuteTime": {
     "start_time": "2023-09-09T10:32:35.814862800Z"
    }
   }
  },
  {
   "cell_type": "code",
   "execution_count": null,
   "outputs": [],
   "source": [
    "train_df.to_csv('comparison_files/train_df.tsv', sep=\"\\t\")\n",
    "val_df.to_csv('comparison_files/val_df.tsv', sep=\"\\t\")\n",
    "test_df.to_csv('comparison_files/test_df.tsv', sep=\"\\t\")"
   ],
   "metadata": {
    "collapsed": false,
    "ExecuteTime": {
     "end_time": "2023-09-09T10:32:35.842864700Z",
     "start_time": "2023-09-09T10:32:35.815863300Z"
    }
   }
  },
  {
   "cell_type": "code",
   "execution_count": null,
   "outputs": [],
   "source": [
    "print(len(train_df), len(val_df), len(test_df))"
   ],
   "metadata": {
    "collapsed": false,
    "ExecuteTime": {
     "start_time": "2023-09-09T10:32:35.816863500Z"
    }
   }
  },
  {
   "cell_type": "markdown",
   "source": [
    "# KerasTuner"
   ],
   "metadata": {
    "collapsed": false
   }
  },
  {
   "cell_type": "code",
   "execution_count": null,
   "outputs": [],
   "source": [
    "wandb.init(project='precursor_charge_prediction_kerastuner')"
   ],
   "metadata": {
    "collapsed": false,
    "ExecuteTime": {
     "start_time": "2023-09-09T10:32:35.818862900Z"
    }
   }
  },
  {
   "cell_type": "code",
   "execution_count": null,
   "outputs": [],
   "source": [
    "import keras_tuner\n",
    "from tensorflow import keras\n",
    "from keras import Sequential, Model\n",
    "from keras.layers import Embedding, Flatten, Dense, Conv1D, Conv2D, MaxPooling1D, MaxPooling2D, Input, concatenate, Rescaling\n",
    "\n",
    "def build_model(hp):\n",
    "    model_kerastuner = keras.Sequential([\n",
    "    Embedding(input_dim=voc_len, output_dim=max_len_seq, input_length=max_len_seq),\n",
    "    Flatten(),\n",
    "    Dense(units=hp.Int('dense_1_units', min_value=63, max_value=256, step=16), activation='relu'),\n",
    "    Dense(num_classes, activation=\"softmax\")  # sigmoid for binary classification\n",
    "    ])\n",
    "\n",
    "    learning_rate = hp.Float(\"lr\", min_value=1e-4, max_value=1e-2, sampling=\"log\"),\n",
    "\n",
    "    model_kerastuner.compile(\n",
    "        optimizer=keras.optimizers.Adam(learning_rate=learning_rate),\n",
    "        loss=tf.keras.losses.CategoricalCrossentropy(),\n",
    "        metrics=[\"categorical_accuracy\"])\n",
    "\n",
    "    return model_kerastuner\n",
    "\n",
    "\n",
    "tuner = keras_tuner.RandomSearch(\n",
    "    build_model,\n",
    "    objective='val_loss',\n",
    "    max_trials=5,\n",
    "    overwrite=True,\n",
    "    executions_per_trial=3,\n",
    "    directory='output_tuner', )\n",
    "tuner.search(train_ds_embed, train_labels_embed, epochs=5, batch_size=4096, validation_data=(val_ds_embed, val_labels_embed), callbacks=[WandbCallback()]) #WandbCallback(\n",
    "best_model = tuner.get_best_models()[0]\n",
    "best_model_all = tuner.get_best_models()\n",
    "#hp.Choice('conv_3_kernel', values=[3, 10]), hp.Int('dense_1_units', min_value=32, max_value=128, step=16), hp.Float(\"lr\", min_value=1e-4, max_value=1e-2, sampling=\"log\")"
   ],
   "metadata": {
    "collapsed": false,
    "ExecuteTime": {
     "start_time": "2023-09-09T10:32:35.819862800Z"
    }
   }
  },
  {
   "cell_type": "code",
   "execution_count": null,
   "outputs": [],
   "source": [
    "best_model.summary()"
   ],
   "metadata": {
    "collapsed": false,
    "ExecuteTime": {
     "start_time": "2023-09-09T10:32:35.820862800Z"
    }
   }
  },
  {
   "cell_type": "markdown",
   "source": [
    "# IGNORE FROM HERE"
   ],
   "metadata": {
    "collapsed": false
   }
  },
  {
   "cell_type": "markdown",
   "source": [
    "## Check in with Franzi's group for reporting"
   ],
   "metadata": {
    "collapsed": false
   }
  },
  {
   "cell_type": "markdown",
   "source": [
    "### Multilable Model\n",
    "#### WIP in precursor_charge_predictor"
   ],
   "metadata": {
    "collapsed": false,
    "ExecuteTime": {
     "end_time": "2023-07-24T12:27:56.122188900Z",
     "start_time": "2023-07-24T12:27:55.994945600Z"
    }
   }
  },
  {
   "cell_type": "code",
   "execution_count": null,
   "outputs": [],
   "source": [],
   "metadata": {
    "collapsed": false,
    "ExecuteTime": {
     "start_time": "2023-09-09T10:32:35.821862200Z"
    }
   }
  },
  {
   "cell_type": "markdown",
   "source": [
    "## Model Testing\n",
    "### check if models only predict charge 2 or also other charges. Due to 'overrepresentation' the best bet for the model could be to only output charge state 2"
   ],
   "metadata": {
    "collapsed": false,
    "ExecuteTime": {
     "end_time": "2023-07-24T12:28:17.283401900Z",
     "start_time": "2023-07-24T12:28:17.212145Z"
    }
   }
  },
  {
   "cell_type": "code",
   "execution_count": null,
   "outputs": [],
   "source": [],
   "metadata": {
    "collapsed": false,
    "ExecuteTime": {
     "start_time": "2023-09-09T10:32:35.822862Z"
    }
   }
  },
  {
   "cell_type": "markdown",
   "source": [
    "## Hyperparameter Tuning"
   ],
   "metadata": {
    "collapsed": false
   }
  },
  {
   "cell_type": "code",
   "execution_count": null,
   "outputs": [],
   "source": [],
   "metadata": {
    "collapsed": false,
    "ExecuteTime": {
     "start_time": "2023-09-09T10:32:35.823862100Z"
    }
   }
  },
  {
   "cell_type": "markdown",
   "source": [],
   "metadata": {
    "collapsed": false
   }
  },
  {
   "cell_type": "code",
   "execution_count": null,
   "outputs": [],
   "source": [],
   "metadata": {
    "collapsed": false,
    "ExecuteTime": {
     "start_time": "2023-09-09T10:32:35.824862400Z"
    }
   }
  },
  {
   "cell_type": "markdown",
   "source": [
    "# Inference"
   ],
   "metadata": {
    "collapsed": false
   }
  },
  {
   "cell_type": "code",
   "execution_count": null,
   "outputs": [],
   "source": [
    "batches_parquet[file_list[1]][\"precursor_charge\"].value_counts()"
   ],
   "metadata": {
    "collapsed": false,
    "ExecuteTime": {
     "start_time": "2023-09-09T10:32:35.825862300Z"
    }
   }
  },
  {
   "cell_type": "code",
   "execution_count": null,
   "outputs": [],
   "source": [
    "last_model = keras.models.load_model('precursor_charge_prediction_model_embed/history_embed_150epoch_08102023.h5')"
   ],
   "metadata": {
    "collapsed": false,
    "ExecuteTime": {
     "start_time": "2023-09-09T10:32:35.826864400Z"
    }
   }
  },
  {
   "cell_type": "code",
   "execution_count": null,
   "outputs": [],
   "source": [
    "#layers = [layer.get_weights() for layer in last_model.layers]"
   ],
   "metadata": {
    "collapsed": false,
    "ExecuteTime": {
     "start_time": "2023-09-09T10:32:35.827863800Z"
    }
   }
  },
  {
   "cell_type": "code",
   "execution_count": null,
   "outputs": [],
   "source": [
    "batches_parquet.keys()"
   ],
   "metadata": {
    "collapsed": false,
    "ExecuteTime": {
     "start_time": "2023-09-09T10:32:35.828864300Z"
    }
   }
  },
  {
   "cell_type": "code",
   "execution_count": null,
   "outputs": [],
   "source": [
    "# Make validation data\n",
    "inference_df = batches_parquet[file_list[1]][[\"precursor_charge\", \"modified_sequence_vector\", \"precursor_intensity\"]].copy()"
   ],
   "metadata": {
    "collapsed": false,
    "ExecuteTime": {
     "start_time": "2023-09-09T10:32:35.829861Z"
    }
   }
  },
  {
   "cell_type": "code",
   "execution_count": null,
   "outputs": [],
   "source": [
    "inference_df.head(4)"
   ],
   "metadata": {
    "collapsed": false,
    "ExecuteTime": {
     "start_time": "2023-09-09T10:32:35.830863Z"
    }
   }
  },
  {
   "cell_type": "code",
   "execution_count": null,
   "outputs": [],
   "source": [
    "[len(i) for i in inference_df[\"modified_sequence_vector\"] if len(i) != 50]"
   ],
   "metadata": {
    "collapsed": false,
    "ExecuteTime": {
     "start_time": "2023-09-09T10:32:35.830863Z"
    }
   }
  },
  {
   "cell_type": "code",
   "execution_count": null,
   "outputs": [],
   "source": [
    "inference_df = inference_df[inference_df['modified_sequence_vector'].apply(lambda x: len(x) <= 50)]"
   ],
   "metadata": {
    "collapsed": false,
    "ExecuteTime": {
     "start_time": "2023-09-09T10:32:35.831862800Z"
    }
   }
  },
  {
   "cell_type": "markdown",
   "source": [],
   "metadata": {
    "collapsed": false
   }
  },
  {
   "cell_type": "code",
   "execution_count": null,
   "outputs": [],
   "source": [
    "[len(i) for i in inference_df[\"modified_sequence_vector\"] if len(i) != 50]"
   ],
   "metadata": {
    "collapsed": false,
    "ExecuteTime": {
     "start_time": "2023-09-09T10:32:35.832863Z"
    }
   }
  },
  {
   "cell_type": "code",
   "execution_count": null,
   "outputs": [],
   "source": [
    "[i for i in inference_df[\"precursor_charge\"] if i not in [2,3,4]]"
   ],
   "metadata": {
    "collapsed": false,
    "ExecuteTime": {
     "start_time": "2023-09-09T10:32:35.834863700Z"
    }
   }
  },
  {
   "cell_type": "code",
   "execution_count": null,
   "outputs": [],
   "source": [
    "[i for i in inference_df[\"precursor_intensity\"] if i > 1000000000000]"
   ],
   "metadata": {
    "collapsed": false,
    "ExecuteTime": {
     "start_time": "2023-09-09T10:32:35.835862500Z"
    }
   }
  },
  {
   "cell_type": "code",
   "execution_count": null,
   "outputs": [],
   "source": [
    "inference_df"
   ],
   "metadata": {
    "collapsed": false,
    "ExecuteTime": {
     "start_time": "2023-09-09T10:32:35.836862900Z"
    }
   }
  },
  {
   "cell_type": "markdown",
   "source": [],
   "metadata": {
    "collapsed": false
   }
  },
  {
   "cell_type": "code",
   "execution_count": null,
   "outputs": [],
   "source": [
    "inference_df[list(range(0, 50))] = pd.DataFrame(inference_df[\"modified_sequence_vector\"].tolist(), index= inference_df.index)"
   ],
   "metadata": {
    "collapsed": false,
    "ExecuteTime": {
     "start_time": "2023-09-09T10:32:35.837862600Z"
    }
   }
  },
  {
   "cell_type": "code",
   "execution_count": null,
   "outputs": [],
   "source": [
    "inference_df.drop(\"modified_sequence_vector\", axis=1, inplace=True)"
   ],
   "metadata": {
    "collapsed": false,
    "ExecuteTime": {
     "start_time": "2023-09-09T10:32:35.838861500Z"
    }
   }
  },
  {
   "cell_type": "code",
   "execution_count": null,
   "outputs": [],
   "source": [
    "inference_df.head(4)"
   ],
   "metadata": {
    "collapsed": false,
    "ExecuteTime": {
     "start_time": "2023-09-09T10:32:35.839860Z"
    }
   }
  },
  {
   "cell_type": "code",
   "execution_count": null,
   "outputs": [],
   "source": [
    "inference_ds = tf.convert_to_tensor(inference_df)"
   ],
   "metadata": {
    "collapsed": false,
    "ExecuteTime": {
     "start_time": "2023-09-09T10:32:35.839860Z"
    }
   }
  },
  {
   "cell_type": "code",
   "execution_count": null,
   "outputs": [],
   "source": [
    "inference_target = inference_ds[:, 0]\n",
    "inference_features = inference_ds[:, 1:]"
   ],
   "metadata": {
    "collapsed": false,
    "ExecuteTime": {
     "start_time": "2023-09-09T10:32:35.840860300Z"
    }
   }
  },
  {
   "cell_type": "code",
   "execution_count": null,
   "outputs": [],
   "source": [
    "inference_target_labels =  np.array([one_hot_precursor(i, charges=charge_ranges) for i in inference_target])"
   ],
   "metadata": {
    "collapsed": false,
    "ExecuteTime": {
     "start_time": "2023-09-09T10:32:35.841866Z"
    }
   }
  },
  {
   "cell_type": "code",
   "execution_count": null,
   "outputs": [],
   "source": [
    "results = model_cce.evaluate(inference_features, inference_target_labels, batch_size=256)\n",
    "print(\"test loss, test acc:\", results)"
   ],
   "metadata": {
    "collapsed": false,
    "ExecuteTime": {
     "start_time": "2023-09-09T10:32:35.842864700Z"
    }
   }
  },
  {
   "cell_type": "markdown",
   "source": [
    "## Evaluate the models\n",
    "- confusion matrix\n",
    "- accuracy\n",
    "- loss"
   ],
   "metadata": {
    "collapsed": false
   }
  },
  {
   "cell_type": "markdown",
   "source": [
    "Confusion Matrix"
   ],
   "metadata": {
    "collapsed": false
   }
  },
  {
   "cell_type": "code",
   "execution_count": null,
   "outputs": [],
   "source": [
    "import sklearn\n",
    "matrix = sklearn.metrics.confusion_matrix(train_ds_labels.argmax(axis=1), inference_target_labels.argmax(axis=1))"
   ],
   "metadata": {
    "collapsed": false,
    "ExecuteTime": {
     "end_time": "2023-09-09T10:32:36.514709400Z",
     "start_time": "2023-09-09T10:32:35.843864500Z"
    }
   }
  },
  {
   "cell_type": "code",
   "execution_count": null,
   "outputs": [],
   "source": [
    "#!pip install scikit-learn\n",
    "#!pip install numpy --upgrade\n",
    "#!pip install pandas --upgrade\n",
    "#!pip install matplotlib --upgrade\n",
    "from sklearn.metrics import confusion_matrix\n",
    "from sklearn.metrics import classification_report\n",
    "import pandas as pd\n",
    "#do_predictions = model.predict(test_ds)\n",
    "\n",
    "y_pred = []\n",
    "y_true = []\n",
    "\n",
    "# iterate over the dataset\n",
    "for index, i in enumerate(inference_ds):   # use dataset.unbatch() with repeat\n",
    "   print(inference_target_labels[index])\n",
    "   print(inference_features[index])\n",
    "   # append true labels\n",
    "   y_true.append(inference_target_labels[index])\n",
    "   # compute predictions\n",
    "   preds = model_cce.predict(inference_features[index])\n",
    "   # append predicted labels\n",
    "   y_pred.append(np.argmax(preds, axis = -1))\n",
    "# convert the true and predicted labels into tensors\n",
    "true_labels = tf.cast(tf.concat([item for item in y_true], axis = 0), tf.float32)\n",
    "predicted_labels = tf.cast(tf.concat([item for item in y_pred], axis = 0), tf.float32)\n",
    "\n",
    "\n",
    "cm = confusion_matrix(true_labels, predicted_labels)\n",
    "#print(cm)\n",
    "report = classification_report(true_labels,predicted_labels, target_names=class_names)\n",
    "\n",
    "report_dict = classification_report(true_labels, predicted_labels, output_dict=True)\n",
    "#print(report_dict)\n",
    "print(report)\n",
    "\n",
    "#pd.DataFrame(report_dict).transpose()\n"
   ],
   "metadata": {
    "collapsed": false,
    "ExecuteTime": {
     "start_time": "2023-09-09T10:32:35.843864500Z"
    }
   }
  },
  {
   "cell_type": "markdown",
   "source": [
    "Accuracy/ Sens/ Spec"
   ],
   "metadata": {
    "collapsed": false,
    "ExecuteTime": {
     "end_time": "2023-07-24T12:31:25.645324800Z",
     "start_time": "2023-07-24T12:31:25.552652300Z"
    }
   }
  },
  {
   "cell_type": "code",
   "execution_count": null,
   "outputs": [],
   "source": [
    "import keras.backend as K\n",
    "def matthews_correlation(y_true, y_pred):\n",
    "    #print(y_pred.shape, y_true.shape)\n",
    "    y_pred_pos = K.round(K.clip(y_pred, 0, 1))\n",
    "    y_pred_neg = 1 - y_pred_pos\n",
    "\n",
    "    y_pos = K.round(K.clip(y_true, 0, 1))\n",
    "    y_neg = 1 - y_pos\n",
    "\n",
    "    tp = K.sum(K.cast(y_pos * y_pred_pos, 'float32'))\n",
    "    tn = K.sum(K.cast(y_neg * y_pred_neg, 'float32'))\n",
    "    fp = K.sum(K.cast(y_neg * y_pred_pos, 'float32'))\n",
    "    fn = K.sum(K.cast(y_pos * y_pred_neg, 'float32'))\n",
    "\n",
    "    print(\"OVERALL:\")\n",
    "    print(\" Accuracy \", ((tp + tn) / (tp + tn + fp + fn)).numpy())\n",
    "    print(\" Sensitivity \", (tp / (tp + fn)).numpy())\n",
    "    print(\" Specificity \", (tn / (tn + fp)).numpy())\n",
    "\n",
    "    numerator = (tp * tn - fp * fn)\n",
    "    #print(tp.numpy(), fp.numpy())\n",
    "    test = (((tp + fp) * (tp + fn) * (tn + fp) * (tn + fn)))\n",
    "    #print(test)\n",
    "    denominator = K.sqrt(K.cast(test, 'float32'))\n",
    "\n",
    "    return numerator / (denominator + K.epsilon())\n",
    "\n",
    "\n",
    "#print(true_labels, predicted_labels)\n",
    "print(\" matthews_correlation(rounded): \", (matthews_correlation(true_labels, predicted_labels).numpy()))"
   ],
   "metadata": {
    "collapsed": false,
    "ExecuteTime": {
     "start_time": "2023-09-09T10:32:35.844863300Z"
    }
   }
  },
  {
   "cell_type": "markdown",
   "source": [
    "MCC"
   ],
   "metadata": {
    "collapsed": false,
    "ExecuteTime": {
     "end_time": "2023-07-24T12:31:59.929377Z",
     "start_time": "2023-07-24T12:31:45.294917300Z"
    }
   }
  },
  {
   "cell_type": "code",
   "execution_count": null,
   "outputs": [],
   "source": [
    "from sklearn.metrics import matthews_corrcoef\n",
    "\n",
    "print(\"matthews_correlation:\", matthews_corrcoef(true_labels, predicted_labels))"
   ],
   "metadata": {
    "collapsed": false,
    "ExecuteTime": {
     "start_time": "2023-09-09T10:32:35.845859900Z"
    }
   }
  },
  {
   "cell_type": "markdown",
   "source": [
    "Direct eval:"
   ],
   "metadata": {
    "collapsed": false
   }
  },
  {
   "cell_type": "code",
   "execution_count": null,
   "outputs": [],
   "source": [
    "from tensorflow.keras.metrics import Precision, Recall, BinaryAccuracy\n",
    "\n",
    "eval_prec = Precision()\n",
    "eval_rec = Recall()\n",
    "eval_acc = BinaryAccuracy()"
   ],
   "metadata": {
    "collapsed": false,
    "ExecuteTime": {
     "start_time": "2023-09-09T10:32:35.846860400Z"
    }
   }
  },
  {
   "cell_type": "code",
   "execution_count": null,
   "outputs": [],
   "source": [
    "for batch in test_ds.as_numpy_iterator():\n",
    "    X, y = batch\n",
    "    y = tf.keras.utils.to_categorical(y, num_classes=13, dtype='int')\n",
    "    yhat = model.predict(X)\n",
    "    eval_prec.update_state(y, yhat)\n",
    "    eval_rec.update_state(y, yhat)\n",
    "    eval_acc.update_state(y, yhat)"
   ],
   "metadata": {
    "collapsed": false,
    "ExecuteTime": {
     "start_time": "2023-09-09T10:32:35.846860400Z"
    }
   }
  },
  {
   "cell_type": "code",
   "execution_count": null,
   "outputs": [],
   "source": [
    "print(f'Precision: {eval_prec.result().numpy()}, Recall: {eval_rec.result().numpy()}, Accuracy: {eval_acc.result().numpy()}')"
   ],
   "metadata": {
    "collapsed": false,
    "ExecuteTime": {
     "start_time": "2023-09-09T10:32:35.847862400Z"
    }
   }
  }
 ],
 "metadata": {
  "kernelspec": {
   "display_name": "Python 3",
   "language": "python",
   "name": "python3"
  },
  "language_info": {
   "codemirror_mode": {
    "name": "ipython",
    "version": 2
   },
   "file_extension": ".py",
   "mimetype": "text/x-python",
   "name": "python",
   "nbconvert_exporter": "python",
   "pygments_lexer": "ipython2",
   "version": "2.7.6"
  }
 },
 "nbformat": 4,
 "nbformat_minor": 0
}

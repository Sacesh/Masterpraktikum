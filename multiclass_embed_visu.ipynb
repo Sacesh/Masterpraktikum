{
 "cells": [
  {
   "cell_type": "markdown",
   "source": [
    "# Playground to implement W&B as well as start hyperparameter-tuning"
   ],
   "metadata": {
    "collapsed": false
   }
  },
  {
   "cell_type": "markdown",
   "source": [
    "# WanDB"
   ],
   "metadata": {
    "collapsed": false
   }
  },
  {
   "cell_type": "code",
   "execution_count": 1,
   "outputs": [],
   "source": [
    "#%pip install wandb"
   ],
   "metadata": {
    "collapsed": false,
    "ExecuteTime": {
     "end_time": "2023-08-17T14:38:42.083162700Z",
     "start_time": "2023-08-17T14:38:41.606010500Z"
    }
   }
  },
  {
   "cell_type": "code",
   "execution_count": 1,
   "outputs": [],
   "source": [
    "import subprocess\n",
    "import wandb\n",
    "from wandb.keras import WandbCallback\n",
    "import tensorflow as tf\n",
    "import os"
   ],
   "metadata": {
    "collapsed": false,
    "ExecuteTime": {
     "end_time": "2023-09-05T10:06:53.992887500Z",
     "start_time": "2023-09-05T10:06:48.538091500Z"
    }
   }
  },
  {
   "cell_type": "code",
   "execution_count": 2,
   "outputs": [
    {
     "data": {
      "text/plain": "0"
     },
     "execution_count": 2,
     "metadata": {},
     "output_type": "execute_result"
    }
   ],
   "source": [
    "subprocess.call(['wandb', 'login', '4e8d3dcb1584ad129b3b49ccc34f65b20116ae54'])"
   ],
   "metadata": {
    "collapsed": false,
    "ExecuteTime": {
     "end_time": "2023-09-05T10:07:07.120647700Z",
     "start_time": "2023-09-05T10:07:02.562590200Z"
    }
   }
  },
  {
   "cell_type": "code",
   "execution_count": 3,
   "outputs": [
    {
     "name": "stderr",
     "output_type": "stream",
     "text": [
      "\u001B[34m\u001B[1mwandb\u001B[0m: Currently logged in as: \u001B[33mnkopp\u001B[0m (\u001B[33mteam-bioinf\u001B[0m). Use \u001B[1m`wandb login --relogin`\u001B[0m to force relogin\n"
     ]
    },
    {
     "data": {
      "text/plain": "<IPython.core.display.HTML object>",
      "text/html": "wandb version 0.15.9 is available!  To upgrade, please run:\n $ pip install wandb --upgrade"
     },
     "metadata": {},
     "output_type": "display_data"
    },
    {
     "data": {
      "text/plain": "<IPython.core.display.HTML object>",
      "text/html": "Tracking run with wandb version 0.15.5"
     },
     "metadata": {},
     "output_type": "display_data"
    },
    {
     "data": {
      "text/plain": "<IPython.core.display.HTML object>",
      "text/html": "Run data is saved locally in <code>C:\\Users\\micro\\OneDrive\\Dokumente\\GitHub\\Masterpraktikum\\wandb\\run-20230905_120712-ogltkszf</code>"
     },
     "metadata": {},
     "output_type": "display_data"
    },
    {
     "data": {
      "text/plain": "<IPython.core.display.HTML object>",
      "text/html": "Syncing run <strong><a href='https://wandb.ai/team-bioinf/embed_visualisation/runs/ogltkszf' target=\"_blank\">royal-microwave-3</a></strong> to <a href='https://wandb.ai/team-bioinf/embed_visualisation' target=\"_blank\">Weights & Biases</a> (<a href='https://wandb.me/run' target=\"_blank\">docs</a>)<br/>"
     },
     "metadata": {},
     "output_type": "display_data"
    },
    {
     "data": {
      "text/plain": "<IPython.core.display.HTML object>",
      "text/html": " View project at <a href='https://wandb.ai/team-bioinf/embed_visualisation' target=\"_blank\">https://wandb.ai/team-bioinf/embed_visualisation</a>"
     },
     "metadata": {},
     "output_type": "display_data"
    },
    {
     "data": {
      "text/plain": "<IPython.core.display.HTML object>",
      "text/html": " View run at <a href='https://wandb.ai/team-bioinf/embed_visualisation/runs/ogltkszf' target=\"_blank\">https://wandb.ai/team-bioinf/embed_visualisation/runs/ogltkszf</a>"
     },
     "metadata": {},
     "output_type": "display_data"
    },
    {
     "data": {
      "text/html": "<button onClick=\"this.nextSibling.style.display='block';this.style.display='none';\">Display W&B run</button><iframe src='https://wandb.ai/team-bioinf/embed_visualisation/runs/ogltkszf?jupyter=true' style='border:none;width:100%;height:420px;display:none;'></iframe>",
      "text/plain": "<wandb.sdk.wandb_run.Run at 0x18f55499350>"
     },
     "execution_count": 3,
     "metadata": {},
     "output_type": "execute_result"
    }
   ],
   "source": [
    "wandb.init(project='embed_visualisation')"
   ],
   "metadata": {
    "collapsed": false,
    "ExecuteTime": {
     "end_time": "2023-09-05T10:07:14.505546600Z",
     "start_time": "2023-09-05T10:07:09.527225900Z"
    }
   }
  },
  {
   "cell_type": "markdown",
   "source": [],
   "metadata": {
    "collapsed": false
   }
  },
  {
   "cell_type": "markdown",
   "source": [],
   "metadata": {
    "collapsed": false
   }
  },
  {
   "cell_type": "markdown",
   "source": [
    "## Setup"
   ],
   "metadata": {
    "collapsed": false
   }
  },
  {
   "cell_type": "code",
   "execution_count": null,
   "outputs": [],
   "source": [
    "#%pip install seaborn"
   ],
   "metadata": {
    "collapsed": false
   }
  },
  {
   "cell_type": "code",
   "execution_count": 4,
   "outputs": [],
   "source": [
    "import re\n",
    "import os\n",
    "import random\n",
    "import numpy as np\n",
    "import pandas as pd\n",
    "import tensorflow as tf\n",
    "import matplotlib.pyplot as plt\n",
    "from sklearn.model_selection import train_test_split\n",
    "from tensorflow.keras.callbacks import ModelCheckpoint\n",
    "from sklearn.utils import class_weight\n",
    "from sklearn.model_selection import StratifiedShuffleSplit\n",
    "from sklearn.metrics import confusion_matrix, classification_report\n",
    "import seaborn as sns\n",
    "import wandb\n",
    "from wandb.keras import WandbCallback\n",
    "import keras"
   ],
   "metadata": {
    "collapsed": false,
    "ExecuteTime": {
     "end_time": "2023-09-05T10:07:18.983697800Z",
     "start_time": "2023-09-05T10:07:18.564533100Z"
    }
   }
  },
  {
   "cell_type": "code",
   "execution_count": 5,
   "outputs": [],
   "source": [
    "train_datapath = [\"data/\"+file for file in os.listdir('data') if file.endswith(\".parquet\")][0]\n",
    "batch_size = 32"
   ],
   "metadata": {
    "collapsed": false,
    "ExecuteTime": {
     "end_time": "2023-09-05T10:07:21.133510900Z",
     "start_time": "2023-09-05T10:07:20.885676200Z"
    }
   }
  },
  {
   "cell_type": "markdown",
   "source": [
    "# Dataset batches + split"
   ],
   "metadata": {
    "collapsed": false
   }
  },
  {
   "cell_type": "code",
   "execution_count": 6,
   "outputs": [],
   "source": [
    "import re\n",
    "\n",
    "def one_hot_precursor(int_value, charges=[1,2,3,4,5,6]):\n",
    "    \"\"\"\n",
    "    One-hot encodes the precursor charge\n",
    "    :param df: dataframe\n",
    "    :param max_charge_included: int\n",
    "    :return: dataframe\n",
    "    \"\"\"\n",
    "    one_hot = [1 if x == int_value else 0 for x in charges]\n",
    "\n",
    "    return one_hot"
   ],
   "metadata": {
    "collapsed": false,
    "ExecuteTime": {
     "end_time": "2023-09-05T10:07:22.959067900Z",
     "start_time": "2023-09-05T10:07:22.736126200Z"
    }
   }
  },
  {
   "cell_type": "code",
   "execution_count": 7,
   "outputs": [
    {
     "name": "stdout",
     "output_type": "stream",
     "text": [
      "data/Thermo_SRM_Pool_meta_data.parquet\n"
     ]
    }
   ],
   "source": [
    "file_list = [\"data/\"+file for file in os.listdir('data') if file.endswith('.parquet')]\n",
    "print(file_list[0])"
   ],
   "metadata": {
    "collapsed": false,
    "ExecuteTime": {
     "end_time": "2023-09-05T10:07:24.748828700Z",
     "start_time": "2023-09-05T10:07:24.413524400Z"
    }
   }
  },
  {
   "cell_type": "markdown",
   "source": [
    "### import parquet files, drop all columns we dont need for training, one-hot encode precursor charge, translate sequence"
   ],
   "metadata": {
    "collapsed": false
   }
  },
  {
   "cell_type": "code",
   "execution_count": 8,
   "outputs": [],
   "source": [
    "batches_parquet = dict()\n",
    "counter = 0\n",
    "for file in file_list:\n",
    "    df = pd.read_parquet(file, engine='fastparquet')\n",
    "    # drop all columns we dont need for training\n",
    "    for column in df.columns:\n",
    "        if column not in [\"modified_sequence\",\"precursor_intensity\", \"precursor_charge\"]:\n",
    "            df.drop(column, axis=1, inplace=True)\n",
    "    charge_ranges = [1, 2, 3, 4, 5, 6] # TODO SET RANGES\n",
    "    df = df[df[\"precursor_charge\"].isin(charge_ranges)] # remove 7+ charge states // only take charge states 2,3,4\n",
    "    df = df.dropna(subset=['precursor_intensity']) # drop rows with no precursor intensity\n",
    "    batches_parquet[file] = df\n",
    "    counter += 1\n",
    "    #if counter > 1:\n",
    "    #    break # TODO REMOVE BREAK FOR FIRST FILE IN LIST"
   ],
   "metadata": {
    "collapsed": false,
    "ExecuteTime": {
     "end_time": "2023-09-05T10:08:14.622258100Z",
     "start_time": "2023-09-05T10:07:27.151766500Z"
    }
   }
  },
  {
   "cell_type": "code",
   "execution_count": 9,
   "outputs": [],
   "source": [
    "vocabulary = []\n",
    "vocabulary+=list('XACDEFGHIKLMNPQRSTVWY')\n",
    "max_len_seq = 0\n",
    "\n",
    "for df in batches_parquet.values():\n",
    "    if max_len_seq < df['modified_sequence'].str.len().max():\n",
    "        max_len_seq = df['modified_sequence'].str.len().max()\n",
    "    annotations = re.findall(r'(\\w\\[UNIMOD:\\d+\\])', ' '.join(df['modified_sequence']))\n",
    "    #annotations = re.findall(r'[A-Z]\\[[^\\]]*\\]|.', ' '.join(df['modified_sequence']))\n",
    "    for item in annotations:\n",
    "        if item not in vocabulary:\n",
    "                vocabulary.append(item)"
   ],
   "metadata": {
    "collapsed": false,
    "ExecuteTime": {
     "end_time": "2023-09-05T10:09:13.988984600Z",
     "start_time": "2023-09-05T10:08:23.971085Z"
    }
   }
  },
  {
   "cell_type": "code",
   "execution_count": 10,
   "outputs": [
    {
     "name": "stdout",
     "output_type": "stream",
     "text": [
      "['X', 'A', 'C', 'D', 'E', 'F', 'G', 'H', 'I', 'K', 'L', 'M', 'N', 'P', 'Q', 'R', 'S', 'T', 'V', 'W', 'Y', 'C[UNIMOD:4]', 'M[UNIMOD:35]']\n"
     ]
    },
    {
     "data": {
      "text/plain": "23"
     },
     "execution_count": 10,
     "metadata": {},
     "output_type": "execute_result"
    }
   ],
   "source": [
    "print(vocabulary)\n",
    "voc_len = len(vocabulary)\n",
    "voc_len"
   ],
   "metadata": {
    "collapsed": false,
    "ExecuteTime": {
     "end_time": "2023-09-05T10:09:14.242591100Z",
     "start_time": "2023-09-05T10:09:13.983990400Z"
    }
   }
  },
  {
   "cell_type": "code",
   "execution_count": 11,
   "outputs": [],
   "source": [
    "num_classes = len(charge_ranges)\n",
    "class_names = charge_ranges"
   ],
   "metadata": {
    "collapsed": false,
    "ExecuteTime": {
     "end_time": "2023-09-05T10:09:14.453519100Z",
     "start_time": "2023-09-05T10:09:14.214809700Z"
    }
   }
  },
  {
   "cell_type": "code",
   "execution_count": 12,
   "outputs": [
    {
     "data": {
      "text/plain": "      modified_sequence  precursor_charge  precursor_intensity\n0  LPGSLETYVEQEQGENANDR                 2           29525630.0\n1       HGSLQEYLQNDTGSK                 2           13188580.0\n2        VEEEEEINSELTAR                 2           20663460.0\n3  LPGSLETYVEQEQGENANDR                 2           19884630.0\n4  NSSTAEINETTTSSTDFLAR                 2           12804420.0",
      "text/html": "<div>\n<style scoped>\n    .dataframe tbody tr th:only-of-type {\n        vertical-align: middle;\n    }\n\n    .dataframe tbody tr th {\n        vertical-align: top;\n    }\n\n    .dataframe thead th {\n        text-align: right;\n    }\n</style>\n<table border=\"1\" class=\"dataframe\">\n  <thead>\n    <tr style=\"text-align: right;\">\n      <th></th>\n      <th>modified_sequence</th>\n      <th>precursor_charge</th>\n      <th>precursor_intensity</th>\n    </tr>\n  </thead>\n  <tbody>\n    <tr>\n      <th>0</th>\n      <td>LPGSLETYVEQEQGENANDR</td>\n      <td>2</td>\n      <td>29525630.0</td>\n    </tr>\n    <tr>\n      <th>1</th>\n      <td>HGSLQEYLQNDTGSK</td>\n      <td>2</td>\n      <td>13188580.0</td>\n    </tr>\n    <tr>\n      <th>2</th>\n      <td>VEEEEEINSELTAR</td>\n      <td>2</td>\n      <td>20663460.0</td>\n    </tr>\n    <tr>\n      <th>3</th>\n      <td>LPGSLETYVEQEQGENANDR</td>\n      <td>2</td>\n      <td>19884630.0</td>\n    </tr>\n    <tr>\n      <th>4</th>\n      <td>NSSTAEINETTTSSTDFLAR</td>\n      <td>2</td>\n      <td>12804420.0</td>\n    </tr>\n  </tbody>\n</table>\n</div>"
     },
     "execution_count": 12,
     "metadata": {},
     "output_type": "execute_result"
    }
   ],
   "source": [
    "batches_parquet[file_list[0]].head()"
   ],
   "metadata": {
    "collapsed": false,
    "ExecuteTime": {
     "end_time": "2023-09-05T10:09:14.765280100Z",
     "start_time": "2023-09-05T10:09:14.454519Z"
    }
   }
  },
  {
   "cell_type": "code",
   "execution_count": 14,
   "outputs": [
    {
     "data": {
      "text/plain": "['data/Thermo_SRM_Pool_meta_data.parquet',\n 'data/TUM_aspn_meta_data.parquet',\n 'data/TUM_first_pool_meta_data.parquet',\n 'data/TUM_HLA2_meta_data.parquet',\n 'data/TUM_HLA_meta_data.parquet',\n 'data/TUM_isoform_meta_data.parquet',\n 'data/TUM_lysn_meta_data.parquet',\n 'data/TUM_missing_first_meta_data.parquet',\n 'data/TUM_proteo_TMT_meta_data.parquet',\n 'data/TUM_second_addon_meta_data.parquet',\n 'data/TUM_second_pool_meta_data.parquet',\n 'data/TUM_third_pool_meta_data.parquet']"
     },
     "execution_count": 14,
     "metadata": {},
     "output_type": "execute_result"
    }
   ],
   "source": [
    "file_list"
   ],
   "metadata": {
    "collapsed": false,
    "ExecuteTime": {
     "end_time": "2023-09-04T13:55:42.399960200Z",
     "start_time": "2023-09-04T13:55:42.241496100Z"
    }
   }
  },
  {
   "cell_type": "code",
   "execution_count": 15,
   "outputs": [
    {
     "data": {
      "text/plain": "2    4331294\n3    1523398\n4     115577\n5       2723\n1       1022\n6        143\nName: precursor_charge, dtype: int64"
     },
     "execution_count": 15,
     "metadata": {},
     "output_type": "execute_result"
    }
   ],
   "source": [
    "batches_parquet[file_list[0]][\"precursor_charge\"].value_counts()"
   ],
   "metadata": {
    "collapsed": false,
    "ExecuteTime": {
     "end_time": "2023-09-04T13:55:44.587906900Z",
     "start_time": "2023-09-04T13:55:44.452573Z"
    }
   }
  },
  {
   "cell_type": "markdown",
   "source": [
    "# Normalisieren:"
   ],
   "metadata": {
    "collapsed": false
   }
  },
  {
   "cell_type": "code",
   "execution_count": 13,
   "outputs": [],
   "source": [
    "def normalize_for_most_abundant(df_charge_list, df_intensity_list):\n",
    "    # Get the index of the most abundant precursor intensity\n",
    "    charge_dict = dict()\n",
    "    for index, i in enumerate(df_charge_list):\n",
    "        charge_dict[i] = []\n",
    "        charge_dict[i].append(df_intensity_list[index])\n",
    "\n",
    "    # Normalize the precursor intensity based on the most abundant precursor intensity\n",
    "    for key, value in charge_dict.items():\n",
    "        if len(value) > 1:\n",
    "         charge_dict[key] = sum(value) - min(value) / (max(value) - min(value))\n",
    "\n",
    "    # convert list of one float to float values\n",
    "    charge_dict = {key: value[0] for key, value in charge_dict.items()}\n",
    "\n",
    "    return charge_dict"
   ],
   "metadata": {
    "collapsed": false,
    "ExecuteTime": {
     "end_time": "2023-09-05T10:09:14.980824700Z",
     "start_time": "2023-09-05T10:09:14.732768800Z"
    }
   }
  },
  {
   "cell_type": "code",
   "execution_count": 14,
   "outputs": [],
   "source": [
    "def get_most_abundant(df_charge_list, df_intensity_list, distributions=False):\n",
    "    # Get the index of the most abundant precursor intensity\n",
    "    charge_dict = dict()\n",
    "    for index, i in enumerate(df_charge_list):\n",
    "        if i not in charge_dict:\n",
    "            charge_dict[i] = df_intensity_list[index]\n",
    "        else:\n",
    "            charge_dict[i] += df_intensity_list[index]\n",
    "    if distributions:\n",
    "        #print(charge_dict)\n",
    "        return charge_dict\n",
    "    else:\n",
    "        return max(charge_dict, key=charge_dict.get)\n"
   ],
   "metadata": {
    "collapsed": false,
    "ExecuteTime": {
     "end_time": "2023-09-05T10:09:15.183808900Z",
     "start_time": "2023-09-05T10:09:14.971827100Z"
    }
   }
  },
  {
   "cell_type": "code",
   "execution_count": 15,
   "outputs": [
    {
     "name": "stderr",
     "output_type": "stream",
     "text": [
      "C:\\Users\\micro\\AppData\\Local\\Temp\\ipykernel_12520\\2139590162.py:4: FutureWarning: Indexing with multiple keys (implicitly converted to a tuple of keys) will be deprecated, use a list instead.\n",
      "  df_dict[file] = batches_parquet[file].groupby(\"modified_sequence\")[\"precursor_charge\", \"precursor_intensity\"].agg(list).reset_index()\n",
      "C:\\Users\\micro\\AppData\\Local\\Temp\\ipykernel_12520\\2139590162.py:4: FutureWarning: Indexing with multiple keys (implicitly converted to a tuple of keys) will be deprecated, use a list instead.\n",
      "  df_dict[file] = batches_parquet[file].groupby(\"modified_sequence\")[\"precursor_charge\", \"precursor_intensity\"].agg(list).reset_index()\n",
      "C:\\Users\\micro\\AppData\\Local\\Temp\\ipykernel_12520\\2139590162.py:4: FutureWarning: Indexing with multiple keys (implicitly converted to a tuple of keys) will be deprecated, use a list instead.\n",
      "  df_dict[file] = batches_parquet[file].groupby(\"modified_sequence\")[\"precursor_charge\", \"precursor_intensity\"].agg(list).reset_index()\n",
      "C:\\Users\\micro\\AppData\\Local\\Temp\\ipykernel_12520\\2139590162.py:4: FutureWarning: Indexing with multiple keys (implicitly converted to a tuple of keys) will be deprecated, use a list instead.\n",
      "  df_dict[file] = batches_parquet[file].groupby(\"modified_sequence\")[\"precursor_charge\", \"precursor_intensity\"].agg(list).reset_index()\n",
      "C:\\Users\\micro\\AppData\\Local\\Temp\\ipykernel_12520\\2139590162.py:4: FutureWarning: Indexing with multiple keys (implicitly converted to a tuple of keys) will be deprecated, use a list instead.\n",
      "  df_dict[file] = batches_parquet[file].groupby(\"modified_sequence\")[\"precursor_charge\", \"precursor_intensity\"].agg(list).reset_index()\n",
      "C:\\Users\\micro\\AppData\\Local\\Temp\\ipykernel_12520\\2139590162.py:4: FutureWarning: Indexing with multiple keys (implicitly converted to a tuple of keys) will be deprecated, use a list instead.\n",
      "  df_dict[file] = batches_parquet[file].groupby(\"modified_sequence\")[\"precursor_charge\", \"precursor_intensity\"].agg(list).reset_index()\n",
      "C:\\Users\\micro\\AppData\\Local\\Temp\\ipykernel_12520\\2139590162.py:4: FutureWarning: Indexing with multiple keys (implicitly converted to a tuple of keys) will be deprecated, use a list instead.\n",
      "  df_dict[file] = batches_parquet[file].groupby(\"modified_sequence\")[\"precursor_charge\", \"precursor_intensity\"].agg(list).reset_index()\n",
      "C:\\Users\\micro\\AppData\\Local\\Temp\\ipykernel_12520\\2139590162.py:4: FutureWarning: Indexing with multiple keys (implicitly converted to a tuple of keys) will be deprecated, use a list instead.\n",
      "  df_dict[file] = batches_parquet[file].groupby(\"modified_sequence\")[\"precursor_charge\", \"precursor_intensity\"].agg(list).reset_index()\n",
      "C:\\Users\\micro\\AppData\\Local\\Temp\\ipykernel_12520\\2139590162.py:4: FutureWarning: Indexing with multiple keys (implicitly converted to a tuple of keys) will be deprecated, use a list instead.\n",
      "  df_dict[file] = batches_parquet[file].groupby(\"modified_sequence\")[\"precursor_charge\", \"precursor_intensity\"].agg(list).reset_index()\n",
      "C:\\Users\\micro\\AppData\\Local\\Temp\\ipykernel_12520\\2139590162.py:4: FutureWarning: Indexing with multiple keys (implicitly converted to a tuple of keys) will be deprecated, use a list instead.\n",
      "  df_dict[file] = batches_parquet[file].groupby(\"modified_sequence\")[\"precursor_charge\", \"precursor_intensity\"].agg(list).reset_index()\n",
      "C:\\Users\\micro\\AppData\\Local\\Temp\\ipykernel_12520\\2139590162.py:4: FutureWarning: Indexing with multiple keys (implicitly converted to a tuple of keys) will be deprecated, use a list instead.\n",
      "  df_dict[file] = batches_parquet[file].groupby(\"modified_sequence\")[\"precursor_charge\", \"precursor_intensity\"].agg(list).reset_index()\n",
      "C:\\Users\\micro\\AppData\\Local\\Temp\\ipykernel_12520\\2139590162.py:4: FutureWarning: Indexing with multiple keys (implicitly converted to a tuple of keys) will be deprecated, use a list instead.\n",
      "  df_dict[file] = batches_parquet[file].groupby(\"modified_sequence\")[\"precursor_charge\", \"precursor_intensity\"].agg(list).reset_index()\n"
     ]
    }
   ],
   "source": [
    "# load all parquets into df\n",
    "df_dict = dict()\n",
    "for file in file_list:\n",
    "    df_dict[file] = batches_parquet[file].groupby(\"modified_sequence\")[\"precursor_charge\", \"precursor_intensity\"].agg(list).reset_index()"
   ],
   "metadata": {
    "collapsed": false,
    "ExecuteTime": {
     "end_time": "2023-09-05T10:10:03.964816300Z",
     "start_time": "2023-09-05T10:09:15.184807800Z"
    }
   }
  },
  {
   "cell_type": "markdown",
   "source": [
    "# init merged_df"
   ],
   "metadata": {
    "collapsed": false
   }
  },
  {
   "cell_type": "code",
   "execution_count": 16,
   "outputs": [
    {
     "name": "stderr",
     "output_type": "stream",
     "text": [
      "C:\\Users\\micro\\AppData\\Local\\Temp\\ipykernel_12520\\1215419649.py:1: FutureWarning: Indexing with multiple keys (implicitly converted to a tuple of keys) will be deprecated, use a list instead.\n",
      "  merged_df = pd.concat(list(df_dict.values())).groupby(\"modified_sequence\")[\"precursor_charge\", \"precursor_intensity\"].sum().reset_index()\n"
     ]
    }
   ],
   "source": [
    "merged_df = pd.concat(list(df_dict.values())).groupby(\"modified_sequence\")[\"precursor_charge\", \"precursor_intensity\"].sum().reset_index()"
   ],
   "metadata": {
    "collapsed": false,
    "ExecuteTime": {
     "end_time": "2023-09-05T10:10:06.432415Z",
     "start_time": "2023-09-05T10:10:03.964816300Z"
    }
   }
  },
  {
   "cell_type": "code",
   "execution_count": 17,
   "outputs": [],
   "source": [
    "merged_df['seq_len_prepadding'] = merged_df['modified_sequence'].apply(lambda x: len(x))"
   ],
   "metadata": {
    "collapsed": false,
    "ExecuteTime": {
     "end_time": "2023-09-05T10:10:07.069204600Z",
     "start_time": "2023-09-05T10:10:06.424415300Z"
    }
   }
  },
  {
   "cell_type": "code",
   "execution_count": 18,
   "outputs": [
    {
     "data": {
      "text/plain": "87     9\n82     8\n85     7\n89     6\n90     5\n107    4\n97     4\n95     4\n92     4\n83     3\n86     3\n98     3\n91     2\n84     2\n93     2\n88     2\n96     2\n110    2\n105    1\n104    1\n102    1\n94     1\n103    1\n115    1\n99     1\n125    1\n108    1\nName: seq_len_prepadding, dtype: int64"
     },
     "execution_count": 18,
     "metadata": {},
     "output_type": "execute_result"
    }
   ],
   "source": [
    "len_counts = merged_df['seq_len_prepadding'].value_counts()\n",
    "seq_too_long = len_counts[len_counts <= 10]\n",
    "seq_too_long"
   ],
   "metadata": {
    "collapsed": false,
    "ExecuteTime": {
     "end_time": "2023-09-05T10:10:07.302397900Z",
     "start_time": "2023-09-05T10:10:07.070204700Z"
    }
   }
  },
  {
   "cell_type": "code",
   "execution_count": 19,
   "outputs": [
    {
     "data": {
      "text/plain": "    seq_len  count\n0        50   1087\n1        51    764\n2        52    595\n3        53    426\n4        56    385\n5        57    385\n6        55    382\n7        58    373\n8        54    366\n9        59    290\n10       60    245\n11       61    199\n12       62    140\n13       63    105\n14       67     86\n15       66     81\n16       65     78\n17       64     78\n18       68     72\n19       69     69\n20       70     67\n21       71     34\n22       72     31\n23       75     26\n24       77     21\n25       74     21\n26       78     21\n27       73     18\n28       81     17\n29       79     16\n30       80     15\n31       76     13\n32      100     12\n33       87      9\n34       82      8\n35       85      7\n36       89      6\n37       90      5\n38      107      4\n39       97      4\n40       95      4\n41       92      4\n42       83      3\n43       86      3\n44       98      3\n45       91      2\n46       84      2\n47       93      2\n48       88      2\n49       96      2\n50      110      2\n51      105      1\n52      104      1\n53      102      1\n54       94      1\n55      103      1\n56      115      1\n57       99      1\n58      125      1\n59      108      1",
      "text/html": "<div>\n<style scoped>\n    .dataframe tbody tr th:only-of-type {\n        vertical-align: middle;\n    }\n\n    .dataframe tbody tr th {\n        vertical-align: top;\n    }\n\n    .dataframe thead th {\n        text-align: right;\n    }\n</style>\n<table border=\"1\" class=\"dataframe\">\n  <thead>\n    <tr style=\"text-align: right;\">\n      <th></th>\n      <th>seq_len</th>\n      <th>count</th>\n    </tr>\n  </thead>\n  <tbody>\n    <tr>\n      <th>0</th>\n      <td>50</td>\n      <td>1087</td>\n    </tr>\n    <tr>\n      <th>1</th>\n      <td>51</td>\n      <td>764</td>\n    </tr>\n    <tr>\n      <th>2</th>\n      <td>52</td>\n      <td>595</td>\n    </tr>\n    <tr>\n      <th>3</th>\n      <td>53</td>\n      <td>426</td>\n    </tr>\n    <tr>\n      <th>4</th>\n      <td>56</td>\n      <td>385</td>\n    </tr>\n    <tr>\n      <th>5</th>\n      <td>57</td>\n      <td>385</td>\n    </tr>\n    <tr>\n      <th>6</th>\n      <td>55</td>\n      <td>382</td>\n    </tr>\n    <tr>\n      <th>7</th>\n      <td>58</td>\n      <td>373</td>\n    </tr>\n    <tr>\n      <th>8</th>\n      <td>54</td>\n      <td>366</td>\n    </tr>\n    <tr>\n      <th>9</th>\n      <td>59</td>\n      <td>290</td>\n    </tr>\n    <tr>\n      <th>10</th>\n      <td>60</td>\n      <td>245</td>\n    </tr>\n    <tr>\n      <th>11</th>\n      <td>61</td>\n      <td>199</td>\n    </tr>\n    <tr>\n      <th>12</th>\n      <td>62</td>\n      <td>140</td>\n    </tr>\n    <tr>\n      <th>13</th>\n      <td>63</td>\n      <td>105</td>\n    </tr>\n    <tr>\n      <th>14</th>\n      <td>67</td>\n      <td>86</td>\n    </tr>\n    <tr>\n      <th>15</th>\n      <td>66</td>\n      <td>81</td>\n    </tr>\n    <tr>\n      <th>16</th>\n      <td>65</td>\n      <td>78</td>\n    </tr>\n    <tr>\n      <th>17</th>\n      <td>64</td>\n      <td>78</td>\n    </tr>\n    <tr>\n      <th>18</th>\n      <td>68</td>\n      <td>72</td>\n    </tr>\n    <tr>\n      <th>19</th>\n      <td>69</td>\n      <td>69</td>\n    </tr>\n    <tr>\n      <th>20</th>\n      <td>70</td>\n      <td>67</td>\n    </tr>\n    <tr>\n      <th>21</th>\n      <td>71</td>\n      <td>34</td>\n    </tr>\n    <tr>\n      <th>22</th>\n      <td>72</td>\n      <td>31</td>\n    </tr>\n    <tr>\n      <th>23</th>\n      <td>75</td>\n      <td>26</td>\n    </tr>\n    <tr>\n      <th>24</th>\n      <td>77</td>\n      <td>21</td>\n    </tr>\n    <tr>\n      <th>25</th>\n      <td>74</td>\n      <td>21</td>\n    </tr>\n    <tr>\n      <th>26</th>\n      <td>78</td>\n      <td>21</td>\n    </tr>\n    <tr>\n      <th>27</th>\n      <td>73</td>\n      <td>18</td>\n    </tr>\n    <tr>\n      <th>28</th>\n      <td>81</td>\n      <td>17</td>\n    </tr>\n    <tr>\n      <th>29</th>\n      <td>79</td>\n      <td>16</td>\n    </tr>\n    <tr>\n      <th>30</th>\n      <td>80</td>\n      <td>15</td>\n    </tr>\n    <tr>\n      <th>31</th>\n      <td>76</td>\n      <td>13</td>\n    </tr>\n    <tr>\n      <th>32</th>\n      <td>100</td>\n      <td>12</td>\n    </tr>\n    <tr>\n      <th>33</th>\n      <td>87</td>\n      <td>9</td>\n    </tr>\n    <tr>\n      <th>34</th>\n      <td>82</td>\n      <td>8</td>\n    </tr>\n    <tr>\n      <th>35</th>\n      <td>85</td>\n      <td>7</td>\n    </tr>\n    <tr>\n      <th>36</th>\n      <td>89</td>\n      <td>6</td>\n    </tr>\n    <tr>\n      <th>37</th>\n      <td>90</td>\n      <td>5</td>\n    </tr>\n    <tr>\n      <th>38</th>\n      <td>107</td>\n      <td>4</td>\n    </tr>\n    <tr>\n      <th>39</th>\n      <td>97</td>\n      <td>4</td>\n    </tr>\n    <tr>\n      <th>40</th>\n      <td>95</td>\n      <td>4</td>\n    </tr>\n    <tr>\n      <th>41</th>\n      <td>92</td>\n      <td>4</td>\n    </tr>\n    <tr>\n      <th>42</th>\n      <td>83</td>\n      <td>3</td>\n    </tr>\n    <tr>\n      <th>43</th>\n      <td>86</td>\n      <td>3</td>\n    </tr>\n    <tr>\n      <th>44</th>\n      <td>98</td>\n      <td>3</td>\n    </tr>\n    <tr>\n      <th>45</th>\n      <td>91</td>\n      <td>2</td>\n    </tr>\n    <tr>\n      <th>46</th>\n      <td>84</td>\n      <td>2</td>\n    </tr>\n    <tr>\n      <th>47</th>\n      <td>93</td>\n      <td>2</td>\n    </tr>\n    <tr>\n      <th>48</th>\n      <td>88</td>\n      <td>2</td>\n    </tr>\n    <tr>\n      <th>49</th>\n      <td>96</td>\n      <td>2</td>\n    </tr>\n    <tr>\n      <th>50</th>\n      <td>110</td>\n      <td>2</td>\n    </tr>\n    <tr>\n      <th>51</th>\n      <td>105</td>\n      <td>1</td>\n    </tr>\n    <tr>\n      <th>52</th>\n      <td>104</td>\n      <td>1</td>\n    </tr>\n    <tr>\n      <th>53</th>\n      <td>102</td>\n      <td>1</td>\n    </tr>\n    <tr>\n      <th>54</th>\n      <td>94</td>\n      <td>1</td>\n    </tr>\n    <tr>\n      <th>55</th>\n      <td>103</td>\n      <td>1</td>\n    </tr>\n    <tr>\n      <th>56</th>\n      <td>115</td>\n      <td>1</td>\n    </tr>\n    <tr>\n      <th>57</th>\n      <td>99</td>\n      <td>1</td>\n    </tr>\n    <tr>\n      <th>58</th>\n      <td>125</td>\n      <td>1</td>\n    </tr>\n    <tr>\n      <th>59</th>\n      <td>108</td>\n      <td>1</td>\n    </tr>\n  </tbody>\n</table>\n</div>"
     },
     "execution_count": 19,
     "metadata": {},
     "output_type": "execute_result"
    }
   ],
   "source": [
    "seq_lengths = merged_df['seq_len_prepadding'].value_counts().index.values, merged_df['seq_len_prepadding'].value_counts().values\n",
    "seq_too_long = pd.DataFrame()\n",
    "seq_too_long['seq_len'] = seq_lengths[0][seq_lengths[0] >= 50]\n",
    "seq_too_long['count'] = seq_lengths[1][seq_lengths[0] >= 50]\n",
    "seq_too_long"
   ],
   "metadata": {
    "collapsed": false,
    "ExecuteTime": {
     "end_time": "2023-09-05T10:10:07.556694600Z",
     "start_time": "2023-09-05T10:10:07.304403500Z"
    }
   }
  },
  {
   "cell_type": "code",
   "execution_count": 20,
   "outputs": [],
   "source": [
    "# give smallest seq_len when count <= 100\n",
    "seq_len_cutoff_df = seq_too_long[seq_too_long['count'] <= 100]\n",
    "seq_len_cutoff = min(seq_len_cutoff_df['seq_len'])"
   ],
   "metadata": {
    "collapsed": false,
    "ExecuteTime": {
     "end_time": "2023-09-05T10:10:07.841625100Z",
     "start_time": "2023-09-05T10:10:07.528686800Z"
    }
   }
  },
  {
   "cell_type": "code",
   "execution_count": 21,
   "outputs": [
    {
     "data": {
      "text/plain": "64"
     },
     "execution_count": 21,
     "metadata": {},
     "output_type": "execute_result"
    }
   ],
   "source": [
    "seq_len_cutoff"
   ],
   "metadata": {
    "collapsed": false,
    "ExecuteTime": {
     "end_time": "2023-09-05T10:10:08.056385700Z",
     "start_time": "2023-09-05T10:10:07.771108600Z"
    }
   }
  },
  {
   "cell_type": "code",
   "execution_count": 22,
   "outputs": [],
   "source": [
    "# reapply max len\n",
    "max_len_seq = seq_len_cutoff-1"
   ],
   "metadata": {
    "collapsed": false,
    "ExecuteTime": {
     "end_time": "2023-09-05T10:10:08.311632100Z",
     "start_time": "2023-09-05T10:10:08.039794100Z"
    }
   }
  },
  {
   "cell_type": "code",
   "execution_count": 23,
   "outputs": [],
   "source": [
    "def seq_translator(sequence, dictionary=vocabulary, max_len=max_len_seq, print_result=False, no_padding=False):\n",
    "    \"\"\"\n",
    "    Translates a sequence into a vector of integers\n",
    "    :param print_result:\n",
    "    :param max_len:\n",
    "    :param sequence: string\n",
    "    :param dictionary: dictionary\n",
    "    :return: list\n",
    "    \"\"\"\n",
    "    pattern = r'[A-Z]\\[[^\\]]*\\]|.' # regex pattern to match amino acids and modifications\n",
    "    #pattern = r'(\\w\\[UNIMOD:\\d+\\])' # regex pattern to match amino acids and modifications\n",
    "\n",
    "    result = [match for match in re.findall(pattern, sequence)]\n",
    "\n",
    "    # Fill the list with \"X\" characters until it reaches a length of 40\n",
    "    if not no_padding:\n",
    "        result += ['X'] * (max_len - len(result))\n",
    "    if print_result:\n",
    "        print(result)\n",
    "\n",
    "    aa_dictionary = dict()\n",
    "    for index, aa in enumerate(dictionary):\n",
    "        aa_dictionary[aa] = index\n",
    "\n",
    "    return [aa_dictionary[aa] for aa in result]"
   ],
   "metadata": {
    "collapsed": false,
    "ExecuteTime": {
     "end_time": "2023-09-05T10:10:08.790936600Z",
     "start_time": "2023-09-05T10:10:08.296632300Z"
    }
   }
  },
  {
   "cell_type": "code",
   "execution_count": 24,
   "outputs": [],
   "source": [
    "delete_a_row = True\n",
    "if delete_a_row:\n",
    "# delete row if seq_len_prepadding larger or equal to seq_len_cutoff\n",
    "    index_to_delete_seq = merged_df[merged_df['seq_len_prepadding'] >= seq_len_cutoff].index\n",
    "    merged_df.drop(index_to_delete_seq, inplace=True)"
   ],
   "metadata": {
    "collapsed": false,
    "ExecuteTime": {
     "end_time": "2023-09-05T10:10:09.271378900Z",
     "start_time": "2023-09-05T10:10:08.792935400Z"
    }
   }
  },
  {
   "cell_type": "code",
   "execution_count": 25,
   "outputs": [
    {
     "data": {
      "text/plain": "Empty DataFrame\nColumns: [modified_sequence, precursor_charge, precursor_intensity, seq_len_prepadding]\nIndex: []",
      "text/html": "<div>\n<style scoped>\n    .dataframe tbody tr th:only-of-type {\n        vertical-align: middle;\n    }\n\n    .dataframe tbody tr th {\n        vertical-align: top;\n    }\n\n    .dataframe thead th {\n        text-align: right;\n    }\n</style>\n<table border=\"1\" class=\"dataframe\">\n  <thead>\n    <tr style=\"text-align: right;\">\n      <th></th>\n      <th>modified_sequence</th>\n      <th>precursor_charge</th>\n      <th>precursor_intensity</th>\n      <th>seq_len_prepadding</th>\n    </tr>\n  </thead>\n  <tbody>\n  </tbody>\n</table>\n</div>"
     },
     "execution_count": 25,
     "metadata": {},
     "output_type": "execute_result"
    }
   ],
   "source": [
    "# output all sequences with seq_len_prepadding >= 50\n",
    "merged_df[merged_df['seq_len_prepadding'] >= seq_len_cutoff]"
   ],
   "metadata": {
    "collapsed": false,
    "ExecuteTime": {
     "end_time": "2023-09-05T10:10:09.529982100Z",
     "start_time": "2023-09-05T10:10:09.234375400Z"
    }
   }
  },
  {
   "cell_type": "code",
   "execution_count": 26,
   "outputs": [],
   "source": [
    "merged_df['normalized'] = merged_df.apply(lambda x: normalize_for_most_abundant(x[\"precursor_charge\"], x[\"precursor_intensity\"]), axis=1)"
   ],
   "metadata": {
    "collapsed": false,
    "ExecuteTime": {
     "end_time": "2023-09-05T10:10:23.382072300Z",
     "start_time": "2023-09-05T10:10:09.481928600Z"
    }
   }
  },
  {
   "cell_type": "code",
   "execution_count": 27,
   "outputs": [],
   "source": [
    "merged_df['pre_normalization'] = merged_df.apply(lambda x: get_most_abundant(x[\"precursor_charge\"], x[\"precursor_intensity\"], True), axis=1)"
   ],
   "metadata": {
    "collapsed": false,
    "ExecuteTime": {
     "end_time": "2023-09-05T10:10:34.431950200Z",
     "start_time": "2023-09-05T10:10:23.384143600Z"
    }
   }
  },
  {
   "cell_type": "code",
   "execution_count": 28,
   "outputs": [],
   "source": [
    "# return key for max value in dict\n",
    "merged_df['most_abundant_charge'] = merged_df['normalized'].apply(lambda x: max(x, key=x.get))"
   ],
   "metadata": {
    "collapsed": false,
    "ExecuteTime": {
     "end_time": "2023-09-05T10:10:35.139914Z",
     "start_time": "2023-09-05T10:10:34.432953100Z"
    }
   }
  },
  {
   "cell_type": "code",
   "execution_count": 29,
   "outputs": [],
   "source": [
    "merged_df[\"most_abundant_charge_vector\"] = merged_df[\"most_abundant_charge\"].apply(one_hot_precursor, args=(charge_ranges,))"
   ],
   "metadata": {
    "collapsed": false,
    "ExecuteTime": {
     "end_time": "2023-09-05T10:10:37.023131300Z",
     "start_time": "2023-09-05T10:10:35.138912700Z"
    }
   }
  },
  {
   "cell_type": "code",
   "execution_count": 30,
   "outputs": [],
   "source": [
    "merged_df[\"modified_sequence_vector\"] = merged_df[\"modified_sequence\"].apply(seq_translator)"
   ],
   "metadata": {
    "collapsed": false,
    "ExecuteTime": {
     "end_time": "2023-09-05T10:10:44.623320300Z",
     "start_time": "2023-09-05T10:10:37.000127400Z"
    }
   }
  },
  {
   "cell_type": "code",
   "execution_count": 31,
   "outputs": [
    {
     "data": {
      "text/plain": "             modified_sequence  \\\n0       AAAAAAAAAAAAAAAAGLGLGP   \n1        AAAAAAAAAAAAAAAASAGGK   \n2       AAAAAAAAAAAAAAAGAGAGAK   \n3   AAAAAAAAAAAAAAASGFAYPGTSER   \n4              AAAAAAAAAAAAAAG   \n5            AAAAAAAAAAAAAAGAG   \n6       AAAAAAAAAAAAAAGGLALGLH   \n7          AAAAAAAAAAAAAAVTSGV   \n8             AAAAAAAAAAAAAGAG   \n9               AAAAAAAAAAAAAK   \n10            AAAAAAAAAAAAHLPS   \n\n                                     precursor_charge  \\\n0   [2, 3, 2, 1, 1, 2, 2, 2, 2, 2, 2, 3, 3, 3, 3, ...   \n1       [2, 2, 2, 2, 2, 2, 2, 2, 2, 2, 2, 2, 2, 2, 2]   \n2                                        [2, 2, 2, 2]   \n3   [2, 2, 2, 2, 2, 2, 2, 2, 2, 2, 2, 2, 2, 2, 2, ...   \n4   [1, 1, 1, 1, 1, 1, 1, 1, 1, 1, 1, 1, 1, 1, 1, ...   \n5   [1, 1, 1, 1, 1, 1, 1, 1, 1, 1, 1, 1, 1, 1, 1, ...   \n6   [2, 2, 2, 2, 2, 2, 2, 2, 2, 2, 2, 2, 2, 2, 2, ...   \n7   [2, 2, 2, 2, 2, 2, 2, 2, 2, 2, 2, 2, 2, 2, 2, ...   \n8   [1, 2, 1, 1, 1, 1, 1, 2, 2, 2, 2, 2, 2, 2, 1, ...   \n9   [1, 2, 2, 2, 2, 2, 1, 1, 1, 2, 2, 1, 1, 2, 2, ...   \n10  [2, 2, 2, 2, 2, 2, 2, 2, 2, 2, 2, 2, 2, 2, 2, ...   \n\n                                  precursor_intensity  seq_len_prepadding  \\\n0   [12746190.0, 2009914.0, 12746190.0, 791369.9, ...                  22   \n1   [5944787.0, 5944787.0, 8502878.0, 6425294.0, 8...                  21   \n2        [3067981.0, 3067981.0, 3067981.0, 3067981.0]                  22   \n3   [11913300.0, 11913300.0, 11913300.0, 11913300....                  26   \n4   [1573785.0, 4638296.0, 7934979.0, 2019978.0, 4...                  15   \n5   [853119.3, 4332449.0, 3688977.0, 3469130.0, 33...                  17   \n6   [33516080.0, 33516080.0, 8522070.0, 4549188.0,...                  22   \n7   [4576179.0, 3336856.0, 4954145.0, 4317804.0, 3...                  19   \n8   [1233316.0, 2671238.0, 11414430.0, 13683660.0,...                  16   \n9   [2540360.0, 31115000.0, 31115000.0, 70371250.0...                  14   \n10  [27030420.0, 22099630.0, 71770480.0, 22099630....                  16   \n\n                                  normalized  \\\n0   {2: 588796.3, 3: 4654280.0, 1: 791369.9}   \n1                              {2: 303307.5}   \n2                             {2: 3067981.0}   \n3               {2: 8093413.0, 3: 1414907.0}   \n4                             {1: 1124818.0}   \n5                              {1: 679216.3}   \n6                              {2: 365943.3}   \n7              {2: 14611910.0, 1: 1211272.0}   \n8               {1: 1879604.0, 2: 2586197.0}   \n9              {1: 8372130.0, 2: 15308280.0}   \n10                            {2: 5810305.0}   \n\n                                 pre_normalization  most_abundant_charge  \\\n0   {2: 1043873837.3, 3: 30130627.0, 1: 1582739.8}                     3   \n1                                 {2: 107202221.5}                     2   \n2                                  {2: 12271924.0}                     2   \n3                   {2: 148659685.0, 3: 4244721.0}                     2   \n4                           {1: 546950229.4000001}                     1   \n5                                  {1: 52634067.9}                     1   \n6                           {2: 6848110396.300002}                     2   \n7            {2: 225462597.40000004, 1: 5840742.2}                     2   \n8                 {1: 349665943.5, 2: 228379326.3}                     2   \n9                 {1: 99493666.2, 2: 6574531120.0}                     2   \n10                               {2: 9446767331.0}                     2   \n\n   most_abundant_charge_vector  \\\n0           [0, 0, 1, 0, 0, 0]   \n1           [0, 1, 0, 0, 0, 0]   \n2           [0, 1, 0, 0, 0, 0]   \n3           [0, 1, 0, 0, 0, 0]   \n4           [1, 0, 0, 0, 0, 0]   \n5           [1, 0, 0, 0, 0, 0]   \n6           [0, 1, 0, 0, 0, 0]   \n7           [0, 1, 0, 0, 0, 0]   \n8           [0, 1, 0, 0, 0, 0]   \n9           [0, 1, 0, 0, 0, 0]   \n10          [0, 1, 0, 0, 0, 0]   \n\n                             modified_sequence_vector  \n0   [1, 1, 1, 1, 1, 1, 1, 1, 1, 1, 1, 1, 1, 1, 1, ...  \n1   [1, 1, 1, 1, 1, 1, 1, 1, 1, 1, 1, 1, 1, 1, 1, ...  \n2   [1, 1, 1, 1, 1, 1, 1, 1, 1, 1, 1, 1, 1, 1, 1, ...  \n3   [1, 1, 1, 1, 1, 1, 1, 1, 1, 1, 1, 1, 1, 1, 1, ...  \n4   [1, 1, 1, 1, 1, 1, 1, 1, 1, 1, 1, 1, 1, 1, 6, ...  \n5   [1, 1, 1, 1, 1, 1, 1, 1, 1, 1, 1, 1, 1, 1, 6, ...  \n6   [1, 1, 1, 1, 1, 1, 1, 1, 1, 1, 1, 1, 1, 1, 6, ...  \n7   [1, 1, 1, 1, 1, 1, 1, 1, 1, 1, 1, 1, 1, 1, 18,...  \n8   [1, 1, 1, 1, 1, 1, 1, 1, 1, 1, 1, 1, 1, 6, 1, ...  \n9   [1, 1, 1, 1, 1, 1, 1, 1, 1, 1, 1, 1, 1, 9, 0, ...  \n10  [1, 1, 1, 1, 1, 1, 1, 1, 1, 1, 1, 1, 7, 10, 13...  ",
      "text/html": "<div>\n<style scoped>\n    .dataframe tbody tr th:only-of-type {\n        vertical-align: middle;\n    }\n\n    .dataframe tbody tr th {\n        vertical-align: top;\n    }\n\n    .dataframe thead th {\n        text-align: right;\n    }\n</style>\n<table border=\"1\" class=\"dataframe\">\n  <thead>\n    <tr style=\"text-align: right;\">\n      <th></th>\n      <th>modified_sequence</th>\n      <th>precursor_charge</th>\n      <th>precursor_intensity</th>\n      <th>seq_len_prepadding</th>\n      <th>normalized</th>\n      <th>pre_normalization</th>\n      <th>most_abundant_charge</th>\n      <th>most_abundant_charge_vector</th>\n      <th>modified_sequence_vector</th>\n    </tr>\n  </thead>\n  <tbody>\n    <tr>\n      <th>0</th>\n      <td>AAAAAAAAAAAAAAAAGLGLGP</td>\n      <td>[2, 3, 2, 1, 1, 2, 2, 2, 2, 2, 2, 3, 3, 3, 3, ...</td>\n      <td>[12746190.0, 2009914.0, 12746190.0, 791369.9, ...</td>\n      <td>22</td>\n      <td>{2: 588796.3, 3: 4654280.0, 1: 791369.9}</td>\n      <td>{2: 1043873837.3, 3: 30130627.0, 1: 1582739.8}</td>\n      <td>3</td>\n      <td>[0, 0, 1, 0, 0, 0]</td>\n      <td>[1, 1, 1, 1, 1, 1, 1, 1, 1, 1, 1, 1, 1, 1, 1, ...</td>\n    </tr>\n    <tr>\n      <th>1</th>\n      <td>AAAAAAAAAAAAAAAASAGGK</td>\n      <td>[2, 2, 2, 2, 2, 2, 2, 2, 2, 2, 2, 2, 2, 2, 2]</td>\n      <td>[5944787.0, 5944787.0, 8502878.0, 6425294.0, 8...</td>\n      <td>21</td>\n      <td>{2: 303307.5}</td>\n      <td>{2: 107202221.5}</td>\n      <td>2</td>\n      <td>[0, 1, 0, 0, 0, 0]</td>\n      <td>[1, 1, 1, 1, 1, 1, 1, 1, 1, 1, 1, 1, 1, 1, 1, ...</td>\n    </tr>\n    <tr>\n      <th>2</th>\n      <td>AAAAAAAAAAAAAAAGAGAGAK</td>\n      <td>[2, 2, 2, 2]</td>\n      <td>[3067981.0, 3067981.0, 3067981.0, 3067981.0]</td>\n      <td>22</td>\n      <td>{2: 3067981.0}</td>\n      <td>{2: 12271924.0}</td>\n      <td>2</td>\n      <td>[0, 1, 0, 0, 0, 0]</td>\n      <td>[1, 1, 1, 1, 1, 1, 1, 1, 1, 1, 1, 1, 1, 1, 1, ...</td>\n    </tr>\n    <tr>\n      <th>3</th>\n      <td>AAAAAAAAAAAAAAASGFAYPGTSER</td>\n      <td>[2, 2, 2, 2, 2, 2, 2, 2, 2, 2, 2, 2, 2, 2, 2, ...</td>\n      <td>[11913300.0, 11913300.0, 11913300.0, 11913300....</td>\n      <td>26</td>\n      <td>{2: 8093413.0, 3: 1414907.0}</td>\n      <td>{2: 148659685.0, 3: 4244721.0}</td>\n      <td>2</td>\n      <td>[0, 1, 0, 0, 0, 0]</td>\n      <td>[1, 1, 1, 1, 1, 1, 1, 1, 1, 1, 1, 1, 1, 1, 1, ...</td>\n    </tr>\n    <tr>\n      <th>4</th>\n      <td>AAAAAAAAAAAAAAG</td>\n      <td>[1, 1, 1, 1, 1, 1, 1, 1, 1, 1, 1, 1, 1, 1, 1, ...</td>\n      <td>[1573785.0, 4638296.0, 7934979.0, 2019978.0, 4...</td>\n      <td>15</td>\n      <td>{1: 1124818.0}</td>\n      <td>{1: 546950229.4000001}</td>\n      <td>1</td>\n      <td>[1, 0, 0, 0, 0, 0]</td>\n      <td>[1, 1, 1, 1, 1, 1, 1, 1, 1, 1, 1, 1, 1, 1, 6, ...</td>\n    </tr>\n    <tr>\n      <th>5</th>\n      <td>AAAAAAAAAAAAAAGAG</td>\n      <td>[1, 1, 1, 1, 1, 1, 1, 1, 1, 1, 1, 1, 1, 1, 1, ...</td>\n      <td>[853119.3, 4332449.0, 3688977.0, 3469130.0, 33...</td>\n      <td>17</td>\n      <td>{1: 679216.3}</td>\n      <td>{1: 52634067.9}</td>\n      <td>1</td>\n      <td>[1, 0, 0, 0, 0, 0]</td>\n      <td>[1, 1, 1, 1, 1, 1, 1, 1, 1, 1, 1, 1, 1, 1, 6, ...</td>\n    </tr>\n    <tr>\n      <th>6</th>\n      <td>AAAAAAAAAAAAAAGGLALGLH</td>\n      <td>[2, 2, 2, 2, 2, 2, 2, 2, 2, 2, 2, 2, 2, 2, 2, ...</td>\n      <td>[33516080.0, 33516080.0, 8522070.0, 4549188.0,...</td>\n      <td>22</td>\n      <td>{2: 365943.3}</td>\n      <td>{2: 6848110396.300002}</td>\n      <td>2</td>\n      <td>[0, 1, 0, 0, 0, 0]</td>\n      <td>[1, 1, 1, 1, 1, 1, 1, 1, 1, 1, 1, 1, 1, 1, 6, ...</td>\n    </tr>\n    <tr>\n      <th>7</th>\n      <td>AAAAAAAAAAAAAAVTSGV</td>\n      <td>[2, 2, 2, 2, 2, 2, 2, 2, 2, 2, 2, 2, 2, 2, 2, ...</td>\n      <td>[4576179.0, 3336856.0, 4954145.0, 4317804.0, 3...</td>\n      <td>19</td>\n      <td>{2: 14611910.0, 1: 1211272.0}</td>\n      <td>{2: 225462597.40000004, 1: 5840742.2}</td>\n      <td>2</td>\n      <td>[0, 1, 0, 0, 0, 0]</td>\n      <td>[1, 1, 1, 1, 1, 1, 1, 1, 1, 1, 1, 1, 1, 1, 18,...</td>\n    </tr>\n    <tr>\n      <th>8</th>\n      <td>AAAAAAAAAAAAAGAG</td>\n      <td>[1, 2, 1, 1, 1, 1, 1, 2, 2, 2, 2, 2, 2, 2, 1, ...</td>\n      <td>[1233316.0, 2671238.0, 11414430.0, 13683660.0,...</td>\n      <td>16</td>\n      <td>{1: 1879604.0, 2: 2586197.0}</td>\n      <td>{1: 349665943.5, 2: 228379326.3}</td>\n      <td>2</td>\n      <td>[0, 1, 0, 0, 0, 0]</td>\n      <td>[1, 1, 1, 1, 1, 1, 1, 1, 1, 1, 1, 1, 1, 6, 1, ...</td>\n    </tr>\n    <tr>\n      <th>9</th>\n      <td>AAAAAAAAAAAAAK</td>\n      <td>[1, 2, 2, 2, 2, 2, 1, 1, 1, 2, 2, 1, 1, 2, 2, ...</td>\n      <td>[2540360.0, 31115000.0, 31115000.0, 70371250.0...</td>\n      <td>14</td>\n      <td>{1: 8372130.0, 2: 15308280.0}</td>\n      <td>{1: 99493666.2, 2: 6574531120.0}</td>\n      <td>2</td>\n      <td>[0, 1, 0, 0, 0, 0]</td>\n      <td>[1, 1, 1, 1, 1, 1, 1, 1, 1, 1, 1, 1, 1, 9, 0, ...</td>\n    </tr>\n    <tr>\n      <th>10</th>\n      <td>AAAAAAAAAAAAHLPS</td>\n      <td>[2, 2, 2, 2, 2, 2, 2, 2, 2, 2, 2, 2, 2, 2, 2, ...</td>\n      <td>[27030420.0, 22099630.0, 71770480.0, 22099630....</td>\n      <td>16</td>\n      <td>{2: 5810305.0}</td>\n      <td>{2: 9446767331.0}</td>\n      <td>2</td>\n      <td>[0, 1, 0, 0, 0, 0]</td>\n      <td>[1, 1, 1, 1, 1, 1, 1, 1, 1, 1, 1, 1, 7, 10, 13...</td>\n    </tr>\n  </tbody>\n</table>\n</div>"
     },
     "execution_count": 31,
     "metadata": {},
     "output_type": "execute_result"
    }
   ],
   "source": [
    "merged_df.head(11)"
   ],
   "metadata": {
    "collapsed": false,
    "ExecuteTime": {
     "end_time": "2023-09-05T10:10:44.907173100Z",
     "start_time": "2023-09-05T10:10:44.623320300Z"
    }
   }
  },
  {
   "cell_type": "code",
   "execution_count": 32,
   "outputs": [
    {
     "data": {
      "text/plain": "830820"
     },
     "execution_count": 32,
     "metadata": {},
     "output_type": "execute_result"
    }
   ],
   "source": [
    "len(merged_df)"
   ],
   "metadata": {
    "collapsed": false,
    "ExecuteTime": {
     "end_time": "2023-09-05T10:10:45.079891200Z",
     "start_time": "2023-09-05T10:10:44.863652300Z"
    }
   }
  },
  {
   "cell_type": "code",
   "execution_count": 33,
   "outputs": [
    {
     "data": {
      "text/plain": "2    452544\n3    259972\n4     65966\n1     41352\n5      9069\n6      1917\nName: most_abundant_charge, dtype: int64"
     },
     "execution_count": 33,
     "metadata": {},
     "output_type": "execute_result"
    }
   ],
   "source": [
    "merged_df[\"most_abundant_charge\"].value_counts()"
   ],
   "metadata": {
    "collapsed": false,
    "ExecuteTime": {
     "end_time": "2023-09-05T10:10:45.325843400Z",
     "start_time": "2023-09-05T10:10:45.080891200Z"
    }
   }
  },
  {
   "cell_type": "code",
   "execution_count": null,
   "outputs": [],
   "source": [
    "#get the"
   ],
   "metadata": {
    "collapsed": false
   }
  },
  {
   "cell_type": "code",
   "execution_count": 34,
   "outputs": [
    {
     "name": "stdout",
     "output_type": "stream",
     "text": [
      "data/Thermo_SRM_Pool_meta_data.parquet\n"
     ]
    },
    {
     "name": "stderr",
     "output_type": "stream",
     "text": [
      "C:\\Users\\micro\\AppData\\Local\\Temp\\ipykernel_12520\\365009680.py:2: FutureWarning: Indexing with multiple keys (implicitly converted to a tuple of keys) will be deprecated, use a list instead.\n",
      "  look_up_df = batches_parquet[file_list[0]].groupby(\"modified_sequence\")[\"precursor_charge\", \"precursor_intensity\"].agg(list).reset_index()\n"
     ]
    },
    {
     "data": {
      "text/plain": "70445"
     },
     "execution_count": 34,
     "metadata": {},
     "output_type": "execute_result"
    }
   ],
   "source": [
    "print(file_list[0])\n",
    "look_up_df = batches_parquet[file_list[0]].groupby(\"modified_sequence\")[\"precursor_charge\", \"precursor_intensity\"].agg(list).reset_index()\n",
    "len(look_up_df)"
   ],
   "metadata": {
    "collapsed": false,
    "ExecuteTime": {
     "end_time": "2023-09-05T10:10:49.891735100Z",
     "start_time": "2023-09-05T10:10:45.324844600Z"
    }
   }
  },
  {
   "cell_type": "markdown",
   "source": [
    "# Dataset preprocessing: Conv2d"
   ],
   "metadata": {
    "collapsed": false
   }
  },
  {
   "cell_type": "code",
   "execution_count": 38,
   "outputs": [
    {
     "name": "stdout",
     "output_type": "stream",
     "text": [
      "most abundant:  {1: 91111655, 2: 612265}\n"
     ]
    }
   ],
   "source": [
    "# proof of concept\n",
    "# we have a sequence ABC with:\n",
    "list_a = [1,2,1,2,1,2,1,2,1,2] # charge states for \"ABC\" sequence with multiple appearances\n",
    "list_b = [111,21,311,41,51,611111,71,81,91111111,1011] # intensities for \"ABC\" sequence in each charge state\n",
    "print(\"most abundant: \", get_most_abundant(list_a, list_b, True))"
   ],
   "metadata": {
    "collapsed": false,
    "ExecuteTime": {
     "end_time": "2023-08-30T07:24:02.751009800Z",
     "start_time": "2023-08-30T07:24:02.348688100Z"
    }
   }
  },
  {
   "cell_type": "code",
   "execution_count": 39,
   "outputs": [],
   "source": [
    "main_ds = np.array(merged_df[\"modified_sequence_vector\"]) # to list\n",
    "main_ds_labels = np.array(merged_df['most_abundant_charge_vector'])"
   ],
   "metadata": {
    "collapsed": false,
    "ExecuteTime": {
     "end_time": "2023-08-30T07:24:06.933114500Z",
     "start_time": "2023-08-30T07:24:06.653559100Z"
    }
   }
  },
  {
   "cell_type": "code",
   "execution_count": 40,
   "outputs": [],
   "source": [
    "# Create an instance of StratifiedShuffleSplit\n",
    "sss1 = StratifiedShuffleSplit(n_splits=1, test_size=0.1, random_state=42)\n",
    "sss2 = StratifiedShuffleSplit(n_splits=1, test_size=0.3, random_state=42)\n",
    "\n",
    "# Perform the split train+val and test\n",
    "trainval_indicies, test_indicies = next(sss1.split(main_ds, main_ds_labels))\n",
    "\n",
    "trainval_ds, trainval_labels = main_ds[trainval_indicies], main_ds_labels[trainval_indicies]\n",
    "test_ds, test_labels = main_ds[test_indicies], main_ds_labels[test_indicies]"
   ],
   "metadata": {
    "collapsed": false,
    "ExecuteTime": {
     "end_time": "2023-08-30T07:24:10.524034700Z",
     "start_time": "2023-08-30T07:24:08.342568200Z"
    }
   }
  },
  {
   "cell_type": "code",
   "execution_count": 125,
   "outputs": [],
   "source": [
    "# Perform the split train and val\n",
    "train_indicies, val_indicies = next(sss2.split(trainval_ds, trainval_labels))\n",
    "\n",
    "train_ds, train_labels = trainval_ds[train_indicies], trainval_labels[train_indicies]\n",
    "val_ds, val_labels = trainval_ds[val_indicies], trainval_labels[val_indicies]\n",
    "\n",
    "\n",
    "charges = [1,2,3,4,5,6] # TODO SELECT CLASSES\n",
    "num_classes = len(charges)"
   ],
   "metadata": {
    "collapsed": false,
    "ExecuteTime": {
     "end_time": "2023-08-21T10:12:48.989716400Z",
     "start_time": "2023-08-21T10:12:46.826828300Z"
    }
   }
  },
  {
   "cell_type": "markdown",
   "source": [
    "### Conv2d Model"
   ],
   "metadata": {
    "collapsed": false
   }
  },
  {
   "cell_type": "code",
   "execution_count": 50,
   "outputs": [],
   "source": [
    "train_ds = [np.reshape(np.array(x), (1, max_len_seq, 1)) for x in train_ds_embed]\n",
    "val_ds = [np.reshape(np.array(x), (1, max_len_seq, 1)) for x in val_ds_embed]\n",
    "test_ds = [np.reshape(np.array(x), (1, max_len_seq, 1)) for x in test_ds_embed]"
   ],
   "metadata": {
    "collapsed": false,
    "ExecuteTime": {
     "end_time": "2023-08-30T07:29:01.577233800Z",
     "start_time": "2023-08-30T07:26:28.444369300Z"
    }
   }
  },
  {
   "cell_type": "code",
   "execution_count": 71,
   "outputs": [],
   "source": [
    "def de_seq_translator(sequence_integers):\n",
    "    vocab = ['X', 'A', 'C', 'D', 'E', 'F', 'G', 'H', 'I', 'K', 'L', 'M', 'N', 'P', 'Q', 'R', 'S', 'T', 'V', 'W', 'Y', 'C[UNIMOD:4]', 'M[UNIMOD:35]']\n",
    "\n",
    "    vocab_dict = dict()\n",
    "    for char in vocab:\n",
    "        vocab_dict[vocab.index(char)] = char\n",
    "        \n",
    "    \n",
    "    \n",
    "    de_translated = [vocab_dict[i] for i in sequence_integers]\n",
    "    \n",
    "    word = ' ,'.join(de_translated).lstrip(\"[\").rstrip(\"]\").replace(\"'\",'').replace(\" ,\",'')\n",
    "    while word[-1] == 'X':\n",
    "        word = word[:-1]\n",
    "    print(word)\n",
    "    "
   ],
   "metadata": {
    "collapsed": false,
    "ExecuteTime": {
     "end_time": "2023-08-30T07:48:27.510298400Z",
     "start_time": "2023-08-30T07:48:27.269342300Z"
    }
   }
  },
  {
   "cell_type": "code",
   "execution_count": 72,
   "outputs": [
    {
     "name": "stdout",
     "output_type": "stream",
     "text": [
      "VVSAGPWSSEKAEMNILEINETLR\n"
     ]
    }
   ],
   "source": [
    "de_seq_translator(train_ds_embed[0].numpy())"
   ],
   "metadata": {
    "collapsed": false,
    "ExecuteTime": {
     "end_time": "2023-08-30T07:48:29.324288100Z",
     "start_time": "2023-08-30T07:48:29.067971800Z"
    }
   }
  },
  {
   "cell_type": "code",
   "execution_count": 73,
   "outputs": [],
   "source": [
    "plt.style.use({'figure.facecolor':'white'})"
   ],
   "metadata": {
    "collapsed": false,
    "ExecuteTime": {
     "end_time": "2023-08-30T07:49:02.054328300Z",
     "start_time": "2023-08-30T07:49:01.740583700Z"
    }
   }
  },
  {
   "cell_type": "code",
   "execution_count": 74,
   "outputs": [
    {
     "data": {
      "text/plain": "<Figure size 640x480 with 1 Axes>",
      "image/png": "[encoded data removed]"
     },
     "metadata": {},
     "output_type": "display_data"
    },
    {
     "data": {
      "text/plain": "<Figure size 640x480 with 1 Axes>",
      "image/png": "[encoded data removed]"
     },
     "metadata": {},
     "output_type": "display_data"
    },
    {
     "data": {
      "text/plain": "<Figure size 640x480 with 1 Axes>",
      "image/png": "[encoded data removed]"
     },
     "metadata": {},
     "output_type": "display_data"
    },
    {
     "data": {
      "text/plain": "<Figure size 640x480 with 1 Axes>",
      "image/png": "[encoded data removed]"
     },
     "metadata": {},
     "output_type": "display_data"
    },
    {
     "data": {
      "text/plain": "<Figure size 640x480 with 1 Axes>",
      "image/png": "[encoded data removed]"
     },
     "metadata": {},
     "output_type": "display_data"
    }
   ],
   "source": [
    "from matplotlib import pyplot as plt\n",
    "for i in range(5):\n",
    "    plt.style.use({'figure.facecolor':'white'})\n",
    "    plt.imshow(train_ds[i], interpolation='nearest', cmap='viridis') # TODO CUSTOM COLORS FOR AA\n",
    "    plt.show()"
   ],
   "metadata": {
    "collapsed": false,
    "ExecuteTime": {
     "end_time": "2023-08-30T07:49:03.407632500Z",
     "start_time": "2023-08-30T07:49:02.553996Z"
    }
   }
  },
  {
   "cell_type": "code",
   "execution_count": 75,
   "outputs": [],
   "source": [
    "train_ds = tf.convert_to_tensor(train_ds)\n",
    "val_ds = tf.convert_to_tensor(val_ds)"
   ],
   "metadata": {
    "collapsed": false,
    "ExecuteTime": {
     "end_time": "2023-08-30T07:49:48.796669100Z",
     "start_time": "2023-08-30T07:49:09.417760900Z"
    }
   }
  },
  {
   "cell_type": "code",
   "execution_count": 76,
   "outputs": [],
   "source": [
    "from keras import Sequential, Model\n",
    "from keras.layers import Embedding, Flatten, Dense, Conv1D, Conv2D, MaxPooling1D, MaxPooling2D, Input, concatenate, Rescaling\n",
    "# define two sets of inputs\n",
    "inputA = Input(shape=train_ds.shape[1:])\n",
    "# the first branch operates on the first input\n",
    "x = Model(inputs=inputA, outputs=inputA)\n",
    "# the second branch operates on the second input\n",
    "y = Rescaling(scale=1./100)(inputA) # for dictionary of 2000 words (X = 0, aa 1-20 in 100 steps)\n",
    "#y = Embedding(input_dim=2000, output_dim=3, input_length=50)(inputB)\n",
    "y = Conv2D(filters=128, kernel_size=(1,3), strides=1, activation=\"relu\", padding='same')(y)\n",
    "#y = MaxPooling2D(pool_size=(1,2), padding='same')(y)\n",
    "#y = Conv2D(filters=128, kernel_size=(1,3), strides=1, activation=\"relu\", padding='same')(y)\n",
    "#y = MaxPooling2D(pool_size=(1,2), padding='same')(y)\n",
    "y = Flatten()(y)\n",
    "y = Dense(210, activation=\"relu\")(y)\n",
    "# combine the output of the two branches\n",
    "#z = Flatten()(combined)\n",
    "z = Dense(num_classes, activation=\"softmax\")(y)\n",
    "# our model will accept the inputs of the two branches and\n",
    "# then output a single value\n",
    "model = Model(inputs=[x.input], outputs=z)"
   ],
   "metadata": {
    "collapsed": false,
    "ExecuteTime": {
     "end_time": "2023-08-30T07:49:49.161446100Z",
     "start_time": "2023-08-30T07:49:48.799669Z"
    }
   }
  },
  {
   "cell_type": "code",
   "execution_count": 77,
   "outputs": [
    {
     "name": "stdout",
     "output_type": "stream",
     "text": [
      "Model: \"model_1\"\n",
      "_________________________________________________________________\n",
      " Layer (type)                Output Shape              Param #   \n",
      "=================================================================\n",
      " input_1 (InputLayer)        [(None, 1, 63, 1)]        0         \n",
      "                                                                 \n",
      " rescaling (Rescaling)       (None, 1, 63, 1)          0         \n",
      "                                                                 \n",
      " conv2d (Conv2D)             (None, 1, 63, 128)        512       \n",
      "                                                                 \n",
      " flatten (Flatten)           (None, 8064)              0         \n",
      "                                                                 \n",
      " dense (Dense)               (None, 210)               1693650   \n",
      "                                                                 \n",
      " dense_1 (Dense)             (None, 6)                 1266      \n",
      "                                                                 \n",
      "=================================================================\n",
      "Total params: 1,695,428\n",
      "Trainable params: 1,695,428\n",
      "Non-trainable params: 0\n",
      "_________________________________________________________________\n"
     ]
    }
   ],
   "source": [
    "model.summary()"
   ],
   "metadata": {
    "collapsed": false,
    "ExecuteTime": {
     "end_time": "2023-08-30T07:49:53.216395200Z",
     "start_time": "2023-08-30T07:49:51.854594Z"
    }
   }
  },
  {
   "cell_type": "code",
   "execution_count": 78,
   "outputs": [
    {
     "data": {
      "image/png": "[encoded data removed]",
      "text/plain": "<IPython.core.display.Image object>"
     },
     "execution_count": 78,
     "metadata": {},
     "output_type": "execute_result"
    }
   ],
   "source": [
    "# plot model\n",
    "tf.keras.utils.plot_model(model, show_shapes=True, show_layer_names=True)"
   ],
   "metadata": {
    "collapsed": false,
    "ExecuteTime": {
     "end_time": "2023-08-30T07:49:56.756779700Z",
     "start_time": "2023-08-30T07:49:56.205113600Z"
    }
   }
  },
  {
   "cell_type": "code",
   "execution_count": 85,
   "outputs": [],
   "source": [
    "# Compile the model\n",
    "model.compile(loss=tf.keras.losses.CategoricalCrossentropy(), optimizer=keras.optimizers.Adam(learning_rate=0.0001), metrics=['categorical_accuracy'])"
   ],
   "metadata": {
    "collapsed": false,
    "ExecuteTime": {
     "end_time": "2023-08-30T08:00:17.920509600Z",
     "start_time": "2023-08-30T08:00:17.725834600Z"
    }
   }
  },
  {
   "cell_type": "code",
   "execution_count": 86,
   "outputs": [],
   "source": [
    "checkpoint_callback = ModelCheckpoint('precursor_charge_prediction_model_v1/cce_wo7_allSequences.h5', monitor='val_accuracy', save_best_only=True, mode='max')\n",
    "\n",
    "# Define early stopping\n",
    "early_stopping = tf.keras.callbacks.EarlyStopping(monitor='val_loss', patience=5)"
   ],
   "metadata": {
    "collapsed": false,
    "ExecuteTime": {
     "end_time": "2023-08-30T08:00:19.504119600Z",
     "start_time": "2023-08-30T08:00:19.312591700Z"
    }
   }
  },
  {
   "cell_type": "code",
   "execution_count": null,
   "outputs": [],
   "source": [
    "#steps_per_epoch = train_ds_b.shape[0] // 256"
   ],
   "metadata": {
    "collapsed": false
   }
  },
  {
   "cell_type": "code",
   "execution_count": 87,
   "outputs": [
    {
     "name": "stdout",
     "output_type": "stream",
     "text": [
      "Epoch 1/30\n",
      "146/147 [============================>.] - ETA: 0s - loss: 0.8922 - categorical_accuracy: 0.6065"
     ]
    },
    {
     "name": "stderr",
     "output_type": "stream",
     "text": [
      "WARNING:absl:Found untraced functions such as _jit_compiled_convolution_op while saving (showing 1 of 1). These functions will not be directly callable after loading.\n"
     ]
    },
    {
     "name": "stdout",
     "output_type": "stream",
     "text": [
      "INFO:tensorflow:Assets written to: C:\\Users\\micro\\OneDrive\\Dokumente\\GitHub\\Masterpraktikum\\wandb\\run-20230830_095952-yqcfpp7l\\files\\model-best\\assets\n"
     ]
    },
    {
     "name": "stderr",
     "output_type": "stream",
     "text": [
      "INFO:tensorflow:Assets written to: C:\\Users\\micro\\OneDrive\\Dokumente\\GitHub\\Masterpraktikum\\wandb\\run-20230830_095952-yqcfpp7l\\files\\model-best\\assets\n",
      "\u001B[34m\u001B[1mwandb\u001B[0m: Adding directory to artifact (C:\\Users\\micro\\OneDrive\\Dokumente\\GitHub\\Masterpraktikum\\wandb\\run-20230830_095952-yqcfpp7l\\files\\model-best)... Done. 0.1s\n"
     ]
    },
    {
     "name": "stdout",
     "output_type": "stream",
     "text": [
      "147/147 [==============================] - 25s 167ms/step - loss: 0.8922 - categorical_accuracy: 0.6065 - val_loss: 0.8933 - val_categorical_accuracy: 0.6049\n",
      "Epoch 2/30\n",
      "146/147 [============================>.] - ETA: 0s - loss: 0.8913 - categorical_accuracy: 0.6069"
     ]
    },
    {
     "name": "stderr",
     "output_type": "stream",
     "text": [
      "WARNING:absl:Found untraced functions such as _jit_compiled_convolution_op while saving (showing 1 of 1). These functions will not be directly callable after loading.\n"
     ]
    },
    {
     "name": "stdout",
     "output_type": "stream",
     "text": [
      "INFO:tensorflow:Assets written to: C:\\Users\\micro\\OneDrive\\Dokumente\\GitHub\\Masterpraktikum\\wandb\\run-20230830_095952-yqcfpp7l\\files\\model-best\\assets\n"
     ]
    },
    {
     "name": "stderr",
     "output_type": "stream",
     "text": [
      "INFO:tensorflow:Assets written to: C:\\Users\\micro\\OneDrive\\Dokumente\\GitHub\\Masterpraktikum\\wandb\\run-20230830_095952-yqcfpp7l\\files\\model-best\\assets\n",
      "\u001B[34m\u001B[1mwandb\u001B[0m: Adding directory to artifact (C:\\Users\\micro\\OneDrive\\Dokumente\\GitHub\\Masterpraktikum\\wandb\\run-20230830_095952-yqcfpp7l\\files\\model-best)... Done. 0.1s\n"
     ]
    },
    {
     "name": "stdout",
     "output_type": "stream",
     "text": [
      "147/147 [==============================] - 25s 168ms/step - loss: 0.8913 - categorical_accuracy: 0.6069 - val_loss: 0.8921 - val_categorical_accuracy: 0.6057\n",
      "Epoch 3/30\n",
      "146/147 [============================>.] - ETA: 0s - loss: 0.8904 - categorical_accuracy: 0.6070"
     ]
    },
    {
     "name": "stderr",
     "output_type": "stream",
     "text": [
      "WARNING:absl:Found untraced functions such as _jit_compiled_convolution_op while saving (showing 1 of 1). These functions will not be directly callable after loading.\n"
     ]
    },
    {
     "name": "stdout",
     "output_type": "stream",
     "text": [
      "INFO:tensorflow:Assets written to: C:\\Users\\micro\\OneDrive\\Dokumente\\GitHub\\Masterpraktikum\\wandb\\run-20230830_095952-yqcfpp7l\\files\\model-best\\assets\n"
     ]
    },
    {
     "name": "stderr",
     "output_type": "stream",
     "text": [
      "INFO:tensorflow:Assets written to: C:\\Users\\micro\\OneDrive\\Dokumente\\GitHub\\Masterpraktikum\\wandb\\run-20230830_095952-yqcfpp7l\\files\\model-best\\assets\n",
      "\u001B[34m\u001B[1mwandb\u001B[0m: Adding directory to artifact (C:\\Users\\micro\\OneDrive\\Dokumente\\GitHub\\Masterpraktikum\\wandb\\run-20230830_095952-yqcfpp7l\\files\\model-best)... Done. 0.1s\n"
     ]
    },
    {
     "name": "stdout",
     "output_type": "stream",
     "text": [
      "147/147 [==============================] - 25s 170ms/step - loss: 0.8904 - categorical_accuracy: 0.6070 - val_loss: 0.8915 - val_categorical_accuracy: 0.6059\n",
      "Epoch 4/30\n",
      "147/147 [==============================] - 26s 177ms/step - loss: 0.8898 - categorical_accuracy: 0.6069 - val_loss: 0.8915 - val_categorical_accuracy: 0.6051\n",
      "Epoch 5/30\n",
      "146/147 [============================>.] - ETA: 0s - loss: 0.8891 - categorical_accuracy: 0.6074"
     ]
    },
    {
     "name": "stderr",
     "output_type": "stream",
     "text": [
      "WARNING:absl:Found untraced functions such as _jit_compiled_convolution_op while saving (showing 1 of 1). These functions will not be directly callable after loading.\n"
     ]
    },
    {
     "name": "stdout",
     "output_type": "stream",
     "text": [
      "INFO:tensorflow:Assets written to: C:\\Users\\micro\\OneDrive\\Dokumente\\GitHub\\Masterpraktikum\\wandb\\run-20230830_095952-yqcfpp7l\\files\\model-best\\assets\n"
     ]
    },
    {
     "name": "stderr",
     "output_type": "stream",
     "text": [
      "INFO:tensorflow:Assets written to: C:\\Users\\micro\\OneDrive\\Dokumente\\GitHub\\Masterpraktikum\\wandb\\run-20230830_095952-yqcfpp7l\\files\\model-best\\assets\n",
      "\u001B[34m\u001B[1mwandb\u001B[0m: Adding directory to artifact (C:\\Users\\micro\\OneDrive\\Dokumente\\GitHub\\Masterpraktikum\\wandb\\run-20230830_095952-yqcfpp7l\\files\\model-best)... Done. 0.1s\n"
     ]
    },
    {
     "name": "stdout",
     "output_type": "stream",
     "text": [
      "147/147 [==============================] - 27s 182ms/step - loss: 0.8891 - categorical_accuracy: 0.6074 - val_loss: 0.8898 - val_categorical_accuracy: 0.6063\n",
      "Epoch 6/30\n",
      "147/147 [==============================] - 26s 176ms/step - loss: 0.8887 - categorical_accuracy: 0.6072 - val_loss: 0.8905 - val_categorical_accuracy: 0.6064\n",
      "Epoch 7/30\n",
      "147/147 [==============================] - 26s 180ms/step - loss: 0.8882 - categorical_accuracy: 0.6073 - val_loss: 0.8900 - val_categorical_accuracy: 0.6055\n",
      "Epoch 8/30\n",
      "146/147 [============================>.] - ETA: 0s - loss: 0.8876 - categorical_accuracy: 0.6074"
     ]
    },
    {
     "name": "stderr",
     "output_type": "stream",
     "text": [
      "WARNING:absl:Found untraced functions such as _jit_compiled_convolution_op while saving (showing 1 of 1). These functions will not be directly callable after loading.\n"
     ]
    },
    {
     "name": "stdout",
     "output_type": "stream",
     "text": [
      "INFO:tensorflow:Assets written to: C:\\Users\\micro\\OneDrive\\Dokumente\\GitHub\\Masterpraktikum\\wandb\\run-20230830_095952-yqcfpp7l\\files\\model-best\\assets\n"
     ]
    },
    {
     "name": "stderr",
     "output_type": "stream",
     "text": [
      "INFO:tensorflow:Assets written to: C:\\Users\\micro\\OneDrive\\Dokumente\\GitHub\\Masterpraktikum\\wandb\\run-20230830_095952-yqcfpp7l\\files\\model-best\\assets\n",
      "\u001B[34m\u001B[1mwandb\u001B[0m: Adding directory to artifact (C:\\Users\\micro\\OneDrive\\Dokumente\\GitHub\\Masterpraktikum\\wandb\\run-20230830_095952-yqcfpp7l\\files\\model-best)... Done. 0.1s\n"
     ]
    },
    {
     "name": "stdout",
     "output_type": "stream",
     "text": [
      "147/147 [==============================] - 27s 180ms/step - loss: 0.8877 - categorical_accuracy: 0.6074 - val_loss: 0.8887 - val_categorical_accuracy: 0.6065\n",
      "Epoch 9/30\n",
      "146/147 [============================>.] - ETA: 0s - loss: 0.8873 - categorical_accuracy: 0.6075"
     ]
    },
    {
     "name": "stderr",
     "output_type": "stream",
     "text": [
      "WARNING:absl:Found untraced functions such as _jit_compiled_convolution_op while saving (showing 1 of 1). These functions will not be directly callable after loading.\n"
     ]
    },
    {
     "name": "stdout",
     "output_type": "stream",
     "text": [
      "INFO:tensorflow:Assets written to: C:\\Users\\micro\\OneDrive\\Dokumente\\GitHub\\Masterpraktikum\\wandb\\run-20230830_095952-yqcfpp7l\\files\\model-best\\assets\n"
     ]
    },
    {
     "name": "stderr",
     "output_type": "stream",
     "text": [
      "INFO:tensorflow:Assets written to: C:\\Users\\micro\\OneDrive\\Dokumente\\GitHub\\Masterpraktikum\\wandb\\run-20230830_095952-yqcfpp7l\\files\\model-best\\assets\n",
      "\u001B[34m\u001B[1mwandb\u001B[0m: Adding directory to artifact (C:\\Users\\micro\\OneDrive\\Dokumente\\GitHub\\Masterpraktikum\\wandb\\run-20230830_095952-yqcfpp7l\\files\\model-best)... Done. 0.1s\n"
     ]
    },
    {
     "name": "stdout",
     "output_type": "stream",
     "text": [
      "147/147 [==============================] - 25s 168ms/step - loss: 0.8873 - categorical_accuracy: 0.6075 - val_loss: 0.8879 - val_categorical_accuracy: 0.6066\n",
      "Epoch 10/30\n",
      "146/147 [============================>.] - ETA: 0s - loss: 0.8867 - categorical_accuracy: 0.6076"
     ]
    },
    {
     "name": "stderr",
     "output_type": "stream",
     "text": [
      "WARNING:absl:Found untraced functions such as _jit_compiled_convolution_op while saving (showing 1 of 1). These functions will not be directly callable after loading.\n"
     ]
    },
    {
     "name": "stdout",
     "output_type": "stream",
     "text": [
      "INFO:tensorflow:Assets written to: C:\\Users\\micro\\OneDrive\\Dokumente\\GitHub\\Masterpraktikum\\wandb\\run-20230830_095952-yqcfpp7l\\files\\model-best\\assets\n"
     ]
    },
    {
     "name": "stderr",
     "output_type": "stream",
     "text": [
      "INFO:tensorflow:Assets written to: C:\\Users\\micro\\OneDrive\\Dokumente\\GitHub\\Masterpraktikum\\wandb\\run-20230830_095952-yqcfpp7l\\files\\model-best\\assets\n",
      "\u001B[34m\u001B[1mwandb\u001B[0m: Adding directory to artifact (C:\\Users\\micro\\OneDrive\\Dokumente\\GitHub\\Masterpraktikum\\wandb\\run-20230830_095952-yqcfpp7l\\files\\model-best)... Done. 0.1s\n"
     ]
    },
    {
     "name": "stdout",
     "output_type": "stream",
     "text": [
      "147/147 [==============================] - 25s 169ms/step - loss: 0.8867 - categorical_accuracy: 0.6076 - val_loss: 0.8877 - val_categorical_accuracy: 0.6068\n",
      "Epoch 11/30\n",
      "147/147 [==============================] - 25s 172ms/step - loss: 0.8863 - categorical_accuracy: 0.6077 - val_loss: 0.8881 - val_categorical_accuracy: 0.6067\n",
      "Epoch 12/30\n",
      "146/147 [============================>.] - ETA: 0s - loss: 0.8861 - categorical_accuracy: 0.6078"
     ]
    },
    {
     "name": "stderr",
     "output_type": "stream",
     "text": [
      "WARNING:absl:Found untraced functions such as _jit_compiled_convolution_op while saving (showing 1 of 1). These functions will not be directly callable after loading.\n"
     ]
    },
    {
     "name": "stdout",
     "output_type": "stream",
     "text": [
      "INFO:tensorflow:Assets written to: C:\\Users\\micro\\OneDrive\\Dokumente\\GitHub\\Masterpraktikum\\wandb\\run-20230830_095952-yqcfpp7l\\files\\model-best\\assets\n"
     ]
    },
    {
     "name": "stderr",
     "output_type": "stream",
     "text": [
      "INFO:tensorflow:Assets written to: C:\\Users\\micro\\OneDrive\\Dokumente\\GitHub\\Masterpraktikum\\wandb\\run-20230830_095952-yqcfpp7l\\files\\model-best\\assets\n",
      "\u001B[34m\u001B[1mwandb\u001B[0m: Adding directory to artifact (C:\\Users\\micro\\OneDrive\\Dokumente\\GitHub\\Masterpraktikum\\wandb\\run-20230830_095952-yqcfpp7l\\files\\model-best)... Done. 0.1s\n"
     ]
    },
    {
     "name": "stdout",
     "output_type": "stream",
     "text": [
      "147/147 [==============================] - 26s 176ms/step - loss: 0.8861 - categorical_accuracy: 0.6078 - val_loss: 0.8872 - val_categorical_accuracy: 0.6060\n",
      "Epoch 13/30\n",
      "146/147 [============================>.] - ETA: 0s - loss: 0.8859 - categorical_accuracy: 0.6075"
     ]
    },
    {
     "name": "stderr",
     "output_type": "stream",
     "text": [
      "WARNING:absl:Found untraced functions such as _jit_compiled_convolution_op while saving (showing 1 of 1). These functions will not be directly callable after loading.\n"
     ]
    },
    {
     "name": "stdout",
     "output_type": "stream",
     "text": [
      "INFO:tensorflow:Assets written to: C:\\Users\\micro\\OneDrive\\Dokumente\\GitHub\\Masterpraktikum\\wandb\\run-20230830_095952-yqcfpp7l\\files\\model-best\\assets\n"
     ]
    },
    {
     "name": "stderr",
     "output_type": "stream",
     "text": [
      "INFO:tensorflow:Assets written to: C:\\Users\\micro\\OneDrive\\Dokumente\\GitHub\\Masterpraktikum\\wandb\\run-20230830_095952-yqcfpp7l\\files\\model-best\\assets\n",
      "\u001B[34m\u001B[1mwandb\u001B[0m: Adding directory to artifact (C:\\Users\\micro\\OneDrive\\Dokumente\\GitHub\\Masterpraktikum\\wandb\\run-20230830_095952-yqcfpp7l\\files\\model-best)... Done. 0.1s\n"
     ]
    },
    {
     "name": "stdout",
     "output_type": "stream",
     "text": [
      "147/147 [==============================] - 25s 168ms/step - loss: 0.8859 - categorical_accuracy: 0.6075 - val_loss: 0.8864 - val_categorical_accuracy: 0.6071\n",
      "Epoch 14/30\n",
      "147/147 [==============================] - 23s 159ms/step - loss: 0.8854 - categorical_accuracy: 0.6078 - val_loss: 0.8875 - val_categorical_accuracy: 0.6064\n",
      "Epoch 15/30\n",
      "147/147 [==============================] - 23s 155ms/step - loss: 0.8850 - categorical_accuracy: 0.6082 - val_loss: 0.8872 - val_categorical_accuracy: 0.6056\n",
      "Epoch 16/30\n",
      "146/147 [============================>.] - ETA: 0s - loss: 0.8846 - categorical_accuracy: 0.6081"
     ]
    },
    {
     "name": "stderr",
     "output_type": "stream",
     "text": [
      "WARNING:absl:Found untraced functions such as _jit_compiled_convolution_op while saving (showing 1 of 1). These functions will not be directly callable after loading.\n"
     ]
    },
    {
     "name": "stdout",
     "output_type": "stream",
     "text": [
      "INFO:tensorflow:Assets written to: C:\\Users\\micro\\OneDrive\\Dokumente\\GitHub\\Masterpraktikum\\wandb\\run-20230830_095952-yqcfpp7l\\files\\model-best\\assets\n"
     ]
    },
    {
     "name": "stderr",
     "output_type": "stream",
     "text": [
      "INFO:tensorflow:Assets written to: C:\\Users\\micro\\OneDrive\\Dokumente\\GitHub\\Masterpraktikum\\wandb\\run-20230830_095952-yqcfpp7l\\files\\model-best\\assets\n",
      "\u001B[34m\u001B[1mwandb\u001B[0m: Adding directory to artifact (C:\\Users\\micro\\OneDrive\\Dokumente\\GitHub\\Masterpraktikum\\wandb\\run-20230830_095952-yqcfpp7l\\files\\model-best)... Done. 0.1s\n"
     ]
    },
    {
     "name": "stdout",
     "output_type": "stream",
     "text": [
      "147/147 [==============================] - 24s 161ms/step - loss: 0.8846 - categorical_accuracy: 0.6081 - val_loss: 0.8863 - val_categorical_accuracy: 0.6066\n",
      "Epoch 17/30\n",
      "146/147 [============================>.] - ETA: 0s - loss: 0.8844 - categorical_accuracy: 0.6080"
     ]
    },
    {
     "name": "stderr",
     "output_type": "stream",
     "text": [
      "WARNING:absl:Found untraced functions such as _jit_compiled_convolution_op while saving (showing 1 of 1). These functions will not be directly callable after loading.\n"
     ]
    },
    {
     "name": "stdout",
     "output_type": "stream",
     "text": [
      "INFO:tensorflow:Assets written to: C:\\Users\\micro\\OneDrive\\Dokumente\\GitHub\\Masterpraktikum\\wandb\\run-20230830_095952-yqcfpp7l\\files\\model-best\\assets\n"
     ]
    },
    {
     "name": "stderr",
     "output_type": "stream",
     "text": [
      "INFO:tensorflow:Assets written to: C:\\Users\\micro\\OneDrive\\Dokumente\\GitHub\\Masterpraktikum\\wandb\\run-20230830_095952-yqcfpp7l\\files\\model-best\\assets\n",
      "\u001B[34m\u001B[1mwandb\u001B[0m: Adding directory to artifact (C:\\Users\\micro\\OneDrive\\Dokumente\\GitHub\\Masterpraktikum\\wandb\\run-20230830_095952-yqcfpp7l\\files\\model-best)... Done. 0.1s\n"
     ]
    },
    {
     "name": "stdout",
     "output_type": "stream",
     "text": [
      "147/147 [==============================] - 23s 157ms/step - loss: 0.8844 - categorical_accuracy: 0.6080 - val_loss: 0.8851 - val_categorical_accuracy: 0.6074\n",
      "Epoch 18/30\n",
      "147/147 [==============================] - 22s 153ms/step - loss: 0.8840 - categorical_accuracy: 0.6082 - val_loss: 0.8858 - val_categorical_accuracy: 0.6068\n",
      "Epoch 19/30\n",
      "146/147 [============================>.] - ETA: 0s - loss: 0.8839 - categorical_accuracy: 0.6080"
     ]
    },
    {
     "name": "stderr",
     "output_type": "stream",
     "text": [
      "WARNING:absl:Found untraced functions such as _jit_compiled_convolution_op while saving (showing 1 of 1). These functions will not be directly callable after loading.\n"
     ]
    },
    {
     "name": "stdout",
     "output_type": "stream",
     "text": [
      "INFO:tensorflow:Assets written to: C:\\Users\\micro\\OneDrive\\Dokumente\\GitHub\\Masterpraktikum\\wandb\\run-20230830_095952-yqcfpp7l\\files\\model-best\\assets\n"
     ]
    },
    {
     "name": "stderr",
     "output_type": "stream",
     "text": [
      "INFO:tensorflow:Assets written to: C:\\Users\\micro\\OneDrive\\Dokumente\\GitHub\\Masterpraktikum\\wandb\\run-20230830_095952-yqcfpp7l\\files\\model-best\\assets\n",
      "\u001B[34m\u001B[1mwandb\u001B[0m: Adding directory to artifact (C:\\Users\\micro\\OneDrive\\Dokumente\\GitHub\\Masterpraktikum\\wandb\\run-20230830_095952-yqcfpp7l\\files\\model-best)... Done. 0.1s\n"
     ]
    },
    {
     "name": "stdout",
     "output_type": "stream",
     "text": [
      "147/147 [==============================] - 23s 157ms/step - loss: 0.8839 - categorical_accuracy: 0.6080 - val_loss: 0.8847 - val_categorical_accuracy: 0.6074\n",
      "Epoch 20/30\n",
      "147/147 [==============================] - 22s 153ms/step - loss: 0.8835 - categorical_accuracy: 0.6085 - val_loss: 0.8867 - val_categorical_accuracy: 0.6064\n",
      "Epoch 21/30\n",
      "146/147 [============================>.] - ETA: 0s - loss: 0.8834 - categorical_accuracy: 0.6080"
     ]
    },
    {
     "name": "stderr",
     "output_type": "stream",
     "text": [
      "WARNING:absl:Found untraced functions such as _jit_compiled_convolution_op while saving (showing 1 of 1). These functions will not be directly callable after loading.\n"
     ]
    },
    {
     "name": "stdout",
     "output_type": "stream",
     "text": [
      "INFO:tensorflow:Assets written to: C:\\Users\\micro\\OneDrive\\Dokumente\\GitHub\\Masterpraktikum\\wandb\\run-20230830_095952-yqcfpp7l\\files\\model-best\\assets\n"
     ]
    },
    {
     "name": "stderr",
     "output_type": "stream",
     "text": [
      "INFO:tensorflow:Assets written to: C:\\Users\\micro\\OneDrive\\Dokumente\\GitHub\\Masterpraktikum\\wandb\\run-20230830_095952-yqcfpp7l\\files\\model-best\\assets\n",
      "\u001B[34m\u001B[1mwandb\u001B[0m: Adding directory to artifact (C:\\Users\\micro\\OneDrive\\Dokumente\\GitHub\\Masterpraktikum\\wandb\\run-20230830_095952-yqcfpp7l\\files\\model-best)... Done. 0.1s\n"
     ]
    },
    {
     "name": "stdout",
     "output_type": "stream",
     "text": [
      "147/147 [==============================] - 24s 161ms/step - loss: 0.8834 - categorical_accuracy: 0.6080 - val_loss: 0.8845 - val_categorical_accuracy: 0.6078\n",
      "Epoch 22/30\n",
      "146/147 [============================>.] - ETA: 0s - loss: 0.8830 - categorical_accuracy: 0.6084"
     ]
    },
    {
     "name": "stderr",
     "output_type": "stream",
     "text": [
      "WARNING:absl:Found untraced functions such as _jit_compiled_convolution_op while saving (showing 1 of 1). These functions will not be directly callable after loading.\n"
     ]
    },
    {
     "name": "stdout",
     "output_type": "stream",
     "text": [
      "INFO:tensorflow:Assets written to: C:\\Users\\micro\\OneDrive\\Dokumente\\GitHub\\Masterpraktikum\\wandb\\run-20230830_095952-yqcfpp7l\\files\\model-best\\assets\n"
     ]
    },
    {
     "name": "stderr",
     "output_type": "stream",
     "text": [
      "INFO:tensorflow:Assets written to: C:\\Users\\micro\\OneDrive\\Dokumente\\GitHub\\Masterpraktikum\\wandb\\run-20230830_095952-yqcfpp7l\\files\\model-best\\assets\n",
      "\u001B[34m\u001B[1mwandb\u001B[0m: Adding directory to artifact (C:\\Users\\micro\\OneDrive\\Dokumente\\GitHub\\Masterpraktikum\\wandb\\run-20230830_095952-yqcfpp7l\\files\\model-best)... Done. 0.1s\n"
     ]
    },
    {
     "name": "stdout",
     "output_type": "stream",
     "text": [
      "147/147 [==============================] - 24s 164ms/step - loss: 0.8830 - categorical_accuracy: 0.6084 - val_loss: 0.8845 - val_categorical_accuracy: 0.6073\n",
      "Epoch 23/30\n",
      "146/147 [============================>.] - ETA: 0s - loss: 0.8829 - categorical_accuracy: 0.6086"
     ]
    },
    {
     "name": "stderr",
     "output_type": "stream",
     "text": [
      "WARNING:absl:Found untraced functions such as _jit_compiled_convolution_op while saving (showing 1 of 1). These functions will not be directly callable after loading.\n"
     ]
    },
    {
     "name": "stdout",
     "output_type": "stream",
     "text": [
      "INFO:tensorflow:Assets written to: C:\\Users\\micro\\OneDrive\\Dokumente\\GitHub\\Masterpraktikum\\wandb\\run-20230830_095952-yqcfpp7l\\files\\model-best\\assets\n"
     ]
    },
    {
     "name": "stderr",
     "output_type": "stream",
     "text": [
      "INFO:tensorflow:Assets written to: C:\\Users\\micro\\OneDrive\\Dokumente\\GitHub\\Masterpraktikum\\wandb\\run-20230830_095952-yqcfpp7l\\files\\model-best\\assets\n",
      "\u001B[34m\u001B[1mwandb\u001B[0m: Adding directory to artifact (C:\\Users\\micro\\OneDrive\\Dokumente\\GitHub\\Masterpraktikum\\wandb\\run-20230830_095952-yqcfpp7l\\files\\model-best)... Done. 0.1s\n"
     ]
    },
    {
     "name": "stdout",
     "output_type": "stream",
     "text": [
      "147/147 [==============================] - 27s 186ms/step - loss: 0.8829 - categorical_accuracy: 0.6086 - val_loss: 0.8839 - val_categorical_accuracy: 0.6080\n",
      "Epoch 24/30\n",
      "147/147 [==============================] - 26s 175ms/step - loss: 0.8828 - categorical_accuracy: 0.6086 - val_loss: 0.8840 - val_categorical_accuracy: 0.6072\n",
      "Epoch 25/30\n",
      "147/147 [==============================] - 26s 176ms/step - loss: 0.8823 - categorical_accuracy: 0.6087 - val_loss: 0.8846 - val_categorical_accuracy: 0.6062\n",
      "Epoch 26/30\n",
      "146/147 [============================>.] - ETA: 0s - loss: 0.8822 - categorical_accuracy: 0.6089"
     ]
    },
    {
     "name": "stderr",
     "output_type": "stream",
     "text": [
      "WARNING:absl:Found untraced functions such as _jit_compiled_convolution_op while saving (showing 1 of 1). These functions will not be directly callable after loading.\n"
     ]
    },
    {
     "name": "stdout",
     "output_type": "stream",
     "text": [
      "INFO:tensorflow:Assets written to: C:\\Users\\micro\\OneDrive\\Dokumente\\GitHub\\Masterpraktikum\\wandb\\run-20230830_095952-yqcfpp7l\\files\\model-best\\assets\n"
     ]
    },
    {
     "name": "stderr",
     "output_type": "stream",
     "text": [
      "INFO:tensorflow:Assets written to: C:\\Users\\micro\\OneDrive\\Dokumente\\GitHub\\Masterpraktikum\\wandb\\run-20230830_095952-yqcfpp7l\\files\\model-best\\assets\n",
      "\u001B[34m\u001B[1mwandb\u001B[0m: Adding directory to artifact (C:\\Users\\micro\\OneDrive\\Dokumente\\GitHub\\Masterpraktikum\\wandb\\run-20230830_095952-yqcfpp7l\\files\\model-best)... Done. 0.1s\n"
     ]
    },
    {
     "name": "stdout",
     "output_type": "stream",
     "text": [
      "147/147 [==============================] - 26s 176ms/step - loss: 0.8822 - categorical_accuracy: 0.6089 - val_loss: 0.8832 - val_categorical_accuracy: 0.6077\n",
      "Epoch 27/30\n",
      "146/147 [============================>.] - ETA: 0s - loss: 0.8818 - categorical_accuracy: 0.6089"
     ]
    },
    {
     "name": "stderr",
     "output_type": "stream",
     "text": [
      "WARNING:absl:Found untraced functions such as _jit_compiled_convolution_op while saving (showing 1 of 1). These functions will not be directly callable after loading.\n"
     ]
    },
    {
     "name": "stdout",
     "output_type": "stream",
     "text": [
      "INFO:tensorflow:Assets written to: C:\\Users\\micro\\OneDrive\\Dokumente\\GitHub\\Masterpraktikum\\wandb\\run-20230830_095952-yqcfpp7l\\files\\model-best\\assets\n"
     ]
    },
    {
     "name": "stderr",
     "output_type": "stream",
     "text": [
      "INFO:tensorflow:Assets written to: C:\\Users\\micro\\OneDrive\\Dokumente\\GitHub\\Masterpraktikum\\wandb\\run-20230830_095952-yqcfpp7l\\files\\model-best\\assets\n",
      "\u001B[34m\u001B[1mwandb\u001B[0m: Adding directory to artifact (C:\\Users\\micro\\OneDrive\\Dokumente\\GitHub\\Masterpraktikum\\wandb\\run-20230830_095952-yqcfpp7l\\files\\model-best)... Done. 0.1s\n"
     ]
    },
    {
     "name": "stdout",
     "output_type": "stream",
     "text": [
      "147/147 [==============================] - 26s 176ms/step - loss: 0.8819 - categorical_accuracy: 0.6089 - val_loss: 0.8829 - val_categorical_accuracy: 0.6085\n",
      "Epoch 28/30\n",
      "147/147 [==============================] - 25s 169ms/step - loss: 0.8820 - categorical_accuracy: 0.6087 - val_loss: 0.8834 - val_categorical_accuracy: 0.6074\n",
      "Epoch 29/30\n",
      "147/147 [==============================] - 24s 162ms/step - loss: 0.8818 - categorical_accuracy: 0.6089 - val_loss: 0.8844 - val_categorical_accuracy: 0.6069\n",
      "Epoch 30/30\n",
      "146/147 [============================>.] - ETA: 0s - loss: 0.8817 - categorical_accuracy: 0.6086"
     ]
    },
    {
     "name": "stderr",
     "output_type": "stream",
     "text": [
      "WARNING:absl:Found untraced functions such as _jit_compiled_convolution_op while saving (showing 1 of 1). These functions will not be directly callable after loading.\n"
     ]
    },
    {
     "name": "stdout",
     "output_type": "stream",
     "text": [
      "INFO:tensorflow:Assets written to: C:\\Users\\micro\\OneDrive\\Dokumente\\GitHub\\Masterpraktikum\\wandb\\run-20230830_095952-yqcfpp7l\\files\\model-best\\assets\n"
     ]
    },
    {
     "name": "stderr",
     "output_type": "stream",
     "text": [
      "INFO:tensorflow:Assets written to: C:\\Users\\micro\\OneDrive\\Dokumente\\GitHub\\Masterpraktikum\\wandb\\run-20230830_095952-yqcfpp7l\\files\\model-best\\assets\n",
      "\u001B[34m\u001B[1mwandb\u001B[0m: Adding directory to artifact (C:\\Users\\micro\\OneDrive\\Dokumente\\GitHub\\Masterpraktikum\\wandb\\run-20230830_095952-yqcfpp7l\\files\\model-best)... Done. 0.1s\n"
     ]
    },
    {
     "name": "stdout",
     "output_type": "stream",
     "text": [
      "147/147 [==============================] - 26s 176ms/step - loss: 0.8817 - categorical_accuracy: 0.6086 - val_loss: 0.8827 - val_categorical_accuracy: 0.6077\n"
     ]
    }
   ],
   "source": [
    "# Train the model\n",
    "# X_train, X_test, y_train, y_test\n",
    "history = model.fit(train_ds, train_labels_embed, epochs=30, batch_size=4096, validation_data=(val_ds, val_labels_embed), callbacks=[WandbCallback()]) #WandbCallback()"
   ],
   "metadata": {
    "collapsed": false,
    "ExecuteTime": {
     "end_time": "2023-08-30T08:12:46.316944200Z",
     "start_time": "2023-08-30T08:00:21.505740900Z"
    }
   }
  },
  {
   "cell_type": "code",
   "execution_count": 90,
   "outputs": [
    {
     "data": {
      "text/plain": "<Figure size 1200x600 with 2 Axes>",
      "image/png": "[encoded data removed]"
     },
     "metadata": {},
     "output_type": "display_data"
    }
   ],
   "source": [
    "# Access the loss, validation loss, and accuracy from the history object\n",
    "loss = history.history['loss']\n",
    "val_loss = history.history['val_loss']\n",
    "accuracy = history.history['categorical_accuracy']\n",
    "val_accuracy = history.history['val_categorical_accuracy']\n",
    "\n",
    "# Plot the loss, validation loss, and accuracy curves\n",
    "epochs = range(1, len(loss) + 1)\n",
    "\n",
    "# Create subplots\n",
    "fig2, (ax1, ax2) = plt.subplots(1, 2, figsize=(12, 6))\n",
    "\n",
    "# Plot loss and validation loss\n",
    "ax1.plot(epochs, loss, 'b', label='Training Loss')\n",
    "ax1.plot(epochs, val_loss, 'r', label='Validation Loss')\n",
    "ax1.set_title('Training and Validation Loss')\n",
    "ax1.set_xlabel('Epochs')\n",
    "ax1.set_ylabel('Loss')\n",
    "ax1.legend()\n",
    "\n",
    "# Plot accuracy and validation accuracy\n",
    "ax2.plot(epochs, accuracy, 'b', label='Training Accuracy')\n",
    "ax2.plot(epochs, val_accuracy, 'r', label='Validation Accuracy')\n",
    "ax2.set_title('Training and Validation Accuracy')\n",
    "ax2.set_xlabel('Epochs')\n",
    "ax2.set_ylabel('Accuracy')\n",
    "ax2.legend()\n",
    "\n",
    "# Adjust spacing between subplots\n",
    "plt.tight_layout()\n",
    "\n",
    "# Show the plots\n",
    "plt.show()"
   ],
   "metadata": {
    "collapsed": false,
    "ExecuteTime": {
     "end_time": "2023-08-30T08:18:42.963977200Z",
     "start_time": "2023-08-30T08:18:42.484968900Z"
    }
   }
  },
  {
   "cell_type": "code",
   "execution_count": null,
   "outputs": [],
   "source": [
    "model.save('precursor_charge_prediction_conv2d_model/big_conv2d_model.h5')"
   ],
   "metadata": {
    "collapsed": false
   }
  },
  {
   "cell_type": "markdown",
   "source": [
    "# Embedding model test:"
   ],
   "metadata": {
    "collapsed": false
   }
  },
  {
   "cell_type": "code",
   "execution_count": 98,
   "outputs": [],
   "source": [
    "# Create an instance of StratifiedShuffleSplit\n",
    "sss = StratifiedShuffleSplit(n_splits=1, test_size=0.2, random_state=42)"
   ],
   "metadata": {
    "collapsed": false,
    "ExecuteTime": {
     "end_time": "2023-09-05T10:29:27.057103100Z",
     "start_time": "2023-09-05T10:29:26.797042300Z"
    }
   }
  },
  {
   "cell_type": "code",
   "execution_count": 59,
   "outputs": [],
   "source": [
    "df1 = merged_df.sample(frac = 0.1, random_state = 42)\n",
    "test_ds_embed = np.array(df1['modified_sequence_vector'])\n",
    "test_ds_embed_raw = np.array(df1['modified_sequence'])\n",
    "test_labels_embed = np.array(df1['most_abundant_charge_vector'])\n",
    "test_true_labels_normalized = np.array(df1['normalized'])\n",
    "\n",
    "df2 = merged_df.drop(df1.index)\n",
    "trainval_ds_embed = np.array(df2['modified_sequence_vector'])\n",
    "trainval_ds_embed_raw = np.array(df2['modified_sequence'])\n",
    "trainval_labels_embed = np.array(df2['most_abundant_charge_vector'])"
   ],
   "metadata": {
    "collapsed": false,
    "ExecuteTime": {
     "end_time": "2023-09-05T10:12:58.487681200Z",
     "start_time": "2023-09-05T10:12:57.964514900Z"
    }
   }
  },
  {
   "cell_type": "code",
   "execution_count": 37,
   "outputs": [],
   "source": [
    "# Perform the split train and val\n",
    "train_indicies_embed, val_indicies_embed = next(sss.split(trainval_ds_embed, trainval_labels_embed, trainval_ds_embed_raw))"
   ],
   "metadata": {
    "collapsed": false,
    "ExecuteTime": {
     "end_time": "2023-09-05T10:10:52.039627700Z",
     "start_time": "2023-09-05T10:10:50.797414400Z"
    }
   }
  },
  {
   "cell_type": "code",
   "execution_count": 38,
   "outputs": [],
   "source": [
    "train_ds_embed, train_labels_embed = trainval_ds_embed[train_indicies_embed], trainval_labels_embed[train_indicies_embed]\n",
    "val_ds_embed, val_labels_embed = trainval_ds_embed[val_indicies_embed], trainval_labels_embed[val_indicies_embed]\n",
    "train_ds_embed_raw, val_ds_embed_raw = trainval_ds_embed_raw[train_indicies_embed], trainval_ds_embed_raw[val_indicies_embed]\n",
    "\n",
    "charges = [1,2,3,4,5,6] # TODO SELECT CLASSES\n",
    "num_classes = len(charges)"
   ],
   "metadata": {
    "collapsed": false,
    "ExecuteTime": {
     "end_time": "2023-09-05T10:10:52.414298500Z",
     "start_time": "2023-09-05T10:10:52.039627700Z"
    }
   }
  },
  {
   "cell_type": "code",
   "execution_count": 39,
   "outputs": [],
   "source": [
    "train_ds_embed  = [np.array(x) for x in train_ds_embed]\n",
    "val_ds_embed = [np.array(x) for x in val_ds_embed]\n",
    "test_ds_embed = [np.array(x) for x in test_ds_embed]"
   ],
   "metadata": {
    "collapsed": false,
    "ExecuteTime": {
     "end_time": "2023-09-05T10:10:56.815314500Z",
     "start_time": "2023-09-05T10:10:52.415298200Z"
    }
   }
  },
  {
   "cell_type": "code",
   "execution_count": 40,
   "outputs": [],
   "source": [
    "train_labels_embed = [np.array(x) for x in train_labels_embed]\n",
    "val_labels_embed = [np.array(x) for x in val_labels_embed]\n",
    "test_labels_embed = [np.array(x) for x in test_labels_embed]"
   ],
   "metadata": {
    "collapsed": false,
    "ExecuteTime": {
     "end_time": "2023-09-05T10:10:57.878787Z",
     "start_time": "2023-09-05T10:10:56.816315600Z"
    }
   }
  },
  {
   "cell_type": "code",
   "execution_count": 41,
   "outputs": [],
   "source": [
    "train_ds_embed = tf.convert_to_tensor(train_ds_embed)\n",
    "val_ds_embed = tf.convert_to_tensor(val_ds_embed)\n",
    "train_labels_embed = tf.convert_to_tensor(train_labels_embed)\n",
    "val_labels_embed = tf.convert_to_tensor(val_labels_embed)\n",
    "\n",
    "test_ds_embed = tf.convert_to_tensor(test_ds_embed)\n",
    "test_labels_embed = tf.convert_to_tensor(test_labels_embed)"
   ],
   "metadata": {
    "collapsed": false,
    "ExecuteTime": {
     "end_time": "2023-09-05T10:11:03.223688200Z",
     "start_time": "2023-09-05T10:10:57.879787600Z"
    }
   }
  },
  {
   "cell_type": "markdown",
   "source": [],
   "metadata": {
    "collapsed": false
   }
  },
  {
   "cell_type": "code",
   "execution_count": 42,
   "outputs": [
    {
     "data": {
      "text/plain": "<tf.Tensor: shape=(63,), dtype=int32, numpy=\narray([18, 18, 16,  1,  6, 13, 19, 16, 16,  4,  9,  1,  4, 11, 12,  8, 10,\n        4,  8, 12,  4, 17, 10, 15,  0,  0,  0,  0,  0,  0,  0,  0,  0,  0,\n        0,  0,  0,  0,  0,  0,  0,  0,  0,  0,  0,  0,  0,  0,  0,  0,  0,\n        0,  0,  0,  0,  0,  0,  0,  0,  0,  0,  0,  0])>"
     },
     "execution_count": 42,
     "metadata": {},
     "output_type": "execute_result"
    }
   ],
   "source": [
    "train_ds_embed[0]"
   ],
   "metadata": {
    "collapsed": false,
    "ExecuteTime": {
     "end_time": "2023-09-05T10:11:03.476550Z",
     "start_time": "2023-09-05T10:11:03.224687600Z"
    }
   }
  },
  {
   "cell_type": "code",
   "execution_count": 108,
   "outputs": [
    {
     "data": {
      "text/plain": "<IPython.core.display.HTML object>",
      "text/html": "Finishing last run (ID:uc4drky9) before initializing another..."
     },
     "metadata": {},
     "output_type": "display_data"
    },
    {
     "data": {
      "text/plain": "<IPython.core.display.HTML object>",
      "text/html": "Waiting for W&B process to finish... <strong style=\"color:green\">(success).</strong>"
     },
     "metadata": {},
     "output_type": "display_data"
    },
    {
     "data": {
      "text/plain": "VBox(children=(Label(value='91.828 MB of 91.828 MB uploaded (0.287 MB deduped)\\r'), FloatProgress(value=1.0, m…",
      "application/vnd.jupyter.widget-view+json": {
       "version_major": 2,
       "version_minor": 0,
       "model_id": "7d7df0985408440684e1d366ed814766"
      }
     },
     "metadata": {},
     "output_type": "display_data"
    },
    {
     "data": {
      "text/plain": "<IPython.core.display.HTML object>",
      "text/html": "<style>\n    table.wandb td:nth-child(1) { padding: 0 10px; text-align: left ; width: auto;} td:nth-child(2) {text-align: left ; width: 100%}\n    .wandb-row { display: flex; flex-direction: row; flex-wrap: wrap; justify-content: flex-start; width: 100% }\n    .wandb-col { display: flex; flex-direction: column; flex-basis: 100%; flex: 1; padding: 10px; }\n    </style>\n<div class=\"wandb-row\"><div class=\"wandb-col\"><h3>Run history:</h3><br/><table class=\"wandb\"><tr><td>categorical_accuracy</td><td>▁▃▄▅▆▇▇▇▇█████████████████████</td></tr><tr><td>epoch</td><td>▁▁▁▂▂▂▂▃▃▃▃▄▄▄▄▅▅▅▅▆▆▆▆▇▇▇▇███</td></tr><tr><td>loss</td><td>█▆▅▄▃▂▂▂▁▁▁▁▁▁▁▁▁▁▁▁▁▁▁▁▁▁▁▁▁▁</td></tr><tr><td>val_categorical_accuracy</td><td>▁▂▄▅▆▆▇▇██████████████████████</td></tr><tr><td>val_loss</td><td>█▇▅▄▃▂▂▂▂▁▁▁▁▁▁▁▁▁▁▁▁▁▁▁▁▁▁▁▁▁</td></tr></table><br/></div><div class=\"wandb-col\"><h3>Run summary:</h3><br/><table class=\"wandb\"><tr><td>best_epoch</td><td>29</td></tr><tr><td>best_val_loss</td><td>0.49885</td></tr><tr><td>categorical_accuracy</td><td>0.78715</td></tr><tr><td>epoch</td><td>29</td></tr><tr><td>loss</td><td>0.49712</td></tr><tr><td>val_categorical_accuracy</td><td>0.78749</td></tr><tr><td>val_loss</td><td>0.49885</td></tr></table><br/></div></div>"
     },
     "metadata": {},
     "output_type": "display_data"
    },
    {
     "data": {
      "text/plain": "<IPython.core.display.HTML object>",
      "text/html": " View run <strong style=\"color:#cdcd00\">dauntless-energy-4</strong> at: <a href='https://wandb.ai/team-bioinf/embed_visualisation/runs/uc4drky9' target=\"_blank\">https://wandb.ai/team-bioinf/embed_visualisation/runs/uc4drky9</a><br/>Synced 6 W&B file(s), 1 media file(s), 149 artifact file(s) and 1 other file(s)"
     },
     "metadata": {},
     "output_type": "display_data"
    },
    {
     "data": {
      "text/plain": "<IPython.core.display.HTML object>",
      "text/html": "Find logs at: <code>.\\wandb\\run-20230905_122932-uc4drky9\\logs</code>"
     },
     "metadata": {},
     "output_type": "display_data"
    },
    {
     "data": {
      "text/plain": "<IPython.core.display.HTML object>",
      "text/html": "Successfully finished last run (ID:uc4drky9). Initializing new run:<br/>"
     },
     "metadata": {},
     "output_type": "display_data"
    },
    {
     "data": {
      "text/plain": "VBox(children=(Label(value='Waiting for wandb.init()...\\r'), FloatProgress(value=0.016933333333357344, max=1.0…",
      "application/vnd.jupyter.widget-view+json": {
       "version_major": 2,
       "version_minor": 0,
       "model_id": "45117c0a64d846d9ab852ba7e4b4d275"
      }
     },
     "metadata": {},
     "output_type": "display_data"
    },
    {
     "data": {
      "text/plain": "<IPython.core.display.HTML object>",
      "text/html": "wandb version 0.15.9 is available!  To upgrade, please run:\n $ pip install wandb --upgrade"
     },
     "metadata": {},
     "output_type": "display_data"
    },
    {
     "data": {
      "text/plain": "<IPython.core.display.HTML object>",
      "text/html": "Tracking run with wandb version 0.15.5"
     },
     "metadata": {},
     "output_type": "display_data"
    },
    {
     "data": {
      "text/plain": "<IPython.core.display.HTML object>",
      "text/html": "Run data is saved locally in <code>C:\\Users\\micro\\OneDrive\\Dokumente\\GitHub\\Masterpraktikum\\wandb\\run-20230905_124045-103h26al</code>"
     },
     "metadata": {},
     "output_type": "display_data"
    },
    {
     "data": {
      "text/plain": "<IPython.core.display.HTML object>",
      "text/html": "Syncing run <strong><a href='https://wandb.ai/team-bioinf/embed_visualisation/runs/103h26al' target=\"_blank\">generous-star-5</a></strong> to <a href='https://wandb.ai/team-bioinf/embed_visualisation' target=\"_blank\">Weights & Biases</a> (<a href='https://wandb.me/run' target=\"_blank\">docs</a>)<br/>"
     },
     "metadata": {},
     "output_type": "display_data"
    },
    {
     "data": {
      "text/plain": "<IPython.core.display.HTML object>",
      "text/html": " View project at <a href='https://wandb.ai/team-bioinf/embed_visualisation' target=\"_blank\">https://wandb.ai/team-bioinf/embed_visualisation</a>"
     },
     "metadata": {},
     "output_type": "display_data"
    },
    {
     "data": {
      "text/plain": "<IPython.core.display.HTML object>",
      "text/html": " View run at <a href='https://wandb.ai/team-bioinf/embed_visualisation/runs/103h26al' target=\"_blank\">https://wandb.ai/team-bioinf/embed_visualisation/runs/103h26al</a>"
     },
     "metadata": {},
     "output_type": "display_data"
    },
    {
     "data": {
      "text/html": "<button onClick=\"this.nextSibling.style.display='block';this.style.display='none';\">Display W&B run</button><iframe src='https://wandb.ai/team-bioinf/embed_visualisation/runs/103h26al?jupyter=true' style='border:none;width:100%;height:420px;display:none;'></iframe>",
      "text/plain": "<wandb.sdk.wandb_run.Run at 0x1918e9176d0>"
     },
     "execution_count": 108,
     "metadata": {},
     "output_type": "execute_result"
    }
   ],
   "source": [
    "wandb.init(project='embed_visualisation', settings=wandb.Settings(code_dir=\"models/\"))"
   ],
   "metadata": {
    "collapsed": false,
    "ExecuteTime": {
     "end_time": "2023-09-05T10:40:57.359829800Z",
     "start_time": "2023-09-05T10:40:45.835522500Z"
    }
   }
  },
  {
   "cell_type": "code",
   "execution_count": 101,
   "outputs": [],
   "source": [
    "# create a wandb table with all hyperparameters\n",
    "config = wandb.config\n",
    "config.learning_rate = 0.0001\n",
    "config.epochs = 30\n",
    "config.batch_size = 4096\n",
    "config.optimizer = \"Adam\"\n",
    "config.loss_function = \"CategoricalCrossentropy\"\n",
    "config.layers = \"Embedding, Flatten, Dense, Dense\"\n",
    "config.activation_function = \"relu\"\n",
    "config.output_activation_function = \"softmax\"\n",
    "config.embedding_output_dim = max_len_seq\n",
    "config.embedding_input_dim = voc_len\n",
    "config.embedding_input_length = max_len_seq\n",
    "config.embedding_trainable = True\n",
    "config.embedding_mask_zero = False\n",
    "config.embedding_activity_regularizer = None\n",
    "config.embedding_weights = None\n"
   ],
   "metadata": {
    "collapsed": false,
    "ExecuteTime": {
     "end_time": "2023-09-05T10:29:51.012843800Z",
     "start_time": "2023-09-05T10:29:50.883358200Z"
    }
   }
  },
  {
   "cell_type": "code",
   "execution_count": 102,
   "outputs": [],
   "source": [
    "# from keras import Sequential, Model\n",
    "# from keras.layers import Embedding, Flatten, Dense, Conv1D, Conv2D, MaxPooling1D, MaxPooling2D, Input, concatenate, Rescaling\n",
    "# # define two sets of inputs\n",
    "# inputA_embed = Input(shape=train_ds_embed[0].shape)\n",
    "# # the first branch operates on the first input\n",
    "# x = Model(inputs=inputA_embed, outputs=inputA_embed)\n",
    "# y = Embedding(input_dim=voc_len, output_dim=max_len_seq, input_length=max_len_seq)(inputA_embed)\n",
    "# y = Flatten()(y)\n",
    "# y = Dense(max_len_seq, activation=\"relu\")(y)\n",
    "# z = Dense(num_classes, activation=\"softmax\")(y)\n",
    "# # our model will accept the inputs of the two branches and\n",
    "# # then output a single value\n",
    "# model_embed = Model(inputs=[x.input], outputs=z)"
   ],
   "metadata": {
    "collapsed": false,
    "ExecuteTime": {
     "end_time": "2023-09-05T10:29:55.002844400Z",
     "start_time": "2023-09-05T10:29:54.824195700Z"
    }
   }
  },
  {
   "cell_type": "code",
   "execution_count": 109,
   "outputs": [],
   "source": [
    "# MODEL\n",
    "seq_len_after_cutoff = seq_len_cutoff-1\n",
    "\n",
    "from keras import Sequential, Model\n",
    "from keras.layers import Embedding, Flatten, Dense, Conv1D, Conv2D, MaxPooling1D, MaxPooling2D, Input, concatenate, Rescaling\n",
    "# define two sets of inputs\n",
    "inputA_embed = Input(shape=train_ds_embed[0].shape)\n",
    "x = Model(inputs=inputA_embed, outputs=inputA_embed)\n",
    "y = Embedding(input_dim=voc_len, output_dim=max_len_seq, input_length=max_len_seq)(inputA_embed)\n",
    "y = Flatten()(y)\n",
    "#y = Dense(seq_len_after_cutoff, activation=\"relu\")(y)\n",
    "z = Dense(num_classes, activation=\"sigmoid\")(y)\n",
    "model_embed = Model(inputs=[x.input], outputs=z)"
   ],
   "metadata": {
    "collapsed": false,
    "ExecuteTime": {
     "end_time": "2023-09-05T12:18:58.882108Z",
     "start_time": "2023-09-05T12:18:58.560997800Z"
    }
   }
  },
  {
   "cell_type": "code",
   "execution_count": 110,
   "outputs": [
    {
     "name": "stdout",
     "output_type": "stream",
     "text": [
      "Model: \"model_7\"\n",
      "_________________________________________________________________\n",
      " Layer (type)                Output Shape              Param #   \n",
      "=================================================================\n",
      " input_4 (InputLayer)        [(None, 63)]              0         \n",
      "                                                                 \n",
      " embedding_3 (Embedding)     (None, 63, 63)            1449      \n",
      "                                                                 \n",
      " flatten_3 (Flatten)         (None, 3969)              0         \n",
      "                                                                 \n",
      " dense_4 (Dense)             (None, 6)                 23820     \n",
      "                                                                 \n",
      "=================================================================\n",
      "Total params: 25,269\n",
      "Trainable params: 25,269\n",
      "Non-trainable params: 0\n",
      "_________________________________________________________________\n"
     ]
    }
   ],
   "source": [
    "model_embed.summary()"
   ],
   "metadata": {
    "collapsed": false,
    "ExecuteTime": {
     "end_time": "2023-09-05T12:19:01.620664500Z",
     "start_time": "2023-09-05T12:19:00.973762100Z"
    }
   }
  },
  {
   "cell_type": "code",
   "execution_count": 111,
   "outputs": [
    {
     "data": {
      "image/png": "[encoded data removed]",
      "text/plain": "<IPython.core.display.Image object>"
     },
     "execution_count": 111,
     "metadata": {},
     "output_type": "execute_result"
    }
   ],
   "source": [
    "# plot model\n",
    "tf.keras.utils.plot_model(model_embed, show_shapes=True, show_layer_names=True)"
   ],
   "metadata": {
    "collapsed": false,
    "ExecuteTime": {
     "end_time": "2023-09-05T12:19:03.449084700Z",
     "start_time": "2023-09-05T12:19:02.975349100Z"
    }
   }
  },
  {
   "cell_type": "code",
   "execution_count": 105,
   "outputs": [],
   "source": [
    "# # Compile the model\n",
    "# model_embed.compile(loss=tf.keras.losses.CategoricalCrossentropy(), optimizer=keras.optimizers.Adam(learning_rate=0.0001), metrics=['categorical_accuracy'])"
   ],
   "metadata": {
    "collapsed": false,
    "ExecuteTime": {
     "end_time": "2023-09-05T10:30:02.809645500Z",
     "start_time": "2023-09-05T10:30:02.686388200Z"
    }
   }
  },
  {
   "cell_type": "code",
   "execution_count": 114,
   "outputs": [],
   "source": [
    "# Compile the model\n",
    "model_embed.compile(loss=tf.keras.losses.BinaryCrossentropy(), optimizer=keras.optimizers.Adam(learning_rate=0.0001), metrics=['binary_accuracy'])"
   ],
   "metadata": {
    "collapsed": false,
    "ExecuteTime": {
     "end_time": "2023-09-05T12:20:09.679019Z",
     "start_time": "2023-09-05T12:20:09.182506600Z"
    }
   }
  },
  {
   "cell_type": "code",
   "execution_count": 115,
   "outputs": [],
   "source": [
    "checkpoint_callback_embed = ModelCheckpoint('precursor_charge_prediction_model_embed/embed.h5', monitor='val_accuracy', save_best_only=True, mode='max')\n",
    "\n",
    "# Define early stopping\n",
    "early_stopping_embed = tf.keras.callbacks.EarlyStopping(monitor='val_loss', patience=10)"
   ],
   "metadata": {
    "collapsed": false,
    "ExecuteTime": {
     "end_time": "2023-09-05T12:20:10.604567500Z",
     "start_time": "2023-09-05T12:20:10.380272900Z"
    }
   }
  },
  {
   "cell_type": "code",
   "execution_count": 51,
   "outputs": [
    {
     "data": {
      "text/plain": "2.584962500721156"
     },
     "execution_count": 51,
     "metadata": {},
     "output_type": "execute_result"
    }
   ],
   "source": [
    "# sanity check for loss\n",
    "np.log2(6)"
   ],
   "metadata": {
    "collapsed": false,
    "ExecuteTime": {
     "end_time": "2023-09-04T13:59:20.002418400Z",
     "start_time": "2023-09-04T13:59:19.821905700Z"
    }
   }
  },
  {
   "cell_type": "code",
   "execution_count": 116,
   "outputs": [
    {
     "name": "stdout",
     "output_type": "stream",
     "text": [
      "Epoch 1/30\n",
      "145/147 [============================>.] - ETA: 0s - loss: 0.4929 - binary_accuracy: 0.8498WARNING:tensorflow:Can save best model only with val_accuracy available, skipping.\n",
      "INFO:tensorflow:Assets written to: C:\\Users\\micro\\OneDrive\\Dokumente\\GitHub\\Masterpraktikum\\wandb\\run-20230905_124045-103h26al\\files\\model-best\\assets\n"
     ]
    },
    {
     "name": "stderr",
     "output_type": "stream",
     "text": [
      "\u001B[34m\u001B[1mwandb\u001B[0m: Adding directory to artifact (C:\\Users\\micro\\OneDrive\\Dokumente\\GitHub\\Masterpraktikum\\wandb\\run-20230905_124045-103h26al\\files\\model-best)... Done. 0.0s\n"
     ]
    },
    {
     "name": "stdout",
     "output_type": "stream",
     "text": [
      "147/147 [==============================] - 7s 44ms/step - loss: 0.4918 - binary_accuracy: 0.8499 - val_loss: 0.3492 - val_binary_accuracy: 0.8647\n",
      "Epoch 2/30\n",
      "145/147 [============================>.] - ETA: 0s - loss: 0.3144 - binary_accuracy: 0.8688WARNING:tensorflow:Can save best model only with val_accuracy available, skipping.\n",
      "INFO:tensorflow:Assets written to: C:\\Users\\micro\\OneDrive\\Dokumente\\GitHub\\Masterpraktikum\\wandb\\run-20230905_124045-103h26al\\files\\model-best\\assets\n"
     ]
    },
    {
     "name": "stderr",
     "output_type": "stream",
     "text": [
      "\u001B[34m\u001B[1mwandb\u001B[0m: Adding directory to artifact (C:\\Users\\micro\\OneDrive\\Dokumente\\GitHub\\Masterpraktikum\\wandb\\run-20230905_124045-103h26al\\files\\model-best)... Done. 0.0s\n"
     ]
    },
    {
     "name": "stdout",
     "output_type": "stream",
     "text": [
      "147/147 [==============================] - 7s 46ms/step - loss: 0.3143 - binary_accuracy: 0.8688 - val_loss: 0.2963 - val_binary_accuracy: 0.8709\n",
      "Epoch 3/30\n",
      "145/147 [============================>.] - ETA: 0s - loss: 0.2884 - binary_accuracy: 0.8713WARNING:tensorflow:Can save best model only with val_accuracy available, skipping.\n",
      "INFO:tensorflow:Assets written to: C:\\Users\\micro\\OneDrive\\Dokumente\\GitHub\\Masterpraktikum\\wandb\\run-20230905_124045-103h26al\\files\\model-best\\assets\n"
     ]
    },
    {
     "name": "stderr",
     "output_type": "stream",
     "text": [
      "\u001B[34m\u001B[1mwandb\u001B[0m: Adding directory to artifact (C:\\Users\\micro\\OneDrive\\Dokumente\\GitHub\\Masterpraktikum\\wandb\\run-20230905_124045-103h26al\\files\\model-best)... Done. 0.0s\n"
     ]
    },
    {
     "name": "stdout",
     "output_type": "stream",
     "text": [
      "147/147 [==============================] - 6s 41ms/step - loss: 0.2884 - binary_accuracy: 0.8713 - val_loss: 0.2822 - val_binary_accuracy: 0.8710\n",
      "Epoch 4/30\n",
      "145/147 [============================>.] - ETA: 0s - loss: 0.2773 - binary_accuracy: 0.8715WARNING:tensorflow:Can save best model only with val_accuracy available, skipping.\n",
      "INFO:tensorflow:Assets written to: C:\\Users\\micro\\OneDrive\\Dokumente\\GitHub\\Masterpraktikum\\wandb\\run-20230905_124045-103h26al\\files\\model-best\\assets\n"
     ]
    },
    {
     "name": "stderr",
     "output_type": "stream",
     "text": [
      "\u001B[34m\u001B[1mwandb\u001B[0m: Adding directory to artifact (C:\\Users\\micro\\OneDrive\\Dokumente\\GitHub\\Masterpraktikum\\wandb\\run-20230905_124045-103h26al\\files\\model-best)... Done. 0.0s\n"
     ]
    },
    {
     "name": "stdout",
     "output_type": "stream",
     "text": [
      "147/147 [==============================] - 6s 42ms/step - loss: 0.2773 - binary_accuracy: 0.8714 - val_loss: 0.2732 - val_binary_accuracy: 0.8715\n",
      "Epoch 5/30\n",
      "145/147 [============================>.] - ETA: 0s - loss: 0.2691 - binary_accuracy: 0.8724WARNING:tensorflow:Can save best model only with val_accuracy available, skipping.\n",
      "INFO:tensorflow:Assets written to: C:\\Users\\micro\\OneDrive\\Dokumente\\GitHub\\Masterpraktikum\\wandb\\run-20230905_124045-103h26al\\files\\model-best\\assets\n"
     ]
    },
    {
     "name": "stderr",
     "output_type": "stream",
     "text": [
      "\u001B[34m\u001B[1mwandb\u001B[0m: Adding directory to artifact (C:\\Users\\micro\\OneDrive\\Dokumente\\GitHub\\Masterpraktikum\\wandb\\run-20230905_124045-103h26al\\files\\model-best)... Done. 0.0s\n"
     ]
    },
    {
     "name": "stdout",
     "output_type": "stream",
     "text": [
      "147/147 [==============================] - 6s 41ms/step - loss: 0.2691 - binary_accuracy: 0.8725 - val_loss: 0.2654 - val_binary_accuracy: 0.8731\n",
      "Epoch 6/30\n",
      "145/147 [============================>.] - ETA: 0s - loss: 0.2615 - binary_accuracy: 0.8746WARNING:tensorflow:Can save best model only with val_accuracy available, skipping.\n",
      "INFO:tensorflow:Assets written to: C:\\Users\\micro\\OneDrive\\Dokumente\\GitHub\\Masterpraktikum\\wandb\\run-20230905_124045-103h26al\\files\\model-best\\assets\n"
     ]
    },
    {
     "name": "stderr",
     "output_type": "stream",
     "text": [
      "\u001B[34m\u001B[1mwandb\u001B[0m: Adding directory to artifact (C:\\Users\\micro\\OneDrive\\Dokumente\\GitHub\\Masterpraktikum\\wandb\\run-20230905_124045-103h26al\\files\\model-best)... Done. 0.0s\n"
     ]
    },
    {
     "name": "stdout",
     "output_type": "stream",
     "text": [
      "147/147 [==============================] - 6s 43ms/step - loss: 0.2615 - binary_accuracy: 0.8747 - val_loss: 0.2578 - val_binary_accuracy: 0.8763\n",
      "Epoch 7/30\n",
      "145/147 [============================>.] - ETA: 0s - loss: 0.2544 - binary_accuracy: 0.8779WARNING:tensorflow:Can save best model only with val_accuracy available, skipping.\n",
      "INFO:tensorflow:Assets written to: C:\\Users\\micro\\OneDrive\\Dokumente\\GitHub\\Masterpraktikum\\wandb\\run-20230905_124045-103h26al\\files\\model-best\\assets\n"
     ]
    },
    {
     "name": "stderr",
     "output_type": "stream",
     "text": [
      "\u001B[34m\u001B[1mwandb\u001B[0m: Adding directory to artifact (C:\\Users\\micro\\OneDrive\\Dokumente\\GitHub\\Masterpraktikum\\wandb\\run-20230905_124045-103h26al\\files\\model-best)... Done. 0.0s\n"
     ]
    },
    {
     "name": "stdout",
     "output_type": "stream",
     "text": [
      "147/147 [==============================] - 6s 40ms/step - loss: 0.2544 - binary_accuracy: 0.8779 - val_loss: 0.2510 - val_binary_accuracy: 0.8802\n",
      "Epoch 8/30\n",
      "145/147 [============================>.] - ETA: 0s - loss: 0.2482 - binary_accuracy: 0.8816WARNING:tensorflow:Can save best model only with val_accuracy available, skipping.\n",
      "INFO:tensorflow:Assets written to: C:\\Users\\micro\\OneDrive\\Dokumente\\GitHub\\Masterpraktikum\\wandb\\run-20230905_124045-103h26al\\files\\model-best\\assets\n"
     ]
    },
    {
     "name": "stderr",
     "output_type": "stream",
     "text": [
      "\u001B[34m\u001B[1mwandb\u001B[0m: Adding directory to artifact (C:\\Users\\micro\\OneDrive\\Dokumente\\GitHub\\Masterpraktikum\\wandb\\run-20230905_124045-103h26al\\files\\model-best)... Done. 0.0s\n"
     ]
    },
    {
     "name": "stdout",
     "output_type": "stream",
     "text": [
      "147/147 [==============================] - 6s 41ms/step - loss: 0.2482 - binary_accuracy: 0.8816 - val_loss: 0.2452 - val_binary_accuracy: 0.8829\n",
      "Epoch 9/30\n",
      "145/147 [============================>.] - ETA: 0s - loss: 0.2430 - binary_accuracy: 0.8845WARNING:tensorflow:Can save best model only with val_accuracy available, skipping.\n",
      "INFO:tensorflow:Assets written to: C:\\Users\\micro\\OneDrive\\Dokumente\\GitHub\\Masterpraktikum\\wandb\\run-20230905_124045-103h26al\\files\\model-best\\assets\n"
     ]
    },
    {
     "name": "stderr",
     "output_type": "stream",
     "text": [
      "\u001B[34m\u001B[1mwandb\u001B[0m: Adding directory to artifact (C:\\Users\\micro\\OneDrive\\Dokumente\\GitHub\\Masterpraktikum\\wandb\\run-20230905_124045-103h26al\\files\\model-best)... Done. 0.0s\n"
     ]
    },
    {
     "name": "stdout",
     "output_type": "stream",
     "text": [
      "147/147 [==============================] - 6s 43ms/step - loss: 0.2430 - binary_accuracy: 0.8845 - val_loss: 0.2405 - val_binary_accuracy: 0.8857\n",
      "Epoch 10/30\n",
      "145/147 [============================>.] - ETA: 0s - loss: 0.2388 - binary_accuracy: 0.8866WARNING:tensorflow:Can save best model only with val_accuracy available, skipping.\n",
      "INFO:tensorflow:Assets written to: C:\\Users\\micro\\OneDrive\\Dokumente\\GitHub\\Masterpraktikum\\wandb\\run-20230905_124045-103h26al\\files\\model-best\\assets\n"
     ]
    },
    {
     "name": "stderr",
     "output_type": "stream",
     "text": [
      "\u001B[34m\u001B[1mwandb\u001B[0m: Adding directory to artifact (C:\\Users\\micro\\OneDrive\\Dokumente\\GitHub\\Masterpraktikum\\wandb\\run-20230905_124045-103h26al\\files\\model-best)... Done. 0.0s\n"
     ]
    },
    {
     "name": "stdout",
     "output_type": "stream",
     "text": [
      "147/147 [==============================] - 6s 42ms/step - loss: 0.2388 - binary_accuracy: 0.8866 - val_loss: 0.2366 - val_binary_accuracy: 0.8873\n",
      "Epoch 11/30\n",
      "145/147 [============================>.] - ETA: 0s - loss: 0.2353 - binary_accuracy: 0.8883WARNING:tensorflow:Can save best model only with val_accuracy available, skipping.\n",
      "INFO:tensorflow:Assets written to: C:\\Users\\micro\\OneDrive\\Dokumente\\GitHub\\Masterpraktikum\\wandb\\run-20230905_124045-103h26al\\files\\model-best\\assets\n"
     ]
    },
    {
     "name": "stderr",
     "output_type": "stream",
     "text": [
      "\u001B[34m\u001B[1mwandb\u001B[0m: Adding directory to artifact (C:\\Users\\micro\\OneDrive\\Dokumente\\GitHub\\Masterpraktikum\\wandb\\run-20230905_124045-103h26al\\files\\model-best)... Done. 0.0s\n"
     ]
    },
    {
     "name": "stdout",
     "output_type": "stream",
     "text": [
      "147/147 [==============================] - 12s 82ms/step - loss: 0.2353 - binary_accuracy: 0.8883 - val_loss: 0.2334 - val_binary_accuracy: 0.8893\n",
      "Epoch 12/30\n",
      "145/147 [============================>.] - ETA: 0s - loss: 0.2324 - binary_accuracy: 0.8897WARNING:tensorflow:Can save best model only with val_accuracy available, skipping.\n",
      "INFO:tensorflow:Assets written to: C:\\Users\\micro\\OneDrive\\Dokumente\\GitHub\\Masterpraktikum\\wandb\\run-20230905_124045-103h26al\\files\\model-best\\assets\n"
     ]
    },
    {
     "name": "stderr",
     "output_type": "stream",
     "text": [
      "\u001B[34m\u001B[1mwandb\u001B[0m: Adding directory to artifact (C:\\Users\\micro\\OneDrive\\Dokumente\\GitHub\\Masterpraktikum\\wandb\\run-20230905_124045-103h26al\\files\\model-best)... Done. 0.0s\n"
     ]
    },
    {
     "name": "stdout",
     "output_type": "stream",
     "text": [
      "147/147 [==============================] - 7s 45ms/step - loss: 0.2324 - binary_accuracy: 0.8897 - val_loss: 0.2307 - val_binary_accuracy: 0.8904\n",
      "Epoch 13/30\n",
      "146/147 [============================>.] - ETA: 0s - loss: 0.2298 - binary_accuracy: 0.8907WARNING:tensorflow:Can save best model only with val_accuracy available, skipping.\n",
      "INFO:tensorflow:Assets written to: C:\\Users\\micro\\OneDrive\\Dokumente\\GitHub\\Masterpraktikum\\wandb\\run-20230905_124045-103h26al\\files\\model-best\\assets\n"
     ]
    },
    {
     "name": "stderr",
     "output_type": "stream",
     "text": [
      "\u001B[34m\u001B[1mwandb\u001B[0m: Adding directory to artifact (C:\\Users\\micro\\OneDrive\\Dokumente\\GitHub\\Masterpraktikum\\wandb\\run-20230905_124045-103h26al\\files\\model-best)... Done. 0.0s\n"
     ]
    },
    {
     "name": "stdout",
     "output_type": "stream",
     "text": [
      "147/147 [==============================] - 8s 51ms/step - loss: 0.2298 - binary_accuracy: 0.8907 - val_loss: 0.2283 - val_binary_accuracy: 0.8917\n",
      "Epoch 14/30\n",
      "145/147 [============================>.] - ETA: 0s - loss: 0.2276 - binary_accuracy: 0.8915WARNING:tensorflow:Can save best model only with val_accuracy available, skipping.\n",
      "INFO:tensorflow:Assets written to: C:\\Users\\micro\\OneDrive\\Dokumente\\GitHub\\Masterpraktikum\\wandb\\run-20230905_124045-103h26al\\files\\model-best\\assets\n"
     ]
    },
    {
     "name": "stderr",
     "output_type": "stream",
     "text": [
      "\u001B[34m\u001B[1mwandb\u001B[0m: Adding directory to artifact (C:\\Users\\micro\\OneDrive\\Dokumente\\GitHub\\Masterpraktikum\\wandb\\run-20230905_124045-103h26al\\files\\model-best)... Done. 0.0s\n"
     ]
    },
    {
     "name": "stdout",
     "output_type": "stream",
     "text": [
      "147/147 [==============================] - 7s 51ms/step - loss: 0.2276 - binary_accuracy: 0.8915 - val_loss: 0.2262 - val_binary_accuracy: 0.8919\n",
      "Epoch 15/30\n",
      "146/147 [============================>.] - ETA: 0s - loss: 0.2256 - binary_accuracy: 0.8921WARNING:tensorflow:Can save best model only with val_accuracy available, skipping.\n",
      "INFO:tensorflow:Assets written to: C:\\Users\\micro\\OneDrive\\Dokumente\\GitHub\\Masterpraktikum\\wandb\\run-20230905_124045-103h26al\\files\\model-best\\assets\n"
     ]
    },
    {
     "name": "stderr",
     "output_type": "stream",
     "text": [
      "\u001B[34m\u001B[1mwandb\u001B[0m: Adding directory to artifact (C:\\Users\\micro\\OneDrive\\Dokumente\\GitHub\\Masterpraktikum\\wandb\\run-20230905_124045-103h26al\\files\\model-best)... Done. 0.0s\n"
     ]
    },
    {
     "name": "stdout",
     "output_type": "stream",
     "text": [
      "147/147 [==============================] - 7s 49ms/step - loss: 0.2256 - binary_accuracy: 0.8921 - val_loss: 0.2243 - val_binary_accuracy: 0.8923\n",
      "Epoch 16/30\n",
      "146/147 [============================>.] - ETA: 0s - loss: 0.2238 - binary_accuracy: 0.8926WARNING:tensorflow:Can save best model only with val_accuracy available, skipping.\n",
      "INFO:tensorflow:Assets written to: C:\\Users\\micro\\OneDrive\\Dokumente\\GitHub\\Masterpraktikum\\wandb\\run-20230905_124045-103h26al\\files\\model-best\\assets\n"
     ]
    },
    {
     "name": "stderr",
     "output_type": "stream",
     "text": [
      "\u001B[34m\u001B[1mwandb\u001B[0m: Adding directory to artifact (C:\\Users\\micro\\OneDrive\\Dokumente\\GitHub\\Masterpraktikum\\wandb\\run-20230905_124045-103h26al\\files\\model-best)... Done. 0.0s\n"
     ]
    },
    {
     "name": "stdout",
     "output_type": "stream",
     "text": [
      "147/147 [==============================] - 8s 55ms/step - loss: 0.2238 - binary_accuracy: 0.8926 - val_loss: 0.2226 - val_binary_accuracy: 0.8931\n",
      "Epoch 17/30\n",
      "146/147 [============================>.] - ETA: 0s - loss: 0.2222 - binary_accuracy: 0.8934WARNING:tensorflow:Can save best model only with val_accuracy available, skipping.\n",
      "INFO:tensorflow:Assets written to: C:\\Users\\micro\\OneDrive\\Dokumente\\GitHub\\Masterpraktikum\\wandb\\run-20230905_124045-103h26al\\files\\model-best\\assets\n"
     ]
    },
    {
     "name": "stderr",
     "output_type": "stream",
     "text": [
      "\u001B[34m\u001B[1mwandb\u001B[0m: Adding directory to artifact (C:\\Users\\micro\\OneDrive\\Dokumente\\GitHub\\Masterpraktikum\\wandb\\run-20230905_124045-103h26al\\files\\model-best)... Done. 0.0s\n"
     ]
    },
    {
     "name": "stdout",
     "output_type": "stream",
     "text": [
      "147/147 [==============================] - 8s 51ms/step - loss: 0.2222 - binary_accuracy: 0.8934 - val_loss: 0.2212 - val_binary_accuracy: 0.8945\n",
      "Epoch 18/30\n",
      "145/147 [============================>.] - ETA: 0s - loss: 0.2208 - binary_accuracy: 0.8942WARNING:tensorflow:Can save best model only with val_accuracy available, skipping.\n",
      "INFO:tensorflow:Assets written to: C:\\Users\\micro\\OneDrive\\Dokumente\\GitHub\\Masterpraktikum\\wandb\\run-20230905_124045-103h26al\\files\\model-best\\assets\n"
     ]
    },
    {
     "name": "stderr",
     "output_type": "stream",
     "text": [
      "\u001B[34m\u001B[1mwandb\u001B[0m: Adding directory to artifact (C:\\Users\\micro\\OneDrive\\Dokumente\\GitHub\\Masterpraktikum\\wandb\\run-20230905_124045-103h26al\\files\\model-best)... Done. 0.0s\n"
     ]
    },
    {
     "name": "stdout",
     "output_type": "stream",
     "text": [
      "147/147 [==============================] - 7s 50ms/step - loss: 0.2208 - binary_accuracy: 0.8942 - val_loss: 0.2199 - val_binary_accuracy: 0.8948\n",
      "Epoch 19/30\n",
      "145/147 [============================>.] - ETA: 0s - loss: 0.2196 - binary_accuracy: 0.8953WARNING:tensorflow:Can save best model only with val_accuracy available, skipping.\n",
      "INFO:tensorflow:Assets written to: C:\\Users\\micro\\OneDrive\\Dokumente\\GitHub\\Masterpraktikum\\wandb\\run-20230905_124045-103h26al\\files\\model-best\\assets\n"
     ]
    },
    {
     "name": "stderr",
     "output_type": "stream",
     "text": [
      "\u001B[34m\u001B[1mwandb\u001B[0m: Adding directory to artifact (C:\\Users\\micro\\OneDrive\\Dokumente\\GitHub\\Masterpraktikum\\wandb\\run-20230905_124045-103h26al\\files\\model-best)... Done. 0.0s\n"
     ]
    },
    {
     "name": "stdout",
     "output_type": "stream",
     "text": [
      "147/147 [==============================] - 8s 52ms/step - loss: 0.2196 - binary_accuracy: 0.8953 - val_loss: 0.2188 - val_binary_accuracy: 0.8956\n",
      "Epoch 20/30\n",
      "146/147 [============================>.] - ETA: 0s - loss: 0.2186 - binary_accuracy: 0.8959WARNING:tensorflow:Can save best model only with val_accuracy available, skipping.\n",
      "INFO:tensorflow:Assets written to: C:\\Users\\micro\\OneDrive\\Dokumente\\GitHub\\Masterpraktikum\\wandb\\run-20230905_124045-103h26al\\files\\model-best\\assets\n"
     ]
    },
    {
     "name": "stderr",
     "output_type": "stream",
     "text": [
      "\u001B[34m\u001B[1mwandb\u001B[0m: Adding directory to artifact (C:\\Users\\micro\\OneDrive\\Dokumente\\GitHub\\Masterpraktikum\\wandb\\run-20230905_124045-103h26al\\files\\model-best)... Done. 0.0s\n"
     ]
    },
    {
     "name": "stdout",
     "output_type": "stream",
     "text": [
      "147/147 [==============================] - 7s 50ms/step - loss: 0.2185 - binary_accuracy: 0.8959 - val_loss: 0.2178 - val_binary_accuracy: 0.8961\n",
      "Epoch 21/30\n",
      "145/147 [============================>.] - ETA: 0s - loss: 0.2177 - binary_accuracy: 0.8964WARNING:tensorflow:Can save best model only with val_accuracy available, skipping.\n",
      "INFO:tensorflow:Assets written to: C:\\Users\\micro\\OneDrive\\Dokumente\\GitHub\\Masterpraktikum\\wandb\\run-20230905_124045-103h26al\\files\\model-best\\assets\n"
     ]
    },
    {
     "name": "stderr",
     "output_type": "stream",
     "text": [
      "\u001B[34m\u001B[1mwandb\u001B[0m: Adding directory to artifact (C:\\Users\\micro\\OneDrive\\Dokumente\\GitHub\\Masterpraktikum\\wandb\\run-20230905_124045-103h26al\\files\\model-best)... Done. 0.0s\n"
     ]
    },
    {
     "name": "stdout",
     "output_type": "stream",
     "text": [
      "147/147 [==============================] - 7s 48ms/step - loss: 0.2176 - binary_accuracy: 0.8965 - val_loss: 0.2170 - val_binary_accuracy: 0.8962\n",
      "Epoch 22/30\n",
      "145/147 [============================>.] - ETA: 0s - loss: 0.2168 - binary_accuracy: 0.8968WARNING:tensorflow:Can save best model only with val_accuracy available, skipping.\n",
      "INFO:tensorflow:Assets written to: C:\\Users\\micro\\OneDrive\\Dokumente\\GitHub\\Masterpraktikum\\wandb\\run-20230905_124045-103h26al\\files\\model-best\\assets\n"
     ]
    },
    {
     "name": "stderr",
     "output_type": "stream",
     "text": [
      "\u001B[34m\u001B[1mwandb\u001B[0m: Adding directory to artifact (C:\\Users\\micro\\OneDrive\\Dokumente\\GitHub\\Masterpraktikum\\wandb\\run-20230905_124045-103h26al\\files\\model-best)... Done. 0.0s\n"
     ]
    },
    {
     "name": "stdout",
     "output_type": "stream",
     "text": [
      "147/147 [==============================] - 7s 48ms/step - loss: 0.2168 - binary_accuracy: 0.8968 - val_loss: 0.2163 - val_binary_accuracy: 0.8968\n",
      "Epoch 23/30\n",
      "146/147 [============================>.] - ETA: 0s - loss: 0.2162 - binary_accuracy: 0.8972WARNING:tensorflow:Can save best model only with val_accuracy available, skipping.\n",
      "INFO:tensorflow:Assets written to: C:\\Users\\micro\\OneDrive\\Dokumente\\GitHub\\Masterpraktikum\\wandb\\run-20230905_124045-103h26al\\files\\model-best\\assets\n"
     ]
    },
    {
     "name": "stderr",
     "output_type": "stream",
     "text": [
      "\u001B[34m\u001B[1mwandb\u001B[0m: Adding directory to artifact (C:\\Users\\micro\\OneDrive\\Dokumente\\GitHub\\Masterpraktikum\\wandb\\run-20230905_124045-103h26al\\files\\model-best)... Done. 0.0s\n"
     ]
    },
    {
     "name": "stdout",
     "output_type": "stream",
     "text": [
      "147/147 [==============================] - 7s 50ms/step - loss: 0.2162 - binary_accuracy: 0.8972 - val_loss: 0.2157 - val_binary_accuracy: 0.8975\n",
      "Epoch 24/30\n",
      "146/147 [============================>.] - ETA: 0s - loss: 0.2156 - binary_accuracy: 0.8974WARNING:tensorflow:Can save best model only with val_accuracy available, skipping.\n",
      "INFO:tensorflow:Assets written to: C:\\Users\\micro\\OneDrive\\Dokumente\\GitHub\\Masterpraktikum\\wandb\\run-20230905_124045-103h26al\\files\\model-best\\assets\n"
     ]
    },
    {
     "name": "stderr",
     "output_type": "stream",
     "text": [
      "\u001B[34m\u001B[1mwandb\u001B[0m: Adding directory to artifact (C:\\Users\\micro\\OneDrive\\Dokumente\\GitHub\\Masterpraktikum\\wandb\\run-20230905_124045-103h26al\\files\\model-best)... Done. 0.0s\n"
     ]
    },
    {
     "name": "stdout",
     "output_type": "stream",
     "text": [
      "147/147 [==============================] - 8s 53ms/step - loss: 0.2156 - binary_accuracy: 0.8974 - val_loss: 0.2151 - val_binary_accuracy: 0.8974\n",
      "Epoch 25/30\n",
      "145/147 [============================>.] - ETA: 0s - loss: 0.2150 - binary_accuracy: 0.8977WARNING:tensorflow:Can save best model only with val_accuracy available, skipping.\n",
      "INFO:tensorflow:Assets written to: C:\\Users\\micro\\OneDrive\\Dokumente\\GitHub\\Masterpraktikum\\wandb\\run-20230905_124045-103h26al\\files\\model-best\\assets\n"
     ]
    },
    {
     "name": "stderr",
     "output_type": "stream",
     "text": [
      "\u001B[34m\u001B[1mwandb\u001B[0m: Adding directory to artifact (C:\\Users\\micro\\OneDrive\\Dokumente\\GitHub\\Masterpraktikum\\wandb\\run-20230905_124045-103h26al\\files\\model-best)... Done. 0.0s\n"
     ]
    },
    {
     "name": "stdout",
     "output_type": "stream",
     "text": [
      "147/147 [==============================] - 9s 60ms/step - loss: 0.2150 - binary_accuracy: 0.8977 - val_loss: 0.2147 - val_binary_accuracy: 0.8985\n",
      "Epoch 26/30\n",
      "145/147 [============================>.] - ETA: 0s - loss: 0.2146 - binary_accuracy: 0.8980WARNING:tensorflow:Can save best model only with val_accuracy available, skipping.\n",
      "INFO:tensorflow:Assets written to: C:\\Users\\micro\\OneDrive\\Dokumente\\GitHub\\Masterpraktikum\\wandb\\run-20230905_124045-103h26al\\files\\model-best\\assets\n"
     ]
    },
    {
     "name": "stderr",
     "output_type": "stream",
     "text": [
      "\u001B[34m\u001B[1mwandb\u001B[0m: Adding directory to artifact (C:\\Users\\micro\\OneDrive\\Dokumente\\GitHub\\Masterpraktikum\\wandb\\run-20230905_124045-103h26al\\files\\model-best)... Done. 0.0s\n"
     ]
    },
    {
     "name": "stdout",
     "output_type": "stream",
     "text": [
      "147/147 [==============================] - 7s 47ms/step - loss: 0.2146 - binary_accuracy: 0.8979 - val_loss: 0.2142 - val_binary_accuracy: 0.8982\n",
      "Epoch 27/30\n",
      "145/147 [============================>.] - ETA: 0s - loss: 0.2142 - binary_accuracy: 0.8981WARNING:tensorflow:Can save best model only with val_accuracy available, skipping.\n",
      "INFO:tensorflow:Assets written to: C:\\Users\\micro\\OneDrive\\Dokumente\\GitHub\\Masterpraktikum\\wandb\\run-20230905_124045-103h26al\\files\\model-best\\assets\n"
     ]
    },
    {
     "name": "stderr",
     "output_type": "stream",
     "text": [
      "\u001B[34m\u001B[1mwandb\u001B[0m: Adding directory to artifact (C:\\Users\\micro\\OneDrive\\Dokumente\\GitHub\\Masterpraktikum\\wandb\\run-20230905_124045-103h26al\\files\\model-best)... Done. 0.0s\n"
     ]
    },
    {
     "name": "stdout",
     "output_type": "stream",
     "text": [
      "147/147 [==============================] - 7s 47ms/step - loss: 0.2142 - binary_accuracy: 0.8981 - val_loss: 0.2139 - val_binary_accuracy: 0.8980\n",
      "Epoch 28/30\n",
      "146/147 [============================>.] - ETA: 0s - loss: 0.2139 - binary_accuracy: 0.8983WARNING:tensorflow:Can save best model only with val_accuracy available, skipping.\n",
      "INFO:tensorflow:Assets written to: C:\\Users\\micro\\OneDrive\\Dokumente\\GitHub\\Masterpraktikum\\wandb\\run-20230905_124045-103h26al\\files\\model-best\\assets\n"
     ]
    },
    {
     "name": "stderr",
     "output_type": "stream",
     "text": [
      "\u001B[34m\u001B[1mwandb\u001B[0m: Adding directory to artifact (C:\\Users\\micro\\OneDrive\\Dokumente\\GitHub\\Masterpraktikum\\wandb\\run-20230905_124045-103h26al\\files\\model-best)... Done. 0.0s\n"
     ]
    },
    {
     "name": "stdout",
     "output_type": "stream",
     "text": [
      "147/147 [==============================] - 7s 49ms/step - loss: 0.2139 - binary_accuracy: 0.8983 - val_loss: 0.2136 - val_binary_accuracy: 0.8985\n",
      "Epoch 29/30\n",
      "145/147 [============================>.] - ETA: 0s - loss: 0.2135 - binary_accuracy: 0.8985WARNING:tensorflow:Can save best model only with val_accuracy available, skipping.\n",
      "INFO:tensorflow:Assets written to: C:\\Users\\micro\\OneDrive\\Dokumente\\GitHub\\Masterpraktikum\\wandb\\run-20230905_124045-103h26al\\files\\model-best\\assets\n"
     ]
    },
    {
     "name": "stderr",
     "output_type": "stream",
     "text": [
      "\u001B[34m\u001B[1mwandb\u001B[0m: Adding directory to artifact (C:\\Users\\micro\\OneDrive\\Dokumente\\GitHub\\Masterpraktikum\\wandb\\run-20230905_124045-103h26al\\files\\model-best)... Done. 0.0s\n"
     ]
    },
    {
     "name": "stdout",
     "output_type": "stream",
     "text": [
      "147/147 [==============================] - 7s 45ms/step - loss: 0.2136 - binary_accuracy: 0.8985 - val_loss: 0.2133 - val_binary_accuracy: 0.8986\n",
      "Epoch 30/30\n",
      "145/147 [============================>.] - ETA: 0s - loss: 0.2133 - binary_accuracy: 0.8985WARNING:tensorflow:Can save best model only with val_accuracy available, skipping.\n",
      "INFO:tensorflow:Assets written to: C:\\Users\\micro\\OneDrive\\Dokumente\\GitHub\\Masterpraktikum\\wandb\\run-20230905_124045-103h26al\\files\\model-best\\assets\n"
     ]
    },
    {
     "name": "stderr",
     "output_type": "stream",
     "text": [
      "\u001B[34m\u001B[1mwandb\u001B[0m: Adding directory to artifact (C:\\Users\\micro\\OneDrive\\Dokumente\\GitHub\\Masterpraktikum\\wandb\\run-20230905_124045-103h26al\\files\\model-best)... Done. 0.0s\n"
     ]
    },
    {
     "name": "stdout",
     "output_type": "stream",
     "text": [
      "147/147 [==============================] - 6s 44ms/step - loss: 0.2133 - binary_accuracy: 0.8985 - val_loss: 0.2131 - val_binary_accuracy: 0.8991\n"
     ]
    }
   ],
   "source": [
    "# Train the model\n",
    "# X_train, X_test, y_train, y_test\n",
    "history_embed = model_embed.fit(train_ds_embed, train_labels_embed, epochs=30, batch_size=4096, validation_data=(val_ds_embed, val_labels_embed), callbacks=[checkpoint_callback_embed, early_stopping_embed, WandbCallback()]) #WandbCallback()"
   ],
   "metadata": {
    "collapsed": false,
    "ExecuteTime": {
     "end_time": "2023-09-05T12:23:46.670640300Z",
     "start_time": "2023-09-05T12:20:12.752105500Z"
    }
   }
  },
  {
   "cell_type": "code",
   "execution_count": 117,
   "outputs": [
    {
     "name": "stdout",
     "output_type": "stream",
     "text": [
      "09052023\n"
     ]
    }
   ],
   "source": [
    "import datetime\n",
    "date = datetime.datetime.now().strftime(\"%m%d%Y\")\n",
    "print(date)"
   ],
   "metadata": {
    "collapsed": false,
    "ExecuteTime": {
     "end_time": "2023-09-05T12:34:06.393145300Z",
     "start_time": "2023-09-05T12:34:04.738441100Z"
    }
   }
  },
  {
   "cell_type": "code",
   "execution_count": null,
   "outputs": [],
   "source": [
    "# https://cpcscientific.com/esi-ms-peptide-interpretation-guide/\n",
    "# https://www.ncbi.nlm.nih.gov/pmc/articles/PMC5588090/\n",
    "# https://pubs.acs.org/doi/10.1021/acs.analchem.7b01899\n",
    "# https://www.researchgate.net/publication/8143943_Amino_Acid_Cluster_Formation_Studied_by_Electrospray_Ionization_Mass_Spectrometry\n",
    "# https://pubs.acs.org/doi/epdf/10.1021/ac990976y\n",
    "# https://analyticalsciencejournals.onlinelibrary.wiley.com/doi/epdf/10.1002/jms.4348?saml_referrer"
   ],
   "metadata": {
    "collapsed": false
   }
  },
  {
   "cell_type": "code",
   "execution_count": 118,
   "outputs": [],
   "source": [
    "model_embed.save(f'precursor_charge_prediction_model_embed/history_embed_150epoch_{date}.h5')"
   ],
   "metadata": {
    "collapsed": false,
    "ExecuteTime": {
     "end_time": "2023-09-05T12:34:07.248190700Z",
     "start_time": "2023-09-05T12:34:06.547412700Z"
    }
   }
  },
  {
   "cell_type": "code",
   "execution_count": 60,
   "outputs": [],
   "source": [],
   "metadata": {
    "collapsed": false,
    "ExecuteTime": {
     "end_time": "2023-08-22T12:26:11.901515Z",
     "start_time": "2023-08-22T12:26:11.579318900Z"
    }
   }
  },
  {
   "cell_type": "code",
   "execution_count": 119,
   "outputs": [
    {
     "ename": "KeyError",
     "evalue": "'categorical_accuracy'",
     "output_type": "error",
     "traceback": [
      "\u001B[1;31m---------------------------------------------------------------------------\u001B[0m",
      "\u001B[1;31mKeyError\u001B[0m                                  Traceback (most recent call last)",
      "Cell \u001B[1;32mIn[119], line 4\u001B[0m\n\u001B[0;32m      2\u001B[0m loss \u001B[38;5;241m=\u001B[39m history_embed\u001B[38;5;241m.\u001B[39mhistory[\u001B[38;5;124m'\u001B[39m\u001B[38;5;124mloss\u001B[39m\u001B[38;5;124m'\u001B[39m]\n\u001B[0;32m      3\u001B[0m val_loss \u001B[38;5;241m=\u001B[39m history_embed\u001B[38;5;241m.\u001B[39mhistory[\u001B[38;5;124m'\u001B[39m\u001B[38;5;124mval_loss\u001B[39m\u001B[38;5;124m'\u001B[39m]\n\u001B[1;32m----> 4\u001B[0m accuracy \u001B[38;5;241m=\u001B[39m \u001B[43mhistory_embed\u001B[49m\u001B[38;5;241;43m.\u001B[39;49m\u001B[43mhistory\u001B[49m\u001B[43m[\u001B[49m\u001B[38;5;124;43m'\u001B[39;49m\u001B[38;5;124;43mcategorical_accuracy\u001B[39;49m\u001B[38;5;124;43m'\u001B[39;49m\u001B[43m]\u001B[49m\n\u001B[0;32m      5\u001B[0m val_accuracy \u001B[38;5;241m=\u001B[39m history_embed\u001B[38;5;241m.\u001B[39mhistory[\u001B[38;5;124m'\u001B[39m\u001B[38;5;124mval_categorical_accuracy\u001B[39m\u001B[38;5;124m'\u001B[39m]\n\u001B[0;32m      7\u001B[0m \u001B[38;5;66;03m# Plot the loss, validation loss, and accuracy curves\u001B[39;00m\n",
      "\u001B[1;31mKeyError\u001B[0m: 'categorical_accuracy'"
     ]
    }
   ],
   "source": [
    "# Access the loss, validation loss, and accuracy from the history object\n",
    "loss = history_embed.history['loss']\n",
    "val_loss = history_embed.history['val_loss']\n",
    "accuracy = history_embed.history['categorical_accuracy']\n",
    "val_accuracy = history_embed.history['val_categorical_accuracy']\n",
    "\n",
    "# Plot the loss, validation loss, and accuracy curves\n",
    "epochs = range(1, len(loss) + 1)\n",
    "\n",
    "# Create subplots\n",
    "fig2, (ax1, ax2) = plt.subplots(1, 2, figsize=(12, 6))\n",
    "\n",
    "# Plot loss and validation loss\n",
    "ax1.plot(epochs, loss, 'b', label='Training Loss')\n",
    "ax1.plot(epochs, val_loss, 'r', label='Validation Loss')\n",
    "ax1.set_title('Training and Validation Loss')\n",
    "ax1.set_xlabel('Epochs')\n",
    "ax1.set_ylabel('Loss')\n",
    "ax1.legend()\n",
    "\n",
    "# Plot accuracy and validation accuracy\n",
    "ax2.plot(epochs, accuracy, 'b', label='Training Accuracy')\n",
    "ax2.plot(epochs, val_accuracy, 'r', label='Validation Accuracy')\n",
    "ax2.set_title('Training and Validation Accuracy')\n",
    "ax2.set_xlabel('Epochs')\n",
    "ax2.set_ylabel('Accuracy')\n",
    "ax2.legend()\n",
    "\n",
    "# Adjust spacing between subplots\n",
    "plt.tight_layout()\n",
    "\n",
    "# Show the plots\n",
    "plt.show()"
   ],
   "metadata": {
    "collapsed": false,
    "ExecuteTime": {
     "end_time": "2023-09-05T12:34:08.637286100Z",
     "start_time": "2023-09-05T12:34:08.110200700Z"
    }
   }
  },
  {
   "cell_type": "markdown",
   "source": [
    "# Inference"
   ],
   "metadata": {
    "collapsed": false
   }
  },
  {
   "cell_type": "code",
   "execution_count": 121,
   "outputs": [],
   "source": [
    "import keras\n",
    "# load model TODO manually switch on/off\n",
    "model_embed = keras.models.load_model('precursor_charge_prediction_model_embed/history_embed_150epoch_09052023.h5')"
   ],
   "metadata": {
    "collapsed": false,
    "ExecuteTime": {
     "end_time": "2023-09-05T12:34:55.147402100Z",
     "start_time": "2023-09-05T12:34:54.862763800Z"
    }
   }
  },
  {
   "cell_type": "code",
   "execution_count": 122,
   "outputs": [],
   "source": [
    "def decode_one_hot(one_hot, charges = [1,2,3,4,5,6]):\n",
    "    for index, hot in enumerate(one_hot):\n",
    "        if hot == 1:\n",
    "            return charges[index]"
   ],
   "metadata": {
    "collapsed": false,
    "ExecuteTime": {
     "end_time": "2023-09-05T12:34:57.182114100Z",
     "start_time": "2023-09-05T12:34:56.910859800Z"
    }
   }
  },
  {
   "cell_type": "code",
   "execution_count": 123,
   "outputs": [],
   "source": [
    "def predictions_no_hot(one_hot, charges = [1,2,3,4,5,6]):\n",
    "    if one_hot is not None:\n",
    "        index = np.argmax(one_hot)\n",
    "        return charges[index]\n",
    "    else:\n",
    "        return 'None'"
   ],
   "metadata": {
    "collapsed": false,
    "ExecuteTime": {
     "end_time": "2023-09-05T12:34:58.330726400Z",
     "start_time": "2023-09-05T12:34:58.119367200Z"
    }
   }
  },
  {
   "cell_type": "code",
   "execution_count": 124,
   "outputs": [
    {
     "data": {
      "text/plain": "4"
     },
     "execution_count": 124,
     "metadata": {},
     "output_type": "execute_result"
    }
   ],
   "source": [
    "np.argmax([0, 0 ,0 ,0, 1])"
   ],
   "metadata": {
    "collapsed": false,
    "ExecuteTime": {
     "end_time": "2023-09-05T12:34:59.575824600Z",
     "start_time": "2023-09-05T12:34:59.293218300Z"
    }
   }
  },
  {
   "cell_type": "code",
   "execution_count": 125,
   "outputs": [],
   "source": [
    "def get_topK(label_dict, k=1):\n",
    "    allowed_keys = list()\n",
    "    sorted_values = sorted(label_dict.values(), reverse=True)\n",
    "    for i in sorted_values:\n",
    "        for key, value in label_dict.items():\n",
    "            if i == value and len(allowed_keys) <= k:\n",
    "                #allowed_keys.append((key, value))\n",
    "                allowed_keys.append(key)\n",
    "    return allowed_keys"
   ],
   "metadata": {
    "collapsed": false,
    "ExecuteTime": {
     "end_time": "2023-09-05T12:35:01.397487700Z",
     "start_time": "2023-09-05T12:35:01.125571800Z"
    }
   }
  },
  {
   "cell_type": "code",
   "execution_count": 126,
   "outputs": [],
   "source": [
    "import pandas as pd\n",
    "predict_df = pd.DataFrame(columns=['modified_sequence_vector', 'true_label', 'pred_label', 'prediction', 'modified_sequence', 'seq_length', 'normalized', 'topK'])\n",
    "# every row of tensor to list\n",
    "predict_df['modified_sequence_vector'] = test_ds_embed.tolist()\n",
    "predict_df['true_label'] = test_labels_embed.tolist()\n",
    "predict_df['pred_label'] = None\n",
    "predict_df['prediction'] = None\n",
    "predict_df['true_label'] = predict_df['true_label'].apply(decode_one_hot)\n",
    "predict_df['modified_sequence'] = test_ds_embed_raw\n",
    "predict_df['normalized'] = test_true_labels_normalized\n",
    "predict_df['topK'] = predict_df['normalized'].apply(get_topK)\n",
    "# write length of modified sequence after seq_translator to 'seq_length'\n",
    "predict_df['seq_length'] = predict_df['modified_sequence'].apply(lambda x: len(list(seq_translator(x, no_padding=True))))\n"
   ],
   "metadata": {
    "collapsed": false,
    "ExecuteTime": {
     "end_time": "2023-09-05T12:35:04.508160500Z",
     "start_time": "2023-09-05T12:35:02.647267Z"
    }
   }
  },
  {
   "cell_type": "code",
   "execution_count": 85,
   "outputs": [
    {
     "data": {
      "text/plain": "                            modified_sequence_vector  true_label pred_label  \\\n0  [4, 18, 1, 1, 1, 15, 1, 1, 4, 17, 4, 0, 0, 0, ...           2       None   \n1  [16, 12, 16, 10, 15, 10, 16, 10, 8, 6, 3, 15, ...           2       None   \n2  [4, 22, 10, 17, 15, 1, 8, 9, 17, 14, 10, 18, 1...           3       None   \n3  [8, 13, 15, 18, 17, 17, 13, 10, 16, 16, 10, 0,...           2       None   \n\n  prediction           modified_sequence  seq_length  \\\n0       None                 EVAAARAAETE          11   \n1       None                SNSLRLSLIGDR          12   \n2       None  EM[UNIMOD:35]LTRAIKTQLVLLT          15   \n3       None                 IPRVTTPLSSL          11   \n\n                       normalized    topK  \n0                  {2: 2308078.0}     [2]  \n1  {3: 15888960.0, 2: 41187530.0}  [2, 3]  \n2   {3: 48770720.0, 2: 7114500.0}  [3, 2]  \n3                  {2: 9628667.0}     [2]  ",
      "text/html": "<div>\n<style scoped>\n    .dataframe tbody tr th:only-of-type {\n        vertical-align: middle;\n    }\n\n    .dataframe tbody tr th {\n        vertical-align: top;\n    }\n\n    .dataframe thead th {\n        text-align: right;\n    }\n</style>\n<table border=\"1\" class=\"dataframe\">\n  <thead>\n    <tr style=\"text-align: right;\">\n      <th></th>\n      <th>modified_sequence_vector</th>\n      <th>true_label</th>\n      <th>pred_label</th>\n      <th>prediction</th>\n      <th>modified_sequence</th>\n      <th>seq_length</th>\n      <th>normalized</th>\n      <th>topK</th>\n    </tr>\n  </thead>\n  <tbody>\n    <tr>\n      <th>0</th>\n      <td>[4, 18, 1, 1, 1, 15, 1, 1, 4, 17, 4, 0, 0, 0, ...</td>\n      <td>2</td>\n      <td>None</td>\n      <td>None</td>\n      <td>EVAAARAAETE</td>\n      <td>11</td>\n      <td>{2: 2308078.0}</td>\n      <td>[2]</td>\n    </tr>\n    <tr>\n      <th>1</th>\n      <td>[16, 12, 16, 10, 15, 10, 16, 10, 8, 6, 3, 15, ...</td>\n      <td>2</td>\n      <td>None</td>\n      <td>None</td>\n      <td>SNSLRLSLIGDR</td>\n      <td>12</td>\n      <td>{3: 15888960.0, 2: 41187530.0}</td>\n      <td>[2, 3]</td>\n    </tr>\n    <tr>\n      <th>2</th>\n      <td>[4, 22, 10, 17, 15, 1, 8, 9, 17, 14, 10, 18, 1...</td>\n      <td>3</td>\n      <td>None</td>\n      <td>None</td>\n      <td>EM[UNIMOD:35]LTRAIKTQLVLLT</td>\n      <td>15</td>\n      <td>{3: 48770720.0, 2: 7114500.0}</td>\n      <td>[3, 2]</td>\n    </tr>\n    <tr>\n      <th>3</th>\n      <td>[8, 13, 15, 18, 17, 17, 13, 10, 16, 16, 10, 0,...</td>\n      <td>2</td>\n      <td>None</td>\n      <td>None</td>\n      <td>IPRVTTPLSSL</td>\n      <td>11</td>\n      <td>{2: 9628667.0}</td>\n      <td>[2]</td>\n    </tr>\n  </tbody>\n</table>\n</div>"
     },
     "execution_count": 85,
     "metadata": {},
     "output_type": "execute_result"
    }
   ],
   "source": [
    "predict_df.head(4)"
   ],
   "metadata": {
    "collapsed": false,
    "ExecuteTime": {
     "end_time": "2023-09-05T10:21:25.566534300Z",
     "start_time": "2023-09-05T10:21:25.325686600Z"
    }
   }
  },
  {
   "cell_type": "code",
   "execution_count": 127,
   "outputs": [
    {
     "data": {
      "text/plain": "0       [2]\n1    [2, 3]\n2    [3, 2]\n3       [2]\nName: topK, dtype: object"
     },
     "execution_count": 127,
     "metadata": {},
     "output_type": "execute_result"
    }
   ],
   "source": [
    "predict_df['topK'].head(4)"
   ],
   "metadata": {
    "collapsed": false,
    "ExecuteTime": {
     "end_time": "2023-09-05T12:35:09.726515Z",
     "start_time": "2023-09-05T12:35:09.427958800Z"
    }
   }
  },
  {
   "cell_type": "code",
   "execution_count": 128,
   "outputs": [
    {
     "name": "stdout",
     "output_type": "stream",
     "text": [
      "[[ 4 18  1  1  1 15  1  1  4 17  4  0  0  0  0  0  0  0  0  0  0  0  0  0\n",
      "   0  0  0  0  0  0  0  0  0  0  0  0  0  0  0  0  0  0  0  0  0  0  0  0\n",
      "   0  0  0  0  0  0  0  0  0  0  0  0  0  0  0]]\n",
      "[9.5915444e-02 7.9900467e-01 1.8333426e-01 1.3368127e-03 3.3343455e-05\n",
      " 3.2605232e-05]\n"
     ]
    }
   ],
   "source": [
    "# test predict for one\n",
    "for index, row in predict_df.iterrows():\n",
    "    solut1 = np.expand_dims(tf.convert_to_tensor(np.array(predict_df.at[index, \"modified_sequence_vector\"])), axis=0)\n",
    "    print(solut1)\n",
    "    test_give = model_embed.predict(solut1, verbose=False)\n",
    "    break\n",
    "print(test_give[0])"
   ],
   "metadata": {
    "collapsed": false,
    "ExecuteTime": {
     "end_time": "2023-09-05T12:35:11.531150700Z",
     "start_time": "2023-09-05T12:35:11.184733500Z"
    }
   }
  },
  {
   "cell_type": "code",
   "execution_count": 129,
   "outputs": [],
   "source": [
    "def generate_charge_prediction_text(charge_predictions, input_sequence='AAAVVCCAA'):\n",
    "    max_charge_index = np.argmax(charge_predictions)\n",
    "    max_charge_value = round(charge_predictions[max_charge_index], 2)\n",
    "\n",
    "    charge_text = f\"The predicted charge state for the input sequence '{input_sequence}' is {max_charge_index+1} [{round(max_charge_value*100,2)}%].\"\n",
    "    percentage_text = \"Prediction percentages for all states:\\n\"\n",
    "\n",
    "    for index, prediction in enumerate(charge_predictions):\n",
    "        if index != max_charge_index:\n",
    "            percentage = round(prediction * 100, 2)\n",
    "            percentage_text += f\"Charge state {index+1}: {percentage}%\\n\"\n",
    "        else:\n",
    "            percentage = round(prediction * 100, 2)\n",
    "            percentage_text += f\"--Charge state {index+1}: {percentage}%\\n\"\n",
    "\n",
    "    full_text = charge_text + \"\\n\" + percentage_text\n",
    "    return full_text"
   ],
   "metadata": {
    "collapsed": false,
    "ExecuteTime": {
     "end_time": "2023-09-05T12:35:14.588565100Z",
     "start_time": "2023-09-05T12:35:14.346814600Z"
    }
   }
  },
  {
   "cell_type": "markdown",
   "source": [],
   "metadata": {
    "collapsed": false
   }
  },
  {
   "cell_type": "code",
   "execution_count": 130,
   "outputs": [
    {
     "name": "stdout",
     "output_type": "stream",
     "text": [
      "Model: \"model_7\"\n",
      "_________________________________________________________________\n",
      " Layer (type)                Output Shape              Param #   \n",
      "=================================================================\n",
      " input_4 (InputLayer)        [(None, 63)]              0         \n",
      "                                                                 \n",
      " embedding_3 (Embedding)     (None, 63, 63)            1449      \n",
      "                                                                 \n",
      " flatten_3 (Flatten)         (None, 3969)              0         \n",
      "                                                                 \n",
      " dense_4 (Dense)             (None, 6)                 23820     \n",
      "                                                                 \n",
      "=================================================================\n",
      "Total params: 25,269\n",
      "Trainable params: 25,269\n",
      "Non-trainable params: 0\n",
      "_________________________________________________________________\n"
     ]
    }
   ],
   "source": [
    "model_embed.summary()"
   ],
   "metadata": {
    "collapsed": false,
    "ExecuteTime": {
     "end_time": "2023-09-05T12:35:17.282590200Z",
     "start_time": "2023-09-05T12:35:16.535209400Z"
    }
   }
  },
  {
   "cell_type": "code",
   "execution_count": 131,
   "outputs": [
    {
     "data": {
      "text/plain": "19501"
     },
     "execution_count": 131,
     "metadata": {},
     "output_type": "execute_result"
    }
   ],
   "source": [
    "# search modified_sequence of length 60 in predict_df and return row index\n",
    "predict_df[predict_df['seq_length'] >= 40].index[0]"
   ],
   "metadata": {
    "collapsed": false,
    "ExecuteTime": {
     "end_time": "2023-09-05T12:35:36.412498400Z",
     "start_time": "2023-09-05T12:35:36.041057900Z"
    }
   }
  },
  {
   "cell_type": "code",
   "execution_count": 132,
   "outputs": [
    {
     "data": {
      "text/plain": "                            modified_sequence_vector  true_label pred_label  \\\n0  [4, 18, 1, 1, 1, 15, 1, 1, 4, 17, 4, 0, 0, 0, ...           2       None   \n1  [16, 12, 16, 10, 15, 10, 16, 10, 8, 6, 3, 15, ...           2       None   \n2  [4, 22, 10, 17, 15, 1, 8, 9, 17, 14, 10, 18, 1...           3       None   \n3  [8, 13, 15, 18, 17, 17, 13, 10, 16, 16, 10, 0,...           2       None   \n\n  prediction           modified_sequence  seq_length  \\\n0       None                 EVAAARAAETE          11   \n1       None                SNSLRLSLIGDR          12   \n2       None  EM[UNIMOD:35]LTRAIKTQLVLLT          15   \n3       None                 IPRVTTPLSSL          11   \n\n                       normalized    topK  \n0                  {2: 2308078.0}     [2]  \n1  {3: 15888960.0, 2: 41187530.0}  [2, 3]  \n2   {3: 48770720.0, 2: 7114500.0}  [3, 2]  \n3                  {2: 9628667.0}     [2]  ",
      "text/html": "<div>\n<style scoped>\n    .dataframe tbody tr th:only-of-type {\n        vertical-align: middle;\n    }\n\n    .dataframe tbody tr th {\n        vertical-align: top;\n    }\n\n    .dataframe thead th {\n        text-align: right;\n    }\n</style>\n<table border=\"1\" class=\"dataframe\">\n  <thead>\n    <tr style=\"text-align: right;\">\n      <th></th>\n      <th>modified_sequence_vector</th>\n      <th>true_label</th>\n      <th>pred_label</th>\n      <th>prediction</th>\n      <th>modified_sequence</th>\n      <th>seq_length</th>\n      <th>normalized</th>\n      <th>topK</th>\n    </tr>\n  </thead>\n  <tbody>\n    <tr>\n      <th>0</th>\n      <td>[4, 18, 1, 1, 1, 15, 1, 1, 4, 17, 4, 0, 0, 0, ...</td>\n      <td>2</td>\n      <td>None</td>\n      <td>None</td>\n      <td>EVAAARAAETE</td>\n      <td>11</td>\n      <td>{2: 2308078.0}</td>\n      <td>[2]</td>\n    </tr>\n    <tr>\n      <th>1</th>\n      <td>[16, 12, 16, 10, 15, 10, 16, 10, 8, 6, 3, 15, ...</td>\n      <td>2</td>\n      <td>None</td>\n      <td>None</td>\n      <td>SNSLRLSLIGDR</td>\n      <td>12</td>\n      <td>{3: 15888960.0, 2: 41187530.0}</td>\n      <td>[2, 3]</td>\n    </tr>\n    <tr>\n      <th>2</th>\n      <td>[4, 22, 10, 17, 15, 1, 8, 9, 17, 14, 10, 18, 1...</td>\n      <td>3</td>\n      <td>None</td>\n      <td>None</td>\n      <td>EM[UNIMOD:35]LTRAIKTQLVLLT</td>\n      <td>15</td>\n      <td>{3: 48770720.0, 2: 7114500.0}</td>\n      <td>[3, 2]</td>\n    </tr>\n    <tr>\n      <th>3</th>\n      <td>[8, 13, 15, 18, 17, 17, 13, 10, 16, 16, 10, 0,...</td>\n      <td>2</td>\n      <td>None</td>\n      <td>None</td>\n      <td>IPRVTTPLSSL</td>\n      <td>11</td>\n      <td>{2: 9628667.0}</td>\n      <td>[2]</td>\n    </tr>\n  </tbody>\n</table>\n</div>"
     },
     "execution_count": 132,
     "metadata": {},
     "output_type": "execute_result"
    }
   ],
   "source": [
    "predict_df.head(4)"
   ],
   "metadata": {
    "collapsed": false,
    "ExecuteTime": {
     "end_time": "2023-09-05T12:35:38.325592900Z",
     "start_time": "2023-09-05T12:35:38.047554900Z"
    }
   }
  },
  {
   "cell_type": "code",
   "execution_count": 133,
   "outputs": [
    {
     "name": "stdout",
     "output_type": "stream",
     "text": [
      "\n",
      "\n",
      "---- new plot: ----\n",
      "EM[UNIMOD:35]LTRAIKTQLVLLT\n"
     ]
    },
    {
     "data": {
      "text/plain": "<Figure size 640x480 with 1 Axes>",
      "image/png": "[encoded data removed]"
     },
     "metadata": {},
     "output_type": "display_data"
    },
    {
     "name": "stdout",
     "output_type": "stream",
     "text": [
      "Sequence:  EM[UNIMOD:35]LTRAIKTQLVLLT\n",
      "Diagram-Algorithm-Prediction:  4\n",
      "True labels are  dict_keys([3, 2])\n",
      "Embedding-Layer Prediction-Weights:\n",
      "   charge state 1:  0.0 False\n",
      "   charge state 2:  0.58 -> True\n",
      "   charge state 3:  0.6 -> True\n",
      "   charge state 4:  0.06 False\n",
      "   charge state 5:  0.0 False\n",
      "   charge state 6:  0.0 False\n",
      "-> False: True labels are  dict_keys([3, 2]) , DA-Prediction:  4  is False\n",
      "Model-Prediction:  [0.0, 0.58, 0.6, 0.06, 0.0, 0.0]\n",
      "\n",
      "\n",
      "---- new plot: ----\n",
      "VTAEADSSSPTGILATSESKHVSTSSDEGSPSASTPMINK\n"
     ]
    },
    {
     "data": {
      "text/plain": "<Figure size 640x480 with 1 Axes>",
      "image/png": "[encoded data removed]"
     },
     "metadata": {},
     "output_type": "display_data"
    },
    {
     "name": "stdout",
     "output_type": "stream",
     "text": [
      "Sequence:  VTAEADSSSPTGILATSESKHVSTSSDEGSPSASTPMINK\n",
      "Diagram-Algorithm-Prediction:  10\n",
      "True labels are  dict_keys([6])\n",
      "Embedding-Layer Prediction-Weights:\n",
      "   charge state 1:  0.11 False\n",
      "   charge state 2:  0.04 False\n",
      "   charge state 3:  0.29 False\n",
      "   charge state 4:  0.28 False\n",
      "   charge state 5:  0.1 False\n",
      "   charge state 6:  0.15 -> True\n",
      "-> False: True labels are  dict_keys([6]) , DA-Prediction:  10  is False\n",
      "Model-Prediction:  [0.11, 0.04, 0.29, 0.28, 0.1, 0.15]\n",
      "\n",
      "\n",
      "---- new plot: ----\n",
      "IPRVTTPLSSL\n"
     ]
    },
    {
     "data": {
      "text/plain": "<Figure size 640x480 with 1 Axes>",
      "image/png": "[encoded data removed]"
     },
     "metadata": {},
     "output_type": "display_data"
    },
    {
     "name": "stdout",
     "output_type": "stream",
     "text": [
      "Sequence:  IPRVTTPLSSL\n",
      "Diagram-Algorithm-Prediction:  1\n",
      "True labels are  dict_keys([2])\n",
      "Embedding-Layer Prediction-Weights:\n",
      "   charge state 1:  0.05 False\n",
      "   charge state 2:  0.76 -> True\n",
      "   charge state 3:  0.21 False\n",
      "   charge state 4:  0.0 False\n",
      "   charge state 5:  0.0 False\n",
      "   charge state 6:  0.0 False\n",
      "-> False: True labels are  dict_keys([2]) , DA-Prediction:  1  is False\n",
      "Model-Prediction:  [0.05, 0.76, 0.21, 0.0, 0.0, 0.0]\n",
      "\n",
      "\n",
      "---- new plot: ----\n",
      "HSVLEVLTAAVEYGLEELR\n"
     ]
    },
    {
     "data": {
      "text/plain": "<Figure size 640x480 with 1 Axes>",
      "image/png": "[encoded data removed]"
     },
     "metadata": {},
     "output_type": "display_data"
    },
    {
     "name": "stdout",
     "output_type": "stream",
     "text": [
      "Sequence:  HSVLEVLTAAVEYGLEELR\n",
      "Diagram-Algorithm-Prediction:  4\n",
      "True labels are  dict_keys([3])\n",
      "Embedding-Layer Prediction-Weights:\n",
      "   charge state 1:  0.0 False\n",
      "   charge state 2:  0.45 False\n",
      "   charge state 3:  0.32 -> True\n",
      "   charge state 4:  0.07 False\n",
      "   charge state 5:  0.0 False\n",
      "   charge state 6:  0.0 False\n",
      "-> False: True labels are  dict_keys([3]) , DA-Prediction:  4  is False\n",
      "Model-Prediction:  [0.0, 0.45, 0.32, 0.07, 0.0, 0.0]\n",
      "\n",
      "\n",
      "---- new plot: ----\n",
      "FLGNLDITV\n"
     ]
    },
    {
     "data": {
      "text/plain": "<Figure size 640x480 with 1 Axes>",
      "image/png": "[encoded data removed]"
     },
     "metadata": {},
     "output_type": "display_data"
    },
    {
     "name": "stdout",
     "output_type": "stream",
     "text": [
      "Sequence:  FLGNLDITV\n",
      "Diagram-Algorithm-Prediction:  2\n",
      "True labels are  dict_keys([1])\n",
      "Embedding-Layer Prediction-Weights:\n",
      "   charge state 1:  0.85 -> True\n",
      "   charge state 2:  0.92 False\n",
      "   charge state 3:  0.03 False\n",
      "   charge state 4:  0.0 False\n",
      "   charge state 5:  0.0 False\n",
      "   charge state 6:  0.0 False\n",
      "-> False: True labels are  dict_keys([1]) , DA-Prediction:  2  is False\n",
      "Model-Prediction:  [0.85, 0.92, 0.03, 0.0, 0.0, 0.0]\n",
      "\n",
      "\n",
      "---- new plot: ----\n",
      "EPEPDVAVL\n"
     ]
    },
    {
     "data": {
      "text/plain": "<Figure size 640x480 with 1 Axes>",
      "image/png": "[encoded data removed]"
     },
     "metadata": {},
     "output_type": "display_data"
    },
    {
     "name": "stdout",
     "output_type": "stream",
     "text": [
      "Sequence:  EPEPDVAVL\n",
      "Diagram-Algorithm-Prediction:  1\n",
      "True labels are  dict_keys([1])\n",
      "Embedding-Layer Prediction-Weights:\n",
      "   charge state 1:  0.82 -> True\n",
      "   charge state 2:  0.91 False\n",
      "   charge state 3:  0.04 False\n",
      "   charge state 4:  0.0 False\n",
      "   charge state 5:  0.0 False\n",
      "   charge state 6:  0.0 False\n",
      "-> True: True labels are  dict_keys([1]) DA-Prediction:  1  is TRUE\n",
      "Model-Prediction:  [0.82, 0.91, 0.04, 0.0, 0.0, 0.0]\n",
      "\n",
      "\n",
      "---- new plot: ----\n",
      "MVTHSKFPAAGM[UNIMOD:35]SR\n"
     ]
    },
    {
     "data": {
      "text/plain": "<Figure size 640x480 with 1 Axes>",
      "image/png": "[encoded data removed]"
     },
     "metadata": {},
     "output_type": "display_data"
    },
    {
     "name": "stdout",
     "output_type": "stream",
     "text": [
      "Sequence:  MVTHSKFPAAGM[UNIMOD:35]SR\n",
      "Diagram-Algorithm-Prediction:  1\n",
      "True labels are  dict_keys([3, 2, 4])\n",
      "Embedding-Layer Prediction-Weights:\n",
      "   charge state 1:  0.0 False\n",
      "   charge state 2:  0.15 -> True\n",
      "   charge state 3:  0.63 -> True\n",
      "   charge state 4:  0.21 -> True\n",
      "   charge state 5:  0.0 False\n",
      "   charge state 6:  0.0 False\n",
      "-> False: True labels are  dict_keys([3, 2, 4]) , DA-Prediction:  1  is False\n",
      "Model-Prediction:  [0.0, 0.15, 0.63, 0.21, 0.0, 0.0]\n",
      "\n",
      "\n",
      " true:  1 false:  6 total:  7\n"
     ]
    }
   ],
   "source": [
    "layers = [layer.get_weights() for layer in model_embed.layers]\n",
    "\n",
    "amino_dict = dict()\n",
    "\n",
    "\n",
    "sequence_positionen = list(range(63)) # 0,1,2,3,4,5...62\n",
    "embedding_structure = layers[1][0] # 23 blocks of AA weights\n",
    "\n",
    "\n",
    "for position in sequence_positionen: # 63 stk\n",
    "    amino_dict[position] = dict()\n",
    "    for index, i in enumerate(embedding_structure): #23 stk\n",
    "        if vocabulary[index] not in amino_dict[position]:\n",
    "            amino_dict[position][vocabulary[index]] = list()\n",
    "            amino_dict[position][vocabulary[index]].append(embedding_structure[index][position])\n",
    "        else:   \n",
    "            amino_dict[position][vocabulary[index]].append(embedding_structure[index][position])\n",
    "\n",
    "aminos = list(amino_dict[0])\n",
    "#print(aminos)\n",
    "# an welcher position steht die gewichtung an der position 0 für das Amino A\n",
    "\n",
    "\n",
    "\n",
    "weight_dictionary_per_position = dict()\n",
    "for i in amino_dict:\n",
    "    weight_dictionary_per_position[i] = dict()\n",
    "    weight_position = 0\n",
    "    sorted_list = [x[0] for x in amino_dict[i].values()]\n",
    "    sorted_list = sorted(sorted_list, key=float, reverse=False)\n",
    "    for j in sorted_list:\n",
    "        for key, value in amino_dict[i].items():\n",
    "            if j == value[0]:\n",
    "                #weight_dictionary_per_position[i][key] = weight_position\n",
    "                #weight_dictionary_per_position[i][key] = weight_position\n",
    "                average_for_position = np.average([x[0] for x in amino_dict[i].values()]) # normalisation\n",
    "                weight_dictionary_per_position[i][key] = (j - average_for_position) * (weight_position+1) # highest value = high multiplier\n",
    "                #print(weight_dictionary_per_position[i][key], key, value[0])\n",
    "                weight_position += 1\n",
    "                \n",
    "\n",
    "#Amino: \"A\" an index 0 -> [block A für index 0] -> 0.0725 (20/23 Gewichtungsposition -> Farbe (weiss->schwarz): hellgrau)\n",
    "#test_input_sequence = predict_df['modified_sequence'][51]\n",
    "total_counter = 0\n",
    "false_counter = 0\n",
    "true_counter = 0\n",
    "\n",
    "for gg in [2, 19501, 3, 4, 5, 6, 7]:\n",
    "    total_counter+=1\n",
    "    print(\"\\n\")\n",
    "    print(\"---- new plot: ----\")\n",
    "    test_input_sequence = predict_df['modified_sequence'][gg]\n",
    "    test_true_label_input_sequence = predict_df['normalized'][gg]\n",
    "    print(test_input_sequence)\n",
    "    #test_input_sequence = 'CCCCCCCCCCCCCCCCCCCCCCCCCCCCCCCCC' #TODO manually overwrite\n",
    "    #print(test_input_sequence, len(test_input_sequence))\n",
    "    test_input_sequence_length = len(re.findall(r'[A-Z]\\[[^\\]]*\\]|.', test_input_sequence))\n",
    "    #print(\"len: \", test_input_sequence_length)\n",
    "    #test_input_sequence += 'X' * (63 - test_input_sequence_length)\n",
    "    # TODO test_input_sequence += 'X' * (63 - test_input_sequence_length)\n",
    "    #print(test_input_sequence, len(re.findall(r'[A-Z]\\[[^\\]]*\\]|.', test_input_sequence)))\n",
    "    test_input_sequence_formatted = re.findall(r'[A-Z]\\[[^\\]]*\\]|.', test_input_sequence)\n",
    "    #print(test_input_sequence_formatted)\n",
    "           \n",
    "    \n",
    "    \n",
    "    x_for_plot = list(range(len(test_input_sequence_formatted))) # vocabolary of length 23\n",
    "    y_for_plot = list()\n",
    "    # create a list of 0 and 1, 1 if 'X' in test_input_sequence, 0 if not\n",
    "    #c_for_plot = ['red' if x == 'X' else 'green' for x in test_input_sequence_formatted]\n",
    "    c_for_plot = []\n",
    "    \n",
    "    for index, amino in enumerate(test_input_sequence_formatted):\n",
    "        if amino in ['R', 'H', 'K']: # Positive\n",
    "            c_for_plot.append('green')\n",
    "        elif amino in ['D', 'E']: # Negative\n",
    "            c_for_plot.append('blue')\n",
    "        elif amino in ['S', 'T', 'N', 'Q']: # Polar\n",
    "            c_for_plot.append('orange')\n",
    "        elif amino in ['A', 'V', 'I', 'L', 'M', 'F', 'Y', 'W']: # Hydrophobic\n",
    "            c_for_plot.append('pink')\n",
    "        elif amino in ['G', 'P', 'C']: # Special\n",
    "            c_for_plot.append('yellow')\n",
    "        else:\n",
    "            c_for_plot.append('black')\n",
    "            \n",
    "    for index, amino in enumerate(test_input_sequence_formatted):\n",
    "        y_for_plot.append(weight_dictionary_per_position[index][amino])\n",
    "        #print(index, amino, \": \", weight_dictionary_per_position[index][amino], \"/22\")\n",
    "    \n",
    "    # for index, amino in enumerate(test_input_sequence_formatted):\n",
    "    #     if amino == 'X':\n",
    "    #         c_for_plot.append('red')\n",
    "    #     voc_list_positive = ['H', 'N', 'R', 'S', 'G', 'T', 'A', 'P', 'M', 'V', 'I', 'L', 'F', 'W', 'K']\n",
    "    #     if amino in voc_list_positive:\n",
    "    #         # 14 shades of blue from light to dark:\n",
    "    #         list_of_colors = ['#e6f2ff', '#cce6ff', '#b3d9ff', '#99ccff', '#80bfff', '#66b3ff', '#4da6ff', '#3399ff', '#1a8cff', '#0080ff', '#0073e6', '#0066cc', '#0059b3', '#004d99']\n",
    "    #         if amino in ['H', 'R', 'K']: # basic\n",
    "    #             c_for_plot.append('red')\n",
    "    #         else:\n",
    "    #             c_for_plot.append(list_of_colors[voc_list_positive.index(amino)])\n",
    "    #         #c_for_plot.append('blue')\n",
    "    #     else:\n",
    "    #         c_for_plot.append('green')\n",
    "    # \n",
    "    # for index, amino in enumerate(test_input_sequence_formatted):\n",
    "    #     y_for_plot.append(weight_dictionary_per_position[index][amino])\n",
    "    #     #print(index, amino, \": \", weight_dictionary_per_position[index][amino], \"/22\")\n",
    "    # # colors bars according to c_for_plot\n",
    "    \n",
    "    \n",
    "    ## TODO PREDICTION WITH DIAGRAM\n",
    "    # give a prediction according to y_for_plot by counting the highest values if at least 1 index away from preivous peak\n",
    "    peak_height = 0\n",
    "    peak_counter = 0\n",
    "    distance_after_last_peak = 1\n",
    "    minimum_distance = 1\n",
    "    peak_set = False\n",
    "    \n",
    "    for xndex, x in enumerate(y_for_plot):\n",
    "        #print(xndex,\"; \", x, \"peak-height: \", peak_height, \"distance_after: \", distance_after_last_peak)\n",
    "        if x > peak_height:\n",
    "            peak_set = False\n",
    "            peak_height = x\n",
    "            distance_after_last_peak+=1\n",
    "            if xndex == len(y_for_plot)-1 and peak_height > max(y_for_plot)/4:\n",
    "                peak_counter += 1\n",
    "                #print(\"peak found at: \", test_input_sequence_formatted[xndex-1], \"peak_counter: \", peak_counter)\n",
    "    \n",
    "        elif x < peak_height:\n",
    "            distance_after_last_peak += 1\n",
    "            if distance_after_last_peak >= 2 and peak_set == False:\n",
    "                if peak_height > max(y_for_plot)/4:\n",
    "                    peak_counter += 1\n",
    "                peak_height = 0 # reset\n",
    "                distance_after_last_peak = 1\n",
    "                peak_set = True\n",
    "                #print(\"peak found at: \", test_input_sequence_formatted[xndex-1], \"peak_counter: \", peak_counter)        \n",
    "    \n",
    "    \n",
    "    # insert horizontal line at max(y_for_plot)/4 and add label \"cutoff\"\n",
    "    plt.axhline(y=max(y_for_plot)/4, color='r', linestyle='-')\n",
    "    plt.text(0, max(y_for_plot)/4, f'cutoff {round(max(y_for_plot)/4, 2)}', color='red', fontsize=10)\n",
    "\n",
    "    \n",
    "    # add title and legend\n",
    "    plt.title(f\"Sequence: {test_input_sequence}\")\n",
    "    plt.xlabel(\"Amino Acid\")\n",
    "    plt.ylabel(\"Normalized Weight for AA at index\\n (0 = mean of weights at index)\")\n",
    "    plt.xticks(x_for_plot, [x if len(x) == 1 else x[:1]+\"*\" for x in test_input_sequence_formatted])\n",
    "    plt.bar(x_for_plot, y_for_plot, color=c_for_plot)\n",
    "    plt.show()\n",
    "        \n",
    "    # TODO prediction\n",
    "    input_sequence = test_input_sequence\n",
    "    input_sequence_vector = seq_translator(input_sequence, max_len=63)\n",
    "    input_sequence_vector = np.expand_dims(tf.convert_to_tensor(np.array(input_sequence_vector)), axis=0)\n",
    "    test_give = model_embed.predict(input_sequence_vector, verbose=False)\n",
    "    counter = 1\n",
    "    #print(\"-----------------------------\")\n",
    "    print(\"Sequence: \", input_sequence)\n",
    "    print(\"Diagram-Algorithm-Prediction: \", peak_counter)\n",
    "    print(\"True labels are \", test_true_label_input_sequence.keys())\n",
    "    print(\"Embedding-Layer Prediction-Weights:\")\n",
    "    for x in test_give[0]:\n",
    "        print(f\"   charge state {counter}: \", round(x, 2), end='')\n",
    "        if counter in test_true_label_input_sequence:\n",
    "            print(\" -> True\")\n",
    "        else:\n",
    "            print(\" False\")\n",
    "        counter += 1\n",
    "    if peak_counter in test_true_label_input_sequence:\n",
    "        true_counter+=1\n",
    "        print(\"-> True: True labels are \", test_true_label_input_sequence.keys(), \"DA-Prediction: \", peak_counter, \" is TRUE\")\n",
    "    else: \n",
    "        false_counter+=1\n",
    "        print(\"-> False: True labels are \", test_true_label_input_sequence.keys(), \", DA-Prediction: \", peak_counter, \" is False\")\n",
    "        \n",
    "    print(\"Model-Prediction: \", [round(x, 2) for x in model_embed.predict(input_sequence_vector, verbose=False)[0]])\n",
    "        \n",
    "print(\"\\n\\n true: \", true_counter, \"false: \", false_counter, \"total: \", total_counter)\n"
   ],
   "metadata": {
    "collapsed": false,
    "ExecuteTime": {
     "end_time": "2023-09-05T12:35:47.676037500Z",
     "start_time": "2023-09-05T12:35:45.462044Z"
    }
   }
  },
  {
   "cell_type": "code",
   "execution_count": 87,
   "outputs": [
    {
     "ename": "KeyboardInterrupt",
     "evalue": "",
     "output_type": "error",
     "traceback": [
      "\u001B[1;31m---------------------------------------------------------------------------\u001B[0m",
      "\u001B[1;31mKeyboardInterrupt\u001B[0m                         Traceback (most recent call last)",
      "Cell \u001B[1;32mIn[87], line 113\u001B[0m\n\u001B[0;32m    111\u001B[0m input_sequence_vector \u001B[38;5;241m=\u001B[39m seq_translator(input_sequence, max_len\u001B[38;5;241m=\u001B[39m\u001B[38;5;241m63\u001B[39m)\n\u001B[0;32m    112\u001B[0m input_sequence_vector \u001B[38;5;241m=\u001B[39m np\u001B[38;5;241m.\u001B[39mexpand_dims(tf\u001B[38;5;241m.\u001B[39mconvert_to_tensor(np\u001B[38;5;241m.\u001B[39marray(input_sequence_vector)), axis\u001B[38;5;241m=\u001B[39m\u001B[38;5;241m0\u001B[39m)\n\u001B[1;32m--> 113\u001B[0m test_give \u001B[38;5;241m=\u001B[39m \u001B[43mmodel_embed\u001B[49m\u001B[38;5;241;43m.\u001B[39;49m\u001B[43mpredict\u001B[49m\u001B[43m(\u001B[49m\u001B[43minput_sequence_vector\u001B[49m\u001B[43m,\u001B[49m\u001B[43m \u001B[49m\u001B[43mverbose\u001B[49m\u001B[38;5;241;43m=\u001B[39;49m\u001B[38;5;28;43;01mFalse\u001B[39;49;00m\u001B[43m)\u001B[49m\n\u001B[0;32m    114\u001B[0m counter \u001B[38;5;241m=\u001B[39m \u001B[38;5;241m1\u001B[39m\n\u001B[0;32m    115\u001B[0m \u001B[38;5;66;03m#print(\"-----------------------------\")\u001B[39;00m\n\u001B[0;32m    116\u001B[0m \u001B[38;5;66;03m#print(\"Sequence: \", input_sequence)\u001B[39;00m\n",
      "File \u001B[1;32m~\\OneDrive\\Dokumente\\GitHub\\BachelorThesis\\venv\\Lib\\site-packages\\keras\\utils\\traceback_utils.py:65\u001B[0m, in \u001B[0;36mfilter_traceback.<locals>.error_handler\u001B[1;34m(*args, **kwargs)\u001B[0m\n\u001B[0;32m     63\u001B[0m filtered_tb \u001B[38;5;241m=\u001B[39m \u001B[38;5;28;01mNone\u001B[39;00m\n\u001B[0;32m     64\u001B[0m \u001B[38;5;28;01mtry\u001B[39;00m:\n\u001B[1;32m---> 65\u001B[0m     \u001B[38;5;28;01mreturn\u001B[39;00m \u001B[43mfn\u001B[49m\u001B[43m(\u001B[49m\u001B[38;5;241;43m*\u001B[39;49m\u001B[43margs\u001B[49m\u001B[43m,\u001B[49m\u001B[43m \u001B[49m\u001B[38;5;241;43m*\u001B[39;49m\u001B[38;5;241;43m*\u001B[39;49m\u001B[43mkwargs\u001B[49m\u001B[43m)\u001B[49m\n\u001B[0;32m     66\u001B[0m \u001B[38;5;28;01mexcept\u001B[39;00m \u001B[38;5;167;01mException\u001B[39;00m \u001B[38;5;28;01mas\u001B[39;00m e:\n\u001B[0;32m     67\u001B[0m     filtered_tb \u001B[38;5;241m=\u001B[39m _process_traceback_frames(e\u001B[38;5;241m.\u001B[39m__traceback__)\n",
      "File \u001B[1;32m~\\OneDrive\\Dokumente\\GitHub\\BachelorThesis\\venv\\Lib\\site-packages\\keras\\engine\\training.py:2349\u001B[0m, in \u001B[0;36mModel.predict\u001B[1;34m(self, x, batch_size, verbose, steps, callbacks, max_queue_size, workers, use_multiprocessing)\u001B[0m\n\u001B[0;32m   2340\u001B[0m     \u001B[38;5;28;01mexcept\u001B[39;00m \u001B[38;5;167;01mValueError\u001B[39;00m:\n\u001B[0;32m   2341\u001B[0m         warnings\u001B[38;5;241m.\u001B[39mwarn(\n\u001B[0;32m   2342\u001B[0m             \u001B[38;5;124m\"\u001B[39m\u001B[38;5;124mUsing Model.predict with MultiWorkerMirroredStrategy \u001B[39m\u001B[38;5;124m\"\u001B[39m\n\u001B[0;32m   2343\u001B[0m             \u001B[38;5;124m\"\u001B[39m\u001B[38;5;124mor TPUStrategy and AutoShardPolicy.FILE might lead to \u001B[39m\u001B[38;5;124m\"\u001B[39m\n\u001B[1;32m   (...)\u001B[0m\n\u001B[0;32m   2346\u001B[0m             stacklevel\u001B[38;5;241m=\u001B[39m\u001B[38;5;241m2\u001B[39m,\n\u001B[0;32m   2347\u001B[0m         )\n\u001B[1;32m-> 2349\u001B[0m data_handler \u001B[38;5;241m=\u001B[39m \u001B[43mdata_adapter\u001B[49m\u001B[38;5;241;43m.\u001B[39;49m\u001B[43mget_data_handler\u001B[49m\u001B[43m(\u001B[49m\n\u001B[0;32m   2350\u001B[0m \u001B[43m    \u001B[49m\u001B[43mx\u001B[49m\u001B[38;5;241;43m=\u001B[39;49m\u001B[43mx\u001B[49m\u001B[43m,\u001B[49m\n\u001B[0;32m   2351\u001B[0m \u001B[43m    \u001B[49m\u001B[43mbatch_size\u001B[49m\u001B[38;5;241;43m=\u001B[39;49m\u001B[43mbatch_size\u001B[49m\u001B[43m,\u001B[49m\n\u001B[0;32m   2352\u001B[0m \u001B[43m    \u001B[49m\u001B[43msteps_per_epoch\u001B[49m\u001B[38;5;241;43m=\u001B[39;49m\u001B[43msteps\u001B[49m\u001B[43m,\u001B[49m\n\u001B[0;32m   2353\u001B[0m \u001B[43m    \u001B[49m\u001B[43minitial_epoch\u001B[49m\u001B[38;5;241;43m=\u001B[39;49m\u001B[38;5;241;43m0\u001B[39;49m\u001B[43m,\u001B[49m\n\u001B[0;32m   2354\u001B[0m \u001B[43m    \u001B[49m\u001B[43mepochs\u001B[49m\u001B[38;5;241;43m=\u001B[39;49m\u001B[38;5;241;43m1\u001B[39;49m\u001B[43m,\u001B[49m\n\u001B[0;32m   2355\u001B[0m \u001B[43m    \u001B[49m\u001B[43mmax_queue_size\u001B[49m\u001B[38;5;241;43m=\u001B[39;49m\u001B[43mmax_queue_size\u001B[49m\u001B[43m,\u001B[49m\n\u001B[0;32m   2356\u001B[0m \u001B[43m    \u001B[49m\u001B[43mworkers\u001B[49m\u001B[38;5;241;43m=\u001B[39;49m\u001B[43mworkers\u001B[49m\u001B[43m,\u001B[49m\n\u001B[0;32m   2357\u001B[0m \u001B[43m    \u001B[49m\u001B[43muse_multiprocessing\u001B[49m\u001B[38;5;241;43m=\u001B[39;49m\u001B[43muse_multiprocessing\u001B[49m\u001B[43m,\u001B[49m\n\u001B[0;32m   2358\u001B[0m \u001B[43m    \u001B[49m\u001B[43mmodel\u001B[49m\u001B[38;5;241;43m=\u001B[39;49m\u001B[38;5;28;43mself\u001B[39;49m\u001B[43m,\u001B[49m\n\u001B[0;32m   2359\u001B[0m \u001B[43m    \u001B[49m\u001B[43msteps_per_execution\u001B[49m\u001B[38;5;241;43m=\u001B[39;49m\u001B[38;5;28;43mself\u001B[39;49m\u001B[38;5;241;43m.\u001B[39;49m\u001B[43m_steps_per_execution\u001B[49m\u001B[43m,\u001B[49m\n\u001B[0;32m   2360\u001B[0m \u001B[43m\u001B[49m\u001B[43m)\u001B[49m\n\u001B[0;32m   2362\u001B[0m \u001B[38;5;66;03m# Container that configures and calls `tf.keras.Callback`s.\u001B[39;00m\n\u001B[0;32m   2363\u001B[0m \u001B[38;5;28;01mif\u001B[39;00m \u001B[38;5;129;01mnot\u001B[39;00m \u001B[38;5;28misinstance\u001B[39m(callbacks, callbacks_module\u001B[38;5;241m.\u001B[39mCallbackList):\n",
      "File \u001B[1;32m~\\OneDrive\\Dokumente\\GitHub\\BachelorThesis\\venv\\Lib\\site-packages\\keras\\engine\\data_adapter.py:1583\u001B[0m, in \u001B[0;36mget_data_handler\u001B[1;34m(*args, **kwargs)\u001B[0m\n\u001B[0;32m   1581\u001B[0m \u001B[38;5;28;01mif\u001B[39;00m \u001B[38;5;28mgetattr\u001B[39m(kwargs[\u001B[38;5;124m\"\u001B[39m\u001B[38;5;124mmodel\u001B[39m\u001B[38;5;124m\"\u001B[39m], \u001B[38;5;124m\"\u001B[39m\u001B[38;5;124m_cluster_coordinator\u001B[39m\u001B[38;5;124m\"\u001B[39m, \u001B[38;5;28;01mNone\u001B[39;00m):\n\u001B[0;32m   1582\u001B[0m     \u001B[38;5;28;01mreturn\u001B[39;00m _ClusterCoordinatorDataHandler(\u001B[38;5;241m*\u001B[39margs, \u001B[38;5;241m*\u001B[39m\u001B[38;5;241m*\u001B[39mkwargs)\n\u001B[1;32m-> 1583\u001B[0m \u001B[38;5;28;01mreturn\u001B[39;00m \u001B[43mDataHandler\u001B[49m\u001B[43m(\u001B[49m\u001B[38;5;241;43m*\u001B[39;49m\u001B[43margs\u001B[49m\u001B[43m,\u001B[49m\u001B[43m \u001B[49m\u001B[38;5;241;43m*\u001B[39;49m\u001B[38;5;241;43m*\u001B[39;49m\u001B[43mkwargs\u001B[49m\u001B[43m)\u001B[49m\n",
      "File \u001B[1;32m~\\OneDrive\\Dokumente\\GitHub\\BachelorThesis\\venv\\Lib\\site-packages\\keras\\engine\\data_adapter.py:1260\u001B[0m, in \u001B[0;36mDataHandler.__init__\u001B[1;34m(self, x, y, sample_weight, batch_size, steps_per_epoch, initial_epoch, epochs, shuffle, class_weight, max_queue_size, workers, use_multiprocessing, model, steps_per_execution, distribute)\u001B[0m\n\u001B[0;32m   1257\u001B[0m     \u001B[38;5;28mself\u001B[39m\u001B[38;5;241m.\u001B[39m_steps_per_execution \u001B[38;5;241m=\u001B[39m steps_per_execution\n\u001B[0;32m   1259\u001B[0m adapter_cls \u001B[38;5;241m=\u001B[39m select_data_adapter(x, y)\n\u001B[1;32m-> 1260\u001B[0m \u001B[38;5;28mself\u001B[39m\u001B[38;5;241m.\u001B[39m_adapter \u001B[38;5;241m=\u001B[39m \u001B[43madapter_cls\u001B[49m\u001B[43m(\u001B[49m\n\u001B[0;32m   1261\u001B[0m \u001B[43m    \u001B[49m\u001B[43mx\u001B[49m\u001B[43m,\u001B[49m\n\u001B[0;32m   1262\u001B[0m \u001B[43m    \u001B[49m\u001B[43my\u001B[49m\u001B[43m,\u001B[49m\n\u001B[0;32m   1263\u001B[0m \u001B[43m    \u001B[49m\u001B[43mbatch_size\u001B[49m\u001B[38;5;241;43m=\u001B[39;49m\u001B[43mbatch_size\u001B[49m\u001B[43m,\u001B[49m\n\u001B[0;32m   1264\u001B[0m \u001B[43m    \u001B[49m\u001B[43msteps\u001B[49m\u001B[38;5;241;43m=\u001B[39;49m\u001B[43msteps_per_epoch\u001B[49m\u001B[43m,\u001B[49m\n\u001B[0;32m   1265\u001B[0m \u001B[43m    \u001B[49m\u001B[43mepochs\u001B[49m\u001B[38;5;241;43m=\u001B[39;49m\u001B[43mepochs\u001B[49m\u001B[43m \u001B[49m\u001B[38;5;241;43m-\u001B[39;49m\u001B[43m \u001B[49m\u001B[43minitial_epoch\u001B[49m\u001B[43m,\u001B[49m\n\u001B[0;32m   1266\u001B[0m \u001B[43m    \u001B[49m\u001B[43msample_weights\u001B[49m\u001B[38;5;241;43m=\u001B[39;49m\u001B[43msample_weight\u001B[49m\u001B[43m,\u001B[49m\n\u001B[0;32m   1267\u001B[0m \u001B[43m    \u001B[49m\u001B[43mshuffle\u001B[49m\u001B[38;5;241;43m=\u001B[39;49m\u001B[43mshuffle\u001B[49m\u001B[43m,\u001B[49m\n\u001B[0;32m   1268\u001B[0m \u001B[43m    \u001B[49m\u001B[43mmax_queue_size\u001B[49m\u001B[38;5;241;43m=\u001B[39;49m\u001B[43mmax_queue_size\u001B[49m\u001B[43m,\u001B[49m\n\u001B[0;32m   1269\u001B[0m \u001B[43m    \u001B[49m\u001B[43mworkers\u001B[49m\u001B[38;5;241;43m=\u001B[39;49m\u001B[43mworkers\u001B[49m\u001B[43m,\u001B[49m\n\u001B[0;32m   1270\u001B[0m \u001B[43m    \u001B[49m\u001B[43muse_multiprocessing\u001B[49m\u001B[38;5;241;43m=\u001B[39;49m\u001B[43muse_multiprocessing\u001B[49m\u001B[43m,\u001B[49m\n\u001B[0;32m   1271\u001B[0m \u001B[43m    \u001B[49m\u001B[43mdistribution_strategy\u001B[49m\u001B[38;5;241;43m=\u001B[39;49m\u001B[43mtf\u001B[49m\u001B[38;5;241;43m.\u001B[39;49m\u001B[43mdistribute\u001B[49m\u001B[38;5;241;43m.\u001B[39;49m\u001B[43mget_strategy\u001B[49m\u001B[43m(\u001B[49m\u001B[43m)\u001B[49m\u001B[43m,\u001B[49m\n\u001B[0;32m   1272\u001B[0m \u001B[43m    \u001B[49m\u001B[43mmodel\u001B[49m\u001B[38;5;241;43m=\u001B[39;49m\u001B[43mmodel\u001B[49m\u001B[43m,\u001B[49m\n\u001B[0;32m   1273\u001B[0m \u001B[43m\u001B[49m\u001B[43m)\u001B[49m\n\u001B[0;32m   1275\u001B[0m strategy \u001B[38;5;241m=\u001B[39m tf\u001B[38;5;241m.\u001B[39mdistribute\u001B[38;5;241m.\u001B[39mget_strategy()\n\u001B[0;32m   1277\u001B[0m \u001B[38;5;28mself\u001B[39m\u001B[38;5;241m.\u001B[39m_current_step \u001B[38;5;241m=\u001B[39m \u001B[38;5;241m0\u001B[39m\n",
      "File \u001B[1;32m~\\OneDrive\\Dokumente\\GitHub\\BachelorThesis\\venv\\Lib\\site-packages\\keras\\engine\\data_adapter.py:307\u001B[0m, in \u001B[0;36mTensorLikeDataAdapter.__init__\u001B[1;34m(self, x, y, sample_weights, sample_weight_modes, batch_size, epochs, steps, shuffle, **kwargs)\u001B[0m\n\u001B[0;32m    300\u001B[0m     \u001B[38;5;28;01mreturn\u001B[39;00m indices\n\u001B[0;32m    302\u001B[0m \u001B[38;5;66;03m# We prefetch a single element. Computing large permutations can take\u001B[39;00m\n\u001B[0;32m    303\u001B[0m \u001B[38;5;66;03m# quite a while so we don't want to wait for prefetching over an epoch\u001B[39;00m\n\u001B[0;32m    304\u001B[0m \u001B[38;5;66;03m# boundary to trigger the next permutation. On the other hand, too many\u001B[39;00m\n\u001B[0;32m    305\u001B[0m \u001B[38;5;66;03m# simultaneous shuffles can contend on a hardware level and degrade all\u001B[39;00m\n\u001B[0;32m    306\u001B[0m \u001B[38;5;66;03m# performance.\u001B[39;00m\n\u001B[1;32m--> 307\u001B[0m indices_dataset \u001B[38;5;241m=\u001B[39m \u001B[43mindices_dataset\u001B[49m\u001B[38;5;241;43m.\u001B[39;49m\u001B[43mmap\u001B[49m\u001B[43m(\u001B[49m\u001B[43mpermutation\u001B[49m\u001B[43m)\u001B[49m\u001B[38;5;241m.\u001B[39mprefetch(\u001B[38;5;241m1\u001B[39m)\n\u001B[0;32m    309\u001B[0m \u001B[38;5;28;01mdef\u001B[39;00m \u001B[38;5;21mslice_batch_indices\u001B[39m(indices):\n\u001B[0;32m    310\u001B[0m \u001B[38;5;250m    \u001B[39m\u001B[38;5;124;03m\"\"\"Convert a Tensor of indices into a dataset of batched indices.\u001B[39;00m\n\u001B[0;32m    311\u001B[0m \n\u001B[0;32m    312\u001B[0m \u001B[38;5;124;03m    This step can be accomplished in several ways. The most natural is\u001B[39;00m\n\u001B[1;32m   (...)\u001B[0m\n\u001B[0;32m    324\u001B[0m \u001B[38;5;124;03m      A Dataset of batched indices.\u001B[39;00m\n\u001B[0;32m    325\u001B[0m \u001B[38;5;124;03m    \"\"\"\u001B[39;00m\n",
      "File \u001B[1;32m~\\OneDrive\\Dokumente\\GitHub\\BachelorThesis\\venv\\Lib\\site-packages\\tensorflow\\python\\data\\ops\\dataset_ops.py:2240\u001B[0m, in \u001B[0;36mDatasetV2.map\u001B[1;34m(self, map_func, num_parallel_calls, deterministic, name)\u001B[0m\n\u001B[0;32m   2236\u001B[0m \u001B[38;5;66;03m# Loaded lazily due to a circular dependency (dataset_ops -> map_op ->\u001B[39;00m\n\u001B[0;32m   2237\u001B[0m \u001B[38;5;66;03m# dataset_ops).\u001B[39;00m\n\u001B[0;32m   2238\u001B[0m \u001B[38;5;66;03m# pylint: disable=g-import-not-at-top,protected-access\u001B[39;00m\n\u001B[0;32m   2239\u001B[0m \u001B[38;5;28;01mfrom\u001B[39;00m \u001B[38;5;21;01mtensorflow\u001B[39;00m\u001B[38;5;21;01m.\u001B[39;00m\u001B[38;5;21;01mpython\u001B[39;00m\u001B[38;5;21;01m.\u001B[39;00m\u001B[38;5;21;01mdata\u001B[39;00m\u001B[38;5;21;01m.\u001B[39;00m\u001B[38;5;21;01mops\u001B[39;00m \u001B[38;5;28;01mimport\u001B[39;00m map_op\n\u001B[1;32m-> 2240\u001B[0m \u001B[38;5;28;01mreturn\u001B[39;00m \u001B[43mmap_op\u001B[49m\u001B[38;5;241;43m.\u001B[39;49m\u001B[43m_map_v2\u001B[49m\u001B[43m(\u001B[49m\n\u001B[0;32m   2241\u001B[0m \u001B[43m    \u001B[49m\u001B[38;5;28;43mself\u001B[39;49m\u001B[43m,\u001B[49m\n\u001B[0;32m   2242\u001B[0m \u001B[43m    \u001B[49m\u001B[43mmap_func\u001B[49m\u001B[43m,\u001B[49m\n\u001B[0;32m   2243\u001B[0m \u001B[43m    \u001B[49m\u001B[43mnum_parallel_calls\u001B[49m\u001B[38;5;241;43m=\u001B[39;49m\u001B[43mnum_parallel_calls\u001B[49m\u001B[43m,\u001B[49m\n\u001B[0;32m   2244\u001B[0m \u001B[43m    \u001B[49m\u001B[43mdeterministic\u001B[49m\u001B[38;5;241;43m=\u001B[39;49m\u001B[43mdeterministic\u001B[49m\u001B[43m,\u001B[49m\n\u001B[0;32m   2245\u001B[0m \u001B[43m    \u001B[49m\u001B[43mname\u001B[49m\u001B[38;5;241;43m=\u001B[39;49m\u001B[43mname\u001B[49m\u001B[43m)\u001B[49m\n",
      "File \u001B[1;32m~\\OneDrive\\Dokumente\\GitHub\\BachelorThesis\\venv\\Lib\\site-packages\\tensorflow\\python\\data\\ops\\map_op.py:37\u001B[0m, in \u001B[0;36m_map_v2\u001B[1;34m(input_dataset, map_func, num_parallel_calls, deterministic, name)\u001B[0m\n\u001B[0;32m     34\u001B[0m   \u001B[38;5;28;01mif\u001B[39;00m deterministic \u001B[38;5;129;01mis\u001B[39;00m \u001B[38;5;129;01mnot\u001B[39;00m \u001B[38;5;28;01mNone\u001B[39;00m \u001B[38;5;129;01mand\u001B[39;00m \u001B[38;5;129;01mnot\u001B[39;00m debug_mode\u001B[38;5;241m.\u001B[39mDEBUG_MODE:\n\u001B[0;32m     35\u001B[0m     warnings\u001B[38;5;241m.\u001B[39mwarn(\u001B[38;5;124m\"\u001B[39m\u001B[38;5;124mThe `deterministic` argument has no effect unless the \u001B[39m\u001B[38;5;124m\"\u001B[39m\n\u001B[0;32m     36\u001B[0m                   \u001B[38;5;124m\"\u001B[39m\u001B[38;5;124m`num_parallel_calls` argument is specified.\u001B[39m\u001B[38;5;124m\"\u001B[39m)\n\u001B[1;32m---> 37\u001B[0m   \u001B[38;5;28;01mreturn\u001B[39;00m \u001B[43m_MapDataset\u001B[49m\u001B[43m(\u001B[49m\n\u001B[0;32m     38\u001B[0m \u001B[43m      \u001B[49m\u001B[43minput_dataset\u001B[49m\u001B[43m,\u001B[49m\u001B[43m \u001B[49m\u001B[43mmap_func\u001B[49m\u001B[43m,\u001B[49m\u001B[43m \u001B[49m\u001B[43mpreserve_cardinality\u001B[49m\u001B[38;5;241;43m=\u001B[39;49m\u001B[38;5;28;43;01mTrue\u001B[39;49;00m\u001B[43m,\u001B[49m\u001B[43m \u001B[49m\u001B[43mname\u001B[49m\u001B[38;5;241;43m=\u001B[39;49m\u001B[43mname\u001B[49m\u001B[43m)\u001B[49m\n\u001B[0;32m     39\u001B[0m \u001B[38;5;28;01melse\u001B[39;00m:\n\u001B[0;32m     40\u001B[0m   \u001B[38;5;28;01mreturn\u001B[39;00m _ParallelMapDataset(\n\u001B[0;32m     41\u001B[0m       input_dataset,\n\u001B[0;32m     42\u001B[0m       map_func,\n\u001B[1;32m   (...)\u001B[0m\n\u001B[0;32m     45\u001B[0m       preserve_cardinality\u001B[38;5;241m=\u001B[39m\u001B[38;5;28;01mTrue\u001B[39;00m,\n\u001B[0;32m     46\u001B[0m       name\u001B[38;5;241m=\u001B[39mname)\n",
      "File \u001B[1;32m~\\OneDrive\\Dokumente\\GitHub\\BachelorThesis\\venv\\Lib\\site-packages\\tensorflow\\python\\data\\ops\\map_op.py:113\u001B[0m, in \u001B[0;36m_MapDataset.__init__\u001B[1;34m(self, input_dataset, map_func, use_inter_op_parallelism, preserve_cardinality, use_legacy_function, name)\u001B[0m\n\u001B[0;32m    107\u001B[0m \u001B[38;5;28mself\u001B[39m\u001B[38;5;241m.\u001B[39m_map_func \u001B[38;5;241m=\u001B[39m structured_function\u001B[38;5;241m.\u001B[39mStructuredFunctionWrapper(\n\u001B[0;32m    108\u001B[0m     map_func,\n\u001B[0;32m    109\u001B[0m     \u001B[38;5;28mself\u001B[39m\u001B[38;5;241m.\u001B[39m_transformation_name(),\n\u001B[0;32m    110\u001B[0m     dataset\u001B[38;5;241m=\u001B[39minput_dataset,\n\u001B[0;32m    111\u001B[0m     use_legacy_function\u001B[38;5;241m=\u001B[39muse_legacy_function)\n\u001B[0;32m    112\u001B[0m \u001B[38;5;28mself\u001B[39m\u001B[38;5;241m.\u001B[39m_name \u001B[38;5;241m=\u001B[39m name\n\u001B[1;32m--> 113\u001B[0m variant_tensor \u001B[38;5;241m=\u001B[39m \u001B[43mgen_dataset_ops\u001B[49m\u001B[38;5;241;43m.\u001B[39;49m\u001B[43mmap_dataset\u001B[49m\u001B[43m(\u001B[49m\n\u001B[0;32m    114\u001B[0m \u001B[43m    \u001B[49m\u001B[43minput_dataset\u001B[49m\u001B[38;5;241;43m.\u001B[39;49m\u001B[43m_variant_tensor\u001B[49m\u001B[43m,\u001B[49m\u001B[43m  \u001B[49m\u001B[38;5;66;43;03m# pylint: disable=protected-access\u001B[39;49;00m\n\u001B[0;32m    115\u001B[0m \u001B[43m    \u001B[49m\u001B[38;5;28;43mself\u001B[39;49m\u001B[38;5;241;43m.\u001B[39;49m\u001B[43m_map_func\u001B[49m\u001B[38;5;241;43m.\u001B[39;49m\u001B[43mfunction\u001B[49m\u001B[38;5;241;43m.\u001B[39;49m\u001B[43mcaptured_inputs\u001B[49m\u001B[43m,\u001B[49m\n\u001B[0;32m    116\u001B[0m \u001B[43m    \u001B[49m\u001B[43mf\u001B[49m\u001B[38;5;241;43m=\u001B[39;49m\u001B[38;5;28;43mself\u001B[39;49m\u001B[38;5;241;43m.\u001B[39;49m\u001B[43m_map_func\u001B[49m\u001B[38;5;241;43m.\u001B[39;49m\u001B[43mfunction\u001B[49m\u001B[43m,\u001B[49m\n\u001B[0;32m    117\u001B[0m \u001B[43m    \u001B[49m\u001B[43muse_inter_op_parallelism\u001B[49m\u001B[38;5;241;43m=\u001B[39;49m\u001B[38;5;28;43mself\u001B[39;49m\u001B[38;5;241;43m.\u001B[39;49m\u001B[43m_use_inter_op_parallelism\u001B[49m\u001B[43m,\u001B[49m\n\u001B[0;32m    118\u001B[0m \u001B[43m    \u001B[49m\u001B[43mpreserve_cardinality\u001B[49m\u001B[38;5;241;43m=\u001B[39;49m\u001B[38;5;28;43mself\u001B[39;49m\u001B[38;5;241;43m.\u001B[39;49m\u001B[43m_preserve_cardinality\u001B[49m\u001B[43m,\u001B[49m\n\u001B[0;32m    119\u001B[0m \u001B[43m    \u001B[49m\u001B[38;5;241;43m*\u001B[39;49m\u001B[38;5;241;43m*\u001B[39;49m\u001B[38;5;28;43mself\u001B[39;49m\u001B[38;5;241;43m.\u001B[39;49m\u001B[43m_common_args\u001B[49m\u001B[43m)\u001B[49m\n\u001B[0;32m    120\u001B[0m \u001B[38;5;28msuper\u001B[39m()\u001B[38;5;241m.\u001B[39m\u001B[38;5;21m__init__\u001B[39m(input_dataset, variant_tensor)\n",
      "File \u001B[1;32m~\\OneDrive\\Dokumente\\GitHub\\BachelorThesis\\venv\\Lib\\site-packages\\tensorflow\\python\\ops\\gen_dataset_ops.py:3490\u001B[0m, in \u001B[0;36mmap_dataset\u001B[1;34m(input_dataset, other_arguments, f, output_types, output_shapes, use_inter_op_parallelism, preserve_cardinality, metadata, name)\u001B[0m\n\u001B[0;32m   3488\u001B[0m \u001B[38;5;28;01mif\u001B[39;00m tld\u001B[38;5;241m.\u001B[39mis_eager:\n\u001B[0;32m   3489\u001B[0m   \u001B[38;5;28;01mtry\u001B[39;00m:\n\u001B[1;32m-> 3490\u001B[0m     _result \u001B[38;5;241m=\u001B[39m \u001B[43mpywrap_tfe\u001B[49m\u001B[38;5;241;43m.\u001B[39;49m\u001B[43mTFE_Py_FastPathExecute\u001B[49m\u001B[43m(\u001B[49m\n\u001B[0;32m   3491\u001B[0m \u001B[43m      \u001B[49m\u001B[43m_ctx\u001B[49m\u001B[43m,\u001B[49m\u001B[43m \u001B[49m\u001B[38;5;124;43m\"\u001B[39;49m\u001B[38;5;124;43mMapDataset\u001B[39;49m\u001B[38;5;124;43m\"\u001B[39;49m\u001B[43m,\u001B[49m\u001B[43m \u001B[49m\u001B[43mname\u001B[49m\u001B[43m,\u001B[49m\u001B[43m \u001B[49m\u001B[43minput_dataset\u001B[49m\u001B[43m,\u001B[49m\u001B[43m \u001B[49m\u001B[43mother_arguments\u001B[49m\u001B[43m,\u001B[49m\u001B[43m \u001B[49m\u001B[38;5;124;43m\"\u001B[39;49m\u001B[38;5;124;43mf\u001B[39;49m\u001B[38;5;124;43m\"\u001B[39;49m\u001B[43m,\u001B[49m\u001B[43m \u001B[49m\u001B[43mf\u001B[49m\u001B[43m,\u001B[49m\n\u001B[0;32m   3492\u001B[0m \u001B[43m      \u001B[49m\u001B[38;5;124;43m\"\u001B[39;49m\u001B[38;5;124;43moutput_types\u001B[39;49m\u001B[38;5;124;43m\"\u001B[39;49m\u001B[43m,\u001B[49m\u001B[43m \u001B[49m\u001B[43moutput_types\u001B[49m\u001B[43m,\u001B[49m\u001B[43m \u001B[49m\u001B[38;5;124;43m\"\u001B[39;49m\u001B[38;5;124;43moutput_shapes\u001B[39;49m\u001B[38;5;124;43m\"\u001B[39;49m\u001B[43m,\u001B[49m\u001B[43m \u001B[49m\u001B[43moutput_shapes\u001B[49m\u001B[43m,\u001B[49m\n\u001B[0;32m   3493\u001B[0m \u001B[43m      \u001B[49m\u001B[38;5;124;43m\"\u001B[39;49m\u001B[38;5;124;43muse_inter_op_parallelism\u001B[39;49m\u001B[38;5;124;43m\"\u001B[39;49m\u001B[43m,\u001B[49m\u001B[43m \u001B[49m\u001B[43muse_inter_op_parallelism\u001B[49m\u001B[43m,\u001B[49m\n\u001B[0;32m   3494\u001B[0m \u001B[43m      \u001B[49m\u001B[38;5;124;43m\"\u001B[39;49m\u001B[38;5;124;43mpreserve_cardinality\u001B[39;49m\u001B[38;5;124;43m\"\u001B[39;49m\u001B[43m,\u001B[49m\u001B[43m \u001B[49m\u001B[43mpreserve_cardinality\u001B[49m\u001B[43m,\u001B[49m\u001B[43m \u001B[49m\u001B[38;5;124;43m\"\u001B[39;49m\u001B[38;5;124;43mmetadata\u001B[39;49m\u001B[38;5;124;43m\"\u001B[39;49m\u001B[43m,\u001B[49m\u001B[43m \u001B[49m\u001B[43mmetadata\u001B[49m\u001B[43m)\u001B[49m\n\u001B[0;32m   3495\u001B[0m     \u001B[38;5;28;01mreturn\u001B[39;00m _result\n\u001B[0;32m   3496\u001B[0m   \u001B[38;5;28;01mexcept\u001B[39;00m _core\u001B[38;5;241m.\u001B[39m_NotOkStatusException \u001B[38;5;28;01mas\u001B[39;00m e:\n",
      "\u001B[1;31mKeyboardInterrupt\u001B[0m: "
     ]
    }
   ],
   "source": [
    "layers = [layer.get_weights() for layer in model_embed.layers]\n",
    "\n",
    "amino_dict = dict()\n",
    "\n",
    "max_modifier = 4 # todo adjust cutoff max/ max modifier\n",
    "\n",
    "\n",
    "sequence_positionen = list(range(63)) # 0,1,2,3,4,5...62\n",
    "embedding_structure = layers[1][0] # 23 blocks of AA weights\n",
    "\n",
    "\n",
    "for position in sequence_positionen: # 63 stk\n",
    "    amino_dict[position] = dict()\n",
    "    for index, i in enumerate(embedding_structure): #23 stk\n",
    "        if vocabulary[index] not in amino_dict[position]:\n",
    "            amino_dict[position][vocabulary[index]] = list()\n",
    "            amino_dict[position][vocabulary[index]].append(embedding_structure[index][position])\n",
    "        else:   \n",
    "            amino_dict[position][vocabulary[index]].append(embedding_structure[index][position])\n",
    "\n",
    "aminos = list(amino_dict[0])\n",
    "#print(aminos)\n",
    "# an welcher position steht die gewichtung an der position 0 für das Amino A\n",
    "\n",
    "\n",
    "\n",
    "weight_dictionary_per_position = dict()\n",
    "for i in amino_dict:\n",
    "    weight_dictionary_per_position[i] = dict()\n",
    "    weight_position = 0\n",
    "    sorted_list = [x[0] for x in amino_dict[i].values()]\n",
    "    sorted_list = sorted(sorted_list, key=float, reverse=False)\n",
    "    for j in sorted_list:\n",
    "        for key, value in amino_dict[i].items():\n",
    "            if j == value[0]:\n",
    "                #weight_dictionary_per_position[i][key] = weight_position\n",
    "                #weight_dictionary_per_position[i][key] = weight_position\n",
    "                average_for_position = np.average([x[0] for x in amino_dict[i].values()]) # normalisation\n",
    "                weight_dictionary_per_position[i][key] = (j - average_for_position) * (weight_position+1) # highest value = high multiplier\n",
    "                #print(weight_dictionary_per_position[i][key], key, value[0])\n",
    "                weight_position += 1\n",
    "                \n",
    "\n",
    "#Amino: \"A\" an index 0 -> [block A für index 0] -> 0.0725 (20/23 Gewichtungsposition -> Farbe (weiss->schwarz): hellgrau)\n",
    "#test_input_sequence = predict_df['modified_sequence'][51]\n",
    "total_counter = 0\n",
    "false_counter = 0\n",
    "true_counter = 0\n",
    "predict_counter = 0\n",
    "\n",
    "for gg in range(len(predict_df)):\n",
    "    total_counter+=1\n",
    "    #print(\"\\n\")\n",
    "    #print(\"---- new plot: ----\")\n",
    "    test_input_sequence = predict_df['modified_sequence'][gg]\n",
    "    test_true_label_input_sequence = predict_df['normalized'][gg]\n",
    "    #print(test_input_sequence)\n",
    "    #test_input_sequence = 'CCCCCCCCCCCCCCCCCCCCCCCCCCCCCCCCC' #TODO manually overwrite\n",
    "    #print(test_input_sequence, len(test_input_sequence))\n",
    "    test_input_sequence_length = len(re.findall(r'[A-Z]\\[[^\\]]*\\]|.', test_input_sequence))\n",
    "    #print(\"len: \", test_input_sequence_length)\n",
    "    # TODO test_input_sequence += 'X' * (63 - test_input_sequence_length)\n",
    "    #print(test_input_sequence, len(re.findall(r'[A-Z]\\[[^\\]]*\\]|.', test_input_sequence)))\n",
    "    test_input_sequence_formatted = re.findall(r'[A-Z]\\[[^\\]]*\\]|.', test_input_sequence)\n",
    "    #print(test_input_sequence_formatted)\n",
    "           \n",
    "    \n",
    "    \n",
    "    x_for_plot = list(range(len(test_input_sequence_formatted))) # vocabolary of length 23\n",
    "    y_for_plot = list()\n",
    "    # create a list of 0 and 1, 1 if 'X' in test_input_sequence, 0 if not\n",
    "    c_for_plot = ['red' if x == 'X' else 'green' for x in test_input_sequence_formatted]\n",
    "    for index, amino in enumerate(test_input_sequence_formatted):\n",
    "        y_for_plot.append(weight_dictionary_per_position[index][amino])\n",
    "        #print(index, amino, \": \", weight_dictionary_per_position[index][amino], \"/22\")\n",
    "    # colors bars according to c_for_plot\n",
    "    \n",
    "    ## TODO PREDICTION WITH DIAGRAM\n",
    "    # give a prediction according to y_for_plot by counting the highest values if at least 1 index away from preivous peak\n",
    "    peak_height = 0\n",
    "    peak_counter = 0\n",
    "    distance_after_last_peak = 1\n",
    "    minimum_distance = 1\n",
    "    peak_set = False\n",
    "    \n",
    "    \n",
    "    for xndex, x in enumerate(y_for_plot):\n",
    "        #print(xndex,\"; \", x, \"peak-height: \", peak_height, \"distance_after: \", distance_after_last_peak)\n",
    "        if x > peak_height:\n",
    "            peak_set = False\n",
    "            peak_height = x\n",
    "            distance_after_last_peak+=1\n",
    "            if xndex == len(y_for_plot)-1 and peak_height > max(y_for_plot)/max_modifier:\n",
    "                peak_counter += 1\n",
    "                #print(\"peak found at: \", test_input_sequence_formatted[xndex-1], \"peak_counter: \", peak_counter)\n",
    "    \n",
    "        elif x < peak_height:\n",
    "            distance_after_last_peak += 1\n",
    "            if distance_after_last_peak >= 2 and peak_set == False:\n",
    "                if peak_height > max(y_for_plot)/max_modifier:\n",
    "                    peak_counter += 1\n",
    "                peak_height = 0 # reset\n",
    "                distance_after_last_peak = 1\n",
    "                peak_set = True\n",
    "                #print(\"peak found at: \", test_input_sequence_formatted[xndex-1], \"peak_counter: \", peak_counter)        \n",
    "    #print(\"Prediction: \", peak_counter)\n",
    "\n",
    "        \n",
    "    # TODO prediction\n",
    "    input_sequence = test_input_sequence\n",
    "    input_sequence_vector = seq_translator(input_sequence, max_len=63)\n",
    "    input_sequence_vector = np.expand_dims(tf.convert_to_tensor(np.array(input_sequence_vector)), axis=0)\n",
    "    test_give = model_embed.predict(input_sequence_vector, verbose=False)\n",
    "    counter = 1\n",
    "    #print(\"-----------------------------\")\n",
    "    #print(\"Sequence: \", input_sequence)\n",
    "    for x in test_give[0]:\n",
    "        #print(f\"charge state {counter}: \", round(x, 2))\n",
    "        counter += 1\n",
    "        if x == peak_counter:\n",
    "            predict_counter += 1\n",
    "    if peak_counter in test_true_label_input_sequence:\n",
    "        true_counter+=1\n",
    "        #print(\"-> \", test_true_label_input_sequence[peak_counter], \"Prediction: \", peak_counter, \" is TRUE\")\n",
    "    else: \n",
    "        false_counter+=1\n",
    "        #print(\"-> prediction wrong: \", test_true_label_input_sequence, \" for \", peak_counter, \" peaks\")\n",
    "   # if total_counter > 1000:\n",
    "    #    break\n",
    "print(\"true: \", true_counter, \"false: \", false_counter, \"total: \", total_counter)\n",
    "print(\"accuracy: \", true_counter/total_counter)\n",
    "print(\"predict_counter: \", predict_counter, \"total: \", total_counter, \"accuracy: \", predict_counter/total_counter)\n"
   ],
   "metadata": {
    "collapsed": false,
    "ExecuteTime": {
     "end_time": "2023-09-04T14:37:27.227718200Z",
     "start_time": "2023-09-04T14:16:21.450512400Z"
    }
   }
  },
  {
   "cell_type": "code",
   "execution_count": 121,
   "outputs": [
    {
     "name": "stdout",
     "output_type": "stream",
     "text": [
      "0 -0.029369581 X; 1 0.108266726 X; 2 -0.15950684 X; 3 -0.12829039 X; 4 0.093424864 X; 5 -0.13513383 X; 6 -0.062490612 X; 7 -0.029788679 X; 8 -0.11806967 X; 9 0.07412411 X; 10 0.14824843 X; 11 -0.058266897 X; 12 0.0606332 X; 13 -0.08792853 X; 14 0.09911183 X; 15 0.12909457 X; 16 0.11486253 X; 17 -0.018999051 X; 18 0.10146439 X; 19 -0.06385939 X; 20 0.056140974 X; 21 -0.09332429 X; 22 0.061761253 X; 23 -0.15752359 X; 24 0.027231792 X; 25 -0.07761304 X; 26 0.106759176 X; 27 0.08786734 X; 28 -0.16253833 X; 29 0.08837222 X; 30 -0.053140957 X; 31 0.09794457 X; 32 0.09444322 X; 33 -0.071940325 X; 34 -0.047110748 X; 35 0.08137617 X; 36 -0.16546868 X; 37 -0.09271693 X; 38 0.09702617 X; 39 -0.07870451 X; 40 0.049816016 X; 41 0.08688169 X; 42 -0.10371201 X; 43 0.11794306 X; 44 0.008039187 X; 45 -0.17030068 X; 46 0.043163534 X; 47 0.055657625 X; 48 -0.14146344 X; 49 0.11831282 X; 50 0.16521828 X; 51 0.14717956 X; 52 0.15154935 X; 53 0.14087695 X; 54 0.10841147 X; 55 -0.07486993 X; 56 -0.051546536 X; 57 -0.124087594 X; 58 -0.09649228 X; 59 0.1552431 X; 60 0.14509393 X; 61 0.10368137 X; 62 0.14256899 X; \n",
      "\n",
      "0 0.017363444 A; 1 -0.06814512 A; 2 0.09360835 A; 3 0.112570286 A; 4 -0.06367558 A; 5 0.034291763 A; 6 -0.055619128 A; 7 -0.095511116 A; 8 0.105716586 A; 9 0.14293773 A; 10 -0.004676638 A; 11 -0.1044996 A; 12 -0.095048025 A; 13 -0.03894798 A; 14 -0.10310027 A; 15 -0.204991 A; 16 0.04018189 A; 17 -0.19353625 A; 18 0.027833907 A; 19 -0.12706293 A; 20 0.16001843 A; 21 -0.13459703 A; 22 0.09786595 A; 23 0.18010285 A; 24 -0.13995719 A; 25 0.10754578 A; 26 0.030056912 A; 27 -0.0047384105 A; 28 -0.011104959 A; 29 0.045489263 A; 30 -0.19429384 A; 31 -0.12169352 A; 32 -0.0016877428 A; 33 -0.09599138 A; 34 0.119031034 A; 35 0.13270204 A; 36 0.15532361 A; 37 -0.052068528 A; 38 0.02524518 A; 39 -0.1368531 A; 40 0.13820069 A; 41 0.110698506 A; 42 -0.058402795 A; 43 -0.008324485 A; 44 0.09138007 A; 45 0.1754904 A; 46 0.107598744 A; 47 0.15145522 A; 48 0.098239794 A; 49 -0.019996682 A; 50 -0.14326401 A; 51 0.021877628 A; 52 -0.07251147 A; 53 -0.18514033 A; 54 -0.050797746 A; 55 -0.017365566 A; 56 -0.12582617 A; 57 0.054305665 A; 58 0.0029852139 A; 59 -0.087723546 A; 60 -0.04522491 A; 61 -0.11074106 A; 62 0.09756605 A; \n",
      "\n",
      "0 0.012384318 C; 1 -0.048782337 C; 2 0.035177562 C; 3 0.011825491 C; 4 -0.047939777 C; 5 0.030819084 C; 6 0.01706734 C; 7 -0.029709507 C; 8 -0.019878268 C; 9 -0.037579406 C; 10 -0.031468917 C; 11 -0.031587996 C; 12 -0.046463013 C; 13 0.037080195 C; 14 0.04100536 C; 15 -0.047949087 C; 16 0.015234854 C; 17 -0.0046817176 C; 18 -0.049229838 C; 19 -0.008179389 C; 20 -0.03767092 C; 21 -0.04625949 C; 22 0.026399042 C; 23 -0.031666745 C; 24 0.026484255 C; 25 -0.028430749 C; 26 -0.014913119 C; 27 0.03141332 C; 28 -0.01452937 C; 29 0.03636506 C; 30 -0.023435974 C; 31 -0.045065153 C; 32 -0.018389344 C; 33 0.011400916 C; 34 0.013985608 C; 35 0.01725236 C; 36 -0.020943834 C; 37 0.0020495765 C; 38 -0.0039618127 C; 39 0.041162755 C; 40 -0.03919828 C; 41 -0.029202212 C; 42 -0.047620405 C; 43 -0.022799982 C; 44 -0.0008019693 C; 45 -0.011030853 C; 46 0.031979445 C; 47 -0.018505644 C; 48 -0.028943991 C; 49 0.04703362 C; 50 -0.021169662 C; 51 -0.005059339 C; 52 -0.035510015 C; 53 0.0021029115 C; 54 0.045868527 C; 55 -0.01822827 C; 56 0.03336582 C; 57 -0.011876762 C; 58 -0.029223038 C; 59 0.003067065 C; 60 0.044579696 C; 61 -0.029123235 C; 62 -0.03309063 C; \n",
      "\n",
      "0 0.15211166 D; 1 -0.3074409 D; 2 0.32916754 D; 3 -0.1458304 D; 4 -0.064693406 D; 5 -0.17393279 D; 6 -0.13340954 D; 7 0.0033287853 D; 8 0.17661236 D; 9 0.19572441 D; 10 -0.12941535 D; 11 0.004362641 D; 12 -0.055339437 D; 13 -0.013078046 D; 14 0.10610752 D; 15 -0.30892923 D; 16 0.123270154 D; 17 -0.1591499 D; 18 -0.053561706 D; 19 -0.10412685 D; 20 0.11546362 D; 21 0.03354991 D; 22 0.13290958 D; 23 0.20360559 D; 24 0.048110608 D; 25 -0.11647695 D; 26 0.2231066 D; 27 0.13082024 D; 28 -0.09483562 D; 29 0.05939939 D; 30 -0.04787388 D; 31 -0.25457066 D; 32 0.047606323 D; 33 0.013488428 D; 34 -0.18271926 D; 35 0.14115967 D; 36 0.2490106 D; 37 -0.31134996 D; 38 -0.2565656 D; 39 -0.14538446 D; 40 0.09922833 D; 41 -0.07271634 D; 42 -0.016568145 D; 43 0.039263684 D; 44 0.18401746 D; 45 0.3777358 D; 46 0.12399835 D; 47 0.13089122 D; 48 -0.26367393 D; 49 -0.00403379 D; 50 -0.10322946 D; 51 -0.24910116 D; 52 -0.28051853 D; 53 0.14028634 D; 54 0.10602495 D; 55 -0.19492038 D; 56 -0.08841453 D; 57 0.02555112 D; 58 0.26734838 D; 59 0.049916573 D; 60 -0.014828412 D; 61 -0.22208725 D; 62 -0.105206236 D; \n",
      "\n",
      "0 0.1312367 E; 1 -0.16828156 E; 2 0.13815889 E; 3 0.058452148 E; 4 -0.023618296 E; 5 0.06903187 E; 6 -0.18791382 E; 7 -0.052604124 E; 8 0.1199348 E; 9 0.099308535 E; 10 -0.14585617 E; 11 -0.025751568 E; 12 -0.1478381 E; 13 -0.05207723 E; 14 0.08651797 E; 15 -0.17154765 E; 16 -0.07356236 E; 17 -0.057184294 E; 18 -0.083504274 E; 19 -0.05616349 E; 20 0.0711237 E; 21 0.0194884 E; 22 0.06485888 E; 23 0.11601405 E; 24 -0.021905538 E; 25 -0.038015626 E; 26 0.03012425 E; 27 0.0031254853 E; 28 0.113536246 E; 29 0.06374848 E; 30 -0.111643024 E; 31 -0.09080496 E; 32 0.04194406 E; 33 0.039401017 E; 34 0.110698044 E; 35 0.11335616 E; 36 0.010130515 E; 37 0.012919914 E; 38 -0.053055923 E; 39 -0.027788935 E; 40 0.17632273 E; 41 -0.019564983 E; 42 0.10577736 E; 43 -0.054039627 E; 44 0.1262685 E; 45 0.23216191 E; 46 0.03057012 E; 47 0.10339668 E; 48 0.011388883 E; 49 0.066549174 E; 50 -0.15488416 E; 51 -0.065633066 E; 52 -0.083757065 E; 53 -0.0880496 E; 54 -0.0232494 E; 55 -0.18486021 E; 56 -0.058709826 E; 57 -0.03687178 E; 58 -0.06360073 E; 59 -0.17466466 E; 60 0.026653288 E; 61 -0.018504892 E; 62 -0.06127094 E; \n",
      "\n",
      "0 0.18993072 F; 1 -0.08234595 F; 2 -0.022154832 F; 3 0.03178326 F; 4 0.04118551 F; 5 0.13012712 F; 6 0.003884129 F; 7 -0.08912975 F; 8 0.024282856 F; 9 0.12427223 F; 10 0.04811273 F; 11 -0.07011789 F; 12 -0.14282037 F; 13 0.07523527 F; 14 -0.08281197 F; 15 -0.16821052 F; 16 -0.0047175973 F; 17 -0.11866105 F; 18 -0.02697634 F; 19 -0.17628124 F; 20 -0.011882808 F; 21 -0.013531936 F; 22 0.12375207 F; 23 0.13788086 F; 24 -0.1556728 F; 25 -0.00091880717 F; 26 -0.08667323 F; 27 -0.19041856 F; 28 0.13044985 F; 29 0.043100245 F; 30 -0.018918363 F; 31 -0.23163892 F; 32 0.17658107 F; 33 -0.056117896 F; 34 0.1294664 F; 35 0.104093 F; 36 0.10250723 F; 37 -0.107005745 F; 38 -0.016128717 F; 39 -0.13518104 F; 40 0.060162775 F; 41 0.12486256 F; 42 0.054025024 F; 43 -0.066745415 F; 44 0.055976156 F; 45 0.23689243 F; 46 0.08561555 F; 47 -0.046173368 F; 48 0.07366553 F; 49 -0.09730318 F; 50 -0.17761326 F; 51 0.044166505 F; 52 0.008001749 F; 53 -0.22108358 F; 54 -0.07489656 F; 55 0.023885082 F; 56 0.013076386 F; 57 -0.06370837 F; 58 -0.021461358 F; 59 -0.03889824 F; 60 -0.15899488 F; 61 -0.1692584 F; 62 0.08634 F; \n",
      "\n",
      "0 0.0829004 G; 1 -0.099270366 G; 2 0.18917124 G; 3 0.11560111 G; 4 -0.10607589 G; 5 0.023266565 G; 6 -0.095009334 G; 7 -0.05163694 G; 8 -0.00046479548 G; 9 0.18345527 G; 10 -0.0150538515 G; 11 -0.17069332 G; 12 -0.11767855 G; 13 -0.017783271 G; 14 0.05282658 G; 15 -0.19259015 G; 16 0.129354 G; 17 -0.20511758 G; 18 -0.05190036 G; 19 -0.02627398 G; 20 0.16411328 G; 21 -0.14253935 G; 22 0.04564684 G; 23 0.118678644 G; 24 -0.046410143 G; 25 0.017263366 G; 26 0.025208037 G; 27 0.055340648 G; 28 -0.10602979 G; 29 0.041789185 G; 30 -0.16279031 G; 31 -0.2013409 G; 32 0.037775606 G; 33 -0.06384094 G; 34 0.070940465 G; 35 0.06505297 G; 36 0.19077553 G; 37 -0.11313196 G; 38 -0.007843192 G; 39 0.0031800063 G; 40 0.10397038 G; 41 0.07089825 G; 42 -0.10552248 G; 43 -0.014170961 G; 44 0.1136081 G; 45 0.25715685 G; 46 0.17979768 G; 47 0.08400269 G; 48 -0.045826346 G; 49 -0.0873105 G; 50 -0.20097184 G; 51 -0.13208528 G; 52 -0.058436364 G; 53 -0.10599637 G; 54 -0.0453108 G; 55 -0.04363527 G; 56 -0.16113067 G; 57 0.09636321 G; 58 0.049417894 G; 59 -0.07508278 G; 60 0.0132418955 G; 61 -0.0712766 G; 62 0.06521015 G; \n",
      "\n",
      "0 -0.7750251 H; 1 -0.5844535 H; 2 0.52775747 H; 3 0.39952424 H; 4 -0.41684064 H; 5 0.26713204 H; 6 0.42851418 H; 7 0.2854099 H; 8 0.47247627 H; 9 -0.16924025 H; 10 -0.50399125 H; 11 0.08915378 H; 12 0.31162745 H; 13 0.33580372 H; 14 -0.13401751 H; 15 -0.44654724 H; 16 -0.39662677 H; 17 0.36685014 H; 18 -0.45161712 H; 19 0.47563395 H; 20 -0.38148877 H; 21 0.4001466 H; 22 -0.46058452 H; 23 0.34056666 H; 24 0.13766211 H; 25 0.33125097 H; 26 -0.60106945 H; 27 -0.31478515 H; 28 0.15689196 H; 29 -0.20641208 H; 30 0.36305344 H; 31 0.42272896 H; 32 -0.2982221 H; 33 0.28457102 H; 34 -0.3170573 H; 35 -0.41393608 H; 36 0.32254085 H; 37 0.2758128 H; 38 -0.23995769 H; 39 0.4693011 H; 40 -0.24448738 H; 41 -0.38536826 H; 42 0.3154942 H; 43 -0.414818 H; 44 -0.35277557 H; 45 -0.13916372 H; 46 -0.27118593 H; 47 -0.49667576 H; 48 0.1959291 H; 49 -0.37600648 H; 50 0.26978767 H; 51 -0.5753624 H; 52 -0.44248828 H; 53 -0.1594756 H; 54 -0.26530257 H; 55 0.15524176 H; 56 0.21129997 H; 57 0.4584418 H; 58 0.41332334 H; 59 -0.33366647 H; 60 -0.28081483 H; 61 -0.41843572 H; 62 -0.5127439 H; \n",
      "\n",
      "0 0.14605531 I; 1 -0.080748536 I; 2 -0.036194567 I; 3 0.1471014 I; 4 -0.07294843 I; 5 0.07683913 I; 6 -0.07764063 I; 7 -0.07748564 I; 8 0.15186155 I; 9 0.017464785 I; 10 0.009399171 I; 11 0.062883675 I; 12 -0.0745924 I; 13 -0.01346964 I; 14 -0.14429277 I; 15 -0.26605356 I; 16 0.054482836 I; 17 -0.14646517 I; 18 0.03315508 I; 19 -0.10848523 I; 20 0.07742302 I; 21 -0.052672524 I; 22 0.071034014 I; 23 0.0653609 I; 24 -0.04873036 I; 25 -0.061987896 I; 26 -0.12915878 I; 27 -0.020025441 I; 28 0.055935364 I; 29 0.12603623 I; 30 -0.0789922 I; 31 -0.1652203 I; 32 0.09167226 I; 33 -0.19767766 I; 34 0.05510663 I; 35 0.15716793 I; 36 0.07899749 I; 37 0.07754156 I; 38 0.08447334 I; 39 -0.049397685 I; 40 -0.03607275 I; 41 0.1099659 I; 42 -0.014323501 I; 43 -0.06914572 I; 44 0.13821398 I; 45 0.118736416 I; 46 0.15112959 I; 47 0.00020168551 I; 48 0.2403261 I; 49 -0.009068626 I; 50 -0.19478254 I; 51 -0.051568095 I; 52 -0.09221522 I; 53 -0.3216721 I; 54 -0.110523954 I; 55 0.008085193 I; 56 -0.016053464 I; 57 -0.120043546 I; 58 -0.18842643 I; 59 0.10050639 I; 60 -0.08109882 I; 61 -0.03860096 I; 62 0.0692525 I; \n",
      "\n",
      "0 0.0066907876 K; 1 -0.33970603 K; 2 0.31744754 K; 3 0.3875389 K; 4 -0.30878583 K; 5 0.47822028 K; 6 0.36383396 K; 7 0.3215752 K; 8 0.43767223 K; 9 -0.28745067 K; 10 -0.3179088 K; 11 0.4002616 K; 12 0.5515299 K; 13 0.4706053 K; 14 -0.53847486 K; 15 -0.44440567 K; 16 -0.34651136 K; 17 0.36531004 K; 18 -0.4310133 K; 19 0.4383644 K; 20 -0.3841264 K; 21 0.4018653 K; 22 -0.45715058 K; 23 0.56082594 K; 24 0.6120143 K; 25 0.2559164 K; 26 -0.22193891 K; 27 -0.25367537 K; 28 0.46630245 K; 29 -0.42371845 K; 30 0.29305762 K; 31 0.43077007 K; 32 -0.35129118 K; 33 0.469113 K; 34 -0.59660846 K; 35 -0.25717044 K; 36 0.35168496 K; 37 0.33013317 K; 38 -0.47901306 K; 39 0.26394477 K; 40 -0.38532454 K; 41 -0.2588375 K; 42 0.37617847 K; 43 -0.40192714 K; 44 -0.42043152 K; 45 0.18731347 K; 46 -0.4292675 K; 47 -0.2208941 K; 48 0.4309861 K; 49 -0.4842871 K; 50 0.32021284 K; 51 -0.30336633 K; 52 -0.22539087 K; 53 -0.29259694 K; 54 -0.35974258 K; 55 0.45366704 K; 56 0.4218296 K; 57 0.32325718 K; 58 0.3496045 K; 59 -0.27564406 K; 60 -0.41757306 K; 61 -0.34996125 K; 62 -0.37432495 K; \n",
      "\n",
      "0 0.12761031 L; 1 -0.1251803 L; 2 -0.07410088 L; 3 0.07252496 L; 4 0.031377215 L; 5 0.11500279 L; 6 -0.08395808 L; 7 -0.1982798 L; 8 0.16907711 L; 9 0.013060436 L; 10 -0.086406454 L; 11 -0.016859028 L; 12 -0.17561871 L; 13 0.036226366 L; 14 -0.110286586 L; 15 -0.13777812 L; 16 0.06409699 L; 17 -0.07697777 L; 18 0.041491266 L; 19 -0.16407606 L; 20 0.11439286 L; 21 -0.115622394 L; 22 0.0141312415 L; 23 0.09566797 L; 24 -0.0382421 L; 25 -0.07515753 L; 26 -0.076978445 L; 27 -0.13849393 L; 28 0.10173341 L; 29 0.07501251 L; 30 -0.10748353 L; 31 -0.17844214 L; 32 0.13489264 L; 33 -0.14364967 L; 34 0.024409773 L; 35 0.09019292 L; 36 0.16735895 L; 37 0.016351858 L; 38 0.040850416 L; 39 -0.18675531 L; 40 0.05419255 L; 41 0.107068084 L; 42 -0.02888696 L; 43 -0.09472055 L; 44 0.049235277 L; 45 0.20394899 L; 46 0.092731126 L; 47 0.021618048 L; 48 0.19478795 L; 49 -0.050958093 L; 50 -0.101406254 L; 51 0.013648868 L; 52 -0.060703628 L; 53 -0.29142407 L; 54 0.06928066 L; 55 -0.0065430445 L; 56 -0.088284284 L; 57 -0.052431773 L; 58 -0.11015094 L; 59 -0.036295455 L; 60 -0.036808692 L; 61 -0.053870354 L; 62 0.06915982 L; \n",
      "\n",
      "0 0.16015156 M; 1 -0.09803113 M; 2 0.10543066 M; 3 0.21345577 M; 4 -0.16717073 M; 5 0.029111458 M; 6 -0.09544269 M; 7 -0.014294899 M; 8 0.2459261 M; 9 0.04711102 M; 10 0.030231763 M; 11 -0.19394016 M; 12 0.09092187 M; 13 0.030402051 M; 14 0.012735179 M; 15 -0.23071413 M; 16 -0.085008934 M; 17 0.02616006 M; 18 -0.105969526 M; 19 0.05991353 M; 20 0.012445471 M; 21 -0.09773388 M; 22 -0.09823612 M; 23 0.1719042 M; 24 0.17592376 M; 25 -0.14614812 M; 26 -0.22387967 M; 27 -0.018182367 M; 28 0.0652416 M; 29 0.20153221 M; 30 -0.017146071 M; 31 -0.100335345 M; 32 -0.037509978 M; 33 -0.013804463 M; 34 -0.026680438 M; 35 0.12595904 M; 36 0.17935377 M; 37 0.049840868 M; 38 -0.019108504 M; 39 -0.10863772 M; 40 -0.02411431 M; 41 0.070357695 M; 42 0.02146963 M; 43 -0.067160025 M; 44 0.15236466 M; 45 0.15904541 M; 46 -0.013769043 M; 47 0.17990378 M; 48 -0.012494854 M; 49 -0.21900068 M; 50 -0.19680923 M; 51 -0.09310145 M; 52 -0.10660955 M; 53 -0.073579 M; 54 0.113139406 M; 55 -0.03243677 M; 56 -0.044919122 M; 57 0.026287202 M; 58 -0.26451373 M; 59 -0.1520559 M; 60 -0.10306111 M; 61 0.101416886 M; 62 0.00072822673 M; \n",
      "\n",
      "0 0.21552746 N; 1 -0.101652175 N; 2 0.035766378 N; 3 0.05439609 N; 4 -0.038260072 N; 5 -0.006883373 N; 6 -0.008835596 N; 7 -0.12274801 N; 8 0.17644927 N; 9 0.18448597 N; 10 -0.08433998 N; 11 -0.041777387 N; 12 -0.06536714 N; 13 0.052287605 N; 14 0.09097735 N; 15 -0.1191721 N; 16 0.030002829 N; 17 -0.089225866 N; 18 -0.11159568 N; 19 -0.1015314 N; 20 0.14417645 N; 21 0.04953203 N; 22 0.19321854 N; 23 0.16975325 N; 24 0.060309257 N; 25 -0.054932162 N; 26 0.107659586 N; 27 0.047082134 N; 28 -8.659302e-05 N; 29 0.06418298 N; 30 -0.07728849 N; 31 -0.14613672 N; 32 0.016897377 N; 33 -0.024416542 N; 34 -0.1368396 N; 35 0.07078436 N; 36 0.10833961 N; 37 -0.13995777 N; 38 -0.119963706 N; 39 -0.04639486 N; 40 0.07959393 N; 41 0.020331765 N; 42 0.044267796 N; 43 -0.014260379 N; 44 0.23301776 N; 45 0.1430327 N; 46 0.15424582 N; 47 0.047643185 N; 48 -0.11288926 N; 49 -0.14400737 N; 50 -0.10167971 N; 51 -0.22659732 N; 52 -0.10673499 N; 53 -0.14199695 N; 54 -0.083988376 N; 55 -0.19899684 N; 56 -0.11702109 N; 57 0.08992205 N; 58 0.091984056 N; 59 -0.13798854 N; 60 -0.1396957 N; 61 -0.08615477 N; 62 -0.19147737 N; \n",
      "\n",
      "0 0.10284471 P; 1 -0.012401151 P; 2 -0.025984311 P; 3 0.26407227 P; 4 0.036752876 P; 5 0.15213962 P; 6 -0.019175008 P; 7 -0.186458 P; 8 0.023571521 P; 9 0.029194914 P; 10 -0.062456872 P; 11 0.045769304 P; 12 -0.08670895 P; 13 -0.030086316 P; 14 0.113696754 P; 15 -0.07301252 P; 16 0.028726608 P; 17 -0.18492842 P; 18 0.102304265 P; 19 -0.09852845 P; 20 0.08895427 P; 21 0.0073933704 P; 22 0.060252715 P; 23 0.07716603 P; 24 -0.20214897 P; 25 0.107902355 P; 26 -0.27461472 P; 27 -0.03363541 P; 28 0.15888771 P; 29 0.038368795 P; 30 -0.0039370484 P; 31 -0.17807111 P; 32 0.0069831787 P; 33 0.020591738 P; 34 0.22703898 P; 35 -0.0010697136 P; 36 -0.014478353 P; 37 0.09882935 P; 38 0.04382932 P; 39 0.026879169 P; 40 0.07660283 P; 41 -0.049796514 P; 42 -0.023693906 P; 43 0.0010059439 P; 44 0.12861745 P; 45 0.22983274 P; 46 0.06686387 P; 47 0.14173613 P; 48 0.24482231 P; 49 0.05870713 P; 50 -0.032622587 P; 51 0.018593878 P; 52 -0.19392584 P; 53 -0.21759494 P; 54 0.022592053 P; 55 0.024531148 P; 56 -0.08978821 P; 57 0.08153592 P; 58 -0.108907625 P; 59 -0.115096085 P; 60 -0.049778257 P; 61 0.16022654 P; 62 -0.02399881 P; \n",
      "\n",
      "0 0.2988743 Q; 1 -0.08957338 Q; 2 -0.05912514 Q; 3 0.0085437205 Q; 4 -0.01445457 Q; 5 0.13758023 Q; 6 -0.008635041 Q; 7 -0.17781411 Q; 8 0.10469461 Q; 9 -0.044870313 Q; 10 -0.120231226 Q; 11 -0.106854364 Q; 12 -0.22477984 Q; 13 -0.09881554 Q; 14 0.0039077075 Q; 15 0.030758604 Q; 16 -0.11454875 Q; 17 -0.10101718 Q; 18 -0.0006177459 Q; 19 -0.10523398 Q; 20 0.016300727 Q; 21 0.00826582 Q; 22 0.11847444 Q; 23 0.06015993 Q; 24 -0.04502863 Q; 25 0.05249234 Q; 26 -0.18140776 Q; 27 0.013359148 Q; 28 0.11801909 Q; 29 0.14652209 Q; 30 -0.019047897 Q; 31 -0.12750201 Q; 32 -0.011416534 Q; 33 0.111971974 Q; 34 0.040654026 Q; 35 0.035330277 Q; 36 0.05756882 Q; 37 0.23497303 Q; 38 -0.04301689 Q; 39 -0.1485933 Q; 40 0.022006748 Q; 41 0.03889428 Q; 42 0.08661979 Q; 43 -0.16713192 Q; 44 0.19142208 Q; 45 0.11214078 Q; 46 0.035340108 Q; 47 -0.012124083 Q; 48 0.124473125 Q; 49 -0.095044956 Q; 50 4.9707633e-06 Q; 51 -0.08359062 Q; 52 -0.035875913 Q; 53 -0.16523679 Q; 54 -0.14370619 Q; 55 -0.075674675 Q; 56 -0.09779908 Q; 57 0.08528686 Q; 58 -0.08129862 Q; 59 -0.082685664 Q; 60 -0.061496083 Q; 61 0.06772089 Q; 62 -0.011519609 Q; \n",
      "\n",
      "0 -0.25199625 R; 1 -0.3452772 R; 2 0.31393674 R; 3 0.3570041 R; 4 -0.5975299 R; 5 0.5299291 R; 6 0.28732678 R; 7 0.46073014 R; 8 0.43321115 R; 9 -0.51024646 R; 10 -0.51228553 R; 11 0.51103264 R; 12 0.33757135 R; 13 0.41912204 R; 14 -0.38833418 R; 15 -0.4042218 R; 16 -0.44254062 R; 17 0.43708485 R; 18 -0.2860364 R; 19 0.30727583 R; 20 -0.40629983 R; 21 0.2847258 R; 22 -0.2655097 R; 23 0.38256583 R; 24 0.48599604 R; 25 0.5617455 R; 26 -0.33317214 R; 27 -0.49728608 R; 28 0.38352555 R; 29 -0.41906363 R; 30 0.45158693 R; 31 0.28334844 R; 32 -0.3335031 R; 33 0.36422506 R; 34 -0.38922596 R; 35 -0.37908974 R; 36 0.46684337 R; 37 0.370499 R; 38 -0.4934197 R; 39 0.34759012 R; 40 -0.46051943 R; 41 -0.42262575 R; 42 0.54474455 R; 43 -0.4392417 R; 44 -0.4628679 R; 45 -0.19693784 R; 46 -0.35956454 R; 47 -0.43743265 R; 48 0.38065994 R; 49 -0.31809717 R; 50 0.47708488 R; 51 -0.35544747 R; 52 -0.40134338 R; 53 -0.59394747 R; 54 -0.4606231 R; 55 0.48882115 R; 56 0.38647127 R; 57 0.3877045 R; 58 0.30995718 R; 59 -0.52305514 R; 60 -0.41648543 R; 61 -0.41746345 R; 62 -0.3565299 R; \n",
      "\n",
      "0 0.18556704 S; 1 -0.12939183 S; 2 0.12613046 S; 3 0.121284015 S; 4 -0.07495041 S; 5 0.0052035884 S; 6 -0.04509326 S; 7 -0.008514066 S; 8 0.14295627 S; 9 0.14401688 S; 10 -0.004006845 S; 11 0.0048510125 S; 12 -0.105631135 S; 13 -0.06142465 S; 14 0.09818892 S; 15 -0.2582155 S; 16 -0.058616966 S; 17 -0.06864584 S; 18 0.0022553194 S; 19 -0.052348115 S; 20 0.13373776 S; 21 -0.027980927 S; 22 0.067600965 S; 23 0.21765599 S; 24 -0.048399948 S; 25 -0.042607453 S; 26 -0.015134183 S; 27 0.04339205 S; 28 0.011379643 S; 29 0.11175935 S; 30 -0.035944145 S; 31 -0.103893496 S; 32 -0.04062481 S; 33 -0.061318126 S; 34 0.04966567 S; 35 0.110471554 S; 36 0.19381787 S; 37 -0.1408095 S; 38 0.022483943 S; 39 -0.09532296 S; 40 0.16309215 S; 41 0.03766811 S; 42 -0.08259168 S; 43 -0.026286429 S; 44 0.16107771 S; 45 0.22997424 S; 46 0.10014664 S; 47 0.09830699 S; 48 -0.03559539 S; 49 0.038205642 S; 50 -0.18751636 S; 51 -0.0023643416 S; 52 -0.14944299 S; 53 -0.045210034 S; 54 0.042925157 S; 55 -0.14216723 S; 56 -0.09056811 S; 57 0.07712834 S; 58 0.0016103479 S; 59 -0.045543868 S; 60 -0.052403823 S; 61 -0.09836443 S; 62 0.003162991 S; \n",
      "\n",
      "0 0.13460222 T; 1 -0.11388497 T; 2 0.025768107 T; 3 0.1001522 T; 4 -0.10311525 T; 5 0.08763814 T; 6 -0.03027267 T; 7 -0.027709689 T; 8 0.117886245 T; 9 -0.015049778 T; 10 0.027286394 T; 11 -0.03662623 T; 12 -0.12814474 T; 13 -0.02560537 T; 14 0.04229401 T; 15 -0.1785289 T; 16 0.0013916811 T; 17 -0.12468158 T; 18 -0.08629836 T; 19 -0.02803059 T; 20 0.084024444 T; 21 -0.09950564 T; 22 0.0017374505 T; 23 0.19862857 T; 24 -0.16824457 T; 25 0.09132903 T; 26 0.04032172 T; 27 -0.09372788 T; 28 0.06090464 T; 29 0.13678944 T; 30 -0.15802224 T; 31 -0.11425364 T; 32 -0.038295917 T; 33 -0.10126299 T; 34 0.079502836 T; 35 0.06830183 T; 36 0.047679935 T; 37 -0.08638227 T; 38 -0.07555114 T; 39 -0.0681024 T; 40 0.08476118 T; 41 0.041293435 T; 42 -0.03542597 T; 43 -0.009483558 T; 44 0.12561214 T; 45 0.26201358 T; 46 0.1627225 T; 47 0.05380685 T; 48 0.051011927 T; 49 -0.033283938 T; 50 -0.20300494 T; 51 -0.0500518 T; 52 -0.10546468 T; 53 -0.095888786 T; 54 0.02488049 T; 55 -0.08770432 T; 56 -0.038665798 T; 57 -0.06052729 T; 58 -0.099516116 T; 59 -0.092959136 T; 60 -0.08020308 T; 61 0.033085857 T; 62 -0.014587751 T; \n",
      "\n",
      "0 0.17492887 V; 1 -0.101474345 V; 2 0.15537475 V; 3 0.17180386 V; 4 -0.090158276 V; 5 0.00012721623 V; 6 -0.084743984 V; 7 -0.1257674 V; 8 0.1647742 V; 9 0.044791136 V; 10 0.022243738 V; 11 0.0130955065 V; 12 -0.04052702 V; 13 0.05354236 V; 14 -0.035916846 V; 15 -0.16814272 V; 16 0.09308593 V; 17 -0.15299068 V; 18 0.118941605 V; 19 -0.059533104 V; 20 0.072634324 V; 21 -0.15465187 V; 22 0.042779397 V; 23 0.13665612 V; 24 -0.16576023 V; 25 0.051700763 V; 26 -0.14871399 V; 27 -0.067616895 V; 28 0.060662497 V; 29 0.07359543 V; 30 -0.07648714 V; 31 -0.20671728 V; 32 -0.036720317 V; 33 -0.16986662 V; 34 -0.00027881213 V; 35 0.09839154 V; 36 0.05113053 V; 37 0.13657953 V; 38 -0.027364168 V; 39 -0.093178436 V; 40 0.050705153 V; 41 0.0828771 V; 42 -0.120110616 V; 43 0.040186558 V; 44 0.048702434 V; 45 0.18516518 V; 46 0.16794801 V; 47 0.108889066 V; 48 0.12994413 V; 49 -0.08360142 V; 50 -0.177659 V; 51 -0.049143624 V; 52 -0.031175641 V; 53 -0.281926 V; 54 -0.024050904 V; 55 0.033370074 V; 56 -0.029505678 V; 57 -0.15659471 V; 58 -0.12346921 V; 59 0.03982755 V; 60 0.04090126 V; 61 -0.03715915 V; 62 0.07579189 V; \n",
      "\n",
      "0 0.31360883 W; 1 -0.05772889 W; 2 0.045572255 W; 3 0.063062854 W; 4 -0.057929423 W; 5 0.052629393 W; 6 -0.075863704 W; 7 -0.13054772 W; 8 0.1596719 W; 9 -0.07793813 W; 10 -0.0559164 W; 11 0.051583674 W; 12 -0.10770252 W; 13 0.002695542 W; 14 -0.0638865 W; 15 -0.06509079 W; 16 -0.013835268 W; 17 0.006821327 W; 18 0.018463664 W; 19 -0.037766542 W; 20 -0.09963574 W; 21 0.0028068025 W; 22 0.0253968 W; 23 0.12302034 W; 24 -0.15773512 W; 25 -0.16589102 W; 26 -0.13810378 W; 27 -0.08611862 W; 28 0.08505538 W; 29 0.002939473 W; 30 -0.10407265 W; 31 -0.10070937 W; 32 0.025893815 W; 33 -0.037149925 W; 34 0.09547252 W; 35 0.039774515 W; 36 0.043811522 W; 37 0.11621127 W; 38 -0.019720657 W; 39 -0.034074217 W; 40 0.04869682 W; 41 -0.023607925 W; 42 0.044423666 W; 43 -0.123449154 W; 44 0.28192768 W; 45 0.08111529 W; 46 -0.029954758 W; 47 0.0068776524 W; 48 0.1297133 W; 49 -0.06624503 W; 50 -0.085090086 W; 51 -0.15343112 W; 52 -0.08058952 W; 53 -0.08991711 W; 54 0.012479328 W; 55 -0.06771485 W; 56 0.08653235 W; 57 -0.0028910607 W; 58 -0.16838387 W; 59 -0.20544729 W; 60 -0.17660975 W; 61 0.009503264 W; 62 -0.090279676 W; \n",
      "\n",
      "0 0.042691294 Y; 1 -0.14836337 Y; 2 0.20005177 Y; 3 0.18204884 Y; 4 -0.04566915 Y; 5 -0.08268455 Y; 6 -0.07225331 Y; 7 -0.006300369 Y; 8 0.13372639 Y; 9 -0.018529706 Y; 10 -0.0158302 Y; 11 -0.22223808 Y; 12 -0.026174434 Y; 13 0.07667935 Y; 14 -0.16477059 Y; 15 -0.12900944 Y; 16 -0.014493304 Y; 17 -0.039479364 Y; 18 0.03601791 Y; 19 -0.14158666 Y; 20 0.05049124 Y; 21 -0.0760278 Y; 22 0.034771092 Y; 23 0.092130296 Y; 24 -0.27942473 Y; 25 -0.08811073 Y; 26 -0.1262271 Y; 27 -0.02327366 Y; 28 -0.03366604 Y; 29 0.09147499 Y; 30 0.1475163 Y; 31 -0.22790636 Y; 32 0.06003749 Y; 33 -0.14119975 Y; 34 0.28088328 Y; 35 0.11990062 Y; 36 0.14577024 Y; 37 0.10536422 Y; 38 -0.09165988 Y; 39 -0.12436205 Y; 40 0.11803747 Y; 41 0.023644676 Y; 42 -0.026998563 Y; 43 -0.1616337 Y; 44 0.104517765 Y; 45 0.1140299 Y; 46 0.07638251 Y; 47 0.068705164 Y; 48 0.13030644 Y; 49 -0.021744678 Y; 50 -0.13166003 Y; 51 -0.035539735 Y; 52 -0.015796576 Y; 53 -0.03078497 Y; 54 0.009834079 Y; 55 0.01865098 Y; 56 -0.15703867 Y; 57 -0.020776412 Y; 58 -0.10361148 Y; 59 0.077546634 Y; 60 -0.12005888 Y; 61 -0.096779175 Y; 62 -0.059340004 Y; \n",
      "\n",
      "0 0.2464338 C[UNIMOD:4]; 1 -0.052593745 C[UNIMOD:4]; 2 -0.024832068 C[UNIMOD:4]; 3 -0.030010017 C[UNIMOD:4]; 4 -0.1523218 C[UNIMOD:4]; 5 0.09107324 C[UNIMOD:4]; 6 -0.049989846 C[UNIMOD:4]; 7 -0.06947935 C[UNIMOD:4]; 8 0.05259307 C[UNIMOD:4]; 9 -0.0910776 C[UNIMOD:4]; 10 -0.22176476 C[UNIMOD:4]; 11 -0.1529727 C[UNIMOD:4]; 12 -0.26478958 C[UNIMOD:4]; 13 -0.11061603 C[UNIMOD:4]; 14 0.15503263 C[UNIMOD:4]; 15 0.042082053 C[UNIMOD:4]; 16 -0.082557775 C[UNIMOD:4]; 17 0.10304286 C[UNIMOD:4]; 18 0.048140027 C[UNIMOD:4]; 19 0.038873952 C[UNIMOD:4]; 20 -0.037246086 C[UNIMOD:4]; 21 0.11650553 C[UNIMOD:4]; 22 0.031788807 C[UNIMOD:4]; 23 0.13014926 C[UNIMOD:4]; 24 0.045889407 C[UNIMOD:4]; 25 -0.16946001 C[UNIMOD:4]; 26 -0.2857357 C[UNIMOD:4]; 27 0.07041214 C[UNIMOD:4]; 28 0.24162121 C[UNIMOD:4]; 29 0.056877375 C[UNIMOD:4]; 30 0.1240337 C[UNIMOD:4]; 31 -0.20689595 C[UNIMOD:4]; 32 -0.14257433 C[UNIMOD:4]; 33 0.123828046 C[UNIMOD:4]; 34 0.1511902 C[UNIMOD:4]; 35 -0.0536642 C[UNIMOD:4]; 36 0.033652276 C[UNIMOD:4]; 37 0.2916672 C[UNIMOD:4]; 38 -0.14918815 C[UNIMOD:4]; 39 -0.02674606 C[UNIMOD:4]; 40 0.04861506 C[UNIMOD:4]; 41 -0.12271506 C[UNIMOD:4]; 42 0.098923035 C[UNIMOD:4]; 43 -0.2650219 C[UNIMOD:4]; 44 0.22535907 C[UNIMOD:4]; 45 0.032944843 C[UNIMOD:4]; 46 -0.008785935 C[UNIMOD:4]; 47 0.052838497 C[UNIMOD:4]; 48 0.062457655 C[UNIMOD:4]; 49 -0.20073861 C[UNIMOD:4]; 50 0.03037015 C[UNIMOD:4]; 51 -0.17678604 C[UNIMOD:4]; 52 -0.10921347 C[UNIMOD:4]; 53 0.06100173 C[UNIMOD:4]; 54 0.10427425 C[UNIMOD:4]; 55 -0.18245497 C[UNIMOD:4]; 56 -0.009519021 C[UNIMOD:4]; 57 0.15274249 C[UNIMOD:4]; 58 -0.15400593 C[UNIMOD:4]; 59 -0.2904018 C[UNIMOD:4]; 60 -0.036639154 C[UNIMOD:4]; 61 0.12055125 C[UNIMOD:4]; 62 -0.096054964 C[UNIMOD:4]; \n",
      "\n",
      "0 0.43805918 M[UNIMOD:35]; 1 -0.05479205 M[UNIMOD:35]; 2 0.29270527 M[UNIMOD:35]; 3 0.17696889 M[UNIMOD:35]; 4 -0.044231135 M[UNIMOD:35]; 5 -0.02598964 M[UNIMOD:35]; 6 -0.28224105 M[UNIMOD:35]; 7 -0.0034794956 M[UNIMOD:35]; 8 0.17711851 M[UNIMOD:35]; 9 -0.05198918 M[UNIMOD:35]; 10 -0.058623094 M[UNIMOD:35]; 11 -0.23542266 M[UNIMOD:35]; 12 0.074789636 M[UNIMOD:35]; 13 0.13615261 M[UNIMOD:35]; 14 0.059224226 M[UNIMOD:35]; 15 0.047104 M[UNIMOD:35]; 16 0.017382497 M[UNIMOD:35]; 17 -0.031106822 M[UNIMOD:35]; 18 -0.12544143 M[UNIMOD:35]; 19 -0.009664598 M[UNIMOD:35]; 20 -0.049926933 M[UNIMOD:35]; 21 -0.013539946 M[UNIMOD:35]; 22 0.014175714 M[UNIMOD:35]; 23 0.055977482 M[UNIMOD:35]; 24 0.12646489 M[UNIMOD:35]; 25 -0.090610825 M[UNIMOD:35]; 26 -0.15160346 M[UNIMOD:35]; 27 -0.09449532 M[UNIMOD:35]; 28 0.17396551 M[UNIMOD:35]; 29 0.092129275 M[UNIMOD:35]; 30 0.011077133 M[UNIMOD:35]; 31 -0.09637723 M[UNIMOD:35]; 32 -0.09762552 M[UNIMOD:35]; 33 0.04604044 M[UNIMOD:35]; 34 -0.14636268 M[UNIMOD:35]; 35 -0.07271951 M[UNIMOD:35]; 36 0.021763964 M[UNIMOD:35]; 37 -0.0154244155 M[UNIMOD:35]; 38 -0.082532056 M[UNIMOD:35]; 39 -0.03947618 M[UNIMOD:35]; 40 0.029869057 M[UNIMOD:35]; 41 -0.19979821 M[UNIMOD:35]; 42 -0.0215101 M[UNIMOD:35]; 43 -0.124175206 M[UNIMOD:35]; 44 0.38118413 M[UNIMOD:35]; 45 0.17233256 M[UNIMOD:35]; 46 -0.078204185 M[UNIMOD:35]; 47 0.15968984 M[UNIMOD:35]; 48 0.013852212 M[UNIMOD:35]; 49 -0.10329793 M[UNIMOD:35]; 50 -0.07897887 M[UNIMOD:35]; 51 -0.13044037 M[UNIMOD:35]; 52 -0.31455225 M[UNIMOD:35]; 53 0.028514426 M[UNIMOD:35]; 54 0.055193096 M[UNIMOD:35]; 55 -0.09767865 M[UNIMOD:35]; 56 -0.10742085 M[UNIMOD:35]; 57 0.0532492 M[UNIMOD:35]; 58 0.008700915 M[UNIMOD:35]; 59 -0.20068856 M[UNIMOD:35]; 60 -0.19379507 M[UNIMOD:35]; 61 0.10231665 M[UNIMOD:35]; 62 -0.20562834 M[UNIMOD:35]; \n",
      "\n",
      "mean pos0:  0.092312254\n",
      "mean pos1:  -0.13483706\n",
      "mean pos2:  0.109970726\n",
      "mean pos3:  0.11937321\n",
      "mean pos4:  -0.09946209\n",
      "mean pos5:  0.08197993\n",
      "mean pos6:  -0.015998302\n",
      "mean pos7:  -0.018531073\n",
      "mean pos8:  0.15007827\n",
      "mean pos9:  -0.00017495728\n",
      "mean pos10:  -0.09063957\n",
      "mean pos11:  -0.012374526\n",
      "mean pos12:  -0.020789158\n",
      "mean pos13:  0.051130436\n",
      "mean pos14:  -0.034968086\n",
      "mean pos15:  -0.16374221\n",
      "mean pos16:  -0.040041167\n",
      "mean pos17:  -0.020329533\n",
      "mean pos18:  -0.05798672\n",
      "mean pos19:  -0.0064639314\n",
      "mean pos20:  -0.0020363887\n",
      "mean pos21:  0.0111431535\n",
      "mean pos22:  -0.0023011372\n",
      "mean pos23:  0.1497948\n",
      "mean pos24:  0.009931573\n",
      "mean pos25:  0.018295025\n",
      "mean pos26:  -0.10635166\n",
      "mean pos27:  -0.058854807\n",
      "mean pos28:  0.08527484\n",
      "mean pos29:  0.02375173\n",
      "mean pos30:  0.004339451\n",
      "mean pos31:  -0.07229491\n",
      "mean pos32:  -0.029266687\n",
      "mean pos33:  0.013321539\n",
      "mean pos34:  -0.01716686\n",
      "mean pos35:  0.017113794\n",
      "mean pos36:  0.12074656\n",
      "mean pos37:  0.046083752\n",
      "mean pos38:  -0.08104967\n",
      "mean pos39:  -0.017082406\n",
      "mean pos40:  0.009311182\n",
      "mean pos41:  -0.028643072\n",
      "mean pos42:  0.043763317\n",
      "mean pos43:  -0.10200596\n",
      "mean pos44:  0.067985415\n",
      "mean pos45:  0.13015784\n",
      "mean pos46:  0.018239202\n",
      "mean pos47:  0.01016586\n",
      "mean pos48:  0.081377275\n",
      "mean pos49:  -0.09066166\n",
      "mean pos50:  -0.044767965\n",
      "mean pos51:  -0.108400136\n",
      "mean pos52:  -0.12359588\n",
      "mean pos53:  -0.13168429\n",
      "mean pos54:  -0.040316902\n",
      "mean pos55:  -0.009521679\n",
      "mean pos56:  -0.009549378\n",
      "mean pos57:  0.0548681\n",
      "mean pos58:  -0.0051360657\n",
      "mean pos59:  -0.106164776\n",
      "mean pos60:  -0.09543911\n",
      "mean pos61:  -0.06605558\n",
      "mean pos62:  -0.06635968\n"
     ]
    }
   ],
   "source": [
    "# all weights for embed layer per position\n",
    "layers = [layer.get_weights() for layer in model_embed.layers]\n",
    "\n",
    "position_dict = dict()\n",
    "for i in range(23):\n",
    "    list_of_positions_for_vocab = layers[1][0][i]\n",
    "    for index, j in enumerate(list_of_positions_for_vocab):\n",
    "        print(index, j, vocabulary[i], end=\"; \")\n",
    "        if index not in position_dict:\n",
    "            position_dict[index] = list()\n",
    "            position_dict[index].append(j)\n",
    "        else:\n",
    "            position_dict[index].append(j)\n",
    "    print(\"\\n\")\n",
    "    #print(i, (layers[1][0][i]))\n",
    "    \n",
    "for key, value in position_dict.items():\n",
    "    print(f\"mean pos{key}: \",np.mean(value))"
   ],
   "metadata": {
    "collapsed": false,
    "ExecuteTime": {
     "end_time": "2023-09-04T15:40:55.405513800Z",
     "start_time": "2023-09-04T15:40:54.732431500Z"
    }
   }
  },
  {
   "cell_type": "code",
   "execution_count": 70,
   "outputs": [
    {
     "data": {
      "text/plain": "                            modified_sequence_vector  true_label pred_label  \\\n0  [4, 18, 1, 1, 1, 15, 1, 1, 4, 17, 4, 0, 0, 0, ...           2       None   \n1  [16, 12, 16, 10, 15, 10, 16, 10, 8, 6, 3, 15, ...           2       None   \n2  [4, 22, 10, 17, 15, 1, 8, 9, 17, 14, 10, 18, 1...           3       None   \n3  [8, 13, 15, 18, 17, 17, 13, 10, 16, 16, 10, 0,...           2       None   \n\n  prediction           modified_sequence  seq_length  \n0        NaN                 EVAAARAAETE          11  \n1        NaN                SNSLRLSLIGDR          12  \n2        NaN  EM[UNIMOD:35]LTRAIKTQLVLLT          15  \n3        NaN                 IPRVTTPLSSL          11  ",
      "text/html": "<div>\n<style scoped>\n    .dataframe tbody tr th:only-of-type {\n        vertical-align: middle;\n    }\n\n    .dataframe tbody tr th {\n        vertical-align: top;\n    }\n\n    .dataframe thead th {\n        text-align: right;\n    }\n</style>\n<table border=\"1\" class=\"dataframe\">\n  <thead>\n    <tr style=\"text-align: right;\">\n      <th></th>\n      <th>modified_sequence_vector</th>\n      <th>true_label</th>\n      <th>pred_label</th>\n      <th>prediction</th>\n      <th>modified_sequence</th>\n      <th>seq_length</th>\n    </tr>\n  </thead>\n  <tbody>\n    <tr>\n      <th>0</th>\n      <td>[4, 18, 1, 1, 1, 15, 1, 1, 4, 17, 4, 0, 0, 0, ...</td>\n      <td>2</td>\n      <td>None</td>\n      <td>NaN</td>\n      <td>EVAAARAAETE</td>\n      <td>11</td>\n    </tr>\n    <tr>\n      <th>1</th>\n      <td>[16, 12, 16, 10, 15, 10, 16, 10, 8, 6, 3, 15, ...</td>\n      <td>2</td>\n      <td>None</td>\n      <td>NaN</td>\n      <td>SNSLRLSLIGDR</td>\n      <td>12</td>\n    </tr>\n    <tr>\n      <th>2</th>\n      <td>[4, 22, 10, 17, 15, 1, 8, 9, 17, 14, 10, 18, 1...</td>\n      <td>3</td>\n      <td>None</td>\n      <td>NaN</td>\n      <td>EM[UNIMOD:35]LTRAIKTQLVLLT</td>\n      <td>15</td>\n    </tr>\n    <tr>\n      <th>3</th>\n      <td>[8, 13, 15, 18, 17, 17, 13, 10, 16, 16, 10, 0,...</td>\n      <td>2</td>\n      <td>None</td>\n      <td>NaN</td>\n      <td>IPRVTTPLSSL</td>\n      <td>11</td>\n    </tr>\n  </tbody>\n</table>\n</div>"
     },
     "execution_count": 70,
     "metadata": {},
     "output_type": "execute_result"
    }
   ],
   "source": [
    "predict_df.head(4)"
   ],
   "metadata": {
    "collapsed": false,
    "ExecuteTime": {
     "end_time": "2023-08-25T08:41:28.523707900Z",
     "start_time": "2023-08-25T08:41:28.382273600Z"
    }
   }
  },
  {
   "cell_type": "code",
   "execution_count": 122,
   "outputs": [
    {
     "name": "stdout",
     "output_type": "stream",
     "text": [
      "Sequence:  EM[UNIMOD:35]LTRAIKTQLVLLT\n",
      "Sequence_vector:  [[ 4 22 10 17 15  1  8  9 17 14 10 18 10 10 17  0  0  0  0  0  0  0  0  0\n",
      "   0  0  0  0  0  0  0  0  0  0  0  0  0  0  0  0  0  0  0  0  0  0  0  0\n",
      "   0  0  0  0  0  0  0  0  0  0  0  0  0  0  0]]\n",
      "Weights_per_Charge_State:  [0.0, 0.32, 0.66, 0.02, 0.0, 0.0] Sum:  1.0000000186264515\n",
      "-----------------------------\n",
      "The predicted charge state for the input sequence 'AAAVVCCAA' is 3 [66.0%].\n",
      "Prediction percentages for all states:\n",
      "Charge state 1: 0.0%\n",
      "Charge state 2: 32.05%\n",
      "--Charge state 3: 65.91%\n",
      "Charge state 4: 2.04%\n",
      "Charge state 5: 0.0%\n",
      "Charge state 6: 0.0%\n"
     ]
    }
   ],
   "source": [
    "# TODO prediction\n",
    "#input_sequence = \"NGVVIATENKHKSPLYEQHSVH\"\n",
    "input_sequence = \"EM[UNIMOD:35]LTRAIKTQLVLLT\"\n",
    "print(\"Sequence: \", input_sequence)\n",
    "#input_sequence = \"AAAGCNN\"\n",
    "input_sequence_vector = seq_translator(input_sequence, max_len=63)\n",
    "input_sequence_vector = np.expand_dims(tf.convert_to_tensor(np.array(input_sequence_vector)), axis=0)\n",
    "print(\"Sequence_vector: \", input_sequence_vector)\n",
    "test_give = model_embed.predict(input_sequence_vector, verbose=False)\n",
    "print(\"Weights_per_Charge_State: \",[round(x, 2) for x in test_give[0]], \"Sum: \" ,sum([round(x, 2) for x in test_give[0]]))\n",
    "counter = 1\n",
    "#print(\"-----------------------------\")\n",
    "# print(\"Sequence: \", input_sequence)\n",
    "# for x in test_give[0]:\n",
    "#     print(f\"charge state {counter}: \", round(x, 2))\n",
    "#     counter += 1\n",
    "print(\"-----------------------------\")\n",
    "print(generate_charge_prediction_text(test_give[0]))"
   ],
   "metadata": {
    "collapsed": false,
    "ExecuteTime": {
     "end_time": "2023-09-04T15:40:59.609597500Z",
     "start_time": "2023-09-04T15:40:59.286277600Z"
    }
   }
  },
  {
   "cell_type": "code",
   "execution_count": 188,
   "outputs": [],
   "source": [
    "# # PREDICT\n",
    "# counter_index = 0\n",
    "# stop_index = 100\n",
    "# test_run = False # TODO manual switch\n",
    "# try: \n",
    "#     for index, row in predict_df.iterrows():\n",
    "#         solut = np.expand_dims(tf.convert_to_tensor(np.array(predict_df.at[index, \"modified_sequence_vector\"])), axis=0)\n",
    "#         predict_df.at[index, 'prediction'] = model_embed.predict(solut, verbose=False)\n",
    "#         counter_index += 1\n",
    "#         if test_run:\n",
    "#             if counter_index >= stop_index:\n",
    "#                 break\n",
    "#     predict_df['pred_label'] = predict_df['prediction'].apply(predictions_no_hot)\n",
    "# except KeyboardInterrupt:\n",
    "#     print(\"KeyboardInterrupt\", f\"at {counter_index} of {predict_df.shape[0]}\")\n",
    "#     predict_df['pred_label'] = predict_df['prediction'].apply(predictions_no_hot)"
   ],
   "metadata": {
    "collapsed": false,
    "ExecuteTime": {
     "end_time": "2023-08-30T10:56:26.182030Z",
     "start_time": "2023-08-30T09:57:39.056642Z"
    }
   }
  },
  {
   "cell_type": "code",
   "execution_count": 189,
   "outputs": [
    {
     "data": {
      "text/plain": "                                modified_sequence_vector  true_label  \\\n83078  [17, 21, 10, 8, 21, 6, 3, 15, 0, 0, 0, 0, 0, 0...           2   \n83079  [9, 7, 6, 18, 16, 19, 17, 13, 4, 4, 18, 4, 4, ...           4   \n83080  [20, 18, 8, 4, 16, 16, 16, 7, 17, 13, 4, 10, 1...           3   \n83081  [12, 18, 16, 3, 1, 18, 1, 14, 16, 17, 15, 0, 0...           2   \n\n       pred_label                                         prediction  \\\n83078           2  [[0.0040206457, 0.9952087, 0.000769298, 1.4628...   \n83079           4  [[3.4637687e-10, 0.010105232, 0.2159436, 0.734...   \n83080           3  [[8.8233566e-05, 0.37959668, 0.5992538, 0.0210...   \n83081           2  [[0.041889735, 0.9399164, 0.018157395, 3.64850...   \n\n                  modified_sequence  seq_length  \\\n83078  TC[UNIMOD:4]LIC[UNIMOD:4]GDR           8   \n83079              KHGVSWTPEEVEEARR          16   \n83080                YVIESSSHTPELAR          14   \n83081                   NVSDAVAQSTR          11   \n\n                          normalized    topK  \n83078                {2: 35569180.0}     [2]  \n83079                {4: 92606430.0}     [4]  \n83080  {2: 7530969.0, 3: 13415830.0}  [3, 2]  \n83081   {1: 1124792.0, 2: 5351471.0}  [2, 1]  ",
      "text/html": "<div>\n<style scoped>\n    .dataframe tbody tr th:only-of-type {\n        vertical-align: middle;\n    }\n\n    .dataframe tbody tr th {\n        vertical-align: top;\n    }\n\n    .dataframe thead th {\n        text-align: right;\n    }\n</style>\n<table border=\"1\" class=\"dataframe\">\n  <thead>\n    <tr style=\"text-align: right;\">\n      <th></th>\n      <th>modified_sequence_vector</th>\n      <th>true_label</th>\n      <th>pred_label</th>\n      <th>prediction</th>\n      <th>modified_sequence</th>\n      <th>seq_length</th>\n      <th>normalized</th>\n      <th>topK</th>\n    </tr>\n  </thead>\n  <tbody>\n    <tr>\n      <th>83078</th>\n      <td>[17, 21, 10, 8, 21, 6, 3, 15, 0, 0, 0, 0, 0, 0...</td>\n      <td>2</td>\n      <td>2</td>\n      <td>[[0.0040206457, 0.9952087, 0.000769298, 1.4628...</td>\n      <td>TC[UNIMOD:4]LIC[UNIMOD:4]GDR</td>\n      <td>8</td>\n      <td>{2: 35569180.0}</td>\n      <td>[2]</td>\n    </tr>\n    <tr>\n      <th>83079</th>\n      <td>[9, 7, 6, 18, 16, 19, 17, 13, 4, 4, 18, 4, 4, ...</td>\n      <td>4</td>\n      <td>4</td>\n      <td>[[3.4637687e-10, 0.010105232, 0.2159436, 0.734...</td>\n      <td>KHGVSWTPEEVEEARR</td>\n      <td>16</td>\n      <td>{4: 92606430.0}</td>\n      <td>[4]</td>\n    </tr>\n    <tr>\n      <th>83080</th>\n      <td>[20, 18, 8, 4, 16, 16, 16, 7, 17, 13, 4, 10, 1...</td>\n      <td>3</td>\n      <td>3</td>\n      <td>[[8.8233566e-05, 0.37959668, 0.5992538, 0.0210...</td>\n      <td>YVIESSSHTPELAR</td>\n      <td>14</td>\n      <td>{2: 7530969.0, 3: 13415830.0}</td>\n      <td>[3, 2]</td>\n    </tr>\n    <tr>\n      <th>83081</th>\n      <td>[12, 18, 16, 3, 1, 18, 1, 14, 16, 17, 15, 0, 0...</td>\n      <td>2</td>\n      <td>2</td>\n      <td>[[0.041889735, 0.9399164, 0.018157395, 3.64850...</td>\n      <td>NVSDAVAQSTR</td>\n      <td>11</td>\n      <td>{1: 1124792.0, 2: 5351471.0}</td>\n      <td>[2, 1]</td>\n    </tr>\n  </tbody>\n</table>\n</div>"
     },
     "execution_count": 189,
     "metadata": {},
     "output_type": "execute_result"
    }
   ],
   "source": [
    "predict_df.tail(4)"
   ],
   "metadata": {
    "collapsed": false,
    "ExecuteTime": {
     "end_time": "2023-08-30T10:57:05.802611100Z",
     "start_time": "2023-08-30T10:57:05.642950400Z"
    }
   }
  },
  {
   "cell_type": "code",
   "execution_count": 190,
   "outputs": [
    {
     "data": {
      "text/plain": "0                        {2: 2308078.0}\n1        {3: 15888960.0, 2: 41187530.0}\n2         {3: 48770720.0, 2: 7114500.0}\n3                        {2: 9628667.0}\n4                        {3: 1524013.0}\n                      ...              \n83077    {4: 26239530.0, 3: 30524360.0}\n83078                   {2: 35569180.0}\n83079                   {4: 92606430.0}\n83080     {2: 7530969.0, 3: 13415830.0}\n83081      {1: 1124792.0, 2: 5351471.0}\nName: normalized, Length: 83082, dtype: object"
     },
     "execution_count": 190,
     "metadata": {},
     "output_type": "execute_result"
    }
   ],
   "source": [
    "predict_df['normalized']"
   ],
   "metadata": {
    "collapsed": false,
    "ExecuteTime": {
     "end_time": "2023-08-30T10:57:09.786039100Z",
     "start_time": "2023-08-30T10:57:09.571843500Z"
    }
   }
  },
  {
   "cell_type": "code",
   "execution_count": 90,
   "outputs": [],
   "source": [
    "# IMPORTANT for label verification after PREDICT TODO if not called before\n",
    "#predict_df['pred_label'] = predict_df['prediction'].apply(predictions_no_hot)"
   ],
   "metadata": {
    "collapsed": false,
    "ExecuteTime": {
     "end_time": "2023-08-25T09:27:12.406704Z",
     "start_time": "2023-08-25T09:27:11.942214800Z"
    }
   }
  },
  {
   "cell_type": "code",
   "execution_count": 191,
   "outputs": [
    {
     "data": {
      "text/plain": "                            modified_sequence_vector  true_label  pred_label  \\\n0  [4, 18, 1, 1, 1, 15, 1, 1, 4, 17, 4, 0, 0, 0, ...           2           2   \n1  [16, 12, 16, 10, 15, 10, 16, 10, 8, 6, 3, 15, ...           2           2   \n2  [4, 22, 10, 17, 15, 1, 8, 9, 17, 14, 10, 18, 1...           3           3   \n3  [8, 13, 15, 18, 17, 17, 13, 10, 16, 16, 10, 0,...           2           2   \n\n                                          prediction  \\\n0  [[0.12747392, 0.8626547, 0.009850538, 2.075463...   \n1  [[0.00020726993, 0.5206397, 0.476445, 0.002706...   \n2  [[3.4061266e-06, 0.25153342, 0.7321024, 0.0163...   \n3  [[0.043792143, 0.93763536, 0.018512432, 6.0023...   \n\n            modified_sequence  seq_length                      normalized  \\\n0                 EVAAARAAETE          11                  {2: 2308078.0}   \n1                SNSLRLSLIGDR          12  {3: 15888960.0, 2: 41187530.0}   \n2  EM[UNIMOD:35]LTRAIKTQLVLLT          15   {3: 48770720.0, 2: 7114500.0}   \n3                 IPRVTTPLSSL          11                  {2: 9628667.0}   \n\n     topK  \n0     [2]  \n1  [2, 3]  \n2  [3, 2]  \n3     [2]  ",
      "text/html": "<div>\n<style scoped>\n    .dataframe tbody tr th:only-of-type {\n        vertical-align: middle;\n    }\n\n    .dataframe tbody tr th {\n        vertical-align: top;\n    }\n\n    .dataframe thead th {\n        text-align: right;\n    }\n</style>\n<table border=\"1\" class=\"dataframe\">\n  <thead>\n    <tr style=\"text-align: right;\">\n      <th></th>\n      <th>modified_sequence_vector</th>\n      <th>true_label</th>\n      <th>pred_label</th>\n      <th>prediction</th>\n      <th>modified_sequence</th>\n      <th>seq_length</th>\n      <th>normalized</th>\n      <th>topK</th>\n    </tr>\n  </thead>\n  <tbody>\n    <tr>\n      <th>0</th>\n      <td>[4, 18, 1, 1, 1, 15, 1, 1, 4, 17, 4, 0, 0, 0, ...</td>\n      <td>2</td>\n      <td>2</td>\n      <td>[[0.12747392, 0.8626547, 0.009850538, 2.075463...</td>\n      <td>EVAAARAAETE</td>\n      <td>11</td>\n      <td>{2: 2308078.0}</td>\n      <td>[2]</td>\n    </tr>\n    <tr>\n      <th>1</th>\n      <td>[16, 12, 16, 10, 15, 10, 16, 10, 8, 6, 3, 15, ...</td>\n      <td>2</td>\n      <td>2</td>\n      <td>[[0.00020726993, 0.5206397, 0.476445, 0.002706...</td>\n      <td>SNSLRLSLIGDR</td>\n      <td>12</td>\n      <td>{3: 15888960.0, 2: 41187530.0}</td>\n      <td>[2, 3]</td>\n    </tr>\n    <tr>\n      <th>2</th>\n      <td>[4, 22, 10, 17, 15, 1, 8, 9, 17, 14, 10, 18, 1...</td>\n      <td>3</td>\n      <td>3</td>\n      <td>[[3.4061266e-06, 0.25153342, 0.7321024, 0.0163...</td>\n      <td>EM[UNIMOD:35]LTRAIKTQLVLLT</td>\n      <td>15</td>\n      <td>{3: 48770720.0, 2: 7114500.0}</td>\n      <td>[3, 2]</td>\n    </tr>\n    <tr>\n      <th>3</th>\n      <td>[8, 13, 15, 18, 17, 17, 13, 10, 16, 16, 10, 0,...</td>\n      <td>2</td>\n      <td>2</td>\n      <td>[[0.043792143, 0.93763536, 0.018512432, 6.0023...</td>\n      <td>IPRVTTPLSSL</td>\n      <td>11</td>\n      <td>{2: 9628667.0}</td>\n      <td>[2]</td>\n    </tr>\n  </tbody>\n</table>\n</div>"
     },
     "execution_count": 191,
     "metadata": {},
     "output_type": "execute_result"
    }
   ],
   "source": [
    "predict_df.head(4)"
   ],
   "metadata": {
    "collapsed": false,
    "ExecuteTime": {
     "end_time": "2023-08-30T10:57:12.605181600Z",
     "start_time": "2023-08-30T10:57:12.459510700Z"
    }
   }
  },
  {
   "cell_type": "code",
   "execution_count": 192,
   "outputs": [
    {
     "name": "stdout",
     "output_type": "stream",
     "text": [
      "0.7874389157699622 65422 83082\n"
     ]
    }
   ],
   "source": [
    "# iterate all rows of grouped_df_embed\n",
    "size_of_df = predict_df.shape[0]\n",
    "true_counter = 0\n",
    "for index, row in predict_df.iterrows():\n",
    "    if row['true_label'] == row['pred_label']:\n",
    "        true_counter += 1\n",
    "\n",
    "print(true_counter/size_of_df, true_counter, size_of_df)"
   ],
   "metadata": {
    "collapsed": false,
    "ExecuteTime": {
     "end_time": "2023-08-30T10:57:18.623076Z",
     "start_time": "2023-08-30T10:57:15.954420800Z"
    }
   }
  },
  {
   "cell_type": "code",
   "execution_count": 193,
   "outputs": [
    {
     "data": {
      "text/plain": "1.2850972089384687"
     },
     "execution_count": 193,
     "metadata": {},
     "output_type": "execute_result"
    }
   ],
   "source": [
    "1 / np.log10(6) # TODO sanity check, look into formula"
   ],
   "metadata": {
    "collapsed": false,
    "ExecuteTime": {
     "end_time": "2023-08-30T10:58:12.497615600Z",
     "start_time": "2023-08-30T10:58:12.279054Z"
    }
   }
  },
  {
   "cell_type": "code",
   "execution_count": 123,
   "outputs": [
    {
     "ename": "ValueError",
     "evalue": "Classification metrics can't handle a mix of multiclass and unknown targets",
     "output_type": "error",
     "traceback": [
      "\u001B[1;31m---------------------------------------------------------------------------\u001B[0m",
      "\u001B[1;31mValueError\u001B[0m                                Traceback (most recent call last)",
      "Cell \u001B[1;32mIn[123], line 8\u001B[0m\n\u001B[0;32m      4\u001B[0m true_labels \u001B[38;5;241m=\u001B[39m predict_df[\u001B[38;5;124m'\u001B[39m\u001B[38;5;124mtrue_label\u001B[39m\u001B[38;5;124m'\u001B[39m]\n\u001B[0;32m      5\u001B[0m predicted_labels \u001B[38;5;241m=\u001B[39m predict_df[\u001B[38;5;124m'\u001B[39m\u001B[38;5;124mpred_label\u001B[39m\u001B[38;5;124m'\u001B[39m]\n\u001B[1;32m----> 8\u001B[0m cm \u001B[38;5;241m=\u001B[39m \u001B[43mconfusion_matrix\u001B[49m\u001B[43m(\u001B[49m\u001B[43mtrue_labels\u001B[49m\u001B[43m,\u001B[49m\u001B[43m \u001B[49m\u001B[43mpredicted_labels\u001B[49m\u001B[43m)\u001B[49m\n\u001B[0;32m      9\u001B[0m \u001B[38;5;28mprint\u001B[39m(cm)\n\u001B[0;32m     10\u001B[0m \u001B[38;5;28mprint\u001B[39m(\u001B[38;5;124m\"\u001B[39m\u001B[38;5;124mAccuracy: \u001B[39m\u001B[38;5;124m\"\u001B[39m, accuracy_score(true_labels, predicted_labels))\n",
      "File \u001B[1;32m~\\OneDrive\\Dokumente\\GitHub\\BachelorThesis\\venv\\Lib\\site-packages\\sklearn\\metrics\\_classification.py:317\u001B[0m, in \u001B[0;36mconfusion_matrix\u001B[1;34m(y_true, y_pred, labels, sample_weight, normalize)\u001B[0m\n\u001B[0;32m    232\u001B[0m \u001B[38;5;28;01mdef\u001B[39;00m \u001B[38;5;21mconfusion_matrix\u001B[39m(\n\u001B[0;32m    233\u001B[0m     y_true, y_pred, \u001B[38;5;241m*\u001B[39m, labels\u001B[38;5;241m=\u001B[39m\u001B[38;5;28;01mNone\u001B[39;00m, sample_weight\u001B[38;5;241m=\u001B[39m\u001B[38;5;28;01mNone\u001B[39;00m, normalize\u001B[38;5;241m=\u001B[39m\u001B[38;5;28;01mNone\u001B[39;00m\n\u001B[0;32m    234\u001B[0m ):\n\u001B[0;32m    235\u001B[0m \u001B[38;5;250m    \u001B[39m\u001B[38;5;124;03m\"\"\"Compute confusion matrix to evaluate the accuracy of a classification.\u001B[39;00m\n\u001B[0;32m    236\u001B[0m \n\u001B[0;32m    237\u001B[0m \u001B[38;5;124;03m    By definition a confusion matrix :math:`C` is such that :math:`C_{i, j}`\u001B[39;00m\n\u001B[1;32m   (...)\u001B[0m\n\u001B[0;32m    315\u001B[0m \u001B[38;5;124;03m    (0, 2, 1, 1)\u001B[39;00m\n\u001B[0;32m    316\u001B[0m \u001B[38;5;124;03m    \"\"\"\u001B[39;00m\n\u001B[1;32m--> 317\u001B[0m     y_type, y_true, y_pred \u001B[38;5;241m=\u001B[39m \u001B[43m_check_targets\u001B[49m\u001B[43m(\u001B[49m\u001B[43my_true\u001B[49m\u001B[43m,\u001B[49m\u001B[43m \u001B[49m\u001B[43my_pred\u001B[49m\u001B[43m)\u001B[49m\n\u001B[0;32m    318\u001B[0m     \u001B[38;5;28;01mif\u001B[39;00m y_type \u001B[38;5;129;01mnot\u001B[39;00m \u001B[38;5;129;01min\u001B[39;00m (\u001B[38;5;124m\"\u001B[39m\u001B[38;5;124mbinary\u001B[39m\u001B[38;5;124m\"\u001B[39m, \u001B[38;5;124m\"\u001B[39m\u001B[38;5;124mmulticlass\u001B[39m\u001B[38;5;124m\"\u001B[39m):\n\u001B[0;32m    319\u001B[0m         \u001B[38;5;28;01mraise\u001B[39;00m \u001B[38;5;167;01mValueError\u001B[39;00m(\u001B[38;5;124m\"\u001B[39m\u001B[38;5;132;01m%s\u001B[39;00m\u001B[38;5;124m is not supported\u001B[39m\u001B[38;5;124m\"\u001B[39m \u001B[38;5;241m%\u001B[39m y_type)\n",
      "File \u001B[1;32m~\\OneDrive\\Dokumente\\GitHub\\BachelorThesis\\venv\\Lib\\site-packages\\sklearn\\metrics\\_classification.py:95\u001B[0m, in \u001B[0;36m_check_targets\u001B[1;34m(y_true, y_pred)\u001B[0m\n\u001B[0;32m     92\u001B[0m     y_type \u001B[38;5;241m=\u001B[39m {\u001B[38;5;124m\"\u001B[39m\u001B[38;5;124mmulticlass\u001B[39m\u001B[38;5;124m\"\u001B[39m}\n\u001B[0;32m     94\u001B[0m \u001B[38;5;28;01mif\u001B[39;00m \u001B[38;5;28mlen\u001B[39m(y_type) \u001B[38;5;241m>\u001B[39m \u001B[38;5;241m1\u001B[39m:\n\u001B[1;32m---> 95\u001B[0m     \u001B[38;5;28;01mraise\u001B[39;00m \u001B[38;5;167;01mValueError\u001B[39;00m(\n\u001B[0;32m     96\u001B[0m         \u001B[38;5;124m\"\u001B[39m\u001B[38;5;124mClassification metrics can\u001B[39m\u001B[38;5;124m'\u001B[39m\u001B[38;5;124mt handle a mix of \u001B[39m\u001B[38;5;132;01m{0}\u001B[39;00m\u001B[38;5;124m and \u001B[39m\u001B[38;5;132;01m{1}\u001B[39;00m\u001B[38;5;124m targets\u001B[39m\u001B[38;5;124m\"\u001B[39m\u001B[38;5;241m.\u001B[39mformat(\n\u001B[0;32m     97\u001B[0m             type_true, type_pred\n\u001B[0;32m     98\u001B[0m         )\n\u001B[0;32m     99\u001B[0m     )\n\u001B[0;32m    101\u001B[0m \u001B[38;5;66;03m# We can't have more than one value on y_type => The set is no more needed\u001B[39;00m\n\u001B[0;32m    102\u001B[0m y_type \u001B[38;5;241m=\u001B[39m y_type\u001B[38;5;241m.\u001B[39mpop()\n",
      "\u001B[1;31mValueError\u001B[0m: Classification metrics can't handle a mix of multiclass and unknown targets"
     ]
    }
   ],
   "source": [
    "from sklearn.metrics import classification_report, confusion_matrix, accuracy_score, precision_score, recall_score, f1_score, ConfusionMatrixDisplay\n",
    "import seaborn as sn\n",
    "\n",
    "true_labels = predict_df['true_label']\n",
    "predicted_labels = predict_df['pred_label']\n",
    "\n",
    "\n",
    "cm = confusion_matrix(true_labels, predicted_labels)\n",
    "print(cm)\n",
    "print(\"Accuracy: \", accuracy_score(true_labels, predicted_labels))\n",
    "# TODO calculate for score for each class (and/or average)\n",
    "# TODO lookup logic for weighted, macro etc. -> presentation\n",
    "print(\"Precision_weighted: \", precision_score(true_labels, predicted_labels, average='weighted'))\n",
    "print(\"Recall_weighted: \", recall_score(true_labels, predicted_labels, average='weighted'))\n",
    "print(\"F1_weighted: \", f1_score(true_labels, predicted_labels, average='weighted'))\n",
    "disp = ConfusionMatrixDisplay(confusion_matrix=cm, display_labels=class_names)\n",
    "disp.plot(cmap=plt.cm.Blues, xticks_rotation=45)\n",
    "# add legend title and axis labels\n",
    "plt.xlabel('Predicted Label')\n",
    "plt.ylabel('True Label')\n",
    "plt.title('Confusion Matrix')\n",
    "# plt.colorbar(label=\"Number of Samples\")\n",
    "plt.show()\n",
    "\n",
    "\n",
    "#sn.heatmap(cm2, annot=True, cmap=\"crest\")\n",
    "# TODO  check if most abundant is chosen"
   ],
   "metadata": {
    "collapsed": false,
    "ExecuteTime": {
     "end_time": "2023-09-04T15:41:09.094102900Z",
     "start_time": "2023-09-04T15:41:08.718077900Z"
    }
   }
  },
  {
   "cell_type": "code",
   "execution_count": 124,
   "outputs": [],
   "source": [
    "# TopK-Metrics\n",
    "# iterate over all rows in predict_df and compare true_label with topK and set column topK_inference to either True or False\n",
    "predict_df['topK_inference'] = None\n",
    "for index, row in predict_df.iterrows():\n",
    "        if row['pred_label'] is None or row['prediction'] is None:\n",
    "            predict_df.at[index, 'topK_inference'] = None\n",
    "        elif row['pred_label'] in row['topK']:\n",
    "            predict_df.at[index, 'topK_inference'] = True\n",
    "        else:\n",
    "            predict_df.at[index, 'topK_inference'] = False\n",
    "            #print(row['prediction'], row['pred_label'], row['topK'])\n"
   ],
   "metadata": {
    "collapsed": false,
    "ExecuteTime": {
     "end_time": "2023-09-04T15:41:17.197471200Z",
     "start_time": "2023-09-04T15:41:12.853526400Z"
    }
   }
  },
  {
   "cell_type": "code",
   "execution_count": 125,
   "outputs": [
    {
     "ename": "KeyError",
     "evalue": "True",
     "output_type": "error",
     "traceback": [
      "\u001B[1;31m---------------------------------------------------------------------------\u001B[0m",
      "\u001B[1;31mKeyError\u001B[0m                                  Traceback (most recent call last)",
      "File \u001B[1;32m~\\OneDrive\\Dokumente\\GitHub\\BachelorThesis\\venv\\Lib\\site-packages\\pandas\\core\\indexes\\base.py:3802\u001B[0m, in \u001B[0;36mIndex.get_loc\u001B[1;34m(self, key, method, tolerance)\u001B[0m\n\u001B[0;32m   3801\u001B[0m \u001B[38;5;28;01mtry\u001B[39;00m:\n\u001B[1;32m-> 3802\u001B[0m     \u001B[38;5;28;01mreturn\u001B[39;00m \u001B[38;5;28;43mself\u001B[39;49m\u001B[38;5;241;43m.\u001B[39;49m\u001B[43m_engine\u001B[49m\u001B[38;5;241;43m.\u001B[39;49m\u001B[43mget_loc\u001B[49m\u001B[43m(\u001B[49m\u001B[43mcasted_key\u001B[49m\u001B[43m)\u001B[49m\n\u001B[0;32m   3803\u001B[0m \u001B[38;5;28;01mexcept\u001B[39;00m \u001B[38;5;167;01mKeyError\u001B[39;00m \u001B[38;5;28;01mas\u001B[39;00m err:\n",
      "File \u001B[1;32m~\\OneDrive\\Dokumente\\GitHub\\BachelorThesis\\venv\\Lib\\site-packages\\pandas\\_libs\\index.pyx:138\u001B[0m, in \u001B[0;36mpandas._libs.index.IndexEngine.get_loc\u001B[1;34m()\u001B[0m\n",
      "File \u001B[1;32m~\\OneDrive\\Dokumente\\GitHub\\BachelorThesis\\venv\\Lib\\site-packages\\pandas\\_libs\\index.pyx:165\u001B[0m, in \u001B[0;36mpandas._libs.index.IndexEngine.get_loc\u001B[1;34m()\u001B[0m\n",
      "File \u001B[1;32mpandas\\_libs\\hashtable_class_helper.pxi:5745\u001B[0m, in \u001B[0;36mpandas._libs.hashtable.PyObjectHashTable.get_item\u001B[1;34m()\u001B[0m\n",
      "File \u001B[1;32mpandas\\_libs\\hashtable_class_helper.pxi:5753\u001B[0m, in \u001B[0;36mpandas._libs.hashtable.PyObjectHashTable.get_item\u001B[1;34m()\u001B[0m\n",
      "\u001B[1;31mKeyError\u001B[0m: True",
      "\nThe above exception was the direct cause of the following exception:\n",
      "\u001B[1;31mKeyError\u001B[0m                                  Traceback (most recent call last)",
      "Cell \u001B[1;32mIn[125], line 2\u001B[0m\n\u001B[0;32m      1\u001B[0m \u001B[38;5;66;03m# calculate accuracy for topK_inference\u001B[39;00m\n\u001B[1;32m----> 2\u001B[0m topK_true \u001B[38;5;241m=\u001B[39m \u001B[43mpredict_df\u001B[49m\u001B[43m[\u001B[49m\u001B[38;5;124;43m'\u001B[39;49m\u001B[38;5;124;43mtopK_inference\u001B[39;49m\u001B[38;5;124;43m'\u001B[39;49m\u001B[43m]\u001B[49m\u001B[38;5;241;43m.\u001B[39;49m\u001B[43mvalue_counts\u001B[49m\u001B[43m(\u001B[49m\u001B[43m)\u001B[49m\u001B[43m[\u001B[49m\u001B[38;5;28;43;01mTrue\u001B[39;49;00m\u001B[43m]\u001B[49m \n\u001B[0;32m      3\u001B[0m topK_false \u001B[38;5;241m=\u001B[39m predict_df[\u001B[38;5;124m'\u001B[39m\u001B[38;5;124mtopK_inference\u001B[39m\u001B[38;5;124m'\u001B[39m]\u001B[38;5;241m.\u001B[39mvalue_counts()[\u001B[38;5;28;01mFalse\u001B[39;00m]\n\u001B[0;32m      4\u001B[0m topK_total \u001B[38;5;241m=\u001B[39m topK_true \u001B[38;5;241m+\u001B[39m topK_false\n",
      "File \u001B[1;32m~\\OneDrive\\Dokumente\\GitHub\\BachelorThesis\\venv\\Lib\\site-packages\\pandas\\core\\series.py:981\u001B[0m, in \u001B[0;36mSeries.__getitem__\u001B[1;34m(self, key)\u001B[0m\n\u001B[0;32m    978\u001B[0m     \u001B[38;5;28;01mreturn\u001B[39;00m \u001B[38;5;28mself\u001B[39m\u001B[38;5;241m.\u001B[39m_values[key]\n\u001B[0;32m    980\u001B[0m \u001B[38;5;28;01melif\u001B[39;00m key_is_scalar:\n\u001B[1;32m--> 981\u001B[0m     \u001B[38;5;28;01mreturn\u001B[39;00m \u001B[38;5;28;43mself\u001B[39;49m\u001B[38;5;241;43m.\u001B[39;49m\u001B[43m_get_value\u001B[49m\u001B[43m(\u001B[49m\u001B[43mkey\u001B[49m\u001B[43m)\u001B[49m\n\u001B[0;32m    983\u001B[0m \u001B[38;5;28;01mif\u001B[39;00m is_hashable(key):\n\u001B[0;32m    984\u001B[0m     \u001B[38;5;66;03m# Otherwise index.get_value will raise InvalidIndexError\u001B[39;00m\n\u001B[0;32m    985\u001B[0m     \u001B[38;5;28;01mtry\u001B[39;00m:\n\u001B[0;32m    986\u001B[0m         \u001B[38;5;66;03m# For labels that don't resolve as scalars like tuples and frozensets\u001B[39;00m\n",
      "File \u001B[1;32m~\\OneDrive\\Dokumente\\GitHub\\BachelorThesis\\venv\\Lib\\site-packages\\pandas\\core\\series.py:1089\u001B[0m, in \u001B[0;36mSeries._get_value\u001B[1;34m(self, label, takeable)\u001B[0m\n\u001B[0;32m   1086\u001B[0m     \u001B[38;5;28;01mreturn\u001B[39;00m \u001B[38;5;28mself\u001B[39m\u001B[38;5;241m.\u001B[39m_values[label]\n\u001B[0;32m   1088\u001B[0m \u001B[38;5;66;03m# Similar to Index.get_value, but we do not fall back to positional\u001B[39;00m\n\u001B[1;32m-> 1089\u001B[0m loc \u001B[38;5;241m=\u001B[39m \u001B[38;5;28;43mself\u001B[39;49m\u001B[38;5;241;43m.\u001B[39;49m\u001B[43mindex\u001B[49m\u001B[38;5;241;43m.\u001B[39;49m\u001B[43mget_loc\u001B[49m\u001B[43m(\u001B[49m\u001B[43mlabel\u001B[49m\u001B[43m)\u001B[49m\n\u001B[0;32m   1090\u001B[0m \u001B[38;5;28;01mreturn\u001B[39;00m \u001B[38;5;28mself\u001B[39m\u001B[38;5;241m.\u001B[39mindex\u001B[38;5;241m.\u001B[39m_get_values_for_loc(\u001B[38;5;28mself\u001B[39m, loc, label)\n",
      "File \u001B[1;32m~\\OneDrive\\Dokumente\\GitHub\\BachelorThesis\\venv\\Lib\\site-packages\\pandas\\core\\indexes\\base.py:3804\u001B[0m, in \u001B[0;36mIndex.get_loc\u001B[1;34m(self, key, method, tolerance)\u001B[0m\n\u001B[0;32m   3802\u001B[0m     \u001B[38;5;28;01mreturn\u001B[39;00m \u001B[38;5;28mself\u001B[39m\u001B[38;5;241m.\u001B[39m_engine\u001B[38;5;241m.\u001B[39mget_loc(casted_key)\n\u001B[0;32m   3803\u001B[0m \u001B[38;5;28;01mexcept\u001B[39;00m \u001B[38;5;167;01mKeyError\u001B[39;00m \u001B[38;5;28;01mas\u001B[39;00m err:\n\u001B[1;32m-> 3804\u001B[0m     \u001B[38;5;28;01mraise\u001B[39;00m \u001B[38;5;167;01mKeyError\u001B[39;00m(key) \u001B[38;5;28;01mfrom\u001B[39;00m \u001B[38;5;21;01merr\u001B[39;00m\n\u001B[0;32m   3805\u001B[0m \u001B[38;5;28;01mexcept\u001B[39;00m \u001B[38;5;167;01mTypeError\u001B[39;00m:\n\u001B[0;32m   3806\u001B[0m     \u001B[38;5;66;03m# If we have a listlike key, _check_indexing_error will raise\u001B[39;00m\n\u001B[0;32m   3807\u001B[0m     \u001B[38;5;66;03m#  InvalidIndexError. Otherwise we fall through and re-raise\u001B[39;00m\n\u001B[0;32m   3808\u001B[0m     \u001B[38;5;66;03m#  the TypeError.\u001B[39;00m\n\u001B[0;32m   3809\u001B[0m     \u001B[38;5;28mself\u001B[39m\u001B[38;5;241m.\u001B[39m_check_indexing_error(key)\n",
      "\u001B[1;31mKeyError\u001B[0m: True"
     ]
    }
   ],
   "source": [
    "# calculate accuracy for topK_inference\n",
    "topK_true = predict_df['topK_inference'].value_counts()[True] \n",
    "topK_false = predict_df['topK_inference'].value_counts()[False]\n",
    "topK_total = topK_true + topK_false\n",
    "print(\"Correct: \", topK_true, \"Wrong: \", topK_false, \"Total: \",topK_total)\n",
    "\n",
    "topK_accuracy = predict_df['topK_inference'].value_counts()[True] / (predict_df['topK_inference'].value_counts()[True] + predict_df['topK_inference'].value_counts()[False])\n",
    "print(\"TopK-Accuracy: \", topK_accuracy)"
   ],
   "metadata": {
    "collapsed": false,
    "ExecuteTime": {
     "end_time": "2023-09-04T15:41:20.009868600Z",
     "start_time": "2023-09-04T15:41:19.426337600Z"
    }
   }
  },
  {
   "cell_type": "code",
   "execution_count": 126,
   "outputs": [
    {
     "data": {
      "text/plain": "                            modified_sequence_vector  true_label pred_label  \\\n0  [4, 18, 1, 1, 1, 15, 1, 1, 4, 17, 4, 0, 0, 0, ...           2       None   \n1  [16, 12, 16, 10, 15, 10, 16, 10, 8, 6, 3, 15, ...           2       None   \n2  [4, 22, 10, 17, 15, 1, 8, 9, 17, 14, 10, 18, 1...           3       None   \n3  [8, 13, 15, 18, 17, 17, 13, 10, 16, 16, 10, 0,...           2       None   \n\n  prediction           modified_sequence  seq_length  \\\n0       None                 EVAAARAAETE          11   \n1       None                SNSLRLSLIGDR          12   \n2       None  EM[UNIMOD:35]LTRAIKTQLVLLT          15   \n3       None                 IPRVTTPLSSL          11   \n\n                       normalized    topK topK_inference  \n0                  {2: 2308078.0}     [2]           None  \n1  {3: 15888960.0, 2: 41187530.0}  [2, 3]           None  \n2   {3: 48770720.0, 2: 7114500.0}  [3, 2]           None  \n3                  {2: 9628667.0}     [2]           None  ",
      "text/html": "<div>\n<style scoped>\n    .dataframe tbody tr th:only-of-type {\n        vertical-align: middle;\n    }\n\n    .dataframe tbody tr th {\n        vertical-align: top;\n    }\n\n    .dataframe thead th {\n        text-align: right;\n    }\n</style>\n<table border=\"1\" class=\"dataframe\">\n  <thead>\n    <tr style=\"text-align: right;\">\n      <th></th>\n      <th>modified_sequence_vector</th>\n      <th>true_label</th>\n      <th>pred_label</th>\n      <th>prediction</th>\n      <th>modified_sequence</th>\n      <th>seq_length</th>\n      <th>normalized</th>\n      <th>topK</th>\n      <th>topK_inference</th>\n    </tr>\n  </thead>\n  <tbody>\n    <tr>\n      <th>0</th>\n      <td>[4, 18, 1, 1, 1, 15, 1, 1, 4, 17, 4, 0, 0, 0, ...</td>\n      <td>2</td>\n      <td>None</td>\n      <td>None</td>\n      <td>EVAAARAAETE</td>\n      <td>11</td>\n      <td>{2: 2308078.0}</td>\n      <td>[2]</td>\n      <td>None</td>\n    </tr>\n    <tr>\n      <th>1</th>\n      <td>[16, 12, 16, 10, 15, 10, 16, 10, 8, 6, 3, 15, ...</td>\n      <td>2</td>\n      <td>None</td>\n      <td>None</td>\n      <td>SNSLRLSLIGDR</td>\n      <td>12</td>\n      <td>{3: 15888960.0, 2: 41187530.0}</td>\n      <td>[2, 3]</td>\n      <td>None</td>\n    </tr>\n    <tr>\n      <th>2</th>\n      <td>[4, 22, 10, 17, 15, 1, 8, 9, 17, 14, 10, 18, 1...</td>\n      <td>3</td>\n      <td>None</td>\n      <td>None</td>\n      <td>EM[UNIMOD:35]LTRAIKTQLVLLT</td>\n      <td>15</td>\n      <td>{3: 48770720.0, 2: 7114500.0}</td>\n      <td>[3, 2]</td>\n      <td>None</td>\n    </tr>\n    <tr>\n      <th>3</th>\n      <td>[8, 13, 15, 18, 17, 17, 13, 10, 16, 16, 10, 0,...</td>\n      <td>2</td>\n      <td>None</td>\n      <td>None</td>\n      <td>IPRVTTPLSSL</td>\n      <td>11</td>\n      <td>{2: 9628667.0}</td>\n      <td>[2]</td>\n      <td>None</td>\n    </tr>\n  </tbody>\n</table>\n</div>"
     },
     "execution_count": 126,
     "metadata": {},
     "output_type": "execute_result"
    }
   ],
   "source": [
    "predict_df.head(4)"
   ],
   "metadata": {
    "collapsed": false,
    "ExecuteTime": {
     "end_time": "2023-09-04T15:41:23.804313100Z",
     "start_time": "2023-09-04T15:41:23.466307700Z"
    }
   }
  },
  {
   "cell_type": "markdown",
   "source": [
    "# Error for each class due to sequence length"
   ],
   "metadata": {
    "collapsed": false
   }
  },
  {
   "cell_type": "code",
   "execution_count": 127,
   "outputs": [
    {
     "name": "stdout",
     "output_type": "stream",
     "text": [
      "35 83082\n",
      "7890\n",
      "0\n"
     ]
    }
   ],
   "source": [
    "# calculate error for each class corresponding to sequence length, TODO normalize for sequence length occurence\n",
    "seq_len_dict = dict()\n",
    "seq_len_correct = dict()\n",
    "for index, length in predict_df['seq_length'].items():\n",
    "    if length in seq_len_dict:\n",
    "        seq_len_dict[length] += 1\n",
    "        if predict_df.at[index, 'true_label'] == predict_df.at[index, 'pred_label']:\n",
    "            seq_len_correct[length] += 1\n",
    "    else:\n",
    "        seq_len_dict[length] = 1\n",
    "        if predict_df.at[index, 'true_label'] == predict_df.at[index, 'pred_label']:\n",
    "            seq_len_correct[length] = 1\n",
    "        else:\n",
    "            seq_len_correct[length] = 0\n",
    "\n",
    "print(len(seq_len_dict), sum(seq_len_dict.values()))\n",
    "print(seq_len_dict[11])\n",
    "print(seq_len_correct[11])"
   ],
   "metadata": {
    "collapsed": false,
    "ExecuteTime": {
     "end_time": "2023-09-04T15:41:32.190916200Z",
     "start_time": "2023-09-04T15:41:31.271996600Z"
    }
   }
  },
  {
   "cell_type": "code",
   "execution_count": 128,
   "outputs": [
    {
     "data": {
      "text/plain": "<matplotlib.collections.PathCollection at 0x28af03bb4d0>"
     },
     "execution_count": 128,
     "metadata": {},
     "output_type": "execute_result"
    },
    {
     "data": {
      "text/plain": "<Figure size 640x480 with 2 Axes>",
      "image/png": "[encoded data removed]"
     },
     "metadata": {},
     "output_type": "display_data"
    }
   ],
   "source": [
    "correct_matches = dict()\n",
    "for key, value in seq_len_dict.items():\n",
    "    correct_matches[key] = seq_len_correct[key] / value\n",
    "# plot in pyplot seq_len_dict vs seq_len_correct\n",
    "import matplotlib.pyplot as plt\n",
    "\n",
    "plt.xlabel('Sequence Length')\n",
    "plt.ylabel('Accuracy')\n",
    "#label for color\n",
    "plt.title('Accuracy per Sequence Length')\n",
    "\n",
    "\n",
    "plt.colorbar(plt.scatter(list(seq_len_dict.keys()), list(correct_matches.values()), c=list(seq_len_dict.values()), cmap='viridis', label=\"all\"))\n",
    "plt.scatter(list(seq_len_dict.keys()), list(correct_matches.values()), c=list(seq_len_dict.values()), cmap='viridis', label=\"all\")"
   ],
   "metadata": {
    "collapsed": false,
    "ExecuteTime": {
     "end_time": "2023-09-04T15:41:35.120949300Z",
     "start_time": "2023-09-04T15:41:34.604953500Z"
    }
   }
  },
  {
   "cell_type": "markdown",
   "source": [],
   "metadata": {
    "collapsed": false
   }
  },
  {
   "cell_type": "markdown",
   "source": [
    "# TOPK: Error for each class due to sequence length"
   ],
   "metadata": {
    "collapsed": false
   }
  },
  {
   "cell_type": "code",
   "execution_count": 205,
   "outputs": [
    {
     "data": {
      "text/plain": "                                modified_sequence_vector  true_label  \\\n83078  [17, 21, 10, 8, 21, 6, 3, 15, 0, 0, 0, 0, 0, 0...           2   \n83079  [9, 7, 6, 18, 16, 19, 17, 13, 4, 4, 18, 4, 4, ...           4   \n83080  [20, 18, 8, 4, 16, 16, 16, 7, 17, 13, 4, 10, 1...           3   \n83081  [12, 18, 16, 3, 1, 18, 1, 14, 16, 17, 15, 0, 0...           2   \n\n       pred_label                                         prediction  \\\n83078           2  [[0.0040206457, 0.9952087, 0.000769298, 1.4628...   \n83079           4  [[3.4637687e-10, 0.010105232, 0.2159436, 0.734...   \n83080           3  [[8.8233566e-05, 0.37959668, 0.5992538, 0.0210...   \n83081           2  [[0.041889735, 0.9399164, 0.018157395, 3.64850...   \n\n                  modified_sequence  seq_length  \\\n83078  TC[UNIMOD:4]LIC[UNIMOD:4]GDR           8   \n83079              KHGVSWTPEEVEEARR          16   \n83080                YVIESSSHTPELAR          14   \n83081                   NVSDAVAQSTR          11   \n\n                          normalized    topK topK_inference  \n83078                {2: 35569180.0}     [2]           True  \n83079                {4: 92606430.0}     [4]           True  \n83080  {2: 7530969.0, 3: 13415830.0}  [3, 2]           True  \n83081   {1: 1124792.0, 2: 5351471.0}  [2, 1]           True  ",
      "text/html": "<div>\n<style scoped>\n    .dataframe tbody tr th:only-of-type {\n        vertical-align: middle;\n    }\n\n    .dataframe tbody tr th {\n        vertical-align: top;\n    }\n\n    .dataframe thead th {\n        text-align: right;\n    }\n</style>\n<table border=\"1\" class=\"dataframe\">\n  <thead>\n    <tr style=\"text-align: right;\">\n      <th></th>\n      <th>modified_sequence_vector</th>\n      <th>true_label</th>\n      <th>pred_label</th>\n      <th>prediction</th>\n      <th>modified_sequence</th>\n      <th>seq_length</th>\n      <th>normalized</th>\n      <th>topK</th>\n      <th>topK_inference</th>\n    </tr>\n  </thead>\n  <tbody>\n    <tr>\n      <th>83078</th>\n      <td>[17, 21, 10, 8, 21, 6, 3, 15, 0, 0, 0, 0, 0, 0...</td>\n      <td>2</td>\n      <td>2</td>\n      <td>[[0.0040206457, 0.9952087, 0.000769298, 1.4628...</td>\n      <td>TC[UNIMOD:4]LIC[UNIMOD:4]GDR</td>\n      <td>8</td>\n      <td>{2: 35569180.0}</td>\n      <td>[2]</td>\n      <td>True</td>\n    </tr>\n    <tr>\n      <th>83079</th>\n      <td>[9, 7, 6, 18, 16, 19, 17, 13, 4, 4, 18, 4, 4, ...</td>\n      <td>4</td>\n      <td>4</td>\n      <td>[[3.4637687e-10, 0.010105232, 0.2159436, 0.734...</td>\n      <td>KHGVSWTPEEVEEARR</td>\n      <td>16</td>\n      <td>{4: 92606430.0}</td>\n      <td>[4]</td>\n      <td>True</td>\n    </tr>\n    <tr>\n      <th>83080</th>\n      <td>[20, 18, 8, 4, 16, 16, 16, 7, 17, 13, 4, 10, 1...</td>\n      <td>3</td>\n      <td>3</td>\n      <td>[[8.8233566e-05, 0.37959668, 0.5992538, 0.0210...</td>\n      <td>YVIESSSHTPELAR</td>\n      <td>14</td>\n      <td>{2: 7530969.0, 3: 13415830.0}</td>\n      <td>[3, 2]</td>\n      <td>True</td>\n    </tr>\n    <tr>\n      <th>83081</th>\n      <td>[12, 18, 16, 3, 1, 18, 1, 14, 16, 17, 15, 0, 0...</td>\n      <td>2</td>\n      <td>2</td>\n      <td>[[0.041889735, 0.9399164, 0.018157395, 3.64850...</td>\n      <td>NVSDAVAQSTR</td>\n      <td>11</td>\n      <td>{1: 1124792.0, 2: 5351471.0}</td>\n      <td>[2, 1]</td>\n      <td>True</td>\n    </tr>\n  </tbody>\n</table>\n</div>"
     },
     "execution_count": 205,
     "metadata": {},
     "output_type": "execute_result"
    }
   ],
   "source": [
    "predict_df.tail(4)"
   ],
   "metadata": {
    "collapsed": false,
    "ExecuteTime": {
     "end_time": "2023-08-30T11:05:10.904253400Z",
     "start_time": "2023-08-30T11:05:10.629430300Z"
    }
   }
  },
  {
   "cell_type": "code",
   "execution_count": 206,
   "outputs": [
    {
     "name": "stdout",
     "output_type": "stream",
     "text": [
      "35 83082\n",
      "7890\n",
      "7652\n"
     ]
    }
   ],
   "source": [
    "# calculate error for each class corresponding to sequence length, TODO normalize for sequence length occurence\n",
    "seq_len_dict = dict()\n",
    "seq_len_correct = dict()\n",
    "for index, length in predict_df['seq_length'].items():\n",
    "    if length in seq_len_dict:\n",
    "        seq_len_dict[length] += 1\n",
    "        if predict_df.at[index, 'topK_inference']:\n",
    "            seq_len_correct[length] += 1\n",
    "    else:\n",
    "        seq_len_dict[length] = 1\n",
    "        if predict_df.at[index, 'topK_inference']:\n",
    "            \n",
    "            seq_len_correct[length] = 1\n",
    "        else:\n",
    "            seq_len_correct[length] = 0\n",
    "print(len(seq_len_dict), sum(seq_len_dict.values()))\n",
    "print(seq_len_dict[11])\n",
    "print(seq_len_correct[11])"
   ],
   "metadata": {
    "collapsed": false,
    "ExecuteTime": {
     "end_time": "2023-08-30T11:05:12.546781800Z",
     "start_time": "2023-08-30T11:05:12.206568900Z"
    }
   }
  },
  {
   "cell_type": "code",
   "execution_count": 207,
   "outputs": [
    {
     "data": {
      "text/plain": "<matplotlib.collections.PathCollection at 0x2183765b3d0>"
     },
     "execution_count": 207,
     "metadata": {},
     "output_type": "execute_result"
    },
    {
     "data": {
      "text/plain": "<Figure size 640x480 with 2 Axes>",
      "image/png": "[encoded data removed]"
     },
     "metadata": {},
     "output_type": "display_data"
    }
   ],
   "source": [
    "correct_matches = dict()\n",
    "for key, value in seq_len_dict.items():\n",
    "    correct_matches[key] = seq_len_correct[key] / value\n",
    "# plot in pyplot seq_len_dict vs seq_len_correct\n",
    "import matplotlib.pyplot as plt\n",
    "\n",
    "plt.xlabel('Sequence Length')\n",
    "plt.ylabel('TopK Accuracy')\n",
    "#label for color\n",
    "plt.title('TopK Accuracy per Sequence Length')\n",
    "\n",
    "\n",
    "plt.colorbar(plt.scatter(list(seq_len_dict.keys()), list(correct_matches.values()), c=list(seq_len_dict.values()), cmap='viridis', label=\"all\"))\n",
    "plt.scatter(list(seq_len_dict.keys()), list(correct_matches.values()), c=list(seq_len_dict.values()), cmap='viridis', label=\"all\")"
   ],
   "metadata": {
    "collapsed": false,
    "ExecuteTime": {
     "end_time": "2023-08-30T11:05:14.881190600Z",
     "start_time": "2023-08-30T11:05:14.479817100Z"
    }
   }
  },
  {
   "cell_type": "code",
   "execution_count": 211,
   "outputs": [],
   "source": [
    "from sklearn.metrics import confusion_matrix\n",
    "\n",
    "new_df = pd.DataFrame(columns=['charge','accuracy'])\n",
    "\n",
    "new_df['charge'] = [1,2,3,4,5,6]\n",
    "new_df['precision'] = precision_score(true_labels, predicted_labels, average=None)\n",
    "new_df['recall'] = recall_score(true_labels, predicted_labels, average=None)\n",
    "new_df['f1'] = f1_score(true_labels, predicted_labels, average=None)\n"
   ],
   "metadata": {
    "collapsed": false,
    "ExecuteTime": {
     "end_time": "2023-08-30T11:08:42.613508800Z",
     "start_time": "2023-08-30T11:08:42.359906700Z"
    }
   }
  },
  {
   "cell_type": "code",
   "execution_count": 209,
   "outputs": [
    {
     "data": {
      "text/plain": "   charge  accuracy  precision    recall        f1\n0       1  0.668686   0.824813  0.668686  0.738589\n1       2  0.831385   0.878971  0.831385  0.854516\n2       3  0.799808   0.687836  0.799808  0.739608\n3       4  0.587729   0.640201  0.587729  0.612844\n4       5  0.345515   0.536082  0.345515  0.420202\n5       6  0.093407   0.531250  0.093407  0.158879",
      "text/html": "<div>\n<style scoped>\n    .dataframe tbody tr th:only-of-type {\n        vertical-align: middle;\n    }\n\n    .dataframe tbody tr th {\n        vertical-align: top;\n    }\n\n    .dataframe thead th {\n        text-align: right;\n    }\n</style>\n<table border=\"1\" class=\"dataframe\">\n  <thead>\n    <tr style=\"text-align: right;\">\n      <th></th>\n      <th>charge</th>\n      <th>accuracy</th>\n      <th>precision</th>\n      <th>recall</th>\n      <th>f1</th>\n    </tr>\n  </thead>\n  <tbody>\n    <tr>\n      <th>0</th>\n      <td>1</td>\n      <td>0.668686</td>\n      <td>0.824813</td>\n      <td>0.668686</td>\n      <td>0.738589</td>\n    </tr>\n    <tr>\n      <th>1</th>\n      <td>2</td>\n      <td>0.831385</td>\n      <td>0.878971</td>\n      <td>0.831385</td>\n      <td>0.854516</td>\n    </tr>\n    <tr>\n      <th>2</th>\n      <td>3</td>\n      <td>0.799808</td>\n      <td>0.687836</td>\n      <td>0.799808</td>\n      <td>0.739608</td>\n    </tr>\n    <tr>\n      <th>3</th>\n      <td>4</td>\n      <td>0.587729</td>\n      <td>0.640201</td>\n      <td>0.587729</td>\n      <td>0.612844</td>\n    </tr>\n    <tr>\n      <th>4</th>\n      <td>5</td>\n      <td>0.345515</td>\n      <td>0.536082</td>\n      <td>0.345515</td>\n      <td>0.420202</td>\n    </tr>\n    <tr>\n      <th>5</th>\n      <td>6</td>\n      <td>0.093407</td>\n      <td>0.531250</td>\n      <td>0.093407</td>\n      <td>0.158879</td>\n    </tr>\n  </tbody>\n</table>\n</div>"
     },
     "execution_count": 209,
     "metadata": {},
     "output_type": "execute_result"
    }
   ],
   "source": [
    "new_df # evaluation metrics per charge state (class)"
   ],
   "metadata": {
    "collapsed": false,
    "ExecuteTime": {
     "end_time": "2023-08-30T11:06:00.444408600Z",
     "start_time": "2023-08-30T11:06:00.282006700Z"
    }
   }
  },
  {
   "cell_type": "markdown",
   "source": [
    "# Outputs to compare with prosit"
   ],
   "metadata": {
    "collapsed": false
   }
  },
  {
   "cell_type": "code",
   "execution_count": null,
   "outputs": [],
   "source": [
    "train_df"
   ],
   "metadata": {
    "collapsed": false
   }
  },
  {
   "cell_type": "code",
   "execution_count": null,
   "outputs": [],
   "source": [
    "train_df = pd.DataFrame(columns=['modified_sequence', 'most_abundant_charge_vector', 'modified_sequence_vector'])\n",
    "train_df['modified_sequence'] = train_ds_embed_raw\n",
    "train_df['most_abundant_charge_vector'] = train_labels_embed.numpy().tolist()\n",
    "train_df['modified_sequence_vector'] = train_ds_embed.numpy().tolist()\n",
    "\n",
    "val_df = pd.DataFrame(columns=['modified_sequence', 'most_abundant_charge_vector', 'modified_sequence_vector'])\n",
    "val_df['modified_sequence'] = val_ds_embed_raw\n",
    "val_df['modified_sequence_vector'] = val_ds_embed.numpy().tolist()\n",
    "val_df['most_abundant_charge_vector'] = val_labels_embed.numpy().tolist()\n",
    "\n",
    "test_df = pd.DataFrame(columns=['modified_sequence', 'most_abundant_charge_vector', 'modified_sequence_vector'])\n",
    "test_df['modified_sequence'] = test_ds_embed_raw\n",
    "test_df['modified_sequence_vector'] = test_ds_embed.numpy().tolist()\n",
    "test_df['most_abundant_charge_vector'] = test_labels_embed.numpy().tolist()"
   ],
   "metadata": {
    "collapsed": false
   }
  },
  {
   "cell_type": "code",
   "execution_count": null,
   "outputs": [],
   "source": [
    "train_df.to_csv('comparison_files/train_df.tsv', sep=\"\\t\")\n",
    "val_df.to_csv('comparison_files/val_df.tsv', sep=\"\\t\")\n",
    "test_df.to_csv('comparison_files/test_df.tsv', sep=\"\\t\")"
   ],
   "metadata": {
    "collapsed": false
   }
  },
  {
   "cell_type": "code",
   "execution_count": null,
   "outputs": [],
   "source": [
    "print(len(train_df), len(val_df), len(test_df))"
   ],
   "metadata": {
    "collapsed": false
   }
  },
  {
   "cell_type": "markdown",
   "source": [
    "# KerasTuner"
   ],
   "metadata": {
    "collapsed": false
   }
  },
  {
   "cell_type": "code",
   "execution_count": 347,
   "outputs": [
    {
     "data": {
      "text/plain": "<IPython.core.display.HTML object>",
      "text/html": "Finishing last run (ID:g9nhfure) before initializing another..."
     },
     "metadata": {},
     "output_type": "display_data"
    },
    {
     "data": {
      "text/plain": "<IPython.core.display.HTML object>",
      "text/html": "Waiting for W&B process to finish... <strong style=\"color:green\">(success).</strong>"
     },
     "metadata": {},
     "output_type": "display_data"
    },
    {
     "data": {
      "text/plain": "<IPython.core.display.HTML object>",
      "text/html": "<style>\n    table.wandb td:nth-child(1) { padding: 0 10px; text-align: left ; width: auto;} td:nth-child(2) {text-align: left ; width: 100%}\n    .wandb-row { display: flex; flex-direction: row; flex-wrap: wrap; justify-content: flex-start; width: 100% }\n    .wandb-col { display: flex; flex-direction: column; flex-basis: 100%; flex: 1; padding: 10px; }\n    </style>\n<div class=\"wandb-row\"><div class=\"wandb-col\"><h3>Run history:</h3><br/><table class=\"wandb\"><tr><td>categorical_accuracy</td><td>▁▇██</td></tr><tr><td>epoch</td><td>▁▃▆█</td></tr><tr><td>loss</td><td>█▂▁▁</td></tr><tr><td>val_categorical_accuracy</td><td>▁█▇█</td></tr><tr><td>val_loss</td><td>█▃▃▁</td></tr></table><br/></div><div class=\"wandb-col\"><h3>Run summary:</h3><br/><table class=\"wandb\"><tr><td>best_epoch</td><td>3</td></tr><tr><td>best_val_loss</td><td>0.49986</td></tr><tr><td>categorical_accuracy</td><td>0.78662</td></tr><tr><td>epoch</td><td>3</td></tr><tr><td>loss</td><td>0.49983</td></tr><tr><td>val_categorical_accuracy</td><td>0.78522</td></tr><tr><td>val_loss</td><td>0.49986</td></tr></table><br/></div></div>"
     },
     "metadata": {},
     "output_type": "display_data"
    },
    {
     "data": {
      "text/plain": "<IPython.core.display.HTML object>",
      "text/html": " View run <strong style=\"color:#cdcd00\">flowing-butterfly-27</strong> at: <a href='https://wandb.ai/team-bioinf/precursor_charge_prediction_new/runs/g9nhfure' target=\"_blank\">https://wandb.ai/team-bioinf/precursor_charge_prediction_new/runs/g9nhfure</a><br/>Synced 5 W&B file(s), 1 media file(s), 22 artifact file(s) and 1 other file(s)"
     },
     "metadata": {},
     "output_type": "display_data"
    },
    {
     "data": {
      "text/plain": "<IPython.core.display.HTML object>",
      "text/html": "Find logs at: <code>.\\wandb\\run-20230824_173516-g9nhfure\\logs</code>"
     },
     "metadata": {},
     "output_type": "display_data"
    },
    {
     "data": {
      "text/plain": "<IPython.core.display.HTML object>",
      "text/html": "Successfully finished last run (ID:g9nhfure). Initializing new run:<br/>"
     },
     "metadata": {},
     "output_type": "display_data"
    },
    {
     "data": {
      "text/plain": "VBox(children=(Label(value='Waiting for wandb.init()...\\r'), FloatProgress(value=0.016666666666666666, max=1.0…",
      "application/vnd.jupyter.widget-view+json": {
       "version_major": 2,
       "version_minor": 0,
       "model_id": "9b07e85eaadf4ef486d0cfad1869f82c"
      }
     },
     "metadata": {},
     "output_type": "display_data"
    },
    {
     "data": {
      "text/plain": "<IPython.core.display.HTML object>",
      "text/html": "wandb version 0.15.8 is available!  To upgrade, please run:\n $ pip install wandb --upgrade"
     },
     "metadata": {},
     "output_type": "display_data"
    },
    {
     "data": {
      "text/plain": "<IPython.core.display.HTML object>",
      "text/html": "Tracking run with wandb version 0.15.5"
     },
     "metadata": {},
     "output_type": "display_data"
    },
    {
     "data": {
      "text/plain": "<IPython.core.display.HTML object>",
      "text/html": "Run data is saved locally in <code>C:\\Users\\micro\\OneDrive\\Dokumente\\GitHub\\Masterpraktikum\\wandb\\run-20230824_173627-ersdthg3</code>"
     },
     "metadata": {},
     "output_type": "display_data"
    },
    {
     "data": {
      "text/plain": "<IPython.core.display.HTML object>",
      "text/html": "Syncing run <strong><a href='https://wandb.ai/team-bioinf/precursor_charge_prediction_kerastuner/runs/ersdthg3' target=\"_blank\">bright-sun-1</a></strong> to <a href='https://wandb.ai/team-bioinf/precursor_charge_prediction_kerastuner' target=\"_blank\">Weights & Biases</a> (<a href='https://wandb.me/run' target=\"_blank\">docs</a>)<br/>"
     },
     "metadata": {},
     "output_type": "display_data"
    },
    {
     "data": {
      "text/plain": "<IPython.core.display.HTML object>",
      "text/html": " View project at <a href='https://wandb.ai/team-bioinf/precursor_charge_prediction_kerastuner' target=\"_blank\">https://wandb.ai/team-bioinf/precursor_charge_prediction_kerastuner</a>"
     },
     "metadata": {},
     "output_type": "display_data"
    },
    {
     "data": {
      "text/plain": "<IPython.core.display.HTML object>",
      "text/html": " View run at <a href='https://wandb.ai/team-bioinf/precursor_charge_prediction_kerastuner/runs/ersdthg3' target=\"_blank\">https://wandb.ai/team-bioinf/precursor_charge_prediction_kerastuner/runs/ersdthg3</a>"
     },
     "metadata": {},
     "output_type": "display_data"
    },
    {
     "data": {
      "text/html": "<button onClick=\"this.nextSibling.style.display='block';this.style.display='none';\">Display W&B run</button><iframe src='https://wandb.ai/team-bioinf/precursor_charge_prediction_kerastuner/runs/ersdthg3?jupyter=true' style='border:none;width:100%;height:420px;display:none;'></iframe>",
      "text/plain": "<wandb.sdk.wandb_run.Run at 0x28fa07ebad0>"
     },
     "execution_count": 347,
     "metadata": {},
     "output_type": "execute_result"
    }
   ],
   "source": [
    "wandb.init(project='precursor_charge_prediction_kerastuner')"
   ],
   "metadata": {
    "collapsed": false,
    "ExecuteTime": {
     "end_time": "2023-08-24T15:36:38.659456300Z",
     "start_time": "2023-08-24T15:36:27.111430900Z"
    }
   }
  },
  {
   "cell_type": "code",
   "execution_count": 348,
   "outputs": [
    {
     "name": "stdout",
     "output_type": "stream",
     "text": [
      "Trial 5 Complete [00h 02m 15s]\n",
      "val_loss: 0.5195921063423157\n",
      "\n",
      "Best val_loss So Far: 0.4886218508084615\n",
      "Total elapsed time: 00h 11m 30s\n",
      "INFO:tensorflow:Oracle triggered exit\n"
     ]
    },
    {
     "name": "stderr",
     "output_type": "stream",
     "text": [
      "INFO:tensorflow:Oracle triggered exit\n"
     ]
    }
   ],
   "source": [
    "import keras_tuner\n",
    "from tensorflow import keras\n",
    "from keras import Sequential, Model\n",
    "from keras.layers import Embedding, Flatten, Dense, Conv1D, Conv2D, MaxPooling1D, MaxPooling2D, Input, concatenate, Rescaling\n",
    "\n",
    "def build_model(hp):\n",
    "    model_kerastuner = keras.Sequential([\n",
    "    Embedding(input_dim=voc_len, output_dim=max_len_seq, input_length=max_len_seq),\n",
    "    Flatten(),\n",
    "    Dense(units=hp.Int('dense_1_units', min_value=63, max_value=256, step=16), activation='relu'),\n",
    "    Dense(num_classes, activation=\"softmax\")  # sigmoid for binary classification\n",
    "    ])\n",
    "\n",
    "    learning_rate = hp.Float(\"lr\", min_value=1e-4, max_value=1e-2, sampling=\"log\"),\n",
    "\n",
    "    model_kerastuner.compile(\n",
    "        optimizer=keras.optimizers.Adam(learning_rate=learning_rate),\n",
    "        loss=tf.keras.losses.CategoricalCrossentropy(),\n",
    "        metrics=[\"categorical_accuracy\"])\n",
    "\n",
    "    return model_kerastuner\n",
    "\n",
    "\n",
    "tuner = keras_tuner.RandomSearch(\n",
    "    build_model,\n",
    "    objective='val_loss',\n",
    "    max_trials=5,\n",
    "    overwrite=True,\n",
    "    executions_per_trial=3,\n",
    "    directory='output_tuner', )\n",
    "tuner.search(train_ds_embed, train_labels_embed, epochs=5, batch_size=4096, validation_data=(val_ds_embed, val_labels_embed), callbacks=[WandbCallback()]) #WandbCallback(\n",
    "best_model = tuner.get_best_models()[0]\n",
    "best_model_all = tuner.get_best_models()\n",
    "#hp.Choice('conv_3_kernel', values=[3, 10]), hp.Int('dense_1_units', min_value=32, max_value=128, step=16), hp.Float(\"lr\", min_value=1e-4, max_value=1e-2, sampling=\"log\")"
   ],
   "metadata": {
    "collapsed": false
   }
  },
  {
   "cell_type": "code",
   "execution_count": 351,
   "outputs": [
    {
     "name": "stdout",
     "output_type": "stream",
     "text": [
      "Model: \"sequential\"\n",
      "_________________________________________________________________\n",
      " Layer (type)                Output Shape              Param #   \n",
      "=================================================================\n",
      " embedding (Embedding)       (None, 63, 63)            1449      \n",
      "                                                                 \n",
      " flatten (Flatten)           (None, 3969)              0         \n",
      "                                                                 \n",
      " dense (Dense)               (None, 111)               440670    \n",
      "                                                                 \n",
      " dense_1 (Dense)             (None, 6)                 672       \n",
      "                                                                 \n",
      "=================================================================\n",
      "Total params: 442,791\n",
      "Trainable params: 442,791\n",
      "Non-trainable params: 0\n",
      "_________________________________________________________________\n"
     ]
    }
   ],
   "source": [
    "best_model.summary()"
   ],
   "metadata": {
    "collapsed": false,
    "ExecuteTime": {
     "end_time": "2023-08-24T15:52:17.317224800Z",
     "start_time": "2023-08-24T15:52:17.202696200Z"
    }
   }
  },
  {
   "cell_type": "markdown",
   "source": [
    "# IGNORE FROM HERE"
   ],
   "metadata": {
    "collapsed": false
   }
  },
  {
   "cell_type": "markdown",
   "source": [
    "## Check in with Franzi's group for reporting"
   ],
   "metadata": {
    "collapsed": false
   }
  },
  {
   "cell_type": "markdown",
   "source": [
    "### Multilable Model\n",
    "#### WIP in precursor_charge_predictor"
   ],
   "metadata": {
    "collapsed": false,
    "ExecuteTime": {
     "end_time": "2023-07-24T12:27:56.122188900Z",
     "start_time": "2023-07-24T12:27:55.994945600Z"
    }
   }
  },
  {
   "cell_type": "code",
   "execution_count": null,
   "outputs": [],
   "source": [],
   "metadata": {
    "collapsed": false
   }
  },
  {
   "cell_type": "markdown",
   "source": [
    "## Model Testing\n",
    "### check if models only predict charge 2 or also other charges. Due to 'overrepresentation' the best bet for the model could be to only output charge state 2"
   ],
   "metadata": {
    "collapsed": false,
    "ExecuteTime": {
     "end_time": "2023-07-24T12:28:17.283401900Z",
     "start_time": "2023-07-24T12:28:17.212145Z"
    }
   }
  },
  {
   "cell_type": "code",
   "execution_count": null,
   "outputs": [],
   "source": [],
   "metadata": {
    "collapsed": false
   }
  },
  {
   "cell_type": "markdown",
   "source": [
    "## Hyperparameter Tuning"
   ],
   "metadata": {
    "collapsed": false
   }
  },
  {
   "cell_type": "code",
   "execution_count": 121,
   "outputs": [],
   "source": [],
   "metadata": {
    "collapsed": false,
    "ExecuteTime": {
     "end_time": "2023-08-24T11:50:18.492988700Z",
     "start_time": "2023-08-24T11:50:11.833736Z"
    }
   }
  },
  {
   "cell_type": "markdown",
   "source": [],
   "metadata": {
    "collapsed": false
   }
  },
  {
   "cell_type": "code",
   "execution_count": 121,
   "outputs": [],
   "source": [],
   "metadata": {
    "collapsed": false,
    "ExecuteTime": {
     "end_time": "2023-08-24T11:50:18.493984400Z",
     "start_time": "2023-08-24T11:50:11.835747200Z"
    }
   }
  },
  {
   "cell_type": "markdown",
   "source": [
    "# Inference"
   ],
   "metadata": {
    "collapsed": false
   }
  },
  {
   "cell_type": "code",
   "execution_count": 122,
   "outputs": [
    {
     "data": {
      "text/plain": "2    1401912\n3     787278\n4     220159\n5      34381\n1      26371\n6       4417\nName: precursor_charge, dtype: int64"
     },
     "execution_count": 122,
     "metadata": {},
     "output_type": "execute_result"
    }
   ],
   "source": [
    "batches_parquet[file_list[1]][\"precursor_charge\"].value_counts()"
   ],
   "metadata": {
    "collapsed": false,
    "ExecuteTime": {
     "end_time": "2023-08-24T11:50:18.493984400Z",
     "start_time": "2023-08-24T11:50:11.837670600Z"
    }
   }
  },
  {
   "cell_type": "code",
   "execution_count": 123,
   "outputs": [],
   "source": [
    "last_model = keras.models.load_model('precursor_charge_prediction_model_embed/history_embed_150epoch_08102023.h5')"
   ],
   "metadata": {
    "collapsed": false,
    "ExecuteTime": {
     "end_time": "2023-08-24T11:50:18.493984400Z",
     "start_time": "2023-08-24T11:50:11.877419600Z"
    }
   }
  },
  {
   "cell_type": "code",
   "execution_count": 124,
   "outputs": [],
   "source": [
    "#layers = [layer.get_weights() for layer in last_model.layers]"
   ],
   "metadata": {
    "collapsed": false,
    "ExecuteTime": {
     "end_time": "2023-08-24T11:50:18.493984400Z",
     "start_time": "2023-08-24T11:50:11.948086800Z"
    }
   }
  },
  {
   "cell_type": "code",
   "execution_count": 125,
   "outputs": [
    {
     "data": {
      "text/plain": "dict_keys(['data/Thermo_SRM_Pool_meta_data.parquet', 'data/TUM_aspn_meta_data.parquet', 'data/TUM_first_pool_meta_data.parquet', 'data/TUM_HLA2_meta_data.parquet', 'data/TUM_HLA_meta_data.parquet', 'data/TUM_isoform_meta_data.parquet', 'data/TUM_lysn_meta_data.parquet', 'data/TUM_missing_first_meta_data.parquet', 'data/TUM_proteo_TMT_meta_data.parquet', 'data/TUM_second_addon_meta_data.parquet', 'data/TUM_second_pool_meta_data.parquet', 'data/TUM_third_pool_meta_data.parquet'])"
     },
     "execution_count": 125,
     "metadata": {},
     "output_type": "execute_result"
    }
   ],
   "source": [
    "batches_parquet.keys()"
   ],
   "metadata": {
    "collapsed": false,
    "ExecuteTime": {
     "end_time": "2023-08-24T11:50:18.493984400Z",
     "start_time": "2023-08-24T11:50:11.951862Z"
    }
   }
  },
  {
   "cell_type": "code",
   "execution_count": 126,
   "outputs": [
    {
     "ename": "KeyError",
     "evalue": "\"['modified_sequence_vector'] not in index\"",
     "output_type": "error",
     "traceback": [
      "\u001B[1;31m---------------------------------------------------------------------------\u001B[0m",
      "\u001B[1;31mKeyError\u001B[0m                                  Traceback (most recent call last)",
      "Cell \u001B[1;32mIn[126], line 2\u001B[0m\n\u001B[0;32m      1\u001B[0m \u001B[38;5;66;03m# Make validation data\u001B[39;00m\n\u001B[1;32m----> 2\u001B[0m inference_df \u001B[38;5;241m=\u001B[39m \u001B[43mbatches_parquet\u001B[49m\u001B[43m[\u001B[49m\u001B[43mfile_list\u001B[49m\u001B[43m[\u001B[49m\u001B[38;5;241;43m1\u001B[39;49m\u001B[43m]\u001B[49m\u001B[43m]\u001B[49m\u001B[43m[\u001B[49m\u001B[43m[\u001B[49m\u001B[38;5;124;43m\"\u001B[39;49m\u001B[38;5;124;43mprecursor_charge\u001B[39;49m\u001B[38;5;124;43m\"\u001B[39;49m\u001B[43m,\u001B[49m\u001B[43m \u001B[49m\u001B[38;5;124;43m\"\u001B[39;49m\u001B[38;5;124;43mmodified_sequence_vector\u001B[39;49m\u001B[38;5;124;43m\"\u001B[39;49m\u001B[43m,\u001B[49m\u001B[43m \u001B[49m\u001B[38;5;124;43m\"\u001B[39;49m\u001B[38;5;124;43mprecursor_intensity\u001B[39;49m\u001B[38;5;124;43m\"\u001B[39;49m\u001B[43m]\u001B[49m\u001B[43m]\u001B[49m\u001B[38;5;241m.\u001B[39mcopy()\n",
      "File \u001B[1;32m~\\OneDrive\\Dokumente\\GitHub\\BachelorThesis\\venv\\Lib\\site-packages\\pandas\\core\\frame.py:3813\u001B[0m, in \u001B[0;36mDataFrame.__getitem__\u001B[1;34m(self, key)\u001B[0m\n\u001B[0;32m   3811\u001B[0m     \u001B[38;5;28;01mif\u001B[39;00m is_iterator(key):\n\u001B[0;32m   3812\u001B[0m         key \u001B[38;5;241m=\u001B[39m \u001B[38;5;28mlist\u001B[39m(key)\n\u001B[1;32m-> 3813\u001B[0m     indexer \u001B[38;5;241m=\u001B[39m \u001B[38;5;28;43mself\u001B[39;49m\u001B[38;5;241;43m.\u001B[39;49m\u001B[43mcolumns\u001B[49m\u001B[38;5;241;43m.\u001B[39;49m\u001B[43m_get_indexer_strict\u001B[49m\u001B[43m(\u001B[49m\u001B[43mkey\u001B[49m\u001B[43m,\u001B[49m\u001B[43m \u001B[49m\u001B[38;5;124;43m\"\u001B[39;49m\u001B[38;5;124;43mcolumns\u001B[39;49m\u001B[38;5;124;43m\"\u001B[39;49m\u001B[43m)\u001B[49m[\u001B[38;5;241m1\u001B[39m]\n\u001B[0;32m   3815\u001B[0m \u001B[38;5;66;03m# take() does not accept boolean indexers\u001B[39;00m\n\u001B[0;32m   3816\u001B[0m \u001B[38;5;28;01mif\u001B[39;00m \u001B[38;5;28mgetattr\u001B[39m(indexer, \u001B[38;5;124m\"\u001B[39m\u001B[38;5;124mdtype\u001B[39m\u001B[38;5;124m\"\u001B[39m, \u001B[38;5;28;01mNone\u001B[39;00m) \u001B[38;5;241m==\u001B[39m \u001B[38;5;28mbool\u001B[39m:\n",
      "File \u001B[1;32m~\\OneDrive\\Dokumente\\GitHub\\BachelorThesis\\venv\\Lib\\site-packages\\pandas\\core\\indexes\\base.py:6070\u001B[0m, in \u001B[0;36mIndex._get_indexer_strict\u001B[1;34m(self, key, axis_name)\u001B[0m\n\u001B[0;32m   6067\u001B[0m \u001B[38;5;28;01melse\u001B[39;00m:\n\u001B[0;32m   6068\u001B[0m     keyarr, indexer, new_indexer \u001B[38;5;241m=\u001B[39m \u001B[38;5;28mself\u001B[39m\u001B[38;5;241m.\u001B[39m_reindex_non_unique(keyarr)\n\u001B[1;32m-> 6070\u001B[0m \u001B[38;5;28;43mself\u001B[39;49m\u001B[38;5;241;43m.\u001B[39;49m\u001B[43m_raise_if_missing\u001B[49m\u001B[43m(\u001B[49m\u001B[43mkeyarr\u001B[49m\u001B[43m,\u001B[49m\u001B[43m \u001B[49m\u001B[43mindexer\u001B[49m\u001B[43m,\u001B[49m\u001B[43m \u001B[49m\u001B[43maxis_name\u001B[49m\u001B[43m)\u001B[49m\n\u001B[0;32m   6072\u001B[0m keyarr \u001B[38;5;241m=\u001B[39m \u001B[38;5;28mself\u001B[39m\u001B[38;5;241m.\u001B[39mtake(indexer)\n\u001B[0;32m   6073\u001B[0m \u001B[38;5;28;01mif\u001B[39;00m \u001B[38;5;28misinstance\u001B[39m(key, Index):\n\u001B[0;32m   6074\u001B[0m     \u001B[38;5;66;03m# GH 42790 - Preserve name from an Index\u001B[39;00m\n",
      "File \u001B[1;32m~\\OneDrive\\Dokumente\\GitHub\\BachelorThesis\\venv\\Lib\\site-packages\\pandas\\core\\indexes\\base.py:6133\u001B[0m, in \u001B[0;36mIndex._raise_if_missing\u001B[1;34m(self, key, indexer, axis_name)\u001B[0m\n\u001B[0;32m   6130\u001B[0m     \u001B[38;5;28;01mraise\u001B[39;00m \u001B[38;5;167;01mKeyError\u001B[39;00m(\u001B[38;5;124mf\u001B[39m\u001B[38;5;124m\"\u001B[39m\u001B[38;5;124mNone of [\u001B[39m\u001B[38;5;132;01m{\u001B[39;00mkey\u001B[38;5;132;01m}\u001B[39;00m\u001B[38;5;124m] are in the [\u001B[39m\u001B[38;5;132;01m{\u001B[39;00maxis_name\u001B[38;5;132;01m}\u001B[39;00m\u001B[38;5;124m]\u001B[39m\u001B[38;5;124m\"\u001B[39m)\n\u001B[0;32m   6132\u001B[0m not_found \u001B[38;5;241m=\u001B[39m \u001B[38;5;28mlist\u001B[39m(ensure_index(key)[missing_mask\u001B[38;5;241m.\u001B[39mnonzero()[\u001B[38;5;241m0\u001B[39m]]\u001B[38;5;241m.\u001B[39munique())\n\u001B[1;32m-> 6133\u001B[0m \u001B[38;5;28;01mraise\u001B[39;00m \u001B[38;5;167;01mKeyError\u001B[39;00m(\u001B[38;5;124mf\u001B[39m\u001B[38;5;124m\"\u001B[39m\u001B[38;5;132;01m{\u001B[39;00mnot_found\u001B[38;5;132;01m}\u001B[39;00m\u001B[38;5;124m not in index\u001B[39m\u001B[38;5;124m\"\u001B[39m)\n",
      "\u001B[1;31mKeyError\u001B[0m: \"['modified_sequence_vector'] not in index\""
     ]
    }
   ],
   "source": [
    "# Make validation data\n",
    "inference_df = batches_parquet[file_list[1]][[\"precursor_charge\", \"modified_sequence_vector\", \"precursor_intensity\"]].copy()"
   ],
   "metadata": {
    "collapsed": false,
    "ExecuteTime": {
     "start_time": "2023-08-24T11:50:11.963139300Z"
    }
   }
  },
  {
   "cell_type": "code",
   "execution_count": null,
   "outputs": [],
   "source": [
    "inference_df.head(4)"
   ],
   "metadata": {
    "collapsed": false,
    "ExecuteTime": {
     "start_time": "2023-08-24T11:50:13.358337600Z"
    }
   }
  },
  {
   "cell_type": "code",
   "execution_count": null,
   "outputs": [],
   "source": [
    "[len(i) for i in inference_df[\"modified_sequence_vector\"] if len(i) != 50]"
   ],
   "metadata": {
    "collapsed": false,
    "ExecuteTime": {
     "start_time": "2023-08-24T11:50:13.359340600Z"
    }
   }
  },
  {
   "cell_type": "code",
   "execution_count": null,
   "outputs": [],
   "source": [
    "inference_df = inference_df[inference_df['modified_sequence_vector'].apply(lambda x: len(x) <= 50)]"
   ],
   "metadata": {
    "collapsed": false,
    "ExecuteTime": {
     "start_time": "2023-08-24T11:50:13.360342500Z"
    }
   }
  },
  {
   "cell_type": "markdown",
   "source": [],
   "metadata": {
    "collapsed": false
   }
  },
  {
   "cell_type": "code",
   "execution_count": null,
   "outputs": [],
   "source": [
    "[len(i) for i in inference_df[\"modified_sequence_vector\"] if len(i) != 50]"
   ],
   "metadata": {
    "collapsed": false,
    "ExecuteTime": {
     "start_time": "2023-08-24T11:50:13.361848800Z"
    }
   }
  },
  {
   "cell_type": "code",
   "execution_count": null,
   "outputs": [],
   "source": [
    "[i for i in inference_df[\"precursor_charge\"] if i not in [2,3,4]]"
   ],
   "metadata": {
    "collapsed": false,
    "ExecuteTime": {
     "start_time": "2023-08-24T11:50:13.362858200Z"
    }
   }
  },
  {
   "cell_type": "code",
   "execution_count": null,
   "outputs": [],
   "source": [
    "[i for i in inference_df[\"precursor_intensity\"] if i > 1000000000000]"
   ],
   "metadata": {
    "collapsed": false,
    "ExecuteTime": {
     "start_time": "2023-08-24T11:50:13.363865800Z"
    }
   }
  },
  {
   "cell_type": "code",
   "execution_count": null,
   "outputs": [],
   "source": [
    "inference_df"
   ],
   "metadata": {
    "collapsed": false,
    "ExecuteTime": {
     "start_time": "2023-08-24T11:50:13.364866700Z"
    }
   }
  },
  {
   "cell_type": "markdown",
   "source": [],
   "metadata": {
    "collapsed": false
   }
  },
  {
   "cell_type": "code",
   "execution_count": null,
   "outputs": [],
   "source": [
    "inference_df[list(range(0, 50))] = pd.DataFrame(inference_df[\"modified_sequence_vector\"].tolist(), index= inference_df.index)"
   ],
   "metadata": {
    "collapsed": false,
    "ExecuteTime": {
     "start_time": "2023-08-24T11:50:13.365865200Z"
    }
   }
  },
  {
   "cell_type": "code",
   "execution_count": null,
   "outputs": [],
   "source": [
    "inference_df.drop(\"modified_sequence_vector\", axis=1, inplace=True)"
   ],
   "metadata": {
    "collapsed": false,
    "ExecuteTime": {
     "start_time": "2023-08-24T11:50:13.366866700Z"
    }
   }
  },
  {
   "cell_type": "code",
   "execution_count": null,
   "outputs": [],
   "source": [
    "inference_df.head(4)"
   ],
   "metadata": {
    "collapsed": false,
    "ExecuteTime": {
     "start_time": "2023-08-24T11:50:13.367865800Z"
    }
   }
  },
  {
   "cell_type": "code",
   "execution_count": null,
   "outputs": [],
   "source": [
    "inference_ds = tf.convert_to_tensor(inference_df)"
   ],
   "metadata": {
    "collapsed": false,
    "ExecuteTime": {
     "start_time": "2023-08-24T11:50:13.369439200Z"
    }
   }
  },
  {
   "cell_type": "code",
   "execution_count": null,
   "outputs": [],
   "source": [
    "inference_target = inference_ds[:, 0]\n",
    "inference_features = inference_ds[:, 1:]"
   ],
   "metadata": {
    "collapsed": false,
    "ExecuteTime": {
     "start_time": "2023-08-24T11:50:13.369439200Z"
    }
   }
  },
  {
   "cell_type": "code",
   "execution_count": null,
   "outputs": [],
   "source": [
    "inference_target_labels =  np.array([one_hot_precursor(i, charges=charge_ranges) for i in inference_target])"
   ],
   "metadata": {
    "collapsed": false,
    "ExecuteTime": {
     "start_time": "2023-08-24T11:50:13.370977900Z"
    }
   }
  },
  {
   "cell_type": "code",
   "execution_count": null,
   "outputs": [],
   "source": [
    "results = model_cce.evaluate(inference_features, inference_target_labels, batch_size=256)\n",
    "print(\"test loss, test acc:\", results)"
   ],
   "metadata": {
    "collapsed": false,
    "ExecuteTime": {
     "start_time": "2023-08-24T11:50:13.372987500Z"
    }
   }
  },
  {
   "cell_type": "markdown",
   "source": [
    "## Evaluate the models\n",
    "- confusion matrix\n",
    "- accuracy\n",
    "- loss"
   ],
   "metadata": {
    "collapsed": false
   }
  },
  {
   "cell_type": "markdown",
   "source": [
    "Confusion Matrix"
   ],
   "metadata": {
    "collapsed": false
   }
  },
  {
   "cell_type": "code",
   "execution_count": null,
   "outputs": [],
   "source": [
    "import sklearn\n",
    "matrix = sklearn.metrics.confusion_matrix(train_ds_labels.argmax(axis=1), inference_target_labels.argmax(axis=1))"
   ],
   "metadata": {
    "collapsed": false,
    "ExecuteTime": {
     "start_time": "2023-08-24T11:50:13.373983100Z"
    }
   }
  },
  {
   "cell_type": "code",
   "execution_count": null,
   "outputs": [],
   "source": [
    "#!pip install scikit-learn\n",
    "#!pip install numpy --upgrade\n",
    "#!pip install pandas --upgrade\n",
    "#!pip install matplotlib --upgrade\n",
    "from sklearn.metrics import confusion_matrix\n",
    "from sklearn.metrics import classification_report\n",
    "import pandas as pd\n",
    "#do_predictions = model.predict(test_ds)\n",
    "\n",
    "y_pred = []\n",
    "y_true = []\n",
    "\n",
    "# iterate over the dataset\n",
    "for index, i in enumerate(inference_ds):   # use dataset.unbatch() with repeat\n",
    "   print(inference_target_labels[index])\n",
    "   print(inference_features[index])\n",
    "   # append true labels\n",
    "   y_true.append(inference_target_labels[index])\n",
    "   # compute predictions\n",
    "   preds = model_cce.predict(inference_features[index])\n",
    "   # append predicted labels\n",
    "   y_pred.append(np.argmax(preds, axis = -1))\n",
    "# convert the true and predicted labels into tensors\n",
    "true_labels = tf.cast(tf.concat([item for item in y_true], axis = 0), tf.float32)\n",
    "predicted_labels = tf.cast(tf.concat([item for item in y_pred], axis = 0), tf.float32)\n",
    "\n",
    "\n",
    "cm = confusion_matrix(true_labels, predicted_labels)\n",
    "#print(cm)\n",
    "report = classification_report(true_labels,predicted_labels, target_names=class_names)\n",
    "\n",
    "report_dict = classification_report(true_labels, predicted_labels, output_dict=True)\n",
    "#print(report_dict)\n",
    "print(report)\n",
    "\n",
    "#pd.DataFrame(report_dict).transpose()\n"
   ],
   "metadata": {
    "collapsed": false,
    "ExecuteTime": {
     "start_time": "2023-08-24T11:50:13.375984600Z"
    }
   }
  },
  {
   "cell_type": "markdown",
   "source": [
    "Accuracy/ Sens/ Spec"
   ],
   "metadata": {
    "collapsed": false,
    "ExecuteTime": {
     "end_time": "2023-07-24T12:31:25.645324800Z",
     "start_time": "2023-07-24T12:31:25.552652300Z"
    }
   }
  },
  {
   "cell_type": "code",
   "execution_count": null,
   "outputs": [],
   "source": [
    "import keras.backend as K\n",
    "def matthews_correlation(y_true, y_pred):\n",
    "    #print(y_pred.shape, y_true.shape)\n",
    "    y_pred_pos = K.round(K.clip(y_pred, 0, 1))\n",
    "    y_pred_neg = 1 - y_pred_pos\n",
    "\n",
    "    y_pos = K.round(K.clip(y_true, 0, 1))\n",
    "    y_neg = 1 - y_pos\n",
    "\n",
    "    tp = K.sum(K.cast(y_pos * y_pred_pos, 'float32'))\n",
    "    tn = K.sum(K.cast(y_neg * y_pred_neg, 'float32'))\n",
    "    fp = K.sum(K.cast(y_neg * y_pred_pos, 'float32'))\n",
    "    fn = K.sum(K.cast(y_pos * y_pred_neg, 'float32'))\n",
    "\n",
    "    print(\"OVERALL:\")\n",
    "    print(\" Accuracy \", ((tp + tn) / (tp + tn + fp + fn)).numpy())\n",
    "    print(\" Sensitivity \", (tp / (tp + fn)).numpy())\n",
    "    print(\" Specificity \", (tn / (tn + fp)).numpy())\n",
    "\n",
    "    numerator = (tp * tn - fp * fn)\n",
    "    #print(tp.numpy(), fp.numpy())\n",
    "    test = (((tp + fp) * (tp + fn) * (tn + fp) * (tn + fn)))\n",
    "    #print(test)\n",
    "    denominator = K.sqrt(K.cast(test, 'float32'))\n",
    "\n",
    "    return numerator / (denominator + K.epsilon())\n",
    "\n",
    "\n",
    "#print(true_labels, predicted_labels)\n",
    "print(\" matthews_correlation(rounded): \", (matthews_correlation(true_labels, predicted_labels).numpy()))"
   ],
   "metadata": {
    "collapsed": false,
    "ExecuteTime": {
     "start_time": "2023-08-24T11:50:13.376984200Z"
    }
   }
  },
  {
   "cell_type": "markdown",
   "source": [
    "MCC"
   ],
   "metadata": {
    "collapsed": false,
    "ExecuteTime": {
     "end_time": "2023-07-24T12:31:59.929377Z",
     "start_time": "2023-07-24T12:31:45.294917300Z"
    }
   }
  },
  {
   "cell_type": "code",
   "execution_count": null,
   "outputs": [],
   "source": [
    "from sklearn.metrics import matthews_corrcoef\n",
    "\n",
    "print(\"matthews_correlation:\", matthews_corrcoef(true_labels, predicted_labels))"
   ],
   "metadata": {
    "collapsed": false,
    "ExecuteTime": {
     "start_time": "2023-08-24T11:50:13.377983400Z"
    }
   }
  },
  {
   "cell_type": "markdown",
   "source": [
    "Direct eval:"
   ],
   "metadata": {
    "collapsed": false
   }
  },
  {
   "cell_type": "code",
   "execution_count": null,
   "outputs": [],
   "source": [
    "from tensorflow.keras.metrics import Precision, Recall, BinaryAccuracy\n",
    "\n",
    "eval_prec = Precision()\n",
    "eval_rec = Recall()\n",
    "eval_acc = BinaryAccuracy()"
   ],
   "metadata": {
    "collapsed": false,
    "ExecuteTime": {
     "start_time": "2023-08-24T11:50:13.378983200Z"
    }
   }
  },
  {
   "cell_type": "code",
   "execution_count": null,
   "outputs": [],
   "source": [
    "for batch in test_ds.as_numpy_iterator():\n",
    "    X, y = batch\n",
    "    y = tf.keras.utils.to_categorical(y, num_classes=13, dtype='int')\n",
    "    yhat = model.predict(X)\n",
    "    eval_prec.update_state(y, yhat)\n",
    "    eval_rec.update_state(y, yhat)\n",
    "    eval_acc.update_state(y, yhat)"
   ],
   "metadata": {
    "collapsed": false,
    "ExecuteTime": {
     "start_time": "2023-08-24T11:50:13.379983500Z"
    }
   }
  },
  {
   "cell_type": "code",
   "execution_count": null,
   "outputs": [],
   "source": [
    "print(f'Precision: {eval_prec.result().numpy()}, Recall: {eval_rec.result().numpy()}, Accuracy: {eval_acc.result().numpy()}')"
   ],
   "metadata": {
    "collapsed": false,
    "ExecuteTime": {
     "start_time": "2023-08-24T11:50:13.380983200Z"
    }
   }
  }
 ],
 "metadata": {
  "kernelspec": {
   "display_name": "Python 3",
   "language": "python",
   "name": "python3"
  },
  "language_info": {
   "codemirror_mode": {
    "name": "ipython",
    "version": 2
   },
   "file_extension": ".py",
   "mimetype": "text/x-python",
   "name": "python",
   "nbconvert_exporter": "python",
   "pygments_lexer": "ipython2",
   "version": "2.7.6"
  }
 },
 "nbformat": 4,
 "nbformat_minor": 0
}

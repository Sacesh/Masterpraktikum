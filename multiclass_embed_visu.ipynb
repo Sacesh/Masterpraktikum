{
 "cells": [
  {
   "cell_type": "markdown",
   "source": [
    "# Playground to implement W&B as well as start hyperparameter-tuning"
   ],
   "metadata": {
    "collapsed": false
   }
  },
  {
   "cell_type": "markdown",
   "source": [
    "# WanDB"
   ],
   "metadata": {
    "collapsed": false
   }
  },
  {
   "cell_type": "code",
   "execution_count": 1,
   "outputs": [],
   "source": [
    "#%pip install wandb"
   ],
   "metadata": {
    "collapsed": false,
    "ExecuteTime": {
     "end_time": "2023-09-08T15:57:31.824125300Z",
     "start_time": "2023-09-08T15:57:26.865935200Z"
    }
   }
  },
  {
   "cell_type": "code",
   "execution_count": 2,
   "outputs": [],
   "source": [
    "import subprocess\n",
    "import wandb\n",
    "from wandb.keras import WandbCallback\n",
    "import tensorflow as tf\n",
    "import os"
   ],
   "metadata": {
    "collapsed": false,
    "ExecuteTime": {
     "end_time": "2023-09-08T15:57:31.825126600Z",
     "start_time": "2023-09-08T15:57:26.870235300Z"
    }
   }
  },
  {
   "cell_type": "code",
   "execution_count": 3,
   "outputs": [
    {
     "data": {
      "text/plain": "0"
     },
     "execution_count": 3,
     "metadata": {},
     "output_type": "execute_result"
    }
   ],
   "source": [
    "subprocess.call(['wandb', 'login', '4e8d3dcb1584ad129b3b49ccc34f65b20116ae54'])"
   ],
   "metadata": {
    "collapsed": false,
    "ExecuteTime": {
     "end_time": "2023-09-08T15:57:35.713152200Z",
     "start_time": "2023-09-08T15:57:31.332361900Z"
    }
   }
  },
  {
   "cell_type": "code",
   "execution_count": 4,
   "outputs": [
    {
     "name": "stderr",
     "output_type": "stream",
     "text": [
      "\u001B[34m\u001B[1mwandb\u001B[0m: Currently logged in as: \u001B[33mnkopp\u001B[0m (\u001B[33mteam-bioinf\u001B[0m). Use \u001B[1m`wandb login --relogin`\u001B[0m to force relogin\n"
     ]
    },
    {
     "data": {
      "text/plain": "<IPython.core.display.HTML object>",
      "text/html": "wandb version 0.15.10 is available!  To upgrade, please run:\n $ pip install wandb --upgrade"
     },
     "metadata": {},
     "output_type": "display_data"
    },
    {
     "data": {
      "text/plain": "<IPython.core.display.HTML object>",
      "text/html": "Tracking run with wandb version 0.15.5"
     },
     "metadata": {},
     "output_type": "display_data"
    },
    {
     "data": {
      "text/plain": "<IPython.core.display.HTML object>",
      "text/html": "Run data is saved locally in <code>C:\\Users\\micro\\OneDrive\\Dokumente\\GitHub\\Masterpraktikum\\wandb\\run-20230908_175738-twj5gmkz</code>"
     },
     "metadata": {},
     "output_type": "display_data"
    },
    {
     "data": {
      "text/plain": "<IPython.core.display.HTML object>",
      "text/html": "Syncing run <strong><a href='https://wandb.ai/team-bioinf/embed_visualisation/runs/twj5gmkz' target=\"_blank\">kind-leaf-6</a></strong> to <a href='https://wandb.ai/team-bioinf/embed_visualisation' target=\"_blank\">Weights & Biases</a> (<a href='https://wandb.me/run' target=\"_blank\">docs</a>)<br/>"
     },
     "metadata": {},
     "output_type": "display_data"
    },
    {
     "data": {
      "text/plain": "<IPython.core.display.HTML object>",
      "text/html": " View project at <a href='https://wandb.ai/team-bioinf/embed_visualisation' target=\"_blank\">https://wandb.ai/team-bioinf/embed_visualisation</a>"
     },
     "metadata": {},
     "output_type": "display_data"
    },
    {
     "data": {
      "text/plain": "<IPython.core.display.HTML object>",
      "text/html": " View run at <a href='https://wandb.ai/team-bioinf/embed_visualisation/runs/twj5gmkz' target=\"_blank\">https://wandb.ai/team-bioinf/embed_visualisation/runs/twj5gmkz</a>"
     },
     "metadata": {},
     "output_type": "display_data"
    },
    {
     "data": {
      "text/html": "<button onClick=\"this.nextSibling.style.display='block';this.style.display='none';\">Display W&B run</button><iframe src='https://wandb.ai/team-bioinf/embed_visualisation/runs/twj5gmkz?jupyter=true' style='border:none;width:100%;height:420px;display:none;'></iframe>",
      "text/plain": "<wandb.sdk.wandb_run.Run at 0x1e5f3953c50>"
     },
     "execution_count": 4,
     "metadata": {},
     "output_type": "execute_result"
    }
   ],
   "source": [
    "wandb.init(project='embed_visualisation')"
   ],
   "metadata": {
    "collapsed": false,
    "ExecuteTime": {
     "end_time": "2023-09-08T15:57:40.178554100Z",
     "start_time": "2023-09-08T15:57:35.686643500Z"
    }
   }
  },
  {
   "cell_type": "markdown",
   "source": [],
   "metadata": {
    "collapsed": false
   }
  },
  {
   "cell_type": "markdown",
   "source": [],
   "metadata": {
    "collapsed": false
   }
  },
  {
   "cell_type": "markdown",
   "source": [
    "## Setup"
   ],
   "metadata": {
    "collapsed": false
   }
  },
  {
   "cell_type": "code",
   "execution_count": 5,
   "outputs": [],
   "source": [
    "#%pip install seaborn"
   ],
   "metadata": {
    "collapsed": false,
    "ExecuteTime": {
     "end_time": "2023-09-08T15:57:40.522871200Z",
     "start_time": "2023-09-08T15:57:40.170559200Z"
    }
   }
  },
  {
   "cell_type": "code",
   "execution_count": 6,
   "outputs": [],
   "source": [
    "import re\n",
    "import os\n",
    "import random\n",
    "import numpy as np\n",
    "import pandas as pd\n",
    "import tensorflow as tf\n",
    "import matplotlib.pyplot as plt\n",
    "from sklearn.model_selection import train_test_split\n",
    "from tensorflow.keras.callbacks import ModelCheckpoint\n",
    "from sklearn.utils import class_weight\n",
    "from sklearn.model_selection import StratifiedShuffleSplit\n",
    "from sklearn.metrics import confusion_matrix, classification_report\n",
    "import seaborn as sns\n",
    "import wandb\n",
    "from wandb.keras import WandbCallback\n",
    "import keras"
   ],
   "metadata": {
    "collapsed": false,
    "ExecuteTime": {
     "end_time": "2023-09-08T15:57:40.899183800Z",
     "start_time": "2023-09-08T15:57:40.395174Z"
    }
   }
  },
  {
   "cell_type": "code",
   "execution_count": 7,
   "outputs": [],
   "source": [
    "train_datapath = [\"data/\"+file for file in os.listdir('data') if file.endswith(\".parquet\")][0]\n",
    "batch_size = 32"
   ],
   "metadata": {
    "collapsed": false,
    "ExecuteTime": {
     "end_time": "2023-09-08T15:57:41.057708400Z",
     "start_time": "2023-09-08T15:57:40.805650300Z"
    }
   }
  },
  {
   "cell_type": "markdown",
   "source": [
    "# Dataset batches + split"
   ],
   "metadata": {
    "collapsed": false
   }
  },
  {
   "cell_type": "code",
   "execution_count": 8,
   "outputs": [],
   "source": [
    "import re\n",
    "\n",
    "def one_hot_precursor(int_value, charges=[1,2,3,4,5,6]):\n",
    "    \"\"\"\n",
    "    One-hot encodes the precursor charge\n",
    "    :param df: dataframe\n",
    "    :param max_charge_included: int\n",
    "    :return: dataframe\n",
    "    \"\"\"\n",
    "    one_hot = [1 if x == int_value else 0 for x in charges]\n",
    "\n",
    "    return one_hot"
   ],
   "metadata": {
    "collapsed": false,
    "ExecuteTime": {
     "end_time": "2023-09-08T15:57:41.273152100Z",
     "start_time": "2023-09-08T15:57:41.034712500Z"
    }
   }
  },
  {
   "cell_type": "code",
   "execution_count": 9,
   "outputs": [
    {
     "name": "stdout",
     "output_type": "stream",
     "text": [
      "data/Thermo_SRM_Pool_meta_data.parquet\n"
     ]
    }
   ],
   "source": [
    "file_list = [\"data/\"+file for file in os.listdir('data') if file.endswith('.parquet')]\n",
    "print(file_list[0])"
   ],
   "metadata": {
    "collapsed": false,
    "ExecuteTime": {
     "end_time": "2023-09-08T15:57:41.580200800Z",
     "start_time": "2023-09-08T15:57:41.275152200Z"
    }
   }
  },
  {
   "cell_type": "markdown",
   "source": [
    "### import parquet files, drop all columns we dont need for training, one-hot encode precursor charge, translate sequence"
   ],
   "metadata": {
    "collapsed": false
   }
  },
  {
   "cell_type": "code",
   "execution_count": 10,
   "outputs": [],
   "source": [
    "batches_parquet = dict()\n",
    "counter = 0\n",
    "for file in file_list:\n",
    "    df = pd.read_parquet(file, engine='fastparquet')\n",
    "    # drop all columns we dont need for training\n",
    "    for column in df.columns:\n",
    "        if column not in [\"modified_sequence\",\"precursor_intensity\", \"precursor_charge\"]:\n",
    "            df.drop(column, axis=1, inplace=True)\n",
    "    charge_ranges = [1, 2, 3, 4, 5, 6] # TODO SET RANGES\n",
    "    df = df[df[\"precursor_charge\"].isin(charge_ranges)] # remove 7+ charge states // only take charge states 2,3,4\n",
    "    df = df.dropna(subset=['precursor_intensity']) # drop rows with no precursor intensity\n",
    "    batches_parquet[file] = df\n",
    "    counter += 1\n",
    "    #if counter > 1:\n",
    "    #    break # TODO REMOVE BREAK FOR FIRST FILE IN LIST"
   ],
   "metadata": {
    "collapsed": false,
    "ExecuteTime": {
     "end_time": "2023-09-08T15:58:29.188558100Z",
     "start_time": "2023-09-08T15:57:41.577199900Z"
    }
   }
  },
  {
   "cell_type": "code",
   "execution_count": 11,
   "outputs": [],
   "source": [
    "vocabulary = []\n",
    "vocabulary+=list('XACDEFGHIKLMNPQRSTVWY')\n",
    "max_len_seq = 0\n",
    "\n",
    "for df in batches_parquet.values():\n",
    "    if max_len_seq < df['modified_sequence'].str.len().max():\n",
    "        max_len_seq = df['modified_sequence'].str.len().max()\n",
    "    annotations = re.findall(r'(\\w\\[UNIMOD:\\d+\\])', ' '.join(df['modified_sequence']))\n",
    "    #annotations = re.findall(r'[A-Z]\\[[^\\]]*\\]|.', ' '.join(df['modified_sequence']))\n",
    "    for item in annotations:\n",
    "        if item not in vocabulary:\n",
    "                vocabulary.append(item)"
   ],
   "metadata": {
    "collapsed": false,
    "ExecuteTime": {
     "end_time": "2023-09-08T15:59:11.497618400Z",
     "start_time": "2023-09-08T15:58:29.189559Z"
    }
   }
  },
  {
   "cell_type": "code",
   "execution_count": 12,
   "outputs": [
    {
     "name": "stdout",
     "output_type": "stream",
     "text": [
      "['X', 'A', 'C', 'D', 'E', 'F', 'G', 'H', 'I', 'K', 'L', 'M', 'N', 'P', 'Q', 'R', 'S', 'T', 'V', 'W', 'Y', 'C[UNIMOD:4]', 'M[UNIMOD:35]']\n"
     ]
    },
    {
     "data": {
      "text/plain": "23"
     },
     "execution_count": 12,
     "metadata": {},
     "output_type": "execute_result"
    }
   ],
   "source": [
    "print(vocabulary)\n",
    "voc_len = len(vocabulary)\n",
    "voc_len"
   ],
   "metadata": {
    "collapsed": false,
    "ExecuteTime": {
     "end_time": "2023-09-08T15:59:11.757979400Z",
     "start_time": "2023-09-08T15:59:11.498623100Z"
    }
   }
  },
  {
   "cell_type": "code",
   "execution_count": 13,
   "outputs": [],
   "source": [
    "num_classes = len(charge_ranges)\n",
    "class_names = charge_ranges"
   ],
   "metadata": {
    "collapsed": false,
    "ExecuteTime": {
     "end_time": "2023-09-08T15:59:11.989303500Z",
     "start_time": "2023-09-08T15:59:11.758981800Z"
    }
   }
  },
  {
   "cell_type": "code",
   "execution_count": 14,
   "outputs": [
    {
     "data": {
      "text/plain": "      modified_sequence  precursor_charge  precursor_intensity\n0  LPGSLETYVEQEQGENANDR                 2           29525630.0\n1       HGSLQEYLQNDTGSK                 2           13188580.0\n2        VEEEEEINSELTAR                 2           20663460.0\n3  LPGSLETYVEQEQGENANDR                 2           19884630.0\n4  NSSTAEINETTTSSTDFLAR                 2           12804420.0",
      "text/html": "<div>\n<style scoped>\n    .dataframe tbody tr th:only-of-type {\n        vertical-align: middle;\n    }\n\n    .dataframe tbody tr th {\n        vertical-align: top;\n    }\n\n    .dataframe thead th {\n        text-align: right;\n    }\n</style>\n<table border=\"1\" class=\"dataframe\">\n  <thead>\n    <tr style=\"text-align: right;\">\n      <th></th>\n      <th>modified_sequence</th>\n      <th>precursor_charge</th>\n      <th>precursor_intensity</th>\n    </tr>\n  </thead>\n  <tbody>\n    <tr>\n      <th>0</th>\n      <td>LPGSLETYVEQEQGENANDR</td>\n      <td>2</td>\n      <td>29525630.0</td>\n    </tr>\n    <tr>\n      <th>1</th>\n      <td>HGSLQEYLQNDTGSK</td>\n      <td>2</td>\n      <td>13188580.0</td>\n    </tr>\n    <tr>\n      <th>2</th>\n      <td>VEEEEEINSELTAR</td>\n      <td>2</td>\n      <td>20663460.0</td>\n    </tr>\n    <tr>\n      <th>3</th>\n      <td>LPGSLETYVEQEQGENANDR</td>\n      <td>2</td>\n      <td>19884630.0</td>\n    </tr>\n    <tr>\n      <th>4</th>\n      <td>NSSTAEINETTTSSTDFLAR</td>\n      <td>2</td>\n      <td>12804420.0</td>\n    </tr>\n  </tbody>\n</table>\n</div>"
     },
     "execution_count": 14,
     "metadata": {},
     "output_type": "execute_result"
    }
   ],
   "source": [
    "batches_parquet[file_list[0]].head()"
   ],
   "metadata": {
    "collapsed": false,
    "ExecuteTime": {
     "end_time": "2023-09-08T15:59:12.230030Z",
     "start_time": "2023-09-08T15:59:11.990303800Z"
    }
   }
  },
  {
   "cell_type": "code",
   "execution_count": 15,
   "outputs": [
    {
     "data": {
      "text/plain": "['data/Thermo_SRM_Pool_meta_data.parquet',\n 'data/TUM_aspn_meta_data.parquet',\n 'data/TUM_first_pool_meta_data.parquet',\n 'data/TUM_HLA2_meta_data.parquet',\n 'data/TUM_HLA_meta_data.parquet',\n 'data/TUM_isoform_meta_data.parquet',\n 'data/TUM_lysn_meta_data.parquet',\n 'data/TUM_missing_first_meta_data.parquet',\n 'data/TUM_proteo_TMT_meta_data.parquet',\n 'data/TUM_second_addon_meta_data.parquet',\n 'data/TUM_second_pool_meta_data.parquet',\n 'data/TUM_third_pool_meta_data.parquet']"
     },
     "execution_count": 15,
     "metadata": {},
     "output_type": "execute_result"
    }
   ],
   "source": [
    "file_list"
   ],
   "metadata": {
    "collapsed": false,
    "ExecuteTime": {
     "end_time": "2023-09-08T15:59:12.467690500Z",
     "start_time": "2023-09-08T15:59:12.231032500Z"
    }
   }
  },
  {
   "cell_type": "code",
   "execution_count": 16,
   "outputs": [
    {
     "data": {
      "text/plain": "2    4331294\n3    1523398\n4     115577\n5       2723\n1       1022\n6        143\nName: precursor_charge, dtype: int64"
     },
     "execution_count": 16,
     "metadata": {},
     "output_type": "execute_result"
    }
   ],
   "source": [
    "batches_parquet[file_list[0]][\"precursor_charge\"].value_counts()"
   ],
   "metadata": {
    "collapsed": false,
    "ExecuteTime": {
     "end_time": "2023-09-08T15:59:12.706103800Z",
     "start_time": "2023-09-08T15:59:12.468691400Z"
    }
   }
  },
  {
   "cell_type": "markdown",
   "source": [
    "# Normalisieren:"
   ],
   "metadata": {
    "collapsed": false
   }
  },
  {
   "cell_type": "code",
   "execution_count": 17,
   "outputs": [],
   "source": [
    "def normalize_for_most_abundant(df_charge_list, df_intensity_list):\n",
    "    # Get the index of the most abundant precursor intensity\n",
    "    charge_dict = dict()\n",
    "    for index, i in enumerate(df_charge_list):\n",
    "        charge_dict[i] = []\n",
    "        charge_dict[i].append(df_intensity_list[index])\n",
    "\n",
    "    # Normalize the precursor intensity based on the most abundant precursor intensity\n",
    "    for key, value in charge_dict.items():\n",
    "        if len(value) > 1:\n",
    "         charge_dict[key] = sum(value) - min(value) / (max(value) - min(value))\n",
    "\n",
    "    # convert list of one float to float values\n",
    "    charge_dict = {key: value[0] for key, value in charge_dict.items()}\n",
    "\n",
    "    return charge_dict"
   ],
   "metadata": {
    "collapsed": false,
    "ExecuteTime": {
     "end_time": "2023-09-08T15:59:12.947719200Z",
     "start_time": "2023-09-08T15:59:12.710104600Z"
    }
   }
  },
  {
   "cell_type": "code",
   "execution_count": 18,
   "outputs": [],
   "source": [
    "def get_most_abundant(df_charge_list, df_intensity_list, distributions=False):\n",
    "    # Get the index of the most abundant precursor intensity\n",
    "    charge_dict = dict()\n",
    "    for index, i in enumerate(df_charge_list):\n",
    "        if i not in charge_dict:\n",
    "            charge_dict[i] = df_intensity_list[index]\n",
    "        else:\n",
    "            charge_dict[i] += df_intensity_list[index]\n",
    "    if distributions:\n",
    "        #print(charge_dict)\n",
    "        return charge_dict\n",
    "    else:\n",
    "        return max(charge_dict, key=charge_dict.get)\n"
   ],
   "metadata": {
    "collapsed": false,
    "ExecuteTime": {
     "end_time": "2023-09-08T15:59:13.177082800Z",
     "start_time": "2023-09-08T15:59:12.948719300Z"
    }
   }
  },
  {
   "cell_type": "code",
   "execution_count": 19,
   "outputs": [
    {
     "name": "stderr",
     "output_type": "stream",
     "text": [
      "C:\\Users\\micro\\AppData\\Local\\Temp\\ipykernel_25132\\2139590162.py:4: FutureWarning: Indexing with multiple keys (implicitly converted to a tuple of keys) will be deprecated, use a list instead.\n",
      "  df_dict[file] = batches_parquet[file].groupby(\"modified_sequence\")[\"precursor_charge\", \"precursor_intensity\"].agg(list).reset_index()\n",
      "C:\\Users\\micro\\AppData\\Local\\Temp\\ipykernel_25132\\2139590162.py:4: FutureWarning: Indexing with multiple keys (implicitly converted to a tuple of keys) will be deprecated, use a list instead.\n",
      "  df_dict[file] = batches_parquet[file].groupby(\"modified_sequence\")[\"precursor_charge\", \"precursor_intensity\"].agg(list).reset_index()\n",
      "C:\\Users\\micro\\AppData\\Local\\Temp\\ipykernel_25132\\2139590162.py:4: FutureWarning: Indexing with multiple keys (implicitly converted to a tuple of keys) will be deprecated, use a list instead.\n",
      "  df_dict[file] = batches_parquet[file].groupby(\"modified_sequence\")[\"precursor_charge\", \"precursor_intensity\"].agg(list).reset_index()\n",
      "C:\\Users\\micro\\AppData\\Local\\Temp\\ipykernel_25132\\2139590162.py:4: FutureWarning: Indexing with multiple keys (implicitly converted to a tuple of keys) will be deprecated, use a list instead.\n",
      "  df_dict[file] = batches_parquet[file].groupby(\"modified_sequence\")[\"precursor_charge\", \"precursor_intensity\"].agg(list).reset_index()\n",
      "C:\\Users\\micro\\AppData\\Local\\Temp\\ipykernel_25132\\2139590162.py:4: FutureWarning: Indexing with multiple keys (implicitly converted to a tuple of keys) will be deprecated, use a list instead.\n",
      "  df_dict[file] = batches_parquet[file].groupby(\"modified_sequence\")[\"precursor_charge\", \"precursor_intensity\"].agg(list).reset_index()\n",
      "C:\\Users\\micro\\AppData\\Local\\Temp\\ipykernel_25132\\2139590162.py:4: FutureWarning: Indexing with multiple keys (implicitly converted to a tuple of keys) will be deprecated, use a list instead.\n",
      "  df_dict[file] = batches_parquet[file].groupby(\"modified_sequence\")[\"precursor_charge\", \"precursor_intensity\"].agg(list).reset_index()\n",
      "C:\\Users\\micro\\AppData\\Local\\Temp\\ipykernel_25132\\2139590162.py:4: FutureWarning: Indexing with multiple keys (implicitly converted to a tuple of keys) will be deprecated, use a list instead.\n",
      "  df_dict[file] = batches_parquet[file].groupby(\"modified_sequence\")[\"precursor_charge\", \"precursor_intensity\"].agg(list).reset_index()\n",
      "C:\\Users\\micro\\AppData\\Local\\Temp\\ipykernel_25132\\2139590162.py:4: FutureWarning: Indexing with multiple keys (implicitly converted to a tuple of keys) will be deprecated, use a list instead.\n",
      "  df_dict[file] = batches_parquet[file].groupby(\"modified_sequence\")[\"precursor_charge\", \"precursor_intensity\"].agg(list).reset_index()\n",
      "C:\\Users\\micro\\AppData\\Local\\Temp\\ipykernel_25132\\2139590162.py:4: FutureWarning: Indexing with multiple keys (implicitly converted to a tuple of keys) will be deprecated, use a list instead.\n",
      "  df_dict[file] = batches_parquet[file].groupby(\"modified_sequence\")[\"precursor_charge\", \"precursor_intensity\"].agg(list).reset_index()\n",
      "C:\\Users\\micro\\AppData\\Local\\Temp\\ipykernel_25132\\2139590162.py:4: FutureWarning: Indexing with multiple keys (implicitly converted to a tuple of keys) will be deprecated, use a list instead.\n",
      "  df_dict[file] = batches_parquet[file].groupby(\"modified_sequence\")[\"precursor_charge\", \"precursor_intensity\"].agg(list).reset_index()\n",
      "C:\\Users\\micro\\AppData\\Local\\Temp\\ipykernel_25132\\2139590162.py:4: FutureWarning: Indexing with multiple keys (implicitly converted to a tuple of keys) will be deprecated, use a list instead.\n",
      "  df_dict[file] = batches_parquet[file].groupby(\"modified_sequence\")[\"precursor_charge\", \"precursor_intensity\"].agg(list).reset_index()\n",
      "C:\\Users\\micro\\AppData\\Local\\Temp\\ipykernel_25132\\2139590162.py:4: FutureWarning: Indexing with multiple keys (implicitly converted to a tuple of keys) will be deprecated, use a list instead.\n",
      "  df_dict[file] = batches_parquet[file].groupby(\"modified_sequence\")[\"precursor_charge\", \"precursor_intensity\"].agg(list).reset_index()\n"
     ]
    }
   ],
   "source": [
    "# load all parquets into df\n",
    "df_dict = dict()\n",
    "for file in file_list:\n",
    "    df_dict[file] = batches_parquet[file].groupby(\"modified_sequence\")[\"precursor_charge\", \"precursor_intensity\"].agg(list).reset_index()"
   ],
   "metadata": {
    "collapsed": false,
    "ExecuteTime": {
     "end_time": "2023-09-08T15:59:56.280249600Z",
     "start_time": "2023-09-08T15:59:13.177082800Z"
    }
   }
  },
  {
   "cell_type": "markdown",
   "source": [
    "# init merged_df"
   ],
   "metadata": {
    "collapsed": false
   }
  },
  {
   "cell_type": "code",
   "execution_count": 20,
   "outputs": [
    {
     "name": "stderr",
     "output_type": "stream",
     "text": [
      "C:\\Users\\micro\\AppData\\Local\\Temp\\ipykernel_25132\\1215419649.py:1: FutureWarning: Indexing with multiple keys (implicitly converted to a tuple of keys) will be deprecated, use a list instead.\n",
      "  merged_df = pd.concat(list(df_dict.values())).groupby(\"modified_sequence\")[\"precursor_charge\", \"precursor_intensity\"].sum().reset_index()\n"
     ]
    }
   ],
   "source": [
    "merged_df = pd.concat(list(df_dict.values())).groupby(\"modified_sequence\")[\"precursor_charge\", \"precursor_intensity\"].sum().reset_index()"
   ],
   "metadata": {
    "collapsed": false,
    "ExecuteTime": {
     "end_time": "2023-09-08T15:59:58.569404600Z",
     "start_time": "2023-09-08T15:59:56.280249600Z"
    }
   }
  },
  {
   "cell_type": "code",
   "execution_count": 21,
   "outputs": [],
   "source": [
    "merged_df['seq_len_prepadding'] = merged_df['modified_sequence'].apply(lambda x: len(x))"
   ],
   "metadata": {
    "collapsed": false,
    "ExecuteTime": {
     "end_time": "2023-09-08T15:59:59.113995500Z",
     "start_time": "2023-09-08T15:59:58.569404600Z"
    }
   }
  },
  {
   "cell_type": "code",
   "execution_count": 22,
   "outputs": [
    {
     "data": {
      "text/plain": "87     9\n82     8\n85     7\n89     6\n90     5\n107    4\n97     4\n95     4\n92     4\n83     3\n86     3\n98     3\n91     2\n84     2\n93     2\n88     2\n96     2\n110    2\n105    1\n104    1\n102    1\n94     1\n103    1\n115    1\n99     1\n125    1\n108    1\nName: seq_len_prepadding, dtype: int64"
     },
     "execution_count": 22,
     "metadata": {},
     "output_type": "execute_result"
    }
   ],
   "source": [
    "len_counts = merged_df['seq_len_prepadding'].value_counts()\n",
    "seq_too_long = len_counts[len_counts <= 10]\n",
    "seq_too_long"
   ],
   "metadata": {
    "collapsed": false,
    "ExecuteTime": {
     "end_time": "2023-09-08T15:59:59.369037200Z",
     "start_time": "2023-09-08T15:59:59.114996700Z"
    }
   }
  },
  {
   "cell_type": "code",
   "execution_count": 23,
   "outputs": [
    {
     "data": {
      "text/plain": "    seq_len  count\n0        50   1087\n1        51    764\n2        52    595\n3        53    426\n4        56    385\n5        57    385\n6        55    382\n7        58    373\n8        54    366\n9        59    290\n10       60    245\n11       61    199\n12       62    140\n13       63    105\n14       67     86\n15       66     81\n16       65     78\n17       64     78\n18       68     72\n19       69     69\n20       70     67\n21       71     34\n22       72     31\n23       75     26\n24       77     21\n25       74     21\n26       78     21\n27       73     18\n28       81     17\n29       79     16\n30       80     15\n31       76     13\n32      100     12\n33       87      9\n34       82      8\n35       85      7\n36       89      6\n37       90      5\n38      107      4\n39       97      4\n40       95      4\n41       92      4\n42       83      3\n43       86      3\n44       98      3\n45       91      2\n46       84      2\n47       93      2\n48       88      2\n49       96      2\n50      110      2\n51      105      1\n52      104      1\n53      102      1\n54       94      1\n55      103      1\n56      115      1\n57       99      1\n58      125      1\n59      108      1",
      "text/html": "<div>\n<style scoped>\n    .dataframe tbody tr th:only-of-type {\n        vertical-align: middle;\n    }\n\n    .dataframe tbody tr th {\n        vertical-align: top;\n    }\n\n    .dataframe thead th {\n        text-align: right;\n    }\n</style>\n<table border=\"1\" class=\"dataframe\">\n  <thead>\n    <tr style=\"text-align: right;\">\n      <th></th>\n      <th>seq_len</th>\n      <th>count</th>\n    </tr>\n  </thead>\n  <tbody>\n    <tr>\n      <th>0</th>\n      <td>50</td>\n      <td>1087</td>\n    </tr>\n    <tr>\n      <th>1</th>\n      <td>51</td>\n      <td>764</td>\n    </tr>\n    <tr>\n      <th>2</th>\n      <td>52</td>\n      <td>595</td>\n    </tr>\n    <tr>\n      <th>3</th>\n      <td>53</td>\n      <td>426</td>\n    </tr>\n    <tr>\n      <th>4</th>\n      <td>56</td>\n      <td>385</td>\n    </tr>\n    <tr>\n      <th>5</th>\n      <td>57</td>\n      <td>385</td>\n    </tr>\n    <tr>\n      <th>6</th>\n      <td>55</td>\n      <td>382</td>\n    </tr>\n    <tr>\n      <th>7</th>\n      <td>58</td>\n      <td>373</td>\n    </tr>\n    <tr>\n      <th>8</th>\n      <td>54</td>\n      <td>366</td>\n    </tr>\n    <tr>\n      <th>9</th>\n      <td>59</td>\n      <td>290</td>\n    </tr>\n    <tr>\n      <th>10</th>\n      <td>60</td>\n      <td>245</td>\n    </tr>\n    <tr>\n      <th>11</th>\n      <td>61</td>\n      <td>199</td>\n    </tr>\n    <tr>\n      <th>12</th>\n      <td>62</td>\n      <td>140</td>\n    </tr>\n    <tr>\n      <th>13</th>\n      <td>63</td>\n      <td>105</td>\n    </tr>\n    <tr>\n      <th>14</th>\n      <td>67</td>\n      <td>86</td>\n    </tr>\n    <tr>\n      <th>15</th>\n      <td>66</td>\n      <td>81</td>\n    </tr>\n    <tr>\n      <th>16</th>\n      <td>65</td>\n      <td>78</td>\n    </tr>\n    <tr>\n      <th>17</th>\n      <td>64</td>\n      <td>78</td>\n    </tr>\n    <tr>\n      <th>18</th>\n      <td>68</td>\n      <td>72</td>\n    </tr>\n    <tr>\n      <th>19</th>\n      <td>69</td>\n      <td>69</td>\n    </tr>\n    <tr>\n      <th>20</th>\n      <td>70</td>\n      <td>67</td>\n    </tr>\n    <tr>\n      <th>21</th>\n      <td>71</td>\n      <td>34</td>\n    </tr>\n    <tr>\n      <th>22</th>\n      <td>72</td>\n      <td>31</td>\n    </tr>\n    <tr>\n      <th>23</th>\n      <td>75</td>\n      <td>26</td>\n    </tr>\n    <tr>\n      <th>24</th>\n      <td>77</td>\n      <td>21</td>\n    </tr>\n    <tr>\n      <th>25</th>\n      <td>74</td>\n      <td>21</td>\n    </tr>\n    <tr>\n      <th>26</th>\n      <td>78</td>\n      <td>21</td>\n    </tr>\n    <tr>\n      <th>27</th>\n      <td>73</td>\n      <td>18</td>\n    </tr>\n    <tr>\n      <th>28</th>\n      <td>81</td>\n      <td>17</td>\n    </tr>\n    <tr>\n      <th>29</th>\n      <td>79</td>\n      <td>16</td>\n    </tr>\n    <tr>\n      <th>30</th>\n      <td>80</td>\n      <td>15</td>\n    </tr>\n    <tr>\n      <th>31</th>\n      <td>76</td>\n      <td>13</td>\n    </tr>\n    <tr>\n      <th>32</th>\n      <td>100</td>\n      <td>12</td>\n    </tr>\n    <tr>\n      <th>33</th>\n      <td>87</td>\n      <td>9</td>\n    </tr>\n    <tr>\n      <th>34</th>\n      <td>82</td>\n      <td>8</td>\n    </tr>\n    <tr>\n      <th>35</th>\n      <td>85</td>\n      <td>7</td>\n    </tr>\n    <tr>\n      <th>36</th>\n      <td>89</td>\n      <td>6</td>\n    </tr>\n    <tr>\n      <th>37</th>\n      <td>90</td>\n      <td>5</td>\n    </tr>\n    <tr>\n      <th>38</th>\n      <td>107</td>\n      <td>4</td>\n    </tr>\n    <tr>\n      <th>39</th>\n      <td>97</td>\n      <td>4</td>\n    </tr>\n    <tr>\n      <th>40</th>\n      <td>95</td>\n      <td>4</td>\n    </tr>\n    <tr>\n      <th>41</th>\n      <td>92</td>\n      <td>4</td>\n    </tr>\n    <tr>\n      <th>42</th>\n      <td>83</td>\n      <td>3</td>\n    </tr>\n    <tr>\n      <th>43</th>\n      <td>86</td>\n      <td>3</td>\n    </tr>\n    <tr>\n      <th>44</th>\n      <td>98</td>\n      <td>3</td>\n    </tr>\n    <tr>\n      <th>45</th>\n      <td>91</td>\n      <td>2</td>\n    </tr>\n    <tr>\n      <th>46</th>\n      <td>84</td>\n      <td>2</td>\n    </tr>\n    <tr>\n      <th>47</th>\n      <td>93</td>\n      <td>2</td>\n    </tr>\n    <tr>\n      <th>48</th>\n      <td>88</td>\n      <td>2</td>\n    </tr>\n    <tr>\n      <th>49</th>\n      <td>96</td>\n      <td>2</td>\n    </tr>\n    <tr>\n      <th>50</th>\n      <td>110</td>\n      <td>2</td>\n    </tr>\n    <tr>\n      <th>51</th>\n      <td>105</td>\n      <td>1</td>\n    </tr>\n    <tr>\n      <th>52</th>\n      <td>104</td>\n      <td>1</td>\n    </tr>\n    <tr>\n      <th>53</th>\n      <td>102</td>\n      <td>1</td>\n    </tr>\n    <tr>\n      <th>54</th>\n      <td>94</td>\n      <td>1</td>\n    </tr>\n    <tr>\n      <th>55</th>\n      <td>103</td>\n      <td>1</td>\n    </tr>\n    <tr>\n      <th>56</th>\n      <td>115</td>\n      <td>1</td>\n    </tr>\n    <tr>\n      <th>57</th>\n      <td>99</td>\n      <td>1</td>\n    </tr>\n    <tr>\n      <th>58</th>\n      <td>125</td>\n      <td>1</td>\n    </tr>\n    <tr>\n      <th>59</th>\n      <td>108</td>\n      <td>1</td>\n    </tr>\n  </tbody>\n</table>\n</div>"
     },
     "execution_count": 23,
     "metadata": {},
     "output_type": "execute_result"
    }
   ],
   "source": [
    "seq_lengths = merged_df['seq_len_prepadding'].value_counts().index.values, merged_df['seq_len_prepadding'].value_counts().values\n",
    "seq_too_long = pd.DataFrame()\n",
    "seq_too_long['seq_len'] = seq_lengths[0][seq_lengths[0] >= 50]\n",
    "seq_too_long['count'] = seq_lengths[1][seq_lengths[0] >= 50]\n",
    "seq_too_long"
   ],
   "metadata": {
    "collapsed": false,
    "ExecuteTime": {
     "end_time": "2023-09-08T15:59:59.632788100Z",
     "start_time": "2023-09-08T15:59:59.370036500Z"
    }
   }
  },
  {
   "cell_type": "code",
   "execution_count": 24,
   "outputs": [],
   "source": [
    "# give smallest seq_len when count <= 100\n",
    "seq_len_cutoff_df = seq_too_long[seq_too_long['count'] <= 100]\n",
    "seq_len_cutoff = min(seq_len_cutoff_df['seq_len'])"
   ],
   "metadata": {
    "collapsed": false,
    "ExecuteTime": {
     "end_time": "2023-09-08T15:59:59.863331600Z",
     "start_time": "2023-09-08T15:59:59.631787700Z"
    }
   }
  },
  {
   "cell_type": "code",
   "execution_count": 25,
   "outputs": [
    {
     "data": {
      "text/plain": "64"
     },
     "execution_count": 25,
     "metadata": {},
     "output_type": "execute_result"
    }
   ],
   "source": [
    "seq_len_cutoff"
   ],
   "metadata": {
    "collapsed": false,
    "ExecuteTime": {
     "end_time": "2023-09-08T16:00:00.075860700Z",
     "start_time": "2023-09-08T15:59:59.863331600Z"
    }
   }
  },
  {
   "cell_type": "code",
   "execution_count": 26,
   "outputs": [],
   "source": [
    "# reapply max len\n",
    "max_len_seq = seq_len_cutoff-1"
   ],
   "metadata": {
    "collapsed": false,
    "ExecuteTime": {
     "end_time": "2023-09-08T16:00:00.313844600Z",
     "start_time": "2023-09-08T16:00:00.075860700Z"
    }
   }
  },
  {
   "cell_type": "code",
   "execution_count": 27,
   "outputs": [],
   "source": [
    "def seq_translator(sequence, dictionary=vocabulary, max_len=max_len_seq, print_result=False, no_padding=False):\n",
    "    \"\"\"\n",
    "    Translates a sequence into a vector of integers\n",
    "    :param print_result:\n",
    "    :param max_len:\n",
    "    :param sequence: string\n",
    "    :param dictionary: dictionary\n",
    "    :return: list\n",
    "    \"\"\"\n",
    "    pattern = r'[A-Z]\\[[^\\]]*\\]|.' # regex pattern to match amino acids and modifications\n",
    "    #pattern = r'(\\w\\[UNIMOD:\\d+\\])' # regex pattern to match amino acids and modifications\n",
    "\n",
    "    result = [match for match in re.findall(pattern, sequence)]\n",
    "\n",
    "    # Fill the list with \"X\" characters until it reaches a length of 40\n",
    "    if not no_padding:\n",
    "        result += ['X'] * (max_len - len(result))\n",
    "    if print_result:\n",
    "        print(result)\n",
    "\n",
    "    aa_dictionary = dict()\n",
    "    for index, aa in enumerate(dictionary):\n",
    "        aa_dictionary[aa] = index\n",
    "\n",
    "    return [aa_dictionary[aa] for aa in result]"
   ],
   "metadata": {
    "collapsed": false,
    "ExecuteTime": {
     "end_time": "2023-09-08T16:00:00.535036800Z",
     "start_time": "2023-09-08T16:00:00.319842900Z"
    }
   }
  },
  {
   "cell_type": "code",
   "execution_count": 28,
   "outputs": [],
   "source": [
    "delete_a_row = True\n",
    "if delete_a_row:\n",
    "# delete row if seq_len_prepadding larger or equal to seq_len_cutoff\n",
    "    index_to_delete_seq = merged_df[merged_df['seq_len_prepadding'] >= seq_len_cutoff].index\n",
    "    merged_df.drop(index_to_delete_seq, inplace=True)"
   ],
   "metadata": {
    "collapsed": false,
    "ExecuteTime": {
     "end_time": "2023-09-08T16:00:01.028592800Z",
     "start_time": "2023-09-08T16:00:00.536036600Z"
    }
   }
  },
  {
   "cell_type": "code",
   "execution_count": 29,
   "outputs": [
    {
     "data": {
      "text/plain": "Empty DataFrame\nColumns: [modified_sequence, precursor_charge, precursor_intensity, seq_len_prepadding]\nIndex: []",
      "text/html": "<div>\n<style scoped>\n    .dataframe tbody tr th:only-of-type {\n        vertical-align: middle;\n    }\n\n    .dataframe tbody tr th {\n        vertical-align: top;\n    }\n\n    .dataframe thead th {\n        text-align: right;\n    }\n</style>\n<table border=\"1\" class=\"dataframe\">\n  <thead>\n    <tr style=\"text-align: right;\">\n      <th></th>\n      <th>modified_sequence</th>\n      <th>precursor_charge</th>\n      <th>precursor_intensity</th>\n      <th>seq_len_prepadding</th>\n    </tr>\n  </thead>\n  <tbody>\n  </tbody>\n</table>\n</div>"
     },
     "execution_count": 29,
     "metadata": {},
     "output_type": "execute_result"
    }
   ],
   "source": [
    "# output all sequences with seq_len_prepadding >= 50\n",
    "merged_df[merged_df['seq_len_prepadding'] >= seq_len_cutoff]"
   ],
   "metadata": {
    "collapsed": false,
    "ExecuteTime": {
     "end_time": "2023-09-08T16:00:01.272027100Z",
     "start_time": "2023-09-08T16:00:01.027592400Z"
    }
   }
  },
  {
   "cell_type": "code",
   "execution_count": 30,
   "outputs": [],
   "source": [
    "merged_df['normalized'] = merged_df.apply(lambda x: normalize_for_most_abundant(x[\"precursor_charge\"], x[\"precursor_intensity\"]), axis=1)"
   ],
   "metadata": {
    "collapsed": false,
    "ExecuteTime": {
     "end_time": "2023-09-08T16:00:12.782137100Z",
     "start_time": "2023-09-08T16:00:01.273028200Z"
    }
   }
  },
  {
   "cell_type": "code",
   "execution_count": 31,
   "outputs": [],
   "source": [
    "merged_df['pre_normalization'] = merged_df.apply(lambda x: get_most_abundant(x[\"precursor_charge\"], x[\"precursor_intensity\"], True), axis=1)"
   ],
   "metadata": {
    "collapsed": false,
    "ExecuteTime": {
     "end_time": "2023-09-08T16:00:23.102237100Z",
     "start_time": "2023-09-08T16:00:12.783136700Z"
    }
   }
  },
  {
   "cell_type": "code",
   "execution_count": 32,
   "outputs": [],
   "source": [
    "# return key for max value in dict\n",
    "merged_df['most_abundant_charge'] = merged_df['normalized'].apply(lambda x: max(x, key=x.get))"
   ],
   "metadata": {
    "collapsed": false,
    "ExecuteTime": {
     "end_time": "2023-09-08T16:00:23.812838200Z",
     "start_time": "2023-09-08T16:00:23.103239400Z"
    }
   }
  },
  {
   "cell_type": "code",
   "execution_count": 33,
   "outputs": [],
   "source": [
    "merged_df[\"most_abundant_charge_vector\"] = merged_df[\"most_abundant_charge\"].apply(one_hot_precursor, args=(charge_ranges,))"
   ],
   "metadata": {
    "collapsed": false,
    "ExecuteTime": {
     "end_time": "2023-09-08T16:00:25.681483300Z",
     "start_time": "2023-09-08T16:00:23.814351500Z"
    }
   }
  },
  {
   "cell_type": "code",
   "execution_count": 34,
   "outputs": [],
   "source": [
    "merged_df[\"modified_sequence_vector\"] = merged_df[\"modified_sequence\"].apply(seq_translator)"
   ],
   "metadata": {
    "collapsed": false,
    "ExecuteTime": {
     "end_time": "2023-09-08T16:00:33.207486Z",
     "start_time": "2023-09-08T16:00:25.682487100Z"
    }
   }
  },
  {
   "cell_type": "code",
   "execution_count": 35,
   "outputs": [
    {
     "data": {
      "text/plain": "             modified_sequence  \\\n0       AAAAAAAAAAAAAAAAGLGLGP   \n1        AAAAAAAAAAAAAAAASAGGK   \n2       AAAAAAAAAAAAAAAGAGAGAK   \n3   AAAAAAAAAAAAAAASGFAYPGTSER   \n4              AAAAAAAAAAAAAAG   \n5            AAAAAAAAAAAAAAGAG   \n6       AAAAAAAAAAAAAAGGLALGLH   \n7          AAAAAAAAAAAAAAVTSGV   \n8             AAAAAAAAAAAAAGAG   \n9               AAAAAAAAAAAAAK   \n10            AAAAAAAAAAAAHLPS   \n\n                                     precursor_charge  \\\n0   [2, 3, 2, 1, 1, 2, 2, 2, 2, 2, 2, 3, 3, 3, 3, ...   \n1       [2, 2, 2, 2, 2, 2, 2, 2, 2, 2, 2, 2, 2, 2, 2]   \n2                                        [2, 2, 2, 2]   \n3   [2, 2, 2, 2, 2, 2, 2, 2, 2, 2, 2, 2, 2, 2, 2, ...   \n4   [1, 1, 1, 1, 1, 1, 1, 1, 1, 1, 1, 1, 1, 1, 1, ...   \n5   [1, 1, 1, 1, 1, 1, 1, 1, 1, 1, 1, 1, 1, 1, 1, ...   \n6   [2, 2, 2, 2, 2, 2, 2, 2, 2, 2, 2, 2, 2, 2, 2, ...   \n7   [2, 2, 2, 2, 2, 2, 2, 2, 2, 2, 2, 2, 2, 2, 2, ...   \n8   [1, 2, 1, 1, 1, 1, 1, 2, 2, 2, 2, 2, 2, 2, 1, ...   \n9   [1, 2, 2, 2, 2, 2, 1, 1, 1, 2, 2, 1, 1, 2, 2, ...   \n10  [2, 2, 2, 2, 2, 2, 2, 2, 2, 2, 2, 2, 2, 2, 2, ...   \n\n                                  precursor_intensity  seq_len_prepadding  \\\n0   [12746190.0, 2009914.0, 12746190.0, 791369.9, ...                  22   \n1   [5944787.0, 5944787.0, 8502878.0, 6425294.0, 8...                  21   \n2        [3067981.0, 3067981.0, 3067981.0, 3067981.0]                  22   \n3   [11913300.0, 11913300.0, 11913300.0, 11913300....                  26   \n4   [1573785.0, 4638296.0, 7934979.0, 2019978.0, 4...                  15   \n5   [853119.3, 4332449.0, 3688977.0, 3469130.0, 33...                  17   \n6   [33516080.0, 33516080.0, 8522070.0, 4549188.0,...                  22   \n7   [4576179.0, 3336856.0, 4954145.0, 4317804.0, 3...                  19   \n8   [1233316.0, 2671238.0, 11414430.0, 13683660.0,...                  16   \n9   [2540360.0, 31115000.0, 31115000.0, 70371250.0...                  14   \n10  [27030420.0, 22099630.0, 71770480.0, 22099630....                  16   \n\n                                  normalized  \\\n0   {2: 588796.3, 3: 4654280.0, 1: 791369.9}   \n1                              {2: 303307.5}   \n2                             {2: 3067981.0}   \n3               {2: 8093413.0, 3: 1414907.0}   \n4                             {1: 1124818.0}   \n5                              {1: 679216.3}   \n6                              {2: 365943.3}   \n7              {2: 14611910.0, 1: 1211272.0}   \n8               {1: 1879604.0, 2: 2586197.0}   \n9              {1: 8372130.0, 2: 15308280.0}   \n10                            {2: 5810305.0}   \n\n                                 pre_normalization  most_abundant_charge  \\\n0   {2: 1043873837.3, 3: 30130627.0, 1: 1582739.8}                     3   \n1                                 {2: 107202221.5}                     2   \n2                                  {2: 12271924.0}                     2   \n3                   {2: 148659685.0, 3: 4244721.0}                     2   \n4                           {1: 546950229.4000001}                     1   \n5                                  {1: 52634067.9}                     1   \n6                           {2: 6848110396.300002}                     2   \n7            {2: 225462597.40000004, 1: 5840742.2}                     2   \n8                 {1: 349665943.5, 2: 228379326.3}                     2   \n9                 {1: 99493666.2, 2: 6574531120.0}                     2   \n10                               {2: 9446767331.0}                     2   \n\n   most_abundant_charge_vector  \\\n0           [0, 0, 1, 0, 0, 0]   \n1           [0, 1, 0, 0, 0, 0]   \n2           [0, 1, 0, 0, 0, 0]   \n3           [0, 1, 0, 0, 0, 0]   \n4           [1, 0, 0, 0, 0, 0]   \n5           [1, 0, 0, 0, 0, 0]   \n6           [0, 1, 0, 0, 0, 0]   \n7           [0, 1, 0, 0, 0, 0]   \n8           [0, 1, 0, 0, 0, 0]   \n9           [0, 1, 0, 0, 0, 0]   \n10          [0, 1, 0, 0, 0, 0]   \n\n                             modified_sequence_vector  \n0   [1, 1, 1, 1, 1, 1, 1, 1, 1, 1, 1, 1, 1, 1, 1, ...  \n1   [1, 1, 1, 1, 1, 1, 1, 1, 1, 1, 1, 1, 1, 1, 1, ...  \n2   [1, 1, 1, 1, 1, 1, 1, 1, 1, 1, 1, 1, 1, 1, 1, ...  \n3   [1, 1, 1, 1, 1, 1, 1, 1, 1, 1, 1, 1, 1, 1, 1, ...  \n4   [1, 1, 1, 1, 1, 1, 1, 1, 1, 1, 1, 1, 1, 1, 6, ...  \n5   [1, 1, 1, 1, 1, 1, 1, 1, 1, 1, 1, 1, 1, 1, 6, ...  \n6   [1, 1, 1, 1, 1, 1, 1, 1, 1, 1, 1, 1, 1, 1, 6, ...  \n7   [1, 1, 1, 1, 1, 1, 1, 1, 1, 1, 1, 1, 1, 1, 18,...  \n8   [1, 1, 1, 1, 1, 1, 1, 1, 1, 1, 1, 1, 1, 6, 1, ...  \n9   [1, 1, 1, 1, 1, 1, 1, 1, 1, 1, 1, 1, 1, 9, 0, ...  \n10  [1, 1, 1, 1, 1, 1, 1, 1, 1, 1, 1, 1, 7, 10, 13...  ",
      "text/html": "<div>\n<style scoped>\n    .dataframe tbody tr th:only-of-type {\n        vertical-align: middle;\n    }\n\n    .dataframe tbody tr th {\n        vertical-align: top;\n    }\n\n    .dataframe thead th {\n        text-align: right;\n    }\n</style>\n<table border=\"1\" class=\"dataframe\">\n  <thead>\n    <tr style=\"text-align: right;\">\n      <th></th>\n      <th>modified_sequence</th>\n      <th>precursor_charge</th>\n      <th>precursor_intensity</th>\n      <th>seq_len_prepadding</th>\n      <th>normalized</th>\n      <th>pre_normalization</th>\n      <th>most_abundant_charge</th>\n      <th>most_abundant_charge_vector</th>\n      <th>modified_sequence_vector</th>\n    </tr>\n  </thead>\n  <tbody>\n    <tr>\n      <th>0</th>\n      <td>AAAAAAAAAAAAAAAAGLGLGP</td>\n      <td>[2, 3, 2, 1, 1, 2, 2, 2, 2, 2, 2, 3, 3, 3, 3, ...</td>\n      <td>[12746190.0, 2009914.0, 12746190.0, 791369.9, ...</td>\n      <td>22</td>\n      <td>{2: 588796.3, 3: 4654280.0, 1: 791369.9}</td>\n      <td>{2: 1043873837.3, 3: 30130627.0, 1: 1582739.8}</td>\n      <td>3</td>\n      <td>[0, 0, 1, 0, 0, 0]</td>\n      <td>[1, 1, 1, 1, 1, 1, 1, 1, 1, 1, 1, 1, 1, 1, 1, ...</td>\n    </tr>\n    <tr>\n      <th>1</th>\n      <td>AAAAAAAAAAAAAAAASAGGK</td>\n      <td>[2, 2, 2, 2, 2, 2, 2, 2, 2, 2, 2, 2, 2, 2, 2]</td>\n      <td>[5944787.0, 5944787.0, 8502878.0, 6425294.0, 8...</td>\n      <td>21</td>\n      <td>{2: 303307.5}</td>\n      <td>{2: 107202221.5}</td>\n      <td>2</td>\n      <td>[0, 1, 0, 0, 0, 0]</td>\n      <td>[1, 1, 1, 1, 1, 1, 1, 1, 1, 1, 1, 1, 1, 1, 1, ...</td>\n    </tr>\n    <tr>\n      <th>2</th>\n      <td>AAAAAAAAAAAAAAAGAGAGAK</td>\n      <td>[2, 2, 2, 2]</td>\n      <td>[3067981.0, 3067981.0, 3067981.0, 3067981.0]</td>\n      <td>22</td>\n      <td>{2: 3067981.0}</td>\n      <td>{2: 12271924.0}</td>\n      <td>2</td>\n      <td>[0, 1, 0, 0, 0, 0]</td>\n      <td>[1, 1, 1, 1, 1, 1, 1, 1, 1, 1, 1, 1, 1, 1, 1, ...</td>\n    </tr>\n    <tr>\n      <th>3</th>\n      <td>AAAAAAAAAAAAAAASGFAYPGTSER</td>\n      <td>[2, 2, 2, 2, 2, 2, 2, 2, 2, 2, 2, 2, 2, 2, 2, ...</td>\n      <td>[11913300.0, 11913300.0, 11913300.0, 11913300....</td>\n      <td>26</td>\n      <td>{2: 8093413.0, 3: 1414907.0}</td>\n      <td>{2: 148659685.0, 3: 4244721.0}</td>\n      <td>2</td>\n      <td>[0, 1, 0, 0, 0, 0]</td>\n      <td>[1, 1, 1, 1, 1, 1, 1, 1, 1, 1, 1, 1, 1, 1, 1, ...</td>\n    </tr>\n    <tr>\n      <th>4</th>\n      <td>AAAAAAAAAAAAAAG</td>\n      <td>[1, 1, 1, 1, 1, 1, 1, 1, 1, 1, 1, 1, 1, 1, 1, ...</td>\n      <td>[1573785.0, 4638296.0, 7934979.0, 2019978.0, 4...</td>\n      <td>15</td>\n      <td>{1: 1124818.0}</td>\n      <td>{1: 546950229.4000001}</td>\n      <td>1</td>\n      <td>[1, 0, 0, 0, 0, 0]</td>\n      <td>[1, 1, 1, 1, 1, 1, 1, 1, 1, 1, 1, 1, 1, 1, 6, ...</td>\n    </tr>\n    <tr>\n      <th>5</th>\n      <td>AAAAAAAAAAAAAAGAG</td>\n      <td>[1, 1, 1, 1, 1, 1, 1, 1, 1, 1, 1, 1, 1, 1, 1, ...</td>\n      <td>[853119.3, 4332449.0, 3688977.0, 3469130.0, 33...</td>\n      <td>17</td>\n      <td>{1: 679216.3}</td>\n      <td>{1: 52634067.9}</td>\n      <td>1</td>\n      <td>[1, 0, 0, 0, 0, 0]</td>\n      <td>[1, 1, 1, 1, 1, 1, 1, 1, 1, 1, 1, 1, 1, 1, 6, ...</td>\n    </tr>\n    <tr>\n      <th>6</th>\n      <td>AAAAAAAAAAAAAAGGLALGLH</td>\n      <td>[2, 2, 2, 2, 2, 2, 2, 2, 2, 2, 2, 2, 2, 2, 2, ...</td>\n      <td>[33516080.0, 33516080.0, 8522070.0, 4549188.0,...</td>\n      <td>22</td>\n      <td>{2: 365943.3}</td>\n      <td>{2: 6848110396.300002}</td>\n      <td>2</td>\n      <td>[0, 1, 0, 0, 0, 0]</td>\n      <td>[1, 1, 1, 1, 1, 1, 1, 1, 1, 1, 1, 1, 1, 1, 6, ...</td>\n    </tr>\n    <tr>\n      <th>7</th>\n      <td>AAAAAAAAAAAAAAVTSGV</td>\n      <td>[2, 2, 2, 2, 2, 2, 2, 2, 2, 2, 2, 2, 2, 2, 2, ...</td>\n      <td>[4576179.0, 3336856.0, 4954145.0, 4317804.0, 3...</td>\n      <td>19</td>\n      <td>{2: 14611910.0, 1: 1211272.0}</td>\n      <td>{2: 225462597.40000004, 1: 5840742.2}</td>\n      <td>2</td>\n      <td>[0, 1, 0, 0, 0, 0]</td>\n      <td>[1, 1, 1, 1, 1, 1, 1, 1, 1, 1, 1, 1, 1, 1, 18,...</td>\n    </tr>\n    <tr>\n      <th>8</th>\n      <td>AAAAAAAAAAAAAGAG</td>\n      <td>[1, 2, 1, 1, 1, 1, 1, 2, 2, 2, 2, 2, 2, 2, 1, ...</td>\n      <td>[1233316.0, 2671238.0, 11414430.0, 13683660.0,...</td>\n      <td>16</td>\n      <td>{1: 1879604.0, 2: 2586197.0}</td>\n      <td>{1: 349665943.5, 2: 228379326.3}</td>\n      <td>2</td>\n      <td>[0, 1, 0, 0, 0, 0]</td>\n      <td>[1, 1, 1, 1, 1, 1, 1, 1, 1, 1, 1, 1, 1, 6, 1, ...</td>\n    </tr>\n    <tr>\n      <th>9</th>\n      <td>AAAAAAAAAAAAAK</td>\n      <td>[1, 2, 2, 2, 2, 2, 1, 1, 1, 2, 2, 1, 1, 2, 2, ...</td>\n      <td>[2540360.0, 31115000.0, 31115000.0, 70371250.0...</td>\n      <td>14</td>\n      <td>{1: 8372130.0, 2: 15308280.0}</td>\n      <td>{1: 99493666.2, 2: 6574531120.0}</td>\n      <td>2</td>\n      <td>[0, 1, 0, 0, 0, 0]</td>\n      <td>[1, 1, 1, 1, 1, 1, 1, 1, 1, 1, 1, 1, 1, 9, 0, ...</td>\n    </tr>\n    <tr>\n      <th>10</th>\n      <td>AAAAAAAAAAAAHLPS</td>\n      <td>[2, 2, 2, 2, 2, 2, 2, 2, 2, 2, 2, 2, 2, 2, 2, ...</td>\n      <td>[27030420.0, 22099630.0, 71770480.0, 22099630....</td>\n      <td>16</td>\n      <td>{2: 5810305.0}</td>\n      <td>{2: 9446767331.0}</td>\n      <td>2</td>\n      <td>[0, 1, 0, 0, 0, 0]</td>\n      <td>[1, 1, 1, 1, 1, 1, 1, 1, 1, 1, 1, 1, 7, 10, 13...</td>\n    </tr>\n  </tbody>\n</table>\n</div>"
     },
     "execution_count": 35,
     "metadata": {},
     "output_type": "execute_result"
    }
   ],
   "source": [
    "merged_df.head(11)"
   ],
   "metadata": {
    "collapsed": false,
    "ExecuteTime": {
     "end_time": "2023-09-08T16:00:33.550805700Z",
     "start_time": "2023-09-08T16:00:33.208483100Z"
    }
   }
  },
  {
   "cell_type": "code",
   "execution_count": 36,
   "outputs": [
    {
     "data": {
      "text/plain": "830820"
     },
     "execution_count": 36,
     "metadata": {},
     "output_type": "execute_result"
    }
   ],
   "source": [
    "len(merged_df)"
   ],
   "metadata": {
    "collapsed": false,
    "ExecuteTime": {
     "end_time": "2023-09-08T16:00:33.930448400Z",
     "start_time": "2023-09-08T16:00:33.551807600Z"
    }
   }
  },
  {
   "cell_type": "code",
   "execution_count": 37,
   "outputs": [
    {
     "data": {
      "text/plain": "2    452544\n3    259972\n4     65966\n1     41352\n5      9069\n6      1917\nName: most_abundant_charge, dtype: int64"
     },
     "execution_count": 37,
     "metadata": {},
     "output_type": "execute_result"
    }
   ],
   "source": [
    "merged_df[\"most_abundant_charge\"].value_counts()"
   ],
   "metadata": {
    "collapsed": false,
    "ExecuteTime": {
     "end_time": "2023-09-08T16:00:34.322027600Z",
     "start_time": "2023-09-08T16:00:33.930448400Z"
    }
   }
  },
  {
   "cell_type": "code",
   "execution_count": 38,
   "outputs": [],
   "source": [
    "#get the"
   ],
   "metadata": {
    "collapsed": false,
    "ExecuteTime": {
     "end_time": "2023-09-08T16:00:34.722516400Z",
     "start_time": "2023-09-08T16:00:34.323029900Z"
    }
   }
  },
  {
   "cell_type": "code",
   "execution_count": 39,
   "outputs": [
    {
     "name": "stdout",
     "output_type": "stream",
     "text": [
      "data/Thermo_SRM_Pool_meta_data.parquet\n"
     ]
    },
    {
     "name": "stderr",
     "output_type": "stream",
     "text": [
      "C:\\Users\\micro\\AppData\\Local\\Temp\\ipykernel_25132\\365009680.py:2: FutureWarning: Indexing with multiple keys (implicitly converted to a tuple of keys) will be deprecated, use a list instead.\n",
      "  look_up_df = batches_parquet[file_list[0]].groupby(\"modified_sequence\")[\"precursor_charge\", \"precursor_intensity\"].agg(list).reset_index()\n"
     ]
    },
    {
     "data": {
      "text/plain": "70445"
     },
     "execution_count": 39,
     "metadata": {},
     "output_type": "execute_result"
    }
   ],
   "source": [
    "print(file_list[0])\n",
    "look_up_df = batches_parquet[file_list[0]].groupby(\"modified_sequence\")[\"precursor_charge\", \"precursor_intensity\"].agg(list).reset_index()\n",
    "len(look_up_df)"
   ],
   "metadata": {
    "collapsed": false,
    "ExecuteTime": {
     "end_time": "2023-09-08T16:00:39.070050600Z",
     "start_time": "2023-09-08T16:00:34.765546Z"
    }
   }
  },
  {
   "cell_type": "markdown",
   "source": [
    "# Dataset preprocessing: Conv2d"
   ],
   "metadata": {
    "collapsed": false
   }
  },
  {
   "cell_type": "code",
   "execution_count": 40,
   "outputs": [
    {
     "name": "stdout",
     "output_type": "stream",
     "text": [
      "most abundant:  {1: 91111655, 2: 612265}\n"
     ]
    }
   ],
   "source": [
    "# proof of concept\n",
    "# we have a sequence ABC with:\n",
    "list_a = [1,2,1,2,1,2,1,2,1,2] # charge states for \"ABC\" sequence with multiple appearances\n",
    "list_b = [111,21,311,41,51,611111,71,81,91111111,1011] # intensities for \"ABC\" sequence in each charge state\n",
    "print(\"most abundant: \", get_most_abundant(list_a, list_b, True))"
   ],
   "metadata": {
    "collapsed": false,
    "ExecuteTime": {
     "end_time": "2023-09-08T16:00:39.361892800Z",
     "start_time": "2023-09-08T16:00:39.071052300Z"
    }
   }
  },
  {
   "cell_type": "code",
   "execution_count": 41,
   "outputs": [],
   "source": [
    "main_ds = np.array(merged_df[\"modified_sequence_vector\"]) # to list\n",
    "main_ds_labels = np.array(merged_df['most_abundant_charge_vector'])"
   ],
   "metadata": {
    "collapsed": false,
    "ExecuteTime": {
     "end_time": "2023-09-08T16:00:39.695874500Z",
     "start_time": "2023-09-08T16:00:39.357882100Z"
    }
   }
  },
  {
   "cell_type": "code",
   "execution_count": 42,
   "outputs": [],
   "source": [
    "# Create an instance of StratifiedShuffleSplit\n",
    "sss1 = StratifiedShuffleSplit(n_splits=1, test_size=0.1, random_state=42)\n",
    "sss2 = StratifiedShuffleSplit(n_splits=1, test_size=0.3, random_state=42)\n",
    "\n",
    "# Perform the split train+val and test\n",
    "trainval_indicies, test_indicies = next(sss1.split(main_ds, main_ds_labels))\n",
    "\n",
    "trainval_ds, trainval_labels = main_ds[trainval_indicies], main_ds_labels[trainval_indicies]\n",
    "test_ds, test_labels = main_ds[test_indicies], main_ds_labels[test_indicies]"
   ],
   "metadata": {
    "collapsed": false,
    "ExecuteTime": {
     "end_time": "2023-09-08T16:00:41.075805800Z",
     "start_time": "2023-09-08T16:00:39.695874500Z"
    }
   }
  },
  {
   "cell_type": "code",
   "execution_count": 43,
   "outputs": [],
   "source": [
    "# Perform the split train and val\n",
    "train_indicies, val_indicies = next(sss2.split(trainval_ds, trainval_labels))\n",
    "\n",
    "train_ds, train_labels = trainval_ds[train_indicies], trainval_labels[train_indicies]\n",
    "val_ds, val_labels = trainval_ds[val_indicies], trainval_labels[val_indicies]\n",
    "\n",
    "\n",
    "charges = [1,2,3,4,5,6] # TODO SELECT CLASSES\n",
    "num_classes = len(charges)"
   ],
   "metadata": {
    "collapsed": false,
    "ExecuteTime": {
     "end_time": "2023-09-08T16:00:42.675778100Z",
     "start_time": "2023-09-08T16:00:41.076804Z"
    }
   }
  },
  {
   "cell_type": "markdown",
   "source": [
    "# Embedding model test:"
   ],
   "metadata": {
    "collapsed": false
   }
  },
  {
   "cell_type": "code",
   "execution_count": 45,
   "outputs": [],
   "source": [
    "# Create an instance of StratifiedShuffleSplit\n",
    "sss = StratifiedShuffleSplit(n_splits=1, test_size=0.2, random_state=42)"
   ],
   "metadata": {
    "collapsed": false,
    "ExecuteTime": {
     "end_time": "2023-09-08T16:01:30.385429900Z",
     "start_time": "2023-09-08T16:01:30.156327200Z"
    }
   }
  },
  {
   "cell_type": "code",
   "execution_count": 47,
   "outputs": [],
   "source": [
    "df1 = merged_df.sample(frac = 0.1, random_state = 42)\n",
    "test_ds_embed = np.array(df1['modified_sequence_vector'])\n",
    "test_ds_embed_raw = np.array(df1['modified_sequence'])\n",
    "test_labels_embed = np.array(df1['most_abundant_charge_vector'])\n",
    "test_true_labels_normalized = np.array(df1['normalized'])\n",
    "\n",
    "df2 = merged_df.drop(df1.index)\n",
    "trainval_ds_embed = np.array(df2['modified_sequence_vector'])\n",
    "trainval_ds_embed_raw = np.array(df2['modified_sequence'])\n",
    "trainval_labels_embed = np.array(df2['most_abundant_charge_vector'])"
   ],
   "metadata": {
    "collapsed": false,
    "ExecuteTime": {
     "end_time": "2023-09-08T16:01:54.111334900Z",
     "start_time": "2023-09-08T16:01:42.245791300Z"
    }
   }
  },
  {
   "cell_type": "code",
   "execution_count": 48,
   "outputs": [],
   "source": [
    "# Perform the split train and val\n",
    "train_indicies_embed, val_indicies_embed = next(sss.split(trainval_ds_embed, trainval_labels_embed, trainval_ds_embed_raw))"
   ],
   "metadata": {
    "collapsed": false,
    "ExecuteTime": {
     "end_time": "2023-09-08T16:01:54.162336700Z",
     "start_time": "2023-09-08T16:01:42.724073900Z"
    }
   }
  },
  {
   "cell_type": "code",
   "execution_count": 49,
   "outputs": [],
   "source": [
    "train_ds_embed, train_labels_embed = trainval_ds_embed[train_indicies_embed], trainval_labels_embed[train_indicies_embed]\n",
    "val_ds_embed, val_labels_embed = trainval_ds_embed[val_indicies_embed], trainval_labels_embed[val_indicies_embed]\n",
    "train_ds_embed_raw, val_ds_embed_raw = trainval_ds_embed_raw[train_indicies_embed], trainval_ds_embed_raw[val_indicies_embed]\n",
    "\n",
    "charges = [1,2,3,4,5,6] # TODO SELECT CLASSES\n",
    "num_classes = len(charges)"
   ],
   "metadata": {
    "collapsed": false,
    "ExecuteTime": {
     "end_time": "2023-09-08T16:01:54.205847600Z",
     "start_time": "2023-09-08T16:01:43.838185900Z"
    }
   }
  },
  {
   "cell_type": "code",
   "execution_count": 50,
   "outputs": [],
   "source": [
    "train_ds_embed  = [np.array(x) for x in train_ds_embed]\n",
    "val_ds_embed = [np.array(x) for x in val_ds_embed]\n",
    "test_ds_embed = [np.array(x) for x in test_ds_embed]"
   ],
   "metadata": {
    "collapsed": false,
    "ExecuteTime": {
     "end_time": "2023-09-08T16:01:54.206850400Z",
     "start_time": "2023-09-08T16:01:44.192324100Z"
    }
   }
  },
  {
   "cell_type": "code",
   "execution_count": 51,
   "outputs": [],
   "source": [
    "train_labels_embed = [np.array(x) for x in train_labels_embed]\n",
    "val_labels_embed = [np.array(x) for x in val_labels_embed]\n",
    "test_labels_embed = [np.array(x) for x in test_labels_embed]"
   ],
   "metadata": {
    "collapsed": false,
    "ExecuteTime": {
     "end_time": "2023-09-08T16:01:54.206850400Z",
     "start_time": "2023-09-08T16:01:48.686526200Z"
    }
   }
  },
  {
   "cell_type": "code",
   "execution_count": 52,
   "outputs": [],
   "source": [
    "train_ds_embed = tf.convert_to_tensor(train_ds_embed)\n",
    "val_ds_embed = tf.convert_to_tensor(val_ds_embed)\n",
    "train_labels_embed = tf.convert_to_tensor(train_labels_embed)\n",
    "val_labels_embed = tf.convert_to_tensor(val_labels_embed)\n",
    "\n",
    "test_ds_embed = tf.convert_to_tensor(test_ds_embed)\n",
    "test_labels_embed = tf.convert_to_tensor(test_labels_embed)"
   ],
   "metadata": {
    "collapsed": false,
    "ExecuteTime": {
     "end_time": "2023-09-08T16:01:55.326278100Z",
     "start_time": "2023-09-08T16:01:49.740757200Z"
    }
   }
  },
  {
   "cell_type": "markdown",
   "source": [],
   "metadata": {
    "collapsed": false
   }
  },
  {
   "cell_type": "code",
   "execution_count": 53,
   "outputs": [
    {
     "data": {
      "text/plain": "<tf.Tensor: shape=(63,), dtype=int32, numpy=\narray([18, 18, 16,  1,  6, 13, 19, 16, 16,  4,  9,  1,  4, 11, 12,  8, 10,\n        4,  8, 12,  4, 17, 10, 15,  0,  0,  0,  0,  0,  0,  0,  0,  0,  0,\n        0,  0,  0,  0,  0,  0,  0,  0,  0,  0,  0,  0,  0,  0,  0,  0,  0,\n        0,  0,  0,  0,  0,  0,  0,  0,  0,  0,  0,  0])>"
     },
     "execution_count": 53,
     "metadata": {},
     "output_type": "execute_result"
    }
   ],
   "source": [
    "train_ds_embed[0]"
   ],
   "metadata": {
    "collapsed": false,
    "ExecuteTime": {
     "end_time": "2023-09-08T16:01:55.590653200Z",
     "start_time": "2023-09-08T16:01:55.324277Z"
    }
   }
  },
  {
   "cell_type": "code",
   "execution_count": 228,
   "outputs": [
    {
     "data": {
      "text/plain": "<IPython.core.display.HTML object>",
      "text/html": "wandb version 0.15.10 is available!  To upgrade, please run:\n $ pip install wandb --upgrade"
     },
     "metadata": {},
     "output_type": "display_data"
    },
    {
     "data": {
      "text/plain": "<IPython.core.display.HTML object>",
      "text/html": "Tracking run with wandb version 0.15.5"
     },
     "metadata": {},
     "output_type": "display_data"
    },
    {
     "data": {
      "text/plain": "<IPython.core.display.HTML object>",
      "text/html": "Run data is saved locally in <code>C:\\Users\\micro\\OneDrive\\Dokumente\\GitHub\\Masterpraktikum\\wandb\\run-20230908_203732-vafhu73x</code>"
     },
     "metadata": {},
     "output_type": "display_data"
    },
    {
     "data": {
      "text/plain": "<IPython.core.display.HTML object>",
      "text/html": "Syncing run <strong><a href='https://wandb.ai/team-bioinf/embed_visualisation/runs/vafhu73x' target=\"_blank\">proud-morning-13</a></strong> to <a href='https://wandb.ai/team-bioinf/embed_visualisation' target=\"_blank\">Weights & Biases</a> (<a href='https://wandb.me/run' target=\"_blank\">docs</a>)<br/>"
     },
     "metadata": {},
     "output_type": "display_data"
    },
    {
     "data": {
      "text/plain": "<IPython.core.display.HTML object>",
      "text/html": " View project at <a href='https://wandb.ai/team-bioinf/embed_visualisation' target=\"_blank\">https://wandb.ai/team-bioinf/embed_visualisation</a>"
     },
     "metadata": {},
     "output_type": "display_data"
    },
    {
     "data": {
      "text/plain": "<IPython.core.display.HTML object>",
      "text/html": " View run at <a href='https://wandb.ai/team-bioinf/embed_visualisation/runs/vafhu73x' target=\"_blank\">https://wandb.ai/team-bioinf/embed_visualisation/runs/vafhu73x</a>"
     },
     "metadata": {},
     "output_type": "display_data"
    },
    {
     "data": {
      "text/html": "<button onClick=\"this.nextSibling.style.display='block';this.style.display='none';\">Display W&B run</button><iframe src='https://wandb.ai/team-bioinf/embed_visualisation/runs/vafhu73x?jupyter=true' style='border:none;width:100%;height:420px;display:none;'></iframe>",
      "text/plain": "<wandb.sdk.wandb_run.Run at 0x1e825769b90>"
     },
     "execution_count": 228,
     "metadata": {},
     "output_type": "execute_result"
    }
   ],
   "source": [
    "wandb.init(project='embed_visualisation', settings=wandb.Settings(code_dir=\"models/\"))"
   ],
   "metadata": {
    "collapsed": false,
    "ExecuteTime": {
     "end_time": "2023-09-08T18:37:34.025795300Z",
     "start_time": "2023-09-08T18:37:32.497783700Z"
    }
   }
  },
  {
   "cell_type": "code",
   "execution_count": 229,
   "outputs": [],
   "source": [
    "# create a wandb table with all hyperparameters\n",
    "config = wandb.config\n",
    "config.trueness =\"ye, this is just default. Dont mention it.\"\n",
    "config.learning_rate = 0.0001\n",
    "config.epochs = 30\n",
    "config.batch_size = 4096\n",
    "config.optimizer = \"Adam\"\n",
    "config.loss_function = \"CategoricalCrossentropy\"\n",
    "config.layers = \"Embedding, Flatten, Dense, Dense\"\n",
    "config.activation_function = \"relu\"\n",
    "config.output_activation_function = \"softmax\"\n",
    "config.embedding_output_dim = max_len_seq\n",
    "config.embedding_input_dim = voc_len\n",
    "config.embedding_input_length = max_len_seq\n",
    "config.embedding_trainable = True\n",
    "config.embedding_mask_zero = False\n",
    "config.embedding_activity_regularizer = None\n",
    "config.embedding_weights = None\n"
   ],
   "metadata": {
    "collapsed": false,
    "ExecuteTime": {
     "end_time": "2023-09-08T18:37:36.074583600Z",
     "start_time": "2023-09-08T18:37:35.801866Z"
    }
   }
  },
  {
   "cell_type": "code",
   "execution_count": 230,
   "outputs": [],
   "source": [
    "from keras import Sequential, Model\n",
    "from keras.layers import Embedding, Flatten, Dense, Conv1D, Conv2D, MaxPooling1D, MaxPooling2D, Input, concatenate, Rescaling\n",
    "# define two sets of inputs\n",
    "inputA_embed = Input(shape=train_ds_embed[0].shape)\n",
    "# the first branch operates on the first input\n",
    "x = Model(inputs=inputA_embed, outputs=inputA_embed)\n",
    "y = Embedding(input_dim=voc_len, output_dim=max_len_seq, input_length=max_len_seq)(inputA_embed)\n",
    "# input dim = vocabulary size\n",
    "# output dim = the number opf dimensions we WISH to embed into. Each word will be represented by a vector of this much dimensions\n",
    "# input length = length of the maximum input sequence\n",
    "y = Flatten()(y)\n",
    "#y = Dense(max_len_seq, activation=\"relu\")(y)\n",
    "z = Dense(num_classes, activation=\"softmax\")(y)\n",
    "# our model will accept the inputs of the two branches and\n",
    "# then output a single value\n",
    "model_embed = Model(inputs=[x.input], outputs=z)"
   ],
   "metadata": {
    "collapsed": false,
    "ExecuteTime": {
     "end_time": "2023-09-08T18:37:44.684537200Z",
     "start_time": "2023-09-08T18:37:44.326512700Z"
    }
   }
  },
  {
   "cell_type": "code",
   "execution_count": 57,
   "outputs": [],
   "source": [
    "# # MODEL\n",
    "# seq_len_after_cutoff = seq_len_cutoff-1\n",
    "# \n",
    "# from keras import Sequential, Model\n",
    "# from keras.layers import Embedding, Flatten, Dense, Conv1D, Conv2D, MaxPooling1D, MaxPooling2D, Input, concatenate, Rescaling\n",
    "# # define two sets of inputs\n",
    "# inputA_embed = Input(shape=train_ds_embed[0].shape)\n",
    "# x = Model(inputs=inputA_embed, outputs=inputA_embed)\n",
    "# y = Embedding(input_dim=voc_len, output_dim=max_len_seq, input_length=max_len_seq)(inputA_embed)\n",
    "# y = Flatten()(y)\n",
    "# #y = Dense(seq_len_after_cutoff, activation=\"relu\")(y)\n",
    "# z = Dense(num_classes, activation=\"sigmoid\")(y)\n",
    "# model_embed = Model(inputs=[x.input], outputs=z)"
   ],
   "metadata": {
    "collapsed": false,
    "ExecuteTime": {
     "end_time": "2023-09-08T16:02:08.029323600Z",
     "start_time": "2023-09-08T16:02:07.827574500Z"
    }
   }
  },
  {
   "cell_type": "code",
   "execution_count": 231,
   "outputs": [
    {
     "name": "stdout",
     "output_type": "stream",
     "text": [
      "Model: \"model_18\"\n",
      "_________________________________________________________________\n",
      " Layer (type)                Output Shape              Param #   \n",
      "=================================================================\n",
      " input_10 (InputLayer)       [(None, 63)]              0         \n",
      "                                                                 \n",
      " embedding_8 (Embedding)     (None, 63, 63)            1449      \n",
      "                                                                 \n",
      " flatten_8 (Flatten)         (None, 3969)              0         \n",
      "                                                                 \n",
      " dense_8 (Dense)             (None, 6)                 23820     \n",
      "                                                                 \n",
      "=================================================================\n",
      "Total params: 25,269\n",
      "Trainable params: 25,269\n",
      "Non-trainable params: 0\n",
      "_________________________________________________________________\n"
     ]
    }
   ],
   "source": [
    "model_embed.summary()"
   ],
   "metadata": {
    "collapsed": false,
    "ExecuteTime": {
     "end_time": "2023-09-08T18:37:47.909695200Z",
     "start_time": "2023-09-08T18:37:47.198665900Z"
    }
   }
  },
  {
   "cell_type": "code",
   "execution_count": 232,
   "outputs": [
    {
     "data": {
      "image/png": "[encoded data removed]",
      "text/plain": "<IPython.core.display.Image object>"
     },
     "execution_count": 232,
     "metadata": {},
     "output_type": "execute_result"
    }
   ],
   "source": [
    "# plot model\n",
    "tf.keras.utils.plot_model(model_embed, show_shapes=True, show_layer_names=True)"
   ],
   "metadata": {
    "collapsed": false,
    "ExecuteTime": {
     "end_time": "2023-09-08T18:37:50.320650500Z",
     "start_time": "2023-09-08T18:37:49.921298Z"
    }
   }
  },
  {
   "cell_type": "code",
   "execution_count": 233,
   "outputs": [],
   "source": [
    "# # Compile the model\n",
    "model_embed.compile(loss=tf.keras.losses.CategoricalCrossentropy(), optimizer=keras.optimizers.Adam(learning_rate=0.0001), metrics=['categorical_accuracy'])"
   ],
   "metadata": {
    "collapsed": false,
    "ExecuteTime": {
     "end_time": "2023-09-08T18:37:52.507989400Z",
     "start_time": "2023-09-08T18:37:52.244220500Z"
    }
   }
  },
  {
   "cell_type": "code",
   "execution_count": 61,
   "outputs": [],
   "source": [
    "# Compile the model\n",
    "#model_embed.compile(loss=tf.keras.losses.BinaryCrossentropy(), optimizer=keras.optimizers.Adam(learning_rate=0.0001), metrics=['binary_accuracy'])"
   ],
   "metadata": {
    "collapsed": false,
    "ExecuteTime": {
     "end_time": "2023-09-08T16:02:08.903646900Z",
     "start_time": "2023-09-08T16:02:08.168493900Z"
    }
   }
  },
  {
   "cell_type": "code",
   "execution_count": 234,
   "outputs": [],
   "source": [
    "checkpoint_callback_embed = ModelCheckpoint('precursor_charge_prediction_model_embed/embed.h5', monitor='val_accuracy', save_best_only=True, mode='max')\n",
    "\n",
    "# Define early stopping\n",
    "early_stopping_embed = tf.keras.callbacks.EarlyStopping(monitor='val_loss', patience=10)"
   ],
   "metadata": {
    "collapsed": false,
    "ExecuteTime": {
     "end_time": "2023-09-08T18:37:53.907490200Z",
     "start_time": "2023-09-08T18:37:53.654526Z"
    }
   }
  },
  {
   "cell_type": "code",
   "execution_count": 63,
   "outputs": [
    {
     "data": {
      "text/plain": "2.584962500721156"
     },
     "execution_count": 63,
     "metadata": {},
     "output_type": "execute_result"
    }
   ],
   "source": [
    "# sanity check for loss\n",
    "np.log2(6)"
   ],
   "metadata": {
    "collapsed": false,
    "ExecuteTime": {
     "end_time": "2023-09-08T16:02:08.904650200Z",
     "start_time": "2023-09-08T16:02:08.185815700Z"
    }
   }
  },
  {
   "cell_type": "code",
   "execution_count": 236,
   "outputs": [
    {
     "name": "stdout",
     "output_type": "stream",
     "text": [
      "Epoch 1/30\n",
      "145/147 [============================>.] - ETA: 0s - loss: 1.0839 - categorical_accuracy: 0.5545WARNING:tensorflow:Can save best model only with val_accuracy available, skipping.\n"
     ]
    },
    {
     "name": "stderr",
     "output_type": "stream",
     "text": [
      "WARNING:tensorflow:Can save best model only with val_accuracy available, skipping.\n"
     ]
    },
    {
     "name": "stdout",
     "output_type": "stream",
     "text": [
      "INFO:tensorflow:Assets written to: C:\\Users\\micro\\OneDrive\\Dokumente\\GitHub\\Masterpraktikum\\wandb\\run-20230908_203732-vafhu73x\\files\\model-best\\assets\n"
     ]
    },
    {
     "name": "stderr",
     "output_type": "stream",
     "text": [
      "INFO:tensorflow:Assets written to: C:\\Users\\micro\\OneDrive\\Dokumente\\GitHub\\Masterpraktikum\\wandb\\run-20230908_203732-vafhu73x\\files\\model-best\\assets\n",
      "\u001B[34m\u001B[1mwandb\u001B[0m: Adding directory to artifact (C:\\Users\\micro\\OneDrive\\Dokumente\\GitHub\\Masterpraktikum\\wandb\\run-20230908_203732-vafhu73x\\files\\model-best)... Done. 0.0s\n"
     ]
    },
    {
     "name": "stdout",
     "output_type": "stream",
     "text": [
      "147/147 [==============================] - 7s 46ms/step - loss: 1.0835 - categorical_accuracy: 0.5548 - val_loss: 1.0224 - val_categorical_accuracy: 0.5907\n",
      "Epoch 2/30\n",
      "146/147 [============================>.] - ETA: 0s - loss: 0.9872 - categorical_accuracy: 0.6020WARNING:tensorflow:Can save best model only with val_accuracy available, skipping.\n"
     ]
    },
    {
     "name": "stderr",
     "output_type": "stream",
     "text": [
      "WARNING:tensorflow:Can save best model only with val_accuracy available, skipping.\n"
     ]
    },
    {
     "name": "stdout",
     "output_type": "stream",
     "text": [
      "INFO:tensorflow:Assets written to: C:\\Users\\micro\\OneDrive\\Dokumente\\GitHub\\Masterpraktikum\\wandb\\run-20230908_203732-vafhu73x\\files\\model-best\\assets\n"
     ]
    },
    {
     "name": "stderr",
     "output_type": "stream",
     "text": [
      "INFO:tensorflow:Assets written to: C:\\Users\\micro\\OneDrive\\Dokumente\\GitHub\\Masterpraktikum\\wandb\\run-20230908_203732-vafhu73x\\files\\model-best\\assets\n",
      "\u001B[34m\u001B[1mwandb\u001B[0m: Adding directory to artifact (C:\\Users\\micro\\OneDrive\\Dokumente\\GitHub\\Masterpraktikum\\wandb\\run-20230908_203732-vafhu73x\\files\\model-best)... Done. 0.0s\n"
     ]
    },
    {
     "name": "stdout",
     "output_type": "stream",
     "text": [
      "147/147 [==============================] - 7s 46ms/step - loss: 0.9873 - categorical_accuracy: 0.6020 - val_loss: 0.9598 - val_categorical_accuracy: 0.6081\n",
      "Epoch 3/30\n",
      "145/147 [============================>.] - ETA: 0s - loss: 0.9378 - categorical_accuracy: 0.6146WARNING:tensorflow:Can save best model only with val_accuracy available, skipping.\n"
     ]
    },
    {
     "name": "stderr",
     "output_type": "stream",
     "text": [
      "WARNING:tensorflow:Can save best model only with val_accuracy available, skipping.\n"
     ]
    },
    {
     "name": "stdout",
     "output_type": "stream",
     "text": [
      "INFO:tensorflow:Assets written to: C:\\Users\\micro\\OneDrive\\Dokumente\\GitHub\\Masterpraktikum\\wandb\\run-20230908_203732-vafhu73x\\files\\model-best\\assets\n"
     ]
    },
    {
     "name": "stderr",
     "output_type": "stream",
     "text": [
      "INFO:tensorflow:Assets written to: C:\\Users\\micro\\OneDrive\\Dokumente\\GitHub\\Masterpraktikum\\wandb\\run-20230908_203732-vafhu73x\\files\\model-best\\assets\n",
      "\u001B[34m\u001B[1mwandb\u001B[0m: Adding directory to artifact (C:\\Users\\micro\\OneDrive\\Dokumente\\GitHub\\Masterpraktikum\\wandb\\run-20230908_203732-vafhu73x\\files\\model-best)... Done. 0.0s\n"
     ]
    },
    {
     "name": "stdout",
     "output_type": "stream",
     "text": [
      "147/147 [==============================] - 7s 47ms/step - loss: 0.9378 - categorical_accuracy: 0.6146 - val_loss: 0.9183 - val_categorical_accuracy: 0.6197\n",
      "Epoch 4/30\n",
      "145/147 [============================>.] - ETA: 0s - loss: 0.8973 - categorical_accuracy: 0.6297WARNING:tensorflow:Can save best model only with val_accuracy available, skipping.\n"
     ]
    },
    {
     "name": "stderr",
     "output_type": "stream",
     "text": [
      "WARNING:tensorflow:Can save best model only with val_accuracy available, skipping.\n"
     ]
    },
    {
     "name": "stdout",
     "output_type": "stream",
     "text": [
      "INFO:tensorflow:Assets written to: C:\\Users\\micro\\OneDrive\\Dokumente\\GitHub\\Masterpraktikum\\wandb\\run-20230908_203732-vafhu73x\\files\\model-best\\assets\n"
     ]
    },
    {
     "name": "stderr",
     "output_type": "stream",
     "text": [
      "INFO:tensorflow:Assets written to: C:\\Users\\micro\\OneDrive\\Dokumente\\GitHub\\Masterpraktikum\\wandb\\run-20230908_203732-vafhu73x\\files\\model-best\\assets\n",
      "\u001B[34m\u001B[1mwandb\u001B[0m: Adding directory to artifact (C:\\Users\\micro\\OneDrive\\Dokumente\\GitHub\\Masterpraktikum\\wandb\\run-20230908_203732-vafhu73x\\files\\model-best)... Done. 0.0s\n"
     ]
    },
    {
     "name": "stdout",
     "output_type": "stream",
     "text": [
      "147/147 [==============================] - 7s 48ms/step - loss: 0.8972 - categorical_accuracy: 0.6297 - val_loss: 0.8765 - val_categorical_accuracy: 0.6384\n",
      "Epoch 5/30\n",
      "145/147 [============================>.] - ETA: 0s - loss: 0.8553 - categorical_accuracy: 0.6473WARNING:tensorflow:Can save best model only with val_accuracy available, skipping.\n"
     ]
    },
    {
     "name": "stderr",
     "output_type": "stream",
     "text": [
      "WARNING:tensorflow:Can save best model only with val_accuracy available, skipping.\n"
     ]
    },
    {
     "name": "stdout",
     "output_type": "stream",
     "text": [
      "INFO:tensorflow:Assets written to: C:\\Users\\micro\\OneDrive\\Dokumente\\GitHub\\Masterpraktikum\\wandb\\run-20230908_203732-vafhu73x\\files\\model-best\\assets\n"
     ]
    },
    {
     "name": "stderr",
     "output_type": "stream",
     "text": [
      "INFO:tensorflow:Assets written to: C:\\Users\\micro\\OneDrive\\Dokumente\\GitHub\\Masterpraktikum\\wandb\\run-20230908_203732-vafhu73x\\files\\model-best\\assets\n",
      "\u001B[34m\u001B[1mwandb\u001B[0m: Adding directory to artifact (C:\\Users\\micro\\OneDrive\\Dokumente\\GitHub\\Masterpraktikum\\wandb\\run-20230908_203732-vafhu73x\\files\\model-best)... Done. 0.0s\n"
     ]
    },
    {
     "name": "stdout",
     "output_type": "stream",
     "text": [
      "147/147 [==============================] - 7s 45ms/step - loss: 0.8551 - categorical_accuracy: 0.6474 - val_loss: 0.8339 - val_categorical_accuracy: 0.6546\n",
      "Epoch 6/30\n",
      "145/147 [============================>.] - ETA: 0s - loss: 0.8140 - categorical_accuracy: 0.6639WARNING:tensorflow:Can save best model only with val_accuracy available, skipping.\n"
     ]
    },
    {
     "name": "stderr",
     "output_type": "stream",
     "text": [
      "WARNING:tensorflow:Can save best model only with val_accuracy available, skipping.\n"
     ]
    },
    {
     "name": "stdout",
     "output_type": "stream",
     "text": [
      "INFO:tensorflow:Assets written to: C:\\Users\\micro\\OneDrive\\Dokumente\\GitHub\\Masterpraktikum\\wandb\\run-20230908_203732-vafhu73x\\files\\model-best\\assets\n"
     ]
    },
    {
     "name": "stderr",
     "output_type": "stream",
     "text": [
      "INFO:tensorflow:Assets written to: C:\\Users\\micro\\OneDrive\\Dokumente\\GitHub\\Masterpraktikum\\wandb\\run-20230908_203732-vafhu73x\\files\\model-best\\assets\n",
      "\u001B[34m\u001B[1mwandb\u001B[0m: Adding directory to artifact (C:\\Users\\micro\\OneDrive\\Dokumente\\GitHub\\Masterpraktikum\\wandb\\run-20230908_203732-vafhu73x\\files\\model-best)... Done. 0.0s\n"
     ]
    },
    {
     "name": "stdout",
     "output_type": "stream",
     "text": [
      "147/147 [==============================] - 7s 46ms/step - loss: 0.8139 - categorical_accuracy: 0.6640 - val_loss: 0.7938 - val_categorical_accuracy: 0.6717\n",
      "Epoch 7/30\n",
      "145/147 [============================>.] - ETA: 0s - loss: 0.7762 - categorical_accuracy: 0.6772WARNING:tensorflow:Can save best model only with val_accuracy available, skipping.\n"
     ]
    },
    {
     "name": "stderr",
     "output_type": "stream",
     "text": [
      "WARNING:tensorflow:Can save best model only with val_accuracy available, skipping.\n"
     ]
    },
    {
     "name": "stdout",
     "output_type": "stream",
     "text": [
      "INFO:tensorflow:Assets written to: C:\\Users\\micro\\OneDrive\\Dokumente\\GitHub\\Masterpraktikum\\wandb\\run-20230908_203732-vafhu73x\\files\\model-best\\assets\n"
     ]
    },
    {
     "name": "stderr",
     "output_type": "stream",
     "text": [
      "INFO:tensorflow:Assets written to: C:\\Users\\micro\\OneDrive\\Dokumente\\GitHub\\Masterpraktikum\\wandb\\run-20230908_203732-vafhu73x\\files\\model-best\\assets\n",
      "\u001B[34m\u001B[1mwandb\u001B[0m: Adding directory to artifact (C:\\Users\\micro\\OneDrive\\Dokumente\\GitHub\\Masterpraktikum\\wandb\\run-20230908_203732-vafhu73x\\files\\model-best)... Done. 0.0s\n"
     ]
    },
    {
     "name": "stdout",
     "output_type": "stream",
     "text": [
      "147/147 [==============================] - 7s 46ms/step - loss: 0.7762 - categorical_accuracy: 0.6772 - val_loss: 0.7583 - val_categorical_accuracy: 0.6859\n",
      "Epoch 8/30\n",
      "145/147 [============================>.] - ETA: 0s - loss: 0.7430 - categorical_accuracy: 0.6880WARNING:tensorflow:Can save best model only with val_accuracy available, skipping.\n"
     ]
    },
    {
     "name": "stderr",
     "output_type": "stream",
     "text": [
      "WARNING:tensorflow:Can save best model only with val_accuracy available, skipping.\n"
     ]
    },
    {
     "name": "stdout",
     "output_type": "stream",
     "text": [
      "INFO:tensorflow:Assets written to: C:\\Users\\micro\\OneDrive\\Dokumente\\GitHub\\Masterpraktikum\\wandb\\run-20230908_203732-vafhu73x\\files\\model-best\\assets\n"
     ]
    },
    {
     "name": "stderr",
     "output_type": "stream",
     "text": [
      "INFO:tensorflow:Assets written to: C:\\Users\\micro\\OneDrive\\Dokumente\\GitHub\\Masterpraktikum\\wandb\\run-20230908_203732-vafhu73x\\files\\model-best\\assets\n",
      "\u001B[34m\u001B[1mwandb\u001B[0m: Adding directory to artifact (C:\\Users\\micro\\OneDrive\\Dokumente\\GitHub\\Masterpraktikum\\wandb\\run-20230908_203732-vafhu73x\\files\\model-best)... Done. 0.0s\n"
     ]
    },
    {
     "name": "stdout",
     "output_type": "stream",
     "text": [
      "147/147 [==============================] - 7s 46ms/step - loss: 0.7428 - categorical_accuracy: 0.6881 - val_loss: 0.7271 - val_categorical_accuracy: 0.6931\n",
      "Epoch 9/30\n",
      "145/147 [============================>.] - ETA: 0s - loss: 0.7138 - categorical_accuracy: 0.6964WARNING:tensorflow:Can save best model only with val_accuracy available, skipping.\n"
     ]
    },
    {
     "name": "stderr",
     "output_type": "stream",
     "text": [
      "WARNING:tensorflow:Can save best model only with val_accuracy available, skipping.\n"
     ]
    },
    {
     "name": "stdout",
     "output_type": "stream",
     "text": [
      "INFO:tensorflow:Assets written to: C:\\Users\\micro\\OneDrive\\Dokumente\\GitHub\\Masterpraktikum\\wandb\\run-20230908_203732-vafhu73x\\files\\model-best\\assets\n"
     ]
    },
    {
     "name": "stderr",
     "output_type": "stream",
     "text": [
      "INFO:tensorflow:Assets written to: C:\\Users\\micro\\OneDrive\\Dokumente\\GitHub\\Masterpraktikum\\wandb\\run-20230908_203732-vafhu73x\\files\\model-best\\assets\n",
      "\u001B[34m\u001B[1mwandb\u001B[0m: Adding directory to artifact (C:\\Users\\micro\\OneDrive\\Dokumente\\GitHub\\Masterpraktikum\\wandb\\run-20230908_203732-vafhu73x\\files\\model-best)... Done. 0.0s\n"
     ]
    },
    {
     "name": "stdout",
     "output_type": "stream",
     "text": [
      "147/147 [==============================] - 7s 45ms/step - loss: 0.7136 - categorical_accuracy: 0.6965 - val_loss: 0.6998 - val_categorical_accuracy: 0.7020\n",
      "Epoch 10/30\n",
      "145/147 [============================>.] - ETA: 0s - loss: 0.6884 - categorical_accuracy: 0.7041WARNING:tensorflow:Can save best model only with val_accuracy available, skipping.\n"
     ]
    },
    {
     "name": "stderr",
     "output_type": "stream",
     "text": [
      "WARNING:tensorflow:Can save best model only with val_accuracy available, skipping.\n"
     ]
    },
    {
     "name": "stdout",
     "output_type": "stream",
     "text": [
      "INFO:tensorflow:Assets written to: C:\\Users\\micro\\OneDrive\\Dokumente\\GitHub\\Masterpraktikum\\wandb\\run-20230908_203732-vafhu73x\\files\\model-best\\assets\n"
     ]
    },
    {
     "name": "stderr",
     "output_type": "stream",
     "text": [
      "INFO:tensorflow:Assets written to: C:\\Users\\micro\\OneDrive\\Dokumente\\GitHub\\Masterpraktikum\\wandb\\run-20230908_203732-vafhu73x\\files\\model-best\\assets\n",
      "\u001B[34m\u001B[1mwandb\u001B[0m: Adding directory to artifact (C:\\Users\\micro\\OneDrive\\Dokumente\\GitHub\\Masterpraktikum\\wandb\\run-20230908_203732-vafhu73x\\files\\model-best)... Done. 0.0s\n"
     ]
    },
    {
     "name": "stdout",
     "output_type": "stream",
     "text": [
      "147/147 [==============================] - 7s 47ms/step - loss: 0.6881 - categorical_accuracy: 0.7041 - val_loss: 0.6763 - val_categorical_accuracy: 0.7094\n",
      "Epoch 11/30\n",
      "145/147 [============================>.] - ETA: 0s - loss: 0.6661 - categorical_accuracy: 0.7111WARNING:tensorflow:Can save best model only with val_accuracy available, skipping.\n"
     ]
    },
    {
     "name": "stderr",
     "output_type": "stream",
     "text": [
      "WARNING:tensorflow:Can save best model only with val_accuracy available, skipping.\n"
     ]
    },
    {
     "name": "stdout",
     "output_type": "stream",
     "text": [
      "INFO:tensorflow:Assets written to: C:\\Users\\micro\\OneDrive\\Dokumente\\GitHub\\Masterpraktikum\\wandb\\run-20230908_203732-vafhu73x\\files\\model-best\\assets\n"
     ]
    },
    {
     "name": "stderr",
     "output_type": "stream",
     "text": [
      "INFO:tensorflow:Assets written to: C:\\Users\\micro\\OneDrive\\Dokumente\\GitHub\\Masterpraktikum\\wandb\\run-20230908_203732-vafhu73x\\files\\model-best\\assets\n",
      "\u001B[34m\u001B[1mwandb\u001B[0m: Adding directory to artifact (C:\\Users\\micro\\OneDrive\\Dokumente\\GitHub\\Masterpraktikum\\wandb\\run-20230908_203732-vafhu73x\\files\\model-best)... Done. 0.0s\n"
     ]
    },
    {
     "name": "stdout",
     "output_type": "stream",
     "text": [
      "147/147 [==============================] - 7s 46ms/step - loss: 0.6661 - categorical_accuracy: 0.7112 - val_loss: 0.6559 - val_categorical_accuracy: 0.7168\n",
      "Epoch 12/30\n",
      "145/147 [============================>.] - ETA: 0s - loss: 0.6471 - categorical_accuracy: 0.7188WARNING:tensorflow:Can save best model only with val_accuracy available, skipping.\n"
     ]
    },
    {
     "name": "stderr",
     "output_type": "stream",
     "text": [
      "WARNING:tensorflow:Can save best model only with val_accuracy available, skipping.\n"
     ]
    },
    {
     "name": "stdout",
     "output_type": "stream",
     "text": [
      "INFO:tensorflow:Assets written to: C:\\Users\\micro\\OneDrive\\Dokumente\\GitHub\\Masterpraktikum\\wandb\\run-20230908_203732-vafhu73x\\files\\model-best\\assets\n"
     ]
    },
    {
     "name": "stderr",
     "output_type": "stream",
     "text": [
      "INFO:tensorflow:Assets written to: C:\\Users\\micro\\OneDrive\\Dokumente\\GitHub\\Masterpraktikum\\wandb\\run-20230908_203732-vafhu73x\\files\\model-best\\assets\n",
      "\u001B[34m\u001B[1mwandb\u001B[0m: Adding directory to artifact (C:\\Users\\micro\\OneDrive\\Dokumente\\GitHub\\Masterpraktikum\\wandb\\run-20230908_203732-vafhu73x\\files\\model-best)... Done. 0.0s\n"
     ]
    },
    {
     "name": "stdout",
     "output_type": "stream",
     "text": [
      "147/147 [==============================] - 7s 45ms/step - loss: 0.6470 - categorical_accuracy: 0.7187 - val_loss: 0.6383 - val_categorical_accuracy: 0.7240\n",
      "Epoch 13/30\n",
      "145/147 [============================>.] - ETA: 0s - loss: 0.6306 - categorical_accuracy: 0.7278WARNING:tensorflow:Can save best model only with val_accuracy available, skipping.\n"
     ]
    },
    {
     "name": "stderr",
     "output_type": "stream",
     "text": [
      "WARNING:tensorflow:Can save best model only with val_accuracy available, skipping.\n"
     ]
    },
    {
     "name": "stdout",
     "output_type": "stream",
     "text": [
      "INFO:tensorflow:Assets written to: C:\\Users\\micro\\OneDrive\\Dokumente\\GitHub\\Masterpraktikum\\wandb\\run-20230908_203732-vafhu73x\\files\\model-best\\assets\n"
     ]
    },
    {
     "name": "stderr",
     "output_type": "stream",
     "text": [
      "INFO:tensorflow:Assets written to: C:\\Users\\micro\\OneDrive\\Dokumente\\GitHub\\Masterpraktikum\\wandb\\run-20230908_203732-vafhu73x\\files\\model-best\\assets\n",
      "\u001B[34m\u001B[1mwandb\u001B[0m: Adding directory to artifact (C:\\Users\\micro\\OneDrive\\Dokumente\\GitHub\\Masterpraktikum\\wandb\\run-20230908_203732-vafhu73x\\files\\model-best)... Done. 0.0s\n"
     ]
    },
    {
     "name": "stdout",
     "output_type": "stream",
     "text": [
      "147/147 [==============================] - 6s 44ms/step - loss: 0.6306 - categorical_accuracy: 0.7278 - val_loss: 0.6233 - val_categorical_accuracy: 0.7324\n",
      "Epoch 14/30\n",
      "145/147 [============================>.] - ETA: 0s - loss: 0.6168 - categorical_accuracy: 0.7363WARNING:tensorflow:Can save best model only with val_accuracy available, skipping.\n"
     ]
    },
    {
     "name": "stderr",
     "output_type": "stream",
     "text": [
      "WARNING:tensorflow:Can save best model only with val_accuracy available, skipping.\n"
     ]
    },
    {
     "name": "stdout",
     "output_type": "stream",
     "text": [
      "INFO:tensorflow:Assets written to: C:\\Users\\micro\\OneDrive\\Dokumente\\GitHub\\Masterpraktikum\\wandb\\run-20230908_203732-vafhu73x\\files\\model-best\\assets\n"
     ]
    },
    {
     "name": "stderr",
     "output_type": "stream",
     "text": [
      "INFO:tensorflow:Assets written to: C:\\Users\\micro\\OneDrive\\Dokumente\\GitHub\\Masterpraktikum\\wandb\\run-20230908_203732-vafhu73x\\files\\model-best\\assets\n",
      "\u001B[34m\u001B[1mwandb\u001B[0m: Adding directory to artifact (C:\\Users\\micro\\OneDrive\\Dokumente\\GitHub\\Masterpraktikum\\wandb\\run-20230908_203732-vafhu73x\\files\\model-best)... Done. 0.0s\n"
     ]
    },
    {
     "name": "stdout",
     "output_type": "stream",
     "text": [
      "147/147 [==============================] - 6s 44ms/step - loss: 0.6166 - categorical_accuracy: 0.7363 - val_loss: 0.6102 - val_categorical_accuracy: 0.7408\n",
      "Epoch 15/30\n",
      "145/147 [============================>.] - ETA: 0s - loss: 0.6045 - categorical_accuracy: 0.7430WARNING:tensorflow:Can save best model only with val_accuracy available, skipping.\n"
     ]
    },
    {
     "name": "stderr",
     "output_type": "stream",
     "text": [
      "WARNING:tensorflow:Can save best model only with val_accuracy available, skipping.\n"
     ]
    },
    {
     "name": "stdout",
     "output_type": "stream",
     "text": [
      "INFO:tensorflow:Assets written to: C:\\Users\\micro\\OneDrive\\Dokumente\\GitHub\\Masterpraktikum\\wandb\\run-20230908_203732-vafhu73x\\files\\model-best\\assets\n"
     ]
    },
    {
     "name": "stderr",
     "output_type": "stream",
     "text": [
      "INFO:tensorflow:Assets written to: C:\\Users\\micro\\OneDrive\\Dokumente\\GitHub\\Masterpraktikum\\wandb\\run-20230908_203732-vafhu73x\\files\\model-best\\assets\n",
      "\u001B[34m\u001B[1mwandb\u001B[0m: Adding directory to artifact (C:\\Users\\micro\\OneDrive\\Dokumente\\GitHub\\Masterpraktikum\\wandb\\run-20230908_203732-vafhu73x\\files\\model-best)... Done. 0.0s\n"
     ]
    },
    {
     "name": "stdout",
     "output_type": "stream",
     "text": [
      "147/147 [==============================] - 7s 45ms/step - loss: 0.6044 - categorical_accuracy: 0.7430 - val_loss: 0.5990 - val_categorical_accuracy: 0.7463\n",
      "Epoch 16/30\n",
      "145/147 [============================>.] - ETA: 0s - loss: 0.5940 - categorical_accuracy: 0.7485WARNING:tensorflow:Can save best model only with val_accuracy available, skipping.\n"
     ]
    },
    {
     "name": "stderr",
     "output_type": "stream",
     "text": [
      "WARNING:tensorflow:Can save best model only with val_accuracy available, skipping.\n"
     ]
    },
    {
     "name": "stdout",
     "output_type": "stream",
     "text": [
      "INFO:tensorflow:Assets written to: C:\\Users\\micro\\OneDrive\\Dokumente\\GitHub\\Masterpraktikum\\wandb\\run-20230908_203732-vafhu73x\\files\\model-best\\assets\n"
     ]
    },
    {
     "name": "stderr",
     "output_type": "stream",
     "text": [
      "INFO:tensorflow:Assets written to: C:\\Users\\micro\\OneDrive\\Dokumente\\GitHub\\Masterpraktikum\\wandb\\run-20230908_203732-vafhu73x\\files\\model-best\\assets\n",
      "\u001B[34m\u001B[1mwandb\u001B[0m: Adding directory to artifact (C:\\Users\\micro\\OneDrive\\Dokumente\\GitHub\\Masterpraktikum\\wandb\\run-20230908_203732-vafhu73x\\files\\model-best)... Done. 0.0s\n"
     ]
    },
    {
     "name": "stdout",
     "output_type": "stream",
     "text": [
      "147/147 [==============================] - 6s 44ms/step - loss: 0.5941 - categorical_accuracy: 0.7485 - val_loss: 0.5894 - val_categorical_accuracy: 0.7526\n",
      "Epoch 17/30\n",
      "145/147 [============================>.] - ETA: 0s - loss: 0.5852 - categorical_accuracy: 0.7529WARNING:tensorflow:Can save best model only with val_accuracy available, skipping.\n"
     ]
    },
    {
     "name": "stderr",
     "output_type": "stream",
     "text": [
      "WARNING:tensorflow:Can save best model only with val_accuracy available, skipping.\n"
     ]
    },
    {
     "name": "stdout",
     "output_type": "stream",
     "text": [
      "INFO:tensorflow:Assets written to: C:\\Users\\micro\\OneDrive\\Dokumente\\GitHub\\Masterpraktikum\\wandb\\run-20230908_203732-vafhu73x\\files\\model-best\\assets\n"
     ]
    },
    {
     "name": "stderr",
     "output_type": "stream",
     "text": [
      "INFO:tensorflow:Assets written to: C:\\Users\\micro\\OneDrive\\Dokumente\\GitHub\\Masterpraktikum\\wandb\\run-20230908_203732-vafhu73x\\files\\model-best\\assets\n",
      "\u001B[34m\u001B[1mwandb\u001B[0m: Adding directory to artifact (C:\\Users\\micro\\OneDrive\\Dokumente\\GitHub\\Masterpraktikum\\wandb\\run-20230908_203732-vafhu73x\\files\\model-best)... Done. 0.0s\n"
     ]
    },
    {
     "name": "stdout",
     "output_type": "stream",
     "text": [
      "147/147 [==============================] - 7s 45ms/step - loss: 0.5852 - categorical_accuracy: 0.7528 - val_loss: 0.5813 - val_categorical_accuracy: 0.7553\n",
      "Epoch 18/30\n",
      "145/147 [============================>.] - ETA: 0s - loss: 0.5779 - categorical_accuracy: 0.7560WARNING:tensorflow:Can save best model only with val_accuracy available, skipping.\n"
     ]
    },
    {
     "name": "stderr",
     "output_type": "stream",
     "text": [
      "WARNING:tensorflow:Can save best model only with val_accuracy available, skipping.\n"
     ]
    },
    {
     "name": "stdout",
     "output_type": "stream",
     "text": [
      "INFO:tensorflow:Assets written to: C:\\Users\\micro\\OneDrive\\Dokumente\\GitHub\\Masterpraktikum\\wandb\\run-20230908_203732-vafhu73x\\files\\model-best\\assets\n"
     ]
    },
    {
     "name": "stderr",
     "output_type": "stream",
     "text": [
      "INFO:tensorflow:Assets written to: C:\\Users\\micro\\OneDrive\\Dokumente\\GitHub\\Masterpraktikum\\wandb\\run-20230908_203732-vafhu73x\\files\\model-best\\assets\n",
      "\u001B[34m\u001B[1mwandb\u001B[0m: Adding directory to artifact (C:\\Users\\micro\\OneDrive\\Dokumente\\GitHub\\Masterpraktikum\\wandb\\run-20230908_203732-vafhu73x\\files\\model-best)... Done. 0.0s\n"
     ]
    },
    {
     "name": "stdout",
     "output_type": "stream",
     "text": [
      "147/147 [==============================] - 7s 45ms/step - loss: 0.5777 - categorical_accuracy: 0.7561 - val_loss: 0.5743 - val_categorical_accuracy: 0.7572\n",
      "Epoch 19/30\n",
      "146/147 [============================>.] - ETA: 0s - loss: 0.5713 - categorical_accuracy: 0.7587WARNING:tensorflow:Can save best model only with val_accuracy available, skipping.\n"
     ]
    },
    {
     "name": "stderr",
     "output_type": "stream",
     "text": [
      "WARNING:tensorflow:Can save best model only with val_accuracy available, skipping.\n"
     ]
    },
    {
     "name": "stdout",
     "output_type": "stream",
     "text": [
      "INFO:tensorflow:Assets written to: C:\\Users\\micro\\OneDrive\\Dokumente\\GitHub\\Masterpraktikum\\wandb\\run-20230908_203732-vafhu73x\\files\\model-best\\assets\n"
     ]
    },
    {
     "name": "stderr",
     "output_type": "stream",
     "text": [
      "INFO:tensorflow:Assets written to: C:\\Users\\micro\\OneDrive\\Dokumente\\GitHub\\Masterpraktikum\\wandb\\run-20230908_203732-vafhu73x\\files\\model-best\\assets\n",
      "\u001B[34m\u001B[1mwandb\u001B[0m: Adding directory to artifact (C:\\Users\\micro\\OneDrive\\Dokumente\\GitHub\\Masterpraktikum\\wandb\\run-20230908_203732-vafhu73x\\files\\model-best)... Done. 0.0s\n"
     ]
    },
    {
     "name": "stdout",
     "output_type": "stream",
     "text": [
      "147/147 [==============================] - 7s 44ms/step - loss: 0.5713 - categorical_accuracy: 0.7587 - val_loss: 0.5685 - val_categorical_accuracy: 0.7609\n",
      "Epoch 20/30\n",
      "145/147 [============================>.] - ETA: 0s - loss: 0.5659 - categorical_accuracy: 0.7610WARNING:tensorflow:Can save best model only with val_accuracy available, skipping.\n"
     ]
    },
    {
     "name": "stderr",
     "output_type": "stream",
     "text": [
      "WARNING:tensorflow:Can save best model only with val_accuracy available, skipping.\n"
     ]
    },
    {
     "name": "stdout",
     "output_type": "stream",
     "text": [
      "INFO:tensorflow:Assets written to: C:\\Users\\micro\\OneDrive\\Dokumente\\GitHub\\Masterpraktikum\\wandb\\run-20230908_203732-vafhu73x\\files\\model-best\\assets\n"
     ]
    },
    {
     "name": "stderr",
     "output_type": "stream",
     "text": [
      "INFO:tensorflow:Assets written to: C:\\Users\\micro\\OneDrive\\Dokumente\\GitHub\\Masterpraktikum\\wandb\\run-20230908_203732-vafhu73x\\files\\model-best\\assets\n",
      "\u001B[34m\u001B[1mwandb\u001B[0m: Adding directory to artifact (C:\\Users\\micro\\OneDrive\\Dokumente\\GitHub\\Masterpraktikum\\wandb\\run-20230908_203732-vafhu73x\\files\\model-best)... Done. 0.0s\n"
     ]
    },
    {
     "name": "stdout",
     "output_type": "stream",
     "text": [
      "147/147 [==============================] - 6s 44ms/step - loss: 0.5658 - categorical_accuracy: 0.7609 - val_loss: 0.5635 - val_categorical_accuracy: 0.7623\n",
      "Epoch 21/30\n",
      "145/147 [============================>.] - ETA: 0s - loss: 0.5613 - categorical_accuracy: 0.7628WARNING:tensorflow:Can save best model only with val_accuracy available, skipping.\n"
     ]
    },
    {
     "name": "stderr",
     "output_type": "stream",
     "text": [
      "WARNING:tensorflow:Can save best model only with val_accuracy available, skipping.\n"
     ]
    },
    {
     "name": "stdout",
     "output_type": "stream",
     "text": [
      "INFO:tensorflow:Assets written to: C:\\Users\\micro\\OneDrive\\Dokumente\\GitHub\\Masterpraktikum\\wandb\\run-20230908_203732-vafhu73x\\files\\model-best\\assets\n"
     ]
    },
    {
     "name": "stderr",
     "output_type": "stream",
     "text": [
      "INFO:tensorflow:Assets written to: C:\\Users\\micro\\OneDrive\\Dokumente\\GitHub\\Masterpraktikum\\wandb\\run-20230908_203732-vafhu73x\\files\\model-best\\assets\n",
      "\u001B[34m\u001B[1mwandb\u001B[0m: Adding directory to artifact (C:\\Users\\micro\\OneDrive\\Dokumente\\GitHub\\Masterpraktikum\\wandb\\run-20230908_203732-vafhu73x\\files\\model-best)... Done. 0.0s\n"
     ]
    },
    {
     "name": "stdout",
     "output_type": "stream",
     "text": [
      "147/147 [==============================] - 7s 44ms/step - loss: 0.5613 - categorical_accuracy: 0.7629 - val_loss: 0.5594 - val_categorical_accuracy: 0.7653\n",
      "Epoch 22/30\n",
      "145/147 [============================>.] - ETA: 0s - loss: 0.5573 - categorical_accuracy: 0.7645WARNING:tensorflow:Can save best model only with val_accuracy available, skipping.\n"
     ]
    },
    {
     "name": "stderr",
     "output_type": "stream",
     "text": [
      "WARNING:tensorflow:Can save best model only with val_accuracy available, skipping.\n"
     ]
    },
    {
     "name": "stdout",
     "output_type": "stream",
     "text": [
      "INFO:tensorflow:Assets written to: C:\\Users\\micro\\OneDrive\\Dokumente\\GitHub\\Masterpraktikum\\wandb\\run-20230908_203732-vafhu73x\\files\\model-best\\assets\n"
     ]
    },
    {
     "name": "stderr",
     "output_type": "stream",
     "text": [
      "INFO:tensorflow:Assets written to: C:\\Users\\micro\\OneDrive\\Dokumente\\GitHub\\Masterpraktikum\\wandb\\run-20230908_203732-vafhu73x\\files\\model-best\\assets\n",
      "\u001B[34m\u001B[1mwandb\u001B[0m: Adding directory to artifact (C:\\Users\\micro\\OneDrive\\Dokumente\\GitHub\\Masterpraktikum\\wandb\\run-20230908_203732-vafhu73x\\files\\model-best)... Done. 0.0s\n"
     ]
    },
    {
     "name": "stdout",
     "output_type": "stream",
     "text": [
      "147/147 [==============================] - 6s 44ms/step - loss: 0.5573 - categorical_accuracy: 0.7645 - val_loss: 0.5558 - val_categorical_accuracy: 0.7658\n",
      "Epoch 23/30\n",
      "145/147 [============================>.] - ETA: 0s - loss: 0.5540 - categorical_accuracy: 0.7660WARNING:tensorflow:Can save best model only with val_accuracy available, skipping.\n"
     ]
    },
    {
     "name": "stderr",
     "output_type": "stream",
     "text": [
      "WARNING:tensorflow:Can save best model only with val_accuracy available, skipping.\n"
     ]
    },
    {
     "name": "stdout",
     "output_type": "stream",
     "text": [
      "INFO:tensorflow:Assets written to: C:\\Users\\micro\\OneDrive\\Dokumente\\GitHub\\Masterpraktikum\\wandb\\run-20230908_203732-vafhu73x\\files\\model-best\\assets\n"
     ]
    },
    {
     "name": "stderr",
     "output_type": "stream",
     "text": [
      "INFO:tensorflow:Assets written to: C:\\Users\\micro\\OneDrive\\Dokumente\\GitHub\\Masterpraktikum\\wandb\\run-20230908_203732-vafhu73x\\files\\model-best\\assets\n",
      "\u001B[34m\u001B[1mwandb\u001B[0m: Adding directory to artifact (C:\\Users\\micro\\OneDrive\\Dokumente\\GitHub\\Masterpraktikum\\wandb\\run-20230908_203732-vafhu73x\\files\\model-best)... Done. 0.0s\n"
     ]
    },
    {
     "name": "stdout",
     "output_type": "stream",
     "text": [
      "147/147 [==============================] - 6s 44ms/step - loss: 0.5540 - categorical_accuracy: 0.7659 - val_loss: 0.5529 - val_categorical_accuracy: 0.7660\n",
      "Epoch 24/30\n",
      "145/147 [============================>.] - ETA: 0s - loss: 0.5512 - categorical_accuracy: 0.7672WARNING:tensorflow:Can save best model only with val_accuracy available, skipping.\n"
     ]
    },
    {
     "name": "stderr",
     "output_type": "stream",
     "text": [
      "WARNING:tensorflow:Can save best model only with val_accuracy available, skipping.\n"
     ]
    },
    {
     "name": "stdout",
     "output_type": "stream",
     "text": [
      "INFO:tensorflow:Assets written to: C:\\Users\\micro\\OneDrive\\Dokumente\\GitHub\\Masterpraktikum\\wandb\\run-20230908_203732-vafhu73x\\files\\model-best\\assets\n"
     ]
    },
    {
     "name": "stderr",
     "output_type": "stream",
     "text": [
      "INFO:tensorflow:Assets written to: C:\\Users\\micro\\OneDrive\\Dokumente\\GitHub\\Masterpraktikum\\wandb\\run-20230908_203732-vafhu73x\\files\\model-best\\assets\n",
      "\u001B[34m\u001B[1mwandb\u001B[0m: Adding directory to artifact (C:\\Users\\micro\\OneDrive\\Dokumente\\GitHub\\Masterpraktikum\\wandb\\run-20230908_203732-vafhu73x\\files\\model-best)... Done. 0.0s\n"
     ]
    },
    {
     "name": "stdout",
     "output_type": "stream",
     "text": [
      "147/147 [==============================] - 7s 45ms/step - loss: 0.5512 - categorical_accuracy: 0.7672 - val_loss: 0.5501 - val_categorical_accuracy: 0.7679\n",
      "Epoch 25/30\n",
      "145/147 [============================>.] - ETA: 0s - loss: 0.5487 - categorical_accuracy: 0.7680WARNING:tensorflow:Can save best model only with val_accuracy available, skipping.\n"
     ]
    },
    {
     "name": "stderr",
     "output_type": "stream",
     "text": [
      "WARNING:tensorflow:Can save best model only with val_accuracy available, skipping.\n"
     ]
    },
    {
     "name": "stdout",
     "output_type": "stream",
     "text": [
      "INFO:tensorflow:Assets written to: C:\\Users\\micro\\OneDrive\\Dokumente\\GitHub\\Masterpraktikum\\wandb\\run-20230908_203732-vafhu73x\\files\\model-best\\assets\n"
     ]
    },
    {
     "name": "stderr",
     "output_type": "stream",
     "text": [
      "INFO:tensorflow:Assets written to: C:\\Users\\micro\\OneDrive\\Dokumente\\GitHub\\Masterpraktikum\\wandb\\run-20230908_203732-vafhu73x\\files\\model-best\\assets\n",
      "\u001B[34m\u001B[1mwandb\u001B[0m: Adding directory to artifact (C:\\Users\\micro\\OneDrive\\Dokumente\\GitHub\\Masterpraktikum\\wandb\\run-20230908_203732-vafhu73x\\files\\model-best)... Done. 0.0s\n"
     ]
    },
    {
     "name": "stdout",
     "output_type": "stream",
     "text": [
      "147/147 [==============================] - 7s 45ms/step - loss: 0.5487 - categorical_accuracy: 0.7680 - val_loss: 0.5476 - val_categorical_accuracy: 0.7683\n",
      "Epoch 26/30\n",
      "145/147 [============================>.] - ETA: 0s - loss: 0.5466 - categorical_accuracy: 0.7692WARNING:tensorflow:Can save best model only with val_accuracy available, skipping.\n"
     ]
    },
    {
     "name": "stderr",
     "output_type": "stream",
     "text": [
      "WARNING:tensorflow:Can save best model only with val_accuracy available, skipping.\n"
     ]
    },
    {
     "name": "stdout",
     "output_type": "stream",
     "text": [
      "INFO:tensorflow:Assets written to: C:\\Users\\micro\\OneDrive\\Dokumente\\GitHub\\Masterpraktikum\\wandb\\run-20230908_203732-vafhu73x\\files\\model-best\\assets\n"
     ]
    },
    {
     "name": "stderr",
     "output_type": "stream",
     "text": [
      "INFO:tensorflow:Assets written to: C:\\Users\\micro\\OneDrive\\Dokumente\\GitHub\\Masterpraktikum\\wandb\\run-20230908_203732-vafhu73x\\files\\model-best\\assets\n",
      "\u001B[34m\u001B[1mwandb\u001B[0m: Adding directory to artifact (C:\\Users\\micro\\OneDrive\\Dokumente\\GitHub\\Masterpraktikum\\wandb\\run-20230908_203732-vafhu73x\\files\\model-best)... Done. 0.0s\n"
     ]
    },
    {
     "name": "stdout",
     "output_type": "stream",
     "text": [
      "147/147 [==============================] - 6s 44ms/step - loss: 0.5466 - categorical_accuracy: 0.7691 - val_loss: 0.5457 - val_categorical_accuracy: 0.7681\n",
      "Epoch 27/30\n",
      "145/147 [============================>.] - ETA: 0s - loss: 0.5446 - categorical_accuracy: 0.7697WARNING:tensorflow:Can save best model only with val_accuracy available, skipping.\n"
     ]
    },
    {
     "name": "stderr",
     "output_type": "stream",
     "text": [
      "WARNING:tensorflow:Can save best model only with val_accuracy available, skipping.\n"
     ]
    },
    {
     "name": "stdout",
     "output_type": "stream",
     "text": [
      "INFO:tensorflow:Assets written to: C:\\Users\\micro\\OneDrive\\Dokumente\\GitHub\\Masterpraktikum\\wandb\\run-20230908_203732-vafhu73x\\files\\model-best\\assets\n"
     ]
    },
    {
     "name": "stderr",
     "output_type": "stream",
     "text": [
      "INFO:tensorflow:Assets written to: C:\\Users\\micro\\OneDrive\\Dokumente\\GitHub\\Masterpraktikum\\wandb\\run-20230908_203732-vafhu73x\\files\\model-best\\assets\n",
      "\u001B[34m\u001B[1mwandb\u001B[0m: Adding directory to artifact (C:\\Users\\micro\\OneDrive\\Dokumente\\GitHub\\Masterpraktikum\\wandb\\run-20230908_203732-vafhu73x\\files\\model-best)... Done. 0.0s\n"
     ]
    },
    {
     "name": "stdout",
     "output_type": "stream",
     "text": [
      "147/147 [==============================] - 6s 43ms/step - loss: 0.5448 - categorical_accuracy: 0.7696 - val_loss: 0.5440 - val_categorical_accuracy: 0.7697\n",
      "Epoch 28/30\n",
      "145/147 [============================>.] - ETA: 0s - loss: 0.5432 - categorical_accuracy: 0.7701WARNING:tensorflow:Can save best model only with val_accuracy available, skipping.\n"
     ]
    },
    {
     "name": "stderr",
     "output_type": "stream",
     "text": [
      "WARNING:tensorflow:Can save best model only with val_accuracy available, skipping.\n"
     ]
    },
    {
     "name": "stdout",
     "output_type": "stream",
     "text": [
      "INFO:tensorflow:Assets written to: C:\\Users\\micro\\OneDrive\\Dokumente\\GitHub\\Masterpraktikum\\wandb\\run-20230908_203732-vafhu73x\\files\\model-best\\assets\n"
     ]
    },
    {
     "name": "stderr",
     "output_type": "stream",
     "text": [
      "INFO:tensorflow:Assets written to: C:\\Users\\micro\\OneDrive\\Dokumente\\GitHub\\Masterpraktikum\\wandb\\run-20230908_203732-vafhu73x\\files\\model-best\\assets\n",
      "\u001B[34m\u001B[1mwandb\u001B[0m: Adding directory to artifact (C:\\Users\\micro\\OneDrive\\Dokumente\\GitHub\\Masterpraktikum\\wandb\\run-20230908_203732-vafhu73x\\files\\model-best)... Done. 0.0s\n"
     ]
    },
    {
     "name": "stdout",
     "output_type": "stream",
     "text": [
      "147/147 [==============================] - 7s 51ms/step - loss: 0.5432 - categorical_accuracy: 0.7701 - val_loss: 0.5427 - val_categorical_accuracy: 0.7722\n",
      "Epoch 29/30\n",
      "146/147 [============================>.] - ETA: 0s - loss: 0.5418 - categorical_accuracy: 0.7709WARNING:tensorflow:Can save best model only with val_accuracy available, skipping.\n"
     ]
    },
    {
     "name": "stderr",
     "output_type": "stream",
     "text": [
      "WARNING:tensorflow:Can save best model only with val_accuracy available, skipping.\n"
     ]
    },
    {
     "name": "stdout",
     "output_type": "stream",
     "text": [
      "INFO:tensorflow:Assets written to: C:\\Users\\micro\\OneDrive\\Dokumente\\GitHub\\Masterpraktikum\\wandb\\run-20230908_203732-vafhu73x\\files\\model-best\\assets\n"
     ]
    },
    {
     "name": "stderr",
     "output_type": "stream",
     "text": [
      "INFO:tensorflow:Assets written to: C:\\Users\\micro\\OneDrive\\Dokumente\\GitHub\\Masterpraktikum\\wandb\\run-20230908_203732-vafhu73x\\files\\model-best\\assets\n",
      "\u001B[34m\u001B[1mwandb\u001B[0m: Adding directory to artifact (C:\\Users\\micro\\OneDrive\\Dokumente\\GitHub\\Masterpraktikum\\wandb\\run-20230908_203732-vafhu73x\\files\\model-best)... Done. 0.0s\n"
     ]
    },
    {
     "name": "stdout",
     "output_type": "stream",
     "text": [
      "147/147 [==============================] - 7s 45ms/step - loss: 0.5418 - categorical_accuracy: 0.7709 - val_loss: 0.5412 - val_categorical_accuracy: 0.7695\n",
      "Epoch 30/30\n",
      "145/147 [============================>.] - ETA: 0s - loss: 0.5404 - categorical_accuracy: 0.7715WARNING:tensorflow:Can save best model only with val_accuracy available, skipping.\n"
     ]
    },
    {
     "name": "stderr",
     "output_type": "stream",
     "text": [
      "WARNING:tensorflow:Can save best model only with val_accuracy available, skipping.\n"
     ]
    },
    {
     "name": "stdout",
     "output_type": "stream",
     "text": [
      "INFO:tensorflow:Assets written to: C:\\Users\\micro\\OneDrive\\Dokumente\\GitHub\\Masterpraktikum\\wandb\\run-20230908_203732-vafhu73x\\files\\model-best\\assets\n"
     ]
    },
    {
     "name": "stderr",
     "output_type": "stream",
     "text": [
      "INFO:tensorflow:Assets written to: C:\\Users\\micro\\OneDrive\\Dokumente\\GitHub\\Masterpraktikum\\wandb\\run-20230908_203732-vafhu73x\\files\\model-best\\assets\n",
      "\u001B[34m\u001B[1mwandb\u001B[0m: Adding directory to artifact (C:\\Users\\micro\\OneDrive\\Dokumente\\GitHub\\Masterpraktikum\\wandb\\run-20230908_203732-vafhu73x\\files\\model-best)... Done. 0.0s\n"
     ]
    },
    {
     "name": "stdout",
     "output_type": "stream",
     "text": [
      "147/147 [==============================] - 6s 43ms/step - loss: 0.5405 - categorical_accuracy: 0.7714 - val_loss: 0.5401 - val_categorical_accuracy: 0.7711\n"
     ]
    }
   ],
   "source": [
    "# Train the model\n",
    "# X_train, X_test, y_train, y_test\n",
    "history_embed = model_embed.fit(train_ds_embed, train_labels_embed, epochs=30, batch_size=4096, validation_data=(val_ds_embed, val_labels_embed), callbacks=[checkpoint_callback_embed, early_stopping_embed, WandbCallback()]) #WandbCallback()"
   ],
   "metadata": {
    "collapsed": false,
    "ExecuteTime": {
     "end_time": "2023-09-08T18:41:23.342978700Z",
     "start_time": "2023-09-08T18:38:03.812537100Z"
    }
   }
  },
  {
   "cell_type": "code",
   "execution_count": 237,
   "outputs": [
    {
     "name": "stdout",
     "output_type": "stream",
     "text": [
      "09082023\n"
     ]
    }
   ],
   "source": [
    "import datetime\n",
    "date = datetime.datetime.now().strftime(\"%m%d%Y\")\n",
    "print(date)"
   ],
   "metadata": {
    "collapsed": false,
    "ExecuteTime": {
     "end_time": "2023-09-08T18:41:27.883524200Z",
     "start_time": "2023-09-08T18:41:27.618603800Z"
    }
   }
  },
  {
   "cell_type": "code",
   "execution_count": 66,
   "outputs": [],
   "source": [
    "# https://cpcscientific.com/esi-ms-peptide-interpretation-guide/\n",
    "# https://www.ncbi.nlm.nih.gov/pmc/articles/PMC5588090/\n",
    "# https://pubs.acs.org/doi/10.1021/acs.analchem.7b01899\n",
    "# https://www.researchgate.net/publication/8143943_Amino_Acid_Cluster_Formation_Studied_by_Electrospray_Ionization_Mass_Spectrometry\n",
    "# https://pubs.acs.org/doi/epdf/10.1021/ac990976y\n",
    "# https://analyticalsciencejournals.onlinelibrary.wiley.com/doi/epdf/10.1002/jms.4348?saml_referrer"
   ],
   "metadata": {
    "collapsed": false,
    "ExecuteTime": {
     "end_time": "2023-09-08T16:05:14.583423300Z",
     "start_time": "2023-09-08T16:05:14.517323800Z"
    }
   }
  },
  {
   "cell_type": "code",
   "execution_count": 238,
   "outputs": [],
   "source": [
    "model_embed.save(f'precursor_charge_prediction_model_embed/history_embed_150epoch_{date}.h5')"
   ],
   "metadata": {
    "collapsed": false,
    "ExecuteTime": {
     "end_time": "2023-09-08T18:41:29.857237300Z",
     "start_time": "2023-09-08T18:41:29.587948Z"
    }
   }
  },
  {
   "cell_type": "code",
   "execution_count": 67,
   "outputs": [],
   "source": [],
   "metadata": {
    "collapsed": false,
    "ExecuteTime": {
     "end_time": "2023-09-08T16:05:14.702044100Z",
     "start_time": "2023-09-08T16:05:14.540554500Z"
    }
   }
  },
  {
   "cell_type": "code",
   "execution_count": 239,
   "outputs": [
    {
     "data": {
      "text/plain": "<Figure size 1200x600 with 2 Axes>",
      "image/png": "[encoded data removed]"
     },
     "metadata": {},
     "output_type": "display_data"
    }
   ],
   "source": [
    "# Access the loss, validation loss, and accuracy from the history object\n",
    "loss = history_embed.history['loss']\n",
    "val_loss = history_embed.history['val_loss']\n",
    "accuracy = history_embed.history['categorical_accuracy']\n",
    "val_accuracy = history_embed.history['val_categorical_accuracy']\n",
    "\n",
    "# Plot the loss, validation loss, and accuracy curves\n",
    "epochs = range(1, len(loss) + 1)\n",
    "\n",
    "# Create subplots\n",
    "fig2, (ax1, ax2) = plt.subplots(1, 2, figsize=(12, 6))\n",
    "\n",
    "# Plot loss and validation loss\n",
    "ax1.plot(epochs, loss, 'b', label='Training Loss')\n",
    "ax1.plot(epochs, val_loss, 'r', label='Validation Loss')\n",
    "ax1.set_title('Training and Validation Loss')\n",
    "ax1.set_xlabel('Epochs')\n",
    "ax1.set_ylabel('Loss')\n",
    "ax1.legend()\n",
    "\n",
    "# Plot accuracy and validation accuracy\n",
    "ax2.plot(epochs, accuracy, 'b', label='Training Accuracy')\n",
    "ax2.plot(epochs, val_accuracy, 'r', label='Validation Accuracy')\n",
    "ax2.set_title('Training and Validation Accuracy')\n",
    "ax2.set_xlabel('Epochs')\n",
    "ax2.set_ylabel('Accuracy')\n",
    "ax2.legend()\n",
    "\n",
    "# Adjust spacing between subplots\n",
    "plt.tight_layout()\n",
    "\n",
    "# Show the plots\n",
    "plt.show()"
   ],
   "metadata": {
    "collapsed": false,
    "ExecuteTime": {
     "end_time": "2023-09-08T18:41:32.126019800Z",
     "start_time": "2023-09-08T18:41:31.500412500Z"
    }
   }
  },
  {
   "cell_type": "markdown",
   "source": [
    "# Inference"
   ],
   "metadata": {
    "collapsed": false
   }
  },
  {
   "cell_type": "code",
   "execution_count": 69,
   "outputs": [],
   "source": [
    "import keras\n",
    "# load model TODO manually switch on/off\n",
    "#model_embed = keras.models.load_model('precursor_charge_prediction_model_embed/history_embed_150epoch_09052023.h5')"
   ],
   "metadata": {
    "collapsed": false,
    "ExecuteTime": {
     "end_time": "2023-09-08T16:05:27.600003500Z",
     "start_time": "2023-09-08T16:05:27.438021400Z"
    }
   }
  },
  {
   "cell_type": "code",
   "execution_count": 114,
   "outputs": [],
   "source": [
    "def decode_one_hot(one_hot, charges = [1,2,3,4,5,6]):\n",
    "    for index, hot in enumerate(one_hot):\n",
    "        if hot == 1:\n",
    "            return charges[index]"
   ],
   "metadata": {
    "collapsed": false,
    "ExecuteTime": {
     "end_time": "2023-09-08T16:22:55.193915200Z",
     "start_time": "2023-09-08T16:22:54.954236100Z"
    }
   }
  },
  {
   "cell_type": "code",
   "execution_count": 115,
   "outputs": [],
   "source": [
    "def predictions_no_hot(one_hot, charges = [1,2,3,4,5,6]):\n",
    "    if one_hot is not None:\n",
    "        index = np.argmax(one_hot)\n",
    "        return charges[index]\n",
    "    else:\n",
    "        return 'None'"
   ],
   "metadata": {
    "collapsed": false,
    "ExecuteTime": {
     "end_time": "2023-09-08T16:22:56.274666500Z",
     "start_time": "2023-09-08T16:22:56.021454700Z"
    }
   }
  },
  {
   "cell_type": "code",
   "execution_count": 116,
   "outputs": [
    {
     "data": {
      "text/plain": "4"
     },
     "execution_count": 116,
     "metadata": {},
     "output_type": "execute_result"
    }
   ],
   "source": [
    "np.argmax([0, 0 ,0 ,0, 1])"
   ],
   "metadata": {
    "collapsed": false,
    "ExecuteTime": {
     "end_time": "2023-09-08T16:22:57.948457700Z",
     "start_time": "2023-09-08T16:22:57.673200600Z"
    }
   }
  },
  {
   "cell_type": "code",
   "execution_count": 117,
   "outputs": [],
   "source": [
    "def get_topK(label_dict, k=1):\n",
    "    allowed_keys = list()\n",
    "    sorted_values = sorted(label_dict.values(), reverse=True)\n",
    "    for i in sorted_values:\n",
    "        for key, value in label_dict.items():\n",
    "            if i == value and len(allowed_keys) <= k:\n",
    "                #allowed_keys.append((key, value))\n",
    "                allowed_keys.append(key)\n",
    "    return allowed_keys"
   ],
   "metadata": {
    "collapsed": false,
    "ExecuteTime": {
     "end_time": "2023-09-08T16:22:59.069360900Z",
     "start_time": "2023-09-08T16:22:58.807553500Z"
    }
   }
  },
  {
   "cell_type": "code",
   "execution_count": 240,
   "outputs": [],
   "source": [
    "import pandas as pd\n",
    "predict_df = pd.DataFrame(columns=['modified_sequence_vector', 'true_label', 'pred_label', 'prediction', 'modified_sequence', 'seq_length', 'normalized', 'topK'])\n",
    "# every row of tensor to list\n",
    "predict_df['modified_sequence_vector'] = test_ds_embed.numpy().tolist()\n",
    "predict_df['true_label'] = test_labels_embed.numpy().tolist()\n",
    "predict_df['pred_label'] = None\n",
    "predict_df['prediction'] = None\n",
    "predict_df['true_label'] = predict_df['true_label'].apply(decode_one_hot)\n",
    "predict_df['modified_sequence'] = test_ds_embed_raw\n",
    "predict_df['normalized'] = test_true_labels_normalized\n",
    "predict_df['topK'] = predict_df['normalized'].apply(get_topK)\n",
    "# write length of modified sequence after seq_translator to 'seq_length'\n",
    "predict_df['seq_length'] = predict_df['modified_sequence'].apply(lambda x: len(list(seq_translator(x, no_padding=True))))\n"
   ],
   "metadata": {
    "collapsed": false,
    "ExecuteTime": {
     "end_time": "2023-09-08T18:41:40.238266800Z",
     "start_time": "2023-09-08T18:41:38.363272Z"
    }
   }
  },
  {
   "cell_type": "code",
   "execution_count": 167,
   "outputs": [
    {
     "data": {
      "text/plain": "                            modified_sequence_vector  true_label pred_label  \\\n0  [4, 18, 1, 1, 1, 15, 1, 1, 4, 17, 4, 0, 0, 0, ...           2       None   \n1  [16, 12, 16, 10, 15, 10, 16, 10, 8, 6, 3, 15, ...           2       None   \n2  [4, 22, 10, 17, 15, 1, 8, 9, 17, 14, 10, 18, 1...           3       None   \n3  [8, 13, 15, 18, 17, 17, 13, 10, 16, 16, 10, 0,...           2       None   \n\n  prediction           modified_sequence  seq_length  \\\n0       None                 EVAAARAAETE          11   \n1       None                SNSLRLSLIGDR          12   \n2       None  EM[UNIMOD:35]LTRAIKTQLVLLT          15   \n3       None                 IPRVTTPLSSL          11   \n\n                       normalized    topK  \n0                  {2: 2308078.0}     [2]  \n1  {3: 15888960.0, 2: 41187530.0}  [2, 3]  \n2   {3: 48770720.0, 2: 7114500.0}  [3, 2]  \n3                  {2: 9628667.0}     [2]  ",
      "text/html": "<div>\n<style scoped>\n    .dataframe tbody tr th:only-of-type {\n        vertical-align: middle;\n    }\n\n    .dataframe tbody tr th {\n        vertical-align: top;\n    }\n\n    .dataframe thead th {\n        text-align: right;\n    }\n</style>\n<table border=\"1\" class=\"dataframe\">\n  <thead>\n    <tr style=\"text-align: right;\">\n      <th></th>\n      <th>modified_sequence_vector</th>\n      <th>true_label</th>\n      <th>pred_label</th>\n      <th>prediction</th>\n      <th>modified_sequence</th>\n      <th>seq_length</th>\n      <th>normalized</th>\n      <th>topK</th>\n    </tr>\n  </thead>\n  <tbody>\n    <tr>\n      <th>0</th>\n      <td>[4, 18, 1, 1, 1, 15, 1, 1, 4, 17, 4, 0, 0, 0, ...</td>\n      <td>2</td>\n      <td>None</td>\n      <td>None</td>\n      <td>EVAAARAAETE</td>\n      <td>11</td>\n      <td>{2: 2308078.0}</td>\n      <td>[2]</td>\n    </tr>\n    <tr>\n      <th>1</th>\n      <td>[16, 12, 16, 10, 15, 10, 16, 10, 8, 6, 3, 15, ...</td>\n      <td>2</td>\n      <td>None</td>\n      <td>None</td>\n      <td>SNSLRLSLIGDR</td>\n      <td>12</td>\n      <td>{3: 15888960.0, 2: 41187530.0}</td>\n      <td>[2, 3]</td>\n    </tr>\n    <tr>\n      <th>2</th>\n      <td>[4, 22, 10, 17, 15, 1, 8, 9, 17, 14, 10, 18, 1...</td>\n      <td>3</td>\n      <td>None</td>\n      <td>None</td>\n      <td>EM[UNIMOD:35]LTRAIKTQLVLLT</td>\n      <td>15</td>\n      <td>{3: 48770720.0, 2: 7114500.0}</td>\n      <td>[3, 2]</td>\n    </tr>\n    <tr>\n      <th>3</th>\n      <td>[8, 13, 15, 18, 17, 17, 13, 10, 16, 16, 10, 0,...</td>\n      <td>2</td>\n      <td>None</td>\n      <td>None</td>\n      <td>IPRVTTPLSSL</td>\n      <td>11</td>\n      <td>{2: 9628667.0}</td>\n      <td>[2]</td>\n    </tr>\n  </tbody>\n</table>\n</div>"
     },
     "execution_count": 167,
     "metadata": {},
     "output_type": "execute_result"
    }
   ],
   "source": [
    "predict_df.head(4)"
   ],
   "metadata": {
    "collapsed": false,
    "ExecuteTime": {
     "end_time": "2023-09-08T16:48:08.247582900Z",
     "start_time": "2023-09-08T16:48:08.054392900Z"
    }
   }
  },
  {
   "cell_type": "code",
   "execution_count": 168,
   "outputs": [
    {
     "data": {
      "text/plain": "0       [2]\n1    [2, 3]\n2    [3, 2]\n3       [2]\nName: topK, dtype: object"
     },
     "execution_count": 168,
     "metadata": {},
     "output_type": "execute_result"
    }
   ],
   "source": [
    "predict_df['topK'].head(4)"
   ],
   "metadata": {
    "collapsed": false,
    "ExecuteTime": {
     "end_time": "2023-09-08T16:48:10.362236400Z",
     "start_time": "2023-09-08T16:48:10.227818100Z"
    }
   }
  },
  {
   "cell_type": "code",
   "execution_count": 241,
   "outputs": [
    {
     "name": "stdout",
     "output_type": "stream",
     "text": [
      "[[ 4 18  1  1  1 15  1  1  4 17  4  0  0  0  0  0  0  0  0  0  0  0  0  0\n",
      "   0  0  0  0  0  0  0  0  0  0  0  0  0  0  0  0  0  0  0  0  0  0  0  0\n",
      "   0  0  0  0  0  0  0  0  0  0  0  0  0  0  0]]\n",
      "[1.0216753e-01 8.5798782e-01 3.9808776e-02 3.5753292e-05 3.0718628e-08\n",
      " 3.6748627e-08]\n"
     ]
    }
   ],
   "source": [
    "# test predict for one\n",
    "for index, row in predict_df.iterrows():\n",
    "    solut1 = np.expand_dims(tf.convert_to_tensor(np.array(predict_df.at[index, \"modified_sequence_vector\"])), axis=0)\n",
    "    print(solut1)\n",
    "    test_give = model_embed.predict(solut1, verbose=False)\n",
    "    break\n",
    "print(test_give[0])"
   ],
   "metadata": {
    "collapsed": false,
    "ExecuteTime": {
     "end_time": "2023-09-08T18:41:47.299149900Z",
     "start_time": "2023-09-08T18:41:46.905418900Z"
    }
   }
  },
  {
   "cell_type": "code",
   "execution_count": 242,
   "outputs": [],
   "source": [
    "def generate_charge_prediction_text(charge_predictions, input_sequence='AAAVVCCAA'):\n",
    "    max_charge_index = np.argmax(charge_predictions)\n",
    "    max_charge_value = round(charge_predictions[max_charge_index], 2)\n",
    "\n",
    "    charge_text = f\"The predicted charge state for the input sequence '{input_sequence}' is {max_charge_index+1} [{round(max_charge_value*100,2)}%].\"\n",
    "    percentage_text = \"Prediction percentages for all states:\\n\"\n",
    "\n",
    "    for index, prediction in enumerate(charge_predictions):\n",
    "        if index != max_charge_index:\n",
    "            percentage = round(prediction * 100, 2)\n",
    "            percentage_text += f\"Charge state {index+1}: {percentage}%\\n\"\n",
    "        else:\n",
    "            percentage = round(prediction * 100, 2)\n",
    "            percentage_text += f\"--Charge state {index+1}: {percentage}%\\n\"\n",
    "\n",
    "    full_text = charge_text + \"\\n\" + percentage_text\n",
    "    return full_text"
   ],
   "metadata": {
    "collapsed": false,
    "ExecuteTime": {
     "end_time": "2023-09-08T18:41:49.322159900Z",
     "start_time": "2023-09-08T18:41:48.983133100Z"
    }
   }
  },
  {
   "cell_type": "markdown",
   "source": [],
   "metadata": {
    "collapsed": false
   }
  },
  {
   "cell_type": "code",
   "execution_count": 171,
   "outputs": [
    {
     "name": "stdout",
     "output_type": "stream",
     "text": [
      "Model: \"model_16\"\n",
      "_________________________________________________________________\n",
      " Layer (type)                Output Shape              Param #   \n",
      "=================================================================\n",
      " input_9 (InputLayer)        [(None, 63)]              0         \n",
      "                                                                 \n",
      " embedding_7 (Embedding)     (None, 63, 2)             46        \n",
      "                                                                 \n",
      " flatten_7 (Flatten)         (None, 126)               0         \n",
      "                                                                 \n",
      " dense_7 (Dense)             (None, 6)                 762       \n",
      "                                                                 \n",
      "=================================================================\n",
      "Total params: 808\n",
      "Trainable params: 808\n",
      "Non-trainable params: 0\n",
      "_________________________________________________________________\n"
     ]
    }
   ],
   "source": [
    "model_embed.summary()"
   ],
   "metadata": {
    "collapsed": false,
    "ExecuteTime": {
     "end_time": "2023-09-08T16:48:16.535158100Z",
     "start_time": "2023-09-08T16:48:16.412750800Z"
    }
   }
  },
  {
   "cell_type": "code",
   "execution_count": 243,
   "outputs": [
    {
     "data": {
      "text/plain": "19501"
     },
     "execution_count": 243,
     "metadata": {},
     "output_type": "execute_result"
    }
   ],
   "source": [
    "# search modified_sequence of length 60 in predict_df and return row index\n",
    "predict_df[predict_df['seq_length'] >= 40].index[0]"
   ],
   "metadata": {
    "collapsed": false,
    "ExecuteTime": {
     "end_time": "2023-09-08T18:41:55.223350700Z",
     "start_time": "2023-09-08T18:41:54.967411600Z"
    }
   }
  },
  {
   "cell_type": "code",
   "execution_count": 244,
   "outputs": [
    {
     "data": {
      "text/plain": "                            modified_sequence_vector  true_label pred_label  \\\n0  [4, 18, 1, 1, 1, 15, 1, 1, 4, 17, 4, 0, 0, 0, ...           2       None   \n1  [16, 12, 16, 10, 15, 10, 16, 10, 8, 6, 3, 15, ...           2       None   \n2  [4, 22, 10, 17, 15, 1, 8, 9, 17, 14, 10, 18, 1...           3       None   \n3  [8, 13, 15, 18, 17, 17, 13, 10, 16, 16, 10, 0,...           2       None   \n\n  prediction           modified_sequence  seq_length  \\\n0       None                 EVAAARAAETE          11   \n1       None                SNSLRLSLIGDR          12   \n2       None  EM[UNIMOD:35]LTRAIKTQLVLLT          15   \n3       None                 IPRVTTPLSSL          11   \n\n                       normalized    topK  \n0                  {2: 2308078.0}     [2]  \n1  {3: 15888960.0, 2: 41187530.0}  [2, 3]  \n2   {3: 48770720.0, 2: 7114500.0}  [3, 2]  \n3                  {2: 9628667.0}     [2]  ",
      "text/html": "<div>\n<style scoped>\n    .dataframe tbody tr th:only-of-type {\n        vertical-align: middle;\n    }\n\n    .dataframe tbody tr th {\n        vertical-align: top;\n    }\n\n    .dataframe thead th {\n        text-align: right;\n    }\n</style>\n<table border=\"1\" class=\"dataframe\">\n  <thead>\n    <tr style=\"text-align: right;\">\n      <th></th>\n      <th>modified_sequence_vector</th>\n      <th>true_label</th>\n      <th>pred_label</th>\n      <th>prediction</th>\n      <th>modified_sequence</th>\n      <th>seq_length</th>\n      <th>normalized</th>\n      <th>topK</th>\n    </tr>\n  </thead>\n  <tbody>\n    <tr>\n      <th>0</th>\n      <td>[4, 18, 1, 1, 1, 15, 1, 1, 4, 17, 4, 0, 0, 0, ...</td>\n      <td>2</td>\n      <td>None</td>\n      <td>None</td>\n      <td>EVAAARAAETE</td>\n      <td>11</td>\n      <td>{2: 2308078.0}</td>\n      <td>[2]</td>\n    </tr>\n    <tr>\n      <th>1</th>\n      <td>[16, 12, 16, 10, 15, 10, 16, 10, 8, 6, 3, 15, ...</td>\n      <td>2</td>\n      <td>None</td>\n      <td>None</td>\n      <td>SNSLRLSLIGDR</td>\n      <td>12</td>\n      <td>{3: 15888960.0, 2: 41187530.0}</td>\n      <td>[2, 3]</td>\n    </tr>\n    <tr>\n      <th>2</th>\n      <td>[4, 22, 10, 17, 15, 1, 8, 9, 17, 14, 10, 18, 1...</td>\n      <td>3</td>\n      <td>None</td>\n      <td>None</td>\n      <td>EM[UNIMOD:35]LTRAIKTQLVLLT</td>\n      <td>15</td>\n      <td>{3: 48770720.0, 2: 7114500.0}</td>\n      <td>[3, 2]</td>\n    </tr>\n    <tr>\n      <th>3</th>\n      <td>[8, 13, 15, 18, 17, 17, 13, 10, 16, 16, 10, 0,...</td>\n      <td>2</td>\n      <td>None</td>\n      <td>None</td>\n      <td>IPRVTTPLSSL</td>\n      <td>11</td>\n      <td>{2: 9628667.0}</td>\n      <td>[2]</td>\n    </tr>\n  </tbody>\n</table>\n</div>"
     },
     "execution_count": 244,
     "metadata": {},
     "output_type": "execute_result"
    }
   ],
   "source": [
    "predict_df.head(4)"
   ],
   "metadata": {
    "collapsed": false,
    "ExecuteTime": {
     "end_time": "2023-09-08T18:41:56.739555900Z",
     "start_time": "2023-09-08T18:41:56.420539200Z"
    }
   }
  },
  {
   "cell_type": "code",
   "execution_count": 245,
   "outputs": [
    {
     "name": "stdout",
     "output_type": "stream",
     "text": [
      "0 0.10025638 X; 1 -0.11818672 X; 2 0.09708467 X; 3 0.1328966 X; 4 0.117835276 X; 5 0.08718019 X; 6 0.07628352 X; 7 -0.10191334 X; 8 -0.12933892 X; 9 0.098962486 X; 10 0.10889513 X; 11 0.0931236 X; 12 -0.08749932 X; 13 -0.11066638 X; 14 -0.085687116 X; 15 0.08811873 X; 16 0.077981345 X; 17 0.11043317 X; 18 0.10518133 X; 19 0.07268621 X; 20 0.04812575 X; 21 -0.084750004 X; 22 0.0067081116 X; 23 -0.080171995 X; 24 -0.07082081 X; 25 -0.10712102 X; 26 -0.09524145 X; 27 -0.12057383 X; 28 -0.07603084 X; 29 -0.09081194 X; 30 -0.08029918 X; 31 0.090977676 X; 32 0.09393274 X; 33 0.104154915 X; 34 -0.12661652 X; 35 -0.12923566 X; 36 0.14003733 X; 37 -0.04898636 X; 38 0.07273442 X; 39 0.095103204 X; 40 0.049317375 X; 41 0.09696127 X; 42 -0.08904695 X; 43 0.10053895 X; 44 -0.11771528 X; 45 -0.11424928 X; 46 -0.07669799 X; 47 0.07411221 X; 48 0.1164199 X; 49 0.10517397 X; 50 0.120452575 X; 51 0.09260564 X; 52 -0.074399315 X; 53 -0.11601294 X; 54 -0.012687198 X; 55 0.09012634 X; 56 -0.07481382 X; 57 0.09900333 X; 58 -0.12232598 X; 59 -0.07937215 X; 60 0.066934116 X; 61 0.010703879 X; 62 -0.091121525 X; \n",
      "\n",
      "0 0.067854255 A; 1 -0.06853012 A; 2 0.14295386 A; 3 -0.17886457 A; 4 0.12943162 A; 5 -0.0018649298 A; 6 0.103990875 A; 7 0.03263991 A; 8 0.06801643 A; 9 -0.037114915 A; 10 -0.12462739 A; 11 0.15249534 A; 12 0.056695692 A; 13 0.14790188 A; 14 -0.10508148 A; 15 0.07556546 A; 16 -0.012314426 A; 17 -0.16314238 A; 18 -0.088461526 A; 19 0.10559258 A; 20 0.13572383 A; 21 -0.08437674 A; 22 -0.071693905 A; 23 -0.1055071 A; 24 -0.07849771 A; 25 -0.09245645 A; 26 0.033182766 A; 27 -0.0950833 A; 28 0.0995955 A; 29 0.050732322 A; 30 -0.062085997 A; 31 -0.18990496 A; 32 0.10101368 A; 33 -0.19970404 A; 34 0.0988587 A; 35 0.015345167 A; 36 -0.15392554 A; 37 -0.083720185 A; 38 0.01835187 A; 39 -0.020404018 A; 40 0.06533727 A; 41 0.014609828 A; 42 -0.031923264 A; 43 0.07648947 A; 44 -0.07163439 A; 45 0.005879327 A; 46 -0.13734432 A; 47 -0.06823511 A; 48 0.03418022 A; 49 -0.024922587 A; 50 -0.07411295 A; 51 -0.15649275 A; 52 -0.13698085 A; 53 -0.008778042 A; 54 -0.10830226 A; 55 -0.0063300636 A; 56 -0.15353467 A; 57 -0.12055507 A; 58 0.09541806 A; 59 0.00021538316 A; 60 0.12888634 A; 61 0.05755378 A; 62 0.07689974 A; \n",
      "\n",
      "0 0.010621119 C; 1 0.023461904 C; 2 0.040683057 C; 3 0.019814301 C; 4 -0.021733344 C; 5 -0.016123116 C; 6 -0.0019090995 C; 7 -0.026421083 C; 8 -0.00038792938 C; 9 -0.04699533 C; 10 0.017528545 C; 11 0.01411419 C; 12 0.0085366 C; 13 -0.00756998 C; 14 0.0032823086 C; 15 -0.031987906 C; 16 0.01588824 C; 17 -0.01964562 C; 18 -0.012174465 C; 19 0.0484717 C; 20 -0.03251778 C; 21 -0.03757601 C; 22 0.0025737397 C; 23 0.010509573 C; 24 -0.016596459 C; 25 0.028366957 C; 26 -0.03287548 C; 27 0.046125147 C; 28 0.008453153 C; 29 0.018823039 C; 30 0.00397557 C; 31 0.047126044 C; 32 -0.045956504 C; 33 0.003114175 C; 34 -0.02268578 C; 35 -0.033866607 C; 36 0.03381833 C; 37 -0.016077805 C; 38 0.024827663 C; 39 -0.011857878 C; 40 0.031226408 C; 41 -0.01961471 C; 42 0.03245754 C; 43 -0.0063196793 C; 44 0.023288313 C; 45 -0.03888606 C; 46 0.045345377 C; 47 -0.031891957 C; 48 0.02790692 C; 49 0.034311358 C; 50 0.031056155 C; 51 -0.004004039 C; 52 -0.0024139658 C; 53 0.024481978 C; 54 0.03435875 C; 55 -0.036064874 C; 56 0.0050235502 C; 57 -0.024527717 C; 58 -0.023957003 C; 59 -0.038113642 C; 60 -0.042793967 C; 61 0.009255193 C; 62 0.02946711 C; \n",
      "\n",
      "0 0.09981078 D; 1 -0.014419441 D; 2 0.019830978 D; 3 -0.20354818 D; 4 -0.22703949 D; 5 -0.029011797 D; 6 0.07009885 D; 7 -0.20686033 D; 8 0.13542753 D; 9 0.178495 D; 10 -0.15414181 D; 11 0.06576607 D; 12 -0.2101487 D; 13 0.23231283 D; 14 -0.035212457 D; 15 -0.08930575 D; 16 -0.10633419 D; 17 -0.030760605 D; 18 -0.16708171 D; 19 0.056038674 D; 20 0.0038164686 D; 21 -0.037582073 D; 22 -0.15230733 D; 23 -0.13117339 D; 24 -0.039738618 D; 25 0.08826836 D; 26 -0.046491317 D; 27 -0.1595285 D; 28 -0.13785782 D; 29 0.08102413 D; 30 -0.2208451 D; 31 -0.12057799 D; 32 0.0010843368 D; 33 -0.2486078 D; 34 0.09971869 D; 35 0.1711488 D; 36 -0.27584568 D; 37 -0.089012824 D; 38 -0.18595305 D; 39 0.08105298 D; 40 0.18047778 D; 41 0.02348508 D; 42 -0.061427638 D; 43 -0.0010973568 D; 44 -0.12841961 D; 45 0.060676347 D; 46 -0.058756094 D; 47 -0.08136785 D; 48 0.10381979 D; 49 -0.023486927 D; 50 -0.026782239 D; 51 -0.24589719 D; 52 -0.0816725 D; 53 -0.09819834 D; 54 -0.15146354 D; 55 -0.15332131 D; 56 0.002012737 D; 57 -0.22473152 D; 58 -0.13932936 D; 59 -0.076583914 D; 60 0.15219495 D; 61 0.17721865 D; 62 -0.064594395 D; \n",
      "\n",
      "0 -0.08813987 E; 1 0.062043287 E; 2 0.095021755 E; 3 -0.14416623 E; 4 -0.079841934 E; 5 0.043237787 E; 6 0.0558415 E; 7 0.01818938 E; 8 0.042675972 E; 9 0.10660118 E; 10 -0.15106748 E; 11 0.029674653 E; 12 -0.0869625 E; 13 -0.031979542 E; 14 0.018193886 E; 15 -0.048545245 E; 16 -0.060792588 E; 17 -0.1811484 E; 18 -0.050505664 E; 19 0.053236518 E; 20 0.0461005 E; 21 0.06368777 E; 22 -0.035482313 E; 23 -0.1318454 E; 24 -0.13279003 E; 25 0.05740218 E; 26 -0.030947512 E; 27 -0.03300538 E; 28 -0.03620191 E; 29 0.10502277 E; 30 -0.07291013 E; 31 -0.16651982 E; 32 -0.066611506 E; 33 -0.16342922 E; 34 0.063182086 E; 35 -0.008695692 E; 36 0.0035030013 E; 37 -0.1396869 E; 38 0.030475732 E; 39 0.0721691 E; 40 0.12804833 E; 41 -0.09097439 E; 42 0.026667973 E; 43 0.0022109104 E; 44 0.08630698 E; 45 0.09705892 E; 46 0.020549458 E; 47 -0.09458072 E; 48 0.011194455 E; 49 -0.050296456 E; 50 -0.03446797 E; 51 -0.13751023 E; 52 -0.051014178 E; 53 -0.097199515 E; 54 -0.1406591 E; 55 -0.09031474 E; 56 -0.09382844 E; 57 -0.02371023 E; 58 0.074574284 E; 59 -0.026892293 E; 60 0.026481595 E; 61 0.18753618 E; 62 0.029589677 E; \n",
      "\n",
      "0 -0.058832552 F; 1 0.012378769 F; 2 0.053121634 F; 3 -0.16061354 F; 4 0.0132087935 F; 5 -0.057347424 F; 6 0.105436146 F; 7 -0.00285712 F; 8 0.09228906 F; 9 -0.05985706 F; 10 -0.108409055 F; 11 0.14426477 F; 12 -0.063020706 F; 13 0.09583591 F; 14 -0.0010891602 F; 15 0.025507098 F; 16 -0.05451179 F; 17 -0.16448702 F; 18 -0.0028674155 F; 19 0.06867568 F; 20 0.09767055 F; 21 0.026793204 F; 22 -0.11755132 F; 23 -0.10949782 F; 24 -0.009875012 F; 25 -0.041929945 F; 26 0.11351191 F; 27 -0.041611515 F; 28 0.07811396 F; 29 -0.016642086 F; 30 -0.06656444 F; 31 -0.21887298 F; 32 0.041397654 F; 33 -0.16998474 F; 34 0.1243298 F; 35 0.024571378 F; 36 -0.08989972 F; 37 -0.06316541 F; 38 0.0065233544 F; 39 -0.045427725 F; 40 0.031236291 F; 41 0.0002358739 F; 42 -0.04562933 F; 43 0.04576975 F; 44 -0.024824936 F; 45 0.05143792 F; 46 -0.05193781 F; 47 -0.06252285 F; 48 -0.030741928 F; 49 0.022640092 F; 50 0.032918636 F; 51 -0.13893487 F; 52 -0.09309679 F; 53 -0.036141556 F; 54 -0.10232675 F; 55 0.061624948 F; 56 -0.046109766 F; 57 -0.08339835 F; 58 0.055322744 F; 59 -0.011388133 F; 60 0.093220785 F; 61 0.11463922 F; 62 0.08088958 F; \n",
      "\n",
      "0 0.02990487 G; 1 -0.015191004 G; 2 0.122520365 G; 3 -0.20569594 G; 4 0.028779313 G; 5 -0.018792223 G; 6 0.12812696 G; 7 0.003739134 G; 8 0.047782037 G; 9 0.004289854 G; 10 -0.15983029 G; 11 0.13346013 G; 12 -0.074036084 G; 13 0.1288904 G; 14 -0.09282443 G; 15 0.10007506 G; 16 -0.002005268 G; 17 -0.17363293 G; 18 -0.13133657 G; 19 0.1024447 G; 20 0.06786029 G; 21 -0.05988426 G; 22 -0.04374555 G; 23 -0.17877263 G; 24 -0.042712305 G; 25 -0.029671023 G; 26 0.0681566 G; 27 -0.040651225 G; 28 -0.027527101 G; 29 0.035515655 G; 30 -0.074832 G; 31 -0.11254458 G; 32 0.0057837428 G; 33 -0.20227724 G; 34 0.032181174 G; 35 0.031336725 G; 36 -0.20137244 G; 37 -0.037666082 G; 38 -0.014507041 G; 39 0.03773921 G; 40 0.11979155 G; 41 -0.015469326 G; 42 -0.06914697 G; 43 0.08824578 G; 44 -0.06853417 G; 45 0.04831086 G; 46 -0.084923476 G; 47 -0.08488798 G; 48 0.031035861 G; 49 -0.022891516 G; 50 -0.077720456 G; 51 -0.1559335 G; 52 -0.12185178 G; 53 -0.009011657 G; 54 -0.17097782 G; 55 0.0446393 G; 56 -0.14186037 G; 57 -0.14653647 G; 58 0.056672435 G; 59 -0.022874456 G; 60 0.1296068 G; 61 0.14098616 G; 62 0.07587366 G; \n",
      "\n",
      "0 -0.32637084 H; 1 0.33477494 H; 2 -0.3275927 H; 3 0.33324122 H; 4 -0.34423143 H; 5 -0.3351314 H; 6 -0.25449237 H; 7 0.34404263 H; 8 0.323754 H; 9 -0.26062152 H; 10 0.27078757 H; 11 -0.2636859 H; 12 0.32453403 H; 13 0.36568624 H; 14 0.31657818 H; 15 -0.35615835 H; 16 -0.2952533 H; 17 0.38008562 H; 18 -0.39152408 H; 19 -0.31830668 H; 20 -0.3997951 H; 21 0.34782246 H; 22 0.3865645 H; 23 0.32454315 H; 24 0.25129274 H; 25 0.28549343 H; 26 0.32742277 H; 27 0.2396692 H; 28 0.2966144 H; 29 0.28626072 H; 30 0.26500908 H; 31 -0.042747468 H; 32 -0.34746632 H; 33 0.1478279 H; 34 0.25493184 H; 35 0.3574458 H; 36 -0.27829045 H; 37 0.3119871 H; 38 -0.31013158 H; 39 -0.23734365 H; 40 -0.3624809 H; 41 -0.25212935 H; 42 0.24347095 H; 43 -0.29165217 H; 44 0.33528286 H; 45 0.31363738 H; 46 0.3053406 H; 47 -0.30082592 H; 48 -0.28025192 H; 49 -0.37199283 H; 50 -0.25459415 H; 51 -0.26429817 H; 52 0.21127687 H; 53 0.27610376 H; 54 0.36730182 H; 55 -0.34051555 H; 56 0.29707643 H; 57 -0.2669553 H; 58 0.2909663 H; 59 0.34454206 H; 60 -0.27358836 H; 61 -0.40653732 H; 62 0.33717117 H; \n",
      "\n",
      "0 -0.00471835 I; 1 0.0070130588 I; 2 0.13717093 I; 3 -0.20967022 I; 4 0.13428345 I; 5 -0.002768746 I; 6 0.11442258 I; 7 0.07188881 I; 8 0.0032758163 I; 9 -0.06449545 I; 10 -0.1689235 I; 11 0.10177393 I; 12 0.02567481 I; 13 0.13571969 I; 14 -0.054600254 I; 15 0.06529343 I; 16 -0.03903978 I; 17 -0.14258583 I; 18 0.0004339182 I; 19 -0.0001326871 I; 20 0.15194403 I; 21 -0.006455881 I; 22 -0.021986704 I; 23 -0.13716537 I; 24 -0.017436191 I; 25 -0.03278313 I; 26 0.058563575 I; 27 -0.06599949 I; 28 0.0570234 I; 29 0.075741574 I; 30 -0.043872505 I; 31 -0.14725636 I; 32 0.012903464 I; 33 -0.21865048 I; 34 0.082811154 I; 35 -0.0027369848 I; 36 -0.15307264 I; 37 -0.115140654 I; 38 0.06722749 I; 39 0.07375731 I; 40 0.008386945 I; 41 -0.02714755 I; 42 -0.09816055 I; 43 0.01234149 I; 44 0.0027583905 I; 45 -0.01604385 I; 46 -0.08859822 I; 47 -0.04874474 I; 48 -0.087635316 I; 49 -0.06355967 I; 50 -0.072210826 I; 51 -0.07480916 I; 52 -0.03322218 I; 53 0.019276 I; 54 -0.17588156 I; 55 0.031364705 I; 56 -0.07070014 I; 57 -0.0041061114 I; 58 0.11846652 I; 59 -0.06284562 I; 60 0.08486948 I; 61 0.072144054 I; 62 0.025813228 I; \n",
      "\n",
      "0 -0.31800798 K; 1 0.37714815 K; 2 -0.2748985 K; 3 0.28616378 K; 4 -0.3757938 K; 5 -0.36500165 K; 6 -0.25486705 K; 7 0.25928855 K; 8 0.35461462 K; 9 -0.32677555 K; 10 0.27703634 K; 11 -0.3193754 K; 12 0.30476663 K; 13 0.31576753 K; 14 0.34028885 K; 15 -0.2515347 K; 16 -0.36063433 K; 17 0.23364858 K; 18 -0.30780187 K; 19 -0.32480097 K; 20 -0.2498 K; 21 0.32438642 K; 22 0.3564796 K; 23 0.2832437 K; 24 0.30953828 K; 25 0.3443658 K; 26 0.25193316 K; 27 0.27011946 K; 28 0.3505019 K; 29 0.39772865 K; 30 0.3326675 K; 31 0.38425764 K; 32 -0.27976486 K; 33 0.33367065 K; 34 0.37261194 K; 35 0.29139253 K; 36 -0.26438108 K; 37 0.34238312 K; 38 -0.34358856 K; 39 -0.3171827 K; 40 -0.31902674 K; 41 -0.33695042 K; 42 0.3149631 K; 43 -0.30225888 K; 44 0.30197382 K; 45 0.37817472 K; 46 0.35303593 K; 47 -0.3839223 K; 48 -0.36480355 K; 49 -0.32456306 K; 50 -0.374996 K; 51 0.09454688 K; 52 0.3107965 K; 53 0.26911095 K; 54 0.28743812 K; 55 -0.32033658 K; 56 0.28895006 K; 57 -0.29833823 K; 58 0.31676465 K; 59 0.33931226 K; 60 -0.32245648 K; 61 -0.24873677 K; 62 0.36686173 K; \n",
      "\n",
      "0 -0.013295141 L; 1 0.009647166 L; 2 0.07216027 L; 3 -0.21419351 L; 4 0.025471829 L; 5 -0.0016562918 L; 6 0.14592831 L; 7 0.10648163 L; 8 0.053898957 L; 9 0.0014521546 L; 10 -0.074883096 L; 11 0.13958108 L; 12 -0.07452971 L; 13 0.032597255 L; 14 -0.043572225 L; 15 0.061852828 L; 16 0.010839585 L; 17 -0.15610155 L; 18 0.008302147 L; 19 0.030536437 L; 20 0.1304863 L; 21 -0.01747874 L; 22 -0.013789814 L; 23 -0.09386254 L; 24 -0.08901581 L; 25 -0.08389667 L; 26 0.058784436 L; 27 -0.018458363 L; 28 0.10240665 L; 29 0.09399694 L; 30 -0.02193351 L; 31 -0.17414461 L; 32 0.025302548 L; 33 -0.16931589 L; 34 0.09141044 L; 35 -0.011300405 L; 36 -0.103412785 L; 37 -0.11411724 L; 38 0.0876866 L; 39 0.096058026 L; 40 0.12762399 L; 41 0.051325653 L; 42 -0.07247216 L; 43 0.043089103 L; 44 0.08822328 L; 45 0.030389694 L; 46 -0.08777047 L; 47 -0.10515745 L; 48 -0.09094117 L; 49 -0.0019746951 L; 50 -0.01941223 L; 51 -0.12781934 L; 52 -0.0830179 L; 53 -0.066951394 L; 54 -0.13107978 L; 55 -0.017833022 L; 56 -0.06504976 L; 57 -0.06736519 L; 58 0.1092086 L; 59 -0.015079479 L; 60 0.10022464 L; 61 0.06863298 L; 62 0.07294455 L; \n",
      "\n",
      "0 -0.14175068 M; 1 0.059790418 M; 2 0.058031697 M; 3 -0.1476022 M; 4 -0.058016334 M; 5 -0.042038266 M; 6 0.055164035 M; 7 0.098443925 M; 8 0.07013791 M; 9 0.020811744 M; 10 -0.1583421 M; 11 -0.002932336 M; 12 -0.07743027 M; 13 0.054187242 M; 14 0.013240985 M; 15 0.09847327 M; 16 -0.14783129 M; 17 -0.16273227 M; 18 0.084079675 M; 19 -0.007965573 M; 20 0.0544471 M; 21 -0.013979545 M; 22 0.047740508 M; 23 -0.0019583863 M; 24 -0.02060522 M; 25 0.024030356 M; 26 0.0023949472 M; 27 -0.06417246 M; 28 0.045624748 M; 29 0.11130014 M; 30 -0.044429846 M; 31 -0.01616445 M; 32 -0.054298554 M; 33 -0.14750397 M; 34 0.08912947 M; 35 0.07057151 M; 36 -0.024581384 M; 37 -0.07728415 M; 38 0.038500417 M; 39 -0.009176439 M; 40 0.09961581 M; 41 -0.12669362 M; 42 -0.0011712469 M; 43 0.011894136 M; 44 0.09111768 M; 45 0.03011082 M; 46 0.031912014 M; 47 -0.07677954 M; 48 -0.06364134 M; 49 -0.01686287 M; 50 -0.0515821 M; 51 -0.100961044 M; 52 -0.042475168 M; 53 -0.11926785 M; 54 -0.1828156 M; 55 -0.09776224 M; 56 0.02446894 M; 57 -0.10235797 M; 58 0.049634855 M; 59 0.055326194 M; 60 0.0027775392 M; 61 0.18440852 M; 62 0.10811582 M; \n",
      "\n",
      "0 -0.07284628 N; 1 0.049994845 N; 2 0.12273035 N; 3 -0.1392425 N; 4 -0.07219028 N; 5 -0.0065252436 N; 6 0.09409417 N; 7 -0.058055583 N; 8 0.083834514 N; 9 0.10030707 N; 10 -0.12087409 N; 11 0.13293403 N; 12 -0.079299085 N; 13 0.102599494 N; 14 -0.062656105 N; 15 0.0057762223 N; 16 -0.07333465 N; 17 -0.14973038 N; 18 -0.08734585 N; 19 0.002040629 N; 20 -0.02376372 N; 21 -0.05671785 N; 22 -0.057121355 N; 23 -0.051623657 N; 24 -0.020318212 N; 25 0.033322066 N; 26 0.091851905 N; 27 -0.05132578 N; 28 -0.08754563 N; 29 0.09211292 N; 30 -0.09711684 N; 31 -0.062400512 N; 32 -0.025159486 N; 33 -0.20922574 N; 34 0.13232513 N; 35 0.11776712 N; 36 -0.040434144 N; 37 -0.10899055 N; 38 0.03503965 N; 39 0.031449847 N; 40 0.092251256 N; 41 -0.0946361 N; 42 -0.08045348 N; 43 0.033586066 N; 44 0.070215896 N; 45 0.049339585 N; 46 -0.031379417 N; 47 -0.0001173452 N; 48 0.0038340564 N; 49 -0.11606583 N; 50 -0.03498161 N; 51 -0.13654928 N; 52 -0.048379228 N; 53 -0.021874396 N; 54 -0.16206963 N; 55 -0.05261096 N; 56 -0.11451628 N; 57 -0.094905734 N; 58 0.009880449 N; 59 -0.0046788813 N; 60 0.050464667 N; 61 0.18105915 N; 62 -0.00085498695 N; \n",
      "\n",
      "0 -0.05321962 P; 1 -0.018752245 P; 2 0.06805263 P; 3 -0.22287397 P; 4 0.033212017 P; 5 0.061669208 P; 6 -0.004670977 P; 7 0.07621373 P; 8 0.05339636 P; 9 0.026104257 P; 10 -0.14911774 P; 11 0.031180434 P; 12 0.07893634 P; 13 -0.052515335 P; 14 -0.0746069 P; 15 -0.046641458 P; 16 0.0088451225 P; 17 -0.2032818 P; 18 -0.044143677 P; 19 0.025141565 P; 20 0.1344164 P; 21 0.0735676 P; 22 -0.005060433 P; 23 -0.051629398 P; 24 -0.103506334 P; 25 0.019337855 P; 26 -0.020909242 P; 27 -0.037362467 P; 28 0.021925103 P; 29 0.044502508 P; 30 -0.013450478 P; 31 -0.17585973 P; 32 0.09773341 P; 33 -0.18562728 P; 34 -0.01570783 P; 35 -0.015214472 P; 36 -0.08890238 P; 37 -0.12676062 P; 38 -0.041627727 P; 39 -0.042143267 P; 40 0.0889587 P; 41 0.027826797 P; 42 0.02937874 P; 43 0.016738322 P; 44 0.118078284 P; 45 0.087189965 P; 46 0.024450354 P; 47 -0.096022874 P; 48 0.017367562 P; 49 0.048677705 P; 50 -0.09661519 P; 51 -0.05713699 P; 52 -0.0033138378 P; 53 0.017446533 P; 54 -0.16880082 P; 55 -0.0046285344 P; 56 -0.12500638 P; 57 -0.025418766 P; 58 0.13062164 P; 59 -0.021587143 P; 60 0.0060401186 P; 61 0.123242706 P; 62 0.09456703 P; \n",
      "\n",
      "0 -0.12846212 Q; 1 0.008706077 Q; 2 0.055589233 Q; 3 -0.15118897 Q; 4 -0.0019572214 Q; 5 0.0713838 Q; 6 0.011388297 Q; 7 0.10932795 Q; 8 0.08628048 Q; 9 -0.022255665 Q; 10 -0.118980296 Q; 11 0.09650941 Q; 12 -0.094477475 Q; 13 -0.02257814 Q; 14 0.006020759 Q; 15 -0.030765895 Q; 16 -0.024630489 Q; 17 -0.16523287 Q; 18 0.04422484 Q; 19 -0.030580616 Q; 20 -0.044916578 Q; 21 0.055955585 Q; 22 -0.008187994 Q; 23 -0.046240423 Q; 24 -0.103422865 Q; 25 0.041890386 Q; 26 0.015153209 Q; 27 0.026356194 Q; 28 0.060640574 Q; 29 0.110885456 Q; 30 -0.05671002 Q; 31 -0.102658294 Q; 32 -0.050982237 Q; 33 -0.1625332 Q; 34 0.02221099 Q; 35 0.054617234 Q; 36 -0.011032383 Q; 37 -0.11144305 Q; 38 0.0823765 Q; 39 0.06446449 Q; 40 0.1346055 Q; 41 -0.08797534 Q; 42 0.005614856 Q; 43 0.066109926 Q; 44 0.12396067 Q; 45 0.08625791 Q; 46 -0.01498087 Q; 47 -0.06621211 Q; 48 -0.009638333 Q; 49 -0.07474494 Q; 50 -0.042627055 Q; 51 0.012065779 Q; 52 -0.03469504 Q; 53 -0.09377983 Q; 54 -0.13773541 Q; 55 0.0026940745 Q; 56 0.024670133 Q; 57 0.042642582 Q; 58 0.09331705 Q; 59 0.08596419 Q; 60 0.096419364 Q; 61 0.17033263 Q; 62 0.040042643 Q; \n",
      "\n",
      "0 -0.38314602 R; 1 0.3528066 R; 2 -0.3322564 R; 3 0.37131423 R; 4 -0.31752893 R; 5 -0.32295612 R; 6 -0.34367853 R; 7 0.31284967 R; 8 0.40030664 R; 9 -0.3217746 R; 10 0.32441992 R; 11 -0.33495402 R; 12 0.3652908 R; 13 0.36416796 R; 14 0.33751222 R; 15 -0.36411947 R; 16 -0.37580347 R; 17 0.28385258 R; 18 -0.38027638 R; 19 -0.38069144 R; 20 -0.3243952 R; 21 0.327173 R; 22 0.40851113 R; 23 0.33058637 R; 24 0.29676124 R; 25 0.3823217 R; 26 0.31412947 R; 27 0.32177153 R; 28 0.359611 R; 29 0.35821316 R; 30 0.2924383 R; 31 0.31842586 R; 32 -0.3389577 R; 33 0.25919247 R; 34 0.33998498 R; 35 0.3921057 R; 36 -0.35937467 R; 37 0.29776722 R; 38 -0.32484314 R; 39 -0.27599868 R; 40 -0.33538756 R; 41 -0.36924937 R; 42 0.34344605 R; 43 -0.31684119 R; 44 0.4259398 R; 45 0.38946885 R; 46 0.32489648 R; 47 -0.34657022 R; 48 -0.33735403 R; 49 -0.32902965 R; 50 -0.35136488 R; 51 0.15706414 R; 52 0.3097409 R; 53 0.38939282 R; 54 0.3370654 R; 55 -0.34951773 R; 56 0.3625252 R; 57 -0.36543748 R; 58 0.38234234 R; 59 0.34597197 R; 60 -0.3142381 R; 61 -0.3152697 R; 62 0.39810178 R; \n",
      "\n",
      "0 -0.054028742 S; 1 -0.019606354 S; 2 0.079277664 S; 3 -0.16406815 S; 4 -0.07237784 S; 5 0.031451136 S; 6 0.12091194 S; 7 0.0071019554 S; 8 0.07464512 S; 9 0.09006012 S; 10 -0.15485795 S; 11 0.10939692 S; 12 -0.06649841 S; 13 0.058920946 S; 14 -0.09863326 S; 15 0.008571758 S; 16 -0.06045089 S; 17 -0.1569378 S; 18 -0.028983047 S; 19 0.087114565 S; 20 0.05592754 S; 21 -0.046291456 S; 22 -0.037792172 S; 23 -0.110646315 S; 24 -0.04887101 S; 25 0.008691224 S; 26 0.041101772 S; 27 -0.095847346 S; 28 -0.027690392 S; 29 0.056655005 S; 30 -0.078038685 S; 31 -0.12053659 S; 32 -0.032548975 S; 33 -0.18669283 S; 34 0.042563286 S; 35 0.07017207 S; 36 -0.12211869 S; 37 -0.10506748 S; 38 -0.028137544 S; 39 -0.015167895 S; 40 0.14190176 S; 41 -0.06607397 S; 42 -0.00074825564 S; 43 0.1011131 S; 44 0.027265493 S; 45 0.06729641 S; 46 -0.09145503 S; 47 -0.09488508 S; 48 0.028698625 S; 49 0.016047748 S; 50 -0.07525863 S; 51 -0.19612594 S; 52 -0.061652802 S; 53 -0.051278405 S; 54 -0.17906377 S; 55 -0.028402928 S; 56 -0.07505212 S; 57 -0.056796078 S; 58 0.017517077 S; 59 0.026694328 S; 60 0.09316583 S; 61 0.12875415 S; 62 0.061067097 S; \n",
      "\n",
      "0 -0.08012526 T; 1 -0.055900518 T; 2 0.109968565 T; 3 -0.20137958 T; 4 0.024274196 T; 5 -0.032723088 T; 6 0.06746221 T; 7 0.058091275 T; 8 0.08366454 T; 9 -0.018265462 T; 10 -0.1822783 T; 11 0.09814574 T; 12 -0.028421478 T; 13 0.07949767 T; 14 -0.07370612 T; 15 0.034228813 T; 16 -0.082363755 T; 17 -0.1363622 T; 18 -0.023224697 T; 19 0.007167825 T; 20 0.1474412 T; 21 0.014183482 T; 22 -0.09287288 T; 23 -0.0745224 T; 24 -0.11333216 T; 25 -0.06717286 T; 26 0.059136827 T; 27 -0.011717053 T; 28 0.09252768 T; 29 0.030756105 T; 30 0.004119093 T; 31 -0.087546416 T; 32 0.018957205 T; 33 -0.18694778 T; 34 0.10502658 T; 35 0.020871205 T; 36 -0.066275954 T; 37 -0.12414562 T; 38 0.031872436 T; 39 -0.008958051 T; 40 0.064656995 T; 41 -0.06984649 T; 42 -0.041541994 T; 43 0.065561615 T; 44 -0.0041058552 T; 45 0.014700759 T; 46 -0.07681609 T; 47 -0.030656401 T; 48 0.027403783 T; 49 0.015966866 T; 50 -0.009745081 T; 51 -0.14440374 T; 52 -0.034717172 T; 53 -0.08970835 T; 54 -0.15528877 T; 55 -0.0018888293 T; 56 -0.02878697 T; 57 -0.056716215 T; 58 0.09515028 T; 59 0.020432955 T; 60 0.12994766 T; 61 0.06860392 T; 62 0.052457742 T; \n",
      "\n",
      "0 -0.035791386 V; 1 -0.02822261 V; 2 0.10179999 V; 3 -0.14702865 V; 4 0.11894392 V; 5 -0.0009112424 V; 6 0.123485915 V; 7 0.13065319 V; 8 0.024568915 V; 9 0.0045918315 V; 10 -0.13978326 V; 11 0.12449551 V; 12 0.0529839 V; 13 0.13682005 V; 14 -0.02054193 V; 15 0.099660166 V; 16 -0.043810382 V; 17 -0.18807556 V; 18 0.06264253 V; 19 0.013198426 V; 20 0.12932323 V; 21 -0.077241436 V; 22 -0.063562155 V; 23 -0.12664007 V; 24 -0.07985969 V; 25 -0.0959952 V; 26 0.085633434 V; 27 -0.06251691 V; 28 0.09642337 V; 29 0.07426797 V; 30 0.04897492 V; 31 -0.18287936 V; 32 0.020988977 V; 33 -0.21684313 V; 34 0.13210659 V; 35 -0.05412273 V; 36 -0.12871328 V; 37 -0.07244095 V; 38 0.071423985 V; 39 0.05375719 V; 40 0.11423484 V; 41 -0.009611486 V; 42 -0.08999376 V; 43 0.100347236 V; 44 -0.03939756 V; 45 -0.030274844 V; 46 -0.05986791 V; 47 -0.05937617 V; 48 -0.07363077 V; 49 -0.016585298 V; 50 -0.025109407 V; 51 -0.14909434 V; 52 -0.14106242 V; 53 0.018457506 V; 54 -0.1093029 V; 55 -0.008934644 V; 56 -0.049175303 V; 57 -0.06116489 V; 58 0.1368637 V; 59 -0.027049536 V; 60 0.05487614 V; 61 0.06422628 V; 62 0.09256132 V; \n",
      "\n",
      "0 -0.091840036 W; 1 0.07282328 W; 2 0.05557871 W; 3 -0.09504476 W; 4 -0.08149598 W; 5 -0.034707487 W; 6 0.03119093 W; 7 0.0851603 W; 8 0.09560013 W; 9 0.051640667 W; 10 -0.11966043 W; 11 0.07284586 W; 12 -0.06078128 W; 13 0.11480601 W; 14 0.09321975 W; 15 0.046529576 W; 16 -0.037078142 W; 17 -0.12574558 W; 18 0.034347493 W; 19 -0.03242243 W; 20 0.06070215 W; 21 0.010737961 W; 22 0.0022219908 W; 23 -0.0486526 W; 24 -0.097336344 W; 25 0.03593385 W; 26 0.021773294 W; 27 -0.029973226 W; 28 0.104651295 W; 29 0.084707685 W; 30 -0.034307703 W; 31 -0.08406194 W; 32 -0.094193496 W; 33 -0.07378491 W; 34 0.19241582 W; 35 0.05396692 W; 36 -0.022710357 W; 37 -0.044646155 W; 38 0.030751886 W; 39 0.0600977 W; 40 0.08001595 W; 41 -0.046880394 W; 42 0.036328007 W; 43 -0.01655861 W; 44 0.077535994 W; 45 0.020009901 W; 46 0.019577945 W; 47 -0.09218662 W; 48 -0.010102757 W; 49 -0.028890643 W; 50 -0.041771136 W; 51 -0.074484125 W; 52 0.0031908362 W; 53 -0.07348505 W; 54 -0.19215025 W; 55 -0.076948956 W; 56 -0.04713839 W; 57 -0.0011896554 W; 58 0.027893618 W; 59 0.04101228 W; 60 -0.03846909 W; 61 0.15431306 W; 62 0.021147868 W; \n",
      "\n",
      "0 -0.032598037 Y; 1 -0.08356936 Y; 2 0.058088474 Y; 3 -0.19025466 Y; 4 0.06631699 Y; 5 0.034427427 Y; 6 0.061034493 Y; 7 0.11232915 Y; 8 0.111598015 Y; 9 -0.073345885 Y; 10 -0.075511 Y; 11 0.088885285 Y; 12 0.024176313 Y; 13 0.18801533 Y; 14 0.03980944 Y; 15 0.079004444 Y; 16 -0.065935634 Y; 17 -0.077815354 Y; 18 0.046647947 Y; 19 -0.012437687 Y; 20 0.07903854 Y; 21 -0.13913554 Y; 22 -0.0711079 Y; 23 -0.051732138 Y; 24 -0.0149240075 Y; 25 -0.065797694 Y; 26 0.02153548 Y; 27 -0.057285517 Y; 28 0.101914145 Y; 29 0.0454659 Y; 30 -0.039659325 Y; 31 -0.16215898 Y; 32 -0.027839197 Y; 33 -0.14344497 Y; 34 0.16239356 Y; 35 -0.01655678 Y; 36 -0.16582566 Y; 37 -0.079491556 Y; 38 0.030253652 Y; 39 0.07147403 Y; 40 0.040026348 Y; 41 -0.003859174 Y; 42 -0.053855956 Y; 43 0.014059954 Y; 44 0.03691682 Y; 45 0.010561644 Y; 46 -0.0885751 Y; 47 -0.07013497 Y; 48 -0.11366107 Y; 49 0.040865984 Y; 50 0.012445974 Y; 51 -0.1455074 Y; 52 -0.14715232 Y; 53 -0.080601886 Y; 54 -0.17290719 Y; 55 -0.023232644 Y; 56 0.005307961 Y; 57 -0.163739 Y; 58 0.10591327 Y; 59 -0.042338833 Y; 60 0.117245175 Y; 61 0.1317551 Y; 62 0.13288377 Y; \n",
      "\n",
      "0 -0.16347937 C[UNIMOD:4]; 1 0.10440577 C[UNIMOD:4]; 2 -0.0022925737 C[UNIMOD:4]; 3 -0.115012825 C[UNIMOD:4]; 4 -0.13575289 C[UNIMOD:4]; 5 -0.041692827 C[UNIMOD:4]; 6 -0.053724524 C[UNIMOD:4]; 7 0.08179757 C[UNIMOD:4]; 8 0.08855329 C[UNIMOD:4]; 9 0.041191153 C[UNIMOD:4]; 10 -0.16771768 C[UNIMOD:4]; 11 0.052807234 C[UNIMOD:4]; 12 -0.107636034 C[UNIMOD:4]; 13 0.01759618 C[UNIMOD:4]; 14 0.015119816 C[UNIMOD:4]; 15 -0.09937928 C[UNIMOD:4]; 16 -0.06795202 C[UNIMOD:4]; 17 -0.14992082 C[UNIMOD:4]; 18 0.0755308 C[UNIMOD:4]; 19 -0.08399943 C[UNIMOD:4]; 20 -0.0704503 C[UNIMOD:4]; 21 0.030418953 C[UNIMOD:4]; 22 0.029735588 C[UNIMOD:4]; 23 0.028991956 C[UNIMOD:4]; 24 -0.019896867 C[UNIMOD:4]; 25 0.16133495 C[UNIMOD:4]; 26 -0.061003927 C[UNIMOD:4]; 27 -0.023485254 C[UNIMOD:4]; 28 -0.04723128 C[UNIMOD:4]; 29 0.21176486 C[UNIMOD:4]; 30 -0.1323552 C[UNIMOD:4]; 31 -0.030563878 C[UNIMOD:4]; 32 -0.087613836 C[UNIMOD:4]; 33 -0.09051779 C[UNIMOD:4]; 34 0.13301982 C[UNIMOD:4]; 35 0.09334241 C[UNIMOD:4]; 36 0.019465908 C[UNIMOD:4]; 37 -0.09739262 C[UNIMOD:4]; 38 0.04741575 C[UNIMOD:4]; 39 0.046598893 C[UNIMOD:4]; 40 0.05762687 C[UNIMOD:4]; 41 -0.1161017 C[UNIMOD:4]; 42 0.03823268 C[UNIMOD:4]; 43 -0.0373823 C[UNIMOD:4]; 44 0.09933843 C[UNIMOD:4]; 45 0.121103 C[UNIMOD:4]; 46 0.06978066 C[UNIMOD:4]; 47 -0.017255265 C[UNIMOD:4]; 48 0.03719213 C[UNIMOD:4]; 49 0.006909799 C[UNIMOD:4]; 50 -0.10718657 C[UNIMOD:4]; 51 0.024347056 C[UNIMOD:4]; 52 0.0015641975 C[UNIMOD:4]; 53 -0.15608025 C[UNIMOD:4]; 54 -0.097298905 C[UNIMOD:4]; 55 -0.0673088 C[UNIMOD:4]; 56 0.0075226524 C[UNIMOD:4]; 57 0.029210476 C[UNIMOD:4]; 58 0.099259175 C[UNIMOD:4]; 59 0.101213485 C[UNIMOD:4]; 60 0.0006674339 C[UNIMOD:4]; 61 0.15279835 C[UNIMOD:4]; 62 0.11015633 C[UNIMOD:4]; \n",
      "\n",
      "0 -0.07039011 M[UNIMOD:35]; 1 -0.010186377 M[UNIMOD:35]; 2 0.088196844 M[UNIMOD:35]; 3 -0.10675309 M[UNIMOD:35]; 4 -0.08324101 M[UNIMOD:35]; 5 -0.09356898 M[UNIMOD:35]; 6 -0.025173496 M[UNIMOD:35]; 7 0.096501164 M[UNIMOD:35]; 8 0.06537624 M[UNIMOD:35]; 9 -0.05738879 M[UNIMOD:35]; 10 -0.13077201 M[UNIMOD:35]; 11 0.058548667 M[UNIMOD:35]; 12 -0.05442516 M[UNIMOD:35]; 13 0.09497648 M[UNIMOD:35]; 14 0.09174167 M[UNIMOD:35]; 15 0.05766409 M[UNIMOD:35]; 16 -0.13059922 M[UNIMOD:35]; 17 -0.20296049 M[UNIMOD:35]; 18 0.04597064 M[UNIMOD:35]; 19 -0.0034494528 M[UNIMOD:35]; 20 0.0912235 M[UNIMOD:35]; 21 -0.028729994 M[UNIMOD:35]; 22 0.015452431 M[UNIMOD:35]; 23 -0.038331017 M[UNIMOD:35]; 24 -0.051797606 M[UNIMOD:35]; 25 0.12214479 M[UNIMOD:35]; 26 0.07130834 M[UNIMOD:35]; 27 0.074945346 M[UNIMOD:35]; 28 0.03481415 M[UNIMOD:35]; 29 0.08634273 M[UNIMOD:35]; 30 0.008879189 M[UNIMOD:35]; 31 -0.016652947 M[UNIMOD:35]; 32 -0.051898845 M[UNIMOD:35]; 33 -0.06411604 M[UNIMOD:35]; 34 0.14578086 M[UNIMOD:35]; 35 -0.020855375 M[UNIMOD:35]; 36 0.008038656 M[UNIMOD:35]; 37 -0.06489863 M[UNIMOD:35]; 38 -0.06542374 M[UNIMOD:35]; 39 0.024334136 M[UNIMOD:35]; 40 0.095179535 M[UNIMOD:35]; 41 -0.15120186 M[UNIMOD:35]; 42 0.06463924 M[UNIMOD:35]; 43 0.021315679 M[UNIMOD:35]; 44 0.13839872 M[UNIMOD:35]; 45 0.08238312 M[UNIMOD:35]; 46 0.10115879 M[UNIMOD:35]; 47 -0.03662407 M[UNIMOD:35]; 48 -0.04985682 M[UNIMOD:35]; 49 -0.07957234 M[UNIMOD:35]; 50 -0.07181153 M[UNIMOD:35]; 51 -0.028185084 M[UNIMOD:35]; 52 0.008719414 M[UNIMOD:35]; 53 -0.06702252 M[UNIMOD:35]; 54 -0.22930372 M[UNIMOD:35]; 55 -0.06437218 M[UNIMOD:35]; 56 0.013521435 M[UNIMOD:35]; 57 -0.15089802 M[UNIMOD:35]; 58 0.03873494 M[UNIMOD:35]; 59 0.01774842 M[UNIMOD:35]; 60 -0.022954829 M[UNIMOD:35]; 61 0.19140902 M[UNIMOD:35]; 62 0.089685924 M[UNIMOD:35]; \n"
     ]
    }
   ],
   "source": [
    "# all weights for embed layer per position\n",
    "layers = [layer.get_weights() for layer in model_embed.layers]\n",
    "\n",
    "position_dict = dict()\n",
    "for i in range(23):\n",
    "    list_of_positions_for_vocab = layers[1][0][i]\n",
    "    for index, j in enumerate(list_of_positions_for_vocab):\n",
    "        print(index, j, vocabulary[i], end=\"; \")\n",
    "        if index not in position_dict:\n",
    "            position_dict[index] = list()\n",
    "            position_dict[index].append(j)\n",
    "        else:\n",
    "            position_dict[index].append(j)\n",
    "    print(\"\\n\")\n",
    "    #print(i, (layers[1][0][i]))\n",
    "    \n",
    "#for key, value in position_dict.items():\n",
    "    #print(f\"mean pos{key}: \",np.mean(value))"
   ],
   "metadata": {
    "collapsed": false,
    "ExecuteTime": {
     "end_time": "2023-09-08T18:41:58.796514900Z",
     "start_time": "2023-09-08T18:41:58.297089400Z"
    }
   }
  },
  {
   "cell_type": "code",
   "execution_count": 176,
   "outputs": [
    {
     "data": {
      "text/plain": "array([[ 3.64232838e-01,  3.69828224e-01],\n       [-8.78067762e-02,  2.95386851e-01],\n       [ 1.35155208e-02, -1.44600980e-02],\n       [ 1.22513108e-01,  9.76538286e-02],\n       [ 3.79613228e-02,  3.69633324e-02],\n       [-6.60719797e-02,  9.86606181e-02],\n       [ 2.58093867e-02,  1.88741401e-01],\n       [-7.49676228e-01, -8.30588639e-01],\n       [-4.47995365e-02,  1.23047553e-01],\n       [-6.88183427e-01, -7.29272246e-01],\n       [-9.02775601e-02,  1.94826469e-01],\n       [ 2.10479908e-02, -1.06926613e-01],\n       [ 6.90210536e-02,  5.54580018e-02],\n       [-5.76355122e-02,  1.02885954e-01],\n       [ 2.69398708e-02,  1.42670609e-02],\n       [-6.65101349e-01, -7.94859469e-01],\n       [ 3.21881957e-02,  1.29142061e-01],\n       [-1.42334327e-02,  1.35906741e-01],\n       [-1.03841007e-01,  2.14258850e-01],\n       [ 5.06760105e-02, -1.75729752e-01],\n       [-1.70772076e-01,  1.58316553e-01],\n       [ 2.33819447e-02, -2.16578737e-01],\n       [-4.40025673e-04, -1.46678478e-01]], dtype=float32)"
     },
     "execution_count": 176,
     "metadata": {},
     "output_type": "execute_result"
    }
   ],
   "source": [
    "#embedding layer\n",
    "layers[1][0]"
   ],
   "metadata": {
    "collapsed": false,
    "ExecuteTime": {
     "end_time": "2023-09-08T16:49:16.542039500Z",
     "start_time": "2023-09-08T16:49:16.420973700Z"
    }
   }
  },
  {
   "cell_type": "code",
   "execution_count": 177,
   "outputs": [
    {
     "data": {
      "text/plain": "array([[ 3.75393182e-01,  5.20249367e-01, -1.08517125e-01,\n        -4.95137334e-01, -4.82704341e-01, -2.50959784e-01],\n       [ 6.94639087e-01,  3.71272653e-01, -4.73268926e-01,\n        -6.70866132e-01, -6.16978168e-01, -3.71290803e-01],\n       [ 2.53810257e-01,  5.72948754e-01, -8.89007971e-02,\n        -4.02228564e-01, -5.60976803e-01, -1.37866840e-01],\n       [ 8.47849786e-01,  4.19223219e-01, -4.72938836e-01,\n        -7.27958679e-01, -6.57695532e-01, -3.99237841e-01],\n       [ 5.00794351e-01,  5.02701581e-01, -2.70320266e-01,\n        -3.97722214e-01, -3.50105733e-01, -3.88882488e-01],\n       [ 7.44729638e-01,  6.18475914e-01, -3.93963426e-01,\n        -7.94628382e-01, -7.35649168e-01, -3.52777213e-01],\n       [ 3.84015143e-01,  3.96404177e-01, -4.74284105e-02,\n        -7.13438332e-01, -3.93419594e-01, -4.79020298e-01],\n       [ 5.10964632e-01,  5.79198956e-01, -5.99402308e-01,\n        -6.25865698e-01, -7.89936244e-01, -3.99448663e-01],\n       [ 4.28687423e-01,  3.66869718e-01, -1.77756086e-01,\n        -4.05419737e-01, -6.79889143e-01, -5.26836097e-01],\n       [ 8.53697896e-01,  7.05973983e-01, -3.91995072e-01,\n        -7.26904452e-01, -3.88959229e-01, -2.14770749e-01],\n       [ 4.84982640e-01,  5.12888491e-01, -1.13761157e-01,\n        -5.58829665e-01, -6.07793570e-01, -2.16314137e-01],\n       [ 5.22075534e-01,  5.23621976e-01, -4.74208653e-01,\n        -7.07109392e-01, -6.88618541e-01, -2.03726456e-01],\n       [ 4.79535639e-01,  3.92696887e-01, -1.84815288e-01,\n        -6.58151984e-01, -5.08473635e-01, -1.60322756e-01],\n       [ 8.93356502e-01,  4.91788536e-01, -4.73204315e-01,\n        -6.46706223e-01, -7.67265499e-01, -1.55286178e-01],\n       [ 3.47529769e-01,  5.03213167e-01, -3.69258881e-01,\n        -8.34169447e-01, -3.86802763e-01, -5.19671619e-01],\n       [ 6.61855757e-01,  3.20524424e-01, -4.98870581e-01,\n        -6.15812480e-01, -4.54309791e-01, -1.25403523e-01],\n       [ 1.97999224e-01,  6.18788958e-01, -5.07782340e-01,\n        -7.02557027e-01, -6.85990334e-01, -1.90109149e-01],\n       [ 8.47408891e-01,  4.84048545e-01, -4.17508990e-01,\n        -6.83319390e-01, -4.86337870e-01, -1.73868328e-01],\n       [ 6.29544318e-01,  3.63042593e-01, -4.08973575e-01,\n        -7.81878650e-01, -6.10051155e-01, -5.22806108e-01],\n       [ 6.18666530e-01,  3.94161016e-01, -6.15534782e-01,\n        -7.22584665e-01, -5.03013670e-01, -2.87279606e-01],\n       [ 5.76786995e-01,  1.55249834e-01, -3.47443551e-01,\n        -7.56971061e-01, -5.46946585e-01, -2.33514696e-01],\n       [ 5.55749357e-01,  4.77376968e-01, -5.86329103e-01,\n        -9.29057181e-01, -8.00663769e-01, -5.66879094e-01],\n       [ 7.78798401e-01,  3.90948176e-01, -1.17460653e-01,\n        -5.43290198e-01, -5.47140062e-01, -3.35468560e-01],\n       [ 8.31058323e-01,  4.59918886e-01, -3.55100513e-01,\n        -9.25328195e-01, -8.12757254e-01, -3.32645267e-01],\n       [ 7.60023236e-01,  3.76123577e-01, -2.07391426e-01,\n        -8.27627957e-01, -6.38828456e-01, -3.95860583e-01],\n       [ 8.26812446e-01,  4.10345644e-01, -1.82310954e-01,\n        -6.69712007e-01, -5.26995659e-01, -4.59165365e-01],\n       [ 6.71014607e-01,  2.19154343e-01, -1.75666258e-01,\n        -7.17323363e-01, -4.93510157e-01, -2.76983798e-01],\n       [ 7.73704946e-01,  3.72851312e-01, -1.67414084e-01,\n        -7.69729614e-01, -4.77187335e-01, -4.30575609e-01],\n       [ 7.50783503e-01,  4.46435332e-01,  7.08793849e-02,\n        -6.61536932e-01, -6.64766431e-01, -3.02155882e-01],\n       [ 6.29269481e-01,  3.52835625e-01, -7.73989037e-02,\n        -4.14225757e-01, -6.10696018e-01, -3.07151556e-01],\n       [ 5.08539200e-01,  1.61430076e-01, -6.94206506e-02,\n        -5.72013140e-01, -8.16990733e-01, -4.34134245e-01],\n       [ 3.40717763e-01,  3.51361305e-01, -2.29689658e-01,\n        -4.69931930e-01, -5.59123755e-01, -5.30974746e-01],\n       [ 3.79779577e-01,  1.69330269e-01,  7.64431804e-02,\n        -4.04768735e-01, -7.53097534e-01, -4.01365072e-01],\n       [ 6.28917396e-01,  4.83755469e-01, -1.05706893e-01,\n        -2.64411449e-01, -5.37792146e-01, -5.20936728e-01],\n       [ 4.35023427e-01,  7.17047080e-02, -2.98189893e-02,\n        -2.16967389e-01, -6.13340974e-01, -4.45145488e-01],\n       [ 3.82867634e-01,  4.83563274e-01, -8.83230343e-02,\n        -4.20641840e-01, -5.99544585e-01, -2.93250024e-01],\n       [ 2.84307748e-01,  2.11285681e-01,  9.11474824e-02,\n        -2.82976717e-01, -5.32418847e-01, -3.23519886e-01],\n       [ 4.76789683e-01,  2.95295715e-01, -1.68982252e-01,\n        -3.19319427e-01, -6.77787066e-01, -4.04981852e-01],\n       [ 1.11482523e-01,  3.52842033e-01,  8.08925629e-02,\n        -5.64301126e-02, -6.15275204e-01, -5.28726518e-01],\n       [ 3.94508511e-01,  4.27612156e-01,  8.90893117e-02,\n        -1.09060451e-01, -2.52094686e-01, -4.92640257e-01],\n       [ 1.94747642e-01,  2.77243435e-01,  1.27295926e-01,\n        -3.90892513e-02, -5.31601608e-01, -4.59119946e-01],\n       [ 1.88616917e-01,  3.98722380e-01,  6.28588572e-02,\n        -1.73044577e-01, -3.18847448e-01, -3.97110194e-01],\n       [ 7.67955482e-02,  3.61873865e-01,  1.25588328e-01,\n         8.06202646e-03, -4.40023869e-01, -6.15132570e-01],\n       [ 2.40559623e-01,  4.38588887e-01, -1.87714562e-01,\n        -3.81346881e-01, -2.86996514e-01, -4.71805215e-01],\n       [ 1.47319630e-01,  1.80720344e-01, -1.20836101e-01,\n        -2.93066502e-01, -4.62693274e-01, -4.14366663e-01],\n       [ 2.12338299e-01,  3.55035722e-01,  1.73675213e-02,\n        -2.69434229e-02, -3.42829615e-01, -3.95348698e-01],\n       [ 1.58400655e-01,  2.91283607e-01,  5.83402775e-02,\n        -2.79784113e-01, -2.38177791e-01, -5.04911423e-01],\n       [ 1.01421267e-01,  4.75603074e-01, -1.24551482e-01,\n        -1.05015247e-03, -3.73705566e-01, -1.77947640e-01],\n       [ 1.86513111e-01,  2.33198807e-01, -2.41955534e-01,\n         1.89484898e-02, -2.49372140e-01, -1.64720759e-01],\n       [ 1.04329377e-01,  4.44915533e-01,  1.73440725e-02,\n        -2.23686099e-01, -1.55248241e-02, -4.42302883e-01],\n       [ 9.06407684e-02,  4.51351583e-01,  7.18221515e-02,\n         2.89235413e-02, -1.39108360e-01, -3.31481755e-01],\n       [ 2.16992334e-01,  3.16819817e-01,  1.76101010e-02,\n        -2.44787931e-01, -1.88362986e-01, -4.15325403e-01],\n       [ 5.97921312e-02,  3.20633113e-01,  2.03325257e-01,\n         1.23588882e-01, -1.86597168e-01, -1.01705939e-01],\n       [ 1.90432981e-01,  2.55173326e-01,  1.78488083e-02,\n        -2.10369736e-01,  2.33131717e-03, -1.79746807e-01],\n       [-1.57671541e-01,  9.87934321e-02,  4.08847304e-03,\n        -8.75872299e-02, -5.42491116e-02, -5.14984243e-02],\n       [ 5.44569865e-02, -3.89835946e-02, -1.39580026e-01,\n        -6.51751608e-02, -1.10881999e-02, -1.48755116e-02],\n       [-2.01442763e-01, -1.65095646e-02,  9.93897915e-02,\n        -2.61556003e-02, -1.05094649e-01, -8.17467868e-02],\n       [-1.28572047e-01, -2.24797726e-02, -9.02861357e-02,\n        -1.43718556e-01, -1.78625196e-01, -8.04491341e-02],\n       [-8.55796486e-02, -5.83848692e-02, -6.61899149e-02,\n         1.98454298e-02,  1.16127275e-01, -1.12978950e-01],\n       [-5.60612194e-02,  2.64463454e-01,  1.42971680e-01,\n         1.54666796e-01,  1.22106440e-01, -2.92623341e-01],\n       [-3.79811265e-02,  3.08755636e-02,  1.05996065e-01,\n         3.87421623e-02,  5.07743619e-02, -3.67499739e-02],\n       [-2.18407795e-01, -7.61862770e-02,  2.40324840e-01,\n        -1.01569623e-01,  8.23534578e-02, -1.95785314e-01],\n       [ 1.34793241e-02, -1.28692046e-01,  3.13952982e-01,\n         4.51252870e-02, -5.69129959e-02,  6.17614277e-02],\n       [-2.09631156e-02,  1.44762080e-02,  1.02654286e-01,\n        -6.45890683e-02,  1.12129517e-01,  7.99774081e-02],\n       [-1.18885174e-01, -7.63563141e-02,  3.20132822e-01,\n         1.16134331e-01,  3.25509273e-02, -2.89374381e-01],\n       [-1.83221444e-01, -1.95714533e-02, -8.03514943e-02,\n        -5.21358885e-02,  1.26604006e-01,  1.30357847e-01],\n       [-1.73730940e-01, -5.40513098e-02,  9.44889858e-02,\n         6.44583255e-02, -3.28518152e-02, -1.41014308e-01],\n       [-1.90031946e-01,  1.05342053e-01,  2.56550670e-01,\n         2.12129906e-01, -1.05653238e-02,  8.64899084e-02],\n       [-6.26844987e-02,  1.24121718e-01,  1.05494983e-01,\n        -8.04262422e-03,  8.40376690e-02,  9.02549550e-02],\n       [ 1.01731926e-01, -1.52837500e-01, -8.46505091e-02,\n         1.25354975e-01, -1.21526137e-01, -7.51122609e-02],\n       [-2.48046398e-01,  1.30198389e-01,  9.17191207e-02,\n         2.19695702e-01,  1.29944354e-01,  9.20855179e-02],\n       [ 8.52016285e-02, -8.01188871e-02, -1.99161042e-02,\n        -1.72050837e-02, -1.12250797e-01, -2.51258165e-01],\n       [-2.15739414e-01,  1.71994537e-01,  3.24429303e-01,\n         1.45824626e-01,  2.16402467e-02,  1.82735641e-02],\n       [-1.70610860e-01,  3.88554186e-02,  3.04915905e-01,\n        -8.02126452e-02,  9.27003697e-02,  1.38662696e-01],\n       [-1.44117370e-01,  2.10290238e-01,  3.25625949e-02,\n        -8.83801430e-02, -1.40755892e-01, -1.51549637e-01],\n       [-2.22596169e-01,  5.96586168e-02,  2.28003159e-01,\n        -6.23343997e-02,  5.13330773e-02, -2.33622966e-03],\n       [-2.24061951e-01,  1.15253419e-01,  1.22775316e-01,\n         2.57293075e-01,  1.49953812e-02,  1.68680642e-02],\n       [-3.44395302e-02,  6.97323903e-02,  2.88637042e-01,\n         1.24075539e-01,  1.14829235e-01,  6.51382431e-02],\n       [ 1.11174569e-01,  1.62467450e-01,  2.81921718e-02,\n         2.49905474e-02, -9.06899422e-02, -2.23281473e-01],\n       [ 1.76783279e-02,  1.50355175e-01,  1.04239069e-01,\n        -1.71224363e-02,  1.34927258e-01,  4.07637022e-02],\n       [-2.54902720e-01, -6.22771904e-02,  6.22637160e-02,\n         9.01094824e-02,  1.71799079e-01, -1.53624833e-01],\n       [-2.37390667e-01, -1.41025260e-01,  1.26697227e-01,\n        -3.70645486e-02,  1.32475317e-01,  6.87547326e-02],\n       [-4.01954651e-02, -2.86188982e-02,  2.07315534e-01,\n         9.64240730e-02, -5.08962087e-02, -8.78719687e-02],\n       [-2.61673242e-01, -1.44693749e-02, -3.07786707e-02,\n        -1.03372544e-01,  6.99878484e-02, -1.34570757e-02],\n       [-1.60607189e-01,  3.26081365e-03,  1.18766218e-01,\n         1.46672860e-01, -1.54112071e-01, -1.96859166e-01],\n       [ 3.81987565e-03, -7.59819150e-02,  2.89884031e-01,\n         2.79485106e-01,  3.09547409e-02, -1.50909081e-01],\n       [-1.73442423e-01, -1.63206428e-01,  1.41923413e-01,\n         3.00444752e-01, -7.63267726e-02,  1.92254893e-02],\n       [ 1.22721195e-01,  1.32220879e-01, -5.44312447e-02,\n         2.66201850e-02,  1.45731881e-01,  7.06896111e-02],\n       [-8.31025466e-02, -5.89942746e-02,  2.39273608e-01,\n        -8.57943669e-02,  2.43625313e-01,  1.40785813e-01],\n       [-1.00066140e-01,  1.92686751e-01, -1.04110621e-01,\n         2.59956390e-01,  1.95013985e-01,  1.41483724e-01],\n       [-1.84155256e-01,  3.19638140e-02,  2.47709692e-01,\n         1.47361666e-01,  1.23246573e-01, -2.05071181e-01],\n       [ 7.02048419e-03, -1.91820547e-01, -6.44544140e-02,\n         2.29265705e-01, -4.04178612e-02, -5.13010137e-02],\n       [ 8.80457386e-02, -1.21245801e-01,  1.34253148e-02,\n        -1.29525457e-03,  1.64768070e-01, -1.49717880e-02],\n       [ 9.94568095e-02, -9.95801240e-02,  4.36660461e-03,\n         2.19213024e-01, -2.27644779e-02, -7.68833533e-02],\n       [-2.05344409e-01, -1.09737784e-01, -1.22330803e-02,\n         1.71422973e-01,  2.43268102e-01,  1.41815841e-01],\n       [-9.57829580e-02,  2.06923291e-01,  4.58665304e-02,\n         1.35191604e-01, -7.20347539e-02,  6.92293048e-02],\n       [-1.02734469e-01, -1.44108161e-02,  2.64420174e-02,\n        -3.19036804e-02,  2.24264443e-01,  1.47225052e-01],\n       [-2.82336444e-01,  8.76916796e-02,  1.43789634e-01,\n        -1.02822326e-01,  2.13520959e-01,  9.56780612e-02],\n       [-1.42964914e-01,  8.75128359e-02,  1.26251310e-01,\n        -4.14243676e-02,  5.63082695e-02, -1.33854240e-01],\n       [-2.52180576e-01,  1.63293138e-01,  1.09465413e-01,\n         8.10613111e-02, -8.84414017e-02, -4.49628569e-02],\n       [-2.16291428e-01,  1.56285152e-01,  2.59154737e-01,\n         1.46795392e-01, -8.78043249e-02,  1.35144964e-01],\n       [-2.62415856e-01, -6.73161745e-02,  2.51149505e-01,\n         1.39537454e-01,  8.53803307e-02,  1.98267817e-01],\n       [-2.00900108e-01, -2.41035204e-02,  5.26541285e-02,\n         6.78309575e-02,  1.24918938e-01, -3.51432115e-02],\n       [ 9.46455002e-02, -1.94216415e-01,  1.25676796e-01,\n         9.43305418e-02, -7.56720677e-02, -6.82251528e-02],\n       [-1.04901455e-01,  2.07396224e-01,  1.13759428e-01,\n         5.11765517e-02,  2.00354695e-01,  1.01472683e-01],\n       [ 4.30148356e-02, -7.72596002e-02,  2.75612324e-01,\n         1.28684461e-01, -8.50623921e-02,  4.35448550e-02],\n       [-6.21351935e-02,  1.36640877e-01,  3.25083137e-01,\n         2.13436857e-02,  1.75741851e-01,  9.49491374e-03],\n       [ 1.01363711e-01, -1.72671303e-01, -1.88035611e-02,\n         2.32859120e-01, -6.06738664e-02,  8.22486430e-02],\n       [-4.05183546e-02, -2.92881709e-02, -1.96585581e-02,\n        -1.13906888e-02, -1.71318561e-01, -6.84493706e-02],\n       [-1.75873891e-01, -1.88385770e-01, -8.74278471e-02,\n         4.53799851e-02,  2.23769084e-01, -1.97354972e-01],\n       [-9.83232185e-02,  9.95649993e-02,  5.30782677e-02,\n        -3.92027013e-02,  1.60312310e-01, -9.96824801e-02],\n       [-2.20519677e-01, -1.56981185e-01,  1.59631036e-02,\n        -1.66924745e-02, -1.48688510e-01, -1.88043654e-01],\n       [ 8.88783857e-02,  1.47502035e-01,  1.89671591e-01,\n         2.41819367e-01, -5.31926826e-02, -1.41437858e-01],\n       [-2.66490310e-01,  1.65106907e-01,  2.29735881e-01,\n         8.18623230e-02, -1.14375204e-02,  1.37073427e-01],\n       [ 1.19768925e-01,  9.13724899e-02,  2.96619982e-01,\n         1.74192503e-01, -1.63191766e-01, -2.10774630e-01],\n       [-1.29650354e-01,  1.78545728e-01,  3.02703589e-01,\n         7.07317963e-02,  1.02632999e-01,  1.18429199e-01],\n       [-6.63767606e-02,  6.41485900e-02,  1.68676896e-04,\n         7.91838020e-02, -1.71071351e-01,  2.54822038e-02],\n       [-2.40750507e-01,  5.84405325e-02,  2.44902000e-01,\n         1.07787445e-01,  9.54031199e-02,  3.19620222e-02],\n       [-1.22717820e-01, -1.24855384e-01, -4.31698002e-02,\n         2.13125721e-02,  1.18693739e-01, -1.00230083e-01],\n       [ 7.50593394e-02,  7.99989402e-02, -5.38659431e-02,\n         1.43983498e-01, -6.13597445e-02, -9.79837496e-03],\n       [ 6.61988780e-02, -1.80602938e-01,  1.09815463e-01,\n         2.14324564e-01, -1.55171156e-01,  1.31340072e-01],\n       [-2.69428134e-01, -1.86803535e-01,  1.12872891e-01,\n        -3.52002755e-02, -1.16189614e-01, -1.96121782e-01],\n       [-2.43441582e-01, -4.43820357e-02,  6.79539293e-02,\n         2.48462811e-01,  3.81845050e-02,  1.16556101e-01],\n       [-2.46494457e-01, -4.57822420e-02,  1.14209823e-01,\n         3.10863525e-01, -1.37022510e-01, -1.97515190e-01],\n       [ 8.14815983e-02, -1.22095063e-01,  7.65294768e-03,\n         3.00973952e-01, -1.45194799e-01,  2.90289521e-02],\n       [ 1.41372427e-01,  1.16410442e-01,  1.89743087e-01,\n         8.93910378e-02,  1.53328374e-01, -1.40413241e-02]], dtype=float32)"
     },
     "execution_count": 177,
     "metadata": {},
     "output_type": "execute_result"
    }
   ],
   "source": [
    "#dense layer\n",
    "layers[3][0]"
   ],
   "metadata": {
    "collapsed": false,
    "ExecuteTime": {
     "end_time": "2023-09-08T16:49:22.967349100Z",
     "start_time": "2023-09-08T16:49:22.831972500Z"
    }
   }
  },
  {
   "cell_type": "code",
   "execution_count": 223,
   "outputs": [
    {
     "data": {
      "text/plain": "<IPython.core.display.HTML object>",
      "text/html": "wandb version 0.15.10 is available!  To upgrade, please run:\n $ pip install wandb --upgrade"
     },
     "metadata": {},
     "output_type": "display_data"
    },
    {
     "data": {
      "text/plain": "<IPython.core.display.HTML object>",
      "text/html": "Tracking run with wandb version 0.15.5"
     },
     "metadata": {},
     "output_type": "display_data"
    },
    {
     "data": {
      "text/plain": "<IPython.core.display.HTML object>",
      "text/html": "Run data is saved locally in <code>C:\\Users\\micro\\OneDrive\\Dokumente\\GitHub\\Masterpraktikum\\wandb\\run-20230908_195928-xkgz85yc</code>"
     },
     "metadata": {},
     "output_type": "display_data"
    },
    {
     "data": {
      "text/plain": "<IPython.core.display.HTML object>",
      "text/html": "Syncing run <strong><a href='https://wandb.ai/team-bioinf/embed_visualisation/runs/xkgz85yc' target=\"_blank\">leafy-field-12</a></strong> to <a href='https://wandb.ai/team-bioinf/embed_visualisation' target=\"_blank\">Weights & Biases</a> (<a href='https://wandb.me/run' target=\"_blank\">docs</a>)<br/>"
     },
     "metadata": {},
     "output_type": "display_data"
    },
    {
     "data": {
      "text/plain": "<IPython.core.display.HTML object>",
      "text/html": " View project at <a href='https://wandb.ai/team-bioinf/embed_visualisation' target=\"_blank\">https://wandb.ai/team-bioinf/embed_visualisation</a>"
     },
     "metadata": {},
     "output_type": "display_data"
    },
    {
     "data": {
      "text/plain": "<IPython.core.display.HTML object>",
      "text/html": " View run at <a href='https://wandb.ai/team-bioinf/embed_visualisation/runs/xkgz85yc' target=\"_blank\">https://wandb.ai/team-bioinf/embed_visualisation/runs/xkgz85yc</a>"
     },
     "metadata": {},
     "output_type": "display_data"
    },
    {
     "data": {
      "text/html": "<button onClick=\"this.nextSibling.style.display='block';this.style.display='none';\">Display W&B run</button><iframe src='https://wandb.ai/team-bioinf/embed_visualisation/runs/xkgz85yc?jupyter=true' style='border:none;width:100%;height:420px;display:none;'></iframe>",
      "text/plain": "<wandb.sdk.wandb_run.Run at 0x1e829098710>"
     },
     "execution_count": 223,
     "metadata": {},
     "output_type": "execute_result"
    }
   ],
   "source": [
    "wandb.init(project='embed_visualisation')"
   ],
   "metadata": {
    "collapsed": false,
    "ExecuteTime": {
     "end_time": "2023-09-08T17:59:31.020701100Z",
     "start_time": "2023-09-08T17:59:28.973217500Z"
    }
   }
  },
  {
   "cell_type": "code",
   "execution_count": 246,
   "outputs": [],
   "source": [
    "# take only columns true_label and modified_sequence from predict_df\n",
    "wandb_df = predict_df[['true_label','modified_sequence']]\n",
    "wandb.log({\"digits\": wandb_df})"
   ],
   "metadata": {
    "collapsed": false,
    "ExecuteTime": {
     "end_time": "2023-09-08T18:42:11.847935400Z",
     "start_time": "2023-09-08T18:42:05.797082900Z"
    }
   }
  },
  {
   "cell_type": "code",
   "execution_count": 247,
   "outputs": [
    {
     "data": {
      "text/plain": "<IPython.core.display.HTML object>",
      "text/html": "Waiting for W&B process to finish... <strong style=\"color:green\">(success).</strong>"
     },
     "metadata": {},
     "output_type": "display_data"
    },
    {
     "data": {
      "text/plain": "<IPython.core.display.HTML object>",
      "text/html": "<style>\n    table.wandb td:nth-child(1) { padding: 0 10px; text-align: left ; width: auto;} td:nth-child(2) {text-align: left ; width: 100%}\n    .wandb-row { display: flex; flex-direction: row; flex-wrap: wrap; justify-content: flex-start; width: 100% }\n    .wandb-col { display: flex; flex-direction: column; flex-basis: 100%; flex: 1; padding: 10px; }\n    </style>\n<div class=\"wandb-row\"><div class=\"wandb-col\"><h3>Run history:</h3><br/><table class=\"wandb\"><tr><td>categorical_accuracy</td><td>▁▃▃▃▄▅▅▅▆▆▆▆▇▇▇▇▇█████████████</td></tr><tr><td>epoch</td><td>▁▁▁▂▂▂▂▃▃▃▃▄▄▄▄▅▅▅▅▆▆▆▆▇▇▇▇███</td></tr><tr><td>loss</td><td>█▇▆▆▅▅▄▄▃▃▃▂▂▂▂▂▂▁▁▁▁▁▁▁▁▁▁▁▁▁</td></tr><tr><td>val_categorical_accuracy</td><td>▁▂▂▃▃▄▅▅▅▆▆▆▆▇▇▇▇▇████████████</td></tr><tr><td>val_loss</td><td>█▇▆▆▅▅▄▄▃▃▃▂▂▂▂▂▂▁▁▁▁▁▁▁▁▁▁▁▁▁</td></tr></table><br/></div><div class=\"wandb-col\"><h3>Run summary:</h3><br/><table class=\"wandb\"><tr><td>best_epoch</td><td>29</td></tr><tr><td>best_val_loss</td><td>0.54014</td></tr><tr><td>categorical_accuracy</td><td>0.77143</td></tr><tr><td>epoch</td><td>29</td></tr><tr><td>loss</td><td>0.54052</td></tr><tr><td>val_categorical_accuracy</td><td>0.77114</td></tr><tr><td>val_loss</td><td>0.54014</td></tr></table><br/></div></div>"
     },
     "metadata": {},
     "output_type": "display_data"
    },
    {
     "data": {
      "text/plain": "<IPython.core.display.HTML object>",
      "text/html": " View run <strong style=\"color:#cdcd00\">proud-morning-13</strong> at: <a href='https://wandb.ai/team-bioinf/embed_visualisation/runs/vafhu73x' target=\"_blank\">https://wandb.ai/team-bioinf/embed_visualisation/runs/vafhu73x</a><br/>Synced 6 W&B file(s), 3 media file(s), 177 artifact file(s) and 2 other file(s)"
     },
     "metadata": {},
     "output_type": "display_data"
    },
    {
     "data": {
      "text/plain": "<IPython.core.display.HTML object>",
      "text/html": "Find logs at: <code>.\\wandb\\run-20230908_203732-vafhu73x\\logs</code>"
     },
     "metadata": {},
     "output_type": "display_data"
    }
   ],
   "source": [
    "# https://docs.wandb.ai/guides/app/features/panels/weave/embedding-projector\n",
    "embeddings = layers[1]\n",
    "wandb.log(\n",
    "    {\"embeddings\": wandb.Table(columns=vocabulary, data=embeddings)}\n",
    ")\n",
    "wandb.finish()"
   ],
   "metadata": {
    "collapsed": false,
    "ExecuteTime": {
     "end_time": "2023-09-08T18:42:33.799189900Z",
     "start_time": "2023-09-08T18:42:12.969829200Z"
    }
   }
  },
  {
   "cell_type": "code",
   "execution_count": 130,
   "outputs": [
    {
     "data": {
      "text/plain": "2    45328\n3    26040\n4     6503\n1     4126\n5      903\n6      182\nName: true_label, dtype: int64"
     },
     "execution_count": 130,
     "metadata": {},
     "output_type": "execute_result"
    }
   ],
   "source": [
    "predict_df['true_label'].value_counts()"
   ],
   "metadata": {
    "collapsed": false,
    "ExecuteTime": {
     "end_time": "2023-09-08T16:24:26.695306700Z",
     "start_time": "2023-09-08T16:24:26.404189900Z"
    }
   }
  },
  {
   "cell_type": "code",
   "execution_count": 98,
   "outputs": [
    {
     "data": {
      "text/plain": "83082"
     },
     "execution_count": 98,
     "metadata": {},
     "output_type": "execute_result"
    }
   ],
   "source": [
    "len(predict_df)"
   ],
   "metadata": {
    "collapsed": false,
    "ExecuteTime": {
     "end_time": "2023-09-08T16:11:35.395900500Z",
     "start_time": "2023-09-08T16:11:35.268888800Z"
    }
   }
  },
  {
   "cell_type": "code",
   "execution_count": 89,
   "outputs": [
    {
     "name": "stdout",
     "output_type": "stream",
     "text": [
      "\n",
      "\n",
      "---- new plot: ----\n",
      "EM[UNIMOD:35]LTRAIKTQLVLLT\n"
     ]
    },
    {
     "data": {
      "text/plain": "<Figure size 640x480 with 1 Axes>",
      "image/png": "[encoded data removed]"
     },
     "metadata": {},
     "output_type": "display_data"
    },
    {
     "name": "stdout",
     "output_type": "stream",
     "text": [
      "Sequence:  EM[UNIMOD:35]LTRAIKTQLVLLT\n",
      "Diagram-Algorithm-Prediction:  1\n",
      "True labels are  dict_keys([3, 2])\n",
      "Embedding-Layer Prediction-Weights:\n",
      "   charge state 1:  0.0 False\n",
      "   charge state 2:  0.59 -> True\n",
      "   charge state 3:  0.59 -> True\n",
      "   charge state 4:  0.06 False\n",
      "   charge state 5:  0.0 False\n",
      "   charge state 6:  0.0 False\n",
      "-> False: True labels are  dict_keys([3, 2]) , DA-Prediction:  1  is False\n",
      "Model-Prediction:  [0.0, 0.59, 0.59, 0.06, 0.0, 0.0]\n",
      "\n",
      "\n",
      "---- new plot: ----\n",
      "VTAEADSSSPTGILATSESKHVSTSSDEGSPSASTPMINK\n"
     ]
    },
    {
     "data": {
      "text/plain": "<Figure size 640x480 with 1 Axes>",
      "image/png": "[encoded data removed]"
     },
     "metadata": {},
     "output_type": "display_data"
    },
    {
     "name": "stdout",
     "output_type": "stream",
     "text": [
      "Sequence:  VTAEADSSSPTGILATSESKHVSTSSDEGSPSASTPMINK\n",
      "Diagram-Algorithm-Prediction:  5\n",
      "True labels are  dict_keys([6])\n",
      "Embedding-Layer Prediction-Weights:\n",
      "   charge state 1:  0.13 False\n",
      "   charge state 2:  0.03 False\n",
      "   charge state 3:  0.27 False\n",
      "   charge state 4:  0.26 False\n",
      "   charge state 5:  0.09 False\n",
      "   charge state 6:  0.16 -> True\n",
      "-> False: True labels are  dict_keys([6]) , DA-Prediction:  5  is False\n",
      "Model-Prediction:  [0.13, 0.03, 0.27, 0.26, 0.09, 0.16]\n",
      "\n",
      "\n",
      "---- new plot: ----\n",
      "IPRVTTPLSSL\n"
     ]
    },
    {
     "data": {
      "text/plain": "<Figure size 640x480 with 1 Axes>",
      "image/png": "[encoded data removed]"
     },
     "metadata": {},
     "output_type": "display_data"
    },
    {
     "name": "stdout",
     "output_type": "stream",
     "text": [
      "Sequence:  IPRVTTPLSSL\n",
      "Diagram-Algorithm-Prediction:  2\n",
      "True labels are  dict_keys([2])\n",
      "Embedding-Layer Prediction-Weights:\n",
      "   charge state 1:  0.05 False\n",
      "   charge state 2:  0.75 -> True\n",
      "   charge state 3:  0.21 False\n",
      "   charge state 4:  0.0 False\n",
      "   charge state 5:  0.0 False\n",
      "   charge state 6:  0.0 False\n",
      "-> True: True labels are  dict_keys([2]) DA-Prediction:  2  is TRUE\n",
      "Model-Prediction:  [0.05, 0.75, 0.21, 0.0, 0.0, 0.0]\n",
      "\n",
      "\n",
      "---- new plot: ----\n",
      "HSVLEVLTAAVEYGLEELR\n"
     ]
    },
    {
     "data": {
      "text/plain": "<Figure size 640x480 with 1 Axes>",
      "image/png": "[encoded data removed]"
     },
     "metadata": {},
     "output_type": "display_data"
    },
    {
     "name": "stdout",
     "output_type": "stream",
     "text": [
      "Sequence:  HSVLEVLTAAVEYGLEELR\n",
      "Diagram-Algorithm-Prediction:  2\n",
      "True labels are  dict_keys([3])\n",
      "Embedding-Layer Prediction-Weights:\n",
      "   charge state 1:  0.0 False\n",
      "   charge state 2:  0.46 False\n",
      "   charge state 3:  0.32 -> True\n",
      "   charge state 4:  0.07 False\n",
      "   charge state 5:  0.0 False\n",
      "   charge state 6:  0.0 False\n",
      "-> False: True labels are  dict_keys([3]) , DA-Prediction:  2  is False\n",
      "Model-Prediction:  [0.0, 0.46, 0.32, 0.07, 0.0, 0.0]\n",
      "\n",
      "\n",
      "---- new plot: ----\n",
      "FLGNLDITV\n"
     ]
    },
    {
     "data": {
      "text/plain": "<Figure size 640x480 with 1 Axes>",
      "image/png": "[encoded data removed]"
     },
     "metadata": {},
     "output_type": "display_data"
    },
    {
     "name": "stdout",
     "output_type": "stream",
     "text": [
      "Sequence:  FLGNLDITV\n",
      "Diagram-Algorithm-Prediction:  1\n",
      "True labels are  dict_keys([1])\n",
      "Embedding-Layer Prediction-Weights:\n",
      "   charge state 1:  0.84 -> True\n",
      "   charge state 2:  0.92 False\n",
      "   charge state 3:  0.03 False\n",
      "   charge state 4:  0.0 False\n",
      "   charge state 5:  0.0 False\n",
      "   charge state 6:  0.0 False\n",
      "-> True: True labels are  dict_keys([1]) DA-Prediction:  1  is TRUE\n",
      "Model-Prediction:  [0.84, 0.92, 0.03, 0.0, 0.0, 0.0]\n",
      "\n",
      "\n",
      "---- new plot: ----\n",
      "EPEPDVAVL\n"
     ]
    },
    {
     "data": {
      "text/plain": "<Figure size 640x480 with 1 Axes>",
      "image/png": "[encoded data removed]"
     },
     "metadata": {},
     "output_type": "display_data"
    },
    {
     "name": "stdout",
     "output_type": "stream",
     "text": [
      "Sequence:  EPEPDVAVL\n",
      "Diagram-Algorithm-Prediction:  1\n",
      "True labels are  dict_keys([1])\n",
      "Embedding-Layer Prediction-Weights:\n",
      "   charge state 1:  0.82 -> True\n",
      "   charge state 2:  0.91 False\n",
      "   charge state 3:  0.04 False\n",
      "   charge state 4:  0.0 False\n",
      "   charge state 5:  0.0 False\n",
      "   charge state 6:  0.0 False\n",
      "-> True: True labels are  dict_keys([1]) DA-Prediction:  1  is TRUE\n",
      "Model-Prediction:  [0.82, 0.91, 0.04, 0.0, 0.0, 0.0]\n",
      "\n",
      "\n",
      "---- new plot: ----\n",
      "MVTHSKFPAAGM[UNIMOD:35]SR\n"
     ]
    },
    {
     "data": {
      "text/plain": "<Figure size 640x480 with 1 Axes>",
      "image/png": "[encoded data removed]"
     },
     "metadata": {},
     "output_type": "display_data"
    },
    {
     "name": "stdout",
     "output_type": "stream",
     "text": [
      "Sequence:  MVTHSKFPAAGM[UNIMOD:35]SR\n",
      "Diagram-Algorithm-Prediction:  1\n",
      "True labels are  dict_keys([3, 2, 4])\n",
      "Embedding-Layer Prediction-Weights:\n",
      "   charge state 1:  0.0 False\n",
      "   charge state 2:  0.15 -> True\n",
      "   charge state 3:  0.63 -> True\n",
      "   charge state 4:  0.2 -> True\n",
      "   charge state 5:  0.0 False\n",
      "   charge state 6:  0.0 False\n",
      "-> False: True labels are  dict_keys([3, 2, 4]) , DA-Prediction:  1  is False\n",
      "Model-Prediction:  [0.0, 0.15, 0.63, 0.2, 0.0, 0.0]\n",
      "\n",
      "\n",
      " true:  3 false:  4 total:  7\n"
     ]
    }
   ],
   "source": [
    "layers = [layer.get_weights() for layer in model_embed.layers]\n",
    "\n",
    "amino_dict = dict()\n",
    "\n",
    "\n",
    "sequence_positionen = list(range(63)) # 0,1,2,3,4,5...62\n",
    "embedding_structure = layers[1][0] # 23 blocks of AA weights\n",
    "\n",
    "\n",
    "for position in sequence_positionen: # 63 stk\n",
    "    amino_dict[position] = dict()\n",
    "    for index, i in enumerate(embedding_structure): #23 stk\n",
    "        if vocabulary[index] not in amino_dict[position]:\n",
    "            amino_dict[position][vocabulary[index]] = list()\n",
    "            amino_dict[position][vocabulary[index]].append(embedding_structure[index][position])\n",
    "        else:   \n",
    "            amino_dict[position][vocabulary[index]].append(embedding_structure[index][position])\n",
    "\n",
    "aminos = list(amino_dict[0])\n",
    "#print(aminos)\n",
    "# an welcher position steht die gewichtung an der position 0 für das Amino A\n",
    "\n",
    "\n",
    "\n",
    "weight_dictionary_per_position = dict()\n",
    "for i in amino_dict:\n",
    "    weight_dictionary_per_position[i] = dict()\n",
    "    weight_position = 0\n",
    "    sorted_list = [x[0] for x in amino_dict[i].values()]\n",
    "    sorted_list = sorted(sorted_list, key=float, reverse=False)\n",
    "    for j in sorted_list:\n",
    "        for key, value in amino_dict[i].items():\n",
    "            if j == value[0]:\n",
    "                #weight_dictionary_per_position[i][key] = weight_position\n",
    "                #weight_dictionary_per_position[i][key] = weight_position\n",
    "                average_for_position = np.average([x[0] for x in amino_dict[i].values()]) # normalisation\n",
    "                weight_dictionary_per_position[i][key] = (j - average_for_position) * (weight_position+1) # highest value = high multiplier\n",
    "                #print(weight_dictionary_per_position[i][key], key, value[0])\n",
    "                weight_position += 1\n",
    "                \n",
    "\n",
    "#Amino: \"A\" an index 0 -> [block A für index 0] -> 0.0725 (20/23 Gewichtungsposition -> Farbe (weiss->schwarz): hellgrau)\n",
    "#test_input_sequence = predict_df['modified_sequence'][51]\n",
    "total_counter = 0\n",
    "false_counter = 0\n",
    "true_counter = 0\n",
    "\n",
    "for gg in [2, 19501, 3, 4, 5, 6, 7]:\n",
    "    total_counter+=1\n",
    "    print(\"\\n\")\n",
    "    print(\"---- new plot: ----\")\n",
    "    test_input_sequence = predict_df['modified_sequence'][gg]\n",
    "    test_true_label_input_sequence = predict_df['normalized'][gg]\n",
    "    print(test_input_sequence)\n",
    "    #test_input_sequence = 'CCCCCCCCCCCCCCCCCCCCCCCCCCCCCCCCC' #TODO manually overwrite\n",
    "    #print(test_input_sequence, len(test_input_sequence))\n",
    "    test_input_sequence_length = len(re.findall(r'[A-Z]\\[[^\\]]*\\]|.', test_input_sequence))\n",
    "    #print(\"len: \", test_input_sequence_length)\n",
    "    #test_input_sequence += 'X' * (63 - test_input_sequence_length)\n",
    "    # TODO test_input_sequence += 'X' * (63 - test_input_sequence_length)\n",
    "    #print(test_input_sequence, len(re.findall(r'[A-Z]\\[[^\\]]*\\]|.', test_input_sequence)))\n",
    "    test_input_sequence_formatted = re.findall(r'[A-Z]\\[[^\\]]*\\]|.', test_input_sequence)\n",
    "    #print(test_input_sequence_formatted)\n",
    "           \n",
    "    \n",
    "    \n",
    "    x_for_plot = list(range(len(test_input_sequence_formatted))) # vocabolary of length 23\n",
    "    y_for_plot = list()\n",
    "    # create a list of 0 and 1, 1 if 'X' in test_input_sequence, 0 if not\n",
    "    #c_for_plot = ['red' if x == 'X' else 'green' for x in test_input_sequence_formatted]\n",
    "    c_for_plot = []\n",
    "    \n",
    "    for index, amino in enumerate(test_input_sequence_formatted):\n",
    "        if amino in ['R', 'H', 'K']: # Positive\n",
    "            c_for_plot.append('green')\n",
    "        elif amino in ['D', 'E']: # Negative\n",
    "            c_for_plot.append('blue')\n",
    "        elif amino in ['S', 'T', 'N', 'Q']: # Polar\n",
    "            c_for_plot.append('orange')\n",
    "        elif amino in ['A', 'V', 'I', 'L', 'M', 'F', 'Y', 'W']: # Hydrophobic\n",
    "            c_for_plot.append('pink')\n",
    "        elif amino in ['G', 'P', 'C']: # Special\n",
    "            c_for_plot.append('yellow')\n",
    "        else:\n",
    "            c_for_plot.append('black')\n",
    "            \n",
    "    for index, amino in enumerate(test_input_sequence_formatted):\n",
    "        y_for_plot.append(weight_dictionary_per_position[index][amino])\n",
    "        #print(index, amino, \": \", weight_dictionary_per_position[index][amino], \"/22\")\n",
    "    \n",
    "    # for index, amino in enumerate(test_input_sequence_formatted):\n",
    "    #     if amino == 'X':\n",
    "    #         c_for_plot.append('red')\n",
    "    #     voc_list_positive = ['H', 'N', 'R', 'S', 'G', 'T', 'A', 'P', 'M', 'V', 'I', 'L', 'F', 'W', 'K']\n",
    "    #     if amino in voc_list_positive:\n",
    "    #         # 14 shades of blue from light to dark:\n",
    "    #         list_of_colors = ['#e6f2ff', '#cce6ff', '#b3d9ff', '#99ccff', '#80bfff', '#66b3ff', '#4da6ff', '#3399ff', '#1a8cff', '#0080ff', '#0073e6', '#0066cc', '#0059b3', '#004d99']\n",
    "    #         if amino in ['H', 'R', 'K']: # basic\n",
    "    #             c_for_plot.append('red')\n",
    "    #         else:\n",
    "    #             c_for_plot.append(list_of_colors[voc_list_positive.index(amino)])\n",
    "    #         #c_for_plot.append('blue')\n",
    "    #     else:\n",
    "    #         c_for_plot.append('green')\n",
    "    # \n",
    "    # for index, amino in enumerate(test_input_sequence_formatted):\n",
    "    #     y_for_plot.append(weight_dictionary_per_position[index][amino])\n",
    "    #     #print(index, amino, \": \", weight_dictionary_per_position[index][amino], \"/22\")\n",
    "    # # colors bars according to c_for_plot\n",
    "    \n",
    "    \n",
    "    ## TODO PREDICTION WITH DIAGRAM\n",
    "    # give a prediction according to y_for_plot by counting the highest values if at least 1 index away from preivous peak\n",
    "    peak_height = 0\n",
    "    peak_counter = 0\n",
    "    distance_after_last_peak = 1\n",
    "    minimum_distance = 1\n",
    "    peak_set = False\n",
    "    \n",
    "    for xndex, x in enumerate(y_for_plot):\n",
    "        #print(xndex,\"; \", x, \"peak-height: \", peak_height, \"distance_after: \", distance_after_last_peak)\n",
    "        if x > peak_height:\n",
    "            peak_set = False\n",
    "            peak_height = x\n",
    "            distance_after_last_peak+=1\n",
    "            if xndex == len(y_for_plot)-1 and peak_height > max(y_for_plot)/4:\n",
    "                peak_counter += 1\n",
    "                #print(\"peak found at: \", test_input_sequence_formatted[xndex-1], \"peak_counter: \", peak_counter)\n",
    "    \n",
    "        elif x < peak_height:\n",
    "            distance_after_last_peak += 1\n",
    "            if distance_after_last_peak >= 2 and peak_set == False:\n",
    "                if peak_height > max(y_for_plot)/4:\n",
    "                    peak_counter += 1\n",
    "                peak_height = 0 # reset\n",
    "                distance_after_last_peak = 1\n",
    "                peak_set = True\n",
    "                #print(\"peak found at: \", test_input_sequence_formatted[xndex-1], \"peak_counter: \", peak_counter)        \n",
    "    \n",
    "    \n",
    "    # insert horizontal line at max(y_for_plot)/4 and add label \"cutoff\"\n",
    "    plt.axhline(y=max(y_for_plot)/4, color='r', linestyle='-')\n",
    "    plt.text(0, max(y_for_plot)/4, f'cutoff {round(max(y_for_plot)/4, 2)}', color='red', fontsize=10)\n",
    "\n",
    "    \n",
    "    # add title and legend\n",
    "    plt.title(f\"Sequence: {test_input_sequence}\")\n",
    "    plt.xlabel(\"Amino Acid\")\n",
    "    plt.ylabel(\"Normalized Weight for AA at index\\n (0 = mean of weights at index)\")\n",
    "    plt.xticks(x_for_plot, [x if len(x) == 1 else x[:1]+\"*\" for x in test_input_sequence_formatted])\n",
    "    plt.bar(x_for_plot, y_for_plot, color=c_for_plot)\n",
    "    plt.show()\n",
    "        \n",
    "    # TODO prediction\n",
    "    input_sequence = test_input_sequence\n",
    "    input_sequence_vector = seq_translator(input_sequence, max_len=63)\n",
    "    input_sequence_vector = np.expand_dims(tf.convert_to_tensor(np.array(input_sequence_vector)), axis=0)\n",
    "    test_give = model_embed.predict(input_sequence_vector, verbose=False)\n",
    "    counter = 1\n",
    "    #print(\"-----------------------------\")\n",
    "    print(\"Sequence: \", input_sequence)\n",
    "    print(\"Diagram-Algorithm-Prediction: \", peak_counter)\n",
    "    print(\"True labels are \", test_true_label_input_sequence.keys())\n",
    "    print(\"Embedding-Layer Prediction-Weights:\")\n",
    "    for x in test_give[0]:\n",
    "        print(f\"   charge state {counter}: \", round(x, 2), end='')\n",
    "        if counter in test_true_label_input_sequence:\n",
    "            print(\" -> True\")\n",
    "        else:\n",
    "            print(\" False\")\n",
    "        counter += 1\n",
    "    if peak_counter in test_true_label_input_sequence:\n",
    "        true_counter+=1\n",
    "        print(\"-> True: True labels are \", test_true_label_input_sequence.keys(), \"DA-Prediction: \", peak_counter, \" is TRUE\")\n",
    "    else: \n",
    "        false_counter+=1\n",
    "        print(\"-> False: True labels are \", test_true_label_input_sequence.keys(), \", DA-Prediction: \", peak_counter, \" is False\")\n",
    "        \n",
    "    print(\"Model-Prediction: \", [round(x, 2) for x in model_embed.predict(input_sequence_vector, verbose=False)[0]])\n",
    "        \n",
    "print(\"\\n\\n true: \", true_counter, \"false: \", false_counter, \"total: \", total_counter)\n"
   ],
   "metadata": {
    "collapsed": false,
    "ExecuteTime": {
     "end_time": "2023-09-08T16:07:34.183874500Z",
     "start_time": "2023-09-08T16:07:32.195712Z"
    }
   }
  },
  {
   "cell_type": "code",
   "execution_count": null,
   "outputs": [],
   "source": [
    "layers = [layer.get_weights() for layer in model_embed.layers]\n",
    "\n",
    "amino_dict = dict()\n",
    "\n",
    "max_modifier = 4 # todo adjust cutoff max/ max modifier\n",
    "\n",
    "\n",
    "sequence_positionen = list(range(63)) # 0,1,2,3,4,5...62\n",
    "embedding_structure = layers[1][0] # 23 blocks of AA weights\n",
    "\n",
    "\n",
    "for position in sequence_positionen: # 63 stk\n",
    "    amino_dict[position] = dict()\n",
    "    for index, i in enumerate(embedding_structure): #23 stk\n",
    "        if vocabulary[index] not in amino_dict[position]:\n",
    "            amino_dict[position][vocabulary[index]] = list()\n",
    "            amino_dict[position][vocabulary[index]].append(embedding_structure[index][position])\n",
    "        else:   \n",
    "            amino_dict[position][vocabulary[index]].append(embedding_structure[index][position])\n",
    "\n",
    "aminos = list(amino_dict[0])\n",
    "#print(aminos)\n",
    "# an welcher position steht die gewichtung an der position 0 für das Amino A\n",
    "\n",
    "\n",
    "\n",
    "weight_dictionary_per_position = dict()\n",
    "for i in amino_dict:\n",
    "    weight_dictionary_per_position[i] = dict()\n",
    "    weight_position = 0\n",
    "    sorted_list = [x[0] for x in amino_dict[i].values()]\n",
    "    sorted_list = sorted(sorted_list, key=float, reverse=False)\n",
    "    for j in sorted_list:\n",
    "        for key, value in amino_dict[i].items():\n",
    "            if j == value[0]:\n",
    "                #weight_dictionary_per_position[i][key] = weight_position\n",
    "                #weight_dictionary_per_position[i][key] = weight_position\n",
    "                average_for_position = np.average([x[0] for x in amino_dict[i].values()]) # normalisation\n",
    "                weight_dictionary_per_position[i][key] = (j - average_for_position) * (weight_position+1) # highest value = high multiplier\n",
    "                #print(weight_dictionary_per_position[i][key], key, value[0])\n",
    "                weight_position += 1\n",
    "                \n",
    "\n",
    "#Amino: \"A\" an index 0 -> [block A für index 0] -> 0.0725 (20/23 Gewichtungsposition -> Farbe (weiss->schwarz): hellgrau)\n",
    "#test_input_sequence = predict_df['modified_sequence'][51]\n",
    "total_counter = 0\n",
    "false_counter = 0\n",
    "true_counter = 0\n",
    "predict_counter = 0\n",
    "\n",
    "for gg in range(len(predict_df)):\n",
    "    total_counter+=1\n",
    "    #print(\"\\n\")\n",
    "    #print(\"---- new plot: ----\")\n",
    "    test_input_sequence = predict_df['modified_sequence'][gg]\n",
    "    test_true_label_input_sequence = predict_df['normalized'][gg]\n",
    "    #print(test_input_sequence)\n",
    "    #test_input_sequence = 'CCCCCCCCCCCCCCCCCCCCCCCCCCCCCCCCC' #TODO manually overwrite\n",
    "    #print(test_input_sequence, len(test_input_sequence))\n",
    "    test_input_sequence_length = len(re.findall(r'[A-Z]\\[[^\\]]*\\]|.', test_input_sequence))\n",
    "    #print(\"len: \", test_input_sequence_length)\n",
    "    # TODO test_input_sequence += 'X' * (63 - test_input_sequence_length)\n",
    "    #print(test_input_sequence, len(re.findall(r'[A-Z]\\[[^\\]]*\\]|.', test_input_sequence)))\n",
    "    test_input_sequence_formatted = re.findall(r'[A-Z]\\[[^\\]]*\\]|.', test_input_sequence)\n",
    "    #print(test_input_sequence_formatted)\n",
    "           \n",
    "    \n",
    "    \n",
    "    x_for_plot = list(range(len(test_input_sequence_formatted))) # vocabolary of length 23\n",
    "    y_for_plot = list()\n",
    "    # create a list of 0 and 1, 1 if 'X' in test_input_sequence, 0 if not\n",
    "    c_for_plot = ['red' if x == 'X' else 'green' for x in test_input_sequence_formatted]\n",
    "    for index, amino in enumerate(test_input_sequence_formatted):\n",
    "        y_for_plot.append(weight_dictionary_per_position[index][amino])\n",
    "        #print(index, amino, \": \", weight_dictionary_per_position[index][amino], \"/22\")\n",
    "    # colors bars according to c_for_plot\n",
    "    \n",
    "    ## TODO PREDICTION WITH DIAGRAM\n",
    "    # give a prediction according to y_for_plot by counting the highest values if at least 1 index away from preivous peak\n",
    "    peak_height = 0\n",
    "    peak_counter = 0\n",
    "    distance_after_last_peak = 1\n",
    "    minimum_distance = 1\n",
    "    peak_set = False\n",
    "    \n",
    "    \n",
    "    for xndex, x in enumerate(y_for_plot):\n",
    "        #print(xndex,\"; \", x, \"peak-height: \", peak_height, \"distance_after: \", distance_after_last_peak)\n",
    "        if x > peak_height:\n",
    "            peak_set = False\n",
    "            peak_height = x\n",
    "            distance_after_last_peak+=1\n",
    "            if xndex == len(y_for_plot)-1 and peak_height > max(y_for_plot)/max_modifier:\n",
    "                peak_counter += 1\n",
    "                #print(\"peak found at: \", test_input_sequence_formatted[xndex-1], \"peak_counter: \", peak_counter)\n",
    "    \n",
    "        elif x < peak_height:\n",
    "            distance_after_last_peak += 1\n",
    "            if distance_after_last_peak >= 2 and peak_set == False:\n",
    "                if peak_height > max(y_for_plot)/max_modifier:\n",
    "                    peak_counter += 1\n",
    "                peak_height = 0 # reset\n",
    "                distance_after_last_peak = 1\n",
    "                peak_set = True\n",
    "                #print(\"peak found at: \", test_input_sequence_formatted[xndex-1], \"peak_counter: \", peak_counter)        \n",
    "    #print(\"Prediction: \", peak_counter)\n",
    "\n",
    "        \n",
    "    # TODO prediction\n",
    "    input_sequence = test_input_sequence\n",
    "    input_sequence_vector = seq_translator(input_sequence, max_len=63)\n",
    "    input_sequence_vector = np.expand_dims(tf.convert_to_tensor(np.array(input_sequence_vector)), axis=0)\n",
    "    test_give = model_embed.predict(input_sequence_vector, verbose=False)\n",
    "    counter = 1\n",
    "    #print(\"-----------------------------\")\n",
    "    #print(\"Sequence: \", input_sequence)\n",
    "    for x in test_give[0]:\n",
    "        #print(f\"charge state {counter}: \", round(x, 2))\n",
    "        counter += 1\n",
    "        if x == peak_counter:\n",
    "            predict_counter += 1\n",
    "    if peak_counter in test_true_label_input_sequence:\n",
    "        true_counter+=1\n",
    "        #print(\"-> \", test_true_label_input_sequence[peak_counter], \"Prediction: \", peak_counter, \" is TRUE\")\n",
    "    else: \n",
    "        false_counter+=1\n",
    "        #print(\"-> prediction wrong: \", test_true_label_input_sequence, \" for \", peak_counter, \" peaks\")\n",
    "   # if total_counter > 1000:\n",
    "    #    break\n",
    "print(\"true: \", true_counter, \"false: \", false_counter, \"total: \", total_counter)\n",
    "print(\"accuracy: \", true_counter/total_counter)\n",
    "print(\"predict_counter: \", predict_counter, \"total: \", total_counter, \"accuracy: \", predict_counter/total_counter)\n"
   ],
   "metadata": {
    "collapsed": false,
    "ExecuteTime": {
     "start_time": "2023-09-08T16:05:14.578413800Z"
    }
   }
  },
  {
   "cell_type": "code",
   "execution_count": null,
   "outputs": [],
   "source": [
    "# all weights for embed layer per position\n",
    "layers = [layer.get_weights() for layer in model_embed.layers]\n",
    "\n",
    "position_dict = dict()\n",
    "for i in range(23):\n",
    "    list_of_positions_for_vocab = layers[1][0][i]\n",
    "    for index, j in enumerate(list_of_positions_for_vocab):\n",
    "        print(index, j, vocabulary[i], end=\"; \")\n",
    "        if index not in position_dict:\n",
    "            position_dict[index] = list()\n",
    "            position_dict[index].append(j)\n",
    "        else:\n",
    "            position_dict[index].append(j)\n",
    "    print(\"\\n\")\n",
    "    #print(i, (layers[1][0][i]))\n",
    "    \n",
    "for key, value in position_dict.items():\n",
    "    print(f\"mean pos{key}: \",np.mean(value))"
   ],
   "metadata": {
    "collapsed": false,
    "ExecuteTime": {
     "start_time": "2023-09-08T16:05:14.579413500Z"
    }
   }
  },
  {
   "cell_type": "code",
   "execution_count": null,
   "outputs": [],
   "source": [
    "predict_df.head(4)"
   ],
   "metadata": {
    "collapsed": false,
    "ExecuteTime": {
     "start_time": "2023-09-08T16:05:14.581423300Z"
    }
   }
  },
  {
   "cell_type": "code",
   "execution_count": null,
   "outputs": [],
   "source": [
    "# TODO prediction\n",
    "#input_sequence = \"NGVVIATENKHKSPLYEQHSVH\"\n",
    "input_sequence = \"EM[UNIMOD:35]LTRAIKTQLVLLT\"\n",
    "print(\"Sequence: \", input_sequence)\n",
    "#input_sequence = \"AAAGCNN\"\n",
    "input_sequence_vector = seq_translator(input_sequence, max_len=63)\n",
    "input_sequence_vector = np.expand_dims(tf.convert_to_tensor(np.array(input_sequence_vector)), axis=0)\n",
    "print(\"Sequence_vector: \", input_sequence_vector)\n",
    "test_give = model_embed.predict(input_sequence_vector, verbose=False)\n",
    "print(\"Weights_per_Charge_State: \",[round(x, 2) for x in test_give[0]], \"Sum: \" ,sum([round(x, 2) for x in test_give[0]]))\n",
    "counter = 1\n",
    "#print(\"-----------------------------\")\n",
    "# print(\"Sequence: \", input_sequence)\n",
    "# for x in test_give[0]:\n",
    "#     print(f\"charge state {counter}: \", round(x, 2))\n",
    "#     counter += 1\n",
    "print(\"-----------------------------\")\n",
    "print(generate_charge_prediction_text(test_give[0]))"
   ],
   "metadata": {
    "collapsed": false,
    "ExecuteTime": {
     "start_time": "2023-09-08T16:05:14.582423900Z"
    }
   }
  },
  {
   "cell_type": "code",
   "execution_count": null,
   "outputs": [],
   "source": [
    "# # PREDICT\n",
    "# counter_index = 0\n",
    "# stop_index = 100\n",
    "# test_run = False # TODO manual switch\n",
    "# try: \n",
    "#     for index, row in predict_df.iterrows():\n",
    "#         solut = np.expand_dims(tf.convert_to_tensor(np.array(predict_df.at[index, \"modified_sequence_vector\"])), axis=0)\n",
    "#         predict_df.at[index, 'prediction'] = model_embed.predict(solut, verbose=False)\n",
    "#         counter_index += 1\n",
    "#         if test_run:\n",
    "#             if counter_index >= stop_index:\n",
    "#                 break\n",
    "#     predict_df['pred_label'] = predict_df['prediction'].apply(predictions_no_hot)\n",
    "# except KeyboardInterrupt:\n",
    "#     print(\"KeyboardInterrupt\", f\"at {counter_index} of {predict_df.shape[0]}\")\n",
    "#     predict_df['pred_label'] = predict_df['prediction'].apply(predictions_no_hot)"
   ],
   "metadata": {
    "collapsed": false,
    "ExecuteTime": {
     "start_time": "2023-09-08T16:05:14.583423300Z"
    }
   }
  },
  {
   "cell_type": "code",
   "execution_count": null,
   "outputs": [],
   "source": [
    "predict_df.tail(4)"
   ],
   "metadata": {
    "collapsed": false,
    "ExecuteTime": {
     "start_time": "2023-09-08T16:05:14.584424700Z"
    }
   }
  },
  {
   "cell_type": "code",
   "execution_count": null,
   "outputs": [],
   "source": [
    "predict_df['normalized']"
   ],
   "metadata": {
    "collapsed": false,
    "ExecuteTime": {
     "start_time": "2023-09-08T16:05:14.585422900Z"
    }
   }
  },
  {
   "cell_type": "code",
   "execution_count": null,
   "outputs": [],
   "source": [
    "# IMPORTANT for label verification after PREDICT TODO if not called before\n",
    "#predict_df['pred_label'] = predict_df['prediction'].apply(predictions_no_hot)"
   ],
   "metadata": {
    "collapsed": false,
    "ExecuteTime": {
     "start_time": "2023-09-08T16:05:14.586424800Z"
    }
   }
  },
  {
   "cell_type": "code",
   "execution_count": null,
   "outputs": [],
   "source": [
    "predict_df.head(4)"
   ],
   "metadata": {
    "collapsed": false,
    "ExecuteTime": {
     "start_time": "2023-09-08T16:05:14.587426700Z"
    }
   }
  },
  {
   "cell_type": "code",
   "execution_count": null,
   "outputs": [],
   "source": [
    "# iterate all rows of grouped_df_embed\n",
    "size_of_df = predict_df.shape[0]\n",
    "true_counter = 0\n",
    "for index, row in predict_df.iterrows():\n",
    "    if row['true_label'] == row['pred_label']:\n",
    "        true_counter += 1\n",
    "\n",
    "print(true_counter/size_of_df, true_counter, size_of_df)"
   ],
   "metadata": {
    "collapsed": false,
    "ExecuteTime": {
     "start_time": "2023-09-08T16:05:14.588423700Z"
    }
   }
  },
  {
   "cell_type": "code",
   "execution_count": null,
   "outputs": [],
   "source": [
    "1 / np.log10(6) # TODO sanity check, look into formula"
   ],
   "metadata": {
    "collapsed": false,
    "ExecuteTime": {
     "start_time": "2023-09-08T16:05:14.589423600Z"
    }
   }
  },
  {
   "cell_type": "code",
   "execution_count": null,
   "outputs": [],
   "source": [
    "from sklearn.metrics import classification_report, confusion_matrix, accuracy_score, precision_score, recall_score, f1_score, ConfusionMatrixDisplay\n",
    "import seaborn as sn\n",
    "\n",
    "true_labels = predict_df['true_label']\n",
    "predicted_labels = predict_df['pred_label']\n",
    "\n",
    "\n",
    "cm = confusion_matrix(true_labels, predicted_labels)\n",
    "print(cm)\n",
    "print(\"Accuracy: \", accuracy_score(true_labels, predicted_labels))\n",
    "# TODO calculate for score for each class (and/or average)\n",
    "# TODO lookup logic for weighted, macro etc. -> presentation\n",
    "print(\"Precision_weighted: \", precision_score(true_labels, predicted_labels, average='weighted'))\n",
    "print(\"Recall_weighted: \", recall_score(true_labels, predicted_labels, average='weighted'))\n",
    "print(\"F1_weighted: \", f1_score(true_labels, predicted_labels, average='weighted'))\n",
    "disp = ConfusionMatrixDisplay(confusion_matrix=cm, display_labels=class_names)\n",
    "disp.plot(cmap=plt.cm.Blues, xticks_rotation=45)\n",
    "# add legend title and axis labels\n",
    "plt.xlabel('Predicted Label')\n",
    "plt.ylabel('True Label')\n",
    "plt.title('Confusion Matrix')\n",
    "# plt.colorbar(label=\"Number of Samples\")\n",
    "plt.show()\n",
    "\n",
    "\n",
    "#sn.heatmap(cm2, annot=True, cmap=\"crest\")\n",
    "# TODO  check if most abundant is chosen"
   ],
   "metadata": {
    "collapsed": false,
    "ExecuteTime": {
     "start_time": "2023-09-08T16:05:14.590424200Z"
    }
   }
  },
  {
   "cell_type": "code",
   "execution_count": null,
   "outputs": [],
   "source": [
    "# TopK-Metrics\n",
    "# iterate over all rows in predict_df and compare true_label with topK and set column topK_inference to either True or False\n",
    "predict_df['topK_inference'] = None\n",
    "for index, row in predict_df.iterrows():\n",
    "        if row['pred_label'] is None or row['prediction'] is None:\n",
    "            predict_df.at[index, 'topK_inference'] = None\n",
    "        elif row['pred_label'] in row['topK']:\n",
    "            predict_df.at[index, 'topK_inference'] = True\n",
    "        else:\n",
    "            predict_df.at[index, 'topK_inference'] = False\n",
    "            #print(row['prediction'], row['pred_label'], row['topK'])\n"
   ],
   "metadata": {
    "collapsed": false,
    "ExecuteTime": {
     "start_time": "2023-09-08T16:05:14.591424Z"
    }
   }
  },
  {
   "cell_type": "code",
   "execution_count": null,
   "outputs": [],
   "source": [
    "# calculate accuracy for topK_inference\n",
    "topK_true = predict_df['topK_inference'].value_counts()[True] \n",
    "topK_false = predict_df['topK_inference'].value_counts()[False]\n",
    "topK_total = topK_true + topK_false\n",
    "print(\"Correct: \", topK_true, \"Wrong: \", topK_false, \"Total: \",topK_total)\n",
    "\n",
    "topK_accuracy = predict_df['topK_inference'].value_counts()[True] / (predict_df['topK_inference'].value_counts()[True] + predict_df['topK_inference'].value_counts()[False])\n",
    "print(\"TopK-Accuracy: \", topK_accuracy)"
   ],
   "metadata": {
    "collapsed": false,
    "ExecuteTime": {
     "start_time": "2023-09-08T16:05:14.593423500Z"
    }
   }
  },
  {
   "cell_type": "code",
   "execution_count": null,
   "outputs": [],
   "source": [
    "predict_df.head(4)"
   ],
   "metadata": {
    "collapsed": false,
    "ExecuteTime": {
     "start_time": "2023-09-08T16:05:14.594424600Z"
    }
   }
  },
  {
   "cell_type": "markdown",
   "source": [
    "# Error for each class due to sequence length"
   ],
   "metadata": {
    "collapsed": false
   }
  },
  {
   "cell_type": "code",
   "execution_count": null,
   "outputs": [],
   "source": [
    "# calculate error for each class corresponding to sequence length, TODO normalize for sequence length occurence\n",
    "seq_len_dict = dict()\n",
    "seq_len_correct = dict()\n",
    "for index, length in predict_df['seq_length'].items():\n",
    "    if length in seq_len_dict:\n",
    "        seq_len_dict[length] += 1\n",
    "        if predict_df.at[index, 'true_label'] == predict_df.at[index, 'pred_label']:\n",
    "            seq_len_correct[length] += 1\n",
    "    else:\n",
    "        seq_len_dict[length] = 1\n",
    "        if predict_df.at[index, 'true_label'] == predict_df.at[index, 'pred_label']:\n",
    "            seq_len_correct[length] = 1\n",
    "        else:\n",
    "            seq_len_correct[length] = 0\n",
    "\n",
    "print(len(seq_len_dict), sum(seq_len_dict.values()))\n",
    "print(seq_len_dict[11])\n",
    "print(seq_len_correct[11])"
   ],
   "metadata": {
    "collapsed": false,
    "ExecuteTime": {
     "start_time": "2023-09-08T16:05:14.594424600Z"
    }
   }
  },
  {
   "cell_type": "code",
   "execution_count": null,
   "outputs": [],
   "source": [
    "correct_matches = dict()\n",
    "for key, value in seq_len_dict.items():\n",
    "    correct_matches[key] = seq_len_correct[key] / value\n",
    "# plot in pyplot seq_len_dict vs seq_len_correct\n",
    "import matplotlib.pyplot as plt\n",
    "\n",
    "plt.xlabel('Sequence Length')\n",
    "plt.ylabel('Accuracy')\n",
    "#label for color\n",
    "plt.title('Accuracy per Sequence Length')\n",
    "\n",
    "\n",
    "plt.colorbar(plt.scatter(list(seq_len_dict.keys()), list(correct_matches.values()), c=list(seq_len_dict.values()), cmap='viridis', label=\"all\"))\n",
    "plt.scatter(list(seq_len_dict.keys()), list(correct_matches.values()), c=list(seq_len_dict.values()), cmap='viridis', label=\"all\")"
   ],
   "metadata": {
    "collapsed": false,
    "ExecuteTime": {
     "start_time": "2023-09-08T16:05:14.595934200Z"
    }
   }
  },
  {
   "cell_type": "markdown",
   "source": [],
   "metadata": {
    "collapsed": false
   }
  },
  {
   "cell_type": "markdown",
   "source": [
    "# TOPK: Error for each class due to sequence length"
   ],
   "metadata": {
    "collapsed": false
   }
  },
  {
   "cell_type": "code",
   "execution_count": null,
   "outputs": [],
   "source": [
    "predict_df.tail(4)"
   ],
   "metadata": {
    "collapsed": false,
    "ExecuteTime": {
     "start_time": "2023-09-08T16:05:14.596941700Z"
    }
   }
  },
  {
   "cell_type": "code",
   "execution_count": null,
   "outputs": [],
   "source": [
    "# calculate error for each class corresponding to sequence length, TODO normalize for sequence length occurence\n",
    "seq_len_dict = dict()\n",
    "seq_len_correct = dict()\n",
    "for index, length in predict_df['seq_length'].items():\n",
    "    if length in seq_len_dict:\n",
    "        seq_len_dict[length] += 1\n",
    "        if predict_df.at[index, 'topK_inference']:\n",
    "            seq_len_correct[length] += 1\n",
    "    else:\n",
    "        seq_len_dict[length] = 1\n",
    "        if predict_df.at[index, 'topK_inference']:\n",
    "            \n",
    "            seq_len_correct[length] = 1\n",
    "        else:\n",
    "            seq_len_correct[length] = 0\n",
    "print(len(seq_len_dict), sum(seq_len_dict.values()))\n",
    "print(seq_len_dict[11])\n",
    "print(seq_len_correct[11])"
   ],
   "metadata": {
    "collapsed": false,
    "ExecuteTime": {
     "start_time": "2023-09-08T16:05:14.597941100Z"
    }
   }
  },
  {
   "cell_type": "code",
   "execution_count": null,
   "outputs": [],
   "source": [
    "correct_matches = dict()\n",
    "for key, value in seq_len_dict.items():\n",
    "    correct_matches[key] = seq_len_correct[key] / value\n",
    "# plot in pyplot seq_len_dict vs seq_len_correct\n",
    "import matplotlib.pyplot as plt\n",
    "\n",
    "plt.xlabel('Sequence Length')\n",
    "plt.ylabel('TopK Accuracy')\n",
    "#label for color\n",
    "plt.title('TopK Accuracy per Sequence Length')\n",
    "\n",
    "\n",
    "plt.colorbar(plt.scatter(list(seq_len_dict.keys()), list(correct_matches.values()), c=list(seq_len_dict.values()), cmap='viridis', label=\"all\"))\n",
    "plt.scatter(list(seq_len_dict.keys()), list(correct_matches.values()), c=list(seq_len_dict.values()), cmap='viridis', label=\"all\")"
   ],
   "metadata": {
    "collapsed": false,
    "ExecuteTime": {
     "start_time": "2023-09-08T16:05:14.599940700Z"
    }
   }
  },
  {
   "cell_type": "code",
   "execution_count": null,
   "outputs": [],
   "source": [
    "from sklearn.metrics import confusion_matrix\n",
    "\n",
    "new_df = pd.DataFrame(columns=['charge','accuracy'])\n",
    "\n",
    "new_df['charge'] = [1,2,3,4,5,6]\n",
    "new_df['precision'] = precision_score(true_labels, predicted_labels, average=None)\n",
    "new_df['recall'] = recall_score(true_labels, predicted_labels, average=None)\n",
    "new_df['f1'] = f1_score(true_labels, predicted_labels, average=None)\n"
   ],
   "metadata": {
    "collapsed": false,
    "ExecuteTime": {
     "start_time": "2023-09-08T16:05:14.600941200Z"
    }
   }
  },
  {
   "cell_type": "code",
   "execution_count": null,
   "outputs": [],
   "source": [
    "new_df # evaluation metrics per charge state (class)"
   ],
   "metadata": {
    "collapsed": false,
    "ExecuteTime": {
     "start_time": "2023-09-08T16:05:14.601941100Z"
    }
   }
  },
  {
   "cell_type": "markdown",
   "source": [
    "# Outputs to compare with prosit"
   ],
   "metadata": {
    "collapsed": false
   }
  },
  {
   "cell_type": "code",
   "execution_count": null,
   "outputs": [],
   "source": [
    "train_df"
   ],
   "metadata": {
    "collapsed": false,
    "ExecuteTime": {
     "start_time": "2023-09-08T16:05:14.602941900Z"
    }
   }
  },
  {
   "cell_type": "code",
   "execution_count": null,
   "outputs": [],
   "source": [
    "train_df = pd.DataFrame(columns=['modified_sequence', 'most_abundant_charge_vector', 'modified_sequence_vector'])\n",
    "train_df['modified_sequence'] = train_ds_embed_raw\n",
    "train_df['most_abundant_charge_vector'] = train_labels_embed.numpy().tolist()\n",
    "train_df['modified_sequence_vector'] = train_ds_embed.numpy().tolist()\n",
    "\n",
    "val_df = pd.DataFrame(columns=['modified_sequence', 'most_abundant_charge_vector', 'modified_sequence_vector'])\n",
    "val_df['modified_sequence'] = val_ds_embed_raw\n",
    "val_df['modified_sequence_vector'] = val_ds_embed.numpy().tolist()\n",
    "val_df['most_abundant_charge_vector'] = val_labels_embed.numpy().tolist()\n",
    "\n",
    "test_df = pd.DataFrame(columns=['modified_sequence', 'most_abundant_charge_vector', 'modified_sequence_vector'])\n",
    "test_df['modified_sequence'] = test_ds_embed_raw\n",
    "test_df['modified_sequence_vector'] = test_ds_embed.numpy().tolist()\n",
    "test_df['most_abundant_charge_vector'] = test_labels_embed.numpy().tolist()"
   ],
   "metadata": {
    "collapsed": false,
    "ExecuteTime": {
     "start_time": "2023-09-08T16:05:14.604940400Z"
    }
   }
  },
  {
   "cell_type": "code",
   "execution_count": null,
   "outputs": [],
   "source": [
    "train_df.to_csv('comparison_files/train_df.tsv', sep=\"\\t\")\n",
    "val_df.to_csv('comparison_files/val_df.tsv', sep=\"\\t\")\n",
    "test_df.to_csv('comparison_files/test_df.tsv', sep=\"\\t\")"
   ],
   "metadata": {
    "collapsed": false,
    "ExecuteTime": {
     "start_time": "2023-09-08T16:05:14.605942500Z"
    }
   }
  },
  {
   "cell_type": "code",
   "execution_count": null,
   "outputs": [],
   "source": [
    "print(len(train_df), len(val_df), len(test_df))"
   ],
   "metadata": {
    "collapsed": false,
    "ExecuteTime": {
     "start_time": "2023-09-08T16:05:14.606942600Z"
    }
   }
  },
  {
   "cell_type": "markdown",
   "source": [
    "# KerasTuner"
   ],
   "metadata": {
    "collapsed": false
   }
  },
  {
   "cell_type": "code",
   "execution_count": null,
   "outputs": [],
   "source": [
    "wandb.init(project='precursor_charge_prediction_kerastuner')"
   ],
   "metadata": {
    "collapsed": false,
    "ExecuteTime": {
     "start_time": "2023-09-08T16:05:14.607940400Z"
    }
   }
  },
  {
   "cell_type": "code",
   "execution_count": null,
   "outputs": [],
   "source": [
    "import keras_tuner\n",
    "from tensorflow import keras\n",
    "from keras import Sequential, Model\n",
    "from keras.layers import Embedding, Flatten, Dense, Conv1D, Conv2D, MaxPooling1D, MaxPooling2D, Input, concatenate, Rescaling\n",
    "\n",
    "def build_model(hp):\n",
    "    model_kerastuner = keras.Sequential([\n",
    "    Embedding(input_dim=voc_len, output_dim=max_len_seq, input_length=max_len_seq),\n",
    "    Flatten(),\n",
    "    Dense(units=hp.Int('dense_1_units', min_value=63, max_value=256, step=16), activation='relu'),\n",
    "    Dense(num_classes, activation=\"softmax\")  # sigmoid for binary classification\n",
    "    ])\n",
    "\n",
    "    learning_rate = hp.Float(\"lr\", min_value=1e-4, max_value=1e-2, sampling=\"log\"),\n",
    "\n",
    "    model_kerastuner.compile(\n",
    "        optimizer=keras.optimizers.Adam(learning_rate=learning_rate),\n",
    "        loss=tf.keras.losses.CategoricalCrossentropy(),\n",
    "        metrics=[\"categorical_accuracy\"])\n",
    "\n",
    "    return model_kerastuner\n",
    "\n",
    "\n",
    "tuner = keras_tuner.RandomSearch(\n",
    "    build_model,\n",
    "    objective='val_loss',\n",
    "    max_trials=5,\n",
    "    overwrite=True,\n",
    "    executions_per_trial=3,\n",
    "    directory='output_tuner', )\n",
    "tuner.search(train_ds_embed, train_labels_embed, epochs=5, batch_size=4096, validation_data=(val_ds_embed, val_labels_embed), callbacks=[WandbCallback()]) #WandbCallback(\n",
    "best_model = tuner.get_best_models()[0]\n",
    "best_model_all = tuner.get_best_models()\n",
    "#hp.Choice('conv_3_kernel', values=[3, 10]), hp.Int('dense_1_units', min_value=32, max_value=128, step=16), hp.Float(\"lr\", min_value=1e-4, max_value=1e-2, sampling=\"log\")"
   ],
   "metadata": {
    "collapsed": false,
    "ExecuteTime": {
     "start_time": "2023-09-08T16:05:14.608941700Z"
    }
   }
  },
  {
   "cell_type": "code",
   "execution_count": null,
   "outputs": [],
   "source": [
    "best_model.summary()"
   ],
   "metadata": {
    "collapsed": false,
    "ExecuteTime": {
     "start_time": "2023-09-08T16:05:14.610447700Z"
    }
   }
  },
  {
   "cell_type": "markdown",
   "source": [
    "# IGNORE FROM HERE"
   ],
   "metadata": {
    "collapsed": false
   }
  },
  {
   "cell_type": "markdown",
   "source": [
    "## Check in with Franzi's group for reporting"
   ],
   "metadata": {
    "collapsed": false
   }
  },
  {
   "cell_type": "markdown",
   "source": [
    "### Multilable Model\n",
    "#### WIP in precursor_charge_predictor"
   ],
   "metadata": {
    "collapsed": false,
    "ExecuteTime": {
     "end_time": "2023-07-24T12:27:56.122188900Z",
     "start_time": "2023-07-24T12:27:55.994945600Z"
    }
   }
  },
  {
   "cell_type": "code",
   "execution_count": null,
   "outputs": [],
   "source": [],
   "metadata": {
    "collapsed": false,
    "ExecuteTime": {
     "start_time": "2023-09-08T16:05:14.610447700Z"
    }
   }
  },
  {
   "cell_type": "markdown",
   "source": [
    "## Model Testing\n",
    "### check if models only predict charge 2 or also other charges. Due to 'overrepresentation' the best bet for the model could be to only output charge state 2"
   ],
   "metadata": {
    "collapsed": false,
    "ExecuteTime": {
     "end_time": "2023-07-24T12:28:17.283401900Z",
     "start_time": "2023-07-24T12:28:17.212145Z"
    }
   }
  },
  {
   "cell_type": "code",
   "execution_count": null,
   "outputs": [],
   "source": [],
   "metadata": {
    "collapsed": false,
    "ExecuteTime": {
     "start_time": "2023-09-08T16:05:14.611457400Z"
    }
   }
  },
  {
   "cell_type": "markdown",
   "source": [
    "## Hyperparameter Tuning"
   ],
   "metadata": {
    "collapsed": false
   }
  },
  {
   "cell_type": "code",
   "execution_count": null,
   "outputs": [],
   "source": [],
   "metadata": {
    "collapsed": false,
    "ExecuteTime": {
     "start_time": "2023-09-08T16:05:14.612453300Z"
    }
   }
  },
  {
   "cell_type": "markdown",
   "source": [],
   "metadata": {
    "collapsed": false
   }
  },
  {
   "cell_type": "code",
   "execution_count": null,
   "outputs": [],
   "source": [],
   "metadata": {
    "collapsed": false,
    "ExecuteTime": {
     "start_time": "2023-09-08T16:05:14.614453200Z"
    }
   }
  },
  {
   "cell_type": "markdown",
   "source": [
    "# Inference"
   ],
   "metadata": {
    "collapsed": false
   }
  },
  {
   "cell_type": "code",
   "execution_count": null,
   "outputs": [],
   "source": [
    "batches_parquet[file_list[1]][\"precursor_charge\"].value_counts()"
   ],
   "metadata": {
    "collapsed": false,
    "ExecuteTime": {
     "start_time": "2023-09-08T16:05:14.615453900Z"
    }
   }
  },
  {
   "cell_type": "code",
   "execution_count": null,
   "outputs": [],
   "source": [
    "last_model = keras.models.load_model('precursor_charge_prediction_model_embed/history_embed_150epoch_08102023.h5')"
   ],
   "metadata": {
    "collapsed": false,
    "ExecuteTime": {
     "start_time": "2023-09-08T16:05:14.616453200Z"
    }
   }
  },
  {
   "cell_type": "code",
   "execution_count": null,
   "outputs": [],
   "source": [
    "#layers = [layer.get_weights() for layer in last_model.layers]"
   ],
   "metadata": {
    "collapsed": false,
    "ExecuteTime": {
     "start_time": "2023-09-08T16:05:14.617458300Z"
    }
   }
  },
  {
   "cell_type": "code",
   "execution_count": null,
   "outputs": [],
   "source": [
    "batches_parquet.keys()"
   ],
   "metadata": {
    "collapsed": false,
    "ExecuteTime": {
     "start_time": "2023-09-08T16:05:14.618453500Z"
    }
   }
  },
  {
   "cell_type": "code",
   "execution_count": null,
   "outputs": [],
   "source": [
    "# Make validation data\n",
    "inference_df = batches_parquet[file_list[1]][[\"precursor_charge\", \"modified_sequence_vector\", \"precursor_intensity\"]].copy()"
   ],
   "metadata": {
    "collapsed": false,
    "ExecuteTime": {
     "start_time": "2023-09-08T16:05:14.619453400Z"
    }
   }
  },
  {
   "cell_type": "code",
   "execution_count": null,
   "outputs": [],
   "source": [
    "inference_df.head(4)"
   ],
   "metadata": {
    "collapsed": false,
    "ExecuteTime": {
     "start_time": "2023-09-08T16:05:14.620454600Z"
    }
   }
  },
  {
   "cell_type": "code",
   "execution_count": null,
   "outputs": [],
   "source": [
    "[len(i) for i in inference_df[\"modified_sequence_vector\"] if len(i) != 50]"
   ],
   "metadata": {
    "collapsed": false,
    "ExecuteTime": {
     "start_time": "2023-09-08T16:05:14.621453800Z"
    }
   }
  },
  {
   "cell_type": "code",
   "execution_count": null,
   "outputs": [],
   "source": [
    "inference_df = inference_df[inference_df['modified_sequence_vector'].apply(lambda x: len(x) <= 50)]"
   ],
   "metadata": {
    "collapsed": false,
    "ExecuteTime": {
     "start_time": "2023-09-08T16:05:14.623453Z"
    }
   }
  },
  {
   "cell_type": "markdown",
   "source": [],
   "metadata": {
    "collapsed": false
   }
  },
  {
   "cell_type": "code",
   "execution_count": null,
   "outputs": [],
   "source": [
    "[len(i) for i in inference_df[\"modified_sequence_vector\"] if len(i) != 50]"
   ],
   "metadata": {
    "collapsed": false,
    "ExecuteTime": {
     "start_time": "2023-09-08T16:05:14.624454700Z"
    }
   }
  },
  {
   "cell_type": "code",
   "execution_count": null,
   "outputs": [],
   "source": [
    "[i for i in inference_df[\"precursor_charge\"] if i not in [2,3,4]]"
   ],
   "metadata": {
    "collapsed": false,
    "ExecuteTime": {
     "start_time": "2023-09-08T16:05:14.624454700Z"
    }
   }
  },
  {
   "cell_type": "code",
   "execution_count": null,
   "outputs": [],
   "source": [
    "[i for i in inference_df[\"precursor_intensity\"] if i > 1000000000000]"
   ],
   "metadata": {
    "collapsed": false,
    "ExecuteTime": {
     "start_time": "2023-09-08T16:05:14.625454300Z"
    }
   }
  },
  {
   "cell_type": "code",
   "execution_count": null,
   "outputs": [],
   "source": [
    "inference_df"
   ],
   "metadata": {
    "collapsed": false,
    "ExecuteTime": {
     "start_time": "2023-09-08T16:05:14.626453500Z"
    }
   }
  },
  {
   "cell_type": "markdown",
   "source": [],
   "metadata": {
    "collapsed": false
   }
  },
  {
   "cell_type": "code",
   "execution_count": null,
   "outputs": [],
   "source": [
    "inference_df[list(range(0, 50))] = pd.DataFrame(inference_df[\"modified_sequence_vector\"].tolist(), index= inference_df.index)"
   ],
   "metadata": {
    "collapsed": false,
    "ExecuteTime": {
     "start_time": "2023-09-08T16:05:14.627453900Z"
    }
   }
  },
  {
   "cell_type": "code",
   "execution_count": null,
   "outputs": [],
   "source": [
    "inference_df.drop(\"modified_sequence_vector\", axis=1, inplace=True)"
   ],
   "metadata": {
    "collapsed": false,
    "ExecuteTime": {
     "start_time": "2023-09-08T16:05:14.628454800Z"
    }
   }
  },
  {
   "cell_type": "code",
   "execution_count": null,
   "outputs": [],
   "source": [
    "inference_df.head(4)"
   ],
   "metadata": {
    "collapsed": false,
    "ExecuteTime": {
     "start_time": "2023-09-08T16:05:14.628454800Z"
    }
   }
  },
  {
   "cell_type": "code",
   "execution_count": null,
   "outputs": [],
   "source": [
    "inference_ds = tf.convert_to_tensor(inference_df)"
   ],
   "metadata": {
    "collapsed": false,
    "ExecuteTime": {
     "start_time": "2023-09-08T16:05:14.629454500Z"
    }
   }
  },
  {
   "cell_type": "code",
   "execution_count": null,
   "outputs": [],
   "source": [
    "inference_target = inference_ds[:, 0]\n",
    "inference_features = inference_ds[:, 1:]"
   ],
   "metadata": {
    "collapsed": false,
    "ExecuteTime": {
     "start_time": "2023-09-08T16:05:14.630455Z"
    }
   }
  },
  {
   "cell_type": "code",
   "execution_count": null,
   "outputs": [],
   "source": [
    "inference_target_labels =  np.array([one_hot_precursor(i, charges=charge_ranges) for i in inference_target])"
   ],
   "metadata": {
    "collapsed": false,
    "ExecuteTime": {
     "start_time": "2023-09-08T16:05:14.631455Z"
    }
   }
  },
  {
   "cell_type": "code",
   "execution_count": null,
   "outputs": [],
   "source": [
    "results = model_cce.evaluate(inference_features, inference_target_labels, batch_size=256)\n",
    "print(\"test loss, test acc:\", results)"
   ],
   "metadata": {
    "collapsed": false,
    "ExecuteTime": {
     "start_time": "2023-09-08T16:05:14.632455200Z"
    }
   }
  },
  {
   "cell_type": "markdown",
   "source": [
    "## Evaluate the models\n",
    "- confusion matrix\n",
    "- accuracy\n",
    "- loss"
   ],
   "metadata": {
    "collapsed": false
   }
  },
  {
   "cell_type": "markdown",
   "source": [
    "Confusion Matrix"
   ],
   "metadata": {
    "collapsed": false
   }
  },
  {
   "cell_type": "code",
   "execution_count": null,
   "outputs": [],
   "source": [
    "import sklearn\n",
    "matrix = sklearn.metrics.confusion_matrix(train_ds_labels.argmax(axis=1), inference_target_labels.argmax(axis=1))"
   ],
   "metadata": {
    "collapsed": false,
    "ExecuteTime": {
     "start_time": "2023-09-08T16:05:14.632455200Z"
    }
   }
  },
  {
   "cell_type": "code",
   "execution_count": null,
   "outputs": [],
   "source": [
    "#!pip install scikit-learn\n",
    "#!pip install numpy --upgrade\n",
    "#!pip install pandas --upgrade\n",
    "#!pip install matplotlib --upgrade\n",
    "from sklearn.metrics import confusion_matrix\n",
    "from sklearn.metrics import classification_report\n",
    "import pandas as pd\n",
    "#do_predictions = model.predict(test_ds)\n",
    "\n",
    "y_pred = []\n",
    "y_true = []\n",
    "\n",
    "# iterate over the dataset\n",
    "for index, i in enumerate(inference_ds):   # use dataset.unbatch() with repeat\n",
    "   print(inference_target_labels[index])\n",
    "   print(inference_features[index])\n",
    "   # append true labels\n",
    "   y_true.append(inference_target_labels[index])\n",
    "   # compute predictions\n",
    "   preds = model_cce.predict(inference_features[index])\n",
    "   # append predicted labels\n",
    "   y_pred.append(np.argmax(preds, axis = -1))\n",
    "# convert the true and predicted labels into tensors\n",
    "true_labels = tf.cast(tf.concat([item for item in y_true], axis = 0), tf.float32)\n",
    "predicted_labels = tf.cast(tf.concat([item for item in y_pred], axis = 0), tf.float32)\n",
    "\n",
    "\n",
    "cm = confusion_matrix(true_labels, predicted_labels)\n",
    "#print(cm)\n",
    "report = classification_report(true_labels,predicted_labels, target_names=class_names)\n",
    "\n",
    "report_dict = classification_report(true_labels, predicted_labels, output_dict=True)\n",
    "#print(report_dict)\n",
    "print(report)\n",
    "\n",
    "#pd.DataFrame(report_dict).transpose()\n"
   ],
   "metadata": {
    "collapsed": false,
    "ExecuteTime": {
     "start_time": "2023-09-08T16:05:14.633454900Z"
    }
   }
  },
  {
   "cell_type": "markdown",
   "source": [
    "Accuracy/ Sens/ Spec"
   ],
   "metadata": {
    "collapsed": false,
    "ExecuteTime": {
     "end_time": "2023-07-24T12:31:25.645324800Z",
     "start_time": "2023-07-24T12:31:25.552652300Z"
    }
   }
  },
  {
   "cell_type": "code",
   "execution_count": null,
   "outputs": [],
   "source": [
    "import keras.backend as K\n",
    "def matthews_correlation(y_true, y_pred):\n",
    "    #print(y_pred.shape, y_true.shape)\n",
    "    y_pred_pos = K.round(K.clip(y_pred, 0, 1))\n",
    "    y_pred_neg = 1 - y_pred_pos\n",
    "\n",
    "    y_pos = K.round(K.clip(y_true, 0, 1))\n",
    "    y_neg = 1 - y_pos\n",
    "\n",
    "    tp = K.sum(K.cast(y_pos * y_pred_pos, 'float32'))\n",
    "    tn = K.sum(K.cast(y_neg * y_pred_neg, 'float32'))\n",
    "    fp = K.sum(K.cast(y_neg * y_pred_pos, 'float32'))\n",
    "    fn = K.sum(K.cast(y_pos * y_pred_neg, 'float32'))\n",
    "\n",
    "    print(\"OVERALL:\")\n",
    "    print(\" Accuracy \", ((tp + tn) / (tp + tn + fp + fn)).numpy())\n",
    "    print(\" Sensitivity \", (tp / (tp + fn)).numpy())\n",
    "    print(\" Specificity \", (tn / (tn + fp)).numpy())\n",
    "\n",
    "    numerator = (tp * tn - fp * fn)\n",
    "    #print(tp.numpy(), fp.numpy())\n",
    "    test = (((tp + fp) * (tp + fn) * (tn + fp) * (tn + fn)))\n",
    "    #print(test)\n",
    "    denominator = K.sqrt(K.cast(test, 'float32'))\n",
    "\n",
    "    return numerator / (denominator + K.epsilon())\n",
    "\n",
    "\n",
    "#print(true_labels, predicted_labels)\n",
    "print(\" matthews_correlation(rounded): \", (matthews_correlation(true_labels, predicted_labels).numpy()))"
   ],
   "metadata": {
    "collapsed": false,
    "ExecuteTime": {
     "start_time": "2023-09-08T16:05:14.634454300Z"
    }
   }
  },
  {
   "cell_type": "markdown",
   "source": [
    "MCC"
   ],
   "metadata": {
    "collapsed": false,
    "ExecuteTime": {
     "end_time": "2023-07-24T12:31:59.929377Z",
     "start_time": "2023-07-24T12:31:45.294917300Z"
    }
   }
  },
  {
   "cell_type": "code",
   "execution_count": null,
   "outputs": [],
   "source": [
    "from sklearn.metrics import matthews_corrcoef\n",
    "\n",
    "print(\"matthews_correlation:\", matthews_corrcoef(true_labels, predicted_labels))"
   ],
   "metadata": {
    "collapsed": false,
    "ExecuteTime": {
     "start_time": "2023-09-08T16:05:14.635455200Z"
    }
   }
  },
  {
   "cell_type": "markdown",
   "source": [
    "Direct eval:"
   ],
   "metadata": {
    "collapsed": false
   }
  },
  {
   "cell_type": "code",
   "execution_count": null,
   "outputs": [],
   "source": [
    "from tensorflow.keras.metrics import Precision, Recall, BinaryAccuracy\n",
    "\n",
    "eval_prec = Precision()\n",
    "eval_rec = Recall()\n",
    "eval_acc = BinaryAccuracy()"
   ],
   "metadata": {
    "collapsed": false,
    "ExecuteTime": {
     "start_time": "2023-09-08T16:05:14.635455200Z"
    }
   }
  },
  {
   "cell_type": "code",
   "execution_count": null,
   "outputs": [],
   "source": [
    "for batch in test_ds.as_numpy_iterator():\n",
    "    X, y = batch\n",
    "    y = tf.keras.utils.to_categorical(y, num_classes=13, dtype='int')\n",
    "    yhat = model.predict(X)\n",
    "    eval_prec.update_state(y, yhat)\n",
    "    eval_rec.update_state(y, yhat)\n",
    "    eval_acc.update_state(y, yhat)"
   ],
   "metadata": {
    "collapsed": false,
    "ExecuteTime": {
     "start_time": "2023-09-08T16:05:14.636454400Z"
    }
   }
  },
  {
   "cell_type": "code",
   "execution_count": null,
   "outputs": [],
   "source": [
    "print(f'Precision: {eval_prec.result().numpy()}, Recall: {eval_rec.result().numpy()}, Accuracy: {eval_acc.result().numpy()}')"
   ],
   "metadata": {
    "collapsed": false,
    "ExecuteTime": {
     "start_time": "2023-09-08T16:05:14.637454100Z"
    }
   }
  }
 ],
 "metadata": {
  "kernelspec": {
   "display_name": "Python 3",
   "language": "python",
   "name": "python3"
  },
  "language_info": {
   "codemirror_mode": {
    "name": "ipython",
    "version": 2
   },
   "file_extension": ".py",
   "mimetype": "text/x-python",
   "name": "python",
   "nbconvert_exporter": "python",
   "pygments_lexer": "ipython2",
   "version": "2.7.6"
  }
 },
 "nbformat": 4,
 "nbformat_minor": 0
}

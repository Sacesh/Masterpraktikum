{
 "cells": [
  {
   "cell_type": "markdown",
   "source": [
    "# Playground to implement W&B as well as start hyperparameter-tuning"
   ],
   "metadata": {
    "collapsed": false
   }
  },
  {
   "cell_type": "markdown",
   "source": [
    "# WanDB"
   ],
   "metadata": {
    "collapsed": false
   }
  },
  {
   "cell_type": "code",
   "execution_count": 1,
   "outputs": [],
   "source": [
    "#%pip install wandb"
   ],
   "metadata": {
    "collapsed": false,
    "ExecuteTime": {
     "end_time": "2023-08-17T14:38:42.083162700Z",
     "start_time": "2023-08-17T14:38:41.606010500Z"
    }
   }
  },
  {
   "cell_type": "code",
   "execution_count": 1,
   "outputs": [],
   "source": [
    "import subprocess\n",
    "import wandb\n",
    "from wandb.keras import WandbCallback\n",
    "import tensorflow as tf\n",
    "import os"
   ],
   "metadata": {
    "collapsed": false,
    "ExecuteTime": {
     "end_time": "2023-08-21T09:47:00.181405500Z",
     "start_time": "2023-08-21T09:46:56.400811600Z"
    }
   }
  },
  {
   "cell_type": "code",
   "execution_count": 2,
   "outputs": [
    {
     "data": {
      "text/plain": "0"
     },
     "execution_count": 2,
     "metadata": {},
     "output_type": "execute_result"
    }
   ],
   "source": [
    "subprocess.call(['wandb', 'login', '4e8d3dcb1584ad129b3b49ccc34f65b20116ae54'])"
   ],
   "metadata": {
    "collapsed": false,
    "ExecuteTime": {
     "end_time": "2023-08-21T09:47:05.671119800Z",
     "start_time": "2023-08-21T09:47:01.479899400Z"
    }
   }
  },
  {
   "cell_type": "code",
   "execution_count": 3,
   "outputs": [
    {
     "name": "stderr",
     "output_type": "stream",
     "text": [
      "\u001B[34m\u001B[1mwandb\u001B[0m: Currently logged in as: \u001B[33mnkopp\u001B[0m (\u001B[33mteam-bioinf\u001B[0m). Use \u001B[1m`wandb login --relogin`\u001B[0m to force relogin\n"
     ]
    },
    {
     "data": {
      "text/plain": "<IPython.core.display.HTML object>",
      "text/html": "wandb version 0.15.8 is available!  To upgrade, please run:\n $ pip install wandb --upgrade"
     },
     "metadata": {},
     "output_type": "display_data"
    },
    {
     "data": {
      "text/plain": "<IPython.core.display.HTML object>",
      "text/html": "Tracking run with wandb version 0.15.5"
     },
     "metadata": {},
     "output_type": "display_data"
    },
    {
     "data": {
      "text/plain": "<IPython.core.display.HTML object>",
      "text/html": "Run data is saved locally in <code>C:\\Users\\micro\\OneDrive\\Dokumente\\GitHub\\Masterpraktikum\\wandb\\run-20230821_114710-nxa0jz5f</code>"
     },
     "metadata": {},
     "output_type": "display_data"
    },
    {
     "data": {
      "text/plain": "<IPython.core.display.HTML object>",
      "text/html": "Syncing run <strong><a href='https://wandb.ai/team-bioinf/precursor_charge_prediction_new/runs/nxa0jz5f' target=\"_blank\">lilac-shadow-20</a></strong> to <a href='https://wandb.ai/team-bioinf/precursor_charge_prediction_new' target=\"_blank\">Weights & Biases</a> (<a href='https://wandb.me/run' target=\"_blank\">docs</a>)<br/>"
     },
     "metadata": {},
     "output_type": "display_data"
    },
    {
     "data": {
      "text/plain": "<IPython.core.display.HTML object>",
      "text/html": " View project at <a href='https://wandb.ai/team-bioinf/precursor_charge_prediction_new' target=\"_blank\">https://wandb.ai/team-bioinf/precursor_charge_prediction_new</a>"
     },
     "metadata": {},
     "output_type": "display_data"
    },
    {
     "data": {
      "text/plain": "<IPython.core.display.HTML object>",
      "text/html": " View run at <a href='https://wandb.ai/team-bioinf/precursor_charge_prediction_new/runs/nxa0jz5f' target=\"_blank\">https://wandb.ai/team-bioinf/precursor_charge_prediction_new/runs/nxa0jz5f</a>"
     },
     "metadata": {},
     "output_type": "display_data"
    },
    {
     "data": {
      "text/html": "<button onClick=\"this.nextSibling.style.display='block';this.style.display='none';\">Display W&B run</button><iframe src='https://wandb.ai/team-bioinf/precursor_charge_prediction_new/runs/nxa0jz5f?jupyter=true' style='border:none;width:100%;height:420px;display:none;'></iframe>",
      "text/plain": "<wandb.sdk.wandb_run.Run at 0x1f3a2087c50>"
     },
     "execution_count": 3,
     "metadata": {},
     "output_type": "execute_result"
    }
   ],
   "source": [
    "wandb.init(project='precursor_charge_prediction_new')"
   ],
   "metadata": {
    "collapsed": false,
    "ExecuteTime": {
     "end_time": "2023-08-21T09:47:11.486349900Z",
     "start_time": "2023-08-21T09:47:07.501479400Z"
    }
   }
  },
  {
   "cell_type": "markdown",
   "source": [],
   "metadata": {
    "collapsed": false
   }
  },
  {
   "cell_type": "markdown",
   "source": [],
   "metadata": {
    "collapsed": false
   }
  },
  {
   "cell_type": "markdown",
   "source": [
    "## Setup"
   ],
   "metadata": {
    "collapsed": false
   }
  },
  {
   "cell_type": "code",
   "execution_count": null,
   "outputs": [],
   "source": [
    "#%pip install seaborn"
   ],
   "metadata": {
    "collapsed": false
   }
  },
  {
   "cell_type": "code",
   "execution_count": 4,
   "outputs": [],
   "source": [
    "import re\n",
    "import os\n",
    "import random\n",
    "import numpy as np\n",
    "import pandas as pd\n",
    "import tensorflow as tf\n",
    "import matplotlib.pyplot as plt\n",
    "from sklearn.model_selection import train_test_split\n",
    "from tensorflow.keras.callbacks import ModelCheckpoint\n",
    "from sklearn.utils import class_weight\n",
    "from sklearn.model_selection import StratifiedShuffleSplit\n",
    "from sklearn.metrics import confusion_matrix, classification_report\n",
    "import seaborn as sns\n",
    "import wandb\n",
    "from wandb.keras import WandbCallback\n",
    "import keras"
   ],
   "metadata": {
    "collapsed": false,
    "ExecuteTime": {
     "end_time": "2023-08-21T09:47:15.732360900Z",
     "start_time": "2023-08-21T09:47:15.587205200Z"
    }
   }
  },
  {
   "cell_type": "code",
   "execution_count": 5,
   "outputs": [],
   "source": [
    "train_datapath = [\"data/\"+file for file in os.listdir('data') if file.endswith(\".parquet\")][0]\n",
    "batch_size = 32"
   ],
   "metadata": {
    "collapsed": false,
    "ExecuteTime": {
     "end_time": "2023-08-21T09:47:17.719920300Z",
     "start_time": "2023-08-21T09:47:17.675589600Z"
    }
   }
  },
  {
   "cell_type": "markdown",
   "source": [
    "# Dataset batches + split"
   ],
   "metadata": {
    "collapsed": false
   }
  },
  {
   "cell_type": "code",
   "execution_count": 6,
   "outputs": [],
   "source": [
    "import re\n",
    "\n",
    "def one_hot_precursor(int_value, charges=[1,2,3,4,5,6]):\n",
    "    \"\"\"\n",
    "    One-hot encodes the precursor charge\n",
    "    :param df: dataframe\n",
    "    :param max_charge_included: int\n",
    "    :return: dataframe\n",
    "    \"\"\"\n",
    "    one_hot = [1 if x == int_value else 0 for x in charges]\n",
    "\n",
    "    return one_hot"
   ],
   "metadata": {
    "collapsed": false,
    "ExecuteTime": {
     "end_time": "2023-08-21T09:47:19.654652600Z",
     "start_time": "2023-08-21T09:47:19.586276100Z"
    }
   }
  },
  {
   "cell_type": "code",
   "execution_count": 8,
   "outputs": [
    {
     "name": "stdout",
     "output_type": "stream",
     "text": [
      "data/Thermo_SRM_Pool_meta_data.parquet\n"
     ]
    }
   ],
   "source": [
    "file_list = [\"data/\"+file for file in os.listdir('data') if file.endswith('.parquet')]\n",
    "print(file_list[0])"
   ],
   "metadata": {
    "collapsed": false,
    "ExecuteTime": {
     "end_time": "2023-08-21T09:47:35.357909900Z",
     "start_time": "2023-08-21T09:47:35.295777200Z"
    }
   }
  },
  {
   "cell_type": "markdown",
   "source": [
    "### import parquet files, drop all columns we dont need for training, one-hot encode precursor charge, translate sequence"
   ],
   "metadata": {
    "collapsed": false
   }
  },
  {
   "cell_type": "code",
   "execution_count": 9,
   "outputs": [],
   "source": [
    "batches_parquet = dict()\n",
    "counter = 0\n",
    "for file in file_list:\n",
    "    df = pd.read_parquet(file, engine='fastparquet')\n",
    "    # drop all columns we dont need for training\n",
    "    for column in df.columns:\n",
    "        if column not in [\"modified_sequence\",\"precursor_intensity\", \"precursor_charge\"]:\n",
    "            df.drop(column, axis=1, inplace=True)\n",
    "    charge_ranges = [1, 2, 3, 4, 5, 6] # TODO SET RANGES\n",
    "    df = df[df[\"precursor_charge\"].isin(charge_ranges)] # remove 7+ charge states // only take charge states 2,3,4\n",
    "    df = df.dropna(subset=['precursor_intensity']) # drop rows with no precursor intensity\n",
    "    batches_parquet[file] = df\n",
    "    counter += 1\n",
    "    #if counter > 1:\n",
    "    #    break # TODO REMOVE BREAK FOR FIRST FILE IN LIST"
   ],
   "metadata": {
    "collapsed": false,
    "ExecuteTime": {
     "end_time": "2023-08-21T09:48:35.712705800Z",
     "start_time": "2023-08-21T09:47:40.797651900Z"
    }
   }
  },
  {
   "cell_type": "code",
   "execution_count": 10,
   "outputs": [],
   "source": [
    "vocabulary = []\n",
    "vocabulary+=list('XACDEFGHIKLMNPQRSTVWY')\n",
    "max_len_seq = 0\n",
    "\n",
    "for df in batches_parquet.values():\n",
    "    if max_len_seq < df['modified_sequence'].str.len().max():\n",
    "        max_len_seq = df['modified_sequence'].str.len().max()\n",
    "    annotations = re.findall(r'(\\w\\[UNIMOD:\\d+\\])', ' '.join(df['modified_sequence']))\n",
    "    #annotations = re.findall(r'[A-Z]\\[[^\\]]*\\]|.', ' '.join(df['modified_sequence']))\n",
    "    for item in annotations:\n",
    "        if item not in vocabulary:\n",
    "                vocabulary.append(item)"
   ],
   "metadata": {
    "collapsed": false,
    "ExecuteTime": {
     "end_time": "2023-08-21T09:49:24.573052100Z",
     "start_time": "2023-08-21T09:48:35.714706400Z"
    }
   }
  },
  {
   "cell_type": "code",
   "execution_count": 87,
   "outputs": [
    {
     "name": "stdout",
     "output_type": "stream",
     "text": [
      "['X', 'A', 'C', 'D', 'E', 'F', 'G', 'H', 'I', 'K', 'L', 'M', 'N', 'P', 'Q', 'R', 'S', 'T', 'V', 'W', 'Y', 'C[UNIMOD:4]', 'M[UNIMOD:35]']\n"
     ]
    },
    {
     "data": {
      "text/plain": "23"
     },
     "execution_count": 87,
     "metadata": {},
     "output_type": "execute_result"
    }
   ],
   "source": [
    "print(vocabulary)\n",
    "voc_len = len(vocabulary)\n",
    "voc_len"
   ],
   "metadata": {
    "collapsed": false,
    "ExecuteTime": {
     "end_time": "2023-08-21T10:04:35.102305500Z",
     "start_time": "2023-08-21T10:04:35.023168100Z"
    }
   }
  },
  {
   "cell_type": "code",
   "execution_count": 12,
   "outputs": [
    {
     "name": "stdout",
     "output_type": "stream",
     "text": [
      "[1, 1, 21, 10, 10, 18, 1, 19, 0, 0, 0, 0, 0, 0, 0, 0, 0, 0, 0, 0, 0, 0, 0, 0, 0, 0, 0, 0, 0, 0, 0, 0, 0, 0, 0, 0, 0, 0, 0, 0, 0, 0, 0, 0, 0, 0, 0, 0, 0, 0, 0, 0, 0, 0, 0, 0, 0, 0, 0, 0, 0, 0, 0, 0, 0, 0, 0, 0, 0, 0, 0, 0, 0, 0, 0, 0, 0, 0, 0, 0, 0, 0, 0, 0, 0, 0, 0, 0, 0, 0, 0, 0, 0, 0, 0, 0, 0, 0, 0, 0, 0, 0, 0, 0, 0, 0, 0, 0, 0, 0, 0, 0, 0, 0, 0, 0, 0, 0, 0, 0, 0, 0, 0, 0, 0]\n"
     ]
    }
   ],
   "source": [
    "print(seq_translator('AAC[UNIMOD:4]LLVAW', print_result=False))"
   ],
   "metadata": {
    "collapsed": false,
    "ExecuteTime": {
     "end_time": "2023-08-21T09:49:24.592907300Z",
     "start_time": "2023-08-21T09:49:24.578795300Z"
    }
   }
  },
  {
   "cell_type": "code",
   "execution_count": 13,
   "outputs": [],
   "source": [
    "num_classes = len(charge_ranges)\n",
    "class_names = charge_ranges"
   ],
   "metadata": {
    "collapsed": false,
    "ExecuteTime": {
     "end_time": "2023-08-21T09:49:24.592907300Z",
     "start_time": "2023-08-21T09:49:24.586652400Z"
    }
   }
  },
  {
   "cell_type": "code",
   "execution_count": 14,
   "outputs": [
    {
     "data": {
      "text/plain": "      modified_sequence  precursor_charge  precursor_intensity\n0  LPGSLETYVEQEQGENANDR                 2           29525630.0\n1       HGSLQEYLQNDTGSK                 2           13188580.0\n2        VEEEEEINSELTAR                 2           20663460.0\n3  LPGSLETYVEQEQGENANDR                 2           19884630.0\n4  NSSTAEINETTTSSTDFLAR                 2           12804420.0",
      "text/html": "<div>\n<style scoped>\n    .dataframe tbody tr th:only-of-type {\n        vertical-align: middle;\n    }\n\n    .dataframe tbody tr th {\n        vertical-align: top;\n    }\n\n    .dataframe thead th {\n        text-align: right;\n    }\n</style>\n<table border=\"1\" class=\"dataframe\">\n  <thead>\n    <tr style=\"text-align: right;\">\n      <th></th>\n      <th>modified_sequence</th>\n      <th>precursor_charge</th>\n      <th>precursor_intensity</th>\n    </tr>\n  </thead>\n  <tbody>\n    <tr>\n      <th>0</th>\n      <td>LPGSLETYVEQEQGENANDR</td>\n      <td>2</td>\n      <td>29525630.0</td>\n    </tr>\n    <tr>\n      <th>1</th>\n      <td>HGSLQEYLQNDTGSK</td>\n      <td>2</td>\n      <td>13188580.0</td>\n    </tr>\n    <tr>\n      <th>2</th>\n      <td>VEEEEEINSELTAR</td>\n      <td>2</td>\n      <td>20663460.0</td>\n    </tr>\n    <tr>\n      <th>3</th>\n      <td>LPGSLETYVEQEQGENANDR</td>\n      <td>2</td>\n      <td>19884630.0</td>\n    </tr>\n    <tr>\n      <th>4</th>\n      <td>NSSTAEINETTTSSTDFLAR</td>\n      <td>2</td>\n      <td>12804420.0</td>\n    </tr>\n  </tbody>\n</table>\n</div>"
     },
     "execution_count": 14,
     "metadata": {},
     "output_type": "execute_result"
    }
   ],
   "source": [
    "batches_parquet[file_list[0]].head()"
   ],
   "metadata": {
    "collapsed": false,
    "ExecuteTime": {
     "end_time": "2023-08-21T09:49:24.809976500Z",
     "start_time": "2023-08-21T09:49:24.593906800Z"
    }
   }
  },
  {
   "cell_type": "code",
   "execution_count": 15,
   "outputs": [
    {
     "data": {
      "text/plain": "['data/Thermo_SRM_Pool_meta_data.parquet',\n 'data/TUM_aspn_meta_data.parquet',\n 'data/TUM_first_pool_meta_data.parquet',\n 'data/TUM_HLA2_meta_data.parquet',\n 'data/TUM_HLA_meta_data.parquet',\n 'data/TUM_isoform_meta_data.parquet',\n 'data/TUM_lysn_meta_data.parquet',\n 'data/TUM_missing_first_meta_data.parquet',\n 'data/TUM_proteo_TMT_meta_data.parquet',\n 'data/TUM_second_addon_meta_data.parquet',\n 'data/TUM_second_pool_meta_data.parquet',\n 'data/TUM_third_pool_meta_data.parquet']"
     },
     "execution_count": 15,
     "metadata": {},
     "output_type": "execute_result"
    }
   ],
   "source": [
    "file_list"
   ],
   "metadata": {
    "collapsed": false,
    "ExecuteTime": {
     "end_time": "2023-08-21T09:49:24.841044300Z",
     "start_time": "2023-08-21T09:49:24.608940300Z"
    }
   }
  },
  {
   "cell_type": "code",
   "execution_count": 16,
   "outputs": [
    {
     "data": {
      "text/plain": "2    4331294\n3    1523398\n4     115577\n5       2723\n1       1022\n6        143\nName: precursor_charge, dtype: int64"
     },
     "execution_count": 16,
     "metadata": {},
     "output_type": "execute_result"
    }
   ],
   "source": [
    "batches_parquet[file_list[0]][\"precursor_charge\"].value_counts()"
   ],
   "metadata": {
    "collapsed": false,
    "ExecuteTime": {
     "end_time": "2023-08-21T09:49:24.862937400Z",
     "start_time": "2023-08-21T09:49:24.613471100Z"
    }
   }
  },
  {
   "cell_type": "markdown",
   "source": [
    "# Normalisieren:"
   ],
   "metadata": {
    "collapsed": false
   }
  },
  {
   "cell_type": "code",
   "execution_count": 17,
   "outputs": [],
   "source": [
    "def normalize_for_most_abundant(df_charge_list, df_intensity_list):\n",
    "    # Get the index of the most abundant precursor intensity\n",
    "    charge_dict = dict()\n",
    "    for index, i in enumerate(df_charge_list):\n",
    "        charge_dict[i] = []\n",
    "        charge_dict[i].append(df_intensity_list[index])\n",
    "\n",
    "    # Normalize the precursor intensity based on the most abundant precursor intensity\n",
    "    for key, value in charge_dict.items():\n",
    "        if len(value) > 1:\n",
    "         charge_dict[key] = sum(value) - min(value) / (max(value) - min(value))\n",
    "\n",
    "    # convert list of one float to float values\n",
    "    charge_dict = {key: value[0] for key, value in charge_dict.items()}\n",
    "\n",
    "    return charge_dict"
   ],
   "metadata": {
    "collapsed": false,
    "ExecuteTime": {
     "end_time": "2023-08-21T09:49:24.863939100Z",
     "start_time": "2023-08-21T09:49:24.652563400Z"
    }
   }
  },
  {
   "cell_type": "code",
   "execution_count": 18,
   "outputs": [],
   "source": [
    "def get_most_abundant(df_charge_list, df_intensity_list, distributions=False):\n",
    "    # Get the index of the most abundant precursor intensity\n",
    "    charge_dict = dict()\n",
    "    for index, i in enumerate(df_charge_list):\n",
    "        if i not in charge_dict:\n",
    "            charge_dict[i] = df_intensity_list[index]\n",
    "        else:\n",
    "            charge_dict[i] += df_intensity_list[index]\n",
    "    if distributions:\n",
    "        #print(charge_dict)\n",
    "        return charge_dict\n",
    "    else:\n",
    "        return max(charge_dict, key=charge_dict.get)\n"
   ],
   "metadata": {
    "collapsed": false,
    "ExecuteTime": {
     "end_time": "2023-08-21T09:49:24.863939100Z",
     "start_time": "2023-08-21T09:49:24.661053800Z"
    }
   }
  },
  {
   "cell_type": "code",
   "execution_count": 19,
   "outputs": [
    {
     "name": "stderr",
     "output_type": "stream",
     "text": [
      "C:\\Users\\micro\\AppData\\Local\\Temp\\ipykernel_27784\\2139590162.py:4: FutureWarning: Indexing with multiple keys (implicitly converted to a tuple of keys) will be deprecated, use a list instead.\n",
      "  df_dict[file] = batches_parquet[file].groupby(\"modified_sequence\")[\"precursor_charge\", \"precursor_intensity\"].agg(list).reset_index()\n",
      "C:\\Users\\micro\\AppData\\Local\\Temp\\ipykernel_27784\\2139590162.py:4: FutureWarning: Indexing with multiple keys (implicitly converted to a tuple of keys) will be deprecated, use a list instead.\n",
      "  df_dict[file] = batches_parquet[file].groupby(\"modified_sequence\")[\"precursor_charge\", \"precursor_intensity\"].agg(list).reset_index()\n",
      "C:\\Users\\micro\\AppData\\Local\\Temp\\ipykernel_27784\\2139590162.py:4: FutureWarning: Indexing with multiple keys (implicitly converted to a tuple of keys) will be deprecated, use a list instead.\n",
      "  df_dict[file] = batches_parquet[file].groupby(\"modified_sequence\")[\"precursor_charge\", \"precursor_intensity\"].agg(list).reset_index()\n",
      "C:\\Users\\micro\\AppData\\Local\\Temp\\ipykernel_27784\\2139590162.py:4: FutureWarning: Indexing with multiple keys (implicitly converted to a tuple of keys) will be deprecated, use a list instead.\n",
      "  df_dict[file] = batches_parquet[file].groupby(\"modified_sequence\")[\"precursor_charge\", \"precursor_intensity\"].agg(list).reset_index()\n",
      "C:\\Users\\micro\\AppData\\Local\\Temp\\ipykernel_27784\\2139590162.py:4: FutureWarning: Indexing with multiple keys (implicitly converted to a tuple of keys) will be deprecated, use a list instead.\n",
      "  df_dict[file] = batches_parquet[file].groupby(\"modified_sequence\")[\"precursor_charge\", \"precursor_intensity\"].agg(list).reset_index()\n",
      "C:\\Users\\micro\\AppData\\Local\\Temp\\ipykernel_27784\\2139590162.py:4: FutureWarning: Indexing with multiple keys (implicitly converted to a tuple of keys) will be deprecated, use a list instead.\n",
      "  df_dict[file] = batches_parquet[file].groupby(\"modified_sequence\")[\"precursor_charge\", \"precursor_intensity\"].agg(list).reset_index()\n",
      "C:\\Users\\micro\\AppData\\Local\\Temp\\ipykernel_27784\\2139590162.py:4: FutureWarning: Indexing with multiple keys (implicitly converted to a tuple of keys) will be deprecated, use a list instead.\n",
      "  df_dict[file] = batches_parquet[file].groupby(\"modified_sequence\")[\"precursor_charge\", \"precursor_intensity\"].agg(list).reset_index()\n",
      "C:\\Users\\micro\\AppData\\Local\\Temp\\ipykernel_27784\\2139590162.py:4: FutureWarning: Indexing with multiple keys (implicitly converted to a tuple of keys) will be deprecated, use a list instead.\n",
      "  df_dict[file] = batches_parquet[file].groupby(\"modified_sequence\")[\"precursor_charge\", \"precursor_intensity\"].agg(list).reset_index()\n",
      "C:\\Users\\micro\\AppData\\Local\\Temp\\ipykernel_27784\\2139590162.py:4: FutureWarning: Indexing with multiple keys (implicitly converted to a tuple of keys) will be deprecated, use a list instead.\n",
      "  df_dict[file] = batches_parquet[file].groupby(\"modified_sequence\")[\"precursor_charge\", \"precursor_intensity\"].agg(list).reset_index()\n",
      "C:\\Users\\micro\\AppData\\Local\\Temp\\ipykernel_27784\\2139590162.py:4: FutureWarning: Indexing with multiple keys (implicitly converted to a tuple of keys) will be deprecated, use a list instead.\n",
      "  df_dict[file] = batches_parquet[file].groupby(\"modified_sequence\")[\"precursor_charge\", \"precursor_intensity\"].agg(list).reset_index()\n",
      "C:\\Users\\micro\\AppData\\Local\\Temp\\ipykernel_27784\\2139590162.py:4: FutureWarning: Indexing with multiple keys (implicitly converted to a tuple of keys) will be deprecated, use a list instead.\n",
      "  df_dict[file] = batches_parquet[file].groupby(\"modified_sequence\")[\"precursor_charge\", \"precursor_intensity\"].agg(list).reset_index()\n",
      "C:\\Users\\micro\\AppData\\Local\\Temp\\ipykernel_27784\\2139590162.py:4: FutureWarning: Indexing with multiple keys (implicitly converted to a tuple of keys) will be deprecated, use a list instead.\n",
      "  df_dict[file] = batches_parquet[file].groupby(\"modified_sequence\")[\"precursor_charge\", \"precursor_intensity\"].agg(list).reset_index()\n"
     ]
    }
   ],
   "source": [
    "# load all parquets into df\n",
    "df_dict = dict()\n",
    "for file in file_list:\n",
    "    df_dict[file] = batches_parquet[file].groupby(\"modified_sequence\")[\"precursor_charge\", \"precursor_intensity\"].agg(list).reset_index()"
   ],
   "metadata": {
    "collapsed": false,
    "ExecuteTime": {
     "end_time": "2023-08-21T09:50:10.138292200Z",
     "start_time": "2023-08-21T09:49:24.667715900Z"
    }
   }
  },
  {
   "cell_type": "markdown",
   "source": [
    "# init merged_df"
   ],
   "metadata": {
    "collapsed": false
   }
  },
  {
   "cell_type": "code",
   "execution_count": 95,
   "outputs": [
    {
     "name": "stderr",
     "output_type": "stream",
     "text": [
      "C:\\Users\\micro\\AppData\\Local\\Temp\\ipykernel_27784\\1215419649.py:1: FutureWarning: Indexing with multiple keys (implicitly converted to a tuple of keys) will be deprecated, use a list instead.\n",
      "  merged_df = pd.concat(list(df_dict.values())).groupby(\"modified_sequence\")[\"precursor_charge\", \"precursor_intensity\"].sum().reset_index()\n"
     ]
    }
   ],
   "source": [
    "merged_df = pd.concat(list(df_dict.values())).groupby(\"modified_sequence\")[\"precursor_charge\", \"precursor_intensity\"].sum().reset_index()"
   ],
   "metadata": {
    "collapsed": false,
    "ExecuteTime": {
     "end_time": "2023-08-21T10:07:00.938055500Z",
     "start_time": "2023-08-21T10:06:57.701515Z"
    }
   }
  },
  {
   "cell_type": "code",
   "execution_count": 96,
   "outputs": [],
   "source": [
    "merged_df['seq_len_prepadding'] = merged_df['modified_sequence'].apply(lambda x: len(x))"
   ],
   "metadata": {
    "collapsed": false,
    "ExecuteTime": {
     "end_time": "2023-08-21T10:07:02.267661700Z",
     "start_time": "2023-08-21T10:07:01.918916800Z"
    }
   }
  },
  {
   "cell_type": "code",
   "execution_count": 97,
   "outputs": [
    {
     "data": {
      "text/plain": "87     9\n82     8\n85     7\n89     6\n90     5\n107    4\n97     4\n95     4\n92     4\n83     3\n86     3\n98     3\n91     2\n84     2\n93     2\n88     2\n96     2\n110    2\n105    1\n104    1\n102    1\n94     1\n103    1\n115    1\n99     1\n125    1\n108    1\nName: seq_len_prepadding, dtype: int64"
     },
     "execution_count": 97,
     "metadata": {},
     "output_type": "execute_result"
    }
   ],
   "source": [
    "len_counts = merged_df['seq_len_prepadding'].value_counts()\n",
    "seq_too_long = len_counts[len_counts <= 10]\n",
    "seq_too_long"
   ],
   "metadata": {
    "collapsed": false,
    "ExecuteTime": {
     "end_time": "2023-08-21T10:07:04.001781200Z",
     "start_time": "2023-08-21T10:07:03.918748100Z"
    }
   }
  },
  {
   "cell_type": "code",
   "execution_count": 98,
   "outputs": [
    {
     "data": {
      "text/plain": "    seq_len  count\n0        50   1087\n1        51    764\n2        52    595\n3        53    426\n4        56    385\n5        57    385\n6        55    382\n7        58    373\n8        54    366\n9        59    290\n10       60    245\n11       61    199\n12       62    140\n13       63    105\n14       67     86\n15       66     81\n16       65     78\n17       64     78\n18       68     72\n19       69     69\n20       70     67\n21       71     34\n22       72     31\n23       75     26\n24       77     21\n25       74     21\n26       78     21\n27       73     18\n28       81     17\n29       79     16\n30       80     15\n31       76     13\n32      100     12\n33       87      9\n34       82      8\n35       85      7\n36       89      6\n37       90      5\n38      107      4\n39       97      4\n40       95      4\n41       92      4\n42       83      3\n43       86      3\n44       98      3\n45       91      2\n46       84      2\n47       93      2\n48       88      2\n49       96      2\n50      110      2\n51      105      1\n52      104      1\n53      102      1\n54       94      1\n55      103      1\n56      115      1\n57       99      1\n58      125      1\n59      108      1",
      "text/html": "<div>\n<style scoped>\n    .dataframe tbody tr th:only-of-type {\n        vertical-align: middle;\n    }\n\n    .dataframe tbody tr th {\n        vertical-align: top;\n    }\n\n    .dataframe thead th {\n        text-align: right;\n    }\n</style>\n<table border=\"1\" class=\"dataframe\">\n  <thead>\n    <tr style=\"text-align: right;\">\n      <th></th>\n      <th>seq_len</th>\n      <th>count</th>\n    </tr>\n  </thead>\n  <tbody>\n    <tr>\n      <th>0</th>\n      <td>50</td>\n      <td>1087</td>\n    </tr>\n    <tr>\n      <th>1</th>\n      <td>51</td>\n      <td>764</td>\n    </tr>\n    <tr>\n      <th>2</th>\n      <td>52</td>\n      <td>595</td>\n    </tr>\n    <tr>\n      <th>3</th>\n      <td>53</td>\n      <td>426</td>\n    </tr>\n    <tr>\n      <th>4</th>\n      <td>56</td>\n      <td>385</td>\n    </tr>\n    <tr>\n      <th>5</th>\n      <td>57</td>\n      <td>385</td>\n    </tr>\n    <tr>\n      <th>6</th>\n      <td>55</td>\n      <td>382</td>\n    </tr>\n    <tr>\n      <th>7</th>\n      <td>58</td>\n      <td>373</td>\n    </tr>\n    <tr>\n      <th>8</th>\n      <td>54</td>\n      <td>366</td>\n    </tr>\n    <tr>\n      <th>9</th>\n      <td>59</td>\n      <td>290</td>\n    </tr>\n    <tr>\n      <th>10</th>\n      <td>60</td>\n      <td>245</td>\n    </tr>\n    <tr>\n      <th>11</th>\n      <td>61</td>\n      <td>199</td>\n    </tr>\n    <tr>\n      <th>12</th>\n      <td>62</td>\n      <td>140</td>\n    </tr>\n    <tr>\n      <th>13</th>\n      <td>63</td>\n      <td>105</td>\n    </tr>\n    <tr>\n      <th>14</th>\n      <td>67</td>\n      <td>86</td>\n    </tr>\n    <tr>\n      <th>15</th>\n      <td>66</td>\n      <td>81</td>\n    </tr>\n    <tr>\n      <th>16</th>\n      <td>65</td>\n      <td>78</td>\n    </tr>\n    <tr>\n      <th>17</th>\n      <td>64</td>\n      <td>78</td>\n    </tr>\n    <tr>\n      <th>18</th>\n      <td>68</td>\n      <td>72</td>\n    </tr>\n    <tr>\n      <th>19</th>\n      <td>69</td>\n      <td>69</td>\n    </tr>\n    <tr>\n      <th>20</th>\n      <td>70</td>\n      <td>67</td>\n    </tr>\n    <tr>\n      <th>21</th>\n      <td>71</td>\n      <td>34</td>\n    </tr>\n    <tr>\n      <th>22</th>\n      <td>72</td>\n      <td>31</td>\n    </tr>\n    <tr>\n      <th>23</th>\n      <td>75</td>\n      <td>26</td>\n    </tr>\n    <tr>\n      <th>24</th>\n      <td>77</td>\n      <td>21</td>\n    </tr>\n    <tr>\n      <th>25</th>\n      <td>74</td>\n      <td>21</td>\n    </tr>\n    <tr>\n      <th>26</th>\n      <td>78</td>\n      <td>21</td>\n    </tr>\n    <tr>\n      <th>27</th>\n      <td>73</td>\n      <td>18</td>\n    </tr>\n    <tr>\n      <th>28</th>\n      <td>81</td>\n      <td>17</td>\n    </tr>\n    <tr>\n      <th>29</th>\n      <td>79</td>\n      <td>16</td>\n    </tr>\n    <tr>\n      <th>30</th>\n      <td>80</td>\n      <td>15</td>\n    </tr>\n    <tr>\n      <th>31</th>\n      <td>76</td>\n      <td>13</td>\n    </tr>\n    <tr>\n      <th>32</th>\n      <td>100</td>\n      <td>12</td>\n    </tr>\n    <tr>\n      <th>33</th>\n      <td>87</td>\n      <td>9</td>\n    </tr>\n    <tr>\n      <th>34</th>\n      <td>82</td>\n      <td>8</td>\n    </tr>\n    <tr>\n      <th>35</th>\n      <td>85</td>\n      <td>7</td>\n    </tr>\n    <tr>\n      <th>36</th>\n      <td>89</td>\n      <td>6</td>\n    </tr>\n    <tr>\n      <th>37</th>\n      <td>90</td>\n      <td>5</td>\n    </tr>\n    <tr>\n      <th>38</th>\n      <td>107</td>\n      <td>4</td>\n    </tr>\n    <tr>\n      <th>39</th>\n      <td>97</td>\n      <td>4</td>\n    </tr>\n    <tr>\n      <th>40</th>\n      <td>95</td>\n      <td>4</td>\n    </tr>\n    <tr>\n      <th>41</th>\n      <td>92</td>\n      <td>4</td>\n    </tr>\n    <tr>\n      <th>42</th>\n      <td>83</td>\n      <td>3</td>\n    </tr>\n    <tr>\n      <th>43</th>\n      <td>86</td>\n      <td>3</td>\n    </tr>\n    <tr>\n      <th>44</th>\n      <td>98</td>\n      <td>3</td>\n    </tr>\n    <tr>\n      <th>45</th>\n      <td>91</td>\n      <td>2</td>\n    </tr>\n    <tr>\n      <th>46</th>\n      <td>84</td>\n      <td>2</td>\n    </tr>\n    <tr>\n      <th>47</th>\n      <td>93</td>\n      <td>2</td>\n    </tr>\n    <tr>\n      <th>48</th>\n      <td>88</td>\n      <td>2</td>\n    </tr>\n    <tr>\n      <th>49</th>\n      <td>96</td>\n      <td>2</td>\n    </tr>\n    <tr>\n      <th>50</th>\n      <td>110</td>\n      <td>2</td>\n    </tr>\n    <tr>\n      <th>51</th>\n      <td>105</td>\n      <td>1</td>\n    </tr>\n    <tr>\n      <th>52</th>\n      <td>104</td>\n      <td>1</td>\n    </tr>\n    <tr>\n      <th>53</th>\n      <td>102</td>\n      <td>1</td>\n    </tr>\n    <tr>\n      <th>54</th>\n      <td>94</td>\n      <td>1</td>\n    </tr>\n    <tr>\n      <th>55</th>\n      <td>103</td>\n      <td>1</td>\n    </tr>\n    <tr>\n      <th>56</th>\n      <td>115</td>\n      <td>1</td>\n    </tr>\n    <tr>\n      <th>57</th>\n      <td>99</td>\n      <td>1</td>\n    </tr>\n    <tr>\n      <th>58</th>\n      <td>125</td>\n      <td>1</td>\n    </tr>\n    <tr>\n      <th>59</th>\n      <td>108</td>\n      <td>1</td>\n    </tr>\n  </tbody>\n</table>\n</div>"
     },
     "execution_count": 98,
     "metadata": {},
     "output_type": "execute_result"
    }
   ],
   "source": [
    "seq_lengths = merged_df['seq_len_prepadding'].value_counts().index.values, merged_df['seq_len_prepadding'].value_counts().values\n",
    "seq_too_long = pd.DataFrame()\n",
    "seq_too_long['seq_len'] = seq_lengths[0][seq_lengths[0] >= 50]\n",
    "seq_too_long['count'] = seq_lengths[1][seq_lengths[0] >= 50]\n",
    "seq_too_long"
   ],
   "metadata": {
    "collapsed": false,
    "ExecuteTime": {
     "end_time": "2023-08-21T10:07:30.892045600Z",
     "start_time": "2023-08-21T10:07:30.840252700Z"
    }
   }
  },
  {
   "cell_type": "code",
   "execution_count": 99,
   "outputs": [],
   "source": [
    "# give smallest seq_len when count <= 100\n",
    "seq_len_cutoff_df = seq_too_long[seq_too_long['count'] <= 100]\n",
    "seq_len_cutoff = min(seq_len_cutoff_df['seq_len'])"
   ],
   "metadata": {
    "collapsed": false,
    "ExecuteTime": {
     "end_time": "2023-08-21T10:07:35.081922700Z",
     "start_time": "2023-08-21T10:07:35.030176Z"
    }
   }
  },
  {
   "cell_type": "code",
   "execution_count": 100,
   "outputs": [
    {
     "data": {
      "text/plain": "64"
     },
     "execution_count": 100,
     "metadata": {},
     "output_type": "execute_result"
    }
   ],
   "source": [
    "seq_len_cutoff"
   ],
   "metadata": {
    "collapsed": false,
    "ExecuteTime": {
     "end_time": "2023-08-21T10:07:36.805970700Z",
     "start_time": "2023-08-21T10:07:36.751791700Z"
    }
   }
  },
  {
   "cell_type": "code",
   "execution_count": 101,
   "outputs": [],
   "source": [
    "# reapply max len\n",
    "max_len_seq = seq_len_cutoff-1"
   ],
   "metadata": {
    "collapsed": false,
    "ExecuteTime": {
     "end_time": "2023-08-21T10:07:50.148534300Z",
     "start_time": "2023-08-21T10:07:50.090446100Z"
    }
   }
  },
  {
   "cell_type": "code",
   "execution_count": 102,
   "outputs": [],
   "source": [
    "def seq_translator(sequence, dictionary=vocabulary, max_len=max_len_seq, print_result=False):\n",
    "    \"\"\"\n",
    "    Translates a sequence into a vector of integers\n",
    "    :param print_result:\n",
    "    :param max_len:\n",
    "    :param sequence: string\n",
    "    :param dictionary: dictionary\n",
    "    :return: list\n",
    "    \"\"\"\n",
    "    pattern = r'[A-Z]\\[[^\\]]*\\]|.' # regex pattern to match amino acids and modifications\n",
    "    #pattern = r'(\\w\\[UNIMOD:\\d+\\])' # regex pattern to match amino acids and modifications\n",
    "\n",
    "    result = [match for match in re.findall(pattern, sequence)]\n",
    "\n",
    "    # Fill the list with \"X\" characters until it reaches a length of 40\n",
    "    result += ['X'] * (max_len - len(result))\n",
    "    if print_result:\n",
    "        print(result)\n",
    "\n",
    "    aa_dictionary = dict()\n",
    "    for index, aa in enumerate(dictionary):\n",
    "        aa_dictionary[aa] = index\n",
    "\n",
    "    return [aa_dictionary[aa] for aa in result]"
   ],
   "metadata": {
    "collapsed": false,
    "ExecuteTime": {
     "end_time": "2023-08-21T10:07:51.893035300Z",
     "start_time": "2023-08-21T10:07:51.826433800Z"
    }
   }
  },
  {
   "cell_type": "code",
   "execution_count": 110,
   "outputs": [],
   "source": [
    "delete_a_row = True\n",
    "if delete_a_row:\n",
    "# delete row if seq_len_prepadding larger or equal to seq_len_cutoff\n",
    "    index_to_delete_seq = merged_df[merged_df['seq_len_prepadding'] >= seq_len_cutoff].index\n",
    "    merged_df.drop(index_to_delete_seq, inplace=True)"
   ],
   "metadata": {
    "collapsed": false,
    "ExecuteTime": {
     "end_time": "2023-08-21T10:10:42.587961600Z",
     "start_time": "2023-08-21T10:10:42.424316200Z"
    }
   }
  },
  {
   "cell_type": "code",
   "execution_count": 114,
   "outputs": [
    {
     "data": {
      "text/plain": "Empty DataFrame\nColumns: [modified_sequence, precursor_charge, precursor_intensity, seq_len_prepadding]\nIndex: []",
      "text/html": "<div>\n<style scoped>\n    .dataframe tbody tr th:only-of-type {\n        vertical-align: middle;\n    }\n\n    .dataframe tbody tr th {\n        vertical-align: top;\n    }\n\n    .dataframe thead th {\n        text-align: right;\n    }\n</style>\n<table border=\"1\" class=\"dataframe\">\n  <thead>\n    <tr style=\"text-align: right;\">\n      <th></th>\n      <th>modified_sequence</th>\n      <th>precursor_charge</th>\n      <th>precursor_intensity</th>\n      <th>seq_len_prepadding</th>\n    </tr>\n  </thead>\n  <tbody>\n  </tbody>\n</table>\n</div>"
     },
     "execution_count": 114,
     "metadata": {},
     "output_type": "execute_result"
    }
   ],
   "source": [
    "# output all sequences with seq_len_prepadding >= 50\n",
    "merged_df[merged_df['seq_len_prepadding'] >= seq_len_cutoff]"
   ],
   "metadata": {
    "collapsed": false,
    "ExecuteTime": {
     "end_time": "2023-08-21T10:11:29.964458900Z",
     "start_time": "2023-08-21T10:11:29.894831400Z"
    }
   }
  },
  {
   "cell_type": "code",
   "execution_count": 115,
   "outputs": [],
   "source": [
    "merged_df['normalized'] = merged_df.apply(lambda x: normalize_for_most_abundant(x[\"precursor_charge\"], x[\"precursor_intensity\"]), axis=1)"
   ],
   "metadata": {
    "collapsed": false,
    "ExecuteTime": {
     "end_time": "2023-08-21T10:11:44.628773500Z",
     "start_time": "2023-08-21T10:11:32.557839Z"
    }
   }
  },
  {
   "cell_type": "code",
   "execution_count": 116,
   "outputs": [],
   "source": [
    "merged_df['pre_normalization'] = merged_df.apply(lambda x: get_most_abundant(x[\"precursor_charge\"], x[\"precursor_intensity\"], True), axis=1)"
   ],
   "metadata": {
    "collapsed": false,
    "ExecuteTime": {
     "end_time": "2023-08-21T10:11:57.432952600Z",
     "start_time": "2023-08-21T10:11:44.629844400Z"
    }
   }
  },
  {
   "cell_type": "code",
   "execution_count": 117,
   "outputs": [],
   "source": [
    "# return key for max value in dict\n",
    "merged_df['most_abundant_charge'] = merged_df['normalized'].apply(lambda x: max(x, key=x.get))"
   ],
   "metadata": {
    "collapsed": false,
    "ExecuteTime": {
     "end_time": "2023-08-21T10:11:57.935552100Z",
     "start_time": "2023-08-21T10:11:57.433955100Z"
    }
   }
  },
  {
   "cell_type": "code",
   "execution_count": 118,
   "outputs": [],
   "source": [
    "merged_df[\"most_abundant_charge_vector\"] = merged_df[\"most_abundant_charge\"].apply(one_hot_precursor, args=(charge_ranges,))"
   ],
   "metadata": {
    "collapsed": false,
    "ExecuteTime": {
     "end_time": "2023-08-21T10:11:58.513725500Z",
     "start_time": "2023-08-21T10:11:57.936553200Z"
    }
   }
  },
  {
   "cell_type": "code",
   "execution_count": 119,
   "outputs": [],
   "source": [
    "merged_df[\"modified_sequence_vector\"] = merged_df[\"modified_sequence\"].apply(seq_translator)"
   ],
   "metadata": {
    "collapsed": false,
    "ExecuteTime": {
     "end_time": "2023-08-21T10:12:08.161707900Z",
     "start_time": "2023-08-21T10:11:58.515729600Z"
    }
   }
  },
  {
   "cell_type": "code",
   "execution_count": 120,
   "outputs": [
    {
     "data": {
      "text/plain": "             modified_sequence  \\\n0       AAAAAAAAAAAAAAAAGLGLGP   \n1        AAAAAAAAAAAAAAAASAGGK   \n2       AAAAAAAAAAAAAAAGAGAGAK   \n3   AAAAAAAAAAAAAAASGFAYPGTSER   \n4              AAAAAAAAAAAAAAG   \n5            AAAAAAAAAAAAAAGAG   \n6       AAAAAAAAAAAAAAGGLALGLH   \n7          AAAAAAAAAAAAAAVTSGV   \n8             AAAAAAAAAAAAAGAG   \n9               AAAAAAAAAAAAAK   \n10            AAAAAAAAAAAAHLPS   \n\n                                     precursor_charge  \\\n0   [2, 3, 2, 1, 1, 2, 2, 2, 2, 2, 2, 3, 3, 3, 3, ...   \n1       [2, 2, 2, 2, 2, 2, 2, 2, 2, 2, 2, 2, 2, 2, 2]   \n2                                        [2, 2, 2, 2]   \n3   [2, 2, 2, 2, 2, 2, 2, 2, 2, 2, 2, 2, 2, 2, 2, ...   \n4   [1, 1, 1, 1, 1, 1, 1, 1, 1, 1, 1, 1, 1, 1, 1, ...   \n5   [1, 1, 1, 1, 1, 1, 1, 1, 1, 1, 1, 1, 1, 1, 1, ...   \n6   [2, 2, 2, 2, 2, 2, 2, 2, 2, 2, 2, 2, 2, 2, 2, ...   \n7   [2, 2, 2, 2, 2, 2, 2, 2, 2, 2, 2, 2, 2, 2, 2, ...   \n8   [1, 2, 1, 1, 1, 1, 1, 2, 2, 2, 2, 2, 2, 2, 1, ...   \n9   [1, 2, 2, 2, 2, 2, 1, 1, 1, 2, 2, 1, 1, 2, 2, ...   \n10  [2, 2, 2, 2, 2, 2, 2, 2, 2, 2, 2, 2, 2, 2, 2, ...   \n\n                                  precursor_intensity  seq_len_prepadding  \\\n0   [12746190.0, 2009914.0, 12746190.0, 791369.9, ...                  22   \n1   [5944787.0, 5944787.0, 8502878.0, 6425294.0, 8...                  21   \n2        [3067981.0, 3067981.0, 3067981.0, 3067981.0]                  22   \n3   [11913300.0, 11913300.0, 11913300.0, 11913300....                  26   \n4   [1573785.0, 4638296.0, 7934979.0, 2019978.0, 4...                  15   \n5   [853119.3, 4332449.0, 3688977.0, 3469130.0, 33...                  17   \n6   [33516080.0, 33516080.0, 8522070.0, 4549188.0,...                  22   \n7   [4576179.0, 3336856.0, 4954145.0, 4317804.0, 3...                  19   \n8   [1233316.0, 2671238.0, 11414430.0, 13683660.0,...                  16   \n9   [2540360.0, 31115000.0, 31115000.0, 70371250.0...                  14   \n10  [27030420.0, 22099630.0, 71770480.0, 22099630....                  16   \n\n                                  normalized  \\\n0   {2: 588796.3, 3: 4654280.0, 1: 791369.9}   \n1                              {2: 303307.5}   \n2                             {2: 3067981.0}   \n3               {2: 8093413.0, 3: 1414907.0}   \n4                             {1: 1124818.0}   \n5                              {1: 679216.3}   \n6                              {2: 365943.3}   \n7              {2: 14611910.0, 1: 1211272.0}   \n8               {1: 1879604.0, 2: 2586197.0}   \n9              {1: 8372130.0, 2: 15308280.0}   \n10                            {2: 5810305.0}   \n\n                                 pre_normalization  most_abundant_charge  \\\n0   {2: 1043873837.3, 3: 30130627.0, 1: 1582739.8}                     3   \n1                                 {2: 107202221.5}                     2   \n2                                  {2: 12271924.0}                     2   \n3                   {2: 148659685.0, 3: 4244721.0}                     2   \n4                           {1: 546950229.4000001}                     1   \n5                                  {1: 52634067.9}                     1   \n6                           {2: 6848110396.300002}                     2   \n7            {2: 225462597.40000004, 1: 5840742.2}                     2   \n8                 {1: 349665943.5, 2: 228379326.3}                     2   \n9                 {1: 99493666.2, 2: 6574531120.0}                     2   \n10                               {2: 9446767331.0}                     2   \n\n   most_abundant_charge_vector  \\\n0           [0, 0, 1, 0, 0, 0]   \n1           [0, 1, 0, 0, 0, 0]   \n2           [0, 1, 0, 0, 0, 0]   \n3           [0, 1, 0, 0, 0, 0]   \n4           [1, 0, 0, 0, 0, 0]   \n5           [1, 0, 0, 0, 0, 0]   \n6           [0, 1, 0, 0, 0, 0]   \n7           [0, 1, 0, 0, 0, 0]   \n8           [0, 1, 0, 0, 0, 0]   \n9           [0, 1, 0, 0, 0, 0]   \n10          [0, 1, 0, 0, 0, 0]   \n\n                             modified_sequence_vector  \n0   [1, 1, 1, 1, 1, 1, 1, 1, 1, 1, 1, 1, 1, 1, 1, ...  \n1   [1, 1, 1, 1, 1, 1, 1, 1, 1, 1, 1, 1, 1, 1, 1, ...  \n2   [1, 1, 1, 1, 1, 1, 1, 1, 1, 1, 1, 1, 1, 1, 1, ...  \n3   [1, 1, 1, 1, 1, 1, 1, 1, 1, 1, 1, 1, 1, 1, 1, ...  \n4   [1, 1, 1, 1, 1, 1, 1, 1, 1, 1, 1, 1, 1, 1, 6, ...  \n5   [1, 1, 1, 1, 1, 1, 1, 1, 1, 1, 1, 1, 1, 1, 6, ...  \n6   [1, 1, 1, 1, 1, 1, 1, 1, 1, 1, 1, 1, 1, 1, 6, ...  \n7   [1, 1, 1, 1, 1, 1, 1, 1, 1, 1, 1, 1, 1, 1, 18,...  \n8   [1, 1, 1, 1, 1, 1, 1, 1, 1, 1, 1, 1, 1, 6, 1, ...  \n9   [1, 1, 1, 1, 1, 1, 1, 1, 1, 1, 1, 1, 1, 9, 0, ...  \n10  [1, 1, 1, 1, 1, 1, 1, 1, 1, 1, 1, 1, 7, 10, 13...  ",
      "text/html": "<div>\n<style scoped>\n    .dataframe tbody tr th:only-of-type {\n        vertical-align: middle;\n    }\n\n    .dataframe tbody tr th {\n        vertical-align: top;\n    }\n\n    .dataframe thead th {\n        text-align: right;\n    }\n</style>\n<table border=\"1\" class=\"dataframe\">\n  <thead>\n    <tr style=\"text-align: right;\">\n      <th></th>\n      <th>modified_sequence</th>\n      <th>precursor_charge</th>\n      <th>precursor_intensity</th>\n      <th>seq_len_prepadding</th>\n      <th>normalized</th>\n      <th>pre_normalization</th>\n      <th>most_abundant_charge</th>\n      <th>most_abundant_charge_vector</th>\n      <th>modified_sequence_vector</th>\n    </tr>\n  </thead>\n  <tbody>\n    <tr>\n      <th>0</th>\n      <td>AAAAAAAAAAAAAAAAGLGLGP</td>\n      <td>[2, 3, 2, 1, 1, 2, 2, 2, 2, 2, 2, 3, 3, 3, 3, ...</td>\n      <td>[12746190.0, 2009914.0, 12746190.0, 791369.9, ...</td>\n      <td>22</td>\n      <td>{2: 588796.3, 3: 4654280.0, 1: 791369.9}</td>\n      <td>{2: 1043873837.3, 3: 30130627.0, 1: 1582739.8}</td>\n      <td>3</td>\n      <td>[0, 0, 1, 0, 0, 0]</td>\n      <td>[1, 1, 1, 1, 1, 1, 1, 1, 1, 1, 1, 1, 1, 1, 1, ...</td>\n    </tr>\n    <tr>\n      <th>1</th>\n      <td>AAAAAAAAAAAAAAAASAGGK</td>\n      <td>[2, 2, 2, 2, 2, 2, 2, 2, 2, 2, 2, 2, 2, 2, 2]</td>\n      <td>[5944787.0, 5944787.0, 8502878.0, 6425294.0, 8...</td>\n      <td>21</td>\n      <td>{2: 303307.5}</td>\n      <td>{2: 107202221.5}</td>\n      <td>2</td>\n      <td>[0, 1, 0, 0, 0, 0]</td>\n      <td>[1, 1, 1, 1, 1, 1, 1, 1, 1, 1, 1, 1, 1, 1, 1, ...</td>\n    </tr>\n    <tr>\n      <th>2</th>\n      <td>AAAAAAAAAAAAAAAGAGAGAK</td>\n      <td>[2, 2, 2, 2]</td>\n      <td>[3067981.0, 3067981.0, 3067981.0, 3067981.0]</td>\n      <td>22</td>\n      <td>{2: 3067981.0}</td>\n      <td>{2: 12271924.0}</td>\n      <td>2</td>\n      <td>[0, 1, 0, 0, 0, 0]</td>\n      <td>[1, 1, 1, 1, 1, 1, 1, 1, 1, 1, 1, 1, 1, 1, 1, ...</td>\n    </tr>\n    <tr>\n      <th>3</th>\n      <td>AAAAAAAAAAAAAAASGFAYPGTSER</td>\n      <td>[2, 2, 2, 2, 2, 2, 2, 2, 2, 2, 2, 2, 2, 2, 2, ...</td>\n      <td>[11913300.0, 11913300.0, 11913300.0, 11913300....</td>\n      <td>26</td>\n      <td>{2: 8093413.0, 3: 1414907.0}</td>\n      <td>{2: 148659685.0, 3: 4244721.0}</td>\n      <td>2</td>\n      <td>[0, 1, 0, 0, 0, 0]</td>\n      <td>[1, 1, 1, 1, 1, 1, 1, 1, 1, 1, 1, 1, 1, 1, 1, ...</td>\n    </tr>\n    <tr>\n      <th>4</th>\n      <td>AAAAAAAAAAAAAAG</td>\n      <td>[1, 1, 1, 1, 1, 1, 1, 1, 1, 1, 1, 1, 1, 1, 1, ...</td>\n      <td>[1573785.0, 4638296.0, 7934979.0, 2019978.0, 4...</td>\n      <td>15</td>\n      <td>{1: 1124818.0}</td>\n      <td>{1: 546950229.4000001}</td>\n      <td>1</td>\n      <td>[1, 0, 0, 0, 0, 0]</td>\n      <td>[1, 1, 1, 1, 1, 1, 1, 1, 1, 1, 1, 1, 1, 1, 6, ...</td>\n    </tr>\n    <tr>\n      <th>5</th>\n      <td>AAAAAAAAAAAAAAGAG</td>\n      <td>[1, 1, 1, 1, 1, 1, 1, 1, 1, 1, 1, 1, 1, 1, 1, ...</td>\n      <td>[853119.3, 4332449.0, 3688977.0, 3469130.0, 33...</td>\n      <td>17</td>\n      <td>{1: 679216.3}</td>\n      <td>{1: 52634067.9}</td>\n      <td>1</td>\n      <td>[1, 0, 0, 0, 0, 0]</td>\n      <td>[1, 1, 1, 1, 1, 1, 1, 1, 1, 1, 1, 1, 1, 1, 6, ...</td>\n    </tr>\n    <tr>\n      <th>6</th>\n      <td>AAAAAAAAAAAAAAGGLALGLH</td>\n      <td>[2, 2, 2, 2, 2, 2, 2, 2, 2, 2, 2, 2, 2, 2, 2, ...</td>\n      <td>[33516080.0, 33516080.0, 8522070.0, 4549188.0,...</td>\n      <td>22</td>\n      <td>{2: 365943.3}</td>\n      <td>{2: 6848110396.300002}</td>\n      <td>2</td>\n      <td>[0, 1, 0, 0, 0, 0]</td>\n      <td>[1, 1, 1, 1, 1, 1, 1, 1, 1, 1, 1, 1, 1, 1, 6, ...</td>\n    </tr>\n    <tr>\n      <th>7</th>\n      <td>AAAAAAAAAAAAAAVTSGV</td>\n      <td>[2, 2, 2, 2, 2, 2, 2, 2, 2, 2, 2, 2, 2, 2, 2, ...</td>\n      <td>[4576179.0, 3336856.0, 4954145.0, 4317804.0, 3...</td>\n      <td>19</td>\n      <td>{2: 14611910.0, 1: 1211272.0}</td>\n      <td>{2: 225462597.40000004, 1: 5840742.2}</td>\n      <td>2</td>\n      <td>[0, 1, 0, 0, 0, 0]</td>\n      <td>[1, 1, 1, 1, 1, 1, 1, 1, 1, 1, 1, 1, 1, 1, 18,...</td>\n    </tr>\n    <tr>\n      <th>8</th>\n      <td>AAAAAAAAAAAAAGAG</td>\n      <td>[1, 2, 1, 1, 1, 1, 1, 2, 2, 2, 2, 2, 2, 2, 1, ...</td>\n      <td>[1233316.0, 2671238.0, 11414430.0, 13683660.0,...</td>\n      <td>16</td>\n      <td>{1: 1879604.0, 2: 2586197.0}</td>\n      <td>{1: 349665943.5, 2: 228379326.3}</td>\n      <td>2</td>\n      <td>[0, 1, 0, 0, 0, 0]</td>\n      <td>[1, 1, 1, 1, 1, 1, 1, 1, 1, 1, 1, 1, 1, 6, 1, ...</td>\n    </tr>\n    <tr>\n      <th>9</th>\n      <td>AAAAAAAAAAAAAK</td>\n      <td>[1, 2, 2, 2, 2, 2, 1, 1, 1, 2, 2, 1, 1, 2, 2, ...</td>\n      <td>[2540360.0, 31115000.0, 31115000.0, 70371250.0...</td>\n      <td>14</td>\n      <td>{1: 8372130.0, 2: 15308280.0}</td>\n      <td>{1: 99493666.2, 2: 6574531120.0}</td>\n      <td>2</td>\n      <td>[0, 1, 0, 0, 0, 0]</td>\n      <td>[1, 1, 1, 1, 1, 1, 1, 1, 1, 1, 1, 1, 1, 9, 0, ...</td>\n    </tr>\n    <tr>\n      <th>10</th>\n      <td>AAAAAAAAAAAAHLPS</td>\n      <td>[2, 2, 2, 2, 2, 2, 2, 2, 2, 2, 2, 2, 2, 2, 2, ...</td>\n      <td>[27030420.0, 22099630.0, 71770480.0, 22099630....</td>\n      <td>16</td>\n      <td>{2: 5810305.0}</td>\n      <td>{2: 9446767331.0}</td>\n      <td>2</td>\n      <td>[0, 1, 0, 0, 0, 0]</td>\n      <td>[1, 1, 1, 1, 1, 1, 1, 1, 1, 1, 1, 1, 7, 10, 13...</td>\n    </tr>\n  </tbody>\n</table>\n</div>"
     },
     "execution_count": 120,
     "metadata": {},
     "output_type": "execute_result"
    }
   ],
   "source": [
    "merged_df.head(11)"
   ],
   "metadata": {
    "collapsed": false,
    "ExecuteTime": {
     "end_time": "2023-08-21T10:12:08.194258300Z",
     "start_time": "2023-08-21T10:12:08.162711300Z"
    }
   }
  },
  {
   "cell_type": "code",
   "execution_count": 121,
   "outputs": [
    {
     "data": {
      "text/plain": "830820"
     },
     "execution_count": 121,
     "metadata": {},
     "output_type": "execute_result"
    }
   ],
   "source": [
    "len(merged_df)"
   ],
   "metadata": {
    "collapsed": false,
    "ExecuteTime": {
     "end_time": "2023-08-21T10:12:08.195258300Z",
     "start_time": "2023-08-21T10:12:08.188726400Z"
    }
   }
  },
  {
   "cell_type": "code",
   "execution_count": 53,
   "outputs": [
    {
     "data": {
      "text/plain": "2    452544\n3    259972\n4     65966\n1     41352\n5      9069\n6      1917\nName: most_abundant_charge, dtype: int64"
     },
     "execution_count": 53,
     "metadata": {},
     "output_type": "execute_result"
    }
   ],
   "source": [
    "merged_df[\"most_abundant_charge\"].value_counts()"
   ],
   "metadata": {
    "collapsed": false,
    "ExecuteTime": {
     "end_time": "2023-08-21T09:59:35.124224Z",
     "start_time": "2023-08-21T09:59:35.014069700Z"
    }
   }
  },
  {
   "cell_type": "code",
   "execution_count": null,
   "outputs": [],
   "source": [
    "#get the"
   ],
   "metadata": {
    "collapsed": false
   }
  },
  {
   "cell_type": "code",
   "execution_count": 30,
   "outputs": [
    {
     "name": "stdout",
     "output_type": "stream",
     "text": [
      "data/Thermo_SRM_Pool_meta_data.parquet\n"
     ]
    },
    {
     "name": "stderr",
     "output_type": "stream",
     "text": [
      "C:\\Users\\micro\\AppData\\Local\\Temp\\ipykernel_26372\\365009680.py:2: FutureWarning: Indexing with multiple keys (implicitly converted to a tuple of keys) will be deprecated, use a list instead.\n",
      "  look_up_df = batches_parquet[file_list[0]].groupby(\"modified_sequence\")[\"precursor_charge\", \"precursor_intensity\"].agg(list).reset_index()\n"
     ]
    },
    {
     "data": {
      "text/plain": "70445"
     },
     "execution_count": 30,
     "metadata": {},
     "output_type": "execute_result"
    }
   ],
   "source": [
    "print(file_list[0])\n",
    "look_up_df = batches_parquet[file_list[0]].groupby(\"modified_sequence\")[\"precursor_charge\", \"precursor_intensity\"].agg(list).reset_index()\n",
    "len(look_up_df)"
   ],
   "metadata": {
    "collapsed": false,
    "ExecuteTime": {
     "end_time": "2023-08-17T14:43:36.691061600Z",
     "start_time": "2023-08-17T14:43:32.716583500Z"
    }
   }
  },
  {
   "cell_type": "markdown",
   "source": [
    "# Dataset preprocessing: Conv2d"
   ],
   "metadata": {
    "collapsed": false
   }
  },
  {
   "cell_type": "code",
   "execution_count": 36,
   "outputs": [
    {
     "name": "stdout",
     "output_type": "stream",
     "text": [
      "most abundant:  {1: 91111655, 2: 612265}\n"
     ]
    }
   ],
   "source": [
    "# proof of concept\n",
    "# we have a sequence ABC with:\n",
    "list_a = [1,2,1,2,1,2,1,2,1,2] # charge states for \"ABC\" sequence with multiple appearances\n",
    "list_b = [111,21,311,41,51,611111,71,81,91111111,1011] # intensities for \"ABC\" sequence in each charge state\n",
    "print(\"most abundant: \", get_most_abundant(list_a, list_b, True))"
   ],
   "metadata": {
    "collapsed": false,
    "ExecuteTime": {
     "end_time": "2023-08-21T09:52:57.242406700Z",
     "start_time": "2023-08-21T09:52:57.189795Z"
    }
   }
  },
  {
   "cell_type": "code",
   "execution_count": 123,
   "outputs": [],
   "source": [
    "main_ds = np.array(merged_df[\"modified_sequence_vector\"]) # to list\n",
    "main_ds_labels = np.array(merged_df['most_abundant_charge_vector'])"
   ],
   "metadata": {
    "collapsed": false,
    "ExecuteTime": {
     "end_time": "2023-08-21T10:12:39.180593800Z",
     "start_time": "2023-08-21T10:12:39.040824400Z"
    }
   }
  },
  {
   "cell_type": "code",
   "execution_count": 124,
   "outputs": [],
   "source": [
    "# Create an instance of StratifiedShuffleSplit\n",
    "sss1 = StratifiedShuffleSplit(n_splits=1, test_size=0.1, random_state=42)\n",
    "sss2 = StratifiedShuffleSplit(n_splits=1, test_size=0.3, random_state=42)\n",
    "\n",
    "# Perform the split train+val and test\n",
    "trainval_indicies, test_indicies = next(sss1.split(main_ds, main_ds_labels))\n",
    "\n",
    "trainval_ds, trainval_labels = main_ds[trainval_indicies], main_ds_labels[trainval_indicies]\n",
    "test_ds, test_labels = main_ds[test_indicies], main_ds_labels[test_indicies]"
   ],
   "metadata": {
    "collapsed": false,
    "ExecuteTime": {
     "end_time": "2023-08-21T10:12:44.676741900Z",
     "start_time": "2023-08-21T10:12:43.003153500Z"
    }
   }
  },
  {
   "cell_type": "code",
   "execution_count": 125,
   "outputs": [],
   "source": [
    "# Perform the split train and val\n",
    "train_indicies, val_indicies = next(sss2.split(trainval_ds, trainval_labels))\n",
    "\n",
    "train_ds, train_labels = trainval_ds[train_indicies], trainval_labels[train_indicies]\n",
    "val_ds, val_labels = trainval_ds[val_indicies], trainval_labels[val_indicies]\n",
    "\n",
    "\n",
    "charges = [1,2,3,4,5,6] # TODO SELECT CLASSES\n",
    "num_classes = len(charges)"
   ],
   "metadata": {
    "collapsed": false,
    "ExecuteTime": {
     "end_time": "2023-08-21T10:12:48.989716400Z",
     "start_time": "2023-08-21T10:12:46.826828300Z"
    }
   }
  },
  {
   "cell_type": "markdown",
   "source": [
    "### Conv2d Model"
   ],
   "metadata": {
    "collapsed": false
   }
  },
  {
   "cell_type": "code",
   "execution_count": 71,
   "outputs": [],
   "source": [
    "train_ds = [np.reshape(np.array(x), (1, max_len_seq, 1)) for x in train_ds]\n",
    "val_ds = [np.reshape(np.array(x), (1, max_len_seq, 1)) for x in val_ds]\n",
    "test_ds = [np.reshape(np.array(x), (1, max_len_seq, 1)) for x in test_ds]"
   ],
   "metadata": {
    "collapsed": false,
    "ExecuteTime": {
     "end_time": "2023-08-21T10:01:14.352352900Z",
     "start_time": "2023-08-21T10:01:09.432634Z"
    }
   }
  },
  {
   "cell_type": "code",
   "execution_count": 72,
   "outputs": [
    {
     "data": {
      "text/plain": "array([[[21],\n        [ 4],\n        [ 6],\n        [ 5],\n        [ 4],\n        [10],\n        [ 7],\n        [ 5],\n        [19],\n        [15],\n        [ 0],\n        [ 0],\n        [ 0],\n        [ 0],\n        [ 0],\n        [ 0],\n        [ 0],\n        [ 0],\n        [ 0],\n        [ 0],\n        [ 0],\n        [ 0],\n        [ 0],\n        [ 0],\n        [ 0],\n        [ 0],\n        [ 0],\n        [ 0],\n        [ 0],\n        [ 0],\n        [ 0],\n        [ 0],\n        [ 0],\n        [ 0],\n        [ 0],\n        [ 0],\n        [ 0],\n        [ 0],\n        [ 0],\n        [ 0],\n        [ 0],\n        [ 0],\n        [ 0],\n        [ 0],\n        [ 0],\n        [ 0],\n        [ 0],\n        [ 0],\n        [ 0],\n        [ 0],\n        [ 0],\n        [ 0],\n        [ 0],\n        [ 0],\n        [ 0],\n        [ 0],\n        [ 0],\n        [ 0],\n        [ 0],\n        [ 0],\n        [ 0],\n        [ 0],\n        [ 0]]])"
     },
     "execution_count": 72,
     "metadata": {},
     "output_type": "execute_result"
    }
   ],
   "source": [
    "train_ds[0]"
   ],
   "metadata": {
    "collapsed": false,
    "ExecuteTime": {
     "end_time": "2023-08-21T10:01:16.314574400Z",
     "start_time": "2023-08-21T10:01:16.224928600Z"
    }
   }
  },
  {
   "cell_type": "code",
   "execution_count": 73,
   "outputs": [
    {
     "data": {
      "text/plain": "<Figure size 640x480 with 1 Axes>",
      "image/png": "[encoded data removed]"
     },
     "metadata": {},
     "output_type": "display_data"
    },
    {
     "data": {
      "text/plain": "<Figure size 640x480 with 1 Axes>",
      "image/png": "[encoded data removed]"
     },
     "metadata": {},
     "output_type": "display_data"
    },
    {
     "data": {
      "text/plain": "<Figure size 640x480 with 1 Axes>",
      "image/png": "[encoded data removed]"
     },
     "metadata": {},
     "output_type": "display_data"
    },
    {
     "data": {
      "text/plain": "<Figure size 640x480 with 1 Axes>",
      "image/png": "[encoded data removed]"
     },
     "metadata": {},
     "output_type": "display_data"
    },
    {
     "data": {
      "text/plain": "<Figure size 640x480 with 1 Axes>",
      "image/png": "[encoded data removed]"
     },
     "metadata": {},
     "output_type": "display_data"
    }
   ],
   "source": [
    "from matplotlib import pyplot as plt\n",
    "for i in range(5):\n",
    "    plt.imshow(train_ds[i], interpolation='nearest', cmap='seismic') # TODO CUSTOM COLORS FOR AA\n",
    "    plt.show()"
   ],
   "metadata": {
    "collapsed": false,
    "ExecuteTime": {
     "end_time": "2023-08-21T10:01:21.074342Z",
     "start_time": "2023-08-21T10:01:20.405886600Z"
    }
   }
  },
  {
   "cell_type": "code",
   "execution_count": null,
   "outputs": [],
   "source": [
    "train_ds = tf.convert_to_tensor(train_ds)\n",
    "val_ds = tf.convert_to_tensor(val_ds)"
   ],
   "metadata": {
    "collapsed": false
   }
  },
  {
   "cell_type": "code",
   "execution_count": null,
   "outputs": [],
   "source": [
    "train_ds_labels = [np.array(x) for x in train_ds_labels]\n",
    "val_ds_labels = [np.array(x) for x in val_ds_labels]"
   ],
   "metadata": {
    "collapsed": false
   }
  },
  {
   "cell_type": "code",
   "execution_count": null,
   "outputs": [],
   "source": [
    "train_ds_labels = tf.convert_to_tensor(train_ds_labels)\n",
    "val_ds_labels = tf.convert_to_tensor(val_ds_labels)"
   ],
   "metadata": {
    "collapsed": false
   }
  },
  {
   "cell_type": "code",
   "execution_count": null,
   "outputs": [],
   "source": [
    "from keras import Sequential, Model\n",
    "from keras.layers import Embedding, Flatten, Dense, Conv1D, Conv2D, MaxPooling1D, MaxPooling2D, Input, concatenate, Rescaling\n",
    "# define two sets of inputs\n",
    "inputA = Input(shape=train_ds.shape[1:])\n",
    "# the first branch operates on the first input\n",
    "x = Model(inputs=inputA, outputs=inputA)\n",
    "# the second branch operates on the second input\n",
    "y = Rescaling(scale=1./100)(inputA) # for dictionary of 2000 words (X = 0, aa 1-20 in 100 steps)\n",
    "#y = Embedding(input_dim=2000, output_dim=3, input_length=50)(inputB)\n",
    "y = Conv2D(filters=128, kernel_size=(1,3), strides=1, activation=\"relu\", padding='same')(y)\n",
    "#y = MaxPooling2D(pool_size=(1,2), padding='same')(y)\n",
    "#y = Conv2D(filters=128, kernel_size=(1,3), strides=1, activation=\"relu\", padding='same')(y)\n",
    "#y = MaxPooling2D(pool_size=(1,2), padding='same')(y)\n",
    "y = Flatten()(y)\n",
    "y = Dense(210, activation=\"relu\")(y)\n",
    "# combine the output of the two branches\n",
    "#z = Flatten()(combined)\n",
    "z = Dense(num_classes, activation=\"softmax\")(y)\n",
    "# our model will accept the inputs of the two branches and\n",
    "# then output a single value\n",
    "model = Model(inputs=[x.input], outputs=z)"
   ],
   "metadata": {
    "collapsed": false
   }
  },
  {
   "cell_type": "code",
   "execution_count": null,
   "outputs": [],
   "source": [
    "model.summary()"
   ],
   "metadata": {
    "collapsed": false
   }
  },
  {
   "cell_type": "code",
   "execution_count": null,
   "outputs": [],
   "source": [
    "# plot model\n",
    "tf.keras.utils.plot_model(model, show_shapes=True, show_layer_names=True)"
   ],
   "metadata": {
    "collapsed": false
   }
  },
  {
   "cell_type": "code",
   "execution_count": null,
   "outputs": [],
   "source": [
    "# Compile the model\n",
    "model.compile(loss=tf.keras.losses.CategoricalCrossentropy(), optimizer=keras.optimizers.Adam(learning_rate=0.0001), metrics=['accuracy'])"
   ],
   "metadata": {
    "collapsed": false
   }
  },
  {
   "cell_type": "code",
   "execution_count": null,
   "outputs": [],
   "source": [
    "checkpoint_callback = ModelCheckpoint('precursor_charge_prediction_model_v1/cce_wo7_allSequences.h5', monitor='val_accuracy', save_best_only=True, mode='max')\n",
    "\n",
    "# Define early stopping\n",
    "early_stopping = tf.keras.callbacks.EarlyStopping(monitor='val_loss', patience=5)"
   ],
   "metadata": {
    "collapsed": false
   }
  },
  {
   "cell_type": "code",
   "execution_count": null,
   "outputs": [],
   "source": [
    "#steps_per_epoch = train_ds_b.shape[0] // 256"
   ],
   "metadata": {
    "collapsed": false
   }
  },
  {
   "cell_type": "code",
   "execution_count": null,
   "outputs": [],
   "source": [
    "# Train the model\n",
    "# X_train, X_test, y_train, y_test\n",
    "history = model.fit(train_ds, train_ds_labels, epochs=120, batch_size=4096, validation_data=(val_ds, val_ds_labels), callbacks=[checkpoint_callback, early_stopping, WandbCallback()]) #WandbCallback()"
   ],
   "metadata": {
    "collapsed": false
   }
  },
  {
   "cell_type": "code",
   "execution_count": null,
   "outputs": [],
   "source": [
    "# Access the loss, validation loss, and accuracy from the history object\n",
    "loss = history.history['loss']\n",
    "val_loss = history.history['val_loss']\n",
    "accuracy = history.history['accuracy']\n",
    "val_accuracy = history.history['val_accuracy']\n",
    "\n",
    "# Plot the loss, validation loss, and accuracy curves\n",
    "epochs = range(1, len(loss) + 1)\n",
    "\n",
    "# Create subplots\n",
    "fig2, (ax1, ax2) = plt.subplots(1, 2, figsize=(12, 6))\n",
    "\n",
    "# Plot loss and validation loss\n",
    "ax1.plot(epochs, loss, 'b', label='Training Loss')\n",
    "ax1.plot(epochs, val_loss, 'r', label='Validation Loss')\n",
    "ax1.set_title('Training and Validation Loss')\n",
    "ax1.set_xlabel('Epochs')\n",
    "ax1.set_ylabel('Loss')\n",
    "ax1.legend()\n",
    "\n",
    "# Plot accuracy and validation accuracy\n",
    "ax2.plot(epochs, accuracy, 'b', label='Training Accuracy')\n",
    "ax2.plot(epochs, val_accuracy, 'r', label='Validation Accuracy')\n",
    "ax2.set_title('Training and Validation Accuracy')\n",
    "ax2.set_xlabel('Epochs')\n",
    "ax2.set_ylabel('Accuracy')\n",
    "ax2.legend()\n",
    "\n",
    "# Adjust spacing between subplots\n",
    "plt.tight_layout()\n",
    "\n",
    "# Show the plots\n",
    "plt.show()"
   ],
   "metadata": {
    "collapsed": false
   }
  },
  {
   "cell_type": "code",
   "execution_count": null,
   "outputs": [],
   "source": [
    "model.save('precursor_charge_prediction_conv2d_model/big_conv2d_model.h5')"
   ],
   "metadata": {
    "collapsed": false
   }
  },
  {
   "cell_type": "markdown",
   "source": [
    "# Embedding model test:"
   ],
   "metadata": {
    "collapsed": false
   }
  },
  {
   "cell_type": "code",
   "execution_count": 168,
   "outputs": [],
   "source": [
    "# Create an instance of StratifiedShuffleSplit\n",
    "sss = StratifiedShuffleSplit(n_splits=1, test_size=0.2, random_state=42)"
   ],
   "metadata": {
    "collapsed": false,
    "ExecuteTime": {
     "end_time": "2023-08-21T10:47:45.764121200Z",
     "start_time": "2023-08-21T10:47:45.661200200Z"
    }
   }
  },
  {
   "cell_type": "code",
   "execution_count": 182,
   "outputs": [],
   "source": [
    "df1 = merged_df.sample(frac = 0.1, random_state = 42)\n",
    "test_ds_embed = np.array(df1['modified_sequence_vector'])\n",
    "test_labels_embed = np.array(df1['most_abundant_charge_vector'])\n",
    "\n",
    "df2 = merged_df.drop(df1.index)\n",
    "trainval_ds_embed = np.array(df2['modified_sequence_vector'])\n",
    "trainval_labels_embed = np.array(df2['most_abundant_charge_vector'])"
   ],
   "metadata": {
    "collapsed": false,
    "ExecuteTime": {
     "end_time": "2023-08-21T10:49:49.857297400Z",
     "start_time": "2023-08-21T10:49:49.586249500Z"
    }
   }
  },
  {
   "cell_type": "code",
   "execution_count": 183,
   "outputs": [],
   "source": [
    "# Perform the split train and val\n",
    "train_indicies_embed, val_indicies_embed = next(sss.split(trainval_ds_embed, trainval_labels_embed))"
   ],
   "metadata": {
    "collapsed": false,
    "ExecuteTime": {
     "end_time": "2023-08-21T10:49:52.828704900Z",
     "start_time": "2023-08-21T10:49:51.810558800Z"
    }
   }
  },
  {
   "cell_type": "code",
   "execution_count": 184,
   "outputs": [],
   "source": [
    "train_ds_embed, train_labels_embed = trainval_ds_embed[train_indicies_embed], trainval_labels_embed[train_indicies_embed]\n",
    "val_ds_embed, val_labels_embed = trainval_ds_embed[val_indicies_embed], trainval_labels_embed[val_indicies_embed]\n",
    "\n",
    "\n",
    "charges = [1,2,3,4,5,6] # TODO SELECT CLASSES\n",
    "num_classes = len(charges)"
   ],
   "metadata": {
    "collapsed": false,
    "ExecuteTime": {
     "end_time": "2023-08-21T10:49:52.985379600Z",
     "start_time": "2023-08-21T10:49:52.828704900Z"
    }
   }
  },
  {
   "cell_type": "code",
   "execution_count": 185,
   "outputs": [],
   "source": [
    "train_ds_embed  = [np.array(x) for x in train_ds_embed]\n",
    "val_ds_embed = [np.array(x) for x in val_ds_embed]\n",
    "test_ds_embed = [np.array(x) for x in test_ds_embed]"
   ],
   "metadata": {
    "collapsed": false,
    "ExecuteTime": {
     "end_time": "2023-08-21T10:49:58.686716900Z",
     "start_time": "2023-08-21T10:49:53.426178600Z"
    }
   }
  },
  {
   "cell_type": "code",
   "execution_count": 186,
   "outputs": [],
   "source": [
    "train_labels_embed = [np.array(x) for x in train_labels_embed]\n",
    "val_labels_embed = [np.array(x) for x in val_labels_embed]\n",
    "test_labels_embed = [np.array(x) for x in test_labels_embed]"
   ],
   "metadata": {
    "collapsed": false,
    "ExecuteTime": {
     "end_time": "2023-08-21T10:49:59.552189400Z",
     "start_time": "2023-08-21T10:49:58.686716900Z"
    }
   }
  },
  {
   "cell_type": "code",
   "execution_count": 187,
   "outputs": [],
   "source": [
    "train_ds_embed = tf.convert_to_tensor(train_ds_embed)\n",
    "val_ds_embed = tf.convert_to_tensor(val_ds_embed)\n",
    "train_labels_embed = tf.convert_to_tensor(train_labels_embed)\n",
    "val_labels_embed = tf.convert_to_tensor(val_labels_embed)\n",
    "\n",
    "test_ds_embed = tf.convert_to_tensor(test_ds_embed)\n",
    "test_labels_embed = tf.convert_to_tensor(test_labels_embed)"
   ],
   "metadata": {
    "collapsed": false,
    "ExecuteTime": {
     "end_time": "2023-08-21T10:50:04.546973400Z",
     "start_time": "2023-08-21T10:49:59.553189500Z"
    }
   }
  },
  {
   "cell_type": "code",
   "execution_count": 188,
   "outputs": [
    {
     "data": {
      "text/plain": "<tf.Tensor: shape=(63,), dtype=int32, numpy=\narray([18, 18, 16,  1,  6, 13, 19, 16, 16,  4,  9,  1,  4, 11, 12,  8, 10,\n        4,  8, 12,  4, 17, 10, 15,  0,  0,  0,  0,  0,  0,  0,  0,  0,  0,\n        0,  0,  0,  0,  0,  0,  0,  0,  0,  0,  0,  0,  0,  0,  0,  0,  0,\n        0,  0,  0,  0,  0,  0,  0,  0,  0,  0,  0,  0])>"
     },
     "execution_count": 188,
     "metadata": {},
     "output_type": "execute_result"
    }
   ],
   "source": [
    "train_ds_embed[0]"
   ],
   "metadata": {
    "collapsed": false,
    "ExecuteTime": {
     "end_time": "2023-08-21T10:50:04.556059600Z",
     "start_time": "2023-08-21T10:50:04.548479600Z"
    }
   }
  },
  {
   "cell_type": "code",
   "execution_count": 190,
   "outputs": [
    {
     "data": {
      "text/plain": "<IPython.core.display.HTML object>",
      "text/html": "Finishing last run (ID:nxa0jz5f) before initializing another..."
     },
     "metadata": {},
     "output_type": "display_data"
    },
    {
     "data": {
      "text/plain": "<IPython.core.display.HTML object>",
      "text/html": "Waiting for W&B process to finish... <strong style=\"color:green\">(success).</strong>"
     },
     "metadata": {},
     "output_type": "display_data"
    },
    {
     "data": {
      "text/plain": "VBox(children=(Label(value='90.039 MB of 90.039 MB uploaded (0.287 MB deduped)\\r'), FloatProgress(value=1.0, m…",
      "application/vnd.jupyter.widget-view+json": {
       "version_major": 2,
       "version_minor": 0,
       "model_id": "ec889cb5af264c5a8522e37e84273ce5"
      }
     },
     "metadata": {},
     "output_type": "display_data"
    },
    {
     "data": {
      "text/plain": "<IPython.core.display.HTML object>",
      "text/html": "<style>\n    table.wandb td:nth-child(1) { padding: 0 10px; text-align: left ; width: auto;} td:nth-child(2) {text-align: left ; width: 100%}\n    .wandb-row { display: flex; flex-direction: row; flex-wrap: wrap; justify-content: flex-start; width: 100% }\n    .wandb-col { display: flex; flex-direction: column; flex-basis: 100%; flex: 1; padding: 10px; }\n    </style>\n<div class=\"wandb-row\"><div class=\"wandb-col\"><h3>Run history:</h3><br/><table class=\"wandb\"><tr><td>categorical_accuracy</td><td>▁▃▄▅▅▆▆▇▇▇████████████████████</td></tr><tr><td>epoch</td><td>▁▁▁▂▂▂▂▃▃▃▃▄▄▄▄▅▅▅▅▆▆▆▆▇▇▇▇███</td></tr><tr><td>loss</td><td>█▅▅▄▃▃▂▂▂▁▁▁▁▁▁▁▁▁▁▁▁▁▁▁▁▁▁▁▁▁</td></tr><tr><td>val_categorical_accuracy</td><td>▁▂▃▄▅▆▆▇▇▇████████████████████</td></tr><tr><td>val_loss</td><td>█▇▆▅▄▃▂▂▂▂▁▁▁▁▁▁▁▁▁▁▁▁▁▁▁▁▁▁▁▁</td></tr></table><br/></div><div class=\"wandb-col\"><h3>Run summary:</h3><br/><table class=\"wandb\"><tr><td>best_epoch</td><td>29</td></tr><tr><td>best_val_loss</td><td>0.49894</td></tr><tr><td>categorical_accuracy</td><td>0.78707</td></tr><tr><td>epoch</td><td>29</td></tr><tr><td>loss</td><td>0.49829</td></tr><tr><td>val_categorical_accuracy</td><td>0.78575</td></tr><tr><td>val_loss</td><td>0.49894</td></tr></table><br/></div></div>"
     },
     "metadata": {},
     "output_type": "display_data"
    },
    {
     "data": {
      "text/plain": "<IPython.core.display.HTML object>",
      "text/html": " View run <strong style=\"color:#cdcd00\">lilac-shadow-20</strong> at: <a href='https://wandb.ai/team-bioinf/precursor_charge_prediction_new/runs/nxa0jz5f' target=\"_blank\">https://wandb.ai/team-bioinf/precursor_charge_prediction_new/runs/nxa0jz5f</a><br/>Synced 5 W&B file(s), 1 media file(s), 147 artifact file(s) and 1 other file(s)"
     },
     "metadata": {},
     "output_type": "display_data"
    },
    {
     "data": {
      "text/plain": "<IPython.core.display.HTML object>",
      "text/html": "Find logs at: <code>.\\wandb\\run-20230821_114710-nxa0jz5f\\logs</code>"
     },
     "metadata": {},
     "output_type": "display_data"
    },
    {
     "data": {
      "text/plain": "<IPython.core.display.HTML object>",
      "text/html": "Successfully finished last run (ID:nxa0jz5f). Initializing new run:<br/>"
     },
     "metadata": {},
     "output_type": "display_data"
    },
    {
     "data": {
      "text/plain": "VBox(children=(Label(value='Waiting for wandb.init()...\\r'), FloatProgress(value=0.016933333333327028, max=1.0…",
      "application/vnd.jupyter.widget-view+json": {
       "version_major": 2,
       "version_minor": 0,
       "model_id": "729b92dadf0743679685d479cd2f612f"
      }
     },
     "metadata": {},
     "output_type": "display_data"
    },
    {
     "data": {
      "text/plain": "<IPython.core.display.HTML object>",
      "text/html": "wandb version 0.15.8 is available!  To upgrade, please run:\n $ pip install wandb --upgrade"
     },
     "metadata": {},
     "output_type": "display_data"
    },
    {
     "data": {
      "text/plain": "<IPython.core.display.HTML object>",
      "text/html": "Tracking run with wandb version 0.15.5"
     },
     "metadata": {},
     "output_type": "display_data"
    },
    {
     "data": {
      "text/plain": "<IPython.core.display.HTML object>",
      "text/html": "Run data is saved locally in <code>C:\\Users\\micro\\OneDrive\\Dokumente\\GitHub\\Masterpraktikum\\wandb\\run-20230821_125012-7qdxnacx</code>"
     },
     "metadata": {},
     "output_type": "display_data"
    },
    {
     "data": {
      "text/plain": "<IPython.core.display.HTML object>",
      "text/html": "Syncing run <strong><a href='https://wandb.ai/team-bioinf/precursor_charge_prediction_new/runs/7qdxnacx' target=\"_blank\">zany-gorge-21</a></strong> to <a href='https://wandb.ai/team-bioinf/precursor_charge_prediction_new' target=\"_blank\">Weights & Biases</a> (<a href='https://wandb.me/run' target=\"_blank\">docs</a>)<br/>"
     },
     "metadata": {},
     "output_type": "display_data"
    },
    {
     "data": {
      "text/plain": "<IPython.core.display.HTML object>",
      "text/html": " View project at <a href='https://wandb.ai/team-bioinf/precursor_charge_prediction_new' target=\"_blank\">https://wandb.ai/team-bioinf/precursor_charge_prediction_new</a>"
     },
     "metadata": {},
     "output_type": "display_data"
    },
    {
     "data": {
      "text/plain": "<IPython.core.display.HTML object>",
      "text/html": " View run at <a href='https://wandb.ai/team-bioinf/precursor_charge_prediction_new/runs/7qdxnacx' target=\"_blank\">https://wandb.ai/team-bioinf/precursor_charge_prediction_new/runs/7qdxnacx</a>"
     },
     "metadata": {},
     "output_type": "display_data"
    },
    {
     "data": {
      "text/html": "<button onClick=\"this.nextSibling.style.display='block';this.style.display='none';\">Display W&B run</button><iframe src='https://wandb.ai/team-bioinf/precursor_charge_prediction_new/runs/7qdxnacx?jupyter=true' style='border:none;width:100%;height:420px;display:none;'></iframe>",
      "text/plain": "<wandb.sdk.wandb_run.Run at 0x1f749a99550>"
     },
     "execution_count": 190,
     "metadata": {},
     "output_type": "execute_result"
    }
   ],
   "source": [
    "wandb.init(project='precursor_charge_prediction_new')"
   ],
   "metadata": {
    "collapsed": false,
    "ExecuteTime": {
     "end_time": "2023-08-21T10:50:23.055208100Z",
     "start_time": "2023-08-21T10:50:12.597160300Z"
    }
   }
  },
  {
   "cell_type": "code",
   "execution_count": 189,
   "outputs": [],
   "source": [
    "from keras import Sequential, Model\n",
    "from keras.layers import Embedding, Flatten, Dense, Conv1D, Conv2D, MaxPooling1D, MaxPooling2D, Input, concatenate, Rescaling\n",
    "# define two sets of inputs\n",
    "inputA_embed = Input(shape=train_ds_embed[0].shape)\n",
    "# the first branch operates on the first input\n",
    "x = Model(inputs=inputA_embed, outputs=inputA_embed)\n",
    "y = Embedding(input_dim=voc_len, output_dim=max_len_seq, input_length=max_len_seq)(inputA_embed)\n",
    "y = Flatten()(y)\n",
    "y = Dense(max_len_seq, activation=\"relu\")(y)\n",
    "z = Dense(num_classes, activation=\"softmax\")(y)\n",
    "# our model will accept the inputs of the two branches and\n",
    "# then output a single value\n",
    "model_embed = Model(inputs=[x.input], outputs=z)"
   ],
   "metadata": {
    "collapsed": false,
    "ExecuteTime": {
     "end_time": "2023-08-21T10:50:07.923552400Z",
     "start_time": "2023-08-21T10:50:07.798312900Z"
    }
   }
  },
  {
   "cell_type": "code",
   "execution_count": 191,
   "outputs": [
    {
     "name": "stdout",
     "output_type": "stream",
     "text": [
      "Model: \"model_10\"\n",
      "_________________________________________________________________\n",
      " Layer (type)                Output Shape              Param #   \n",
      "=================================================================\n",
      " input_6 (InputLayer)        [(None, 63)]              0         \n",
      "                                                                 \n",
      " embedding_4 (Embedding)     (None, 63, 63)            1449      \n",
      "                                                                 \n",
      " flatten_4 (Flatten)         (None, 3969)              0         \n",
      "                                                                 \n",
      " dense_8 (Dense)             (None, 63)                250110    \n",
      "                                                                 \n",
      " dense_9 (Dense)             (None, 6)                 384       \n",
      "                                                                 \n",
      "=================================================================\n",
      "Total params: 251,943\n",
      "Trainable params: 251,943\n",
      "Non-trainable params: 0\n",
      "_________________________________________________________________\n"
     ]
    }
   ],
   "source": [
    "model_embed.summary()"
   ],
   "metadata": {
    "collapsed": false,
    "ExecuteTime": {
     "end_time": "2023-08-21T10:50:26.247275800Z",
     "start_time": "2023-08-21T10:50:26.198434700Z"
    }
   }
  },
  {
   "cell_type": "code",
   "execution_count": 139,
   "outputs": [
    {
     "data": {
      "image/png": "[encoded data removed]",
      "text/plain": "<IPython.core.display.Image object>"
     },
     "execution_count": 139,
     "metadata": {},
     "output_type": "execute_result"
    }
   ],
   "source": [
    "# plot model\n",
    "tf.keras.utils.plot_model(model_embed, show_shapes=True, show_layer_names=True)"
   ],
   "metadata": {
    "collapsed": false,
    "ExecuteTime": {
     "end_time": "2023-08-21T10:14:35.619400200Z",
     "start_time": "2023-08-21T10:14:35.442380500Z"
    }
   }
  },
  {
   "cell_type": "code",
   "execution_count": 192,
   "outputs": [],
   "source": [
    "# Compile the model\n",
    "model_embed.compile(loss=tf.keras.losses.CategoricalCrossentropy(), optimizer=keras.optimizers.Adam(learning_rate=0.0001), metrics=['categorical_accuracy'])"
   ],
   "metadata": {
    "collapsed": false,
    "ExecuteTime": {
     "end_time": "2023-08-21T10:50:30.066572500Z",
     "start_time": "2023-08-21T10:50:30.018421400Z"
    }
   }
  },
  {
   "cell_type": "code",
   "execution_count": 193,
   "outputs": [],
   "source": [
    "checkpoint_callback_embed = ModelCheckpoint('precursor_charge_prediction_model_embed/embed.h5', monitor='val_accuracy', save_best_only=True, mode='max')\n",
    "\n",
    "# Define early stopping\n",
    "early_stopping_embed = tf.keras.callbacks.EarlyStopping(monitor='val_loss', patience=10)"
   ],
   "metadata": {
    "collapsed": false,
    "ExecuteTime": {
     "end_time": "2023-08-21T10:50:30.975214100Z",
     "start_time": "2023-08-21T10:50:30.926293200Z"
    }
   }
  },
  {
   "cell_type": "code",
   "execution_count": 194,
   "outputs": [
    {
     "data": {
      "text/plain": "2.584962500721156"
     },
     "execution_count": 194,
     "metadata": {},
     "output_type": "execute_result"
    }
   ],
   "source": [
    "# sanity check for loss\n",
    "np.log2(6)"
   ],
   "metadata": {
    "collapsed": false,
    "ExecuteTime": {
     "end_time": "2023-08-21T10:50:32.336415700Z",
     "start_time": "2023-08-21T10:50:32.288179600Z"
    }
   }
  },
  {
   "cell_type": "code",
   "execution_count": 195,
   "outputs": [
    {
     "name": "stdout",
     "output_type": "stream",
     "text": [
      "Epoch 1/30\n",
      "146/147 [============================>.] - ETA: 0s - loss: 1.1609 - categorical_accuracy: 0.5664WARNING:tensorflow:Can save best model only with val_accuracy available, skipping.\n",
      "INFO:tensorflow:Assets written to: C:\\Users\\micro\\OneDrive\\Dokumente\\GitHub\\Masterpraktikum\\wandb\\run-20230821_125012-7qdxnacx\\files\\model-best\\assets\n"
     ]
    },
    {
     "name": "stderr",
     "output_type": "stream",
     "text": [
      "\u001B[34m\u001B[1mwandb\u001B[0m: Adding directory to artifact (C:\\Users\\micro\\OneDrive\\Dokumente\\GitHub\\Masterpraktikum\\wandb\\run-20230821_125012-7qdxnacx\\files\\model-best)... Done. 0.0s\n"
     ]
    },
    {
     "name": "stdout",
     "output_type": "stream",
     "text": [
      "147/147 [==============================] - 14s 95ms/step - loss: 1.1609 - categorical_accuracy: 0.5664 - val_loss: 0.9842 - val_categorical_accuracy: 0.6038\n",
      "Epoch 2/30\n",
      "146/147 [============================>.] - ETA: 0s - loss: 0.9371 - categorical_accuracy: 0.6169WARNING:tensorflow:Can save best model only with val_accuracy available, skipping.\n",
      "INFO:tensorflow:Assets written to: C:\\Users\\micro\\OneDrive\\Dokumente\\GitHub\\Masterpraktikum\\wandb\\run-20230821_125012-7qdxnacx\\files\\model-best\\assets\n"
     ]
    },
    {
     "name": "stderr",
     "output_type": "stream",
     "text": [
      "\u001B[34m\u001B[1mwandb\u001B[0m: Adding directory to artifact (C:\\Users\\micro\\OneDrive\\Dokumente\\GitHub\\Masterpraktikum\\wandb\\run-20230821_125012-7qdxnacx\\files\\model-best)... Done. 0.0s\n"
     ]
    },
    {
     "name": "stdout",
     "output_type": "stream",
     "text": [
      "147/147 [==============================] - 13s 86ms/step - loss: 0.9371 - categorical_accuracy: 0.6169 - val_loss: 0.8919 - val_categorical_accuracy: 0.6313\n",
      "Epoch 3/30\n",
      "146/147 [============================>.] - ETA: 0s - loss: 0.8431 - categorical_accuracy: 0.6549WARNING:tensorflow:Can save best model only with val_accuracy available, skipping.\n",
      "INFO:tensorflow:Assets written to: C:\\Users\\micro\\OneDrive\\Dokumente\\GitHub\\Masterpraktikum\\wandb\\run-20230821_125012-7qdxnacx\\files\\model-best\\assets\n"
     ]
    },
    {
     "name": "stderr",
     "output_type": "stream",
     "text": [
      "\u001B[34m\u001B[1mwandb\u001B[0m: Adding directory to artifact (C:\\Users\\micro\\OneDrive\\Dokumente\\GitHub\\Masterpraktikum\\wandb\\run-20230821_125012-7qdxnacx\\files\\model-best)... Done. 0.0s\n"
     ]
    },
    {
     "name": "stdout",
     "output_type": "stream",
     "text": [
      "147/147 [==============================] - 13s 85ms/step - loss: 0.8431 - categorical_accuracy: 0.6550 - val_loss: 0.7918 - val_categorical_accuracy: 0.6791\n",
      "Epoch 4/30\n",
      "146/147 [============================>.] - ETA: 0s - loss: 0.7456 - categorical_accuracy: 0.6919WARNING:tensorflow:Can save best model only with val_accuracy available, skipping.\n",
      "INFO:tensorflow:Assets written to: C:\\Users\\micro\\OneDrive\\Dokumente\\GitHub\\Masterpraktikum\\wandb\\run-20230821_125012-7qdxnacx\\files\\model-best\\assets\n"
     ]
    },
    {
     "name": "stderr",
     "output_type": "stream",
     "text": [
      "\u001B[34m\u001B[1mwandb\u001B[0m: Adding directory to artifact (C:\\Users\\micro\\OneDrive\\Dokumente\\GitHub\\Masterpraktikum\\wandb\\run-20230821_125012-7qdxnacx\\files\\model-best)... Done. 0.0s\n"
     ]
    },
    {
     "name": "stdout",
     "output_type": "stream",
     "text": [
      "147/147 [==============================] - 13s 86ms/step - loss: 0.7456 - categorical_accuracy: 0.6919 - val_loss: 0.7005 - val_categorical_accuracy: 0.7074\n",
      "Epoch 5/30\n",
      "146/147 [============================>.] - ETA: 0s - loss: 0.6659 - categorical_accuracy: 0.7165WARNING:tensorflow:Can save best model only with val_accuracy available, skipping.\n",
      "INFO:tensorflow:Assets written to: C:\\Users\\micro\\OneDrive\\Dokumente\\GitHub\\Masterpraktikum\\wandb\\run-20230821_125012-7qdxnacx\\files\\model-best\\assets\n"
     ]
    },
    {
     "name": "stderr",
     "output_type": "stream",
     "text": [
      "\u001B[34m\u001B[1mwandb\u001B[0m: Adding directory to artifact (C:\\Users\\micro\\OneDrive\\Dokumente\\GitHub\\Masterpraktikum\\wandb\\run-20230821_125012-7qdxnacx\\files\\model-best)... Done. 0.0s\n"
     ]
    },
    {
     "name": "stdout",
     "output_type": "stream",
     "text": [
      "147/147 [==============================] - 12s 85ms/step - loss: 0.6659 - categorical_accuracy: 0.7165 - val_loss: 0.6352 - val_categorical_accuracy: 0.7208\n",
      "Epoch 6/30\n",
      "146/147 [============================>.] - ETA: 0s - loss: 0.6130 - categorical_accuracy: 0.7381WARNING:tensorflow:Can save best model only with val_accuracy available, skipping.\n",
      "INFO:tensorflow:Assets written to: C:\\Users\\micro\\OneDrive\\Dokumente\\GitHub\\Masterpraktikum\\wandb\\run-20230821_125012-7qdxnacx\\files\\model-best\\assets\n"
     ]
    },
    {
     "name": "stderr",
     "output_type": "stream",
     "text": [
      "\u001B[34m\u001B[1mwandb\u001B[0m: Adding directory to artifact (C:\\Users\\micro\\OneDrive\\Dokumente\\GitHub\\Masterpraktikum\\wandb\\run-20230821_125012-7qdxnacx\\files\\model-best)... Done. 0.0s\n"
     ]
    },
    {
     "name": "stdout",
     "output_type": "stream",
     "text": [
      "147/147 [==============================] - 13s 91ms/step - loss: 0.6130 - categorical_accuracy: 0.7381 - val_loss: 0.5934 - val_categorical_accuracy: 0.7509\n",
      "Epoch 7/30\n",
      "146/147 [============================>.] - ETA: 0s - loss: 0.5799 - categorical_accuracy: 0.7567WARNING:tensorflow:Can save best model only with val_accuracy available, skipping.\n",
      "INFO:tensorflow:Assets written to: C:\\Users\\micro\\OneDrive\\Dokumente\\GitHub\\Masterpraktikum\\wandb\\run-20230821_125012-7qdxnacx\\files\\model-best\\assets\n"
     ]
    },
    {
     "name": "stderr",
     "output_type": "stream",
     "text": [
      "\u001B[34m\u001B[1mwandb\u001B[0m: Adding directory to artifact (C:\\Users\\micro\\OneDrive\\Dokumente\\GitHub\\Masterpraktikum\\wandb\\run-20230821_125012-7qdxnacx\\files\\model-best)... Done. 0.0s\n"
     ]
    },
    {
     "name": "stdout",
     "output_type": "stream",
     "text": [
      "147/147 [==============================] - 13s 89ms/step - loss: 0.5799 - categorical_accuracy: 0.7567 - val_loss: 0.5673 - val_categorical_accuracy: 0.7629\n",
      "Epoch 8/30\n",
      "146/147 [============================>.] - ETA: 0s - loss: 0.5590 - categorical_accuracy: 0.7652WARNING:tensorflow:Can save best model only with val_accuracy available, skipping.\n",
      "INFO:tensorflow:Assets written to: C:\\Users\\micro\\OneDrive\\Dokumente\\GitHub\\Masterpraktikum\\wandb\\run-20230821_125012-7qdxnacx\\files\\model-best\\assets\n"
     ]
    },
    {
     "name": "stderr",
     "output_type": "stream",
     "text": [
      "\u001B[34m\u001B[1mwandb\u001B[0m: Adding directory to artifact (C:\\Users\\micro\\OneDrive\\Dokumente\\GitHub\\Masterpraktikum\\wandb\\run-20230821_125012-7qdxnacx\\files\\model-best)... Done. 0.0s\n"
     ]
    },
    {
     "name": "stdout",
     "output_type": "stream",
     "text": [
      "147/147 [==============================] - 14s 94ms/step - loss: 0.5590 - categorical_accuracy: 0.7652 - val_loss: 0.5510 - val_categorical_accuracy: 0.7703\n",
      "Epoch 9/30\n",
      "146/147 [============================>.] - ETA: 0s - loss: 0.5460 - categorical_accuracy: 0.7700WARNING:tensorflow:Can save best model only with val_accuracy available, skipping.\n",
      "INFO:tensorflow:Assets written to: C:\\Users\\micro\\OneDrive\\Dokumente\\GitHub\\Masterpraktikum\\wandb\\run-20230821_125012-7qdxnacx\\files\\model-best\\assets\n"
     ]
    },
    {
     "name": "stderr",
     "output_type": "stream",
     "text": [
      "\u001B[34m\u001B[1mwandb\u001B[0m: Adding directory to artifact (C:\\Users\\micro\\OneDrive\\Dokumente\\GitHub\\Masterpraktikum\\wandb\\run-20230821_125012-7qdxnacx\\files\\model-best)... Done. 0.0s\n"
     ]
    },
    {
     "name": "stdout",
     "output_type": "stream",
     "text": [
      "147/147 [==============================] - 13s 87ms/step - loss: 0.5460 - categorical_accuracy: 0.7700 - val_loss: 0.5407 - val_categorical_accuracy: 0.7728\n",
      "Epoch 10/30\n",
      "146/147 [============================>.] - ETA: 0s - loss: 0.5369 - categorical_accuracy: 0.7734WARNING:tensorflow:Can save best model only with val_accuracy available, skipping.\n",
      "INFO:tensorflow:Assets written to: C:\\Users\\micro\\OneDrive\\Dokumente\\GitHub\\Masterpraktikum\\wandb\\run-20230821_125012-7qdxnacx\\files\\model-best\\assets\n"
     ]
    },
    {
     "name": "stderr",
     "output_type": "stream",
     "text": [
      "\u001B[34m\u001B[1mwandb\u001B[0m: Adding directory to artifact (C:\\Users\\micro\\OneDrive\\Dokumente\\GitHub\\Masterpraktikum\\wandb\\run-20230821_125012-7qdxnacx\\files\\model-best)... Done. 0.0s\n"
     ]
    },
    {
     "name": "stdout",
     "output_type": "stream",
     "text": [
      "147/147 [==============================] - 12s 85ms/step - loss: 0.5369 - categorical_accuracy: 0.7734 - val_loss: 0.5342 - val_categorical_accuracy: 0.7734\n",
      "Epoch 11/30\n",
      "146/147 [============================>.] - ETA: 0s - loss: 0.5306 - categorical_accuracy: 0.7757WARNING:tensorflow:Can save best model only with val_accuracy available, skipping.\n",
      "INFO:tensorflow:Assets written to: C:\\Users\\micro\\OneDrive\\Dokumente\\GitHub\\Masterpraktikum\\wandb\\run-20230821_125012-7qdxnacx\\files\\model-best\\assets\n"
     ]
    },
    {
     "name": "stderr",
     "output_type": "stream",
     "text": [
      "\u001B[34m\u001B[1mwandb\u001B[0m: Adding directory to artifact (C:\\Users\\micro\\OneDrive\\Dokumente\\GitHub\\Masterpraktikum\\wandb\\run-20230821_125012-7qdxnacx\\files\\model-best)... Done. 0.0s\n"
     ]
    },
    {
     "name": "stdout",
     "output_type": "stream",
     "text": [
      "147/147 [==============================] - 13s 85ms/step - loss: 0.5306 - categorical_accuracy: 0.7757 - val_loss: 0.5280 - val_categorical_accuracy: 0.7781\n",
      "Epoch 12/30\n",
      "146/147 [============================>.] - ETA: 0s - loss: 0.5255 - categorical_accuracy: 0.7775WARNING:tensorflow:Can save best model only with val_accuracy available, skipping.\n",
      "INFO:tensorflow:Assets written to: C:\\Users\\micro\\OneDrive\\Dokumente\\GitHub\\Masterpraktikum\\wandb\\run-20230821_125012-7qdxnacx\\files\\model-best\\assets\n"
     ]
    },
    {
     "name": "stderr",
     "output_type": "stream",
     "text": [
      "\u001B[34m\u001B[1mwandb\u001B[0m: Adding directory to artifact (C:\\Users\\micro\\OneDrive\\Dokumente\\GitHub\\Masterpraktikum\\wandb\\run-20230821_125012-7qdxnacx\\files\\model-best)... Done. 0.0s\n"
     ]
    },
    {
     "name": "stdout",
     "output_type": "stream",
     "text": [
      "147/147 [==============================] - 13s 89ms/step - loss: 0.5255 - categorical_accuracy: 0.7775 - val_loss: 0.5235 - val_categorical_accuracy: 0.7783\n",
      "Epoch 13/30\n",
      "146/147 [============================>.] - ETA: 0s - loss: 0.5218 - categorical_accuracy: 0.7790WARNING:tensorflow:Can save best model only with val_accuracy available, skipping.\n",
      "INFO:tensorflow:Assets written to: C:\\Users\\micro\\OneDrive\\Dokumente\\GitHub\\Masterpraktikum\\wandb\\run-20230821_125012-7qdxnacx\\files\\model-best\\assets\n"
     ]
    },
    {
     "name": "stderr",
     "output_type": "stream",
     "text": [
      "\u001B[34m\u001B[1mwandb\u001B[0m: Adding directory to artifact (C:\\Users\\micro\\OneDrive\\Dokumente\\GitHub\\Masterpraktikum\\wandb\\run-20230821_125012-7qdxnacx\\files\\model-best)... Done. 0.0s\n"
     ]
    },
    {
     "name": "stdout",
     "output_type": "stream",
     "text": [
      "147/147 [==============================] - 13s 89ms/step - loss: 0.5218 - categorical_accuracy: 0.7790 - val_loss: 0.5213 - val_categorical_accuracy: 0.7799\n",
      "Epoch 14/30\n",
      "146/147 [============================>.] - ETA: 0s - loss: 0.5190 - categorical_accuracy: 0.7799WARNING:tensorflow:Can save best model only with val_accuracy available, skipping.\n",
      "INFO:tensorflow:Assets written to: C:\\Users\\micro\\OneDrive\\Dokumente\\GitHub\\Masterpraktikum\\wandb\\run-20230821_125012-7qdxnacx\\files\\model-best\\assets\n"
     ]
    },
    {
     "name": "stderr",
     "output_type": "stream",
     "text": [
      "\u001B[34m\u001B[1mwandb\u001B[0m: Adding directory to artifact (C:\\Users\\micro\\OneDrive\\Dokumente\\GitHub\\Masterpraktikum\\wandb\\run-20230821_125012-7qdxnacx\\files\\model-best)... Done. 0.0s\n"
     ]
    },
    {
     "name": "stdout",
     "output_type": "stream",
     "text": [
      "147/147 [==============================] - 13s 86ms/step - loss: 0.5190 - categorical_accuracy: 0.7799 - val_loss: 0.5186 - val_categorical_accuracy: 0.7814\n",
      "Epoch 15/30\n",
      "146/147 [============================>.] - ETA: 0s - loss: 0.5169 - categorical_accuracy: 0.7805WARNING:tensorflow:Can save best model only with val_accuracy available, skipping.\n",
      "INFO:tensorflow:Assets written to: C:\\Users\\micro\\OneDrive\\Dokumente\\GitHub\\Masterpraktikum\\wandb\\run-20230821_125012-7qdxnacx\\files\\model-best\\assets\n"
     ]
    },
    {
     "name": "stderr",
     "output_type": "stream",
     "text": [
      "\u001B[34m\u001B[1mwandb\u001B[0m: Adding directory to artifact (C:\\Users\\micro\\OneDrive\\Dokumente\\GitHub\\Masterpraktikum\\wandb\\run-20230821_125012-7qdxnacx\\files\\model-best)... Done. 0.0s\n"
     ]
    },
    {
     "name": "stdout",
     "output_type": "stream",
     "text": [
      "147/147 [==============================] - 13s 86ms/step - loss: 0.5169 - categorical_accuracy: 0.7805 - val_loss: 0.5162 - val_categorical_accuracy: 0.7809\n",
      "Epoch 16/30\n",
      "146/147 [============================>.] - ETA: 0s - loss: 0.5149 - categorical_accuracy: 0.7814WARNING:tensorflow:Can save best model only with val_accuracy available, skipping.\n",
      "INFO:tensorflow:Assets written to: C:\\Users\\micro\\OneDrive\\Dokumente\\GitHub\\Masterpraktikum\\wandb\\run-20230821_125012-7qdxnacx\\files\\model-best\\assets\n"
     ]
    },
    {
     "name": "stderr",
     "output_type": "stream",
     "text": [
      "\u001B[34m\u001B[1mwandb\u001B[0m: Adding directory to artifact (C:\\Users\\micro\\OneDrive\\Dokumente\\GitHub\\Masterpraktikum\\wandb\\run-20230821_125012-7qdxnacx\\files\\model-best)... Done. 0.0s\n"
     ]
    },
    {
     "name": "stdout",
     "output_type": "stream",
     "text": [
      "147/147 [==============================] - 13s 88ms/step - loss: 0.5149 - categorical_accuracy: 0.7814 - val_loss: 0.5147 - val_categorical_accuracy: 0.7810\n",
      "Epoch 17/30\n",
      "146/147 [============================>.] - ETA: 0s - loss: 0.5135 - categorical_accuracy: 0.7818WARNING:tensorflow:Can save best model only with val_accuracy available, skipping.\n",
      "INFO:tensorflow:Assets written to: C:\\Users\\micro\\OneDrive\\Dokumente\\GitHub\\Masterpraktikum\\wandb\\run-20230821_125012-7qdxnacx\\files\\model-best\\assets\n"
     ]
    },
    {
     "name": "stderr",
     "output_type": "stream",
     "text": [
      "\u001B[34m\u001B[1mwandb\u001B[0m: Adding directory to artifact (C:\\Users\\micro\\OneDrive\\Dokumente\\GitHub\\Masterpraktikum\\wandb\\run-20230821_125012-7qdxnacx\\files\\model-best)... Done. 0.0s\n"
     ]
    },
    {
     "name": "stdout",
     "output_type": "stream",
     "text": [
      "147/147 [==============================] - 13s 89ms/step - loss: 0.5135 - categorical_accuracy: 0.7818 - val_loss: 0.5132 - val_categorical_accuracy: 0.7823\n",
      "Epoch 18/30\n",
      "146/147 [============================>.] - ETA: 0s - loss: 0.5117 - categorical_accuracy: 0.7822WARNING:tensorflow:Can save best model only with val_accuracy available, skipping.\n",
      "INFO:tensorflow:Assets written to: C:\\Users\\micro\\OneDrive\\Dokumente\\GitHub\\Masterpraktikum\\wandb\\run-20230821_125012-7qdxnacx\\files\\model-best\\assets\n"
     ]
    },
    {
     "name": "stderr",
     "output_type": "stream",
     "text": [
      "\u001B[34m\u001B[1mwandb\u001B[0m: Adding directory to artifact (C:\\Users\\micro\\OneDrive\\Dokumente\\GitHub\\Masterpraktikum\\wandb\\run-20230821_125012-7qdxnacx\\files\\model-best)... Done. 0.0s\n"
     ]
    },
    {
     "name": "stdout",
     "output_type": "stream",
     "text": [
      "147/147 [==============================] - 12s 85ms/step - loss: 0.5117 - categorical_accuracy: 0.7822 - val_loss: 0.5121 - val_categorical_accuracy: 0.7828\n",
      "Epoch 19/30\n",
      "146/147 [============================>.] - ETA: 0s - loss: 0.5106 - categorical_accuracy: 0.7829WARNING:tensorflow:Can save best model only with val_accuracy available, skipping.\n",
      "INFO:tensorflow:Assets written to: C:\\Users\\micro\\OneDrive\\Dokumente\\GitHub\\Masterpraktikum\\wandb\\run-20230821_125012-7qdxnacx\\files\\model-best\\assets\n"
     ]
    },
    {
     "name": "stderr",
     "output_type": "stream",
     "text": [
      "\u001B[34m\u001B[1mwandb\u001B[0m: Adding directory to artifact (C:\\Users\\micro\\OneDrive\\Dokumente\\GitHub\\Masterpraktikum\\wandb\\run-20230821_125012-7qdxnacx\\files\\model-best)... Done. 0.0s\n"
     ]
    },
    {
     "name": "stdout",
     "output_type": "stream",
     "text": [
      "147/147 [==============================] - 13s 87ms/step - loss: 0.5106 - categorical_accuracy: 0.7829 - val_loss: 0.5106 - val_categorical_accuracy: 0.7829\n",
      "Epoch 20/30\n",
      "146/147 [============================>.] - ETA: 0s - loss: 0.5092 - categorical_accuracy: 0.7833WARNING:tensorflow:Can save best model only with val_accuracy available, skipping.\n",
      "INFO:tensorflow:Assets written to: C:\\Users\\micro\\OneDrive\\Dokumente\\GitHub\\Masterpraktikum\\wandb\\run-20230821_125012-7qdxnacx\\files\\model-best\\assets\n"
     ]
    },
    {
     "name": "stderr",
     "output_type": "stream",
     "text": [
      "\u001B[34m\u001B[1mwandb\u001B[0m: Adding directory to artifact (C:\\Users\\micro\\OneDrive\\Dokumente\\GitHub\\Masterpraktikum\\wandb\\run-20230821_125012-7qdxnacx\\files\\model-best)... Done. 0.0s\n"
     ]
    },
    {
     "name": "stdout",
     "output_type": "stream",
     "text": [
      "147/147 [==============================] - 13s 85ms/step - loss: 0.5092 - categorical_accuracy: 0.7833 - val_loss: 0.5095 - val_categorical_accuracy: 0.7819\n",
      "Epoch 21/30\n",
      "146/147 [============================>.] - ETA: 0s - loss: 0.5083 - categorical_accuracy: 0.7834WARNING:tensorflow:Can save best model only with val_accuracy available, skipping.\n",
      "INFO:tensorflow:Assets written to: C:\\Users\\micro\\OneDrive\\Dokumente\\GitHub\\Masterpraktikum\\wandb\\run-20230821_125012-7qdxnacx\\files\\model-best\\assets\n"
     ]
    },
    {
     "name": "stderr",
     "output_type": "stream",
     "text": [
      "\u001B[34m\u001B[1mwandb\u001B[0m: Adding directory to artifact (C:\\Users\\micro\\OneDrive\\Dokumente\\GitHub\\Masterpraktikum\\wandb\\run-20230821_125012-7qdxnacx\\files\\model-best)... Done. 0.0s\n"
     ]
    },
    {
     "name": "stdout",
     "output_type": "stream",
     "text": [
      "147/147 [==============================] - 12s 85ms/step - loss: 0.5083 - categorical_accuracy: 0.7835 - val_loss: 0.5084 - val_categorical_accuracy: 0.7827\n",
      "Epoch 22/30\n",
      "146/147 [============================>.] - ETA: 0s - loss: 0.5072 - categorical_accuracy: 0.7836WARNING:tensorflow:Can save best model only with val_accuracy available, skipping.\n",
      "INFO:tensorflow:Assets written to: C:\\Users\\micro\\OneDrive\\Dokumente\\GitHub\\Masterpraktikum\\wandb\\run-20230821_125012-7qdxnacx\\files\\model-best\\assets\n"
     ]
    },
    {
     "name": "stderr",
     "output_type": "stream",
     "text": [
      "\u001B[34m\u001B[1mwandb\u001B[0m: Adding directory to artifact (C:\\Users\\micro\\OneDrive\\Dokumente\\GitHub\\Masterpraktikum\\wandb\\run-20230821_125012-7qdxnacx\\files\\model-best)... Done. 0.0s\n"
     ]
    },
    {
     "name": "stdout",
     "output_type": "stream",
     "text": [
      "147/147 [==============================] - 12s 84ms/step - loss: 0.5072 - categorical_accuracy: 0.7836 - val_loss: 0.5081 - val_categorical_accuracy: 0.7821\n",
      "Epoch 23/30\n",
      "146/147 [============================>.] - ETA: 0s - loss: 0.5060 - categorical_accuracy: 0.7842WARNING:tensorflow:Can save best model only with val_accuracy available, skipping.\n",
      "INFO:tensorflow:Assets written to: C:\\Users\\micro\\OneDrive\\Dokumente\\GitHub\\Masterpraktikum\\wandb\\run-20230821_125012-7qdxnacx\\files\\model-best\\assets\n"
     ]
    },
    {
     "name": "stderr",
     "output_type": "stream",
     "text": [
      "\u001B[34m\u001B[1mwandb\u001B[0m: Adding directory to artifact (C:\\Users\\micro\\OneDrive\\Dokumente\\GitHub\\Masterpraktikum\\wandb\\run-20230821_125012-7qdxnacx\\files\\model-best)... Done. 0.0s\n"
     ]
    },
    {
     "name": "stdout",
     "output_type": "stream",
     "text": [
      "147/147 [==============================] - 12s 85ms/step - loss: 0.5060 - categorical_accuracy: 0.7842 - val_loss: 0.5066 - val_categorical_accuracy: 0.7842\n",
      "Epoch 24/30\n",
      "146/147 [============================>.] - ETA: 0s - loss: 0.5051 - categorical_accuracy: 0.7843WARNING:tensorflow:Can save best model only with val_accuracy available, skipping.\n",
      "INFO:tensorflow:Assets written to: C:\\Users\\micro\\OneDrive\\Dokumente\\GitHub\\Masterpraktikum\\wandb\\run-20230821_125012-7qdxnacx\\files\\model-best\\assets\n"
     ]
    },
    {
     "name": "stderr",
     "output_type": "stream",
     "text": [
      "\u001B[34m\u001B[1mwandb\u001B[0m: Adding directory to artifact (C:\\Users\\micro\\OneDrive\\Dokumente\\GitHub\\Masterpraktikum\\wandb\\run-20230821_125012-7qdxnacx\\files\\model-best)... Done. 0.0s\n"
     ]
    },
    {
     "name": "stdout",
     "output_type": "stream",
     "text": [
      "147/147 [==============================] - 13s 85ms/step - loss: 0.5051 - categorical_accuracy: 0.7843 - val_loss: 0.5056 - val_categorical_accuracy: 0.7850\n",
      "Epoch 25/30\n",
      "146/147 [============================>.] - ETA: 0s - loss: 0.5041 - categorical_accuracy: 0.7847WARNING:tensorflow:Can save best model only with val_accuracy available, skipping.\n",
      "147/147 [==============================] - 12s 81ms/step - loss: 0.5041 - categorical_accuracy: 0.7847 - val_loss: 0.5102 - val_categorical_accuracy: 0.7791\n",
      "Epoch 26/30\n",
      "146/147 [============================>.] - ETA: 0s - loss: 0.5036 - categorical_accuracy: 0.7847WARNING:tensorflow:Can save best model only with val_accuracy available, skipping.\n",
      "INFO:tensorflow:Assets written to: C:\\Users\\micro\\OneDrive\\Dokumente\\GitHub\\Masterpraktikum\\wandb\\run-20230821_125012-7qdxnacx\\files\\model-best\\assets\n"
     ]
    },
    {
     "name": "stderr",
     "output_type": "stream",
     "text": [
      "\u001B[34m\u001B[1mwandb\u001B[0m: Adding directory to artifact (C:\\Users\\micro\\OneDrive\\Dokumente\\GitHub\\Masterpraktikum\\wandb\\run-20230821_125012-7qdxnacx\\files\\model-best)... Done. 0.0s\n"
     ]
    },
    {
     "name": "stdout",
     "output_type": "stream",
     "text": [
      "147/147 [==============================] - 13s 86ms/step - loss: 0.5036 - categorical_accuracy: 0.7847 - val_loss: 0.5040 - val_categorical_accuracy: 0.7849\n",
      "Epoch 27/30\n",
      "146/147 [============================>.] - ETA: 0s - loss: 0.5023 - categorical_accuracy: 0.7851WARNING:tensorflow:Can save best model only with val_accuracy available, skipping.\n",
      "INFO:tensorflow:Assets written to: C:\\Users\\micro\\OneDrive\\Dokumente\\GitHub\\Masterpraktikum\\wandb\\run-20230821_125012-7qdxnacx\\files\\model-best\\assets\n"
     ]
    },
    {
     "name": "stderr",
     "output_type": "stream",
     "text": [
      "\u001B[34m\u001B[1mwandb\u001B[0m: Adding directory to artifact (C:\\Users\\micro\\OneDrive\\Dokumente\\GitHub\\Masterpraktikum\\wandb\\run-20230821_125012-7qdxnacx\\files\\model-best)... Done. 0.0s\n"
     ]
    },
    {
     "name": "stdout",
     "output_type": "stream",
     "text": [
      "147/147 [==============================] - 12s 85ms/step - loss: 0.5023 - categorical_accuracy: 0.7851 - val_loss: 0.5036 - val_categorical_accuracy: 0.7840\n",
      "Epoch 28/30\n",
      "146/147 [============================>.] - ETA: 0s - loss: 0.5016 - categorical_accuracy: 0.7856WARNING:tensorflow:Can save best model only with val_accuracy available, skipping.\n",
      "INFO:tensorflow:Assets written to: C:\\Users\\micro\\OneDrive\\Dokumente\\GitHub\\Masterpraktikum\\wandb\\run-20230821_125012-7qdxnacx\\files\\model-best\\assets\n"
     ]
    },
    {
     "name": "stderr",
     "output_type": "stream",
     "text": [
      "\u001B[34m\u001B[1mwandb\u001B[0m: Adding directory to artifact (C:\\Users\\micro\\OneDrive\\Dokumente\\GitHub\\Masterpraktikum\\wandb\\run-20230821_125012-7qdxnacx\\files\\model-best)... Done. 0.0s\n"
     ]
    },
    {
     "name": "stdout",
     "output_type": "stream",
     "text": [
      "147/147 [==============================] - 12s 85ms/step - loss: 0.5016 - categorical_accuracy: 0.7856 - val_loss: 0.5027 - val_categorical_accuracy: 0.7857\n",
      "Epoch 29/30\n",
      "146/147 [============================>.] - ETA: 0s - loss: 0.5007 - categorical_accuracy: 0.7858WARNING:tensorflow:Can save best model only with val_accuracy available, skipping.\n",
      "INFO:tensorflow:Assets written to: C:\\Users\\micro\\OneDrive\\Dokumente\\GitHub\\Masterpraktikum\\wandb\\run-20230821_125012-7qdxnacx\\files\\model-best\\assets\n"
     ]
    },
    {
     "name": "stderr",
     "output_type": "stream",
     "text": [
      "\u001B[34m\u001B[1mwandb\u001B[0m: Adding directory to artifact (C:\\Users\\micro\\OneDrive\\Dokumente\\GitHub\\Masterpraktikum\\wandb\\run-20230821_125012-7qdxnacx\\files\\model-best)... Done. 0.0s\n"
     ]
    },
    {
     "name": "stdout",
     "output_type": "stream",
     "text": [
      "147/147 [==============================] - 12s 85ms/step - loss: 0.5007 - categorical_accuracy: 0.7858 - val_loss: 0.5023 - val_categorical_accuracy: 0.7854\n",
      "Epoch 30/30\n",
      "146/147 [============================>.] - ETA: 0s - loss: 0.4999 - categorical_accuracy: 0.7859WARNING:tensorflow:Can save best model only with val_accuracy available, skipping.\n",
      "INFO:tensorflow:Assets written to: C:\\Users\\micro\\OneDrive\\Dokumente\\GitHub\\Masterpraktikum\\wandb\\run-20230821_125012-7qdxnacx\\files\\model-best\\assets\n"
     ]
    },
    {
     "name": "stderr",
     "output_type": "stream",
     "text": [
      "\u001B[34m\u001B[1mwandb\u001B[0m: Adding directory to artifact (C:\\Users\\micro\\OneDrive\\Dokumente\\GitHub\\Masterpraktikum\\wandb\\run-20230821_125012-7qdxnacx\\files\\model-best)... Done. 0.0s\n"
     ]
    },
    {
     "name": "stdout",
     "output_type": "stream",
     "text": [
      "147/147 [==============================] - 12s 85ms/step - loss: 0.4999 - categorical_accuracy: 0.7859 - val_loss: 0.5012 - val_categorical_accuracy: 0.7866\n"
     ]
    }
   ],
   "source": [
    "# Train the model\n",
    "# X_train, X_test, y_train, y_test\n",
    "history_embed = model_embed.fit(train_ds_embed, train_labels_embed, epochs=30, batch_size=4096, validation_data=(val_ds_embed, val_labels_embed), callbacks=[checkpoint_callback_embed, early_stopping_embed, WandbCallback()]) #WandbCallback()"
   ],
   "metadata": {
    "collapsed": false,
    "ExecuteTime": {
     "end_time": "2023-08-21T10:56:54.872481500Z",
     "start_time": "2023-08-21T10:50:33.421536800Z"
    }
   }
  },
  {
   "cell_type": "code",
   "execution_count": 196,
   "outputs": [
    {
     "name": "stdout",
     "output_type": "stream",
     "text": [
      "08212023\n"
     ]
    }
   ],
   "source": [
    "import datetime\n",
    "date = datetime.datetime.now().strftime(\"%m%d%Y\")\n",
    "print(date)"
   ],
   "metadata": {
    "collapsed": false,
    "ExecuteTime": {
     "end_time": "2023-08-21T12:52:00.788809800Z",
     "start_time": "2023-08-21T12:52:00.755433400Z"
    }
   }
  },
  {
   "cell_type": "code",
   "execution_count": 197,
   "outputs": [],
   "source": [
    "model_embed.save(f'precursor_charge_prediction_model_embed/history_embed_150epoch_{date}.h5')"
   ],
   "metadata": {
    "collapsed": false,
    "ExecuteTime": {
     "end_time": "2023-08-21T12:52:02.151741600Z",
     "start_time": "2023-08-21T12:52:02.021229Z"
    }
   }
  },
  {
   "cell_type": "code",
   "execution_count": 198,
   "outputs": [
    {
     "data": {
      "text/plain": "<Figure size 1200x600 with 2 Axes>",
      "image/png": "[encoded data removed]"
     },
     "metadata": {},
     "output_type": "display_data"
    }
   ],
   "source": [
    "# Access the loss, validation loss, and accuracy from the history object\n",
    "loss = history_embed.history['loss']\n",
    "val_loss = history_embed.history['val_loss']\n",
    "accuracy = history_embed.history['categorical_accuracy']\n",
    "val_accuracy = history_embed.history['val_categorical_accuracy']\n",
    "\n",
    "# Plot the loss, validation loss, and accuracy curves\n",
    "epochs = range(1, len(loss) + 1)\n",
    "\n",
    "# Create subplots\n",
    "fig2, (ax1, ax2) = plt.subplots(1, 2, figsize=(12, 6))\n",
    "\n",
    "# Plot loss and validation loss\n",
    "ax1.plot(epochs, loss, 'b', label='Training Loss')\n",
    "ax1.plot(epochs, val_loss, 'r', label='Validation Loss')\n",
    "ax1.set_title('Training and Validation Loss')\n",
    "ax1.set_xlabel('Epochs')\n",
    "ax1.set_ylabel('Loss')\n",
    "ax1.legend()\n",
    "\n",
    "# Plot accuracy and validation accuracy\n",
    "ax2.plot(epochs, accuracy, 'b', label='Training Accuracy')\n",
    "ax2.plot(epochs, val_accuracy, 'r', label='Validation Accuracy')\n",
    "ax2.set_title('Training and Validation Accuracy')\n",
    "ax2.set_xlabel('Epochs')\n",
    "ax2.set_ylabel('Accuracy')\n",
    "ax2.legend()\n",
    "\n",
    "# Adjust spacing between subplots\n",
    "plt.tight_layout()\n",
    "\n",
    "# Show the plots\n",
    "plt.show()"
   ],
   "metadata": {
    "collapsed": false,
    "ExecuteTime": {
     "end_time": "2023-08-21T12:52:03.655235900Z",
     "start_time": "2023-08-21T12:52:03.256775700Z"
    }
   }
  },
  {
   "cell_type": "markdown",
   "source": [
    "# Inference"
   ],
   "metadata": {
    "collapsed": false
   }
  },
  {
   "cell_type": "code",
   "execution_count": 199,
   "outputs": [],
   "source": [
    "def decode_one_hot(one_hot, charges = [1,2,3,4,5,6]):\n",
    "    for index, hot in enumerate(one_hot):\n",
    "        if hot == 1:\n",
    "            return charges[index]"
   ],
   "metadata": {
    "collapsed": false,
    "ExecuteTime": {
     "end_time": "2023-08-21T12:52:10.182525Z",
     "start_time": "2023-08-21T12:52:10.121944200Z"
    }
   }
  },
  {
   "cell_type": "code",
   "execution_count": 200,
   "outputs": [],
   "source": [
    "def predictions_no_hot(one_hot, charges = [1,2,3,4,5,6]):\n",
    "    index = np.argmax(one_hot)\n",
    "    return(charges[index])"
   ],
   "metadata": {
    "collapsed": false,
    "ExecuteTime": {
     "end_time": "2023-08-21T12:52:11.118583600Z",
     "start_time": "2023-08-21T12:52:11.054996600Z"
    }
   }
  },
  {
   "cell_type": "code",
   "execution_count": 201,
   "outputs": [
    {
     "data": {
      "text/plain": "4"
     },
     "execution_count": 201,
     "metadata": {},
     "output_type": "execute_result"
    }
   ],
   "source": [
    "np.argmax([0, 0 ,0 ,0, 1])"
   ],
   "metadata": {
    "collapsed": false,
    "ExecuteTime": {
     "end_time": "2023-08-21T12:52:12.579030700Z",
     "start_time": "2023-08-21T12:52:12.523394200Z"
    }
   }
  },
  {
   "cell_type": "code",
   "execution_count": 226,
   "outputs": [
    {
     "name": "stdout",
     "output_type": "stream",
     "text": [
      "[1.2747392e-01 8.6265469e-01 9.8505383e-03 2.0754635e-05 1.9375770e-08\n",
      " 2.6272868e-09]\n"
     ]
    }
   ],
   "source": [
    "# test predict for one\n",
    "for index, row in test_df.iterrows():\n",
    "    solut1 = np.expand_dims(tf.convert_to_tensor(np.array(test_df.at[index, \"modified_sequence_vector\"])), axis=0)\n",
    "    test_give = model_embed.predict(solut1, verbose=False)\n",
    "    break\n",
    "print(test_give[0])"
   ],
   "metadata": {
    "collapsed": false,
    "ExecuteTime": {
     "end_time": "2023-08-21T14:24:37.435490800Z",
     "start_time": "2023-08-21T14:24:37.296987600Z"
    }
   }
  },
  {
   "cell_type": "code",
   "execution_count": 202,
   "outputs": [],
   "source": [
    "test_df = pd.DataFrame(columns=['modified_sequence_vector', 'true_label', 'pred_label'])\n",
    "# every row of tensor to list\n",
    "test_df['modified_sequence_vector'] = test_ds_embed.numpy().tolist()\n",
    "test_df['true_label'] = test_labels_embed.numpy().tolist()\n",
    "test_df['pred_label'] = None\n",
    "test_df['true_label'] = test_df['true_label'].apply(decode_one_hot)"
   ],
   "metadata": {
    "collapsed": false,
    "ExecuteTime": {
     "end_time": "2023-08-21T12:52:15.508870800Z",
     "start_time": "2023-08-21T12:52:13.887553100Z"
    }
   }
  },
  {
   "cell_type": "code",
   "execution_count": 203,
   "outputs": [],
   "source": [
    "# PREDICT\n",
    "for index, row in test_df.iterrows():\n",
    "    solut = np.expand_dims(tf.convert_to_tensor(test_df.at[index, \"modified_sequence_vector\"]), axis=0)\n",
    "    test_df.at[index, 'prediction'] = model_embed.predict(solut, verbose=False)"
   ],
   "metadata": {
    "collapsed": false,
    "ExecuteTime": {
     "end_time": "2023-08-21T13:49:55.512140100Z",
     "start_time": "2023-08-21T12:52:30.452815100Z"
    }
   }
  },
  {
   "cell_type": "code",
   "execution_count": 223,
   "outputs": [],
   "source": [
    "test_df['pred_label'] = test_df['prediction'].apply(predictions_no_hot)"
   ],
   "metadata": {
    "collapsed": false,
    "ExecuteTime": {
     "end_time": "2023-08-21T14:24:20.664721700Z",
     "start_time": "2023-08-21T14:24:17.726284900Z"
    }
   }
  },
  {
   "cell_type": "code",
   "execution_count": 235,
   "outputs": [
    {
     "data": {
      "text/plain": "                            modified_sequence_vector  true_label  pred_label  \\\n0  [4, 18, 1, 1, 1, 15, 1, 1, 4, 17, 4, 0, 0, 0, ...           2           2   \n1  [16, 12, 16, 10, 15, 10, 16, 10, 8, 6, 3, 15, ...           2           2   \n2  [4, 22, 10, 17, 15, 1, 8, 9, 17, 14, 10, 18, 1...           3           3   \n3  [8, 13, 15, 18, 17, 17, 13, 10, 16, 16, 10, 0,...           2           2   \n\n                                          prediction  \n0  [0.12747392, 0.8626547, 0.009850538, 2.0754635...  \n1  [0.00020726993, 0.5206397, 0.476445, 0.0027061...  \n2  [3.4061266e-06, 0.25153342, 0.7321024, 0.01633...  \n3  [0.043792143, 0.93763536, 0.018512432, 6.00232...  ",
      "text/html": "<div>\n<style scoped>\n    .dataframe tbody tr th:only-of-type {\n        vertical-align: middle;\n    }\n\n    .dataframe tbody tr th {\n        vertical-align: top;\n    }\n\n    .dataframe thead th {\n        text-align: right;\n    }\n</style>\n<table border=\"1\" class=\"dataframe\">\n  <thead>\n    <tr style=\"text-align: right;\">\n      <th></th>\n      <th>modified_sequence_vector</th>\n      <th>true_label</th>\n      <th>pred_label</th>\n      <th>prediction</th>\n    </tr>\n  </thead>\n  <tbody>\n    <tr>\n      <th>0</th>\n      <td>[4, 18, 1, 1, 1, 15, 1, 1, 4, 17, 4, 0, 0, 0, ...</td>\n      <td>2</td>\n      <td>2</td>\n      <td>[0.12747392, 0.8626547, 0.009850538, 2.0754635...</td>\n    </tr>\n    <tr>\n      <th>1</th>\n      <td>[16, 12, 16, 10, 15, 10, 16, 10, 8, 6, 3, 15, ...</td>\n      <td>2</td>\n      <td>2</td>\n      <td>[0.00020726993, 0.5206397, 0.476445, 0.0027061...</td>\n    </tr>\n    <tr>\n      <th>2</th>\n      <td>[4, 22, 10, 17, 15, 1, 8, 9, 17, 14, 10, 18, 1...</td>\n      <td>3</td>\n      <td>3</td>\n      <td>[3.4061266e-06, 0.25153342, 0.7321024, 0.01633...</td>\n    </tr>\n    <tr>\n      <th>3</th>\n      <td>[8, 13, 15, 18, 17, 17, 13, 10, 16, 16, 10, 0,...</td>\n      <td>2</td>\n      <td>2</td>\n      <td>[0.043792143, 0.93763536, 0.018512432, 6.00232...</td>\n    </tr>\n  </tbody>\n</table>\n</div>"
     },
     "execution_count": 235,
     "metadata": {},
     "output_type": "execute_result"
    }
   ],
   "source": [
    "test_df.head(4)"
   ],
   "metadata": {
    "collapsed": false,
    "ExecuteTime": {
     "end_time": "2023-08-21T14:26:29.136007300Z",
     "start_time": "2023-08-21T14:26:29.087207800Z"
    }
   }
  },
  {
   "cell_type": "code",
   "execution_count": 238,
   "outputs": [
    {
     "name": "stdout",
     "output_type": "stream",
     "text": [
      "0.7874389157699622 65422 83082\n"
     ]
    }
   ],
   "source": [
    "# iterate all rows of grouped_df_embed\n",
    "size_of_df = test_df.shape[0]\n",
    "true_counter = 0\n",
    "for index, row in test_df.iterrows():\n",
    "    if row['true_label'] == row['pred_label']:\n",
    "        true_counter += 1\n",
    "\n",
    "print(true_counter/size_of_df, true_counter, size_of_df)"
   ],
   "metadata": {
    "collapsed": false,
    "ExecuteTime": {
     "end_time": "2023-08-21T14:27:10.950936Z",
     "start_time": "2023-08-21T14:27:07.702485300Z"
    }
   }
  },
  {
   "cell_type": "code",
   "execution_count": 239,
   "outputs": [
    {
     "data": {
      "text/plain": "1.2850972089384687"
     },
     "execution_count": 239,
     "metadata": {},
     "output_type": "execute_result"
    }
   ],
   "source": [
    "1 / np.log10(6) # TODO sanity check, look into formula"
   ],
   "metadata": {
    "collapsed": false,
    "ExecuteTime": {
     "end_time": "2023-08-21T14:27:15.163466400Z",
     "start_time": "2023-08-21T14:27:15.111672300Z"
    }
   }
  },
  {
   "cell_type": "code",
   "execution_count": 240,
   "outputs": [
    {
     "name": "stdout",
     "output_type": "stream",
     "text": [
      "[[ 2759  1364     3     0     0     0]\n",
      " [  580 37685  6950   109     4     0]\n",
      " [    6  3740 20827  1436    30     1]\n",
      " [    0    81  2459  3822   139     2]\n",
      " [    0     4    26   549   312    12]\n",
      " [    0     0    14    54    97    17]]\n",
      "Accuracy:  0.7874389157699622\n",
      "Precision:  0.7931974691922175\n",
      "Recall:  0.7874389157699622\n",
      "F1:  0.7875832467871225\n"
     ]
    },
    {
     "data": {
      "text/plain": "<sklearn.metrics._plot.confusion_matrix.ConfusionMatrixDisplay at 0x1fb6cac98d0>"
     },
     "execution_count": 240,
     "metadata": {},
     "output_type": "execute_result"
    },
    {
     "data": {
      "text/plain": "<Figure size 640x480 with 2 Axes>",
      "image/png": "[encoded data removed]"
     },
     "metadata": {},
     "output_type": "display_data"
    }
   ],
   "source": [
    "from sklearn.metrics import classification_report, confusion_matrix, accuracy_score, precision_score, recall_score, f1_score, ConfusionMatrixDisplay\n",
    "import seaborn as sn\n",
    "\n",
    "true_labels = test_df['true_label']\n",
    "predicted_labels = test_df['pred_label']\n",
    "\n",
    "cm = confusion_matrix(true_labels, predicted_labels)\n",
    "print(cm)\n",
    "print(\"Accuracy: \", accuracy_score(true_labels, predicted_labels))\n",
    "# TODO calculate for score for each class (and/or average)\n",
    "# TODO lookup logic for weighted, macro etc. -> presentation\n",
    "print(\"Precision: \", precision_score(true_labels, predicted_labels, average='weighted'))\n",
    "print(\"Recall: \", recall_score(true_labels, predicted_labels, average='weighted'))\n",
    "print(\"F1: \", f1_score(true_labels, predicted_labels, average='weighted'))\n",
    "disp = ConfusionMatrixDisplay(confusion_matrix=cm, display_labels=class_names)\n",
    "disp.plot(cmap=plt.cm.Blues, xticks_rotation=45)\n",
    "\n",
    "#sn.heatmap(cm2, annot=True, cmap=\"crest\")\n",
    "# TODO  check if most abundant is chosen"
   ],
   "metadata": {
    "collapsed": false,
    "ExecuteTime": {
     "end_time": "2023-08-21T14:27:17.966895200Z",
     "start_time": "2023-08-21T14:27:17.394808Z"
    }
   }
  },
  {
   "cell_type": "markdown",
   "source": [],
   "metadata": {
    "collapsed": false
   }
  },
  {
   "cell_type": "code",
   "execution_count": 241,
   "outputs": [],
   "source": [
    "from sklearn.metrics import confusion_matrix\n",
    "\n",
    "new_df = pd.DataFrame(columns=['charge','accuracy'])\n",
    "\n",
    "matrix = confusion_matrix(true_labels, predicted_labels)\n",
    "new_df['charge'] = [1,2,3,4,5,6]\n",
    "new_df['accuracy'] = matrix.diagonal()/matrix.sum(axis=1)\n"
   ],
   "metadata": {
    "collapsed": false,
    "ExecuteTime": {
     "end_time": "2023-08-21T14:27:52.827958100Z",
     "start_time": "2023-08-21T14:27:52.658087900Z"
    }
   }
  },
  {
   "cell_type": "code",
   "execution_count": 242,
   "outputs": [
    {
     "data": {
      "text/plain": "   charge  accuracy\n0       1  0.668686\n1       2  0.831385\n2       3  0.799808\n3       4  0.587729\n4       5  0.345515\n5       6  0.093407",
      "text/html": "<div>\n<style scoped>\n    .dataframe tbody tr th:only-of-type {\n        vertical-align: middle;\n    }\n\n    .dataframe tbody tr th {\n        vertical-align: top;\n    }\n\n    .dataframe thead th {\n        text-align: right;\n    }\n</style>\n<table border=\"1\" class=\"dataframe\">\n  <thead>\n    <tr style=\"text-align: right;\">\n      <th></th>\n      <th>charge</th>\n      <th>accuracy</th>\n    </tr>\n  </thead>\n  <tbody>\n    <tr>\n      <th>0</th>\n      <td>1</td>\n      <td>0.668686</td>\n    </tr>\n    <tr>\n      <th>1</th>\n      <td>2</td>\n      <td>0.831385</td>\n    </tr>\n    <tr>\n      <th>2</th>\n      <td>3</td>\n      <td>0.799808</td>\n    </tr>\n    <tr>\n      <th>3</th>\n      <td>4</td>\n      <td>0.587729</td>\n    </tr>\n    <tr>\n      <th>4</th>\n      <td>5</td>\n      <td>0.345515</td>\n    </tr>\n    <tr>\n      <th>5</th>\n      <td>6</td>\n      <td>0.093407</td>\n    </tr>\n  </tbody>\n</table>\n</div>"
     },
     "execution_count": 242,
     "metadata": {},
     "output_type": "execute_result"
    }
   ],
   "source": [
    "new_df"
   ],
   "metadata": {
    "collapsed": false,
    "ExecuteTime": {
     "end_time": "2023-08-21T14:27:55.345908300Z",
     "start_time": "2023-08-21T14:27:55.257715200Z"
    }
   }
  },
  {
   "cell_type": "markdown",
   "source": [
    "# Outputs to compare with prosit"
   ],
   "metadata": {
    "collapsed": false
   }
  },
  {
   "cell_type": "code",
   "execution_count": 247,
   "outputs": [],
   "source": [
    "np.array(train_ds_embed).tofile('comparison_files/train_ds_embed.tsv', sep=\"\\t\")\n",
    "np.array(train_labels_embed).tofile('comparison_files/train_labels_embed.tsv', sep=\"\\t\")\n",
    "np.array(val_ds_embed).tofile('comparison_files/val_ds_embed.tsv', sep=\"\\t\")\n",
    "np.array(val_labels_embed).tofile('comparison_files/val_labels_embed.tsv', sep=\"\\t\")\n",
    "np.array(test_ds_embed).tofile('comparison_files/test_ds_embed.tsv', sep=\"\\t\")\n",
    "np.array(test_labels_embed).tofile('comparison_files/test_labels_embed.tsv', sep=\"\\t\")"
   ],
   "metadata": {
    "collapsed": false,
    "ExecuteTime": {
     "end_time": "2023-08-21T14:37:23.200279600Z",
     "start_time": "2023-08-21T14:37:12.421538200Z"
    }
   }
  },
  {
   "cell_type": "markdown",
   "source": [
    "# IGNORE FROM HERE"
   ],
   "metadata": {
    "collapsed": false
   }
  },
  {
   "cell_type": "markdown",
   "source": [
    "## Check in with Franzi's group for reporting"
   ],
   "metadata": {
    "collapsed": false
   },
   "outputs": [],
   "execution_count": 63
  },
  {
   "cell_type": "markdown",
   "source": [
    "### Multilable Model\n",
    "#### WIP in precursor_charge_predictor"
   ],
   "metadata": {
    "collapsed": false,
    "ExecuteTime": {
     "end_time": "2023-07-24T12:27:56.122188900Z",
     "start_time": "2023-07-24T12:27:55.994945600Z"
    }
   },
   "outputs": [],
   "execution_count": 3
  },
  {
   "cell_type": "code",
   "execution_count": 34,
   "outputs": [],
   "source": [],
   "metadata": {
    "collapsed": false,
    "ExecuteTime": {
     "end_time": "2023-08-03T08:42:27.504839100Z",
     "start_time": "2023-08-03T08:42:25.311855700Z"
    }
   }
  },
  {
   "cell_type": "markdown",
   "source": [
    "## Model Testing\n",
    "### check if models only predict charge 2 or also other charges. Due to 'overrepresentation' the best bet for the model could be to only output charge state 2"
   ],
   "metadata": {
    "collapsed": false,
    "ExecuteTime": {
     "end_time": "2023-07-24T12:28:17.283401900Z",
     "start_time": "2023-07-24T12:28:17.212145Z"
    }
   },
   "outputs": [
    {
     "ename": "TypeError",
     "evalue": "'NoneType' object is not subscriptable",
     "output_type": "error",
     "traceback": [
      "\u001B[1;31m---------------------------------------------------------------------------\u001B[0m",
      "\u001B[1;31mTypeError\u001B[0m                                 Traceback (most recent call last)",
      "Cell \u001B[1;32mIn[6], line 2\u001B[0m\n\u001B[0;32m      1\u001B[0m \u001B[38;5;66;03m# Access the loss, validation loss, and accuracy from the history object\u001B[39;00m\n\u001B[1;32m----> 2\u001B[0m loss \u001B[38;5;241m=\u001B[39m \u001B[43mhistory_cce\u001B[49m\u001B[38;5;241;43m.\u001B[39;49m\u001B[43mhistory\u001B[49m\u001B[43m[\u001B[49m\u001B[38;5;124;43m'\u001B[39;49m\u001B[38;5;124;43mloss\u001B[39;49m\u001B[38;5;124;43m'\u001B[39;49m\u001B[43m]\u001B[49m\n\u001B[0;32m      3\u001B[0m val_loss \u001B[38;5;241m=\u001B[39m history_cce\u001B[38;5;241m.\u001B[39mhistory[\u001B[38;5;124m'\u001B[39m\u001B[38;5;124mval_loss\u001B[39m\u001B[38;5;124m'\u001B[39m]\n\u001B[0;32m      4\u001B[0m accuracy \u001B[38;5;241m=\u001B[39m history_cce\u001B[38;5;241m.\u001B[39mhistory[\u001B[38;5;124m'\u001B[39m\u001B[38;5;124maccuracy\u001B[39m\u001B[38;5;124m'\u001B[39m]\n",
      "\u001B[1;31mTypeError\u001B[0m: 'NoneType' object is not subscriptable"
     ]
    }
   ],
   "execution_count": 6
  },
  {
   "cell_type": "code",
   "execution_count": 34,
   "outputs": [],
   "source": [],
   "metadata": {
    "collapsed": false,
    "ExecuteTime": {
     "end_time": "2023-08-03T08:42:27.533910200Z",
     "start_time": "2023-08-03T08:42:25.395523800Z"
    }
   }
  },
  {
   "cell_type": "markdown",
   "source": [
    "## Hyperparameter Tuning"
   ],
   "metadata": {
    "collapsed": false
   }
  },
  {
   "cell_type": "code",
   "execution_count": 34,
   "outputs": [],
   "source": [],
   "metadata": {
    "collapsed": false,
    "ExecuteTime": {
     "end_time": "2023-08-03T08:42:27.540908800Z",
     "start_time": "2023-08-03T08:42:25.482155200Z"
    }
   }
  },
  {
   "cell_type": "markdown",
   "source": [],
   "metadata": {
    "collapsed": false
   }
  },
  {
   "cell_type": "code",
   "execution_count": 34,
   "outputs": [],
   "source": [],
   "metadata": {
    "collapsed": false,
    "ExecuteTime": {
     "end_time": "2023-08-03T08:42:27.568911Z",
     "start_time": "2023-08-03T08:42:25.571726600Z"
    }
   }
  },
  {
   "cell_type": "markdown",
   "source": [
    "# Inference"
   ],
   "metadata": {
    "collapsed": false
   }
  },
  {
   "cell_type": "code",
   "execution_count": 35,
   "outputs": [
    {
     "data": {
      "text/plain": "2    1401912\n3     787278\n4     220159\n5      34381\n1      26371\n6       4417\nName: precursor_charge, dtype: int64"
     },
     "execution_count": 35,
     "metadata": {},
     "output_type": "execute_result"
    }
   ],
   "source": [
    "batches_parquet[file_list[1]][\"precursor_charge\"].value_counts()"
   ],
   "metadata": {
    "collapsed": false,
    "ExecuteTime": {
     "end_time": "2023-08-03T08:42:27.756256500Z",
     "start_time": "2023-08-03T08:42:25.656261500Z"
    }
   }
  },
  {
   "cell_type": "code",
   "execution_count": 36,
   "outputs": [
    {
     "ename": "OSError",
     "evalue": "No file or directory found at precursor_charge_prediction_model_cce_alpha/cce_wo7_allSequences.h5",
     "output_type": "error",
     "traceback": [
      "\u001B[1;31m---------------------------------------------------------------------------\u001B[0m",
      "\u001B[1;31mOSError\u001B[0m                                   Traceback (most recent call last)",
      "Cell \u001B[1;32mIn[36], line 1\u001B[0m\n\u001B[1;32m----> 1\u001B[0m last_model \u001B[38;5;241m=\u001B[39m \u001B[43mkeras\u001B[49m\u001B[38;5;241;43m.\u001B[39;49m\u001B[43mmodels\u001B[49m\u001B[38;5;241;43m.\u001B[39;49m\u001B[43mload_model\u001B[49m\u001B[43m(\u001B[49m\u001B[38;5;124;43m'\u001B[39;49m\u001B[38;5;124;43mprecursor_charge_prediction_model_cce_alpha/cce_wo7_allSequences.h5\u001B[39;49m\u001B[38;5;124;43m'\u001B[39;49m\u001B[43m)\u001B[49m\n",
      "File \u001B[1;32m~\\OneDrive\\Dokumente\\GitHub\\BachelorThesis\\venv\\Lib\\site-packages\\keras\\saving\\saving_api.py:212\u001B[0m, in \u001B[0;36mload_model\u001B[1;34m(filepath, custom_objects, compile, safe_mode, **kwargs)\u001B[0m\n\u001B[0;32m    204\u001B[0m     \u001B[38;5;28;01mreturn\u001B[39;00m saving_lib\u001B[38;5;241m.\u001B[39mload_model(\n\u001B[0;32m    205\u001B[0m         filepath,\n\u001B[0;32m    206\u001B[0m         custom_objects\u001B[38;5;241m=\u001B[39mcustom_objects,\n\u001B[0;32m    207\u001B[0m         \u001B[38;5;28mcompile\u001B[39m\u001B[38;5;241m=\u001B[39m\u001B[38;5;28mcompile\u001B[39m,\n\u001B[0;32m    208\u001B[0m         safe_mode\u001B[38;5;241m=\u001B[39msafe_mode,\n\u001B[0;32m    209\u001B[0m     )\n\u001B[0;32m    211\u001B[0m \u001B[38;5;66;03m# Legacy case.\u001B[39;00m\n\u001B[1;32m--> 212\u001B[0m \u001B[38;5;28;01mreturn\u001B[39;00m \u001B[43mlegacy_sm_saving_lib\u001B[49m\u001B[38;5;241;43m.\u001B[39;49m\u001B[43mload_model\u001B[49m\u001B[43m(\u001B[49m\n\u001B[0;32m    213\u001B[0m \u001B[43m    \u001B[49m\u001B[43mfilepath\u001B[49m\u001B[43m,\u001B[49m\u001B[43m \u001B[49m\u001B[43mcustom_objects\u001B[49m\u001B[38;5;241;43m=\u001B[39;49m\u001B[43mcustom_objects\u001B[49m\u001B[43m,\u001B[49m\u001B[43m \u001B[49m\u001B[38;5;28;43mcompile\u001B[39;49m\u001B[38;5;241;43m=\u001B[39;49m\u001B[38;5;28;43mcompile\u001B[39;49m\u001B[43m,\u001B[49m\u001B[43m \u001B[49m\u001B[38;5;241;43m*\u001B[39;49m\u001B[38;5;241;43m*\u001B[39;49m\u001B[43mkwargs\u001B[49m\n\u001B[0;32m    214\u001B[0m \u001B[43m\u001B[49m\u001B[43m)\u001B[49m\n",
      "File \u001B[1;32m~\\OneDrive\\Dokumente\\GitHub\\BachelorThesis\\venv\\Lib\\site-packages\\keras\\utils\\traceback_utils.py:70\u001B[0m, in \u001B[0;36mfilter_traceback.<locals>.error_handler\u001B[1;34m(*args, **kwargs)\u001B[0m\n\u001B[0;32m     67\u001B[0m     filtered_tb \u001B[38;5;241m=\u001B[39m _process_traceback_frames(e\u001B[38;5;241m.\u001B[39m__traceback__)\n\u001B[0;32m     68\u001B[0m     \u001B[38;5;66;03m# To get the full stack trace, call:\u001B[39;00m\n\u001B[0;32m     69\u001B[0m     \u001B[38;5;66;03m# `tf.debugging.disable_traceback_filtering()`\u001B[39;00m\n\u001B[1;32m---> 70\u001B[0m     \u001B[38;5;28;01mraise\u001B[39;00m e\u001B[38;5;241m.\u001B[39mwith_traceback(filtered_tb) \u001B[38;5;28;01mfrom\u001B[39;00m \u001B[38;5;28mNone\u001B[39m\n\u001B[0;32m     71\u001B[0m \u001B[38;5;28;01mfinally\u001B[39;00m:\n\u001B[0;32m     72\u001B[0m     \u001B[38;5;28;01mdel\u001B[39;00m filtered_tb\n",
      "File \u001B[1;32m~\\OneDrive\\Dokumente\\GitHub\\BachelorThesis\\venv\\Lib\\site-packages\\keras\\saving\\legacy\\save.py:230\u001B[0m, in \u001B[0;36mload_model\u001B[1;34m(filepath, custom_objects, compile, options)\u001B[0m\n\u001B[0;32m    228\u001B[0m \u001B[38;5;28;01mif\u001B[39;00m \u001B[38;5;28misinstance\u001B[39m(filepath_str, \u001B[38;5;28mstr\u001B[39m):\n\u001B[0;32m    229\u001B[0m     \u001B[38;5;28;01mif\u001B[39;00m \u001B[38;5;129;01mnot\u001B[39;00m tf\u001B[38;5;241m.\u001B[39mio\u001B[38;5;241m.\u001B[39mgfile\u001B[38;5;241m.\u001B[39mexists(filepath_str):\n\u001B[1;32m--> 230\u001B[0m         \u001B[38;5;28;01mraise\u001B[39;00m \u001B[38;5;167;01mIOError\u001B[39;00m(\n\u001B[0;32m    231\u001B[0m             \u001B[38;5;124mf\u001B[39m\u001B[38;5;124m\"\u001B[39m\u001B[38;5;124mNo file or directory found at \u001B[39m\u001B[38;5;132;01m{\u001B[39;00mfilepath_str\u001B[38;5;132;01m}\u001B[39;00m\u001B[38;5;124m\"\u001B[39m\n\u001B[0;32m    232\u001B[0m         )\n\u001B[0;32m    234\u001B[0m     \u001B[38;5;28;01mif\u001B[39;00m tf\u001B[38;5;241m.\u001B[39mio\u001B[38;5;241m.\u001B[39mgfile\u001B[38;5;241m.\u001B[39misdir(filepath_str):\n\u001B[0;32m    235\u001B[0m         \u001B[38;5;28;01mreturn\u001B[39;00m saved_model_load\u001B[38;5;241m.\u001B[39mload(\n\u001B[0;32m    236\u001B[0m             filepath_str, \u001B[38;5;28mcompile\u001B[39m, options\n\u001B[0;32m    237\u001B[0m         )\n",
      "\u001B[1;31mOSError\u001B[0m: No file or directory found at precursor_charge_prediction_model_cce_alpha/cce_wo7_allSequences.h5"
     ]
    }
   ],
   "source": [
    "last_model = keras.models.load_model('precursor_charge_prediction_model_cce_alpha/cce_wo7_allSequences.h5')"
   ],
   "metadata": {
    "collapsed": false,
    "ExecuteTime": {
     "start_time": "2023-08-03T08:42:25.674139100Z"
    }
   }
  },
  {
   "cell_type": "code",
   "execution_count": null,
   "outputs": [],
   "source": [
    "batches_parquet.keys()"
   ],
   "metadata": {
    "collapsed": false,
    "ExecuteTime": {
     "start_time": "2023-08-03T08:42:25.705539100Z"
    }
   }
  },
  {
   "cell_type": "code",
   "execution_count": null,
   "outputs": [],
   "source": [
    "# Make validation data\n",
    "inference_df = batches_parquet[file_list[1]][[\"precursor_charge\", \"modified_sequence_vector\", \"precursor_intensity\"]].copy()"
   ],
   "metadata": {
    "collapsed": false,
    "ExecuteTime": {
     "start_time": "2023-08-03T08:42:25.706538100Z"
    }
   }
  },
  {
   "cell_type": "code",
   "execution_count": null,
   "outputs": [],
   "source": [
    "inference_df.head(4)"
   ],
   "metadata": {
    "collapsed": false,
    "ExecuteTime": {
     "start_time": "2023-08-03T08:42:25.707540100Z"
    }
   }
  },
  {
   "cell_type": "code",
   "execution_count": null,
   "outputs": [],
   "source": [
    "[len(i) for i in inference_df[\"modified_sequence_vector\"] if len(i) != 50]"
   ],
   "metadata": {
    "collapsed": false,
    "ExecuteTime": {
     "start_time": "2023-08-03T08:42:25.708539900Z"
    }
   }
  },
  {
   "cell_type": "code",
   "execution_count": null,
   "outputs": [],
   "source": [
    "inference_df = inference_df[inference_df['modified_sequence_vector'].apply(lambda x: len(x) <= 50)]"
   ],
   "metadata": {
    "collapsed": false,
    "ExecuteTime": {
     "start_time": "2023-08-03T08:42:25.709538Z"
    }
   }
  },
  {
   "cell_type": "markdown",
   "source": [],
   "metadata": {
    "collapsed": false
   }
  },
  {
   "cell_type": "code",
   "execution_count": 37,
   "outputs": [
    {
     "ename": "NameError",
     "evalue": "name 'inference_df' is not defined",
     "output_type": "error",
     "traceback": [
      "\u001B[1;31m---------------------------------------------------------------------------\u001B[0m",
      "\u001B[1;31mNameError\u001B[0m                                 Traceback (most recent call last)",
      "Cell \u001B[1;32mIn[37], line 1\u001B[0m\n\u001B[1;32m----> 1\u001B[0m [\u001B[38;5;28mlen\u001B[39m(i) \u001B[38;5;28;01mfor\u001B[39;00m i \u001B[38;5;129;01min\u001B[39;00m \u001B[43minference_df\u001B[49m[\u001B[38;5;124m\"\u001B[39m\u001B[38;5;124mmodified_sequence_vector\u001B[39m\u001B[38;5;124m\"\u001B[39m] \u001B[38;5;28;01mif\u001B[39;00m \u001B[38;5;28mlen\u001B[39m(i) \u001B[38;5;241m!=\u001B[39m \u001B[38;5;241m50\u001B[39m]\n",
      "\u001B[1;31mNameError\u001B[0m: name 'inference_df' is not defined"
     ]
    }
   ],
   "source": [
    "[len(i) for i in inference_df[\"modified_sequence_vector\"] if len(i) != 50]"
   ],
   "metadata": {
    "collapsed": false,
    "ExecuteTime": {
     "start_time": "2023-08-03T08:42:25.744538500Z"
    }
   }
  },
  {
   "cell_type": "code",
   "execution_count": null,
   "outputs": [],
   "source": [
    "[i for i in inference_df[\"precursor_charge\"] if i not in [2,3,4]]"
   ],
   "metadata": {
    "collapsed": false,
    "ExecuteTime": {
     "start_time": "2023-08-03T08:42:25.757303300Z"
    }
   }
  },
  {
   "cell_type": "code",
   "execution_count": null,
   "outputs": [],
   "source": [
    "[i for i in inference_df[\"precursor_intensity\"] if i > 1000000000000]"
   ],
   "metadata": {
    "collapsed": false,
    "ExecuteTime": {
     "start_time": "2023-08-03T08:42:25.758304Z"
    }
   }
  },
  {
   "cell_type": "code",
   "execution_count": null,
   "outputs": [],
   "source": [
    "inference_df"
   ],
   "metadata": {
    "collapsed": false,
    "ExecuteTime": {
     "start_time": "2023-08-03T08:42:25.759305100Z"
    }
   }
  },
  {
   "cell_type": "markdown",
   "source": [],
   "metadata": {
    "collapsed": false
   }
  },
  {
   "cell_type": "code",
   "execution_count": 38,
   "outputs": [
    {
     "ename": "NameError",
     "evalue": "name 'inference_df' is not defined",
     "output_type": "error",
     "traceback": [
      "\u001B[1;31m---------------------------------------------------------------------------\u001B[0m",
      "\u001B[1;31mNameError\u001B[0m                                 Traceback (most recent call last)",
      "Cell \u001B[1;32mIn[38], line 1\u001B[0m\n\u001B[1;32m----> 1\u001B[0m inference_df[\u001B[38;5;28mlist\u001B[39m(\u001B[38;5;28mrange\u001B[39m(\u001B[38;5;241m0\u001B[39m, \u001B[38;5;241m50\u001B[39m))] \u001B[38;5;241m=\u001B[39m pd\u001B[38;5;241m.\u001B[39mDataFrame(\u001B[43minference_df\u001B[49m[\u001B[38;5;124m\"\u001B[39m\u001B[38;5;124mmodified_sequence_vector\u001B[39m\u001B[38;5;124m\"\u001B[39m]\u001B[38;5;241m.\u001B[39mtolist(), index\u001B[38;5;241m=\u001B[39m inference_df\u001B[38;5;241m.\u001B[39mindex)\n",
      "\u001B[1;31mNameError\u001B[0m: name 'inference_df' is not defined"
     ]
    }
   ],
   "source": [
    "inference_df[list(range(0, 50))] = pd.DataFrame(inference_df[\"modified_sequence_vector\"].tolist(), index= inference_df.index)"
   ],
   "metadata": {
    "collapsed": false,
    "ExecuteTime": {
     "start_time": "2023-08-03T08:42:25.830829100Z"
    }
   }
  },
  {
   "cell_type": "code",
   "execution_count": null,
   "outputs": [],
   "source": [
    "inference_df.drop(\"modified_sequence_vector\", axis=1, inplace=True)"
   ],
   "metadata": {
    "collapsed": false,
    "ExecuteTime": {
     "start_time": "2023-08-03T08:42:25.843902500Z"
    }
   }
  },
  {
   "cell_type": "code",
   "execution_count": null,
   "outputs": [],
   "source": [
    "inference_df.head(4)"
   ],
   "metadata": {
    "collapsed": false,
    "ExecuteTime": {
     "start_time": "2023-08-03T08:42:25.844902200Z"
    }
   }
  },
  {
   "cell_type": "code",
   "execution_count": null,
   "outputs": [],
   "source": [
    "inference_ds = tf.convert_to_tensor(inference_df)"
   ],
   "metadata": {
    "collapsed": false,
    "ExecuteTime": {
     "start_time": "2023-08-03T08:42:25.845904400Z"
    }
   }
  },
  {
   "cell_type": "code",
   "execution_count": null,
   "outputs": [],
   "source": [
    "inference_target = inference_ds[:, 0]\n",
    "inference_features = inference_ds[:, 1:]"
   ],
   "metadata": {
    "collapsed": false,
    "ExecuteTime": {
     "start_time": "2023-08-03T08:42:25.846907800Z"
    }
   }
  },
  {
   "cell_type": "code",
   "execution_count": null,
   "outputs": [],
   "source": [
    "inference_target_labels =  np.array([one_hot_precursor(i, charges=charge_ranges) for i in inference_target])"
   ],
   "metadata": {
    "collapsed": false,
    "ExecuteTime": {
     "start_time": "2023-08-03T08:42:25.847905400Z"
    }
   }
  },
  {
   "cell_type": "code",
   "execution_count": null,
   "outputs": [],
   "source": [
    "results = model_cce.evaluate(inference_features, inference_target_labels, batch_size=256)\n",
    "print(\"test loss, test acc:\", results)"
   ],
   "metadata": {
    "collapsed": false,
    "ExecuteTime": {
     "start_time": "2023-08-03T08:42:25.849904200Z"
    }
   }
  },
  {
   "cell_type": "markdown",
   "source": [
    "## Evaluate the models\n",
    "- confusion matrix\n",
    "- accuracy\n",
    "- loss"
   ],
   "metadata": {
    "collapsed": false
   }
  },
  {
   "cell_type": "markdown",
   "source": [
    "Confusion Matrix"
   ],
   "metadata": {
    "collapsed": false
   }
  },
  {
   "cell_type": "code",
   "execution_count": 39,
   "outputs": [
    {
     "ename": "AxisError",
     "evalue": "axis 1 is out of bounds for array of dimension 1",
     "output_type": "error",
     "traceback": [
      "\u001B[1;31m---------------------------------------------------------------------------\u001B[0m",
      "\u001B[1;31mAxisError\u001B[0m                                 Traceback (most recent call last)",
      "Cell \u001B[1;32mIn[39], line 2\u001B[0m\n\u001B[0;32m      1\u001B[0m \u001B[38;5;28;01mimport\u001B[39;00m \u001B[38;5;21;01msklearn\u001B[39;00m\n\u001B[1;32m----> 2\u001B[0m matrix \u001B[38;5;241m=\u001B[39m sklearn\u001B[38;5;241m.\u001B[39mmetrics\u001B[38;5;241m.\u001B[39mconfusion_matrix(\u001B[43mtrain_ds_labels\u001B[49m\u001B[38;5;241;43m.\u001B[39;49m\u001B[43margmax\u001B[49m\u001B[43m(\u001B[49m\u001B[43maxis\u001B[49m\u001B[38;5;241;43m=\u001B[39;49m\u001B[38;5;241;43m1\u001B[39;49m\u001B[43m)\u001B[49m, inference_target_labels\u001B[38;5;241m.\u001B[39margmax(axis\u001B[38;5;241m=\u001B[39m\u001B[38;5;241m1\u001B[39m))\n",
      "\u001B[1;31mAxisError\u001B[0m: axis 1 is out of bounds for array of dimension 1"
     ]
    }
   ],
   "source": [
    "import sklearn\n",
    "matrix = sklearn.metrics.confusion_matrix(train_ds_labels.argmax(axis=1), inference_target_labels.argmax(axis=1))"
   ],
   "metadata": {
    "collapsed": false,
    "ExecuteTime": {
     "start_time": "2023-08-03T08:42:26.001443700Z"
    }
   }
  },
  {
   "cell_type": "code",
   "execution_count": null,
   "outputs": [],
   "source": [
    "#!pip install scikit-learn\n",
    "#!pip install numpy --upgrade\n",
    "#!pip install pandas --upgrade\n",
    "#!pip install matplotlib --upgrade\n",
    "from sklearn.metrics import confusion_matrix\n",
    "from sklearn.metrics import classification_report\n",
    "import pandas as pd\n",
    "#do_predictions = model.predict(test_ds)\n",
    "\n",
    "y_pred = []\n",
    "y_true = []\n",
    "\n",
    "# iterate over the dataset\n",
    "for index, i in enumerate(inference_ds):   # use dataset.unbatch() with repeat\n",
    "   print(inference_target_labels[index])\n",
    "   print(inference_features[index])\n",
    "   # append true labels\n",
    "   y_true.append(inference_target_labels[index])\n",
    "   # compute predictions\n",
    "   preds = model_cce.predict(inference_features[index])\n",
    "   # append predicted labels\n",
    "   y_pred.append(np.argmax(preds, axis = -1))\n",
    "# convert the true and predicted labels into tensors\n",
    "true_labels = tf.cast(tf.concat([item for item in y_true], axis = 0), tf.float32)\n",
    "predicted_labels = tf.cast(tf.concat([item for item in y_pred], axis = 0), tf.float32)\n",
    "\n",
    "\n",
    "cm = confusion_matrix(true_labels, predicted_labels)\n",
    "#print(cm)\n",
    "report = classification_report(true_labels,predicted_labels, target_names=class_names)\n",
    "\n",
    "report_dict = classification_report(true_labels, predicted_labels, output_dict=True)\n",
    "#print(report_dict)\n",
    "print(report)\n",
    "\n",
    "#pd.DataFrame(report_dict).transpose()\n"
   ],
   "metadata": {
    "collapsed": false,
    "ExecuteTime": {
     "start_time": "2023-08-03T08:42:26.013394300Z"
    }
   }
  },
  {
   "cell_type": "markdown",
   "source": [
    "Accuracy/ Sens/ Spec"
   ],
   "metadata": {
    "collapsed": false,
    "ExecuteTime": {
     "end_time": "2023-07-24T12:31:25.645324800Z",
     "start_time": "2023-07-24T12:31:25.552652300Z"
    }
   },
   "outputs": [],
   "execution_count": 15
  },
  {
   "cell_type": "code",
   "execution_count": 40,
   "outputs": [
    {
     "ename": "NameError",
     "evalue": "name 'true_labels' is not defined",
     "output_type": "error",
     "traceback": [
      "\u001B[1;31m---------------------------------------------------------------------------\u001B[0m",
      "\u001B[1;31mNameError\u001B[0m                                 Traceback (most recent call last)",
      "Cell \u001B[1;32mIn[40], line 30\u001B[0m\n\u001B[0;32m     26\u001B[0m     \u001B[38;5;28;01mreturn\u001B[39;00m numerator \u001B[38;5;241m/\u001B[39m (denominator \u001B[38;5;241m+\u001B[39m K\u001B[38;5;241m.\u001B[39mepsilon())\n\u001B[0;32m     29\u001B[0m \u001B[38;5;66;03m#print(true_labels, predicted_labels)\u001B[39;00m\n\u001B[1;32m---> 30\u001B[0m \u001B[38;5;28mprint\u001B[39m(\u001B[38;5;124m\"\u001B[39m\u001B[38;5;124m matthews_correlation(rounded): \u001B[39m\u001B[38;5;124m\"\u001B[39m, (matthews_correlation(\u001B[43mtrue_labels\u001B[49m, predicted_labels)\u001B[38;5;241m.\u001B[39mnumpy()))\n",
      "\u001B[1;31mNameError\u001B[0m: name 'true_labels' is not defined"
     ]
    }
   ],
   "source": [
    "import keras.backend as K\n",
    "def matthews_correlation(y_true, y_pred):\n",
    "    #print(y_pred.shape, y_true.shape)\n",
    "    y_pred_pos = K.round(K.clip(y_pred, 0, 1))\n",
    "    y_pred_neg = 1 - y_pred_pos\n",
    "\n",
    "    y_pos = K.round(K.clip(y_true, 0, 1))\n",
    "    y_neg = 1 - y_pos\n",
    "\n",
    "    tp = K.sum(K.cast(y_pos * y_pred_pos, 'float32'))\n",
    "    tn = K.sum(K.cast(y_neg * y_pred_neg, 'float32'))\n",
    "    fp = K.sum(K.cast(y_neg * y_pred_pos, 'float32'))\n",
    "    fn = K.sum(K.cast(y_pos * y_pred_neg, 'float32'))\n",
    "\n",
    "    print(\"OVERALL:\")\n",
    "    print(\" Accuracy \", ((tp + tn) / (tp + tn + fp + fn)).numpy())\n",
    "    print(\" Sensitivity \", (tp / (tp + fn)).numpy())\n",
    "    print(\" Specificity \", (tn / (tn + fp)).numpy())\n",
    "\n",
    "    numerator = (tp * tn - fp * fn)\n",
    "    #print(tp.numpy(), fp.numpy())\n",
    "    test = (((tp + fp) * (tp + fn) * (tn + fp) * (tn + fn)))\n",
    "    #print(test)\n",
    "    denominator = K.sqrt(K.cast(test, 'float32'))\n",
    "\n",
    "    return numerator / (denominator + K.epsilon())\n",
    "\n",
    "\n",
    "#print(true_labels, predicted_labels)\n",
    "print(\" matthews_correlation(rounded): \", (matthews_correlation(true_labels, predicted_labels).numpy()))"
   ],
   "metadata": {
    "collapsed": false,
    "ExecuteTime": {
     "start_time": "2023-08-03T08:42:26.111427600Z"
    }
   }
  },
  {
   "cell_type": "markdown",
   "source": [
    "MCC"
   ],
   "metadata": {
    "collapsed": false,
    "ExecuteTime": {
     "end_time": "2023-07-24T12:31:59.929377Z",
     "start_time": "2023-07-24T12:31:45.294917300Z"
    }
   },
   "outputs": [
    {
     "ename": "ValueError",
     "evalue": "Columns must be same length as key",
     "output_type": "error",
     "traceback": [
      "\u001B[1;31m---------------------------------------------------------------------------\u001B[0m",
      "\u001B[1;31mValueError\u001B[0m                                Traceback (most recent call last)",
      "Cell \u001B[1;32mIn[18], line 3\u001B[0m\n\u001B[0;32m      1\u001B[0m split_to_columns \u001B[38;5;241m=\u001B[39m \u001B[38;5;28;01mTrue\u001B[39;00m \u001B[38;5;66;03m# TODO SET BOOL\u001B[39;00m\n\u001B[0;32m      2\u001B[0m \u001B[38;5;28;01mif\u001B[39;00m split_to_columns:\n\u001B[1;32m----> 3\u001B[0m     \u001B[43minference_df\u001B[49m\u001B[43m[\u001B[49m\u001B[38;5;28;43mlist\u001B[39;49m\u001B[43m(\u001B[49m\u001B[38;5;28;43mrange\u001B[39;49m\u001B[43m(\u001B[49m\u001B[38;5;241;43m0\u001B[39;49m\u001B[43m,\u001B[49m\u001B[43m \u001B[49m\u001B[38;5;241;43m40\u001B[39;49m\u001B[43m)\u001B[49m\u001B[43m)\u001B[49m\u001B[43m]\u001B[49m \u001B[38;5;241m=\u001B[39m pd\u001B[38;5;241m.\u001B[39mDataFrame(inference_df[\u001B[38;5;124m\"\u001B[39m\u001B[38;5;124mmodified_sequence_vector\u001B[39m\u001B[38;5;124m\"\u001B[39m]\u001B[38;5;241m.\u001B[39mtolist(), index\u001B[38;5;241m=\u001B[39m inference_df\u001B[38;5;241m.\u001B[39mindex)\n\u001B[0;32m      4\u001B[0m     inference_df\u001B[38;5;241m.\u001B[39mdrop(\u001B[38;5;124m\"\u001B[39m\u001B[38;5;124mmodified_sequence_vector\u001B[39m\u001B[38;5;124m\"\u001B[39m, axis\u001B[38;5;241m=\u001B[39m\u001B[38;5;241m1\u001B[39m, inplace\u001B[38;5;241m=\u001B[39m\u001B[38;5;28;01mTrue\u001B[39;00m)\n",
      "File \u001B[1;32m~\\OneDrive\\Dokumente\\GitHub\\BachelorThesis\\venv\\Lib\\site-packages\\pandas\\core\\frame.py:3968\u001B[0m, in \u001B[0;36mDataFrame.__setitem__\u001B[1;34m(self, key, value)\u001B[0m\n\u001B[0;32m   3966\u001B[0m     \u001B[38;5;28mself\u001B[39m\u001B[38;5;241m.\u001B[39m_setitem_frame(key, value)\n\u001B[0;32m   3967\u001B[0m \u001B[38;5;28;01melif\u001B[39;00m \u001B[38;5;28misinstance\u001B[39m(key, (Series, np\u001B[38;5;241m.\u001B[39mndarray, \u001B[38;5;28mlist\u001B[39m, Index)):\n\u001B[1;32m-> 3968\u001B[0m     \u001B[38;5;28;43mself\u001B[39;49m\u001B[38;5;241;43m.\u001B[39;49m\u001B[43m_setitem_array\u001B[49m\u001B[43m(\u001B[49m\u001B[43mkey\u001B[49m\u001B[43m,\u001B[49m\u001B[43m \u001B[49m\u001B[43mvalue\u001B[49m\u001B[43m)\u001B[49m\n\u001B[0;32m   3969\u001B[0m \u001B[38;5;28;01melif\u001B[39;00m \u001B[38;5;28misinstance\u001B[39m(value, DataFrame):\n\u001B[0;32m   3970\u001B[0m     \u001B[38;5;28mself\u001B[39m\u001B[38;5;241m.\u001B[39m_set_item_frame_value(key, value)\n",
      "File \u001B[1;32m~\\OneDrive\\Dokumente\\GitHub\\BachelorThesis\\venv\\Lib\\site-packages\\pandas\\core\\frame.py:4010\u001B[0m, in \u001B[0;36mDataFrame._setitem_array\u001B[1;34m(self, key, value)\u001B[0m\n\u001B[0;32m   4005\u001B[0m \u001B[38;5;28;01melse\u001B[39;00m:\n\u001B[0;32m   4006\u001B[0m     \u001B[38;5;66;03m# Note: unlike self.iloc[:, indexer] = value, this will\u001B[39;00m\n\u001B[0;32m   4007\u001B[0m     \u001B[38;5;66;03m#  never try to overwrite values inplace\u001B[39;00m\n\u001B[0;32m   4009\u001B[0m     \u001B[38;5;28;01mif\u001B[39;00m \u001B[38;5;28misinstance\u001B[39m(value, DataFrame):\n\u001B[1;32m-> 4010\u001B[0m         \u001B[43mcheck_key_length\u001B[49m\u001B[43m(\u001B[49m\u001B[38;5;28;43mself\u001B[39;49m\u001B[38;5;241;43m.\u001B[39;49m\u001B[43mcolumns\u001B[49m\u001B[43m,\u001B[49m\u001B[43m \u001B[49m\u001B[43mkey\u001B[49m\u001B[43m,\u001B[49m\u001B[43m \u001B[49m\u001B[43mvalue\u001B[49m\u001B[43m)\u001B[49m\n\u001B[0;32m   4011\u001B[0m         \u001B[38;5;28;01mfor\u001B[39;00m k1, k2 \u001B[38;5;129;01min\u001B[39;00m \u001B[38;5;28mzip\u001B[39m(key, value\u001B[38;5;241m.\u001B[39mcolumns):\n\u001B[0;32m   4012\u001B[0m             \u001B[38;5;28mself\u001B[39m[k1] \u001B[38;5;241m=\u001B[39m value[k2]\n",
      "File \u001B[1;32m~\\OneDrive\\Dokumente\\GitHub\\BachelorThesis\\venv\\Lib\\site-packages\\pandas\\core\\indexers\\utils.py:401\u001B[0m, in \u001B[0;36mcheck_key_length\u001B[1;34m(columns, key, value)\u001B[0m\n\u001B[0;32m    399\u001B[0m \u001B[38;5;28;01mif\u001B[39;00m columns\u001B[38;5;241m.\u001B[39mis_unique:\n\u001B[0;32m    400\u001B[0m     \u001B[38;5;28;01mif\u001B[39;00m \u001B[38;5;28mlen\u001B[39m(value\u001B[38;5;241m.\u001B[39mcolumns) \u001B[38;5;241m!=\u001B[39m \u001B[38;5;28mlen\u001B[39m(key):\n\u001B[1;32m--> 401\u001B[0m         \u001B[38;5;28;01mraise\u001B[39;00m \u001B[38;5;167;01mValueError\u001B[39;00m(\u001B[38;5;124m\"\u001B[39m\u001B[38;5;124mColumns must be same length as key\u001B[39m\u001B[38;5;124m\"\u001B[39m)\n\u001B[0;32m    402\u001B[0m \u001B[38;5;28;01melse\u001B[39;00m:\n\u001B[0;32m    403\u001B[0m     \u001B[38;5;66;03m# Missing keys in columns are represented as -1\u001B[39;00m\n\u001B[0;32m    404\u001B[0m     \u001B[38;5;28;01mif\u001B[39;00m \u001B[38;5;28mlen\u001B[39m(columns\u001B[38;5;241m.\u001B[39mget_indexer_non_unique(key)[\u001B[38;5;241m0\u001B[39m]) \u001B[38;5;241m!=\u001B[39m \u001B[38;5;28mlen\u001B[39m(value\u001B[38;5;241m.\u001B[39mcolumns):\n",
      "\u001B[1;31mValueError\u001B[0m: Columns must be same length as key"
     ]
    }
   ],
   "execution_count": 18
  },
  {
   "cell_type": "code",
   "execution_count": 41,
   "outputs": [
    {
     "ename": "NameError",
     "evalue": "name 'true_labels' is not defined",
     "output_type": "error",
     "traceback": [
      "\u001B[1;31m---------------------------------------------------------------------------\u001B[0m",
      "\u001B[1;31mNameError\u001B[0m                                 Traceback (most recent call last)",
      "Cell \u001B[1;32mIn[41], line 3\u001B[0m\n\u001B[0;32m      1\u001B[0m \u001B[38;5;28;01mfrom\u001B[39;00m \u001B[38;5;21;01msklearn\u001B[39;00m\u001B[38;5;21;01m.\u001B[39;00m\u001B[38;5;21;01mmetrics\u001B[39;00m \u001B[38;5;28;01mimport\u001B[39;00m matthews_corrcoef\n\u001B[1;32m----> 3\u001B[0m \u001B[38;5;28mprint\u001B[39m(\u001B[38;5;124m\"\u001B[39m\u001B[38;5;124mmatthews_correlation:\u001B[39m\u001B[38;5;124m\"\u001B[39m, matthews_corrcoef(\u001B[43mtrue_labels\u001B[49m, predicted_labels))\n",
      "\u001B[1;31mNameError\u001B[0m: name 'true_labels' is not defined"
     ]
    }
   ],
   "source": [
    "from sklearn.metrics import matthews_corrcoef\n",
    "\n",
    "print(\"matthews_correlation:\", matthews_corrcoef(true_labels, predicted_labels))"
   ],
   "metadata": {
    "collapsed": false,
    "ExecuteTime": {
     "start_time": "2023-08-03T08:42:26.195470800Z"
    }
   }
  },
  {
   "cell_type": "markdown",
   "source": [
    "Direct eval:"
   ],
   "metadata": {
    "collapsed": false
   }
  },
  {
   "cell_type": "code",
   "execution_count": 42,
   "outputs": [],
   "source": [
    "from tensorflow.keras.metrics import Precision, Recall, BinaryAccuracy\n",
    "\n",
    "eval_prec = Precision()\n",
    "eval_rec = Recall()\n",
    "eval_acc = BinaryAccuracy()"
   ],
   "metadata": {
    "collapsed": false,
    "ExecuteTime": {
     "end_time": "2023-08-03T08:42:28.231146800Z",
     "start_time": "2023-08-03T08:42:26.279159100Z"
    }
   }
  },
  {
   "cell_type": "code",
   "execution_count": 43,
   "outputs": [
    {
     "ename": "NameError",
     "evalue": "name 'test_ds' is not defined",
     "output_type": "error",
     "traceback": [
      "\u001B[1;31m---------------------------------------------------------------------------\u001B[0m",
      "\u001B[1;31mNameError\u001B[0m                                 Traceback (most recent call last)",
      "Cell \u001B[1;32mIn[43], line 1\u001B[0m\n\u001B[1;32m----> 1\u001B[0m \u001B[38;5;28;01mfor\u001B[39;00m batch \u001B[38;5;129;01min\u001B[39;00m \u001B[43mtest_ds\u001B[49m\u001B[38;5;241m.\u001B[39mas_numpy_iterator():\n\u001B[0;32m      2\u001B[0m     X, y \u001B[38;5;241m=\u001B[39m batch\n\u001B[0;32m      3\u001B[0m     y \u001B[38;5;241m=\u001B[39m tf\u001B[38;5;241m.\u001B[39mkeras\u001B[38;5;241m.\u001B[39mutils\u001B[38;5;241m.\u001B[39mto_categorical(y, num_classes\u001B[38;5;241m=\u001B[39m\u001B[38;5;241m13\u001B[39m, dtype\u001B[38;5;241m=\u001B[39m\u001B[38;5;124m'\u001B[39m\u001B[38;5;124mint\u001B[39m\u001B[38;5;124m'\u001B[39m)\n",
      "\u001B[1;31mNameError\u001B[0m: name 'test_ds' is not defined"
     ]
    }
   ],
   "source": [
    "for batch in test_ds.as_numpy_iterator():\n",
    "    X, y = batch\n",
    "    y = tf.keras.utils.to_categorical(y, num_classes=13, dtype='int')\n",
    "    yhat = model.predict(X)\n",
    "    eval_prec.update_state(y, yhat)\n",
    "    eval_rec.update_state(y, yhat)\n",
    "    eval_acc.update_state(y, yhat)"
   ],
   "metadata": {
    "collapsed": false,
    "ExecuteTime": {
     "start_time": "2023-08-03T08:42:26.338089500Z"
    }
   }
  },
  {
   "cell_type": "code",
   "execution_count": null,
   "outputs": [],
   "source": [
    "print(f'Precision: {eval_prec.result().numpy()}, Recall: {eval_rec.result().numpy()}, Accuracy: {eval_acc.result().numpy()}')"
   ],
   "metadata": {
    "collapsed": false,
    "ExecuteTime": {
     "start_time": "2023-08-03T08:42:26.352244Z"
    }
   }
  }
 ],
 "metadata": {
  "kernelspec": {
   "display_name": "Python 3",
   "language": "python",
   "name": "python3"
  },
  "language_info": {
   "codemirror_mode": {
    "name": "ipython",
    "version": 2
   },
   "file_extension": ".py",
   "mimetype": "text/x-python",
   "name": "python",
   "nbconvert_exporter": "python",
   "pygments_lexer": "ipython2",
   "version": "2.7.6"
  }
 },
 "nbformat": 4,
 "nbformat_minor": 0
}

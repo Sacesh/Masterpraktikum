{
 "cells": [
  {
   "cell_type": "markdown",
   "source": [
    "# Playground to implement W&B as well as start hyperparameter-tuning"
   ],
   "metadata": {
    "collapsed": false
   }
  },
  {
   "cell_type": "markdown",
   "source": [
    "# WanDB"
   ],
   "metadata": {
    "collapsed": false
   }
  },
  {
   "cell_type": "code",
   "execution_count": 1,
   "outputs": [],
   "source": [
    "#%pip install wandb"
   ],
   "metadata": {
    "collapsed": false,
    "ExecuteTime": {
     "end_time": "2023-08-17T14:38:42.083162700Z",
     "start_time": "2023-08-17T14:38:41.606010500Z"
    }
   }
  },
  {
   "cell_type": "code",
   "execution_count": 2,
   "outputs": [],
   "source": [
    "import subprocess\n",
    "import wandb\n",
    "from wandb.keras import WandbCallback\n",
    "import tensorflow as tf\n",
    "import os"
   ],
   "metadata": {
    "collapsed": false,
    "ExecuteTime": {
     "end_time": "2023-08-24T12:33:30.500807Z",
     "start_time": "2023-08-24T12:33:24.474397100Z"
    }
   }
  },
  {
   "cell_type": "code",
   "execution_count": 2,
   "outputs": [
    {
     "data": {
      "text/plain": "0"
     },
     "execution_count": 2,
     "metadata": {},
     "output_type": "execute_result"
    }
   ],
   "source": [
    "subprocess.call(['wandb', 'login', '4e8d3dcb1584ad129b3b49ccc34f65b20116ae54'])"
   ],
   "metadata": {
    "collapsed": false,
    "ExecuteTime": {
     "end_time": "2023-08-24T07:55:08.641563Z",
     "start_time": "2023-08-24T07:55:04.154586800Z"
    }
   }
  },
  {
   "cell_type": "code",
   "execution_count": 3,
   "outputs": [
    {
     "name": "stderr",
     "output_type": "stream",
     "text": [
      "\u001B[34m\u001B[1mwandb\u001B[0m: Currently logged in as: \u001B[33mnkopp\u001B[0m (\u001B[33mteam-bioinf\u001B[0m). Use \u001B[1m`wandb login --relogin`\u001B[0m to force relogin\n"
     ]
    },
    {
     "data": {
      "text/plain": "<IPython.core.display.HTML object>",
      "text/html": "wandb version 0.15.8 is available!  To upgrade, please run:\n $ pip install wandb --upgrade"
     },
     "metadata": {},
     "output_type": "display_data"
    },
    {
     "data": {
      "text/plain": "<IPython.core.display.HTML object>",
      "text/html": "Tracking run with wandb version 0.15.5"
     },
     "metadata": {},
     "output_type": "display_data"
    },
    {
     "data": {
      "text/plain": "<IPython.core.display.HTML object>",
      "text/html": "Run data is saved locally in <code>C:\\Users\\micro\\OneDrive\\Dokumente\\GitHub\\Masterpraktikum\\wandb\\run-20230824_095513-7ik0byya</code>"
     },
     "metadata": {},
     "output_type": "display_data"
    },
    {
     "data": {
      "text/plain": "<IPython.core.display.HTML object>",
      "text/html": "Syncing run <strong><a href='https://wandb.ai/team-bioinf/precursor_charge_prediction_new/runs/7ik0byya' target=\"_blank\">ethereal-sun-26</a></strong> to <a href='https://wandb.ai/team-bioinf/precursor_charge_prediction_new' target=\"_blank\">Weights & Biases</a> (<a href='https://wandb.me/run' target=\"_blank\">docs</a>)<br/>"
     },
     "metadata": {},
     "output_type": "display_data"
    },
    {
     "data": {
      "text/plain": "<IPython.core.display.HTML object>",
      "text/html": " View project at <a href='https://wandb.ai/team-bioinf/precursor_charge_prediction_new' target=\"_blank\">https://wandb.ai/team-bioinf/precursor_charge_prediction_new</a>"
     },
     "metadata": {},
     "output_type": "display_data"
    },
    {
     "data": {
      "text/plain": "<IPython.core.display.HTML object>",
      "text/html": " View run at <a href='https://wandb.ai/team-bioinf/precursor_charge_prediction_new/runs/7ik0byya' target=\"_blank\">https://wandb.ai/team-bioinf/precursor_charge_prediction_new/runs/7ik0byya</a>"
     },
     "metadata": {},
     "output_type": "display_data"
    },
    {
     "data": {
      "text/html": "<button onClick=\"this.nextSibling.style.display='block';this.style.display='none';\">Display W&B run</button><iframe src='https://wandb.ai/team-bioinf/precursor_charge_prediction_new/runs/7ik0byya?jupyter=true' style='border:none;width:100%;height:420px;display:none;'></iframe>",
      "text/plain": "<wandb.sdk.wandb_run.Run at 0x241fe2021d0>"
     },
     "execution_count": 3,
     "metadata": {},
     "output_type": "execute_result"
    }
   ],
   "source": [
    "wandb.init(project='precursor_charge_prediction_new')"
   ],
   "metadata": {
    "collapsed": false,
    "ExecuteTime": {
     "end_time": "2023-08-24T07:55:14.888533800Z",
     "start_time": "2023-08-24T07:55:10.313885400Z"
    }
   }
  },
  {
   "cell_type": "markdown",
   "source": [],
   "metadata": {
    "collapsed": false
   }
  },
  {
   "cell_type": "markdown",
   "source": [],
   "metadata": {
    "collapsed": false
   }
  },
  {
   "cell_type": "markdown",
   "source": [
    "## Setup"
   ],
   "metadata": {
    "collapsed": false
   }
  },
  {
   "cell_type": "code",
   "execution_count": null,
   "outputs": [],
   "source": [
    "#%pip install seaborn"
   ],
   "metadata": {
    "collapsed": false
   }
  },
  {
   "cell_type": "code",
   "execution_count": 10,
   "outputs": [],
   "source": [
    "import re\n",
    "import os\n",
    "import random\n",
    "import numpy as np\n",
    "import pandas as pd\n",
    "import tensorflow as tf\n",
    "import matplotlib.pyplot as plt\n",
    "from sklearn.model_selection import train_test_split\n",
    "from tensorflow.keras.callbacks import ModelCheckpoint\n",
    "from sklearn.utils import class_weight\n",
    "from sklearn.model_selection import StratifiedShuffleSplit\n",
    "from sklearn.metrics import confusion_matrix, classification_report\n",
    "import seaborn as sns\n",
    "import wandb\n",
    "from wandb.keras import WandbCallback\n",
    "import keras"
   ],
   "metadata": {
    "collapsed": false,
    "ExecuteTime": {
     "end_time": "2023-08-24T12:34:15.321387500Z",
     "start_time": "2023-08-24T12:34:15.119166Z"
    }
   }
  },
  {
   "cell_type": "code",
   "execution_count": 11,
   "outputs": [],
   "source": [
    "train_datapath = [\"data/\"+file for file in os.listdir('data') if file.endswith(\".parquet\")][0]\n",
    "batch_size = 32"
   ],
   "metadata": {
    "collapsed": false,
    "ExecuteTime": {
     "end_time": "2023-08-24T12:34:16.838426700Z",
     "start_time": "2023-08-24T12:34:16.681620400Z"
    }
   }
  },
  {
   "cell_type": "markdown",
   "source": [
    "# Dataset batches + split"
   ],
   "metadata": {
    "collapsed": false
   }
  },
  {
   "cell_type": "code",
   "execution_count": 12,
   "outputs": [],
   "source": [
    "import re\n",
    "\n",
    "def one_hot_precursor(int_value, charges=[1,2,3,4,5,6]):\n",
    "    \"\"\"\n",
    "    One-hot encodes the precursor charge\n",
    "    :param df: dataframe\n",
    "    :param max_charge_included: int\n",
    "    :return: dataframe\n",
    "    \"\"\"\n",
    "    one_hot = [1 if x == int_value else 0 for x in charges]\n",
    "\n",
    "    return one_hot"
   ],
   "metadata": {
    "collapsed": false,
    "ExecuteTime": {
     "end_time": "2023-08-24T12:34:17.618616100Z",
     "start_time": "2023-08-24T12:34:17.488164800Z"
    }
   }
  },
  {
   "cell_type": "code",
   "execution_count": 13,
   "outputs": [
    {
     "name": "stdout",
     "output_type": "stream",
     "text": [
      "data/Thermo_SRM_Pool_meta_data.parquet\n"
     ]
    }
   ],
   "source": [
    "file_list = [\"data/\"+file for file in os.listdir('data') if file.endswith('.parquet')]\n",
    "print(file_list[0])"
   ],
   "metadata": {
    "collapsed": false,
    "ExecuteTime": {
     "end_time": "2023-08-24T12:34:19.010308900Z",
     "start_time": "2023-08-24T12:34:18.883552700Z"
    }
   }
  },
  {
   "cell_type": "markdown",
   "source": [
    "### import parquet files, drop all columns we dont need for training, one-hot encode precursor charge, translate sequence"
   ],
   "metadata": {
    "collapsed": false
   }
  },
  {
   "cell_type": "code",
   "execution_count": 14,
   "outputs": [],
   "source": [
    "batches_parquet = dict()\n",
    "counter = 0\n",
    "for file in file_list:\n",
    "    df = pd.read_parquet(file, engine='fastparquet')\n",
    "    # drop all columns we dont need for training\n",
    "    for column in df.columns:\n",
    "        if column not in [\"modified_sequence\",\"precursor_intensity\", \"precursor_charge\"]:\n",
    "            df.drop(column, axis=1, inplace=True)\n",
    "    charge_ranges = [1, 2, 3, 4, 5, 6] # TODO SET RANGES\n",
    "    df = df[df[\"precursor_charge\"].isin(charge_ranges)] # remove 7+ charge states // only take charge states 2,3,4\n",
    "    df = df.dropna(subset=['precursor_intensity']) # drop rows with no precursor intensity\n",
    "    batches_parquet[file] = df\n",
    "    counter += 1\n",
    "    #if counter > 1:\n",
    "    #    break # TODO REMOVE BREAK FOR FIRST FILE IN LIST"
   ],
   "metadata": {
    "collapsed": false,
    "ExecuteTime": {
     "end_time": "2023-08-24T12:35:19.622431600Z",
     "start_time": "2023-08-24T12:34:19.873198800Z"
    }
   }
  },
  {
   "cell_type": "code",
   "execution_count": 15,
   "outputs": [],
   "source": [
    "vocabulary = []\n",
    "vocabulary+=list('XACDEFGHIKLMNPQRSTVWY')\n",
    "max_len_seq = 0\n",
    "\n",
    "for df in batches_parquet.values():\n",
    "    if max_len_seq < df['modified_sequence'].str.len().max():\n",
    "        max_len_seq = df['modified_sequence'].str.len().max()\n",
    "    annotations = re.findall(r'(\\w\\[UNIMOD:\\d+\\])', ' '.join(df['modified_sequence']))\n",
    "    #annotations = re.findall(r'[A-Z]\\[[^\\]]*\\]|.', ' '.join(df['modified_sequence']))\n",
    "    for item in annotations:\n",
    "        if item not in vocabulary:\n",
    "                vocabulary.append(item)"
   ],
   "metadata": {
    "collapsed": false,
    "ExecuteTime": {
     "end_time": "2023-08-24T12:36:05.371425900Z",
     "start_time": "2023-08-24T12:35:19.599862300Z"
    }
   }
  },
  {
   "cell_type": "code",
   "execution_count": 16,
   "outputs": [
    {
     "name": "stdout",
     "output_type": "stream",
     "text": [
      "['X', 'A', 'C', 'D', 'E', 'F', 'G', 'H', 'I', 'K', 'L', 'M', 'N', 'P', 'Q', 'R', 'S', 'T', 'V', 'W', 'Y', 'C[UNIMOD:4]', 'M[UNIMOD:35]']\n"
     ]
    },
    {
     "data": {
      "text/plain": "23"
     },
     "execution_count": 16,
     "metadata": {},
     "output_type": "execute_result"
    }
   ],
   "source": [
    "print(vocabulary)\n",
    "voc_len = len(vocabulary)\n",
    "voc_len"
   ],
   "metadata": {
    "collapsed": false,
    "ExecuteTime": {
     "end_time": "2023-08-24T12:36:05.415588800Z",
     "start_time": "2023-08-24T12:36:05.372933600Z"
    }
   }
  },
  {
   "cell_type": "code",
   "execution_count": 11,
   "outputs": [
    {
     "ename": "NameError",
     "evalue": "name 'seq_translator' is not defined",
     "output_type": "error",
     "traceback": [
      "\u001B[1;31m---------------------------------------------------------------------------\u001B[0m",
      "\u001B[1;31mNameError\u001B[0m                                 Traceback (most recent call last)",
      "Cell \u001B[1;32mIn[11], line 1\u001B[0m\n\u001B[1;32m----> 1\u001B[0m \u001B[38;5;28mprint\u001B[39m(\u001B[43mseq_translator\u001B[49m(\u001B[38;5;124m'\u001B[39m\u001B[38;5;124mAAC[UNIMOD:4]LLVAW\u001B[39m\u001B[38;5;124m'\u001B[39m, print_result\u001B[38;5;241m=\u001B[39m\u001B[38;5;28;01mFalse\u001B[39;00m))\n",
      "\u001B[1;31mNameError\u001B[0m: name 'seq_translator' is not defined"
     ]
    }
   ],
   "source": [
    "print(seq_translator('AAC[UNIMOD:4]LLVAW', print_result=False))"
   ],
   "metadata": {
    "collapsed": false,
    "ExecuteTime": {
     "end_time": "2023-08-24T07:57:00.862554300Z",
     "start_time": "2023-08-24T07:56:59.271514600Z"
    }
   }
  },
  {
   "cell_type": "code",
   "execution_count": 17,
   "outputs": [],
   "source": [
    "num_classes = len(charge_ranges)\n",
    "class_names = charge_ranges"
   ],
   "metadata": {
    "collapsed": false,
    "ExecuteTime": {
     "end_time": "2023-08-24T12:36:05.428101700Z",
     "start_time": "2023-08-24T12:36:05.379694500Z"
    }
   }
  },
  {
   "cell_type": "code",
   "execution_count": 18,
   "outputs": [
    {
     "data": {
      "text/plain": "      modified_sequence  precursor_charge  precursor_intensity\n0  LPGSLETYVEQEQGENANDR                 2           29525630.0\n1       HGSLQEYLQNDTGSK                 2           13188580.0\n2        VEEEEEINSELTAR                 2           20663460.0\n3  LPGSLETYVEQEQGENANDR                 2           19884630.0\n4  NSSTAEINETTTSSTDFLAR                 2           12804420.0",
      "text/html": "<div>\n<style scoped>\n    .dataframe tbody tr th:only-of-type {\n        vertical-align: middle;\n    }\n\n    .dataframe tbody tr th {\n        vertical-align: top;\n    }\n\n    .dataframe thead th {\n        text-align: right;\n    }\n</style>\n<table border=\"1\" class=\"dataframe\">\n  <thead>\n    <tr style=\"text-align: right;\">\n      <th></th>\n      <th>modified_sequence</th>\n      <th>precursor_charge</th>\n      <th>precursor_intensity</th>\n    </tr>\n  </thead>\n  <tbody>\n    <tr>\n      <th>0</th>\n      <td>LPGSLETYVEQEQGENANDR</td>\n      <td>2</td>\n      <td>29525630.0</td>\n    </tr>\n    <tr>\n      <th>1</th>\n      <td>HGSLQEYLQNDTGSK</td>\n      <td>2</td>\n      <td>13188580.0</td>\n    </tr>\n    <tr>\n      <th>2</th>\n      <td>VEEEEEINSELTAR</td>\n      <td>2</td>\n      <td>20663460.0</td>\n    </tr>\n    <tr>\n      <th>3</th>\n      <td>LPGSLETYVEQEQGENANDR</td>\n      <td>2</td>\n      <td>19884630.0</td>\n    </tr>\n    <tr>\n      <th>4</th>\n      <td>NSSTAEINETTTSSTDFLAR</td>\n      <td>2</td>\n      <td>12804420.0</td>\n    </tr>\n  </tbody>\n</table>\n</div>"
     },
     "execution_count": 18,
     "metadata": {},
     "output_type": "execute_result"
    }
   ],
   "source": [
    "batches_parquet[file_list[0]].head()"
   ],
   "metadata": {
    "collapsed": false,
    "ExecuteTime": {
     "end_time": "2023-08-24T12:36:05.497578900Z",
     "start_time": "2023-08-24T12:36:05.391061800Z"
    }
   }
  },
  {
   "cell_type": "code",
   "execution_count": 19,
   "outputs": [
    {
     "data": {
      "text/plain": "['data/Thermo_SRM_Pool_meta_data.parquet',\n 'data/TUM_aspn_meta_data.parquet',\n 'data/TUM_first_pool_meta_data.parquet',\n 'data/TUM_HLA2_meta_data.parquet',\n 'data/TUM_HLA_meta_data.parquet',\n 'data/TUM_isoform_meta_data.parquet',\n 'data/TUM_lysn_meta_data.parquet',\n 'data/TUM_missing_first_meta_data.parquet',\n 'data/TUM_proteo_TMT_meta_data.parquet',\n 'data/TUM_second_addon_meta_data.parquet',\n 'data/TUM_second_pool_meta_data.parquet',\n 'data/TUM_third_pool_meta_data.parquet']"
     },
     "execution_count": 19,
     "metadata": {},
     "output_type": "execute_result"
    }
   ],
   "source": [
    "file_list"
   ],
   "metadata": {
    "collapsed": false,
    "ExecuteTime": {
     "end_time": "2023-08-24T12:36:05.497578900Z",
     "start_time": "2023-08-24T12:36:05.406581600Z"
    }
   }
  },
  {
   "cell_type": "code",
   "execution_count": 20,
   "outputs": [
    {
     "data": {
      "text/plain": "2    4331294\n3    1523398\n4     115577\n5       2723\n1       1022\n6        143\nName: precursor_charge, dtype: int64"
     },
     "execution_count": 20,
     "metadata": {},
     "output_type": "execute_result"
    }
   ],
   "source": [
    "batches_parquet[file_list[0]][\"precursor_charge\"].value_counts()"
   ],
   "metadata": {
    "collapsed": false,
    "ExecuteTime": {
     "end_time": "2023-08-24T12:36:05.720037300Z",
     "start_time": "2023-08-24T12:36:05.411074200Z"
    }
   }
  },
  {
   "cell_type": "markdown",
   "source": [
    "# Normalisieren:"
   ],
   "metadata": {
    "collapsed": false
   }
  },
  {
   "cell_type": "code",
   "execution_count": 21,
   "outputs": [],
   "source": [
    "def normalize_for_most_abundant(df_charge_list, df_intensity_list):\n",
    "    # Get the index of the most abundant precursor intensity\n",
    "    charge_dict = dict()\n",
    "    for index, i in enumerate(df_charge_list):\n",
    "        charge_dict[i] = []\n",
    "        charge_dict[i].append(df_intensity_list[index])\n",
    "\n",
    "    # Normalize the precursor intensity based on the most abundant precursor intensity\n",
    "    for key, value in charge_dict.items():\n",
    "        if len(value) > 1:\n",
    "         charge_dict[key] = sum(value) - min(value) / (max(value) - min(value))\n",
    "\n",
    "    # convert list of one float to float values\n",
    "    charge_dict = {key: value[0] for key, value in charge_dict.items()}\n",
    "\n",
    "    return charge_dict"
   ],
   "metadata": {
    "collapsed": false,
    "ExecuteTime": {
     "end_time": "2023-08-24T12:36:05.721033900Z",
     "start_time": "2023-08-24T12:36:05.447436900Z"
    }
   }
  },
  {
   "cell_type": "code",
   "execution_count": 22,
   "outputs": [],
   "source": [
    "def get_most_abundant(df_charge_list, df_intensity_list, distributions=False):\n",
    "    # Get the index of the most abundant precursor intensity\n",
    "    charge_dict = dict()\n",
    "    for index, i in enumerate(df_charge_list):\n",
    "        if i not in charge_dict:\n",
    "            charge_dict[i] = df_intensity_list[index]\n",
    "        else:\n",
    "            charge_dict[i] += df_intensity_list[index]\n",
    "    if distributions:\n",
    "        #print(charge_dict)\n",
    "        return charge_dict\n",
    "    else:\n",
    "        return max(charge_dict, key=charge_dict.get)\n"
   ],
   "metadata": {
    "collapsed": false,
    "ExecuteTime": {
     "end_time": "2023-08-24T12:36:05.721033900Z",
     "start_time": "2023-08-24T12:36:05.453883300Z"
    }
   }
  },
  {
   "cell_type": "code",
   "execution_count": 23,
   "outputs": [
    {
     "name": "stderr",
     "output_type": "stream",
     "text": [
      "C:\\Users\\micro\\AppData\\Local\\Temp\\ipykernel_35220\\2139590162.py:4: FutureWarning: Indexing with multiple keys (implicitly converted to a tuple of keys) will be deprecated, use a list instead.\n",
      "  df_dict[file] = batches_parquet[file].groupby(\"modified_sequence\")[\"precursor_charge\", \"precursor_intensity\"].agg(list).reset_index()\n",
      "C:\\Users\\micro\\AppData\\Local\\Temp\\ipykernel_35220\\2139590162.py:4: FutureWarning: Indexing with multiple keys (implicitly converted to a tuple of keys) will be deprecated, use a list instead.\n",
      "  df_dict[file] = batches_parquet[file].groupby(\"modified_sequence\")[\"precursor_charge\", \"precursor_intensity\"].agg(list).reset_index()\n",
      "C:\\Users\\micro\\AppData\\Local\\Temp\\ipykernel_35220\\2139590162.py:4: FutureWarning: Indexing with multiple keys (implicitly converted to a tuple of keys) will be deprecated, use a list instead.\n",
      "  df_dict[file] = batches_parquet[file].groupby(\"modified_sequence\")[\"precursor_charge\", \"precursor_intensity\"].agg(list).reset_index()\n",
      "C:\\Users\\micro\\AppData\\Local\\Temp\\ipykernel_35220\\2139590162.py:4: FutureWarning: Indexing with multiple keys (implicitly converted to a tuple of keys) will be deprecated, use a list instead.\n",
      "  df_dict[file] = batches_parquet[file].groupby(\"modified_sequence\")[\"precursor_charge\", \"precursor_intensity\"].agg(list).reset_index()\n",
      "C:\\Users\\micro\\AppData\\Local\\Temp\\ipykernel_35220\\2139590162.py:4: FutureWarning: Indexing with multiple keys (implicitly converted to a tuple of keys) will be deprecated, use a list instead.\n",
      "  df_dict[file] = batches_parquet[file].groupby(\"modified_sequence\")[\"precursor_charge\", \"precursor_intensity\"].agg(list).reset_index()\n",
      "C:\\Users\\micro\\AppData\\Local\\Temp\\ipykernel_35220\\2139590162.py:4: FutureWarning: Indexing with multiple keys (implicitly converted to a tuple of keys) will be deprecated, use a list instead.\n",
      "  df_dict[file] = batches_parquet[file].groupby(\"modified_sequence\")[\"precursor_charge\", \"precursor_intensity\"].agg(list).reset_index()\n",
      "C:\\Users\\micro\\AppData\\Local\\Temp\\ipykernel_35220\\2139590162.py:4: FutureWarning: Indexing with multiple keys (implicitly converted to a tuple of keys) will be deprecated, use a list instead.\n",
      "  df_dict[file] = batches_parquet[file].groupby(\"modified_sequence\")[\"precursor_charge\", \"precursor_intensity\"].agg(list).reset_index()\n",
      "C:\\Users\\micro\\AppData\\Local\\Temp\\ipykernel_35220\\2139590162.py:4: FutureWarning: Indexing with multiple keys (implicitly converted to a tuple of keys) will be deprecated, use a list instead.\n",
      "  df_dict[file] = batches_parquet[file].groupby(\"modified_sequence\")[\"precursor_charge\", \"precursor_intensity\"].agg(list).reset_index()\n",
      "C:\\Users\\micro\\AppData\\Local\\Temp\\ipykernel_35220\\2139590162.py:4: FutureWarning: Indexing with multiple keys (implicitly converted to a tuple of keys) will be deprecated, use a list instead.\n",
      "  df_dict[file] = batches_parquet[file].groupby(\"modified_sequence\")[\"precursor_charge\", \"precursor_intensity\"].agg(list).reset_index()\n",
      "C:\\Users\\micro\\AppData\\Local\\Temp\\ipykernel_35220\\2139590162.py:4: FutureWarning: Indexing with multiple keys (implicitly converted to a tuple of keys) will be deprecated, use a list instead.\n",
      "  df_dict[file] = batches_parquet[file].groupby(\"modified_sequence\")[\"precursor_charge\", \"precursor_intensity\"].agg(list).reset_index()\n",
      "C:\\Users\\micro\\AppData\\Local\\Temp\\ipykernel_35220\\2139590162.py:4: FutureWarning: Indexing with multiple keys (implicitly converted to a tuple of keys) will be deprecated, use a list instead.\n",
      "  df_dict[file] = batches_parquet[file].groupby(\"modified_sequence\")[\"precursor_charge\", \"precursor_intensity\"].agg(list).reset_index()\n",
      "C:\\Users\\micro\\AppData\\Local\\Temp\\ipykernel_35220\\2139590162.py:4: FutureWarning: Indexing with multiple keys (implicitly converted to a tuple of keys) will be deprecated, use a list instead.\n",
      "  df_dict[file] = batches_parquet[file].groupby(\"modified_sequence\")[\"precursor_charge\", \"precursor_intensity\"].agg(list).reset_index()\n"
     ]
    }
   ],
   "source": [
    "# load all parquets into df\n",
    "df_dict = dict()\n",
    "for file in file_list:\n",
    "    df_dict[file] = batches_parquet[file].groupby(\"modified_sequence\")[\"precursor_charge\", \"precursor_intensity\"].agg(list).reset_index()"
   ],
   "metadata": {
    "collapsed": false,
    "ExecuteTime": {
     "end_time": "2023-08-24T12:36:56.391007600Z",
     "start_time": "2023-08-24T12:36:05.462819100Z"
    }
   }
  },
  {
   "cell_type": "markdown",
   "source": [
    "# init merged_df"
   ],
   "metadata": {
    "collapsed": false
   }
  },
  {
   "cell_type": "code",
   "execution_count": 24,
   "outputs": [
    {
     "name": "stderr",
     "output_type": "stream",
     "text": [
      "C:\\Users\\micro\\AppData\\Local\\Temp\\ipykernel_35220\\1215419649.py:1: FutureWarning: Indexing with multiple keys (implicitly converted to a tuple of keys) will be deprecated, use a list instead.\n",
      "  merged_df = pd.concat(list(df_dict.values())).groupby(\"modified_sequence\")[\"precursor_charge\", \"precursor_intensity\"].sum().reset_index()\n"
     ]
    }
   ],
   "source": [
    "merged_df = pd.concat(list(df_dict.values())).groupby(\"modified_sequence\")[\"precursor_charge\", \"precursor_intensity\"].sum().reset_index()"
   ],
   "metadata": {
    "collapsed": false,
    "ExecuteTime": {
     "end_time": "2023-08-24T12:36:59.349098400Z",
     "start_time": "2023-08-24T12:36:56.349951300Z"
    }
   }
  },
  {
   "cell_type": "code",
   "execution_count": 25,
   "outputs": [],
   "source": [
    "merged_df['seq_len_prepadding'] = merged_df['modified_sequence'].apply(lambda x: len(x))"
   ],
   "metadata": {
    "collapsed": false,
    "ExecuteTime": {
     "end_time": "2023-08-24T12:36:59.703609100Z",
     "start_time": "2023-08-24T12:36:59.350099200Z"
    }
   }
  },
  {
   "cell_type": "code",
   "execution_count": 26,
   "outputs": [
    {
     "data": {
      "text/plain": "87     9\n82     8\n85     7\n89     6\n90     5\n107    4\n97     4\n95     4\n92     4\n83     3\n86     3\n98     3\n91     2\n84     2\n93     2\n88     2\n96     2\n110    2\n105    1\n104    1\n102    1\n94     1\n103    1\n115    1\n99     1\n125    1\n108    1\nName: seq_len_prepadding, dtype: int64"
     },
     "execution_count": 26,
     "metadata": {},
     "output_type": "execute_result"
    }
   ],
   "source": [
    "len_counts = merged_df['seq_len_prepadding'].value_counts()\n",
    "seq_too_long = len_counts[len_counts <= 10]\n",
    "seq_too_long"
   ],
   "metadata": {
    "collapsed": false,
    "ExecuteTime": {
     "end_time": "2023-08-24T12:36:59.752659200Z",
     "start_time": "2023-08-24T12:36:59.703609100Z"
    }
   }
  },
  {
   "cell_type": "code",
   "execution_count": 27,
   "outputs": [
    {
     "data": {
      "text/plain": "    seq_len  count\n0        50   1087\n1        51    764\n2        52    595\n3        53    426\n4        56    385\n5        57    385\n6        55    382\n7        58    373\n8        54    366\n9        59    290\n10       60    245\n11       61    199\n12       62    140\n13       63    105\n14       67     86\n15       66     81\n16       65     78\n17       64     78\n18       68     72\n19       69     69\n20       70     67\n21       71     34\n22       72     31\n23       75     26\n24       77     21\n25       74     21\n26       78     21\n27       73     18\n28       81     17\n29       79     16\n30       80     15\n31       76     13\n32      100     12\n33       87      9\n34       82      8\n35       85      7\n36       89      6\n37       90      5\n38      107      4\n39       97      4\n40       95      4\n41       92      4\n42       83      3\n43       86      3\n44       98      3\n45       91      2\n46       84      2\n47       93      2\n48       88      2\n49       96      2\n50      110      2\n51      105      1\n52      104      1\n53      102      1\n54       94      1\n55      103      1\n56      115      1\n57       99      1\n58      125      1\n59      108      1",
      "text/html": "<div>\n<style scoped>\n    .dataframe tbody tr th:only-of-type {\n        vertical-align: middle;\n    }\n\n    .dataframe tbody tr th {\n        vertical-align: top;\n    }\n\n    .dataframe thead th {\n        text-align: right;\n    }\n</style>\n<table border=\"1\" class=\"dataframe\">\n  <thead>\n    <tr style=\"text-align: right;\">\n      <th></th>\n      <th>seq_len</th>\n      <th>count</th>\n    </tr>\n  </thead>\n  <tbody>\n    <tr>\n      <th>0</th>\n      <td>50</td>\n      <td>1087</td>\n    </tr>\n    <tr>\n      <th>1</th>\n      <td>51</td>\n      <td>764</td>\n    </tr>\n    <tr>\n      <th>2</th>\n      <td>52</td>\n      <td>595</td>\n    </tr>\n    <tr>\n      <th>3</th>\n      <td>53</td>\n      <td>426</td>\n    </tr>\n    <tr>\n      <th>4</th>\n      <td>56</td>\n      <td>385</td>\n    </tr>\n    <tr>\n      <th>5</th>\n      <td>57</td>\n      <td>385</td>\n    </tr>\n    <tr>\n      <th>6</th>\n      <td>55</td>\n      <td>382</td>\n    </tr>\n    <tr>\n      <th>7</th>\n      <td>58</td>\n      <td>373</td>\n    </tr>\n    <tr>\n      <th>8</th>\n      <td>54</td>\n      <td>366</td>\n    </tr>\n    <tr>\n      <th>9</th>\n      <td>59</td>\n      <td>290</td>\n    </tr>\n    <tr>\n      <th>10</th>\n      <td>60</td>\n      <td>245</td>\n    </tr>\n    <tr>\n      <th>11</th>\n      <td>61</td>\n      <td>199</td>\n    </tr>\n    <tr>\n      <th>12</th>\n      <td>62</td>\n      <td>140</td>\n    </tr>\n    <tr>\n      <th>13</th>\n      <td>63</td>\n      <td>105</td>\n    </tr>\n    <tr>\n      <th>14</th>\n      <td>67</td>\n      <td>86</td>\n    </tr>\n    <tr>\n      <th>15</th>\n      <td>66</td>\n      <td>81</td>\n    </tr>\n    <tr>\n      <th>16</th>\n      <td>65</td>\n      <td>78</td>\n    </tr>\n    <tr>\n      <th>17</th>\n      <td>64</td>\n      <td>78</td>\n    </tr>\n    <tr>\n      <th>18</th>\n      <td>68</td>\n      <td>72</td>\n    </tr>\n    <tr>\n      <th>19</th>\n      <td>69</td>\n      <td>69</td>\n    </tr>\n    <tr>\n      <th>20</th>\n      <td>70</td>\n      <td>67</td>\n    </tr>\n    <tr>\n      <th>21</th>\n      <td>71</td>\n      <td>34</td>\n    </tr>\n    <tr>\n      <th>22</th>\n      <td>72</td>\n      <td>31</td>\n    </tr>\n    <tr>\n      <th>23</th>\n      <td>75</td>\n      <td>26</td>\n    </tr>\n    <tr>\n      <th>24</th>\n      <td>77</td>\n      <td>21</td>\n    </tr>\n    <tr>\n      <th>25</th>\n      <td>74</td>\n      <td>21</td>\n    </tr>\n    <tr>\n      <th>26</th>\n      <td>78</td>\n      <td>21</td>\n    </tr>\n    <tr>\n      <th>27</th>\n      <td>73</td>\n      <td>18</td>\n    </tr>\n    <tr>\n      <th>28</th>\n      <td>81</td>\n      <td>17</td>\n    </tr>\n    <tr>\n      <th>29</th>\n      <td>79</td>\n      <td>16</td>\n    </tr>\n    <tr>\n      <th>30</th>\n      <td>80</td>\n      <td>15</td>\n    </tr>\n    <tr>\n      <th>31</th>\n      <td>76</td>\n      <td>13</td>\n    </tr>\n    <tr>\n      <th>32</th>\n      <td>100</td>\n      <td>12</td>\n    </tr>\n    <tr>\n      <th>33</th>\n      <td>87</td>\n      <td>9</td>\n    </tr>\n    <tr>\n      <th>34</th>\n      <td>82</td>\n      <td>8</td>\n    </tr>\n    <tr>\n      <th>35</th>\n      <td>85</td>\n      <td>7</td>\n    </tr>\n    <tr>\n      <th>36</th>\n      <td>89</td>\n      <td>6</td>\n    </tr>\n    <tr>\n      <th>37</th>\n      <td>90</td>\n      <td>5</td>\n    </tr>\n    <tr>\n      <th>38</th>\n      <td>107</td>\n      <td>4</td>\n    </tr>\n    <tr>\n      <th>39</th>\n      <td>97</td>\n      <td>4</td>\n    </tr>\n    <tr>\n      <th>40</th>\n      <td>95</td>\n      <td>4</td>\n    </tr>\n    <tr>\n      <th>41</th>\n      <td>92</td>\n      <td>4</td>\n    </tr>\n    <tr>\n      <th>42</th>\n      <td>83</td>\n      <td>3</td>\n    </tr>\n    <tr>\n      <th>43</th>\n      <td>86</td>\n      <td>3</td>\n    </tr>\n    <tr>\n      <th>44</th>\n      <td>98</td>\n      <td>3</td>\n    </tr>\n    <tr>\n      <th>45</th>\n      <td>91</td>\n      <td>2</td>\n    </tr>\n    <tr>\n      <th>46</th>\n      <td>84</td>\n      <td>2</td>\n    </tr>\n    <tr>\n      <th>47</th>\n      <td>93</td>\n      <td>2</td>\n    </tr>\n    <tr>\n      <th>48</th>\n      <td>88</td>\n      <td>2</td>\n    </tr>\n    <tr>\n      <th>49</th>\n      <td>96</td>\n      <td>2</td>\n    </tr>\n    <tr>\n      <th>50</th>\n      <td>110</td>\n      <td>2</td>\n    </tr>\n    <tr>\n      <th>51</th>\n      <td>105</td>\n      <td>1</td>\n    </tr>\n    <tr>\n      <th>52</th>\n      <td>104</td>\n      <td>1</td>\n    </tr>\n    <tr>\n      <th>53</th>\n      <td>102</td>\n      <td>1</td>\n    </tr>\n    <tr>\n      <th>54</th>\n      <td>94</td>\n      <td>1</td>\n    </tr>\n    <tr>\n      <th>55</th>\n      <td>103</td>\n      <td>1</td>\n    </tr>\n    <tr>\n      <th>56</th>\n      <td>115</td>\n      <td>1</td>\n    </tr>\n    <tr>\n      <th>57</th>\n      <td>99</td>\n      <td>1</td>\n    </tr>\n    <tr>\n      <th>58</th>\n      <td>125</td>\n      <td>1</td>\n    </tr>\n    <tr>\n      <th>59</th>\n      <td>108</td>\n      <td>1</td>\n    </tr>\n  </tbody>\n</table>\n</div>"
     },
     "execution_count": 27,
     "metadata": {},
     "output_type": "execute_result"
    }
   ],
   "source": [
    "seq_lengths = merged_df['seq_len_prepadding'].value_counts().index.values, merged_df['seq_len_prepadding'].value_counts().values\n",
    "seq_too_long = pd.DataFrame()\n",
    "seq_too_long['seq_len'] = seq_lengths[0][seq_lengths[0] >= 50]\n",
    "seq_too_long['count'] = seq_lengths[1][seq_lengths[0] >= 50]\n",
    "seq_too_long"
   ],
   "metadata": {
    "collapsed": false,
    "ExecuteTime": {
     "end_time": "2023-08-24T12:36:59.945468500Z",
     "start_time": "2023-08-24T12:36:59.738144400Z"
    }
   }
  },
  {
   "cell_type": "code",
   "execution_count": 28,
   "outputs": [],
   "source": [
    "# give smallest seq_len when count <= 100\n",
    "seq_len_cutoff_df = seq_too_long[seq_too_long['count'] <= 100]\n",
    "seq_len_cutoff = min(seq_len_cutoff_df['seq_len'])"
   ],
   "metadata": {
    "collapsed": false,
    "ExecuteTime": {
     "end_time": "2023-08-24T12:36:59.946468200Z",
     "start_time": "2023-08-24T12:36:59.756717900Z"
    }
   }
  },
  {
   "cell_type": "code",
   "execution_count": 29,
   "outputs": [
    {
     "data": {
      "text/plain": "64"
     },
     "execution_count": 29,
     "metadata": {},
     "output_type": "execute_result"
    }
   ],
   "source": [
    "seq_len_cutoff"
   ],
   "metadata": {
    "collapsed": false,
    "ExecuteTime": {
     "end_time": "2023-08-24T12:36:59.946468200Z",
     "start_time": "2023-08-24T12:36:59.764212200Z"
    }
   }
  },
  {
   "cell_type": "code",
   "execution_count": 30,
   "outputs": [],
   "source": [
    "# reapply max len\n",
    "max_len_seq = seq_len_cutoff-1"
   ],
   "metadata": {
    "collapsed": false,
    "ExecuteTime": {
     "end_time": "2023-08-24T12:36:59.946468200Z",
     "start_time": "2023-08-24T12:36:59.772817100Z"
    }
   }
  },
  {
   "cell_type": "code",
   "execution_count": 31,
   "outputs": [],
   "source": [
    "def seq_translator(sequence, dictionary=vocabulary, max_len=max_len_seq, print_result=False, no_padding=False):\n",
    "    \"\"\"\n",
    "    Translates a sequence into a vector of integers\n",
    "    :param print_result:\n",
    "    :param max_len:\n",
    "    :param sequence: string\n",
    "    :param dictionary: dictionary\n",
    "    :return: list\n",
    "    \"\"\"\n",
    "    pattern = r'[A-Z]\\[[^\\]]*\\]|.' # regex pattern to match amino acids and modifications\n",
    "    #pattern = r'(\\w\\[UNIMOD:\\d+\\])' # regex pattern to match amino acids and modifications\n",
    "\n",
    "    result = [match for match in re.findall(pattern, sequence)]\n",
    "\n",
    "    # Fill the list with \"X\" characters until it reaches a length of 40\n",
    "    if not no_padding:\n",
    "        result += ['X'] * (max_len - len(result))\n",
    "    if print_result:\n",
    "        print(result)\n",
    "\n",
    "    aa_dictionary = dict()\n",
    "    for index, aa in enumerate(dictionary):\n",
    "        aa_dictionary[aa] = index\n",
    "\n",
    "    return [aa_dictionary[aa] for aa in result]"
   ],
   "metadata": {
    "collapsed": false,
    "ExecuteTime": {
     "end_time": "2023-08-24T12:36:59.946468200Z",
     "start_time": "2023-08-24T12:36:59.780165500Z"
    }
   }
  },
  {
   "cell_type": "code",
   "execution_count": 32,
   "outputs": [],
   "source": [
    "delete_a_row = True\n",
    "if delete_a_row:\n",
    "# delete row if seq_len_prepadding larger or equal to seq_len_cutoff\n",
    "    index_to_delete_seq = merged_df[merged_df['seq_len_prepadding'] >= seq_len_cutoff].index\n",
    "    merged_df.drop(index_to_delete_seq, inplace=True)"
   ],
   "metadata": {
    "collapsed": false,
    "ExecuteTime": {
     "end_time": "2023-08-24T12:37:00.371014300Z",
     "start_time": "2023-08-24T12:36:59.786912700Z"
    }
   }
  },
  {
   "cell_type": "code",
   "execution_count": 33,
   "outputs": [
    {
     "data": {
      "text/plain": "Empty DataFrame\nColumns: [modified_sequence, precursor_charge, precursor_intensity, seq_len_prepadding]\nIndex: []",
      "text/html": "<div>\n<style scoped>\n    .dataframe tbody tr th:only-of-type {\n        vertical-align: middle;\n    }\n\n    .dataframe tbody tr th {\n        vertical-align: top;\n    }\n\n    .dataframe thead th {\n        text-align: right;\n    }\n</style>\n<table border=\"1\" class=\"dataframe\">\n  <thead>\n    <tr style=\"text-align: right;\">\n      <th></th>\n      <th>modified_sequence</th>\n      <th>precursor_charge</th>\n      <th>precursor_intensity</th>\n      <th>seq_len_prepadding</th>\n    </tr>\n  </thead>\n  <tbody>\n  </tbody>\n</table>\n</div>"
     },
     "execution_count": 33,
     "metadata": {},
     "output_type": "execute_result"
    }
   ],
   "source": [
    "# output all sequences with seq_len_prepadding >= 50\n",
    "merged_df[merged_df['seq_len_prepadding'] >= seq_len_cutoff]"
   ],
   "metadata": {
    "collapsed": false,
    "ExecuteTime": {
     "end_time": "2023-08-24T12:37:00.372520600Z",
     "start_time": "2023-08-24T12:37:00.048160Z"
    }
   }
  },
  {
   "cell_type": "code",
   "execution_count": 34,
   "outputs": [],
   "source": [
    "merged_df['normalized'] = merged_df.apply(lambda x: normalize_for_most_abundant(x[\"precursor_charge\"], x[\"precursor_intensity\"]), axis=1)"
   ],
   "metadata": {
    "collapsed": false,
    "ExecuteTime": {
     "end_time": "2023-08-24T12:37:12.213332500Z",
     "start_time": "2023-08-24T12:37:00.056198800Z"
    }
   }
  },
  {
   "cell_type": "code",
   "execution_count": 35,
   "outputs": [],
   "source": [
    "merged_df['pre_normalization'] = merged_df.apply(lambda x: get_most_abundant(x[\"precursor_charge\"], x[\"precursor_intensity\"], True), axis=1)"
   ],
   "metadata": {
    "collapsed": false,
    "ExecuteTime": {
     "end_time": "2023-08-24T12:37:22.988690100Z",
     "start_time": "2023-08-24T12:37:12.213332500Z"
    }
   }
  },
  {
   "cell_type": "code",
   "execution_count": 36,
   "outputs": [],
   "source": [
    "# return key for max value in dict\n",
    "merged_df['most_abundant_charge'] = merged_df['normalized'].apply(lambda x: max(x, key=x.get))"
   ],
   "metadata": {
    "collapsed": false,
    "ExecuteTime": {
     "end_time": "2023-08-24T12:37:23.514559700Z",
     "start_time": "2023-08-24T12:37:22.989688200Z"
    }
   }
  },
  {
   "cell_type": "code",
   "execution_count": 37,
   "outputs": [],
   "source": [
    "merged_df[\"most_abundant_charge_vector\"] = merged_df[\"most_abundant_charge\"].apply(one_hot_precursor, args=(charge_ranges,))"
   ],
   "metadata": {
    "collapsed": false,
    "ExecuteTime": {
     "end_time": "2023-08-24T12:37:26.617302800Z",
     "start_time": "2023-08-24T12:37:23.515565Z"
    }
   }
  },
  {
   "cell_type": "code",
   "execution_count": 38,
   "outputs": [],
   "source": [
    "merged_df[\"modified_sequence_vector\"] = merged_df[\"modified_sequence\"].apply(seq_translator)"
   ],
   "metadata": {
    "collapsed": false,
    "ExecuteTime": {
     "end_time": "2023-08-24T12:37:34.635045Z",
     "start_time": "2023-08-24T12:37:26.618302800Z"
    }
   }
  },
  {
   "cell_type": "code",
   "execution_count": 39,
   "outputs": [
    {
     "data": {
      "text/plain": "             modified_sequence  \\\n0       AAAAAAAAAAAAAAAAGLGLGP   \n1        AAAAAAAAAAAAAAAASAGGK   \n2       AAAAAAAAAAAAAAAGAGAGAK   \n3   AAAAAAAAAAAAAAASGFAYPGTSER   \n4              AAAAAAAAAAAAAAG   \n5            AAAAAAAAAAAAAAGAG   \n6       AAAAAAAAAAAAAAGGLALGLH   \n7          AAAAAAAAAAAAAAVTSGV   \n8             AAAAAAAAAAAAAGAG   \n9               AAAAAAAAAAAAAK   \n10            AAAAAAAAAAAAHLPS   \n\n                                     precursor_charge  \\\n0   [2, 3, 2, 1, 1, 2, 2, 2, 2, 2, 2, 3, 3, 3, 3, ...   \n1       [2, 2, 2, 2, 2, 2, 2, 2, 2, 2, 2, 2, 2, 2, 2]   \n2                                        [2, 2, 2, 2]   \n3   [2, 2, 2, 2, 2, 2, 2, 2, 2, 2, 2, 2, 2, 2, 2, ...   \n4   [1, 1, 1, 1, 1, 1, 1, 1, 1, 1, 1, 1, 1, 1, 1, ...   \n5   [1, 1, 1, 1, 1, 1, 1, 1, 1, 1, 1, 1, 1, 1, 1, ...   \n6   [2, 2, 2, 2, 2, 2, 2, 2, 2, 2, 2, 2, 2, 2, 2, ...   \n7   [2, 2, 2, 2, 2, 2, 2, 2, 2, 2, 2, 2, 2, 2, 2, ...   \n8   [1, 2, 1, 1, 1, 1, 1, 2, 2, 2, 2, 2, 2, 2, 1, ...   \n9   [1, 2, 2, 2, 2, 2, 1, 1, 1, 2, 2, 1, 1, 2, 2, ...   \n10  [2, 2, 2, 2, 2, 2, 2, 2, 2, 2, 2, 2, 2, 2, 2, ...   \n\n                                  precursor_intensity  seq_len_prepadding  \\\n0   [12746190.0, 2009914.0, 12746190.0, 791369.9, ...                  22   \n1   [5944787.0, 5944787.0, 8502878.0, 6425294.0, 8...                  21   \n2        [3067981.0, 3067981.0, 3067981.0, 3067981.0]                  22   \n3   [11913300.0, 11913300.0, 11913300.0, 11913300....                  26   \n4   [1573785.0, 4638296.0, 7934979.0, 2019978.0, 4...                  15   \n5   [853119.3, 4332449.0, 3688977.0, 3469130.0, 33...                  17   \n6   [33516080.0, 33516080.0, 8522070.0, 4549188.0,...                  22   \n7   [4576179.0, 3336856.0, 4954145.0, 4317804.0, 3...                  19   \n8   [1233316.0, 2671238.0, 11414430.0, 13683660.0,...                  16   \n9   [2540360.0, 31115000.0, 31115000.0, 70371250.0...                  14   \n10  [27030420.0, 22099630.0, 71770480.0, 22099630....                  16   \n\n                                  normalized  \\\n0   {2: 588796.3, 3: 4654280.0, 1: 791369.9}   \n1                              {2: 303307.5}   \n2                             {2: 3067981.0}   \n3               {2: 8093413.0, 3: 1414907.0}   \n4                             {1: 1124818.0}   \n5                              {1: 679216.3}   \n6                              {2: 365943.3}   \n7              {2: 14611910.0, 1: 1211272.0}   \n8               {1: 1879604.0, 2: 2586197.0}   \n9              {1: 8372130.0, 2: 15308280.0}   \n10                            {2: 5810305.0}   \n\n                                 pre_normalization  most_abundant_charge  \\\n0   {2: 1043873837.3, 3: 30130627.0, 1: 1582739.8}                     3   \n1                                 {2: 107202221.5}                     2   \n2                                  {2: 12271924.0}                     2   \n3                   {2: 148659685.0, 3: 4244721.0}                     2   \n4                           {1: 546950229.4000001}                     1   \n5                                  {1: 52634067.9}                     1   \n6                           {2: 6848110396.300002}                     2   \n7            {2: 225462597.40000004, 1: 5840742.2}                     2   \n8                 {1: 349665943.5, 2: 228379326.3}                     2   \n9                 {1: 99493666.2, 2: 6574531120.0}                     2   \n10                               {2: 9446767331.0}                     2   \n\n   most_abundant_charge_vector  \\\n0           [0, 0, 1, 0, 0, 0]   \n1           [0, 1, 0, 0, 0, 0]   \n2           [0, 1, 0, 0, 0, 0]   \n3           [0, 1, 0, 0, 0, 0]   \n4           [1, 0, 0, 0, 0, 0]   \n5           [1, 0, 0, 0, 0, 0]   \n6           [0, 1, 0, 0, 0, 0]   \n7           [0, 1, 0, 0, 0, 0]   \n8           [0, 1, 0, 0, 0, 0]   \n9           [0, 1, 0, 0, 0, 0]   \n10          [0, 1, 0, 0, 0, 0]   \n\n                             modified_sequence_vector  \n0   [1, 1, 1, 1, 1, 1, 1, 1, 1, 1, 1, 1, 1, 1, 1, ...  \n1   [1, 1, 1, 1, 1, 1, 1, 1, 1, 1, 1, 1, 1, 1, 1, ...  \n2   [1, 1, 1, 1, 1, 1, 1, 1, 1, 1, 1, 1, 1, 1, 1, ...  \n3   [1, 1, 1, 1, 1, 1, 1, 1, 1, 1, 1, 1, 1, 1, 1, ...  \n4   [1, 1, 1, 1, 1, 1, 1, 1, 1, 1, 1, 1, 1, 1, 6, ...  \n5   [1, 1, 1, 1, 1, 1, 1, 1, 1, 1, 1, 1, 1, 1, 6, ...  \n6   [1, 1, 1, 1, 1, 1, 1, 1, 1, 1, 1, 1, 1, 1, 6, ...  \n7   [1, 1, 1, 1, 1, 1, 1, 1, 1, 1, 1, 1, 1, 1, 18,...  \n8   [1, 1, 1, 1, 1, 1, 1, 1, 1, 1, 1, 1, 1, 6, 1, ...  \n9   [1, 1, 1, 1, 1, 1, 1, 1, 1, 1, 1, 1, 1, 9, 0, ...  \n10  [1, 1, 1, 1, 1, 1, 1, 1, 1, 1, 1, 1, 7, 10, 13...  ",
      "text/html": "<div>\n<style scoped>\n    .dataframe tbody tr th:only-of-type {\n        vertical-align: middle;\n    }\n\n    .dataframe tbody tr th {\n        vertical-align: top;\n    }\n\n    .dataframe thead th {\n        text-align: right;\n    }\n</style>\n<table border=\"1\" class=\"dataframe\">\n  <thead>\n    <tr style=\"text-align: right;\">\n      <th></th>\n      <th>modified_sequence</th>\n      <th>precursor_charge</th>\n      <th>precursor_intensity</th>\n      <th>seq_len_prepadding</th>\n      <th>normalized</th>\n      <th>pre_normalization</th>\n      <th>most_abundant_charge</th>\n      <th>most_abundant_charge_vector</th>\n      <th>modified_sequence_vector</th>\n    </tr>\n  </thead>\n  <tbody>\n    <tr>\n      <th>0</th>\n      <td>AAAAAAAAAAAAAAAAGLGLGP</td>\n      <td>[2, 3, 2, 1, 1, 2, 2, 2, 2, 2, 2, 3, 3, 3, 3, ...</td>\n      <td>[12746190.0, 2009914.0, 12746190.0, 791369.9, ...</td>\n      <td>22</td>\n      <td>{2: 588796.3, 3: 4654280.0, 1: 791369.9}</td>\n      <td>{2: 1043873837.3, 3: 30130627.0, 1: 1582739.8}</td>\n      <td>3</td>\n      <td>[0, 0, 1, 0, 0, 0]</td>\n      <td>[1, 1, 1, 1, 1, 1, 1, 1, 1, 1, 1, 1, 1, 1, 1, ...</td>\n    </tr>\n    <tr>\n      <th>1</th>\n      <td>AAAAAAAAAAAAAAAASAGGK</td>\n      <td>[2, 2, 2, 2, 2, 2, 2, 2, 2, 2, 2, 2, 2, 2, 2]</td>\n      <td>[5944787.0, 5944787.0, 8502878.0, 6425294.0, 8...</td>\n      <td>21</td>\n      <td>{2: 303307.5}</td>\n      <td>{2: 107202221.5}</td>\n      <td>2</td>\n      <td>[0, 1, 0, 0, 0, 0]</td>\n      <td>[1, 1, 1, 1, 1, 1, 1, 1, 1, 1, 1, 1, 1, 1, 1, ...</td>\n    </tr>\n    <tr>\n      <th>2</th>\n      <td>AAAAAAAAAAAAAAAGAGAGAK</td>\n      <td>[2, 2, 2, 2]</td>\n      <td>[3067981.0, 3067981.0, 3067981.0, 3067981.0]</td>\n      <td>22</td>\n      <td>{2: 3067981.0}</td>\n      <td>{2: 12271924.0}</td>\n      <td>2</td>\n      <td>[0, 1, 0, 0, 0, 0]</td>\n      <td>[1, 1, 1, 1, 1, 1, 1, 1, 1, 1, 1, 1, 1, 1, 1, ...</td>\n    </tr>\n    <tr>\n      <th>3</th>\n      <td>AAAAAAAAAAAAAAASGFAYPGTSER</td>\n      <td>[2, 2, 2, 2, 2, 2, 2, 2, 2, 2, 2, 2, 2, 2, 2, ...</td>\n      <td>[11913300.0, 11913300.0, 11913300.0, 11913300....</td>\n      <td>26</td>\n      <td>{2: 8093413.0, 3: 1414907.0}</td>\n      <td>{2: 148659685.0, 3: 4244721.0}</td>\n      <td>2</td>\n      <td>[0, 1, 0, 0, 0, 0]</td>\n      <td>[1, 1, 1, 1, 1, 1, 1, 1, 1, 1, 1, 1, 1, 1, 1, ...</td>\n    </tr>\n    <tr>\n      <th>4</th>\n      <td>AAAAAAAAAAAAAAG</td>\n      <td>[1, 1, 1, 1, 1, 1, 1, 1, 1, 1, 1, 1, 1, 1, 1, ...</td>\n      <td>[1573785.0, 4638296.0, 7934979.0, 2019978.0, 4...</td>\n      <td>15</td>\n      <td>{1: 1124818.0}</td>\n      <td>{1: 546950229.4000001}</td>\n      <td>1</td>\n      <td>[1, 0, 0, 0, 0, 0]</td>\n      <td>[1, 1, 1, 1, 1, 1, 1, 1, 1, 1, 1, 1, 1, 1, 6, ...</td>\n    </tr>\n    <tr>\n      <th>5</th>\n      <td>AAAAAAAAAAAAAAGAG</td>\n      <td>[1, 1, 1, 1, 1, 1, 1, 1, 1, 1, 1, 1, 1, 1, 1, ...</td>\n      <td>[853119.3, 4332449.0, 3688977.0, 3469130.0, 33...</td>\n      <td>17</td>\n      <td>{1: 679216.3}</td>\n      <td>{1: 52634067.9}</td>\n      <td>1</td>\n      <td>[1, 0, 0, 0, 0, 0]</td>\n      <td>[1, 1, 1, 1, 1, 1, 1, 1, 1, 1, 1, 1, 1, 1, 6, ...</td>\n    </tr>\n    <tr>\n      <th>6</th>\n      <td>AAAAAAAAAAAAAAGGLALGLH</td>\n      <td>[2, 2, 2, 2, 2, 2, 2, 2, 2, 2, 2, 2, 2, 2, 2, ...</td>\n      <td>[33516080.0, 33516080.0, 8522070.0, 4549188.0,...</td>\n      <td>22</td>\n      <td>{2: 365943.3}</td>\n      <td>{2: 6848110396.300002}</td>\n      <td>2</td>\n      <td>[0, 1, 0, 0, 0, 0]</td>\n      <td>[1, 1, 1, 1, 1, 1, 1, 1, 1, 1, 1, 1, 1, 1, 6, ...</td>\n    </tr>\n    <tr>\n      <th>7</th>\n      <td>AAAAAAAAAAAAAAVTSGV</td>\n      <td>[2, 2, 2, 2, 2, 2, 2, 2, 2, 2, 2, 2, 2, 2, 2, ...</td>\n      <td>[4576179.0, 3336856.0, 4954145.0, 4317804.0, 3...</td>\n      <td>19</td>\n      <td>{2: 14611910.0, 1: 1211272.0}</td>\n      <td>{2: 225462597.40000004, 1: 5840742.2}</td>\n      <td>2</td>\n      <td>[0, 1, 0, 0, 0, 0]</td>\n      <td>[1, 1, 1, 1, 1, 1, 1, 1, 1, 1, 1, 1, 1, 1, 18,...</td>\n    </tr>\n    <tr>\n      <th>8</th>\n      <td>AAAAAAAAAAAAAGAG</td>\n      <td>[1, 2, 1, 1, 1, 1, 1, 2, 2, 2, 2, 2, 2, 2, 1, ...</td>\n      <td>[1233316.0, 2671238.0, 11414430.0, 13683660.0,...</td>\n      <td>16</td>\n      <td>{1: 1879604.0, 2: 2586197.0}</td>\n      <td>{1: 349665943.5, 2: 228379326.3}</td>\n      <td>2</td>\n      <td>[0, 1, 0, 0, 0, 0]</td>\n      <td>[1, 1, 1, 1, 1, 1, 1, 1, 1, 1, 1, 1, 1, 6, 1, ...</td>\n    </tr>\n    <tr>\n      <th>9</th>\n      <td>AAAAAAAAAAAAAK</td>\n      <td>[1, 2, 2, 2, 2, 2, 1, 1, 1, 2, 2, 1, 1, 2, 2, ...</td>\n      <td>[2540360.0, 31115000.0, 31115000.0, 70371250.0...</td>\n      <td>14</td>\n      <td>{1: 8372130.0, 2: 15308280.0}</td>\n      <td>{1: 99493666.2, 2: 6574531120.0}</td>\n      <td>2</td>\n      <td>[0, 1, 0, 0, 0, 0]</td>\n      <td>[1, 1, 1, 1, 1, 1, 1, 1, 1, 1, 1, 1, 1, 9, 0, ...</td>\n    </tr>\n    <tr>\n      <th>10</th>\n      <td>AAAAAAAAAAAAHLPS</td>\n      <td>[2, 2, 2, 2, 2, 2, 2, 2, 2, 2, 2, 2, 2, 2, 2, ...</td>\n      <td>[27030420.0, 22099630.0, 71770480.0, 22099630....</td>\n      <td>16</td>\n      <td>{2: 5810305.0}</td>\n      <td>{2: 9446767331.0}</td>\n      <td>2</td>\n      <td>[0, 1, 0, 0, 0, 0]</td>\n      <td>[1, 1, 1, 1, 1, 1, 1, 1, 1, 1, 1, 1, 7, 10, 13...</td>\n    </tr>\n  </tbody>\n</table>\n</div>"
     },
     "execution_count": 39,
     "metadata": {},
     "output_type": "execute_result"
    }
   ],
   "source": [
    "merged_df.head(11)"
   ],
   "metadata": {
    "collapsed": false,
    "ExecuteTime": {
     "end_time": "2023-08-24T12:37:34.738568800Z",
     "start_time": "2023-08-24T12:37:34.636081300Z"
    }
   }
  },
  {
   "cell_type": "code",
   "execution_count": 40,
   "outputs": [
    {
     "data": {
      "text/plain": "830820"
     },
     "execution_count": 40,
     "metadata": {},
     "output_type": "execute_result"
    }
   ],
   "source": [
    "len(merged_df)"
   ],
   "metadata": {
    "collapsed": false,
    "ExecuteTime": {
     "end_time": "2023-08-24T12:37:34.738624200Z",
     "start_time": "2023-08-24T12:37:34.664235900Z"
    }
   }
  },
  {
   "cell_type": "code",
   "execution_count": 41,
   "outputs": [
    {
     "data": {
      "text/plain": "2    452544\n3    259972\n4     65966\n1     41352\n5      9069\n6      1917\nName: most_abundant_charge, dtype: int64"
     },
     "execution_count": 41,
     "metadata": {},
     "output_type": "execute_result"
    }
   ],
   "source": [
    "merged_df[\"most_abundant_charge\"].value_counts()"
   ],
   "metadata": {
    "collapsed": false,
    "ExecuteTime": {
     "end_time": "2023-08-24T12:37:34.741579800Z",
     "start_time": "2023-08-24T12:37:34.673263900Z"
    }
   }
  },
  {
   "cell_type": "code",
   "execution_count": null,
   "outputs": [],
   "source": [
    "#get the"
   ],
   "metadata": {
    "collapsed": false
   }
  },
  {
   "cell_type": "code",
   "execution_count": 42,
   "outputs": [
    {
     "name": "stdout",
     "output_type": "stream",
     "text": [
      "data/Thermo_SRM_Pool_meta_data.parquet\n"
     ]
    },
    {
     "name": "stderr",
     "output_type": "stream",
     "text": [
      "C:\\Users\\micro\\AppData\\Local\\Temp\\ipykernel_35220\\365009680.py:2: FutureWarning: Indexing with multiple keys (implicitly converted to a tuple of keys) will be deprecated, use a list instead.\n",
      "  look_up_df = batches_parquet[file_list[0]].groupby(\"modified_sequence\")[\"precursor_charge\", \"precursor_intensity\"].agg(list).reset_index()\n"
     ]
    },
    {
     "data": {
      "text/plain": "70445"
     },
     "execution_count": 42,
     "metadata": {},
     "output_type": "execute_result"
    }
   ],
   "source": [
    "print(file_list[0])\n",
    "look_up_df = batches_parquet[file_list[0]].groupby(\"modified_sequence\")[\"precursor_charge\", \"precursor_intensity\"].agg(list).reset_index()\n",
    "len(look_up_df)"
   ],
   "metadata": {
    "collapsed": false,
    "ExecuteTime": {
     "end_time": "2023-08-24T12:37:39.260787100Z",
     "start_time": "2023-08-24T12:37:34.687390600Z"
    }
   }
  },
  {
   "cell_type": "markdown",
   "source": [
    "# Dataset preprocessing: Conv2d"
   ],
   "metadata": {
    "collapsed": false
   }
  },
  {
   "cell_type": "code",
   "execution_count": 36,
   "outputs": [
    {
     "name": "stdout",
     "output_type": "stream",
     "text": [
      "most abundant:  {1: 91111655, 2: 612265}\n"
     ]
    }
   ],
   "source": [
    "# proof of concept\n",
    "# we have a sequence ABC with:\n",
    "list_a = [1,2,1,2,1,2,1,2,1,2] # charge states for \"ABC\" sequence with multiple appearances\n",
    "list_b = [111,21,311,41,51,611111,71,81,91111111,1011] # intensities for \"ABC\" sequence in each charge state\n",
    "print(\"most abundant: \", get_most_abundant(list_a, list_b, True))"
   ],
   "metadata": {
    "collapsed": false,
    "ExecuteTime": {
     "end_time": "2023-08-21T09:52:57.242406700Z",
     "start_time": "2023-08-21T09:52:57.189795Z"
    }
   }
  },
  {
   "cell_type": "code",
   "execution_count": 83,
   "outputs": [],
   "source": [
    "main_ds = np.array(merged_df[\"modified_sequence_vector\"]) # to list\n",
    "main_ds_labels = np.array(merged_df['most_abundant_charge_vector'])"
   ],
   "metadata": {
    "collapsed": false,
    "ExecuteTime": {
     "end_time": "2023-08-22T12:28:11.673519300Z",
     "start_time": "2023-08-22T12:28:11.532117600Z"
    }
   }
  },
  {
   "cell_type": "code",
   "execution_count": 84,
   "outputs": [],
   "source": [
    "# Create an instance of StratifiedShuffleSplit\n",
    "sss1 = StratifiedShuffleSplit(n_splits=1, test_size=0.1, random_state=42)\n",
    "sss2 = StratifiedShuffleSplit(n_splits=1, test_size=0.3, random_state=42)\n",
    "\n",
    "# Perform the split train+val and test\n",
    "trainval_indicies, test_indicies = next(sss1.split(main_ds, main_ds_labels))\n",
    "\n",
    "trainval_ds, trainval_labels = main_ds[trainval_indicies], main_ds_labels[trainval_indicies]\n",
    "test_ds, test_labels = main_ds[test_indicies], main_ds_labels[test_indicies]"
   ],
   "metadata": {
    "collapsed": false,
    "ExecuteTime": {
     "end_time": "2023-08-22T12:28:12.712560100Z",
     "start_time": "2023-08-22T12:28:11.557755Z"
    }
   }
  },
  {
   "cell_type": "code",
   "execution_count": 125,
   "outputs": [],
   "source": [
    "# Perform the split train and val\n",
    "train_indicies, val_indicies = next(sss2.split(trainval_ds, trainval_labels))\n",
    "\n",
    "train_ds, train_labels = trainval_ds[train_indicies], trainval_labels[train_indicies]\n",
    "val_ds, val_labels = trainval_ds[val_indicies], trainval_labels[val_indicies]\n",
    "\n",
    "\n",
    "charges = [1,2,3,4,5,6] # TODO SELECT CLASSES\n",
    "num_classes = len(charges)"
   ],
   "metadata": {
    "collapsed": false,
    "ExecuteTime": {
     "end_time": "2023-08-21T10:12:48.989716400Z",
     "start_time": "2023-08-21T10:12:46.826828300Z"
    }
   }
  },
  {
   "cell_type": "markdown",
   "source": [
    "### Conv2d Model"
   ],
   "metadata": {
    "collapsed": false
   }
  },
  {
   "cell_type": "code",
   "execution_count": 71,
   "outputs": [],
   "source": [
    "train_ds = [np.reshape(np.array(x), (1, max_len_seq, 1)) for x in train_ds]\n",
    "val_ds = [np.reshape(np.array(x), (1, max_len_seq, 1)) for x in val_ds]\n",
    "test_ds = [np.reshape(np.array(x), (1, max_len_seq, 1)) for x in test_ds]"
   ],
   "metadata": {
    "collapsed": false,
    "ExecuteTime": {
     "end_time": "2023-08-21T10:01:14.352352900Z",
     "start_time": "2023-08-21T10:01:09.432634Z"
    }
   }
  },
  {
   "cell_type": "code",
   "execution_count": 72,
   "outputs": [
    {
     "data": {
      "text/plain": "array([[[21],\n        [ 4],\n        [ 6],\n        [ 5],\n        [ 4],\n        [10],\n        [ 7],\n        [ 5],\n        [19],\n        [15],\n        [ 0],\n        [ 0],\n        [ 0],\n        [ 0],\n        [ 0],\n        [ 0],\n        [ 0],\n        [ 0],\n        [ 0],\n        [ 0],\n        [ 0],\n        [ 0],\n        [ 0],\n        [ 0],\n        [ 0],\n        [ 0],\n        [ 0],\n        [ 0],\n        [ 0],\n        [ 0],\n        [ 0],\n        [ 0],\n        [ 0],\n        [ 0],\n        [ 0],\n        [ 0],\n        [ 0],\n        [ 0],\n        [ 0],\n        [ 0],\n        [ 0],\n        [ 0],\n        [ 0],\n        [ 0],\n        [ 0],\n        [ 0],\n        [ 0],\n        [ 0],\n        [ 0],\n        [ 0],\n        [ 0],\n        [ 0],\n        [ 0],\n        [ 0],\n        [ 0],\n        [ 0],\n        [ 0],\n        [ 0],\n        [ 0],\n        [ 0],\n        [ 0],\n        [ 0],\n        [ 0]]])"
     },
     "execution_count": 72,
     "metadata": {},
     "output_type": "execute_result"
    }
   ],
   "source": [
    "train_ds[0]"
   ],
   "metadata": {
    "collapsed": false,
    "ExecuteTime": {
     "end_time": "2023-08-21T10:01:16.314574400Z",
     "start_time": "2023-08-21T10:01:16.224928600Z"
    }
   }
  },
  {
   "cell_type": "code",
   "execution_count": 73,
   "outputs": [
    {
     "data": {
      "text/plain": "<Figure size 640x480 with 1 Axes>",
      "image/png": "[encoded data removed]"
     },
     "metadata": {},
     "output_type": "display_data"
    },
    {
     "data": {
      "text/plain": "<Figure size 640x480 with 1 Axes>",
      "image/png": "[encoded data removed]"
     },
     "metadata": {},
     "output_type": "display_data"
    },
    {
     "data": {
      "text/plain": "<Figure size 640x480 with 1 Axes>",
      "image/png": "[encoded data removed]"
     },
     "metadata": {},
     "output_type": "display_data"
    },
    {
     "data": {
      "text/plain": "<Figure size 640x480 with 1 Axes>",
      "image/png": "[encoded data removed]"
     },
     "metadata": {},
     "output_type": "display_data"
    },
    {
     "data": {
      "text/plain": "<Figure size 640x480 with 1 Axes>",
      "image/png": "[encoded data removed]"
     },
     "metadata": {},
     "output_type": "display_data"
    }
   ],
   "source": [
    "from matplotlib import pyplot as plt\n",
    "for i in range(5):\n",
    "    plt.imshow(train_ds[i], interpolation='nearest', cmap='seismic') # TODO CUSTOM COLORS FOR AA\n",
    "    plt.show()"
   ],
   "metadata": {
    "collapsed": false,
    "ExecuteTime": {
     "end_time": "2023-08-21T10:01:21.074342Z",
     "start_time": "2023-08-21T10:01:20.405886600Z"
    }
   }
  },
  {
   "cell_type": "code",
   "execution_count": null,
   "outputs": [],
   "source": [
    "train_ds = tf.convert_to_tensor(train_ds)\n",
    "val_ds = tf.convert_to_tensor(val_ds)"
   ],
   "metadata": {
    "collapsed": false
   }
  },
  {
   "cell_type": "code",
   "execution_count": null,
   "outputs": [],
   "source": [
    "train_ds_labels = [np.array(x) for x in train_ds_labels]\n",
    "val_ds_labels = [np.array(x) for x in val_ds_labels]"
   ],
   "metadata": {
    "collapsed": false
   }
  },
  {
   "cell_type": "code",
   "execution_count": null,
   "outputs": [],
   "source": [
    "train_ds_labels = tf.convert_to_tensor(train_ds_labels)\n",
    "val_ds_labels = tf.convert_to_tensor(val_ds_labels)"
   ],
   "metadata": {
    "collapsed": false
   }
  },
  {
   "cell_type": "code",
   "execution_count": null,
   "outputs": [],
   "source": [
    "from keras import Sequential, Model\n",
    "from keras.layers import Embedding, Flatten, Dense, Conv1D, Conv2D, MaxPooling1D, MaxPooling2D, Input, concatenate, Rescaling\n",
    "# define two sets of inputs\n",
    "inputA = Input(shape=train_ds.shape[1:])\n",
    "# the first branch operates on the first input\n",
    "x = Model(inputs=inputA, outputs=inputA)\n",
    "# the second branch operates on the second input\n",
    "y = Rescaling(scale=1./100)(inputA) # for dictionary of 2000 words (X = 0, aa 1-20 in 100 steps)\n",
    "#y = Embedding(input_dim=2000, output_dim=3, input_length=50)(inputB)\n",
    "y = Conv2D(filters=128, kernel_size=(1,3), strides=1, activation=\"relu\", padding='same')(y)\n",
    "#y = MaxPooling2D(pool_size=(1,2), padding='same')(y)\n",
    "#y = Conv2D(filters=128, kernel_size=(1,3), strides=1, activation=\"relu\", padding='same')(y)\n",
    "#y = MaxPooling2D(pool_size=(1,2), padding='same')(y)\n",
    "y = Flatten()(y)\n",
    "y = Dense(210, activation=\"relu\")(y)\n",
    "# combine the output of the two branches\n",
    "#z = Flatten()(combined)\n",
    "z = Dense(num_classes, activation=\"softmax\")(y)\n",
    "# our model will accept the inputs of the two branches and\n",
    "# then output a single value\n",
    "model = Model(inputs=[x.input], outputs=z)"
   ],
   "metadata": {
    "collapsed": false
   }
  },
  {
   "cell_type": "code",
   "execution_count": null,
   "outputs": [],
   "source": [
    "model.summary()"
   ],
   "metadata": {
    "collapsed": false
   }
  },
  {
   "cell_type": "code",
   "execution_count": null,
   "outputs": [],
   "source": [
    "# plot model\n",
    "tf.keras.utils.plot_model(model, show_shapes=True, show_layer_names=True)"
   ],
   "metadata": {
    "collapsed": false
   }
  },
  {
   "cell_type": "code",
   "execution_count": null,
   "outputs": [],
   "source": [
    "# Compile the model\n",
    "model.compile(loss=tf.keras.losses.CategoricalCrossentropy(), optimizer=keras.optimizers.Adam(learning_rate=0.0001), metrics=['accuracy'])"
   ],
   "metadata": {
    "collapsed": false
   }
  },
  {
   "cell_type": "code",
   "execution_count": null,
   "outputs": [],
   "source": [
    "checkpoint_callback = ModelCheckpoint('precursor_charge_prediction_model_v1/cce_wo7_allSequences.h5', monitor='val_accuracy', save_best_only=True, mode='max')\n",
    "\n",
    "# Define early stopping\n",
    "early_stopping = tf.keras.callbacks.EarlyStopping(monitor='val_loss', patience=5)"
   ],
   "metadata": {
    "collapsed": false
   }
  },
  {
   "cell_type": "code",
   "execution_count": null,
   "outputs": [],
   "source": [
    "#steps_per_epoch = train_ds_b.shape[0] // 256"
   ],
   "metadata": {
    "collapsed": false
   }
  },
  {
   "cell_type": "code",
   "execution_count": null,
   "outputs": [],
   "source": [
    "# Train the model\n",
    "# X_train, X_test, y_train, y_test\n",
    "history = model.fit(train_ds, train_ds_labels, epochs=120, batch_size=4096, validation_data=(val_ds, val_ds_labels), callbacks=[checkpoint_callback, early_stopping, WandbCallback()]) #WandbCallback()"
   ],
   "metadata": {
    "collapsed": false
   }
  },
  {
   "cell_type": "code",
   "execution_count": null,
   "outputs": [],
   "source": [
    "# Access the loss, validation loss, and accuracy from the history object\n",
    "loss = history.history['loss']\n",
    "val_loss = history.history['val_loss']\n",
    "accuracy = history.history['accuracy']\n",
    "val_accuracy = history.history['val_accuracy']\n",
    "\n",
    "# Plot the loss, validation loss, and accuracy curves\n",
    "epochs = range(1, len(loss) + 1)\n",
    "\n",
    "# Create subplots\n",
    "fig2, (ax1, ax2) = plt.subplots(1, 2, figsize=(12, 6))\n",
    "\n",
    "# Plot loss and validation loss\n",
    "ax1.plot(epochs, loss, 'b', label='Training Loss')\n",
    "ax1.plot(epochs, val_loss, 'r', label='Validation Loss')\n",
    "ax1.set_title('Training and Validation Loss')\n",
    "ax1.set_xlabel('Epochs')\n",
    "ax1.set_ylabel('Loss')\n",
    "ax1.legend()\n",
    "\n",
    "# Plot accuracy and validation accuracy\n",
    "ax2.plot(epochs, accuracy, 'b', label='Training Accuracy')\n",
    "ax2.plot(epochs, val_accuracy, 'r', label='Validation Accuracy')\n",
    "ax2.set_title('Training and Validation Accuracy')\n",
    "ax2.set_xlabel('Epochs')\n",
    "ax2.set_ylabel('Accuracy')\n",
    "ax2.legend()\n",
    "\n",
    "# Adjust spacing between subplots\n",
    "plt.tight_layout()\n",
    "\n",
    "# Show the plots\n",
    "plt.show()"
   ],
   "metadata": {
    "collapsed": false
   }
  },
  {
   "cell_type": "code",
   "execution_count": null,
   "outputs": [],
   "source": [
    "model.save('precursor_charge_prediction_conv2d_model/big_conv2d_model.h5')"
   ],
   "metadata": {
    "collapsed": false
   }
  },
  {
   "cell_type": "markdown",
   "source": [
    "# Embedding model test:"
   ],
   "metadata": {
    "collapsed": false
   }
  },
  {
   "cell_type": "code",
   "execution_count": 43,
   "outputs": [],
   "source": [
    "# Create an instance of StratifiedShuffleSplit\n",
    "sss = StratifiedShuffleSplit(n_splits=1, test_size=0.2, random_state=42)"
   ],
   "metadata": {
    "collapsed": false,
    "ExecuteTime": {
     "end_time": "2023-08-24T12:37:39.263301500Z",
     "start_time": "2023-08-24T12:37:39.222219800Z"
    }
   }
  },
  {
   "cell_type": "code",
   "execution_count": 44,
   "outputs": [],
   "source": [
    "df1 = merged_df.sample(frac = 0.1, random_state = 42)\n",
    "test_ds_embed = np.array(df1['modified_sequence_vector'])\n",
    "test_ds_embed_raw = np.array(df1['modified_sequence'])\n",
    "test_labels_embed = np.array(df1['most_abundant_charge_vector'])\n",
    "\n",
    "df2 = merged_df.drop(df1.index)\n",
    "trainval_ds_embed = np.array(df2['modified_sequence_vector'])\n",
    "trainval_ds_embed_raw = np.array(df2['modified_sequence'])\n",
    "trainval_labels_embed = np.array(df2['most_abundant_charge_vector'])"
   ],
   "metadata": {
    "collapsed": false,
    "ExecuteTime": {
     "end_time": "2023-08-24T12:37:39.725013500Z",
     "start_time": "2023-08-24T12:37:39.226228Z"
    }
   }
  },
  {
   "cell_type": "code",
   "execution_count": 45,
   "outputs": [],
   "source": [
    "# Perform the split train and val\n",
    "train_indicies_embed, val_indicies_embed = next(sss.split(trainval_ds_embed, trainval_labels_embed, trainval_ds_embed_raw))"
   ],
   "metadata": {
    "collapsed": false,
    "ExecuteTime": {
     "end_time": "2023-08-24T12:37:40.827946900Z",
     "start_time": "2023-08-24T12:37:39.726013800Z"
    }
   }
  },
  {
   "cell_type": "code",
   "execution_count": 46,
   "outputs": [],
   "source": [
    "train_ds_embed, train_labels_embed = trainval_ds_embed[train_indicies_embed], trainval_labels_embed[train_indicies_embed]\n",
    "val_ds_embed, val_labels_embed = trainval_ds_embed[val_indicies_embed], trainval_labels_embed[val_indicies_embed]\n",
    "train_ds_embed_raw, val_ds_embed_raw = trainval_ds_embed_raw[train_indicies_embed], trainval_ds_embed_raw[val_indicies_embed]\n",
    "\n",
    "charges = [1,2,3,4,5,6] # TODO SELECT CLASSES\n",
    "num_classes = len(charges)"
   ],
   "metadata": {
    "collapsed": false,
    "ExecuteTime": {
     "end_time": "2023-08-24T12:37:40.957730300Z",
     "start_time": "2023-08-24T12:37:40.829945600Z"
    }
   }
  },
  {
   "cell_type": "code",
   "execution_count": 47,
   "outputs": [],
   "source": [
    "train_ds_embed  = [np.array(x) for x in train_ds_embed]\n",
    "val_ds_embed = [np.array(x) for x in val_ds_embed]\n",
    "test_ds_embed = [np.array(x) for x in test_ds_embed]"
   ],
   "metadata": {
    "collapsed": false,
    "ExecuteTime": {
     "end_time": "2023-08-24T12:37:45.198264600Z",
     "start_time": "2023-08-24T12:37:40.958730700Z"
    }
   }
  },
  {
   "cell_type": "code",
   "execution_count": 48,
   "outputs": [],
   "source": [
    "train_labels_embed = [np.array(x) for x in train_labels_embed]\n",
    "val_labels_embed = [np.array(x) for x in val_labels_embed]\n",
    "test_labels_embed = [np.array(x) for x in test_labels_embed]"
   ],
   "metadata": {
    "collapsed": false,
    "ExecuteTime": {
     "end_time": "2023-08-24T12:37:46.039123600Z",
     "start_time": "2023-08-24T12:37:45.199265800Z"
    }
   }
  },
  {
   "cell_type": "code",
   "execution_count": 49,
   "outputs": [],
   "source": [
    "train_ds_embed = tf.convert_to_tensor(train_ds_embed)\n",
    "val_ds_embed = tf.convert_to_tensor(val_ds_embed)\n",
    "train_labels_embed = tf.convert_to_tensor(train_labels_embed)\n",
    "val_labels_embed = tf.convert_to_tensor(val_labels_embed)\n",
    "\n",
    "test_ds_embed = tf.convert_to_tensor(test_ds_embed)\n",
    "test_labels_embed = tf.convert_to_tensor(test_labels_embed)"
   ],
   "metadata": {
    "collapsed": false,
    "ExecuteTime": {
     "end_time": "2023-08-24T12:37:51.093677Z",
     "start_time": "2023-08-24T12:37:46.040124800Z"
    }
   }
  },
  {
   "cell_type": "code",
   "execution_count": 50,
   "outputs": [
    {
     "data": {
      "text/plain": "<tf.Tensor: shape=(63,), dtype=int32, numpy=\narray([18, 18, 16,  1,  6, 13, 19, 16, 16,  4,  9,  1,  4, 11, 12,  8, 10,\n        4,  8, 12,  4, 17, 10, 15,  0,  0,  0,  0,  0,  0,  0,  0,  0,  0,\n        0,  0,  0,  0,  0,  0,  0,  0,  0,  0,  0,  0,  0,  0,  0,  0,  0,\n        0,  0,  0,  0,  0,  0,  0,  0,  0,  0,  0,  0])>"
     },
     "execution_count": 50,
     "metadata": {},
     "output_type": "execute_result"
    }
   ],
   "source": [
    "train_ds_embed[0]"
   ],
   "metadata": {
    "collapsed": false,
    "ExecuteTime": {
     "end_time": "2023-08-24T12:37:51.139054300Z",
     "start_time": "2023-08-24T12:37:51.093677Z"
    }
   }
  },
  {
   "cell_type": "code",
   "execution_count": 190,
   "outputs": [
    {
     "data": {
      "text/plain": "<IPython.core.display.HTML object>",
      "text/html": "Finishing last run (ID:nxa0jz5f) before initializing another..."
     },
     "metadata": {},
     "output_type": "display_data"
    },
    {
     "data": {
      "text/plain": "<IPython.core.display.HTML object>",
      "text/html": "Waiting for W&B process to finish... <strong style=\"color:green\">(success).</strong>"
     },
     "metadata": {},
     "output_type": "display_data"
    },
    {
     "data": {
      "text/plain": "VBox(children=(Label(value='90.039 MB of 90.039 MB uploaded (0.287 MB deduped)\\r'), FloatProgress(value=1.0, m…",
      "application/vnd.jupyter.widget-view+json": {
       "version_major": 2,
       "version_minor": 0,
       "model_id": "ec889cb5af264c5a8522e37e84273ce5"
      }
     },
     "metadata": {},
     "output_type": "display_data"
    },
    {
     "data": {
      "text/plain": "<IPython.core.display.HTML object>",
      "text/html": "<style>\n    table.wandb td:nth-child(1) { padding: 0 10px; text-align: left ; width: auto;} td:nth-child(2) {text-align: left ; width: 100%}\n    .wandb-row { display: flex; flex-direction: row; flex-wrap: wrap; justify-content: flex-start; width: 100% }\n    .wandb-col { display: flex; flex-direction: column; flex-basis: 100%; flex: 1; padding: 10px; }\n    </style>\n<div class=\"wandb-row\"><div class=\"wandb-col\"><h3>Run history:</h3><br/><table class=\"wandb\"><tr><td>categorical_accuracy</td><td>▁▃▄▅▅▆▆▇▇▇████████████████████</td></tr><tr><td>epoch</td><td>▁▁▁▂▂▂▂▃▃▃▃▄▄▄▄▅▅▅▅▆▆▆▆▇▇▇▇███</td></tr><tr><td>loss</td><td>█▅▅▄▃▃▂▂▂▁▁▁▁▁▁▁▁▁▁▁▁▁▁▁▁▁▁▁▁▁</td></tr><tr><td>val_categorical_accuracy</td><td>▁▂▃▄▅▆▆▇▇▇████████████████████</td></tr><tr><td>val_loss</td><td>█▇▆▅▄▃▂▂▂▂▁▁▁▁▁▁▁▁▁▁▁▁▁▁▁▁▁▁▁▁</td></tr></table><br/></div><div class=\"wandb-col\"><h3>Run summary:</h3><br/><table class=\"wandb\"><tr><td>best_epoch</td><td>29</td></tr><tr><td>best_val_loss</td><td>0.49894</td></tr><tr><td>categorical_accuracy</td><td>0.78707</td></tr><tr><td>epoch</td><td>29</td></tr><tr><td>loss</td><td>0.49829</td></tr><tr><td>val_categorical_accuracy</td><td>0.78575</td></tr><tr><td>val_loss</td><td>0.49894</td></tr></table><br/></div></div>"
     },
     "metadata": {},
     "output_type": "display_data"
    },
    {
     "data": {
      "text/plain": "<IPython.core.display.HTML object>",
      "text/html": " View run <strong style=\"color:#cdcd00\">lilac-shadow-20</strong> at: <a href='https://wandb.ai/team-bioinf/precursor_charge_prediction_new/runs/nxa0jz5f' target=\"_blank\">https://wandb.ai/team-bioinf/precursor_charge_prediction_new/runs/nxa0jz5f</a><br/>Synced 5 W&B file(s), 1 media file(s), 147 artifact file(s) and 1 other file(s)"
     },
     "metadata": {},
     "output_type": "display_data"
    },
    {
     "data": {
      "text/plain": "<IPython.core.display.HTML object>",
      "text/html": "Find logs at: <code>.\\wandb\\run-20230821_114710-nxa0jz5f\\logs</code>"
     },
     "metadata": {},
     "output_type": "display_data"
    },
    {
     "data": {
      "text/plain": "<IPython.core.display.HTML object>",
      "text/html": "Successfully finished last run (ID:nxa0jz5f). Initializing new run:<br/>"
     },
     "metadata": {},
     "output_type": "display_data"
    },
    {
     "data": {
      "text/plain": "VBox(children=(Label(value='Waiting for wandb.init()...\\r'), FloatProgress(value=0.016933333333327028, max=1.0…",
      "application/vnd.jupyter.widget-view+json": {
       "version_major": 2,
       "version_minor": 0,
       "model_id": "729b92dadf0743679685d479cd2f612f"
      }
     },
     "metadata": {},
     "output_type": "display_data"
    },
    {
     "data": {
      "text/plain": "<IPython.core.display.HTML object>",
      "text/html": "wandb version 0.15.8 is available!  To upgrade, please run:\n $ pip install wandb --upgrade"
     },
     "metadata": {},
     "output_type": "display_data"
    },
    {
     "data": {
      "text/plain": "<IPython.core.display.HTML object>",
      "text/html": "Tracking run with wandb version 0.15.5"
     },
     "metadata": {},
     "output_type": "display_data"
    },
    {
     "data": {
      "text/plain": "<IPython.core.display.HTML object>",
      "text/html": "Run data is saved locally in <code>C:\\Users\\micro\\OneDrive\\Dokumente\\GitHub\\Masterpraktikum\\wandb\\run-20230821_125012-7qdxnacx</code>"
     },
     "metadata": {},
     "output_type": "display_data"
    },
    {
     "data": {
      "text/plain": "<IPython.core.display.HTML object>",
      "text/html": "Syncing run <strong><a href='https://wandb.ai/team-bioinf/precursor_charge_prediction_new/runs/7qdxnacx' target=\"_blank\">zany-gorge-21</a></strong> to <a href='https://wandb.ai/team-bioinf/precursor_charge_prediction_new' target=\"_blank\">Weights & Biases</a> (<a href='https://wandb.me/run' target=\"_blank\">docs</a>)<br/>"
     },
     "metadata": {},
     "output_type": "display_data"
    },
    {
     "data": {
      "text/plain": "<IPython.core.display.HTML object>",
      "text/html": " View project at <a href='https://wandb.ai/team-bioinf/precursor_charge_prediction_new' target=\"_blank\">https://wandb.ai/team-bioinf/precursor_charge_prediction_new</a>"
     },
     "metadata": {},
     "output_type": "display_data"
    },
    {
     "data": {
      "text/plain": "<IPython.core.display.HTML object>",
      "text/html": " View run at <a href='https://wandb.ai/team-bioinf/precursor_charge_prediction_new/runs/7qdxnacx' target=\"_blank\">https://wandb.ai/team-bioinf/precursor_charge_prediction_new/runs/7qdxnacx</a>"
     },
     "metadata": {},
     "output_type": "display_data"
    },
    {
     "data": {
      "text/html": "<button onClick=\"this.nextSibling.style.display='block';this.style.display='none';\">Display W&B run</button><iframe src='https://wandb.ai/team-bioinf/precursor_charge_prediction_new/runs/7qdxnacx?jupyter=true' style='border:none;width:100%;height:420px;display:none;'></iframe>",
      "text/plain": "<wandb.sdk.wandb_run.Run at 0x1f749a99550>"
     },
     "execution_count": 190,
     "metadata": {},
     "output_type": "execute_result"
    }
   ],
   "source": [
    "wandb.init(project='precursor_charge_prediction_new')"
   ],
   "metadata": {
    "collapsed": false,
    "ExecuteTime": {
     "end_time": "2023-08-21T10:50:23.055208100Z",
     "start_time": "2023-08-21T10:50:12.597160300Z"
    }
   }
  },
  {
   "cell_type": "code",
   "execution_count": 189,
   "outputs": [],
   "source": [
    "from keras import Sequential, Model\n",
    "from keras.layers import Embedding, Flatten, Dense, Conv1D, Conv2D, MaxPooling1D, MaxPooling2D, Input, concatenate, Rescaling\n",
    "# define two sets of inputs\n",
    "inputA_embed = Input(shape=train_ds_embed[0].shape)\n",
    "# the first branch operates on the first input\n",
    "x = Model(inputs=inputA_embed, outputs=inputA_embed)\n",
    "y = Embedding(input_dim=voc_len, output_dim=max_len_seq, input_length=max_len_seq)(inputA_embed)\n",
    "y = Flatten()(y)\n",
    "y = Dense(max_len_seq, activation=\"relu\")(y)\n",
    "z = Dense(num_classes, activation=\"softmax\")(y)\n",
    "# our model will accept the inputs of the two branches and\n",
    "# then output a single value\n",
    "model_embed = Model(inputs=[x.input], outputs=z)"
   ],
   "metadata": {
    "collapsed": false,
    "ExecuteTime": {
     "end_time": "2023-08-21T10:50:07.923552400Z",
     "start_time": "2023-08-21T10:50:07.798312900Z"
    }
   }
  },
  {
   "cell_type": "code",
   "execution_count": 191,
   "outputs": [
    {
     "name": "stdout",
     "output_type": "stream",
     "text": [
      "Model: \"model_10\"\n",
      "_________________________________________________________________\n",
      " Layer (type)                Output Shape              Param #   \n",
      "=================================================================\n",
      " input_6 (InputLayer)        [(None, 63)]              0         \n",
      "                                                                 \n",
      " embedding_4 (Embedding)     (None, 63, 63)            1449      \n",
      "                                                                 \n",
      " flatten_4 (Flatten)         (None, 3969)              0         \n",
      "                                                                 \n",
      " dense_8 (Dense)             (None, 63)                250110    \n",
      "                                                                 \n",
      " dense_9 (Dense)             (None, 6)                 384       \n",
      "                                                                 \n",
      "=================================================================\n",
      "Total params: 251,943\n",
      "Trainable params: 251,943\n",
      "Non-trainable params: 0\n",
      "_________________________________________________________________\n"
     ]
    }
   ],
   "source": [
    "model_embed.summary()"
   ],
   "metadata": {
    "collapsed": false,
    "ExecuteTime": {
     "end_time": "2023-08-21T10:50:26.247275800Z",
     "start_time": "2023-08-21T10:50:26.198434700Z"
    }
   }
  },
  {
   "cell_type": "code",
   "execution_count": 139,
   "outputs": [
    {
     "data": {
      "image/png": "[encoded data removed]",
      "text/plain": "<IPython.core.display.Image object>"
     },
     "execution_count": 139,
     "metadata": {},
     "output_type": "execute_result"
    }
   ],
   "source": [
    "# plot model\n",
    "tf.keras.utils.plot_model(model_embed, show_shapes=True, show_layer_names=True)"
   ],
   "metadata": {
    "collapsed": false,
    "ExecuteTime": {
     "end_time": "2023-08-21T10:14:35.619400200Z",
     "start_time": "2023-08-21T10:14:35.442380500Z"
    }
   }
  },
  {
   "cell_type": "code",
   "execution_count": 192,
   "outputs": [],
   "source": [
    "# Compile the model\n",
    "model_embed.compile(loss=tf.keras.losses.CategoricalCrossentropy(), optimizer=keras.optimizers.Adam(learning_rate=0.0001), metrics=['categorical_accuracy'])"
   ],
   "metadata": {
    "collapsed": false,
    "ExecuteTime": {
     "end_time": "2023-08-21T10:50:30.066572500Z",
     "start_time": "2023-08-21T10:50:30.018421400Z"
    }
   }
  },
  {
   "cell_type": "code",
   "execution_count": 193,
   "outputs": [],
   "source": [
    "checkpoint_callback_embed = ModelCheckpoint('precursor_charge_prediction_model_embed/embed.h5', monitor='val_accuracy', save_best_only=True, mode='max')\n",
    "\n",
    "# Define early stopping\n",
    "early_stopping_embed = tf.keras.callbacks.EarlyStopping(monitor='val_loss', patience=10)"
   ],
   "metadata": {
    "collapsed": false,
    "ExecuteTime": {
     "end_time": "2023-08-21T10:50:30.975214100Z",
     "start_time": "2023-08-21T10:50:30.926293200Z"
    }
   }
  },
  {
   "cell_type": "code",
   "execution_count": 194,
   "outputs": [
    {
     "data": {
      "text/plain": "2.584962500721156"
     },
     "execution_count": 194,
     "metadata": {},
     "output_type": "execute_result"
    }
   ],
   "source": [
    "# sanity check for loss\n",
    "np.log2(6)"
   ],
   "metadata": {
    "collapsed": false,
    "ExecuteTime": {
     "end_time": "2023-08-21T10:50:32.336415700Z",
     "start_time": "2023-08-21T10:50:32.288179600Z"
    }
   }
  },
  {
   "cell_type": "code",
   "execution_count": 195,
   "outputs": [
    {
     "name": "stdout",
     "output_type": "stream",
     "text": [
      "Epoch 1/30\n",
      "146/147 [============================>.] - ETA: 0s - loss: 1.1609 - categorical_accuracy: 0.5664WARNING:tensorflow:Can save best model only with val_accuracy available, skipping.\n",
      "INFO:tensorflow:Assets written to: C:\\Users\\micro\\OneDrive\\Dokumente\\GitHub\\Masterpraktikum\\wandb\\run-20230821_125012-7qdxnacx\\files\\model-best\\assets\n"
     ]
    },
    {
     "name": "stderr",
     "output_type": "stream",
     "text": [
      "\u001B[34m\u001B[1mwandb\u001B[0m: Adding directory to artifact (C:\\Users\\micro\\OneDrive\\Dokumente\\GitHub\\Masterpraktikum\\wandb\\run-20230821_125012-7qdxnacx\\files\\model-best)... Done. 0.0s\n"
     ]
    },
    {
     "name": "stdout",
     "output_type": "stream",
     "text": [
      "147/147 [==============================] - 14s 95ms/step - loss: 1.1609 - categorical_accuracy: 0.5664 - val_loss: 0.9842 - val_categorical_accuracy: 0.6038\n",
      "Epoch 2/30\n",
      "146/147 [============================>.] - ETA: 0s - loss: 0.9371 - categorical_accuracy: 0.6169WARNING:tensorflow:Can save best model only with val_accuracy available, skipping.\n",
      "INFO:tensorflow:Assets written to: C:\\Users\\micro\\OneDrive\\Dokumente\\GitHub\\Masterpraktikum\\wandb\\run-20230821_125012-7qdxnacx\\files\\model-best\\assets\n"
     ]
    },
    {
     "name": "stderr",
     "output_type": "stream",
     "text": [
      "\u001B[34m\u001B[1mwandb\u001B[0m: Adding directory to artifact (C:\\Users\\micro\\OneDrive\\Dokumente\\GitHub\\Masterpraktikum\\wandb\\run-20230821_125012-7qdxnacx\\files\\model-best)... Done. 0.0s\n"
     ]
    },
    {
     "name": "stdout",
     "output_type": "stream",
     "text": [
      "147/147 [==============================] - 13s 86ms/step - loss: 0.9371 - categorical_accuracy: 0.6169 - val_loss: 0.8919 - val_categorical_accuracy: 0.6313\n",
      "Epoch 3/30\n",
      "146/147 [============================>.] - ETA: 0s - loss: 0.8431 - categorical_accuracy: 0.6549WARNING:tensorflow:Can save best model only with val_accuracy available, skipping.\n",
      "INFO:tensorflow:Assets written to: C:\\Users\\micro\\OneDrive\\Dokumente\\GitHub\\Masterpraktikum\\wandb\\run-20230821_125012-7qdxnacx\\files\\model-best\\assets\n"
     ]
    },
    {
     "name": "stderr",
     "output_type": "stream",
     "text": [
      "\u001B[34m\u001B[1mwandb\u001B[0m: Adding directory to artifact (C:\\Users\\micro\\OneDrive\\Dokumente\\GitHub\\Masterpraktikum\\wandb\\run-20230821_125012-7qdxnacx\\files\\model-best)... Done. 0.0s\n"
     ]
    },
    {
     "name": "stdout",
     "output_type": "stream",
     "text": [
      "147/147 [==============================] - 13s 85ms/step - loss: 0.8431 - categorical_accuracy: 0.6550 - val_loss: 0.7918 - val_categorical_accuracy: 0.6791\n",
      "Epoch 4/30\n",
      "146/147 [============================>.] - ETA: 0s - loss: 0.7456 - categorical_accuracy: 0.6919WARNING:tensorflow:Can save best model only with val_accuracy available, skipping.\n",
      "INFO:tensorflow:Assets written to: C:\\Users\\micro\\OneDrive\\Dokumente\\GitHub\\Masterpraktikum\\wandb\\run-20230821_125012-7qdxnacx\\files\\model-best\\assets\n"
     ]
    },
    {
     "name": "stderr",
     "output_type": "stream",
     "text": [
      "\u001B[34m\u001B[1mwandb\u001B[0m: Adding directory to artifact (C:\\Users\\micro\\OneDrive\\Dokumente\\GitHub\\Masterpraktikum\\wandb\\run-20230821_125012-7qdxnacx\\files\\model-best)... Done. 0.0s\n"
     ]
    },
    {
     "name": "stdout",
     "output_type": "stream",
     "text": [
      "147/147 [==============================] - 13s 86ms/step - loss: 0.7456 - categorical_accuracy: 0.6919 - val_loss: 0.7005 - val_categorical_accuracy: 0.7074\n",
      "Epoch 5/30\n",
      "146/147 [============================>.] - ETA: 0s - loss: 0.6659 - categorical_accuracy: 0.7165WARNING:tensorflow:Can save best model only with val_accuracy available, skipping.\n",
      "INFO:tensorflow:Assets written to: C:\\Users\\micro\\OneDrive\\Dokumente\\GitHub\\Masterpraktikum\\wandb\\run-20230821_125012-7qdxnacx\\files\\model-best\\assets\n"
     ]
    },
    {
     "name": "stderr",
     "output_type": "stream",
     "text": [
      "\u001B[34m\u001B[1mwandb\u001B[0m: Adding directory to artifact (C:\\Users\\micro\\OneDrive\\Dokumente\\GitHub\\Masterpraktikum\\wandb\\run-20230821_125012-7qdxnacx\\files\\model-best)... Done. 0.0s\n"
     ]
    },
    {
     "name": "stdout",
     "output_type": "stream",
     "text": [
      "147/147 [==============================] - 12s 85ms/step - loss: 0.6659 - categorical_accuracy: 0.7165 - val_loss: 0.6352 - val_categorical_accuracy: 0.7208\n",
      "Epoch 6/30\n",
      "146/147 [============================>.] - ETA: 0s - loss: 0.6130 - categorical_accuracy: 0.7381WARNING:tensorflow:Can save best model only with val_accuracy available, skipping.\n",
      "INFO:tensorflow:Assets written to: C:\\Users\\micro\\OneDrive\\Dokumente\\GitHub\\Masterpraktikum\\wandb\\run-20230821_125012-7qdxnacx\\files\\model-best\\assets\n"
     ]
    },
    {
     "name": "stderr",
     "output_type": "stream",
     "text": [
      "\u001B[34m\u001B[1mwandb\u001B[0m: Adding directory to artifact (C:\\Users\\micro\\OneDrive\\Dokumente\\GitHub\\Masterpraktikum\\wandb\\run-20230821_125012-7qdxnacx\\files\\model-best)... Done. 0.0s\n"
     ]
    },
    {
     "name": "stdout",
     "output_type": "stream",
     "text": [
      "147/147 [==============================] - 13s 91ms/step - loss: 0.6130 - categorical_accuracy: 0.7381 - val_loss: 0.5934 - val_categorical_accuracy: 0.7509\n",
      "Epoch 7/30\n",
      "146/147 [============================>.] - ETA: 0s - loss: 0.5799 - categorical_accuracy: 0.7567WARNING:tensorflow:Can save best model only with val_accuracy available, skipping.\n",
      "INFO:tensorflow:Assets written to: C:\\Users\\micro\\OneDrive\\Dokumente\\GitHub\\Masterpraktikum\\wandb\\run-20230821_125012-7qdxnacx\\files\\model-best\\assets\n"
     ]
    },
    {
     "name": "stderr",
     "output_type": "stream",
     "text": [
      "\u001B[34m\u001B[1mwandb\u001B[0m: Adding directory to artifact (C:\\Users\\micro\\OneDrive\\Dokumente\\GitHub\\Masterpraktikum\\wandb\\run-20230821_125012-7qdxnacx\\files\\model-best)... Done. 0.0s\n"
     ]
    },
    {
     "name": "stdout",
     "output_type": "stream",
     "text": [
      "147/147 [==============================] - 13s 89ms/step - loss: 0.5799 - categorical_accuracy: 0.7567 - val_loss: 0.5673 - val_categorical_accuracy: 0.7629\n",
      "Epoch 8/30\n",
      "146/147 [============================>.] - ETA: 0s - loss: 0.5590 - categorical_accuracy: 0.7652WARNING:tensorflow:Can save best model only with val_accuracy available, skipping.\n",
      "INFO:tensorflow:Assets written to: C:\\Users\\micro\\OneDrive\\Dokumente\\GitHub\\Masterpraktikum\\wandb\\run-20230821_125012-7qdxnacx\\files\\model-best\\assets\n"
     ]
    },
    {
     "name": "stderr",
     "output_type": "stream",
     "text": [
      "\u001B[34m\u001B[1mwandb\u001B[0m: Adding directory to artifact (C:\\Users\\micro\\OneDrive\\Dokumente\\GitHub\\Masterpraktikum\\wandb\\run-20230821_125012-7qdxnacx\\files\\model-best)... Done. 0.0s\n"
     ]
    },
    {
     "name": "stdout",
     "output_type": "stream",
     "text": [
      "147/147 [==============================] - 14s 94ms/step - loss: 0.5590 - categorical_accuracy: 0.7652 - val_loss: 0.5510 - val_categorical_accuracy: 0.7703\n",
      "Epoch 9/30\n",
      "146/147 [============================>.] - ETA: 0s - loss: 0.5460 - categorical_accuracy: 0.7700WARNING:tensorflow:Can save best model only with val_accuracy available, skipping.\n",
      "INFO:tensorflow:Assets written to: C:\\Users\\micro\\OneDrive\\Dokumente\\GitHub\\Masterpraktikum\\wandb\\run-20230821_125012-7qdxnacx\\files\\model-best\\assets\n"
     ]
    },
    {
     "name": "stderr",
     "output_type": "stream",
     "text": [
      "\u001B[34m\u001B[1mwandb\u001B[0m: Adding directory to artifact (C:\\Users\\micro\\OneDrive\\Dokumente\\GitHub\\Masterpraktikum\\wandb\\run-20230821_125012-7qdxnacx\\files\\model-best)... Done. 0.0s\n"
     ]
    },
    {
     "name": "stdout",
     "output_type": "stream",
     "text": [
      "147/147 [==============================] - 13s 87ms/step - loss: 0.5460 - categorical_accuracy: 0.7700 - val_loss: 0.5407 - val_categorical_accuracy: 0.7728\n",
      "Epoch 10/30\n",
      "146/147 [============================>.] - ETA: 0s - loss: 0.5369 - categorical_accuracy: 0.7734WARNING:tensorflow:Can save best model only with val_accuracy available, skipping.\n",
      "INFO:tensorflow:Assets written to: C:\\Users\\micro\\OneDrive\\Dokumente\\GitHub\\Masterpraktikum\\wandb\\run-20230821_125012-7qdxnacx\\files\\model-best\\assets\n"
     ]
    },
    {
     "name": "stderr",
     "output_type": "stream",
     "text": [
      "\u001B[34m\u001B[1mwandb\u001B[0m: Adding directory to artifact (C:\\Users\\micro\\OneDrive\\Dokumente\\GitHub\\Masterpraktikum\\wandb\\run-20230821_125012-7qdxnacx\\files\\model-best)... Done. 0.0s\n"
     ]
    },
    {
     "name": "stdout",
     "output_type": "stream",
     "text": [
      "147/147 [==============================] - 12s 85ms/step - loss: 0.5369 - categorical_accuracy: 0.7734 - val_loss: 0.5342 - val_categorical_accuracy: 0.7734\n",
      "Epoch 11/30\n",
      "146/147 [============================>.] - ETA: 0s - loss: 0.5306 - categorical_accuracy: 0.7757WARNING:tensorflow:Can save best model only with val_accuracy available, skipping.\n",
      "INFO:tensorflow:Assets written to: C:\\Users\\micro\\OneDrive\\Dokumente\\GitHub\\Masterpraktikum\\wandb\\run-20230821_125012-7qdxnacx\\files\\model-best\\assets\n"
     ]
    },
    {
     "name": "stderr",
     "output_type": "stream",
     "text": [
      "\u001B[34m\u001B[1mwandb\u001B[0m: Adding directory to artifact (C:\\Users\\micro\\OneDrive\\Dokumente\\GitHub\\Masterpraktikum\\wandb\\run-20230821_125012-7qdxnacx\\files\\model-best)... Done. 0.0s\n"
     ]
    },
    {
     "name": "stdout",
     "output_type": "stream",
     "text": [
      "147/147 [==============================] - 13s 85ms/step - loss: 0.5306 - categorical_accuracy: 0.7757 - val_loss: 0.5280 - val_categorical_accuracy: 0.7781\n",
      "Epoch 12/30\n",
      "146/147 [============================>.] - ETA: 0s - loss: 0.5255 - categorical_accuracy: 0.7775WARNING:tensorflow:Can save best model only with val_accuracy available, skipping.\n",
      "INFO:tensorflow:Assets written to: C:\\Users\\micro\\OneDrive\\Dokumente\\GitHub\\Masterpraktikum\\wandb\\run-20230821_125012-7qdxnacx\\files\\model-best\\assets\n"
     ]
    },
    {
     "name": "stderr",
     "output_type": "stream",
     "text": [
      "\u001B[34m\u001B[1mwandb\u001B[0m: Adding directory to artifact (C:\\Users\\micro\\OneDrive\\Dokumente\\GitHub\\Masterpraktikum\\wandb\\run-20230821_125012-7qdxnacx\\files\\model-best)... Done. 0.0s\n"
     ]
    },
    {
     "name": "stdout",
     "output_type": "stream",
     "text": [
      "147/147 [==============================] - 13s 89ms/step - loss: 0.5255 - categorical_accuracy: 0.7775 - val_loss: 0.5235 - val_categorical_accuracy: 0.7783\n",
      "Epoch 13/30\n",
      "146/147 [============================>.] - ETA: 0s - loss: 0.5218 - categorical_accuracy: 0.7790WARNING:tensorflow:Can save best model only with val_accuracy available, skipping.\n",
      "INFO:tensorflow:Assets written to: C:\\Users\\micro\\OneDrive\\Dokumente\\GitHub\\Masterpraktikum\\wandb\\run-20230821_125012-7qdxnacx\\files\\model-best\\assets\n"
     ]
    },
    {
     "name": "stderr",
     "output_type": "stream",
     "text": [
      "\u001B[34m\u001B[1mwandb\u001B[0m: Adding directory to artifact (C:\\Users\\micro\\OneDrive\\Dokumente\\GitHub\\Masterpraktikum\\wandb\\run-20230821_125012-7qdxnacx\\files\\model-best)... Done. 0.0s\n"
     ]
    },
    {
     "name": "stdout",
     "output_type": "stream",
     "text": [
      "147/147 [==============================] - 13s 89ms/step - loss: 0.5218 - categorical_accuracy: 0.7790 - val_loss: 0.5213 - val_categorical_accuracy: 0.7799\n",
      "Epoch 14/30\n",
      "146/147 [============================>.] - ETA: 0s - loss: 0.5190 - categorical_accuracy: 0.7799WARNING:tensorflow:Can save best model only with val_accuracy available, skipping.\n",
      "INFO:tensorflow:Assets written to: C:\\Users\\micro\\OneDrive\\Dokumente\\GitHub\\Masterpraktikum\\wandb\\run-20230821_125012-7qdxnacx\\files\\model-best\\assets\n"
     ]
    },
    {
     "name": "stderr",
     "output_type": "stream",
     "text": [
      "\u001B[34m\u001B[1mwandb\u001B[0m: Adding directory to artifact (C:\\Users\\micro\\OneDrive\\Dokumente\\GitHub\\Masterpraktikum\\wandb\\run-20230821_125012-7qdxnacx\\files\\model-best)... Done. 0.0s\n"
     ]
    },
    {
     "name": "stdout",
     "output_type": "stream",
     "text": [
      "147/147 [==============================] - 13s 86ms/step - loss: 0.5190 - categorical_accuracy: 0.7799 - val_loss: 0.5186 - val_categorical_accuracy: 0.7814\n",
      "Epoch 15/30\n",
      "146/147 [============================>.] - ETA: 0s - loss: 0.5169 - categorical_accuracy: 0.7805WARNING:tensorflow:Can save best model only with val_accuracy available, skipping.\n",
      "INFO:tensorflow:Assets written to: C:\\Users\\micro\\OneDrive\\Dokumente\\GitHub\\Masterpraktikum\\wandb\\run-20230821_125012-7qdxnacx\\files\\model-best\\assets\n"
     ]
    },
    {
     "name": "stderr",
     "output_type": "stream",
     "text": [
      "\u001B[34m\u001B[1mwandb\u001B[0m: Adding directory to artifact (C:\\Users\\micro\\OneDrive\\Dokumente\\GitHub\\Masterpraktikum\\wandb\\run-20230821_125012-7qdxnacx\\files\\model-best)... Done. 0.0s\n"
     ]
    },
    {
     "name": "stdout",
     "output_type": "stream",
     "text": [
      "147/147 [==============================] - 13s 86ms/step - loss: 0.5169 - categorical_accuracy: 0.7805 - val_loss: 0.5162 - val_categorical_accuracy: 0.7809\n",
      "Epoch 16/30\n",
      "146/147 [============================>.] - ETA: 0s - loss: 0.5149 - categorical_accuracy: 0.7814WARNING:tensorflow:Can save best model only with val_accuracy available, skipping.\n",
      "INFO:tensorflow:Assets written to: C:\\Users\\micro\\OneDrive\\Dokumente\\GitHub\\Masterpraktikum\\wandb\\run-20230821_125012-7qdxnacx\\files\\model-best\\assets\n"
     ]
    },
    {
     "name": "stderr",
     "output_type": "stream",
     "text": [
      "\u001B[34m\u001B[1mwandb\u001B[0m: Adding directory to artifact (C:\\Users\\micro\\OneDrive\\Dokumente\\GitHub\\Masterpraktikum\\wandb\\run-20230821_125012-7qdxnacx\\files\\model-best)... Done. 0.0s\n"
     ]
    },
    {
     "name": "stdout",
     "output_type": "stream",
     "text": [
      "147/147 [==============================] - 13s 88ms/step - loss: 0.5149 - categorical_accuracy: 0.7814 - val_loss: 0.5147 - val_categorical_accuracy: 0.7810\n",
      "Epoch 17/30\n",
      "146/147 [============================>.] - ETA: 0s - loss: 0.5135 - categorical_accuracy: 0.7818WARNING:tensorflow:Can save best model only with val_accuracy available, skipping.\n",
      "INFO:tensorflow:Assets written to: C:\\Users\\micro\\OneDrive\\Dokumente\\GitHub\\Masterpraktikum\\wandb\\run-20230821_125012-7qdxnacx\\files\\model-best\\assets\n"
     ]
    },
    {
     "name": "stderr",
     "output_type": "stream",
     "text": [
      "\u001B[34m\u001B[1mwandb\u001B[0m: Adding directory to artifact (C:\\Users\\micro\\OneDrive\\Dokumente\\GitHub\\Masterpraktikum\\wandb\\run-20230821_125012-7qdxnacx\\files\\model-best)... Done. 0.0s\n"
     ]
    },
    {
     "name": "stdout",
     "output_type": "stream",
     "text": [
      "147/147 [==============================] - 13s 89ms/step - loss: 0.5135 - categorical_accuracy: 0.7818 - val_loss: 0.5132 - val_categorical_accuracy: 0.7823\n",
      "Epoch 18/30\n",
      "146/147 [============================>.] - ETA: 0s - loss: 0.5117 - categorical_accuracy: 0.7822WARNING:tensorflow:Can save best model only with val_accuracy available, skipping.\n",
      "INFO:tensorflow:Assets written to: C:\\Users\\micro\\OneDrive\\Dokumente\\GitHub\\Masterpraktikum\\wandb\\run-20230821_125012-7qdxnacx\\files\\model-best\\assets\n"
     ]
    },
    {
     "name": "stderr",
     "output_type": "stream",
     "text": [
      "\u001B[34m\u001B[1mwandb\u001B[0m: Adding directory to artifact (C:\\Users\\micro\\OneDrive\\Dokumente\\GitHub\\Masterpraktikum\\wandb\\run-20230821_125012-7qdxnacx\\files\\model-best)... Done. 0.0s\n"
     ]
    },
    {
     "name": "stdout",
     "output_type": "stream",
     "text": [
      "147/147 [==============================] - 12s 85ms/step - loss: 0.5117 - categorical_accuracy: 0.7822 - val_loss: 0.5121 - val_categorical_accuracy: 0.7828\n",
      "Epoch 19/30\n",
      "146/147 [============================>.] - ETA: 0s - loss: 0.5106 - categorical_accuracy: 0.7829WARNING:tensorflow:Can save best model only with val_accuracy available, skipping.\n",
      "INFO:tensorflow:Assets written to: C:\\Users\\micro\\OneDrive\\Dokumente\\GitHub\\Masterpraktikum\\wandb\\run-20230821_125012-7qdxnacx\\files\\model-best\\assets\n"
     ]
    },
    {
     "name": "stderr",
     "output_type": "stream",
     "text": [
      "\u001B[34m\u001B[1mwandb\u001B[0m: Adding directory to artifact (C:\\Users\\micro\\OneDrive\\Dokumente\\GitHub\\Masterpraktikum\\wandb\\run-20230821_125012-7qdxnacx\\files\\model-best)... Done. 0.0s\n"
     ]
    },
    {
     "name": "stdout",
     "output_type": "stream",
     "text": [
      "147/147 [==============================] - 13s 87ms/step - loss: 0.5106 - categorical_accuracy: 0.7829 - val_loss: 0.5106 - val_categorical_accuracy: 0.7829\n",
      "Epoch 20/30\n",
      "146/147 [============================>.] - ETA: 0s - loss: 0.5092 - categorical_accuracy: 0.7833WARNING:tensorflow:Can save best model only with val_accuracy available, skipping.\n",
      "INFO:tensorflow:Assets written to: C:\\Users\\micro\\OneDrive\\Dokumente\\GitHub\\Masterpraktikum\\wandb\\run-20230821_125012-7qdxnacx\\files\\model-best\\assets\n"
     ]
    },
    {
     "name": "stderr",
     "output_type": "stream",
     "text": [
      "\u001B[34m\u001B[1mwandb\u001B[0m: Adding directory to artifact (C:\\Users\\micro\\OneDrive\\Dokumente\\GitHub\\Masterpraktikum\\wandb\\run-20230821_125012-7qdxnacx\\files\\model-best)... Done. 0.0s\n"
     ]
    },
    {
     "name": "stdout",
     "output_type": "stream",
     "text": [
      "147/147 [==============================] - 13s 85ms/step - loss: 0.5092 - categorical_accuracy: 0.7833 - val_loss: 0.5095 - val_categorical_accuracy: 0.7819\n",
      "Epoch 21/30\n",
      "146/147 [============================>.] - ETA: 0s - loss: 0.5083 - categorical_accuracy: 0.7834WARNING:tensorflow:Can save best model only with val_accuracy available, skipping.\n",
      "INFO:tensorflow:Assets written to: C:\\Users\\micro\\OneDrive\\Dokumente\\GitHub\\Masterpraktikum\\wandb\\run-20230821_125012-7qdxnacx\\files\\model-best\\assets\n"
     ]
    },
    {
     "name": "stderr",
     "output_type": "stream",
     "text": [
      "\u001B[34m\u001B[1mwandb\u001B[0m: Adding directory to artifact (C:\\Users\\micro\\OneDrive\\Dokumente\\GitHub\\Masterpraktikum\\wandb\\run-20230821_125012-7qdxnacx\\files\\model-best)... Done. 0.0s\n"
     ]
    },
    {
     "name": "stdout",
     "output_type": "stream",
     "text": [
      "147/147 [==============================] - 12s 85ms/step - loss: 0.5083 - categorical_accuracy: 0.7835 - val_loss: 0.5084 - val_categorical_accuracy: 0.7827\n",
      "Epoch 22/30\n",
      "146/147 [============================>.] - ETA: 0s - loss: 0.5072 - categorical_accuracy: 0.7836WARNING:tensorflow:Can save best model only with val_accuracy available, skipping.\n",
      "INFO:tensorflow:Assets written to: C:\\Users\\micro\\OneDrive\\Dokumente\\GitHub\\Masterpraktikum\\wandb\\run-20230821_125012-7qdxnacx\\files\\model-best\\assets\n"
     ]
    },
    {
     "name": "stderr",
     "output_type": "stream",
     "text": [
      "\u001B[34m\u001B[1mwandb\u001B[0m: Adding directory to artifact (C:\\Users\\micro\\OneDrive\\Dokumente\\GitHub\\Masterpraktikum\\wandb\\run-20230821_125012-7qdxnacx\\files\\model-best)... Done. 0.0s\n"
     ]
    },
    {
     "name": "stdout",
     "output_type": "stream",
     "text": [
      "147/147 [==============================] - 12s 84ms/step - loss: 0.5072 - categorical_accuracy: 0.7836 - val_loss: 0.5081 - val_categorical_accuracy: 0.7821\n",
      "Epoch 23/30\n",
      "146/147 [============================>.] - ETA: 0s - loss: 0.5060 - categorical_accuracy: 0.7842WARNING:tensorflow:Can save best model only with val_accuracy available, skipping.\n",
      "INFO:tensorflow:Assets written to: C:\\Users\\micro\\OneDrive\\Dokumente\\GitHub\\Masterpraktikum\\wandb\\run-20230821_125012-7qdxnacx\\files\\model-best\\assets\n"
     ]
    },
    {
     "name": "stderr",
     "output_type": "stream",
     "text": [
      "\u001B[34m\u001B[1mwandb\u001B[0m: Adding directory to artifact (C:\\Users\\micro\\OneDrive\\Dokumente\\GitHub\\Masterpraktikum\\wandb\\run-20230821_125012-7qdxnacx\\files\\model-best)... Done. 0.0s\n"
     ]
    },
    {
     "name": "stdout",
     "output_type": "stream",
     "text": [
      "147/147 [==============================] - 12s 85ms/step - loss: 0.5060 - categorical_accuracy: 0.7842 - val_loss: 0.5066 - val_categorical_accuracy: 0.7842\n",
      "Epoch 24/30\n",
      "146/147 [============================>.] - ETA: 0s - loss: 0.5051 - categorical_accuracy: 0.7843WARNING:tensorflow:Can save best model only with val_accuracy available, skipping.\n",
      "INFO:tensorflow:Assets written to: C:\\Users\\micro\\OneDrive\\Dokumente\\GitHub\\Masterpraktikum\\wandb\\run-20230821_125012-7qdxnacx\\files\\model-best\\assets\n"
     ]
    },
    {
     "name": "stderr",
     "output_type": "stream",
     "text": [
      "\u001B[34m\u001B[1mwandb\u001B[0m: Adding directory to artifact (C:\\Users\\micro\\OneDrive\\Dokumente\\GitHub\\Masterpraktikum\\wandb\\run-20230821_125012-7qdxnacx\\files\\model-best)... Done. 0.0s\n"
     ]
    },
    {
     "name": "stdout",
     "output_type": "stream",
     "text": [
      "147/147 [==============================] - 13s 85ms/step - loss: 0.5051 - categorical_accuracy: 0.7843 - val_loss: 0.5056 - val_categorical_accuracy: 0.7850\n",
      "Epoch 25/30\n",
      "146/147 [============================>.] - ETA: 0s - loss: 0.5041 - categorical_accuracy: 0.7847WARNING:tensorflow:Can save best model only with val_accuracy available, skipping.\n",
      "147/147 [==============================] - 12s 81ms/step - loss: 0.5041 - categorical_accuracy: 0.7847 - val_loss: 0.5102 - val_categorical_accuracy: 0.7791\n",
      "Epoch 26/30\n",
      "146/147 [============================>.] - ETA: 0s - loss: 0.5036 - categorical_accuracy: 0.7847WARNING:tensorflow:Can save best model only with val_accuracy available, skipping.\n",
      "INFO:tensorflow:Assets written to: C:\\Users\\micro\\OneDrive\\Dokumente\\GitHub\\Masterpraktikum\\wandb\\run-20230821_125012-7qdxnacx\\files\\model-best\\assets\n"
     ]
    },
    {
     "name": "stderr",
     "output_type": "stream",
     "text": [
      "\u001B[34m\u001B[1mwandb\u001B[0m: Adding directory to artifact (C:\\Users\\micro\\OneDrive\\Dokumente\\GitHub\\Masterpraktikum\\wandb\\run-20230821_125012-7qdxnacx\\files\\model-best)... Done. 0.0s\n"
     ]
    },
    {
     "name": "stdout",
     "output_type": "stream",
     "text": [
      "147/147 [==============================] - 13s 86ms/step - loss: 0.5036 - categorical_accuracy: 0.7847 - val_loss: 0.5040 - val_categorical_accuracy: 0.7849\n",
      "Epoch 27/30\n",
      "146/147 [============================>.] - ETA: 0s - loss: 0.5023 - categorical_accuracy: 0.7851WARNING:tensorflow:Can save best model only with val_accuracy available, skipping.\n",
      "INFO:tensorflow:Assets written to: C:\\Users\\micro\\OneDrive\\Dokumente\\GitHub\\Masterpraktikum\\wandb\\run-20230821_125012-7qdxnacx\\files\\model-best\\assets\n"
     ]
    },
    {
     "name": "stderr",
     "output_type": "stream",
     "text": [
      "\u001B[34m\u001B[1mwandb\u001B[0m: Adding directory to artifact (C:\\Users\\micro\\OneDrive\\Dokumente\\GitHub\\Masterpraktikum\\wandb\\run-20230821_125012-7qdxnacx\\files\\model-best)... Done. 0.0s\n"
     ]
    },
    {
     "name": "stdout",
     "output_type": "stream",
     "text": [
      "147/147 [==============================] - 12s 85ms/step - loss: 0.5023 - categorical_accuracy: 0.7851 - val_loss: 0.5036 - val_categorical_accuracy: 0.7840\n",
      "Epoch 28/30\n",
      "146/147 [============================>.] - ETA: 0s - loss: 0.5016 - categorical_accuracy: 0.7856WARNING:tensorflow:Can save best model only with val_accuracy available, skipping.\n",
      "INFO:tensorflow:Assets written to: C:\\Users\\micro\\OneDrive\\Dokumente\\GitHub\\Masterpraktikum\\wandb\\run-20230821_125012-7qdxnacx\\files\\model-best\\assets\n"
     ]
    },
    {
     "name": "stderr",
     "output_type": "stream",
     "text": [
      "\u001B[34m\u001B[1mwandb\u001B[0m: Adding directory to artifact (C:\\Users\\micro\\OneDrive\\Dokumente\\GitHub\\Masterpraktikum\\wandb\\run-20230821_125012-7qdxnacx\\files\\model-best)... Done. 0.0s\n"
     ]
    },
    {
     "name": "stdout",
     "output_type": "stream",
     "text": [
      "147/147 [==============================] - 12s 85ms/step - loss: 0.5016 - categorical_accuracy: 0.7856 - val_loss: 0.5027 - val_categorical_accuracy: 0.7857\n",
      "Epoch 29/30\n",
      "146/147 [============================>.] - ETA: 0s - loss: 0.5007 - categorical_accuracy: 0.7858WARNING:tensorflow:Can save best model only with val_accuracy available, skipping.\n",
      "INFO:tensorflow:Assets written to: C:\\Users\\micro\\OneDrive\\Dokumente\\GitHub\\Masterpraktikum\\wandb\\run-20230821_125012-7qdxnacx\\files\\model-best\\assets\n"
     ]
    },
    {
     "name": "stderr",
     "output_type": "stream",
     "text": [
      "\u001B[34m\u001B[1mwandb\u001B[0m: Adding directory to artifact (C:\\Users\\micro\\OneDrive\\Dokumente\\GitHub\\Masterpraktikum\\wandb\\run-20230821_125012-7qdxnacx\\files\\model-best)... Done. 0.0s\n"
     ]
    },
    {
     "name": "stdout",
     "output_type": "stream",
     "text": [
      "147/147 [==============================] - 12s 85ms/step - loss: 0.5007 - categorical_accuracy: 0.7858 - val_loss: 0.5023 - val_categorical_accuracy: 0.7854\n",
      "Epoch 30/30\n",
      "146/147 [============================>.] - ETA: 0s - loss: 0.4999 - categorical_accuracy: 0.7859WARNING:tensorflow:Can save best model only with val_accuracy available, skipping.\n",
      "INFO:tensorflow:Assets written to: C:\\Users\\micro\\OneDrive\\Dokumente\\GitHub\\Masterpraktikum\\wandb\\run-20230821_125012-7qdxnacx\\files\\model-best\\assets\n"
     ]
    },
    {
     "name": "stderr",
     "output_type": "stream",
     "text": [
      "\u001B[34m\u001B[1mwandb\u001B[0m: Adding directory to artifact (C:\\Users\\micro\\OneDrive\\Dokumente\\GitHub\\Masterpraktikum\\wandb\\run-20230821_125012-7qdxnacx\\files\\model-best)... Done. 0.0s\n"
     ]
    },
    {
     "name": "stdout",
     "output_type": "stream",
     "text": [
      "147/147 [==============================] - 12s 85ms/step - loss: 0.4999 - categorical_accuracy: 0.7859 - val_loss: 0.5012 - val_categorical_accuracy: 0.7866\n"
     ]
    }
   ],
   "source": [
    "# Train the model\n",
    "# X_train, X_test, y_train, y_test\n",
    "history_embed = model_embed.fit(train_ds_embed, train_labels_embed, epochs=30, batch_size=4096, validation_data=(val_ds_embed, val_labels_embed), callbacks=[checkpoint_callback_embed, early_stopping_embed, WandbCallback()]) #WandbCallback()"
   ],
   "metadata": {
    "collapsed": false,
    "ExecuteTime": {
     "end_time": "2023-08-21T10:56:54.872481500Z",
     "start_time": "2023-08-21T10:50:33.421536800Z"
    }
   }
  },
  {
   "cell_type": "code",
   "execution_count": 196,
   "outputs": [
    {
     "name": "stdout",
     "output_type": "stream",
     "text": [
      "08212023\n"
     ]
    }
   ],
   "source": [
    "import datetime\n",
    "date = datetime.datetime.now().strftime(\"%m%d%Y\")\n",
    "print(date)"
   ],
   "metadata": {
    "collapsed": false,
    "ExecuteTime": {
     "end_time": "2023-08-21T12:52:00.788809800Z",
     "start_time": "2023-08-21T12:52:00.755433400Z"
    }
   }
  },
  {
   "cell_type": "code",
   "execution_count": 197,
   "outputs": [],
   "source": [
    "model_embed.save(f'precursor_charge_prediction_model_embed/history_embed_150epoch_{date}.h5')"
   ],
   "metadata": {
    "collapsed": false,
    "ExecuteTime": {
     "end_time": "2023-08-21T12:52:02.151741600Z",
     "start_time": "2023-08-21T12:52:02.021229Z"
    }
   }
  },
  {
   "cell_type": "code",
   "execution_count": 60,
   "outputs": [],
   "source": [],
   "metadata": {
    "collapsed": false,
    "ExecuteTime": {
     "end_time": "2023-08-22T12:26:11.901515Z",
     "start_time": "2023-08-22T12:26:11.579318900Z"
    }
   }
  },
  {
   "cell_type": "code",
   "execution_count": 61,
   "outputs": [
    {
     "ename": "NameError",
     "evalue": "name 'history_embed' is not defined",
     "output_type": "error",
     "traceback": [
      "\u001B[1;31m---------------------------------------------------------------------------\u001B[0m",
      "\u001B[1;31mNameError\u001B[0m                                 Traceback (most recent call last)",
      "Cell \u001B[1;32mIn[61], line 2\u001B[0m\n\u001B[0;32m      1\u001B[0m \u001B[38;5;66;03m# Access the loss, validation loss, and accuracy from the history object\u001B[39;00m\n\u001B[1;32m----> 2\u001B[0m loss \u001B[38;5;241m=\u001B[39m \u001B[43mhistory_embed\u001B[49m\u001B[38;5;241m.\u001B[39mhistory[\u001B[38;5;124m'\u001B[39m\u001B[38;5;124mloss\u001B[39m\u001B[38;5;124m'\u001B[39m]\n\u001B[0;32m      3\u001B[0m val_loss \u001B[38;5;241m=\u001B[39m history_embed\u001B[38;5;241m.\u001B[39mhistory[\u001B[38;5;124m'\u001B[39m\u001B[38;5;124mval_loss\u001B[39m\u001B[38;5;124m'\u001B[39m]\n\u001B[0;32m      4\u001B[0m accuracy \u001B[38;5;241m=\u001B[39m history_embed\u001B[38;5;241m.\u001B[39mhistory[\u001B[38;5;124m'\u001B[39m\u001B[38;5;124mcategorical_accuracy\u001B[39m\u001B[38;5;124m'\u001B[39m]\n",
      "\u001B[1;31mNameError\u001B[0m: name 'history_embed' is not defined"
     ]
    }
   ],
   "source": [
    "# Access the loss, validation loss, and accuracy from the history object\n",
    "loss = history_embed.history['loss']\n",
    "val_loss = history_embed.history['val_loss']\n",
    "accuracy = history_embed.history['categorical_accuracy']\n",
    "val_accuracy = history_embed.history['val_categorical_accuracy']\n",
    "\n",
    "# Plot the loss, validation loss, and accuracy curves\n",
    "epochs = range(1, len(loss) + 1)\n",
    "\n",
    "# Create subplots\n",
    "fig2, (ax1, ax2) = plt.subplots(1, 2, figsize=(12, 6))\n",
    "\n",
    "# Plot loss and validation loss\n",
    "ax1.plot(epochs, loss, 'b', label='Training Loss')\n",
    "ax1.plot(epochs, val_loss, 'r', label='Validation Loss')\n",
    "ax1.set_title('Training and Validation Loss')\n",
    "ax1.set_xlabel('Epochs')\n",
    "ax1.set_ylabel('Loss')\n",
    "ax1.legend()\n",
    "\n",
    "# Plot accuracy and validation accuracy\n",
    "ax2.plot(epochs, accuracy, 'b', label='Training Accuracy')\n",
    "ax2.plot(epochs, val_accuracy, 'r', label='Validation Accuracy')\n",
    "ax2.set_title('Training and Validation Accuracy')\n",
    "ax2.set_xlabel('Epochs')\n",
    "ax2.set_ylabel('Accuracy')\n",
    "ax2.legend()\n",
    "\n",
    "# Adjust spacing between subplots\n",
    "plt.tight_layout()\n",
    "\n",
    "# Show the plots\n",
    "plt.show()"
   ],
   "metadata": {
    "collapsed": false,
    "ExecuteTime": {
     "end_time": "2023-08-22T12:26:18.295485500Z",
     "start_time": "2023-08-22T12:26:18.067009100Z"
    }
   }
  },
  {
   "cell_type": "markdown",
   "source": [
    "# Inference"
   ],
   "metadata": {
    "collapsed": false
   }
  },
  {
   "cell_type": "code",
   "execution_count": 51,
   "outputs": [],
   "source": [
    "import keras\n",
    "# load model TODO manually switch on/off\n",
    "model_embed = keras.models.load_model('precursor_charge_prediction_model_embed/history_embed_150epoch_08212023.h5')"
   ],
   "metadata": {
    "collapsed": false,
    "ExecuteTime": {
     "end_time": "2023-08-24T12:37:51.315986500Z",
     "start_time": "2023-08-24T12:37:51.101234800Z"
    }
   }
  },
  {
   "cell_type": "code",
   "execution_count": 52,
   "outputs": [],
   "source": [
    "def decode_one_hot(one_hot, charges = [1,2,3,4,5,6]):\n",
    "    for index, hot in enumerate(one_hot):\n",
    "        if hot == 1:\n",
    "            return charges[index]"
   ],
   "metadata": {
    "collapsed": false,
    "ExecuteTime": {
     "end_time": "2023-08-24T12:37:51.323496400Z",
     "start_time": "2023-08-24T12:37:51.176883800Z"
    }
   }
  },
  {
   "cell_type": "code",
   "execution_count": 53,
   "outputs": [],
   "source": [
    "def predictions_no_hot(one_hot, charges = [1,2,3,4,5,6]):\n",
    "    index = np.argmax(one_hot)\n",
    "    return(charges[index])"
   ],
   "metadata": {
    "collapsed": false,
    "ExecuteTime": {
     "end_time": "2023-08-24T12:37:51.323496400Z",
     "start_time": "2023-08-24T12:37:51.180958300Z"
    }
   }
  },
  {
   "cell_type": "code",
   "execution_count": 15,
   "outputs": [
    {
     "data": {
      "text/plain": "4"
     },
     "execution_count": 15,
     "metadata": {},
     "output_type": "execute_result"
    }
   ],
   "source": [
    "np.argmax([0, 0 ,0 ,0, 1])"
   ],
   "metadata": {
    "collapsed": false,
    "ExecuteTime": {
     "end_time": "2023-08-24T07:58:05.237509400Z",
     "start_time": "2023-08-24T07:58:05.043509400Z"
    }
   }
  },
  {
   "cell_type": "code",
   "execution_count": 57,
   "outputs": [],
   "source": [
    "import pandas as pd\n",
    "predict_df = pd.DataFrame(columns=['modified_sequence_vector', 'true_label', 'pred_label', 'prediction', 'modified_sequence', 'seq_length'])\n",
    "# every row of tensor to list\n",
    "predict_df['modified_sequence_vector'] = test_ds_embed.numpy().tolist()\n",
    "predict_df['true_label'] = test_labels_embed.numpy().tolist()\n",
    "predict_df['pred_label'] = None\n",
    "predict_df['true_label'] = predict_df['true_label'].apply(decode_one_hot)\n",
    "predict_df['modified_sequence'] = test_ds_embed_raw\n",
    "# write length of modified sequence after seq_translator to 'seq_length'\n",
    "predict_df['seq_length'] = predict_df['modified_sequence'].apply(lambda x: len(list(seq_translator(x, no_padding=True))))\n"
   ],
   "metadata": {
    "collapsed": false,
    "ExecuteTime": {
     "end_time": "2023-08-24T12:38:01.983064400Z",
     "start_time": "2023-08-24T12:38:01.118388Z"
    }
   }
  },
  {
   "cell_type": "code",
   "execution_count": 60,
   "outputs": [
    {
     "name": "stdout",
     "output_type": "stream",
     "text": [
      "[[ 4 18  1  1  1 15  1  1  4 17  4  0  0  0  0  0  0  0  0  0  0  0  0  0\n",
      "   0  0  0  0  0  0  0  0  0  0  0  0  0  0  0  0  0  0  0  0  0  0  0  0\n",
      "   0  0  0  0  0  0  0  0  0  0  0  0  0  0  0]]\n",
      "[1.2747392e-01 8.6265469e-01 9.8505383e-03 2.0754635e-05 1.9375770e-08\n",
      " 2.6272868e-09]\n"
     ]
    }
   ],
   "source": [
    "# test predict for one\n",
    "for index, row in predict_df.iterrows():\n",
    "    solut1 = np.expand_dims(tf.convert_to_tensor(np.array(predict_df.at[index, \"modified_sequence_vector\"])), axis=0)\n",
    "    print(solut1)\n",
    "    test_give = model_embed.predict(solut1, verbose=False)\n",
    "    break\n",
    "print(test_give[0])"
   ],
   "metadata": {
    "collapsed": false,
    "ExecuteTime": {
     "end_time": "2023-08-24T12:38:14.361145500Z",
     "start_time": "2023-08-24T12:38:14.122537900Z"
    }
   }
  },
  {
   "cell_type": "code",
   "execution_count": 61,
   "outputs": [
    {
     "ename": "NameError",
     "evalue": "name 'input_sequence' is not defined",
     "output_type": "error",
     "traceback": [
      "\u001B[1;31m---------------------------------------------------------------------------\u001B[0m",
      "\u001B[1;31mNameError\u001B[0m                                 Traceback (most recent call last)",
      "Cell \u001B[1;32mIn[61], line 1\u001B[0m\n\u001B[1;32m----> 1\u001B[0m \u001B[38;5;28;01mdef\u001B[39;00m \u001B[38;5;21mgenerate_charge_prediction_text\u001B[39m(charge_predictions, input_sequence\u001B[38;5;241m=\u001B[39m\u001B[43minput_sequence\u001B[49m):\n\u001B[0;32m      2\u001B[0m     max_charge_index \u001B[38;5;241m=\u001B[39m np\u001B[38;5;241m.\u001B[39margmax(charge_predictions)\n\u001B[0;32m      3\u001B[0m     max_charge_value \u001B[38;5;241m=\u001B[39m \u001B[38;5;28mround\u001B[39m(charge_predictions[max_charge_index], \u001B[38;5;241m2\u001B[39m)\n",
      "\u001B[1;31mNameError\u001B[0m: name 'input_sequence' is not defined"
     ]
    }
   ],
   "source": [
    "def generate_charge_prediction_text(charge_predictions, input_sequence=input_sequence):\n",
    "    max_charge_index = np.argmax(charge_predictions)\n",
    "    max_charge_value = round(charge_predictions[max_charge_index], 2)\n",
    "\n",
    "    charge_text = f\"The predicted charge state for the input sequence '{input_sequence}' is {max_charge_index+1} [{round(max_charge_value*100,2)}%].\"\n",
    "    percentage_text = \"Prediction percentages for all states:\\n\"\n",
    "\n",
    "    for index, prediction in enumerate(charge_predictions):\n",
    "        if index != max_charge_index:\n",
    "            percentage = round(prediction * 100, 2)\n",
    "            percentage_text += f\"Charge state {index+1}: {percentage}%\\n\"\n",
    "        else:\n",
    "            percentage = round(prediction * 100, 2)\n",
    "            percentage_text += f\"--Charge state {index+1}: {percentage}%\\n\"\n",
    "\n",
    "    full_text = charge_text + \"\\n\" + percentage_text\n",
    "    return full_text"
   ],
   "metadata": {
    "collapsed": false,
    "ExecuteTime": {
     "end_time": "2023-08-24T12:38:18.714210600Z",
     "start_time": "2023-08-24T12:38:18.595544600Z"
    }
   }
  },
  {
   "cell_type": "markdown",
   "source": [],
   "metadata": {
    "collapsed": false
   }
  },
  {
   "cell_type": "code",
   "execution_count": 80,
   "outputs": [
    {
     "name": "stdout",
     "output_type": "stream",
     "text": [
      "Model: \"model_10\"\n",
      "_________________________________________________________________\n",
      " Layer (type)                Output Shape              Param #   \n",
      "=================================================================\n",
      " input_6 (InputLayer)        [(None, 63)]              0         \n",
      "                                                                 \n",
      " embedding_4 (Embedding)     (None, 63, 63)            1449      \n",
      "                                                                 \n",
      " flatten_4 (Flatten)         (None, 3969)              0         \n",
      "                                                                 \n",
      " dense_8 (Dense)             (None, 63)                250110    \n",
      "                                                                 \n",
      " dense_9 (Dense)             (None, 6)                 384       \n",
      "                                                                 \n",
      "=================================================================\n",
      "Total params: 251,943\n",
      "Trainable params: 251,943\n",
      "Non-trainable params: 0\n",
      "_________________________________________________________________\n"
     ]
    }
   ],
   "source": [
    "model_embed.summary()"
   ],
   "metadata": {
    "collapsed": false,
    "ExecuteTime": {
     "end_time": "2023-08-24T11:38:04.906046600Z",
     "start_time": "2023-08-24T11:38:04.764241Z"
    }
   }
  },
  {
   "cell_type": "code",
   "execution_count": 238,
   "outputs": [
    {
     "name": "stdout",
     "output_type": "stream",
     "text": [
      "FLDEWLYKF\n"
     ]
    },
    {
     "data": {
      "text/plain": "<Figure size 640x480 with 1 Axes>",
      "image/png": "[encoded data removed]"
     },
     "metadata": {},
     "output_type": "display_data"
    },
    {
     "name": "stdout",
     "output_type": "stream",
     "text": [
      "-----------------------------\n",
      "Sequence:  FLDEWLYKF\n",
      "charge state 1:  0.04\n",
      "charge state 2:  0.95\n",
      "charge state 3:  0.01\n",
      "charge state 4:  0.0\n",
      "charge state 5:  0.0\n",
      "charge state 6:  0.0\n"
     ]
    }
   ],
   "source": [
    "layers = [layer.get_weights() for layer in model_embed.layers]\n",
    "\n",
    "amino_dict = dict()\n",
    "\n",
    "\n",
    "sequence_positionen = list(range(63)) # 0,1,2,3,4,5...62\n",
    "embedding_structure = layers[1][0] # 23 blocks of AA weights\n",
    "\n",
    "\n",
    "for position in sequence_positionen: # 63 stk\n",
    "    amino_dict[position] = dict()\n",
    "    for index, i in enumerate(embedding_structure): #23 stk\n",
    "        if vocabulary[index] not in amino_dict[position]:\n",
    "            amino_dict[position][vocabulary[index]] = list()\n",
    "            amino_dict[position][vocabulary[index]].append(embedding_structure[index][position])\n",
    "        else:   \n",
    "            amino_dict[position][vocabulary[index]].append(embedding_structure[index][position])\n",
    "\n",
    "aminos = list(amino_dict[0])\n",
    "#print(aminos)\n",
    "# an welcher position steht die gewichtung an der position 0 für das Amino A\n",
    "\n",
    "\n",
    "\n",
    "weight_dictionary_per_position = dict()\n",
    "for i in amino_dict:\n",
    "    weight_dictionary_per_position[i] = dict()\n",
    "    weight_position = 0\n",
    "    sorted_list = [x[0] for x in amino_dict[i].values()]\n",
    "    sorted_list = sorted(sorted_list, key=float, reverse=False)\n",
    "    for j in sorted_list:\n",
    "        for key, value in amino_dict[i].items():\n",
    "            if j == value[0]:\n",
    "                #weight_dictionary_per_position[i][key] = weight_position\n",
    "                #weight_dictionary_per_position[i][key] = weight_position\n",
    "                average_for_position = np.average([x[0] for x in amino_dict[i].values()]) # normalisation\n",
    "                weight_dictionary_per_position[i][key] = j - average_for_position\n",
    "                #print(weight_dictionary_per_position[i][key], key, value[0])\n",
    "                weight_position += 1\n",
    "                \n",
    "\n",
    "#Amino: \"A\" an index 0 -> [block A für index 0] -> 0.0725 (20/23 Gewichtungsposition -> Farbe (weiss->schwarz): hellgrau)\n",
    "test_input_sequence = predict_df['modified_sequence'][6484]\n",
    "print(test_input_sequence)\n",
    "#test_input_sequence = 'CCCCCCCCCCCCCCCCCCCCCCCCCCCCCCCCC' #TODO manually overwrite\n",
    "#print(test_input_sequence, len(test_input_sequence))\n",
    "test_input_sequence_length = len(re.findall(r'[A-Z]\\[[^\\]]*\\]|.', test_input_sequence))\n",
    "#print(\"len: \", test_input_sequence_length)\n",
    "# TODO test_input_sequence += 'X' * (63 - test_input_sequence_length)\n",
    "#print(test_input_sequence, len(re.findall(r'[A-Z]\\[[^\\]]*\\]|.', test_input_sequence)))\n",
    "test_input_sequence_formatted = re.findall(r'[A-Z]\\[[^\\]]*\\]|.', test_input_sequence)\n",
    "#print(test_input_sequence_formatted)\n",
    "\n",
    "\n",
    "x_for_plot = list(range(len(test_input_sequence_formatted))) # vocabolary of length 23\n",
    "y_for_plot = list()\n",
    "# create a list of 0 and 1, 1 if 'X' in test_input_sequence, 0 if not\n",
    "c_for_plot = ['red' if x == 'X' else 'green' for x in test_input_sequence_formatted]\n",
    "for index, amino in enumerate(test_input_sequence_formatted):\n",
    "    y_for_plot.append(weight_dictionary_per_position[index][amino])\n",
    "    #print(index, amino, \": \", weight_dictionary_per_position[index][amino], \"/22\")\n",
    "# colors bars according to c_for_plot\n",
    "plt.xticks(x_for_plot, [x if len(x) == 1 else x[:1]+\"*\" for x in test_input_sequence_formatted])\n",
    "plt.bar(x_for_plot, y_for_plot, color=c_for_plot)\n",
    "plt.show()\n",
    "    \n",
    "# TODO prediction\n",
    "input_sequence = test_input_sequence\n",
    "input_sequence_vector = seq_translator(input_sequence, max_len=63)\n",
    "input_sequence_vector = np.expand_dims(tf.convert_to_tensor(np.array(input_sequence_vector)), axis=0)\n",
    "test_give = model_embed.predict(input_sequence_vector, verbose=False)\n",
    "counter = 1\n",
    "print(\"-----------------------------\")\n",
    "print(\"Sequence: \", input_sequence)\n",
    "for x in test_give[0]:\n",
    "    print(f\"charge state {counter}: \", round(x, 2))\n",
    "    counter += 1\n"
   ],
   "metadata": {
    "collapsed": false,
    "ExecuteTime": {
     "end_time": "2023-08-24T14:08:47.688708100Z",
     "start_time": "2023-08-24T14:08:47.482498400Z"
    }
   }
  },
  {
   "cell_type": "code",
   "execution_count": 137,
   "outputs": [
    {
     "name": "stdout",
     "output_type": "stream",
     "text": [
      "0 0.03381865 X; 1 0.06742175 X; 2 -0.12275479 X; 3 -0.08284502 X; 4 0.07629548 X; 5 -0.09633524 X; 6 0.058965605 X; 7 0.10679335 X; 8 -0.071597785 X; 9 -0.080220245 X; 10 -0.088885136 X; 11 -0.06918115 X; 12 0.05536728 X; 13 -0.03636717 X; 14 0.044305 X; 15 0.086525574 X; 16 0.08111355 X; 17 0.09009992 X; 18 0.041160233 X; 19 0.049389236 X; 20 -0.068423815 X; 21 0.09173104 X; 22 -0.092525244 X; 23 -0.046411857 X; 24 -0.078376524 X; 25 -0.04257041 X; 26 -0.024812823 X; 27 -0.07382278 X; 28 0.06027828 X; 29 -0.09582124 X; 30 0.07752328 X; 31 -0.059910707 X; 32 0.06959632 X; 33 0.059368383 X; 34 0.06682247 X; 35 -0.07405849 X; 36 0.0647573 X; 37 0.052214585 X; 38 0.048502076 X; 39 -0.08404416 X; 40 0.07691313 X; 41 0.08996469 X; 42 0.09755383 X; 43 -0.09343753 X; 44 -0.030568022 X; 45 -0.051558875 X; 46 0.06863496 X; 47 -0.022412855 X; 48 -0.07475471 X; 49 -0.05368217 X; 50 -0.08660189 X; 51 -0.025489016 X; 52 -0.063784204 X; 53 -0.025520133 X; 54 -0.07531488 X; 55 0.0860277 X; 56 0.08821438 X; 57 0.050772898 X; 58 -0.06500653 X; 59 -0.065342344 X; 60 0.08622185 X; 61 0.04108371 X; 62 -0.08362172 X; \n",
      "\n",
      "0 0.07257674 A; 1 0.017677024 A; 2 0.10137807 A; 3 0.04978785 A; 4 0.048753295 A; 5 -0.011826422 A; 6 0.009090748 A; 7 -0.080868416 A; 8 0.02253844 A; 9 0.11102006 A; 10 0.036846787 A; 11 0.010685517 A; 12 0.021646 A; 13 -0.009777518 A; 14 0.019588808 A; 15 -0.014218133 A; 16 -0.031517886 A; 17 0.0062933145 A; 18 0.038936798 A; 19 0.01711112 A; 20 -0.06427628 A; 21 -0.0023513567 A; 22 -0.036241308 A; 23 0.028197544 A; 24 -0.08457881 A; 25 0.007718895 A; 26 -0.09014599 A; 27 -0.042108655 A; 28 0.04643399 A; 29 0.13246712 A; 30 0.0064711086 A; 31 -0.09447091 A; 32 0.06898518 A; 33 0.08280872 A; 34 0.051128153 A; 35 -0.054637887 A; 36 0.11647687 A; 37 -0.04313397 A; 38 0.11178772 A; 39 -0.03784181 A; 40 0.01994823 A; 41 -0.02085073 A; 42 -0.020512935 A; 43 0.050506663 A; 44 -0.10255243 A; 45 0.017103758 A; 46 -0.097135216 A; 47 -0.009101529 A; 48 0.08816359 A; 49 -0.09167439 A; 50 -0.02392181 A; 51 -0.076794714 A; 52 -0.043850403 A; 53 -0.06526701 A; 54 0.055110246 A; 55 -0.054004855 A; 56 -0.00037683386 A; 57 0.05657852 A; 58 -0.019586662 A; 59 -0.012273875 A; 60 -0.075246565 A; 61 0.031998936 A; 62 0.014636748 A; \n",
      "\n",
      "0 -0.016667068 C; 1 0.022491816 C; 2 -0.032658327 C; 3 0.048415277 C; 4 0.038053546 C; 5 -0.03735595 C; 6 -0.02384062 C; 7 0.02783567 C; 8 -0.03720181 C; 9 0.015079331 C; 10 -0.04548421 C; 11 -0.0432523 C; 12 0.009312473 C; 13 -0.03845966 C; 14 -0.026120126 C; 15 -0.011804808 C; 16 0.011543132 C; 17 -0.021826172 C; 18 0.04460646 C; 19 0.049450804 C; 20 -0.04395604 C; 21 0.0031762011 C; 22 -0.004327394 C; 23 0.0044162497 C; 24 0.04269022 C; 25 -0.041829634 C; 26 0.01622181 C; 27 -0.03691051 C; 28 0.0076736324 C; 29 0.039701033 C; 30 -0.018306851 C; 31 0.0342517 C; 32 -0.04502776 C; 33 -0.019066215 C; 34 -0.006736852 C; 35 -0.012868572 C; 36 0.04746524 C; 37 0.0007192865 C; 38 0.016595472 C; 39 -0.026249075 C; 40 0.0070413463 C; 41 -0.023116661 C; 42 -0.048169006 C; 43 -0.0035047643 C; 44 -0.028152073 C; 45 0.012115419 C; 46 -0.008339226 C; 47 -0.011196591 C; 48 -0.042605914 C; 49 0.043816518 C; 50 0.015019286 C; 51 -0.0022752061 C; 52 -0.04821774 C; 53 0.040288735 C; 54 0.011610545 C; 55 0.029256854 C; 56 0.039925966 C; 57 -0.021913255 C; 58 -0.030519903 C; 59 -0.012925722 C; 60 0.021175537 C; 61 0.0051773414 C; 62 -0.008373499 C; \n",
      "\n",
      "0 0.06616337 D; 1 -0.021526843 D; 2 0.108405195 D; 3 0.027601281 D; 4 0.04944602 D; 5 0.1297447 D; 6 0.04525522 D; 7 -0.13667777 D; 8 -0.01755524 D; 9 -0.041138083 D; 10 0.010737542 D; 11 -0.026744828 D; 12 0.0683644 D; 13 -0.024334095 D; 14 0.039015513 D; 15 -0.0010915147 D; 16 0.16005498 D; 17 -0.15409508 D; 18 0.07452472 D; 19 -0.16801421 D; 20 -0.00953111 D; 21 0.01564539 D; 22 0.0921743 D; 23 -0.06258752 D; 24 -0.046463303 D; 25 -0.036888175 D; 26 0.0039188615 D; 27 -0.10988808 D; 28 0.052836612 D; 29 0.09640292 D; 30 0.09666666 D; 31 -0.11615899 D; 32 -0.046297923 D; 33 -0.1508087 D; 34 0.07562487 D; 35 0.00023055534 D; 36 0.06453742 D; 37 -0.062312033 D; 38 0.013444984 D; 39 -0.08830463 D; 40 -0.014940515 D; 41 -0.024931906 D; 42 0.07288789 D; 43 -0.025905436 D; 44 -0.07079071 D; 45 0.015744684 D; 46 -0.17950155 D; 47 -0.066555284 D; 48 0.031918593 D; 49 0.020943057 D; 50 -0.10418469 D; 51 -0.07201188 D; 52 -0.057088453 D; 53 -0.065270744 D; 54 0.017114935 D; 55 -0.037237514 D; 56 -0.01947221 D; 57 0.055759944 D; 58 -0.096707664 D; 59 0.013610467 D; 60 -0.12715547 D; 61 0.007952001 D; 62 0.044235453 D; \n",
      "\n",
      "0 0.09048597 E; 1 0.038769886 E; 2 0.07348673 E; 3 0.07410091 E; 4 0.0339138 E; 5 0.064702824 E; 6 0.04856321 E; 7 -0.055361155 E; 8 -0.10211478 E; 9 -0.023517575 E; 10 0.06115189 E; 11 0.031115707 E; 12 0.026397804 E; 13 0.002362602 E; 14 -0.025628554 E; 15 0.0036508176 E; 16 0.026314251 E; 17 -0.06689195 E; 18 0.013692981 E; 19 -0.00691275 E; 20 -0.049386077 E; 21 -0.051421706 E; 22 0.06399723 E; 23 0.026894415 E; 24 -0.0487204 E; 25 -0.05034643 E; 26 -0.06149073 E; 27 -0.09287491 E; 28 -0.016314348 E; 29 -0.032092668 E; 30 0.059086014 E; 31 -0.05087911 E; 32 -0.0106127495 E; 33 -0.009159362 E; 34 0.037778817 E; 35 0.028823279 E; 36 0.019021722 E; 37 -0.03797504 E; 38 -0.009555098 E; 39 0.025790006 E; 40 0.029916896 E; 41 -0.05245624 E; 42 0.0050667636 E; 43 -0.01311751 E; 44 -0.025195792 E; 45 0.006249082 E; 46 -0.008994912 E; 47 0.050786946 E; 48 0.005779875 E; 49 -0.036608927 E; 50 0.003716015 E; 51 -0.055356726 E; 52 -0.05932208 E; 53 -0.08405778 E; 54 0.023714703 E; 55 -0.11649253 E; 56 -0.020042574 E; 57 0.03963828 E; 58 0.002855491 E; 59 0.055337295 E; 60 -0.017449994 E; 61 0.06988189 E; 62 0.10593639 E; \n",
      "\n",
      "0 -0.001489407 F; 1 -0.033999078 F; 2 0.08662576 F; 3 -0.019816121 F; 4 -0.017984236 F; 5 0.059738673 F; 6 0.026876025 F; 7 -0.08109489 F; 8 -0.062281348 F; 9 0.020517044 F; 10 0.06611194 F; 11 0.028824741 F; 12 0.047141213 F; 13 -0.04050662 F; 14 0.052205484 F; 15 -0.013961486 F; 16 -0.088474765 F; 17 0.03740757 F; 18 0.09262957 F; 19 0.09761805 F; 20 0.027686816 F; 21 -0.03707048 F; 22 0.01989502 F; 23 -0.01699044 F; 24 -0.023865525 F; 25 0.0037102643 F; 26 -0.056322098 F; 27 -0.017705914 F; 28 0.066739075 F; 29 0.059888076 F; 30 0.07424868 F; 31 -0.016380845 F; 32 0.048936855 F; 33 0.06724459 F; 34 -0.0038238207 F; 35 -0.005701238 F; 36 0.054269843 F; 37 -0.05861731 F; 38 0.027074309 F; 39 0.032956406 F; 40 0.053159446 F; 41 -0.06505221 F; 42 -0.029992813 F; 43 0.04676473 F; 44 -0.07437549 F; 45 0.04085203 F; 46 -0.06412302 F; 47 0.055182356 F; 48 0.073300764 F; 49 -0.0058113523 F; 50 -0.08685303 F; 51 -0.021724708 F; 52 0.01593008 F; 53 0.0064116656 F; 54 0.033867124 F; 55 -0.08137033 F; 56 0.031575885 F; 57 0.059884008 F; 58 0.010239361 F; 59 -0.06312229 F; 60 0.0009559733 F; 61 0.092869684 F; 62 0.10627679 F; \n",
      "\n",
      "0 0.06923842 G; 1 0.067100406 G; 2 0.06560681 G; 3 0.037712265 G; 4 0.049887773 G; 5 -0.010050006 G; 6 0.05209102 G; 7 -0.05649992 G; 8 -0.016012663 G; 9 0.06696203 G; 10 0.09078984 G; 11 0.005484203 G; 12 -0.01926742 G; 13 0.01529852 G; 14 0.031837787 G; 15 0.07903253 G; 16 0.06401352 G; 17 -0.010056157 G; 18 0.0939475 G; 19 -0.033138745 G; 20 -0.115368195 G; 21 -0.023752632 G; 22 0.0391579 G; 23 -0.0142318765 G; 24 -0.029111516 G; 25 0.008400179 G; 26 -0.06476377 G; 27 -0.080189735 G; 28 0.066616476 G; 29 0.10697109 G; 30 0.015773498 G; 31 -0.032797378 G; 32 0.059733797 G; 33 0.013945684 G; 34 0.024612874 G; 35 -0.016168864 G; 36 0.02715387 G; 37 0.012424945 G; 38 0.02181036 G; 39 -0.020133981 G; 40 0.013413797 G; 41 -0.013645377 G; 42 0.05943414 G; 43 0.058422104 G; 44 -0.061889656 G; 45 0.04158468 G; 46 -0.12984829 G; 47 -0.031720128 G; 48 0.054652326 G; 49 -0.054239605 G; 50 -0.05816829 G; 51 -0.076939926 G; 52 0.0142926825 G; 53 -0.07708914 G; 54 0.052241467 G; 55 -0.109097935 G; 56 0.053294733 G; 57 0.026582038 G; 58 -0.00094134564 G; 59 0.011985381 G; 60 -0.11393218 G; 61 0.053839207 G; 62 0.088812396 G; \n",
      "\n",
      "0 -0.17317937 H; 1 -0.14452538 H; 2 0.013900021 H; 3 0.2330346 H; 4 -0.2260603 H; 5 0.12214217 H; 6 -0.20123763 H; 7 0.11318815 H; 8 0.10776164 H; 9 0.20736897 H; 10 -0.20343162 H; 11 0.19652234 H; 12 -0.20672922 H; 13 0.22598825 H; 14 -0.20749027 H; 15 -0.14309683 H; 16 -0.15990034 H; 17 -0.21587515 H; 18 -0.16153435 H; 19 -0.25400674 H; 20 0.10910851 H; 21 -0.2078978 H; 22 0.20274475 H; 23 0.19590504 H; 24 0.10814745 H; 25 0.12511119 H; 26 0.10492475 H; 27 0.18537636 H; 28 -0.15040642 H; 29 0.15866792 H; 30 -0.16004448 H; 31 0.13122219 H; 32 -0.18323977 H; 33 -0.18594909 H; 34 -0.18932413 H; 35 0.089117356 H; 36 -0.20557524 H; 37 -0.21824914 H; 38 -0.13497066 H; 39 0.117259905 H; 40 -0.19576408 H; 41 -0.15743439 H; 42 -0.10087866 H; 43 0.18510866 H; 44 0.18155251 H; 45 0.15172033 H; 46 -0.10471404 H; 47 -0.25180638 H; 48 -0.15272641 H; 49 0.14945138 H; 50 0.17664841 H; 51 0.19876146 H; 52 0.17111966 H; 53 0.18757863 H; 54 0.17486298 H; 55 0.17423137 H; 56 -0.1703262 H; 57 -0.21627232 H; 58 0.17417946 H; 59 0.1540978 H; 60 0.062469136 H; 61 -0.20615937 H; 62 -0.20427206 H; \n",
      "\n",
      "0 0.0778422 I; 1 -0.0042759203 I; 2 0.028077628 I; 3 -0.050882127 I; 4 -0.015606742 I; 5 0.051167104 I; 6 -0.008171378 I; 7 -0.035702534 I; 8 -0.0062078377 I; 9 0.08869577 I; 10 0.08243567 I; 11 -0.00783371 I; 12 0.050446715 I; 13 0.036737066 I; 14 -0.04767409 I; 15 0.04165927 I; 16 -0.10478148 I; 17 0.056074608 I; 18 0.0309368 I; 19 0.055987198 I; 20 -0.08042084 I; 21 0.056376606 I; 22 0.061632257 I; 23 -0.004531901 I; 24 -0.024650434 I; 25 -0.07673005 I; 26 -0.033563863 I; 27 -0.059644226 I; 28 -0.028400162 I; 29 0.07141107 I; 30 0.07805144 I; 31 -0.063477926 I; 32 0.010171154 I; 33 0.04484079 I; 34 0.060725685 I; 35 0.07079037 I; 36 0.03396412 I; 37 -0.018931888 I; 38 0.051544666 I; 39 0.05615062 I; 40 0.048827462 I; 41 0.006142184 I; 42 0.02642069 I; 43 0.07069801 I; 44 -0.08646339 I; 45 0.047276996 I; 46 -0.015058339 I; 47 0.083676346 I; 48 0.08097965 I; 49 -0.09890923 I; 50 -0.039417166 I; 51 -0.08843416 I; 52 -0.040600214 I; 53 -0.0002635703 I; 54 0.056225162 I; 55 -0.09864872 I; 56 -0.032156367 I; 57 0.07201645 I; 58 0.0121459 I; 59 -0.026768064 I; 60 0.015064458 I; 61 0.09739621 I; 62 0.035020318 I; \n",
      "\n",
      "0 -0.21258676 K; 1 -0.15693325 K; 2 -0.07836372 K; 3 0.2566258 K; 4 -0.14028053 K; 5 0.23065418 K; 6 -0.19992644 K; 7 -0.05964475 K; 8 0.17814653 K; 9 0.13637447 K; 10 -0.20066784 K; 11 0.12612854 K; 12 -0.10123615 K; 13 0.22677203 K; 14 -0.16054352 K; 15 -0.17116116 K; 16 -0.094388545 K; 17 -0.09325446 K; 18 -0.1261445 K; 19 -0.11286591 K; 20 0.10003842 K; 21 -0.13362223 K; 22 0.20798893 K; 23 0.16675922 K; 24 0.18258047 K; 25 0.18118052 K; 26 0.23114474 K; 27 0.10298458 K; 28 -0.22084041 K; 29 0.22743495 K; 30 -0.18682842 K; 31 0.15984292 K; 32 -0.109708175 K; 33 -0.10770431 K; 34 -0.11509898 K; 35 0.11042941 K; 36 -0.11040401 K; 37 -0.15804967 K; 38 -0.18109179 K; 39 0.18268251 K; 40 -0.18749192 K; 41 -0.20848298 K; 42 -0.13705435 K; 43 0.12839091 K; 44 0.17743117 K; 45 0.27095887 K; 46 0.14527126 K; 47 -0.23513876 K; 48 -0.21870588 K; 49 0.1954388 K; 50 0.1412486 K; 51 0.17088833 K; 52 0.16624077 K; 53 0.21426047 K; 54 0.12178816 K; 55 0.16087747 K; 56 -0.22163732 K; 57 -0.1189483 K; 58 0.23244573 K; 59 0.20361623 K; 60 0.1930856 K; 61 -0.17255196 K; 62 -0.18449529 K; \n",
      "\n",
      "0 0.0014892685 L; 1 -0.04635891 L; 2 0.00292975 L; 3 -0.026336307 L; 4 0.05536502 L; 5 -0.014195822 L; 6 0.04052574 L; 7 -0.0775347 L; 8 0.0012029654 L; 9 0.07978453 L; 10 0.12374579 L; 11 -0.030642692 L; 12 0.04240719 L; 13 -0.040955473 L; 14 -0.04467909 L; 15 -0.028774168 L; 16 -0.09615422 L; 17 -0.03720505 L; 18 0.08883589 L; 19 0.02360016 L; 20 -0.08872319 L; 21 -0.030859543 L; 22 0.019899208 L; 23 0.047433484 L; 24 -0.083620556 L; 25 -0.039950732 L; 26 -0.12273276 L; 27 -0.03368772 L; 28 0.0027071503 L; 29 0.029572695 L; 30 0.033873416 L; 31 -0.013461751 L; 32 -0.014823647 L; 33 0.09786529 L; 34 0.09493143 L; 35 0.00046926035 L; 36 0.05012898 L; 37 0.014099197 L; 38 0.10574947 L; 39 -0.0010814581 L; 40 -0.020699076 L; 41 -0.04541909 L; 42 0.018917404 L; 43 0.006093725 L; 44 -0.051827412 L; 45 0.07223577 L; 46 -0.061855678 L; 47 0.035989948 L; 48 0.0558697 L; 49 -0.05905927 L; 50 -0.06727631 L; 51 -0.028355109 L; 52 -0.008282012 L; 53 -0.06563992 L; 54 -0.0077162106 L; 55 -0.093743235 L; 56 -0.025021635 L; 57 0.09979495 L; 58 -0.013385366 L; 59 0.043617316 L; 60 0.007544679 L; 61 0.07484974 L; 62 0.029743532 L; \n",
      "\n",
      "0 0.008106155 M; 1 0.06087325 M; 2 0.15188862 M; 3 -0.041198574 M; 4 0.079079196 M; 5 -0.051626604 M; 6 0.0053353524 M; 7 -0.09707054 M; 8 0.030427437 M; 9 0.043710962 M; 10 0.030770397 M; 11 -0.11140256 M; 12 0.011369997 M; 13 -0.008618428 M; 14 -0.0089140795 M; 15 -0.008068249 M; 16 0.04726189 M; 17 -0.13896303 M; 18 0.047199998 M; 19 0.116120204 M; 20 0.021689579 M; 21 0.055844273 M; 22 -0.04489877 M; 23 -0.0038109177 M; 24 0.03535249 M; 25 -0.11216553 M; 26 -0.030789137 M; 27 -0.04243668 M; 28 -0.036866613 M; 29 -0.10754905 M; 30 0.018034888 M; 31 -0.025555817 M; 32 0.05785648 M; 33 -0.050385002 M; 34 0.041604597 M; 35 0.08172994 M; 36 -0.020313403 M; 37 -0.02107544 M; 38 0.02526367 M; 39 0.09183518 M; 40 0.020432862 M; 41 0.006187889 M; 42 0.09517077 M; 43 -0.01236164 M; 44 -0.040825382 M; 45 0.12418633 M; 46 0.008141523 M; 47 0.008261782 M; 48 0.080515645 M; 49 -0.057550218 M; 50 -0.007302211 M; 51 -0.08291059 M; 52 0.065166965 M; 53 0.0075864643 M; 54 -0.0168834 M; 55 -0.060395814 M; 56 -0.040119693 M; 57 0.07742589 M; 58 0.07832516 M; 59 0.11695563 M; 60 -0.062566385 M; 61 -0.013468199 M; 62 0.044764556 M; \n",
      "\n",
      "0 0.07969968 N; 1 0.054932643 N; 2 0.11594581 N; 3 0.006034035 N; 4 0.07029001 N; 5 -0.027141048 N; 6 -0.028941559 N; 7 -0.037510723 N; 8 -0.037937723 N; 9 0.0039959033 N; 10 0.049508054 N; 11 -0.051853985 N; 12 -0.013145634 N; 13 0.017295355 N; 14 0.010969266 N; 15 -0.0325872 N; 16 0.07084314 N; 17 -0.08669576 N; 18 0.077647835 N; 19 -0.044000003 N; 20 -0.08199264 N; 21 -0.04925964 N; 22 0.05365197 N; 23 -0.023072653 N; 24 -0.0029046412 N; 25 0.02693487 N; 26 -0.055865716 N; 27 -0.0054437113 N; 28 -0.02296885 N; 29 -0.024630804 N; 30 0.094426006 N; 31 -0.057696324 N; 32 -0.028044242 N; 33 -0.019778045 N; 34 -0.0035002208 N; 35 -0.05297406 N; 36 0.017765636 N; 37 -0.014415139 N; 38 -0.011817565 N; 39 -0.045281895 N; 40 0.00011382589 N; 41 -0.07136247 N; 42 0.08465519 N; 43 0.053950064 N; 44 -0.072345465 N; 45 0.05966892 N; 46 -0.017321631 N; 47 -0.0007345425 N; 48 0.04301546 N; 49 0.0030246687 N; 50 -0.033742163 N; 51 -0.085227385 N; 52 -0.06933649 N; 53 -0.04573741 N; 54 0.07559823 N; 55 -0.12054044 N; 56 -0.035025246 N; 57 0.009011086 N; 58 -0.014697892 N; 59 0.00907441 N; 60 -0.1024653 N; 61 0.008536562 N; 62 0.10921926 N; \n",
      "\n",
      "0 0.044139426 P; 1 -0.025427405 P; 2 0.057848834 P; 3 -0.015574168 P; 4 0.032076422 P; 5 0.06432169 P; 6 -0.006746973 P; 7 -0.056754198 P; 8 -0.083087616 P; 9 0.090006135 P; 10 0.080817215 P; 11 0.025494857 P; 12 0.03606588 P; 13 -0.029547872 P; 14 -0.0070540598 P; 15 0.061616365 P; 16 -0.052979283 P; 17 -0.044316 P; 18 -0.0016095501 P; 19 0.052589953 P; 20 -0.081887126 P; 21 -0.046178292 P; 22 0.010590378 P; 23 0.0126960715 P; 24 -0.03518426 P; 25 -0.004374217 P; 26 -0.058631837 P; 27 -0.024631845 P; 28 0.03440953 P; 29 0.01283354 P; 30 0.047780447 P; 31 -0.07375431 P; 32 -0.023177015 P; 33 0.09467067 P; 34 0.021919373 P; 35 -0.015465262 P; 36 -0.049064867 P; 37 0.0034189417 P; 38 0.06316597 P; 39 0.022047417 P; 40 0.047067232 P; 41 -0.06782302 P; 42 0.047920953 P; 43 0.033207648 P; 44 -0.049781594 P; 45 -0.018882096 P; 46 0.0636391 P; 47 0.046974394 P; 48 0.10693214 P; 49 -0.014188931 P; 50 0.0661392 P; 51 -0.10137921 P; 52 0.044923697 P; 53 -0.078188114 P; 54 0.0044587506 P; 55 -0.15905303 P; 56 0.034090523 P; 57 0.058839854 P; 58 0.004496912 P; 59 0.037121654 P; 60 0.04189037 P; 61 -0.012390054 P; 62 0.022074414 P; \n",
      "\n",
      "0 0.024482125 Q; 1 0.03570646 Q; 2 0.06484004 Q; 3 0.03986807 Q; 4 0.05467392 Q; 5 0.0375656 Q; 6 0.029953366 Q; 7 -0.114899255 Q; 8 -0.07336647 Q; 9 -0.019479489 Q; 10 0.055678096 Q; 11 -0.036169402 Q; 12 -0.0030017367 Q; 13 0.026251055 Q; 14 -0.04734469 Q; 15 -0.054244712 Q; 16 -0.00911463 Q; 17 -0.04586399 Q; 18 0.007809755 Q; 19 0.009057207 Q; 20 0.04352374 Q; 21 -0.006776909 Q; 22 -0.018506717 Q; 23 0.04316907 Q; 24 -0.055559143 Q; 25 -0.017796585 Q; 26 -0.029013388 Q; 27 0.006519031 Q; 28 -0.01779905 Q; 29 0.013018357 Q; 30 0.027680894 Q; 31 0.023786752 Q; 32 -0.034861416 Q; 33 0.05385249 Q; 34 0.05200837 Q; 35 -0.023934029 Q; 36 -0.034361374 Q; 37 0.064678475 Q; 38 0.04792391 Q; 39 0.04869405 Q; 40 0.037407134 Q; 41 -0.043211445 Q; 42 0.046936642 Q; 43 -0.014724921 Q; 44 -0.038209137 Q; 45 0.053592768 Q; 46 0.04638088 Q; 47 0.12201025 Q; 48 0.007085787 Q; 49 -0.047308896 Q; 50 -0.033332672 Q; 51 -0.13244209 Q; 52 0.048293643 Q; 53 -0.07037281 Q; 54 -0.019936178 Q; 55 -0.10929731 Q; 56 -0.050971773 Q; 57 -0.012443706 Q; 58 0.095541105 Q; 59 -0.03646026 Q; 60 0.02613443 Q; 61 0.08669271 Q; 62 0.025885856 Q; \n",
      "\n",
      "0 -0.1235856 R; 1 -0.2336015 R; 2 0.02440173 R; 3 0.10603612 R; 4 -0.11201071 R; 5 0.12305192 R; 6 -0.19957012 R; 7 -0.15658803 R; 8 0.18694529 R; 9 0.18819138 R; 10 -0.21010591 R; 11 0.18477605 R; 12 -0.22550683 R; 13 0.22287166 R; 14 -0.21793833 R; 15 -0.20632939 R; 16 -0.12862094 R; 17 -0.14710075 R; 18 -0.2168276 R; 19 -0.08000784 R; 20 0.21284252 R; 21 -0.20695978 R; 22 0.11399348 R; 23 0.2420568 R; 24 0.18260533 R; 25 0.2174158 R; 26 0.16640012 R; 27 0.15412535 R; 28 -0.17502108 R; 29 0.1221241 R; 30 -0.18108608 R; 31 0.19626518 R; 32 -0.22070143 R; 33 -0.23344028 R; 34 -0.22597525 R; 35 0.23137873 R; 36 -0.20985427 R; 37 -0.21991391 R; 38 -0.1576395 R; 39 0.15901768 R; 40 -0.15676074 R; 41 -0.12189725 R; 42 -0.16641691 R; 43 0.18677135 R; 44 0.20949976 R; 45 0.15479507 R; 46 0.21869266 R; 47 -0.2224525 R; 48 -0.2280775 R; 49 0.10529088 R; 50 0.13394356 R; 51 0.1473433 R; 52 0.18211007 R; 53 0.1249241 R; 54 0.25092882 R; 55 0.150333 R; 56 -0.13549943 R; 57 -0.16205682 R; 58 0.13542753 R; 59 0.17838939 R; 60 0.22430535 R; 61 -0.1755134 R; 62 -0.20905454 R; \n",
      "\n",
      "0 0.054589376 S; 1 0.029870788 S; 2 0.08884534 S; 3 0.06815208 S; 4 0.05779782 S; 5 0.02494167 S; 6 -0.025695568 S; 7 -0.05950255 S; 8 -0.07650872 S; 9 0.037608594 S; 10 0.013510434 S; 11 -0.05570096 S; 12 0.01046875 S; 13 -0.022285871 S; 14 -0.045525964 S; 15 0.0056419624 S; 16 0.08161085 S; 17 -0.089043014 S; 18 0.041505728 S; 19 -0.027959466 S; 20 -0.10953183 S; 21 0.055734646 S; 22 0.08372593 S; 23 -0.034283962 S; 24 -0.079158835 S; 25 -0.034726433 S; 26 -0.08161429 S; 27 -0.0349394 S; 28 0.050660696 S; 29 0.023778867 S; 30 0.09720404 S; 31 -0.053258557 S; 32 0.022108234 S; 33 -0.0228866 S; 34 0.09669083 S; 35 0.024090633 S; 36 -0.003907546 S; 37 -0.057112213 S; 38 0.07660541 S; 39 -0.021999741 S; 40 0.012116228 S; 41 -0.0640342 S; 42 -0.02151729 S; 43 0.008498674 S; 44 -0.096264936 S; 45 0.02013557 S; 46 -0.067408964 S; 47 -0.021322796 S; 48 0.06516765 S; 49 -0.027296893 S; 50 -0.025021832 S; 51 -0.042625867 S; 52 0.026291937 S; 53 -0.026593123 S; 54 0.046703868 S; 55 -0.087136604 S; 56 0.018897735 S; 57 0.08532449 S; 58 0.046262182 S; 59 -0.045505945 S; 60 -0.01623271 S; 61 0.08485352 S; 62 0.08441707 S; \n",
      "\n",
      "0 0.01770145 T; 1 0.004076319 T; 2 0.088646434 T; 3 0.021810524 T; 4 -0.014644335 T; 5 -0.005006565 T; 6 -0.024703057 T; 7 -0.08275346 T; 8 -0.032378547 T; 9 0.028480735 T; 10 0.10803959 T; 11 0.031275764 T; 12 0.06513855 T; 13 0.006868459 T; 14 -0.0006828088 T; 15 -0.028113551 T; 16 0.031424038 T; 17 -0.017990543 T; 18 0.07775819 T; 19 0.061002262 T; 20 -0.04352274 T; 21 0.018293615 T; 22 0.06636861 T; 23 -0.001013257 T; 24 -0.029329527 T; 25 -0.0696358 T; 26 -0.1052773 T; 27 0.018497182 T; 28 0.046463724 T; 29 0.033666365 T; 30 0.05415085 T; 31 -0.09191097 T; 32 0.035281368 T; 33 0.010229717 T; 34 0.017414926 T; 35 0.02381634 T; 36 0.039171524 T; 37 -0.06142937 T; 38 0.027457349 T; 39 0.03096246 T; 40 -0.025248 T; 41 -0.04061226 T; 42 0.039886404 T; 43 -0.016800243 T; 44 -0.08155065 T; 45 -0.016132636 T; 46 -0.038704444 T; 47 -0.025964802 T; 48 0.041203525 T; 49 -0.07200379 T; 50 -0.051243894 T; 51 -0.050062194 T; 52 -4.3009233e-05 T; 53 -0.002597837 T; 54 -0.016353166 T; 55 -0.116974495 T; 56 0.0074250605 T; 57 0.011236024 T; 58 0.039557043 T; 59 -0.044291493 T; 60 -0.016635148 T; 61 0.07364414 T; 62 0.08992401 T; \n",
      "\n",
      "0 0.08536068 V; 1 -0.0018162446 V; 2 0.069942266 V; 3 -0.06051754 V; 4 0.00091792585 V; 5 0.050501976 V; 6 0.059662662 V; 7 -0.05624522 V; 8 -0.02695357 V; 9 0.1312314 V; 10 0.11896602 V; 11 -0.042840794 V; 12 0.047295228 V; 13 0.00065191917 V; 14 -0.08155871 V; 15 0.06778867 V; 16 -0.06194621 V; 17 0.026155045 V; 18 -0.006799828 V; 19 0.026243612 V; 20 -0.06576098 V; 21 0.043180674 V; 22 0.04338712 V; 23 -0.010484994 V; 24 0.006695411 V; 25 -0.031878352 V; 26 -0.12784177 V; 27 -0.0120870415 V; 28 0.013439875 V; 29 0.094092295 V; 30 -0.009696855 V; 31 -0.059631433 V; 32 0.04971769 V; 33 0.021575153 V; 34 0.01680318 V; 35 0.049068354 V; 36 0.09858734 V; 37 -0.05775753 V; 38 0.10533376 V; 39 -0.02371164 V; 40 -0.0038603416 V; 41 -0.026250342 V; 42 0.023377888 V; 43 0.023038056 V; 44 -0.0832001 V; 45 -0.006924254 V; 46 -0.054070123 V; 47 0.031386983 V; 48 0.060165398 V; 49 -0.060330782 V; 50 -0.07696002 V; 51 -0.05527301 V; 52 0.020737227 V; 53 -0.038011532 V; 54 -0.008546284 V; 55 -0.041354302 V; 56 -0.04936968 V; 57 0.057379458 V; 58 -0.012049736 V; 59 0.018169383 V; 60 0.041271817 V; 61 0.081326246 V; 62 0.0730943 V; \n",
      "\n",
      "0 0.053189594 W; 1 -0.054297805 W; 2 0.13907532 W; 3 -0.028285492 W; 4 0.009721598 W; 5 -0.0005621267 W; 6 -0.011709931 W; 7 -0.10658233 W; 8 0.018587546 W; 9 0.009392446 W; 10 0.07588812 W; 11 -0.09224781 W; 12 0.023068417 W; 13 0.025446506 W; 14 -0.04555921 W; 15 -0.027575187 W; 16 0.0078951195 W; 17 -0.061712783 W; 18 0.011634078 W; 19 0.11075971 W; 20 -0.0074797147 W; 21 -0.0067114895 W; 22 0.06459793 W; 23 0.03146385 W; 24 -0.006275228 W; 25 -0.06713916 W; 26 -0.05538965 W; 27 -0.026142156 W; 28 0.017224776 W; 29 -0.066248015 W; 30 0.035280883 W; 31 0.03810321 W; 32 -0.059515454 W; 33 0.02513019 W; 34 0.070726864 W; 35 -0.013159898 W; 36 -0.0028447472 W; 37 -0.030699909 W; 38 -0.06315227 W; 39 0.073733516 W; 40 0.016627872 W; 41 -0.020603405 W; 42 0.030797428 W; 43 -0.011056928 W; 44 -0.00097645697 W; 45 -0.002054226 W; 46 0.02671462 W; 47 0.083724 W; 48 0.02195304 W; 49 -0.014276651 W; 50 0.024889251 W; 51 -0.1173983 W; 52 0.029886965 W; 53 -0.038853966 W; 54 0.02558055 W; 55 -0.07434966 W; 56 0.011660556 W; 57 0.06918922 W; 58 -0.05251085 W; 59 0.0065781893 W; 60 0.019651363 W; 61 0.04012326 W; 62 0.066749215 W; \n",
      "\n",
      "0 -0.0002964342 Y; 1 0.0037867946 Y; 2 0.062231243 Y; 3 -0.001390043 Y; 4 0.06344092 Y; 5 0.06966029 Y; 6 0.037116252 Y; 7 0.0055587073 Y; 8 -0.067528576 Y; 9 0.10040696 Y; 10 0.020346416 Y; 11 -0.09576275 Y; 12 -0.0119419675 Y; 13 -0.08246487 Y; 14 -0.03965772 Y; 15 0.03694321 Y; 16 -0.035592437 Y; 17 0.01973558 Y; 18 0.019748075 Y; 19 0.033748224 Y; 20 0.03857554 Y; 21 -0.042407867 Y; 22 0.026206229 Y; 23 -0.0834723 Y; 24 -0.010055668 Y; 25 0.026691807 Y; 26 -0.047836468 Y; 27 -0.053228125 Y; 28 0.018308049 Y; 29 0.09728798 Y; 30 0.046184406 Y; 31 -0.011358563 Y; 32 -0.010050562 Y; 33 0.032778244 Y; 34 0.06834367 Y; 35 0.082234055 Y; 36 0.0071248477 Y; 37 0.01138493 Y; 38 0.10256939 Y; 39 0.054432675 Y; 40 -0.082293615 Y; 41 0.06280426 Y; 42 0.015475262 Y; 43 0.06654564 Y; 44 -0.10060983 Y; 45 -0.04059007 Y; 46 -0.05488704 Y; 47 0.050562147 Y; 48 0.09757148 Y; 49 -0.050808523 Y; 50 -0.05230231 Y; 51 -0.069639385 Y; 52 0.057246856 Y; 53 -0.018705092 Y; 54 0.037868302 Y; 55 -0.09481788 Y; 56 -0.06608509 Y; 57 0.058929842 Y; 58 -0.087141 Y; 59 0.031838663 Y; 60 -0.03652028 Y; 61 0.035173852 Y; 62 0.10206177 Y; \n",
      "\n",
      "0 -0.015315716 C[UNIMOD:4]; 1 -0.03637378 C[UNIMOD:4]; 2 0.15209852 C[UNIMOD:4]; 3 -0.014699652 C[UNIMOD:4]; 4 0.10397859 C[UNIMOD:4]; 5 -0.03514456 C[UNIMOD:4]; 6 0.0077935383 C[UNIMOD:4]; 7 -0.07210332 C[UNIMOD:4]; 8 0.007883396 C[UNIMOD:4]; 9 -0.12558986 C[UNIMOD:4]; 10 0.045735534 C[UNIMOD:4]; 11 -0.06950243 C[UNIMOD:4]; 12 0.00582606 C[UNIMOD:4]; 13 -0.05110028 C[UNIMOD:4]; 14 -0.019400418 C[UNIMOD:4]; 15 -0.039677985 C[UNIMOD:4]; 16 0.0471329 C[UNIMOD:4]; 17 -0.15759468 C[UNIMOD:4]; 18 -0.03654439 C[UNIMOD:4]; 19 0.047634307 C[UNIMOD:4]; 20 0.06996034 C[UNIMOD:4]; 21 0.038335755 C[UNIMOD:4]; 22 -0.076167084 C[UNIMOD:4]; 23 0.047367394 C[UNIMOD:4]; 24 -0.020402355 C[UNIMOD:4]; 25 -0.028810564 C[UNIMOD:4]; 26 0.042075243 C[UNIMOD:4]; 27 -0.013906302 C[UNIMOD:4]; 28 -0.044167932 C[UNIMOD:4]; 29 -0.08208568 C[UNIMOD:4]; 30 -0.00718571 C[UNIMOD:4]; 31 0.0038263842 C[UNIMOD:4]; 32 -0.055406418 C[UNIMOD:4]; 33 -0.06692076 C[UNIMOD:4]; 34 0.019166349 C[UNIMOD:4]; 35 0.018928941 C[UNIMOD:4]; 36 -0.03414643 C[UNIMOD:4]; 37 0.092804775 C[UNIMOD:4]; 38 -0.07363139 C[UNIMOD:4]; 39 0.045818623 C[UNIMOD:4]; 40 -0.054256454 C[UNIMOD:4]; 41 -0.07235732 C[UNIMOD:4]; 42 -0.0066385022 C[UNIMOD:4]; 43 -0.010566151 C[UNIMOD:4]; 44 -0.025908012 C[UNIMOD:4]; 45 0.013913393 C[UNIMOD:4]; 46 0.110274635 C[UNIMOD:4]; 47 0.07293897 C[UNIMOD:4]; 48 0.06238429 C[UNIMOD:4]; 49 0.0033232933 C[UNIMOD:4]; 50 0.05344196 C[UNIMOD:4]; 51 -0.110797755 C[UNIMOD:4]; 52 0.059252486 C[UNIMOD:4]; 53 -0.08136357 C[UNIMOD:4]; 54 -0.014216289 C[UNIMOD:4]; 55 -0.1476337 C[UNIMOD:4]; 56 -0.011269346 C[UNIMOD:4]; 57 0.018249795 C[UNIMOD:4]; 58 0.030230932 C[UNIMOD:4]; 59 0.044639524 C[UNIMOD:4]; 60 -0.021327483 C[UNIMOD:4]; 61 0.056989018 C[UNIMOD:4]; 62 0.06760797 C[UNIMOD:4]; \n",
      "\n",
      "0 0.014244395 M[UNIMOD:35]; 1 -0.0829258 M[UNIMOD:35]; 2 0.20860104 M[UNIMOD:35]; 3 -0.12652759 M[UNIMOD:35]; 4 0.19392687 M[UNIMOD:35]; 5 0.014725403 M[UNIMOD:35]; 6 0.03514314 M[UNIMOD:35]; 7 -0.1798276 M[UNIMOD:35]; 8 -0.043554068 M[UNIMOD:35]; 9 -0.06259146 M[UNIMOD:35]; 10 0.029144254 M[UNIMOD:35]; 11 -0.10116959 M[UNIMOD:35]; 12 -0.017847868 M[UNIMOD:35]; 13 0.0009163299 M[UNIMOD:35]; 14 0.012411714 M[UNIMOD:35]; 15 0.0050204257 M[UNIMOD:35]; 16 0.20437306 M[UNIMOD:35]; 17 -0.15625346 M[UNIMOD:35]; 18 -0.0022513098 M[UNIMOD:35]; 19 0.24627964 M[UNIMOD:35]; 20 0.006124092 M[UNIMOD:35]; 21 0.0921707 M[UNIMOD:35]; 22 -0.06368368 M[UNIMOD:35]; 23 -0.02132903 M[UNIMOD:35]; 24 0.061898544 M[UNIMOD:35]; 25 -0.13896246 M[UNIMOD:35]; 26 -0.048374318 M[UNIMOD:35]; 27 0.024563275 M[UNIMOD:35]; 28 -0.07761617 M[UNIMOD:35]; 29 -0.16845809 M[UNIMOD:35]; 30 -0.028205369 M[UNIMOD:35]; 31 0.055148676 M[UNIMOD:35]; 32 -0.06329106 M[UNIMOD:35]; 33 -0.07437761 M[UNIMOD:35]; 34 0.01534922 M[UNIMOD:35]; 35 0.15549707 M[UNIMOD:35]; 36 0.012824793 M[UNIMOD:35]; 37 -0.049537875 M[UNIMOD:35]; 38 -0.089447275 M[UNIMOD:35]; 39 0.020231955 M[UNIMOD:35]; 40 -0.069282696 M[UNIMOD:35]; 41 -0.0641507 M[UNIMOD:35]; 42 0.056165826 M[UNIMOD:35]; 43 0.026421964 M[UNIMOD:35]; 44 0.054572865 M[UNIMOD:35]; 45 0.019732533 M[UNIMOD:35]; 46 0.034401834 M[UNIMOD:35]; 47 0.059295848 M[UNIMOD:35]; 48 0.07235453 M[UNIMOD:35]; 49 0.056046948 M[UNIMOD:35]; 50 0.0065639256 M[UNIMOD:35]; 51 -0.1237142 M[UNIMOD:35]; 52 0.08866481 M[UNIMOD:35]; 53 -0.07649128 M[UNIMOD:35]; 54 -0.021942616 M[UNIMOD:35]; 55 -0.05640187 M[UNIMOD:35]; 56 -0.06591162 M[UNIMOD:35]; 57 0.04452287 M[UNIMOD:35]; 58 -0.014285561 M[UNIMOD:35]; 59 0.007498032 M[UNIMOD:35]; 60 -0.052205 M[UNIMOD:35]; 61 0.007430767 M[UNIMOD:35]; 62 0.07257442 M[UNIMOD:35]; \n"
     ]
    }
   ],
   "source": [
    "layers = [layer.get_weights() for layer in model_embed.layers]\n",
    "\n",
    "for i in range(23):\n",
    "    list_of_positions_for_vocab = layers[1][0][i]\n",
    "    for index, j in enumerate(list_of_positions_for_vocab):\n",
    "        print(index, j, vocabulary[i], end=\"; \")\n",
    "    print(\"\\n\")\n",
    "    #print(i, (layers[1][0][i]))"
   ],
   "metadata": {
    "collapsed": false,
    "ExecuteTime": {
     "end_time": "2023-08-24T11:53:15.838212900Z",
     "start_time": "2023-08-24T11:53:15.496433500Z"
    }
   }
  },
  {
   "cell_type": "code",
   "execution_count": 116,
   "outputs": [
    {
     "name": "stdout",
     "output_type": "stream",
     "text": [
      "[[ 4 22 10 17 15  1  8  9 17 14 10 18 10 10 17  0  0  0  0  0  0  0  0  0\n",
      "   0  0  0  0  0  0  0  0  0  0  0  0  0  0  0  0  0  0  0  0  0  0  0  0\n",
      "   0  0  0  0  0  0  0  0  0  0  0  0  0  0  0]]\n",
      "[0.0, 0.25, 0.73, 0.02, 0.0, 0.0] 1.0000000186264515\n",
      "-----------------------------\n",
      "Sequence:  EM[UNIMOD:35]LTRAIKTQLVLLT\n",
      "charge state 1:  0.0\n",
      "charge state 2:  0.25\n",
      "charge state 3:  0.73\n",
      "charge state 4:  0.02\n",
      "charge state 5:  0.0\n",
      "charge state 6:  0.0\n",
      "-----------------------------\n",
      "The predicted charge state for the input sequence 'EM[UNIMOD:35]LTRAIKTQLVLLT' is 3 [73.0%].\n",
      "Prediction percentages for all states:\n",
      "Charge state 1: 0.0%\n",
      "Charge state 2: 25.15%\n",
      "--Charge state 3: 73.21%\n",
      "Charge state 4: 1.63%\n",
      "Charge state 5: 0.0%\n",
      "Charge state 6: 0.0%\n"
     ]
    }
   ],
   "source": [
    "# TODO prediction\n",
    "#input_sequence = \"NGVVIATENKHKSPLYEQHSVH\"\n",
    "input_sequence = \"EM[UNIMOD:35]LTRAIKTQLVLLT\"\n",
    "#input_sequence = \"AAAGCNN\"\n",
    "input_sequence_vector = seq_translator(input_sequence, max_len=63)\n",
    "input_sequence_vector = np.expand_dims(tf.convert_to_tensor(np.array(input_sequence_vector)), axis=0)\n",
    "print(input_sequence_vector)\n",
    "test_give = model_embed.predict(input_sequence_vector, verbose=False)\n",
    "print([round(x, 2) for x in test_give[0]], sum([round(x, 2) for x in test_give[0]]))\n",
    "counter = 1\n",
    "print(\"-----------------------------\")\n",
    "print(\"Sequence: \", input_sequence)\n",
    "for x in test_give[0]:\n",
    "    print(f\"charge state {counter}: \", round(x, 2))\n",
    "    counter += 1\n",
    "print(\"-----------------------------\")\n",
    "print(generate_charge_prediction_text(test_give[0]))"
   ],
   "metadata": {
    "collapsed": false,
    "ExecuteTime": {
     "end_time": "2023-08-24T11:50:13.783709100Z",
     "start_time": "2023-08-24T11:50:11.126977400Z"
    }
   }
  },
  {
   "cell_type": "code",
   "execution_count": 117,
   "outputs": [],
   "source": [
    "# PREDICT\n",
    "counter_index = 0\n",
    "stop_index = 100\n",
    "test_run = False # TODO manual switch\n",
    "try:\n",
    "    for index, row in predict_df.iterrows():\n",
    "        solut = np.expand_dims(tf.convert_to_tensor(np.array(predict_df.at[index, \"modified_sequence_vector\"])), axis=0)\n",
    "        predict_df.at[index, 'prediction'] = model_embed.predict(solut, verbose=False)\n",
    "        counter_index += 1\n",
    "        if test_run:\n",
    "            if counter_index >= stop_index:\n",
    "                break\n",
    "except KeyboardInterrupt:\n",
    "    print(\"KeyboardInterrupt\", f\"at {counter_index} of {predict_df.shape[0]}\")"
   ],
   "metadata": {
    "collapsed": false,
    "ExecuteTime": {
     "end_time": "2023-08-24T11:50:13.787708700Z",
     "start_time": "2023-08-24T11:50:11.186487200Z"
    }
   }
  },
  {
   "cell_type": "code",
   "execution_count": 118,
   "outputs": [
    {
     "data": {
      "text/plain": "Empty DataFrame\nColumns: [modified_sequence_vector, true_label, pred_label, prediction, modified_sequence, seq_length]\nIndex: []",
      "text/html": "<div>\n<style scoped>\n    .dataframe tbody tr th:only-of-type {\n        vertical-align: middle;\n    }\n\n    .dataframe tbody tr th {\n        vertical-align: top;\n    }\n\n    .dataframe thead th {\n        text-align: right;\n    }\n</style>\n<table border=\"1\" class=\"dataframe\">\n  <thead>\n    <tr style=\"text-align: right;\">\n      <th></th>\n      <th>modified_sequence_vector</th>\n      <th>true_label</th>\n      <th>pred_label</th>\n      <th>prediction</th>\n      <th>modified_sequence</th>\n      <th>seq_length</th>\n    </tr>\n  </thead>\n  <tbody>\n  </tbody>\n</table>\n</div>"
     },
     "execution_count": 118,
     "metadata": {},
     "output_type": "execute_result"
    }
   ],
   "source": [
    "predict_df"
   ],
   "metadata": {
    "collapsed": false,
    "ExecuteTime": {
     "end_time": "2023-08-24T11:50:14.219696900Z",
     "start_time": "2023-08-24T11:50:11.194028100Z"
    }
   }
  },
  {
   "cell_type": "code",
   "execution_count": 119,
   "outputs": [],
   "source": [
    "# IMPORTANT for label verification after PREDICT\n",
    "predict_df['pred_label'] = predict_df['prediction'].apply(predictions_no_hot)"
   ],
   "metadata": {
    "collapsed": false,
    "ExecuteTime": {
     "end_time": "2023-08-24T11:50:14.221203700Z",
     "start_time": "2023-08-24T11:50:11.212470400Z"
    }
   }
  },
  {
   "cell_type": "code",
   "execution_count": 120,
   "outputs": [
    {
     "data": {
      "text/plain": "Empty DataFrame\nColumns: [modified_sequence_vector, true_label, pred_label, prediction, modified_sequence, seq_length]\nIndex: []",
      "text/html": "<div>\n<style scoped>\n    .dataframe tbody tr th:only-of-type {\n        vertical-align: middle;\n    }\n\n    .dataframe tbody tr th {\n        vertical-align: top;\n    }\n\n    .dataframe thead th {\n        text-align: right;\n    }\n</style>\n<table border=\"1\" class=\"dataframe\">\n  <thead>\n    <tr style=\"text-align: right;\">\n      <th></th>\n      <th>modified_sequence_vector</th>\n      <th>true_label</th>\n      <th>pred_label</th>\n      <th>prediction</th>\n      <th>modified_sequence</th>\n      <th>seq_length</th>\n    </tr>\n  </thead>\n  <tbody>\n  </tbody>\n</table>\n</div>"
     },
     "execution_count": 120,
     "metadata": {},
     "output_type": "execute_result"
    }
   ],
   "source": [
    "predict_df.head(4)"
   ],
   "metadata": {
    "collapsed": false,
    "ExecuteTime": {
     "end_time": "2023-08-24T11:50:14.221203700Z",
     "start_time": "2023-08-24T11:50:11.219004400Z"
    }
   }
  },
  {
   "cell_type": "code",
   "execution_count": 121,
   "outputs": [
    {
     "ename": "ZeroDivisionError",
     "evalue": "division by zero",
     "output_type": "error",
     "traceback": [
      "\u001B[1;31m---------------------------------------------------------------------------\u001B[0m",
      "\u001B[1;31mZeroDivisionError\u001B[0m                         Traceback (most recent call last)",
      "Cell \u001B[1;32mIn[121], line 8\u001B[0m\n\u001B[0;32m      5\u001B[0m     \u001B[38;5;28;01mif\u001B[39;00m row[\u001B[38;5;124m'\u001B[39m\u001B[38;5;124mtrue_label\u001B[39m\u001B[38;5;124m'\u001B[39m] \u001B[38;5;241m==\u001B[39m row[\u001B[38;5;124m'\u001B[39m\u001B[38;5;124mpred_label\u001B[39m\u001B[38;5;124m'\u001B[39m]:\n\u001B[0;32m      6\u001B[0m         true_counter \u001B[38;5;241m+\u001B[39m\u001B[38;5;241m=\u001B[39m \u001B[38;5;241m1\u001B[39m\n\u001B[1;32m----> 8\u001B[0m \u001B[38;5;28mprint\u001B[39m(\u001B[43mtrue_counter\u001B[49m\u001B[38;5;241;43m/\u001B[39;49m\u001B[43msize_of_df\u001B[49m, true_counter, size_of_df)\n",
      "\u001B[1;31mZeroDivisionError\u001B[0m: division by zero"
     ]
    }
   ],
   "source": [
    "# iterate all rows of grouped_df_embed\n",
    "size_of_df = predict_df.shape[0]\n",
    "true_counter = 0\n",
    "for index, row in predict_df.iterrows():\n",
    "    if row['true_label'] == row['pred_label']:\n",
    "        true_counter += 1\n",
    "\n",
    "print(true_counter/size_of_df, true_counter, size_of_df)"
   ],
   "metadata": {
    "collapsed": false,
    "ExecuteTime": {
     "end_time": "2023-08-24T11:50:14.415491900Z",
     "start_time": "2023-08-24T11:50:11.230951700Z"
    }
   }
  },
  {
   "cell_type": "code",
   "execution_count": null,
   "outputs": [],
   "source": [
    "1 / np.log10(6) # TODO sanity check, look into formula"
   ],
   "metadata": {
    "collapsed": false,
    "ExecuteTime": {
     "start_time": "2023-08-24T11:50:11.252014700Z"
    }
   }
  },
  {
   "cell_type": "code",
   "execution_count": null,
   "outputs": [],
   "source": [
    "from sklearn.metrics import classification_report, confusion_matrix, accuracy_score, precision_score, recall_score, f1_score, ConfusionMatrixDisplay\n",
    "import seaborn as sn\n",
    "\n",
    "true_labels = predict_df['true_label']\n",
    "predicted_labels = predict_df['pred_label']\n",
    "\n",
    "\n",
    "cm = confusion_matrix(true_labels, predicted_labels)\n",
    "print(cm)\n",
    "print(\"Accuracy: \", accuracy_score(true_labels, predicted_labels))\n",
    "# TODO calculate for score for each class (and/or average)\n",
    "# TODO lookup logic for weighted, macro etc. -> presentation\n",
    "print(\"Precision: \", precision_score(true_labels, predicted_labels, average='weighted'))\n",
    "print(\"Recall: \", recall_score(true_labels, predicted_labels, average='weighted'))\n",
    "print(\"F1: \", f1_score(true_labels, predicted_labels, average='weighted'))\n",
    "disp = ConfusionMatrixDisplay(confusion_matrix=cm, display_labels=class_names)\n",
    "disp.plot(cmap=plt.cm.Blues, xticks_rotation=45)\n",
    "\n",
    "#sn.heatmap(cm2, annot=True, cmap=\"crest\")\n",
    "# TODO  check if most abundant is chosen"
   ],
   "metadata": {
    "collapsed": false,
    "ExecuteTime": {
     "start_time": "2023-08-24T11:50:11.254015500Z"
    }
   }
  },
  {
   "cell_type": "code",
   "execution_count": null,
   "outputs": [],
   "source": [
    "# calculate error for each class corresponding to sequence length, TODO normalize for sequence length occurence\n",
    "seq_len_dict = dict()\n",
    "seq_len_correct = dict()\n",
    "for index, length in predict_df['seq_length'].items():\n",
    "    if length in seq_len_dict:\n",
    "        seq_len_dict[length] += 1\n",
    "        if predict_df.at[index, 'true_label'] == predict_df.at[index, 'pred_label']:\n",
    "            seq_len_correct[length] += 1\n",
    "    else:\n",
    "        seq_len_dict[length] = 1\n",
    "        if predict_df.at[index, 'true_label'] == predict_df.at[index, 'pred_label']:\n",
    "            seq_len_correct[length] = 1\n",
    "        else:\n",
    "            seq_len_correct[length] = 0"
   ],
   "metadata": {
    "collapsed": false,
    "ExecuteTime": {
     "start_time": "2023-08-24T11:50:11.255016Z"
    }
   }
  },
  {
   "cell_type": "code",
   "execution_count": null,
   "outputs": [],
   "source": [
    "correct_matches = dict()\n",
    "for key, value in seq_len_dict.items():\n",
    "    correct_matches[key] = seq_len_correct[key] / value\n",
    "# plot in pyplot seq_len_dict vs seq_len_correct\n",
    "import matplotlib.pyplot as plt\n",
    "\n",
    "plt.xlabel('Sequence Length')\n",
    "plt.ylabel('Accuracy')\n",
    "#label for color\n",
    "plt.title('Accuracy per Sequence Length')\n",
    "\n",
    "\n",
    "plt.colorbar(plt.scatter(list(seq_len_dict.keys()), list(correct_matches.values()), c=list(seq_len_dict.values()), cmap='viridis', label=\"all\"))\n",
    "plt.scatter(list(seq_len_dict.keys()), list(correct_matches.values()), c=list(seq_len_dict.values()), cmap='viridis', label=\"all\")"
   ],
   "metadata": {
    "collapsed": false,
    "ExecuteTime": {
     "start_time": "2023-08-24T11:50:11.256014700Z"
    }
   }
  },
  {
   "cell_type": "markdown",
   "source": [],
   "metadata": {
    "collapsed": false
   }
  },
  {
   "cell_type": "code",
   "execution_count": null,
   "outputs": [],
   "source": [
    "from sklearn.metrics import confusion_matrix\n",
    "\n",
    "new_df = pd.DataFrame(columns=['charge','accuracy'])\n",
    "\n",
    "matrix = confusion_matrix(true_labels, predicted_labels)\n",
    "new_df['charge'] = [1,2,3,4,5,6]\n",
    "new_df['accuracy'] = matrix.diagonal()/matrix.sum(axis=1)\n",
    "new_df['precision'] = precision_score(true_labels, predicted_labels, average=None)\n",
    "new_df['recall'] = recall_score(true_labels, predicted_labels, average=None)\n",
    "new_df['f1'] = f1_score(true_labels, predicted_labels, average=None)\n"
   ],
   "metadata": {
    "collapsed": false,
    "ExecuteTime": {
     "start_time": "2023-08-24T11:50:11.258014500Z"
    }
   }
  },
  {
   "cell_type": "code",
   "execution_count": null,
   "outputs": [],
   "source": [
    "new_df"
   ],
   "metadata": {
    "collapsed": false,
    "ExecuteTime": {
     "start_time": "2023-08-24T11:50:11.259014400Z"
    }
   }
  },
  {
   "cell_type": "markdown",
   "source": [
    "# Outputs to compare with prosit"
   ],
   "metadata": {
    "collapsed": false
   }
  },
  {
   "cell_type": "code",
   "execution_count": null,
   "outputs": [],
   "source": [
    "train_df"
   ],
   "metadata": {
    "collapsed": false
   }
  },
  {
   "cell_type": "code",
   "execution_count": null,
   "outputs": [],
   "source": [
    "train_df = pd.DataFrame(columns=['modified_sequence', 'most_abundant_charge_vector', 'modified_sequence_vector'])\n",
    "train_df['modified_sequence'] = train_ds_embed_raw\n",
    "train_df['most_abundant_charge_vector'] = train_labels_embed.numpy().tolist()\n",
    "train_df['modified_sequence_vector'] = train_ds_embed.numpy().tolist()\n",
    "\n",
    "val_df = pd.DataFrame(columns=['modified_sequence', 'most_abundant_charge_vector', 'modified_sequence_vector'])\n",
    "val_df['modified_sequence'] = val_ds_embed_raw\n",
    "val_df['modified_sequence_vector'] = val_ds_embed.numpy().tolist()\n",
    "val_df['most_abundant_charge_vector'] = val_labels_embed.numpy().tolist()\n",
    "\n",
    "test_df = pd.DataFrame(columns=['modified_sequence', 'most_abundant_charge_vector', 'modified_sequence_vector'])\n",
    "test_df['modified_sequence'] = test_ds_embed_raw\n",
    "test_df['modified_sequence_vector'] = test_ds_embed.numpy().tolist()\n",
    "test_df['most_abundant_charge_vector'] = test_labels_embed.numpy().tolist()"
   ],
   "metadata": {
    "collapsed": false
   }
  },
  {
   "cell_type": "code",
   "execution_count": null,
   "outputs": [],
   "source": [
    "train_df.to_csv('comparison_files/train_df.tsv', sep=\"\\t\")\n",
    "val_df.to_csv('comparison_files/val_df.tsv', sep=\"\\t\")\n",
    "test_df.to_csv('comparison_files/test_df.tsv', sep=\"\\t\")"
   ],
   "metadata": {
    "collapsed": false
   }
  },
  {
   "cell_type": "code",
   "execution_count": null,
   "outputs": [],
   "source": [
    "print(len(train_df), len(val_df), len(test_df))"
   ],
   "metadata": {
    "collapsed": false
   }
  },
  {
   "cell_type": "markdown",
   "source": [
    "# IGNORE FROM HERE"
   ],
   "metadata": {
    "collapsed": false
   }
  },
  {
   "cell_type": "markdown",
   "source": [
    "## Check in with Franzi's group for reporting"
   ],
   "metadata": {
    "collapsed": false
   }
  },
  {
   "cell_type": "markdown",
   "source": [
    "### Multilable Model\n",
    "#### WIP in precursor_charge_predictor"
   ],
   "metadata": {
    "collapsed": false,
    "ExecuteTime": {
     "end_time": "2023-07-24T12:27:56.122188900Z",
     "start_time": "2023-07-24T12:27:55.994945600Z"
    }
   }
  },
  {
   "cell_type": "code",
   "execution_count": null,
   "outputs": [],
   "source": [],
   "metadata": {
    "collapsed": false
   }
  },
  {
   "cell_type": "markdown",
   "source": [
    "## Model Testing\n",
    "### check if models only predict charge 2 or also other charges. Due to 'overrepresentation' the best bet for the model could be to only output charge state 2"
   ],
   "metadata": {
    "collapsed": false,
    "ExecuteTime": {
     "end_time": "2023-07-24T12:28:17.283401900Z",
     "start_time": "2023-07-24T12:28:17.212145Z"
    }
   }
  },
  {
   "cell_type": "code",
   "execution_count": null,
   "outputs": [],
   "source": [],
   "metadata": {
    "collapsed": false
   }
  },
  {
   "cell_type": "markdown",
   "source": [
    "## Hyperparameter Tuning"
   ],
   "metadata": {
    "collapsed": false
   }
  },
  {
   "cell_type": "code",
   "execution_count": 121,
   "outputs": [],
   "source": [],
   "metadata": {
    "collapsed": false,
    "ExecuteTime": {
     "end_time": "2023-08-24T11:50:18.492988700Z",
     "start_time": "2023-08-24T11:50:11.833736Z"
    }
   }
  },
  {
   "cell_type": "markdown",
   "source": [],
   "metadata": {
    "collapsed": false
   }
  },
  {
   "cell_type": "code",
   "execution_count": 121,
   "outputs": [],
   "source": [],
   "metadata": {
    "collapsed": false,
    "ExecuteTime": {
     "end_time": "2023-08-24T11:50:18.493984400Z",
     "start_time": "2023-08-24T11:50:11.835747200Z"
    }
   }
  },
  {
   "cell_type": "markdown",
   "source": [
    "# Inference"
   ],
   "metadata": {
    "collapsed": false
   }
  },
  {
   "cell_type": "code",
   "execution_count": 122,
   "outputs": [
    {
     "data": {
      "text/plain": "2    1401912\n3     787278\n4     220159\n5      34381\n1      26371\n6       4417\nName: precursor_charge, dtype: int64"
     },
     "execution_count": 122,
     "metadata": {},
     "output_type": "execute_result"
    }
   ],
   "source": [
    "batches_parquet[file_list[1]][\"precursor_charge\"].value_counts()"
   ],
   "metadata": {
    "collapsed": false,
    "ExecuteTime": {
     "end_time": "2023-08-24T11:50:18.493984400Z",
     "start_time": "2023-08-24T11:50:11.837670600Z"
    }
   }
  },
  {
   "cell_type": "code",
   "execution_count": 123,
   "outputs": [],
   "source": [
    "last_model = keras.models.load_model('precursor_charge_prediction_model_embed/history_embed_150epoch_08102023.h5')"
   ],
   "metadata": {
    "collapsed": false,
    "ExecuteTime": {
     "end_time": "2023-08-24T11:50:18.493984400Z",
     "start_time": "2023-08-24T11:50:11.877419600Z"
    }
   }
  },
  {
   "cell_type": "code",
   "execution_count": 124,
   "outputs": [],
   "source": [
    "#layers = [layer.get_weights() for layer in last_model.layers]"
   ],
   "metadata": {
    "collapsed": false,
    "ExecuteTime": {
     "end_time": "2023-08-24T11:50:18.493984400Z",
     "start_time": "2023-08-24T11:50:11.948086800Z"
    }
   }
  },
  {
   "cell_type": "code",
   "execution_count": 125,
   "outputs": [
    {
     "data": {
      "text/plain": "dict_keys(['data/Thermo_SRM_Pool_meta_data.parquet', 'data/TUM_aspn_meta_data.parquet', 'data/TUM_first_pool_meta_data.parquet', 'data/TUM_HLA2_meta_data.parquet', 'data/TUM_HLA_meta_data.parquet', 'data/TUM_isoform_meta_data.parquet', 'data/TUM_lysn_meta_data.parquet', 'data/TUM_missing_first_meta_data.parquet', 'data/TUM_proteo_TMT_meta_data.parquet', 'data/TUM_second_addon_meta_data.parquet', 'data/TUM_second_pool_meta_data.parquet', 'data/TUM_third_pool_meta_data.parquet'])"
     },
     "execution_count": 125,
     "metadata": {},
     "output_type": "execute_result"
    }
   ],
   "source": [
    "batches_parquet.keys()"
   ],
   "metadata": {
    "collapsed": false,
    "ExecuteTime": {
     "end_time": "2023-08-24T11:50:18.493984400Z",
     "start_time": "2023-08-24T11:50:11.951862Z"
    }
   }
  },
  {
   "cell_type": "code",
   "execution_count": 126,
   "outputs": [
    {
     "ename": "KeyError",
     "evalue": "\"['modified_sequence_vector'] not in index\"",
     "output_type": "error",
     "traceback": [
      "\u001B[1;31m---------------------------------------------------------------------------\u001B[0m",
      "\u001B[1;31mKeyError\u001B[0m                                  Traceback (most recent call last)",
      "Cell \u001B[1;32mIn[126], line 2\u001B[0m\n\u001B[0;32m      1\u001B[0m \u001B[38;5;66;03m# Make validation data\u001B[39;00m\n\u001B[1;32m----> 2\u001B[0m inference_df \u001B[38;5;241m=\u001B[39m \u001B[43mbatches_parquet\u001B[49m\u001B[43m[\u001B[49m\u001B[43mfile_list\u001B[49m\u001B[43m[\u001B[49m\u001B[38;5;241;43m1\u001B[39;49m\u001B[43m]\u001B[49m\u001B[43m]\u001B[49m\u001B[43m[\u001B[49m\u001B[43m[\u001B[49m\u001B[38;5;124;43m\"\u001B[39;49m\u001B[38;5;124;43mprecursor_charge\u001B[39;49m\u001B[38;5;124;43m\"\u001B[39;49m\u001B[43m,\u001B[49m\u001B[43m \u001B[49m\u001B[38;5;124;43m\"\u001B[39;49m\u001B[38;5;124;43mmodified_sequence_vector\u001B[39;49m\u001B[38;5;124;43m\"\u001B[39;49m\u001B[43m,\u001B[49m\u001B[43m \u001B[49m\u001B[38;5;124;43m\"\u001B[39;49m\u001B[38;5;124;43mprecursor_intensity\u001B[39;49m\u001B[38;5;124;43m\"\u001B[39;49m\u001B[43m]\u001B[49m\u001B[43m]\u001B[49m\u001B[38;5;241m.\u001B[39mcopy()\n",
      "File \u001B[1;32m~\\OneDrive\\Dokumente\\GitHub\\BachelorThesis\\venv\\Lib\\site-packages\\pandas\\core\\frame.py:3813\u001B[0m, in \u001B[0;36mDataFrame.__getitem__\u001B[1;34m(self, key)\u001B[0m\n\u001B[0;32m   3811\u001B[0m     \u001B[38;5;28;01mif\u001B[39;00m is_iterator(key):\n\u001B[0;32m   3812\u001B[0m         key \u001B[38;5;241m=\u001B[39m \u001B[38;5;28mlist\u001B[39m(key)\n\u001B[1;32m-> 3813\u001B[0m     indexer \u001B[38;5;241m=\u001B[39m \u001B[38;5;28;43mself\u001B[39;49m\u001B[38;5;241;43m.\u001B[39;49m\u001B[43mcolumns\u001B[49m\u001B[38;5;241;43m.\u001B[39;49m\u001B[43m_get_indexer_strict\u001B[49m\u001B[43m(\u001B[49m\u001B[43mkey\u001B[49m\u001B[43m,\u001B[49m\u001B[43m \u001B[49m\u001B[38;5;124;43m\"\u001B[39;49m\u001B[38;5;124;43mcolumns\u001B[39;49m\u001B[38;5;124;43m\"\u001B[39;49m\u001B[43m)\u001B[49m[\u001B[38;5;241m1\u001B[39m]\n\u001B[0;32m   3815\u001B[0m \u001B[38;5;66;03m# take() does not accept boolean indexers\u001B[39;00m\n\u001B[0;32m   3816\u001B[0m \u001B[38;5;28;01mif\u001B[39;00m \u001B[38;5;28mgetattr\u001B[39m(indexer, \u001B[38;5;124m\"\u001B[39m\u001B[38;5;124mdtype\u001B[39m\u001B[38;5;124m\"\u001B[39m, \u001B[38;5;28;01mNone\u001B[39;00m) \u001B[38;5;241m==\u001B[39m \u001B[38;5;28mbool\u001B[39m:\n",
      "File \u001B[1;32m~\\OneDrive\\Dokumente\\GitHub\\BachelorThesis\\venv\\Lib\\site-packages\\pandas\\core\\indexes\\base.py:6070\u001B[0m, in \u001B[0;36mIndex._get_indexer_strict\u001B[1;34m(self, key, axis_name)\u001B[0m\n\u001B[0;32m   6067\u001B[0m \u001B[38;5;28;01melse\u001B[39;00m:\n\u001B[0;32m   6068\u001B[0m     keyarr, indexer, new_indexer \u001B[38;5;241m=\u001B[39m \u001B[38;5;28mself\u001B[39m\u001B[38;5;241m.\u001B[39m_reindex_non_unique(keyarr)\n\u001B[1;32m-> 6070\u001B[0m \u001B[38;5;28;43mself\u001B[39;49m\u001B[38;5;241;43m.\u001B[39;49m\u001B[43m_raise_if_missing\u001B[49m\u001B[43m(\u001B[49m\u001B[43mkeyarr\u001B[49m\u001B[43m,\u001B[49m\u001B[43m \u001B[49m\u001B[43mindexer\u001B[49m\u001B[43m,\u001B[49m\u001B[43m \u001B[49m\u001B[43maxis_name\u001B[49m\u001B[43m)\u001B[49m\n\u001B[0;32m   6072\u001B[0m keyarr \u001B[38;5;241m=\u001B[39m \u001B[38;5;28mself\u001B[39m\u001B[38;5;241m.\u001B[39mtake(indexer)\n\u001B[0;32m   6073\u001B[0m \u001B[38;5;28;01mif\u001B[39;00m \u001B[38;5;28misinstance\u001B[39m(key, Index):\n\u001B[0;32m   6074\u001B[0m     \u001B[38;5;66;03m# GH 42790 - Preserve name from an Index\u001B[39;00m\n",
      "File \u001B[1;32m~\\OneDrive\\Dokumente\\GitHub\\BachelorThesis\\venv\\Lib\\site-packages\\pandas\\core\\indexes\\base.py:6133\u001B[0m, in \u001B[0;36mIndex._raise_if_missing\u001B[1;34m(self, key, indexer, axis_name)\u001B[0m\n\u001B[0;32m   6130\u001B[0m     \u001B[38;5;28;01mraise\u001B[39;00m \u001B[38;5;167;01mKeyError\u001B[39;00m(\u001B[38;5;124mf\u001B[39m\u001B[38;5;124m\"\u001B[39m\u001B[38;5;124mNone of [\u001B[39m\u001B[38;5;132;01m{\u001B[39;00mkey\u001B[38;5;132;01m}\u001B[39;00m\u001B[38;5;124m] are in the [\u001B[39m\u001B[38;5;132;01m{\u001B[39;00maxis_name\u001B[38;5;132;01m}\u001B[39;00m\u001B[38;5;124m]\u001B[39m\u001B[38;5;124m\"\u001B[39m)\n\u001B[0;32m   6132\u001B[0m not_found \u001B[38;5;241m=\u001B[39m \u001B[38;5;28mlist\u001B[39m(ensure_index(key)[missing_mask\u001B[38;5;241m.\u001B[39mnonzero()[\u001B[38;5;241m0\u001B[39m]]\u001B[38;5;241m.\u001B[39munique())\n\u001B[1;32m-> 6133\u001B[0m \u001B[38;5;28;01mraise\u001B[39;00m \u001B[38;5;167;01mKeyError\u001B[39;00m(\u001B[38;5;124mf\u001B[39m\u001B[38;5;124m\"\u001B[39m\u001B[38;5;132;01m{\u001B[39;00mnot_found\u001B[38;5;132;01m}\u001B[39;00m\u001B[38;5;124m not in index\u001B[39m\u001B[38;5;124m\"\u001B[39m)\n",
      "\u001B[1;31mKeyError\u001B[0m: \"['modified_sequence_vector'] not in index\""
     ]
    }
   ],
   "source": [
    "# Make validation data\n",
    "inference_df = batches_parquet[file_list[1]][[\"precursor_charge\", \"modified_sequence_vector\", \"precursor_intensity\"]].copy()"
   ],
   "metadata": {
    "collapsed": false,
    "ExecuteTime": {
     "start_time": "2023-08-24T11:50:11.963139300Z"
    }
   }
  },
  {
   "cell_type": "code",
   "execution_count": null,
   "outputs": [],
   "source": [
    "inference_df.head(4)"
   ],
   "metadata": {
    "collapsed": false,
    "ExecuteTime": {
     "start_time": "2023-08-24T11:50:13.358337600Z"
    }
   }
  },
  {
   "cell_type": "code",
   "execution_count": null,
   "outputs": [],
   "source": [
    "[len(i) for i in inference_df[\"modified_sequence_vector\"] if len(i) != 50]"
   ],
   "metadata": {
    "collapsed": false,
    "ExecuteTime": {
     "start_time": "2023-08-24T11:50:13.359340600Z"
    }
   }
  },
  {
   "cell_type": "code",
   "execution_count": null,
   "outputs": [],
   "source": [
    "inference_df = inference_df[inference_df['modified_sequence_vector'].apply(lambda x: len(x) <= 50)]"
   ],
   "metadata": {
    "collapsed": false,
    "ExecuteTime": {
     "start_time": "2023-08-24T11:50:13.360342500Z"
    }
   }
  },
  {
   "cell_type": "markdown",
   "source": [],
   "metadata": {
    "collapsed": false
   }
  },
  {
   "cell_type": "code",
   "execution_count": null,
   "outputs": [],
   "source": [
    "[len(i) for i in inference_df[\"modified_sequence_vector\"] if len(i) != 50]"
   ],
   "metadata": {
    "collapsed": false,
    "ExecuteTime": {
     "start_time": "2023-08-24T11:50:13.361848800Z"
    }
   }
  },
  {
   "cell_type": "code",
   "execution_count": null,
   "outputs": [],
   "source": [
    "[i for i in inference_df[\"precursor_charge\"] if i not in [2,3,4]]"
   ],
   "metadata": {
    "collapsed": false,
    "ExecuteTime": {
     "start_time": "2023-08-24T11:50:13.362858200Z"
    }
   }
  },
  {
   "cell_type": "code",
   "execution_count": null,
   "outputs": [],
   "source": [
    "[i for i in inference_df[\"precursor_intensity\"] if i > 1000000000000]"
   ],
   "metadata": {
    "collapsed": false,
    "ExecuteTime": {
     "start_time": "2023-08-24T11:50:13.363865800Z"
    }
   }
  },
  {
   "cell_type": "code",
   "execution_count": null,
   "outputs": [],
   "source": [
    "inference_df"
   ],
   "metadata": {
    "collapsed": false,
    "ExecuteTime": {
     "start_time": "2023-08-24T11:50:13.364866700Z"
    }
   }
  },
  {
   "cell_type": "markdown",
   "source": [],
   "metadata": {
    "collapsed": false
   }
  },
  {
   "cell_type": "code",
   "execution_count": null,
   "outputs": [],
   "source": [
    "inference_df[list(range(0, 50))] = pd.DataFrame(inference_df[\"modified_sequence_vector\"].tolist(), index= inference_df.index)"
   ],
   "metadata": {
    "collapsed": false,
    "ExecuteTime": {
     "start_time": "2023-08-24T11:50:13.365865200Z"
    }
   }
  },
  {
   "cell_type": "code",
   "execution_count": null,
   "outputs": [],
   "source": [
    "inference_df.drop(\"modified_sequence_vector\", axis=1, inplace=True)"
   ],
   "metadata": {
    "collapsed": false,
    "ExecuteTime": {
     "start_time": "2023-08-24T11:50:13.366866700Z"
    }
   }
  },
  {
   "cell_type": "code",
   "execution_count": null,
   "outputs": [],
   "source": [
    "inference_df.head(4)"
   ],
   "metadata": {
    "collapsed": false,
    "ExecuteTime": {
     "start_time": "2023-08-24T11:50:13.367865800Z"
    }
   }
  },
  {
   "cell_type": "code",
   "execution_count": null,
   "outputs": [],
   "source": [
    "inference_ds = tf.convert_to_tensor(inference_df)"
   ],
   "metadata": {
    "collapsed": false,
    "ExecuteTime": {
     "start_time": "2023-08-24T11:50:13.369439200Z"
    }
   }
  },
  {
   "cell_type": "code",
   "execution_count": null,
   "outputs": [],
   "source": [
    "inference_target = inference_ds[:, 0]\n",
    "inference_features = inference_ds[:, 1:]"
   ],
   "metadata": {
    "collapsed": false,
    "ExecuteTime": {
     "start_time": "2023-08-24T11:50:13.369439200Z"
    }
   }
  },
  {
   "cell_type": "code",
   "execution_count": null,
   "outputs": [],
   "source": [
    "inference_target_labels =  np.array([one_hot_precursor(i, charges=charge_ranges) for i in inference_target])"
   ],
   "metadata": {
    "collapsed": false,
    "ExecuteTime": {
     "start_time": "2023-08-24T11:50:13.370977900Z"
    }
   }
  },
  {
   "cell_type": "code",
   "execution_count": null,
   "outputs": [],
   "source": [
    "results = model_cce.evaluate(inference_features, inference_target_labels, batch_size=256)\n",
    "print(\"test loss, test acc:\", results)"
   ],
   "metadata": {
    "collapsed": false,
    "ExecuteTime": {
     "start_time": "2023-08-24T11:50:13.372987500Z"
    }
   }
  },
  {
   "cell_type": "markdown",
   "source": [
    "## Evaluate the models\n",
    "- confusion matrix\n",
    "- accuracy\n",
    "- loss"
   ],
   "metadata": {
    "collapsed": false
   }
  },
  {
   "cell_type": "markdown",
   "source": [
    "Confusion Matrix"
   ],
   "metadata": {
    "collapsed": false
   }
  },
  {
   "cell_type": "code",
   "execution_count": null,
   "outputs": [],
   "source": [
    "import sklearn\n",
    "matrix = sklearn.metrics.confusion_matrix(train_ds_labels.argmax(axis=1), inference_target_labels.argmax(axis=1))"
   ],
   "metadata": {
    "collapsed": false,
    "ExecuteTime": {
     "start_time": "2023-08-24T11:50:13.373983100Z"
    }
   }
  },
  {
   "cell_type": "code",
   "execution_count": null,
   "outputs": [],
   "source": [
    "#!pip install scikit-learn\n",
    "#!pip install numpy --upgrade\n",
    "#!pip install pandas --upgrade\n",
    "#!pip install matplotlib --upgrade\n",
    "from sklearn.metrics import confusion_matrix\n",
    "from sklearn.metrics import classification_report\n",
    "import pandas as pd\n",
    "#do_predictions = model.predict(test_ds)\n",
    "\n",
    "y_pred = []\n",
    "y_true = []\n",
    "\n",
    "# iterate over the dataset\n",
    "for index, i in enumerate(inference_ds):   # use dataset.unbatch() with repeat\n",
    "   print(inference_target_labels[index])\n",
    "   print(inference_features[index])\n",
    "   # append true labels\n",
    "   y_true.append(inference_target_labels[index])\n",
    "   # compute predictions\n",
    "   preds = model_cce.predict(inference_features[index])\n",
    "   # append predicted labels\n",
    "   y_pred.append(np.argmax(preds, axis = -1))\n",
    "# convert the true and predicted labels into tensors\n",
    "true_labels = tf.cast(tf.concat([item for item in y_true], axis = 0), tf.float32)\n",
    "predicted_labels = tf.cast(tf.concat([item for item in y_pred], axis = 0), tf.float32)\n",
    "\n",
    "\n",
    "cm = confusion_matrix(true_labels, predicted_labels)\n",
    "#print(cm)\n",
    "report = classification_report(true_labels,predicted_labels, target_names=class_names)\n",
    "\n",
    "report_dict = classification_report(true_labels, predicted_labels, output_dict=True)\n",
    "#print(report_dict)\n",
    "print(report)\n",
    "\n",
    "#pd.DataFrame(report_dict).transpose()\n"
   ],
   "metadata": {
    "collapsed": false,
    "ExecuteTime": {
     "start_time": "2023-08-24T11:50:13.375984600Z"
    }
   }
  },
  {
   "cell_type": "markdown",
   "source": [
    "Accuracy/ Sens/ Spec"
   ],
   "metadata": {
    "collapsed": false,
    "ExecuteTime": {
     "end_time": "2023-07-24T12:31:25.645324800Z",
     "start_time": "2023-07-24T12:31:25.552652300Z"
    }
   }
  },
  {
   "cell_type": "code",
   "execution_count": null,
   "outputs": [],
   "source": [
    "import keras.backend as K\n",
    "def matthews_correlation(y_true, y_pred):\n",
    "    #print(y_pred.shape, y_true.shape)\n",
    "    y_pred_pos = K.round(K.clip(y_pred, 0, 1))\n",
    "    y_pred_neg = 1 - y_pred_pos\n",
    "\n",
    "    y_pos = K.round(K.clip(y_true, 0, 1))\n",
    "    y_neg = 1 - y_pos\n",
    "\n",
    "    tp = K.sum(K.cast(y_pos * y_pred_pos, 'float32'))\n",
    "    tn = K.sum(K.cast(y_neg * y_pred_neg, 'float32'))\n",
    "    fp = K.sum(K.cast(y_neg * y_pred_pos, 'float32'))\n",
    "    fn = K.sum(K.cast(y_pos * y_pred_neg, 'float32'))\n",
    "\n",
    "    print(\"OVERALL:\")\n",
    "    print(\" Accuracy \", ((tp + tn) / (tp + tn + fp + fn)).numpy())\n",
    "    print(\" Sensitivity \", (tp / (tp + fn)).numpy())\n",
    "    print(\" Specificity \", (tn / (tn + fp)).numpy())\n",
    "\n",
    "    numerator = (tp * tn - fp * fn)\n",
    "    #print(tp.numpy(), fp.numpy())\n",
    "    test = (((tp + fp) * (tp + fn) * (tn + fp) * (tn + fn)))\n",
    "    #print(test)\n",
    "    denominator = K.sqrt(K.cast(test, 'float32'))\n",
    "\n",
    "    return numerator / (denominator + K.epsilon())\n",
    "\n",
    "\n",
    "#print(true_labels, predicted_labels)\n",
    "print(\" matthews_correlation(rounded): \", (matthews_correlation(true_labels, predicted_labels).numpy()))"
   ],
   "metadata": {
    "collapsed": false,
    "ExecuteTime": {
     "start_time": "2023-08-24T11:50:13.376984200Z"
    }
   }
  },
  {
   "cell_type": "markdown",
   "source": [
    "MCC"
   ],
   "metadata": {
    "collapsed": false,
    "ExecuteTime": {
     "end_time": "2023-07-24T12:31:59.929377Z",
     "start_time": "2023-07-24T12:31:45.294917300Z"
    }
   }
  },
  {
   "cell_type": "code",
   "execution_count": null,
   "outputs": [],
   "source": [
    "from sklearn.metrics import matthews_corrcoef\n",
    "\n",
    "print(\"matthews_correlation:\", matthews_corrcoef(true_labels, predicted_labels))"
   ],
   "metadata": {
    "collapsed": false,
    "ExecuteTime": {
     "start_time": "2023-08-24T11:50:13.377983400Z"
    }
   }
  },
  {
   "cell_type": "markdown",
   "source": [
    "Direct eval:"
   ],
   "metadata": {
    "collapsed": false
   }
  },
  {
   "cell_type": "code",
   "execution_count": null,
   "outputs": [],
   "source": [
    "from tensorflow.keras.metrics import Precision, Recall, BinaryAccuracy\n",
    "\n",
    "eval_prec = Precision()\n",
    "eval_rec = Recall()\n",
    "eval_acc = BinaryAccuracy()"
   ],
   "metadata": {
    "collapsed": false,
    "ExecuteTime": {
     "start_time": "2023-08-24T11:50:13.378983200Z"
    }
   }
  },
  {
   "cell_type": "code",
   "execution_count": null,
   "outputs": [],
   "source": [
    "for batch in test_ds.as_numpy_iterator():\n",
    "    X, y = batch\n",
    "    y = tf.keras.utils.to_categorical(y, num_classes=13, dtype='int')\n",
    "    yhat = model.predict(X)\n",
    "    eval_prec.update_state(y, yhat)\n",
    "    eval_rec.update_state(y, yhat)\n",
    "    eval_acc.update_state(y, yhat)"
   ],
   "metadata": {
    "collapsed": false,
    "ExecuteTime": {
     "start_time": "2023-08-24T11:50:13.379983500Z"
    }
   }
  },
  {
   "cell_type": "code",
   "execution_count": null,
   "outputs": [],
   "source": [
    "print(f'Precision: {eval_prec.result().numpy()}, Recall: {eval_rec.result().numpy()}, Accuracy: {eval_acc.result().numpy()}')"
   ],
   "metadata": {
    "collapsed": false,
    "ExecuteTime": {
     "start_time": "2023-08-24T11:50:13.380983200Z"
    }
   }
  }
 ],
 "metadata": {
  "kernelspec": {
   "display_name": "Python 3",
   "language": "python",
   "name": "python3"
  },
  "language_info": {
   "codemirror_mode": {
    "name": "ipython",
    "version": 2
   },
   "file_extension": ".py",
   "mimetype": "text/x-python",
   "name": "python",
   "nbconvert_exporter": "python",
   "pygments_lexer": "ipython2",
   "version": "2.7.6"
  }
 },
 "nbformat": 4,
 "nbformat_minor": 0
}

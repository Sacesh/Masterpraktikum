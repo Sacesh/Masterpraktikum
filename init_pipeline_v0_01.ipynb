{
 "cells": [
  {
   "cell_type": "markdown",
   "source": [
    "Install Prospect dataset:"
   ],
   "metadata": {
    "collapsed": false
   }
  },
  {
   "cell_type": "code",
   "execution_count": 3,
   "metadata": {
    "collapsed": true,
    "ExecuteTime": {
     "end_time": "2023-06-07T13:23:23.648928200Z",
     "start_time": "2023-06-07T13:22:58.100976400Z"
    }
   },
   "outputs": [
    {
     "name": "stdout",
     "output_type": "stream",
     "text": [
      "Collecting git+https://github.com/wilhelm-lab/PROSPECT\n",
      "  Cloning https://github.com/wilhelm-lab/PROSPECT to c:\\users\\micro\\appdata\\local\\temp\\pip-req-build-puxbwmb1\n",
      "  Resolved https://github.com/wilhelm-lab/PROSPECT to commit 46b5e897565d9708f888feed7172904ed6c2d4d1\n",
      "  Preparing metadata (setup.py): started\n",
      "  Preparing metadata (setup.py): finished with status 'done'\n",
      "Collecting spectrum_fundamentals@ git+https://github.com/wilhelm-lab/spectrum_fundamentals.git@main\n",
      "  Cloning https://github.com/wilhelm-lab/spectrum_fundamentals.git (to revision main) to c:\\users\\micro\\appdata\\local\\temp\\pip-install-ot4co9zx\\spectrum-fundamentals_c54e2020da9041c9ad6fd2aefe720d0f\n",
      "  Resolved https://github.com/wilhelm-lab/spectrum_fundamentals.git to commit a0a8d21bb4196e5a968662664330935b1e512040\n",
      "  Installing build dependencies: started\n",
      "  Installing build dependencies: finished with status 'done'\n",
      "  Getting requirements to build wheel: started\n",
      "  Getting requirements to build wheel: finished with status 'done'\n",
      "  Preparing metadata (pyproject.toml): started\n",
      "  Preparing metadata (pyproject.toml): finished with status 'done'\n",
      "Requirement already satisfied: numpy in c:\\users\\micro\\appdata\\local\\programs\\python\\python39\\lib\\site-packages (from prospect-dataset==0.0.1) (1.24.3)\n",
      "Requirement already satisfied: pandas in c:\\users\\micro\\appdata\\local\\programs\\python\\python39\\lib\\site-packages (from prospect-dataset==0.0.1) (1.5.3)\n",
      "Collecting fastparquet\n",
      "  Using cached fastparquet-2023.4.0-cp39-cp39-win_amd64.whl (620 kB)\n",
      "Requirement already satisfied: pyarrow in c:\\users\\micro\\appdata\\roaming\\python\\python39\\site-packages (from prospect-dataset==0.0.1) (6.0.1)\n",
      "Requirement already satisfied: requests in c:\\users\\micro\\appdata\\local\\programs\\python\\python39\\lib\\site-packages (from prospect-dataset==0.0.1) (2.28.2)\n",
      "Collecting bs4\n",
      "  Using cached bs4-0.0.1-py3-none-any.whl\n",
      "Requirement already satisfied: beautifulsoup4 in c:\\users\\micro\\appdata\\local\\programs\\python\\python39\\lib\\site-packages (from bs4->prospect-dataset==0.0.1) (4.11.2)\n",
      "Requirement already satisfied: packaging in c:\\users\\micro\\appdata\\roaming\\python\\python39\\site-packages (from fastparquet->prospect-dataset==0.0.1) (23.0)\n",
      "Requirement already satisfied: fsspec in c:\\users\\micro\\appdata\\local\\programs\\python\\python39\\lib\\site-packages (from fastparquet->prospect-dataset==0.0.1) (2023.5.0)\n",
      "Collecting cramjam>=2.3\n",
      "  Using cached cramjam-2.6.2-cp39-none-win_amd64.whl (1.2 MB)\n",
      "Requirement already satisfied: python-dateutil>=2.8.1 in c:\\users\\micro\\appdata\\roaming\\python\\python39\\site-packages (from pandas->prospect-dataset==0.0.1) (2.8.2)\n",
      "Requirement already satisfied: pytz>=2020.1 in c:\\users\\micro\\appdata\\local\\programs\\python\\python39\\lib\\site-packages (from pandas->prospect-dataset==0.0.1) (2022.7.1)\n",
      "Requirement already satisfied: urllib3<1.27,>=1.21.1 in c:\\users\\micro\\appdata\\local\\programs\\python\\python39\\lib\\site-packages (from requests->prospect-dataset==0.0.1) (1.26.12)\n",
      "Requirement already satisfied: idna<4,>=2.5 in c:\\users\\micro\\appdata\\local\\programs\\python\\python39\\lib\\site-packages (from requests->prospect-dataset==0.0.1) (3.4)\n",
      "Requirement already satisfied: certifi>=2017.4.17 in c:\\users\\micro\\appdata\\local\\programs\\python\\python39\\lib\\site-packages (from requests->prospect-dataset==0.0.1) (2022.9.24)\n",
      "Requirement already satisfied: charset-normalizer<4,>=2 in c:\\users\\micro\\appdata\\local\\programs\\python\\python39\\lib\\site-packages (from requests->prospect-dataset==0.0.1) (3.0.1)\n",
      "Requirement already satisfied: joblib<2.0.0,>=1.0.1 in c:\\users\\micro\\appdata\\local\\programs\\python\\python39\\lib\\site-packages (from spectrum_fundamentals@ git+https://github.com/wilhelm-lab/spectrum_fundamentals.git@main->prospect-dataset==0.0.1) (1.2.0)\n",
      "Requirement already satisfied: scikit-learn<2.0,>=1.0 in c:\\users\\micro\\appdata\\local\\programs\\python\\python39\\lib\\site-packages (from spectrum_fundamentals@ git+https://github.com/wilhelm-lab/spectrum_fundamentals.git@main->prospect-dataset==0.0.1) (1.2.2)\n",
      "Requirement already satisfied: PyYAML>=5.4.1 in c:\\users\\micro\\appdata\\local\\programs\\python\\python39\\lib\\site-packages (from spectrum_fundamentals@ git+https://github.com/wilhelm-lab/spectrum_fundamentals.git@main->prospect-dataset==0.0.1) (6.0)\n",
      "Collecting click>=8.0.0\n",
      "  Using cached click-8.1.3-py3-none-any.whl (96 kB)\n",
      "Collecting rich>=10.3.0\n",
      "  Using cached rich-13.4.1-py3-none-any.whl (239 kB)\n",
      "Collecting moepy<2.0.0,>=1.1.4\n",
      "  Using cached moepy-1.1.4-py3-none-any.whl (25 kB)\n",
      "Requirement already satisfied: colorama in c:\\users\\micro\\appdata\\roaming\\python\\python39\\site-packages (from click>=8.0.0->spectrum_fundamentals@ git+https://github.com/wilhelm-lab/spectrum_fundamentals.git@main->prospect-dataset==0.0.1) (0.4.6)\n",
      "Requirement already satisfied: matplotlib>=3.3.3 in c:\\users\\micro\\appdata\\local\\programs\\python\\python39\\lib\\site-packages (from moepy<2.0.0,>=1.1.4->spectrum_fundamentals@ git+https://github.com/wilhelm-lab/spectrum_fundamentals.git@main->prospect-dataset==0.0.1) (3.7.0)\n",
      "Requirement already satisfied: scipy>=1.6.0 in c:\\users\\micro\\appdata\\local\\programs\\python\\python39\\lib\\site-packages (from moepy<2.0.0,>=1.1.4->spectrum_fundamentals@ git+https://github.com/wilhelm-lab/spectrum_fundamentals.git@main->prospect-dataset==0.0.1) (1.9.1)\n",
      "Requirement already satisfied: tqdm>=4.59.0 in c:\\users\\micro\\appdata\\local\\programs\\python\\python39\\lib\\site-packages (from moepy<2.0.0,>=1.1.4->spectrum_fundamentals@ git+https://github.com/wilhelm-lab/spectrum_fundamentals.git@main->prospect-dataset==0.0.1) (4.64.1)\n",
      "Requirement already satisfied: six>=1.5 in c:\\users\\micro\\appdata\\roaming\\python\\python39\\site-packages (from python-dateutil>=2.8.1->pandas->prospect-dataset==0.0.1) (1.16.0)\n",
      "Collecting markdown-it-py<3.0.0,>=2.2.0\n",
      "  Using cached markdown_it_py-2.2.0-py3-none-any.whl (84 kB)\n",
      "Requirement already satisfied: pygments<3.0.0,>=2.13.0 in c:\\users\\micro\\appdata\\roaming\\python\\python39\\site-packages (from rich>=10.3.0->spectrum_fundamentals@ git+https://github.com/wilhelm-lab/spectrum_fundamentals.git@main->prospect-dataset==0.0.1) (2.14.0)\n",
      "Requirement already satisfied: threadpoolctl>=2.0.0 in c:\\users\\micro\\appdata\\local\\programs\\python\\python39\\lib\\site-packages (from scikit-learn<2.0,>=1.0->spectrum_fundamentals@ git+https://github.com/wilhelm-lab/spectrum_fundamentals.git@main->prospect-dataset==0.0.1) (3.1.0)\n",
      "Requirement already satisfied: soupsieve>1.2 in c:\\users\\micro\\appdata\\local\\programs\\python\\python39\\lib\\site-packages (from beautifulsoup4->bs4->prospect-dataset==0.0.1) (2.4)\n",
      "Collecting mdurl~=0.1\n",
      "  Using cached mdurl-0.1.2-py3-none-any.whl (10.0 kB)\n",
      "Requirement already satisfied: pyparsing>=2.3.1 in c:\\users\\micro\\appdata\\local\\programs\\python\\python39\\lib\\site-packages (from matplotlib>=3.3.3->moepy<2.0.0,>=1.1.4->spectrum_fundamentals@ git+https://github.com/wilhelm-lab/spectrum_fundamentals.git@main->prospect-dataset==0.0.1) (3.0.9)\n",
      "Requirement already satisfied: kiwisolver>=1.0.1 in c:\\users\\micro\\appdata\\local\\programs\\python\\python39\\lib\\site-packages (from matplotlib>=3.3.3->moepy<2.0.0,>=1.1.4->spectrum_fundamentals@ git+https://github.com/wilhelm-lab/spectrum_fundamentals.git@main->prospect-dataset==0.0.1) (1.4.4)\n",
      "Requirement already satisfied: importlib-resources>=3.2.0 in c:\\users\\micro\\appdata\\local\\programs\\python\\python39\\lib\\site-packages (from matplotlib>=3.3.3->moepy<2.0.0,>=1.1.4->spectrum_fundamentals@ git+https://github.com/wilhelm-lab/spectrum_fundamentals.git@main->prospect-dataset==0.0.1) (5.12.0)\n",
      "Requirement already satisfied: contourpy>=1.0.1 in c:\\users\\micro\\appdata\\local\\programs\\python\\python39\\lib\\site-packages (from matplotlib>=3.3.3->moepy<2.0.0,>=1.1.4->spectrum_fundamentals@ git+https://github.com/wilhelm-lab/spectrum_fundamentals.git@main->prospect-dataset==0.0.1) (1.0.7)\n",
      "Requirement already satisfied: pillow>=6.2.0 in c:\\users\\micro\\appdata\\local\\programs\\python\\python39\\lib\\site-packages (from matplotlib>=3.3.3->moepy<2.0.0,>=1.1.4->spectrum_fundamentals@ git+https://github.com/wilhelm-lab/spectrum_fundamentals.git@main->prospect-dataset==0.0.1) (9.4.0)\n",
      "Requirement already satisfied: fonttools>=4.22.0 in c:\\users\\micro\\appdata\\local\\programs\\python\\python39\\lib\\site-packages (from matplotlib>=3.3.3->moepy<2.0.0,>=1.1.4->spectrum_fundamentals@ git+https://github.com/wilhelm-lab/spectrum_fundamentals.git@main->prospect-dataset==0.0.1) (4.38.0)\n",
      "Requirement already satisfied: cycler>=0.10 in c:\\users\\micro\\appdata\\local\\programs\\python\\python39\\lib\\site-packages (from matplotlib>=3.3.3->moepy<2.0.0,>=1.1.4->spectrum_fundamentals@ git+https://github.com/wilhelm-lab/spectrum_fundamentals.git@main->prospect-dataset==0.0.1) (0.11.0)\n",
      "Requirement already satisfied: zipp>=3.1.0 in c:\\users\\micro\\appdata\\local\\programs\\python\\python39\\lib\\site-packages (from importlib-resources>=3.2.0->matplotlib>=3.3.3->moepy<2.0.0,>=1.1.4->spectrum_fundamentals@ git+https://github.com/wilhelm-lab/spectrum_fundamentals.git@main->prospect-dataset==0.0.1) (3.15.0)\n",
      "Building wheels for collected packages: prospect-dataset, spectrum_fundamentals\n",
      "  Building wheel for prospect-dataset (setup.py): started\n",
      "  Building wheel for prospect-dataset (setup.py): finished with status 'done'\n",
      "  Created wheel for prospect-dataset: filename=prospect_dataset-0.0.1-py3-none-any.whl size=18656 sha256=597ff8c5ca6aa6daa5f9f8644bc134dd3f8ea39929bf9f1f81c7b744083acf75\n",
      "  Stored in directory: C:\\Users\\micro\\AppData\\Local\\Temp\\pip-ephem-wheel-cache-b84_2b5y\\wheels\\f4\\e0\\03\\7801130a09fc9a1cf97233fb38b25b0da4a951aa3823916226\n",
      "  Building wheel for spectrum_fundamentals (pyproject.toml): started\n",
      "  Building wheel for spectrum_fundamentals (pyproject.toml): finished with status 'done'\n",
      "  Created wheel for spectrum_fundamentals: filename=spectrum_fundamentals-0.4.0-py3-none-any.whl size=31005 sha256=98a6bd9f5cac5b86a7c1967fa0332e5a74de9f8947ab795162a56eb895e736f9\n",
      "  Stored in directory: C:\\Users\\micro\\AppData\\Local\\Temp\\pip-ephem-wheel-cache-b84_2b5y\\wheels\\67\\5b\\44\\68764180e684378ef39dd4e3d61d3c1723fc33a423167fe59a\n",
      "Successfully built prospect-dataset spectrum_fundamentals\n",
      "Installing collected packages: mdurl, cramjam, click, markdown-it-py, bs4, rich, moepy, fastparquet, spectrum_fundamentals, prospect-dataset\n",
      "Successfully installed bs4-0.0.1 click-8.1.3 cramjam-2.6.2 fastparquet-2023.4.0 markdown-it-py-2.2.0 mdurl-0.1.2 moepy-1.1.4 prospect-dataset-0.0.1 rich-13.4.1 spectrum_fundamentals-0.4.0\n",
      "Note: you may need to restart the kernel to use updated packages.\n"
     ]
    },
    {
     "name": "stderr",
     "output_type": "stream",
     "text": [
      "WARNING: Ignoring invalid distribution -rotobuf (c:\\users\\micro\\appdata\\local\\programs\\python\\python39\\lib\\site-packages)\n",
      "WARNING: Ignoring invalid distribution -rotobuf (c:\\users\\micro\\appdata\\local\\programs\\python\\python39\\lib\\site-packages)\n",
      "  Running command git clone --filter=blob:none --quiet https://github.com/wilhelm-lab/PROSPECT 'C:\\Users\\micro\\AppData\\Local\\Temp\\pip-req-build-puxbwmb1'\n",
      "  Running command git clone --filter=blob:none --quiet https://github.com/wilhelm-lab/spectrum_fundamentals.git 'C:\\Users\\micro\\AppData\\Local\\Temp\\pip-install-ot4co9zx\\spectrum-fundamentals_c54e2020da9041c9ad6fd2aefe720d0f'\n",
      "  Running command git checkout -b main --track origin/main\n",
      "  branch 'main' set up to track 'origin/main'.\n",
      "  Switched to a new branch 'main'\n",
      "WARNING: Ignoring invalid distribution -rotobuf (c:\\users\\micro\\appdata\\local\\programs\\python\\python39\\lib\\site-packages)\n",
      "WARNING: Ignoring invalid distribution -rotobuf (c:\\users\\micro\\appdata\\local\\programs\\python\\python39\\lib\\site-packages)\n",
      "WARNING: Ignoring invalid distribution -rotobuf (c:\\users\\micro\\appdata\\local\\programs\\python\\python39\\lib\\site-packages)\n",
      "WARNING: Ignoring invalid distribution -rotobuf (c:\\users\\micro\\appdata\\local\\programs\\python\\python39\\lib\\site-packages)\n",
      "WARNING: Ignoring invalid distribution -rotobuf (c:\\users\\micro\\appdata\\local\\programs\\python\\python39\\lib\\site-packages)\n",
      "WARNING: Ignoring invalid distribution -rotobuf (c:\\users\\micro\\appdata\\local\\programs\\python\\python39\\lib\\site-packages)\n",
      "WARNING: Ignoring invalid distribution -rotobuf (c:\\users\\micro\\appdata\\local\\programs\\python\\python39\\lib\\site-packages)\n",
      "WARNING: Ignoring invalid distribution -rotobuf (c:\\users\\micro\\appdata\\local\\programs\\python\\python39\\lib\\site-packages)\n",
      "WARNING: Ignoring invalid distribution -rotobuf (c:\\users\\micro\\appdata\\local\\programs\\python\\python39\\lib\\site-packages)\n",
      "WARNING: Ignoring invalid distribution -rotobuf (c:\\users\\micro\\appdata\\local\\programs\\python\\python39\\lib\\site-packages)\n",
      "WARNING: Ignoring invalid distribution -rotobuf (c:\\users\\micro\\appdata\\local\\programs\\python\\python39\\lib\\site-packages)\n",
      "WARNING: Ignoring invalid distribution -rotobuf (c:\\users\\micro\\appdata\\local\\programs\\python\\python39\\lib\\site-packages)\n",
      "WARNING: Ignoring invalid distribution -rotobuf (c:\\users\\micro\\appdata\\local\\programs\\python\\python39\\lib\\site-packages)\n",
      "WARNING: Ignoring invalid distribution -rotobuf (c:\\users\\micro\\appdata\\local\\programs\\python\\python39\\lib\\site-packages)\n",
      "\n",
      "[notice] A new release of pip is available: 23.0.1 -> 23.1.2\n",
      "[notice] To update, run: python.exe -m pip install --upgrade pip\n"
     ]
    }
   ],
   "source": [
    "%pip install git+https://github.com/wilhelm-lab/PROSPECT"
   ]
  },
  {
   "cell_type": "markdown",
   "source": [
    "Download + Import Prospect dataset:"
   ],
   "metadata": {
    "collapsed": false
   }
  },
  {
   "cell_type": "code",
   "execution_count": 4,
   "outputs": [],
   "source": [
    "import prospectdataset as prods"
   ],
   "metadata": {
    "collapsed": false,
    "ExecuteTime": {
     "end_time": "2023-06-07T13:23:23.690502200Z",
     "start_time": "2023-06-07T13:23:23.649932100Z"
    }
   }
  },
  {
   "cell_type": "code",
   "execution_count": 6,
   "outputs": [],
   "source": [
    "#too slow... manually download from\n",
    "#prods.download_dataset('all', \"data/\")"
   ],
   "metadata": {
    "collapsed": false,
    "ExecuteTime": {
     "end_time": "2023-06-07T14:01:02.537595500Z",
     "start_time": "2023-06-07T14:01:02.524084700Z"
    }
   }
  },
  {
   "cell_type": "code",
   "execution_count": 9,
   "outputs": [
    {
     "name": "stderr",
     "output_type": "stream",
     "text": [
      "C:\\Users\\micro\\AppData\\Local\\Programs\\Python\\Python39\\lib\\site-packages\\numpy\\_distributor_init.py:30: UserWarning: loaded more than 1 DLL from .libs:\n",
      "C:\\Users\\micro\\AppData\\Local\\Programs\\Python\\Python39\\lib\\site-packages\\numpy\\.libs\\libopenblas.FB5AE2TYXYH2IJRDKGDGQ3XBKLKTF43H.gfortran-win_amd64.dll\n",
      "C:\\Users\\micro\\AppData\\Local\\Programs\\Python\\Python39\\lib\\site-packages\\numpy\\.libs\\libopenblas64__v0.3.21-gcc_10_3_0.dll\n",
      "  warnings.warn(\"loaded more than 1 DLL from .libs:\"\n"
     ]
    }
   ],
   "source": [
    "import pandas as pd\n",
    "import os"
   ],
   "metadata": {
    "collapsed": false,
    "ExecuteTime": {
     "end_time": "2023-06-07T14:01:45.808483200Z",
     "start_time": "2023-06-07T14:01:45.292652800Z"
    }
   }
  },
  {
   "cell_type": "code",
   "execution_count": 11,
   "outputs": [],
   "source": [
    "df = pd.read_parquet(\"data/Thermo_SRM_Pool_meta_data.parquet\", engine='fastparquet')"
   ],
   "metadata": {
    "collapsed": false,
    "ExecuteTime": {
     "end_time": "2023-06-07T14:02:21.182212100Z",
     "start_time": "2023-06-07T14:02:19.064774100Z"
    }
   }
  },
  {
   "cell_type": "code",
   "execution_count": 12,
   "outputs": [
    {
     "name": "stdout",
     "output_type": "stream",
     "text": [
      "(6080606, 15)\n",
      "                                       raw_file  scan_number  \\\n",
      "0  01640c_BC1-Thermo_SRM_Pool_3_01_01-DDA-1h-R2        34736   \n",
      "1  01640c_BC1-Thermo_SRM_Pool_3_01_01-DDA-1h-R2        25591   \n",
      "2  01640c_BC1-Thermo_SRM_Pool_3_01_01-DDA-1h-R2        24831   \n",
      "3  01640c_BC1-Thermo_SRM_Pool_3_01_01-DDA-1h-R2        34870   \n",
      "\n",
      "      modified_sequence  precursor_charge  precursor_intensity          mz  \\\n",
      "0  LPGSLETYVEQEQGENANDR                 2           29525630.0  1125.01950   \n",
      "1       HGSLQEYLQNDTGSK                 2           13188580.0   838.89737   \n",
      "2        VEEEEEINSELTAR                 2           20663460.0   824.38904   \n",
      "3  LPGSLETYVEQEQGENANDR                 2           19884630.0  1125.01950   \n",
      "\n",
      "   precursor_mz fragmentation mass_analyzer  retention_time  \\\n",
      "0   1125.018331           CID          ITMS          38.411   \n",
      "1    838.894401           HCD          FTMS          30.394   \n",
      "2    824.388401           CID          ITMS          29.737   \n",
      "3   1125.018831           CID          ITMS          38.539   \n",
      "\n",
      "   indexed_retention_time  andromeda_score  peptide_length  \\\n",
      "0               62.827337           447.14              20   \n",
      "1               42.030163           417.84              15   \n",
      "2               40.325817           365.69              14   \n",
      "3               63.159386           365.02              20   \n",
      "\n",
      "   orig_collision_energy  aligned_collision_energy  \n",
      "0                   35.0                 35.000000  \n",
      "1                   28.0                 31.447596  \n",
      "2                   35.0                 35.000000  \n",
      "3                   35.0                 35.000000  \n"
     ]
    }
   ],
   "source": [
    "print(df.shape)\n",
    "print(df.head(4))"
   ],
   "metadata": {
    "collapsed": false,
    "ExecuteTime": {
     "end_time": "2023-06-07T14:02:38.411337100Z",
     "start_time": "2023-06-07T14:02:38.339001400Z"
    }
   }
  },
  {
   "cell_type": "code",
   "execution_count": 13,
   "outputs": [
    {
     "name": "stdout",
     "output_type": "stream",
     "text": [
      "Index(['raw_file', 'scan_number', 'modified_sequence', 'precursor_charge',\n",
      "       'precursor_intensity', 'mz', 'precursor_mz', 'fragmentation',\n",
      "       'mass_analyzer', 'retention_time', 'indexed_retention_time',\n",
      "       'andromeda_score', 'peptide_length', 'orig_collision_energy',\n",
      "       'aligned_collision_energy'],\n",
      "      dtype='object')\n"
     ]
    }
   ],
   "source": [
    "print(df.columns)"
   ],
   "metadata": {
    "collapsed": false,
    "ExecuteTime": {
     "end_time": "2023-06-07T14:04:28.716885800Z",
     "start_time": "2023-06-07T14:04:28.703812300Z"
    }
   }
  },
  {
   "cell_type": "markdown",
   "source": [
    "Needed: modified_sequence, precursor charge, precursor_intensity (abundance), mz"
   ],
   "metadata": {
    "collapsed": false
   }
  },
  {
   "cell_type": "code",
   "execution_count": 17,
   "outputs": [
    {
     "name": "stdout",
     "output_type": "stream",
     "text": [
      "0 2 34736\n"
     ]
    },
    {
     "ename": "KeyError",
     "evalue": "0",
     "output_type": "error",
     "traceback": [
      "\u001B[1;31m---------------------------------------------------------------------------\u001B[0m",
      "\u001B[1;31mKeyError\u001B[0m                                  Traceback (most recent call last)",
      "File \u001B[1;32m~\\AppData\\Local\\Programs\\Python\\Python39\\lib\\site-packages\\pandas\\core\\indexes\\base.py:3802\u001B[0m, in \u001B[0;36mIndex.get_loc\u001B[1;34m(self, key, method, tolerance)\u001B[0m\n\u001B[0;32m   3801\u001B[0m \u001B[38;5;28;01mtry\u001B[39;00m:\n\u001B[1;32m-> 3802\u001B[0m     \u001B[38;5;28;01mreturn\u001B[39;00m \u001B[38;5;28;43mself\u001B[39;49m\u001B[38;5;241;43m.\u001B[39;49m\u001B[43m_engine\u001B[49m\u001B[38;5;241;43m.\u001B[39;49m\u001B[43mget_loc\u001B[49m\u001B[43m(\u001B[49m\u001B[43mcasted_key\u001B[49m\u001B[43m)\u001B[49m\n\u001B[0;32m   3803\u001B[0m \u001B[38;5;28;01mexcept\u001B[39;00m \u001B[38;5;167;01mKeyError\u001B[39;00m \u001B[38;5;28;01mas\u001B[39;00m err:\n",
      "File \u001B[1;32m~\\AppData\\Local\\Programs\\Python\\Python39\\lib\\site-packages\\pandas\\_libs\\index.pyx:138\u001B[0m, in \u001B[0;36mpandas._libs.index.IndexEngine.get_loc\u001B[1;34m()\u001B[0m\n",
      "File \u001B[1;32m~\\AppData\\Local\\Programs\\Python\\Python39\\lib\\site-packages\\pandas\\_libs\\index.pyx:165\u001B[0m, in \u001B[0;36mpandas._libs.index.IndexEngine.get_loc\u001B[1;34m()\u001B[0m\n",
      "File \u001B[1;32mpandas\\_libs\\hashtable_class_helper.pxi:5745\u001B[0m, in \u001B[0;36mpandas._libs.hashtable.PyObjectHashTable.get_item\u001B[1;34m()\u001B[0m\n",
      "File \u001B[1;32mpandas\\_libs\\hashtable_class_helper.pxi:5753\u001B[0m, in \u001B[0;36mpandas._libs.hashtable.PyObjectHashTable.get_item\u001B[1;34m()\u001B[0m\n",
      "\u001B[1;31mKeyError\u001B[0m: 0",
      "\nThe above exception was the direct cause of the following exception:\n",
      "\u001B[1;31mKeyError\u001B[0m                                  Traceback (most recent call last)",
      "Cell \u001B[1;32mIn[17], line 4\u001B[0m\n\u001B[0;32m      2\u001B[0m \u001B[38;5;28;01mif\u001B[39;00m seq \u001B[38;5;241m==\u001B[39m \u001B[38;5;124m\"\u001B[39m\u001B[38;5;124mLPGSLETYVEQEQGENANDR\u001B[39m\u001B[38;5;124m\"\u001B[39m:\n\u001B[0;32m      3\u001B[0m     \u001B[38;5;28mprint\u001B[39m(index, df[\u001B[38;5;124m\"\u001B[39m\u001B[38;5;124mprecursor_charge\u001B[39m\u001B[38;5;124m\"\u001B[39m][index], df[\u001B[38;5;124m\"\u001B[39m\u001B[38;5;124mscan_number\u001B[39m\u001B[38;5;124m\"\u001B[39m][index])\n\u001B[1;32m----> 4\u001B[0m     \u001B[38;5;28mprint\u001B[39m(\u001B[38;5;124m\"\u001B[39m\u001B[38;5;124m---\u001B[39m\u001B[38;5;124m\"\u001B[39m\u001B[38;5;241m+\u001B[39m \u001B[43mdf\u001B[49m\u001B[43m[\u001B[49m\u001B[43mindex\u001B[49m\u001B[43m]\u001B[49m)\n",
      "File \u001B[1;32m~\\AppData\\Local\\Programs\\Python\\Python39\\lib\\site-packages\\pandas\\core\\frame.py:3807\u001B[0m, in \u001B[0;36mDataFrame.__getitem__\u001B[1;34m(self, key)\u001B[0m\n\u001B[0;32m   3805\u001B[0m \u001B[38;5;28;01mif\u001B[39;00m \u001B[38;5;28mself\u001B[39m\u001B[38;5;241m.\u001B[39mcolumns\u001B[38;5;241m.\u001B[39mnlevels \u001B[38;5;241m>\u001B[39m \u001B[38;5;241m1\u001B[39m:\n\u001B[0;32m   3806\u001B[0m     \u001B[38;5;28;01mreturn\u001B[39;00m \u001B[38;5;28mself\u001B[39m\u001B[38;5;241m.\u001B[39m_getitem_multilevel(key)\n\u001B[1;32m-> 3807\u001B[0m indexer \u001B[38;5;241m=\u001B[39m \u001B[38;5;28;43mself\u001B[39;49m\u001B[38;5;241;43m.\u001B[39;49m\u001B[43mcolumns\u001B[49m\u001B[38;5;241;43m.\u001B[39;49m\u001B[43mget_loc\u001B[49m\u001B[43m(\u001B[49m\u001B[43mkey\u001B[49m\u001B[43m)\u001B[49m\n\u001B[0;32m   3808\u001B[0m \u001B[38;5;28;01mif\u001B[39;00m is_integer(indexer):\n\u001B[0;32m   3809\u001B[0m     indexer \u001B[38;5;241m=\u001B[39m [indexer]\n",
      "File \u001B[1;32m~\\AppData\\Local\\Programs\\Python\\Python39\\lib\\site-packages\\pandas\\core\\indexes\\base.py:3804\u001B[0m, in \u001B[0;36mIndex.get_loc\u001B[1;34m(self, key, method, tolerance)\u001B[0m\n\u001B[0;32m   3802\u001B[0m     \u001B[38;5;28;01mreturn\u001B[39;00m \u001B[38;5;28mself\u001B[39m\u001B[38;5;241m.\u001B[39m_engine\u001B[38;5;241m.\u001B[39mget_loc(casted_key)\n\u001B[0;32m   3803\u001B[0m \u001B[38;5;28;01mexcept\u001B[39;00m \u001B[38;5;167;01mKeyError\u001B[39;00m \u001B[38;5;28;01mas\u001B[39;00m err:\n\u001B[1;32m-> 3804\u001B[0m     \u001B[38;5;28;01mraise\u001B[39;00m \u001B[38;5;167;01mKeyError\u001B[39;00m(key) \u001B[38;5;28;01mfrom\u001B[39;00m \u001B[38;5;21;01merr\u001B[39;00m\n\u001B[0;32m   3805\u001B[0m \u001B[38;5;28;01mexcept\u001B[39;00m \u001B[38;5;167;01mTypeError\u001B[39;00m:\n\u001B[0;32m   3806\u001B[0m     \u001B[38;5;66;03m# If we have a listlike key, _check_indexing_error will raise\u001B[39;00m\n\u001B[0;32m   3807\u001B[0m     \u001B[38;5;66;03m#  InvalidIndexError. Otherwise we fall through and re-raise\u001B[39;00m\n\u001B[0;32m   3808\u001B[0m     \u001B[38;5;66;03m#  the TypeError.\u001B[39;00m\n\u001B[0;32m   3809\u001B[0m     \u001B[38;5;28mself\u001B[39m\u001B[38;5;241m.\u001B[39m_check_indexing_error(key)\n",
      "\u001B[1;31mKeyError\u001B[0m: 0"
     ]
    }
   ],
   "source": [
    "for index, seq in enumerate(df[\"modified_sequence\"]):\n",
    "    if seq == \"LPGSLETYVEQEQGENANDR\":\n",
    "        print(index, df[\"precursor_charge\"][index], df[\"scan_number\"][index])\n",
    "        # print whole row\n",
    "        print(\"---\"+ df[index])"
   ],
   "metadata": {
    "collapsed": false,
    "ExecuteTime": {
     "end_time": "2023-06-07T14:10:18.251635500Z",
     "start_time": "2023-06-07T14:10:17.660272100Z"
    }
   }
  }
 ],
 "metadata": {
  "kernelspec": {
   "display_name": "Python 3",
   "language": "python",
   "name": "python3"
  },
  "language_info": {
   "codemirror_mode": {
    "name": "ipython",
    "version": 2
   },
   "file_extension": ".py",
   "mimetype": "text/x-python",
   "name": "python",
   "nbconvert_exporter": "python",
   "pygments_lexer": "ipython2",
   "version": "2.7.6"
  }
 },
 "nbformat": 4,
 "nbformat_minor": 0
}

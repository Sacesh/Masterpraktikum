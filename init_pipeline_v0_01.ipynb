{
 "cells": [
  {
   "cell_type": "markdown",
   "source": [
    "Install Prospect dataset:"
   ],
   "metadata": {
    "collapsed": false
   }
  },
  {
   "cell_type": "code",
   "execution_count": 3,
   "metadata": {
    "collapsed": true,
    "ExecuteTime": {
     "end_time": "2023-06-07T13:23:23.648928200Z",
     "start_time": "2023-06-07T13:22:58.100976400Z"
    }
   },
   "outputs": [
    {
     "name": "stdout",
     "output_type": "stream",
     "text": [
      "Collecting git+https://github.com/wilhelm-lab/PROSPECT\n",
      "  Cloning https://github.com/wilhelm-lab/PROSPECT to c:\\users\\micro\\appdata\\local\\temp\\pip-req-build-puxbwmb1\n",
      "  Resolved https://github.com/wilhelm-lab/PROSPECT to commit 46b5e897565d9708f888feed7172904ed6c2d4d1\n",
      "  Preparing metadata (setup.py): started\n",
      "  Preparing metadata (setup.py): finished with status 'done'\n",
      "Collecting spectrum_fundamentals@ git+https://github.com/wilhelm-lab/spectrum_fundamentals.git@main\n",
      "  Cloning https://github.com/wilhelm-lab/spectrum_fundamentals.git (to revision main) to c:\\users\\micro\\appdata\\local\\temp\\pip-install-ot4co9zx\\spectrum-fundamentals_c54e2020da9041c9ad6fd2aefe720d0f\n",
      "  Resolved https://github.com/wilhelm-lab/spectrum_fundamentals.git to commit a0a8d21bb4196e5a968662664330935b1e512040\n",
      "  Installing build dependencies: started\n",
      "  Installing build dependencies: finished with status 'done'\n",
      "  Getting requirements to build wheel: started\n",
      "  Getting requirements to build wheel: finished with status 'done'\n",
      "  Preparing metadata (pyproject.toml): started\n",
      "  Preparing metadata (pyproject.toml): finished with status 'done'\n",
      "Requirement already satisfied: numpy in c:\\users\\micro\\appdata\\local\\programs\\python\\python39\\lib\\site-packages (from prospect-dataset==0.0.1) (1.24.3)\n",
      "Requirement already satisfied: pandas in c:\\users\\micro\\appdata\\local\\programs\\python\\python39\\lib\\site-packages (from prospect-dataset==0.0.1) (1.5.3)\n",
      "Collecting fastparquet\n",
      "  Using cached fastparquet-2023.4.0-cp39-cp39-win_amd64.whl (620 kB)\n",
      "Requirement already satisfied: pyarrow in c:\\users\\micro\\appdata\\roaming\\python\\python39\\site-packages (from prospect-dataset==0.0.1) (6.0.1)\n",
      "Requirement already satisfied: requests in c:\\users\\micro\\appdata\\local\\programs\\python\\python39\\lib\\site-packages (from prospect-dataset==0.0.1) (2.28.2)\n",
      "Collecting bs4\n",
      "  Using cached bs4-0.0.1-py3-none-any.whl\n",
      "Requirement already satisfied: beautifulsoup4 in c:\\users\\micro\\appdata\\local\\programs\\python\\python39\\lib\\site-packages (from bs4->prospect-dataset==0.0.1) (4.11.2)\n",
      "Requirement already satisfied: packaging in c:\\users\\micro\\appdata\\roaming\\python\\python39\\site-packages (from fastparquet->prospect-dataset==0.0.1) (23.0)\n",
      "Requirement already satisfied: fsspec in c:\\users\\micro\\appdata\\local\\programs\\python\\python39\\lib\\site-packages (from fastparquet->prospect-dataset==0.0.1) (2023.5.0)\n",
      "Collecting cramjam>=2.3\n",
      "  Using cached cramjam-2.6.2-cp39-none-win_amd64.whl (1.2 MB)\n",
      "Requirement already satisfied: python-dateutil>=2.8.1 in c:\\users\\micro\\appdata\\roaming\\python\\python39\\site-packages (from pandas->prospect-dataset==0.0.1) (2.8.2)\n",
      "Requirement already satisfied: pytz>=2020.1 in c:\\users\\micro\\appdata\\local\\programs\\python\\python39\\lib\\site-packages (from pandas->prospect-dataset==0.0.1) (2022.7.1)\n",
      "Requirement already satisfied: urllib3<1.27,>=1.21.1 in c:\\users\\micro\\appdata\\local\\programs\\python\\python39\\lib\\site-packages (from requests->prospect-dataset==0.0.1) (1.26.12)\n",
      "Requirement already satisfied: idna<4,>=2.5 in c:\\users\\micro\\appdata\\local\\programs\\python\\python39\\lib\\site-packages (from requests->prospect-dataset==0.0.1) (3.4)\n",
      "Requirement already satisfied: certifi>=2017.4.17 in c:\\users\\micro\\appdata\\local\\programs\\python\\python39\\lib\\site-packages (from requests->prospect-dataset==0.0.1) (2022.9.24)\n",
      "Requirement already satisfied: charset-normalizer<4,>=2 in c:\\users\\micro\\appdata\\local\\programs\\python\\python39\\lib\\site-packages (from requests->prospect-dataset==0.0.1) (3.0.1)\n",
      "Requirement already satisfied: joblib<2.0.0,>=1.0.1 in c:\\users\\micro\\appdata\\local\\programs\\python\\python39\\lib\\site-packages (from spectrum_fundamentals@ git+https://github.com/wilhelm-lab/spectrum_fundamentals.git@main->prospect-dataset==0.0.1) (1.2.0)\n",
      "Requirement already satisfied: scikit-learn<2.0,>=1.0 in c:\\users\\micro\\appdata\\local\\programs\\python\\python39\\lib\\site-packages (from spectrum_fundamentals@ git+https://github.com/wilhelm-lab/spectrum_fundamentals.git@main->prospect-dataset==0.0.1) (1.2.2)\n",
      "Requirement already satisfied: PyYAML>=5.4.1 in c:\\users\\micro\\appdata\\local\\programs\\python\\python39\\lib\\site-packages (from spectrum_fundamentals@ git+https://github.com/wilhelm-lab/spectrum_fundamentals.git@main->prospect-dataset==0.0.1) (6.0)\n",
      "Collecting click>=8.0.0\n",
      "  Using cached click-8.1.3-py3-none-any.whl (96 kB)\n",
      "Collecting rich>=10.3.0\n",
      "  Using cached rich-13.4.1-py3-none-any.whl (239 kB)\n",
      "Collecting moepy<2.0.0,>=1.1.4\n",
      "  Using cached moepy-1.1.4-py3-none-any.whl (25 kB)\n",
      "Requirement already satisfied: colorama in c:\\users\\micro\\appdata\\roaming\\python\\python39\\site-packages (from click>=8.0.0->spectrum_fundamentals@ git+https://github.com/wilhelm-lab/spectrum_fundamentals.git@main->prospect-dataset==0.0.1) (0.4.6)\n",
      "Requirement already satisfied: matplotlib>=3.3.3 in c:\\users\\micro\\appdata\\local\\programs\\python\\python39\\lib\\site-packages (from moepy<2.0.0,>=1.1.4->spectrum_fundamentals@ git+https://github.com/wilhelm-lab/spectrum_fundamentals.git@main->prospect-dataset==0.0.1) (3.7.0)\n",
      "Requirement already satisfied: scipy>=1.6.0 in c:\\users\\micro\\appdata\\local\\programs\\python\\python39\\lib\\site-packages (from moepy<2.0.0,>=1.1.4->spectrum_fundamentals@ git+https://github.com/wilhelm-lab/spectrum_fundamentals.git@main->prospect-dataset==0.0.1) (1.9.1)\n",
      "Requirement already satisfied: tqdm>=4.59.0 in c:\\users\\micro\\appdata\\local\\programs\\python\\python39\\lib\\site-packages (from moepy<2.0.0,>=1.1.4->spectrum_fundamentals@ git+https://github.com/wilhelm-lab/spectrum_fundamentals.git@main->prospect-dataset==0.0.1) (4.64.1)\n",
      "Requirement already satisfied: six>=1.5 in c:\\users\\micro\\appdata\\roaming\\python\\python39\\site-packages (from python-dateutil>=2.8.1->pandas->prospect-dataset==0.0.1) (1.16.0)\n",
      "Collecting markdown-it-py<3.0.0,>=2.2.0\n",
      "  Using cached markdown_it_py-2.2.0-py3-none-any.whl (84 kB)\n",
      "Requirement already satisfied: pygments<3.0.0,>=2.13.0 in c:\\users\\micro\\appdata\\roaming\\python\\python39\\site-packages (from rich>=10.3.0->spectrum_fundamentals@ git+https://github.com/wilhelm-lab/spectrum_fundamentals.git@main->prospect-dataset==0.0.1) (2.14.0)\n",
      "Requirement already satisfied: threadpoolctl>=2.0.0 in c:\\users\\micro\\appdata\\local\\programs\\python\\python39\\lib\\site-packages (from scikit-learn<2.0,>=1.0->spectrum_fundamentals@ git+https://github.com/wilhelm-lab/spectrum_fundamentals.git@main->prospect-dataset==0.0.1) (3.1.0)\n",
      "Requirement already satisfied: soupsieve>1.2 in c:\\users\\micro\\appdata\\local\\programs\\python\\python39\\lib\\site-packages (from beautifulsoup4->bs4->prospect-dataset==0.0.1) (2.4)\n",
      "Collecting mdurl~=0.1\n",
      "  Using cached mdurl-0.1.2-py3-none-any.whl (10.0 kB)\n",
      "Requirement already satisfied: pyparsing>=2.3.1 in c:\\users\\micro\\appdata\\local\\programs\\python\\python39\\lib\\site-packages (from matplotlib>=3.3.3->moepy<2.0.0,>=1.1.4->spectrum_fundamentals@ git+https://github.com/wilhelm-lab/spectrum_fundamentals.git@main->prospect-dataset==0.0.1) (3.0.9)\n",
      "Requirement already satisfied: kiwisolver>=1.0.1 in c:\\users\\micro\\appdata\\local\\programs\\python\\python39\\lib\\site-packages (from matplotlib>=3.3.3->moepy<2.0.0,>=1.1.4->spectrum_fundamentals@ git+https://github.com/wilhelm-lab/spectrum_fundamentals.git@main->prospect-dataset==0.0.1) (1.4.4)\n",
      "Requirement already satisfied: importlib-resources>=3.2.0 in c:\\users\\micro\\appdata\\local\\programs\\python\\python39\\lib\\site-packages (from matplotlib>=3.3.3->moepy<2.0.0,>=1.1.4->spectrum_fundamentals@ git+https://github.com/wilhelm-lab/spectrum_fundamentals.git@main->prospect-dataset==0.0.1) (5.12.0)\n",
      "Requirement already satisfied: contourpy>=1.0.1 in c:\\users\\micro\\appdata\\local\\programs\\python\\python39\\lib\\site-packages (from matplotlib>=3.3.3->moepy<2.0.0,>=1.1.4->spectrum_fundamentals@ git+https://github.com/wilhelm-lab/spectrum_fundamentals.git@main->prospect-dataset==0.0.1) (1.0.7)\n",
      "Requirement already satisfied: pillow>=6.2.0 in c:\\users\\micro\\appdata\\local\\programs\\python\\python39\\lib\\site-packages (from matplotlib>=3.3.3->moepy<2.0.0,>=1.1.4->spectrum_fundamentals@ git+https://github.com/wilhelm-lab/spectrum_fundamentals.git@main->prospect-dataset==0.0.1) (9.4.0)\n",
      "Requirement already satisfied: fonttools>=4.22.0 in c:\\users\\micro\\appdata\\local\\programs\\python\\python39\\lib\\site-packages (from matplotlib>=3.3.3->moepy<2.0.0,>=1.1.4->spectrum_fundamentals@ git+https://github.com/wilhelm-lab/spectrum_fundamentals.git@main->prospect-dataset==0.0.1) (4.38.0)\n",
      "Requirement already satisfied: cycler>=0.10 in c:\\users\\micro\\appdata\\local\\programs\\python\\python39\\lib\\site-packages (from matplotlib>=3.3.3->moepy<2.0.0,>=1.1.4->spectrum_fundamentals@ git+https://github.com/wilhelm-lab/spectrum_fundamentals.git@main->prospect-dataset==0.0.1) (0.11.0)\n",
      "Requirement already satisfied: zipp>=3.1.0 in c:\\users\\micro\\appdata\\local\\programs\\python\\python39\\lib\\site-packages (from importlib-resources>=3.2.0->matplotlib>=3.3.3->moepy<2.0.0,>=1.1.4->spectrum_fundamentals@ git+https://github.com/wilhelm-lab/spectrum_fundamentals.git@main->prospect-dataset==0.0.1) (3.15.0)\n",
      "Building wheels for collected packages: prospect-dataset, spectrum_fundamentals\n",
      "  Building wheel for prospect-dataset (setup.py): started\n",
      "  Building wheel for prospect-dataset (setup.py): finished with status 'done'\n",
      "  Created wheel for prospect-dataset: filename=prospect_dataset-0.0.1-py3-none-any.whl size=18656 sha256=597ff8c5ca6aa6daa5f9f8644bc134dd3f8ea39929bf9f1f81c7b744083acf75\n",
      "  Stored in directory: C:\\Users\\micro\\AppData\\Local\\Temp\\pip-ephem-wheel-cache-b84_2b5y\\wheels\\f4\\e0\\03\\7801130a09fc9a1cf97233fb38b25b0da4a951aa3823916226\n",
      "  Building wheel for spectrum_fundamentals (pyproject.toml): started\n",
      "  Building wheel for spectrum_fundamentals (pyproject.toml): finished with status 'done'\n",
      "  Created wheel for spectrum_fundamentals: filename=spectrum_fundamentals-0.4.0-py3-none-any.whl size=31005 sha256=98a6bd9f5cac5b86a7c1967fa0332e5a74de9f8947ab795162a56eb895e736f9\n",
      "  Stored in directory: C:\\Users\\micro\\AppData\\Local\\Temp\\pip-ephem-wheel-cache-b84_2b5y\\wheels\\67\\5b\\44\\68764180e684378ef39dd4e3d61d3c1723fc33a423167fe59a\n",
      "Successfully built prospect-dataset spectrum_fundamentals\n",
      "Installing collected packages: mdurl, cramjam, click, markdown-it-py, bs4, rich, moepy, fastparquet, spectrum_fundamentals, prospect-dataset\n",
      "Successfully installed bs4-0.0.1 click-8.1.3 cramjam-2.6.2 fastparquet-2023.4.0 markdown-it-py-2.2.0 mdurl-0.1.2 moepy-1.1.4 prospect-dataset-0.0.1 rich-13.4.1 spectrum_fundamentals-0.4.0\n",
      "Note: you may need to restart the kernel to use updated packages.\n"
     ]
    },
    {
     "name": "stderr",
     "output_type": "stream",
     "text": [
      "WARNING: Ignoring invalid distribution -rotobuf (c:\\users\\micro\\appdata\\local\\programs\\python\\python39\\lib\\site-packages)\n",
      "WARNING: Ignoring invalid distribution -rotobuf (c:\\users\\micro\\appdata\\local\\programs\\python\\python39\\lib\\site-packages)\n",
      "  Running command git clone --filter=blob:none --quiet https://github.com/wilhelm-lab/PROSPECT 'C:\\Users\\micro\\AppData\\Local\\Temp\\pip-req-build-puxbwmb1'\n",
      "  Running command git clone --filter=blob:none --quiet https://github.com/wilhelm-lab/spectrum_fundamentals.git 'C:\\Users\\micro\\AppData\\Local\\Temp\\pip-install-ot4co9zx\\spectrum-fundamentals_c54e2020da9041c9ad6fd2aefe720d0f'\n",
      "  Running command git checkout -b main --track origin/main\n",
      "  branch 'main' set up to track 'origin/main'.\n",
      "  Switched to a new branch 'main'\n",
      "WARNING: Ignoring invalid distribution -rotobuf (c:\\users\\micro\\appdata\\local\\programs\\python\\python39\\lib\\site-packages)\n",
      "WARNING: Ignoring invalid distribution -rotobuf (c:\\users\\micro\\appdata\\local\\programs\\python\\python39\\lib\\site-packages)\n",
      "WARNING: Ignoring invalid distribution -rotobuf (c:\\users\\micro\\appdata\\local\\programs\\python\\python39\\lib\\site-packages)\n",
      "WARNING: Ignoring invalid distribution -rotobuf (c:\\users\\micro\\appdata\\local\\programs\\python\\python39\\lib\\site-packages)\n",
      "WARNING: Ignoring invalid distribution -rotobuf (c:\\users\\micro\\appdata\\local\\programs\\python\\python39\\lib\\site-packages)\n",
      "WARNING: Ignoring invalid distribution -rotobuf (c:\\users\\micro\\appdata\\local\\programs\\python\\python39\\lib\\site-packages)\n",
      "WARNING: Ignoring invalid distribution -rotobuf (c:\\users\\micro\\appdata\\local\\programs\\python\\python39\\lib\\site-packages)\n",
      "WARNING: Ignoring invalid distribution -rotobuf (c:\\users\\micro\\appdata\\local\\programs\\python\\python39\\lib\\site-packages)\n",
      "WARNING: Ignoring invalid distribution -rotobuf (c:\\users\\micro\\appdata\\local\\programs\\python\\python39\\lib\\site-packages)\n",
      "WARNING: Ignoring invalid distribution -rotobuf (c:\\users\\micro\\appdata\\local\\programs\\python\\python39\\lib\\site-packages)\n",
      "WARNING: Ignoring invalid distribution -rotobuf (c:\\users\\micro\\appdata\\local\\programs\\python\\python39\\lib\\site-packages)\n",
      "WARNING: Ignoring invalid distribution -rotobuf (c:\\users\\micro\\appdata\\local\\programs\\python\\python39\\lib\\site-packages)\n",
      "WARNING: Ignoring invalid distribution -rotobuf (c:\\users\\micro\\appdata\\local\\programs\\python\\python39\\lib\\site-packages)\n",
      "WARNING: Ignoring invalid distribution -rotobuf (c:\\users\\micro\\appdata\\local\\programs\\python\\python39\\lib\\site-packages)\n",
      "\n",
      "[notice] A new release of pip is available: 23.0.1 -> 23.1.2\n",
      "[notice] To update, run: python.exe -m pip install --upgrade pip\n"
     ]
    }
   ],
   "source": [
    "%pip install git+https://github.com/wilhelm-lab/PROSPECT"
   ]
  },
  {
   "cell_type": "markdown",
   "source": [
    "Download + Import Prospect dataset:"
   ],
   "metadata": {
    "collapsed": false
   }
  },
  {
   "cell_type": "code",
   "execution_count": 4,
   "outputs": [],
   "source": [
    "import prospectdataset as prods"
   ],
   "metadata": {
    "collapsed": false,
    "ExecuteTime": {
     "end_time": "2023-06-07T13:23:23.690502200Z",
     "start_time": "2023-06-07T13:23:23.649932100Z"
    }
   }
  },
  {
   "cell_type": "code",
   "execution_count": 6,
   "outputs": [],
   "source": [
    "#too slow... manually download from\n",
    "#prods.download_dataset('all', \"data/\")"
   ],
   "metadata": {
    "collapsed": false,
    "ExecuteTime": {
     "end_time": "2023-06-07T14:01:02.537595500Z",
     "start_time": "2023-06-07T14:01:02.524084700Z"
    }
   }
  },
  {
   "cell_type": "code",
   "execution_count": 9,
   "outputs": [
    {
     "name": "stderr",
     "output_type": "stream",
     "text": [
      "C:\\Users\\micro\\AppData\\Local\\Programs\\Python\\Python39\\lib\\site-packages\\numpy\\_distributor_init.py:30: UserWarning: loaded more than 1 DLL from .libs:\n",
      "C:\\Users\\micro\\AppData\\Local\\Programs\\Python\\Python39\\lib\\site-packages\\numpy\\.libs\\libopenblas.FB5AE2TYXYH2IJRDKGDGQ3XBKLKTF43H.gfortran-win_amd64.dll\n",
      "C:\\Users\\micro\\AppData\\Local\\Programs\\Python\\Python39\\lib\\site-packages\\numpy\\.libs\\libopenblas64__v0.3.21-gcc_10_3_0.dll\n",
      "  warnings.warn(\"loaded more than 1 DLL from .libs:\"\n"
     ]
    }
   ],
   "source": [
    "import pandas as pd\n",
    "import os"
   ],
   "metadata": {
    "collapsed": false,
    "ExecuteTime": {
     "end_time": "2023-06-07T14:01:45.808483200Z",
     "start_time": "2023-06-07T14:01:45.292652800Z"
    }
   }
  },
  {
   "cell_type": "code",
   "execution_count": 11,
   "outputs": [],
   "source": [
    "df = pd.read_parquet(\"data/Thermo_SRM_Pool_meta_data.parquet\", engine='fastparquet')"
   ],
   "metadata": {
    "collapsed": false,
    "ExecuteTime": {
     "end_time": "2023-06-07T14:02:21.182212100Z",
     "start_time": "2023-06-07T14:02:19.064774100Z"
    }
   }
  },
  {
   "cell_type": "code",
   "execution_count": 12,
   "outputs": [
    {
     "name": "stdout",
     "output_type": "stream",
     "text": [
      "(6080606, 15)\n",
      "                                       raw_file  scan_number  \\\n",
      "0  01640c_BC1-Thermo_SRM_Pool_3_01_01-DDA-1h-R2        34736   \n",
      "1  01640c_BC1-Thermo_SRM_Pool_3_01_01-DDA-1h-R2        25591   \n",
      "2  01640c_BC1-Thermo_SRM_Pool_3_01_01-DDA-1h-R2        24831   \n",
      "3  01640c_BC1-Thermo_SRM_Pool_3_01_01-DDA-1h-R2        34870   \n",
      "\n",
      "      modified_sequence  precursor_charge  precursor_intensity          mz  \\\n",
      "0  LPGSLETYVEQEQGENANDR                 2           29525630.0  1125.01950   \n",
      "1       HGSLQEYLQNDTGSK                 2           13188580.0   838.89737   \n",
      "2        VEEEEEINSELTAR                 2           20663460.0   824.38904   \n",
      "3  LPGSLETYVEQEQGENANDR                 2           19884630.0  1125.01950   \n",
      "\n",
      "   precursor_mz fragmentation mass_analyzer  retention_time  \\\n",
      "0   1125.018331           CID          ITMS          38.411   \n",
      "1    838.894401           HCD          FTMS          30.394   \n",
      "2    824.388401           CID          ITMS          29.737   \n",
      "3   1125.018831           CID          ITMS          38.539   \n",
      "\n",
      "   indexed_retention_time  andromeda_score  peptide_length  \\\n",
      "0               62.827337           447.14              20   \n",
      "1               42.030163           417.84              15   \n",
      "2               40.325817           365.69              14   \n",
      "3               63.159386           365.02              20   \n",
      "\n",
      "   orig_collision_energy  aligned_collision_energy  \n",
      "0                   35.0                 35.000000  \n",
      "1                   28.0                 31.447596  \n",
      "2                   35.0                 35.000000  \n",
      "3                   35.0                 35.000000  \n"
     ]
    }
   ],
   "source": [
    "print(df.shape)\n",
    "print(df.head(4))"
   ],
   "metadata": {
    "collapsed": false,
    "ExecuteTime": {
     "end_time": "2023-06-07T14:02:38.411337100Z",
     "start_time": "2023-06-07T14:02:38.339001400Z"
    }
   }
  },
  {
   "cell_type": "code",
   "execution_count": 13,
   "outputs": [
    {
     "name": "stdout",
     "output_type": "stream",
     "text": [
      "Index(['raw_file', 'scan_number', 'modified_sequence', 'precursor_charge',\n",
      "       'precursor_intensity', 'mz', 'precursor_mz', 'fragmentation',\n",
      "       'mass_analyzer', 'retention_time', 'indexed_retention_time',\n",
      "       'andromeda_score', 'peptide_length', 'orig_collision_energy',\n",
      "       'aligned_collision_energy'],\n",
      "      dtype='object')\n"
     ]
    }
   ],
   "source": [
    "print(df.columns)"
   ],
   "metadata": {
    "collapsed": false,
    "ExecuteTime": {
     "end_time": "2023-06-07T14:04:28.716885800Z",
     "start_time": "2023-06-07T14:04:28.703812300Z"
    }
   }
  },
  {
   "cell_type": "markdown",
   "source": [
    "Needed: modified_sequence, precursor charge, precursor_intensity (abundance), mz"
   ],
   "metadata": {
    "collapsed": false
   }
  },
  {
   "cell_type": "code",
   "execution_count": 23,
   "outputs": [
    {
     "name": "stdout",
     "output_type": "stream",
     "text": [
      "0 2 34736\n",
      "---raw_file                    01640c_BC1-Thermo_SRM_Pool_3_01_01-DDA-1h-R2\n",
      "scan_number                                                        34736\n",
      "modified_sequence                                   LPGSLETYVEQEQGENANDR\n",
      "precursor_charge                                                       2\n",
      "precursor_intensity                                           29525630.0\n",
      "mz                                                             1125.0195\n",
      "precursor_mz                                                 1125.018331\n",
      "fragmentation                                                        CID\n",
      "mass_analyzer                                                       ITMS\n",
      "retention_time                                                    38.411\n",
      "indexed_retention_time                                         62.827337\n",
      "andromeda_score                                                   447.14\n",
      "peptide_length                                                        20\n",
      "orig_collision_energy                                               35.0\n",
      "aligned_collision_energy                                            35.0\n",
      "      ------------------------\n",
      "3 2 34870\n",
      "---raw_file                    01640c_BC1-Thermo_SRM_Pool_3_01_01-DDA-1h-R2\n",
      "scan_number                                                        34870\n",
      "modified_sequence                                   LPGSLETYVEQEQGENANDR\n",
      "precursor_charge                                                       2\n",
      "precursor_intensity                                           19884630.0\n",
      "mz                                                             1125.0195\n",
      "precursor_mz                                                 1125.018831\n",
      "fragmentation                                                        CID\n",
      "mass_analyzer                                                       ITMS\n",
      "retention_time                                                    38.539\n",
      "indexed_retention_time                                         63.159386\n",
      "andromeda_score                                                   365.02\n",
      "peptide_length                                                        20\n",
      "orig_collision_energy                                               35.0\n",
      "aligned_collision_energy                                            35.0\n",
      "      ------------------------\n",
      "116 2 34735\n",
      "---raw_file                    01640c_BC1-Thermo_SRM_Pool_3_01_01-DDA-1h-R2\n",
      "scan_number                                                        34735\n",
      "modified_sequence                                   LPGSLETYVEQEQGENANDR\n",
      "precursor_charge                                                       2\n",
      "precursor_intensity                                           29525630.0\n",
      "mz                                                             1125.0195\n",
      "precursor_mz                                                 1125.018331\n",
      "fragmentation                                                        HCD\n",
      "mass_analyzer                                                       FTMS\n",
      "retention_time                                                    38.411\n",
      "indexed_retention_time                                         62.827337\n",
      "andromeda_score                                                   261.19\n",
      "peptide_length                                                        20\n",
      "orig_collision_energy                                               28.0\n",
      "aligned_collision_energy                                       31.447596\n",
      "      ------------------------\n",
      "137 2 34869\n",
      "---raw_file                    01640c_BC1-Thermo_SRM_Pool_3_01_01-DDA-1h-R2\n",
      "scan_number                                                        34869\n",
      "modified_sequence                                   LPGSLETYVEQEQGENANDR\n",
      "precursor_charge                                                       2\n",
      "precursor_intensity                                           19884630.0\n",
      "mz                                                             1125.0195\n",
      "precursor_mz                                                 1125.018831\n",
      "fragmentation                                                        HCD\n",
      "mass_analyzer                                                       FTMS\n",
      "retention_time                                                    38.539\n",
      "indexed_retention_time                                         63.159386\n",
      "andromeda_score                                                   254.82\n",
      "peptide_length                                                        20\n",
      "orig_collision_energy                                               28.0\n",
      "aligned_collision_energy                                       31.447596\n",
      "      ------------------------\n",
      "382 2 35054\n",
      "---raw_file                    01640c_BC1-Thermo_SRM_Pool_3_01_01-DDA-1h-R2\n",
      "scan_number                                                        35054\n",
      "modified_sequence                                   LPGSLETYVEQEQGENANDR\n",
      "precursor_charge                                                       2\n",
      "precursor_intensity                                            4870492.0\n",
      "mz                                                             1125.0195\n",
      "precursor_mz                                                 1125.016729\n",
      "fragmentation                                                        CID\n",
      "mass_analyzer                                                       ITMS\n",
      "retention_time                                                      38.7\n",
      "indexed_retention_time                                         63.577042\n",
      "andromeda_score                                                   212.26\n",
      "peptide_length                                                        20\n",
      "orig_collision_energy                                               35.0\n",
      "aligned_collision_energy                                            35.0\n",
      "      ------------------------\n",
      "1316 2 35053\n",
      "---raw_file                    01640c_BC1-Thermo_SRM_Pool_3_01_01-DDA-1h-R2\n",
      "scan_number                                                        35053\n",
      "modified_sequence                                   LPGSLETYVEQEQGENANDR\n",
      "precursor_charge                                                       2\n",
      "precursor_intensity                                            4870492.0\n",
      "mz                                                             1125.0195\n",
      "precursor_mz                                                 1125.016729\n",
      "fragmentation                                                        HCD\n",
      "mass_analyzer                                                       FTMS\n",
      "retention_time                                                    38.699\n",
      "indexed_retention_time                                         63.574448\n",
      "andromeda_score                                                   156.08\n",
      "peptide_length                                                        20\n",
      "orig_collision_energy                                               28.0\n",
      "aligned_collision_energy                                       31.447596\n",
      "      ------------------------\n",
      "637293 2 35499\n",
      "---raw_file                    01640c_BC1-Thermo_SRM_Pool_3_01_01-2xIT_2xHCD-...\n",
      "scan_number                                                             35499\n",
      "modified_sequence                                        LPGSLETYVEQEQGENANDR\n",
      "precursor_charge                                                            2\n",
      "precursor_intensity                                                 3375284.0\n",
      "mz                                                                  1125.0195\n",
      "precursor_mz                                                      1125.016529\n",
      "fragmentation                                                             CID\n",
      "mass_analyzer                                                            ITMS\n",
      "retention_time                                                         39.199\n",
      "indexed_retention_time                                              62.521576\n",
      "andromeda_score                                                        324.29\n",
      "peptide_length                                                             20\n",
      "orig_collision_energy                                                    35.0\n",
      "aligned_collision_energy                                                 35.0\n",
      "      ------------------------\n",
      "637377 2 35438\n",
      "---raw_file                    01640c_BC1-Thermo_SRM_Pool_3_01_01-2xIT_2xHCD-...\n",
      "scan_number                                                             35438\n",
      "modified_sequence                                        LPGSLETYVEQEQGENANDR\n",
      "precursor_charge                                                            2\n",
      "precursor_intensity                                                 4693252.0\n",
      "mz                                                                  1125.0195\n",
      "precursor_mz                                                      1125.016729\n",
      "fragmentation                                                             CID\n",
      "mass_analyzer                                                            ITMS\n",
      "retention_time                                                         39.149\n",
      "indexed_retention_time                                              62.394659\n",
      "andromeda_score                                                        300.86\n",
      "peptide_length                                                             20\n",
      "orig_collision_energy                                                    35.0\n",
      "aligned_collision_energy                                                 35.0\n",
      "      ------------------------\n",
      "637533 2 35385\n",
      "---raw_file                    01640c_BC1-Thermo_SRM_Pool_3_01_01-2xIT_2xHCD-...\n",
      "scan_number                                                             35385\n",
      "modified_sequence                                        LPGSLETYVEQEQGENANDR\n",
      "precursor_charge                                                            2\n",
      "precursor_intensity                                                 4392028.0\n",
      "mz                                                                  1125.0195\n",
      "precursor_mz                                                      1125.016629\n",
      "fragmentation                                                             CID\n",
      "mass_analyzer                                                            ITMS\n",
      "retention_time                                                         39.105\n",
      "indexed_retention_time                                              62.282973\n",
      "andromeda_score                                                        277.64\n",
      "peptide_length                                                             20\n",
      "orig_collision_energy                                                    35.0\n",
      "aligned_collision_energy                                                 35.0\n",
      "      ------------------------\n",
      "638253 2 35500\n",
      "---raw_file                    01640c_BC1-Thermo_SRM_Pool_3_01_01-2xIT_2xHCD-...\n",
      "scan_number                                                             35500\n",
      "modified_sequence                                        LPGSLETYVEQEQGENANDR\n",
      "precursor_charge                                                            2\n",
      "precursor_intensity                                                 3375284.0\n",
      "mz                                                                  1125.0195\n",
      "precursor_mz                                                      1125.016529\n",
      "fragmentation                                                             HCD\n",
      "mass_analyzer                                                            ITMS\n",
      "retention_time                                                         39.199\n",
      "indexed_retention_time                                              62.521576\n",
      "andromeda_score                                                        232.37\n",
      "peptide_length                                                             20\n",
      "orig_collision_energy                                                    28.0\n",
      "aligned_collision_energy                                            30.026442\n",
      "      ------------------------\n",
      "638490 2 35439\n",
      "---raw_file                    01640c_BC1-Thermo_SRM_Pool_3_01_01-2xIT_2xHCD-...\n",
      "scan_number                                                             35439\n",
      "modified_sequence                                        LPGSLETYVEQEQGENANDR\n",
      "precursor_charge                                                            2\n",
      "precursor_intensity                                                 4693252.0\n",
      "mz                                                                  1125.0195\n",
      "precursor_mz                                                      1125.016729\n",
      "fragmentation                                                             HCD\n",
      "mass_analyzer                                                            ITMS\n",
      "retention_time                                                         39.149\n",
      "indexed_retention_time                                              62.394659\n",
      "andromeda_score                                                        222.93\n",
      "peptide_length                                                             20\n",
      "orig_collision_energy                                                    28.0\n",
      "aligned_collision_energy                                            30.026442\n",
      "      ------------------------\n",
      "639203 2 35386\n",
      "---raw_file                    01640c_BC1-Thermo_SRM_Pool_3_01_01-2xIT_2xHCD-...\n",
      "scan_number                                                             35386\n",
      "modified_sequence                                        LPGSLETYVEQEQGENANDR\n",
      "precursor_charge                                                            2\n",
      "precursor_intensity                                                 4392028.0\n",
      "mz                                                                  1125.0195\n",
      "precursor_mz                                                      1125.016629\n",
      "fragmentation                                                             HCD\n",
      "mass_analyzer                                                            ITMS\n",
      "retention_time                                                         39.105\n",
      "indexed_retention_time                                              62.282973\n",
      "andromeda_score                                                         205.0\n",
      "peptide_length                                                             20\n",
      "orig_collision_energy                                                    28.0\n",
      "aligned_collision_energy                                            30.026442\n",
      "      ------------------------\n",
      "639858 2 35735\n",
      "---raw_file                    01640c_BC1-Thermo_SRM_Pool_3_01_01-2xIT_2xHCD-...\n",
      "scan_number                                                             35735\n",
      "modified_sequence                                        LPGSLETYVEQEQGENANDR\n",
      "precursor_charge                                                            2\n",
      "precursor_intensity                                                  836486.2\n",
      "mz                                                                  1125.0195\n",
      "precursor_mz                                                       1125.01713\n",
      "fragmentation                                                             CID\n",
      "mass_analyzer                                                            ITMS\n",
      "retention_time                                                         39.387\n",
      "indexed_retention_time                                              62.998782\n",
      "andromeda_score                                                        193.63\n",
      "peptide_length                                                             20\n",
      "orig_collision_energy                                                    35.0\n",
      "aligned_collision_energy                                                 35.0\n",
      "      ------------------------\n",
      "645427 2 35984\n",
      "---raw_file                    01640c_BC1-Thermo_SRM_Pool_3_01_01-2xIT_2xHCD-...\n",
      "scan_number                                                             35984\n",
      "modified_sequence                                        LPGSLETYVEQEQGENANDR\n",
      "precursor_charge                                                            2\n",
      "precursor_intensity                                                  699286.8\n",
      "mz                                                                  1125.0195\n",
      "precursor_mz                                                      1125.015028\n",
      "fragmentation                                                             CID\n",
      "mass_analyzer                                                            ITMS\n",
      "retention_time                                                         39.591\n",
      "indexed_retention_time                                              63.516601\n",
      "andromeda_score                                                        135.98\n",
      "peptide_length                                                             20\n",
      "orig_collision_energy                                                    35.0\n",
      "aligned_collision_energy                                                 35.0\n",
      "      ------------------------\n",
      "646606 2 35736\n",
      "---raw_file                    01640c_BC1-Thermo_SRM_Pool_3_01_01-2xIT_2xHCD-...\n",
      "scan_number                                                             35736\n",
      "modified_sequence                                        LPGSLETYVEQEQGENANDR\n",
      "precursor_charge                                                            2\n",
      "precursor_intensity                                                  836486.2\n",
      "mz                                                                  1125.0195\n",
      "precursor_mz                                                       1125.01713\n",
      "fragmentation                                                             HCD\n",
      "mass_analyzer                                                            ITMS\n",
      "retention_time                                                         39.388\n",
      "indexed_retention_time                                               63.00132\n",
      "andromeda_score                                                        127.59\n",
      "peptide_length                                                             20\n",
      "orig_collision_energy                                                    28.0\n",
      "aligned_collision_energy                                            30.026442\n",
      "      ------------------------\n",
      "648185 2 36021\n",
      "---raw_file                    01640c_BC1-Thermo_SRM_Pool_3_01_01-2xIT_2xHCD-...\n",
      "scan_number                                                             36021\n",
      "modified_sequence                                        LPGSLETYVEQEQGENANDR\n",
      "precursor_charge                                                            2\n",
      "precursor_intensity                                                  429345.5\n",
      "mz                                                                  1125.0195\n",
      "precursor_mz                                                      1124.510977\n",
      "fragmentation                                                             CID\n",
      "mass_analyzer                                                            ITMS\n",
      "retention_time                                                         39.622\n",
      "indexed_retention_time                                              63.595289\n",
      "andromeda_score                                                        117.55\n",
      "peptide_length                                                             20\n",
      "orig_collision_energy                                                    35.0\n",
      "aligned_collision_energy                                                 35.0\n",
      "      ------------------------\n",
      "649025 2 35441\n",
      "---raw_file                    01640c_BC1-Thermo_SRM_Pool_3_01_01-2xIT_2xHCD-...\n",
      "scan_number                                                             35441\n",
      "modified_sequence                                        LPGSLETYVEQEQGENANDR\n",
      "precursor_charge                                                            2\n",
      "precursor_intensity                                                 4693252.0\n",
      "mz                                                                  1125.0195\n",
      "precursor_mz                                                      1125.016729\n",
      "fragmentation                                                             HCD\n",
      "mass_analyzer                                                            FTMS\n",
      "retention_time                                                         39.152\n",
      "indexed_retention_time                                              62.402274\n",
      "andromeda_score                                                        112.55\n",
      "peptide_length                                                             20\n",
      "orig_collision_energy                                                    23.0\n",
      "aligned_collision_energy                                            25.026442\n",
      "      ------------------------\n",
      "650826 2 35388\n",
      "---raw_file                    01640c_BC1-Thermo_SRM_Pool_3_01_01-2xIT_2xHCD-...\n",
      "scan_number                                                             35388\n",
      "modified_sequence                                        LPGSLETYVEQEQGENANDR\n",
      "precursor_charge                                                            2\n",
      "precursor_intensity                                                 4392028.0\n",
      "mz                                                                  1125.0195\n",
      "precursor_mz                                                      1125.016629\n",
      "fragmentation                                                             HCD\n",
      "mass_analyzer                                                            FTMS\n",
      "retention_time                                                         39.108\n",
      "indexed_retention_time                                              62.290588\n",
      "andromeda_score                                                        102.43\n",
      "peptide_length                                                             20\n",
      "orig_collision_energy                                                    23.0\n",
      "aligned_collision_energy                                            25.026442\n",
      "      ------------------------\n",
      "651716 2 36148\n",
      "---raw_file                    01640c_BC1-Thermo_SRM_Pool_3_01_01-2xIT_2xHCD-...\n",
      "scan_number                                                             36148\n",
      "modified_sequence                                        LPGSLETYVEQEQGENANDR\n",
      "precursor_charge                                                            2\n",
      "precursor_intensity                                                       NaN\n",
      "mz                                                                  1125.0195\n",
      "precursor_mz                                                       1125.01703\n",
      "fragmentation                                                             CID\n",
      "mass_analyzer                                                            ITMS\n",
      "retention_time                                                         39.728\n",
      "indexed_retention_time                                              63.864352\n",
      "andromeda_score                                                        97.256\n",
      "peptide_length                                                             20\n",
      "orig_collision_energy                                                    35.0\n",
      "aligned_collision_energy                                                 35.0\n",
      "      ------------------------\n",
      "652127 2 35985\n",
      "---raw_file                    01640c_BC1-Thermo_SRM_Pool_3_01_01-2xIT_2xHCD-...\n",
      "scan_number                                                             35985\n",
      "modified_sequence                                        LPGSLETYVEQEQGENANDR\n",
      "precursor_charge                                                            2\n",
      "precursor_intensity                                                  699286.8\n",
      "mz                                                                  1125.0195\n",
      "precursor_mz                                                      1125.015028\n",
      "fragmentation                                                             HCD\n",
      "mass_analyzer                                                            ITMS\n",
      "retention_time                                                         39.591\n",
      "indexed_retention_time                                              63.516601\n",
      "andromeda_score                                                        94.911\n",
      "peptide_length                                                             20\n",
      "orig_collision_energy                                                    28.0\n",
      "aligned_collision_energy                                            30.026442\n",
      "      ------------------------\n",
      "652745 2 35387\n",
      "---raw_file                    01640c_BC1-Thermo_SRM_Pool_3_01_01-2xIT_2xHCD-...\n",
      "scan_number                                                             35387\n",
      "modified_sequence                                        LPGSLETYVEQEQGENANDR\n",
      "precursor_charge                                                            2\n",
      "precursor_intensity                                                 4392028.0\n",
      "mz                                                                  1125.0195\n",
      "precursor_mz                                                      1125.016629\n",
      "fragmentation                                                             HCD\n",
      "mass_analyzer                                                            FTMS\n",
      "retention_time                                                         39.107\n",
      "indexed_retention_time                                               62.28805\n",
      "andromeda_score                                                        91.276\n",
      "peptide_length                                                             20\n",
      "orig_collision_energy                                                    20.0\n",
      "aligned_collision_energy                                            22.026442\n",
      "      ------------------------\n",
      "654078 2 36022\n",
      "---raw_file                    01640c_BC1-Thermo_SRM_Pool_3_01_01-2xIT_2xHCD-...\n",
      "scan_number                                                             36022\n",
      "modified_sequence                                        LPGSLETYVEQEQGENANDR\n",
      "precursor_charge                                                            2\n",
      "precursor_intensity                                                  429345.5\n",
      "mz                                                                  1125.0195\n",
      "precursor_mz                                                      1124.510977\n",
      "fragmentation                                                             HCD\n",
      "mass_analyzer                                                            ITMS\n",
      "retention_time                                                         39.623\n",
      "indexed_retention_time                                              63.597827\n",
      "andromeda_score                                                        83.393\n",
      "peptide_length                                                             20\n",
      "orig_collision_energy                                                    28.0\n",
      "aligned_collision_energy                                            30.026442\n",
      "      ------------------------\n",
      "655810 2 35502\n",
      "---raw_file                    01640c_BC1-Thermo_SRM_Pool_3_01_01-2xIT_2xHCD-...\n",
      "scan_number                                                             35502\n",
      "modified_sequence                                        LPGSLETYVEQEQGENANDR\n",
      "precursor_charge                                                            2\n",
      "precursor_intensity                                                 3375284.0\n",
      "mz                                                                  1125.0195\n",
      "precursor_mz                                                      1125.016529\n",
      "fragmentation                                                             HCD\n",
      "mass_analyzer                                                            FTMS\n",
      "retention_time                                                         39.201\n",
      "indexed_retention_time                                              62.526652\n",
      "andromeda_score                                                        72.568\n",
      "peptide_length                                                             20\n",
      "orig_collision_energy                                                    23.0\n",
      "aligned_collision_energy                                            25.026442\n",
      "      ------------------------\n",
      "656068 2 35440\n",
      "---raw_file                    01640c_BC1-Thermo_SRM_Pool_3_01_01-2xIT_2xHCD-...\n",
      "scan_number                                                             35440\n",
      "modified_sequence                                        LPGSLETYVEQEQGENANDR\n",
      "precursor_charge                                                            2\n",
      "precursor_intensity                                                 4693252.0\n",
      "mz                                                                  1125.0195\n",
      "precursor_mz                                                      1125.016729\n",
      "fragmentation                                                             HCD\n",
      "mass_analyzer                                                            FTMS\n",
      "retention_time                                                         39.151\n",
      "indexed_retention_time                                              62.399736\n",
      "andromeda_score                                                        71.148\n",
      "peptide_length                                                             20\n",
      "orig_collision_energy                                                    20.0\n",
      "aligned_collision_energy                                            22.026442\n",
      "      ------------------------\n",
      "656712 2 36149\n",
      "---raw_file                    01640c_BC1-Thermo_SRM_Pool_3_01_01-2xIT_2xHCD-...\n",
      "scan_number                                                             36149\n",
      "modified_sequence                                        LPGSLETYVEQEQGENANDR\n",
      "precursor_charge                                                            2\n",
      "precursor_intensity                                                       NaN\n",
      "mz                                                                  1125.0195\n",
      "precursor_mz                                                       1125.01703\n",
      "fragmentation                                                             HCD\n",
      "mass_analyzer                                                            ITMS\n",
      "retention_time                                                         39.729\n",
      "indexed_retention_time                                               63.86689\n",
      "andromeda_score                                                        67.227\n",
      "peptide_length                                                             20\n",
      "orig_collision_energy                                                    28.0\n",
      "aligned_collision_energy                                            30.026442\n",
      "      ------------------------\n",
      "661186 2 35501\n",
      "---raw_file                    01640c_BC1-Thermo_SRM_Pool_3_01_01-2xIT_2xHCD-...\n",
      "scan_number                                                             35501\n",
      "modified_sequence                                        LPGSLETYVEQEQGENANDR\n",
      "precursor_charge                                                            2\n",
      "precursor_intensity                                                 3375284.0\n",
      "mz                                                                  1125.0195\n",
      "precursor_mz                                                      1125.016529\n",
      "fragmentation                                                             HCD\n",
      "mass_analyzer                                                            FTMS\n",
      "retention_time                                                         39.201\n",
      "indexed_retention_time                                              62.526652\n",
      "andromeda_score                                                          37.4\n",
      "peptide_length                                                             20\n",
      "orig_collision_energy                                                    20.0\n",
      "aligned_collision_energy                                            22.026442\n",
      "      ------------------------\n",
      "662437 2 35738\n",
      "---raw_file                    01640c_BC1-Thermo_SRM_Pool_3_01_01-2xIT_2xHCD-...\n",
      "scan_number                                                             35738\n",
      "modified_sequence                                        LPGSLETYVEQEQGENANDR\n",
      "precursor_charge                                                            2\n",
      "precursor_intensity                                                  836486.2\n",
      "mz                                                                  1125.0195\n",
      "precursor_mz                                                       1125.01713\n",
      "fragmentation                                                             HCD\n",
      "mass_analyzer                                                            FTMS\n",
      "retention_time                                                          39.39\n",
      "indexed_retention_time                                              63.006397\n",
      "andromeda_score                                                         22.24\n",
      "peptide_length                                                             20\n",
      "orig_collision_energy                                                    23.0\n",
      "aligned_collision_energy                                            25.026442\n",
      "      ------------------------\n",
      "1136311 2 32177\n",
      "---raw_file                    01640c_BC1-Thermo_SRM_Pool_3_01_01-3xHCD-1h-R2\n",
      "scan_number                                                          32177\n",
      "modified_sequence                                     LPGSLETYVEQEQGENANDR\n",
      "precursor_charge                                                         2\n",
      "precursor_intensity                                              1178169.0\n",
      "mz                                                               1125.0195\n",
      "precursor_mz                                                   1125.014527\n",
      "fragmentation                                                          HCD\n",
      "mass_analyzer                                                         FTMS\n",
      "retention_time                                                      39.523\n",
      "indexed_retention_time                                           63.451097\n",
      "andromeda_score                                                     22.936\n",
      "peptide_length                                                          20\n",
      "orig_collision_energy                                                 25.0\n",
      "aligned_collision_energy                                         27.403363\n",
      "      ------------------------\n",
      "1136346 2 32178\n",
      "---raw_file                    01640c_BC1-Thermo_SRM_Pool_3_01_01-3xHCD-1h-R2\n",
      "scan_number                                                          32178\n",
      "modified_sequence                                     LPGSLETYVEQEQGENANDR\n",
      "precursor_charge                                                         2\n",
      "precursor_intensity                                              1178169.0\n",
      "mz                                                               1125.0195\n",
      "precursor_mz                                                   1125.014527\n",
      "fragmentation                                                          HCD\n",
      "mass_analyzer                                                         FTMS\n",
      "retention_time                                                      39.523\n",
      "indexed_retention_time                                           63.451097\n",
      "andromeda_score                                                     22.585\n",
      "peptide_length                                                          20\n",
      "orig_collision_energy                                                 30.0\n",
      "aligned_collision_energy                                         32.403363\n",
      "      ------------------------\n",
      "1136696 2 32312\n",
      "---raw_file                    01640c_BC1-Thermo_SRM_Pool_3_01_01-3xHCD-1h-R2\n",
      "scan_number                                                          32312\n",
      "modified_sequence                                     LPGSLETYVEQEQGENANDR\n",
      "precursor_charge                                                         2\n",
      "precursor_intensity                                               753348.4\n",
      "mz                                                               1125.0195\n",
      "precursor_mz                                                   1125.018631\n",
      "fragmentation                                                          HCD\n",
      "mass_analyzer                                                         FTMS\n",
      "retention_time                                                       39.64\n",
      "indexed_retention_time                                           63.747491\n",
      "andromeda_score                                                     18.936\n",
      "peptide_length                                                          20\n",
      "orig_collision_energy                                                 25.0\n",
      "aligned_collision_energy                                         27.403363\n",
      "      ------------------------\n",
      "1137608 2 32179\n",
      "---raw_file                    01640c_BC1-Thermo_SRM_Pool_3_01_01-3xHCD-1h-R2\n",
      "scan_number                                                          32179\n",
      "modified_sequence                                     LPGSLETYVEQEQGENANDR\n",
      "precursor_charge                                                         2\n",
      "precursor_intensity                                              1178169.0\n",
      "mz                                                               1125.0195\n",
      "precursor_mz                                                   1125.014527\n",
      "fragmentation                                                          HCD\n",
      "mass_analyzer                                                         FTMS\n",
      "retention_time                                                      39.524\n",
      "indexed_retention_time                                           63.453631\n",
      "andromeda_score                                                     10.765\n",
      "peptide_length                                                          20\n",
      "orig_collision_energy                                                 35.0\n",
      "aligned_collision_energy                                         37.403363\n",
      "      ------------------------\n",
      "1138194 2 32483\n",
      "---raw_file                    01640c_BC1-Thermo_SRM_Pool_3_01_01-3xHCD-1h-R2\n",
      "scan_number                                                          32483\n",
      "modified_sequence                                     LPGSLETYVEQEQGENANDR\n",
      "precursor_charge                                                         2\n",
      "precursor_intensity                                               501583.1\n",
      "mz                                                               1125.0195\n",
      "precursor_mz                                                   1125.014327\n",
      "fragmentation                                                          HCD\n",
      "mass_analyzer                                                         FTMS\n",
      "retention_time                                                      39.797\n",
      "indexed_retention_time                                           64.145216\n",
      "andromeda_score                                                     5.0003\n",
      "peptide_length                                                          20\n",
      "orig_collision_energy                                                 30.0\n",
      "aligned_collision_energy                                         32.403363\n",
      "      ------------------------\n",
      "1138219 2 32313\n",
      "---raw_file                    01640c_BC1-Thermo_SRM_Pool_3_01_01-3xHCD-1h-R2\n",
      "scan_number                                                          32313\n",
      "modified_sequence                                     LPGSLETYVEQEQGENANDR\n",
      "precursor_charge                                                         2\n",
      "precursor_intensity                                               753348.4\n",
      "mz                                                               1125.0195\n",
      "precursor_mz                                                   1125.018631\n",
      "fragmentation                                                          HCD\n",
      "mass_analyzer                                                         FTMS\n",
      "retention_time                                                       39.64\n",
      "indexed_retention_time                                           63.747491\n",
      "andromeda_score                                                     4.8769\n",
      "peptide_length                                                          20\n",
      "orig_collision_energy                                                 30.0\n",
      "aligned_collision_energy                                         32.403363\n",
      "      ------------------------\n",
      "1138236 2 32557\n",
      "---raw_file                    01640c_BC1-Thermo_SRM_Pool_3_01_01-3xHCD-1h-R2\n",
      "scan_number                                                          32557\n",
      "modified_sequence                                     LPGSLETYVEQEQGENANDR\n",
      "precursor_charge                                                         2\n",
      "precursor_intensity                                               656244.9\n",
      "mz                                                               1125.0195\n",
      "precursor_mz                                                   1125.018731\n",
      "fragmentation                                                          HCD\n",
      "mass_analyzer                                                         FTMS\n",
      "retention_time                                                      39.863\n",
      "indexed_retention_time                                           64.312413\n",
      "andromeda_score                                                     4.7567\n",
      "peptide_length                                                          20\n",
      "orig_collision_energy                                                 30.0\n",
      "aligned_collision_energy                                         32.403363\n",
      "      ------------------------\n",
      "1138237 2 32583\n",
      "---raw_file                    01640c_BC1-Thermo_SRM_Pool_3_01_01-3xHCD-1h-R2\n",
      "scan_number                                                          32583\n",
      "modified_sequence                                     LPGSLETYVEQEQGENANDR\n",
      "precursor_charge                                                         2\n",
      "precursor_intensity                                               174752.1\n",
      "mz                                                               1125.0195\n",
      "precursor_mz                                                   1125.016029\n",
      "fragmentation                                                          HCD\n",
      "mass_analyzer                                                         FTMS\n",
      "retention_time                                                      39.888\n",
      "indexed_retention_time                                           64.375745\n",
      "andromeda_score                                                     4.7567\n",
      "peptide_length                                                          20\n",
      "orig_collision_energy                                                 35.0\n",
      "aligned_collision_energy                                         37.403363\n",
      "      ------------------------\n",
      "1138417 2 32482\n",
      "---raw_file                    01640c_BC1-Thermo_SRM_Pool_3_01_01-3xHCD-1h-R2\n",
      "scan_number                                                          32482\n",
      "modified_sequence                                     LPGSLETYVEQEQGENANDR\n",
      "precursor_charge                                                         2\n",
      "precursor_intensity                                               501583.1\n",
      "mz                                                               1125.0195\n",
      "precursor_mz                                                   1125.014327\n",
      "fragmentation                                                          HCD\n",
      "mass_analyzer                                                         FTMS\n",
      "retention_time                                                      39.796\n",
      "indexed_retention_time                                           64.142683\n",
      "andromeda_score                                                      2.721\n",
      "peptide_length                                                          20\n",
      "orig_collision_energy                                                 25.0\n",
      "aligned_collision_energy                                         27.403363\n",
      "      ------------------------\n",
      "1138628 2 32314\n",
      "---raw_file                    01640c_BC1-Thermo_SRM_Pool_3_01_01-3xHCD-1h-R2\n",
      "scan_number                                                          32314\n",
      "modified_sequence                                     LPGSLETYVEQEQGENANDR\n",
      "precursor_charge                                                         2\n",
      "precursor_intensity                                               753348.4\n",
      "mz                                                               1125.0195\n",
      "precursor_mz                                                   1125.018631\n",
      "fragmentation                                                          HCD\n",
      "mass_analyzer                                                         FTMS\n",
      "retention_time                                                      39.641\n",
      "indexed_retention_time                                           63.750025\n",
      "andromeda_score                                                     1.1449\n",
      "peptide_length                                                          20\n",
      "orig_collision_energy                                                 35.0\n",
      "aligned_collision_energy                                         37.403363\n",
      "      ------------------------\n",
      "1138631 2 32484\n",
      "---raw_file                    01640c_BC1-Thermo_SRM_Pool_3_01_01-3xHCD-1h-R2\n",
      "scan_number                                                          32484\n",
      "modified_sequence                                     LPGSLETYVEQEQGENANDR\n",
      "precursor_charge                                                         2\n",
      "precursor_intensity                                               501583.1\n",
      "mz                                                               1125.0195\n",
      "precursor_mz                                                   1125.014327\n",
      "fragmentation                                                          HCD\n",
      "mass_analyzer                                                         FTMS\n",
      "retention_time                                                      39.798\n",
      "indexed_retention_time                                            64.14775\n",
      "andromeda_score                                                     1.1449\n",
      "peptide_length                                                          20\n",
      "orig_collision_energy                                                 35.0\n",
      "aligned_collision_energy                                         37.403363\n",
      "      ------------------------\n",
      "1138633 2 32582\n",
      "---raw_file                    01640c_BC1-Thermo_SRM_Pool_3_01_01-3xHCD-1h-R2\n",
      "scan_number                                                          32582\n",
      "modified_sequence                                     LPGSLETYVEQEQGENANDR\n",
      "precursor_charge                                                         2\n",
      "precursor_intensity                                               174752.1\n",
      "mz                                                               1125.0195\n",
      "precursor_mz                                                   1125.016029\n",
      "fragmentation                                                          HCD\n",
      "mass_analyzer                                                         FTMS\n",
      "retention_time                                                      39.887\n",
      "indexed_retention_time                                           64.373212\n",
      "andromeda_score                                                     1.1062\n",
      "peptide_length                                                          20\n",
      "orig_collision_energy                                                 30.0\n",
      "aligned_collision_energy                                         32.403363\n",
      "      ------------------------\n",
      "1138641 2 32581\n",
      "---raw_file                    01640c_BC1-Thermo_SRM_Pool_3_01_01-3xHCD-1h-R2\n",
      "scan_number                                                          32581\n",
      "modified_sequence                                     LPGSLETYVEQEQGENANDR\n",
      "precursor_charge                                                         2\n",
      "precursor_intensity                                               174752.1\n",
      "mz                                                               1125.0195\n",
      "precursor_mz                                                   1125.016029\n",
      "fragmentation                                                          HCD\n",
      "mass_analyzer                                                         FTMS\n",
      "retention_time                                                      39.886\n",
      "indexed_retention_time                                           64.370679\n",
      "andromeda_score                                                     1.1062\n",
      "peptide_length                                                          20\n",
      "orig_collision_energy                                                 25.0\n",
      "aligned_collision_energy                                         27.403363\n",
      "      ------------------------\n",
      "1138810 2 32556\n",
      "---raw_file                    01640c_BC1-Thermo_SRM_Pool_3_01_01-3xHCD-1h-R2\n",
      "scan_number                                                          32556\n",
      "modified_sequence                                     LPGSLETYVEQEQGENANDR\n",
      "precursor_charge                                                         2\n",
      "precursor_intensity                                               656244.9\n",
      "mz                                                               1125.0195\n",
      "precursor_mz                                                   1125.018731\n",
      "fragmentation                                                          HCD\n",
      "mass_analyzer                                                         FTMS\n",
      "retention_time                                                      39.862\n",
      "indexed_retention_time                                            64.30988\n",
      "andromeda_score                                                    0.30394\n",
      "peptide_length                                                          20\n",
      "orig_collision_energy                                                 25.0\n",
      "aligned_collision_energy                                         27.403363\n",
      "      ------------------------\n"
     ]
    }
   ],
   "source": [
    "for index, seq in enumerate(df[\"modified_sequence\"]):\n",
    "    if seq == \"LPGSLETYVEQEQGENANDR\":\n",
    "        print(index, df[\"precursor_charge\"][index], df[\"scan_number\"][index])\n",
    "        # print df row\n",
    "        print(\"---\"+ df.iloc[index].to_string())\n",
    "        print(\"      ------------------------\")"
   ],
   "metadata": {
    "collapsed": false,
    "ExecuteTime": {
     "end_time": "2023-06-07T14:49:37.851002500Z",
     "start_time": "2023-06-07T14:49:37.076957Z"
    }
   }
  },
  {
   "cell_type": "markdown",
   "source": [
    "Test: https://www.kirenz.com/post/2022-06-17-deep-learning-and-keras-data-preprocessing-with-structured-data/"
   ],
   "metadata": {
    "collapsed": false
   }
  },
  {
   "cell_type": "code",
   "execution_count": 36,
   "outputs": [],
   "source": [
    "#charge states 1-5\n",
    "y_label = \"precursor_charge\""
   ],
   "metadata": {
    "collapsed": false,
    "ExecuteTime": {
     "end_time": "2023-06-07T15:11:14.116263200Z",
     "start_time": "2023-06-07T15:11:14.094559600Z"
    }
   }
  },
  {
   "cell_type": "code",
   "execution_count": 32,
   "outputs": [],
   "source": [
    "# Convert to categorical\n",
    "\n",
    "# make a list of all categorical variables\n",
    "cat_convert = ['scan_number', 'precursor_charge', 'precursor_intensity']\n",
    "\n",
    "# convert variables\n",
    "for i in cat_convert:\n",
    "    df[i] = df[i].astype(\"category\")"
   ],
   "metadata": {
    "collapsed": false,
    "ExecuteTime": {
     "end_time": "2023-06-07T15:10:10.316588900Z",
     "start_time": "2023-06-07T15:10:09.193935100Z"
    }
   }
  },
  {
   "cell_type": "code",
   "execution_count": 37,
   "outputs": [],
   "source": [
    "# Make list of all numerical data (except label)\n",
    "list_num = df.drop(columns=[y_label]).select_dtypes(include=[np.number]).columns.tolist()\n",
    "\n",
    "# Make list of all categorical data which is stored as integers (except label)\n",
    "list_cat_int = df.drop(columns=[y_label]).select_dtypes(include=['category']).columns.tolist()\n",
    "\n",
    "# Make list of all categorical data which is stored as string (except label)\n",
    "list_cat_string = df.drop(columns=[y_label]).select_dtypes(include=['string']).columns.tolist()"
   ],
   "metadata": {
    "collapsed": false,
    "ExecuteTime": {
     "end_time": "2023-06-07T15:11:16.596314800Z",
     "start_time": "2023-06-07T15:11:15.452987100Z"
    }
   }
  },
  {
   "cell_type": "code",
   "execution_count": 38,
   "outputs": [
    {
     "name": "stdout",
     "output_type": "stream",
     "text": [
      "<class 'pandas.core.frame.DataFrame'>\n",
      "RangeIndex: 6080606 entries, 0 to 6080605\n",
      "Data columns (total 15 columns):\n",
      " #   Column                    Dtype   \n",
      "---  ------                    -----   \n",
      " 0   raw_file                  object  \n",
      " 1   scan_number               category\n",
      " 2   modified_sequence         object  \n",
      " 3   precursor_charge          category\n",
      " 4   precursor_intensity       category\n",
      " 5   mz                        float32 \n",
      " 6   precursor_mz              float32 \n",
      " 7   fragmentation             object  \n",
      " 8   mass_analyzer             object  \n",
      " 9   retention_time            float32 \n",
      " 10  indexed_retention_time    float32 \n",
      " 11  andromeda_score           float32 \n",
      " 12  peptide_length            int32   \n",
      " 13  orig_collision_energy     float32 \n",
      " 14  aligned_collision_energy  float32 \n",
      "dtypes: category(3), float32(7), int32(1), object(4)\n",
      "memory usage: 504.3+ MB\n"
     ]
    }
   ],
   "source": [
    "df.info()"
   ],
   "metadata": {
    "collapsed": false,
    "ExecuteTime": {
     "end_time": "2023-06-07T15:11:23.185474400Z",
     "start_time": "2023-06-07T15:11:23.166783Z"
    }
   }
  },
  {
   "cell_type": "code",
   "execution_count": 39,
   "outputs": [],
   "source": [
    "# Make validation data\n",
    "df_val = df.sample(frac=0.2, random_state=1337)\n",
    "\n",
    "# Create training data\n",
    "df_train = df.drop(df_val.index)"
   ],
   "metadata": {
    "collapsed": false,
    "ExecuteTime": {
     "end_time": "2023-06-07T15:11:38.467968900Z",
     "start_time": "2023-06-07T15:11:37.144220300Z"
    }
   }
  },
  {
   "cell_type": "code",
   "execution_count": null,
   "outputs": [],
   "source": [
    "# Save training data\n",
    "df_train.to_csv(\"data/df_train.csv\", index=False)"
   ],
   "metadata": {
    "collapsed": false
   }
  },
  {
   "cell_type": "code",
   "execution_count": 41,
   "outputs": [
    {
     "name": "stdout",
     "output_type": "stream",
     "text": [
      "Using 4864485 samples for training and 1216121 for validation\n"
     ]
    }
   ],
   "source": [
    "print(\n",
    "    \"Using %d samples for training and %d for validation\"\n",
    "    % (len(df_train), len(df_val))\n",
    ")"
   ],
   "metadata": {
    "collapsed": false,
    "ExecuteTime": {
     "end_time": "2023-06-07T15:12:48.263920500Z",
     "start_time": "2023-06-07T15:12:48.249889700Z"
    }
   }
  },
  {
   "cell_type": "code",
   "execution_count": 42,
   "outputs": [],
   "source": [
    "# Define a function to create our tensors\n",
    "\n",
    "def dataframe_to_dataset(dataframe, shuffle=True, batch_size=32):\n",
    "    df = dataframe.copy()\n",
    "    labels = df.pop(y_label)\n",
    "    ds = tf.data.Dataset.from_tensor_slices((dict(df), labels))\n",
    "    if shuffle:\n",
    "        ds = ds.shuffle(buffer_size=len(dataframe))\n",
    "    ds = ds.batch(batch_size)\n",
    "    df = ds.prefetch(batch_size)\n",
    "    return ds"
   ],
   "metadata": {
    "collapsed": false,
    "ExecuteTime": {
     "end_time": "2023-06-07T15:13:03.590287200Z",
     "start_time": "2023-06-07T15:13:03.580781600Z"
    }
   }
  },
  {
   "cell_type": "code",
   "execution_count": 44,
   "outputs": [
    {
     "name": "stderr",
     "output_type": "stream",
     "text": [
      "C:\\Users\\micro\\AppData\\Roaming\\Python\\Python39\\site-packages\\tensorflow\\python\\data\\util\\structure.py:507: FutureWarning: Index.ravel returning ndarray is deprecated; in a future version this will return a view on self.\n",
      "  raise TypeError(\"Could not build a `TypeSpec` for {} with type {}\".format(\n",
      "C:\\Users\\micro\\AppData\\Roaming\\Python\\Python39\\site-packages\\tensorflow\\python\\data\\util\\structure.py:507: FutureWarning: Index.ravel returning ndarray is deprecated; in a future version this will return a view on self.\n",
      "  raise TypeError(\"Could not build a `TypeSpec` for {} with type {}\".format(\n"
     ]
    }
   ],
   "source": [
    "import tensorflow as tf\n",
    "batch_size = 32\n",
    "\n",
    "ds_train = dataframe_to_dataset(df_train, shuffle=True, batch_size=batch_size)\n",
    "ds_val = dataframe_to_dataset(df_val, shuffle=True, batch_size=batch_size)"
   ],
   "metadata": {
    "collapsed": false,
    "ExecuteTime": {
     "end_time": "2023-06-07T15:13:26.921829Z",
     "start_time": "2023-06-07T15:13:24.858053500Z"
    }
   }
  },
  {
   "cell_type": "code",
   "execution_count": 45,
   "outputs": [],
   "source": [
    "# Define numerical preprocessing function\n",
    "def get_normalization_layer(name, dataset):\n",
    "\n",
    "    # Create a Normalization layer for our feature\n",
    "    normalizer = layers.Normalization(axis=None)\n",
    "\n",
    "    # Prepare a dataset that only yields our feature\n",
    "    feature_ds = dataset.map(lambda x, y: x[name])\n",
    "\n",
    "    # Learn the statistics of the data\n",
    "    normalizer.adapt(feature_ds)\n",
    "\n",
    "    # Normalize the input feature\n",
    "    return normalizer"
   ],
   "metadata": {
    "collapsed": false,
    "ExecuteTime": {
     "end_time": "2023-06-07T15:13:37.835813100Z",
     "start_time": "2023-06-07T15:13:37.815488200Z"
    }
   }
  },
  {
   "cell_type": "code",
   "execution_count": 53,
   "outputs": [],
   "source": [
    "from tensorflow.keras import layers\n",
    "def get_category_encoding_layer(name, dataset, dtype, max_tokens=None):\n",
    "\n",
    "  # Create a layer that turns strings into integer indices.\n",
    "  if dtype == 'string':\n",
    "    index = layers.StringLookup(max_tokens=max_tokens)\n",
    "  # Otherwise, create a layer that turns integer values into integer indices.\n",
    "  else:\n",
    "    index = layers.IntegerLookup(max_tokens=max_tokens)\n",
    "\n",
    "  # Prepare a `tf.data.Dataset` that only yields the feature.\n",
    "  feature_ds = dataset.map(lambda x, y: x[name])\n",
    "\n",
    "  # Learn the set of possible values and assign them a fixed integer index.\n",
    "  index.adapt(feature_ds)\n",
    "\n",
    "  # Encode the integer indices.\n",
    "  encoder = layers.CategoryEncoding(num_tokens=index.vocabulary_size())\n",
    "\n",
    "  # Apply multi-hot encoding to the indices. The lambda function captures the\n",
    "  # layer, so you can use them, or include them in the Keras Functional model later.\n",
    "  return lambda feature: encoder(index(feature))"
   ],
   "metadata": {
    "collapsed": false,
    "ExecuteTime": {
     "end_time": "2023-06-07T15:14:44.480505300Z",
     "start_time": "2023-06-07T15:14:44.457959700Z"
    }
   }
  },
  {
   "cell_type": "code",
   "execution_count": 52,
   "outputs": [],
   "source": [
    "all_inputs = []\n",
    "encoded_features = []"
   ],
   "metadata": {
    "collapsed": false,
    "ExecuteTime": {
     "end_time": "2023-06-07T15:14:16.058692500Z",
     "start_time": "2023-06-07T15:14:16.036153200Z"
    }
   }
  },
  {
   "cell_type": "code",
   "execution_count": 54,
   "outputs": [
    {
     "ename": "KeyboardInterrupt",
     "evalue": "",
     "output_type": "error",
     "traceback": [
      "\u001B[1;31m---------------------------------------------------------------------------\u001B[0m",
      "\u001B[1;31mKeyboardInterrupt\u001B[0m                         Traceback (most recent call last)",
      "Cell \u001B[1;32mIn[54], line 4\u001B[0m\n\u001B[0;32m      2\u001B[0m \u001B[38;5;28;01mfor\u001B[39;00m feature \u001B[38;5;129;01min\u001B[39;00m list_num:\n\u001B[0;32m      3\u001B[0m   numeric_feature \u001B[38;5;241m=\u001B[39m tf\u001B[38;5;241m.\u001B[39mkeras\u001B[38;5;241m.\u001B[39mInput(shape\u001B[38;5;241m=\u001B[39m(\u001B[38;5;241m1\u001B[39m,), name\u001B[38;5;241m=\u001B[39mfeature)\n\u001B[1;32m----> 4\u001B[0m   normalization_layer \u001B[38;5;241m=\u001B[39m \u001B[43mget_normalization_layer\u001B[49m\u001B[43m(\u001B[49m\u001B[43mfeature\u001B[49m\u001B[43m,\u001B[49m\u001B[43m \u001B[49m\u001B[43mds_train\u001B[49m\u001B[43m)\u001B[49m\n\u001B[0;32m      5\u001B[0m   encoded_numeric_feature \u001B[38;5;241m=\u001B[39m normalization_layer(numeric_feature)\n\u001B[0;32m      6\u001B[0m   all_inputs\u001B[38;5;241m.\u001B[39mappend(numeric_feature)\n",
      "Cell \u001B[1;32mIn[45], line 11\u001B[0m, in \u001B[0;36mget_normalization_layer\u001B[1;34m(name, dataset)\u001B[0m\n\u001B[0;32m      8\u001B[0m feature_ds \u001B[38;5;241m=\u001B[39m dataset\u001B[38;5;241m.\u001B[39mmap(\u001B[38;5;28;01mlambda\u001B[39;00m x, y: x[name])\n\u001B[0;32m     10\u001B[0m \u001B[38;5;66;03m# Learn the statistics of the data\u001B[39;00m\n\u001B[1;32m---> 11\u001B[0m \u001B[43mnormalizer\u001B[49m\u001B[38;5;241;43m.\u001B[39;49m\u001B[43madapt\u001B[49m\u001B[43m(\u001B[49m\u001B[43mfeature_ds\u001B[49m\u001B[43m)\u001B[49m\n\u001B[0;32m     13\u001B[0m \u001B[38;5;66;03m# Normalize the input feature\u001B[39;00m\n\u001B[0;32m     14\u001B[0m \u001B[38;5;28;01mreturn\u001B[39;00m normalizer\n",
      "File \u001B[1;32m~\\AppData\\Roaming\\Python\\Python39\\site-packages\\keras\\layers\\preprocessing\\normalization.py:286\u001B[0m, in \u001B[0;36mNormalization.adapt\u001B[1;34m(self, data, batch_size, steps)\u001B[0m\n\u001B[0;32m    240\u001B[0m \u001B[38;5;28;01mdef\u001B[39;00m \u001B[38;5;21madapt\u001B[39m(\u001B[38;5;28mself\u001B[39m, data, batch_size\u001B[38;5;241m=\u001B[39m\u001B[38;5;28;01mNone\u001B[39;00m, steps\u001B[38;5;241m=\u001B[39m\u001B[38;5;28;01mNone\u001B[39;00m):\n\u001B[0;32m    241\u001B[0m \u001B[38;5;250m    \u001B[39m\u001B[38;5;124;03m\"\"\"Computes the mean and variance of values in a dataset.\u001B[39;00m\n\u001B[0;32m    242\u001B[0m \n\u001B[0;32m    243\u001B[0m \u001B[38;5;124;03m    Calling `adapt()` on a `Normalization` layer is an alternative to\u001B[39;00m\n\u001B[1;32m   (...)\u001B[0m\n\u001B[0;32m    284\u001B[0m \u001B[38;5;124;03m          argument is not supported with array inputs.\u001B[39;00m\n\u001B[0;32m    285\u001B[0m \u001B[38;5;124;03m    \"\"\"\u001B[39;00m\n\u001B[1;32m--> 286\u001B[0m     \u001B[38;5;28;43msuper\u001B[39;49m\u001B[43m(\u001B[49m\u001B[43m)\u001B[49m\u001B[38;5;241;43m.\u001B[39;49m\u001B[43madapt\u001B[49m\u001B[43m(\u001B[49m\u001B[43mdata\u001B[49m\u001B[43m,\u001B[49m\u001B[43m \u001B[49m\u001B[43mbatch_size\u001B[49m\u001B[38;5;241;43m=\u001B[39;49m\u001B[43mbatch_size\u001B[49m\u001B[43m,\u001B[49m\u001B[43m \u001B[49m\u001B[43msteps\u001B[49m\u001B[38;5;241;43m=\u001B[39;49m\u001B[43msteps\u001B[49m\u001B[43m)\u001B[49m\n",
      "File \u001B[1;32m~\\AppData\\Roaming\\Python\\Python39\\site-packages\\keras\\engine\\base_preprocessing_layer.py:258\u001B[0m, in \u001B[0;36mPreprocessingLayer.adapt\u001B[1;34m(self, data, batch_size, steps)\u001B[0m\n\u001B[0;32m    256\u001B[0m \u001B[38;5;28;01mwith\u001B[39;00m data_handler\u001B[38;5;241m.\u001B[39mcatch_stop_iteration():\n\u001B[0;32m    257\u001B[0m     \u001B[38;5;28;01mfor\u001B[39;00m _ \u001B[38;5;129;01min\u001B[39;00m data_handler\u001B[38;5;241m.\u001B[39msteps():\n\u001B[1;32m--> 258\u001B[0m         \u001B[38;5;28;43mself\u001B[39;49m\u001B[38;5;241;43m.\u001B[39;49m\u001B[43m_adapt_function\u001B[49m\u001B[43m(\u001B[49m\u001B[43miterator\u001B[49m\u001B[43m)\u001B[49m\n\u001B[0;32m    259\u001B[0m         \u001B[38;5;28;01mif\u001B[39;00m data_handler\u001B[38;5;241m.\u001B[39mshould_sync:\n\u001B[0;32m    260\u001B[0m             context\u001B[38;5;241m.\u001B[39masync_wait()\n",
      "File \u001B[1;32m~\\AppData\\Roaming\\Python\\Python39\\site-packages\\tensorflow\\python\\util\\traceback_utils.py:150\u001B[0m, in \u001B[0;36mfilter_traceback.<locals>.error_handler\u001B[1;34m(*args, **kwargs)\u001B[0m\n\u001B[0;32m    148\u001B[0m filtered_tb \u001B[38;5;241m=\u001B[39m \u001B[38;5;28;01mNone\u001B[39;00m\n\u001B[0;32m    149\u001B[0m \u001B[38;5;28;01mtry\u001B[39;00m:\n\u001B[1;32m--> 150\u001B[0m   \u001B[38;5;28;01mreturn\u001B[39;00m fn(\u001B[38;5;241m*\u001B[39margs, \u001B[38;5;241m*\u001B[39m\u001B[38;5;241m*\u001B[39mkwargs)\n\u001B[0;32m    151\u001B[0m \u001B[38;5;28;01mexcept\u001B[39;00m \u001B[38;5;167;01mException\u001B[39;00m \u001B[38;5;28;01mas\u001B[39;00m e:\n\u001B[0;32m    152\u001B[0m   filtered_tb \u001B[38;5;241m=\u001B[39m _process_traceback_frames(e\u001B[38;5;241m.\u001B[39m__traceback__)\n",
      "File \u001B[1;32m~\\AppData\\Roaming\\Python\\Python39\\site-packages\\tensorflow\\python\\eager\\polymorphic_function\\polymorphic_function.py:894\u001B[0m, in \u001B[0;36mFunction.__call__\u001B[1;34m(self, *args, **kwds)\u001B[0m\n\u001B[0;32m    891\u001B[0m compiler \u001B[38;5;241m=\u001B[39m \u001B[38;5;124m\"\u001B[39m\u001B[38;5;124mxla\u001B[39m\u001B[38;5;124m\"\u001B[39m \u001B[38;5;28;01mif\u001B[39;00m \u001B[38;5;28mself\u001B[39m\u001B[38;5;241m.\u001B[39m_jit_compile \u001B[38;5;28;01melse\u001B[39;00m \u001B[38;5;124m\"\u001B[39m\u001B[38;5;124mnonXla\u001B[39m\u001B[38;5;124m\"\u001B[39m\n\u001B[0;32m    893\u001B[0m \u001B[38;5;28;01mwith\u001B[39;00m OptionalXlaContext(\u001B[38;5;28mself\u001B[39m\u001B[38;5;241m.\u001B[39m_jit_compile):\n\u001B[1;32m--> 894\u001B[0m   result \u001B[38;5;241m=\u001B[39m \u001B[38;5;28mself\u001B[39m\u001B[38;5;241m.\u001B[39m_call(\u001B[38;5;241m*\u001B[39margs, \u001B[38;5;241m*\u001B[39m\u001B[38;5;241m*\u001B[39mkwds)\n\u001B[0;32m    896\u001B[0m new_tracing_count \u001B[38;5;241m=\u001B[39m \u001B[38;5;28mself\u001B[39m\u001B[38;5;241m.\u001B[39mexperimental_get_tracing_count()\n\u001B[0;32m    897\u001B[0m without_tracing \u001B[38;5;241m=\u001B[39m (tracing_count \u001B[38;5;241m==\u001B[39m new_tracing_count)\n",
      "File \u001B[1;32m~\\AppData\\Roaming\\Python\\Python39\\site-packages\\tensorflow\\python\\eager\\polymorphic_function\\polymorphic_function.py:926\u001B[0m, in \u001B[0;36mFunction._call\u001B[1;34m(self, *args, **kwds)\u001B[0m\n\u001B[0;32m    923\u001B[0m   \u001B[38;5;28mself\u001B[39m\u001B[38;5;241m.\u001B[39m_lock\u001B[38;5;241m.\u001B[39mrelease()\n\u001B[0;32m    924\u001B[0m   \u001B[38;5;66;03m# In this case we have created variables on the first call, so we run the\u001B[39;00m\n\u001B[0;32m    925\u001B[0m   \u001B[38;5;66;03m# defunned version which is guaranteed to never create variables.\u001B[39;00m\n\u001B[1;32m--> 926\u001B[0m   \u001B[38;5;28;01mreturn\u001B[39;00m \u001B[38;5;28mself\u001B[39m\u001B[38;5;241m.\u001B[39m_no_variable_creation_fn(\u001B[38;5;241m*\u001B[39margs, \u001B[38;5;241m*\u001B[39m\u001B[38;5;241m*\u001B[39mkwds)  \u001B[38;5;66;03m# pylint: disable=not-callable\u001B[39;00m\n\u001B[0;32m    927\u001B[0m \u001B[38;5;28;01melif\u001B[39;00m \u001B[38;5;28mself\u001B[39m\u001B[38;5;241m.\u001B[39m_variable_creation_fn \u001B[38;5;129;01mis\u001B[39;00m \u001B[38;5;129;01mnot\u001B[39;00m \u001B[38;5;28;01mNone\u001B[39;00m:\n\u001B[0;32m    928\u001B[0m   \u001B[38;5;66;03m# Release the lock early so that multiple threads can perform the call\u001B[39;00m\n\u001B[0;32m    929\u001B[0m   \u001B[38;5;66;03m# in parallel.\u001B[39;00m\n\u001B[0;32m    930\u001B[0m   \u001B[38;5;28mself\u001B[39m\u001B[38;5;241m.\u001B[39m_lock\u001B[38;5;241m.\u001B[39mrelease()\n",
      "File \u001B[1;32m~\\AppData\\Roaming\\Python\\Python39\\site-packages\\tensorflow\\python\\eager\\polymorphic_function\\tracing_compiler.py:143\u001B[0m, in \u001B[0;36mTracingCompiler.__call__\u001B[1;34m(self, *args, **kwargs)\u001B[0m\n\u001B[0;32m    140\u001B[0m \u001B[38;5;28;01mwith\u001B[39;00m \u001B[38;5;28mself\u001B[39m\u001B[38;5;241m.\u001B[39m_lock:\n\u001B[0;32m    141\u001B[0m   (concrete_function,\n\u001B[0;32m    142\u001B[0m    filtered_flat_args) \u001B[38;5;241m=\u001B[39m \u001B[38;5;28mself\u001B[39m\u001B[38;5;241m.\u001B[39m_maybe_define_function(args, kwargs)\n\u001B[1;32m--> 143\u001B[0m \u001B[38;5;28;01mreturn\u001B[39;00m \u001B[43mconcrete_function\u001B[49m\u001B[38;5;241;43m.\u001B[39;49m\u001B[43m_call_flat\u001B[49m\u001B[43m(\u001B[49m\n\u001B[0;32m    144\u001B[0m \u001B[43m    \u001B[49m\u001B[43mfiltered_flat_args\u001B[49m\u001B[43m,\u001B[49m\u001B[43m \u001B[49m\u001B[43mcaptured_inputs\u001B[49m\u001B[38;5;241;43m=\u001B[39;49m\u001B[43mconcrete_function\u001B[49m\u001B[38;5;241;43m.\u001B[39;49m\u001B[43mcaptured_inputs\u001B[49m\u001B[43m)\u001B[49m\n",
      "File \u001B[1;32m~\\AppData\\Roaming\\Python\\Python39\\site-packages\\tensorflow\\python\\eager\\polymorphic_function\\monomorphic_function.py:1757\u001B[0m, in \u001B[0;36mConcreteFunction._call_flat\u001B[1;34m(self, args, captured_inputs, cancellation_manager)\u001B[0m\n\u001B[0;32m   1753\u001B[0m possible_gradient_type \u001B[38;5;241m=\u001B[39m gradients_util\u001B[38;5;241m.\u001B[39mPossibleTapeGradientTypes(args)\n\u001B[0;32m   1754\u001B[0m \u001B[38;5;28;01mif\u001B[39;00m (possible_gradient_type \u001B[38;5;241m==\u001B[39m gradients_util\u001B[38;5;241m.\u001B[39mPOSSIBLE_GRADIENT_TYPES_NONE\n\u001B[0;32m   1755\u001B[0m     \u001B[38;5;129;01mand\u001B[39;00m executing_eagerly):\n\u001B[0;32m   1756\u001B[0m   \u001B[38;5;66;03m# No tape is watching; skip to running the function.\u001B[39;00m\n\u001B[1;32m-> 1757\u001B[0m   \u001B[38;5;28;01mreturn\u001B[39;00m \u001B[38;5;28mself\u001B[39m\u001B[38;5;241m.\u001B[39m_build_call_outputs(\u001B[38;5;28;43mself\u001B[39;49m\u001B[38;5;241;43m.\u001B[39;49m\u001B[43m_inference_function\u001B[49m\u001B[38;5;241;43m.\u001B[39;49m\u001B[43mcall\u001B[49m\u001B[43m(\u001B[49m\n\u001B[0;32m   1758\u001B[0m \u001B[43m      \u001B[49m\u001B[43mctx\u001B[49m\u001B[43m,\u001B[49m\u001B[43m \u001B[49m\u001B[43margs\u001B[49m\u001B[43m,\u001B[49m\u001B[43m \u001B[49m\u001B[43mcancellation_manager\u001B[49m\u001B[38;5;241;43m=\u001B[39;49m\u001B[43mcancellation_manager\u001B[49m\u001B[43m)\u001B[49m)\n\u001B[0;32m   1759\u001B[0m forward_backward \u001B[38;5;241m=\u001B[39m \u001B[38;5;28mself\u001B[39m\u001B[38;5;241m.\u001B[39m_select_forward_and_backward_functions(\n\u001B[0;32m   1760\u001B[0m     args,\n\u001B[0;32m   1761\u001B[0m     possible_gradient_type,\n\u001B[0;32m   1762\u001B[0m     executing_eagerly)\n\u001B[0;32m   1763\u001B[0m forward_function, args_with_tangents \u001B[38;5;241m=\u001B[39m forward_backward\u001B[38;5;241m.\u001B[39mforward()\n",
      "File \u001B[1;32m~\\AppData\\Roaming\\Python\\Python39\\site-packages\\tensorflow\\python\\eager\\polymorphic_function\\monomorphic_function.py:381\u001B[0m, in \u001B[0;36m_EagerDefinedFunction.call\u001B[1;34m(self, ctx, args, cancellation_manager)\u001B[0m\n\u001B[0;32m    379\u001B[0m \u001B[38;5;28;01mwith\u001B[39;00m _InterpolateFunctionError(\u001B[38;5;28mself\u001B[39m):\n\u001B[0;32m    380\u001B[0m   \u001B[38;5;28;01mif\u001B[39;00m cancellation_manager \u001B[38;5;129;01mis\u001B[39;00m \u001B[38;5;28;01mNone\u001B[39;00m:\n\u001B[1;32m--> 381\u001B[0m     outputs \u001B[38;5;241m=\u001B[39m \u001B[43mexecute\u001B[49m\u001B[38;5;241;43m.\u001B[39;49m\u001B[43mexecute\u001B[49m\u001B[43m(\u001B[49m\n\u001B[0;32m    382\u001B[0m \u001B[43m        \u001B[49m\u001B[38;5;28;43mstr\u001B[39;49m\u001B[43m(\u001B[49m\u001B[38;5;28;43mself\u001B[39;49m\u001B[38;5;241;43m.\u001B[39;49m\u001B[43msignature\u001B[49m\u001B[38;5;241;43m.\u001B[39;49m\u001B[43mname\u001B[49m\u001B[43m)\u001B[49m\u001B[43m,\u001B[49m\n\u001B[0;32m    383\u001B[0m \u001B[43m        \u001B[49m\u001B[43mnum_outputs\u001B[49m\u001B[38;5;241;43m=\u001B[39;49m\u001B[38;5;28;43mself\u001B[39;49m\u001B[38;5;241;43m.\u001B[39;49m\u001B[43m_num_outputs\u001B[49m\u001B[43m,\u001B[49m\n\u001B[0;32m    384\u001B[0m \u001B[43m        \u001B[49m\u001B[43minputs\u001B[49m\u001B[38;5;241;43m=\u001B[39;49m\u001B[43margs\u001B[49m\u001B[43m,\u001B[49m\n\u001B[0;32m    385\u001B[0m \u001B[43m        \u001B[49m\u001B[43mattrs\u001B[49m\u001B[38;5;241;43m=\u001B[39;49m\u001B[43mattrs\u001B[49m\u001B[43m,\u001B[49m\n\u001B[0;32m    386\u001B[0m \u001B[43m        \u001B[49m\u001B[43mctx\u001B[49m\u001B[38;5;241;43m=\u001B[39;49m\u001B[43mctx\u001B[49m\u001B[43m)\u001B[49m\n\u001B[0;32m    387\u001B[0m   \u001B[38;5;28;01melse\u001B[39;00m:\n\u001B[0;32m    388\u001B[0m     outputs \u001B[38;5;241m=\u001B[39m execute\u001B[38;5;241m.\u001B[39mexecute_with_cancellation(\n\u001B[0;32m    389\u001B[0m         \u001B[38;5;28mstr\u001B[39m(\u001B[38;5;28mself\u001B[39m\u001B[38;5;241m.\u001B[39msignature\u001B[38;5;241m.\u001B[39mname),\n\u001B[0;32m    390\u001B[0m         num_outputs\u001B[38;5;241m=\u001B[39m\u001B[38;5;28mself\u001B[39m\u001B[38;5;241m.\u001B[39m_num_outputs,\n\u001B[1;32m   (...)\u001B[0m\n\u001B[0;32m    393\u001B[0m         ctx\u001B[38;5;241m=\u001B[39mctx,\n\u001B[0;32m    394\u001B[0m         cancellation_manager\u001B[38;5;241m=\u001B[39mcancellation_manager)\n",
      "File \u001B[1;32m~\\AppData\\Roaming\\Python\\Python39\\site-packages\\tensorflow\\python\\eager\\execute.py:52\u001B[0m, in \u001B[0;36mquick_execute\u001B[1;34m(op_name, num_outputs, inputs, attrs, ctx, name)\u001B[0m\n\u001B[0;32m     50\u001B[0m \u001B[38;5;28;01mtry\u001B[39;00m:\n\u001B[0;32m     51\u001B[0m   ctx\u001B[38;5;241m.\u001B[39mensure_initialized()\n\u001B[1;32m---> 52\u001B[0m   tensors \u001B[38;5;241m=\u001B[39m \u001B[43mpywrap_tfe\u001B[49m\u001B[38;5;241;43m.\u001B[39;49m\u001B[43mTFE_Py_Execute\u001B[49m\u001B[43m(\u001B[49m\u001B[43mctx\u001B[49m\u001B[38;5;241;43m.\u001B[39;49m\u001B[43m_handle\u001B[49m\u001B[43m,\u001B[49m\u001B[43m \u001B[49m\u001B[43mdevice_name\u001B[49m\u001B[43m,\u001B[49m\u001B[43m \u001B[49m\u001B[43mop_name\u001B[49m\u001B[43m,\u001B[49m\n\u001B[0;32m     53\u001B[0m \u001B[43m                                      \u001B[49m\u001B[43minputs\u001B[49m\u001B[43m,\u001B[49m\u001B[43m \u001B[49m\u001B[43mattrs\u001B[49m\u001B[43m,\u001B[49m\u001B[43m \u001B[49m\u001B[43mnum_outputs\u001B[49m\u001B[43m)\u001B[49m\n\u001B[0;32m     54\u001B[0m \u001B[38;5;28;01mexcept\u001B[39;00m core\u001B[38;5;241m.\u001B[39m_NotOkStatusException \u001B[38;5;28;01mas\u001B[39;00m e:\n\u001B[0;32m     55\u001B[0m   \u001B[38;5;28;01mif\u001B[39;00m name \u001B[38;5;129;01mis\u001B[39;00m \u001B[38;5;129;01mnot\u001B[39;00m \u001B[38;5;28;01mNone\u001B[39;00m:\n",
      "\u001B[1;31mKeyboardInterrupt\u001B[0m: "
     ]
    }
   ],
   "source": [
    "# Numerical features\n",
    "for feature in list_num:\n",
    "  numeric_feature = tf.keras.Input(shape=(1,), name=feature)\n",
    "  normalization_layer = get_normalization_layer(feature, ds_train)\n",
    "  encoded_numeric_feature = normalization_layer(numeric_feature)\n",
    "  all_inputs.append(numeric_feature)\n",
    "  encoded_features.append(encoded_numeric_feature)"
   ],
   "metadata": {
    "collapsed": false,
    "ExecuteTime": {
     "end_time": "2023-06-07T15:31:50.895756800Z",
     "start_time": "2023-06-07T15:14:46.289320Z"
    }
   }
  },
  {
   "cell_type": "code",
   "execution_count": null,
   "outputs": [],
   "source": [
    "for feature in list_cat_int:\n",
    "  categorical_feature = tf.keras.Input(shape=(1,), name=feature, dtype='int32')\n",
    "  encoding_layer = get_category_encoding_layer(name=feature,\n",
    "                                               dataset=ds_train,\n",
    "                                               dtype='int32',\n",
    "                                               max_tokens=5)\n",
    "  encoded_categorical_feature = encoding_layer(categorical_feature)\n",
    "  all_inputs.append(categorical_feature)\n",
    "  encoded_features.append(encoded_categorical_feature)"
   ],
   "metadata": {
    "collapsed": false,
    "ExecuteTime": {
     "start_time": "2023-06-07T15:31:50.891238900Z"
    }
   }
  },
  {
   "cell_type": "code",
   "execution_count": null,
   "outputs": [],
   "source": [
    "for feature in list_cat_string:\n",
    "  categorical_feature = tf.keras.Input(shape=(1,), name=feature, dtype='string')\n",
    "  encoding_layer = get_category_encoding_layer(name=feature,\n",
    "                                               dataset=ds_train,\n",
    "                                               dtype='string',\n",
    "                                               max_tokens=5)\n",
    "  encoded_categorical_feature = encoding_layer(categorical_feature)\n",
    "  all_inputs.append(categorical_feature)\n",
    "  encoded_features.append(encoded_categorical_feature)"
   ],
   "metadata": {
    "collapsed": false,
    "ExecuteTime": {
     "start_time": "2023-06-07T15:31:50.892238Z"
    }
   }
  },
  {
   "cell_type": "code",
   "execution_count": null,
   "outputs": [],
   "source": [
    "# Input\n",
    "all_features = layers.concatenate(encoded_features)\n",
    "\n",
    "# First layer\n",
    "x = layers.Dense(32, activation=\"relu\")(all_features)\n",
    "\n",
    "# Dropout to prevent overvitting\n",
    "x = layers.Dropout(0.5)(x)\n",
    "\n",
    "# Output layer\n",
    "output = layers.Dense(1, activation=\"sigmoid\")(x)\n",
    "\n",
    "# Group all layers\n",
    "model = tf.keras.Model(all_inputs, output)"
   ],
   "metadata": {
    "collapsed": false,
    "ExecuteTime": {
     "start_time": "2023-06-07T15:31:50.894748400Z"
    }
   }
  },
  {
   "cell_type": "code",
   "execution_count": null,
   "outputs": [],
   "source": [
    "model.compile(optimizer=\"adam\",\n",
    "              loss =\"binary_crossentropy\",\n",
    "              metrics=[\"accuracy\"])"
   ],
   "metadata": {
    "collapsed": false
   }
  },
  {
   "cell_type": "code",
   "execution_count": null,
   "outputs": [],
   "source": [
    "# `rankdir='LR'` is to make the graph horizontal.\n",
    "tf.keras.utils.plot_model(model, show_shapes=True, rankdir=\"LR\")"
   ],
   "metadata": {
    "collapsed": false
   }
  },
  {
   "cell_type": "code",
   "execution_count": null,
   "outputs": [],
   "source": [
    "%%time\n",
    "model.fit(ds_train, epochs=10, validation_data=ds_val)"
   ],
   "metadata": {
    "collapsed": false
   }
  },
  {
   "cell_type": "code",
   "execution_count": null,
   "outputs": [],
   "source": [
    "loss, accuracy = model.evaluate(ds_val)\n",
    "\n",
    "print(\"Accuracy\", round(accuracy, 2))"
   ],
   "metadata": {
    "collapsed": false
   }
  },
  {
   "cell_type": "markdown",
   "source": [
    "Inference"
   ],
   "metadata": {
    "collapsed": false
   }
  },
  {
   "cell_type": "code",
   "execution_count": null,
   "outputs": [],
   "source": [
    "model.save('data/my_hd_classifier')"
   ],
   "metadata": {
    "collapsed": false
   }
  },
  {
   "cell_type": "code",
   "execution_count": null,
   "outputs": [],
   "source": [
    "reloaded_model = tf.keras.models.load_model('my_hd_classifier')"
   ],
   "metadata": {
    "collapsed": false
   }
  },
  {
   "cell_type": "code",
   "execution_count": null,
   "outputs": [],
   "source": [
    "sample = {\n",
    "    \"modified_sequence\": LPGSLETYVEQEQGENANDR,\n",
    "    \"precursor_charge\": 1,\n",
    "    \"precursor_intensity\": 1312312,\n",
    "}"
   ],
   "metadata": {
    "collapsed": false
   }
  },
  {
   "cell_type": "code",
   "execution_count": null,
   "outputs": [],
   "source": [
    "input_dict = {name: tf.convert_to_tensor([value]) for name, value in sample.items()}"
   ],
   "metadata": {
    "collapsed": false
   }
  },
  {
   "cell_type": "code",
   "execution_count": null,
   "outputs": [],
   "source": [
    "predictions = reloaded_model.predict(input_dict)"
   ],
   "metadata": {
    "collapsed": false
   }
  },
  {
   "cell_type": "code",
   "execution_count": null,
   "outputs": [],
   "source": [
    "print(\n",
    "    \"This sequence a %.1f percent probability \"\n",
    "    \"of having the given charge state, as evaluated by our model.\" % (100 * predictions[0][0],)\n",
    ")"
   ],
   "metadata": {
    "collapsed": false
   }
  }
 ],
 "metadata": {
  "kernelspec": {
   "display_name": "Python 3",
   "language": "python",
   "name": "python3"
  },
  "language_info": {
   "codemirror_mode": {
    "name": "ipython",
    "version": 2
   },
   "file_extension": ".py",
   "mimetype": "text/x-python",
   "name": "python",
   "nbconvert_exporter": "python",
   "pygments_lexer": "ipython2",
   "version": "2.7.6"
  }
 },
 "nbformat": 4,
 "nbformat_minor": 0
}

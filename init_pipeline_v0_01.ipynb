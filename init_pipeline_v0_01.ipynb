{
 "cells": [
  {
   "cell_type": "code",
   "execution_count": null,
   "outputs": [],
   "source": [
    "%pip install pandas\n",
    "%pip install fastparquet\n",
    "%pip install tensorflow\n",
    "%pip install numpy\n",
    "%pip install keras"
   ],
   "metadata": {
    "collapsed": false,
    "is_executing": true
   }
  },
  {
   "cell_type": "code",
   "execution_count": 3,
   "outputs": [],
   "source": [
    "import pandas as pd\n",
    "import os"
   ],
   "metadata": {
    "collapsed": false,
    "ExecuteTime": {
     "end_time": "2023-06-07T15:55:05.852012500Z",
     "start_time": "2023-06-07T15:54:59.762539800Z"
    }
   }
  },
  {
   "cell_type": "code",
   "execution_count": 4,
   "outputs": [],
   "source": [
    "df = pd.read_parquet(\"data/Thermo_SRM_Pool_meta_data.parquet\", engine='fastparquet')"
   ],
   "metadata": {
    "collapsed": false,
    "ExecuteTime": {
     "end_time": "2023-06-07T15:55:08.799712400Z",
     "start_time": "2023-06-07T15:55:05.853008500Z"
    }
   }
  },
  {
   "cell_type": "code",
   "execution_count": 5,
   "outputs": [
    {
     "name": "stdout",
     "output_type": "stream",
     "text": [
      "(6080606, 15)\n",
      "                                       raw_file  scan_number  \\\n",
      "0  01640c_BC1-Thermo_SRM_Pool_3_01_01-DDA-1h-R2        34736   \n",
      "1  01640c_BC1-Thermo_SRM_Pool_3_01_01-DDA-1h-R2        25591   \n",
      "2  01640c_BC1-Thermo_SRM_Pool_3_01_01-DDA-1h-R2        24831   \n",
      "3  01640c_BC1-Thermo_SRM_Pool_3_01_01-DDA-1h-R2        34870   \n",
      "\n",
      "      modified_sequence  precursor_charge  precursor_intensity          mz  \\\n",
      "0  LPGSLETYVEQEQGENANDR                 2           29525630.0  1125.01950   \n",
      "1       HGSLQEYLQNDTGSK                 2           13188580.0   838.89737   \n",
      "2        VEEEEEINSELTAR                 2           20663460.0   824.38904   \n",
      "3  LPGSLETYVEQEQGENANDR                 2           19884630.0  1125.01950   \n",
      "\n",
      "   precursor_mz fragmentation mass_analyzer  retention_time  \\\n",
      "0   1125.018331           CID          ITMS          38.411   \n",
      "1    838.894401           HCD          FTMS          30.394   \n",
      "2    824.388401           CID          ITMS          29.737   \n",
      "3   1125.018831           CID          ITMS          38.539   \n",
      "\n",
      "   indexed_retention_time  andromeda_score  peptide_length  \\\n",
      "0               62.827337           447.14              20   \n",
      "1               42.030163           417.84              15   \n",
      "2               40.325817           365.69              14   \n",
      "3               63.159386           365.02              20   \n",
      "\n",
      "   orig_collision_energy  aligned_collision_energy  \n",
      "0                   35.0                 35.000000  \n",
      "1                   28.0                 31.447596  \n",
      "2                   35.0                 35.000000  \n",
      "3                   35.0                 35.000000  \n"
     ]
    }
   ],
   "source": [
    "print(df.shape)\n",
    "print(df.head(4))"
   ],
   "metadata": {
    "collapsed": false,
    "ExecuteTime": {
     "end_time": "2023-06-07T15:55:08.825584100Z",
     "start_time": "2023-06-07T15:55:08.792662400Z"
    }
   }
  },
  {
   "cell_type": "code",
   "execution_count": 6,
   "outputs": [
    {
     "name": "stdout",
     "output_type": "stream",
     "text": [
      "Index(['raw_file', 'scan_number', 'modified_sequence', 'precursor_charge',\n",
      "       'precursor_intensity', 'mz', 'precursor_mz', 'fragmentation',\n",
      "       'mass_analyzer', 'retention_time', 'indexed_retention_time',\n",
      "       'andromeda_score', 'peptide_length', 'orig_collision_energy',\n",
      "       'aligned_collision_energy'],\n",
      "      dtype='object')\n"
     ]
    }
   ],
   "source": [
    "print(df.columns)"
   ],
   "metadata": {
    "collapsed": false,
    "ExecuteTime": {
     "end_time": "2023-06-07T15:55:08.842482Z",
     "start_time": "2023-06-07T15:55:08.804826200Z"
    }
   }
  },
  {
   "cell_type": "markdown",
   "source": [
    "Needed: modified_sequence, precursor charge, precursor_intensity (abundance), mz"
   ],
   "metadata": {
    "collapsed": false
   }
  },
  {
   "cell_type": "code",
   "execution_count": 7,
   "outputs": [
    {
     "name": "stdout",
     "output_type": "stream",
     "text": [
      "0 2 34736\n",
      "---raw_file                    01640c_BC1-Thermo_SRM_Pool_3_01_01-DDA-1h-R2\n",
      "scan_number                                                        34736\n",
      "modified_sequence                                   LPGSLETYVEQEQGENANDR\n",
      "precursor_charge                                                       2\n",
      "precursor_intensity                                           29525630.0\n",
      "mz                                                             1125.0195\n",
      "precursor_mz                                                 1125.018331\n",
      "fragmentation                                                        CID\n",
      "mass_analyzer                                                       ITMS\n",
      "retention_time                                                    38.411\n",
      "indexed_retention_time                                         62.827337\n",
      "andromeda_score                                                   447.14\n",
      "peptide_length                                                        20\n",
      "orig_collision_energy                                               35.0\n",
      "aligned_collision_energy                                            35.0\n",
      "      ------------------------\n",
      "3 2 34870\n",
      "---raw_file                    01640c_BC1-Thermo_SRM_Pool_3_01_01-DDA-1h-R2\n",
      "scan_number                                                        34870\n",
      "modified_sequence                                   LPGSLETYVEQEQGENANDR\n",
      "precursor_charge                                                       2\n",
      "precursor_intensity                                           19884630.0\n",
      "mz                                                             1125.0195\n",
      "precursor_mz                                                 1125.018831\n",
      "fragmentation                                                        CID\n",
      "mass_analyzer                                                       ITMS\n",
      "retention_time                                                    38.539\n",
      "indexed_retention_time                                         63.159386\n",
      "andromeda_score                                                   365.02\n",
      "peptide_length                                                        20\n",
      "orig_collision_energy                                               35.0\n",
      "aligned_collision_energy                                            35.0\n",
      "      ------------------------\n",
      "116 2 34735\n",
      "---raw_file                    01640c_BC1-Thermo_SRM_Pool_3_01_01-DDA-1h-R2\n",
      "scan_number                                                        34735\n",
      "modified_sequence                                   LPGSLETYVEQEQGENANDR\n",
      "precursor_charge                                                       2\n",
      "precursor_intensity                                           29525630.0\n",
      "mz                                                             1125.0195\n",
      "precursor_mz                                                 1125.018331\n",
      "fragmentation                                                        HCD\n",
      "mass_analyzer                                                       FTMS\n",
      "retention_time                                                    38.411\n",
      "indexed_retention_time                                         62.827337\n",
      "andromeda_score                                                   261.19\n",
      "peptide_length                                                        20\n",
      "orig_collision_energy                                               28.0\n",
      "aligned_collision_energy                                       31.447596\n",
      "      ------------------------\n",
      "137 2 34869\n",
      "---raw_file                    01640c_BC1-Thermo_SRM_Pool_3_01_01-DDA-1h-R2\n",
      "scan_number                                                        34869\n",
      "modified_sequence                                   LPGSLETYVEQEQGENANDR\n",
      "precursor_charge                                                       2\n",
      "precursor_intensity                                           19884630.0\n",
      "mz                                                             1125.0195\n",
      "precursor_mz                                                 1125.018831\n",
      "fragmentation                                                        HCD\n",
      "mass_analyzer                                                       FTMS\n",
      "retention_time                                                    38.539\n",
      "indexed_retention_time                                         63.159386\n",
      "andromeda_score                                                   254.82\n",
      "peptide_length                                                        20\n",
      "orig_collision_energy                                               28.0\n",
      "aligned_collision_energy                                       31.447596\n",
      "      ------------------------\n",
      "382 2 35054\n",
      "---raw_file                    01640c_BC1-Thermo_SRM_Pool_3_01_01-DDA-1h-R2\n",
      "scan_number                                                        35054\n",
      "modified_sequence                                   LPGSLETYVEQEQGENANDR\n",
      "precursor_charge                                                       2\n",
      "precursor_intensity                                            4870492.0\n",
      "mz                                                             1125.0195\n",
      "precursor_mz                                                 1125.016729\n",
      "fragmentation                                                        CID\n",
      "mass_analyzer                                                       ITMS\n",
      "retention_time                                                      38.7\n",
      "indexed_retention_time                                         63.577042\n",
      "andromeda_score                                                   212.26\n",
      "peptide_length                                                        20\n",
      "orig_collision_energy                                               35.0\n",
      "aligned_collision_energy                                            35.0\n",
      "      ------------------------\n",
      "1316 2 35053\n",
      "---raw_file                    01640c_BC1-Thermo_SRM_Pool_3_01_01-DDA-1h-R2\n",
      "scan_number                                                        35053\n",
      "modified_sequence                                   LPGSLETYVEQEQGENANDR\n",
      "precursor_charge                                                       2\n",
      "precursor_intensity                                            4870492.0\n",
      "mz                                                             1125.0195\n",
      "precursor_mz                                                 1125.016729\n",
      "fragmentation                                                        HCD\n",
      "mass_analyzer                                                       FTMS\n",
      "retention_time                                                    38.699\n",
      "indexed_retention_time                                         63.574448\n",
      "andromeda_score                                                   156.08\n",
      "peptide_length                                                        20\n",
      "orig_collision_energy                                               28.0\n",
      "aligned_collision_energy                                       31.447596\n",
      "      ------------------------\n",
      "637293 2 35499\n",
      "---raw_file                    01640c_BC1-Thermo_SRM_Pool_3_01_01-2xIT_2xHCD-...\n",
      "scan_number                                                             35499\n",
      "modified_sequence                                        LPGSLETYVEQEQGENANDR\n",
      "precursor_charge                                                            2\n",
      "precursor_intensity                                                 3375284.0\n",
      "mz                                                                  1125.0195\n",
      "precursor_mz                                                      1125.016529\n",
      "fragmentation                                                             CID\n",
      "mass_analyzer                                                            ITMS\n",
      "retention_time                                                         39.199\n",
      "indexed_retention_time                                              62.521576\n",
      "andromeda_score                                                        324.29\n",
      "peptide_length                                                             20\n",
      "orig_collision_energy                                                    35.0\n",
      "aligned_collision_energy                                                 35.0\n",
      "      ------------------------\n",
      "637377 2 35438\n",
      "---raw_file                    01640c_BC1-Thermo_SRM_Pool_3_01_01-2xIT_2xHCD-...\n",
      "scan_number                                                             35438\n",
      "modified_sequence                                        LPGSLETYVEQEQGENANDR\n",
      "precursor_charge                                                            2\n",
      "precursor_intensity                                                 4693252.0\n",
      "mz                                                                  1125.0195\n",
      "precursor_mz                                                      1125.016729\n",
      "fragmentation                                                             CID\n",
      "mass_analyzer                                                            ITMS\n",
      "retention_time                                                         39.149\n",
      "indexed_retention_time                                              62.394659\n",
      "andromeda_score                                                        300.86\n",
      "peptide_length                                                             20\n",
      "orig_collision_energy                                                    35.0\n",
      "aligned_collision_energy                                                 35.0\n",
      "      ------------------------\n",
      "637533 2 35385\n",
      "---raw_file                    01640c_BC1-Thermo_SRM_Pool_3_01_01-2xIT_2xHCD-...\n",
      "scan_number                                                             35385\n",
      "modified_sequence                                        LPGSLETYVEQEQGENANDR\n",
      "precursor_charge                                                            2\n",
      "precursor_intensity                                                 4392028.0\n",
      "mz                                                                  1125.0195\n",
      "precursor_mz                                                      1125.016629\n",
      "fragmentation                                                             CID\n",
      "mass_analyzer                                                            ITMS\n",
      "retention_time                                                         39.105\n",
      "indexed_retention_time                                              62.282973\n",
      "andromeda_score                                                        277.64\n",
      "peptide_length                                                             20\n",
      "orig_collision_energy                                                    35.0\n",
      "aligned_collision_energy                                                 35.0\n",
      "      ------------------------\n",
      "638253 2 35500\n",
      "---raw_file                    01640c_BC1-Thermo_SRM_Pool_3_01_01-2xIT_2xHCD-...\n",
      "scan_number                                                             35500\n",
      "modified_sequence                                        LPGSLETYVEQEQGENANDR\n",
      "precursor_charge                                                            2\n",
      "precursor_intensity                                                 3375284.0\n",
      "mz                                                                  1125.0195\n",
      "precursor_mz                                                      1125.016529\n",
      "fragmentation                                                             HCD\n",
      "mass_analyzer                                                            ITMS\n",
      "retention_time                                                         39.199\n",
      "indexed_retention_time                                              62.521576\n",
      "andromeda_score                                                        232.37\n",
      "peptide_length                                                             20\n",
      "orig_collision_energy                                                    28.0\n",
      "aligned_collision_energy                                            30.026442\n",
      "      ------------------------\n",
      "638490 2 35439\n",
      "---raw_file                    01640c_BC1-Thermo_SRM_Pool_3_01_01-2xIT_2xHCD-...\n",
      "scan_number                                                             35439\n",
      "modified_sequence                                        LPGSLETYVEQEQGENANDR\n",
      "precursor_charge                                                            2\n",
      "precursor_intensity                                                 4693252.0\n",
      "mz                                                                  1125.0195\n",
      "precursor_mz                                                      1125.016729\n",
      "fragmentation                                                             HCD\n",
      "mass_analyzer                                                            ITMS\n",
      "retention_time                                                         39.149\n",
      "indexed_retention_time                                              62.394659\n",
      "andromeda_score                                                        222.93\n",
      "peptide_length                                                             20\n",
      "orig_collision_energy                                                    28.0\n",
      "aligned_collision_energy                                            30.026442\n",
      "      ------------------------\n",
      "639203 2 35386\n",
      "---raw_file                    01640c_BC1-Thermo_SRM_Pool_3_01_01-2xIT_2xHCD-...\n",
      "scan_number                                                             35386\n",
      "modified_sequence                                        LPGSLETYVEQEQGENANDR\n",
      "precursor_charge                                                            2\n",
      "precursor_intensity                                                 4392028.0\n",
      "mz                                                                  1125.0195\n",
      "precursor_mz                                                      1125.016629\n",
      "fragmentation                                                             HCD\n",
      "mass_analyzer                                                            ITMS\n",
      "retention_time                                                         39.105\n",
      "indexed_retention_time                                              62.282973\n",
      "andromeda_score                                                         205.0\n",
      "peptide_length                                                             20\n",
      "orig_collision_energy                                                    28.0\n",
      "aligned_collision_energy                                            30.026442\n",
      "      ------------------------\n",
      "639858 2 35735\n",
      "---raw_file                    01640c_BC1-Thermo_SRM_Pool_3_01_01-2xIT_2xHCD-...\n",
      "scan_number                                                             35735\n",
      "modified_sequence                                        LPGSLETYVEQEQGENANDR\n",
      "precursor_charge                                                            2\n",
      "precursor_intensity                                                  836486.2\n",
      "mz                                                                  1125.0195\n",
      "precursor_mz                                                       1125.01713\n",
      "fragmentation                                                             CID\n",
      "mass_analyzer                                                            ITMS\n",
      "retention_time                                                         39.387\n",
      "indexed_retention_time                                              62.998782\n",
      "andromeda_score                                                        193.63\n",
      "peptide_length                                                             20\n",
      "orig_collision_energy                                                    35.0\n",
      "aligned_collision_energy                                                 35.0\n",
      "      ------------------------\n",
      "645427 2 35984\n",
      "---raw_file                    01640c_BC1-Thermo_SRM_Pool_3_01_01-2xIT_2xHCD-...\n",
      "scan_number                                                             35984\n",
      "modified_sequence                                        LPGSLETYVEQEQGENANDR\n",
      "precursor_charge                                                            2\n",
      "precursor_intensity                                                  699286.8\n",
      "mz                                                                  1125.0195\n",
      "precursor_mz                                                      1125.015028\n",
      "fragmentation                                                             CID\n",
      "mass_analyzer                                                            ITMS\n",
      "retention_time                                                         39.591\n",
      "indexed_retention_time                                              63.516601\n",
      "andromeda_score                                                        135.98\n",
      "peptide_length                                                             20\n",
      "orig_collision_energy                                                    35.0\n",
      "aligned_collision_energy                                                 35.0\n",
      "      ------------------------\n",
      "646606 2 35736\n",
      "---raw_file                    01640c_BC1-Thermo_SRM_Pool_3_01_01-2xIT_2xHCD-...\n",
      "scan_number                                                             35736\n",
      "modified_sequence                                        LPGSLETYVEQEQGENANDR\n",
      "precursor_charge                                                            2\n",
      "precursor_intensity                                                  836486.2\n",
      "mz                                                                  1125.0195\n",
      "precursor_mz                                                       1125.01713\n",
      "fragmentation                                                             HCD\n",
      "mass_analyzer                                                            ITMS\n",
      "retention_time                                                         39.388\n",
      "indexed_retention_time                                               63.00132\n",
      "andromeda_score                                                        127.59\n",
      "peptide_length                                                             20\n",
      "orig_collision_energy                                                    28.0\n",
      "aligned_collision_energy                                            30.026442\n",
      "      ------------------------\n",
      "648185 2 36021\n",
      "---raw_file                    01640c_BC1-Thermo_SRM_Pool_3_01_01-2xIT_2xHCD-...\n",
      "scan_number                                                             36021\n",
      "modified_sequence                                        LPGSLETYVEQEQGENANDR\n",
      "precursor_charge                                                            2\n",
      "precursor_intensity                                                  429345.5\n",
      "mz                                                                  1125.0195\n",
      "precursor_mz                                                      1124.510977\n",
      "fragmentation                                                             CID\n",
      "mass_analyzer                                                            ITMS\n",
      "retention_time                                                         39.622\n",
      "indexed_retention_time                                              63.595289\n",
      "andromeda_score                                                        117.55\n",
      "peptide_length                                                             20\n",
      "orig_collision_energy                                                    35.0\n",
      "aligned_collision_energy                                                 35.0\n",
      "      ------------------------\n",
      "649025 2 35441\n",
      "---raw_file                    01640c_BC1-Thermo_SRM_Pool_3_01_01-2xIT_2xHCD-...\n",
      "scan_number                                                             35441\n",
      "modified_sequence                                        LPGSLETYVEQEQGENANDR\n",
      "precursor_charge                                                            2\n",
      "precursor_intensity                                                 4693252.0\n",
      "mz                                                                  1125.0195\n",
      "precursor_mz                                                      1125.016729\n",
      "fragmentation                                                             HCD\n",
      "mass_analyzer                                                            FTMS\n",
      "retention_time                                                         39.152\n",
      "indexed_retention_time                                              62.402274\n",
      "andromeda_score                                                        112.55\n",
      "peptide_length                                                             20\n",
      "orig_collision_energy                                                    23.0\n",
      "aligned_collision_energy                                            25.026442\n",
      "      ------------------------\n",
      "650826 2 35388\n",
      "---raw_file                    01640c_BC1-Thermo_SRM_Pool_3_01_01-2xIT_2xHCD-...\n",
      "scan_number                                                             35388\n",
      "modified_sequence                                        LPGSLETYVEQEQGENANDR\n",
      "precursor_charge                                                            2\n",
      "precursor_intensity                                                 4392028.0\n",
      "mz                                                                  1125.0195\n",
      "precursor_mz                                                      1125.016629\n",
      "fragmentation                                                             HCD\n",
      "mass_analyzer                                                            FTMS\n",
      "retention_time                                                         39.108\n",
      "indexed_retention_time                                              62.290588\n",
      "andromeda_score                                                        102.43\n",
      "peptide_length                                                             20\n",
      "orig_collision_energy                                                    23.0\n",
      "aligned_collision_energy                                            25.026442\n",
      "      ------------------------\n",
      "651716 2 36148\n",
      "---raw_file                    01640c_BC1-Thermo_SRM_Pool_3_01_01-2xIT_2xHCD-...\n",
      "scan_number                                                             36148\n",
      "modified_sequence                                        LPGSLETYVEQEQGENANDR\n",
      "precursor_charge                                                            2\n",
      "precursor_intensity                                                       NaN\n",
      "mz                                                                  1125.0195\n",
      "precursor_mz                                                       1125.01703\n",
      "fragmentation                                                             CID\n",
      "mass_analyzer                                                            ITMS\n",
      "retention_time                                                         39.728\n",
      "indexed_retention_time                                              63.864352\n",
      "andromeda_score                                                        97.256\n",
      "peptide_length                                                             20\n",
      "orig_collision_energy                                                    35.0\n",
      "aligned_collision_energy                                                 35.0\n",
      "      ------------------------\n",
      "652127 2 35985\n",
      "---raw_file                    01640c_BC1-Thermo_SRM_Pool_3_01_01-2xIT_2xHCD-...\n",
      "scan_number                                                             35985\n",
      "modified_sequence                                        LPGSLETYVEQEQGENANDR\n",
      "precursor_charge                                                            2\n",
      "precursor_intensity                                                  699286.8\n",
      "mz                                                                  1125.0195\n",
      "precursor_mz                                                      1125.015028\n",
      "fragmentation                                                             HCD\n",
      "mass_analyzer                                                            ITMS\n",
      "retention_time                                                         39.591\n",
      "indexed_retention_time                                              63.516601\n",
      "andromeda_score                                                        94.911\n",
      "peptide_length                                                             20\n",
      "orig_collision_energy                                                    28.0\n",
      "aligned_collision_energy                                            30.026442\n",
      "      ------------------------\n",
      "652745 2 35387\n",
      "---raw_file                    01640c_BC1-Thermo_SRM_Pool_3_01_01-2xIT_2xHCD-...\n",
      "scan_number                                                             35387\n",
      "modified_sequence                                        LPGSLETYVEQEQGENANDR\n",
      "precursor_charge                                                            2\n",
      "precursor_intensity                                                 4392028.0\n",
      "mz                                                                  1125.0195\n",
      "precursor_mz                                                      1125.016629\n",
      "fragmentation                                                             HCD\n",
      "mass_analyzer                                                            FTMS\n",
      "retention_time                                                         39.107\n",
      "indexed_retention_time                                               62.28805\n",
      "andromeda_score                                                        91.276\n",
      "peptide_length                                                             20\n",
      "orig_collision_energy                                                    20.0\n",
      "aligned_collision_energy                                            22.026442\n",
      "      ------------------------\n",
      "654078 2 36022\n",
      "---raw_file                    01640c_BC1-Thermo_SRM_Pool_3_01_01-2xIT_2xHCD-...\n",
      "scan_number                                                             36022\n",
      "modified_sequence                                        LPGSLETYVEQEQGENANDR\n",
      "precursor_charge                                                            2\n",
      "precursor_intensity                                                  429345.5\n",
      "mz                                                                  1125.0195\n",
      "precursor_mz                                                      1124.510977\n",
      "fragmentation                                                             HCD\n",
      "mass_analyzer                                                            ITMS\n",
      "retention_time                                                         39.623\n",
      "indexed_retention_time                                              63.597827\n",
      "andromeda_score                                                        83.393\n",
      "peptide_length                                                             20\n",
      "orig_collision_energy                                                    28.0\n",
      "aligned_collision_energy                                            30.026442\n",
      "      ------------------------\n",
      "655810 2 35502\n",
      "---raw_file                    01640c_BC1-Thermo_SRM_Pool_3_01_01-2xIT_2xHCD-...\n",
      "scan_number                                                             35502\n",
      "modified_sequence                                        LPGSLETYVEQEQGENANDR\n",
      "precursor_charge                                                            2\n",
      "precursor_intensity                                                 3375284.0\n",
      "mz                                                                  1125.0195\n",
      "precursor_mz                                                      1125.016529\n",
      "fragmentation                                                             HCD\n",
      "mass_analyzer                                                            FTMS\n",
      "retention_time                                                         39.201\n",
      "indexed_retention_time                                              62.526652\n",
      "andromeda_score                                                        72.568\n",
      "peptide_length                                                             20\n",
      "orig_collision_energy                                                    23.0\n",
      "aligned_collision_energy                                            25.026442\n",
      "      ------------------------\n",
      "656068 2 35440\n",
      "---raw_file                    01640c_BC1-Thermo_SRM_Pool_3_01_01-2xIT_2xHCD-...\n",
      "scan_number                                                             35440\n",
      "modified_sequence                                        LPGSLETYVEQEQGENANDR\n",
      "precursor_charge                                                            2\n",
      "precursor_intensity                                                 4693252.0\n",
      "mz                                                                  1125.0195\n",
      "precursor_mz                                                      1125.016729\n",
      "fragmentation                                                             HCD\n",
      "mass_analyzer                                                            FTMS\n",
      "retention_time                                                         39.151\n",
      "indexed_retention_time                                              62.399736\n",
      "andromeda_score                                                        71.148\n",
      "peptide_length                                                             20\n",
      "orig_collision_energy                                                    20.0\n",
      "aligned_collision_energy                                            22.026442\n",
      "      ------------------------\n",
      "656712 2 36149\n",
      "---raw_file                    01640c_BC1-Thermo_SRM_Pool_3_01_01-2xIT_2xHCD-...\n",
      "scan_number                                                             36149\n",
      "modified_sequence                                        LPGSLETYVEQEQGENANDR\n",
      "precursor_charge                                                            2\n",
      "precursor_intensity                                                       NaN\n",
      "mz                                                                  1125.0195\n",
      "precursor_mz                                                       1125.01703\n",
      "fragmentation                                                             HCD\n",
      "mass_analyzer                                                            ITMS\n",
      "retention_time                                                         39.729\n",
      "indexed_retention_time                                               63.86689\n",
      "andromeda_score                                                        67.227\n",
      "peptide_length                                                             20\n",
      "orig_collision_energy                                                    28.0\n",
      "aligned_collision_energy                                            30.026442\n",
      "      ------------------------\n",
      "661186 2 35501\n",
      "---raw_file                    01640c_BC1-Thermo_SRM_Pool_3_01_01-2xIT_2xHCD-...\n",
      "scan_number                                                             35501\n",
      "modified_sequence                                        LPGSLETYVEQEQGENANDR\n",
      "precursor_charge                                                            2\n",
      "precursor_intensity                                                 3375284.0\n",
      "mz                                                                  1125.0195\n",
      "precursor_mz                                                      1125.016529\n",
      "fragmentation                                                             HCD\n",
      "mass_analyzer                                                            FTMS\n",
      "retention_time                                                         39.201\n",
      "indexed_retention_time                                              62.526652\n",
      "andromeda_score                                                          37.4\n",
      "peptide_length                                                             20\n",
      "orig_collision_energy                                                    20.0\n",
      "aligned_collision_energy                                            22.026442\n",
      "      ------------------------\n",
      "662437 2 35738\n",
      "---raw_file                    01640c_BC1-Thermo_SRM_Pool_3_01_01-2xIT_2xHCD-...\n",
      "scan_number                                                             35738\n",
      "modified_sequence                                        LPGSLETYVEQEQGENANDR\n",
      "precursor_charge                                                            2\n",
      "precursor_intensity                                                  836486.2\n",
      "mz                                                                  1125.0195\n",
      "precursor_mz                                                       1125.01713\n",
      "fragmentation                                                             HCD\n",
      "mass_analyzer                                                            FTMS\n",
      "retention_time                                                          39.39\n",
      "indexed_retention_time                                              63.006397\n",
      "andromeda_score                                                         22.24\n",
      "peptide_length                                                             20\n",
      "orig_collision_energy                                                    23.0\n",
      "aligned_collision_energy                                            25.026442\n",
      "      ------------------------\n",
      "1136311 2 32177\n",
      "---raw_file                    01640c_BC1-Thermo_SRM_Pool_3_01_01-3xHCD-1h-R2\n",
      "scan_number                                                          32177\n",
      "modified_sequence                                     LPGSLETYVEQEQGENANDR\n",
      "precursor_charge                                                         2\n",
      "precursor_intensity                                              1178169.0\n",
      "mz                                                               1125.0195\n",
      "precursor_mz                                                   1125.014527\n",
      "fragmentation                                                          HCD\n",
      "mass_analyzer                                                         FTMS\n",
      "retention_time                                                      39.523\n",
      "indexed_retention_time                                           63.451097\n",
      "andromeda_score                                                     22.936\n",
      "peptide_length                                                          20\n",
      "orig_collision_energy                                                 25.0\n",
      "aligned_collision_energy                                         27.403363\n",
      "      ------------------------\n",
      "1136346 2 32178\n",
      "---raw_file                    01640c_BC1-Thermo_SRM_Pool_3_01_01-3xHCD-1h-R2\n",
      "scan_number                                                          32178\n",
      "modified_sequence                                     LPGSLETYVEQEQGENANDR\n",
      "precursor_charge                                                         2\n",
      "precursor_intensity                                              1178169.0\n",
      "mz                                                               1125.0195\n",
      "precursor_mz                                                   1125.014527\n",
      "fragmentation                                                          HCD\n",
      "mass_analyzer                                                         FTMS\n",
      "retention_time                                                      39.523\n",
      "indexed_retention_time                                           63.451097\n",
      "andromeda_score                                                     22.585\n",
      "peptide_length                                                          20\n",
      "orig_collision_energy                                                 30.0\n",
      "aligned_collision_energy                                         32.403363\n",
      "      ------------------------\n",
      "1136696 2 32312\n",
      "---raw_file                    01640c_BC1-Thermo_SRM_Pool_3_01_01-3xHCD-1h-R2\n",
      "scan_number                                                          32312\n",
      "modified_sequence                                     LPGSLETYVEQEQGENANDR\n",
      "precursor_charge                                                         2\n",
      "precursor_intensity                                               753348.4\n",
      "mz                                                               1125.0195\n",
      "precursor_mz                                                   1125.018631\n",
      "fragmentation                                                          HCD\n",
      "mass_analyzer                                                         FTMS\n",
      "retention_time                                                       39.64\n",
      "indexed_retention_time                                           63.747491\n",
      "andromeda_score                                                     18.936\n",
      "peptide_length                                                          20\n",
      "orig_collision_energy                                                 25.0\n",
      "aligned_collision_energy                                         27.403363\n",
      "      ------------------------\n",
      "1137608 2 32179\n",
      "---raw_file                    01640c_BC1-Thermo_SRM_Pool_3_01_01-3xHCD-1h-R2\n",
      "scan_number                                                          32179\n",
      "modified_sequence                                     LPGSLETYVEQEQGENANDR\n",
      "precursor_charge                                                         2\n",
      "precursor_intensity                                              1178169.0\n",
      "mz                                                               1125.0195\n",
      "precursor_mz                                                   1125.014527\n",
      "fragmentation                                                          HCD\n",
      "mass_analyzer                                                         FTMS\n",
      "retention_time                                                      39.524\n",
      "indexed_retention_time                                           63.453631\n",
      "andromeda_score                                                     10.765\n",
      "peptide_length                                                          20\n",
      "orig_collision_energy                                                 35.0\n",
      "aligned_collision_energy                                         37.403363\n",
      "      ------------------------\n",
      "1138194 2 32483\n",
      "---raw_file                    01640c_BC1-Thermo_SRM_Pool_3_01_01-3xHCD-1h-R2\n",
      "scan_number                                                          32483\n",
      "modified_sequence                                     LPGSLETYVEQEQGENANDR\n",
      "precursor_charge                                                         2\n",
      "precursor_intensity                                               501583.1\n",
      "mz                                                               1125.0195\n",
      "precursor_mz                                                   1125.014327\n",
      "fragmentation                                                          HCD\n",
      "mass_analyzer                                                         FTMS\n",
      "retention_time                                                      39.797\n",
      "indexed_retention_time                                           64.145216\n",
      "andromeda_score                                                     5.0003\n",
      "peptide_length                                                          20\n",
      "orig_collision_energy                                                 30.0\n",
      "aligned_collision_energy                                         32.403363\n",
      "      ------------------------\n",
      "1138219 2 32313\n",
      "---raw_file                    01640c_BC1-Thermo_SRM_Pool_3_01_01-3xHCD-1h-R2\n",
      "scan_number                                                          32313\n",
      "modified_sequence                                     LPGSLETYVEQEQGENANDR\n",
      "precursor_charge                                                         2\n",
      "precursor_intensity                                               753348.4\n",
      "mz                                                               1125.0195\n",
      "precursor_mz                                                   1125.018631\n",
      "fragmentation                                                          HCD\n",
      "mass_analyzer                                                         FTMS\n",
      "retention_time                                                       39.64\n",
      "indexed_retention_time                                           63.747491\n",
      "andromeda_score                                                     4.8769\n",
      "peptide_length                                                          20\n",
      "orig_collision_energy                                                 30.0\n",
      "aligned_collision_energy                                         32.403363\n",
      "      ------------------------\n",
      "1138236 2 32557\n",
      "---raw_file                    01640c_BC1-Thermo_SRM_Pool_3_01_01-3xHCD-1h-R2\n",
      "scan_number                                                          32557\n",
      "modified_sequence                                     LPGSLETYVEQEQGENANDR\n",
      "precursor_charge                                                         2\n",
      "precursor_intensity                                               656244.9\n",
      "mz                                                               1125.0195\n",
      "precursor_mz                                                   1125.018731\n",
      "fragmentation                                                          HCD\n",
      "mass_analyzer                                                         FTMS\n",
      "retention_time                                                      39.863\n",
      "indexed_retention_time                                           64.312413\n",
      "andromeda_score                                                     4.7567\n",
      "peptide_length                                                          20\n",
      "orig_collision_energy                                                 30.0\n",
      "aligned_collision_energy                                         32.403363\n",
      "      ------------------------\n",
      "1138237 2 32583\n",
      "---raw_file                    01640c_BC1-Thermo_SRM_Pool_3_01_01-3xHCD-1h-R2\n",
      "scan_number                                                          32583\n",
      "modified_sequence                                     LPGSLETYVEQEQGENANDR\n",
      "precursor_charge                                                         2\n",
      "precursor_intensity                                               174752.1\n",
      "mz                                                               1125.0195\n",
      "precursor_mz                                                   1125.016029\n",
      "fragmentation                                                          HCD\n",
      "mass_analyzer                                                         FTMS\n",
      "retention_time                                                      39.888\n",
      "indexed_retention_time                                           64.375745\n",
      "andromeda_score                                                     4.7567\n",
      "peptide_length                                                          20\n",
      "orig_collision_energy                                                 35.0\n",
      "aligned_collision_energy                                         37.403363\n",
      "      ------------------------\n",
      "1138417 2 32482\n",
      "---raw_file                    01640c_BC1-Thermo_SRM_Pool_3_01_01-3xHCD-1h-R2\n",
      "scan_number                                                          32482\n",
      "modified_sequence                                     LPGSLETYVEQEQGENANDR\n",
      "precursor_charge                                                         2\n",
      "precursor_intensity                                               501583.1\n",
      "mz                                                               1125.0195\n",
      "precursor_mz                                                   1125.014327\n",
      "fragmentation                                                          HCD\n",
      "mass_analyzer                                                         FTMS\n",
      "retention_time                                                      39.796\n",
      "indexed_retention_time                                           64.142683\n",
      "andromeda_score                                                      2.721\n",
      "peptide_length                                                          20\n",
      "orig_collision_energy                                                 25.0\n",
      "aligned_collision_energy                                         27.403363\n",
      "      ------------------------\n",
      "1138628 2 32314\n",
      "---raw_file                    01640c_BC1-Thermo_SRM_Pool_3_01_01-3xHCD-1h-R2\n",
      "scan_number                                                          32314\n",
      "modified_sequence                                     LPGSLETYVEQEQGENANDR\n",
      "precursor_charge                                                         2\n",
      "precursor_intensity                                               753348.4\n",
      "mz                                                               1125.0195\n",
      "precursor_mz                                                   1125.018631\n",
      "fragmentation                                                          HCD\n",
      "mass_analyzer                                                         FTMS\n",
      "retention_time                                                      39.641\n",
      "indexed_retention_time                                           63.750025\n",
      "andromeda_score                                                     1.1449\n",
      "peptide_length                                                          20\n",
      "orig_collision_energy                                                 35.0\n",
      "aligned_collision_energy                                         37.403363\n",
      "      ------------------------\n",
      "1138631 2 32484\n",
      "---raw_file                    01640c_BC1-Thermo_SRM_Pool_3_01_01-3xHCD-1h-R2\n",
      "scan_number                                                          32484\n",
      "modified_sequence                                     LPGSLETYVEQEQGENANDR\n",
      "precursor_charge                                                         2\n",
      "precursor_intensity                                               501583.1\n",
      "mz                                                               1125.0195\n",
      "precursor_mz                                                   1125.014327\n",
      "fragmentation                                                          HCD\n",
      "mass_analyzer                                                         FTMS\n",
      "retention_time                                                      39.798\n",
      "indexed_retention_time                                            64.14775\n",
      "andromeda_score                                                     1.1449\n",
      "peptide_length                                                          20\n",
      "orig_collision_energy                                                 35.0\n",
      "aligned_collision_energy                                         37.403363\n",
      "      ------------------------\n",
      "1138633 2 32582\n",
      "---raw_file                    01640c_BC1-Thermo_SRM_Pool_3_01_01-3xHCD-1h-R2\n",
      "scan_number                                                          32582\n",
      "modified_sequence                                     LPGSLETYVEQEQGENANDR\n",
      "precursor_charge                                                         2\n",
      "precursor_intensity                                               174752.1\n",
      "mz                                                               1125.0195\n",
      "precursor_mz                                                   1125.016029\n",
      "fragmentation                                                          HCD\n",
      "mass_analyzer                                                         FTMS\n",
      "retention_time                                                      39.887\n",
      "indexed_retention_time                                           64.373212\n",
      "andromeda_score                                                     1.1062\n",
      "peptide_length                                                          20\n",
      "orig_collision_energy                                                 30.0\n",
      "aligned_collision_energy                                         32.403363\n",
      "      ------------------------\n",
      "1138641 2 32581\n",
      "---raw_file                    01640c_BC1-Thermo_SRM_Pool_3_01_01-3xHCD-1h-R2\n",
      "scan_number                                                          32581\n",
      "modified_sequence                                     LPGSLETYVEQEQGENANDR\n",
      "precursor_charge                                                         2\n",
      "precursor_intensity                                               174752.1\n",
      "mz                                                               1125.0195\n",
      "precursor_mz                                                   1125.016029\n",
      "fragmentation                                                          HCD\n",
      "mass_analyzer                                                         FTMS\n",
      "retention_time                                                      39.886\n",
      "indexed_retention_time                                           64.370679\n",
      "andromeda_score                                                     1.1062\n",
      "peptide_length                                                          20\n",
      "orig_collision_energy                                                 25.0\n",
      "aligned_collision_energy                                         27.403363\n",
      "      ------------------------\n",
      "1138810 2 32556\n",
      "---raw_file                    01640c_BC1-Thermo_SRM_Pool_3_01_01-3xHCD-1h-R2\n",
      "scan_number                                                          32556\n",
      "modified_sequence                                     LPGSLETYVEQEQGENANDR\n",
      "precursor_charge                                                         2\n",
      "precursor_intensity                                               656244.9\n",
      "mz                                                               1125.0195\n",
      "precursor_mz                                                   1125.018731\n",
      "fragmentation                                                          HCD\n",
      "mass_analyzer                                                         FTMS\n",
      "retention_time                                                      39.862\n",
      "indexed_retention_time                                            64.30988\n",
      "andromeda_score                                                    0.30394\n",
      "peptide_length                                                          20\n",
      "orig_collision_energy                                                 25.0\n",
      "aligned_collision_energy                                         27.403363\n",
      "      ------------------------\n"
     ]
    }
   ],
   "source": [
    "for index, seq in enumerate(df[\"modified_sequence\"]):\n",
    "    if seq == \"LPGSLETYVEQEQGENANDR\":\n",
    "        print(index, df[\"precursor_charge\"][index], df[\"scan_number\"][index])\n",
    "        # print df row\n",
    "        print(\"---\"+ df.iloc[index].to_string())\n",
    "        print(\"      ------------------------\")"
   ],
   "metadata": {
    "collapsed": false,
    "ExecuteTime": {
     "end_time": "2023-06-07T15:55:09.697759Z",
     "start_time": "2023-06-07T15:55:08.809113Z"
    }
   }
  },
  {
   "cell_type": "markdown",
   "source": [
    "Test: https://www.kirenz.com/post/2022-06-17-deep-learning-and-keras-data-preprocessing-with-structured-data/"
   ],
   "metadata": {
    "collapsed": false
   }
  },
  {
   "cell_type": "code",
   "execution_count": 8,
   "outputs": [],
   "source": [
    "#charge states 1-5\n",
    "y_label = \"precursor_charge\""
   ],
   "metadata": {
    "collapsed": false,
    "ExecuteTime": {
     "end_time": "2023-06-07T15:55:09.705848300Z",
     "start_time": "2023-06-07T15:55:09.697759Z"
    }
   }
  },
  {
   "cell_type": "code",
   "execution_count": 9,
   "outputs": [],
   "source": [
    "# Convert to categorical\n",
    "\n",
    "# make a list of all categorical variables\n",
    "cat_convert = ['scan_number', 'precursor_charge', 'precursor_intensity']\n",
    "\n",
    "# convert variables\n",
    "for i in cat_convert:\n",
    "    df[i] = df[i].astype(\"category\")"
   ],
   "metadata": {
    "collapsed": false,
    "ExecuteTime": {
     "end_time": "2023-06-07T15:55:11.454525400Z",
     "start_time": "2023-06-07T15:55:09.706847300Z"
    }
   }
  },
  {
   "cell_type": "code",
   "execution_count": 10,
   "outputs": [
    {
     "ename": "NameError",
     "evalue": "name 'np' is not defined",
     "output_type": "error",
     "traceback": [
      "\u001B[1;31m---------------------------------------------------------------------------\u001B[0m",
      "\u001B[1;31mNameError\u001B[0m                                 Traceback (most recent call last)",
      "Cell \u001B[1;32mIn[10], line 2\u001B[0m\n\u001B[0;32m      1\u001B[0m \u001B[38;5;66;03m# Make list of all numerical data (except label)\u001B[39;00m\n\u001B[1;32m----> 2\u001B[0m list_num \u001B[38;5;241m=\u001B[39m df\u001B[38;5;241m.\u001B[39mdrop(columns\u001B[38;5;241m=\u001B[39m[y_label])\u001B[38;5;241m.\u001B[39mselect_dtypes(include\u001B[38;5;241m=\u001B[39m[\u001B[43mnp\u001B[49m\u001B[38;5;241m.\u001B[39mnumber])\u001B[38;5;241m.\u001B[39mcolumns\u001B[38;5;241m.\u001B[39mtolist()\n\u001B[0;32m      4\u001B[0m \u001B[38;5;66;03m# Make list of all categorical data which is stored as integers (except label)\u001B[39;00m\n\u001B[0;32m      5\u001B[0m list_cat_int \u001B[38;5;241m=\u001B[39m df\u001B[38;5;241m.\u001B[39mdrop(columns\u001B[38;5;241m=\u001B[39m[y_label])\u001B[38;5;241m.\u001B[39mselect_dtypes(include\u001B[38;5;241m=\u001B[39m[\u001B[38;5;124m'\u001B[39m\u001B[38;5;124mcategory\u001B[39m\u001B[38;5;124m'\u001B[39m])\u001B[38;5;241m.\u001B[39mcolumns\u001B[38;5;241m.\u001B[39mtolist()\n",
      "\u001B[1;31mNameError\u001B[0m: name 'np' is not defined"
     ]
    }
   ],
   "source": [
    "# Make list of all numerical data (except label)\n",
    "list_num = df.drop(columns=[y_label]).select_dtypes(include=[np.number]).columns.tolist()\n",
    "\n",
    "# Make list of all categorical data which is stored as integers (except label)\n",
    "list_cat_int = df.drop(columns=[y_label]).select_dtypes(include=['category']).columns.tolist()\n",
    "\n",
    "# Make list of all categorical data which is stored as string (except label)\n",
    "list_cat_string = df.drop(columns=[y_label]).select_dtypes(include=['string']).columns.tolist()"
   ],
   "metadata": {
    "collapsed": false,
    "ExecuteTime": {
     "end_time": "2023-06-07T15:55:12.403368800Z",
     "start_time": "2023-06-07T15:55:11.532537200Z"
    }
   }
  },
  {
   "cell_type": "code",
   "execution_count": null,
   "outputs": [],
   "source": [
    "df.info()"
   ],
   "metadata": {
    "collapsed": false
   }
  },
  {
   "cell_type": "code",
   "execution_count": null,
   "outputs": [],
   "source": [
    "# Make validation data\n",
    "df_val = df.sample(frac=0.2, random_state=1337)\n",
    "\n",
    "# Create training data\n",
    "df_train = df.drop(df_val.index)"
   ],
   "metadata": {
    "collapsed": false
   }
  },
  {
   "cell_type": "code",
   "execution_count": null,
   "outputs": [],
   "source": [
    "# Save training data\n",
    "df_train.to_csv(\"data/df_train.csv\", index=False)"
   ],
   "metadata": {
    "collapsed": false
   }
  },
  {
   "cell_type": "code",
   "execution_count": null,
   "outputs": [],
   "source": [
    "print(\n",
    "    \"Using %d samples for training and %d for validation\"\n",
    "    % (len(df_train), len(df_val))\n",
    ")"
   ],
   "metadata": {
    "collapsed": false
   }
  },
  {
   "cell_type": "code",
   "execution_count": null,
   "outputs": [],
   "source": [
    "# Define a function to create our tensors\n",
    "\n",
    "def dataframe_to_dataset(dataframe, shuffle=True, batch_size=32):\n",
    "    df = dataframe.copy()\n",
    "    labels = df.pop(y_label)\n",
    "    ds = tf.data.Dataset.from_tensor_slices((dict(df), labels))\n",
    "    if shuffle:\n",
    "        ds = ds.shuffle(buffer_size=len(dataframe))\n",
    "    ds = ds.batch(batch_size)\n",
    "    df = ds.prefetch(batch_size)\n",
    "    return ds"
   ],
   "metadata": {
    "collapsed": false
   }
  },
  {
   "cell_type": "code",
   "execution_count": null,
   "outputs": [],
   "source": [
    "import tensorflow as tf\n",
    "batch_size = 32\n",
    "\n",
    "ds_train = dataframe_to_dataset(df_train, shuffle=True, batch_size=batch_size)\n",
    "ds_val = dataframe_to_dataset(df_val, shuffle=True, batch_size=batch_size)"
   ],
   "metadata": {
    "collapsed": false
   }
  },
  {
   "cell_type": "code",
   "execution_count": null,
   "outputs": [],
   "source": [
    "# Define numerical preprocessing function\n",
    "def get_normalization_layer(name, dataset):\n",
    "\n",
    "    # Create a Normalization layer for our feature\n",
    "    normalizer = layers.Normalization(axis=None)\n",
    "\n",
    "    # Prepare a dataset that only yields our feature\n",
    "    feature_ds = dataset.map(lambda x, y: x[name])\n",
    "\n",
    "    # Learn the statistics of the data\n",
    "    normalizer.adapt(feature_ds)\n",
    "\n",
    "    # Normalize the input feature\n",
    "    return normalizer"
   ],
   "metadata": {
    "collapsed": false
   }
  },
  {
   "cell_type": "code",
   "execution_count": 11,
   "outputs": [
    {
     "ename": "ModuleNotFoundError",
     "evalue": "No module named 'tensorflow'",
     "output_type": "error",
     "traceback": [
      "\u001B[1;31m---------------------------------------------------------------------------\u001B[0m",
      "\u001B[1;31mModuleNotFoundError\u001B[0m                       Traceback (most recent call last)",
      "Cell \u001B[1;32mIn[11], line 1\u001B[0m\n\u001B[1;32m----> 1\u001B[0m \u001B[38;5;28;01mfrom\u001B[39;00m \u001B[38;5;21;01mtensorflow\u001B[39;00m\u001B[38;5;21;01m.\u001B[39;00m\u001B[38;5;21;01mkeras\u001B[39;00m \u001B[38;5;28;01mimport\u001B[39;00m layers\n\u001B[0;32m      2\u001B[0m \u001B[38;5;28;01mdef\u001B[39;00m \u001B[38;5;21mget_category_encoding_layer\u001B[39m(name, dataset, dtype, max_tokens\u001B[38;5;241m=\u001B[39m\u001B[38;5;28;01mNone\u001B[39;00m):\n\u001B[0;32m      3\u001B[0m \n\u001B[0;32m      4\u001B[0m   \u001B[38;5;66;03m# Create a layer that turns strings into integer indices.\u001B[39;00m\n\u001B[0;32m      5\u001B[0m   \u001B[38;5;28;01mif\u001B[39;00m dtype \u001B[38;5;241m==\u001B[39m \u001B[38;5;124m'\u001B[39m\u001B[38;5;124mstring\u001B[39m\u001B[38;5;124m'\u001B[39m:\n",
      "\u001B[1;31mModuleNotFoundError\u001B[0m: No module named 'tensorflow'"
     ]
    }
   ],
   "source": [
    "from tensorflow.keras import layers\n",
    "def get_category_encoding_layer(name, dataset, dtype, max_tokens=None):\n",
    "\n",
    "  # Create a layer that turns strings into integer indices.\n",
    "  if dtype == 'string':\n",
    "    index = layers.StringLookup(max_tokens=max_tokens)\n",
    "  # Otherwise, create a layer that turns integer values into integer indices.\n",
    "  else:\n",
    "    index = layers.IntegerLookup(max_tokens=max_tokens)\n",
    "\n",
    "  # Prepare a `tf.data.Dataset` that only yields the feature.\n",
    "  feature_ds = dataset.map(lambda x, y: x[name])\n",
    "\n",
    "  # Learn the set of possible values and assign them a fixed integer index.\n",
    "  index.adapt(feature_ds)\n",
    "\n",
    "  # Encode the integer indices.\n",
    "  encoder = layers.CategoryEncoding(num_tokens=index.vocabulary_size())\n",
    "\n",
    "  # Apply multi-hot encoding to the indices. The lambda function captures the\n",
    "  # layer, so you can use them, or include them in the Keras Functional model later.\n",
    "  return lambda feature: encoder(index(feature))"
   ],
   "metadata": {
    "collapsed": false,
    "ExecuteTime": {
     "end_time": "2023-06-07T15:55:12.983998200Z",
     "start_time": "2023-06-07T15:55:12.906230100Z"
    }
   }
  },
  {
   "cell_type": "code",
   "execution_count": 52,
   "outputs": [],
   "source": [
    "all_inputs = []\n",
    "encoded_features = []"
   ],
   "metadata": {
    "collapsed": false,
    "ExecuteTime": {
     "end_time": "2023-06-07T15:14:16.058692500Z",
     "start_time": "2023-06-07T15:14:16.036153200Z"
    }
   }
  },
  {
   "cell_type": "code",
   "execution_count": 54,
   "outputs": [
    {
     "ename": "KeyboardInterrupt",
     "evalue": "",
     "output_type": "error",
     "traceback": [
      "\u001B[1;31m---------------------------------------------------------------------------\u001B[0m",
      "\u001B[1;31mKeyboardInterrupt\u001B[0m                         Traceback (most recent call last)",
      "Cell \u001B[1;32mIn[54], line 4\u001B[0m\n\u001B[0;32m      2\u001B[0m \u001B[38;5;28;01mfor\u001B[39;00m feature \u001B[38;5;129;01min\u001B[39;00m list_num:\n\u001B[0;32m      3\u001B[0m   numeric_feature \u001B[38;5;241m=\u001B[39m tf\u001B[38;5;241m.\u001B[39mkeras\u001B[38;5;241m.\u001B[39mInput(shape\u001B[38;5;241m=\u001B[39m(\u001B[38;5;241m1\u001B[39m,), name\u001B[38;5;241m=\u001B[39mfeature)\n\u001B[1;32m----> 4\u001B[0m   normalization_layer \u001B[38;5;241m=\u001B[39m \u001B[43mget_normalization_layer\u001B[49m\u001B[43m(\u001B[49m\u001B[43mfeature\u001B[49m\u001B[43m,\u001B[49m\u001B[43m \u001B[49m\u001B[43mds_train\u001B[49m\u001B[43m)\u001B[49m\n\u001B[0;32m      5\u001B[0m   encoded_numeric_feature \u001B[38;5;241m=\u001B[39m normalization_layer(numeric_feature)\n\u001B[0;32m      6\u001B[0m   all_inputs\u001B[38;5;241m.\u001B[39mappend(numeric_feature)\n",
      "Cell \u001B[1;32mIn[45], line 11\u001B[0m, in \u001B[0;36mget_normalization_layer\u001B[1;34m(name, dataset)\u001B[0m\n\u001B[0;32m      8\u001B[0m feature_ds \u001B[38;5;241m=\u001B[39m dataset\u001B[38;5;241m.\u001B[39mmap(\u001B[38;5;28;01mlambda\u001B[39;00m x, y: x[name])\n\u001B[0;32m     10\u001B[0m \u001B[38;5;66;03m# Learn the statistics of the data\u001B[39;00m\n\u001B[1;32m---> 11\u001B[0m \u001B[43mnormalizer\u001B[49m\u001B[38;5;241;43m.\u001B[39;49m\u001B[43madapt\u001B[49m\u001B[43m(\u001B[49m\u001B[43mfeature_ds\u001B[49m\u001B[43m)\u001B[49m\n\u001B[0;32m     13\u001B[0m \u001B[38;5;66;03m# Normalize the input feature\u001B[39;00m\n\u001B[0;32m     14\u001B[0m \u001B[38;5;28;01mreturn\u001B[39;00m normalizer\n",
      "File \u001B[1;32m~\\AppData\\Roaming\\Python\\Python39\\site-packages\\keras\\layers\\preprocessing\\normalization.py:286\u001B[0m, in \u001B[0;36mNormalization.adapt\u001B[1;34m(self, data, batch_size, steps)\u001B[0m\n\u001B[0;32m    240\u001B[0m \u001B[38;5;28;01mdef\u001B[39;00m \u001B[38;5;21madapt\u001B[39m(\u001B[38;5;28mself\u001B[39m, data, batch_size\u001B[38;5;241m=\u001B[39m\u001B[38;5;28;01mNone\u001B[39;00m, steps\u001B[38;5;241m=\u001B[39m\u001B[38;5;28;01mNone\u001B[39;00m):\n\u001B[0;32m    241\u001B[0m \u001B[38;5;250m    \u001B[39m\u001B[38;5;124;03m\"\"\"Computes the mean and variance of values in a dataset.\u001B[39;00m\n\u001B[0;32m    242\u001B[0m \n\u001B[0;32m    243\u001B[0m \u001B[38;5;124;03m    Calling `adapt()` on a `Normalization` layer is an alternative to\u001B[39;00m\n\u001B[1;32m   (...)\u001B[0m\n\u001B[0;32m    284\u001B[0m \u001B[38;5;124;03m          argument is not supported with array inputs.\u001B[39;00m\n\u001B[0;32m    285\u001B[0m \u001B[38;5;124;03m    \"\"\"\u001B[39;00m\n\u001B[1;32m--> 286\u001B[0m     \u001B[38;5;28;43msuper\u001B[39;49m\u001B[43m(\u001B[49m\u001B[43m)\u001B[49m\u001B[38;5;241;43m.\u001B[39;49m\u001B[43madapt\u001B[49m\u001B[43m(\u001B[49m\u001B[43mdata\u001B[49m\u001B[43m,\u001B[49m\u001B[43m \u001B[49m\u001B[43mbatch_size\u001B[49m\u001B[38;5;241;43m=\u001B[39;49m\u001B[43mbatch_size\u001B[49m\u001B[43m,\u001B[49m\u001B[43m \u001B[49m\u001B[43msteps\u001B[49m\u001B[38;5;241;43m=\u001B[39;49m\u001B[43msteps\u001B[49m\u001B[43m)\u001B[49m\n",
      "File \u001B[1;32m~\\AppData\\Roaming\\Python\\Python39\\site-packages\\keras\\engine\\base_preprocessing_layer.py:258\u001B[0m, in \u001B[0;36mPreprocessingLayer.adapt\u001B[1;34m(self, data, batch_size, steps)\u001B[0m\n\u001B[0;32m    256\u001B[0m \u001B[38;5;28;01mwith\u001B[39;00m data_handler\u001B[38;5;241m.\u001B[39mcatch_stop_iteration():\n\u001B[0;32m    257\u001B[0m     \u001B[38;5;28;01mfor\u001B[39;00m _ \u001B[38;5;129;01min\u001B[39;00m data_handler\u001B[38;5;241m.\u001B[39msteps():\n\u001B[1;32m--> 258\u001B[0m         \u001B[38;5;28;43mself\u001B[39;49m\u001B[38;5;241;43m.\u001B[39;49m\u001B[43m_adapt_function\u001B[49m\u001B[43m(\u001B[49m\u001B[43miterator\u001B[49m\u001B[43m)\u001B[49m\n\u001B[0;32m    259\u001B[0m         \u001B[38;5;28;01mif\u001B[39;00m data_handler\u001B[38;5;241m.\u001B[39mshould_sync:\n\u001B[0;32m    260\u001B[0m             context\u001B[38;5;241m.\u001B[39masync_wait()\n",
      "File \u001B[1;32m~\\AppData\\Roaming\\Python\\Python39\\site-packages\\tensorflow\\python\\util\\traceback_utils.py:150\u001B[0m, in \u001B[0;36mfilter_traceback.<locals>.error_handler\u001B[1;34m(*args, **kwargs)\u001B[0m\n\u001B[0;32m    148\u001B[0m filtered_tb \u001B[38;5;241m=\u001B[39m \u001B[38;5;28;01mNone\u001B[39;00m\n\u001B[0;32m    149\u001B[0m \u001B[38;5;28;01mtry\u001B[39;00m:\n\u001B[1;32m--> 150\u001B[0m   \u001B[38;5;28;01mreturn\u001B[39;00m fn(\u001B[38;5;241m*\u001B[39margs, \u001B[38;5;241m*\u001B[39m\u001B[38;5;241m*\u001B[39mkwargs)\n\u001B[0;32m    151\u001B[0m \u001B[38;5;28;01mexcept\u001B[39;00m \u001B[38;5;167;01mException\u001B[39;00m \u001B[38;5;28;01mas\u001B[39;00m e:\n\u001B[0;32m    152\u001B[0m   filtered_tb \u001B[38;5;241m=\u001B[39m _process_traceback_frames(e\u001B[38;5;241m.\u001B[39m__traceback__)\n",
      "File \u001B[1;32m~\\AppData\\Roaming\\Python\\Python39\\site-packages\\tensorflow\\python\\eager\\polymorphic_function\\polymorphic_function.py:894\u001B[0m, in \u001B[0;36mFunction.__call__\u001B[1;34m(self, *args, **kwds)\u001B[0m\n\u001B[0;32m    891\u001B[0m compiler \u001B[38;5;241m=\u001B[39m \u001B[38;5;124m\"\u001B[39m\u001B[38;5;124mxla\u001B[39m\u001B[38;5;124m\"\u001B[39m \u001B[38;5;28;01mif\u001B[39;00m \u001B[38;5;28mself\u001B[39m\u001B[38;5;241m.\u001B[39m_jit_compile \u001B[38;5;28;01melse\u001B[39;00m \u001B[38;5;124m\"\u001B[39m\u001B[38;5;124mnonXla\u001B[39m\u001B[38;5;124m\"\u001B[39m\n\u001B[0;32m    893\u001B[0m \u001B[38;5;28;01mwith\u001B[39;00m OptionalXlaContext(\u001B[38;5;28mself\u001B[39m\u001B[38;5;241m.\u001B[39m_jit_compile):\n\u001B[1;32m--> 894\u001B[0m   result \u001B[38;5;241m=\u001B[39m \u001B[38;5;28mself\u001B[39m\u001B[38;5;241m.\u001B[39m_call(\u001B[38;5;241m*\u001B[39margs, \u001B[38;5;241m*\u001B[39m\u001B[38;5;241m*\u001B[39mkwds)\n\u001B[0;32m    896\u001B[0m new_tracing_count \u001B[38;5;241m=\u001B[39m \u001B[38;5;28mself\u001B[39m\u001B[38;5;241m.\u001B[39mexperimental_get_tracing_count()\n\u001B[0;32m    897\u001B[0m without_tracing \u001B[38;5;241m=\u001B[39m (tracing_count \u001B[38;5;241m==\u001B[39m new_tracing_count)\n",
      "File \u001B[1;32m~\\AppData\\Roaming\\Python\\Python39\\site-packages\\tensorflow\\python\\eager\\polymorphic_function\\polymorphic_function.py:926\u001B[0m, in \u001B[0;36mFunction._call\u001B[1;34m(self, *args, **kwds)\u001B[0m\n\u001B[0;32m    923\u001B[0m   \u001B[38;5;28mself\u001B[39m\u001B[38;5;241m.\u001B[39m_lock\u001B[38;5;241m.\u001B[39mrelease()\n\u001B[0;32m    924\u001B[0m   \u001B[38;5;66;03m# In this case we have created variables on the first call, so we run the\u001B[39;00m\n\u001B[0;32m    925\u001B[0m   \u001B[38;5;66;03m# defunned version which is guaranteed to never create variables.\u001B[39;00m\n\u001B[1;32m--> 926\u001B[0m   \u001B[38;5;28;01mreturn\u001B[39;00m \u001B[38;5;28mself\u001B[39m\u001B[38;5;241m.\u001B[39m_no_variable_creation_fn(\u001B[38;5;241m*\u001B[39margs, \u001B[38;5;241m*\u001B[39m\u001B[38;5;241m*\u001B[39mkwds)  \u001B[38;5;66;03m# pylint: disable=not-callable\u001B[39;00m\n\u001B[0;32m    927\u001B[0m \u001B[38;5;28;01melif\u001B[39;00m \u001B[38;5;28mself\u001B[39m\u001B[38;5;241m.\u001B[39m_variable_creation_fn \u001B[38;5;129;01mis\u001B[39;00m \u001B[38;5;129;01mnot\u001B[39;00m \u001B[38;5;28;01mNone\u001B[39;00m:\n\u001B[0;32m    928\u001B[0m   \u001B[38;5;66;03m# Release the lock early so that multiple threads can perform the call\u001B[39;00m\n\u001B[0;32m    929\u001B[0m   \u001B[38;5;66;03m# in parallel.\u001B[39;00m\n\u001B[0;32m    930\u001B[0m   \u001B[38;5;28mself\u001B[39m\u001B[38;5;241m.\u001B[39m_lock\u001B[38;5;241m.\u001B[39mrelease()\n",
      "File \u001B[1;32m~\\AppData\\Roaming\\Python\\Python39\\site-packages\\tensorflow\\python\\eager\\polymorphic_function\\tracing_compiler.py:143\u001B[0m, in \u001B[0;36mTracingCompiler.__call__\u001B[1;34m(self, *args, **kwargs)\u001B[0m\n\u001B[0;32m    140\u001B[0m \u001B[38;5;28;01mwith\u001B[39;00m \u001B[38;5;28mself\u001B[39m\u001B[38;5;241m.\u001B[39m_lock:\n\u001B[0;32m    141\u001B[0m   (concrete_function,\n\u001B[0;32m    142\u001B[0m    filtered_flat_args) \u001B[38;5;241m=\u001B[39m \u001B[38;5;28mself\u001B[39m\u001B[38;5;241m.\u001B[39m_maybe_define_function(args, kwargs)\n\u001B[1;32m--> 143\u001B[0m \u001B[38;5;28;01mreturn\u001B[39;00m \u001B[43mconcrete_function\u001B[49m\u001B[38;5;241;43m.\u001B[39;49m\u001B[43m_call_flat\u001B[49m\u001B[43m(\u001B[49m\n\u001B[0;32m    144\u001B[0m \u001B[43m    \u001B[49m\u001B[43mfiltered_flat_args\u001B[49m\u001B[43m,\u001B[49m\u001B[43m \u001B[49m\u001B[43mcaptured_inputs\u001B[49m\u001B[38;5;241;43m=\u001B[39;49m\u001B[43mconcrete_function\u001B[49m\u001B[38;5;241;43m.\u001B[39;49m\u001B[43mcaptured_inputs\u001B[49m\u001B[43m)\u001B[49m\n",
      "File \u001B[1;32m~\\AppData\\Roaming\\Python\\Python39\\site-packages\\tensorflow\\python\\eager\\polymorphic_function\\monomorphic_function.py:1757\u001B[0m, in \u001B[0;36mConcreteFunction._call_flat\u001B[1;34m(self, args, captured_inputs, cancellation_manager)\u001B[0m\n\u001B[0;32m   1753\u001B[0m possible_gradient_type \u001B[38;5;241m=\u001B[39m gradients_util\u001B[38;5;241m.\u001B[39mPossibleTapeGradientTypes(args)\n\u001B[0;32m   1754\u001B[0m \u001B[38;5;28;01mif\u001B[39;00m (possible_gradient_type \u001B[38;5;241m==\u001B[39m gradients_util\u001B[38;5;241m.\u001B[39mPOSSIBLE_GRADIENT_TYPES_NONE\n\u001B[0;32m   1755\u001B[0m     \u001B[38;5;129;01mand\u001B[39;00m executing_eagerly):\n\u001B[0;32m   1756\u001B[0m   \u001B[38;5;66;03m# No tape is watching; skip to running the function.\u001B[39;00m\n\u001B[1;32m-> 1757\u001B[0m   \u001B[38;5;28;01mreturn\u001B[39;00m \u001B[38;5;28mself\u001B[39m\u001B[38;5;241m.\u001B[39m_build_call_outputs(\u001B[38;5;28;43mself\u001B[39;49m\u001B[38;5;241;43m.\u001B[39;49m\u001B[43m_inference_function\u001B[49m\u001B[38;5;241;43m.\u001B[39;49m\u001B[43mcall\u001B[49m\u001B[43m(\u001B[49m\n\u001B[0;32m   1758\u001B[0m \u001B[43m      \u001B[49m\u001B[43mctx\u001B[49m\u001B[43m,\u001B[49m\u001B[43m \u001B[49m\u001B[43margs\u001B[49m\u001B[43m,\u001B[49m\u001B[43m \u001B[49m\u001B[43mcancellation_manager\u001B[49m\u001B[38;5;241;43m=\u001B[39;49m\u001B[43mcancellation_manager\u001B[49m\u001B[43m)\u001B[49m)\n\u001B[0;32m   1759\u001B[0m forward_backward \u001B[38;5;241m=\u001B[39m \u001B[38;5;28mself\u001B[39m\u001B[38;5;241m.\u001B[39m_select_forward_and_backward_functions(\n\u001B[0;32m   1760\u001B[0m     args,\n\u001B[0;32m   1761\u001B[0m     possible_gradient_type,\n\u001B[0;32m   1762\u001B[0m     executing_eagerly)\n\u001B[0;32m   1763\u001B[0m forward_function, args_with_tangents \u001B[38;5;241m=\u001B[39m forward_backward\u001B[38;5;241m.\u001B[39mforward()\n",
      "File \u001B[1;32m~\\AppData\\Roaming\\Python\\Python39\\site-packages\\tensorflow\\python\\eager\\polymorphic_function\\monomorphic_function.py:381\u001B[0m, in \u001B[0;36m_EagerDefinedFunction.call\u001B[1;34m(self, ctx, args, cancellation_manager)\u001B[0m\n\u001B[0;32m    379\u001B[0m \u001B[38;5;28;01mwith\u001B[39;00m _InterpolateFunctionError(\u001B[38;5;28mself\u001B[39m):\n\u001B[0;32m    380\u001B[0m   \u001B[38;5;28;01mif\u001B[39;00m cancellation_manager \u001B[38;5;129;01mis\u001B[39;00m \u001B[38;5;28;01mNone\u001B[39;00m:\n\u001B[1;32m--> 381\u001B[0m     outputs \u001B[38;5;241m=\u001B[39m \u001B[43mexecute\u001B[49m\u001B[38;5;241;43m.\u001B[39;49m\u001B[43mexecute\u001B[49m\u001B[43m(\u001B[49m\n\u001B[0;32m    382\u001B[0m \u001B[43m        \u001B[49m\u001B[38;5;28;43mstr\u001B[39;49m\u001B[43m(\u001B[49m\u001B[38;5;28;43mself\u001B[39;49m\u001B[38;5;241;43m.\u001B[39;49m\u001B[43msignature\u001B[49m\u001B[38;5;241;43m.\u001B[39;49m\u001B[43mname\u001B[49m\u001B[43m)\u001B[49m\u001B[43m,\u001B[49m\n\u001B[0;32m    383\u001B[0m \u001B[43m        \u001B[49m\u001B[43mnum_outputs\u001B[49m\u001B[38;5;241;43m=\u001B[39;49m\u001B[38;5;28;43mself\u001B[39;49m\u001B[38;5;241;43m.\u001B[39;49m\u001B[43m_num_outputs\u001B[49m\u001B[43m,\u001B[49m\n\u001B[0;32m    384\u001B[0m \u001B[43m        \u001B[49m\u001B[43minputs\u001B[49m\u001B[38;5;241;43m=\u001B[39;49m\u001B[43margs\u001B[49m\u001B[43m,\u001B[49m\n\u001B[0;32m    385\u001B[0m \u001B[43m        \u001B[49m\u001B[43mattrs\u001B[49m\u001B[38;5;241;43m=\u001B[39;49m\u001B[43mattrs\u001B[49m\u001B[43m,\u001B[49m\n\u001B[0;32m    386\u001B[0m \u001B[43m        \u001B[49m\u001B[43mctx\u001B[49m\u001B[38;5;241;43m=\u001B[39;49m\u001B[43mctx\u001B[49m\u001B[43m)\u001B[49m\n\u001B[0;32m    387\u001B[0m   \u001B[38;5;28;01melse\u001B[39;00m:\n\u001B[0;32m    388\u001B[0m     outputs \u001B[38;5;241m=\u001B[39m execute\u001B[38;5;241m.\u001B[39mexecute_with_cancellation(\n\u001B[0;32m    389\u001B[0m         \u001B[38;5;28mstr\u001B[39m(\u001B[38;5;28mself\u001B[39m\u001B[38;5;241m.\u001B[39msignature\u001B[38;5;241m.\u001B[39mname),\n\u001B[0;32m    390\u001B[0m         num_outputs\u001B[38;5;241m=\u001B[39m\u001B[38;5;28mself\u001B[39m\u001B[38;5;241m.\u001B[39m_num_outputs,\n\u001B[1;32m   (...)\u001B[0m\n\u001B[0;32m    393\u001B[0m         ctx\u001B[38;5;241m=\u001B[39mctx,\n\u001B[0;32m    394\u001B[0m         cancellation_manager\u001B[38;5;241m=\u001B[39mcancellation_manager)\n",
      "File \u001B[1;32m~\\AppData\\Roaming\\Python\\Python39\\site-packages\\tensorflow\\python\\eager\\execute.py:52\u001B[0m, in \u001B[0;36mquick_execute\u001B[1;34m(op_name, num_outputs, inputs, attrs, ctx, name)\u001B[0m\n\u001B[0;32m     50\u001B[0m \u001B[38;5;28;01mtry\u001B[39;00m:\n\u001B[0;32m     51\u001B[0m   ctx\u001B[38;5;241m.\u001B[39mensure_initialized()\n\u001B[1;32m---> 52\u001B[0m   tensors \u001B[38;5;241m=\u001B[39m \u001B[43mpywrap_tfe\u001B[49m\u001B[38;5;241;43m.\u001B[39;49m\u001B[43mTFE_Py_Execute\u001B[49m\u001B[43m(\u001B[49m\u001B[43mctx\u001B[49m\u001B[38;5;241;43m.\u001B[39;49m\u001B[43m_handle\u001B[49m\u001B[43m,\u001B[49m\u001B[43m \u001B[49m\u001B[43mdevice_name\u001B[49m\u001B[43m,\u001B[49m\u001B[43m \u001B[49m\u001B[43mop_name\u001B[49m\u001B[43m,\u001B[49m\n\u001B[0;32m     53\u001B[0m \u001B[43m                                      \u001B[49m\u001B[43minputs\u001B[49m\u001B[43m,\u001B[49m\u001B[43m \u001B[49m\u001B[43mattrs\u001B[49m\u001B[43m,\u001B[49m\u001B[43m \u001B[49m\u001B[43mnum_outputs\u001B[49m\u001B[43m)\u001B[49m\n\u001B[0;32m     54\u001B[0m \u001B[38;5;28;01mexcept\u001B[39;00m core\u001B[38;5;241m.\u001B[39m_NotOkStatusException \u001B[38;5;28;01mas\u001B[39;00m e:\n\u001B[0;32m     55\u001B[0m   \u001B[38;5;28;01mif\u001B[39;00m name \u001B[38;5;129;01mis\u001B[39;00m \u001B[38;5;129;01mnot\u001B[39;00m \u001B[38;5;28;01mNone\u001B[39;00m:\n",
      "\u001B[1;31mKeyboardInterrupt\u001B[0m: "
     ]
    }
   ],
   "source": [
    "# Numerical features\n",
    "for feature in list_num:\n",
    "  numeric_feature = tf.keras.Input(shape=(1,), name=feature)\n",
    "  normalization_layer = get_normalization_layer(feature, ds_train)\n",
    "  encoded_numeric_feature = normalization_layer(numeric_feature)\n",
    "  all_inputs.append(numeric_feature)\n",
    "  encoded_features.append(encoded_numeric_feature)"
   ],
   "metadata": {
    "collapsed": false,
    "ExecuteTime": {
     "end_time": "2023-06-07T15:31:50.895756800Z",
     "start_time": "2023-06-07T15:14:46.289320Z"
    }
   }
  },
  {
   "cell_type": "code",
   "execution_count": null,
   "outputs": [],
   "source": [
    "for feature in list_cat_int:\n",
    "  categorical_feature = tf.keras.Input(shape=(1,), name=feature, dtype='int32')\n",
    "  encoding_layer = get_category_encoding_layer(name=feature,\n",
    "                                               dataset=ds_train,\n",
    "                                               dtype='int32',\n",
    "                                               max_tokens=5)\n",
    "  encoded_categorical_feature = encoding_layer(categorical_feature)\n",
    "  all_inputs.append(categorical_feature)\n",
    "  encoded_features.append(encoded_categorical_feature)"
   ],
   "metadata": {
    "collapsed": false,
    "ExecuteTime": {
     "start_time": "2023-06-07T15:31:50.891238900Z"
    }
   }
  },
  {
   "cell_type": "code",
   "execution_count": null,
   "outputs": [],
   "source": [
    "for feature in list_cat_string:\n",
    "  categorical_feature = tf.keras.Input(shape=(1,), name=feature, dtype='string')\n",
    "  encoding_layer = get_category_encoding_layer(name=feature,\n",
    "                                               dataset=ds_train,\n",
    "                                               dtype='string',\n",
    "                                               max_tokens=5)\n",
    "  encoded_categorical_feature = encoding_layer(categorical_feature)\n",
    "  all_inputs.append(categorical_feature)\n",
    "  encoded_features.append(encoded_categorical_feature)"
   ],
   "metadata": {
    "collapsed": false,
    "ExecuteTime": {
     "start_time": "2023-06-07T15:31:50.892238Z"
    }
   }
  },
  {
   "cell_type": "code",
   "execution_count": null,
   "outputs": [],
   "source": [
    "# Input\n",
    "all_features = layers.concatenate(encoded_features)\n",
    "\n",
    "# First layer\n",
    "x = layers.Dense(32, activation=\"relu\")(all_features)\n",
    "\n",
    "# Dropout to prevent overvitting\n",
    "x = layers.Dropout(0.5)(x)\n",
    "\n",
    "# Output layer\n",
    "output = layers.Dense(1, activation=\"sigmoid\")(x)\n",
    "\n",
    "# Group all layers\n",
    "model = tf.keras.Model(all_inputs, output)"
   ],
   "metadata": {
    "collapsed": false,
    "ExecuteTime": {
     "start_time": "2023-06-07T15:31:50.894748400Z"
    }
   }
  },
  {
   "cell_type": "code",
   "execution_count": null,
   "outputs": [],
   "source": [
    "model.compile(optimizer=\"adam\",\n",
    "              loss =\"binary_crossentropy\",\n",
    "              metrics=[\"accuracy\"])"
   ],
   "metadata": {
    "collapsed": false
   }
  },
  {
   "cell_type": "code",
   "execution_count": null,
   "outputs": [],
   "source": [
    "# `rankdir='LR'` is to make the graph horizontal.\n",
    "tf.keras.utils.plot_model(model, show_shapes=True, rankdir=\"LR\")"
   ],
   "metadata": {
    "collapsed": false
   }
  },
  {
   "cell_type": "code",
   "execution_count": null,
   "outputs": [],
   "source": [
    "%%time\n",
    "model.fit(ds_train, epochs=10, validation_data=ds_val)"
   ],
   "metadata": {
    "collapsed": false
   }
  },
  {
   "cell_type": "code",
   "execution_count": null,
   "outputs": [],
   "source": [
    "loss, accuracy = model.evaluate(ds_val)\n",
    "\n",
    "print(\"Accuracy\", round(accuracy, 2))"
   ],
   "metadata": {
    "collapsed": false
   }
  },
  {
   "cell_type": "markdown",
   "source": [
    "Inference"
   ],
   "metadata": {
    "collapsed": false
   }
  },
  {
   "cell_type": "code",
   "execution_count": null,
   "outputs": [],
   "source": [
    "model.save('data/my_hd_classifier')"
   ],
   "metadata": {
    "collapsed": false
   }
  },
  {
   "cell_type": "code",
   "execution_count": null,
   "outputs": [],
   "source": [
    "reloaded_model = tf.keras.models.load_model('my_hd_classifier')"
   ],
   "metadata": {
    "collapsed": false
   }
  },
  {
   "cell_type": "code",
   "execution_count": null,
   "outputs": [],
   "source": [
    "sample = {\n",
    "    \"modified_sequence\": LPGSLETYVEQEQGENANDR,\n",
    "    \"precursor_charge\": 1,\n",
    "    \"precursor_intensity\": 1312312,\n",
    "}"
   ],
   "metadata": {
    "collapsed": false
   }
  },
  {
   "cell_type": "code",
   "execution_count": null,
   "outputs": [],
   "source": [
    "input_dict = {name: tf.convert_to_tensor([value]) for name, value in sample.items()}"
   ],
   "metadata": {
    "collapsed": false
   }
  },
  {
   "cell_type": "code",
   "execution_count": null,
   "outputs": [],
   "source": [
    "predictions = reloaded_model.predict(input_dict)"
   ],
   "metadata": {
    "collapsed": false
   }
  },
  {
   "cell_type": "code",
   "execution_count": null,
   "outputs": [],
   "source": [
    "print(\n",
    "    \"This sequence a %.1f percent probability \"\n",
    "    \"of having the given charge state, as evaluated by our model.\" % (100 * predictions[0][0],)\n",
    ")"
   ],
   "metadata": {
    "collapsed": false
   }
  }
 ],
 "metadata": {
  "kernelspec": {
   "display_name": "Python 3",
   "language": "python",
   "name": "python3"
  },
  "language_info": {
   "codemirror_mode": {
    "name": "ipython",
    "version": 2
   },
   "file_extension": ".py",
   "mimetype": "text/x-python",
   "name": "python",
   "nbconvert_exporter": "python",
   "pygments_lexer": "ipython2",
   "version": "2.7.6"
  }
 },
 "nbformat": 4,
 "nbformat_minor": 0
}

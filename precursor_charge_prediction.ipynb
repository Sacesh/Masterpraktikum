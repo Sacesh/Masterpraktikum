{
 "cells": [
  {
   "cell_type": "markdown",
   "source": [
    "## Dependencies"
   ],
   "metadata": {
    "collapsed": false
   }
  },
  {
   "cell_type": "code",
   "execution_count": 1,
   "outputs": [
    {
     "name": "stdout",
     "output_type": "stream",
     "text": [
      "Requirement already satisfied: pandas in c:\\users\\florian\\desktop\\uni\\msc\\masterpraktikum\\venv\\lib\\site-packages (1.5.3)\n",
      "Requirement already satisfied: python-dateutil>=2.8.1 in c:\\users\\florian\\desktop\\uni\\msc\\masterpraktikum\\venv\\lib\\site-packages (from pandas) (2.8.2)\n",
      "Requirement already satisfied: pytz>=2020.1 in c:\\users\\florian\\desktop\\uni\\msc\\masterpraktikum\\venv\\lib\\site-packages (from pandas) (2023.3)\n",
      "Requirement already satisfied: numpy>=1.21.0 in c:\\users\\florian\\desktop\\uni\\msc\\masterpraktikum\\venv\\lib\\site-packages (from pandas) (1.23.5)\n",
      "Requirement already satisfied: six>=1.5 in c:\\users\\florian\\desktop\\uni\\msc\\masterpraktikum\\venv\\lib\\site-packages (from python-dateutil>=2.8.1->pandas) (1.16.0)\n",
      "Note: you may need to restart the kernel to use updated packages.\n",
      "Requirement already satisfied: fastparquet in c:\\users\\florian\\desktop\\uni\\msc\\masterpraktikum\\venv\\lib\\site-packages (2023.4.0)\n",
      "Requirement already satisfied: pandas>=1.5.0 in c:\\users\\florian\\desktop\\uni\\msc\\masterpraktikum\\venv\\lib\\site-packages (from fastparquet) (1.5.3)\n",
      "Requirement already satisfied: numpy>=1.20.3 in c:\\users\\florian\\desktop\\uni\\msc\\masterpraktikum\\venv\\lib\\site-packages (from fastparquet) (1.23.5)\n",
      "Requirement already satisfied: cramjam>=2.3 in c:\\users\\florian\\desktop\\uni\\msc\\masterpraktikum\\venv\\lib\\site-packages (from fastparquet) (2.6.2)\n",
      "Requirement already satisfied: fsspec in c:\\users\\florian\\desktop\\uni\\msc\\masterpraktikum\\venv\\lib\\site-packages (from fastparquet) (2023.5.0)\n",
      "Requirement already satisfied: packaging in c:\\users\\florian\\desktop\\uni\\msc\\masterpraktikum\\venv\\lib\\site-packages (from fastparquet) (23.1)\n",
      "Requirement already satisfied: python-dateutil>=2.8.1 in c:\\users\\florian\\desktop\\uni\\msc\\masterpraktikum\\venv\\lib\\site-packages (from pandas>=1.5.0->fastparquet) (2.8.2)\n",
      "Requirement already satisfied: pytz>=2020.1 in c:\\users\\florian\\desktop\\uni\\msc\\masterpraktikum\\venv\\lib\\site-packages (from pandas>=1.5.0->fastparquet) (2023.3)\n",
      "Requirement already satisfied: six>=1.5 in c:\\users\\florian\\desktop\\uni\\msc\\masterpraktikum\\venv\\lib\\site-packages (from python-dateutil>=2.8.1->pandas>=1.5.0->fastparquet) (1.16.0)\n",
      "Note: you may need to restart the kernel to use updated packages.\n",
      "Requirement already satisfied: tensorflow in c:\\users\\florian\\desktop\\uni\\msc\\masterpraktikum\\venv\\lib\\site-packages (2.12.0)\n",
      "Requirement already satisfied: tensorflow-intel==2.12.0 in c:\\users\\florian\\desktop\\uni\\msc\\masterpraktikum\\venv\\lib\\site-packages (from tensorflow) (2.12.0)\n",
      "Requirement already satisfied: absl-py>=1.0.0 in c:\\users\\florian\\desktop\\uni\\msc\\masterpraktikum\\venv\\lib\\site-packages (from tensorflow-intel==2.12.0->tensorflow) (1.4.0)\n",
      "Requirement already satisfied: astunparse>=1.6.0 in c:\\users\\florian\\desktop\\uni\\msc\\masterpraktikum\\venv\\lib\\site-packages (from tensorflow-intel==2.12.0->tensorflow) (1.6.3)\n",
      "Requirement already satisfied: flatbuffers>=2.0 in c:\\users\\florian\\desktop\\uni\\msc\\masterpraktikum\\venv\\lib\\site-packages (from tensorflow-intel==2.12.0->tensorflow) (23.5.26)\n",
      "Requirement already satisfied: gast<=0.4.0,>=0.2.1 in c:\\users\\florian\\desktop\\uni\\msc\\masterpraktikum\\venv\\lib\\site-packages (from tensorflow-intel==2.12.0->tensorflow) (0.4.0)\n",
      "Requirement already satisfied: google-pasta>=0.1.1 in c:\\users\\florian\\desktop\\uni\\msc\\masterpraktikum\\venv\\lib\\site-packages (from tensorflow-intel==2.12.0->tensorflow) (0.2.0)\n",
      "Requirement already satisfied: h5py>=2.9.0 in c:\\users\\florian\\desktop\\uni\\msc\\masterpraktikum\\venv\\lib\\site-packages (from tensorflow-intel==2.12.0->tensorflow) (3.8.0)\n",
      "Requirement already satisfied: jax>=0.3.15 in c:\\users\\florian\\desktop\\uni\\msc\\masterpraktikum\\venv\\lib\\site-packages (from tensorflow-intel==2.12.0->tensorflow) (0.4.11)\n",
      "Requirement already satisfied: libclang>=13.0.0 in c:\\users\\florian\\desktop\\uni\\msc\\masterpraktikum\\venv\\lib\\site-packages (from tensorflow-intel==2.12.0->tensorflow) (16.0.0)\n",
      "Requirement already satisfied: numpy<1.24,>=1.22 in c:\\users\\florian\\desktop\\uni\\msc\\masterpraktikum\\venv\\lib\\site-packages (from tensorflow-intel==2.12.0->tensorflow) (1.23.5)\n",
      "Requirement already satisfied: opt-einsum>=2.3.2 in c:\\users\\florian\\desktop\\uni\\msc\\masterpraktikum\\venv\\lib\\site-packages (from tensorflow-intel==2.12.0->tensorflow) (3.3.0)\n",
      "Requirement already satisfied: packaging in c:\\users\\florian\\desktop\\uni\\msc\\masterpraktikum\\venv\\lib\\site-packages (from tensorflow-intel==2.12.0->tensorflow) (23.1)\n",
      "Requirement already satisfied: protobuf!=4.21.0,!=4.21.1,!=4.21.2,!=4.21.3,!=4.21.4,!=4.21.5,<5.0.0dev,>=3.20.3 in c:\\users\\florian\\desktop\\uni\\msc\\masterpraktikum\\venv\\lib\\site-packages (from tensorflow-intel==2.12.0->tensorflow) (4.23.2)\n",
      "Requirement already satisfied: setuptools in c:\\users\\florian\\desktop\\uni\\msc\\masterpraktikum\\venv\\lib\\site-packages (from tensorflow-intel==2.12.0->tensorflow) (65.5.1)\n",
      "Requirement already satisfied: six>=1.12.0 in c:\\users\\florian\\desktop\\uni\\msc\\masterpraktikum\\venv\\lib\\site-packages (from tensorflow-intel==2.12.0->tensorflow) (1.16.0)\n",
      "Requirement already satisfied: termcolor>=1.1.0 in c:\\users\\florian\\desktop\\uni\\msc\\masterpraktikum\\venv\\lib\\site-packages (from tensorflow-intel==2.12.0->tensorflow) (2.3.0)\n",
      "Requirement already satisfied: typing-extensions>=3.6.6 in c:\\users\\florian\\desktop\\uni\\msc\\masterpraktikum\\venv\\lib\\site-packages (from tensorflow-intel==2.12.0->tensorflow) (4.6.3)\n",
      "Requirement already satisfied: wrapt<1.15,>=1.11.0 in c:\\users\\florian\\desktop\\uni\\msc\\masterpraktikum\\venv\\lib\\site-packages (from tensorflow-intel==2.12.0->tensorflow) (1.14.1)\n",
      "Requirement already satisfied: grpcio<2.0,>=1.24.3 in c:\\users\\florian\\desktop\\uni\\msc\\masterpraktikum\\venv\\lib\\site-packages (from tensorflow-intel==2.12.0->tensorflow) (1.54.2)\n",
      "Requirement already satisfied: tensorboard<2.13,>=2.12 in c:\\users\\florian\\desktop\\uni\\msc\\masterpraktikum\\venv\\lib\\site-packages (from tensorflow-intel==2.12.0->tensorflow) (2.12.3)\n",
      "Requirement already satisfied: tensorflow-estimator<2.13,>=2.12.0 in c:\\users\\florian\\desktop\\uni\\msc\\masterpraktikum\\venv\\lib\\site-packages (from tensorflow-intel==2.12.0->tensorflow) (2.12.0)\n",
      "Requirement already satisfied: keras<2.13,>=2.12.0 in c:\\users\\florian\\desktop\\uni\\msc\\masterpraktikum\\venv\\lib\\site-packages (from tensorflow-intel==2.12.0->tensorflow) (2.12.0)\n",
      "Requirement already satisfied: tensorflow-io-gcs-filesystem>=0.23.1 in c:\\users\\florian\\desktop\\uni\\msc\\masterpraktikum\\venv\\lib\\site-packages (from tensorflow-intel==2.12.0->tensorflow) (0.31.0)\n",
      "Requirement already satisfied: wheel<1.0,>=0.23.0 in c:\\users\\florian\\desktop\\uni\\msc\\masterpraktikum\\venv\\lib\\site-packages (from astunparse>=1.6.0->tensorflow-intel==2.12.0->tensorflow) (0.38.4)\n",
      "Requirement already satisfied: ml-dtypes>=0.1.0 in c:\\users\\florian\\desktop\\uni\\msc\\masterpraktikum\\venv\\lib\\site-packages (from jax>=0.3.15->tensorflow-intel==2.12.0->tensorflow) (0.2.0)\n",
      "Requirement already satisfied: scipy>=1.7 in c:\\users\\florian\\desktop\\uni\\msc\\masterpraktikum\\venv\\lib\\site-packages (from jax>=0.3.15->tensorflow-intel==2.12.0->tensorflow) (1.10.1)\n",
      "Requirement already satisfied: google-auth<3,>=1.6.3 in c:\\users\\florian\\desktop\\uni\\msc\\masterpraktikum\\venv\\lib\\site-packages (from tensorboard<2.13,>=2.12->tensorflow-intel==2.12.0->tensorflow) (2.19.1)\n",
      "Requirement already satisfied: google-auth-oauthlib<1.1,>=0.5 in c:\\users\\florian\\desktop\\uni\\msc\\masterpraktikum\\venv\\lib\\site-packages (from tensorboard<2.13,>=2.12->tensorflow-intel==2.12.0->tensorflow) (1.0.0)\n",
      "Requirement already satisfied: markdown>=2.6.8 in c:\\users\\florian\\desktop\\uni\\msc\\masterpraktikum\\venv\\lib\\site-packages (from tensorboard<2.13,>=2.12->tensorflow-intel==2.12.0->tensorflow) (3.4.3)\n",
      "Requirement already satisfied: requests<3,>=2.21.0 in c:\\users\\florian\\desktop\\uni\\msc\\masterpraktikum\\venv\\lib\\site-packages (from tensorboard<2.13,>=2.12->tensorflow-intel==2.12.0->tensorflow) (2.31.0)\n",
      "Requirement already satisfied: tensorboard-data-server<0.8.0,>=0.7.0 in c:\\users\\florian\\desktop\\uni\\msc\\masterpraktikum\\venv\\lib\\site-packages (from tensorboard<2.13,>=2.12->tensorflow-intel==2.12.0->tensorflow) (0.7.0)\n",
      "Requirement already satisfied: werkzeug>=1.0.1 in c:\\users\\florian\\desktop\\uni\\msc\\masterpraktikum\\venv\\lib\\site-packages (from tensorboard<2.13,>=2.12->tensorflow-intel==2.12.0->tensorflow) (2.3.4)\n",
      "Requirement already satisfied: cachetools<6.0,>=2.0.0 in c:\\users\\florian\\desktop\\uni\\msc\\masterpraktikum\\venv\\lib\\site-packages (from google-auth<3,>=1.6.3->tensorboard<2.13,>=2.12->tensorflow-intel==2.12.0->tensorflow) (5.3.1)\n",
      "Requirement already satisfied: pyasn1-modules>=0.2.1 in c:\\users\\florian\\desktop\\uni\\msc\\masterpraktikum\\venv\\lib\\site-packages (from google-auth<3,>=1.6.3->tensorboard<2.13,>=2.12->tensorflow-intel==2.12.0->tensorflow) (0.3.0)\n",
      "Requirement already satisfied: rsa<5,>=3.1.4 in c:\\users\\florian\\desktop\\uni\\msc\\masterpraktikum\\venv\\lib\\site-packages (from google-auth<3,>=1.6.3->tensorboard<2.13,>=2.12->tensorflow-intel==2.12.0->tensorflow) (4.9)\n",
      "Requirement already satisfied: urllib3<2.0 in c:\\users\\florian\\desktop\\uni\\msc\\masterpraktikum\\venv\\lib\\site-packages (from google-auth<3,>=1.6.3->tensorboard<2.13,>=2.12->tensorflow-intel==2.12.0->tensorflow) (1.26.16)\n",
      "Requirement already satisfied: requests-oauthlib>=0.7.0 in c:\\users\\florian\\desktop\\uni\\msc\\masterpraktikum\\venv\\lib\\site-packages (from google-auth-oauthlib<1.1,>=0.5->tensorboard<2.13,>=2.12->tensorflow-intel==2.12.0->tensorflow) (1.3.1)\n",
      "Requirement already satisfied: charset-normalizer<4,>=2 in c:\\users\\florian\\desktop\\uni\\msc\\masterpraktikum\\venv\\lib\\site-packages (from requests<3,>=2.21.0->tensorboard<2.13,>=2.12->tensorflow-intel==2.12.0->tensorflow) (3.1.0)\n",
      "Requirement already satisfied: idna<4,>=2.5 in c:\\users\\florian\\desktop\\uni\\msc\\masterpraktikum\\venv\\lib\\site-packages (from requests<3,>=2.21.0->tensorboard<2.13,>=2.12->tensorflow-intel==2.12.0->tensorflow) (3.4)\n",
      "Requirement already satisfied: certifi>=2017.4.17 in c:\\users\\florian\\desktop\\uni\\msc\\masterpraktikum\\venv\\lib\\site-packages (from requests<3,>=2.21.0->tensorboard<2.13,>=2.12->tensorflow-intel==2.12.0->tensorflow) (2023.5.7)\n",
      "Requirement already satisfied: MarkupSafe>=2.1.1 in c:\\users\\florian\\desktop\\uni\\msc\\masterpraktikum\\venv\\lib\\site-packages (from werkzeug>=1.0.1->tensorboard<2.13,>=2.12->tensorflow-intel==2.12.0->tensorflow) (2.1.3)\n",
      "Requirement already satisfied: pyasn1<0.6.0,>=0.4.6 in c:\\users\\florian\\desktop\\uni\\msc\\masterpraktikum\\venv\\lib\\site-packages (from pyasn1-modules>=0.2.1->google-auth<3,>=1.6.3->tensorboard<2.13,>=2.12->tensorflow-intel==2.12.0->tensorflow) (0.5.0)\n",
      "Requirement already satisfied: oauthlib>=3.0.0 in c:\\users\\florian\\desktop\\uni\\msc\\masterpraktikum\\venv\\lib\\site-packages (from requests-oauthlib>=0.7.0->google-auth-oauthlib<1.1,>=0.5->tensorboard<2.13,>=2.12->tensorflow-intel==2.12.0->tensorflow) (3.2.2)\n",
      "Note: you may need to restart the kernel to use updated packages.\n",
      "Requirement already satisfied: matplotlib in c:\\users\\florian\\desktop\\uni\\msc\\masterpraktikum\\venv\\lib\\site-packages (3.7.1)\n",
      "Requirement already satisfied: contourpy>=1.0.1 in c:\\users\\florian\\desktop\\uni\\msc\\masterpraktikum\\venv\\lib\\site-packages (from matplotlib) (1.0.7)\n",
      "Requirement already satisfied: cycler>=0.10 in c:\\users\\florian\\desktop\\uni\\msc\\masterpraktikum\\venv\\lib\\site-packages (from matplotlib) (0.11.0)\n",
      "Requirement already satisfied: fonttools>=4.22.0 in c:\\users\\florian\\desktop\\uni\\msc\\masterpraktikum\\venv\\lib\\site-packages (from matplotlib) (4.39.4)\n",
      "Requirement already satisfied: kiwisolver>=1.0.1 in c:\\users\\florian\\desktop\\uni\\msc\\masterpraktikum\\venv\\lib\\site-packages (from matplotlib) (1.4.4)\n",
      "Requirement already satisfied: numpy>=1.20 in c:\\users\\florian\\desktop\\uni\\msc\\masterpraktikum\\venv\\lib\\site-packages (from matplotlib) (1.23.5)\n",
      "Requirement already satisfied: packaging>=20.0 in c:\\users\\florian\\desktop\\uni\\msc\\masterpraktikum\\venv\\lib\\site-packages (from matplotlib) (23.1)\n",
      "Requirement already satisfied: pillow>=6.2.0 in c:\\users\\florian\\desktop\\uni\\msc\\masterpraktikum\\venv\\lib\\site-packages (from matplotlib) (9.5.0)\n",
      "Requirement already satisfied: pyparsing>=2.3.1 in c:\\users\\florian\\desktop\\uni\\msc\\masterpraktikum\\venv\\lib\\site-packages (from matplotlib) (3.0.9)\n",
      "Requirement already satisfied: python-dateutil>=2.7 in c:\\users\\florian\\desktop\\uni\\msc\\masterpraktikum\\venv\\lib\\site-packages (from matplotlib) (2.8.2)\n",
      "Requirement already satisfied: six>=1.5 in c:\\users\\florian\\desktop\\uni\\msc\\masterpraktikum\\venv\\lib\\site-packages (from python-dateutil>=2.7->matplotlib) (1.16.0)\n",
      "Note: you may need to restart the kernel to use updated packages.\n",
      "Requirement already satisfied: numpy in c:\\users\\florian\\desktop\\uni\\msc\\masterpraktikum\\venv\\lib\\site-packages (1.23.5)\n",
      "Note: you may need to restart the kernel to use updated packages.\n",
      "Requirement already satisfied: keras in c:\\users\\florian\\desktop\\uni\\msc\\masterpraktikum\\venv\\lib\\site-packages (2.12.0)\n",
      "Note: you may need to restart the kernel to use updated packages.\n",
      "Requirement already satisfied: pydot in c:\\users\\florian\\desktop\\uni\\msc\\masterpraktikum\\venv\\lib\\site-packages (1.4.2)\n",
      "Requirement already satisfied: pyparsing>=2.1.4 in c:\\users\\florian\\desktop\\uni\\msc\\masterpraktikum\\venv\\lib\\site-packages (from pydot) (3.0.9)\n",
      "Note: you may need to restart the kernel to use updated packages.\n",
      "Requirement already satisfied: seaborn in c:\\users\\florian\\desktop\\uni\\msc\\masterpraktikum\\venv\\lib\\site-packages (0.12.2)\n",
      "Requirement already satisfied: numpy!=1.24.0,>=1.17 in c:\\users\\florian\\desktop\\uni\\msc\\masterpraktikum\\venv\\lib\\site-packages (from seaborn) (1.23.5)\n",
      "Requirement already satisfied: pandas>=0.25 in c:\\users\\florian\\desktop\\uni\\msc\\masterpraktikum\\venv\\lib\\site-packages (from seaborn) (1.5.3)\n",
      "Requirement already satisfied: matplotlib!=3.6.1,>=3.1 in c:\\users\\florian\\desktop\\uni\\msc\\masterpraktikum\\venv\\lib\\site-packages (from seaborn) (3.7.1)\n",
      "Requirement already satisfied: contourpy>=1.0.1 in c:\\users\\florian\\desktop\\uni\\msc\\masterpraktikum\\venv\\lib\\site-packages (from matplotlib!=3.6.1,>=3.1->seaborn) (1.0.7)\n",
      "Requirement already satisfied: cycler>=0.10 in c:\\users\\florian\\desktop\\uni\\msc\\masterpraktikum\\venv\\lib\\site-packages (from matplotlib!=3.6.1,>=3.1->seaborn) (0.11.0)\n",
      "Requirement already satisfied: fonttools>=4.22.0 in c:\\users\\florian\\desktop\\uni\\msc\\masterpraktikum\\venv\\lib\\site-packages (from matplotlib!=3.6.1,>=3.1->seaborn) (4.39.4)\n",
      "Requirement already satisfied: kiwisolver>=1.0.1 in c:\\users\\florian\\desktop\\uni\\msc\\masterpraktikum\\venv\\lib\\site-packages (from matplotlib!=3.6.1,>=3.1->seaborn) (1.4.4)\n",
      "Requirement already satisfied: packaging>=20.0 in c:\\users\\florian\\desktop\\uni\\msc\\masterpraktikum\\venv\\lib\\site-packages (from matplotlib!=3.6.1,>=3.1->seaborn) (23.1)\n",
      "Requirement already satisfied: pillow>=6.2.0 in c:\\users\\florian\\desktop\\uni\\msc\\masterpraktikum\\venv\\lib\\site-packages (from matplotlib!=3.6.1,>=3.1->seaborn) (9.5.0)\n",
      "Requirement already satisfied: pyparsing>=2.3.1 in c:\\users\\florian\\desktop\\uni\\msc\\masterpraktikum\\venv\\lib\\site-packages (from matplotlib!=3.6.1,>=3.1->seaborn) (3.0.9)\n",
      "Requirement already satisfied: python-dateutil>=2.7 in c:\\users\\florian\\desktop\\uni\\msc\\masterpraktikum\\venv\\lib\\site-packages (from matplotlib!=3.6.1,>=3.1->seaborn) (2.8.2)\n",
      "Requirement already satisfied: pytz>=2020.1 in c:\\users\\florian\\desktop\\uni\\msc\\masterpraktikum\\venv\\lib\\site-packages (from pandas>=0.25->seaborn) (2023.3)\n",
      "Requirement already satisfied: six>=1.5 in c:\\users\\florian\\desktop\\uni\\msc\\masterpraktikum\\venv\\lib\\site-packages (from python-dateutil>=2.7->matplotlib!=3.6.1,>=3.1->seaborn) (1.16.0)\n",
      "Note: you may need to restart the kernel to use updated packages.\n"
     ]
    }
   ],
   "source": [
    "import pandas\n",
    "%pip install pandas\n",
    "%pip install fastparquet\n",
    "%pip install tensorflow\n",
    "%pip install matplotlib\n",
    "%pip install numpy\n",
    "%pip install keras\n",
    "%pip install pydot\n",
    "%pip install seaborn"
   ],
   "metadata": {
    "collapsed": false,
    "ExecuteTime": {
     "end_time": "2023-07-05T08:32:52.805638800Z",
     "start_time": "2023-07-05T08:32:35.616499200Z"
    }
   }
  },
  {
   "cell_type": "markdown",
   "source": [
    "## Setup"
   ],
   "metadata": {
    "collapsed": false
   }
  },
  {
   "cell_type": "code",
   "execution_count": 2,
   "outputs": [],
   "source": [
    "import re\n",
    "import os\n",
    "import random\n",
    "import numpy as np\n",
    "import pandas as pd\n",
    "import tensorflow as tf\n",
    "import matplotlib.pyplot as plt\n",
    "from sklearn.model_selection import train_test_split\n",
    "from tensorflow.keras.callbacks import ModelCheckpoint\n",
    "from sklearn.utils import class_weight\n",
    "import seaborn as sns\n",
    "from sklearn.metrics import confusion_matrix, classification_report\n",
    "import wandb\n",
    "from wandb.keras import WandbCallback"
   ],
   "metadata": {
    "collapsed": false,
    "ExecuteTime": {
     "end_time": "2023-07-05T08:32:58.024288Z",
     "start_time": "2023-07-05T08:32:52.805638800Z"
    }
   }
  },
  {
   "cell_type": "markdown",
   "source": [
    "## Import and preprocess data"
   ],
   "metadata": {
    "collapsed": false
   }
  },
  {
   "cell_type": "code",
   "execution_count": 3,
   "outputs": [],
   "source": [
    "df = pd.read_parquet(\"data/Thermo_SRM_Pool_meta_data.parquet\", engine='fastparquet')"
   ],
   "metadata": {
    "collapsed": false,
    "ExecuteTime": {
     "end_time": "2023-07-05T08:33:00.313032200Z",
     "start_time": "2023-07-05T08:32:58.026285200Z"
    }
   }
  },
  {
   "cell_type": "code",
   "execution_count": 4,
   "outputs": [
    {
     "name": "stdout",
     "output_type": "stream",
     "text": [
      "(6080606, 15)\n",
      "                                       raw_file  scan_number  \\\n",
      "0  01640c_BC1-Thermo_SRM_Pool_3_01_01-DDA-1h-R2        34736   \n",
      "1  01640c_BC1-Thermo_SRM_Pool_3_01_01-DDA-1h-R2        25591   \n",
      "2  01640c_BC1-Thermo_SRM_Pool_3_01_01-DDA-1h-R2        24831   \n",
      "3  01640c_BC1-Thermo_SRM_Pool_3_01_01-DDA-1h-R2        34870   \n",
      "\n",
      "      modified_sequence  precursor_charge  precursor_intensity          mz  \\\n",
      "0  LPGSLETYVEQEQGENANDR                 2           29525630.0  1125.01950   \n",
      "1       HGSLQEYLQNDTGSK                 2           13188580.0   838.89737   \n",
      "2        VEEEEEINSELTAR                 2           20663460.0   824.38904   \n",
      "3  LPGSLETYVEQEQGENANDR                 2           19884630.0  1125.01950   \n",
      "\n",
      "   precursor_mz fragmentation mass_analyzer  retention_time  \\\n",
      "0   1125.018331           CID          ITMS          38.411   \n",
      "1    838.894401           HCD          FTMS          30.394   \n",
      "2    824.388401           CID          ITMS          29.737   \n",
      "3   1125.018831           CID          ITMS          38.539   \n",
      "\n",
      "   indexed_retention_time  andromeda_score  peptide_length  \\\n",
      "0               62.827337           447.14              20   \n",
      "1               42.030163           417.84              15   \n",
      "2               40.325817           365.69              14   \n",
      "3               63.159386           365.02              20   \n",
      "\n",
      "   orig_collision_energy  aligned_collision_energy  \n",
      "0                   35.0                 35.000000  \n",
      "1                   28.0                 31.447596  \n",
      "2                   35.0                 35.000000  \n",
      "3                   35.0                 35.000000  \n",
      "Index(['raw_file', 'scan_number', 'modified_sequence', 'precursor_charge',\n",
      "       'precursor_intensity', 'mz', 'precursor_mz', 'fragmentation',\n",
      "       'mass_analyzer', 'retention_time', 'indexed_retention_time',\n",
      "       'andromeda_score', 'peptide_length', 'orig_collision_energy',\n",
      "       'aligned_collision_energy'],\n",
      "      dtype='object')\n"
     ]
    }
   ],
   "source": [
    "print(df.shape)\n",
    "print(df.head(4))\n",
    "print(df.columns)"
   ],
   "metadata": {
    "collapsed": false,
    "ExecuteTime": {
     "end_time": "2023-07-05T08:33:00.328292400Z",
     "start_time": "2023-07-05T08:33:00.314032800Z"
    }
   }
  },
  {
   "cell_type": "markdown",
   "source": [
    "### Check what charge states are in the data"
   ],
   "metadata": {
    "collapsed": false
   }
  },
  {
   "cell_type": "code",
   "execution_count": 5,
   "outputs": [
    {
     "name": "stdout",
     "output_type": "stream",
     "text": [
      "[1, 2, 3, 4, 5, 6, 7]\n"
     ]
    }
   ],
   "source": [
    "list_charge = df[\"precursor_charge\"].unique().tolist()\n",
    "print(sorted(list_charge))"
   ],
   "metadata": {
    "collapsed": false,
    "ExecuteTime": {
     "end_time": "2023-07-05T08:33:00.395406100Z",
     "start_time": "2023-07-05T08:33:00.327287200Z"
    }
   }
  },
  {
   "cell_type": "markdown",
   "source": [
    "### Create dataframe containing only sequence and precursor charge"
   ],
   "metadata": {
    "collapsed": false
   }
  },
  {
   "cell_type": "code",
   "execution_count": 6,
   "outputs": [
    {
     "name": "stdout",
     "output_type": "stream",
     "text": [
      "<class 'pandas.core.frame.DataFrame'>\n",
      "RangeIndex: 6080606 entries, 0 to 6080605\n",
      "Data columns (total 2 columns):\n",
      " #   Column             Dtype \n",
      "---  ------             ----- \n",
      " 0   modified_sequence  object\n",
      " 1   precursor_charge   int64 \n",
      "dtypes: int64(1), object(1)\n",
      "memory usage: 92.8+ MB\n"
     ]
    }
   ],
   "source": [
    "# drop all columns we don't need for training\n",
    "for column in df.columns:\n",
    "    if column not in [\"modified_sequence\", \"precursor_charge\"]:\n",
    "        df.drop(column, axis=1, inplace=True)\n",
    "\n",
    "df.info()"
   ],
   "metadata": {
    "collapsed": false,
    "ExecuteTime": {
     "end_time": "2023-07-05T08:33:03.300076800Z",
     "start_time": "2023-07-05T08:33:00.380149200Z"
    }
   }
  },
  {
   "cell_type": "markdown",
   "source": [
    "### Remove all sequences containing '[UNIMOD:'"
   ],
   "metadata": {
    "collapsed": false
   }
  },
  {
   "cell_type": "code",
   "execution_count": 7,
   "outputs": [],
   "source": [
    "def delete_entries_with_partial_string(dataframe, column_name, partial_string):\n",
    "    escaped_string = re.escape(partial_string)\n",
    "    dataframe = dataframe[~dataframe[column_name].str.contains(escaped_string)]\n",
    "    return dataframe"
   ],
   "metadata": {
    "collapsed": false,
    "ExecuteTime": {
     "end_time": "2023-07-05T08:33:03.301082200Z",
     "start_time": "2023-07-05T08:33:03.287939400Z"
    }
   }
  },
  {
   "cell_type": "code",
   "execution_count": 8,
   "outputs": [
    {
     "data": {
      "text/plain": "                      modified_sequence  precursor_charge\n0                  LPGSLETYVEQEQGENANDR                 2\n1                       HGSLQEYLQNDTGSK                 2\n2                        VEEEEEINSELTAR                 2\n3                  LPGSLETYVEQEQGENANDR                 2\n4                  NSSTAEINETTTSSTDFLAR                 2\n...                                 ...               ...\n6080594                    HGIGSLLLESLK                 3\n6080599               ALEAENSALALENENQR                 2\n6080600               ALEAENSALALENENQR                 2\n6080603  EMENFVQSSGEDGIVVFSLGSLFQNVTEEK                 3\n6080604  EMENFVQSSGEDGIVVFSLGSLFQNVTEEK                 3\n\n[4761432 rows x 2 columns]",
      "text/html": "<div>\n<style scoped>\n    .dataframe tbody tr th:only-of-type {\n        vertical-align: middle;\n    }\n\n    .dataframe tbody tr th {\n        vertical-align: top;\n    }\n\n    .dataframe thead th {\n        text-align: right;\n    }\n</style>\n<table border=\"1\" class=\"dataframe\">\n  <thead>\n    <tr style=\"text-align: right;\">\n      <th></th>\n      <th>modified_sequence</th>\n      <th>precursor_charge</th>\n    </tr>\n  </thead>\n  <tbody>\n    <tr>\n      <th>0</th>\n      <td>LPGSLETYVEQEQGENANDR</td>\n      <td>2</td>\n    </tr>\n    <tr>\n      <th>1</th>\n      <td>HGSLQEYLQNDTGSK</td>\n      <td>2</td>\n    </tr>\n    <tr>\n      <th>2</th>\n      <td>VEEEEEINSELTAR</td>\n      <td>2</td>\n    </tr>\n    <tr>\n      <th>3</th>\n      <td>LPGSLETYVEQEQGENANDR</td>\n      <td>2</td>\n    </tr>\n    <tr>\n      <th>4</th>\n      <td>NSSTAEINETTTSSTDFLAR</td>\n      <td>2</td>\n    </tr>\n    <tr>\n      <th>...</th>\n      <td>...</td>\n      <td>...</td>\n    </tr>\n    <tr>\n      <th>6080594</th>\n      <td>HGIGSLLLESLK</td>\n      <td>3</td>\n    </tr>\n    <tr>\n      <th>6080599</th>\n      <td>ALEAENSALALENENQR</td>\n      <td>2</td>\n    </tr>\n    <tr>\n      <th>6080600</th>\n      <td>ALEAENSALALENENQR</td>\n      <td>2</td>\n    </tr>\n    <tr>\n      <th>6080603</th>\n      <td>EMENFVQSSGEDGIVVFSLGSLFQNVTEEK</td>\n      <td>3</td>\n    </tr>\n    <tr>\n      <th>6080604</th>\n      <td>EMENFVQSSGEDGIVVFSLGSLFQNVTEEK</td>\n      <td>3</td>\n    </tr>\n  </tbody>\n</table>\n<p>4761432 rows × 2 columns</p>\n</div>"
     },
     "execution_count": 8,
     "metadata": {},
     "output_type": "execute_result"
    }
   ],
   "source": [
    "df_filtered = delete_entries_with_partial_string(df, 'modified_sequence', '[UNIMOD:')\n",
    "df_filtered"
   ],
   "metadata": {
    "collapsed": false,
    "ExecuteTime": {
     "end_time": "2023-07-05T08:33:05.357373300Z",
     "start_time": "2023-07-05T08:33:03.291792400Z"
    }
   }
  },
  {
   "cell_type": "markdown",
   "source": [
    "### Convert protein sequences to numerical representation"
   ],
   "metadata": {
    "collapsed": false
   }
  },
  {
   "cell_type": "code",
   "execution_count": 9,
   "outputs": [
    {
     "name": "stderr",
     "output_type": "stream",
     "text": [
      "C:\\Users\\Florian\\AppData\\Local\\Temp\\ipykernel_14192\\2493357873.py:12: SettingWithCopyWarning: \n",
      "A value is trying to be set on a copy of a slice from a DataFrame.\n",
      "Try using .loc[row_indexer,col_indexer] = value instead\n",
      "\n",
      "See the caveats in the documentation: https://pandas.pydata.org/pandas-docs/stable/user_guide/indexing.html#returning-a-view-versus-a-copy\n",
      "  df_filtered['sequence_vector'] = df_filtered['modified_sequence'].apply(sequence_to_vector)\n"
     ]
    },
    {
     "data": {
      "text/plain": "                      modified_sequence  precursor_charge  \\\n0                  LPGSLETYVEQEQGENANDR                 2   \n1                       HGSLQEYLQNDTGSK                 2   \n2                        VEEEEEINSELTAR                 2   \n3                  LPGSLETYVEQEQGENANDR                 2   \n4                  NSSTAEINETTTSSTDFLAR                 2   \n...                                 ...               ...   \n6080594                    HGIGSLLLESLK                 3   \n6080599               ALEAENSALALENENQR                 2   \n6080600               ALEAENSALALENENQR                 2   \n6080603  EMENFVQSSGEDGIVVFSLGSLFQNVTEEK                 3   \n6080604  EMENFVQSSGEDGIVVFSLGSLFQNVTEEK                 3   \n\n                                           sequence_vector  \n0        [9, 12, 5, 15, 9, 3, 16, 19, 17, 3, 13, 3, 13,...  \n1        [6, 5, 15, 9, 13, 3, 19, 9, 13, 11, 2, 16, 5, ...  \n2          [17, 3, 3, 3, 3, 3, 7, 11, 15, 3, 9, 16, 0, 14]  \n3        [9, 12, 5, 15, 9, 3, 16, 19, 17, 3, 13, 3, 13,...  \n4        [11, 15, 15, 16, 0, 3, 7, 11, 3, 16, 16, 16, 1...  \n...                                                    ...  \n6080594             [6, 5, 7, 5, 15, 9, 9, 9, 3, 15, 9, 8]  \n6080599  [0, 9, 3, 0, 3, 11, 15, 0, 9, 0, 9, 3, 11, 3, ...  \n6080600  [0, 9, 3, 0, 3, 11, 15, 0, 9, 0, 9, 3, 11, 3, ...  \n6080603  [3, 10, 3, 11, 4, 17, 13, 15, 15, 5, 3, 2, 5, ...  \n6080604  [3, 10, 3, 11, 4, 17, 13, 15, 15, 5, 3, 2, 5, ...  \n\n[4761432 rows x 3 columns]",
      "text/html": "<div>\n<style scoped>\n    .dataframe tbody tr th:only-of-type {\n        vertical-align: middle;\n    }\n\n    .dataframe tbody tr th {\n        vertical-align: top;\n    }\n\n    .dataframe thead th {\n        text-align: right;\n    }\n</style>\n<table border=\"1\" class=\"dataframe\">\n  <thead>\n    <tr style=\"text-align: right;\">\n      <th></th>\n      <th>modified_sequence</th>\n      <th>precursor_charge</th>\n      <th>sequence_vector</th>\n    </tr>\n  </thead>\n  <tbody>\n    <tr>\n      <th>0</th>\n      <td>LPGSLETYVEQEQGENANDR</td>\n      <td>2</td>\n      <td>[9, 12, 5, 15, 9, 3, 16, 19, 17, 3, 13, 3, 13,...</td>\n    </tr>\n    <tr>\n      <th>1</th>\n      <td>HGSLQEYLQNDTGSK</td>\n      <td>2</td>\n      <td>[6, 5, 15, 9, 13, 3, 19, 9, 13, 11, 2, 16, 5, ...</td>\n    </tr>\n    <tr>\n      <th>2</th>\n      <td>VEEEEEINSELTAR</td>\n      <td>2</td>\n      <td>[17, 3, 3, 3, 3, 3, 7, 11, 15, 3, 9, 16, 0, 14]</td>\n    </tr>\n    <tr>\n      <th>3</th>\n      <td>LPGSLETYVEQEQGENANDR</td>\n      <td>2</td>\n      <td>[9, 12, 5, 15, 9, 3, 16, 19, 17, 3, 13, 3, 13,...</td>\n    </tr>\n    <tr>\n      <th>4</th>\n      <td>NSSTAEINETTTSSTDFLAR</td>\n      <td>2</td>\n      <td>[11, 15, 15, 16, 0, 3, 7, 11, 3, 16, 16, 16, 1...</td>\n    </tr>\n    <tr>\n      <th>...</th>\n      <td>...</td>\n      <td>...</td>\n      <td>...</td>\n    </tr>\n    <tr>\n      <th>6080594</th>\n      <td>HGIGSLLLESLK</td>\n      <td>3</td>\n      <td>[6, 5, 7, 5, 15, 9, 9, 9, 3, 15, 9, 8]</td>\n    </tr>\n    <tr>\n      <th>6080599</th>\n      <td>ALEAENSALALENENQR</td>\n      <td>2</td>\n      <td>[0, 9, 3, 0, 3, 11, 15, 0, 9, 0, 9, 3, 11, 3, ...</td>\n    </tr>\n    <tr>\n      <th>6080600</th>\n      <td>ALEAENSALALENENQR</td>\n      <td>2</td>\n      <td>[0, 9, 3, 0, 3, 11, 15, 0, 9, 0, 9, 3, 11, 3, ...</td>\n    </tr>\n    <tr>\n      <th>6080603</th>\n      <td>EMENFVQSSGEDGIVVFSLGSLFQNVTEEK</td>\n      <td>3</td>\n      <td>[3, 10, 3, 11, 4, 17, 13, 15, 15, 5, 3, 2, 5, ...</td>\n    </tr>\n    <tr>\n      <th>6080604</th>\n      <td>EMENFVQSSGEDGIVVFSLGSLFQNVTEEK</td>\n      <td>3</td>\n      <td>[3, 10, 3, 11, 4, 17, 13, 15, 15, 5, 3, 2, 5, ...</td>\n    </tr>\n  </tbody>\n</table>\n<p>4761432 rows × 3 columns</p>\n</div>"
     },
     "execution_count": 9,
     "metadata": {},
     "output_type": "execute_result"
    }
   ],
   "source": [
    "amino_acids = list('ACDEFGHIKLMNPQRSTVWY')  # List of amino acids\n",
    "\n",
    "def sequence_to_vector(sequence):\n",
    "    vector = []\n",
    "    for amino_acid in sequence:\n",
    "        if amino_acid in amino_acids:\n",
    "            vector.append(amino_acids.index(amino_acid))\n",
    "        else:\n",
    "            vector.append(len(amino_acids))  # Handle unknown amino acids\n",
    "    return vector\n",
    "\n",
    "df_filtered['sequence_vector'] = df_filtered['modified_sequence'].apply(sequence_to_vector)\n",
    "df_filtered"
   ],
   "metadata": {
    "collapsed": false,
    "ExecuteTime": {
     "end_time": "2023-07-05T08:33:27.182460900Z",
     "start_time": "2023-07-05T08:33:05.349111400Z"
    }
   }
  },
  {
   "cell_type": "markdown",
   "source": [
    "### Pad sequence_vectors to the max sequence length"
   ],
   "metadata": {
    "collapsed": false
   }
  },
  {
   "cell_type": "code",
   "execution_count": 10,
   "outputs": [],
   "source": [
    "def pad_sequences(dataframe, column_name, pad_value=21):\n",
    "    max_len = max(dataframe.loc[:, column_name].apply(len))  # Find the maximum length\n",
    "    dataframe.loc[:, column_name] = dataframe.loc[:, column_name].apply(lambda x: x + [pad_value] * (max_length - len(x)))  # Pad the sequences\n",
    "    return max_len, dataframe"
   ],
   "metadata": {
    "collapsed": false,
    "ExecuteTime": {
     "end_time": "2023-07-05T08:33:27.188156800Z",
     "start_time": "2023-07-05T08:33:27.184426200Z"
    }
   }
  },
  {
   "cell_type": "code",
   "execution_count": 11,
   "outputs": [
    {
     "ename": "NameError",
     "evalue": "name 'max_length' is not defined",
     "output_type": "error",
     "traceback": [
      "\u001B[1;31m---------------------------------------------------------------------------\u001B[0m",
      "\u001B[1;31mNameError\u001B[0m                                 Traceback (most recent call last)",
      "Cell \u001B[1;32mIn[11], line 1\u001B[0m\n\u001B[1;32m----> 1\u001B[0m max_len, df_filtered_padded \u001B[38;5;241m=\u001B[39m \u001B[43mpad_sequences\u001B[49m\u001B[43m(\u001B[49m\u001B[43mdf_filtered\u001B[49m\u001B[43m,\u001B[49m\u001B[43m \u001B[49m\u001B[38;5;124;43m'\u001B[39;49m\u001B[38;5;124;43msequence_vector\u001B[39;49m\u001B[38;5;124;43m'\u001B[39;49m\u001B[43m)\u001B[49m\n",
      "Cell \u001B[1;32mIn[10], line 3\u001B[0m, in \u001B[0;36mpad_sequences\u001B[1;34m(dataframe, column_name, pad_value)\u001B[0m\n\u001B[0;32m      1\u001B[0m \u001B[38;5;28;01mdef\u001B[39;00m \u001B[38;5;21mpad_sequences\u001B[39m(dataframe, column_name, pad_value\u001B[38;5;241m=\u001B[39m\u001B[38;5;241m21\u001B[39m):\n\u001B[0;32m      2\u001B[0m     max_len \u001B[38;5;241m=\u001B[39m \u001B[38;5;28mmax\u001B[39m(dataframe\u001B[38;5;241m.\u001B[39mloc[:, column_name]\u001B[38;5;241m.\u001B[39mapply(\u001B[38;5;28mlen\u001B[39m))  \u001B[38;5;66;03m# Find the maximum length\u001B[39;00m\n\u001B[1;32m----> 3\u001B[0m     dataframe\u001B[38;5;241m.\u001B[39mloc[:, column_name] \u001B[38;5;241m=\u001B[39m \u001B[43mdataframe\u001B[49m\u001B[38;5;241;43m.\u001B[39;49m\u001B[43mloc\u001B[49m\u001B[43m[\u001B[49m\u001B[43m:\u001B[49m\u001B[43m,\u001B[49m\u001B[43m \u001B[49m\u001B[43mcolumn_name\u001B[49m\u001B[43m]\u001B[49m\u001B[38;5;241;43m.\u001B[39;49m\u001B[43mapply\u001B[49m\u001B[43m(\u001B[49m\u001B[38;5;28;43;01mlambda\u001B[39;49;00m\u001B[43m \u001B[49m\u001B[43mx\u001B[49m\u001B[43m:\u001B[49m\u001B[43m \u001B[49m\u001B[43mx\u001B[49m\u001B[43m \u001B[49m\u001B[38;5;241;43m+\u001B[39;49m\u001B[43m \u001B[49m\u001B[43m[\u001B[49m\u001B[43mpad_value\u001B[49m\u001B[43m]\u001B[49m\u001B[43m \u001B[49m\u001B[38;5;241;43m*\u001B[39;49m\u001B[43m \u001B[49m\u001B[43m(\u001B[49m\u001B[43mmax_length\u001B[49m\u001B[43m \u001B[49m\u001B[38;5;241;43m-\u001B[39;49m\u001B[43m \u001B[49m\u001B[38;5;28;43mlen\u001B[39;49m\u001B[43m(\u001B[49m\u001B[43mx\u001B[49m\u001B[43m)\u001B[49m\u001B[43m)\u001B[49m\u001B[43m)\u001B[49m  \u001B[38;5;66;03m# Pad the sequences\u001B[39;00m\n\u001B[0;32m      4\u001B[0m     \u001B[38;5;28;01mreturn\u001B[39;00m max_len, dataframe\n",
      "File \u001B[1;32m~\\Desktop\\Uni\\MSc\\Masterpraktikum\\venv\\Lib\\site-packages\\pandas\\core\\series.py:4771\u001B[0m, in \u001B[0;36mSeries.apply\u001B[1;34m(self, func, convert_dtype, args, **kwargs)\u001B[0m\n\u001B[0;32m   4661\u001B[0m \u001B[38;5;28;01mdef\u001B[39;00m \u001B[38;5;21mapply\u001B[39m(\n\u001B[0;32m   4662\u001B[0m     \u001B[38;5;28mself\u001B[39m,\n\u001B[0;32m   4663\u001B[0m     func: AggFuncType,\n\u001B[1;32m   (...)\u001B[0m\n\u001B[0;32m   4666\u001B[0m     \u001B[38;5;241m*\u001B[39m\u001B[38;5;241m*\u001B[39mkwargs,\n\u001B[0;32m   4667\u001B[0m ) \u001B[38;5;241m-\u001B[39m\u001B[38;5;241m>\u001B[39m DataFrame \u001B[38;5;241m|\u001B[39m Series:\n\u001B[0;32m   4668\u001B[0m \u001B[38;5;250m    \u001B[39m\u001B[38;5;124;03m\"\"\"\u001B[39;00m\n\u001B[0;32m   4669\u001B[0m \u001B[38;5;124;03m    Invoke function on values of Series.\u001B[39;00m\n\u001B[0;32m   4670\u001B[0m \n\u001B[1;32m   (...)\u001B[0m\n\u001B[0;32m   4769\u001B[0m \u001B[38;5;124;03m    dtype: float64\u001B[39;00m\n\u001B[0;32m   4770\u001B[0m \u001B[38;5;124;03m    \"\"\"\u001B[39;00m\n\u001B[1;32m-> 4771\u001B[0m     \u001B[38;5;28;01mreturn\u001B[39;00m \u001B[43mSeriesApply\u001B[49m\u001B[43m(\u001B[49m\u001B[38;5;28;43mself\u001B[39;49m\u001B[43m,\u001B[49m\u001B[43m \u001B[49m\u001B[43mfunc\u001B[49m\u001B[43m,\u001B[49m\u001B[43m \u001B[49m\u001B[43mconvert_dtype\u001B[49m\u001B[43m,\u001B[49m\u001B[43m \u001B[49m\u001B[43margs\u001B[49m\u001B[43m,\u001B[49m\u001B[43m \u001B[49m\u001B[43mkwargs\u001B[49m\u001B[43m)\u001B[49m\u001B[38;5;241;43m.\u001B[39;49m\u001B[43mapply\u001B[49m\u001B[43m(\u001B[49m\u001B[43m)\u001B[49m\n",
      "File \u001B[1;32m~\\Desktop\\Uni\\MSc\\Masterpraktikum\\venv\\Lib\\site-packages\\pandas\\core\\apply.py:1123\u001B[0m, in \u001B[0;36mSeriesApply.apply\u001B[1;34m(self)\u001B[0m\n\u001B[0;32m   1120\u001B[0m     \u001B[38;5;28;01mreturn\u001B[39;00m \u001B[38;5;28mself\u001B[39m\u001B[38;5;241m.\u001B[39mapply_str()\n\u001B[0;32m   1122\u001B[0m \u001B[38;5;66;03m# self.f is Callable\u001B[39;00m\n\u001B[1;32m-> 1123\u001B[0m \u001B[38;5;28;01mreturn\u001B[39;00m \u001B[38;5;28;43mself\u001B[39;49m\u001B[38;5;241;43m.\u001B[39;49m\u001B[43mapply_standard\u001B[49m\u001B[43m(\u001B[49m\u001B[43m)\u001B[49m\n",
      "File \u001B[1;32m~\\Desktop\\Uni\\MSc\\Masterpraktikum\\venv\\Lib\\site-packages\\pandas\\core\\apply.py:1174\u001B[0m, in \u001B[0;36mSeriesApply.apply_standard\u001B[1;34m(self)\u001B[0m\n\u001B[0;32m   1172\u001B[0m     \u001B[38;5;28;01melse\u001B[39;00m:\n\u001B[0;32m   1173\u001B[0m         values \u001B[38;5;241m=\u001B[39m obj\u001B[38;5;241m.\u001B[39mastype(\u001B[38;5;28mobject\u001B[39m)\u001B[38;5;241m.\u001B[39m_values\n\u001B[1;32m-> 1174\u001B[0m         mapped \u001B[38;5;241m=\u001B[39m \u001B[43mlib\u001B[49m\u001B[38;5;241;43m.\u001B[39;49m\u001B[43mmap_infer\u001B[49m\u001B[43m(\u001B[49m\n\u001B[0;32m   1175\u001B[0m \u001B[43m            \u001B[49m\u001B[43mvalues\u001B[49m\u001B[43m,\u001B[49m\n\u001B[0;32m   1176\u001B[0m \u001B[43m            \u001B[49m\u001B[43mf\u001B[49m\u001B[43m,\u001B[49m\n\u001B[0;32m   1177\u001B[0m \u001B[43m            \u001B[49m\u001B[43mconvert\u001B[49m\u001B[38;5;241;43m=\u001B[39;49m\u001B[38;5;28;43mself\u001B[39;49m\u001B[38;5;241;43m.\u001B[39;49m\u001B[43mconvert_dtype\u001B[49m\u001B[43m,\u001B[49m\n\u001B[0;32m   1178\u001B[0m \u001B[43m        \u001B[49m\u001B[43m)\u001B[49m\n\u001B[0;32m   1180\u001B[0m \u001B[38;5;28;01mif\u001B[39;00m \u001B[38;5;28mlen\u001B[39m(mapped) \u001B[38;5;129;01mand\u001B[39;00m \u001B[38;5;28misinstance\u001B[39m(mapped[\u001B[38;5;241m0\u001B[39m], ABCSeries):\n\u001B[0;32m   1181\u001B[0m     \u001B[38;5;66;03m# GH#43986 Need to do list(mapped) in order to get treated as nested\u001B[39;00m\n\u001B[0;32m   1182\u001B[0m     \u001B[38;5;66;03m#  See also GH#25959 regarding EA support\u001B[39;00m\n\u001B[0;32m   1183\u001B[0m     \u001B[38;5;28;01mreturn\u001B[39;00m obj\u001B[38;5;241m.\u001B[39m_constructor_expanddim(\u001B[38;5;28mlist\u001B[39m(mapped), index\u001B[38;5;241m=\u001B[39mobj\u001B[38;5;241m.\u001B[39mindex)\n",
      "File \u001B[1;32m~\\Desktop\\Uni\\MSc\\Masterpraktikum\\venv\\Lib\\site-packages\\pandas\\_libs\\lib.pyx:2924\u001B[0m, in \u001B[0;36mpandas._libs.lib.map_infer\u001B[1;34m()\u001B[0m\n",
      "Cell \u001B[1;32mIn[10], line 3\u001B[0m, in \u001B[0;36mpad_sequences.<locals>.<lambda>\u001B[1;34m(x)\u001B[0m\n\u001B[0;32m      1\u001B[0m \u001B[38;5;28;01mdef\u001B[39;00m \u001B[38;5;21mpad_sequences\u001B[39m(dataframe, column_name, pad_value\u001B[38;5;241m=\u001B[39m\u001B[38;5;241m21\u001B[39m):\n\u001B[0;32m      2\u001B[0m     max_len \u001B[38;5;241m=\u001B[39m \u001B[38;5;28mmax\u001B[39m(dataframe\u001B[38;5;241m.\u001B[39mloc[:, column_name]\u001B[38;5;241m.\u001B[39mapply(\u001B[38;5;28mlen\u001B[39m))  \u001B[38;5;66;03m# Find the maximum length\u001B[39;00m\n\u001B[1;32m----> 3\u001B[0m     dataframe\u001B[38;5;241m.\u001B[39mloc[:, column_name] \u001B[38;5;241m=\u001B[39m dataframe\u001B[38;5;241m.\u001B[39mloc[:, column_name]\u001B[38;5;241m.\u001B[39mapply(\u001B[38;5;28;01mlambda\u001B[39;00m x: x \u001B[38;5;241m+\u001B[39m [pad_value] \u001B[38;5;241m*\u001B[39m (\u001B[43mmax_length\u001B[49m \u001B[38;5;241m-\u001B[39m \u001B[38;5;28mlen\u001B[39m(x)))  \u001B[38;5;66;03m# Pad the sequences\u001B[39;00m\n\u001B[0;32m      4\u001B[0m     \u001B[38;5;28;01mreturn\u001B[39;00m max_len, dataframe\n",
      "\u001B[1;31mNameError\u001B[0m: name 'max_length' is not defined"
     ]
    }
   ],
   "source": [
    "max_len, df_filtered_padded = pad_sequences(df_filtered, 'sequence_vector')"
   ],
   "metadata": {
    "collapsed": false,
    "ExecuteTime": {
     "end_time": "2023-07-05T08:33:29.601226400Z",
     "start_time": "2023-07-05T08:33:27.188156800Z"
    }
   }
  },
  {
   "cell_type": "markdown",
   "source": [
    "### Calculate weights to correct for class imbalance\n",
    "- Count occurrences for each charge state in the dataset\n",
    "- Calculate bias for binary prediction\n",
    "    - class with only precursor charge 2\n",
    "    - class with every other precursor charge"
   ],
   "metadata": {
    "collapsed": false
   }
  },
  {
   "cell_type": "code",
   "execution_count": null,
   "outputs": [],
   "source": [
    "df_SingleCharges = df_filtered_padded[df_filtered_padded['precursor_charge'] == 1].copy()\n",
    "df_DoubleCharges = df_filtered_padded[df_filtered_padded['precursor_charge'] == 2].copy()\n",
    "df_TripleCharges = df_filtered_padded[df_filtered_padded['precursor_charge'] == 3].copy()\n",
    "df_QuadrupleCharges = df_filtered_padded[df_filtered_padded['precursor_charge'] == 4].copy()\n",
    "df_QuintupleCharges = df_filtered_padded[df_filtered_padded['precursor_charge'] == 5].copy()\n",
    "df_SextupleCharges = df_filtered_padded[df_filtered_padded['precursor_charge'] == 6].copy()\n",
    "df_SeptupleCharges = df_filtered_padded[df_filtered_padded['precursor_charge'] == 7].copy()\n",
    "# other charges than 2\n",
    "df_OtherCharges = df_filtered_padded[df_filtered_padded['precursor_charge'] != 2].copy()"
   ],
   "metadata": {
    "collapsed": false
   }
  },
  {
   "cell_type": "code",
   "execution_count": null,
   "outputs": [],
   "source": [
    "CLASS_NAMES = [\"DoubleCharge\", \"OtherCharges\"]"
   ],
   "metadata": {
    "collapsed": false
   }
  },
  {
   "cell_type": "code",
   "execution_count": null,
   "outputs": [],
   "source": [
    "COUNT_SingleCharges = len(df_SingleCharges)\n",
    "COUNT_DoubleCharges = len(df_DoubleCharges)\n",
    "COUNT_TripleCharges = len(df_TripleCharges)\n",
    "COUNT_QuadrupleCharges = len(df_QuadrupleCharges)\n",
    "COUNT_QuintupleCharges = len(df_QuintupleCharges)\n",
    "COUNT_SextupleCharges = len(df_SingleCharges)\n",
    "COUNT_SeptupleCharges = len(df_SeptupleCharges)\n",
    "COUNT_OtherCharges = len(df_OtherCharges)\n",
    "\n",
    "print(\"COUNT_SingleCharge: {}\".format(COUNT_SingleCharges))\n",
    "print(\"COUNT_DoubleCharge: {}\".format(COUNT_DoubleCharges))\n",
    "print(\"COUNT_TripleCharges:  {}\".format(COUNT_TripleCharges))\n",
    "print(\"COUNT_QuadrupleCharges: {}\".format(COUNT_QuadrupleCharges))\n",
    "print(\"COUNT_QuintupleCharges: {}\".format(COUNT_QuintupleCharges))\n",
    "print(\"COUNT_SextupleCharges: {}\".format(COUNT_SextupleCharges))\n",
    "print(\"COUNT_SeptupleCharges: {}\".format(COUNT_SeptupleCharges))"
   ],
   "metadata": {
    "collapsed": false
   }
  },
  {
   "cell_type": "code",
   "execution_count": null,
   "outputs": [],
   "source": [
    "charge_counts = [COUNT_SingleCharges, COUNT_DoubleCharges, COUNT_TripleCharges, COUNT_QuadrupleCharges, COUNT_QuintupleCharges, COUNT_SextupleCharges, COUNT_SeptupleCharges]\n",
    "charge_labels = ['1', '2', '3', '4', '5', '6', '7']\n",
    "plt.bar(charge_labels, charge_counts)\n",
    "plt.title('Precursor Charge Distribution')\n",
    "plt.xlabel('Precursor Charge')\n",
    "plt.ylabel('Total # of Occurrences')\n",
    "plt.show()"
   ],
   "metadata": {
    "collapsed": false
   }
  },
  {
   "cell_type": "code",
   "execution_count": null,
   "outputs": [],
   "source": [
    "initial_bias = np.log([COUNT_DoubleCharges / COUNT_OtherCharges])\n",
    "print(\"Initial bias: {:.5f}\".format(initial_bias[0]))\n",
    "\n",
    "TRAINING_COUNT = COUNT_DoubleCharges + COUNT_OtherCharges\n",
    "weight_for_other = (1 / COUNT_OtherCharges) * TRAINING_COUNT / 2.0\n",
    "weight_for_double = (1 / COUNT_DoubleCharges) * TRAINING_COUNT / 2.0\n",
    "\n",
    "print(\"weight for Double Charge: {:.2f}\".format(weight_for_double))\n",
    "print(\"weight for Other Charges: {:.2f}\".format(weight_for_other))"
   ],
   "metadata": {
    "collapsed": false
   }
  },
  {
   "cell_type": "code",
   "execution_count": 112,
   "outputs": [],
   "source": [
    "# Initialize Weights and Biases\n",
    "# wandb.init(project='precursor_charge_prediction')"
   ],
   "metadata": {
    "collapsed": false,
    "ExecuteTime": {
     "end_time": "2023-07-05T07:43:52.935034600Z",
     "start_time": "2023-07-05T07:43:52.930523300Z"
    }
   }
  },
  {
   "cell_type": "code",
   "execution_count": 113,
   "outputs": [],
   "source": [
    "# Split data into training and testing sets\n",
    "X = np.array(df_filtered_padded['sequence_vector'].tolist())\n",
    "y = np.array(df_filtered_padded['precursor_charge'])\n",
    "X_train, X_test, y_train, y_test = train_test_split(X, y, test_size=0.2, random_state=42)\n",
    "\n",
    "# Define model\n",
    "model = tf.keras.models.Sequential([\n",
    "    # original input dim 22, output dim 16 ## make input_dim max_len ### max_len-1 ??\n",
    "    tf.keras.layers.Embedding(input_dim=max_len, output_dim=7, input_length=X.shape[1]),\n",
    "    tf.keras.layers.Flatten(),\n",
    "    tf.keras.layers.Dense(64, activation='relu'),\n",
    "    tf.keras.layers.Dense(8, activation='softmax')\n",
    "])\n",
    "\n",
    "# Compile the model\n",
    "model.compile(loss='sparse_categorical_crossentropy', optimizer='adam', metrics=['accuracy'])"
   ],
   "metadata": {
    "collapsed": false,
    "ExecuteTime": {
     "end_time": "2023-07-05T07:44:11.056633800Z",
     "start_time": "2023-07-05T07:43:57.775316500Z"
    }
   }
  },
  {
   "cell_type": "code",
   "execution_count": 114,
   "outputs": [],
   "source": [
    "# Configure Weights and Biases callback\n",
    "checkpoint_callback = ModelCheckpoint('precursor_charge_prediction_model_v1/best_model_sparse_cce.h5', monitor='val_accuracy', save_best_only=True, mode='max')\n",
    "# wandb_callback = WandbCallback()"
   ],
   "metadata": {
    "collapsed": false,
    "ExecuteTime": {
     "end_time": "2023-07-05T07:44:11.061722500Z",
     "start_time": "2023-07-05T07:44:11.061215800Z"
    }
   }
  },
  {
   "cell_type": "code",
   "execution_count": 115,
   "outputs": [
    {
     "name": "stdout",
     "output_type": "stream",
     "text": [
      "Epoch 1/10\n",
      "119036/119036 [==============================] - 178s 1ms/step - loss: 0.2958 - accuracy: 0.8618 - val_loss: 0.2819 - val_accuracy: 0.8676\n",
      "Epoch 2/10\n",
      "119036/119036 [==============================] - 175s 1ms/step - loss: 0.2799 - accuracy: 0.8685 - val_loss: 0.2765 - val_accuracy: 0.8702\n",
      "Epoch 3/10\n",
      "119036/119036 [==============================] - 167s 1ms/step - loss: 0.2761 - accuracy: 0.8701 - val_loss: 0.2741 - val_accuracy: 0.8710\n",
      "Epoch 4/10\n",
      "119036/119036 [==============================] - 168s 1ms/step - loss: 0.2740 - accuracy: 0.8708 - val_loss: 0.2722 - val_accuracy: 0.8712\n",
      "Epoch 5/10\n",
      "119036/119036 [==============================] - 180s 2ms/step - loss: 0.2728 - accuracy: 0.8715 - val_loss: 0.2728 - val_accuracy: 0.8713\n",
      "Epoch 6/10\n",
      "119036/119036 [==============================] - 172s 1ms/step - loss: 0.2722 - accuracy: 0.8717 - val_loss: 0.2716 - val_accuracy: 0.8714\n",
      "Epoch 7/10\n",
      " 43595/119036 [=========>....................] - ETA: 1:34 - loss: 0.2716 - accuracy: 0.8720"
     ]
    }
   ],
   "source": [
    "# Train the model\n",
    "model.fit(X_train, y_train, epochs=10, batch_size=32, validation_data=(X_test, y_test), callbacks=[checkpoint_callback]) #, wandb_callback])"
   ],
   "metadata": {
    "collapsed": false,
    "ExecuteTime": {
     "end_time": "2023-07-05T08:12:30.715154700Z",
     "start_time": "2023-07-05T07:44:11.061722500Z"
    }
   }
  },
  {
   "cell_type": "code",
   "execution_count": 47,
   "outputs": [
    {
     "name": "stdout",
     "output_type": "stream",
     "text": [
      "29759/29759 [==============================] - 30s 995us/step - loss: 0.2620 - accuracy: 0.8751\n",
      "Accuracy: 0.8750681281089783\n"
     ]
    }
   ],
   "source": [
    "# Load the best model\n",
    "best_model = tf.keras.models.load_model('precursor_charge_prediction_model_v1/best_model.h5')\n",
    "\n",
    "# Evaluate the best model\n",
    "loss, accuracy = best_model.evaluate(X_test, y_test)\n",
    "print('Accuracy:', accuracy)\n",
    "\n",
    "# Save the best model to Weights and Biases\n",
    "# wandb.save('best_model.h5')"
   ],
   "metadata": {
    "collapsed": false,
    "ExecuteTime": {
     "end_time": "2023-07-04T15:30:22.815335700Z",
     "start_time": "2023-07-04T15:29:53.012636500Z"
    }
   }
  },
  {
   "cell_type": "code",
   "execution_count": 48,
   "outputs": [
    {
     "name": "stderr",
     "output_type": "stream",
     "text": [
      "WARNING:absl:Found untraced functions such as _update_step_xla while saving (showing 1 of 1). These functions will not be directly callable after loading.\n"
     ]
    },
    {
     "name": "stdout",
     "output_type": "stream",
     "text": [
      "INFO:tensorflow:Assets written to: precursor_charge_prediction_model_v1\\assets\n"
     ]
    },
    {
     "name": "stderr",
     "output_type": "stream",
     "text": [
      "INFO:tensorflow:Assets written to: precursor_charge_prediction_model_v1\\assets\n"
     ]
    }
   ],
   "source": [
    "best_model.save('precursor_charge_prediction_model_v1')"
   ],
   "metadata": {
    "collapsed": false,
    "ExecuteTime": {
     "end_time": "2023-07-04T15:30:23.334162700Z",
     "start_time": "2023-07-04T15:30:22.815335700Z"
    }
   }
  },
  {
   "cell_type": "markdown",
   "source": [
    "### Adding class weights"
   ],
   "metadata": {
    "collapsed": false
   }
  },
  {
   "cell_type": "code",
   "execution_count": null,
   "outputs": [],
   "source": [
    "# Calculate class weights\n",
    "class_labels = np.unique(y_train)\n",
    "class_weights = class_weight.compute_class_weight('balanced', classes=class_labels, y=y_train)\n",
    "# Convert class weights to dictionary\n",
    "class_weights_dict = dict(zip(class_labels, class_weights))\n",
    "print(class_weights_dict)"
   ],
   "metadata": {
    "collapsed": false
   }
  },
  {
   "cell_type": "code",
   "execution_count": 25,
   "outputs": [],
   "source": [
    "checkpoint_callback_classweights = ModelCheckpoint('precursor_charge_prediction_model_v1/best_model_classweights.h5', monitor='val_accuracy', save_best_only=True, mode='max')"
   ],
   "metadata": {
    "collapsed": false,
    "ExecuteTime": {
     "end_time": "2023-07-04T14:47:03.937908200Z",
     "start_time": "2023-07-04T14:47:03.921696800Z"
    }
   }
  },
  {
   "cell_type": "code",
   "execution_count": 26,
   "outputs": [
    {
     "ename": "ValueError",
     "evalue": "Expected `class_weight` to be a dict with keys from 0 to one less than the number of classes, found {1: 669.3278861360042, 2: 0.1951470232630578, 3: 0.5731530811184621, 4: 7.882430237250256, 5: 416.02719528178244, 6: 6254.753694581281, 7: 544163.5714285715}",
     "output_type": "error",
     "traceback": [
      "\u001B[1;31m---------------------------------------------------------------------------\u001B[0m",
      "\u001B[1;31mValueError\u001B[0m                                Traceback (most recent call last)",
      "Cell \u001B[1;32mIn[26], line 2\u001B[0m\n\u001B[0;32m      1\u001B[0m \u001B[38;5;66;03m# Train the model with class-weights\u001B[39;00m\n\u001B[1;32m----> 2\u001B[0m \u001B[43mmodel\u001B[49m\u001B[38;5;241;43m.\u001B[39;49m\u001B[43mfit\u001B[49m\u001B[43m(\u001B[49m\u001B[43mX_train\u001B[49m\u001B[43m,\u001B[49m\u001B[43m \u001B[49m\u001B[43my_train\u001B[49m\u001B[43m,\u001B[49m\u001B[43m \u001B[49m\u001B[43mepochs\u001B[49m\u001B[38;5;241;43m=\u001B[39;49m\u001B[38;5;241;43m10\u001B[39;49m\u001B[43m,\u001B[49m\u001B[43m \u001B[49m\u001B[43mbatch_size\u001B[49m\u001B[38;5;241;43m=\u001B[39;49m\u001B[38;5;241;43m32\u001B[39;49m\u001B[43m,\u001B[49m\u001B[43m \u001B[49m\u001B[43mvalidation_data\u001B[49m\u001B[38;5;241;43m=\u001B[39;49m\u001B[43m(\u001B[49m\u001B[43mX_test\u001B[49m\u001B[43m,\u001B[49m\u001B[43m \u001B[49m\u001B[43my_test\u001B[49m\u001B[43m)\u001B[49m\u001B[43m,\u001B[49m\u001B[43m \u001B[49m\u001B[43mcallbacks\u001B[49m\u001B[38;5;241;43m=\u001B[39;49m\u001B[43m[\u001B[49m\u001B[43mcheckpoint_callback_classweights\u001B[49m\u001B[43m]\u001B[49m\u001B[43m,\u001B[49m\u001B[43m \u001B[49m\u001B[43mclass_weight\u001B[49m\u001B[38;5;241;43m=\u001B[39;49m\u001B[43mclass_weights_dict\u001B[49m\u001B[43m)\u001B[49m \u001B[38;5;66;03m#, wandb_callback])\u001B[39;00m\n",
      "File \u001B[1;32m~\\Desktop\\Uni\\MSc\\Masterpraktikum\\venv\\Lib\\site-packages\\wandb\\integration\\keras\\keras.py:174\u001B[0m, in \u001B[0;36mpatch_tf_keras.<locals>.new_v2\u001B[1;34m(*args, **kwargs)\u001B[0m\n\u001B[0;32m    172\u001B[0m     \u001B[38;5;28;01mfor\u001B[39;00m cbk \u001B[38;5;129;01min\u001B[39;00m cbks:\n\u001B[0;32m    173\u001B[0m         set_wandb_attrs(cbk, val_data)\n\u001B[1;32m--> 174\u001B[0m \u001B[38;5;28;01mreturn\u001B[39;00m \u001B[43mold_v2\u001B[49m\u001B[43m(\u001B[49m\u001B[38;5;241;43m*\u001B[39;49m\u001B[43margs\u001B[49m\u001B[43m,\u001B[49m\u001B[43m \u001B[49m\u001B[38;5;241;43m*\u001B[39;49m\u001B[38;5;241;43m*\u001B[39;49m\u001B[43mkwargs\u001B[49m\u001B[43m)\u001B[49m\n",
      "File \u001B[1;32m~\\Desktop\\Uni\\MSc\\Masterpraktikum\\venv\\Lib\\site-packages\\wandb\\integration\\keras\\keras.py:174\u001B[0m, in \u001B[0;36mpatch_tf_keras.<locals>.new_v2\u001B[1;34m(*args, **kwargs)\u001B[0m\n\u001B[0;32m    172\u001B[0m     \u001B[38;5;28;01mfor\u001B[39;00m cbk \u001B[38;5;129;01min\u001B[39;00m cbks:\n\u001B[0;32m    173\u001B[0m         set_wandb_attrs(cbk, val_data)\n\u001B[1;32m--> 174\u001B[0m \u001B[38;5;28;01mreturn\u001B[39;00m \u001B[43mold_v2\u001B[49m\u001B[43m(\u001B[49m\u001B[38;5;241;43m*\u001B[39;49m\u001B[43margs\u001B[49m\u001B[43m,\u001B[49m\u001B[43m \u001B[49m\u001B[38;5;241;43m*\u001B[39;49m\u001B[38;5;241;43m*\u001B[39;49m\u001B[43mkwargs\u001B[49m\u001B[43m)\u001B[49m\n",
      "File \u001B[1;32m~\\Desktop\\Uni\\MSc\\Masterpraktikum\\venv\\Lib\\site-packages\\wandb\\integration\\keras\\keras.py:174\u001B[0m, in \u001B[0;36mpatch_tf_keras.<locals>.new_v2\u001B[1;34m(*args, **kwargs)\u001B[0m\n\u001B[0;32m    172\u001B[0m     \u001B[38;5;28;01mfor\u001B[39;00m cbk \u001B[38;5;129;01min\u001B[39;00m cbks:\n\u001B[0;32m    173\u001B[0m         set_wandb_attrs(cbk, val_data)\n\u001B[1;32m--> 174\u001B[0m \u001B[38;5;28;01mreturn\u001B[39;00m \u001B[43mold_v2\u001B[49m\u001B[43m(\u001B[49m\u001B[38;5;241;43m*\u001B[39;49m\u001B[43margs\u001B[49m\u001B[43m,\u001B[49m\u001B[43m \u001B[49m\u001B[38;5;241;43m*\u001B[39;49m\u001B[38;5;241;43m*\u001B[39;49m\u001B[43mkwargs\u001B[49m\u001B[43m)\u001B[49m\n",
      "File \u001B[1;32m~\\Desktop\\Uni\\MSc\\Masterpraktikum\\venv\\Lib\\site-packages\\keras\\utils\\traceback_utils.py:70\u001B[0m, in \u001B[0;36mfilter_traceback.<locals>.error_handler\u001B[1;34m(*args, **kwargs)\u001B[0m\n\u001B[0;32m     67\u001B[0m     filtered_tb \u001B[38;5;241m=\u001B[39m _process_traceback_frames(e\u001B[38;5;241m.\u001B[39m__traceback__)\n\u001B[0;32m     68\u001B[0m     \u001B[38;5;66;03m# To get the full stack trace, call:\u001B[39;00m\n\u001B[0;32m     69\u001B[0m     \u001B[38;5;66;03m# `tf.debugging.disable_traceback_filtering()`\u001B[39;00m\n\u001B[1;32m---> 70\u001B[0m     \u001B[38;5;28;01mraise\u001B[39;00m e\u001B[38;5;241m.\u001B[39mwith_traceback(filtered_tb) \u001B[38;5;28;01mfrom\u001B[39;00m \u001B[38;5;28;01mNone\u001B[39;00m\n\u001B[0;32m     71\u001B[0m \u001B[38;5;28;01mfinally\u001B[39;00m:\n\u001B[0;32m     72\u001B[0m     \u001B[38;5;28;01mdel\u001B[39;00m filtered_tb\n",
      "File \u001B[1;32m~\\Desktop\\Uni\\MSc\\Masterpraktikum\\venv\\Lib\\site-packages\\keras\\engine\\data_adapter.py:1607\u001B[0m, in \u001B[0;36m_make_class_weight_map_fn\u001B[1;34m(class_weight)\u001B[0m\n\u001B[0;32m   1602\u001B[0m \u001B[38;5;28;01mif\u001B[39;00m class_ids \u001B[38;5;241m!=\u001B[39m expected_class_ids:\n\u001B[0;32m   1603\u001B[0m     error_msg \u001B[38;5;241m=\u001B[39m (\n\u001B[0;32m   1604\u001B[0m         \u001B[38;5;124m\"\u001B[39m\u001B[38;5;124mExpected `class_weight` to be a dict with keys from 0 to one less \u001B[39m\u001B[38;5;124m\"\u001B[39m\n\u001B[0;32m   1605\u001B[0m         \u001B[38;5;124m\"\u001B[39m\u001B[38;5;124mthan the number of classes, found \u001B[39m\u001B[38;5;132;01m{}\u001B[39;00m\u001B[38;5;124m\"\u001B[39m\n\u001B[0;32m   1606\u001B[0m     )\u001B[38;5;241m.\u001B[39mformat(class_weight)\n\u001B[1;32m-> 1607\u001B[0m     \u001B[38;5;28;01mraise\u001B[39;00m \u001B[38;5;167;01mValueError\u001B[39;00m(error_msg)\n\u001B[0;32m   1609\u001B[0m class_weight_tensor \u001B[38;5;241m=\u001B[39m tf\u001B[38;5;241m.\u001B[39mconvert_to_tensor(\n\u001B[0;32m   1610\u001B[0m     [class_weight[\u001B[38;5;28mint\u001B[39m(c)] \u001B[38;5;28;01mfor\u001B[39;00m c \u001B[38;5;129;01min\u001B[39;00m class_ids]\n\u001B[0;32m   1611\u001B[0m )\n\u001B[0;32m   1613\u001B[0m \u001B[38;5;28;01mdef\u001B[39;00m \u001B[38;5;21m_class_weights_map_fn\u001B[39m(\u001B[38;5;241m*\u001B[39mdata):\n",
      "\u001B[1;31mValueError\u001B[0m: Expected `class_weight` to be a dict with keys from 0 to one less than the number of classes, found {1: 669.3278861360042, 2: 0.1951470232630578, 3: 0.5731530811184621, 4: 7.882430237250256, 5: 416.02719528178244, 6: 6254.753694581281, 7: 544163.5714285715}"
     ]
    }
   ],
   "source": [
    "# Train the model with class-weights\n",
    "model.fit(X_train, y_train, epochs=10, batch_size=32, validation_data=(X_test, y_test), callbacks=[checkpoint_callback_classweights], class_weight=class_weights_dict) #, wandb_callback])"
   ],
   "metadata": {
    "collapsed": false,
    "ExecuteTime": {
     "end_time": "2023-07-04T14:47:04.787431100Z",
     "start_time": "2023-07-04T14:47:04.712871900Z"
    }
   }
  },
  {
   "cell_type": "markdown",
   "source": [
    "### Trying hyperparameter optimization"
   ],
   "metadata": {
    "collapsed": false
   }
  },
  {
   "cell_type": "code",
   "execution_count": null,
   "outputs": [],
   "source": [],
   "metadata": {
    "collapsed": false
   }
  },
  {
   "cell_type": "code",
   "execution_count": null,
   "outputs": [],
   "source": [],
   "metadata": {
    "collapsed": false
   }
  },
  {
   "cell_type": "code",
   "execution_count": null,
   "outputs": [],
   "source": [],
   "metadata": {
    "collapsed": false
   }
  },
  {
   "cell_type": "code",
   "execution_count": null,
   "outputs": [],
   "source": [],
   "metadata": {
    "collapsed": false
   }
  },
  {
   "cell_type": "markdown",
   "source": [
    "## Evaluate the models\n",
    "- confusion matrix\n",
    "- accuracy\n",
    "- loss"
   ],
   "metadata": {
    "collapsed": false
   }
  },
  {
   "cell_type": "code",
   "execution_count": null,
   "outputs": [],
   "source": [],
   "metadata": {
    "collapsed": false
   }
  },
  {
   "cell_type": "code",
   "execution_count": null,
   "outputs": [],
   "source": [],
   "metadata": {
    "collapsed": false
   }
  },
  {
   "cell_type": "code",
   "execution_count": null,
   "outputs": [],
   "source": [],
   "metadata": {
    "collapsed": false
   }
  },
  {
   "cell_type": "markdown",
   "source": [
    "## Testing the model\n",
    "- Generate some random sequences\n",
    "- run them through the model"
   ],
   "metadata": {
    "collapsed": false
   }
  },
  {
   "cell_type": "code",
   "execution_count": null,
   "outputs": [],
   "source": [
    "# Generate random peptide sequences\n",
    "num_sequences = 10  # Number of sequences to generate\n",
    "max_length = 20  # Maximum sequence length\n",
    "sequences = []\n",
    "for _ in range(num_sequences):\n",
    "    length = random.randint(1, max_length)\n",
    "    sequence = ''.join(random.choices(amino_acids, k=length))\n",
    "    sequences.append(sequence)"
   ],
   "metadata": {
    "collapsed": false
   }
  },
  {
   "cell_type": "code",
   "execution_count": 42,
   "outputs": [],
   "source": [
    "# Convert peptide sequences to numerical representation\n",
    "def sequence_to_vector(sequence):\n",
    "    vector = []\n",
    "    for amino_acid in sequence:\n",
    "        if amino_acid in amino_acids:\n",
    "            vector.append(amino_acids.index(amino_acid))\n",
    "        else:\n",
    "            vector.append(len(amino_acids))  # Handle unknown amino acids\n",
    "    return np.array(vector)\n",
    "\n",
    "# Convert the generated sequences to numerical representation\n",
    "sequence_vectors = np.array([sequence_to_vector(seq) for seq in sequences])\n",
    "\n",
    "# Load the trained model\n",
    "model = tf.keras.models.load_model('precursor_charge_prediction_model_v1')  # Replace with the path to your trained model\n",
    "\n",
    "# Predict precursor charge for the generated sequences\n",
    "predictions = model.predict(sequence_vectors)\n",
    "predicted_charge = np.argmax(predictions, axis=1) + 1\n",
    "\n",
    "# Display the generated sequences and predicted precursor charge\n",
    "for sequence, charge in zip(sequences, predicted_charge):\n",
    "    print('Sequence:', sequence)\n",
    "    print('Predicted Charge:', charge)\n",
    "    print('-------------------')"
   ],
   "metadata": {
    "collapsed": false
   }
  },
  {
   "cell_type": "code",
   "execution_count": null,
   "outputs": [],
   "source": [],
   "metadata": {
    "collapsed": false
   }
  },
  {
   "cell_type": "code",
   "execution_count": null,
   "outputs": [],
   "source": [],
   "metadata": {
    "collapsed": false
   }
  },
  {
   "cell_type": "code",
   "execution_count": null,
   "outputs": [],
   "source": [],
   "metadata": {
    "collapsed": false
   }
  },
  {
   "cell_type": "code",
   "execution_count": null,
   "outputs": [],
   "source": [],
   "metadata": {
    "collapsed": false
   }
  }
 ],
 "metadata": {
  "kernelspec": {
   "display_name": "Python 3",
   "language": "python",
   "name": "python3"
  },
  "language_info": {
   "codemirror_mode": {
    "name": "ipython",
    "version": 2
   },
   "file_extension": ".py",
   "mimetype": "text/x-python",
   "name": "python",
   "nbconvert_exporter": "python",
   "pygments_lexer": "ipython2",
   "version": "2.7.6"
  }
 },
 "nbformat": 4,
 "nbformat_minor": 0
}

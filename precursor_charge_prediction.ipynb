{
 "cells": [
  {
   "cell_type": "markdown",
   "source": [
    "## Dependencies"
   ],
   "metadata": {
    "collapsed": false
   }
  },
  {
   "cell_type": "code",
   "execution_count": 1,
   "outputs": [
    {
     "name": "stdout",
     "output_type": "stream",
     "text": [
      "Requirement already satisfied: pandas in c:\\users\\florian\\desktop\\uni\\msc\\masterpraktikum\\venv\\lib\\site-packages (1.5.3)Note: you may need to restart the kernel to use updated packages.\n",
      "\n",
      "Requirement already satisfied: python-dateutil>=2.8.1 in c:\\users\\florian\\desktop\\uni\\msc\\masterpraktikum\\venv\\lib\\site-packages (from pandas) (2.8.2)\n",
      "Requirement already satisfied: pytz>=2020.1 in c:\\users\\florian\\desktop\\uni\\msc\\masterpraktikum\\venv\\lib\\site-packages (from pandas) (2023.3)\n",
      "Requirement already satisfied: numpy>=1.21.0 in c:\\users\\florian\\desktop\\uni\\msc\\masterpraktikum\\venv\\lib\\site-packages (from pandas) (1.23.5)\n",
      "Requirement already satisfied: six>=1.5 in c:\\users\\florian\\desktop\\uni\\msc\\masterpraktikum\\venv\\lib\\site-packages (from python-dateutil>=2.8.1->pandas) (1.16.0)\n",
      "Requirement already satisfied: fastparquet in c:\\users\\florian\\desktop\\uni\\msc\\masterpraktikum\\venv\\lib\\site-packages (2023.4.0)\n",
      "Requirement already satisfied: pandas>=1.5.0 in c:\\users\\florian\\desktop\\uni\\msc\\masterpraktikum\\venv\\lib\\site-packages (from fastparquet) (1.5.3)\n",
      "Requirement already satisfied: numpy>=1.20.3 in c:\\users\\florian\\desktop\\uni\\msc\\masterpraktikum\\venv\\lib\\site-packages (from fastparquet) (1.23.5)\n",
      "Requirement already satisfied: cramjam>=2.3 in c:\\users\\florian\\desktop\\uni\\msc\\masterpraktikum\\venv\\lib\\site-packages (from fastparquet) (2.6.2)\n",
      "Requirement already satisfied: fsspec in c:\\users\\florian\\desktop\\uni\\msc\\masterpraktikum\\venv\\lib\\site-packages (from fastparquet) (2023.5.0)\n",
      "Requirement already satisfied: packaging in c:\\users\\florian\\desktop\\uni\\msc\\masterpraktikum\\venv\\lib\\site-packages (from fastparquet) (23.1)\n",
      "Requirement already satisfied: python-dateutil>=2.8.1 in c:\\users\\florian\\desktop\\uni\\msc\\masterpraktikum\\venv\\lib\\site-packages (from pandas>=1.5.0->fastparquet) (2.8.2)\n",
      "Requirement already satisfied: pytz>=2020.1 in c:\\users\\florian\\desktop\\uni\\msc\\masterpraktikum\\venv\\lib\\site-packages (from pandas>=1.5.0->fastparquet) (2023.3)\n",
      "Requirement already satisfied: six>=1.5 in c:\\users\\florian\\desktop\\uni\\msc\\masterpraktikum\\venv\\lib\\site-packages (from python-dateutil>=2.8.1->pandas>=1.5.0->fastparquet) (1.16.0)\n",
      "Note: you may need to restart the kernel to use updated packages.\n",
      "Requirement already satisfied: tensorflow in c:\\users\\florian\\desktop\\uni\\msc\\masterpraktikum\\venv\\lib\\site-packages (2.12.0)\n",
      "Requirement already satisfied: tensorflow-intel==2.12.0 in c:\\users\\florian\\desktop\\uni\\msc\\masterpraktikum\\venv\\lib\\site-packages (from tensorflow) (2.12.0)\n",
      "Requirement already satisfied: absl-py>=1.0.0 in c:\\users\\florian\\desktop\\uni\\msc\\masterpraktikum\\venv\\lib\\site-packages (from tensorflow-intel==2.12.0->tensorflow) (1.4.0)\n",
      "Requirement already satisfied: astunparse>=1.6.0 in c:\\users\\florian\\desktop\\uni\\msc\\masterpraktikum\\venv\\lib\\site-packages (from tensorflow-intel==2.12.0->tensorflow) (1.6.3)\n",
      "Requirement already satisfied: flatbuffers>=2.0 in c:\\users\\florian\\desktop\\uni\\msc\\masterpraktikum\\venv\\lib\\site-packages (from tensorflow-intel==2.12.0->tensorflow) (23.5.26)\n",
      "Requirement already satisfied: gast<=0.4.0,>=0.2.1 in c:\\users\\florian\\desktop\\uni\\msc\\masterpraktikum\\venv\\lib\\site-packages (from tensorflow-intel==2.12.0->tensorflow) (0.4.0)\n",
      "Requirement already satisfied: google-pasta>=0.1.1 in c:\\users\\florian\\desktop\\uni\\msc\\masterpraktikum\\venv\\lib\\site-packages (from tensorflow-intel==2.12.0->tensorflow) (0.2.0)\n",
      "Requirement already satisfied: h5py>=2.9.0 in c:\\users\\florian\\desktop\\uni\\msc\\masterpraktikum\\venv\\lib\\site-packages (from tensorflow-intel==2.12.0->tensorflow) (3.8.0)\n",
      "Requirement already satisfied: jax>=0.3.15 in c:\\users\\florian\\desktop\\uni\\msc\\masterpraktikum\\venv\\lib\\site-packages (from tensorflow-intel==2.12.0->tensorflow) (0.4.11)\n",
      "Requirement already satisfied: libclang>=13.0.0 in c:\\users\\florian\\desktop\\uni\\msc\\masterpraktikum\\venv\\lib\\site-packages (from tensorflow-intel==2.12.0->tensorflow) (16.0.0)\n",
      "Requirement already satisfied: numpy<1.24,>=1.22 in c:\\users\\florian\\desktop\\uni\\msc\\masterpraktikum\\venv\\lib\\site-packages (from tensorflow-intel==2.12.0->tensorflow) (1.23.5)\n",
      "Requirement already satisfied: opt-einsum>=2.3.2 in c:\\users\\florian\\desktop\\uni\\msc\\masterpraktikum\\venv\\lib\\site-packages (from tensorflow-intel==2.12.0->tensorflow) (3.3.0)\n",
      "Requirement already satisfied: packaging in c:\\users\\florian\\desktop\\uni\\msc\\masterpraktikum\\venv\\lib\\site-packages (from tensorflow-intel==2.12.0->tensorflow) (23.1)\n",
      "Requirement already satisfied: protobuf!=4.21.0,!=4.21.1,!=4.21.2,!=4.21.3,!=4.21.4,!=4.21.5,<5.0.0dev,>=3.20.3 in c:\\users\\florian\\desktop\\uni\\msc\\masterpraktikum\\venv\\lib\\site-packages (from tensorflow-intel==2.12.0->tensorflow) (4.23.2)\n",
      "Requirement already satisfied: setuptools in c:\\users\\florian\\desktop\\uni\\msc\\masterpraktikum\\venv\\lib\\site-packages (from tensorflow-intel==2.12.0->tensorflow) (65.5.1)\n",
      "Requirement already satisfied: six>=1.12.0 in c:\\users\\florian\\desktop\\uni\\msc\\masterpraktikum\\venv\\lib\\site-packages (from tensorflow-intel==2.12.0->tensorflow) (1.16.0)\n",
      "Requirement already satisfied: termcolor>=1.1.0 in c:\\users\\florian\\desktop\\uni\\msc\\masterpraktikum\\venv\\lib\\site-packages (from tensorflow-intel==2.12.0->tensorflow) (2.3.0)\n",
      "Requirement already satisfied: typing-extensions>=3.6.6 in c:\\users\\florian\\desktop\\uni\\msc\\masterpraktikum\\venv\\lib\\site-packages (from tensorflow-intel==2.12.0->tensorflow) (4.6.3)\n",
      "Requirement already satisfied: wrapt<1.15,>=1.11.0 in c:\\users\\florian\\desktop\\uni\\msc\\masterpraktikum\\venv\\lib\\site-packages (from tensorflow-intel==2.12.0->tensorflow) (1.14.1)\n",
      "Requirement already satisfied: grpcio<2.0,>=1.24.3 in c:\\users\\florian\\desktop\\uni\\msc\\masterpraktikum\\venv\\lib\\site-packages (from tensorflow-intel==2.12.0->tensorflow) (1.54.2)\n",
      "Requirement already satisfied: tensorboard<2.13,>=2.12 in c:\\users\\florian\\desktop\\uni\\msc\\masterpraktikum\\venv\\lib\\site-packages (from tensorflow-intel==2.12.0->tensorflow) (2.12.3)\n",
      "Requirement already satisfied: tensorflow-estimator<2.13,>=2.12.0 in c:\\users\\florian\\desktop\\uni\\msc\\masterpraktikum\\venv\\lib\\site-packages (from tensorflow-intel==2.12.0->tensorflow) (2.12.0)\n",
      "Requirement already satisfied: keras<2.13,>=2.12.0 in c:\\users\\florian\\desktop\\uni\\msc\\masterpraktikum\\venv\\lib\\site-packages (from tensorflow-intel==2.12.0->tensorflow) (2.12.0)\n",
      "Requirement already satisfied: tensorflow-io-gcs-filesystem>=0.23.1 in c:\\users\\florian\\desktop\\uni\\msc\\masterpraktikum\\venv\\lib\\site-packages (from tensorflow-intel==2.12.0->tensorflow) (0.31.0)\n",
      "Requirement already satisfied: wheel<1.0,>=0.23.0 in c:\\users\\florian\\desktop\\uni\\msc\\masterpraktikum\\venv\\lib\\site-packages (from astunparse>=1.6.0->tensorflow-intel==2.12.0->tensorflow) (0.38.4)\n",
      "Requirement already satisfied: ml-dtypes>=0.1.0 in c:\\users\\florian\\desktop\\uni\\msc\\masterpraktikum\\venv\\lib\\site-packages (from jax>=0.3.15->tensorflow-intel==2.12.0->tensorflow) (0.2.0)\n",
      "Requirement already satisfied: scipy>=1.7 in c:\\users\\florian\\desktop\\uni\\msc\\masterpraktikum\\venv\\lib\\site-packages (from jax>=0.3.15->tensorflow-intel==2.12.0->tensorflow) (1.10.1)\n",
      "Requirement already satisfied: google-auth<3,>=1.6.3 in c:\\users\\florian\\desktop\\uni\\msc\\masterpraktikum\\venv\\lib\\site-packages (from tensorboard<2.13,>=2.12->tensorflow-intel==2.12.0->tensorflow) (2.19.1)\n",
      "Requirement already satisfied: google-auth-oauthlib<1.1,>=0.5 in c:\\users\\florian\\desktop\\uni\\msc\\masterpraktikum\\venv\\lib\\site-packages (from tensorboard<2.13,>=2.12->tensorflow-intel==2.12.0->tensorflow) (1.0.0)\n",
      "Requirement already satisfied: markdown>=2.6.8 in c:\\users\\florian\\desktop\\uni\\msc\\masterpraktikum\\venv\\lib\\site-packages (from tensorboard<2.13,>=2.12->tensorflow-intel==2.12.0->tensorflow) (3.4.3)\n",
      "Requirement already satisfied: requests<3,>=2.21.0 in c:\\users\\florian\\desktop\\uni\\msc\\masterpraktikum\\venv\\lib\\site-packages (from tensorboard<2.13,>=2.12->tensorflow-intel==2.12.0->tensorflow) (2.31.0)\n",
      "Requirement already satisfied: tensorboard-data-server<0.8.0,>=0.7.0 in c:\\users\\florian\\desktop\\uni\\msc\\masterpraktikum\\venv\\lib\\site-packages (from tensorboard<2.13,>=2.12->tensorflow-intel==2.12.0->tensorflow) (0.7.0)\n",
      "Requirement already satisfied: werkzeug>=1.0.1 in c:\\users\\florian\\desktop\\uni\\msc\\masterpraktikum\\venv\\lib\\site-packages (from tensorboard<2.13,>=2.12->tensorflow-intel==2.12.0->tensorflow) (2.3.4)\n",
      "Requirement already satisfied: cachetools<6.0,>=2.0.0 in c:\\users\\florian\\desktop\\uni\\msc\\masterpraktikum\\venv\\lib\\site-packages (from google-auth<3,>=1.6.3->tensorboard<2.13,>=2.12->tensorflow-intel==2.12.0->tensorflow) (5.3.1)\n",
      "Requirement already satisfied: pyasn1-modules>=0.2.1 in c:\\users\\florian\\desktop\\uni\\msc\\masterpraktikum\\venv\\lib\\site-packages (from google-auth<3,>=1.6.3->tensorboard<2.13,>=2.12->tensorflow-intel==2.12.0->tensorflow) (0.3.0)\n",
      "Requirement already satisfied: rsa<5,>=3.1.4 in c:\\users\\florian\\desktop\\uni\\msc\\masterpraktikum\\venv\\lib\\site-packages (from google-auth<3,>=1.6.3->tensorboard<2.13,>=2.12->tensorflow-intel==2.12.0->tensorflow) (4.9)\n",
      "Requirement already satisfied: urllib3<2.0 in c:\\users\\florian\\desktop\\uni\\msc\\masterpraktikum\\venv\\lib\\site-packages (from google-auth<3,>=1.6.3->tensorboard<2.13,>=2.12->tensorflow-intel==2.12.0->tensorflow) (1.26.16)\n",
      "Requirement already satisfied: requests-oauthlib>=0.7.0 in c:\\users\\florian\\desktop\\uni\\msc\\masterpraktikum\\venv\\lib\\site-packages (from google-auth-oauthlib<1.1,>=0.5->tensorboard<2.13,>=2.12->tensorflow-intel==2.12.0->tensorflow) (1.3.1)\n",
      "Requirement already satisfied: charset-normalizer<4,>=2 in c:\\users\\florian\\desktop\\uni\\msc\\masterpraktikum\\venv\\lib\\site-packages (from requests<3,>=2.21.0->tensorboard<2.13,>=2.12->tensorflow-intel==2.12.0->tensorflow) (3.1.0)\n",
      "Requirement already satisfied: idna<4,>=2.5 in c:\\users\\florian\\desktop\\uni\\msc\\masterpraktikum\\venv\\lib\\site-packages (from requests<3,>=2.21.0->tensorboard<2.13,>=2.12->tensorflow-intel==2.12.0->tensorflow) (3.4)\n",
      "Requirement already satisfied: certifi>=2017.4.17 in c:\\users\\florian\\desktop\\uni\\msc\\masterpraktikum\\venv\\lib\\site-packages (from requests<3,>=2.21.0->tensorboard<2.13,>=2.12->tensorflow-intel==2.12.0->tensorflow) (2023.5.7)\n",
      "Requirement already satisfied: MarkupSafe>=2.1.1 in c:\\users\\florian\\desktop\\uni\\msc\\masterpraktikum\\venv\\lib\\site-packages (from werkzeug>=1.0.1->tensorboard<2.13,>=2.12->tensorflow-intel==2.12.0->tensorflow) (2.1.3)\n",
      "Requirement already satisfied: pyasn1<0.6.0,>=0.4.6 in c:\\users\\florian\\desktop\\uni\\msc\\masterpraktikum\\venv\\lib\\site-packages (from pyasn1-modules>=0.2.1->google-auth<3,>=1.6.3->tensorboard<2.13,>=2.12->tensorflow-intel==2.12.0->tensorflow) (0.5.0)\n",
      "Requirement already satisfied: oauthlib>=3.0.0 in c:\\users\\florian\\desktop\\uni\\msc\\masterpraktikum\\venv\\lib\\site-packages (from requests-oauthlib>=0.7.0->google-auth-oauthlib<1.1,>=0.5->tensorboard<2.13,>=2.12->tensorflow-intel==2.12.0->tensorflow) (3.2.2)\n",
      "Note: you may need to restart the kernel to use updated packages.\n",
      "Requirement already satisfied: matplotlib in c:\\users\\florian\\desktop\\uni\\msc\\masterpraktikum\\venv\\lib\\site-packages (3.7.1)\n",
      "Requirement already satisfied: contourpy>=1.0.1 in c:\\users\\florian\\desktop\\uni\\msc\\masterpraktikum\\venv\\lib\\site-packages (from matplotlib) (1.0.7)\n",
      "Requirement already satisfied: cycler>=0.10 in c:\\users\\florian\\desktop\\uni\\msc\\masterpraktikum\\venv\\lib\\site-packages (from matplotlib) (0.11.0)\n",
      "Requirement already satisfied: fonttools>=4.22.0 in c:\\users\\florian\\desktop\\uni\\msc\\masterpraktikum\\venv\\lib\\site-packages (from matplotlib) (4.39.4)\n",
      "Requirement already satisfied: kiwisolver>=1.0.1 in c:\\users\\florian\\desktop\\uni\\msc\\masterpraktikum\\venv\\lib\\site-packages (from matplotlib) (1.4.4)\n",
      "Requirement already satisfied: numpy>=1.20 in c:\\users\\florian\\desktop\\uni\\msc\\masterpraktikum\\venv\\lib\\site-packages (from matplotlib) (1.23.5)\n",
      "Requirement already satisfied: packaging>=20.0 in c:\\users\\florian\\desktop\\uni\\msc\\masterpraktikum\\venv\\lib\\site-packages (from matplotlib) (23.1)\n",
      "Requirement already satisfied: pillow>=6.2.0 in c:\\users\\florian\\desktop\\uni\\msc\\masterpraktikum\\venv\\lib\\site-packages (from matplotlib) (9.5.0)\n",
      "Requirement already satisfied: pyparsing>=2.3.1 in c:\\users\\florian\\desktop\\uni\\msc\\masterpraktikum\\venv\\lib\\site-packages (from matplotlib) (3.0.9)\n",
      "Requirement already satisfied: python-dateutil>=2.7 in c:\\users\\florian\\desktop\\uni\\msc\\masterpraktikum\\venv\\lib\\site-packages (from matplotlib) (2.8.2)\n",
      "Requirement already satisfied: six>=1.5 in c:\\users\\florian\\desktop\\uni\\msc\\masterpraktikum\\venv\\lib\\site-packages (from python-dateutil>=2.7->matplotlib) (1.16.0)\n",
      "Note: you may need to restart the kernel to use updated packages.\n",
      "Requirement already satisfied: numpy in c:\\users\\florian\\desktop\\uni\\msc\\masterpraktikum\\venv\\lib\\site-packages (1.23.5)Note: you may need to restart the kernel to use updated packages.\n",
      "\n",
      "Requirement already satisfied: keras in c:\\users\\florian\\desktop\\uni\\msc\\masterpraktikum\\venv\\lib\\site-packages (2.12.0)Note: you may need to restart the kernel to use updated packages.\n",
      "\n",
      "Requirement already satisfied: pydot in c:\\users\\florian\\desktop\\uni\\msc\\masterpraktikum\\venv\\lib\\site-packages (1.4.2)\n",
      "Requirement already satisfied: pyparsing>=2.1.4 in c:\\users\\florian\\desktop\\uni\\msc\\masterpraktikum\\venv\\lib\\site-packages (from pydot) (3.0.9)\n",
      "Note: you may need to restart the kernel to use updated packages.\n"
     ]
    }
   ],
   "source": [
    "import pandas\n",
    "%pip install pandas\n",
    "%pip install fastparquet\n",
    "%pip install tensorflow\n",
    "%pip install matplotlib\n",
    "%pip install numpy\n",
    "%pip install keras\n",
    "%pip install pydot"
   ],
   "metadata": {
    "collapsed": false,
    "ExecuteTime": {
     "end_time": "2023-07-04T13:19:13.568680800Z",
     "start_time": "2023-07-04T13:18:16.180004300Z"
    }
   }
  },
  {
   "cell_type": "markdown",
   "source": [
    "## Setup"
   ],
   "metadata": {
    "collapsed": false
   }
  },
  {
   "cell_type": "code",
   "execution_count": 2,
   "outputs": [],
   "source": [
    "import re\n",
    "import os\n",
    "import random\n",
    "import numpy as np\n",
    "import pandas as pd\n",
    "import tensorflow as tf\n",
    "import matplotlib.pyplot as plt\n",
    "from sklearn.model_selection import train_test_split\n",
    "from tensorflow.keras.callbacks import ModelCheckpoint\n",
    "import wandb\n",
    "from wandb.keras import WandbCallback"
   ],
   "metadata": {
    "collapsed": false,
    "ExecuteTime": {
     "end_time": "2023-07-04T13:19:20.544983600Z",
     "start_time": "2023-07-04T13:19:13.544541300Z"
    }
   }
  },
  {
   "cell_type": "markdown",
   "source": [
    "## Import and preprocess data"
   ],
   "metadata": {
    "collapsed": false
   }
  },
  {
   "cell_type": "code",
   "execution_count": 3,
   "outputs": [],
   "source": [
    "df = pd.read_parquet(\"data/Thermo_SRM_Pool_meta_data.parquet\", engine='fastparquet')"
   ],
   "metadata": {
    "collapsed": false,
    "ExecuteTime": {
     "end_time": "2023-07-04T13:19:24.606586300Z",
     "start_time": "2023-07-04T13:19:20.526978100Z"
    }
   }
  },
  {
   "cell_type": "code",
   "execution_count": 4,
   "outputs": [
    {
     "name": "stdout",
     "output_type": "stream",
     "text": [
      "(6080606, 15)\n",
      "                                       raw_file  scan_number  \\\n",
      "0  01640c_BC1-Thermo_SRM_Pool_3_01_01-DDA-1h-R2        34736   \n",
      "1  01640c_BC1-Thermo_SRM_Pool_3_01_01-DDA-1h-R2        25591   \n",
      "2  01640c_BC1-Thermo_SRM_Pool_3_01_01-DDA-1h-R2        24831   \n",
      "3  01640c_BC1-Thermo_SRM_Pool_3_01_01-DDA-1h-R2        34870   \n",
      "\n",
      "      modified_sequence  precursor_charge  precursor_intensity          mz  \\\n",
      "0  LPGSLETYVEQEQGENANDR                 2           29525630.0  1125.01950   \n",
      "1       HGSLQEYLQNDTGSK                 2           13188580.0   838.89737   \n",
      "2        VEEEEEINSELTAR                 2           20663460.0   824.38904   \n",
      "3  LPGSLETYVEQEQGENANDR                 2           19884630.0  1125.01950   \n",
      "\n",
      "   precursor_mz fragmentation mass_analyzer  retention_time  \\\n",
      "0   1125.018331           CID          ITMS          38.411   \n",
      "1    838.894401           HCD          FTMS          30.394   \n",
      "2    824.388401           CID          ITMS          29.737   \n",
      "3   1125.018831           CID          ITMS          38.539   \n",
      "\n",
      "   indexed_retention_time  andromeda_score  peptide_length  \\\n",
      "0               62.827337           447.14              20   \n",
      "1               42.030163           417.84              15   \n",
      "2               40.325817           365.69              14   \n",
      "3               63.159386           365.02              20   \n",
      "\n",
      "   orig_collision_energy  aligned_collision_energy  \n",
      "0                   35.0                 35.000000  \n",
      "1                   28.0                 31.447596  \n",
      "2                   35.0                 35.000000  \n",
      "3                   35.0                 35.000000  \n",
      "Index(['raw_file', 'scan_number', 'modified_sequence', 'precursor_charge',\n",
      "       'precursor_intensity', 'mz', 'precursor_mz', 'fragmentation',\n",
      "       'mass_analyzer', 'retention_time', 'indexed_retention_time',\n",
      "       'andromeda_score', 'peptide_length', 'orig_collision_energy',\n",
      "       'aligned_collision_energy'],\n",
      "      dtype='object')\n"
     ]
    }
   ],
   "source": [
    "print(df.shape)\n",
    "print(df.head(4))\n",
    "print(df.columns)"
   ],
   "metadata": {
    "collapsed": false,
    "ExecuteTime": {
     "end_time": "2023-07-04T13:19:24.622652100Z",
     "start_time": "2023-07-04T13:19:24.606586300Z"
    }
   }
  },
  {
   "cell_type": "markdown",
   "source": [
    "### Check what charge states are in the data"
   ],
   "metadata": {
    "collapsed": false
   }
  },
  {
   "cell_type": "code",
   "execution_count": 5,
   "outputs": [
    {
     "name": "stdout",
     "output_type": "stream",
     "text": [
      "[1, 2, 3, 4, 5, 6, 7]\n"
     ]
    }
   ],
   "source": [
    "list_charge = df[\"precursor_charge\"].unique().tolist()\n",
    "print(sorted(list_charge))"
   ],
   "metadata": {
    "collapsed": false,
    "ExecuteTime": {
     "end_time": "2023-07-04T13:19:24.717326700Z",
     "start_time": "2023-07-04T13:19:24.622652100Z"
    }
   }
  },
  {
   "cell_type": "markdown",
   "source": [
    "### Create dataframe containing only sequence and precursor charge"
   ],
   "metadata": {
    "collapsed": false
   }
  },
  {
   "cell_type": "code",
   "execution_count": 6,
   "outputs": [
    {
     "name": "stdout",
     "output_type": "stream",
     "text": [
      "<class 'pandas.core.frame.DataFrame'>\n",
      "RangeIndex: 6080606 entries, 0 to 6080605\n",
      "Data columns (total 2 columns):\n",
      " #   Column             Dtype \n",
      "---  ------             ----- \n",
      " 0   modified_sequence  object\n",
      " 1   precursor_charge   int64 \n",
      "dtypes: int64(1), object(1)\n",
      "memory usage: 92.8+ MB\n"
     ]
    }
   ],
   "source": [
    "# drop all columns we don't need for training\n",
    "for column in df.columns:\n",
    "    if column not in [\"modified_sequence\", \"precursor_charge\"]:\n",
    "        df.drop(column, axis=1, inplace=True)\n",
    "\n",
    "df.info()"
   ],
   "metadata": {
    "collapsed": false,
    "ExecuteTime": {
     "end_time": "2023-07-04T13:19:27.595320200Z",
     "start_time": "2023-07-04T13:19:24.686014400Z"
    }
   }
  },
  {
   "cell_type": "markdown",
   "source": [
    "### Remove all sequences containing '[UNIMOD:'"
   ],
   "metadata": {
    "collapsed": false
   }
  },
  {
   "cell_type": "code",
   "execution_count": 7,
   "outputs": [],
   "source": [
    "def delete_entries_with_partial_string(dataframe, column_name, partial_string):\n",
    "    escaped_string = re.escape(partial_string)\n",
    "    dataframe = dataframe[~dataframe[column_name].str.contains(escaped_string)]\n",
    "    return dataframe"
   ],
   "metadata": {
    "collapsed": false,
    "ExecuteTime": {
     "end_time": "2023-07-04T13:19:27.595825300Z",
     "start_time": "2023-07-04T13:19:27.595825300Z"
    }
   }
  },
  {
   "cell_type": "code",
   "execution_count": 8,
   "outputs": [
    {
     "data": {
      "text/plain": "                      modified_sequence  precursor_charge\n0                  LPGSLETYVEQEQGENANDR                 2\n1                       HGSLQEYLQNDTGSK                 2\n2                        VEEEEEINSELTAR                 2\n3                  LPGSLETYVEQEQGENANDR                 2\n4                  NSSTAEINETTTSSTDFLAR                 2\n...                                 ...               ...\n6080594                    HGIGSLLLESLK                 3\n6080599               ALEAENSALALENENQR                 2\n6080600               ALEAENSALALENENQR                 2\n6080603  EMENFVQSSGEDGIVVFSLGSLFQNVTEEK                 3\n6080604  EMENFVQSSGEDGIVVFSLGSLFQNVTEEK                 3\n\n[4761432 rows x 2 columns]",
      "text/html": "<div>\n<style scoped>\n    .dataframe tbody tr th:only-of-type {\n        vertical-align: middle;\n    }\n\n    .dataframe tbody tr th {\n        vertical-align: top;\n    }\n\n    .dataframe thead th {\n        text-align: right;\n    }\n</style>\n<table border=\"1\" class=\"dataframe\">\n  <thead>\n    <tr style=\"text-align: right;\">\n      <th></th>\n      <th>modified_sequence</th>\n      <th>precursor_charge</th>\n    </tr>\n  </thead>\n  <tbody>\n    <tr>\n      <th>0</th>\n      <td>LPGSLETYVEQEQGENANDR</td>\n      <td>2</td>\n    </tr>\n    <tr>\n      <th>1</th>\n      <td>HGSLQEYLQNDTGSK</td>\n      <td>2</td>\n    </tr>\n    <tr>\n      <th>2</th>\n      <td>VEEEEEINSELTAR</td>\n      <td>2</td>\n    </tr>\n    <tr>\n      <th>3</th>\n      <td>LPGSLETYVEQEQGENANDR</td>\n      <td>2</td>\n    </tr>\n    <tr>\n      <th>4</th>\n      <td>NSSTAEINETTTSSTDFLAR</td>\n      <td>2</td>\n    </tr>\n    <tr>\n      <th>...</th>\n      <td>...</td>\n      <td>...</td>\n    </tr>\n    <tr>\n      <th>6080594</th>\n      <td>HGIGSLLLESLK</td>\n      <td>3</td>\n    </tr>\n    <tr>\n      <th>6080599</th>\n      <td>ALEAENSALALENENQR</td>\n      <td>2</td>\n    </tr>\n    <tr>\n      <th>6080600</th>\n      <td>ALEAENSALALENENQR</td>\n      <td>2</td>\n    </tr>\n    <tr>\n      <th>6080603</th>\n      <td>EMENFVQSSGEDGIVVFSLGSLFQNVTEEK</td>\n      <td>3</td>\n    </tr>\n    <tr>\n      <th>6080604</th>\n      <td>EMENFVQSSGEDGIVVFSLGSLFQNVTEEK</td>\n      <td>3</td>\n    </tr>\n  </tbody>\n</table>\n<p>4761432 rows × 2 columns</p>\n</div>"
     },
     "execution_count": 8,
     "metadata": {},
     "output_type": "execute_result"
    }
   ],
   "source": [
    "df_filtered = delete_entries_with_partial_string(df, 'modified_sequence', '[UNIMOD:')\n",
    "df_filtered"
   ],
   "metadata": {
    "collapsed": false,
    "ExecuteTime": {
     "end_time": "2023-07-04T13:19:29.764305200Z",
     "start_time": "2023-07-04T13:19:27.595825300Z"
    }
   }
  },
  {
   "cell_type": "markdown",
   "source": [
    "### Convert protein sequences to numerical representation"
   ],
   "metadata": {
    "collapsed": false
   }
  },
  {
   "cell_type": "code",
   "execution_count": 9,
   "outputs": [
    {
     "name": "stderr",
     "output_type": "stream",
     "text": [
      "C:\\Users\\Florian\\AppData\\Local\\Temp\\ipykernel_19648\\2493357873.py:12: SettingWithCopyWarning: \n",
      "A value is trying to be set on a copy of a slice from a DataFrame.\n",
      "Try using .loc[row_indexer,col_indexer] = value instead\n",
      "\n",
      "See the caveats in the documentation: https://pandas.pydata.org/pandas-docs/stable/user_guide/indexing.html#returning-a-view-versus-a-copy\n",
      "  df_filtered['sequence_vector'] = df_filtered['modified_sequence'].apply(sequence_to_vector)\n"
     ]
    },
    {
     "data": {
      "text/plain": "                      modified_sequence  precursor_charge  \\\n0                  LPGSLETYVEQEQGENANDR                 2   \n1                       HGSLQEYLQNDTGSK                 2   \n2                        VEEEEEINSELTAR                 2   \n3                  LPGSLETYVEQEQGENANDR                 2   \n4                  NSSTAEINETTTSSTDFLAR                 2   \n...                                 ...               ...   \n6080594                    HGIGSLLLESLK                 3   \n6080599               ALEAENSALALENENQR                 2   \n6080600               ALEAENSALALENENQR                 2   \n6080603  EMENFVQSSGEDGIVVFSLGSLFQNVTEEK                 3   \n6080604  EMENFVQSSGEDGIVVFSLGSLFQNVTEEK                 3   \n\n                                           sequence_vector  \n0        [9, 12, 5, 15, 9, 3, 16, 19, 17, 3, 13, 3, 13,...  \n1        [6, 5, 15, 9, 13, 3, 19, 9, 13, 11, 2, 16, 5, ...  \n2          [17, 3, 3, 3, 3, 3, 7, 11, 15, 3, 9, 16, 0, 14]  \n3        [9, 12, 5, 15, 9, 3, 16, 19, 17, 3, 13, 3, 13,...  \n4        [11, 15, 15, 16, 0, 3, 7, 11, 3, 16, 16, 16, 1...  \n...                                                    ...  \n6080594             [6, 5, 7, 5, 15, 9, 9, 9, 3, 15, 9, 8]  \n6080599  [0, 9, 3, 0, 3, 11, 15, 0, 9, 0, 9, 3, 11, 3, ...  \n6080600  [0, 9, 3, 0, 3, 11, 15, 0, 9, 0, 9, 3, 11, 3, ...  \n6080603  [3, 10, 3, 11, 4, 17, 13, 15, 15, 5, 3, 2, 5, ...  \n6080604  [3, 10, 3, 11, 4, 17, 13, 15, 15, 5, 3, 2, 5, ...  \n\n[4761432 rows x 3 columns]",
      "text/html": "<div>\n<style scoped>\n    .dataframe tbody tr th:only-of-type {\n        vertical-align: middle;\n    }\n\n    .dataframe tbody tr th {\n        vertical-align: top;\n    }\n\n    .dataframe thead th {\n        text-align: right;\n    }\n</style>\n<table border=\"1\" class=\"dataframe\">\n  <thead>\n    <tr style=\"text-align: right;\">\n      <th></th>\n      <th>modified_sequence</th>\n      <th>precursor_charge</th>\n      <th>sequence_vector</th>\n    </tr>\n  </thead>\n  <tbody>\n    <tr>\n      <th>0</th>\n      <td>LPGSLETYVEQEQGENANDR</td>\n      <td>2</td>\n      <td>[9, 12, 5, 15, 9, 3, 16, 19, 17, 3, 13, 3, 13,...</td>\n    </tr>\n    <tr>\n      <th>1</th>\n      <td>HGSLQEYLQNDTGSK</td>\n      <td>2</td>\n      <td>[6, 5, 15, 9, 13, 3, 19, 9, 13, 11, 2, 16, 5, ...</td>\n    </tr>\n    <tr>\n      <th>2</th>\n      <td>VEEEEEINSELTAR</td>\n      <td>2</td>\n      <td>[17, 3, 3, 3, 3, 3, 7, 11, 15, 3, 9, 16, 0, 14]</td>\n    </tr>\n    <tr>\n      <th>3</th>\n      <td>LPGSLETYVEQEQGENANDR</td>\n      <td>2</td>\n      <td>[9, 12, 5, 15, 9, 3, 16, 19, 17, 3, 13, 3, 13,...</td>\n    </tr>\n    <tr>\n      <th>4</th>\n      <td>NSSTAEINETTTSSTDFLAR</td>\n      <td>2</td>\n      <td>[11, 15, 15, 16, 0, 3, 7, 11, 3, 16, 16, 16, 1...</td>\n    </tr>\n    <tr>\n      <th>...</th>\n      <td>...</td>\n      <td>...</td>\n      <td>...</td>\n    </tr>\n    <tr>\n      <th>6080594</th>\n      <td>HGIGSLLLESLK</td>\n      <td>3</td>\n      <td>[6, 5, 7, 5, 15, 9, 9, 9, 3, 15, 9, 8]</td>\n    </tr>\n    <tr>\n      <th>6080599</th>\n      <td>ALEAENSALALENENQR</td>\n      <td>2</td>\n      <td>[0, 9, 3, 0, 3, 11, 15, 0, 9, 0, 9, 3, 11, 3, ...</td>\n    </tr>\n    <tr>\n      <th>6080600</th>\n      <td>ALEAENSALALENENQR</td>\n      <td>2</td>\n      <td>[0, 9, 3, 0, 3, 11, 15, 0, 9, 0, 9, 3, 11, 3, ...</td>\n    </tr>\n    <tr>\n      <th>6080603</th>\n      <td>EMENFVQSSGEDGIVVFSLGSLFQNVTEEK</td>\n      <td>3</td>\n      <td>[3, 10, 3, 11, 4, 17, 13, 15, 15, 5, 3, 2, 5, ...</td>\n    </tr>\n    <tr>\n      <th>6080604</th>\n      <td>EMENFVQSSGEDGIVVFSLGSLFQNVTEEK</td>\n      <td>3</td>\n      <td>[3, 10, 3, 11, 4, 17, 13, 15, 15, 5, 3, 2, 5, ...</td>\n    </tr>\n  </tbody>\n</table>\n<p>4761432 rows × 3 columns</p>\n</div>"
     },
     "execution_count": 9,
     "metadata": {},
     "output_type": "execute_result"
    }
   ],
   "source": [
    "amino_acids = list('ACDEFGHIKLMNPQRSTVWY')  # List of amino acids\n",
    "\n",
    "def sequence_to_vector(sequence):\n",
    "    vector = []\n",
    "    for amino_acid in sequence:\n",
    "        if amino_acid in amino_acids:\n",
    "            vector.append(amino_acids.index(amino_acid))\n",
    "        else:\n",
    "            vector.append(len(amino_acids))  # Handle unknown amino acids\n",
    "    return vector\n",
    "\n",
    "df_filtered['sequence_vector'] = df_filtered['modified_sequence'].apply(sequence_to_vector)\n",
    "df_filtered"
   ],
   "metadata": {
    "collapsed": false,
    "ExecuteTime": {
     "end_time": "2023-07-04T13:19:53.714891500Z",
     "start_time": "2023-07-04T13:19:29.748629500Z"
    }
   }
  },
  {
   "cell_type": "markdown",
   "source": [
    "### Pad sequence_vectors to the max sequence length"
   ],
   "metadata": {
    "collapsed": false
   }
  },
  {
   "cell_type": "code",
   "execution_count": 10,
   "outputs": [],
   "source": [
    "def pad_sequences(dataframe, column_name, pad_value=21):\n",
    "    max_length = max(dataframe.loc[:, column_name].apply(len))  # Find the maximum length\n",
    "    dataframe.loc[:, column_name] = dataframe.loc[:, column_name].apply(lambda x: x + [pad_value] * (max_length - len(x)))  # Pad the sequences\n",
    "    return dataframe"
   ],
   "metadata": {
    "collapsed": false,
    "ExecuteTime": {
     "end_time": "2023-07-04T13:19:53.718649400Z",
     "start_time": "2023-07-04T13:19:53.718106100Z"
    }
   }
  },
  {
   "cell_type": "code",
   "execution_count": 11,
   "outputs": [
    {
     "name": "stderr",
     "output_type": "stream",
     "text": [
      "C:\\Users\\Florian\\AppData\\Local\\Temp\\ipykernel_19648\\1913829432.py:3: SettingWithCopyWarning: \n",
      "A value is trying to be set on a copy of a slice from a DataFrame.\n",
      "Try using .loc[row_indexer,col_indexer] = value instead\n",
      "\n",
      "See the caveats in the documentation: https://pandas.pydata.org/pandas-docs/stable/user_guide/indexing.html#returning-a-view-versus-a-copy\n",
      "  dataframe.loc[:, column_name] = dataframe.loc[:, column_name].apply(lambda x: x + [pad_value] * (max_length - len(x)))  # Pad the sequences\n"
     ]
    },
    {
     "data": {
      "text/plain": "                      modified_sequence  precursor_charge  \\\n0                  LPGSLETYVEQEQGENANDR                 2   \n1                       HGSLQEYLQNDTGSK                 2   \n2                        VEEEEEINSELTAR                 2   \n3                  LPGSLETYVEQEQGENANDR                 2   \n4                  NSSTAEINETTTSSTDFLAR                 2   \n...                                 ...               ...   \n6080594                    HGIGSLLLESLK                 3   \n6080599               ALEAENSALALENENQR                 2   \n6080600               ALEAENSALALENENQR                 2   \n6080603  EMENFVQSSGEDGIVVFSLGSLFQNVTEEK                 3   \n6080604  EMENFVQSSGEDGIVVFSLGSLFQNVTEEK                 3   \n\n                                           sequence_vector  \n0        [9, 12, 5, 15, 9, 3, 16, 19, 17, 3, 13, 3, 13,...  \n1        [6, 5, 15, 9, 13, 3, 19, 9, 13, 11, 2, 16, 5, ...  \n2        [17, 3, 3, 3, 3, 3, 7, 11, 15, 3, 9, 16, 0, 14...  \n3        [9, 12, 5, 15, 9, 3, 16, 19, 17, 3, 13, 3, 13,...  \n4        [11, 15, 15, 16, 0, 3, 7, 11, 3, 16, 16, 16, 1...  \n...                                                    ...  \n6080594  [6, 5, 7, 5, 15, 9, 9, 9, 3, 15, 9, 8, 21, 21,...  \n6080599  [0, 9, 3, 0, 3, 11, 15, 0, 9, 0, 9, 3, 11, 3, ...  \n6080600  [0, 9, 3, 0, 3, 11, 15, 0, 9, 0, 9, 3, 11, 3, ...  \n6080603  [3, 10, 3, 11, 4, 17, 13, 15, 15, 5, 3, 2, 5, ...  \n6080604  [3, 10, 3, 11, 4, 17, 13, 15, 15, 5, 3, 2, 5, ...  \n\n[4761432 rows x 3 columns]",
      "text/html": "<div>\n<style scoped>\n    .dataframe tbody tr th:only-of-type {\n        vertical-align: middle;\n    }\n\n    .dataframe tbody tr th {\n        vertical-align: top;\n    }\n\n    .dataframe thead th {\n        text-align: right;\n    }\n</style>\n<table border=\"1\" class=\"dataframe\">\n  <thead>\n    <tr style=\"text-align: right;\">\n      <th></th>\n      <th>modified_sequence</th>\n      <th>precursor_charge</th>\n      <th>sequence_vector</th>\n    </tr>\n  </thead>\n  <tbody>\n    <tr>\n      <th>0</th>\n      <td>LPGSLETYVEQEQGENANDR</td>\n      <td>2</td>\n      <td>[9, 12, 5, 15, 9, 3, 16, 19, 17, 3, 13, 3, 13,...</td>\n    </tr>\n    <tr>\n      <th>1</th>\n      <td>HGSLQEYLQNDTGSK</td>\n      <td>2</td>\n      <td>[6, 5, 15, 9, 13, 3, 19, 9, 13, 11, 2, 16, 5, ...</td>\n    </tr>\n    <tr>\n      <th>2</th>\n      <td>VEEEEEINSELTAR</td>\n      <td>2</td>\n      <td>[17, 3, 3, 3, 3, 3, 7, 11, 15, 3, 9, 16, 0, 14...</td>\n    </tr>\n    <tr>\n      <th>3</th>\n      <td>LPGSLETYVEQEQGENANDR</td>\n      <td>2</td>\n      <td>[9, 12, 5, 15, 9, 3, 16, 19, 17, 3, 13, 3, 13,...</td>\n    </tr>\n    <tr>\n      <th>4</th>\n      <td>NSSTAEINETTTSSTDFLAR</td>\n      <td>2</td>\n      <td>[11, 15, 15, 16, 0, 3, 7, 11, 3, 16, 16, 16, 1...</td>\n    </tr>\n    <tr>\n      <th>...</th>\n      <td>...</td>\n      <td>...</td>\n      <td>...</td>\n    </tr>\n    <tr>\n      <th>6080594</th>\n      <td>HGIGSLLLESLK</td>\n      <td>3</td>\n      <td>[6, 5, 7, 5, 15, 9, 9, 9, 3, 15, 9, 8, 21, 21,...</td>\n    </tr>\n    <tr>\n      <th>6080599</th>\n      <td>ALEAENSALALENENQR</td>\n      <td>2</td>\n      <td>[0, 9, 3, 0, 3, 11, 15, 0, 9, 0, 9, 3, 11, 3, ...</td>\n    </tr>\n    <tr>\n      <th>6080600</th>\n      <td>ALEAENSALALENENQR</td>\n      <td>2</td>\n      <td>[0, 9, 3, 0, 3, 11, 15, 0, 9, 0, 9, 3, 11, 3, ...</td>\n    </tr>\n    <tr>\n      <th>6080603</th>\n      <td>EMENFVQSSGEDGIVVFSLGSLFQNVTEEK</td>\n      <td>3</td>\n      <td>[3, 10, 3, 11, 4, 17, 13, 15, 15, 5, 3, 2, 5, ...</td>\n    </tr>\n    <tr>\n      <th>6080604</th>\n      <td>EMENFVQSSGEDGIVVFSLGSLFQNVTEEK</td>\n      <td>3</td>\n      <td>[3, 10, 3, 11, 4, 17, 13, 15, 15, 5, 3, 2, 5, ...</td>\n    </tr>\n  </tbody>\n</table>\n<p>4761432 rows × 3 columns</p>\n</div>"
     },
     "execution_count": 11,
     "metadata": {},
     "output_type": "execute_result"
    }
   ],
   "source": [
    "df_filtered_padded = pad_sequences(df_filtered, 'sequence_vector')\n",
    "df_filtered_padded"
   ],
   "metadata": {
    "collapsed": false,
    "ExecuteTime": {
     "end_time": "2023-07-04T13:20:01.270700800Z",
     "start_time": "2023-07-04T13:19:53.718649400Z"
    }
   }
  },
  {
   "cell_type": "markdown",
   "source": [
    "### Calculate weights to correct for class imbalance\n",
    "- Count occurrences for each charge state in the dataset\n",
    "- Calculate bias for binary prediction\n",
    "    - class with only precursor charge 2\n",
    "    - class with every other precursor charge"
   ],
   "metadata": {
    "collapsed": false
   }
  },
  {
   "cell_type": "code",
   "execution_count": 12,
   "outputs": [],
   "source": [
    "df_SingleCharges = df_filtered_padded[df_filtered_padded['precursor_charge'] == 1].copy()\n",
    "df_DoubleCharges = df_filtered_padded[df_filtered_padded['precursor_charge'] == 2].copy()\n",
    "df_TripleCharges = df_filtered_padded[df_filtered_padded['precursor_charge'] == 3].copy()\n",
    "df_QuadrupleCharges = df_filtered_padded[df_filtered_padded['precursor_charge'] == 4].copy()\n",
    "df_QuintupleCharges = df_filtered_padded[df_filtered_padded['precursor_charge'] == 5].copy()\n",
    "df_SextupleCharges = df_filtered_padded[df_filtered_padded['precursor_charge'] == 6].copy()\n",
    "df_SeptupleCharges = df_filtered_padded[df_filtered_padded['precursor_charge'] == 7].copy()\n",
    "# other charges than 2\n",
    "df_OtherCharges = df_filtered_padded[df_filtered_padded['precursor_charge'] != 2].copy()"
   ],
   "metadata": {
    "collapsed": false,
    "ExecuteTime": {
     "end_time": "2023-07-04T13:20:02.234193300Z",
     "start_time": "2023-07-04T13:20:01.270700800Z"
    }
   }
  },
  {
   "cell_type": "code",
   "execution_count": 13,
   "outputs": [],
   "source": [
    "CLASS_NAMES = [\"DoubleCharge\", \"OtherCharges\"]"
   ],
   "metadata": {
    "collapsed": false,
    "ExecuteTime": {
     "end_time": "2023-07-04T13:20:02.234193300Z",
     "start_time": "2023-07-04T13:20:02.220083900Z"
    }
   }
  },
  {
   "cell_type": "code",
   "execution_count": 15,
   "outputs": [
    {
     "name": "stdout",
     "output_type": "stream",
     "text": [
      "COUNT_SingleCharge: 999\n",
      "COUNT_DoubleCharge: 3486981\n",
      "COUNT_TripleCharges:  1185177\n",
      "COUNT_QuadrupleCharges: 86471\n",
      "COUNT_QuintupleCharges: 1694\n",
      "COUNT_SextupleCharges: 999\n",
      "COUNT_SeptupleCharges: 1\n"
     ]
    }
   ],
   "source": [
    "COUNT_SingleCharges = len(df_SingleCharges)\n",
    "COUNT_DoubleCharges = len(df_DoubleCharges)\n",
    "COUNT_TripleCharges = len(df_TripleCharges)\n",
    "COUNT_QuadrupleCharges = len(df_QuadrupleCharges)\n",
    "COUNT_QuintupleCharges = len(df_QuintupleCharges)\n",
    "COUNT_SextupleCharges = len(df_SingleCharges)\n",
    "COUNT_SeptupleCharges = len(df_SeptupleCharges)\n",
    "COUNT_OtherCharges = len(df_OtherCharges)\n",
    "\n",
    "print(\"COUNT_SingleCharge: {}\".format(COUNT_SingleCharges))\n",
    "print(\"COUNT_DoubleCharge: {}\".format(COUNT_DoubleCharges))\n",
    "print(\"COUNT_TripleCharges:  {}\".format(COUNT_TripleCharges))\n",
    "print(\"COUNT_QuadrupleCharges: {}\".format(COUNT_QuadrupleCharges))\n",
    "print(\"COUNT_QuintupleCharges: {}\".format(COUNT_QuintupleCharges))\n",
    "print(\"COUNT_SextupleCharges: {}\".format(COUNT_SextupleCharges))\n",
    "print(\"COUNT_SeptupleCharges: {}\".format(COUNT_SeptupleCharges))"
   ],
   "metadata": {
    "collapsed": false,
    "ExecuteTime": {
     "end_time": "2023-07-04T13:22:02.037476400Z",
     "start_time": "2023-07-04T13:22:02.015039100Z"
    }
   }
  },
  {
   "cell_type": "code",
   "execution_count": 19,
   "outputs": [
    {
     "data": {
      "text/plain": "<Figure size 640x480 with 1 Axes>",
      "image/png": "[encoded data removed]"
     },
     "metadata": {},
     "output_type": "display_data"
    }
   ],
   "source": [
    "charge_counts = [COUNT_SingleCharges, COUNT_DoubleCharges, COUNT_TripleCharges, COUNT_QuadrupleCharges, COUNT_QuintupleCharges, COUNT_SextupleCharges, COUNT_SeptupleCharges]\n",
    "charge_labels = ['1', '2', '3', '4', '5', '6', '7']\n",
    "plt.bar(charge_labels, charge_counts)\n",
    "plt.title('Precursor Charge Distribution')\n",
    "plt.xlabel('Precursor Charge')\n",
    "plt.ylabel('Total # of Occurrences')\n",
    "plt.show()"
   ],
   "metadata": {
    "collapsed": false,
    "ExecuteTime": {
     "end_time": "2023-07-04T13:32:09.719005200Z",
     "start_time": "2023-07-04T13:32:09.593061800Z"
    }
   }
  },
  {
   "cell_type": "code",
   "execution_count": 15,
   "outputs": [
    {
     "name": "stdout",
     "output_type": "stream",
     "text": [
      "Initial bias: 1.00652\n",
      "weight for Double Charge: 0.68\n",
      "weight for Other Charges: 1.87\n"
     ]
    }
   ],
   "source": [
    "initial_bias = np.log([COUNT_DoubleCharges / COUNT_OtherCharges])\n",
    "print(\"Initial bias: {:.5f}\".format(initial_bias[0]))\n",
    "\n",
    "TRAINING_COUNT = COUNT_DoubleCharges + COUNT_OtherCharges\n",
    "weight_for_other = (1 / COUNT_OtherCharges) * TRAINING_COUNT / 2.0\n",
    "weight_for_double = (1 / COUNT_DoubleCharges) * TRAINING_COUNT / 2.0\n",
    "\n",
    "print(\"weight for Double Charge: {:.2f}\".format(weight_for_double))\n",
    "print(\"weight for Other Charges: {:.2f}\".format(weight_for_other))"
   ],
   "metadata": {
    "collapsed": false,
    "ExecuteTime": {
     "end_time": "2023-07-04T12:14:15.494697600Z",
     "start_time": "2023-07-04T12:14:15.489989300Z"
    }
   }
  },
  {
   "cell_type": "code",
   "execution_count": 16,
   "outputs": [],
   "source": [
    "# Initialize Weights and Biases\n",
    "# wandb.init(project='precursor_charge_prediction')"
   ],
   "metadata": {
    "collapsed": false,
    "ExecuteTime": {
     "end_time": "2023-07-04T12:14:15.498225600Z",
     "start_time": "2023-07-04T12:14:15.494697600Z"
    }
   }
  },
  {
   "cell_type": "code",
   "execution_count": null,
   "outputs": [
    {
     "name": "stdout",
     "output_type": "stream",
     "text": [
      "Epoch 1/10\n",
      "119036/119036 [==============================] - 247s 2ms/step - loss: 0.2898 - accuracy: 0.8642 - val_loss: 0.2780 - val_accuracy: 0.8698\n",
      "Epoch 2/10\n",
      "119036/119036 [==============================] - 230s 2ms/step - loss: 0.2710 - accuracy: 0.8720 - val_loss: 0.2667 - val_accuracy: 0.8727\n",
      "Epoch 3/10\n",
      "119036/119036 [==============================] - 231s 2ms/step - loss: 0.2660 - accuracy: 0.8739 - val_loss: 0.2636 - val_accuracy: 0.8744\n",
      "Epoch 4/10\n",
      "119036/119036 [==============================] - 235s 2ms/step - loss: 0.2637 - accuracy: 0.8748 - val_loss: 0.2641 - val_accuracy: 0.8743\n",
      "Epoch 5/10\n",
      "119036/119036 [==============================] - 237s 2ms/step - loss: 0.2625 - accuracy: 0.8751 - val_loss: 0.2656 - val_accuracy: 0.8731\n",
      "Epoch 6/10\n",
      "119036/119036 [==============================] - 231s 2ms/step - loss: 0.2609 - accuracy: 0.8758 - val_loss: 0.2626 - val_accuracy: 0.8754\n",
      "Epoch 10/10\n",
      "114753/119036 [===========================>..] - ETA: 7s - loss: 0.2605 - accuracy: 0.8759"
     ]
    }
   ],
   "source": [
    "# Split data into training and testing sets\n",
    "X = np.array(df_filtered_padded['sequence_vector'].tolist())\n",
    "y = np.array(df_filtered_padded['precursor_charge'])\n",
    "X_train, X_test, y_train, y_test = train_test_split(X, y, test_size=0.2, random_state=42)\n",
    "\n",
    "# Define model\n",
    "model = tf.keras.models.Sequential([\n",
    "    tf.keras.layers.Embedding(input_dim=22, output_dim=16, input_length=X.shape[1]),\n",
    "    tf.keras.layers.Flatten(),\n",
    "    tf.keras.layers.Dense(64, activation='relu'),\n",
    "    tf.keras.layers.Dense(8, activation='softmax')\n",
    "])\n",
    "\n",
    "# Compile the model\n",
    "model.compile(loss='sparse_categorical_crossentropy', optimizer='adam', metrics=['accuracy'])\n",
    "\n",
    "# Configure Weights and Biases callback\n",
    "checkpoint_callback = ModelCheckpoint('precursor_charge_prediction_model_v1/best_model.h5', monitor='val_accuracy', save_best_only=True, mode='max')\n",
    "# wandb_callback = WandbCallback()\n",
    "\n",
    "# Train the model\n",
    "model.fit(X_train, y_train, epochs=10, batch_size=32, validation_data=(X_test, y_test),\n",
    "          callbacks=[checkpoint_callback]) # , wandb_callback])\n",
    "\n",
    "# Load the best model\n",
    "best_model = tf.keras.models.load_model('precursor_charge_prediction_model_v1/best_model.h5')\n",
    "\n",
    "# Evaluate the best model\n",
    "loss, accuracy = best_model.evaluate(X_test, y_test)\n",
    "print('Accuracy:', accuracy)\n",
    "\n",
    "# Save the best model to Weights and Biases\n",
    "# wandb.save('best_model.h5')\n"
   ],
   "metadata": {
    "collapsed": false,
    "is_executing": true,
    "ExecuteTime": {
     "start_time": "2023-07-04T12:15:38.264834300Z"
    }
   }
  },
  {
   "cell_type": "code",
   "execution_count": null,
   "outputs": [],
   "source": [
    "best_model.save('precursor_charge_prediction_model_v1')"
   ],
   "metadata": {
    "collapsed": false,
    "is_executing": true
   }
  },
  {
   "cell_type": "markdown",
   "source": [
    "## Testing the model\n",
    "- Generate some random sequences\n",
    "- run them through the model"
   ],
   "metadata": {
    "collapsed": false
   }
  },
  {
   "cell_type": "code",
   "execution_count": null,
   "outputs": [],
   "source": [
    "# Generate random peptide sequences\n",
    "num_sequences = 10  # Number of sequences to generate\n",
    "max_length = 20  # Maximum sequence length\n",
    "sequences = []\n",
    "for _ in range(num_sequences):\n",
    "    length = random.randint(1, max_length)\n",
    "    sequence = ''.join(random.choices(amino_acids, k=length))\n",
    "    sequences.append(sequence)"
   ],
   "metadata": {
    "collapsed": false,
    "is_executing": true
   }
  },
  {
   "cell_type": "code",
   "execution_count": 42,
   "outputs": [],
   "source": [
    "# Convert peptide sequences to numerical representation\n",
    "def sequence_to_vector(sequence):\n",
    "    vector = []\n",
    "    for amino_acid in sequence:\n",
    "        if amino_acid in amino_acids:\n",
    "            vector.append(amino_acids.index(amino_acid))\n",
    "        else:\n",
    "            vector.append(len(amino_acids))  # Handle unknown amino acids\n",
    "    return np.array(vector)\n",
    "\n",
    "# Convert the generated sequences to numerical representation\n",
    "sequence_vectors = np.array([sequence_to_vector(seq) for seq in sequences])\n",
    "\n",
    "# Load the trained model\n",
    "model = tf.keras.models.load_model('precursor_charge_prediction_model_v1')  # Replace with the path to your trained model\n",
    "\n",
    "# Predict precursor charge for the generated sequences\n",
    "predictions = model.predict(sequence_vectors)\n",
    "predicted_charge = np.argmax(predictions, axis=1) + 1\n",
    "\n",
    "# Display the generated sequences and predicted precursor charge\n",
    "for sequence, charge in zip(sequences, predicted_charge):\n",
    "    print('Sequence:', sequence)\n",
    "    print('Predicted Charge:', charge)\n",
    "    print('-------------------')"
   ],
   "metadata": {
    "collapsed": false
   }
  },
  {
   "cell_type": "markdown",
   "source": [
    "### Split data into training and validation sets"
   ],
   "metadata": {
    "collapsed": false,
    "ExecuteTime": {
     "end_time": "2023-07-04T08:11:58.399794900Z",
     "start_time": "2023-07-04T08:11:58.394926400Z"
    }
   },
   "outputs": [],
   "execution_count": 17
  },
  {
   "cell_type": "code",
   "execution_count": 36,
   "outputs": [],
   "source": [
    "def df_to_dataset(dataframe, shuffle=True, batch_size=32):\n",
    "  df = dataframe.copy()\n",
    "  labels = df.pop('precursor_charge')\n",
    "  df = {key: value[:,tf.newaxis] for key, value in dataframe.items()}\n",
    "  ds = tf.data.Dataset.from_tensor_slices((dict(df), labels))\n",
    "  if shuffle:\n",
    "    ds = ds.shuffle(buffer_size=len(dataframe))\n",
    "  ds = ds.batch(batch_size)\n",
    "  ds = ds.prefetch(batch_size)\n",
    "  return ds"
   ],
   "metadata": {
    "collapsed": false,
    "ExecuteTime": {
     "end_time": "2023-07-04T08:32:49.213748800Z",
     "start_time": "2023-07-04T08:32:49.209743100Z"
    }
   }
  },
  {
   "cell_type": "code",
   "execution_count": 38,
   "outputs": [
    {
     "data": {
      "text/plain": "                      modified_sequence  precursor_charge\n0                  LPGSLETYVEQEQGENANDR                 2\n1                       HGSLQEYLQNDTGSK                 2\n2                        VEEEEEINSELTAR                 2\n3                  LPGSLETYVEQEQGENANDR                 2\n4                  NSSTAEINETTTSSTDFLAR                 2\n...                                 ...               ...\n6080594                    HGIGSLLLESLK                 3\n6080599               ALEAENSALALENENQR                 2\n6080600               ALEAENSALALENENQR                 2\n6080603  EMENFVQSSGEDGIVVFSLGSLFQNVTEEK                 3\n6080604  EMENFVQSSGEDGIVVFSLGSLFQNVTEEK                 3\n\n[4761432 rows x 2 columns]",
      "text/html": "<div>\n<style scoped>\n    .dataframe tbody tr th:only-of-type {\n        vertical-align: middle;\n    }\n\n    .dataframe tbody tr th {\n        vertical-align: top;\n    }\n\n    .dataframe thead th {\n        text-align: right;\n    }\n</style>\n<table border=\"1\" class=\"dataframe\">\n  <thead>\n    <tr style=\"text-align: right;\">\n      <th></th>\n      <th>modified_sequence</th>\n      <th>precursor_charge</th>\n    </tr>\n  </thead>\n  <tbody>\n    <tr>\n      <th>0</th>\n      <td>LPGSLETYVEQEQGENANDR</td>\n      <td>2</td>\n    </tr>\n    <tr>\n      <th>1</th>\n      <td>HGSLQEYLQNDTGSK</td>\n      <td>2</td>\n    </tr>\n    <tr>\n      <th>2</th>\n      <td>VEEEEEINSELTAR</td>\n      <td>2</td>\n    </tr>\n    <tr>\n      <th>3</th>\n      <td>LPGSLETYVEQEQGENANDR</td>\n      <td>2</td>\n    </tr>\n    <tr>\n      <th>4</th>\n      <td>NSSTAEINETTTSSTDFLAR</td>\n      <td>2</td>\n    </tr>\n    <tr>\n      <th>...</th>\n      <td>...</td>\n      <td>...</td>\n    </tr>\n    <tr>\n      <th>6080594</th>\n      <td>HGIGSLLLESLK</td>\n      <td>3</td>\n    </tr>\n    <tr>\n      <th>6080599</th>\n      <td>ALEAENSALALENENQR</td>\n      <td>2</td>\n    </tr>\n    <tr>\n      <th>6080600</th>\n      <td>ALEAENSALALENENQR</td>\n      <td>2</td>\n    </tr>\n    <tr>\n      <th>6080603</th>\n      <td>EMENFVQSSGEDGIVVFSLGSLFQNVTEEK</td>\n      <td>3</td>\n    </tr>\n    <tr>\n      <th>6080604</th>\n      <td>EMENFVQSSGEDGIVVFSLGSLFQNVTEEK</td>\n      <td>3</td>\n    </tr>\n  </tbody>\n</table>\n<p>4761432 rows × 2 columns</p>\n</div>"
     },
     "execution_count": 38,
     "metadata": {},
     "output_type": "execute_result"
    }
   ],
   "source": [
    "train, val, test = np.split(df.sample(frac=1), [int(0.8*len(df)), int(0.9*len(df))])"
   ],
   "metadata": {
    "collapsed": false,
    "ExecuteTime": {
     "end_time": "2023-07-04T08:33:16.251484400Z",
     "start_time": "2023-07-04T08:33:13.706105400Z"
    }
   }
  },
  {
   "cell_type": "code",
   "execution_count": 27,
   "outputs": [
    {
     "name": "stderr",
     "output_type": "stream",
     "text": [
      "C:\\Users\\Florian\\AppData\\Local\\Temp\\ipykernel_20888\\1101443115.py:13: SettingWithCopyWarning: \n",
      "A value is trying to be set on a copy of a slice from a DataFrame.\n",
      "Try using .loc[row_indexer,col_indexer] = value instead\n",
      "\n",
      "See the caveats in the documentation: https://pandas.pydata.org/pandas-docs/stable/user_guide/indexing.html#returning-a-view-versus-a-copy\n",
      "  df_filtered['sequence_vector'] = df_filtered['modified_sequence'].apply(sequence_to_vector)\n"
     ]
    }
   ],
   "source": [
    "print(len(train), 'training examples')\n",
    "print(len(val), 'validation examples')\n",
    "print(len(test), 'test examples')"
   ],
   "metadata": {
    "collapsed": false
   }
  },
  {
   "cell_type": "code",
   "execution_count": 39,
   "outputs": [
    {
     "name": "stderr",
     "output_type": "stream",
     "text": [
      "C:\\Users\\Florian\\AppData\\Local\\Temp\\ipykernel_20888\\1548762500.py:12: SettingWithCopyWarning: \n",
      "A value is trying to be set on a copy of a slice from a DataFrame.\n",
      "Try using .loc[row_indexer,col_indexer] = value instead\n",
      "\n",
      "See the caveats in the documentation: https://pandas.pydata.org/pandas-docs/stable/user_guide/indexing.html#returning-a-view-versus-a-copy\n",
      "  df_filtered['sequence_vector'] = df_filtered['modified_sequence'].apply(sequence_to_vector)\n"
     ]
    },
    {
     "data": {
      "text/plain": "                      modified_sequence  precursor_charge  \\\n0                  LPGSLETYVEQEQGENANDR                 2   \n1                       HGSLQEYLQNDTGSK                 2   \n2                        VEEEEEINSELTAR                 2   \n3                  LPGSLETYVEQEQGENANDR                 2   \n4                  NSSTAEINETTTSSTDFLAR                 2   \n...                                 ...               ...   \n6080594                    HGIGSLLLESLK                 3   \n6080599               ALEAENSALALENENQR                 2   \n6080600               ALEAENSALALENENQR                 2   \n6080603  EMENFVQSSGEDGIVVFSLGSLFQNVTEEK                 3   \n6080604  EMENFVQSSGEDGIVVFSLGSLFQNVTEEK                 3   \n\n                                           sequence_vector  \n0        [9, 12, 5, 15, 9, 3, 16, 19, 17, 3, 13, 3, 13,...  \n1        [6, 5, 15, 9, 13, 3, 19, 9, 13, 11, 2, 16, 5, ...  \n2          [17, 3, 3, 3, 3, 3, 7, 11, 15, 3, 9, 16, 0, 14]  \n3        [9, 12, 5, 15, 9, 3, 16, 19, 17, 3, 13, 3, 13,...  \n4        [11, 15, 15, 16, 0, 3, 7, 11, 3, 16, 16, 16, 1...  \n...                                                    ...  \n6080594             [6, 5, 7, 5, 15, 9, 9, 9, 3, 15, 9, 8]  \n6080599  [0, 9, 3, 0, 3, 11, 15, 0, 9, 0, 9, 3, 11, 3, ...  \n6080600  [0, 9, 3, 0, 3, 11, 15, 0, 9, 0, 9, 3, 11, 3, ...  \n6080603  [3, 10, 3, 11, 4, 17, 13, 15, 15, 5, 3, 2, 5, ...  \n6080604  [3, 10, 3, 11, 4, 17, 13, 15, 15, 5, 3, 2, 5, ...  \n\n[4761432 rows x 3 columns]",
      "text/html": "<div>\n<style scoped>\n    .dataframe tbody tr th:only-of-type {\n        vertical-align: middle;\n    }\n\n    .dataframe tbody tr th {\n        vertical-align: top;\n    }\n\n    .dataframe thead th {\n        text-align: right;\n    }\n</style>\n<table border=\"1\" class=\"dataframe\">\n  <thead>\n    <tr style=\"text-align: right;\">\n      <th></th>\n      <th>modified_sequence</th>\n      <th>precursor_charge</th>\n      <th>sequence_vector</th>\n    </tr>\n  </thead>\n  <tbody>\n    <tr>\n      <th>0</th>\n      <td>LPGSLETYVEQEQGENANDR</td>\n      <td>2</td>\n      <td>[9, 12, 5, 15, 9, 3, 16, 19, 17, 3, 13, 3, 13,...</td>\n    </tr>\n    <tr>\n      <th>1</th>\n      <td>HGSLQEYLQNDTGSK</td>\n      <td>2</td>\n      <td>[6, 5, 15, 9, 13, 3, 19, 9, 13, 11, 2, 16, 5, ...</td>\n    </tr>\n    <tr>\n      <th>2</th>\n      <td>VEEEEEINSELTAR</td>\n      <td>2</td>\n      <td>[17, 3, 3, 3, 3, 3, 7, 11, 15, 3, 9, 16, 0, 14]</td>\n    </tr>\n    <tr>\n      <th>3</th>\n      <td>LPGSLETYVEQEQGENANDR</td>\n      <td>2</td>\n      <td>[9, 12, 5, 15, 9, 3, 16, 19, 17, 3, 13, 3, 13,...</td>\n    </tr>\n    <tr>\n      <th>4</th>\n      <td>NSSTAEINETTTSSTDFLAR</td>\n      <td>2</td>\n      <td>[11, 15, 15, 16, 0, 3, 7, 11, 3, 16, 16, 16, 1...</td>\n    </tr>\n    <tr>\n      <th>...</th>\n      <td>...</td>\n      <td>...</td>\n      <td>...</td>\n    </tr>\n    <tr>\n      <th>6080594</th>\n      <td>HGIGSLLLESLK</td>\n      <td>3</td>\n      <td>[6, 5, 7, 5, 15, 9, 9, 9, 3, 15, 9, 8]</td>\n    </tr>\n    <tr>\n      <th>6080599</th>\n      <td>ALEAENSALALENENQR</td>\n      <td>2</td>\n      <td>[0, 9, 3, 0, 3, 11, 15, 0, 9, 0, 9, 3, 11, 3, ...</td>\n    </tr>\n    <tr>\n      <th>6080600</th>\n      <td>ALEAENSALALENENQR</td>\n      <td>2</td>\n      <td>[0, 9, 3, 0, 3, 11, 15, 0, 9, 0, 9, 3, 11, 3, ...</td>\n    </tr>\n    <tr>\n      <th>6080603</th>\n      <td>EMENFVQSSGEDGIVVFSLGSLFQNVTEEK</td>\n      <td>3</td>\n      <td>[3, 10, 3, 11, 4, 17, 13, 15, 15, 5, 3, 2, 5, ...</td>\n    </tr>\n    <tr>\n      <th>6080604</th>\n      <td>EMENFVQSSGEDGIVVFSLGSLFQNVTEEK</td>\n      <td>3</td>\n      <td>[3, 10, 3, 11, 4, 17, 13, 15, 15, 5, 3, 2, 5, ...</td>\n    </tr>\n  </tbody>\n</table>\n<p>4761432 rows × 3 columns</p>\n</div>"
     },
     "execution_count": 39,
     "metadata": {},
     "output_type": "execute_result"
    }
   ],
   "source": [
    "batch_size = 5\n",
    "train_ds = df_to_dataset(train, batch_size=batch_size)"
   ],
   "metadata": {
    "collapsed": false,
    "ExecuteTime": {
     "end_time": "2023-07-04T08:34:33.950871400Z",
     "start_time": "2023-07-04T08:34:10.727207700Z"
    }
   }
  },
  {
   "cell_type": "code",
   "execution_count": 23,
   "outputs": [],
   "source": [
    "[(train_features, label_batch)] = train_ds.take(1)\n",
    "print('Every feature:', list(train_features.keys()))\n",
    "print('A batch of sequences:', train_features['modified_sequence'])\n",
    "print('A batch of precursor charges:', label_batch )"
   ],
   "metadata": {
    "collapsed": false,
    "ExecuteTime": {
     "end_time": "2023-07-04T08:14:16.662018Z",
     "start_time": "2023-07-04T08:14:16.631787Z"
    }
   }
  },
  {
   "cell_type": "code",
   "execution_count": 40,
   "outputs": [],
   "source": [
    "def get_category_encoding_layer(name, dataset, dtype, max_tokens=None):\n",
    "  # Create a layer that turns strings into integer indices.\n",
    "  if dtype == 'string':\n",
    "    index = layers.StringLookup(max_tokens=max_tokens)\n",
    "  # Otherwise, create a layer that turns integer values into integer indices.\n",
    "  else:\n",
    "    index = layers.IntegerLookup(max_tokens=max_tokens)\n",
    "\n",
    "  # Prepare a `tf.data.Dataset` that only yields the feature.\n",
    "  feature_ds = dataset.map(lambda x, y: x[name])\n",
    "\n",
    "  # Learn the set of possible values and assign them a fixed integer index.\n",
    "  index.adapt(feature_ds)\n",
    "\n",
    "  # Encode the integer indices.\n",
    "  encoder = layers.CategoryEncoding(num_tokens=index.vocabulary_size())\n",
    "\n",
    "  # Apply multi-hot encoding to the indices. The lambda function captures the\n",
    "  # layer, so you can use them, or include them in the Keras Functional model later.\n",
    "  return lambda feature: encoder(index(feature))"
   ],
   "metadata": {
    "collapsed": false,
    "ExecuteTime": {
     "end_time": "2023-07-04T08:34:50.564064800Z",
     "start_time": "2023-07-04T08:34:50.558536800Z"
    }
   }
  },
  {
   "cell_type": "code",
   "execution_count": 41,
   "outputs": [
    {
     "name": "stderr",
     "output_type": "stream",
     "text": [
      "C:\\Users\\Florian\\AppData\\Local\\Temp\\ipykernel_20888\\3823474037.py:3: SettingWithCopyWarning: \n",
      "A value is trying to be set on a copy of a slice from a DataFrame.\n",
      "Try using .loc[row_indexer,col_indexer] = value instead\n",
      "\n",
      "See the caveats in the documentation: https://pandas.pydata.org/pandas-docs/stable/user_guide/indexing.html#returning-a-view-versus-a-copy\n",
      "  dataframe.loc[:, column_name] = dataframe.loc[:, column_name].apply(lambda x: np.pad(x, (0, max_length - len(x)), 'constant'))  # Pad the sequences\n"
     ]
    },
    {
     "data": {
      "text/plain": "                      modified_sequence  precursor_charge  \\\n0                  LPGSLETYVEQEQGENANDR                 2   \n1                       HGSLQEYLQNDTGSK                 2   \n2                        VEEEEEINSELTAR                 2   \n3                  LPGSLETYVEQEQGENANDR                 2   \n4                  NSSTAEINETTTSSTDFLAR                 2   \n...                                 ...               ...   \n6080594                    HGIGSLLLESLK                 3   \n6080599               ALEAENSALALENENQR                 2   \n6080600               ALEAENSALALENENQR                 2   \n6080603  EMENFVQSSGEDGIVVFSLGSLFQNVTEEK                 3   \n6080604  EMENFVQSSGEDGIVVFSLGSLFQNVTEEK                 3   \n\n                                           sequence_vector  \n0        [9, 12, 5, 15, 9, 3, 16, 19, 17, 3, 13, 3, 13,...  \n1        [6, 5, 15, 9, 13, 3, 19, 9, 13, 11, 2, 16, 5, ...  \n2        [17, 3, 3, 3, 3, 3, 7, 11, 15, 3, 9, 16, 0, 14...  \n3        [9, 12, 5, 15, 9, 3, 16, 19, 17, 3, 13, 3, 13,...  \n4        [11, 15, 15, 16, 0, 3, 7, 11, 3, 16, 16, 16, 1...  \n...                                                    ...  \n6080594  [6, 5, 7, 5, 15, 9, 9, 9, 3, 15, 9, 8, 0, 0, 0...  \n6080599  [0, 9, 3, 0, 3, 11, 15, 0, 9, 0, 9, 3, 11, 3, ...  \n6080600  [0, 9, 3, 0, 3, 11, 15, 0, 9, 0, 9, 3, 11, 3, ...  \n6080603  [3, 10, 3, 11, 4, 17, 13, 15, 15, 5, 3, 2, 5, ...  \n6080604  [3, 10, 3, 11, 4, 17, 13, 15, 15, 5, 3, 2, 5, ...  \n\n[4761432 rows x 3 columns]",
      "text/html": "<div>\n<style scoped>\n    .dataframe tbody tr th:only-of-type {\n        vertical-align: middle;\n    }\n\n    .dataframe tbody tr th {\n        vertical-align: top;\n    }\n\n    .dataframe thead th {\n        text-align: right;\n    }\n</style>\n<table border=\"1\" class=\"dataframe\">\n  <thead>\n    <tr style=\"text-align: right;\">\n      <th></th>\n      <th>modified_sequence</th>\n      <th>precursor_charge</th>\n      <th>sequence_vector</th>\n    </tr>\n  </thead>\n  <tbody>\n    <tr>\n      <th>0</th>\n      <td>LPGSLETYVEQEQGENANDR</td>\n      <td>2</td>\n      <td>[9, 12, 5, 15, 9, 3, 16, 19, 17, 3, 13, 3, 13,...</td>\n    </tr>\n    <tr>\n      <th>1</th>\n      <td>HGSLQEYLQNDTGSK</td>\n      <td>2</td>\n      <td>[6, 5, 15, 9, 13, 3, 19, 9, 13, 11, 2, 16, 5, ...</td>\n    </tr>\n    <tr>\n      <th>2</th>\n      <td>VEEEEEINSELTAR</td>\n      <td>2</td>\n      <td>[17, 3, 3, 3, 3, 3, 7, 11, 15, 3, 9, 16, 0, 14...</td>\n    </tr>\n    <tr>\n      <th>3</th>\n      <td>LPGSLETYVEQEQGENANDR</td>\n      <td>2</td>\n      <td>[9, 12, 5, 15, 9, 3, 16, 19, 17, 3, 13, 3, 13,...</td>\n    </tr>\n    <tr>\n      <th>4</th>\n      <td>NSSTAEINETTTSSTDFLAR</td>\n      <td>2</td>\n      <td>[11, 15, 15, 16, 0, 3, 7, 11, 3, 16, 16, 16, 1...</td>\n    </tr>\n    <tr>\n      <th>...</th>\n      <td>...</td>\n      <td>...</td>\n      <td>...</td>\n    </tr>\n    <tr>\n      <th>6080594</th>\n      <td>HGIGSLLLESLK</td>\n      <td>3</td>\n      <td>[6, 5, 7, 5, 15, 9, 9, 9, 3, 15, 9, 8, 0, 0, 0...</td>\n    </tr>\n    <tr>\n      <th>6080599</th>\n      <td>ALEAENSALALENENQR</td>\n      <td>2</td>\n      <td>[0, 9, 3, 0, 3, 11, 15, 0, 9, 0, 9, 3, 11, 3, ...</td>\n    </tr>\n    <tr>\n      <th>6080600</th>\n      <td>ALEAENSALALENENQR</td>\n      <td>2</td>\n      <td>[0, 9, 3, 0, 3, 11, 15, 0, 9, 0, 9, 3, 11, 3, ...</td>\n    </tr>\n    <tr>\n      <th>6080603</th>\n      <td>EMENFVQSSGEDGIVVFSLGSLFQNVTEEK</td>\n      <td>3</td>\n      <td>[3, 10, 3, 11, 4, 17, 13, 15, 15, 5, 3, 2, 5, ...</td>\n    </tr>\n    <tr>\n      <th>6080604</th>\n      <td>EMENFVQSSGEDGIVVFSLGSLFQNVTEEK</td>\n      <td>3</td>\n      <td>[3, 10, 3, 11, 4, 17, 13, 15, 15, 5, 3, 2, 5, ...</td>\n    </tr>\n  </tbody>\n</table>\n<p>4761432 rows × 3 columns</p>\n</div>"
     },
     "execution_count": 41,
     "metadata": {},
     "output_type": "execute_result"
    }
   ],
   "source": [
    "# from keras import layers\n",
    "#\n",
    "# test_type_col = train_features['modified_sequence']\n",
    "# test_type_layer = get_category_encoding_layer(name='modified_sequence',\n",
    "#                                               dataset=train_ds,\n",
    "#                                               dtype='string')\n",
    "# test_type_layer(test_type_col)"
   ],
   "metadata": {
    "collapsed": false,
    "ExecuteTime": {
     "end_time": "2023-07-04T08:36:17.118929200Z",
     "start_time": "2023-07-04T08:34:57.189364400Z"
    }
   }
  },
  {
   "cell_type": "code",
   "execution_count": 15,
   "outputs": [
    {
     "name": "stderr",
     "output_type": "stream",
     "text": [
      "C:\\Users\\micro\\AppData\\Local\\Temp\\ipykernel_38360\\2125574374.py:4: FutureWarning: Support for multi-dimensional indexing (e.g. `obj[:, None]`) is deprecated and will be removed in a future version.  Convert to a numpy array before indexing instead.\n",
      "  df = {key: value[:,tf.newaxis] for key, value in dataframe.items()}\n",
      "C:\\Users\\micro\\AppData\\Local\\Temp\\ipykernel_38360\\2125574374.py:4: FutureWarning: Support for multi-dimensional indexing (e.g. `obj[:, None]`) is deprecated and will be removed in a future version.  Convert to a numpy array before indexing instead.\n",
      "  df = {key: value[:,tf.newaxis] for key, value in dataframe.items()}\n",
      "C:\\Users\\micro\\AppData\\Local\\Temp\\ipykernel_38360\\2125574374.py:4: FutureWarning: Support for multi-dimensional indexing (e.g. `obj[:, None]`) is deprecated and will be removed in a future version.  Convert to a numpy array before indexing instead.\n",
      "  df = {key: value[:,tf.newaxis] for key, value in dataframe.items()}\n"
     ]
    }
   ],
   "source": [
    "batch_size = 1024\n",
    "train_ds = df_to_dataset(train, batch_size=batch_size)\n",
    "val_ds = df_to_dataset(val, shuffle=False, batch_size=batch_size)\n",
    "test_ds = df_to_dataset(test, shuffle=False, batch_size=batch_size)"
   ],
   "metadata": {
    "collapsed": false,
    "ExecuteTime": {
     "end_time": "2023-07-03T16:56:05.114198Z",
     "start_time": "2023-07-03T16:56:03.965331400Z"
    }
   }
  },
  {
   "cell_type": "code",
   "execution_count": 43,
   "outputs": [],
   "source": [
    "all_inputs = []\n",
    "encoded_features = []"
   ],
   "metadata": {
    "collapsed": false,
    "ExecuteTime": {
     "end_time": "2023-07-04T08:38:46.519139100Z",
     "start_time": "2023-07-04T08:38:45.664472400Z"
    }
   }
  },
  {
   "cell_type": "code",
   "execution_count": 44,
   "outputs": [],
   "source": [
    "from keras import layers\n",
    "\n",
    "num_col = tf.keras.Input(shape=(1,), name='precursor_charge', dtype='int64')\n",
    "\n",
    "encoding_layer = get_category_encoding_layer(name='precursor_charge',\n",
    "                                             dataset=train_ds,\n",
    "                                             dtype='int64',\n",
    "                                             max_tokens=5)\n",
    "encoded_num_col = encoding_layer(num_col)\n",
    "all_inputs.append(num_col)\n",
    "encoded_features.append(encoded_num_col)"
   ],
   "metadata": {
    "collapsed": false,
    "ExecuteTime": {
     "end_time": "2023-07-04T08:38:48.745188200Z",
     "start_time": "2023-07-04T08:38:48.739179400Z"
    }
   }
  },
  {
   "cell_type": "code",
   "execution_count": 45,
   "outputs": [
    {
     "name": "stdout",
     "output_type": "stream",
     "text": [
      "COUNT_DoubleCharge: 3486981\n",
      "COUNT_OtherCharges: 1274451\n"
     ]
    }
   ],
   "source": [
    "categorical_cols = ['modified_sequence']\n",
    "\n",
    "for header in categorical_cols:\n",
    "  categorical_col = tf.keras.Input(shape=(1,), name=header, dtype='string')\n",
    "  encoding_layer = get_category_encoding_layer(name=header,\n",
    "                                               dataset=train_ds,\n",
    "                                               dtype='string',\n",
    "                                               max_tokens=5)\n",
    "  encoded_categorical_col = encoding_layer(categorical_col)\n",
    "  all_inputs.append(categorical_col)\n",
    "  encoded_features.append(encoded_categorical_col)"
   ],
   "metadata": {
    "collapsed": false,
    "ExecuteTime": {
     "end_time": "2023-07-04T08:38:54.360991100Z",
     "start_time": "2023-07-04T08:38:54.354873900Z"
    }
   }
  },
  {
   "cell_type": "code",
   "execution_count": 46,
   "outputs": [
    {
     "name": "stdout",
     "output_type": "stream",
     "text": [
      "Initial bias: 1.00652\n",
      "weight for Double Charge: 0.68\n",
      "weight for Other Charges: 1.87\n"
     ]
    }
   ],
   "source": [
    "all_inputs"
   ],
   "metadata": {
    "collapsed": false,
    "ExecuteTime": {
     "end_time": "2023-07-04T08:38:58.857053Z",
     "start_time": "2023-07-04T08:38:58.836146100Z"
    }
   }
  },
  {
   "cell_type": "markdown",
   "source": [
    "build model"
   ],
   "metadata": {
    "collapsed": false
   }
  },
  {
   "cell_type": "code",
   "execution_count": 18,
   "outputs": [],
   "source": [
    "all_features = tf.keras.layers.concatenate(encoded_features)\n",
    "x = tf.keras.layers.Dense(32, activation=\"relu\")(all_features)\n",
    "x = tf.keras.layers.Dropout(0.5)(x)\n",
    "output = tf.keras.layers.Dense(1)(x)\n",
    "\n",
    "model = tf.keras.Model(all_inputs, output)"
   ],
   "metadata": {
    "collapsed": false,
    "ExecuteTime": {
     "end_time": "2023-07-03T16:54:40.545013500Z",
     "start_time": "2023-07-03T16:54:40.478142500Z"
    }
   }
  },
  {
   "cell_type": "code",
   "execution_count": 19,
   "outputs": [],
   "source": [
    "model.compile(optimizer=\"adam\",\n",
    "              loss =\"binary_crossentropy\", # todo categorical_crossentropy for multiclass instead of binary\n",
    "              metrics=[\"accuracy\"])"
   ],
   "metadata": {
    "collapsed": false,
    "ExecuteTime": {
     "end_time": "2023-07-03T16:54:40.545013500Z",
     "start_time": "2023-07-03T16:54:40.516816400Z"
    }
   }
  },
  {
   "cell_type": "code",
   "execution_count": 20,
   "outputs": [
    {
     "name": "stdout",
     "output_type": "stream",
     "text": [
      "Model: \"model\"\n",
      "__________________________________________________________________________________________________\n",
      " Layer (type)                   Output Shape         Param #     Connected to                     \n",
      "==================================================================================================\n",
      " precursor_charge (InputLayer)  [(None, 1)]          0           []                               \n",
      "                                                                                                  \n",
      " modified_sequence (InputLayer)  [(None, 1)]         0           []                               \n",
      "                                                                                                  \n",
      " integer_lookup (IntegerLookup)  (None, 1)           0           ['precursor_charge[0][0]']       \n",
      "                                                                                                  \n",
      " string_lookup (StringLookup)   (None, 1)            0           ['modified_sequence[0][0]']      \n",
      "                                                                                                  \n",
      " category_encoding (CategoryEnc  (None, 5)           0           ['integer_lookup[0][0]']         \n",
      " oding)                                                                                           \n",
      "                                                                                                  \n",
      " category_encoding_1 (CategoryE  (None, 5)           0           ['string_lookup[0][0]']          \n",
      " ncoding)                                                                                         \n",
      "                                                                                                  \n",
      " concatenate (Concatenate)      (None, 10)           0           ['category_encoding[0][0]',      \n",
      "                                                                  'category_encoding_1[0][0]']    \n",
      "                                                                                                  \n",
      " dense (Dense)                  (None, 32)           352         ['concatenate[0][0]']            \n",
      "                                                                                                  \n",
      " dropout (Dropout)              (None, 32)           0           ['dense[0][0]']                  \n",
      "                                                                                                  \n",
      " dense_1 (Dense)                (None, 1)            33          ['dropout[0][0]']                \n",
      "                                                                                                  \n",
      "==================================================================================================\n",
      "Total params: 385\n",
      "Trainable params: 385\n",
      "Non-trainable params: 0\n",
      "__________________________________________________________________________________________________\n"
     ]
    }
   ],
   "source": [
    "model.summary()"
   ],
   "metadata": {
    "collapsed": false,
    "ExecuteTime": {
     "end_time": "2023-07-03T16:54:40.547016300Z",
     "start_time": "2023-07-03T16:54:40.527397Z"
    }
   }
  },
  {
   "cell_type": "code",
   "execution_count": 21,
   "outputs": [
    {
     "name": "stderr",
     "output_type": "stream",
     "text": [
      "\n",
      "KeyboardInterrupt\n",
      "\n"
     ]
    }
   ],
   "source": [
    "# Use `rankdir='LR'` to make the graph horizontal.\n",
    "tf.keras.utils.plot_model(model, show_shapes=True, rankdir=\"LR\")"
   ],
   "metadata": {
    "collapsed": false,
    "ExecuteTime": {
     "end_time": "2023-07-03T16:54:41.203308500Z",
     "start_time": "2023-07-03T16:54:40.546015Z"
    }
   }
  },
  {
   "cell_type": "code",
   "execution_count": null,
   "outputs": [],
   "source": [
    "epochs = 1\n",
    "history = model.fit(train_ds, epochs=epochs, validation_data=val_ds)"
   ],
   "metadata": {
    "collapsed": false,
    "ExecuteTime": {
     "start_time": "2023-07-03T16:54:41.202797300Z"
    }
   }
  },
  {
   "cell_type": "code",
   "execution_count": null,
   "outputs": [],
   "source": [
    "acc = history.history['accuracy']\n",
    "val_acc = history.history['val_accuracy']\n",
    "\n",
    "loss = history.history['loss']\n",
    "val_loss = history.history['val_loss']\n",
    "\n",
    "epochs_range = range(epochs)\n",
    "\n",
    "plt.figure(figsize=(8, 4))\n",
    "plt.subplot(1, 2, 1)\n",
    "plt.plot(epochs_range, acc, label='Training Accuracy')\n",
    "plt.plot(epochs_range, val_acc, label='Validation Accuracy')\n",
    "plt.legend(loc='lower right')\n",
    "plt.title('Training and Validation Accuracy')\n",
    "\n",
    "plt.subplot(1, 2, 2)\n",
    "plt.plot(epochs_range, loss, label='Training Loss')\n",
    "plt.plot(epochs_range, val_loss, label='Validation Loss')\n",
    "plt.legend(loc='upper right')\n",
    "plt.title('Training and Validation Loss')\n",
    "plt.show()"
   ],
   "metadata": {
    "collapsed": false
   }
  },
  {
   "cell_type": "code",
   "execution_count": null,
   "outputs": [],
   "source": [
    "loss, accuracy = model.evaluate(test_ds)\n",
    "print(\"Accuracy\", accuracy)"
   ],
   "metadata": {
    "collapsed": false
   }
  },
  {
   "cell_type": "code",
   "execution_count": null,
   "outputs": [],
   "source": [
    "model.save('my_charge_classifier_binary')\n",
    "reloaded_model = tf.keras.models.load_model('my_charge_classifier_binary')"
   ],
   "metadata": {
    "collapsed": false
   }
  },
  {
   "cell_type": "code",
   "execution_count": null,
   "outputs": [],
   "source": [
    "sequence = 'AA'\n",
    "charge = 2\n",
    "\n",
    "sample = {\n",
    "    'modified_sequence': sequence,\n",
    "    'precursor_charge': charge,\n",
    "}\n",
    "\n",
    "input_dict = {name: tf.convert_to_tensor([value]) for name, value in sample.items()}\n",
    "predictions = reloaded_model.predict(input_dict)\n",
    "prob = tf.nn.sigmoid(predictions[0])\n",
    "\n",
    "print(\n",
    "    f\"This particular Sequence '{sequence}' had a %.1f percent probability \"\n",
    "    f\"of being of charge {charge}.\" % (100 * prob)\n",
    ")"
   ],
   "metadata": {
    "collapsed": false
   }
  },
  {
   "cell_type": "code",
   "execution_count": 78,
   "outputs": [],
   "source": [
    "grouped = df_train.groupby(\"precursor_charge\")\n",
    "gp_dataframes = {}\n",
    "for name, group in grouped:\n",
    "    gp_dataframes[name] = group.copy()"
   ],
   "metadata": {
    "collapsed": false,
    "ExecuteTime": {
     "end_time": "2023-07-03T14:44:40.212241900Z",
     "start_time": "2023-07-03T14:44:39.826971500Z"
    }
   }
  },
  {
   "cell_type": "code",
   "execution_count": 81,
   "outputs": [
    {
     "data": {
      "text/plain": "{1:            modified_sequence  precursor_charge\n 5982              YGVSITLSGR                 1\n 7622              GSTESSVFLR                 1\n 19617             GSYMEVEDNR                 1\n 21051             GSYMEVEDNR                 1\n 25096               AGEIVVFK                 1\n ...                      ...               ...\n 6052827  C[UNIMOD:4]LGHYVNGK                 1\n 6052845  C[UNIMOD:4]LGHYVNGK                 1\n 6052855  C[UNIMOD:4]LGHYVNGK                 1\n 6052859  C[UNIMOD:4]LGHYVNGK                 1\n 6076629            GLELEVVAK                 1\n \n [954 rows x 2 columns],\n 2:                    modified_sequence  precursor_charge\n 1                    HGSLQEYLQNDTGSK                 2\n 2                     VEEEEEINSELTAR                 2\n 3               LPGSLETYVEQEQGENANDR                 2\n 4               NSSTAEINETTTSSTDFLAR                 2\n 5                 SELGSFITDYFQNQLLAK                 2\n ...                              ...               ...\n 6080573  DGSPLLGGC[UNIMOD:4]SDSSGSLR                 2\n 6080582            NSTIAVNSHVISVSINK                 2\n 6080583            NSTIAVNSHVISVSINK                 2\n 6080585            GGNVTTDISVLINSLIK                 2\n 6080599            ALEAENSALALENENQR                 2\n \n [3528647 rows x 2 columns],\n 3:                               modified_sequence  precursor_charge\n 118                           SSLIIHQQSHTGESPFK                 3\n 152                             ETGVHSLLIDTLTQR                 3\n 153                           GSLHDSGVEYEAHSDDK                 3\n 173                                 EHAHQIQMLQR                 3\n 203                             ETGVHSLLIDTLTQR                 3\n ...                                         ...               ...\n 6080601  YSQLFC[UNIMOD:4]GLPSLHSESLVATFMGSQGLPK                 3\n 6080602  YSQLFC[UNIMOD:4]GLPSLHSESLVATFMGSQGLPK                 3\n 6080603          EMENFVQSSGEDGIVVFSLGSLFQNVTEEK                 3\n 6080604          EMENFVQSSGEDGIVVFSLGSLFQNVTEEK                 3\n 6080605  YSQLFC[UNIMOD:4]GLPSLHSESLVATFMGSQGLPK                 3\n \n [1238992 rows x 2 columns],\n 4:                                          modified_sequence  precursor_charge\n 584                                   GTEHASASANGHVSYSAVSR                 4\n 1007                                      DILQNHEAVHTELLDK                 4\n 1346                                  GTEHASASANGHVSYSAVSR                 4\n 1496                                  GHSLDANSGGHSPNAYSGGR                 4\n 1502                        ESGHGNSVC[UNIMOD:4]PVTSNYHSSQR                 4\n ...                                                    ...               ...\n 6080518              VAC[UNIMOD:4]QDLSAIFC[UNIMOD:4]FQSETK                 4\n 6080519  C[UNIMOD:4]YTDLEENQNALKC[UNIMOD:4]ITDETC[UNIMO...                 4\n 6080520  C[UNIMOD:4]YTDLEENQNALKC[UNIMOD:4]ITDETC[UNIMO...                 4\n 6080521  C[UNIMOD:4]YTDLEENQNALKC[UNIMOD:4]ITDETC[UNIMO...                 4\n 6080525                         MPNVPNTQPAIMKPTEEHPAYTQIAK                 4\n \n [93524 rows x 2 columns],\n 5:                                modified_sequence  precursor_charge\n 6849                FLEDQIVHHPETMPSEDYYAYHFVPFPK                 5\n 7794     FLEDQIVHHPETM[UNIMOD:35]PSEDYYAYHFVPFPK                 5\n 7941                FLEDQIVHHPETMPSEDYYAYHFVPFPK                 5\n 8260                FLEDQIVHHPETMPSEDYYAYHFVPFPK                 5\n 8486                FLEDQIVHHPETMPSEDYYAYHFVPFPK                 5\n ...                                          ...               ...\n 6027892           HLHLASPVQESPFYVLIETSGSNAGHDAEK                 5\n 6027907                ALLGSYAHSVEDTHVQIGQVHEEFK                 5\n 6028486           HLHLASPVQESPFYVLIETSGSNAGHDAEK                 5\n 6028620           HLHLASPVQESPFYVLIETSGSNAGHDAEK                 5\n 6028626           HLHLASPVQESPFYVLIETSGSNAGHDAEK                 5\n \n [2241 rows x 2 columns],\n 6:                                      modified_sequence  precursor_charge\n 55623                    HLLHGLVADSNLTLGPGLQPLPQTSHHHR                 6\n 57454              PQHISTHFLPRDGVMEMNSIEPAKEVTATAYEIIK                 6\n 57457    NASDQGSWMQLEMLLRTHNVC[UNIMOD:4]ASAPVHEIHESALR                 6\n 70651                       TDMTVMEDAVEVRVAGDHTQWYEVNR                 6\n 73826                          RPLLAVATHVHFDHSGGLYQFDR                 6\n ...                                                ...               ...\n 5945069               SSWSFAGVPGAQRVNYSEFLSLLGDITIDHHK                 6\n 5945072               SSWSFAGVPGAQRVNYSEFLSLLGDITIDHHK                 6\n 5945075               SSWSFAGVPGAQRVNYSEFLSLLGDITIDHHK                 6\n 5945089               SSWSFAGVPGAQRVNYSEFLSLLGDITIDHHK                 6\n 5945095               SSWSFAGVPGAQRVNYSEFLSLLGDITIDHHK                 6\n \n [125 rows x 2 columns],\n 7:                                 modified_sequence  precursor_charge\n 188516     GLLGIGAGNVAVVRETGALQDSLLHC[UNIMOD:4]VR                 7\n 2724043  YQNNESEDSEEWKLPSDSGDLEALEGKYFGSIDSSENNHK                 7}"
     },
     "execution_count": 81,
     "metadata": {},
     "output_type": "execute_result"
    }
   ],
   "source": [
    "gp_dataframes"
   ],
   "metadata": {
    "collapsed": false,
    "ExecuteTime": {
     "end_time": "2023-07-03T14:44:51.320878300Z",
     "start_time": "2023-07-03T14:44:51.294515900Z"
    }
   }
  },
  {
   "cell_type": "code",
   "execution_count": 21,
   "outputs": [],
   "source": [
    "dataset = tf.data.Dataset.from_tensor_slices((df_train[\"modified_sequence\"].values, df_train[\"precursor_charge\"].values))"
   ],
   "metadata": {
    "collapsed": false,
    "ExecuteTime": {
     "end_time": "2023-07-03T14:04:51.887461900Z",
     "start_time": "2023-07-03T14:04:51.680467100Z"
    }
   }
  },
  {
   "cell_type": "code",
   "execution_count": 31,
   "outputs": [
    {
     "data": {
      "text/plain": "    1  2  3  4  5  6  7\n1   0  1  0  0  0  0  0\n2   0  1  0  0  0  0  0\n3   0  1  0  0  0  0  0\n4   0  1  0  0  0  0  0\n5   0  1  0  0  0  0  0\n6   0  1  0  0  0  0  0\n8   0  1  0  0  0  0  0\n9   0  1  0  0  0  0  0\n11  0  1  0  0  0  0  0\n12  0  1  0  0  0  0  0\n13  0  1  0  0  0  0  0",
      "text/html": "<div>\n<style scoped>\n    .dataframe tbody tr th:only-of-type {\n        vertical-align: middle;\n    }\n\n    .dataframe tbody tr th {\n        vertical-align: top;\n    }\n\n    .dataframe thead th {\n        text-align: right;\n    }\n</style>\n<table border=\"1\" class=\"dataframe\">\n  <thead>\n    <tr style=\"text-align: right;\">\n      <th></th>\n      <th>1</th>\n      <th>2</th>\n      <th>3</th>\n      <th>4</th>\n      <th>5</th>\n      <th>6</th>\n      <th>7</th>\n    </tr>\n  </thead>\n  <tbody>\n    <tr>\n      <th>1</th>\n      <td>0</td>\n      <td>1</td>\n      <td>0</td>\n      <td>0</td>\n      <td>0</td>\n      <td>0</td>\n      <td>0</td>\n    </tr>\n    <tr>\n      <th>2</th>\n      <td>0</td>\n      <td>1</td>\n      <td>0</td>\n      <td>0</td>\n      <td>0</td>\n      <td>0</td>\n      <td>0</td>\n    </tr>\n    <tr>\n      <th>3</th>\n      <td>0</td>\n      <td>1</td>\n      <td>0</td>\n      <td>0</td>\n      <td>0</td>\n      <td>0</td>\n      <td>0</td>\n    </tr>\n    <tr>\n      <th>4</th>\n      <td>0</td>\n      <td>1</td>\n      <td>0</td>\n      <td>0</td>\n      <td>0</td>\n      <td>0</td>\n      <td>0</td>\n    </tr>\n    <tr>\n      <th>5</th>\n      <td>0</td>\n      <td>1</td>\n      <td>0</td>\n      <td>0</td>\n      <td>0</td>\n      <td>0</td>\n      <td>0</td>\n    </tr>\n    <tr>\n      <th>6</th>\n      <td>0</td>\n      <td>1</td>\n      <td>0</td>\n      <td>0</td>\n      <td>0</td>\n      <td>0</td>\n      <td>0</td>\n    </tr>\n    <tr>\n      <th>8</th>\n      <td>0</td>\n      <td>1</td>\n      <td>0</td>\n      <td>0</td>\n      <td>0</td>\n      <td>0</td>\n      <td>0</td>\n    </tr>\n    <tr>\n      <th>9</th>\n      <td>0</td>\n      <td>1</td>\n      <td>0</td>\n      <td>0</td>\n      <td>0</td>\n      <td>0</td>\n      <td>0</td>\n    </tr>\n    <tr>\n      <th>11</th>\n      <td>0</td>\n      <td>1</td>\n      <td>0</td>\n      <td>0</td>\n      <td>0</td>\n      <td>0</td>\n      <td>0</td>\n    </tr>\n    <tr>\n      <th>12</th>\n      <td>0</td>\n      <td>1</td>\n      <td>0</td>\n      <td>0</td>\n      <td>0</td>\n      <td>0</td>\n      <td>0</td>\n    </tr>\n    <tr>\n      <th>13</th>\n      <td>0</td>\n      <td>1</td>\n      <td>0</td>\n      <td>0</td>\n      <td>0</td>\n      <td>0</td>\n      <td>0</td>\n    </tr>\n  </tbody>\n</table>\n</div>"
     },
     "execution_count": 31,
     "metadata": {},
     "output_type": "execute_result"
    }
   ],
   "source": [
    "encoded_df = pd.get_dummies(df_train[\"precursor_charge\"])\n",
    "encoded_df.head(11)"
   ],
   "metadata": {
    "collapsed": false,
    "ExecuteTime": {
     "end_time": "2023-07-03T14:09:23.172348200Z",
     "start_time": "2023-07-03T14:09:23.007594800Z"
    }
   }
  },
  {
   "cell_type": "code",
   "execution_count": 50,
   "outputs": [
    {
     "data": {
      "text/plain": "         modified_sequence  precursor_charge\n1                    26799                 2\n2                    62394                 2\n3                    38332                 2\n4                    49172                 2\n5                    51838                 2\n...                    ...               ...\n6080601              69940                 3\n6080602              69940                 3\n6080603              15113                 3\n6080604              15113                 3\n6080605              69940                 3\n\n[4864485 rows x 2 columns]",
      "text/html": "<div>\n<style scoped>\n    .dataframe tbody tr th:only-of-type {\n        vertical-align: middle;\n    }\n\n    .dataframe tbody tr th {\n        vertical-align: top;\n    }\n\n    .dataframe thead th {\n        text-align: right;\n    }\n</style>\n<table border=\"1\" class=\"dataframe\">\n  <thead>\n    <tr style=\"text-align: right;\">\n      <th></th>\n      <th>modified_sequence</th>\n      <th>precursor_charge</th>\n    </tr>\n  </thead>\n  <tbody>\n    <tr>\n      <th>1</th>\n      <td>26799</td>\n      <td>2</td>\n    </tr>\n    <tr>\n      <th>2</th>\n      <td>62394</td>\n      <td>2</td>\n    </tr>\n    <tr>\n      <th>3</th>\n      <td>38332</td>\n      <td>2</td>\n    </tr>\n    <tr>\n      <th>4</th>\n      <td>49172</td>\n      <td>2</td>\n    </tr>\n    <tr>\n      <th>5</th>\n      <td>51838</td>\n      <td>2</td>\n    </tr>\n    <tr>\n      <th>...</th>\n      <td>...</td>\n      <td>...</td>\n    </tr>\n    <tr>\n      <th>6080601</th>\n      <td>69940</td>\n      <td>3</td>\n    </tr>\n    <tr>\n      <th>6080602</th>\n      <td>69940</td>\n      <td>3</td>\n    </tr>\n    <tr>\n      <th>6080603</th>\n      <td>15113</td>\n      <td>3</td>\n    </tr>\n    <tr>\n      <th>6080604</th>\n      <td>15113</td>\n      <td>3</td>\n    </tr>\n    <tr>\n      <th>6080605</th>\n      <td>69940</td>\n      <td>3</td>\n    </tr>\n  </tbody>\n</table>\n<p>4864485 rows × 2 columns</p>\n</div>"
     },
     "execution_count": 50,
     "metadata": {},
     "output_type": "execute_result"
    }
   ],
   "source": [
    "df_train"
   ],
   "metadata": {
    "collapsed": false,
    "ExecuteTime": {
     "end_time": "2023-07-03T14:35:51.676201700Z",
     "start_time": "2023-07-03T14:35:51.650320400Z"
    }
   }
  },
  {
   "cell_type": "code",
   "execution_count": 82,
   "outputs": [
    {
     "data": {
      "text/plain": "<tf.Tensor: shape=(4864485,), dtype=int64, numpy=array([2, 2, 2, ..., 3, 3, 3], dtype=int64)>"
     },
     "execution_count": 82,
     "metadata": {},
     "output_type": "execute_result"
    }
   ],
   "source": [
    "tf.convert_to_tensor(df_train[\"precursor_charge\"].values)"
   ],
   "metadata": {
    "collapsed": false,
    "ExecuteTime": {
     "end_time": "2023-07-03T14:45:47.847230800Z",
     "start_time": "2023-07-03T14:45:47.786539400Z"
    }
   }
  },
  {
   "cell_type": "code",
   "execution_count": 36,
   "outputs": [
    {
     "data": {
      "text/plain": "      modified_sequence  precursor_charge\n0  LPGSLETYVEQEQGENANDR                 2\n1       HGSLQEYLQNDTGSK                 2\n2        VEEEEEINSELTAR                 2\n3  LPGSLETYVEQEQGENANDR                 2\n4  NSSTAEINETTTSSTDFLAR                 2",
      "text/html": "<div>\n<style scoped>\n    .dataframe tbody tr th:only-of-type {\n        vertical-align: middle;\n    }\n\n    .dataframe tbody tr th {\n        vertical-align: top;\n    }\n\n    .dataframe thead th {\n        text-align: right;\n    }\n</style>\n<table border=\"1\" class=\"dataframe\">\n  <thead>\n    <tr style=\"text-align: right;\">\n      <th></th>\n      <th>modified_sequence</th>\n      <th>precursor_charge</th>\n    </tr>\n  </thead>\n  <tbody>\n    <tr>\n      <th>0</th>\n      <td>LPGSLETYVEQEQGENANDR</td>\n      <td>2</td>\n    </tr>\n    <tr>\n      <th>1</th>\n      <td>HGSLQEYLQNDTGSK</td>\n      <td>2</td>\n    </tr>\n    <tr>\n      <th>2</th>\n      <td>VEEEEEINSELTAR</td>\n      <td>2</td>\n    </tr>\n    <tr>\n      <th>3</th>\n      <td>LPGSLETYVEQEQGENANDR</td>\n      <td>2</td>\n    </tr>\n    <tr>\n      <th>4</th>\n      <td>NSSTAEINETTTSSTDFLAR</td>\n      <td>2</td>\n    </tr>\n  </tbody>\n</table>\n</div>"
     },
     "execution_count": 36,
     "metadata": {},
     "output_type": "execute_result"
    }
   ],
   "source": [
    "numeric_feature_names = ['modified_sequence', 'precursor_charge']\n",
    "numeric_features = df[numeric_feature_names]\n",
    "numeric_features.head()"
   ],
   "metadata": {
    "collapsed": false,
    "ExecuteTime": {
     "end_time": "2023-07-03T14:17:07.033712600Z",
     "start_time": "2023-07-03T14:17:06.924426300Z"
    }
   }
  },
  {
   "cell_type": "code",
   "execution_count": 38,
   "outputs": [
    {
     "ename": "ValueError",
     "evalue": "Failed to convert a NumPy array to a Tensor (Unsupported object type int).",
     "output_type": "error",
     "traceback": [
      "\u001B[1;31m---------------------------------------------------------------------------\u001B[0m",
      "\u001B[1;31mValueError\u001B[0m                                Traceback (most recent call last)",
      "Cell \u001B[1;32mIn[38], line 1\u001B[0m\n\u001B[1;32m----> 1\u001B[0m \u001B[43mtf\u001B[49m\u001B[38;5;241;43m.\u001B[39;49m\u001B[43mconvert_to_tensor\u001B[49m\u001B[43m(\u001B[49m\u001B[43mnumeric_features\u001B[49m\u001B[43m)\u001B[49m\n",
      "File \u001B[1;32m~\\OneDrive\\Dokumente\\GitHub\\BachelorThesis\\venv\\Lib\\site-packages\\tensorflow\\python\\util\\traceback_utils.py:153\u001B[0m, in \u001B[0;36mfilter_traceback.<locals>.error_handler\u001B[1;34m(*args, **kwargs)\u001B[0m\n\u001B[0;32m    151\u001B[0m \u001B[38;5;28;01mexcept\u001B[39;00m \u001B[38;5;167;01mException\u001B[39;00m \u001B[38;5;28;01mas\u001B[39;00m e:\n\u001B[0;32m    152\u001B[0m   filtered_tb \u001B[38;5;241m=\u001B[39m _process_traceback_frames(e\u001B[38;5;241m.\u001B[39m__traceback__)\n\u001B[1;32m--> 153\u001B[0m   \u001B[38;5;28;01mraise\u001B[39;00m e\u001B[38;5;241m.\u001B[39mwith_traceback(filtered_tb) \u001B[38;5;28;01mfrom\u001B[39;00m \u001B[38;5;28mNone\u001B[39m\n\u001B[0;32m    154\u001B[0m \u001B[38;5;28;01mfinally\u001B[39;00m:\n\u001B[0;32m    155\u001B[0m   \u001B[38;5;28;01mdel\u001B[39;00m filtered_tb\n",
      "File \u001B[1;32m~\\OneDrive\\Dokumente\\GitHub\\BachelorThesis\\venv\\Lib\\site-packages\\tensorflow\\python\\framework\\constant_op.py:103\u001B[0m, in \u001B[0;36mconvert_to_eager_tensor\u001B[1;34m(value, ctx, dtype)\u001B[0m\n\u001B[0;32m    101\u001B[0m     dtype \u001B[38;5;241m=\u001B[39m dtypes\u001B[38;5;241m.\u001B[39mas_dtype(dtype)\u001B[38;5;241m.\u001B[39mas_datatype_enum\n\u001B[0;32m    102\u001B[0m ctx\u001B[38;5;241m.\u001B[39mensure_initialized()\n\u001B[1;32m--> 103\u001B[0m \u001B[38;5;28;01mreturn\u001B[39;00m \u001B[43mops\u001B[49m\u001B[38;5;241;43m.\u001B[39;49m\u001B[43mEagerTensor\u001B[49m\u001B[43m(\u001B[49m\u001B[43mvalue\u001B[49m\u001B[43m,\u001B[49m\u001B[43m \u001B[49m\u001B[43mctx\u001B[49m\u001B[38;5;241;43m.\u001B[39;49m\u001B[43mdevice_name\u001B[49m\u001B[43m,\u001B[49m\u001B[43m \u001B[49m\u001B[43mdtype\u001B[49m\u001B[43m)\u001B[49m\n",
      "\u001B[1;31mValueError\u001B[0m: Failed to convert a NumPy array to a Tensor (Unsupported object type int)."
     ]
    }
   ],
   "source": [
    "tf.convert_to_tensor(numeric_features)"
   ],
   "metadata": {
    "collapsed": false,
    "ExecuteTime": {
     "end_time": "2023-07-03T14:17:26.199431400Z",
     "start_time": "2023-07-03T14:17:25.591674200Z"
    }
   }
  }
 ],
 "metadata": {
  "kernelspec": {
   "display_name": "Python 3",
   "language": "python",
   "name": "python3"
  },
  "language_info": {
   "codemirror_mode": {
    "name": "ipython",
    "version": 2
   },
   "file_extension": ".py",
   "mimetype": "text/x-python",
   "name": "python",
   "nbconvert_exporter": "python",
   "pygments_lexer": "ipython2",
   "version": "2.7.6"
  }
 },
 "nbformat": 4,
 "nbformat_minor": 0
}

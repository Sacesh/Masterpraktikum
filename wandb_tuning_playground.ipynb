{
 "cells": [
  {
   "cell_type": "markdown",
   "source": [
    "# Playground to implement W&B as well as start hyperparameter-tuning"
   ],
   "metadata": {
    "collapsed": false
   }
  },
  {
   "cell_type": "markdown",
   "source": [
    "# WanDB"
   ],
   "metadata": {
    "collapsed": false
   }
  },
  {
   "cell_type": "code",
   "execution_count": 127,
   "outputs": [],
   "source": [
    "#%pip install wandb"
   ],
   "metadata": {
    "collapsed": false,
    "ExecuteTime": {
     "end_time": "2023-07-22T12:48:27.642365200Z",
     "start_time": "2023-07-22T12:48:27.393759500Z"
    }
   }
  },
  {
   "cell_type": "code",
   "execution_count": 128,
   "outputs": [],
   "source": [
    "import subprocess\n",
    "import wandb\n",
    "from wandb.keras import WandbCallback"
   ],
   "metadata": {
    "collapsed": false,
    "ExecuteTime": {
     "end_time": "2023-07-22T12:48:27.642365200Z",
     "start_time": "2023-07-22T12:48:27.396321400Z"
    }
   }
  },
  {
   "cell_type": "code",
   "execution_count": 129,
   "outputs": [
    {
     "data": {
      "text/plain": "0"
     },
     "execution_count": 129,
     "metadata": {},
     "output_type": "execute_result"
    }
   ],
   "source": [
    "subprocess.call(['wandb', 'login', '4e8d3dcb1584ad129b3b49ccc34f65b20116ae54'])"
   ],
   "metadata": {
    "collapsed": false,
    "ExecuteTime": {
     "end_time": "2023-07-22T12:48:32.380576100Z",
     "start_time": "2023-07-22T12:48:27.406399300Z"
    }
   }
  },
  {
   "cell_type": "code",
   "execution_count": 130,
   "outputs": [
    {
     "ename": "AssertionError",
     "evalue": "",
     "output_type": "error",
     "traceback": [
      "\u001B[1;31m---------------------------------------------------------------------------\u001B[0m",
      "\u001B[1;31mKeyboardInterrupt\u001B[0m                         Traceback (most recent call last)",
      "File \u001B[1;32m~\\OneDrive\\Dokumente\\GitHub\\BachelorThesis\\venv\\Lib\\site-packages\\wandb\\sdk\\wandb_init.py:1150\u001B[0m, in \u001B[0;36minit\u001B[1;34m(job_type, dir, config, project, entity, reinit, tags, group, name, notes, magic, config_exclude_keys, config_include_keys, anonymous, mode, allow_val_change, resume, force, tensorboard, sync_tensorboard, monitor_gym, save_code, id, settings)\u001B[0m\n\u001B[0;32m   1149\u001B[0m wi \u001B[38;5;241m=\u001B[39m _WandbInit()\n\u001B[1;32m-> 1150\u001B[0m \u001B[43mwi\u001B[49m\u001B[38;5;241;43m.\u001B[39;49m\u001B[43msetup\u001B[49m\u001B[43m(\u001B[49m\u001B[43mkwargs\u001B[49m\u001B[43m)\u001B[49m\n\u001B[0;32m   1151\u001B[0m \u001B[38;5;28;01massert\u001B[39;00m wi\u001B[38;5;241m.\u001B[39msettings\n",
      "File \u001B[1;32m~\\OneDrive\\Dokumente\\GitHub\\BachelorThesis\\venv\\Lib\\site-packages\\wandb\\sdk\\wandb_init.py:172\u001B[0m, in \u001B[0;36m_WandbInit.setup\u001B[1;34m(self, kwargs)\u001B[0m\n\u001B[0;32m    170\u001B[0m setup_settings \u001B[38;5;241m=\u001B[39m {\u001B[38;5;124m\"\u001B[39m\u001B[38;5;124m_disable_service\u001B[39m\u001B[38;5;124m\"\u001B[39m: _disable_service}\n\u001B[1;32m--> 172\u001B[0m \u001B[38;5;28mself\u001B[39m\u001B[38;5;241m.\u001B[39m_wl \u001B[38;5;241m=\u001B[39m \u001B[43mwandb_setup\u001B[49m\u001B[38;5;241;43m.\u001B[39;49m\u001B[43msetup\u001B[49m\u001B[43m(\u001B[49m\u001B[43msettings\u001B[49m\u001B[38;5;241;43m=\u001B[39;49m\u001B[43msetup_settings\u001B[49m\u001B[43m)\u001B[49m\n\u001B[0;32m    173\u001B[0m \u001B[38;5;66;03m# Make sure we have a logger setup (might be an early logger)\u001B[39;00m\n",
      "File \u001B[1;32m~\\OneDrive\\Dokumente\\GitHub\\BachelorThesis\\venv\\Lib\\site-packages\\wandb\\sdk\\wandb_setup.py:327\u001B[0m, in \u001B[0;36msetup\u001B[1;34m(settings)\u001B[0m\n\u001B[0;32m    324\u001B[0m \u001B[38;5;28;01mdef\u001B[39;00m \u001B[38;5;21msetup\u001B[39m(\n\u001B[0;32m    325\u001B[0m     settings: Optional[Settings] \u001B[38;5;241m=\u001B[39m \u001B[38;5;28;01mNone\u001B[39;00m,\n\u001B[0;32m    326\u001B[0m ) \u001B[38;5;241m-\u001B[39m\u001B[38;5;241m>\u001B[39m Optional[\u001B[38;5;124m\"\u001B[39m\u001B[38;5;124m_WandbSetup\u001B[39m\u001B[38;5;124m\"\u001B[39m]:\n\u001B[1;32m--> 327\u001B[0m     ret \u001B[38;5;241m=\u001B[39m \u001B[43m_setup\u001B[49m\u001B[43m(\u001B[49m\u001B[43msettings\u001B[49m\u001B[38;5;241;43m=\u001B[39;49m\u001B[43msettings\u001B[49m\u001B[43m)\u001B[49m\n\u001B[0;32m    328\u001B[0m     \u001B[38;5;28;01mreturn\u001B[39;00m ret\n",
      "File \u001B[1;32m~\\OneDrive\\Dokumente\\GitHub\\BachelorThesis\\venv\\Lib\\site-packages\\wandb\\sdk\\wandb_setup.py:320\u001B[0m, in \u001B[0;36m_setup\u001B[1;34m(settings, _reset)\u001B[0m\n\u001B[0;32m    319\u001B[0m     \u001B[38;5;28;01mreturn\u001B[39;00m \u001B[38;5;28;01mNone\u001B[39;00m\n\u001B[1;32m--> 320\u001B[0m wl \u001B[38;5;241m=\u001B[39m \u001B[43m_WandbSetup\u001B[49m\u001B[43m(\u001B[49m\u001B[43msettings\u001B[49m\u001B[38;5;241;43m=\u001B[39;49m\u001B[43msettings\u001B[49m\u001B[43m)\u001B[49m\n\u001B[0;32m    321\u001B[0m \u001B[38;5;28;01mreturn\u001B[39;00m wl\n",
      "File \u001B[1;32m~\\OneDrive\\Dokumente\\GitHub\\BachelorThesis\\venv\\Lib\\site-packages\\wandb\\sdk\\wandb_setup.py:303\u001B[0m, in \u001B[0;36m_WandbSetup.__init__\u001B[1;34m(self, settings)\u001B[0m\n\u001B[0;32m    302\u001B[0m     \u001B[38;5;28;01mreturn\u001B[39;00m\n\u001B[1;32m--> 303\u001B[0m _WandbSetup\u001B[38;5;241m.\u001B[39m_instance \u001B[38;5;241m=\u001B[39m \u001B[43m_WandbSetup__WandbSetup\u001B[49m\u001B[43m(\u001B[49m\u001B[43msettings\u001B[49m\u001B[38;5;241;43m=\u001B[39;49m\u001B[43msettings\u001B[49m\u001B[43m,\u001B[49m\u001B[43m \u001B[49m\u001B[43mpid\u001B[49m\u001B[38;5;241;43m=\u001B[39;49m\u001B[43mpid\u001B[49m\u001B[43m)\u001B[49m\n",
      "File \u001B[1;32m~\\OneDrive\\Dokumente\\GitHub\\BachelorThesis\\venv\\Lib\\site-packages\\wandb\\sdk\\wandb_setup.py:114\u001B[0m, in \u001B[0;36m_WandbSetup__WandbSetup.__init__\u001B[1;34m(self, pid, settings, environ)\u001B[0m\n\u001B[0;32m    113\u001B[0m \u001B[38;5;28mself\u001B[39m\u001B[38;5;241m.\u001B[39m_check()\n\u001B[1;32m--> 114\u001B[0m \u001B[38;5;28;43mself\u001B[39;49m\u001B[38;5;241;43m.\u001B[39;49m\u001B[43m_setup\u001B[49m\u001B[43m(\u001B[49m\u001B[43m)\u001B[49m\n\u001B[0;32m    116\u001B[0m tracelog_mode \u001B[38;5;241m=\u001B[39m \u001B[38;5;28mself\u001B[39m\u001B[38;5;241m.\u001B[39m_settings\u001B[38;5;241m.\u001B[39m_tracelog\n",
      "File \u001B[1;32m~\\OneDrive\\Dokumente\\GitHub\\BachelorThesis\\venv\\Lib\\site-packages\\wandb\\sdk\\wandb_setup.py:250\u001B[0m, in \u001B[0;36m_WandbSetup__WandbSetup._setup\u001B[1;34m(self)\u001B[0m\n\u001B[0;32m    249\u001B[0m \u001B[38;5;28;01mdef\u001B[39;00m \u001B[38;5;21m_setup\u001B[39m(\u001B[38;5;28mself\u001B[39m) \u001B[38;5;241m-\u001B[39m\u001B[38;5;241m>\u001B[39m \u001B[38;5;28;01mNone\u001B[39;00m:\n\u001B[1;32m--> 250\u001B[0m     \u001B[38;5;28;43mself\u001B[39;49m\u001B[38;5;241;43m.\u001B[39;49m\u001B[43m_setup_manager\u001B[49m\u001B[43m(\u001B[49m\u001B[43m)\u001B[49m\n\u001B[0;32m    252\u001B[0m     sweep_path \u001B[38;5;241m=\u001B[39m \u001B[38;5;28mself\u001B[39m\u001B[38;5;241m.\u001B[39m_settings\u001B[38;5;241m.\u001B[39msweep_param_path\n",
      "File \u001B[1;32m~\\OneDrive\\Dokumente\\GitHub\\BachelorThesis\\venv\\Lib\\site-packages\\wandb\\sdk\\wandb_setup.py:277\u001B[0m, in \u001B[0;36m_WandbSetup__WandbSetup._setup_manager\u001B[1;34m(self)\u001B[0m\n\u001B[0;32m    276\u001B[0m     \u001B[38;5;28;01mreturn\u001B[39;00m\n\u001B[1;32m--> 277\u001B[0m \u001B[38;5;28mself\u001B[39m\u001B[38;5;241m.\u001B[39m_manager \u001B[38;5;241m=\u001B[39m \u001B[43mwandb_manager\u001B[49m\u001B[38;5;241;43m.\u001B[39;49m\u001B[43m_Manager\u001B[49m\u001B[43m(\u001B[49m\u001B[43msettings\u001B[49m\u001B[38;5;241;43m=\u001B[39;49m\u001B[38;5;28;43mself\u001B[39;49m\u001B[38;5;241;43m.\u001B[39;49m\u001B[43m_settings\u001B[49m\u001B[43m)\u001B[49m\n",
      "File \u001B[1;32m~\\OneDrive\\Dokumente\\GitHub\\BachelorThesis\\venv\\Lib\\site-packages\\wandb\\sdk\\wandb_manager.py:145\u001B[0m, in \u001B[0;36m_Manager.__init__\u001B[1;34m(self, settings)\u001B[0m\n\u001B[0;32m    144\u001B[0m \u001B[38;5;28;01mif\u001B[39;00m \u001B[38;5;129;01mnot\u001B[39;00m token:\n\u001B[1;32m--> 145\u001B[0m     \u001B[38;5;28;43mself\u001B[39;49m\u001B[38;5;241;43m.\u001B[39;49m\u001B[43m_service\u001B[49m\u001B[38;5;241;43m.\u001B[39;49m\u001B[43mstart\u001B[49m\u001B[43m(\u001B[49m\u001B[43m)\u001B[49m\n\u001B[0;32m    146\u001B[0m     host \u001B[38;5;241m=\u001B[39m \u001B[38;5;124m\"\u001B[39m\u001B[38;5;124mlocalhost\u001B[39m\u001B[38;5;124m\"\u001B[39m\n",
      "File \u001B[1;32m~\\OneDrive\\Dokumente\\GitHub\\BachelorThesis\\venv\\Lib\\site-packages\\wandb\\sdk\\service\\service.py:218\u001B[0m, in \u001B[0;36m_Service.start\u001B[1;34m(self)\u001B[0m\n\u001B[0;32m    217\u001B[0m \u001B[38;5;28;01mdef\u001B[39;00m \u001B[38;5;21mstart\u001B[39m(\u001B[38;5;28mself\u001B[39m) \u001B[38;5;241m-\u001B[39m\u001B[38;5;241m>\u001B[39m \u001B[38;5;28;01mNone\u001B[39;00m:\n\u001B[1;32m--> 218\u001B[0m     \u001B[38;5;28;43mself\u001B[39;49m\u001B[38;5;241;43m.\u001B[39;49m\u001B[43m_launch_server\u001B[49m\u001B[43m(\u001B[49m\u001B[43m)\u001B[49m\n",
      "File \u001B[1;32m~\\OneDrive\\Dokumente\\GitHub\\BachelorThesis\\venv\\Lib\\site-packages\\wandb\\sdk\\service\\service.py:210\u001B[0m, in \u001B[0;36m_Service._launch_server\u001B[1;34m(self)\u001B[0m\n\u001B[0;32m    209\u001B[0m \u001B[38;5;28;01mtry\u001B[39;00m:\n\u001B[1;32m--> 210\u001B[0m     \u001B[38;5;28;43mself\u001B[39;49m\u001B[38;5;241;43m.\u001B[39;49m\u001B[43m_wait_for_ports\u001B[49m\u001B[43m(\u001B[49m\u001B[43mfname\u001B[49m\u001B[43m,\u001B[49m\u001B[43m \u001B[49m\u001B[43mproc\u001B[49m\u001B[38;5;241;43m=\u001B[39;49m\u001B[43minternal_proc\u001B[49m\u001B[43m)\u001B[49m\n\u001B[0;32m    211\u001B[0m \u001B[38;5;28;01mexcept\u001B[39;00m \u001B[38;5;167;01mException\u001B[39;00m \u001B[38;5;28;01mas\u001B[39;00m e:\n",
      "File \u001B[1;32m~\\OneDrive\\Dokumente\\GitHub\\BachelorThesis\\venv\\Lib\\site-packages\\wandb\\sdk\\service\\service.py:125\u001B[0m, in \u001B[0;36m_Service._wait_for_ports\u001B[1;34m(self, fname, proc)\u001B[0m\n\u001B[0;32m    124\u001B[0m \u001B[38;5;28;01mif\u001B[39;00m \u001B[38;5;129;01mnot\u001B[39;00m os\u001B[38;5;241m.\u001B[39mpath\u001B[38;5;241m.\u001B[39misfile(fname):\n\u001B[1;32m--> 125\u001B[0m     \u001B[43mtime\u001B[49m\u001B[38;5;241;43m.\u001B[39;49m\u001B[43msleep\u001B[49m\u001B[43m(\u001B[49m\u001B[38;5;241;43m0.2\u001B[39;49m\u001B[43m)\u001B[49m\n\u001B[0;32m    126\u001B[0m     \u001B[38;5;28;01mcontinue\u001B[39;00m\n",
      "\u001B[1;31mKeyboardInterrupt\u001B[0m: ",
      "\nDuring handling of the above exception, another exception occurred:\n",
      "\u001B[1;31mAssertionError\u001B[0m                            Traceback (most recent call last)",
      "Cell \u001B[1;32mIn[130], line 1\u001B[0m\n\u001B[1;32m----> 1\u001B[0m \u001B[43mwandb\u001B[49m\u001B[38;5;241;43m.\u001B[39;49m\u001B[43minit\u001B[49m\u001B[43m(\u001B[49m\u001B[43mproject\u001B[49m\u001B[38;5;241;43m=\u001B[39;49m\u001B[38;5;124;43m'\u001B[39;49m\u001B[38;5;124;43mprecursor_charge_prediction\u001B[39;49m\u001B[38;5;124;43m'\u001B[39;49m\u001B[43m)\u001B[49m\n",
      "File \u001B[1;32m~\\OneDrive\\Dokumente\\GitHub\\BachelorThesis\\venv\\Lib\\site-packages\\wandb\\sdk\\wandb_init.py:1175\u001B[0m, in \u001B[0;36minit\u001B[1;34m(job_type, dir, config, project, entity, reinit, tags, group, name, notes, magic, config_exclude_keys, config_include_keys, anonymous, mode, allow_val_change, resume, force, tensorboard, sync_tensorboard, monitor_gym, save_code, id, settings)\u001B[0m\n\u001B[0;32m   1173\u001B[0m     \u001B[38;5;28;01mraise\u001B[39;00m e\n\u001B[0;32m   1174\u001B[0m \u001B[38;5;28;01mexcept\u001B[39;00m \u001B[38;5;167;01mKeyboardInterrupt\u001B[39;00m \u001B[38;5;28;01mas\u001B[39;00m e:\n\u001B[1;32m-> 1175\u001B[0m     \u001B[38;5;28;01massert\u001B[39;00m logger\n\u001B[0;32m   1176\u001B[0m     logger\u001B[38;5;241m.\u001B[39mwarning(\u001B[38;5;124m\"\u001B[39m\u001B[38;5;124minterrupted\u001B[39m\u001B[38;5;124m\"\u001B[39m, exc_info\u001B[38;5;241m=\u001B[39me)\n\u001B[0;32m   1177\u001B[0m     \u001B[38;5;28;01mraise\u001B[39;00m e\n",
      "\u001B[1;31mAssertionError\u001B[0m: "
     ]
    }
   ],
   "source": [
    "wandb.init(project='precursor_charge_prediction')"
   ],
   "metadata": {
    "collapsed": false,
    "ExecuteTime": {
     "end_time": "2023-07-22T12:48:33.800435500Z",
     "start_time": "2023-07-22T12:48:32.376560900Z"
    }
   }
  },
  {
   "cell_type": "markdown",
   "source": [
    "## Setup"
   ],
   "metadata": {
    "collapsed": false
   }
  },
  {
   "cell_type": "code",
   "execution_count": null,
   "outputs": [],
   "source": [
    "#%pip install seaborn"
   ],
   "metadata": {
    "collapsed": false
   }
  },
  {
   "cell_type": "code",
   "execution_count": null,
   "outputs": [],
   "source": [
    "import re\n",
    "import os\n",
    "import random\n",
    "import numpy as np\n",
    "import pandas as pd\n",
    "import tensorflow as tf\n",
    "import matplotlib.pyplot as plt\n",
    "from sklearn.model_selection import train_test_split\n",
    "from tensorflow.keras.callbacks import ModelCheckpoint\n",
    "from sklearn.utils import class_weight\n",
    "from sklearn.model_selection import StratifiedShuffleSplit\n",
    "from sklearn.metrics import confusion_matrix, classification_report\n",
    "import seaborn as sns\n",
    "import wandb\n",
    "from wandb.keras import WandbCallback"
   ],
   "metadata": {
    "collapsed": false
   }
  },
  {
   "cell_type": "markdown",
   "source": [
    "# Dataset batches + split"
   ],
   "metadata": {
    "collapsed": false
   }
  },
  {
   "cell_type": "code",
   "execution_count": null,
   "outputs": [],
   "source": [
    "import re\n",
    "# the dictionary\n",
    "aa_syntax_dictionary = dict()\n",
    "for index, i in enumerate(list('XACDEFGHIKLMNPQRSTVWY')): # added X for 0 value\n",
    "    aa_syntax_dictionary[i] = index * 100\n",
    "    if i != 'X': # ignore 0 value for X\n",
    "        for count in range(0, 100):\n",
    "            aa_syntax_dictionary[i + \"[UNIMOD:\" + str(count) + \"]\"] = index * 100 + count\n",
    "\n",
    "def seq_translator(sequence, dictionary=aa_syntax_dictionary, print_result=False):\n",
    "    \"\"\"\n",
    "    Translates a sequence into a vector of integers\n",
    "    :param sequence: string\n",
    "    :param dictionary: dictionary\n",
    "    :return: list\n",
    "    \"\"\"\n",
    "    pattern = r'[A-Z]\\[[^\\]]*\\]|.' # regex pattern to match amino acids and modifications\n",
    "\n",
    "    result = [match for match in re.findall(pattern, sequence)]\n",
    "\n",
    "    if print_result:\n",
    "        print(result)\n",
    "    # Fill the list with \"X\" characters until it reaches a length of 40\n",
    "    result += ['X'] * (40 - len(result))\n",
    "\n",
    "    return [dictionary[aa] for aa in result]\n",
    "\n",
    "\n",
    "def one_hot_precursor(int_value, max_charge_included=6):\n",
    "    \"\"\"\n",
    "    One-hot encodes the precursor charge\n",
    "    :param df: dataframe\n",
    "    :param max_charge_included: int\n",
    "    :return: dataframe\n",
    "    \"\"\"\n",
    "    one_hot = [1 if x == int_value else 0 for x in range(1, max_charge_included+1)]\n",
    "\n",
    "    return one_hot"
   ],
   "metadata": {
    "collapsed": false
   }
  },
  {
   "cell_type": "code",
   "execution_count": null,
   "outputs": [],
   "source": [
    "print(seq_translator('AAC[UNIMOD:4]LLVAW', print_result=True))\n",
    "print(one_hot_precursor(2))"
   ],
   "metadata": {
    "collapsed": false
   }
  },
  {
   "cell_type": "code",
   "execution_count": null,
   "outputs": [],
   "source": [
    "file_list = [\"data/\"+file for file in os.listdir('data') if file.endswith('.parquet')]\n",
    "print(file_list[0])"
   ],
   "metadata": {
    "collapsed": false
   }
  },
  {
   "cell_type": "markdown",
   "source": [
    "### import parquet files, drop all columns we dont need for training, one-hot encode precursor charge, translate sequence"
   ],
   "metadata": {
    "collapsed": false
   }
  },
  {
   "cell_type": "code",
   "execution_count": 161,
   "outputs": [],
   "source": [
    "batches_parquet = dict()\n",
    "for file in file_list:\n",
    "    df = pd.read_parquet(file, engine='fastparquet')\n",
    "    # drop all columns we dont need for training\n",
    "    for column in df.columns:\n",
    "        if column not in [\"modified_sequence\",\"precursor_intensity\", \"precursor_charge\"]:\n",
    "            df.drop(column, axis=1, inplace=True)\n",
    "    df = df[df[\"precursor_charge\"].isin([2, 3, 4])] # remove 7+ charge states // only take charge states 2,3,4\n",
    "    df[\"modified_sequence_vector\"] = df[\"modified_sequence\"].apply(seq_translator)\n",
    "    df[\"precursor_charge_vector\"] = df[\"precursor_charge\"].apply(one_hot_precursor)\n",
    "    batches_parquet[file] = df\n",
    "    break # TODO REMOVE BREAK FOR FIRST FILE IN IN LIST"
   ],
   "metadata": {
    "collapsed": false,
    "ExecuteTime": {
     "end_time": "2023-07-22T13:18:13.773326400Z",
     "start_time": "2023-07-22T13:17:30.991841100Z"
    }
   }
  },
  {
   "cell_type": "code",
   "execution_count": 162,
   "outputs": [
    {
     "data": {
      "text/plain": "      modified_sequence  precursor_charge  precursor_intensity  \\\n0  LPGSLETYVEQEQGENANDR                 2           29525630.0   \n1       HGSLQEYLQNDTGSK                 2           13188580.0   \n2        VEEEEEINSELTAR                 2           20663460.0   \n3  LPGSLETYVEQEQGENANDR                 2           19884630.0   \n4  NSSTAEINETTTSSTDFLAR                 2           12804420.0   \n\n                            modified_sequence_vector precursor_charge_vector  \n0  [1000, 1300, 600, 1600, 1000, 400, 1700, 2000,...      [0, 1, 0, 0, 0, 0]  \n1  [700, 600, 1600, 1000, 1400, 400, 2000, 1000, ...      [0, 1, 0, 0, 0, 0]  \n2  [1800, 400, 400, 400, 400, 400, 800, 1200, 160...      [0, 1, 0, 0, 0, 0]  \n3  [1000, 1300, 600, 1600, 1000, 400, 1700, 2000,...      [0, 1, 0, 0, 0, 0]  \n4  [1200, 1600, 1600, 1700, 100, 400, 800, 1200, ...      [0, 1, 0, 0, 0, 0]  ",
      "text/html": "<div>\n<style scoped>\n    .dataframe tbody tr th:only-of-type {\n        vertical-align: middle;\n    }\n\n    .dataframe tbody tr th {\n        vertical-align: top;\n    }\n\n    .dataframe thead th {\n        text-align: right;\n    }\n</style>\n<table border=\"1\" class=\"dataframe\">\n  <thead>\n    <tr style=\"text-align: right;\">\n      <th></th>\n      <th>modified_sequence</th>\n      <th>precursor_charge</th>\n      <th>precursor_intensity</th>\n      <th>modified_sequence_vector</th>\n      <th>precursor_charge_vector</th>\n    </tr>\n  </thead>\n  <tbody>\n    <tr>\n      <th>0</th>\n      <td>LPGSLETYVEQEQGENANDR</td>\n      <td>2</td>\n      <td>29525630.0</td>\n      <td>[1000, 1300, 600, 1600, 1000, 400, 1700, 2000,...</td>\n      <td>[0, 1, 0, 0, 0, 0]</td>\n    </tr>\n    <tr>\n      <th>1</th>\n      <td>HGSLQEYLQNDTGSK</td>\n      <td>2</td>\n      <td>13188580.0</td>\n      <td>[700, 600, 1600, 1000, 1400, 400, 2000, 1000, ...</td>\n      <td>[0, 1, 0, 0, 0, 0]</td>\n    </tr>\n    <tr>\n      <th>2</th>\n      <td>VEEEEEINSELTAR</td>\n      <td>2</td>\n      <td>20663460.0</td>\n      <td>[1800, 400, 400, 400, 400, 400, 800, 1200, 160...</td>\n      <td>[0, 1, 0, 0, 0, 0]</td>\n    </tr>\n    <tr>\n      <th>3</th>\n      <td>LPGSLETYVEQEQGENANDR</td>\n      <td>2</td>\n      <td>19884630.0</td>\n      <td>[1000, 1300, 600, 1600, 1000, 400, 1700, 2000,...</td>\n      <td>[0, 1, 0, 0, 0, 0]</td>\n    </tr>\n    <tr>\n      <th>4</th>\n      <td>NSSTAEINETTTSSTDFLAR</td>\n      <td>2</td>\n      <td>12804420.0</td>\n      <td>[1200, 1600, 1600, 1700, 100, 400, 800, 1200, ...</td>\n      <td>[0, 1, 0, 0, 0, 0]</td>\n    </tr>\n  </tbody>\n</table>\n</div>"
     },
     "execution_count": 162,
     "metadata": {},
     "output_type": "execute_result"
    }
   ],
   "source": [
    "batches_parquet[file_list[0]].head()"
   ],
   "metadata": {
    "collapsed": false,
    "ExecuteTime": {
     "end_time": "2023-07-22T13:18:13.785840300Z",
     "start_time": "2023-07-22T13:18:13.773326400Z"
    }
   }
  },
  {
   "cell_type": "code",
   "execution_count": 176,
   "outputs": [
    {
     "data": {
      "text/plain": "2    4410530\n3    1548959\n4     117028\nName: precursor_charge, dtype: int64"
     },
     "execution_count": 176,
     "metadata": {},
     "output_type": "execute_result"
    }
   ],
   "source": [
    "batches_parquet[file_list[0]][\"precursor_charge\"].value_counts()"
   ],
   "metadata": {
    "collapsed": false,
    "ExecuteTime": {
     "end_time": "2023-07-22T13:30:02.979847900Z",
     "start_time": "2023-07-22T13:30:02.892005200Z"
    }
   }
  },
  {
   "cell_type": "markdown",
   "source": [
    "# Multi-label-dictionary"
   ],
   "metadata": {
    "collapsed": false
   }
  },
  {
   "cell_type": "code",
   "execution_count": 172,
   "outputs": [],
   "source": [
    "def multi_label_one_hot_precursor(charge_list, charges_included=[2,3,4]):\n",
    "\n",
    "    one_hot_encoded = [1 if label in charge_list else 0 for label in charges_included]\n",
    "\n",
    "    return one_hot_encoded"
   ],
   "metadata": {
    "collapsed": false,
    "ExecuteTime": {
     "end_time": "2023-07-22T13:29:13.119846300Z",
     "start_time": "2023-07-22T13:29:13.095167800Z"
    }
   }
  },
  {
   "cell_type": "code",
   "execution_count": 196,
   "outputs": [
    {
     "data": {
      "text/plain": "              modified_sequence  \\\n0          AAAASAAEAGIATTGTEGER   \n1         AAAC[UNIMOD:4]FFEQPPR   \n2                    AAADFATHGK   \n3      AAADLMAYC[UNIMOD:4]EAHAK   \n4            AAADSDPNLDPLMNPHIR   \n...                         ...   \n70910           YYVYWYQQLPGTTPK   \n70911            YYYENSDQPIDLTK   \n70912             YYYGHYLDDYHTK   \n70913              YYYSDNFFDGQR   \n70914             YYYVPADFVEYEK   \n\n                                        precursor_charge  \n0      [2, 2, 2, 2, 2, 2, 2, 2, 2, 2, 3, 2, 2, 3, 3, ...  \n1      [2, 2, 2, 2, 2, 2, 2, 2, 2, 2, 2, 2, 2, 2, 2, ...  \n2      [2, 2, 2, 2, 2, 2, 2, 2, 2, 2, 2, 2, 2, 2, 2, ...  \n3       [2, 2, 2, 2, 2, 2, 2, 2, 2, 2, 2, 2, 2, 2, 2, 2]  \n4                                           [3, 3, 3, 3]  \n...                                                  ...  \n70910         [2, 2, 3, 3, 2, 2, 2, 2, 2, 2, 2, 2, 2, 2]  \n70911         [2, 2, 2, 2, 2, 2, 2, 2, 2, 2, 2, 2, 2, 2]  \n70912  [2, 2, 2, 2, 3, 3, 3, 3, 3, 3, 3, 3, 4, 3, 4, ...  \n70913  [2, 2, 2, 2, 2, 2, 2, 2, 2, 2, 2, 2, 2, 2, 2, ...  \n70914  [2, 2, 2, 2, 2, 2, 2, 2, 2, 2, 2, 2, 2, 2, 2, ...  \n\n[70915 rows x 2 columns]",
      "text/html": "<div>\n<style scoped>\n    .dataframe tbody tr th:only-of-type {\n        vertical-align: middle;\n    }\n\n    .dataframe tbody tr th {\n        vertical-align: top;\n    }\n\n    .dataframe thead th {\n        text-align: right;\n    }\n</style>\n<table border=\"1\" class=\"dataframe\">\n  <thead>\n    <tr style=\"text-align: right;\">\n      <th></th>\n      <th>modified_sequence</th>\n      <th>precursor_charge</th>\n    </tr>\n  </thead>\n  <tbody>\n    <tr>\n      <th>0</th>\n      <td>AAAASAAEAGIATTGTEGER</td>\n      <td>[2, 2, 2, 2, 2, 2, 2, 2, 2, 2, 3, 2, 2, 3, 3, ...</td>\n    </tr>\n    <tr>\n      <th>1</th>\n      <td>AAAC[UNIMOD:4]FFEQPPR</td>\n      <td>[2, 2, 2, 2, 2, 2, 2, 2, 2, 2, 2, 2, 2, 2, 2, ...</td>\n    </tr>\n    <tr>\n      <th>2</th>\n      <td>AAADFATHGK</td>\n      <td>[2, 2, 2, 2, 2, 2, 2, 2, 2, 2, 2, 2, 2, 2, 2, ...</td>\n    </tr>\n    <tr>\n      <th>3</th>\n      <td>AAADLMAYC[UNIMOD:4]EAHAK</td>\n      <td>[2, 2, 2, 2, 2, 2, 2, 2, 2, 2, 2, 2, 2, 2, 2, 2]</td>\n    </tr>\n    <tr>\n      <th>4</th>\n      <td>AAADSDPNLDPLMNPHIR</td>\n      <td>[3, 3, 3, 3]</td>\n    </tr>\n    <tr>\n      <th>...</th>\n      <td>...</td>\n      <td>...</td>\n    </tr>\n    <tr>\n      <th>70910</th>\n      <td>YYVYWYQQLPGTTPK</td>\n      <td>[2, 2, 3, 3, 2, 2, 2, 2, 2, 2, 2, 2, 2, 2]</td>\n    </tr>\n    <tr>\n      <th>70911</th>\n      <td>YYYENSDQPIDLTK</td>\n      <td>[2, 2, 2, 2, 2, 2, 2, 2, 2, 2, 2, 2, 2, 2]</td>\n    </tr>\n    <tr>\n      <th>70912</th>\n      <td>YYYGHYLDDYHTK</td>\n      <td>[2, 2, 2, 2, 3, 3, 3, 3, 3, 3, 3, 3, 4, 3, 4, ...</td>\n    </tr>\n    <tr>\n      <th>70913</th>\n      <td>YYYSDNFFDGQR</td>\n      <td>[2, 2, 2, 2, 2, 2, 2, 2, 2, 2, 2, 2, 2, 2, 2, ...</td>\n    </tr>\n    <tr>\n      <th>70914</th>\n      <td>YYYVPADFVEYEK</td>\n      <td>[2, 2, 2, 2, 2, 2, 2, 2, 2, 2, 2, 2, 2, 2, 2, ...</td>\n    </tr>\n  </tbody>\n</table>\n<p>70915 rows × 2 columns</p>\n</div>"
     },
     "execution_count": 196,
     "metadata": {},
     "output_type": "execute_result"
    }
   ],
   "source": [
    "# Grouping by \"modified_sequence\" and aggregating precursor_charge into a list\n",
    "grouped_df = batches_parquet[file_list[0]].groupby(\"modified_sequence\")[\"precursor_charge\"].agg(list).reset_index()\n",
    "grouped_df"
   ],
   "metadata": {
    "collapsed": false,
    "ExecuteTime": {
     "end_time": "2023-07-22T13:34:41.745148Z",
     "start_time": "2023-07-22T13:34:39.469510300Z"
    }
   }
  },
  {
   "cell_type": "code",
   "execution_count": 200,
   "outputs": [],
   "source": [
    "multi_label_df = grouped_df.copy()\n",
    "multi_label_df[\"precursor_charge\"] = grouped_df[\"precursor_charge\"].apply(multi_label_one_hot_precursor)\n",
    "multi_label_df[\"modified_sequence_vector\"] = grouped_df[\"modified_sequence\"].apply(seq_translator)\n"
   ],
   "metadata": {
    "collapsed": false,
    "ExecuteTime": {
     "end_time": "2023-07-22T13:36:44.653804800Z",
     "start_time": "2023-07-22T13:36:44.084513900Z"
    }
   }
  },
  {
   "cell_type": "code",
   "execution_count": 201,
   "outputs": [
    {
     "data": {
      "text/plain": "              modified_sequence precursor_charge  \\\n0          AAAASAAEAGIATTGTEGER        [1, 1, 0]   \n1         AAAC[UNIMOD:4]FFEQPPR        [1, 0, 0]   \n2                    AAADFATHGK        [1, 0, 0]   \n3      AAADLMAYC[UNIMOD:4]EAHAK        [1, 0, 0]   \n4            AAADSDPNLDPLMNPHIR        [0, 1, 0]   \n...                         ...              ...   \n70910           YYVYWYQQLPGTTPK        [1, 1, 0]   \n70911            YYYENSDQPIDLTK        [1, 0, 0]   \n70912             YYYGHYLDDYHTK        [1, 1, 1]   \n70913              YYYSDNFFDGQR        [1, 0, 0]   \n70914             YYYVPADFVEYEK        [1, 0, 0]   \n\n                                modified_sequence_vector  \n0      [100, 100, 100, 100, 1600, 100, 100, 400, 100,...  \n1      [100, 100, 100, 204, 500, 500, 400, 1400, 1300...  \n2      [100, 100, 100, 300, 500, 100, 1700, 700, 600,...  \n3      [100, 100, 100, 300, 1000, 1100, 100, 2000, 20...  \n4      [100, 100, 100, 300, 1600, 300, 1300, 1200, 10...  \n...                                                  ...  \n70910  [2000, 2000, 1800, 2000, 1900, 2000, 1400, 140...  \n70911  [2000, 2000, 2000, 400, 1200, 1600, 300, 1400,...  \n70912  [2000, 2000, 2000, 600, 700, 2000, 1000, 300, ...  \n70913  [2000, 2000, 2000, 1600, 300, 1200, 500, 500, ...  \n70914  [2000, 2000, 2000, 1800, 1300, 100, 300, 500, ...  \n\n[70915 rows x 3 columns]",
      "text/html": "<div>\n<style scoped>\n    .dataframe tbody tr th:only-of-type {\n        vertical-align: middle;\n    }\n\n    .dataframe tbody tr th {\n        vertical-align: top;\n    }\n\n    .dataframe thead th {\n        text-align: right;\n    }\n</style>\n<table border=\"1\" class=\"dataframe\">\n  <thead>\n    <tr style=\"text-align: right;\">\n      <th></th>\n      <th>modified_sequence</th>\n      <th>precursor_charge</th>\n      <th>modified_sequence_vector</th>\n    </tr>\n  </thead>\n  <tbody>\n    <tr>\n      <th>0</th>\n      <td>AAAASAAEAGIATTGTEGER</td>\n      <td>[1, 1, 0]</td>\n      <td>[100, 100, 100, 100, 1600, 100, 100, 400, 100,...</td>\n    </tr>\n    <tr>\n      <th>1</th>\n      <td>AAAC[UNIMOD:4]FFEQPPR</td>\n      <td>[1, 0, 0]</td>\n      <td>[100, 100, 100, 204, 500, 500, 400, 1400, 1300...</td>\n    </tr>\n    <tr>\n      <th>2</th>\n      <td>AAADFATHGK</td>\n      <td>[1, 0, 0]</td>\n      <td>[100, 100, 100, 300, 500, 100, 1700, 700, 600,...</td>\n    </tr>\n    <tr>\n      <th>3</th>\n      <td>AAADLMAYC[UNIMOD:4]EAHAK</td>\n      <td>[1, 0, 0]</td>\n      <td>[100, 100, 100, 300, 1000, 1100, 100, 2000, 20...</td>\n    </tr>\n    <tr>\n      <th>4</th>\n      <td>AAADSDPNLDPLMNPHIR</td>\n      <td>[0, 1, 0]</td>\n      <td>[100, 100, 100, 300, 1600, 300, 1300, 1200, 10...</td>\n    </tr>\n    <tr>\n      <th>...</th>\n      <td>...</td>\n      <td>...</td>\n      <td>...</td>\n    </tr>\n    <tr>\n      <th>70910</th>\n      <td>YYVYWYQQLPGTTPK</td>\n      <td>[1, 1, 0]</td>\n      <td>[2000, 2000, 1800, 2000, 1900, 2000, 1400, 140...</td>\n    </tr>\n    <tr>\n      <th>70911</th>\n      <td>YYYENSDQPIDLTK</td>\n      <td>[1, 0, 0]</td>\n      <td>[2000, 2000, 2000, 400, 1200, 1600, 300, 1400,...</td>\n    </tr>\n    <tr>\n      <th>70912</th>\n      <td>YYYGHYLDDYHTK</td>\n      <td>[1, 1, 1]</td>\n      <td>[2000, 2000, 2000, 600, 700, 2000, 1000, 300, ...</td>\n    </tr>\n    <tr>\n      <th>70913</th>\n      <td>YYYSDNFFDGQR</td>\n      <td>[1, 0, 0]</td>\n      <td>[2000, 2000, 2000, 1600, 300, 1200, 500, 500, ...</td>\n    </tr>\n    <tr>\n      <th>70914</th>\n      <td>YYYVPADFVEYEK</td>\n      <td>[1, 0, 0]</td>\n      <td>[2000, 2000, 2000, 1800, 1300, 100, 300, 500, ...</td>\n    </tr>\n  </tbody>\n</table>\n<p>70915 rows × 3 columns</p>\n</div>"
     },
     "execution_count": 201,
     "metadata": {},
     "output_type": "execute_result"
    }
   ],
   "source": [
    "multi_label_df"
   ],
   "metadata": {
    "collapsed": false,
    "ExecuteTime": {
     "end_time": "2023-07-22T13:36:46.171750600Z",
     "start_time": "2023-07-22T13:36:46.147015300Z"
    }
   }
  },
  {
   "cell_type": "markdown",
   "source": [
    "### import preprocessed df's"
   ],
   "metadata": {
    "collapsed": false
   }
  },
  {
   "cell_type": "code",
   "execution_count": 144,
   "outputs": [],
   "source": [
    "# Make validation data\n",
    "sample_df = batches_parquet[file_list[0]][[\"precursor_charge\", \"modified_sequence_vector\", \"precursor_intensity\"]].copy()"
   ],
   "metadata": {
    "collapsed": false,
    "ExecuteTime": {
     "end_time": "2023-07-22T12:53:59.401624700Z",
     "start_time": "2023-07-22T12:53:59.190017Z"
    }
   }
  },
  {
   "cell_type": "code",
   "execution_count": 145,
   "outputs": [
    {
     "data": {
      "text/plain": "         precursor_charge                           modified_sequence_vector  \\\n0                       2  [1000, 1300, 600, 1600, 1000, 400, 1700, 2000,...   \n1                       2  [700, 600, 1600, 1000, 1400, 400, 2000, 1000, ...   \n2                       2  [1800, 400, 400, 400, 400, 400, 800, 1200, 160...   \n3                       2  [1000, 1300, 600, 1600, 1000, 400, 1700, 2000,...   \n4                       2  [1200, 1600, 1600, 1700, 100, 400, 800, 1200, ...   \n...                   ...                                                ...   \n6080601                 3  [2000, 1600, 1400, 1000, 500, 204, 600, 1000, ...   \n6080602                 3  [2000, 1600, 1400, 1000, 500, 204, 600, 1000, ...   \n6080603                 3  [400, 1100, 400, 1200, 500, 1800, 1400, 1600, ...   \n6080604                 3  [400, 1100, 400, 1200, 500, 1800, 1400, 1600, ...   \n6080605                 3  [2000, 1600, 1400, 1000, 500, 204, 600, 1000, ...   \n\n         precursor_intensity  \n0                 29525630.0  \n1                 13188580.0  \n2                 20663460.0  \n3                 19884630.0  \n4                 12804420.0  \n...                      ...  \n6080601             573697.7  \n6080602             573697.7  \n6080603             114742.8  \n6080604             114742.8  \n6080605             202114.2  \n\n[6080604 rows x 3 columns]",
      "text/html": "<div>\n<style scoped>\n    .dataframe tbody tr th:only-of-type {\n        vertical-align: middle;\n    }\n\n    .dataframe tbody tr th {\n        vertical-align: top;\n    }\n\n    .dataframe thead th {\n        text-align: right;\n    }\n</style>\n<table border=\"1\" class=\"dataframe\">\n  <thead>\n    <tr style=\"text-align: right;\">\n      <th></th>\n      <th>precursor_charge</th>\n      <th>modified_sequence_vector</th>\n      <th>precursor_intensity</th>\n    </tr>\n  </thead>\n  <tbody>\n    <tr>\n      <th>0</th>\n      <td>2</td>\n      <td>[1000, 1300, 600, 1600, 1000, 400, 1700, 2000,...</td>\n      <td>29525630.0</td>\n    </tr>\n    <tr>\n      <th>1</th>\n      <td>2</td>\n      <td>[700, 600, 1600, 1000, 1400, 400, 2000, 1000, ...</td>\n      <td>13188580.0</td>\n    </tr>\n    <tr>\n      <th>2</th>\n      <td>2</td>\n      <td>[1800, 400, 400, 400, 400, 400, 800, 1200, 160...</td>\n      <td>20663460.0</td>\n    </tr>\n    <tr>\n      <th>3</th>\n      <td>2</td>\n      <td>[1000, 1300, 600, 1600, 1000, 400, 1700, 2000,...</td>\n      <td>19884630.0</td>\n    </tr>\n    <tr>\n      <th>4</th>\n      <td>2</td>\n      <td>[1200, 1600, 1600, 1700, 100, 400, 800, 1200, ...</td>\n      <td>12804420.0</td>\n    </tr>\n    <tr>\n      <th>...</th>\n      <td>...</td>\n      <td>...</td>\n      <td>...</td>\n    </tr>\n    <tr>\n      <th>6080601</th>\n      <td>3</td>\n      <td>[2000, 1600, 1400, 1000, 500, 204, 600, 1000, ...</td>\n      <td>573697.7</td>\n    </tr>\n    <tr>\n      <th>6080602</th>\n      <td>3</td>\n      <td>[2000, 1600, 1400, 1000, 500, 204, 600, 1000, ...</td>\n      <td>573697.7</td>\n    </tr>\n    <tr>\n      <th>6080603</th>\n      <td>3</td>\n      <td>[400, 1100, 400, 1200, 500, 1800, 1400, 1600, ...</td>\n      <td>114742.8</td>\n    </tr>\n    <tr>\n      <th>6080604</th>\n      <td>3</td>\n      <td>[400, 1100, 400, 1200, 500, 1800, 1400, 1600, ...</td>\n      <td>114742.8</td>\n    </tr>\n    <tr>\n      <th>6080605</th>\n      <td>3</td>\n      <td>[2000, 1600, 1400, 1000, 500, 204, 600, 1000, ...</td>\n      <td>202114.2</td>\n    </tr>\n  </tbody>\n</table>\n<p>6080604 rows × 3 columns</p>\n</div>"
     },
     "execution_count": 145,
     "metadata": {},
     "output_type": "execute_result"
    }
   ],
   "source": [
    "sample_df"
   ],
   "metadata": {
    "collapsed": false,
    "ExecuteTime": {
     "end_time": "2023-07-22T12:54:01.208718500Z",
     "start_time": "2023-07-22T12:54:01.143657800Z"
    }
   }
  },
  {
   "cell_type": "code",
   "execution_count": 146,
   "outputs": [
    {
     "name": "stderr",
     "output_type": "stream",
     "text": [
      "C:\\Users\\micro\\AppData\\Local\\Temp\\ipykernel_22664\\636877103.py:2: VisibleDeprecationWarning: Creating an ndarray from ragged nested sequences (which is a list-or-tuple of lists-or-tuples-or ndarrays with different lengths or shapes) is deprecated. If you meant to do this, you must specify 'dtype=object' when creating the ndarray.\n",
      "  X_2 = np.array(sample_df['modified_sequence_vector'].tolist())\n"
     ]
    }
   ],
   "source": [
    "# Split the data into train, validation, and test sets\n",
    "X_2 = np.array(sample_df['modified_sequence_vector'].tolist())\n",
    "y_2 = np.array(sample_df['precursor_charge'])\n",
    "max_len = max(sample_df.loc[:, 'modified_sequence_vector'].apply(len))  # Find the maximum length\n",
    "\n",
    "\n",
    "# Create an instance of StratifiedShuffleSplit\n",
    "sss = StratifiedShuffleSplit(n_splits=1, test_size=0.2, random_state=42)\n",
    "\n",
    "# Perform the split\n",
    "train_val_indices, test_indices = next(sss.split(X_2, y_2))\n",
    "X_2_train_val, X_2_test = X_2[train_val_indices], X_2[test_indices]\n",
    "y_2_train_val, y_2_test = y_2[train_val_indices], y_2[test_indices]\n",
    "\n",
    "# Create another instance of StratifiedShuffleSplit for train-validation split\n",
    "sss_train_val = StratifiedShuffleSplit(n_splits=1, test_size=0.2, random_state=42)\n",
    "\n",
    "# Perform the train-validation split\n",
    "train_indices, val_indices = next(sss_train_val.split(X_2_train_val, y_2_train_val))\n",
    "X_2_train, X_2_val = X_2_train_val[train_indices], X_2_train_val[val_indices]\n",
    "y_2_train, y_2_val = y_2_train_val[train_indices], y_2_train_val[val_indices]\n",
    "\n",
    "num_classes = 8  # Number of precursor charge classes (1 to 7, plus an extra class for 'None' charge)\n",
    "y_2_train_encoded = tf.keras.utils.to_categorical(y_2_train, num_classes)\n",
    "y_2_val_encoded = tf.keras.utils.to_categorical(y_2_val, num_classes)\n",
    "y_2_test_encoded = tf.keras.utils.to_categorical(y_2_train, num_classes)"
   ],
   "metadata": {
    "collapsed": false,
    "ExecuteTime": {
     "end_time": "2023-07-22T12:54:10.988837100Z",
     "start_time": "2023-07-22T12:54:04.807554900Z"
    }
   }
  },
  {
   "cell_type": "code",
   "execution_count": 151,
   "outputs": [
    {
     "data": {
      "text/plain": "(6080604,)"
     },
     "execution_count": 151,
     "metadata": {},
     "output_type": "execute_result"
    }
   ],
   "source": [
    "X_2.shape"
   ],
   "metadata": {
    "collapsed": false,
    "ExecuteTime": {
     "end_time": "2023-07-22T12:58:03.023265Z",
     "start_time": "2023-07-22T12:58:03.003538800Z"
    }
   }
  },
  {
   "cell_type": "markdown",
   "source": [
    "### KerasTuner"
   ],
   "metadata": {
    "collapsed": false
   }
  },
  {
   "cell_type": "code",
   "execution_count": 148,
   "outputs": [],
   "source": [
    "import datetime\n",
    "logdir = os.path.join(\"logs_kerastuner\", datetime.datetime.now().strftime(\"%Y%m%d-%H%M%S\"))\n",
    "tensorboard_callback_kerastuner = tf.keras.callbacks.TensorBoard(logdir, histogram_freq=1)"
   ],
   "metadata": {
    "collapsed": false,
    "ExecuteTime": {
     "end_time": "2023-07-22T12:54:50.734129900Z",
     "start_time": "2023-07-22T12:54:50.715859Z"
    }
   }
  },
  {
   "cell_type": "code",
   "execution_count": 150,
   "outputs": [
    {
     "ename": "IndexError",
     "evalue": "tuple index out of range",
     "output_type": "error",
     "traceback": [
      "\u001B[1;31m---------------------------------------------------------------------------\u001B[0m",
      "\u001B[1;31mIndexError\u001B[0m                                Traceback (most recent call last)",
      "Cell \u001B[1;32mIn[150], line 19\u001B[0m\n\u001B[0;32m     16\u001B[0m     model\u001B[38;5;241m.\u001B[39mcompile(loss\u001B[38;5;241m=\u001B[39m\u001B[38;5;124m'\u001B[39m\u001B[38;5;124mcategorical_crossentropy\u001B[39m\u001B[38;5;124m'\u001B[39m, optimizer\u001B[38;5;241m=\u001B[39mkeras\u001B[38;5;241m.\u001B[39moptimizers\u001B[38;5;241m.\u001B[39mAdam(learning_rate\u001B[38;5;241m=\u001B[39mlearning_rate), metrics\u001B[38;5;241m=\u001B[39m[\u001B[38;5;124m'\u001B[39m\u001B[38;5;124maccuracy\u001B[39m\u001B[38;5;124m'\u001B[39m])\n\u001B[0;32m     17\u001B[0m     \u001B[38;5;28;01mreturn\u001B[39;00m model\n\u001B[1;32m---> 19\u001B[0m tuner \u001B[38;5;241m=\u001B[39m \u001B[43mkeras_tuner\u001B[49m\u001B[38;5;241;43m.\u001B[39;49m\u001B[43mRandomSearch\u001B[49m\u001B[43m(\u001B[49m\n\u001B[0;32m     20\u001B[0m \u001B[43m    \u001B[49m\u001B[43mbuild_model\u001B[49m\u001B[43m,\u001B[49m\n\u001B[0;32m     21\u001B[0m \u001B[43m    \u001B[49m\u001B[43mobjective\u001B[49m\u001B[38;5;241;43m=\u001B[39;49m\u001B[38;5;124;43m'\u001B[39;49m\u001B[38;5;124;43mval_loss\u001B[39;49m\u001B[38;5;124;43m'\u001B[39;49m\u001B[43m,\u001B[49m\n\u001B[0;32m     22\u001B[0m \u001B[43m    \u001B[49m\u001B[43mmax_trials\u001B[49m\u001B[38;5;241;43m=\u001B[39;49m\u001B[38;5;241;43m10\u001B[39;49m\u001B[43m,\u001B[49m\n\u001B[0;32m     23\u001B[0m \u001B[43m    \u001B[49m\u001B[43moverwrite\u001B[49m\u001B[38;5;241;43m=\u001B[39;49m\u001B[38;5;28;43;01mTrue\u001B[39;49;00m\u001B[43m,\u001B[49m\n\u001B[0;32m     24\u001B[0m \u001B[43m    \u001B[49m\u001B[43mexecutions_per_trial\u001B[49m\u001B[38;5;241;43m=\u001B[39;49m\u001B[38;5;241;43m3\u001B[39;49m\u001B[43m,\u001B[49m\n\u001B[0;32m     25\u001B[0m \u001B[43m    \u001B[49m\u001B[43mdirectory\u001B[49m\u001B[38;5;241;43m=\u001B[39;49m\u001B[38;5;124;43m'\u001B[39;49m\u001B[38;5;124;43moutput_tuner\u001B[39;49m\u001B[38;5;124;43m'\u001B[39;49m\u001B[43m,\u001B[49m\u001B[43m)\u001B[49m\n\u001B[0;32m     27\u001B[0m tuner\u001B[38;5;241m.\u001B[39msearch(train_ds, epochs\u001B[38;5;241m=\u001B[39m\u001B[38;5;241m30\u001B[39m, validation_data\u001B[38;5;241m=\u001B[39mval_ds, callbacks\u001B[38;5;241m=\u001B[39m[tensorboard_callback_kerastuner, wandb_callback])\n\u001B[0;32m     29\u001B[0m best_model \u001B[38;5;241m=\u001B[39m tuner\u001B[38;5;241m.\u001B[39mget_best_models()[\u001B[38;5;241m0\u001B[39m]\n",
      "File \u001B[1;32m~\\OneDrive\\Dokumente\\GitHub\\BachelorThesis\\venv\\Lib\\site-packages\\keras_tuner\\tuners\\randomsearch.py:174\u001B[0m, in \u001B[0;36mRandomSearch.__init__\u001B[1;34m(self, hypermodel, objective, max_trials, seed, hyperparameters, tune_new_entries, allow_new_entries, max_retries_per_trial, max_consecutive_failed_trials, **kwargs)\u001B[0m\n\u001B[0;32m    163\u001B[0m \u001B[38;5;28mself\u001B[39m\u001B[38;5;241m.\u001B[39mseed \u001B[38;5;241m=\u001B[39m seed\n\u001B[0;32m    164\u001B[0m oracle \u001B[38;5;241m=\u001B[39m RandomSearchOracle(\n\u001B[0;32m    165\u001B[0m     objective\u001B[38;5;241m=\u001B[39mobjective,\n\u001B[0;32m    166\u001B[0m     max_trials\u001B[38;5;241m=\u001B[39mmax_trials,\n\u001B[1;32m   (...)\u001B[0m\n\u001B[0;32m    172\u001B[0m     max_consecutive_failed_trials\u001B[38;5;241m=\u001B[39mmax_consecutive_failed_trials,\n\u001B[0;32m    173\u001B[0m )\n\u001B[1;32m--> 174\u001B[0m \u001B[38;5;28;43msuper\u001B[39;49m\u001B[43m(\u001B[49m\u001B[43m)\u001B[49m\u001B[38;5;241;43m.\u001B[39;49m\u001B[38;5;21;43m__init__\u001B[39;49m\u001B[43m(\u001B[49m\u001B[43moracle\u001B[49m\u001B[43m,\u001B[49m\u001B[43m \u001B[49m\u001B[43mhypermodel\u001B[49m\u001B[43m,\u001B[49m\u001B[43m \u001B[49m\u001B[38;5;241;43m*\u001B[39;49m\u001B[38;5;241;43m*\u001B[39;49m\u001B[43mkwargs\u001B[49m\u001B[43m)\u001B[49m\n",
      "File \u001B[1;32m~\\OneDrive\\Dokumente\\GitHub\\BachelorThesis\\venv\\Lib\\site-packages\\keras_tuner\\engine\\tuner.py:113\u001B[0m, in \u001B[0;36mTuner.__init__\u001B[1;34m(self, oracle, hypermodel, max_model_size, optimizer, loss, metrics, distribution_strategy, directory, project_name, logger, tuner_id, overwrite, executions_per_trial, **kwargs)\u001B[0m\n\u001B[0;32m    105\u001B[0m \u001B[38;5;28;01mif\u001B[39;00m hypermodel \u001B[38;5;129;01mis\u001B[39;00m \u001B[38;5;28;01mNone\u001B[39;00m \u001B[38;5;129;01mand\u001B[39;00m \u001B[38;5;28mself\u001B[39m\u001B[38;5;241m.\u001B[39m\u001B[38;5;18m__class__\u001B[39m\u001B[38;5;241m.\u001B[39mrun_trial \u001B[38;5;129;01mis\u001B[39;00m Tuner\u001B[38;5;241m.\u001B[39mrun_trial:\n\u001B[0;32m    106\u001B[0m     \u001B[38;5;28;01mraise\u001B[39;00m \u001B[38;5;167;01mValueError\u001B[39;00m(\n\u001B[0;32m    107\u001B[0m         \u001B[38;5;124m\"\u001B[39m\u001B[38;5;124mReceived `hypermodel=None`. We only allow not specifying \u001B[39m\u001B[38;5;124m\"\u001B[39m\n\u001B[0;32m    108\u001B[0m         \u001B[38;5;124m\"\u001B[39m\u001B[38;5;124m`hypermodel` if the user defines the search space in \u001B[39m\u001B[38;5;124m\"\u001B[39m\n\u001B[0;32m    109\u001B[0m         \u001B[38;5;124m\"\u001B[39m\u001B[38;5;124m`Tuner.run_trial()` by subclassing a `Tuner` class without \u001B[39m\u001B[38;5;124m\"\u001B[39m\n\u001B[0;32m    110\u001B[0m         \u001B[38;5;124m\"\u001B[39m\u001B[38;5;124musing a `HyperModel` instance.\u001B[39m\u001B[38;5;124m\"\u001B[39m\n\u001B[0;32m    111\u001B[0m     )\n\u001B[1;32m--> 113\u001B[0m \u001B[38;5;28;43msuper\u001B[39;49m\u001B[43m(\u001B[49m\u001B[43m)\u001B[49m\u001B[38;5;241;43m.\u001B[39;49m\u001B[38;5;21;43m__init__\u001B[39;49m\u001B[43m(\u001B[49m\n\u001B[0;32m    114\u001B[0m \u001B[43m    \u001B[49m\u001B[43moracle\u001B[49m\u001B[38;5;241;43m=\u001B[39;49m\u001B[43moracle\u001B[49m\u001B[43m,\u001B[49m\n\u001B[0;32m    115\u001B[0m \u001B[43m    \u001B[49m\u001B[43mhypermodel\u001B[49m\u001B[38;5;241;43m=\u001B[39;49m\u001B[43mhypermodel\u001B[49m\u001B[43m,\u001B[49m\n\u001B[0;32m    116\u001B[0m \u001B[43m    \u001B[49m\u001B[43mdirectory\u001B[49m\u001B[38;5;241;43m=\u001B[39;49m\u001B[43mdirectory\u001B[49m\u001B[43m,\u001B[49m\n\u001B[0;32m    117\u001B[0m \u001B[43m    \u001B[49m\u001B[43mproject_name\u001B[49m\u001B[38;5;241;43m=\u001B[39;49m\u001B[43mproject_name\u001B[49m\u001B[43m,\u001B[49m\n\u001B[0;32m    118\u001B[0m \u001B[43m    \u001B[49m\u001B[43mlogger\u001B[49m\u001B[38;5;241;43m=\u001B[39;49m\u001B[43mlogger\u001B[49m\u001B[43m,\u001B[49m\n\u001B[0;32m    119\u001B[0m \u001B[43m    \u001B[49m\u001B[43moverwrite\u001B[49m\u001B[38;5;241;43m=\u001B[39;49m\u001B[43moverwrite\u001B[49m\u001B[43m,\u001B[49m\n\u001B[0;32m    120\u001B[0m \u001B[43m    \u001B[49m\u001B[38;5;241;43m*\u001B[39;49m\u001B[38;5;241;43m*\u001B[39;49m\u001B[43mkwargs\u001B[49m\u001B[43m,\u001B[49m\n\u001B[0;32m    121\u001B[0m \u001B[43m\u001B[49m\u001B[43m)\u001B[49m\n\u001B[0;32m    123\u001B[0m \u001B[38;5;28mself\u001B[39m\u001B[38;5;241m.\u001B[39mmax_model_size \u001B[38;5;241m=\u001B[39m max_model_size\n\u001B[0;32m    124\u001B[0m \u001B[38;5;28mself\u001B[39m\u001B[38;5;241m.\u001B[39moptimizer \u001B[38;5;241m=\u001B[39m optimizer\n",
      "File \u001B[1;32m~\\OneDrive\\Dokumente\\GitHub\\BachelorThesis\\venv\\Lib\\site-packages\\keras_tuner\\engine\\base_tuner.py:133\u001B[0m, in \u001B[0;36mBaseTuner.__init__\u001B[1;34m(self, oracle, hypermodel, directory, project_name, overwrite, **kwargs)\u001B[0m\n\u001B[0;32m    130\u001B[0m     \u001B[38;5;28mself\u001B[39m\u001B[38;5;241m.\u001B[39mreload()\n\u001B[0;32m    131\u001B[0m \u001B[38;5;28;01melse\u001B[39;00m:\n\u001B[0;32m    132\u001B[0m     \u001B[38;5;66;03m# Only populate initial space if not reloading.\u001B[39;00m\n\u001B[1;32m--> 133\u001B[0m     \u001B[38;5;28;43mself\u001B[39;49m\u001B[38;5;241;43m.\u001B[39;49m\u001B[43m_populate_initial_space\u001B[49m\u001B[43m(\u001B[49m\u001B[43m)\u001B[49m\n\u001B[0;32m    135\u001B[0m \u001B[38;5;66;03m# Run in distributed mode.\u001B[39;00m\n\u001B[0;32m    136\u001B[0m \u001B[38;5;28;01mif\u001B[39;00m dist_utils\u001B[38;5;241m.\u001B[39mis_chief_oracle():\n\u001B[0;32m    137\u001B[0m     \u001B[38;5;66;03m# Blocks forever.\u001B[39;00m\n\u001B[0;32m    138\u001B[0m     \u001B[38;5;66;03m# Avoid import at the top, to avoid inconsistent protobuf versions.\u001B[39;00m\n",
      "File \u001B[1;32m~\\OneDrive\\Dokumente\\GitHub\\BachelorThesis\\venv\\Lib\\site-packages\\keras_tuner\\engine\\base_tuner.py:204\u001B[0m, in \u001B[0;36mBaseTuner._populate_initial_space\u001B[1;34m(self)\u001B[0m\n\u001B[0;32m    202\u001B[0m \u001B[38;5;28mself\u001B[39m\u001B[38;5;241m.\u001B[39mhypermodel\u001B[38;5;241m.\u001B[39mdeclare_hyperparameters(hp)\n\u001B[0;32m    203\u001B[0m \u001B[38;5;28mself\u001B[39m\u001B[38;5;241m.\u001B[39moracle\u001B[38;5;241m.\u001B[39mupdate_space(hp)\n\u001B[1;32m--> 204\u001B[0m \u001B[38;5;28;43mself\u001B[39;49m\u001B[38;5;241;43m.\u001B[39;49m\u001B[43m_activate_all_conditions\u001B[49m\u001B[43m(\u001B[49m\u001B[43m)\u001B[49m\n",
      "File \u001B[1;32m~\\OneDrive\\Dokumente\\GitHub\\BachelorThesis\\venv\\Lib\\site-packages\\keras_tuner\\engine\\base_tuner.py:161\u001B[0m, in \u001B[0;36mBaseTuner._activate_all_conditions\u001B[1;34m(self)\u001B[0m\n\u001B[0;32m    159\u001B[0m hp \u001B[38;5;241m=\u001B[39m \u001B[38;5;28mself\u001B[39m\u001B[38;5;241m.\u001B[39moracle\u001B[38;5;241m.\u001B[39mget_space()\n\u001B[0;32m    160\u001B[0m \u001B[38;5;28;01mwhile\u001B[39;00m \u001B[38;5;28;01mTrue\u001B[39;00m:\n\u001B[1;32m--> 161\u001B[0m     \u001B[38;5;28;43mself\u001B[39;49m\u001B[38;5;241;43m.\u001B[39;49m\u001B[43mhypermodel\u001B[49m\u001B[38;5;241;43m.\u001B[39;49m\u001B[43mbuild\u001B[49m\u001B[43m(\u001B[49m\u001B[43mhp\u001B[49m\u001B[43m)\u001B[49m\n\u001B[0;32m    162\u001B[0m     \u001B[38;5;28mself\u001B[39m\u001B[38;5;241m.\u001B[39moracle\u001B[38;5;241m.\u001B[39mupdate_space(hp)\n\u001B[0;32m    164\u001B[0m     \u001B[38;5;66;03m# Update the recorded scopes.\u001B[39;00m\n",
      "Cell \u001B[1;32mIn[150], line 7\u001B[0m, in \u001B[0;36mbuild_model\u001B[1;34m(hp)\u001B[0m\n\u001B[0;32m      5\u001B[0m \u001B[38;5;28;01mdef\u001B[39;00m \u001B[38;5;21mbuild_model\u001B[39m(hp):\n\u001B[0;32m      6\u001B[0m     model \u001B[38;5;241m=\u001B[39m tf\u001B[38;5;241m.\u001B[39mkeras\u001B[38;5;241m.\u001B[39mmodels\u001B[38;5;241m.\u001B[39mSequential([\n\u001B[1;32m----> 7\u001B[0m     tf\u001B[38;5;241m.\u001B[39mkeras\u001B[38;5;241m.\u001B[39mlayers\u001B[38;5;241m.\u001B[39mEmbedding(input_dim\u001B[38;5;241m=\u001B[39mmax_len, output_dim\u001B[38;5;241m=\u001B[39m\u001B[38;5;241m20\u001B[39m, input_length\u001B[38;5;241m=\u001B[39m\u001B[43mX_2\u001B[49m\u001B[38;5;241;43m.\u001B[39;49m\u001B[43mshape\u001B[49m\u001B[43m[\u001B[49m\u001B[38;5;241;43m1\u001B[39;49m\u001B[43m]\u001B[49m),\n\u001B[0;32m      8\u001B[0m     tf\u001B[38;5;241m.\u001B[39mkeras\u001B[38;5;241m.\u001B[39mlayers\u001B[38;5;241m.\u001B[39mFlatten(),\n\u001B[0;32m      9\u001B[0m     tf\u001B[38;5;241m.\u001B[39mkeras\u001B[38;5;241m.\u001B[39mlayers\u001B[38;5;241m.\u001B[39mDense(units\u001B[38;5;241m=\u001B[39mhp\u001B[38;5;241m.\u001B[39mInt(\u001B[38;5;124m'\u001B[39m\u001B[38;5;124mdense_1_units\u001B[39m\u001B[38;5;124m'\u001B[39m, min_value\u001B[38;5;241m=\u001B[39m\u001B[38;5;241m16\u001B[39m, max_value\u001B[38;5;241m=\u001B[39m\u001B[38;5;241m256\u001B[39m, step\u001B[38;5;241m=\u001B[39m\u001B[38;5;241m8\u001B[39m),\n\u001B[0;32m     10\u001B[0m                           activation\u001B[38;5;241m=\u001B[39m\u001B[38;5;124m'\u001B[39m\u001B[38;5;124mrelu\u001B[39m\u001B[38;5;124m'\u001B[39m),\n\u001B[0;32m     11\u001B[0m     tf\u001B[38;5;241m.\u001B[39mkeras\u001B[38;5;241m.\u001B[39mlayers\u001B[38;5;241m.\u001B[39mDense(num_classes, activation\u001B[38;5;241m=\u001B[39m\u001B[38;5;124m'\u001B[39m\u001B[38;5;124msoftmax\u001B[39m\u001B[38;5;124m'\u001B[39m)\n\u001B[0;32m     12\u001B[0m     \u001B[38;5;66;03m#hp.Choice('unknown', values=[1, 10])\u001B[39;00m\n\u001B[0;32m     13\u001B[0m     ])\n\u001B[0;32m     14\u001B[0m     \u001B[38;5;66;03m# Compile the model\u001B[39;00m\n\u001B[0;32m     15\u001B[0m     learning_rate \u001B[38;5;241m=\u001B[39m hp\u001B[38;5;241m.\u001B[39mFloat(\u001B[38;5;124m\"\u001B[39m\u001B[38;5;124mlr\u001B[39m\u001B[38;5;124m\"\u001B[39m, min_value\u001B[38;5;241m=\u001B[39m\u001B[38;5;241m0.00001\u001B[39m, max_value\u001B[38;5;241m=\u001B[39m\u001B[38;5;241m0.001\u001B[39m, sampling\u001B[38;5;241m=\u001B[39m\u001B[38;5;124m\"\u001B[39m\u001B[38;5;124mlog\u001B[39m\u001B[38;5;124m\"\u001B[39m),\n",
      "\u001B[1;31mIndexError\u001B[0m: tuple index out of range"
     ]
    }
   ],
   "source": [
    "#%pip install keras-tuner\n",
    "import keras_tuner\n",
    "from tensorflow import keras\n",
    "\n",
    "def build_model(hp):\n",
    "    model = tf.keras.models.Sequential([\n",
    "    tf.keras.layers.Embedding(input_dim=max_len, output_dim=20, input_length=X_2.shape[1]),\n",
    "    tf.keras.layers.Flatten(),\n",
    "    tf.keras.layers.Dense(units=hp.Int('dense_1_units', min_value=16, max_value=256, step=8),\n",
    "                          activation='relu'),\n",
    "    tf.keras.layers.Dense(num_classes, activation='softmax')\n",
    "    #hp.Choice('unknown', values=[1, 10])\n",
    "    ])\n",
    "    # Compile the model\n",
    "    learning_rate = hp.Float(\"lr\", min_value=0.00001, max_value=0.001, sampling=\"log\"),\n",
    "    model.compile(loss='categorical_crossentropy', optimizer=keras.optimizers.Adam(learning_rate=learning_rate), metrics=['accuracy'])\n",
    "    return model\n",
    "\n",
    "tuner = keras_tuner.RandomSearch(\n",
    "    build_model,\n",
    "    objective='val_loss',\n",
    "    max_trials=10,\n",
    "    overwrite=True,\n",
    "    executions_per_trial=3,\n",
    "    directory='output_tuner',)\n",
    "\n",
    "tuner.search(train_ds, epochs=30, validation_data=val_ds, callbacks=[tensorboard_callback_kerastuner, wandb_callback])\n",
    "\n",
    "best_model = tuner.get_best_models()[0]"
   ],
   "metadata": {
    "collapsed": false,
    "ExecuteTime": {
     "end_time": "2023-07-22T12:55:11.562294Z",
     "start_time": "2023-07-22T12:55:11.480540900Z"
    }
   }
  },
  {
   "cell_type": "code",
   "execution_count": null,
   "outputs": [],
   "source": [
    "from tensorboard import program\n",
    "\n",
    "tracking_address = \"logs_kerastuner\" # the path of your log file.\n",
    "\n",
    "if __name__ == \"__main__\":\n",
    "    tb = program.TensorBoard()\n",
    "    tb.configure(argv=[None, '--logdir', tracking_address])\n",
    "    url = tb.launch()\n",
    "    print(f\"Tensorflow listening on {url}\")"
   ],
   "metadata": {
    "collapsed": false
   }
  },
  {
   "cell_type": "markdown",
   "source": [
    "### Model"
   ],
   "metadata": {
    "collapsed": false
   }
  },
  {
   "cell_type": "code",
   "execution_count": null,
   "outputs": [],
   "source": [],
   "metadata": {
    "collapsed": false
   }
  },
  {
   "cell_type": "code",
   "execution_count": 15,
   "outputs": [
    {
     "ename": "IndexError",
     "evalue": "tuple index out of range",
     "output_type": "error",
     "traceback": [
      "\u001B[1;31m---------------------------------------------------------------------------\u001B[0m",
      "\u001B[1;31mIndexError\u001B[0m                                Traceback (most recent call last)",
      "Cell \u001B[1;32mIn[15], line 30\u001B[0m\n\u001B[0;32m     26\u001B[0m y_2_test_encoded \u001B[38;5;241m=\u001B[39m tf\u001B[38;5;241m.\u001B[39mkeras\u001B[38;5;241m.\u001B[39mutils\u001B[38;5;241m.\u001B[39mto_categorical(y_2_train, num_classes)\n\u001B[0;32m     28\u001B[0m \u001B[38;5;66;03m# Define model\u001B[39;00m\n\u001B[0;32m     29\u001B[0m model_cce \u001B[38;5;241m=\u001B[39m tf\u001B[38;5;241m.\u001B[39mkeras\u001B[38;5;241m.\u001B[39mmodels\u001B[38;5;241m.\u001B[39mSequential([\n\u001B[1;32m---> 30\u001B[0m     tf\u001B[38;5;241m.\u001B[39mkeras\u001B[38;5;241m.\u001B[39mlayers\u001B[38;5;241m.\u001B[39mEmbedding(input_dim\u001B[38;5;241m=\u001B[39mmax_len, output_dim\u001B[38;5;241m=\u001B[39m\u001B[38;5;241m20\u001B[39m, input_length\u001B[38;5;241m=\u001B[39m\u001B[43mX_2\u001B[49m\u001B[38;5;241;43m.\u001B[39;49m\u001B[43mshape\u001B[49m\u001B[43m[\u001B[49m\u001B[38;5;241;43m1\u001B[39;49m\u001B[43m]\u001B[49m),\n\u001B[0;32m     31\u001B[0m     tf\u001B[38;5;241m.\u001B[39mkeras\u001B[38;5;241m.\u001B[39mlayers\u001B[38;5;241m.\u001B[39mFlatten(),\n\u001B[0;32m     32\u001B[0m     tf\u001B[38;5;241m.\u001B[39mkeras\u001B[38;5;241m.\u001B[39mlayers\u001B[38;5;241m.\u001B[39mDense(\u001B[38;5;241m64\u001B[39m, activation\u001B[38;5;241m=\u001B[39m\u001B[38;5;124m'\u001B[39m\u001B[38;5;124mrelu\u001B[39m\u001B[38;5;124m'\u001B[39m),\n\u001B[0;32m     33\u001B[0m     tf\u001B[38;5;241m.\u001B[39mkeras\u001B[38;5;241m.\u001B[39mlayers\u001B[38;5;241m.\u001B[39mDense(num_classes, activation\u001B[38;5;241m=\u001B[39m\u001B[38;5;124m'\u001B[39m\u001B[38;5;124msoftmax\u001B[39m\u001B[38;5;124m'\u001B[39m)\n\u001B[0;32m     34\u001B[0m ])\n\u001B[0;32m     36\u001B[0m \u001B[38;5;66;03m# Compile the model\u001B[39;00m\n\u001B[0;32m     37\u001B[0m model_cce\u001B[38;5;241m.\u001B[39mcompile(loss\u001B[38;5;241m=\u001B[39m\u001B[38;5;124m'\u001B[39m\u001B[38;5;124mcategorical_crossentropy\u001B[39m\u001B[38;5;124m'\u001B[39m, optimizer\u001B[38;5;241m=\u001B[39m\u001B[38;5;124m'\u001B[39m\u001B[38;5;124madam\u001B[39m\u001B[38;5;124m'\u001B[39m, metrics\u001B[38;5;241m=\u001B[39m[\u001B[38;5;124m'\u001B[39m\u001B[38;5;124maccuracy\u001B[39m\u001B[38;5;124m'\u001B[39m])\n",
      "\u001B[1;31mIndexError\u001B[0m: tuple index out of range"
     ]
    }
   ],
   "source": [
    "# Define model\n",
    "model_cce = tf.keras.models.Sequential([\n",
    "    tf.keras.layers.Embedding(input_dim=max_len, output_dim=20, input_length=X_2.shape[1]),\n",
    "    tf.keras.layers.Flatten(),\n",
    "    tf.keras.layers.Dense(64, activation='relu'),\n",
    "    tf.keras.layers.Dense(num_classes, activation='softmax')\n",
    "])\n",
    "\n",
    "# Compile the model\n",
    "model_cce.compile(loss='categorical_crossentropy', optimizer='adam', metrics=['accuracy'])\n",
    "\n",
    "checkpoint_callback = ModelCheckpoint('precursor_charge_prediction_model_v1/cce_wo7_allSequences.h5', monitor='val_accuracy', save_best_only=True, mode='max')\n",
    "\n",
    "# Define early stopping\n",
    "early_stopping = tf.keras.callbacks.EarlyStopping(monitor='val_loss', patience=3)"
   ],
   "metadata": {
    "collapsed": false,
    "ExecuteTime": {
     "end_time": "2023-07-22T09:14:18.791263800Z",
     "start_time": "2023-07-22T09:14:07.445511800Z"
    }
   }
  },
  {
   "cell_type": "code",
   "execution_count": 14,
   "outputs": [
    {
     "ename": "NameError",
     "evalue": "name 'model_cce' is not defined",
     "output_type": "error",
     "traceback": [
      "\u001B[1;31m---------------------------------------------------------------------------\u001B[0m",
      "\u001B[1;31mNameError\u001B[0m                                 Traceback (most recent call last)",
      "Cell \u001B[1;32mIn[14], line 2\u001B[0m\n\u001B[0;32m      1\u001B[0m \u001B[38;5;66;03m# Train the model\u001B[39;00m\n\u001B[1;32m----> 2\u001B[0m history_cce \u001B[38;5;241m=\u001B[39m \u001B[43mmodel_cce\u001B[49m\u001B[38;5;241m.\u001B[39mfit(X_2_train, y_2_train_encoded, epochs\u001B[38;5;241m=\u001B[39m\u001B[38;5;241m10\u001B[39m, batch_size\u001B[38;5;241m=\u001B[39m\u001B[38;5;241m32\u001B[39m, validation_data\u001B[38;5;241m=\u001B[39m(X_2_val, y_2_val_encoded), callbacks\u001B[38;5;241m=\u001B[39m[checkpoint_callback, early_stopping, wandb_callback]) \u001B[38;5;66;03m#, wandb_callback])\u001B[39;00m\n",
      "\u001B[1;31mNameError\u001B[0m: name 'model_cce' is not defined"
     ]
    }
   ],
   "source": [
    "# Train the model\n",
    "history_cce = model_cce.fit(X_2_train, y_2_train_encoded, epochs=10, batch_size=32, validation_data=(X_2_val, y_2_val_encoded), callbacks=[checkpoint_callback, early_stopping, wandb_callback]) #, wandb_callback])"
   ],
   "metadata": {
    "collapsed": false,
    "ExecuteTime": {
     "end_time": "2023-07-22T09:13:58.604225500Z",
     "start_time": "2023-07-22T09:13:58.591196Z"
    }
   }
  },
  {
   "cell_type": "code",
   "execution_count": null,
   "outputs": [],
   "source": [
    "# Access the loss, validation loss, and accuracy from the history object\n",
    "loss = history_cce.history['loss']\n",
    "val_loss = history_cce.history['val_loss']\n",
    "accuracy = history_cce.history['accuracy']\n",
    "val_accuracy = history_cce.history['val_accuracy']\n",
    "\n",
    "# Plot the loss, validation loss, and accuracy curves\n",
    "epochs = range(1, len(loss) + 1)\n",
    "\n",
    "# Create subplots\n",
    "fig2, (ax1, ax2) = plt.subplots(1, 2, figsize=(12, 6))\n",
    "\n",
    "# Plot loss and validation loss\n",
    "ax1.plot(epochs, loss, 'b', label='Training Loss')\n",
    "ax1.plot(epochs, val_loss, 'r', label='Validation Loss')\n",
    "ax1.set_title('Training and Validation Loss')\n",
    "ax1.set_xlabel('Epochs')\n",
    "ax1.set_ylabel('Loss')\n",
    "ax1.legend()\n",
    "\n",
    "# Plot accuracy and validation accuracy\n",
    "ax2.plot(epochs, accuracy, 'b', label='Training Accuracy')\n",
    "ax2.plot(epochs, val_accuracy, 'r', label='Validation Accuracy')\n",
    "ax2.set_title('Training and Validation Accuracy')\n",
    "ax2.set_xlabel('Epochs')\n",
    "ax2.set_ylabel('Accuracy')\n",
    "ax2.legend()\n",
    "\n",
    "# Adjust spacing between subplots\n",
    "plt.tight_layout()\n",
    "\n",
    "# Show the plots\n",
    "plt.show()"
   ],
   "metadata": {
    "collapsed": false
   }
  },
  {
   "cell_type": "markdown",
   "source": [
    "## Check in with Franzi's group for reporting"
   ],
   "metadata": {
    "collapsed": false
   }
  },
  {
   "cell_type": "markdown",
   "source": [
    "### Multilable Model\n",
    "#### WIP in precursor_charge_predictor"
   ],
   "metadata": {
    "collapsed": false
   }
  },
  {
   "cell_type": "code",
   "execution_count": null,
   "outputs": [],
   "source": [],
   "metadata": {
    "collapsed": false,
    "ExecuteTime": {
     "end_time": "2023-07-21T07:48:05.671673Z",
     "start_time": "2023-07-21T07:48:05.668128300Z"
    }
   }
  },
  {
   "cell_type": "markdown",
   "source": [
    "## Model Testing\n",
    "### check if models only predict charge 2 or also other charges. Due to 'overrepresentation' the best bet for the model could be to only output charge state 2"
   ],
   "metadata": {
    "collapsed": false
   }
  },
  {
   "cell_type": "code",
   "execution_count": null,
   "outputs": [],
   "source": [],
   "metadata": {
    "collapsed": false
   }
  },
  {
   "cell_type": "markdown",
   "source": [
    "## Hyperparameter Tuning"
   ],
   "metadata": {
    "collapsed": false
   }
  },
  {
   "cell_type": "code",
   "execution_count": null,
   "outputs": [],
   "source": [],
   "metadata": {
    "collapsed": false
   }
  },
  {
   "cell_type": "markdown",
   "source": [],
   "metadata": {
    "collapsed": false
   }
  }
 ],
 "metadata": {
  "kernelspec": {
   "display_name": "Python 3",
   "language": "python",
   "name": "python3"
  },
  "language_info": {
   "codemirror_mode": {
    "name": "ipython",
    "version": 2
   },
   "file_extension": ".py",
   "mimetype": "text/x-python",
   "name": "python",
   "nbconvert_exporter": "python",
   "pygments_lexer": "ipython2",
   "version": "2.7.6"
  }
 },
 "nbformat": 4,
 "nbformat_minor": 0
}

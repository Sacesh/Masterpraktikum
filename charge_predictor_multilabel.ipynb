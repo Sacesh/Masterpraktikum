{
 "cells": [
  {
   "cell_type": "markdown",
   "source": [
    "# Playground to implement W&B as well as start hyperparameter-tuning"
   ],
   "metadata": {
    "collapsed": false
   }
  },
  {
   "cell_type": "markdown",
   "source": [
    "# WanDB"
   ],
   "metadata": {
    "collapsed": false
   }
  },
  {
   "cell_type": "code",
   "execution_count": 1,
   "outputs": [],
   "source": [
    "#%pip install wandb"
   ],
   "metadata": {
    "collapsed": false,
    "ExecuteTime": {
     "end_time": "2023-08-10T08:44:54.266322500Z",
     "start_time": "2023-08-10T08:44:54.264808800Z"
    }
   }
  },
  {
   "cell_type": "code",
   "execution_count": 2,
   "outputs": [],
   "source": [
    "import subprocess\n",
    "import wandb\n",
    "from wandb.keras import WandbCallback\n",
    "import tensorflow as tf\n",
    "import os"
   ],
   "metadata": {
    "collapsed": false,
    "ExecuteTime": {
     "end_time": "2023-08-10T13:31:07.624107100Z",
     "start_time": "2023-08-10T13:31:02.647463900Z"
    }
   }
  },
  {
   "cell_type": "code",
   "execution_count": 3,
   "outputs": [
    {
     "data": {
      "text/plain": "0"
     },
     "execution_count": 3,
     "metadata": {},
     "output_type": "execute_result"
    }
   ],
   "source": [
    "subprocess.call(['wandb', 'login', '4e8d3dcb1584ad129b3b49ccc34f65b20116ae54'])"
   ],
   "metadata": {
    "collapsed": false,
    "ExecuteTime": {
     "end_time": "2023-08-10T13:31:16.086398800Z",
     "start_time": "2023-08-10T13:31:11.638941200Z"
    }
   }
  },
  {
   "cell_type": "code",
   "execution_count": 4,
   "outputs": [
    {
     "name": "stderr",
     "output_type": "stream",
     "text": [
      "\u001B[34m\u001B[1mwandb\u001B[0m: Currently logged in as: \u001B[33mnkopp\u001B[0m (\u001B[33mteam-bioinf\u001B[0m). Use \u001B[1m`wandb login --relogin`\u001B[0m to force relogin\n"
     ]
    },
    {
     "data": {
      "text/plain": "<IPython.core.display.HTML object>",
      "text/html": "wandb version 0.15.8 is available!  To upgrade, please run:\n $ pip install wandb --upgrade"
     },
     "metadata": {},
     "output_type": "display_data"
    },
    {
     "data": {
      "text/plain": "<IPython.core.display.HTML object>",
      "text/html": "Tracking run with wandb version 0.15.5"
     },
     "metadata": {},
     "output_type": "display_data"
    },
    {
     "data": {
      "text/plain": "<IPython.core.display.HTML object>",
      "text/html": "Run data is saved locally in <code>C:\\Users\\micro\\OneDrive\\Dokumente\\GitHub\\Masterpraktikum\\wandb\\run-20230810_153121-436hf734</code>"
     },
     "metadata": {},
     "output_type": "display_data"
    },
    {
     "data": {
      "text/plain": "<IPython.core.display.HTML object>",
      "text/html": "Syncing run <strong><a href='https://wandb.ai/team-bioinf/precursor_charge_multilabel/runs/436hf734' target=\"_blank\">likely-serenity-1</a></strong> to <a href='https://wandb.ai/team-bioinf/precursor_charge_multilabel' target=\"_blank\">Weights & Biases</a> (<a href='https://wandb.me/run' target=\"_blank\">docs</a>)<br/>"
     },
     "metadata": {},
     "output_type": "display_data"
    },
    {
     "data": {
      "text/plain": "<IPython.core.display.HTML object>",
      "text/html": " View project at <a href='https://wandb.ai/team-bioinf/precursor_charge_multilabel' target=\"_blank\">https://wandb.ai/team-bioinf/precursor_charge_multilabel</a>"
     },
     "metadata": {},
     "output_type": "display_data"
    },
    {
     "data": {
      "text/plain": "<IPython.core.display.HTML object>",
      "text/html": " View run at <a href='https://wandb.ai/team-bioinf/precursor_charge_multilabel/runs/436hf734' target=\"_blank\">https://wandb.ai/team-bioinf/precursor_charge_multilabel/runs/436hf734</a>"
     },
     "metadata": {},
     "output_type": "display_data"
    },
    {
     "data": {
      "text/html": "<button onClick=\"this.nextSibling.style.display='block';this.style.display='none';\">Display W&B run</button><iframe src='https://wandb.ai/team-bioinf/precursor_charge_multilabel/runs/436hf734?jupyter=true' style='border:none;width:100%;height:420px;display:none;'></iframe>",
      "text/plain": "<wandb.sdk.wandb_run.Run at 0x208ec01c550>"
     },
     "execution_count": 4,
     "metadata": {},
     "output_type": "execute_result"
    }
   ],
   "source": [
    "wandb.init(project='precursor_charge_multilabel')"
   ],
   "metadata": {
    "collapsed": false,
    "ExecuteTime": {
     "end_time": "2023-08-10T13:31:22.421416600Z",
     "start_time": "2023-08-10T13:31:17.859344600Z"
    }
   }
  },
  {
   "cell_type": "markdown",
   "source": [
    "## Setup"
   ],
   "metadata": {
    "collapsed": false
   }
  },
  {
   "cell_type": "code",
   "execution_count": 5,
   "outputs": [],
   "source": [
    "#%pip install seaborn"
   ],
   "metadata": {
    "collapsed": false,
    "ExecuteTime": {
     "end_time": "2023-08-10T08:45:06.908050100Z",
     "start_time": "2023-08-10T08:45:06.903162600Z"
    }
   }
  },
  {
   "cell_type": "code",
   "execution_count": 5,
   "outputs": [],
   "source": [
    "import re\n",
    "import os\n",
    "import random\n",
    "import numpy as np\n",
    "import pandas as pd\n",
    "import tensorflow as tf\n",
    "import matplotlib.pyplot as plt\n",
    "from sklearn.model_selection import train_test_split\n",
    "from tensorflow.keras.callbacks import ModelCheckpoint\n",
    "from sklearn.utils import class_weight\n",
    "from sklearn.model_selection import StratifiedShuffleSplit\n",
    "from sklearn.metrics import confusion_matrix, classification_report\n",
    "import seaborn as sns\n",
    "import wandb\n",
    "from wandb.keras import WandbCallback\n",
    "import keras"
   ],
   "metadata": {
    "collapsed": false,
    "ExecuteTime": {
     "end_time": "2023-08-10T13:31:26.285402800Z",
     "start_time": "2023-08-10T13:31:26.074431400Z"
    }
   }
  },
  {
   "cell_type": "code",
   "execution_count": 6,
   "outputs": [],
   "source": [
    "train_datapath = [\"data/\"+file for file in os.listdir('data') if file.endswith(\".parquet\")][0]\n",
    "batch_size = 32"
   ],
   "metadata": {
    "collapsed": false,
    "ExecuteTime": {
     "end_time": "2023-08-10T13:31:28.472956700Z",
     "start_time": "2023-08-10T13:31:28.412818700Z"
    }
   }
  },
  {
   "cell_type": "markdown",
   "source": [
    "# Dataset batches + split"
   ],
   "metadata": {
    "collapsed": false
   }
  },
  {
   "cell_type": "code",
   "execution_count": 7,
   "outputs": [],
   "source": [
    "import re\n",
    "# the dictionary\n",
    "aa_syntax_dictionary = dict()\n",
    "for index, i in enumerate(list('XACDEFGHIKLMNPQRSTVWY')): # added X for 0 value\n",
    "    aa_syntax_dictionary[i] = index * 100\n",
    "    if i != 'X': # ignore 0 value for X\n",
    "        for count in range(0, 100):\n",
    "            aa_syntax_dictionary[i + \"[UNIMOD:\" + str(count) + \"]\"] = index * 100 + count\n",
    "\n",
    "def seq_translator(sequence, dictionary=aa_syntax_dictionary, print_result=False):\n",
    "    \"\"\"\n",
    "    Translates a sequence into a vector of integers\n",
    "    :param sequence: string\n",
    "    :param dictionary: dictionary\n",
    "    :return: list\n",
    "    \"\"\"\n",
    "    pattern = r'[A-Z]\\[[^\\]]*\\]|.' # regex pattern to match amino acids and modifications\n",
    "\n",
    "    result = [match for match in re.findall(pattern, sequence)]\n",
    "\n",
    "    if print_result:\n",
    "        print(result)\n",
    "    # Fill the list with \"X\" characters until it reaches a length of 40\n",
    "    result += ['X'] * (50 - len(result))\n",
    "\n",
    "    return [dictionary[aa] for aa in result]\n",
    "\n",
    "\n",
    "def one_hot_precursor(int_value, charges=[1,2,3,4,5,6]):\n",
    "    \"\"\"\n",
    "    One-hot encodes the precursor charge\n",
    "    :param df: dataframe\n",
    "    :param max_charge_included: int\n",
    "    :return: dataframe\n",
    "    \"\"\"\n",
    "    one_hot = [1 if x == int_value else 0 for x in charges]\n",
    "\n",
    "    return one_hot"
   ],
   "metadata": {
    "collapsed": false,
    "ExecuteTime": {
     "end_time": "2023-08-10T13:31:30.129561500Z",
     "start_time": "2023-08-10T13:31:30.077417300Z"
    }
   }
  },
  {
   "cell_type": "code",
   "execution_count": 10,
   "outputs": [
    {
     "name": "stdout",
     "output_type": "stream",
     "text": [
      "data/Thermo_SRM_Pool_meta_data.parquet\n"
     ]
    }
   ],
   "source": [
    "file_list = [\"data/\"+file for file in os.listdir('data') if file.endswith('.parquet')]\n",
    "print(file_list[0])"
   ],
   "metadata": {
    "collapsed": false,
    "ExecuteTime": {
     "end_time": "2023-08-10T13:31:43.620455700Z",
     "start_time": "2023-08-10T13:31:43.564932600Z"
    }
   }
  },
  {
   "cell_type": "markdown",
   "source": [
    "### import parquet files, drop all columns we dont need for training, one-hot encode precursor charge, translate sequence"
   ],
   "metadata": {
    "collapsed": false
   }
  },
  {
   "cell_type": "code",
   "execution_count": 12,
   "outputs": [],
   "source": [
    "batches_parquet = dict()\n",
    "counter = 0\n",
    "for file in file_list:\n",
    "    df = pd.read_parquet(file, engine='fastparquet')\n",
    "    # drop all columns we dont need for training\n",
    "    for column in df.columns:\n",
    "        if column not in [\"modified_sequence\",\"precursor_intensity\", \"precursor_charge\"]:\n",
    "            df.drop(column, axis=1, inplace=True)\n",
    "    charge_ranges = [1, 2, 3, 4, 5, 6] # TODO SET RANGES\n",
    "    df = df[df[\"precursor_charge\"].isin(charge_ranges)] # remove 7+ charge states // only take charge states 2,3,4\n",
    "    df = df.dropna(subset=['precursor_intensity']) # drop rows with no precursor intensity\n",
    "    batches_parquet[file] = df\n",
    "    counter += 1\n",
    "    if counter > 2:\n",
    "        break # TODO REMOVE BREAK FOR FIRST FILE IN LIST"
   ],
   "metadata": {
    "collapsed": false,
    "ExecuteTime": {
     "end_time": "2023-08-10T13:32:31.730295900Z",
     "start_time": "2023-08-10T13:32:15.486280Z"
    }
   }
  },
  {
   "cell_type": "code",
   "execution_count": 13,
   "outputs": [],
   "source": [
    "num_classes = len(charge_ranges)\n",
    "class_names = charge_ranges"
   ],
   "metadata": {
    "collapsed": false,
    "ExecuteTime": {
     "end_time": "2023-08-10T13:32:35.822754500Z",
     "start_time": "2023-08-10T13:32:35.764581100Z"
    }
   }
  },
  {
   "cell_type": "code",
   "execution_count": 14,
   "outputs": [
    {
     "data": {
      "text/plain": "      modified_sequence  precursor_charge  precursor_intensity\n0  LPGSLETYVEQEQGENANDR                 2           29525630.0\n1       HGSLQEYLQNDTGSK                 2           13188580.0\n2        VEEEEEINSELTAR                 2           20663460.0\n3  LPGSLETYVEQEQGENANDR                 2           19884630.0\n4  NSSTAEINETTTSSTDFLAR                 2           12804420.0",
      "text/html": "<div>\n<style scoped>\n    .dataframe tbody tr th:only-of-type {\n        vertical-align: middle;\n    }\n\n    .dataframe tbody tr th {\n        vertical-align: top;\n    }\n\n    .dataframe thead th {\n        text-align: right;\n    }\n</style>\n<table border=\"1\" class=\"dataframe\">\n  <thead>\n    <tr style=\"text-align: right;\">\n      <th></th>\n      <th>modified_sequence</th>\n      <th>precursor_charge</th>\n      <th>precursor_intensity</th>\n    </tr>\n  </thead>\n  <tbody>\n    <tr>\n      <th>0</th>\n      <td>LPGSLETYVEQEQGENANDR</td>\n      <td>2</td>\n      <td>29525630.0</td>\n    </tr>\n    <tr>\n      <th>1</th>\n      <td>HGSLQEYLQNDTGSK</td>\n      <td>2</td>\n      <td>13188580.0</td>\n    </tr>\n    <tr>\n      <th>2</th>\n      <td>VEEEEEINSELTAR</td>\n      <td>2</td>\n      <td>20663460.0</td>\n    </tr>\n    <tr>\n      <th>3</th>\n      <td>LPGSLETYVEQEQGENANDR</td>\n      <td>2</td>\n      <td>19884630.0</td>\n    </tr>\n    <tr>\n      <th>4</th>\n      <td>NSSTAEINETTTSSTDFLAR</td>\n      <td>2</td>\n      <td>12804420.0</td>\n    </tr>\n  </tbody>\n</table>\n</div>"
     },
     "execution_count": 14,
     "metadata": {},
     "output_type": "execute_result"
    }
   ],
   "source": [
    "batches_parquet[file_list[0]].head()"
   ],
   "metadata": {
    "collapsed": false,
    "ExecuteTime": {
     "end_time": "2023-08-10T13:32:38.847729800Z",
     "start_time": "2023-08-10T13:32:38.792266700Z"
    }
   }
  },
  {
   "cell_type": "code",
   "execution_count": 16,
   "outputs": [
    {
     "data": {
      "text/plain": "['data/Thermo_SRM_Pool_meta_data.parquet',\n 'data/TUM_aspn_meta_data.parquet',\n 'data/TUM_first_pool_meta_data.parquet',\n 'data/TUM_HLA2_meta_data.parquet',\n 'data/TUM_HLA_meta_data.parquet',\n 'data/TUM_isoform_meta_data.parquet',\n 'data/TUM_lysn_meta_data.parquet',\n 'data/TUM_missing_first_meta_data.parquet',\n 'data/TUM_proteo_TMT_meta_data.parquet',\n 'data/TUM_second_addon_meta_data.parquet',\n 'data/TUM_second_pool_meta_data.parquet',\n 'data/TUM_third_pool_meta_data.parquet']"
     },
     "execution_count": 16,
     "metadata": {},
     "output_type": "execute_result"
    }
   ],
   "source": [
    "file_list"
   ],
   "metadata": {
    "collapsed": false,
    "ExecuteTime": {
     "end_time": "2023-08-10T13:32:43.346928500Z",
     "start_time": "2023-08-10T13:32:43.303578200Z"
    }
   }
  },
  {
   "cell_type": "code",
   "execution_count": 17,
   "outputs": [
    {
     "data": {
      "text/plain": "2    4331294\n3    1523398\n4     115577\n5       2723\n1       1022\n6        143\nName: precursor_charge, dtype: int64"
     },
     "execution_count": 17,
     "metadata": {},
     "output_type": "execute_result"
    }
   ],
   "source": [
    "batches_parquet[file_list[0]][\"precursor_charge\"].value_counts()"
   ],
   "metadata": {
    "collapsed": false,
    "ExecuteTime": {
     "end_time": "2023-08-10T13:32:51.172734300Z",
     "start_time": "2023-08-10T13:32:51.103545900Z"
    }
   }
  },
  {
   "cell_type": "markdown",
   "source": [
    "# Normalisieren:"
   ],
   "metadata": {
    "collapsed": false
   }
  },
  {
   "cell_type": "code",
   "execution_count": 18,
   "outputs": [],
   "source": [
    "def normalize_for_most_abundant(df_charge_list, df_intensity_list):\n",
    "    # Get the index of the most abundant precursor intensity\n",
    "    charge_dict = dict()\n",
    "    for index, i in enumerate(df_charge_list):\n",
    "        charge_dict[i] = []\n",
    "        charge_dict[i].append(df_intensity_list[index])\n",
    "\n",
    "    # Normalize the precursor intensity based on the most abundant precursor intensity\n",
    "    for key, value in charge_dict.items():\n",
    "        if len(value) > 1:\n",
    "         charge_dict[key] = sum(value) - min(value) / (max(value) - min(value))\n",
    "\n",
    "    # convert list of one float to float values\n",
    "    charge_dict = {key: value[0] for key, value in charge_dict.items()}\n",
    "\n",
    "    return charge_dict"
   ],
   "metadata": {
    "collapsed": false,
    "ExecuteTime": {
     "end_time": "2023-08-10T13:32:59.861061300Z",
     "start_time": "2023-08-10T13:32:59.803935200Z"
    }
   }
  },
  {
   "cell_type": "code",
   "execution_count": 19,
   "outputs": [],
   "source": [
    "def get_most_abundant(df_charge_list, df_intensity_list, distributions=False):\n",
    "    # Get the index of the most abundant precursor intensity\n",
    "    charge_dict = dict()\n",
    "    for index, i in enumerate(df_charge_list):\n",
    "        if i not in charge_dict:\n",
    "            charge_dict[i] = df_intensity_list[index]\n",
    "        else:\n",
    "            charge_dict[i] += df_intensity_list[index]\n",
    "    if distributions:\n",
    "        #print(charge_dict)\n",
    "        return charge_dict\n",
    "    else:\n",
    "        return max(charge_dict, key=charge_dict.get)\n"
   ],
   "metadata": {
    "collapsed": false,
    "ExecuteTime": {
     "end_time": "2023-08-10T13:33:00.762227Z",
     "start_time": "2023-08-10T13:33:00.711672100Z"
    }
   }
  },
  {
   "cell_type": "code",
   "execution_count": 20,
   "outputs": [
    {
     "name": "stderr",
     "output_type": "stream",
     "text": [
      "C:\\Users\\micro\\AppData\\Local\\Temp\\ipykernel_31500\\1886356924.py:4: FutureWarning: Indexing with multiple keys (implicitly converted to a tuple of keys) will be deprecated, use a list instead.\n",
      "  df_dict[file] = batches_parquet[file].groupby(\"modified_sequence\")[\"precursor_charge\", \"precursor_intensity\"].agg(list).reset_index()\n",
      "C:\\Users\\micro\\AppData\\Local\\Temp\\ipykernel_31500\\1886356924.py:4: FutureWarning: Indexing with multiple keys (implicitly converted to a tuple of keys) will be deprecated, use a list instead.\n",
      "  df_dict[file] = batches_parquet[file].groupby(\"modified_sequence\")[\"precursor_charge\", \"precursor_intensity\"].agg(list).reset_index()\n"
     ]
    }
   ],
   "source": [
    "# load all parquets into df\n",
    "df_dict = dict()\n",
    "for file in file_list[:2]: # TODO change\n",
    "    df_dict[file] = batches_parquet[file].groupby(\"modified_sequence\")[\"precursor_charge\", \"precursor_intensity\"].agg(list).reset_index()"
   ],
   "metadata": {
    "collapsed": false,
    "ExecuteTime": {
     "end_time": "2023-08-10T13:33:16.996944700Z",
     "start_time": "2023-08-10T13:33:10.686983600Z"
    }
   }
  },
  {
   "cell_type": "code",
   "execution_count": 99,
   "outputs": [
    {
     "name": "stderr",
     "output_type": "stream",
     "text": [
      "C:\\Users\\micro\\AppData\\Local\\Temp\\ipykernel_31500\\3965802802.py:1: FutureWarning: Indexing with multiple keys (implicitly converted to a tuple of keys) will be deprecated, use a list instead.\n",
      "  merged_df = pd.concat(list(df_dict.values())[:-1]).groupby(\"modified_sequence\")[\"precursor_charge\", \"precursor_intensity\"].sum().reset_index()\n"
     ]
    }
   ],
   "source": [
    "merged_df = pd.concat(list(df_dict.values())[:-1]).groupby(\"modified_sequence\")[\"precursor_charge\", \"precursor_intensity\"].sum().reset_index()"
   ],
   "metadata": {
    "collapsed": false,
    "ExecuteTime": {
     "end_time": "2023-08-10T14:14:15.595277900Z",
     "start_time": "2023-08-10T14:14:15.469403100Z"
    }
   }
  },
  {
   "cell_type": "code",
   "execution_count": 100,
   "outputs": [],
   "source": [
    "merged_df['distributions'] = merged_df.apply(lambda x: normalize_for_most_abundant(x[\"precursor_charge\"], x[\"precursor_intensity\"]), axis=1)"
   ],
   "metadata": {
    "collapsed": false,
    "ExecuteTime": {
     "end_time": "2023-08-10T14:14:18.468764Z",
     "start_time": "2023-08-10T14:14:16.915224500Z"
    }
   }
  },
  {
   "cell_type": "code",
   "execution_count": 101,
   "outputs": [],
   "source": [
    "# get percentages for each key in distributions according to values\n",
    "merged_df['dist_percentages'] = merged_df.apply(lambda x: {key: value / sum(x[\"distributions\"].values()) for key, value in x[\"distributions\"].items()}, axis=1)"
   ],
   "metadata": {
    "collapsed": false,
    "ExecuteTime": {
     "end_time": "2023-08-10T14:14:19.028285700Z",
     "start_time": "2023-08-10T14:14:18.434421200Z"
    }
   }
  },
  {
   "cell_type": "code",
   "execution_count": 102,
   "outputs": [],
   "source": [
    "def multi_label_one_hot_precursor(charge_list, charges_included=charge_ranges):\n",
    "\n",
    "    one_hot_encoded = [1 if label in charge_list else 0 for label in charges_included]\n",
    "\n",
    "    return one_hot_encoded"
   ],
   "metadata": {
    "collapsed": false,
    "ExecuteTime": {
     "end_time": "2023-08-10T14:14:19.702598100Z",
     "start_time": "2023-08-10T14:14:19.656903200Z"
    }
   }
  },
  {
   "cell_type": "code",
   "execution_count": 103,
   "outputs": [],
   "source": [
    "merged_df['multi_label_vector'] = merged_df['precursor_charge'].apply(multi_label_one_hot_precursor)"
   ],
   "metadata": {
    "collapsed": false,
    "ExecuteTime": {
     "end_time": "2023-08-10T14:14:21.406470700Z",
     "start_time": "2023-08-10T14:14:21.203062500Z"
    }
   }
  },
  {
   "cell_type": "code",
   "execution_count": 93,
   "outputs": [
    {
     "data": {
      "text/plain": "               modified_sequence  \\\n0           AAAASAAEAGIATTGTEGER   \n1          AAAC[UNIMOD:4]FFEQPPR   \n2                     AAADFATHGK   \n3       AAADLMAYC[UNIMOD:4]EAHAK   \n4             AAADSDPNLDPLMNPHIR   \n5  AAADSDPNLDPLM[UNIMOD:35]NPHIR   \n6                      AAADTLAVR   \n7               AAAEATQETVESLMQK   \n8    AAAEATQETVESLM[UNIMOD:35]QK   \n9           AAAEIYEEFLAAFEGSDGNK   \n\n                                    precursor_charge  \\\n0  [2, 2, 2, 2, 2, 2, 2, 2, 2, 2, 3, 2, 2, 3, 3, ...   \n1  [2, 2, 2, 2, 2, 2, 2, 2, 2, 2, 2, 2, 2, 2, 2, ...   \n2  [2, 2, 2, 2, 2, 2, 2, 2, 2, 2, 2, 2, 2, 2, 2, ...   \n3   [2, 2, 2, 2, 2, 2, 2, 2, 2, 2, 2, 2, 2, 2, 2, 2]   \n4                                       [3, 3, 3, 3]   \n5  [3, 3, 3, 3, 3, 3, 3, 3, 3, 3, 3, 3, 3, 3, 3, ...   \n6  [2, 2, 2, 2, 2, 2, 2, 2, 2, 2, 2, 2, 2, 2, 2, ...   \n7  [2, 2, 2, 2, 2, 2, 2, 2, 2, 2, 2, 2, 2, 2, 2, ...   \n8      [2, 2, 2, 2, 2, 2, 2, 2, 2, 2, 2, 2, 2, 2, 2]   \n9                                             [2, 2]   \n\n                                 precursor_intensity  \\\n0  [165006700.0, 73345890.0, 16215490.0, 73345890...   \n1  [1118398000.0, 894762400.0, 48477320.0, 707426...   \n2  [950304000.0, 69180770.0, 52745530.0, 69180770...   \n3  [11874490.0, 11874490.0, 10890660.0, 14086870....   \n4     [58026060.0, 58026060.0, 8447297.0, 8447297.0]   \n5  [7103406.0, 11804630.0, 11804630.0, 7433404.0,...   \n6  [1648339000.0, 350787600.0, 1648339000.0, 3507...   \n7  [71326430.0, 74987410.0, 71326430.0, 28122350....   \n8  [9525848.0, 8286842.0, 9525848.0, 8286842.0, 5...   \n9                           [10863660.0, 10863660.0]   \n\n                 distributions  \\\n0  {2: 695065.6, 3: 2633379.0}   \n1               {2: 7535501.0}   \n2                {2: 341550.9}   \n3              {2: 14086870.0}   \n4               {3: 8447297.0}   \n5               {3: 6419643.0}   \n6                {2: 254997.2}   \n7               {2: 1298560.0}   \n8               {2: 8895769.0}   \n9              {2: 10863660.0}   \n\n                                 dist_percentages  multi_label_vector  \n0  {2: 0.2088259483123138, 3: 0.7911740516876862}  [0, 1, 1, 0, 0, 0]  \n1                                        {2: 1.0}  [0, 1, 0, 0, 0, 0]  \n2                                        {2: 1.0}  [0, 1, 0, 0, 0, 0]  \n3                                        {2: 1.0}  [0, 1, 0, 0, 0, 0]  \n4                                        {3: 1.0}  [0, 0, 1, 0, 0, 0]  \n5                                        {3: 1.0}  [0, 0, 1, 0, 0, 0]  \n6                                        {2: 1.0}  [0, 1, 0, 0, 0, 0]  \n7                                        {2: 1.0}  [0, 1, 0, 0, 0, 0]  \n8                                        {2: 1.0}  [0, 1, 0, 0, 0, 0]  \n9                                        {2: 1.0}  [0, 1, 0, 0, 0, 0]  ",
      "text/html": "<div>\n<style scoped>\n    .dataframe tbody tr th:only-of-type {\n        vertical-align: middle;\n    }\n\n    .dataframe tbody tr th {\n        vertical-align: top;\n    }\n\n    .dataframe thead th {\n        text-align: right;\n    }\n</style>\n<table border=\"1\" class=\"dataframe\">\n  <thead>\n    <tr style=\"text-align: right;\">\n      <th></th>\n      <th>modified_sequence</th>\n      <th>precursor_charge</th>\n      <th>precursor_intensity</th>\n      <th>distributions</th>\n      <th>dist_percentages</th>\n      <th>multi_label_vector</th>\n    </tr>\n  </thead>\n  <tbody>\n    <tr>\n      <th>0</th>\n      <td>AAAASAAEAGIATTGTEGER</td>\n      <td>[2, 2, 2, 2, 2, 2, 2, 2, 2, 2, 3, 2, 2, 3, 3, ...</td>\n      <td>[165006700.0, 73345890.0, 16215490.0, 73345890...</td>\n      <td>{2: 695065.6, 3: 2633379.0}</td>\n      <td>{2: 0.2088259483123138, 3: 0.7911740516876862}</td>\n      <td>[0, 1, 1, 0, 0, 0]</td>\n    </tr>\n    <tr>\n      <th>1</th>\n      <td>AAAC[UNIMOD:4]FFEQPPR</td>\n      <td>[2, 2, 2, 2, 2, 2, 2, 2, 2, 2, 2, 2, 2, 2, 2, ...</td>\n      <td>[1118398000.0, 894762400.0, 48477320.0, 707426...</td>\n      <td>{2: 7535501.0}</td>\n      <td>{2: 1.0}</td>\n      <td>[0, 1, 0, 0, 0, 0]</td>\n    </tr>\n    <tr>\n      <th>2</th>\n      <td>AAADFATHGK</td>\n      <td>[2, 2, 2, 2, 2, 2, 2, 2, 2, 2, 2, 2, 2, 2, 2, ...</td>\n      <td>[950304000.0, 69180770.0, 52745530.0, 69180770...</td>\n      <td>{2: 341550.9}</td>\n      <td>{2: 1.0}</td>\n      <td>[0, 1, 0, 0, 0, 0]</td>\n    </tr>\n    <tr>\n      <th>3</th>\n      <td>AAADLMAYC[UNIMOD:4]EAHAK</td>\n      <td>[2, 2, 2, 2, 2, 2, 2, 2, 2, 2, 2, 2, 2, 2, 2, 2]</td>\n      <td>[11874490.0, 11874490.0, 10890660.0, 14086870....</td>\n      <td>{2: 14086870.0}</td>\n      <td>{2: 1.0}</td>\n      <td>[0, 1, 0, 0, 0, 0]</td>\n    </tr>\n    <tr>\n      <th>4</th>\n      <td>AAADSDPNLDPLMNPHIR</td>\n      <td>[3, 3, 3, 3]</td>\n      <td>[58026060.0, 58026060.0, 8447297.0, 8447297.0]</td>\n      <td>{3: 8447297.0}</td>\n      <td>{3: 1.0}</td>\n      <td>[0, 0, 1, 0, 0, 0]</td>\n    </tr>\n    <tr>\n      <th>5</th>\n      <td>AAADSDPNLDPLM[UNIMOD:35]NPHIR</td>\n      <td>[3, 3, 3, 3, 3, 3, 3, 3, 3, 3, 3, 3, 3, 3, 3, ...</td>\n      <td>[7103406.0, 11804630.0, 11804630.0, 7433404.0,...</td>\n      <td>{3: 6419643.0}</td>\n      <td>{3: 1.0}</td>\n      <td>[0, 0, 1, 0, 0, 0]</td>\n    </tr>\n    <tr>\n      <th>6</th>\n      <td>AAADTLAVR</td>\n      <td>[2, 2, 2, 2, 2, 2, 2, 2, 2, 2, 2, 2, 2, 2, 2, ...</td>\n      <td>[1648339000.0, 350787600.0, 1648339000.0, 3507...</td>\n      <td>{2: 254997.2}</td>\n      <td>{2: 1.0}</td>\n      <td>[0, 1, 0, 0, 0, 0]</td>\n    </tr>\n    <tr>\n      <th>7</th>\n      <td>AAAEATQETVESLMQK</td>\n      <td>[2, 2, 2, 2, 2, 2, 2, 2, 2, 2, 2, 2, 2, 2, 2, ...</td>\n      <td>[71326430.0, 74987410.0, 71326430.0, 28122350....</td>\n      <td>{2: 1298560.0}</td>\n      <td>{2: 1.0}</td>\n      <td>[0, 1, 0, 0, 0, 0]</td>\n    </tr>\n    <tr>\n      <th>8</th>\n      <td>AAAEATQETVESLM[UNIMOD:35]QK</td>\n      <td>[2, 2, 2, 2, 2, 2, 2, 2, 2, 2, 2, 2, 2, 2, 2]</td>\n      <td>[9525848.0, 8286842.0, 9525848.0, 8286842.0, 5...</td>\n      <td>{2: 8895769.0}</td>\n      <td>{2: 1.0}</td>\n      <td>[0, 1, 0, 0, 0, 0]</td>\n    </tr>\n    <tr>\n      <th>9</th>\n      <td>AAAEIYEEFLAAFEGSDGNK</td>\n      <td>[2, 2]</td>\n      <td>[10863660.0, 10863660.0]</td>\n      <td>{2: 10863660.0}</td>\n      <td>{2: 1.0}</td>\n      <td>[0, 1, 0, 0, 0, 0]</td>\n    </tr>\n  </tbody>\n</table>\n</div>"
     },
     "execution_count": 93,
     "metadata": {},
     "output_type": "execute_result"
    }
   ],
   "source": [
    "merged_df.head(10)"
   ],
   "metadata": {
    "collapsed": false,
    "ExecuteTime": {
     "end_time": "2023-08-10T14:13:45.904100500Z",
     "start_time": "2023-08-10T14:13:45.834295400Z"
    }
   }
  },
  {
   "cell_type": "code",
   "execution_count": 104,
   "outputs": [],
   "source": [
    "merged_df[\"modified_sequence_vector\"] = merged_df[\"modified_sequence\"].apply(seq_translator)"
   ],
   "metadata": {
    "collapsed": false,
    "ExecuteTime": {
     "end_time": "2023-08-10T14:14:24.094257900Z",
     "start_time": "2023-08-10T14:14:23.696748300Z"
    }
   }
  },
  {
   "cell_type": "code",
   "execution_count": 105,
   "outputs": [
    {
     "data": {
      "text/plain": "                modified_sequence  \\\n0            AAAASAAEAGIATTGTEGER   \n1           AAAC[UNIMOD:4]FFEQPPR   \n2                      AAADFATHGK   \n3        AAADLMAYC[UNIMOD:4]EAHAK   \n4              AAADSDPNLDPLMNPHIR   \n5   AAADSDPNLDPLM[UNIMOD:35]NPHIR   \n6                       AAADTLAVR   \n7                AAAEATQETVESLMQK   \n8     AAAEATQETVESLM[UNIMOD:35]QK   \n9            AAAEIYEEFLAAFEGSDGNK   \n10                AAAELNTEVPKPSAK   \n\n                                     precursor_charge  \\\n0   [2, 2, 2, 2, 2, 2, 2, 2, 2, 2, 3, 2, 2, 3, 3, ...   \n1   [2, 2, 2, 2, 2, 2, 2, 2, 2, 2, 2, 2, 2, 2, 2, ...   \n2   [2, 2, 2, 2, 2, 2, 2, 2, 2, 2, 2, 2, 2, 2, 2, ...   \n3    [2, 2, 2, 2, 2, 2, 2, 2, 2, 2, 2, 2, 2, 2, 2, 2]   \n4                                        [3, 3, 3, 3]   \n5   [3, 3, 3, 3, 3, 3, 3, 3, 3, 3, 3, 3, 3, 3, 3, ...   \n6   [2, 2, 2, 2, 2, 2, 2, 2, 2, 2, 2, 2, 2, 2, 2, ...   \n7   [2, 2, 2, 2, 2, 2, 2, 2, 2, 2, 2, 2, 2, 2, 2, ...   \n8       [2, 2, 2, 2, 2, 2, 2, 2, 2, 2, 2, 2, 2, 2, 2]   \n9                                              [2, 2]   \n10  [2, 2, 2, 2, 2, 2, 2, 3, 3, 3, 3, 2, 3, 3, 3, ...   \n\n                                  precursor_intensity  \\\n0   [165006700.0, 73345890.0, 16215490.0, 73345890...   \n1   [1118398000.0, 894762400.0, 48477320.0, 707426...   \n2   [950304000.0, 69180770.0, 52745530.0, 69180770...   \n3   [11874490.0, 11874490.0, 10890660.0, 14086870....   \n4      [58026060.0, 58026060.0, 8447297.0, 8447297.0]   \n5   [7103406.0, 11804630.0, 11804630.0, 7433404.0,...   \n6   [1648339000.0, 350787600.0, 1648339000.0, 3507...   \n7   [71326430.0, 74987410.0, 71326430.0, 28122350....   \n8   [9525848.0, 8286842.0, 9525848.0, 8286842.0, 5...   \n9                            [10863660.0, 10863660.0]   \n10  [77221220.0, 35049420.0, 77221220.0, 35049420....   \n\n                  distributions  \\\n0   {2: 695065.6, 3: 2633379.0}   \n1                {2: 7535501.0}   \n2                 {2: 341550.9}   \n3               {2: 14086870.0}   \n4                {3: 8447297.0}   \n5                {3: 6419643.0}   \n6                 {2: 254997.2}   \n7                {2: 1298560.0}   \n8                {2: 8895769.0}   \n9               {2: 10863660.0}   \n10  {2: 2406566.0, 3: 966365.4}   \n\n                                  dist_percentages  multi_label_vector  \\\n0   {2: 0.2088259483123138, 3: 0.7911740516876862}  [0, 1, 1, 0, 0, 0]   \n1                                         {2: 1.0}  [0, 1, 0, 0, 0, 0]   \n2                                         {2: 1.0}  [0, 1, 0, 0, 0, 0]   \n3                                         {2: 1.0}  [0, 1, 0, 0, 0, 0]   \n4                                         {3: 1.0}  [0, 0, 1, 0, 0, 0]   \n5                                         {3: 1.0}  [0, 0, 1, 0, 0, 0]   \n6                                         {2: 1.0}  [0, 1, 0, 0, 0, 0]   \n7                                         {2: 1.0}  [0, 1, 0, 0, 0, 0]   \n8                                         {2: 1.0}  [0, 1, 0, 0, 0, 0]   \n9                                         {2: 1.0}  [0, 1, 0, 0, 0, 0]   \n10  {2: 0.7134939062205653, 3: 0.2865060937794347}  [0, 1, 1, 0, 0, 0]   \n\n                             modified_sequence_vector  \n0   [100, 100, 100, 100, 1600, 100, 100, 400, 100,...  \n1   [100, 100, 100, 204, 500, 500, 400, 1400, 1300...  \n2   [100, 100, 100, 300, 500, 100, 1700, 700, 600,...  \n3   [100, 100, 100, 300, 1000, 1100, 100, 2000, 20...  \n4   [100, 100, 100, 300, 1600, 300, 1300, 1200, 10...  \n5   [100, 100, 100, 300, 1600, 300, 1300, 1200, 10...  \n6   [100, 100, 100, 300, 1700, 1000, 100, 1800, 15...  \n7   [100, 100, 100, 400, 100, 1700, 1400, 400, 170...  \n8   [100, 100, 100, 400, 100, 1700, 1400, 400, 170...  \n9   [100, 100, 100, 400, 800, 2000, 400, 400, 500,...  \n10  [100, 100, 100, 400, 1000, 1200, 1700, 400, 18...  ",
      "text/html": "<div>\n<style scoped>\n    .dataframe tbody tr th:only-of-type {\n        vertical-align: middle;\n    }\n\n    .dataframe tbody tr th {\n        vertical-align: top;\n    }\n\n    .dataframe thead th {\n        text-align: right;\n    }\n</style>\n<table border=\"1\" class=\"dataframe\">\n  <thead>\n    <tr style=\"text-align: right;\">\n      <th></th>\n      <th>modified_sequence</th>\n      <th>precursor_charge</th>\n      <th>precursor_intensity</th>\n      <th>distributions</th>\n      <th>dist_percentages</th>\n      <th>multi_label_vector</th>\n      <th>modified_sequence_vector</th>\n    </tr>\n  </thead>\n  <tbody>\n    <tr>\n      <th>0</th>\n      <td>AAAASAAEAGIATTGTEGER</td>\n      <td>[2, 2, 2, 2, 2, 2, 2, 2, 2, 2, 3, 2, 2, 3, 3, ...</td>\n      <td>[165006700.0, 73345890.0, 16215490.0, 73345890...</td>\n      <td>{2: 695065.6, 3: 2633379.0}</td>\n      <td>{2: 0.2088259483123138, 3: 0.7911740516876862}</td>\n      <td>[0, 1, 1, 0, 0, 0]</td>\n      <td>[100, 100, 100, 100, 1600, 100, 100, 400, 100,...</td>\n    </tr>\n    <tr>\n      <th>1</th>\n      <td>AAAC[UNIMOD:4]FFEQPPR</td>\n      <td>[2, 2, 2, 2, 2, 2, 2, 2, 2, 2, 2, 2, 2, 2, 2, ...</td>\n      <td>[1118398000.0, 894762400.0, 48477320.0, 707426...</td>\n      <td>{2: 7535501.0}</td>\n      <td>{2: 1.0}</td>\n      <td>[0, 1, 0, 0, 0, 0]</td>\n      <td>[100, 100, 100, 204, 500, 500, 400, 1400, 1300...</td>\n    </tr>\n    <tr>\n      <th>2</th>\n      <td>AAADFATHGK</td>\n      <td>[2, 2, 2, 2, 2, 2, 2, 2, 2, 2, 2, 2, 2, 2, 2, ...</td>\n      <td>[950304000.0, 69180770.0, 52745530.0, 69180770...</td>\n      <td>{2: 341550.9}</td>\n      <td>{2: 1.0}</td>\n      <td>[0, 1, 0, 0, 0, 0]</td>\n      <td>[100, 100, 100, 300, 500, 100, 1700, 700, 600,...</td>\n    </tr>\n    <tr>\n      <th>3</th>\n      <td>AAADLMAYC[UNIMOD:4]EAHAK</td>\n      <td>[2, 2, 2, 2, 2, 2, 2, 2, 2, 2, 2, 2, 2, 2, 2, 2]</td>\n      <td>[11874490.0, 11874490.0, 10890660.0, 14086870....</td>\n      <td>{2: 14086870.0}</td>\n      <td>{2: 1.0}</td>\n      <td>[0, 1, 0, 0, 0, 0]</td>\n      <td>[100, 100, 100, 300, 1000, 1100, 100, 2000, 20...</td>\n    </tr>\n    <tr>\n      <th>4</th>\n      <td>AAADSDPNLDPLMNPHIR</td>\n      <td>[3, 3, 3, 3]</td>\n      <td>[58026060.0, 58026060.0, 8447297.0, 8447297.0]</td>\n      <td>{3: 8447297.0}</td>\n      <td>{3: 1.0}</td>\n      <td>[0, 0, 1, 0, 0, 0]</td>\n      <td>[100, 100, 100, 300, 1600, 300, 1300, 1200, 10...</td>\n    </tr>\n    <tr>\n      <th>5</th>\n      <td>AAADSDPNLDPLM[UNIMOD:35]NPHIR</td>\n      <td>[3, 3, 3, 3, 3, 3, 3, 3, 3, 3, 3, 3, 3, 3, 3, ...</td>\n      <td>[7103406.0, 11804630.0, 11804630.0, 7433404.0,...</td>\n      <td>{3: 6419643.0}</td>\n      <td>{3: 1.0}</td>\n      <td>[0, 0, 1, 0, 0, 0]</td>\n      <td>[100, 100, 100, 300, 1600, 300, 1300, 1200, 10...</td>\n    </tr>\n    <tr>\n      <th>6</th>\n      <td>AAADTLAVR</td>\n      <td>[2, 2, 2, 2, 2, 2, 2, 2, 2, 2, 2, 2, 2, 2, 2, ...</td>\n      <td>[1648339000.0, 350787600.0, 1648339000.0, 3507...</td>\n      <td>{2: 254997.2}</td>\n      <td>{2: 1.0}</td>\n      <td>[0, 1, 0, 0, 0, 0]</td>\n      <td>[100, 100, 100, 300, 1700, 1000, 100, 1800, 15...</td>\n    </tr>\n    <tr>\n      <th>7</th>\n      <td>AAAEATQETVESLMQK</td>\n      <td>[2, 2, 2, 2, 2, 2, 2, 2, 2, 2, 2, 2, 2, 2, 2, ...</td>\n      <td>[71326430.0, 74987410.0, 71326430.0, 28122350....</td>\n      <td>{2: 1298560.0}</td>\n      <td>{2: 1.0}</td>\n      <td>[0, 1, 0, 0, 0, 0]</td>\n      <td>[100, 100, 100, 400, 100, 1700, 1400, 400, 170...</td>\n    </tr>\n    <tr>\n      <th>8</th>\n      <td>AAAEATQETVESLM[UNIMOD:35]QK</td>\n      <td>[2, 2, 2, 2, 2, 2, 2, 2, 2, 2, 2, 2, 2, 2, 2]</td>\n      <td>[9525848.0, 8286842.0, 9525848.0, 8286842.0, 5...</td>\n      <td>{2: 8895769.0}</td>\n      <td>{2: 1.0}</td>\n      <td>[0, 1, 0, 0, 0, 0]</td>\n      <td>[100, 100, 100, 400, 100, 1700, 1400, 400, 170...</td>\n    </tr>\n    <tr>\n      <th>9</th>\n      <td>AAAEIYEEFLAAFEGSDGNK</td>\n      <td>[2, 2]</td>\n      <td>[10863660.0, 10863660.0]</td>\n      <td>{2: 10863660.0}</td>\n      <td>{2: 1.0}</td>\n      <td>[0, 1, 0, 0, 0, 0]</td>\n      <td>[100, 100, 100, 400, 800, 2000, 400, 400, 500,...</td>\n    </tr>\n    <tr>\n      <th>10</th>\n      <td>AAAELNTEVPKPSAK</td>\n      <td>[2, 2, 2, 2, 2, 2, 2, 3, 3, 3, 3, 2, 3, 3, 3, ...</td>\n      <td>[77221220.0, 35049420.0, 77221220.0, 35049420....</td>\n      <td>{2: 2406566.0, 3: 966365.4}</td>\n      <td>{2: 0.7134939062205653, 3: 0.2865060937794347}</td>\n      <td>[0, 1, 1, 0, 0, 0]</td>\n      <td>[100, 100, 100, 400, 1000, 1200, 1700, 400, 18...</td>\n    </tr>\n  </tbody>\n</table>\n</div>"
     },
     "execution_count": 105,
     "metadata": {},
     "output_type": "execute_result"
    }
   ],
   "source": [
    "merged_df.head(11)"
   ],
   "metadata": {
    "collapsed": false,
    "ExecuteTime": {
     "end_time": "2023-08-10T14:14:24.854240100Z",
     "start_time": "2023-08-10T14:14:24.805533200Z"
    }
   }
  },
  {
   "cell_type": "code",
   "execution_count": 47,
   "outputs": [
    {
     "data": {
      "text/plain": "70445"
     },
     "execution_count": 47,
     "metadata": {},
     "output_type": "execute_result"
    }
   ],
   "source": [
    "len(merged_df)"
   ],
   "metadata": {
    "collapsed": false,
    "ExecuteTime": {
     "end_time": "2023-08-10T13:50:17.715169700Z",
     "start_time": "2023-08-10T13:50:17.672506900Z"
    }
   }
  },
  {
   "cell_type": "code",
   "execution_count": 106,
   "outputs": [
    {
     "name": "stdout",
     "output_type": "stream",
     "text": [
      "data/Thermo_SRM_Pool_meta_data.parquet\n"
     ]
    },
    {
     "name": "stderr",
     "output_type": "stream",
     "text": [
      "C:\\Users\\micro\\AppData\\Local\\Temp\\ipykernel_31500\\365009680.py:2: FutureWarning: Indexing with multiple keys (implicitly converted to a tuple of keys) will be deprecated, use a list instead.\n",
      "  look_up_df = batches_parquet[file_list[0]].groupby(\"modified_sequence\")[\"precursor_charge\", \"precursor_intensity\"].agg(list).reset_index()\n"
     ]
    },
    {
     "data": {
      "text/plain": "70445"
     },
     "execution_count": 106,
     "metadata": {},
     "output_type": "execute_result"
    }
   ],
   "source": [
    "print(file_list[0])\n",
    "look_up_df = batches_parquet[file_list[0]].groupby(\"modified_sequence\")[\"precursor_charge\", \"precursor_intensity\"].agg(list).reset_index()\n",
    "len(look_up_df)"
   ],
   "metadata": {
    "collapsed": false,
    "ExecuteTime": {
     "end_time": "2023-08-10T14:14:31.578693500Z",
     "start_time": "2023-08-10T14:14:27.102991300Z"
    }
   }
  },
  {
   "cell_type": "markdown",
   "source": [
    "# Dataset preprocessing"
   ],
   "metadata": {
    "collapsed": false
   }
  },
  {
   "cell_type": "code",
   "execution_count": 95,
   "outputs": [
    {
     "data": {
      "text/plain": "2    4331294\n3    1523398\n4     115577\n5       2723\n1       1022\n6        143\nName: precursor_charge, dtype: int64"
     },
     "execution_count": 95,
     "metadata": {},
     "output_type": "execute_result"
    }
   ],
   "source": [
    "batches_parquet[file_list[0]]['precursor_charge'].value_counts()"
   ],
   "metadata": {
    "collapsed": false,
    "ExecuteTime": {
     "end_time": "2023-08-10T14:13:54.300400900Z",
     "start_time": "2023-08-10T14:13:54.203405200Z"
    }
   }
  },
  {
   "cell_type": "code",
   "execution_count": null,
   "outputs": [],
   "source": [],
   "metadata": {
    "collapsed": false
   }
  },
  {
   "cell_type": "code",
   "execution_count": 96,
   "outputs": [
    {
     "data": {
      "text/plain": "2    1401912\n3     787278\n4     220159\n5      34381\n1      26371\n6       4417\nName: precursor_charge, dtype: int64"
     },
     "execution_count": 96,
     "metadata": {},
     "output_type": "execute_result"
    }
   ],
   "source": [
    "batches_parquet[file_list[1]]['precursor_charge'].value_counts()"
   ],
   "metadata": {
    "collapsed": false,
    "ExecuteTime": {
     "end_time": "2023-08-10T14:13:54.301404600Z",
     "start_time": "2023-08-10T14:13:54.276718200Z"
    }
   }
  },
  {
   "cell_type": "code",
   "execution_count": 107,
   "outputs": [
    {
     "data": {
      "text/plain": "[0, 1, 0, 0, 0, 0]    41772\n[0, 1, 1, 0, 0, 0]    17634\n[0, 0, 1, 0, 0, 0]     6320\n[0, 0, 1, 1, 0, 0]     1631\n[0, 1, 1, 1, 0, 0]     1543\n[0, 0, 0, 1, 0, 0]      668\n[1, 1, 0, 0, 0, 0]      481\n[0, 0, 1, 1, 1, 0]       96\n[0, 1, 0, 1, 0, 0]       74\n[0, 0, 0, 0, 0, 1]       55\n[0, 0, 0, 0, 1, 0]       42\n[0, 0, 0, 1, 1, 0]       42\n[1, 0, 0, 0, 0, 0]       30\n[0, 1, 1, 1, 1, 0]       27\n[1, 1, 1, 0, 0, 0]       14\n[0, 0, 1, 0, 1, 0]        6\n[0, 0, 0, 0, 1, 1]        3\n[0, 0, 0, 1, 1, 1]        2\n[0, 0, 1, 0, 0, 1]        2\n[0, 0, 1, 1, 1, 1]        2\n[0, 1, 0, 1, 1, 0]        1\nName: multi_label_vector, dtype: int64"
     },
     "execution_count": 107,
     "metadata": {},
     "output_type": "execute_result"
    }
   ],
   "source": [
    "merged_df['multi_label_vector'].value_counts()"
   ],
   "metadata": {
    "collapsed": false,
    "ExecuteTime": {
     "end_time": "2023-08-10T14:14:32.218045800Z",
     "start_time": "2023-08-10T14:14:32.136541100Z"
    }
   }
  },
  {
   "cell_type": "code",
   "execution_count": null,
   "outputs": [],
   "source": [
    "# \"[0, 1, 0, 0, 0, 0]\",41772\n",
    "# \"[0, 1, 1, 0, 0, 0]\",17634\n",
    "# \"[0, 0, 1, 0, 0, 0]\",6320\n",
    "# \"[0, 0, 1, 1, 0, 0]\",1631\n",
    "# \"[0, 1, 1, 1, 0, 0]\",1543\n",
    "# \"[0, 0, 0, 1, 0, 0]\",668\n",
    "# \"[1, 1, 0, 0, 0, 0]\",481\n",
    "# \"[0, 0, 1, 1, 1, 0]\",96\n",
    "# \"[0, 1, 0, 1, 0, 0]\",74\n",
    "# \"[0, 0, 0, 0, 0, 1]\",55\n",
    "# \"[0, 0, 0, 0, 1, 0]\",42\n",
    "# \"[0, 0, 0, 1, 1, 0]\",42\n",
    "# \"[1, 0, 0, 0, 0, 0]\",30\n",
    "# \"[0, 1, 1, 1, 1, 0]\",27\n",
    "# \"[1, 1, 1, 0, 0, 0]\",14\n",
    "# \"[0, 0, 1, 0, 1, 0]\",6\n",
    "# \"[0, 0, 0, 0, 1, 1]\",3\n",
    "# \"[0, 0, 0, 1, 1, 1]\",2\n",
    "# \"[0, 0, 1, 0, 0, 1]\",2\n",
    "# \"[0, 0, 1, 1, 1, 1]\",2\n",
    "# \"[0, 1, 0, 1, 1, 0]\",1"
   ],
   "metadata": {
    "collapsed": false
   }
  },
  {
   "cell_type": "code",
   "execution_count": 150,
   "outputs": [
    {
     "data": {
      "text/plain": "              modified_sequence  \\\n0          AAAASAAEAGIATTGTEGER   \n1         AAAC[UNIMOD:4]FFEQPPR   \n2                    AAADFATHGK   \n3      AAADLMAYC[UNIMOD:4]EAHAK   \n4            AAADSDPNLDPLMNPHIR   \n...                         ...   \n70440           YYVYWYQQLPGTTPK   \n70441            YYYENSDQPIDLTK   \n70442             YYYGHYLDDYHTK   \n70443              YYYSDNFFDGQR   \n70444             YYYVPADFVEYEK   \n\n                                        precursor_charge  \\\n0      [2, 2, 2, 2, 2, 2, 2, 2, 2, 2, 3, 2, 2, 3, 3, ...   \n1      [2, 2, 2, 2, 2, 2, 2, 2, 2, 2, 2, 2, 2, 2, 2, ...   \n2      [2, 2, 2, 2, 2, 2, 2, 2, 2, 2, 2, 2, 2, 2, 2, ...   \n3       [2, 2, 2, 2, 2, 2, 2, 2, 2, 2, 2, 2, 2, 2, 2, 2]   \n4                                           [3, 3, 3, 3]   \n...                                                  ...   \n70440         [2, 2, 3, 3, 2, 2, 2, 2, 2, 2, 2, 2, 2, 2]   \n70441         [2, 2, 2, 2, 2, 2, 2, 2, 2, 2, 2, 2, 2, 2]   \n70442  [2, 2, 2, 2, 3, 3, 3, 3, 3, 3, 3, 3, 4, 3, 4, ...   \n70443  [2, 2, 2, 2, 2, 2, 2, 2, 2, 2, 2, 2, 2, 2, 2, ...   \n70444  [2, 2, 2, 2, 2, 2, 2, 2, 2, 2, 2, 2, 2, 2, 2, ...   \n\n                                     precursor_intensity  \\\n0      [165006700.0, 73345890.0, 16215490.0, 73345890...   \n1      [1118398000.0, 894762400.0, 48477320.0, 707426...   \n2      [950304000.0, 69180770.0, 52745530.0, 69180770...   \n3      [11874490.0, 11874490.0, 10890660.0, 14086870....   \n4         [58026060.0, 58026060.0, 8447297.0, 8447297.0]   \n...                                                  ...   \n70440  [40878970.0, 40878970.0, 19166080.0, 19166080....   \n70441  [18131530.0, 18131530.0, 6318048.0, 6318048.0,...   \n70442  [40230070.0, 11043740.0, 11043740.0, 40230070....   \n70443  [63541220.0, 63541220.0, 26260180.0, 26260180....   \n70444  [260337200.0, 501610000.0, 260337200.0, 501610...   \n\n                                     distributions  \\\n0                      {2: 695065.6, 3: 2633379.0}   \n1                                   {2: 7535501.0}   \n2                                    {2: 341550.9}   \n3                                  {2: 14086870.0}   \n4                                   {3: 8447297.0}   \n...                                            ...   \n70440                {2: 1714518.0, 3: 19166080.0}   \n70441                               {2: 5340847.0}   \n70442  {2: 40230070.0, 3: 9272804.0, 4: 7492594.0}   \n70443                               {2: 6453546.0}   \n70444                                {2: 548344.3}   \n\n                                        dist_percentages  multi_label_vector  \\\n0         {2: 0.2088259483123138, 3: 0.7911740516876862}  [0, 1, 1, 0, 0, 0]   \n1                                               {2: 1.0}  [0, 1, 0, 0, 0, 0]   \n2                                               {2: 1.0}  [0, 1, 0, 0, 0, 0]   \n3                                               {2: 1.0}  [0, 1, 0, 0, 0, 0]   \n4                                               {3: 1.0}  [0, 0, 1, 0, 0, 0]   \n...                                                  ...                 ...   \n70440    {2: 0.08211057940007274, 3: 0.9178894205999273}  [0, 1, 1, 0, 0, 0]   \n70441                                           {2: 1.0}  [0, 1, 0, 0, 0, 0]   \n70442  {2: 0.7058468227684348, 3: 0.16269370750670914...  [0, 1, 1, 1, 0, 0]   \n70443                                           {2: 1.0}  [0, 1, 0, 0, 0, 0]   \n70444                                           {2: 1.0}  [0, 1, 0, 0, 0, 0]   \n\n                                modified_sequence_vector  \n0      [100, 100, 100, 100, 1600, 100, 100, 400, 100,...  \n1      [100, 100, 100, 204, 500, 500, 400, 1400, 1300...  \n2      [100, 100, 100, 300, 500, 100, 1700, 700, 600,...  \n3      [100, 100, 100, 300, 1000, 1100, 100, 2000, 20...  \n4      [100, 100, 100, 300, 1600, 300, 1300, 1200, 10...  \n...                                                  ...  \n70440  [2000, 2000, 1800, 2000, 1900, 2000, 1400, 140...  \n70441  [2000, 2000, 2000, 400, 1200, 1600, 300, 1400,...  \n70442  [2000, 2000, 2000, 600, 700, 2000, 1000, 300, ...  \n70443  [2000, 2000, 2000, 1600, 300, 1200, 500, 500, ...  \n70444  [2000, 2000, 2000, 1800, 1300, 100, 300, 500, ...  \n\n[70445 rows x 7 columns]",
      "text/html": "<div>\n<style scoped>\n    .dataframe tbody tr th:only-of-type {\n        vertical-align: middle;\n    }\n\n    .dataframe tbody tr th {\n        vertical-align: top;\n    }\n\n    .dataframe thead th {\n        text-align: right;\n    }\n</style>\n<table border=\"1\" class=\"dataframe\">\n  <thead>\n    <tr style=\"text-align: right;\">\n      <th></th>\n      <th>modified_sequence</th>\n      <th>precursor_charge</th>\n      <th>precursor_intensity</th>\n      <th>distributions</th>\n      <th>dist_percentages</th>\n      <th>multi_label_vector</th>\n      <th>modified_sequence_vector</th>\n    </tr>\n  </thead>\n  <tbody>\n    <tr>\n      <th>0</th>\n      <td>AAAASAAEAGIATTGTEGER</td>\n      <td>[2, 2, 2, 2, 2, 2, 2, 2, 2, 2, 3, 2, 2, 3, 3, ...</td>\n      <td>[165006700.0, 73345890.0, 16215490.0, 73345890...</td>\n      <td>{2: 695065.6, 3: 2633379.0}</td>\n      <td>{2: 0.2088259483123138, 3: 0.7911740516876862}</td>\n      <td>[0, 1, 1, 0, 0, 0]</td>\n      <td>[100, 100, 100, 100, 1600, 100, 100, 400, 100,...</td>\n    </tr>\n    <tr>\n      <th>1</th>\n      <td>AAAC[UNIMOD:4]FFEQPPR</td>\n      <td>[2, 2, 2, 2, 2, 2, 2, 2, 2, 2, 2, 2, 2, 2, 2, ...</td>\n      <td>[1118398000.0, 894762400.0, 48477320.0, 707426...</td>\n      <td>{2: 7535501.0}</td>\n      <td>{2: 1.0}</td>\n      <td>[0, 1, 0, 0, 0, 0]</td>\n      <td>[100, 100, 100, 204, 500, 500, 400, 1400, 1300...</td>\n    </tr>\n    <tr>\n      <th>2</th>\n      <td>AAADFATHGK</td>\n      <td>[2, 2, 2, 2, 2, 2, 2, 2, 2, 2, 2, 2, 2, 2, 2, ...</td>\n      <td>[950304000.0, 69180770.0, 52745530.0, 69180770...</td>\n      <td>{2: 341550.9}</td>\n      <td>{2: 1.0}</td>\n      <td>[0, 1, 0, 0, 0, 0]</td>\n      <td>[100, 100, 100, 300, 500, 100, 1700, 700, 600,...</td>\n    </tr>\n    <tr>\n      <th>3</th>\n      <td>AAADLMAYC[UNIMOD:4]EAHAK</td>\n      <td>[2, 2, 2, 2, 2, 2, 2, 2, 2, 2, 2, 2, 2, 2, 2, 2]</td>\n      <td>[11874490.0, 11874490.0, 10890660.0, 14086870....</td>\n      <td>{2: 14086870.0}</td>\n      <td>{2: 1.0}</td>\n      <td>[0, 1, 0, 0, 0, 0]</td>\n      <td>[100, 100, 100, 300, 1000, 1100, 100, 2000, 20...</td>\n    </tr>\n    <tr>\n      <th>4</th>\n      <td>AAADSDPNLDPLMNPHIR</td>\n      <td>[3, 3, 3, 3]</td>\n      <td>[58026060.0, 58026060.0, 8447297.0, 8447297.0]</td>\n      <td>{3: 8447297.0}</td>\n      <td>{3: 1.0}</td>\n      <td>[0, 0, 1, 0, 0, 0]</td>\n      <td>[100, 100, 100, 300, 1600, 300, 1300, 1200, 10...</td>\n    </tr>\n    <tr>\n      <th>...</th>\n      <td>...</td>\n      <td>...</td>\n      <td>...</td>\n      <td>...</td>\n      <td>...</td>\n      <td>...</td>\n      <td>...</td>\n    </tr>\n    <tr>\n      <th>70440</th>\n      <td>YYVYWYQQLPGTTPK</td>\n      <td>[2, 2, 3, 3, 2, 2, 2, 2, 2, 2, 2, 2, 2, 2]</td>\n      <td>[40878970.0, 40878970.0, 19166080.0, 19166080....</td>\n      <td>{2: 1714518.0, 3: 19166080.0}</td>\n      <td>{2: 0.08211057940007274, 3: 0.9178894205999273}</td>\n      <td>[0, 1, 1, 0, 0, 0]</td>\n      <td>[2000, 2000, 1800, 2000, 1900, 2000, 1400, 140...</td>\n    </tr>\n    <tr>\n      <th>70441</th>\n      <td>YYYENSDQPIDLTK</td>\n      <td>[2, 2, 2, 2, 2, 2, 2, 2, 2, 2, 2, 2, 2, 2]</td>\n      <td>[18131530.0, 18131530.0, 6318048.0, 6318048.0,...</td>\n      <td>{2: 5340847.0}</td>\n      <td>{2: 1.0}</td>\n      <td>[0, 1, 0, 0, 0, 0]</td>\n      <td>[2000, 2000, 2000, 400, 1200, 1600, 300, 1400,...</td>\n    </tr>\n    <tr>\n      <th>70442</th>\n      <td>YYYGHYLDDYHTK</td>\n      <td>[2, 2, 2, 2, 3, 3, 3, 3, 3, 3, 3, 3, 4, 3, 4, ...</td>\n      <td>[40230070.0, 11043740.0, 11043740.0, 40230070....</td>\n      <td>{2: 40230070.0, 3: 9272804.0, 4: 7492594.0}</td>\n      <td>{2: 0.7058468227684348, 3: 0.16269370750670914...</td>\n      <td>[0, 1, 1, 1, 0, 0]</td>\n      <td>[2000, 2000, 2000, 600, 700, 2000, 1000, 300, ...</td>\n    </tr>\n    <tr>\n      <th>70443</th>\n      <td>YYYSDNFFDGQR</td>\n      <td>[2, 2, 2, 2, 2, 2, 2, 2, 2, 2, 2, 2, 2, 2, 2, ...</td>\n      <td>[63541220.0, 63541220.0, 26260180.0, 26260180....</td>\n      <td>{2: 6453546.0}</td>\n      <td>{2: 1.0}</td>\n      <td>[0, 1, 0, 0, 0, 0]</td>\n      <td>[2000, 2000, 2000, 1600, 300, 1200, 500, 500, ...</td>\n    </tr>\n    <tr>\n      <th>70444</th>\n      <td>YYYVPADFVEYEK</td>\n      <td>[2, 2, 2, 2, 2, 2, 2, 2, 2, 2, 2, 2, 2, 2, 2, ...</td>\n      <td>[260337200.0, 501610000.0, 260337200.0, 501610...</td>\n      <td>{2: 548344.3}</td>\n      <td>{2: 1.0}</td>\n      <td>[0, 1, 0, 0, 0, 0]</td>\n      <td>[2000, 2000, 2000, 1800, 1300, 100, 300, 500, ...</td>\n    </tr>\n  </tbody>\n</table>\n<p>70445 rows × 7 columns</p>\n</div>"
     },
     "execution_count": 150,
     "metadata": {},
     "output_type": "execute_result"
    }
   ],
   "source": [
    "value_counts = merged_df['multi_label_vector'].value_counts()\n",
    "# get value of value counts that are less than 1 and extract values\n",
    "item_to_erase = value_counts[value_counts <= 1].index.values[0]\n",
    "\n",
    "# search row with value in column\n",
    "merged_df.loc[merged_df['multi_label_vector']!=0]"
   ],
   "metadata": {
    "collapsed": false,
    "ExecuteTime": {
     "end_time": "2023-08-10T14:31:30.549611Z",
     "start_time": "2023-08-10T14:31:30.424081Z"
    }
   }
  },
  {
   "cell_type": "code",
   "execution_count": 144,
   "outputs": [
    {
     "ename": "ValueError",
     "evalue": "('Lengths must match to compare', (70445,), (6,))",
     "output_type": "error",
     "traceback": [
      "\u001B[1;31m---------------------------------------------------------------------------\u001B[0m",
      "\u001B[1;31mValueError\u001B[0m                                Traceback (most recent call last)",
      "Cell \u001B[1;32mIn[144], line 7\u001B[0m\n\u001B[0;32m      5\u001B[0m item_to_erase \u001B[38;5;241m=\u001B[39m value_counts[value_counts \u001B[38;5;241m<\u001B[39m\u001B[38;5;241m=\u001B[39m \u001B[38;5;241m1\u001B[39m]\u001B[38;5;241m.\u001B[39mindex\u001B[38;5;241m.\u001B[39mvalues[\u001B[38;5;241m0\u001B[39m]\n\u001B[0;32m      6\u001B[0m \u001B[38;5;66;03m# erase row if cell in column multi_label_vector is not equal to item_to_erase\u001B[39;00m\n\u001B[1;32m----> 7\u001B[0m merged_df \u001B[38;5;241m=\u001B[39m merged_df[\u001B[43mmerged_df\u001B[49m\u001B[43m[\u001B[49m\u001B[38;5;124;43m'\u001B[39;49m\u001B[38;5;124;43mmulti_label_vector\u001B[39;49m\u001B[38;5;124;43m'\u001B[39;49m\u001B[43m]\u001B[49m\u001B[43m \u001B[49m\u001B[38;5;241;43m!=\u001B[39;49m\u001B[43m \u001B[49m\u001B[43mitem_to_erase\u001B[49m]\n\u001B[0;32m      8\u001B[0m \u001B[38;5;66;03m#merged_df.drop(merged_df.loc[merged_df['multi_label_vector']==item_to_erase].index, inplace=True)\u001B[39;00m\n",
      "File \u001B[1;32m~\\OneDrive\\Dokumente\\GitHub\\BachelorThesis\\venv\\Lib\\site-packages\\pandas\\core\\ops\\common.py:72\u001B[0m, in \u001B[0;36m_unpack_zerodim_and_defer.<locals>.new_method\u001B[1;34m(self, other)\u001B[0m\n\u001B[0;32m     68\u001B[0m             \u001B[38;5;28;01mreturn\u001B[39;00m \u001B[38;5;28mNotImplemented\u001B[39m\n\u001B[0;32m     70\u001B[0m other \u001B[38;5;241m=\u001B[39m item_from_zerodim(other)\n\u001B[1;32m---> 72\u001B[0m \u001B[38;5;28;01mreturn\u001B[39;00m \u001B[43mmethod\u001B[49m\u001B[43m(\u001B[49m\u001B[38;5;28;43mself\u001B[39;49m\u001B[43m,\u001B[49m\u001B[43m \u001B[49m\u001B[43mother\u001B[49m\u001B[43m)\u001B[49m\n",
      "File \u001B[1;32m~\\OneDrive\\Dokumente\\GitHub\\BachelorThesis\\venv\\Lib\\site-packages\\pandas\\core\\arraylike.py:46\u001B[0m, in \u001B[0;36mOpsMixin.__ne__\u001B[1;34m(self, other)\u001B[0m\n\u001B[0;32m     44\u001B[0m \u001B[38;5;129m@unpack_zerodim_and_defer\u001B[39m(\u001B[38;5;124m\"\u001B[39m\u001B[38;5;124m__ne__\u001B[39m\u001B[38;5;124m\"\u001B[39m)\n\u001B[0;32m     45\u001B[0m \u001B[38;5;28;01mdef\u001B[39;00m \u001B[38;5;21m__ne__\u001B[39m(\u001B[38;5;28mself\u001B[39m, other):\n\u001B[1;32m---> 46\u001B[0m     \u001B[38;5;28;01mreturn\u001B[39;00m \u001B[38;5;28;43mself\u001B[39;49m\u001B[38;5;241;43m.\u001B[39;49m\u001B[43m_cmp_method\u001B[49m\u001B[43m(\u001B[49m\u001B[43mother\u001B[49m\u001B[43m,\u001B[49m\u001B[43m \u001B[49m\u001B[43moperator\u001B[49m\u001B[38;5;241;43m.\u001B[39;49m\u001B[43mne\u001B[49m\u001B[43m)\u001B[49m\n",
      "File \u001B[1;32m~\\OneDrive\\Dokumente\\GitHub\\BachelorThesis\\venv\\Lib\\site-packages\\pandas\\core\\series.py:6243\u001B[0m, in \u001B[0;36mSeries._cmp_method\u001B[1;34m(self, other, op)\u001B[0m\n\u001B[0;32m   6240\u001B[0m rvalues \u001B[38;5;241m=\u001B[39m extract_array(other, extract_numpy\u001B[38;5;241m=\u001B[39m\u001B[38;5;28;01mTrue\u001B[39;00m, extract_range\u001B[38;5;241m=\u001B[39m\u001B[38;5;28;01mTrue\u001B[39;00m)\n\u001B[0;32m   6242\u001B[0m \u001B[38;5;28;01mwith\u001B[39;00m np\u001B[38;5;241m.\u001B[39merrstate(\u001B[38;5;28mall\u001B[39m\u001B[38;5;241m=\u001B[39m\u001B[38;5;124m\"\u001B[39m\u001B[38;5;124mignore\u001B[39m\u001B[38;5;124m\"\u001B[39m):\n\u001B[1;32m-> 6243\u001B[0m     res_values \u001B[38;5;241m=\u001B[39m \u001B[43mops\u001B[49m\u001B[38;5;241;43m.\u001B[39;49m\u001B[43mcomparison_op\u001B[49m\u001B[43m(\u001B[49m\u001B[43mlvalues\u001B[49m\u001B[43m,\u001B[49m\u001B[43m \u001B[49m\u001B[43mrvalues\u001B[49m\u001B[43m,\u001B[49m\u001B[43m \u001B[49m\u001B[43mop\u001B[49m\u001B[43m)\u001B[49m\n\u001B[0;32m   6245\u001B[0m \u001B[38;5;28;01mreturn\u001B[39;00m \u001B[38;5;28mself\u001B[39m\u001B[38;5;241m.\u001B[39m_construct_result(res_values, name\u001B[38;5;241m=\u001B[39mres_name)\n",
      "File \u001B[1;32m~\\OneDrive\\Dokumente\\GitHub\\BachelorThesis\\venv\\Lib\\site-packages\\pandas\\core\\ops\\array_ops.py:264\u001B[0m, in \u001B[0;36mcomparison_op\u001B[1;34m(left, right, op)\u001B[0m\n\u001B[0;32m    259\u001B[0m \u001B[38;5;28;01mif\u001B[39;00m \u001B[38;5;28misinstance\u001B[39m(rvalues, (np\u001B[38;5;241m.\u001B[39mndarray, ABCExtensionArray)):\n\u001B[0;32m    260\u001B[0m     \u001B[38;5;66;03m# TODO: make this treatment consistent across ops and classes.\u001B[39;00m\n\u001B[0;32m    261\u001B[0m     \u001B[38;5;66;03m#  We are not catching all listlikes here (e.g. frozenset, tuple)\u001B[39;00m\n\u001B[0;32m    262\u001B[0m     \u001B[38;5;66;03m#  The ambiguous case is object-dtype.  See GH#27803\u001B[39;00m\n\u001B[0;32m    263\u001B[0m     \u001B[38;5;28;01mif\u001B[39;00m \u001B[38;5;28mlen\u001B[39m(lvalues) \u001B[38;5;241m!=\u001B[39m \u001B[38;5;28mlen\u001B[39m(rvalues):\n\u001B[1;32m--> 264\u001B[0m         \u001B[38;5;28;01mraise\u001B[39;00m \u001B[38;5;167;01mValueError\u001B[39;00m(\n\u001B[0;32m    265\u001B[0m             \u001B[38;5;124m\"\u001B[39m\u001B[38;5;124mLengths must match to compare\u001B[39m\u001B[38;5;124m\"\u001B[39m, lvalues\u001B[38;5;241m.\u001B[39mshape, rvalues\u001B[38;5;241m.\u001B[39mshape\n\u001B[0;32m    266\u001B[0m         )\n\u001B[0;32m    268\u001B[0m \u001B[38;5;28;01mif\u001B[39;00m should_extension_dispatch(lvalues, rvalues) \u001B[38;5;129;01mor\u001B[39;00m (\n\u001B[0;32m    269\u001B[0m     (\u001B[38;5;28misinstance\u001B[39m(rvalues, (Timedelta, BaseOffset, Timestamp)) \u001B[38;5;129;01mor\u001B[39;00m right \u001B[38;5;129;01mis\u001B[39;00m NaT)\n\u001B[0;32m    270\u001B[0m     \u001B[38;5;129;01mand\u001B[39;00m \u001B[38;5;129;01mnot\u001B[39;00m is_object_dtype(lvalues\u001B[38;5;241m.\u001B[39mdtype)\n\u001B[0;32m    271\u001B[0m ):\n\u001B[0;32m    272\u001B[0m     \u001B[38;5;66;03m# Call the method on lvalues\u001B[39;00m\n\u001B[0;32m    273\u001B[0m     res_values \u001B[38;5;241m=\u001B[39m op(lvalues, rvalues)\n",
      "\u001B[1;31mValueError\u001B[0m: ('Lengths must match to compare', (70445,), (6,))"
     ]
    }
   ],
   "source": [
    "# drop row if multi_label_vector is of \"[0, 1, 0, 1, 1, 0]\"\n",
    "\n",
    "value_counts = merged_df['multi_label_vector'].value_counts()\n",
    "# get value of value counts that are less than 1 and extract values\n",
    "item_to_erase = value_counts[value_counts <= 1].index.values[0]\n",
    "# erase row if cell in column multi_label_vector is not equal to item_to_erase\n",
    "merged_df = merged_df[merged_df['multi_label_vector'] != item_to_erase]\n",
    "#merged_df.drop(merged_df.loc[merged_df['multi_label_vector']==item_to_erase].index, inplace=True)\n",
    "\n"
   ],
   "metadata": {
    "collapsed": false,
    "ExecuteTime": {
     "end_time": "2023-08-10T14:30:12.653430700Z",
     "start_time": "2023-08-10T14:30:12.551310400Z"
    }
   }
  },
  {
   "cell_type": "code",
   "execution_count": 140,
   "outputs": [
    {
     "data": {
      "text/plain": "0        [0, 1, 1, 0, 0, 0]\n1        [0, 1, 0, 0, 0, 0]\n2        [0, 1, 0, 0, 0, 0]\n3        [0, 1, 0, 0, 0, 0]\n4        [0, 0, 1, 0, 0, 0]\n                ...        \n70440    [0, 1, 1, 0, 0, 0]\n70441    [0, 1, 0, 0, 0, 0]\n70442    [0, 1, 1, 1, 0, 0]\n70443    [0, 1, 0, 0, 0, 0]\n70444    [0, 1, 0, 0, 0, 0]\nName: multi_label_vector, Length: 70445, dtype: object"
     },
     "execution_count": 140,
     "metadata": {},
     "output_type": "execute_result"
    }
   ],
   "source": [
    "merged_df['multi_label_vector']"
   ],
   "metadata": {
    "collapsed": false,
    "ExecuteTime": {
     "end_time": "2023-08-10T14:28:08.949904100Z",
     "start_time": "2023-08-10T14:28:08.898617700Z"
    }
   }
  },
  {
   "cell_type": "code",
   "execution_count": null,
   "outputs": [],
   "source": [
    "\n"
   ],
   "metadata": {
    "collapsed": false
   }
  },
  {
   "cell_type": "code",
   "execution_count": 83,
   "outputs": [
    {
     "ename": "ValueError",
     "evalue": "Input contains NaN",
     "output_type": "error",
     "traceback": [
      "\u001B[1;31m---------------------------------------------------------------------------\u001B[0m",
      "\u001B[1;31mValueError\u001B[0m                                Traceback (most recent call last)",
      "Cell \u001B[1;32mIn[83], line 8\u001B[0m\n\u001B[0;32m      5\u001B[0m sss \u001B[38;5;241m=\u001B[39m StratifiedShuffleSplit(n_splits\u001B[38;5;241m=\u001B[39m\u001B[38;5;241m1\u001B[39m, test_size\u001B[38;5;241m=\u001B[39m\u001B[38;5;241m0.2\u001B[39m, random_state\u001B[38;5;241m=\u001B[39m\u001B[38;5;241m42\u001B[39m)\n\u001B[0;32m      7\u001B[0m \u001B[38;5;66;03m# Perform the split\u001B[39;00m\n\u001B[1;32m----> 8\u001B[0m train_indicies, val_indicies \u001B[38;5;241m=\u001B[39m \u001B[38;5;28mnext\u001B[39m(\u001B[43msss\u001B[49m\u001B[38;5;241;43m.\u001B[39;49m\u001B[43msplit\u001B[49m\u001B[43m(\u001B[49m\u001B[43mmain_ds\u001B[49m\u001B[43m,\u001B[49m\u001B[43m \u001B[49m\u001B[43mmain_ds_labels\u001B[49m\u001B[43m)\u001B[49m)\n\u001B[0;32m      9\u001B[0m train_ds, train_ds_labels \u001B[38;5;241m=\u001B[39m main_ds[train_indicies], main_ds_labels[train_indicies]\n\u001B[0;32m     10\u001B[0m val_ds, val_ds_labels \u001B[38;5;241m=\u001B[39m main_ds[val_indicies], main_ds_labels[val_indicies]\n",
      "File \u001B[1;32m~\\OneDrive\\Dokumente\\GitHub\\BachelorThesis\\venv\\Lib\\site-packages\\sklearn\\model_selection\\_split.py:2160\u001B[0m, in \u001B[0;36mStratifiedShuffleSplit.split\u001B[1;34m(self, X, y, groups)\u001B[0m\n\u001B[0;32m   2126\u001B[0m \u001B[38;5;28;01mdef\u001B[39;00m \u001B[38;5;21msplit\u001B[39m(\u001B[38;5;28mself\u001B[39m, X, y, groups\u001B[38;5;241m=\u001B[39m\u001B[38;5;28;01mNone\u001B[39;00m):\n\u001B[0;32m   2127\u001B[0m \u001B[38;5;250m    \u001B[39m\u001B[38;5;124;03m\"\"\"Generate indices to split data into training and test set.\u001B[39;00m\n\u001B[0;32m   2128\u001B[0m \n\u001B[0;32m   2129\u001B[0m \u001B[38;5;124;03m    Parameters\u001B[39;00m\n\u001B[1;32m   (...)\u001B[0m\n\u001B[0;32m   2158\u001B[0m \u001B[38;5;124;03m    to an integer.\u001B[39;00m\n\u001B[0;32m   2159\u001B[0m \u001B[38;5;124;03m    \"\"\"\u001B[39;00m\n\u001B[1;32m-> 2160\u001B[0m     y \u001B[38;5;241m=\u001B[39m \u001B[43mcheck_array\u001B[49m\u001B[43m(\u001B[49m\u001B[43my\u001B[49m\u001B[43m,\u001B[49m\u001B[43m \u001B[49m\u001B[43minput_name\u001B[49m\u001B[38;5;241;43m=\u001B[39;49m\u001B[38;5;124;43m\"\u001B[39;49m\u001B[38;5;124;43my\u001B[39;49m\u001B[38;5;124;43m\"\u001B[39;49m\u001B[43m,\u001B[49m\u001B[43m \u001B[49m\u001B[43mensure_2d\u001B[49m\u001B[38;5;241;43m=\u001B[39;49m\u001B[38;5;28;43;01mFalse\u001B[39;49;00m\u001B[43m,\u001B[49m\u001B[43m \u001B[49m\u001B[43mdtype\u001B[49m\u001B[38;5;241;43m=\u001B[39;49m\u001B[38;5;28;43;01mNone\u001B[39;49;00m\u001B[43m)\u001B[49m\n\u001B[0;32m   2161\u001B[0m     \u001B[38;5;28;01mreturn\u001B[39;00m \u001B[38;5;28msuper\u001B[39m()\u001B[38;5;241m.\u001B[39msplit(X, y, groups)\n",
      "File \u001B[1;32m~\\OneDrive\\Dokumente\\GitHub\\BachelorThesis\\venv\\Lib\\site-packages\\sklearn\\utils\\validation.py:921\u001B[0m, in \u001B[0;36mcheck_array\u001B[1;34m(array, accept_sparse, accept_large_sparse, dtype, order, copy, force_all_finite, ensure_2d, allow_nd, ensure_min_samples, ensure_min_features, estimator, input_name)\u001B[0m\n\u001B[0;32m    915\u001B[0m         \u001B[38;5;28;01mraise\u001B[39;00m \u001B[38;5;167;01mValueError\u001B[39;00m(\n\u001B[0;32m    916\u001B[0m             \u001B[38;5;124m\"\u001B[39m\u001B[38;5;124mFound array with dim \u001B[39m\u001B[38;5;132;01m%d\u001B[39;00m\u001B[38;5;124m. \u001B[39m\u001B[38;5;132;01m%s\u001B[39;00m\u001B[38;5;124m expected <= 2.\u001B[39m\u001B[38;5;124m\"\u001B[39m\n\u001B[0;32m    917\u001B[0m             \u001B[38;5;241m%\u001B[39m (array\u001B[38;5;241m.\u001B[39mndim, estimator_name)\n\u001B[0;32m    918\u001B[0m         )\n\u001B[0;32m    920\u001B[0m     \u001B[38;5;28;01mif\u001B[39;00m force_all_finite:\n\u001B[1;32m--> 921\u001B[0m         \u001B[43m_assert_all_finite\u001B[49m\u001B[43m(\u001B[49m\n\u001B[0;32m    922\u001B[0m \u001B[43m            \u001B[49m\u001B[43marray\u001B[49m\u001B[43m,\u001B[49m\n\u001B[0;32m    923\u001B[0m \u001B[43m            \u001B[49m\u001B[43minput_name\u001B[49m\u001B[38;5;241;43m=\u001B[39;49m\u001B[43minput_name\u001B[49m\u001B[43m,\u001B[49m\n\u001B[0;32m    924\u001B[0m \u001B[43m            \u001B[49m\u001B[43mestimator_name\u001B[49m\u001B[38;5;241;43m=\u001B[39;49m\u001B[43mestimator_name\u001B[49m\u001B[43m,\u001B[49m\n\u001B[0;32m    925\u001B[0m \u001B[43m            \u001B[49m\u001B[43mallow_nan\u001B[49m\u001B[38;5;241;43m=\u001B[39;49m\u001B[43mforce_all_finite\u001B[49m\u001B[43m \u001B[49m\u001B[38;5;241;43m==\u001B[39;49m\u001B[43m \u001B[49m\u001B[38;5;124;43m\"\u001B[39;49m\u001B[38;5;124;43mallow-nan\u001B[39;49m\u001B[38;5;124;43m\"\u001B[39;49m\u001B[43m,\u001B[49m\n\u001B[0;32m    926\u001B[0m \u001B[43m        \u001B[49m\u001B[43m)\u001B[49m\n\u001B[0;32m    928\u001B[0m \u001B[38;5;28;01mif\u001B[39;00m ensure_min_samples \u001B[38;5;241m>\u001B[39m \u001B[38;5;241m0\u001B[39m:\n\u001B[0;32m    929\u001B[0m     n_samples \u001B[38;5;241m=\u001B[39m _num_samples(array)\n",
      "File \u001B[1;32m~\\OneDrive\\Dokumente\\GitHub\\BachelorThesis\\venv\\Lib\\site-packages\\sklearn\\utils\\validation.py:111\u001B[0m, in \u001B[0;36m_assert_all_finite\u001B[1;34m(X, allow_nan, msg_dtype, estimator_name, input_name)\u001B[0m\n\u001B[0;32m    109\u001B[0m \u001B[38;5;28;01mif\u001B[39;00m X\u001B[38;5;241m.\u001B[39mdtype \u001B[38;5;241m==\u001B[39m np\u001B[38;5;241m.\u001B[39mdtype(\u001B[38;5;124m\"\u001B[39m\u001B[38;5;124mobject\u001B[39m\u001B[38;5;124m\"\u001B[39m) \u001B[38;5;129;01mand\u001B[39;00m \u001B[38;5;129;01mnot\u001B[39;00m allow_nan:\n\u001B[0;32m    110\u001B[0m     \u001B[38;5;28;01mif\u001B[39;00m _object_dtype_isnan(X)\u001B[38;5;241m.\u001B[39many():\n\u001B[1;32m--> 111\u001B[0m         \u001B[38;5;28;01mraise\u001B[39;00m \u001B[38;5;167;01mValueError\u001B[39;00m(\u001B[38;5;124m\"\u001B[39m\u001B[38;5;124mInput contains NaN\u001B[39m\u001B[38;5;124m\"\u001B[39m)\n\u001B[0;32m    113\u001B[0m \u001B[38;5;66;03m# We need only consider float arrays, hence can early return for all else.\u001B[39;00m\n\u001B[0;32m    114\u001B[0m \u001B[38;5;28;01mif\u001B[39;00m X\u001B[38;5;241m.\u001B[39mdtype\u001B[38;5;241m.\u001B[39mkind \u001B[38;5;129;01mnot\u001B[39;00m \u001B[38;5;129;01min\u001B[39;00m \u001B[38;5;124m\"\u001B[39m\u001B[38;5;124mfc\u001B[39m\u001B[38;5;124m\"\u001B[39m:\n",
      "\u001B[1;31mValueError\u001B[0m: Input contains NaN"
     ]
    }
   ],
   "source": [
    "main_ds = np.array(merged_df[\"modified_sequence_vector\"]) # to list\n",
    "main_ds_labels = np.array(merged_df['multi_label_vector'])\n",
    "\n",
    "# Create an instance of StratifiedShuffleSplit\n",
    "sss = StratifiedShuffleSplit(n_splits=1, test_size=0.2, random_state=42)\n",
    "\n",
    "# Perform the split\n",
    "train_indicies, val_indicies = next(sss.split(main_ds, main_ds_labels))\n",
    "train_ds, train_ds_labels = main_ds[train_indicies], main_ds_labels[train_indicies]\n",
    "val_ds, val_ds_labels = main_ds[val_indicies], main_ds_labels[val_indicies]\n",
    "\n",
    "charges = [1,2,3,4,5,6] # TODO SELECT CLASSES\n",
    "num_classes = len(charges)\n"
   ],
   "metadata": {
    "collapsed": false,
    "ExecuteTime": {
     "end_time": "2023-08-10T14:12:37.215642500Z",
     "start_time": "2023-08-10T14:12:37.107570Z"
    }
   }
  },
  {
   "cell_type": "markdown",
   "source": [
    "### Model"
   ],
   "metadata": {
    "collapsed": false
   }
  },
  {
   "cell_type": "code",
   "execution_count": 19,
   "outputs": [],
   "source": [
    "train_ds = [np.reshape(np.array(x), (1, 50, 1)) for x in train_ds]\n",
    "val_ds = [np.reshape(np.array(x), (1, 50, 1)) for x in val_ds]"
   ],
   "metadata": {
    "collapsed": false,
    "ExecuteTime": {
     "end_time": "2023-08-09T14:25:25.834969300Z",
     "start_time": "2023-08-09T14:25:25.472483900Z"
    }
   }
  },
  {
   "cell_type": "code",
   "execution_count": 19,
   "outputs": [
    {
     "data": {
      "text/plain": "array([[[ 300],\n        [2000],\n        [ 800],\n        [1200],\n        [ 600],\n        [1600],\n        [1000],\n        [1000],\n        [ 400],\n        [ 100],\n        [1000],\n        [ 900],\n        [   0],\n        [   0],\n        [   0],\n        [   0],\n        [   0],\n        [   0],\n        [   0],\n        [   0],\n        [   0],\n        [   0],\n        [   0],\n        [   0],\n        [   0],\n        [   0],\n        [   0],\n        [   0],\n        [   0],\n        [   0],\n        [   0],\n        [   0],\n        [   0],\n        [   0],\n        [   0],\n        [   0],\n        [   0],\n        [   0],\n        [   0],\n        [   0],\n        [   0],\n        [   0],\n        [   0],\n        [   0],\n        [   0],\n        [   0],\n        [   0],\n        [   0],\n        [   0],\n        [   0]]])"
     },
     "execution_count": 19,
     "metadata": {},
     "output_type": "execute_result"
    }
   ],
   "source": [
    "train_ds[0]"
   ],
   "metadata": {
    "collapsed": false,
    "ExecuteTime": {
     "end_time": "2023-08-03T10:54:26.687867200Z",
     "start_time": "2023-08-03T10:54:26.596410Z"
    }
   }
  },
  {
   "cell_type": "code",
   "execution_count": 20,
   "outputs": [
    {
     "data": {
      "text/plain": "<Figure size 640x480 with 1 Axes>",
      "image/png": "[encoded data removed]"
     },
     "metadata": {},
     "output_type": "display_data"
    },
    {
     "data": {
      "text/plain": "<Figure size 640x480 with 1 Axes>",
      "image/png": "[encoded data removed]"
     },
     "metadata": {},
     "output_type": "display_data"
    },
    {
     "data": {
      "text/plain": "<Figure size 640x480 with 1 Axes>",
      "image/png": "[encoded data removed]"
     },
     "metadata": {},
     "output_type": "display_data"
    },
    {
     "data": {
      "text/plain": "<Figure size 640x480 with 1 Axes>",
      "image/png": "[encoded data removed]"
     },
     "metadata": {},
     "output_type": "display_data"
    },
    {
     "data": {
      "text/plain": "<Figure size 640x480 with 1 Axes>",
      "image/png": "[encoded data removed]"
     },
     "metadata": {},
     "output_type": "display_data"
    }
   ],
   "source": [
    "from matplotlib import pyplot as plt\n",
    "for i in range(5):\n",
    "    plt.imshow(train_ds[i], interpolation='nearest', cmap='seismic') # TODO CUSTOM COLORS FOR AA\n",
    "    plt.show()"
   ],
   "metadata": {
    "collapsed": false,
    "ExecuteTime": {
     "end_time": "2023-08-03T10:54:28.624086500Z",
     "start_time": "2023-08-03T10:54:28.113254600Z"
    }
   }
  },
  {
   "cell_type": "code",
   "execution_count": 21,
   "outputs": [],
   "source": [
    "train_ds = tf.convert_to_tensor(train_ds)\n",
    "val_ds = tf.convert_to_tensor(val_ds)"
   ],
   "metadata": {
    "collapsed": false,
    "ExecuteTime": {
     "end_time": "2023-08-03T10:54:33.397992100Z",
     "start_time": "2023-08-03T10:54:30.376970800Z"
    }
   }
  },
  {
   "cell_type": "code",
   "execution_count": 22,
   "outputs": [],
   "source": [
    "train_ds_labels = [np.array(x) for x in train_ds_labels]\n",
    "val_ds_labels = [np.array(x) for x in val_ds_labels]"
   ],
   "metadata": {
    "collapsed": false,
    "ExecuteTime": {
     "end_time": "2023-08-03T10:54:34.617610600Z",
     "start_time": "2023-08-03T10:54:34.520964400Z"
    }
   }
  },
  {
   "cell_type": "code",
   "execution_count": 23,
   "outputs": [],
   "source": [
    "train_ds_labels = tf.convert_to_tensor(train_ds_labels)\n",
    "val_ds_labels = tf.convert_to_tensor(val_ds_labels)"
   ],
   "metadata": {
    "collapsed": false,
    "ExecuteTime": {
     "end_time": "2023-08-03T10:54:35.722328700Z",
     "start_time": "2023-08-03T10:54:35.622511Z"
    }
   }
  },
  {
   "cell_type": "code",
   "execution_count": 26,
   "outputs": [],
   "source": [
    "from keras import Sequential, Model\n",
    "from keras.layers import Embedding, Flatten, Dense, Conv1D, Conv2D, MaxPooling1D, MaxPooling2D, Input, concatenate, Rescaling\n",
    "# define two sets of inputs\n",
    "inputA = Input(shape=train_ds.shape[1:])\n",
    "# the first branch operates on the first input\n",
    "x = Model(inputs=inputA, outputs=inputA)\n",
    "# the second branch operates on the second input\n",
    "y = Rescaling(scale=1./100)(inputA) # for dictionary of 2000 words (X = 0, aa 1-20 in 100 steps)\n",
    "#y = Embedding(input_dim=2000, output_dim=3, input_length=50)(inputB)\n",
    "y = Conv2D(filters=128, kernel_size=(1,3), strides=1, activation=\"relu\", padding='same')(y)\n",
    "#y = MaxPooling2D(pool_size=(1,2), padding='same')(y)\n",
    "#y = Conv2D(filters=128, kernel_size=(1,3), strides=1, activation=\"relu\", padding='same')(y)\n",
    "#y = MaxPooling2D(pool_size=(1,2), padding='same')(y)\n",
    "y = Flatten()(y)\n",
    "y = Dense(210, activation=\"relu\")(y)\n",
    "# combine the output of the two branches\n",
    "#z = Flatten()(combined)\n",
    "z = Dense(num_classes, activation=\"softmax\")(y)\n",
    "# our model will accept the inputs of the two branches and\n",
    "# then output a single value\n",
    "model = Model(inputs=[x.input], outputs=z)"
   ],
   "metadata": {
    "collapsed": false,
    "ExecuteTime": {
     "end_time": "2023-08-03T10:55:03.482338Z",
     "start_time": "2023-08-03T10:55:03.324788600Z"
    }
   }
  },
  {
   "cell_type": "code",
   "execution_count": 27,
   "outputs": [
    {
     "name": "stdout",
     "output_type": "stream",
     "text": [
      "Model: \"model_3\"\n",
      "_________________________________________________________________\n",
      " Layer (type)                Output Shape              Param #   \n",
      "=================================================================\n",
      " input_2 (InputLayer)        [(None, 1, 50, 1)]        0         \n",
      "                                                                 \n",
      " rescaling_1 (Rescaling)     (None, 1, 50, 1)          0         \n",
      "                                                                 \n",
      " conv2d_1 (Conv2D)           (None, 1, 50, 128)        512       \n",
      "                                                                 \n",
      " flatten_1 (Flatten)         (None, 6400)              0         \n",
      "                                                                 \n",
      " dense_1 (Dense)             (None, 210)               1344210   \n",
      "                                                                 \n",
      " dense_2 (Dense)             (None, 6)                 1266      \n",
      "                                                                 \n",
      "=================================================================\n",
      "Total params: 1,345,988\n",
      "Trainable params: 1,345,988\n",
      "Non-trainable params: 0\n",
      "_________________________________________________________________\n"
     ]
    }
   ],
   "source": [
    "model.summary()"
   ],
   "metadata": {
    "collapsed": false,
    "ExecuteTime": {
     "end_time": "2023-08-03T10:55:05.117111800Z",
     "start_time": "2023-08-03T10:55:05.050017100Z"
    }
   }
  },
  {
   "cell_type": "code",
   "execution_count": 28,
   "outputs": [
    {
     "data": {
      "image/png": "[encoded data removed]",
      "text/plain": "<IPython.core.display.Image object>"
     },
     "execution_count": 28,
     "metadata": {},
     "output_type": "execute_result"
    }
   ],
   "source": [
    "# plot model\n",
    "tf.keras.utils.plot_model(model, show_shapes=True, show_layer_names=True)"
   ],
   "metadata": {
    "collapsed": false,
    "ExecuteTime": {
     "end_time": "2023-08-03T10:55:09.316267500Z",
     "start_time": "2023-08-03T10:55:09.188721800Z"
    }
   }
  },
  {
   "cell_type": "code",
   "execution_count": 29,
   "outputs": [],
   "source": [
    "# Compile the model\n",
    "model.compile(loss=tf.keras.losses.CategoricalCrossentropy(), optimizer=keras.optimizers.Adam(learning_rate=0.0001), metrics=['accuracy'])"
   ],
   "metadata": {
    "collapsed": false,
    "ExecuteTime": {
     "end_time": "2023-08-03T10:55:11.499477300Z",
     "start_time": "2023-08-03T10:55:11.439394800Z"
    }
   }
  },
  {
   "cell_type": "code",
   "execution_count": 30,
   "outputs": [],
   "source": [
    "checkpoint_callback = ModelCheckpoint('precursor_charge_prediction_model_v1/cce_wo7_allSequences.h5', monitor='val_accuracy', save_best_only=True, mode='max')\n",
    "\n",
    "# Define early stopping\n",
    "early_stopping = tf.keras.callbacks.EarlyStopping(monitor='val_loss', patience=5)"
   ],
   "metadata": {
    "collapsed": false,
    "ExecuteTime": {
     "end_time": "2023-08-03T10:55:12.341240300Z",
     "start_time": "2023-08-03T10:55:12.294942600Z"
    }
   }
  },
  {
   "cell_type": "code",
   "execution_count": null,
   "outputs": [],
   "source": [
    "#steps_per_epoch = train_ds_b.shape[0] // 256"
   ],
   "metadata": {
    "collapsed": false,
    "ExecuteTime": {
     "start_time": "2023-08-03T08:42:25.012127800Z"
    }
   }
  },
  {
   "cell_type": "code",
   "execution_count": null,
   "outputs": [],
   "source": [
    "# Train the model\n",
    "# X_train, X_test, y_train, y_test\n",
    "history = model.fit(train_ds, train_ds_labels, epochs=120, batch_size=4096, validation_data=(val_ds, val_ds_labels), callbacks=[checkpoint_callback, early_stopping, WandbCallback()]) #WandbCallback()"
   ],
   "metadata": {
    "collapsed": false
   }
  },
  {
   "cell_type": "code",
   "execution_count": null,
   "outputs": [],
   "source": [
    "# Access the loss, validation loss, and accuracy from the history object\n",
    "loss = history.history['loss']\n",
    "val_loss = history.history['val_loss']\n",
    "accuracy = history.history['accuracy']\n",
    "val_accuracy = history.history['val_accuracy']\n",
    "\n",
    "# Plot the loss, validation loss, and accuracy curves\n",
    "epochs = range(1, len(loss) + 1)\n",
    "\n",
    "# Create subplots\n",
    "fig2, (ax1, ax2) = plt.subplots(1, 2, figsize=(12, 6))\n",
    "\n",
    "# Plot loss and validation loss\n",
    "ax1.plot(epochs, loss, 'b', label='Training Loss')\n",
    "ax1.plot(epochs, val_loss, 'r', label='Validation Loss')\n",
    "ax1.set_title('Training and Validation Loss')\n",
    "ax1.set_xlabel('Epochs')\n",
    "ax1.set_ylabel('Loss')\n",
    "ax1.legend()\n",
    "\n",
    "# Plot accuracy and validation accuracy\n",
    "ax2.plot(epochs, accuracy, 'b', label='Training Accuracy')\n",
    "ax2.plot(epochs, val_accuracy, 'r', label='Validation Accuracy')\n",
    "ax2.set_title('Training and Validation Accuracy')\n",
    "ax2.set_xlabel('Epochs')\n",
    "ax2.set_ylabel('Accuracy')\n",
    "ax2.legend()\n",
    "\n",
    "# Adjust spacing between subplots\n",
    "plt.tight_layout()\n",
    "\n",
    "# Show the plots\n",
    "plt.show()"
   ],
   "metadata": {
    "collapsed": false,
    "ExecuteTime": {
     "start_time": "2023-08-03T08:42:25.014128Z"
    }
   }
  },
  {
   "cell_type": "code",
   "execution_count": null,
   "outputs": [],
   "source": [
    "model.save('precursor_charge_prediction_conv2d_model/big_conv2d_model.h5')"
   ],
   "metadata": {
    "collapsed": false,
    "ExecuteTime": {
     "start_time": "2023-08-03T08:42:25.015127500Z"
    }
   }
  },
  {
   "cell_type": "markdown",
   "source": [
    "# Embedding model test:"
   ],
   "metadata": {
    "collapsed": false
   }
  },
  {
   "cell_type": "code",
   "execution_count": 30,
   "outputs": [],
   "source": [
    "main_ds_embed = np.array(merged_df[\"modified_sequence_vector\"]) # to list\n",
    "main_ds_labels_embed = np.array(merged_df['most_abundant_charge_vector'])\n",
    "\n",
    "# Create an instance of StratifiedShuffleSplit\n",
    "sss = StratifiedShuffleSplit(n_splits=1, test_size=0.2, random_state=42)\n",
    "\n",
    "# Perform the split\n",
    "train_indicies_embed, val_indicies_embed = next(sss.split(main_ds_embed, main_ds_labels_embed))\n",
    "train_ds_embed, train_ds_labels_embed = main_ds_embed[train_indicies_embed], main_ds_labels_embed[train_indicies]\n",
    "val_ds_embed, val_ds_labels_embed = main_ds_embed[val_indicies_embed], main_ds_labels_embed[val_indicies_embed]\n",
    "\n",
    "\n",
    "charges = [1,2,3,4,5,6] # TODO SELECT CLASSES\n",
    "num_classes = len(charges)\n"
   ],
   "metadata": {
    "collapsed": false,
    "ExecuteTime": {
     "end_time": "2023-08-10T08:47:50.232004Z",
     "start_time": "2023-08-10T08:47:49.048859800Z"
    }
   }
  },
  {
   "cell_type": "code",
   "execution_count": 31,
   "outputs": [],
   "source": [
    "train_ds_embed  = [np.array(x) for x in train_ds_embed]\n",
    "val_ds_embed = [np.array(x) for x in val_ds_embed]"
   ],
   "metadata": {
    "collapsed": false,
    "ExecuteTime": {
     "end_time": "2023-08-10T08:47:55.041856700Z",
     "start_time": "2023-08-10T08:47:51.045867300Z"
    }
   }
  },
  {
   "cell_type": "code",
   "execution_count": 32,
   "outputs": [],
   "source": [
    "train_ds_labels_embed = [np.array(x) for x in train_ds_labels_embed]\n",
    "val_ds_labels_embed = [np.array(x) for x in val_ds_labels_embed]"
   ],
   "metadata": {
    "collapsed": false,
    "ExecuteTime": {
     "end_time": "2023-08-10T08:47:55.844975400Z",
     "start_time": "2023-08-10T08:47:55.043936100Z"
    }
   }
  },
  {
   "cell_type": "code",
   "execution_count": 33,
   "outputs": [],
   "source": [
    "train_ds_embed = tf.convert_to_tensor(train_ds_embed)\n",
    "val_ds_embed = tf.convert_to_tensor(val_ds_embed)\n",
    "train_ds_labels_embed = tf.convert_to_tensor(train_ds_labels_embed)\n",
    "val_ds_labels_embed = tf.convert_to_tensor(val_ds_labels_embed)"
   ],
   "metadata": {
    "collapsed": false,
    "ExecuteTime": {
     "end_time": "2023-08-10T08:48:00.243342400Z",
     "start_time": "2023-08-10T08:47:55.846980Z"
    }
   }
  },
  {
   "cell_type": "code",
   "execution_count": 81,
   "outputs": [
    {
     "data": {
      "text/plain": "<tf.Tensor: shape=(50,), dtype=int32, numpy=\narray([ 500,  600, 1700, 1400, 1000, 1000, 2000,  900,  500,    0,    0,\n          0,    0,    0,    0,    0,    0,    0,    0,    0,    0,    0,\n          0,    0,    0,    0,    0,    0,    0,    0,    0,    0,    0,\n          0,    0,    0,    0,    0,    0,    0,    0,    0,    0,    0,\n          0,    0,    0,    0,    0,    0])>"
     },
     "execution_count": 81,
     "metadata": {},
     "output_type": "execute_result"
    }
   ],
   "source": [
    "train_ds_embed[0]"
   ],
   "metadata": {
    "collapsed": false,
    "ExecuteTime": {
     "end_time": "2023-08-10T07:49:40.964367800Z",
     "start_time": "2023-08-10T07:49:40.905536900Z"
    }
   }
  },
  {
   "cell_type": "code",
   "execution_count": 87,
   "outputs": [
    {
     "data": {
      "text/plain": "<IPython.core.display.HTML object>",
      "text/html": "Finishing last run (ID:m8jouh2b) before initializing another..."
     },
     "metadata": {},
     "output_type": "display_data"
    },
    {
     "data": {
      "text/plain": "<IPython.core.display.HTML object>",
      "text/html": "Waiting for W&B process to finish... <strong style=\"color:green\">(success).</strong>"
     },
     "metadata": {},
     "output_type": "display_data"
    },
    {
     "data": {
      "text/plain": "<IPython.core.display.HTML object>",
      "text/html": "<style>\n    table.wandb td:nth-child(1) { padding: 0 10px; text-align: left ; width: auto;} td:nth-child(2) {text-align: left ; width: 100%}\n    .wandb-row { display: flex; flex-direction: row; flex-wrap: wrap; justify-content: flex-start; width: 100% }\n    .wandb-col { display: flex; flex-direction: column; flex-basis: 100%; flex: 1; padding: 10px; }\n    </style>\n<div class=\"wandb-row\"><div class=\"wandb-col\"><h3>Run history:</h3><br/><table class=\"wandb\"><tr><td>categorical_accuracy</td><td>▁▄▇▇████████████████████████████████████</td></tr><tr><td>epoch</td><td>▁▁▁▁▂▂▂▂▂▃▃▃▃▃▃▄▄▄▄▄▅▅▅▅▅▅▆▆▆▆▆▆▇▇▇▇▇███</td></tr><tr><td>loss</td><td>█▅▂▂▂▂▁▁▁▁▁▁▁▁▁▁▁▁▁▁▁▁▁▁▁▁▁▁▁▁▁▁▁▁▁▁▁▁▁▁</td></tr><tr><td>val_categorical_accuracy</td><td>▁▄▇▇████████████████████████████████████</td></tr><tr><td>val_loss</td><td>█▅▂▂▂▁▁▁▁▁▁▁▁▁▁▁▁▁▁▁▁▁▁▁▁▁▁▁▁▁▁▁▁▁▁▁▁▁▁▁</td></tr></table><br/></div><div class=\"wandb-col\"><h3>Run summary:</h3><br/><table class=\"wandb\"><tr><td>best_epoch</td><td>149</td></tr><tr><td>best_val_loss</td><td>0.47463</td></tr><tr><td>categorical_accuracy</td><td>0.79654</td></tr><tr><td>epoch</td><td>149</td></tr><tr><td>loss</td><td>0.46447</td></tr><tr><td>val_categorical_accuracy</td><td>0.79257</td></tr><tr><td>val_loss</td><td>0.47463</td></tr></table><br/></div></div>"
     },
     "metadata": {},
     "output_type": "display_data"
    },
    {
     "data": {
      "text/plain": "<IPython.core.display.HTML object>",
      "text/html": " View run <strong style=\"color:#cdcd00\">effortless-dew-11</strong> at: <a href='https://wandb.ai/team-bioinf/precursor_charge_prediction_new/runs/m8jouh2b' target=\"_blank\">https://wandb.ai/team-bioinf/precursor_charge_prediction_new/runs/m8jouh2b</a><br/>Synced 5 W&B file(s), 1 media file(s), 507 artifact file(s) and 1 other file(s)"
     },
     "metadata": {},
     "output_type": "display_data"
    },
    {
     "data": {
      "text/plain": "<IPython.core.display.HTML object>",
      "text/html": "Find logs at: <code>.\\wandb\\run-20230810_083752-m8jouh2b\\logs</code>"
     },
     "metadata": {},
     "output_type": "display_data"
    },
    {
     "data": {
      "text/plain": "<IPython.core.display.HTML object>",
      "text/html": "Successfully finished last run (ID:m8jouh2b). Initializing new run:<br/>"
     },
     "metadata": {},
     "output_type": "display_data"
    },
    {
     "data": {
      "text/plain": "VBox(children=(Label(value='Waiting for wandb.init()...\\r'), FloatProgress(value=0.016916666666656966, max=1.0…",
      "application/vnd.jupyter.widget-view+json": {
       "version_major": 2,
       "version_minor": 0,
       "model_id": "f739465eb5a148ce83789d595a07f2a9"
      }
     },
     "metadata": {},
     "output_type": "display_data"
    },
    {
     "data": {
      "text/plain": "<IPython.core.display.HTML object>",
      "text/html": "wandb version 0.15.8 is available!  To upgrade, please run:\n $ pip install wandb --upgrade"
     },
     "metadata": {},
     "output_type": "display_data"
    },
    {
     "data": {
      "text/plain": "<IPython.core.display.HTML object>",
      "text/html": "Tracking run with wandb version 0.15.5"
     },
     "metadata": {},
     "output_type": "display_data"
    },
    {
     "data": {
      "text/plain": "<IPython.core.display.HTML object>",
      "text/html": "Run data is saved locally in <code>C:\\Users\\micro\\OneDrive\\Dokumente\\GitHub\\Masterpraktikum\\wandb\\run-20230810_100440-y73xq29j</code>"
     },
     "metadata": {},
     "output_type": "display_data"
    },
    {
     "data": {
      "text/plain": "<IPython.core.display.HTML object>",
      "text/html": "Syncing run <strong><a href='https://wandb.ai/team-bioinf/precursor_charge_prediction_new/runs/y73xq29j' target=\"_blank\">still-wind-13</a></strong> to <a href='https://wandb.ai/team-bioinf/precursor_charge_prediction_new' target=\"_blank\">Weights & Biases</a> (<a href='https://wandb.me/run' target=\"_blank\">docs</a>)<br/>"
     },
     "metadata": {},
     "output_type": "display_data"
    },
    {
     "data": {
      "text/plain": "<IPython.core.display.HTML object>",
      "text/html": " View project at <a href='https://wandb.ai/team-bioinf/precursor_charge_prediction_new' target=\"_blank\">https://wandb.ai/team-bioinf/precursor_charge_prediction_new</a>"
     },
     "metadata": {},
     "output_type": "display_data"
    },
    {
     "data": {
      "text/plain": "<IPython.core.display.HTML object>",
      "text/html": " View run at <a href='https://wandb.ai/team-bioinf/precursor_charge_prediction_new/runs/y73xq29j' target=\"_blank\">https://wandb.ai/team-bioinf/precursor_charge_prediction_new/runs/y73xq29j</a>"
     },
     "metadata": {},
     "output_type": "display_data"
    },
    {
     "data": {
      "text/html": "<button onClick=\"this.nextSibling.style.display='block';this.style.display='none';\">Display W&B run</button><iframe src='https://wandb.ai/team-bioinf/precursor_charge_prediction_new/runs/y73xq29j?jupyter=true' style='border:none;width:100%;height:420px;display:none;'></iframe>",
      "text/plain": "<wandb.sdk.wandb_run.Run at 0x2a2d6a4ff90>"
     },
     "execution_count": 87,
     "metadata": {},
     "output_type": "execute_result"
    }
   ],
   "source": [
    "wandb.init(project='precursor_charge_prediction_new')"
   ],
   "metadata": {
    "collapsed": false,
    "ExecuteTime": {
     "end_time": "2023-08-10T08:04:52.049028700Z",
     "start_time": "2023-08-10T08:04:40.832432300Z"
    }
   }
  },
  {
   "cell_type": "code",
   "execution_count": 34,
   "outputs": [],
   "source": [
    "from keras import Sequential, Model\n",
    "from keras.layers import Embedding, Flatten, Dense, Conv1D, Conv2D, MaxPooling1D, MaxPooling2D, Input, concatenate, Rescaling\n",
    "# define two sets of inputs\n",
    "inputA_embed = Input(shape=train_ds_embed[0].shape)\n",
    "# the first branch operates on the first input\n",
    "x = Model(inputs=inputA_embed, outputs=inputA_embed)\n",
    "# the second branch operates on the second input\n",
    "# input = sequence mit shape (50, 1)\n",
    "y = Embedding(input_dim=8000, output_dim=50, input_length=50)(inputA_embed)\n",
    "# output = ???? 8000x50x50\n",
    "#y = Embedding(input_dim=2000, output_dim=3, input_length=50)(inputB)\n",
    "#y = MaxPooling2D(pool_size=(1,2), padding='same')(y)\n",
    "#y = Conv2D(filters=128, kernel_size=(1,3), strides=1, activation=\"relu\", padding='same')(y)\n",
    "#y = MaxPooling2D(pool_size=(1,2), padding='same')(y)\n",
    "y = Flatten()(y)\n",
    "y = Dense(64, activation=\"relu\")(y)\n",
    "# combine the output of the two branches\n",
    "#z = Flatten()(combined)\n",
    "z = Dense(num_classes, activation=\"softmax\")(y)\n",
    "# our model will accept the inputs of the two branches and\n",
    "# then output a single value\n",
    "model_embed = Model(inputs=[x.input], outputs=z)"
   ],
   "metadata": {
    "collapsed": false,
    "ExecuteTime": {
     "end_time": "2023-08-10T08:48:10.678311400Z",
     "start_time": "2023-08-10T08:48:10.600394400Z"
    }
   }
  },
  {
   "cell_type": "code",
   "execution_count": 35,
   "outputs": [
    {
     "name": "stdout",
     "output_type": "stream",
     "text": [
      "Model: \"model_1\"\n",
      "_________________________________________________________________\n",
      " Layer (type)                Output Shape              Param #   \n",
      "=================================================================\n",
      " input_1 (InputLayer)        [(None, 50)]              0         \n",
      "                                                                 \n",
      " embedding (Embedding)       (None, 50, 50)            400000    \n",
      "                                                                 \n",
      " flatten (Flatten)           (None, 2500)              0         \n",
      "                                                                 \n",
      " dense (Dense)               (None, 64)                160064    \n",
      "                                                                 \n",
      " dense_1 (Dense)             (None, 6)                 390       \n",
      "                                                                 \n",
      "=================================================================\n",
      "Total params: 560,454\n",
      "Trainable params: 560,454\n",
      "Non-trainable params: 0\n",
      "_________________________________________________________________\n"
     ]
    }
   ],
   "source": [
    "model_embed.summary()"
   ],
   "metadata": {
    "collapsed": false,
    "ExecuteTime": {
     "end_time": "2023-08-10T08:48:13.746119300Z",
     "start_time": "2023-08-10T08:48:13.684539900Z"
    }
   }
  },
  {
   "cell_type": "code",
   "execution_count": 36,
   "outputs": [
    {
     "data": {
      "image/png": "[encoded data removed]",
      "text/plain": "<IPython.core.display.Image object>"
     },
     "execution_count": 36,
     "metadata": {},
     "output_type": "execute_result"
    }
   ],
   "source": [
    "# plot model\n",
    "tf.keras.utils.plot_model(model_embed, show_shapes=True, show_layer_names=True)"
   ],
   "metadata": {
    "collapsed": false,
    "ExecuteTime": {
     "end_time": "2023-08-10T08:48:18.365940300Z",
     "start_time": "2023-08-10T08:48:18.197645400Z"
    }
   }
  },
  {
   "cell_type": "code",
   "execution_count": 37,
   "outputs": [],
   "source": [
    "# Compile the model\n",
    "model_embed.compile(loss=tf.keras.losses.CategoricalCrossentropy(), optimizer=keras.optimizers.Adam(learning_rate=0.0001), metrics=['categorical_accuracy'])"
   ],
   "metadata": {
    "collapsed": false,
    "ExecuteTime": {
     "end_time": "2023-08-10T08:48:22.903749200Z",
     "start_time": "2023-08-10T08:48:22.841046300Z"
    }
   }
  },
  {
   "cell_type": "code",
   "execution_count": 38,
   "outputs": [],
   "source": [
    "checkpoint_callback_embed = ModelCheckpoint('precursor_charge_prediction_model_embed/embed.h5', monitor='val_accuracy', save_best_only=True, mode='max')\n",
    "\n",
    "# Define early stopping\n",
    "early_stopping_embed = tf.keras.callbacks.EarlyStopping(monitor='val_loss', patience=10)"
   ],
   "metadata": {
    "collapsed": false,
    "ExecuteTime": {
     "end_time": "2023-08-10T08:48:24.227633200Z",
     "start_time": "2023-08-10T08:48:24.152643400Z"
    }
   }
  },
  {
   "cell_type": "code",
   "execution_count": null,
   "outputs": [],
   "source": [
    "# Train the model\n",
    "# X_train, X_test, y_train, y_test\n",
    "history_embed = model_embed.fit(train_ds_embed, train_ds_labels_embed, epochs=150, batch_size=4096, validation_data=(val_ds_embed, val_ds_labels_embed), callbacks=[checkpoint_callback_embed, early_stopping_embed, WandbCallback()]) #WandbCallback()"
   ],
   "metadata": {
    "collapsed": false
   }
  },
  {
   "cell_type": "code",
   "execution_count": 41,
   "outputs": [
    {
     "name": "stdout",
     "output_type": "stream",
     "text": [
      "08102023\n"
     ]
    }
   ],
   "source": [
    "import datetime\n",
    "date = datetime.datetime.now().strftime(\"%m%d%Y\")\n",
    "print(date)"
   ],
   "metadata": {
    "collapsed": false,
    "ExecuteTime": {
     "end_time": "2023-08-10T09:04:52.757866300Z",
     "start_time": "2023-08-10T09:04:52.688172100Z"
    }
   }
  },
  {
   "cell_type": "code",
   "execution_count": 42,
   "outputs": [],
   "source": [
    "model_embed.save(f'precursor_charge_prediction_model_embed/history_embed_150epoch_{date}.h5')"
   ],
   "metadata": {
    "collapsed": false,
    "ExecuteTime": {
     "end_time": "2023-08-10T09:04:56.000580700Z",
     "start_time": "2023-08-10T09:04:55.965264100Z"
    }
   }
  },
  {
   "cell_type": "code",
   "execution_count": 43,
   "outputs": [
    {
     "data": {
      "text/plain": "<Figure size 1200x600 with 2 Axes>",
      "image/png": "[encoded data removed]"
     },
     "metadata": {},
     "output_type": "display_data"
    }
   ],
   "source": [
    "# Access the loss, validation loss, and accuracy from the history object\n",
    "loss = history_embed.history['loss']\n",
    "val_loss = history_embed.history['val_loss']\n",
    "accuracy = history_embed.history['categorical_accuracy']\n",
    "val_accuracy = history_embed.history['val_categorical_accuracy']\n",
    "\n",
    "# Plot the loss, validation loss, and accuracy curves\n",
    "epochs = range(1, len(loss) + 1)\n",
    "\n",
    "# Create subplots\n",
    "fig2, (ax1, ax2) = plt.subplots(1, 2, figsize=(12, 6))\n",
    "\n",
    "# Plot loss and validation loss\n",
    "ax1.plot(epochs, loss, 'b', label='Training Loss')\n",
    "ax1.plot(epochs, val_loss, 'r', label='Validation Loss')\n",
    "ax1.set_title('Training and Validation Loss')\n",
    "ax1.set_xlabel('Epochs')\n",
    "ax1.set_ylabel('Loss')\n",
    "ax1.legend()\n",
    "\n",
    "# Plot accuracy and validation accuracy\n",
    "ax2.plot(epochs, accuracy, 'b', label='Training Accuracy')\n",
    "ax2.plot(epochs, val_accuracy, 'r', label='Validation Accuracy')\n",
    "ax2.set_title('Training and Validation Accuracy')\n",
    "ax2.set_xlabel('Epochs')\n",
    "ax2.set_ylabel('Accuracy')\n",
    "ax2.legend()\n",
    "\n",
    "# Adjust spacing between subplots\n",
    "plt.tight_layout()\n",
    "\n",
    "# Show the plots\n",
    "plt.show()"
   ],
   "metadata": {
    "collapsed": false,
    "ExecuteTime": {
     "end_time": "2023-08-10T09:05:01.982525200Z",
     "start_time": "2023-08-10T09:05:01.537565400Z"
    }
   }
  },
  {
   "cell_type": "markdown",
   "source": [
    "# Inference"
   ],
   "metadata": {
    "collapsed": false
   }
  },
  {
   "cell_type": "code",
   "execution_count": 44,
   "outputs": [
    {
     "data": {
      "text/plain": "'data/TUM_third_pool_meta_data.parquet'"
     },
     "execution_count": 44,
     "metadata": {},
     "output_type": "execute_result"
    }
   ],
   "source": [
    "file_list[-1]"
   ],
   "metadata": {
    "collapsed": false,
    "ExecuteTime": {
     "end_time": "2023-08-10T09:05:08.751061700Z",
     "start_time": "2023-08-10T09:05:08.689256300Z"
    }
   }
  },
  {
   "cell_type": "code",
   "execution_count": 46,
   "outputs": [
    {
     "data": {
      "text/plain": "                                   modified_sequence  precursor_charge  \\\n0                                        DNYDQLVRIAK                 2   \n1                                        MDLESQISDMR                 2   \n2                                         QLQQIERQLK                 2   \n3  PC[UNIMOD:4]C[UNIMOD:4]C[UNIMOD:4]QTTC[UNIMOD:...                 2   \n4                                        LNTEVTTWRTK                 2   \n\n   precursor_intensity  \n0          141925100.0  \n1           63760280.0  \n2           19577780.0  \n3           29736720.0  \n4           59018990.0  ",
      "text/html": "<div>\n<style scoped>\n    .dataframe tbody tr th:only-of-type {\n        vertical-align: middle;\n    }\n\n    .dataframe tbody tr th {\n        vertical-align: top;\n    }\n\n    .dataframe thead th {\n        text-align: right;\n    }\n</style>\n<table border=\"1\" class=\"dataframe\">\n  <thead>\n    <tr style=\"text-align: right;\">\n      <th></th>\n      <th>modified_sequence</th>\n      <th>precursor_charge</th>\n      <th>precursor_intensity</th>\n    </tr>\n  </thead>\n  <tbody>\n    <tr>\n      <th>0</th>\n      <td>DNYDQLVRIAK</td>\n      <td>2</td>\n      <td>141925100.0</td>\n    </tr>\n    <tr>\n      <th>1</th>\n      <td>MDLESQISDMR</td>\n      <td>2</td>\n      <td>63760280.0</td>\n    </tr>\n    <tr>\n      <th>2</th>\n      <td>QLQQIERQLK</td>\n      <td>2</td>\n      <td>19577780.0</td>\n    </tr>\n    <tr>\n      <th>3</th>\n      <td>PC[UNIMOD:4]C[UNIMOD:4]C[UNIMOD:4]QTTC[UNIMOD:...</td>\n      <td>2</td>\n      <td>29736720.0</td>\n    </tr>\n    <tr>\n      <th>4</th>\n      <td>LNTEVTTWRTK</td>\n      <td>2</td>\n      <td>59018990.0</td>\n    </tr>\n  </tbody>\n</table>\n</div>"
     },
     "execution_count": 46,
     "metadata": {},
     "output_type": "execute_result"
    }
   ],
   "source": [
    "batches_parquet[file_list[-1]].head()"
   ],
   "metadata": {
    "collapsed": false,
    "ExecuteTime": {
     "end_time": "2023-08-10T09:05:15.039351Z",
     "start_time": "2023-08-10T09:05:14.939289600Z"
    }
   }
  },
  {
   "cell_type": "code",
   "execution_count": 47,
   "outputs": [
    {
     "name": "stderr",
     "output_type": "stream",
     "text": [
      "C:\\Users\\micro\\AppData\\Local\\Temp\\ipykernel_14408\\1872002653.py:2: FutureWarning: Indexing with multiple keys (implicitly converted to a tuple of keys) will be deprecated, use a list instead.\n",
      "  grouped_df_embed = batches_parquet[file_list[-1]].groupby(\"modified_sequence\")[\"precursor_charge\", \"precursor_intensity\"].agg(list).reset_index()\n"
     ]
    },
    {
     "data": {
      "text/plain": "     most_abundant_charge_vector  \\\n0             [0, 0, 1, 0, 0, 0]   \n1             [0, 0, 1, 0, 0, 0]   \n2             [0, 1, 0, 0, 0, 0]   \n3             [0, 1, 0, 0, 0, 0]   \n4             [0, 0, 1, 0, 0, 0]   \n...                          ...   \n4353          [0, 0, 1, 0, 0, 0]   \n4354          [0, 0, 1, 0, 0, 0]   \n4355          [0, 0, 1, 0, 0, 0]   \n4356          [0, 0, 1, 0, 0, 0]   \n4357          [0, 0, 1, 0, 0, 0]   \n\n                               modified_sequence_vector  \n0     [100, 100, 100, 700, 600, 1400, 1900, 400, 100...  \n1     [100, 100, 100, 700, 600, 1400, 1900, 400, 100...  \n2     [100, 100, 400, 100, 300, 600, 1300, 1000, 900...  \n3     [100, 100, 400, 100, 300, 600, 1300, 1000, 900...  \n4     [100, 100, 800, 1500, 1000, 400, 1000, 500, 10...  \n...                                                 ...  \n4353  [2000, 1800, 100, 800, 204, 1200, 1300, 1000, ...  \n4354  [2000, 1800, 100, 800, 204, 1600, 1300, 1000, ...  \n4355  [2000, 1800, 100, 800, 204, 1600, 1300, 1000, ...  \n4356  [2000, 1800, 1000, 1700, 1600, 1300, 1500, 160...  \n4357  [2000, 2000, 1700, 1500, 1000, 600, 1200, 300,...  \n\n[4358 rows x 2 columns]",
      "text/html": "<div>\n<style scoped>\n    .dataframe tbody tr th:only-of-type {\n        vertical-align: middle;\n    }\n\n    .dataframe tbody tr th {\n        vertical-align: top;\n    }\n\n    .dataframe thead th {\n        text-align: right;\n    }\n</style>\n<table border=\"1\" class=\"dataframe\">\n  <thead>\n    <tr style=\"text-align: right;\">\n      <th></th>\n      <th>most_abundant_charge_vector</th>\n      <th>modified_sequence_vector</th>\n    </tr>\n  </thead>\n  <tbody>\n    <tr>\n      <th>0</th>\n      <td>[0, 0, 1, 0, 0, 0]</td>\n      <td>[100, 100, 100, 700, 600, 1400, 1900, 400, 100...</td>\n    </tr>\n    <tr>\n      <th>1</th>\n      <td>[0, 0, 1, 0, 0, 0]</td>\n      <td>[100, 100, 100, 700, 600, 1400, 1900, 400, 100...</td>\n    </tr>\n    <tr>\n      <th>2</th>\n      <td>[0, 1, 0, 0, 0, 0]</td>\n      <td>[100, 100, 400, 100, 300, 600, 1300, 1000, 900...</td>\n    </tr>\n    <tr>\n      <th>3</th>\n      <td>[0, 1, 0, 0, 0, 0]</td>\n      <td>[100, 100, 400, 100, 300, 600, 1300, 1000, 900...</td>\n    </tr>\n    <tr>\n      <th>4</th>\n      <td>[0, 0, 1, 0, 0, 0]</td>\n      <td>[100, 100, 800, 1500, 1000, 400, 1000, 500, 10...</td>\n    </tr>\n    <tr>\n      <th>...</th>\n      <td>...</td>\n      <td>...</td>\n    </tr>\n    <tr>\n      <th>4353</th>\n      <td>[0, 0, 1, 0, 0, 0]</td>\n      <td>[2000, 1800, 100, 800, 204, 1200, 1300, 1000, ...</td>\n    </tr>\n    <tr>\n      <th>4354</th>\n      <td>[0, 0, 1, 0, 0, 0]</td>\n      <td>[2000, 1800, 100, 800, 204, 1600, 1300, 1000, ...</td>\n    </tr>\n    <tr>\n      <th>4355</th>\n      <td>[0, 0, 1, 0, 0, 0]</td>\n      <td>[2000, 1800, 100, 800, 204, 1600, 1300, 1000, ...</td>\n    </tr>\n    <tr>\n      <th>4356</th>\n      <td>[0, 0, 1, 0, 0, 0]</td>\n      <td>[2000, 1800, 1000, 1700, 1600, 1300, 1500, 160...</td>\n    </tr>\n    <tr>\n      <th>4357</th>\n      <td>[0, 0, 1, 0, 0, 0]</td>\n      <td>[2000, 2000, 1700, 1500, 1000, 600, 1200, 300,...</td>\n    </tr>\n  </tbody>\n</table>\n<p>4358 rows × 2 columns</p>\n</div>"
     },
     "execution_count": 47,
     "metadata": {},
     "output_type": "execute_result"
    }
   ],
   "source": [
    "# Grouping by \"modified_sequence\" and aggregating precursor_charge into a list\n",
    "grouped_df_embed = batches_parquet[file_list[-1]].groupby(\"modified_sequence\")[\"precursor_charge\", \"precursor_intensity\"].agg(list).reset_index()\n",
    "\n",
    "for index, row in grouped_df_embed.iterrows():\n",
    "    grouped_df_embed.at[index, \"precursor_charge\"] = get_most_abundant(row[\"precursor_charge\"], row[\"precursor_intensity\"])\n",
    "\n",
    "grouped_df_embed[\"modified_sequence_vector\"] = grouped_df_embed[\"modified_sequence\"].apply(seq_translator)\n",
    "grouped_df_embed[\"precursor_charge\"] = grouped_df_embed[\"precursor_charge\"].apply(one_hot_precursor, args=(charge_ranges,))\n",
    "grouped_df_embed.rename(columns={\"precursor_charge\": \"most_abundant_charge_vector\"}, inplace=True)\n",
    "grouped_df_embed = grouped_df_embed.drop(\"precursor_intensity\", axis=1)\n",
    "grouped_df_embed = grouped_df_embed.drop(\"modified_sequence\", axis=1)\n",
    "grouped_df_embed"
   ],
   "metadata": {
    "collapsed": false,
    "ExecuteTime": {
     "end_time": "2023-08-10T09:05:20.600325500Z",
     "start_time": "2023-08-10T09:05:20.075134600Z"
    }
   }
  },
  {
   "cell_type": "code",
   "execution_count": 48,
   "outputs": [],
   "source": [
    "grouped_df_embed['modified_sequence_vector'] = grouped_df_embed['modified_sequence_vector'].apply(lambda x: np.array(x))"
   ],
   "metadata": {
    "collapsed": false,
    "ExecuteTime": {
     "end_time": "2023-08-10T09:05:27.189102900Z",
     "start_time": "2023-08-10T09:05:27.150819900Z"
    }
   }
  },
  {
   "cell_type": "code",
   "execution_count": 49,
   "outputs": [
    {
     "data": {
      "text/plain": "(4358, 2)"
     },
     "execution_count": 49,
     "metadata": {},
     "output_type": "execute_result"
    }
   ],
   "source": [
    "# size of df\n",
    "grouped_df_embed.shape"
   ],
   "metadata": {
    "collapsed": false,
    "ExecuteTime": {
     "end_time": "2023-08-10T09:05:28.577278300Z",
     "start_time": "2023-08-10T09:05:28.526277100Z"
    }
   }
  },
  {
   "cell_type": "code",
   "execution_count": null,
   "outputs": [],
   "source": [
    "# ValueError: Layer \"model_1\" expects 1 input(s), but it received 33732 input tensors. Inputs received: [<tf.Tensor 'IteratorGetNext:0' shape=(None, 50) dtype=int32>, <tf.Tensor 'IteratorGetNext:1' shape=(None, 50) dtype=int32>, <tf.Tensor 'IteratorGetNext:2' shape=(None, 50) dtype=int32>, <tf.Tensor 'IteratorGetNext:3' shape=(None, 50) dtype=int32>, <tf.Tensor 'IteratorGetNext:4' shape=(None, 50) dtype=int32>, <tf.Tensor 'IteratorGetNext:5' shape=(None, 50) dtype=int32>, <tf.Tensor"
   ],
   "metadata": {
    "collapsed": false
   }
  },
  {
   "cell_type": "code",
   "execution_count": null,
   "outputs": [],
   "source": [
    "# solut = [np.expand_dims(tf.convert_to_tensor(np.array(x)), axis=0) for x in grouped_df_embed[\"modified_sequence_vector\"]]\n",
    "# predictions = model_embed.predict(solut, batch_size=4096, verbose=True)"
   ],
   "metadata": {
    "collapsed": false
   }
  },
  {
   "cell_type": "code",
   "execution_count": 50,
   "outputs": [],
   "source": [
    "grouped_df_embed['prediction'] = None\n",
    "for index, row in grouped_df_embed.iterrows():\n",
    "    solut = np.expand_dims(tf.convert_to_tensor(np.array(grouped_df_embed.at[index, \"modified_sequence_vector\"])), axis=0)\n",
    "    grouped_df_embed.at[index, 'prediction'] = model_embed.predict(solut, verbose=False)"
   ],
   "metadata": {
    "collapsed": false,
    "ExecuteTime": {
     "end_time": "2023-08-10T09:08:27.603355400Z",
     "start_time": "2023-08-10T09:05:36.070425900Z"
    }
   }
  },
  {
   "cell_type": "code",
   "execution_count": 51,
   "outputs": [],
   "source": [
    "def decode_one_hot(one_hot, charges = [1,2,3,4,5,6]):\n",
    "    for index, hot in enumerate(one_hot):\n",
    "        if hot == 1:\n",
    "            return charges[index]"
   ],
   "metadata": {
    "collapsed": false,
    "ExecuteTime": {
     "end_time": "2023-08-10T09:08:27.608850800Z",
     "start_time": "2023-08-10T09:08:27.604360500Z"
    }
   }
  },
  {
   "cell_type": "code",
   "execution_count": 52,
   "outputs": [],
   "source": [
    "def predictions_no_hot(one_hot, charges = [1,2,3,4,5,6]):\n",
    "    index = np.argmax(one_hot)\n",
    "    return(charges[index])"
   ],
   "metadata": {
    "collapsed": false,
    "ExecuteTime": {
     "end_time": "2023-08-10T09:08:27.624135700Z",
     "start_time": "2023-08-10T09:08:27.610294400Z"
    }
   }
  },
  {
   "cell_type": "code",
   "execution_count": 53,
   "outputs": [
    {
     "data": {
      "text/plain": "4"
     },
     "execution_count": 53,
     "metadata": {},
     "output_type": "execute_result"
    }
   ],
   "source": [
    "np.argmax([0, 0 ,0 ,0, 1])"
   ],
   "metadata": {
    "collapsed": false,
    "ExecuteTime": {
     "end_time": "2023-08-10T09:08:27.693738500Z",
     "start_time": "2023-08-10T09:08:27.626136500Z"
    }
   }
  },
  {
   "cell_type": "code",
   "execution_count": 54,
   "outputs": [],
   "source": [
    "grouped_df_embed['true_label'] = grouped_df_embed['most_abundant_charge_vector'].apply(decode_one_hot)"
   ],
   "metadata": {
    "collapsed": false,
    "ExecuteTime": {
     "end_time": "2023-08-10T09:08:27.705263700Z",
     "start_time": "2023-08-10T09:08:27.633873900Z"
    }
   }
  },
  {
   "cell_type": "code",
   "execution_count": 55,
   "outputs": [],
   "source": [
    "grouped_df_embed['pred_label'] = grouped_df_embed['prediction'].apply(predictions_no_hot)"
   ],
   "metadata": {
    "collapsed": false,
    "ExecuteTime": {
     "end_time": "2023-08-10T09:08:27.706266800Z",
     "start_time": "2023-08-10T09:08:27.643398300Z"
    }
   }
  },
  {
   "cell_type": "code",
   "execution_count": 56,
   "outputs": [
    {
     "data": {
      "text/plain": "  most_abundant_charge_vector  \\\n0          [0, 0, 1, 0, 0, 0]   \n1          [0, 0, 1, 0, 0, 0]   \n2          [0, 1, 0, 0, 0, 0]   \n3          [0, 1, 0, 0, 0, 0]   \n\n                            modified_sequence_vector  \\\n0  [100, 100, 100, 700, 600, 1400, 1900, 400, 100...   \n1  [100, 100, 100, 700, 600, 1400, 1900, 400, 100...   \n2  [100, 100, 400, 100, 300, 600, 1300, 1000, 900...   \n3  [100, 100, 400, 100, 300, 600, 1300, 1000, 900...   \n\n                                          prediction  true_label  pred_label  \n0  [[9.0525085e-05, 0.35126275, 0.64825, 0.000396...           3           3  \n1  [[1.3091594e-08, 0.04320802, 0.30506778, 0.618...           3           4  \n2  [[0.06276861, 0.93675226, 0.00047866072, 4.076...           2           2  \n3  [[0.00080282247, 0.8499214, 0.1492342, 4.14584...           2           2  ",
      "text/html": "<div>\n<style scoped>\n    .dataframe tbody tr th:only-of-type {\n        vertical-align: middle;\n    }\n\n    .dataframe tbody tr th {\n        vertical-align: top;\n    }\n\n    .dataframe thead th {\n        text-align: right;\n    }\n</style>\n<table border=\"1\" class=\"dataframe\">\n  <thead>\n    <tr style=\"text-align: right;\">\n      <th></th>\n      <th>most_abundant_charge_vector</th>\n      <th>modified_sequence_vector</th>\n      <th>prediction</th>\n      <th>true_label</th>\n      <th>pred_label</th>\n    </tr>\n  </thead>\n  <tbody>\n    <tr>\n      <th>0</th>\n      <td>[0, 0, 1, 0, 0, 0]</td>\n      <td>[100, 100, 100, 700, 600, 1400, 1900, 400, 100...</td>\n      <td>[[9.0525085e-05, 0.35126275, 0.64825, 0.000396...</td>\n      <td>3</td>\n      <td>3</td>\n    </tr>\n    <tr>\n      <th>1</th>\n      <td>[0, 0, 1, 0, 0, 0]</td>\n      <td>[100, 100, 100, 700, 600, 1400, 1900, 400, 100...</td>\n      <td>[[1.3091594e-08, 0.04320802, 0.30506778, 0.618...</td>\n      <td>3</td>\n      <td>4</td>\n    </tr>\n    <tr>\n      <th>2</th>\n      <td>[0, 1, 0, 0, 0, 0]</td>\n      <td>[100, 100, 400, 100, 300, 600, 1300, 1000, 900...</td>\n      <td>[[0.06276861, 0.93675226, 0.00047866072, 4.076...</td>\n      <td>2</td>\n      <td>2</td>\n    </tr>\n    <tr>\n      <th>3</th>\n      <td>[0, 1, 0, 0, 0, 0]</td>\n      <td>[100, 100, 400, 100, 300, 600, 1300, 1000, 900...</td>\n      <td>[[0.00080282247, 0.8499214, 0.1492342, 4.14584...</td>\n      <td>2</td>\n      <td>2</td>\n    </tr>\n  </tbody>\n</table>\n</div>"
     },
     "execution_count": 56,
     "metadata": {},
     "output_type": "execute_result"
    }
   ],
   "source": [
    "grouped_df_embed.head(4)"
   ],
   "metadata": {
    "collapsed": false,
    "ExecuteTime": {
     "end_time": "2023-08-10T09:08:27.706266800Z",
     "start_time": "2023-08-10T09:08:27.658544700Z"
    }
   }
  },
  {
   "cell_type": "code",
   "execution_count": 57,
   "outputs": [
    {
     "name": "stdout",
     "output_type": "stream",
     "text": [
      "0.8838916934373566 3852 4358\n"
     ]
    }
   ],
   "source": [
    "# iterate all rows of grouped_df_embed\n",
    "size_of_df = grouped_df_embed.shape[0]\n",
    "true_counter = 0\n",
    "for index, row in grouped_df_embed.iterrows():\n",
    "    if row['true_label'] == row['pred_label']:\n",
    "        true_counter += 1\n",
    "\n",
    "print(true_counter/size_of_df, true_counter, size_of_df)"
   ],
   "metadata": {
    "collapsed": false,
    "ExecuteTime": {
     "end_time": "2023-08-10T09:08:27.887252400Z",
     "start_time": "2023-08-10T09:08:27.669704300Z"
    }
   }
  },
  {
   "cell_type": "code",
   "execution_count": 63,
   "outputs": [
    {
     "name": "stdout",
     "output_type": "stream",
     "text": [
      "[[   0    2    0    0    0    0]\n",
      " [   0 1393  143    2    0    0]\n",
      " [   0  118 2005  118    3    0]\n",
      " [   0    2   85  445   19    1]\n",
      " [   0    0    3    7    9    0]\n",
      " [   0    0    0    2    1    0]]\n",
      "Accuracy:  0.8838916934373566\n",
      "Precision:  0.8856377649855041\n",
      "Recall:  0.8838916934373566\n",
      "F1:  0.8845998195607331\n"
     ]
    },
    {
     "name": "stderr",
     "output_type": "stream",
     "text": [
      "C:\\Users\\micro\\OneDrive\\Dokumente\\GitHub\\BachelorThesis\\venv\\Lib\\site-packages\\sklearn\\metrics\\_classification.py:1344: UndefinedMetricWarning: Precision is ill-defined and being set to 0.0 in labels with no predicted samples. Use `zero_division` parameter to control this behavior.\n",
      "  _warn_prf(average, modifier, msg_start, len(result))\n"
     ]
    },
    {
     "data": {
      "text/plain": "<sklearn.metrics._plot.confusion_matrix.ConfusionMatrixDisplay at 0x1aed3f3d090>"
     },
     "execution_count": 63,
     "metadata": {},
     "output_type": "execute_result"
    },
    {
     "data": {
      "text/plain": "<Figure size 640x480 with 2 Axes>",
      "image/png": "[encoded data removed]"
     },
     "metadata": {},
     "output_type": "display_data"
    }
   ],
   "source": [
    "from sklearn.metrics import classification_report, confusion_matrix, accuracy_score, precision_score, recall_score, f1_score, ConfusionMatrixDisplay\n",
    "import seaborn as sn\n",
    "\n",
    "true_labels = grouped_df_embed['true_label']\n",
    "predicted_labels = grouped_df_embed['pred_label']\n",
    "\n",
    "cm = confusion_matrix(true_labels, predicted_labels)\n",
    "print(cm)\n",
    "print(\"Accuracy: \", accuracy_score(true_labels, predicted_labels))\n",
    "print(\"Precision: \", precision_score(true_labels, predicted_labels, average='weighted'))\n",
    "print(\"Recall: \", recall_score(true_labels, predicted_labels, average='weighted'))\n",
    "print(\"F1: \", f1_score(true_labels, predicted_labels, average='weighted'))\n",
    "disp = ConfusionMatrixDisplay(confusion_matrix=cm, display_labels=class_names)\n",
    "disp.plot(cmap=plt.cm.Blues, xticks_rotation=45)\n",
    "\n",
    "#sn.heatmap(cm2, annot=True, cmap=\"crest\")\n",
    "# TODO  check if most abundant is chosen"
   ],
   "metadata": {
    "collapsed": false,
    "ExecuteTime": {
     "end_time": "2023-08-10T09:12:53.421547100Z",
     "start_time": "2023-08-10T09:12:53.183007600Z"
    }
   }
  },
  {
   "cell_type": "code",
   "execution_count": 80,
   "outputs": [],
   "source": [
    "from sklearn.metrics import confusion_matrix\n",
    "\n",
    "new_df = pd.DataFrame(columns=['charge','accuracy'])\n",
    "\n",
    "matrix = confusion_matrix(true_labels, predicted_labels)\n",
    "new_df['charge'] = [1,2,3,4,5,6]\n",
    "new_df['accuracy'] = matrix.diagonal()/matrix.sum(axis=1)\n"
   ],
   "metadata": {
    "collapsed": false,
    "ExecuteTime": {
     "end_time": "2023-08-10T09:19:11.581916800Z",
     "start_time": "2023-08-10T09:19:11.526516400Z"
    }
   }
  },
  {
   "cell_type": "code",
   "execution_count": 81,
   "outputs": [
    {
     "data": {
      "text/plain": "   charge  accuracy\n0       1  0.000000\n1       2  0.905722\n2       3  0.893494\n3       4  0.806159\n4       5  0.473684\n5       6  0.000000",
      "text/html": "<div>\n<style scoped>\n    .dataframe tbody tr th:only-of-type {\n        vertical-align: middle;\n    }\n\n    .dataframe tbody tr th {\n        vertical-align: top;\n    }\n\n    .dataframe thead th {\n        text-align: right;\n    }\n</style>\n<table border=\"1\" class=\"dataframe\">\n  <thead>\n    <tr style=\"text-align: right;\">\n      <th></th>\n      <th>charge</th>\n      <th>accuracy</th>\n    </tr>\n  </thead>\n  <tbody>\n    <tr>\n      <th>0</th>\n      <td>1</td>\n      <td>0.000000</td>\n    </tr>\n    <tr>\n      <th>1</th>\n      <td>2</td>\n      <td>0.905722</td>\n    </tr>\n    <tr>\n      <th>2</th>\n      <td>3</td>\n      <td>0.893494</td>\n    </tr>\n    <tr>\n      <th>3</th>\n      <td>4</td>\n      <td>0.806159</td>\n    </tr>\n    <tr>\n      <th>4</th>\n      <td>5</td>\n      <td>0.473684</td>\n    </tr>\n    <tr>\n      <th>5</th>\n      <td>6</td>\n      <td>0.000000</td>\n    </tr>\n  </tbody>\n</table>\n</div>"
     },
     "execution_count": 81,
     "metadata": {},
     "output_type": "execute_result"
    }
   ],
   "source": [
    "new_df"
   ],
   "metadata": {
    "collapsed": false,
    "ExecuteTime": {
     "end_time": "2023-08-10T09:19:13.394386400Z",
     "start_time": "2023-08-10T09:19:13.347458600Z"
    }
   }
  },
  {
   "cell_type": "code",
   "execution_count": 82,
   "outputs": [
    {
     "data": {
      "text/plain": "  most_abundant_charge_vector  \\\n0          [0, 0, 1, 0, 0, 0]   \n1          [0, 0, 1, 0, 0, 0]   \n2          [0, 1, 0, 0, 0, 0]   \n3          [0, 1, 0, 0, 0, 0]   \n\n                            modified_sequence_vector  \\\n0  [100, 100, 100, 700, 600, 1400, 1900, 400, 100...   \n1  [100, 100, 100, 700, 600, 1400, 1900, 400, 100...   \n2  [100, 100, 400, 100, 300, 600, 1300, 1000, 900...   \n3  [100, 100, 400, 100, 300, 600, 1300, 1000, 900...   \n\n                                          prediction  true_label  pred_label  \n0  [[9.0525085e-05, 0.35126275, 0.64825, 0.000396...           3           3  \n1  [[1.3091594e-08, 0.04320802, 0.30506778, 0.618...           3           4  \n2  [[0.06276861, 0.93675226, 0.00047866072, 4.076...           2           2  \n3  [[0.00080282247, 0.8499214, 0.1492342, 4.14584...           2           2  ",
      "text/html": "<div>\n<style scoped>\n    .dataframe tbody tr th:only-of-type {\n        vertical-align: middle;\n    }\n\n    .dataframe tbody tr th {\n        vertical-align: top;\n    }\n\n    .dataframe thead th {\n        text-align: right;\n    }\n</style>\n<table border=\"1\" class=\"dataframe\">\n  <thead>\n    <tr style=\"text-align: right;\">\n      <th></th>\n      <th>most_abundant_charge_vector</th>\n      <th>modified_sequence_vector</th>\n      <th>prediction</th>\n      <th>true_label</th>\n      <th>pred_label</th>\n    </tr>\n  </thead>\n  <tbody>\n    <tr>\n      <th>0</th>\n      <td>[0, 0, 1, 0, 0, 0]</td>\n      <td>[100, 100, 100, 700, 600, 1400, 1900, 400, 100...</td>\n      <td>[[9.0525085e-05, 0.35126275, 0.64825, 0.000396...</td>\n      <td>3</td>\n      <td>3</td>\n    </tr>\n    <tr>\n      <th>1</th>\n      <td>[0, 0, 1, 0, 0, 0]</td>\n      <td>[100, 100, 100, 700, 600, 1400, 1900, 400, 100...</td>\n      <td>[[1.3091594e-08, 0.04320802, 0.30506778, 0.618...</td>\n      <td>3</td>\n      <td>4</td>\n    </tr>\n    <tr>\n      <th>2</th>\n      <td>[0, 1, 0, 0, 0, 0]</td>\n      <td>[100, 100, 400, 100, 300, 600, 1300, 1000, 900...</td>\n      <td>[[0.06276861, 0.93675226, 0.00047866072, 4.076...</td>\n      <td>2</td>\n      <td>2</td>\n    </tr>\n    <tr>\n      <th>3</th>\n      <td>[0, 1, 0, 0, 0, 0]</td>\n      <td>[100, 100, 400, 100, 300, 600, 1300, 1000, 900...</td>\n      <td>[[0.00080282247, 0.8499214, 0.1492342, 4.14584...</td>\n      <td>2</td>\n      <td>2</td>\n    </tr>\n  </tbody>\n</table>\n</div>"
     },
     "execution_count": 82,
     "metadata": {},
     "output_type": "execute_result"
    }
   ],
   "source": [
    "grouped_df_embed.head(4)"
   ],
   "metadata": {
    "collapsed": false,
    "ExecuteTime": {
     "end_time": "2023-08-10T09:20:44.345314400Z",
     "start_time": "2023-08-10T09:20:44.301545800Z"
    }
   }
  },
  {
   "cell_type": "markdown",
   "source": [
    "# IGNORE FROM HERE"
   ],
   "metadata": {
    "collapsed": false
   }
  },
  {
   "cell_type": "markdown",
   "source": [
    "## Check in with Franzi's group for reporting"
   ],
   "metadata": {
    "collapsed": false
   },
   "outputs": [],
   "execution_count": 63
  },
  {
   "cell_type": "markdown",
   "source": [
    "### Multilable Model\n",
    "#### WIP in precursor_charge_predictor"
   ],
   "metadata": {
    "collapsed": false,
    "ExecuteTime": {
     "end_time": "2023-07-24T12:27:56.122188900Z",
     "start_time": "2023-07-24T12:27:55.994945600Z"
    }
   },
   "outputs": [],
   "execution_count": 3
  },
  {
   "cell_type": "code",
   "execution_count": 34,
   "outputs": [],
   "source": [],
   "metadata": {
    "collapsed": false,
    "ExecuteTime": {
     "end_time": "2023-08-03T08:42:27.504839100Z",
     "start_time": "2023-08-03T08:42:25.311855700Z"
    }
   }
  },
  {
   "cell_type": "markdown",
   "source": [
    "## Model Testing\n",
    "### check if models only predict charge 2 or also other charges. Due to 'overrepresentation' the best bet for the model could be to only output charge state 2"
   ],
   "metadata": {
    "collapsed": false,
    "ExecuteTime": {
     "end_time": "2023-07-24T12:28:17.283401900Z",
     "start_time": "2023-07-24T12:28:17.212145Z"
    }
   },
   "outputs": [
    {
     "ename": "TypeError",
     "evalue": "'NoneType' object is not subscriptable",
     "output_type": "error",
     "traceback": [
      "\u001B[1;31m---------------------------------------------------------------------------\u001B[0m",
      "\u001B[1;31mTypeError\u001B[0m                                 Traceback (most recent call last)",
      "Cell \u001B[1;32mIn[6], line 2\u001B[0m\n\u001B[0;32m      1\u001B[0m \u001B[38;5;66;03m# Access the loss, validation loss, and accuracy from the history object\u001B[39;00m\n\u001B[1;32m----> 2\u001B[0m loss \u001B[38;5;241m=\u001B[39m \u001B[43mhistory_cce\u001B[49m\u001B[38;5;241;43m.\u001B[39;49m\u001B[43mhistory\u001B[49m\u001B[43m[\u001B[49m\u001B[38;5;124;43m'\u001B[39;49m\u001B[38;5;124;43mloss\u001B[39;49m\u001B[38;5;124;43m'\u001B[39;49m\u001B[43m]\u001B[49m\n\u001B[0;32m      3\u001B[0m val_loss \u001B[38;5;241m=\u001B[39m history_cce\u001B[38;5;241m.\u001B[39mhistory[\u001B[38;5;124m'\u001B[39m\u001B[38;5;124mval_loss\u001B[39m\u001B[38;5;124m'\u001B[39m]\n\u001B[0;32m      4\u001B[0m accuracy \u001B[38;5;241m=\u001B[39m history_cce\u001B[38;5;241m.\u001B[39mhistory[\u001B[38;5;124m'\u001B[39m\u001B[38;5;124maccuracy\u001B[39m\u001B[38;5;124m'\u001B[39m]\n",
      "\u001B[1;31mTypeError\u001B[0m: 'NoneType' object is not subscriptable"
     ]
    }
   ],
   "execution_count": 6
  },
  {
   "cell_type": "code",
   "execution_count": 34,
   "outputs": [],
   "source": [],
   "metadata": {
    "collapsed": false,
    "ExecuteTime": {
     "end_time": "2023-08-03T08:42:27.533910200Z",
     "start_time": "2023-08-03T08:42:25.395523800Z"
    }
   }
  },
  {
   "cell_type": "markdown",
   "source": [
    "## Hyperparameter Tuning"
   ],
   "metadata": {
    "collapsed": false
   }
  },
  {
   "cell_type": "code",
   "execution_count": 34,
   "outputs": [],
   "source": [],
   "metadata": {
    "collapsed": false,
    "ExecuteTime": {
     "end_time": "2023-08-03T08:42:27.540908800Z",
     "start_time": "2023-08-03T08:42:25.482155200Z"
    }
   }
  },
  {
   "cell_type": "markdown",
   "source": [],
   "metadata": {
    "collapsed": false
   }
  },
  {
   "cell_type": "code",
   "execution_count": 34,
   "outputs": [],
   "source": [],
   "metadata": {
    "collapsed": false,
    "ExecuteTime": {
     "end_time": "2023-08-03T08:42:27.568911Z",
     "start_time": "2023-08-03T08:42:25.571726600Z"
    }
   }
  },
  {
   "cell_type": "markdown",
   "source": [
    "# Inference"
   ],
   "metadata": {
    "collapsed": false
   }
  },
  {
   "cell_type": "code",
   "execution_count": 35,
   "outputs": [
    {
     "data": {
      "text/plain": "2    1401912\n3     787278\n4     220159\n5      34381\n1      26371\n6       4417\nName: precursor_charge, dtype: int64"
     },
     "execution_count": 35,
     "metadata": {},
     "output_type": "execute_result"
    }
   ],
   "source": [
    "batches_parquet[file_list[1]][\"precursor_charge\"].value_counts()"
   ],
   "metadata": {
    "collapsed": false,
    "ExecuteTime": {
     "end_time": "2023-08-03T08:42:27.756256500Z",
     "start_time": "2023-08-03T08:42:25.656261500Z"
    }
   }
  },
  {
   "cell_type": "code",
   "execution_count": 36,
   "outputs": [
    {
     "ename": "OSError",
     "evalue": "No file or directory found at precursor_charge_prediction_model_cce_alpha/cce_wo7_allSequences.h5",
     "output_type": "error",
     "traceback": [
      "\u001B[1;31m---------------------------------------------------------------------------\u001B[0m",
      "\u001B[1;31mOSError\u001B[0m                                   Traceback (most recent call last)",
      "Cell \u001B[1;32mIn[36], line 1\u001B[0m\n\u001B[1;32m----> 1\u001B[0m last_model \u001B[38;5;241m=\u001B[39m \u001B[43mkeras\u001B[49m\u001B[38;5;241;43m.\u001B[39;49m\u001B[43mmodels\u001B[49m\u001B[38;5;241;43m.\u001B[39;49m\u001B[43mload_model\u001B[49m\u001B[43m(\u001B[49m\u001B[38;5;124;43m'\u001B[39;49m\u001B[38;5;124;43mprecursor_charge_prediction_model_cce_alpha/cce_wo7_allSequences.h5\u001B[39;49m\u001B[38;5;124;43m'\u001B[39;49m\u001B[43m)\u001B[49m\n",
      "File \u001B[1;32m~\\OneDrive\\Dokumente\\GitHub\\BachelorThesis\\venv\\Lib\\site-packages\\keras\\saving\\saving_api.py:212\u001B[0m, in \u001B[0;36mload_model\u001B[1;34m(filepath, custom_objects, compile, safe_mode, **kwargs)\u001B[0m\n\u001B[0;32m    204\u001B[0m     \u001B[38;5;28;01mreturn\u001B[39;00m saving_lib\u001B[38;5;241m.\u001B[39mload_model(\n\u001B[0;32m    205\u001B[0m         filepath,\n\u001B[0;32m    206\u001B[0m         custom_objects\u001B[38;5;241m=\u001B[39mcustom_objects,\n\u001B[0;32m    207\u001B[0m         \u001B[38;5;28mcompile\u001B[39m\u001B[38;5;241m=\u001B[39m\u001B[38;5;28mcompile\u001B[39m,\n\u001B[0;32m    208\u001B[0m         safe_mode\u001B[38;5;241m=\u001B[39msafe_mode,\n\u001B[0;32m    209\u001B[0m     )\n\u001B[0;32m    211\u001B[0m \u001B[38;5;66;03m# Legacy case.\u001B[39;00m\n\u001B[1;32m--> 212\u001B[0m \u001B[38;5;28;01mreturn\u001B[39;00m \u001B[43mlegacy_sm_saving_lib\u001B[49m\u001B[38;5;241;43m.\u001B[39;49m\u001B[43mload_model\u001B[49m\u001B[43m(\u001B[49m\n\u001B[0;32m    213\u001B[0m \u001B[43m    \u001B[49m\u001B[43mfilepath\u001B[49m\u001B[43m,\u001B[49m\u001B[43m \u001B[49m\u001B[43mcustom_objects\u001B[49m\u001B[38;5;241;43m=\u001B[39;49m\u001B[43mcustom_objects\u001B[49m\u001B[43m,\u001B[49m\u001B[43m \u001B[49m\u001B[38;5;28;43mcompile\u001B[39;49m\u001B[38;5;241;43m=\u001B[39;49m\u001B[38;5;28;43mcompile\u001B[39;49m\u001B[43m,\u001B[49m\u001B[43m \u001B[49m\u001B[38;5;241;43m*\u001B[39;49m\u001B[38;5;241;43m*\u001B[39;49m\u001B[43mkwargs\u001B[49m\n\u001B[0;32m    214\u001B[0m \u001B[43m\u001B[49m\u001B[43m)\u001B[49m\n",
      "File \u001B[1;32m~\\OneDrive\\Dokumente\\GitHub\\BachelorThesis\\venv\\Lib\\site-packages\\keras\\utils\\traceback_utils.py:70\u001B[0m, in \u001B[0;36mfilter_traceback.<locals>.error_handler\u001B[1;34m(*args, **kwargs)\u001B[0m\n\u001B[0;32m     67\u001B[0m     filtered_tb \u001B[38;5;241m=\u001B[39m _process_traceback_frames(e\u001B[38;5;241m.\u001B[39m__traceback__)\n\u001B[0;32m     68\u001B[0m     \u001B[38;5;66;03m# To get the full stack trace, call:\u001B[39;00m\n\u001B[0;32m     69\u001B[0m     \u001B[38;5;66;03m# `tf.debugging.disable_traceback_filtering()`\u001B[39;00m\n\u001B[1;32m---> 70\u001B[0m     \u001B[38;5;28;01mraise\u001B[39;00m e\u001B[38;5;241m.\u001B[39mwith_traceback(filtered_tb) \u001B[38;5;28;01mfrom\u001B[39;00m \u001B[38;5;28mNone\u001B[39m\n\u001B[0;32m     71\u001B[0m \u001B[38;5;28;01mfinally\u001B[39;00m:\n\u001B[0;32m     72\u001B[0m     \u001B[38;5;28;01mdel\u001B[39;00m filtered_tb\n",
      "File \u001B[1;32m~\\OneDrive\\Dokumente\\GitHub\\BachelorThesis\\venv\\Lib\\site-packages\\keras\\saving\\legacy\\save.py:230\u001B[0m, in \u001B[0;36mload_model\u001B[1;34m(filepath, custom_objects, compile, options)\u001B[0m\n\u001B[0;32m    228\u001B[0m \u001B[38;5;28;01mif\u001B[39;00m \u001B[38;5;28misinstance\u001B[39m(filepath_str, \u001B[38;5;28mstr\u001B[39m):\n\u001B[0;32m    229\u001B[0m     \u001B[38;5;28;01mif\u001B[39;00m \u001B[38;5;129;01mnot\u001B[39;00m tf\u001B[38;5;241m.\u001B[39mio\u001B[38;5;241m.\u001B[39mgfile\u001B[38;5;241m.\u001B[39mexists(filepath_str):\n\u001B[1;32m--> 230\u001B[0m         \u001B[38;5;28;01mraise\u001B[39;00m \u001B[38;5;167;01mIOError\u001B[39;00m(\n\u001B[0;32m    231\u001B[0m             \u001B[38;5;124mf\u001B[39m\u001B[38;5;124m\"\u001B[39m\u001B[38;5;124mNo file or directory found at \u001B[39m\u001B[38;5;132;01m{\u001B[39;00mfilepath_str\u001B[38;5;132;01m}\u001B[39;00m\u001B[38;5;124m\"\u001B[39m\n\u001B[0;32m    232\u001B[0m         )\n\u001B[0;32m    234\u001B[0m     \u001B[38;5;28;01mif\u001B[39;00m tf\u001B[38;5;241m.\u001B[39mio\u001B[38;5;241m.\u001B[39mgfile\u001B[38;5;241m.\u001B[39misdir(filepath_str):\n\u001B[0;32m    235\u001B[0m         \u001B[38;5;28;01mreturn\u001B[39;00m saved_model_load\u001B[38;5;241m.\u001B[39mload(\n\u001B[0;32m    236\u001B[0m             filepath_str, \u001B[38;5;28mcompile\u001B[39m, options\n\u001B[0;32m    237\u001B[0m         )\n",
      "\u001B[1;31mOSError\u001B[0m: No file or directory found at precursor_charge_prediction_model_cce_alpha/cce_wo7_allSequences.h5"
     ]
    }
   ],
   "source": [
    "last_model = keras.models.load_model('precursor_charge_prediction_model_cce_alpha/cce_wo7_allSequences.h5')"
   ],
   "metadata": {
    "collapsed": false,
    "ExecuteTime": {
     "start_time": "2023-08-03T08:42:25.674139100Z"
    }
   }
  },
  {
   "cell_type": "code",
   "execution_count": null,
   "outputs": [],
   "source": [
    "batches_parquet.keys()"
   ],
   "metadata": {
    "collapsed": false,
    "ExecuteTime": {
     "start_time": "2023-08-03T08:42:25.705539100Z"
    }
   }
  },
  {
   "cell_type": "code",
   "execution_count": null,
   "outputs": [],
   "source": [
    "# Make validation data\n",
    "inference_df = batches_parquet[file_list[1]][[\"precursor_charge\", \"modified_sequence_vector\", \"precursor_intensity\"]].copy()"
   ],
   "metadata": {
    "collapsed": false,
    "ExecuteTime": {
     "start_time": "2023-08-03T08:42:25.706538100Z"
    }
   }
  },
  {
   "cell_type": "code",
   "execution_count": null,
   "outputs": [],
   "source": [
    "inference_df.head(4)"
   ],
   "metadata": {
    "collapsed": false,
    "ExecuteTime": {
     "start_time": "2023-08-03T08:42:25.707540100Z"
    }
   }
  },
  {
   "cell_type": "code",
   "execution_count": null,
   "outputs": [],
   "source": [
    "[len(i) for i in inference_df[\"modified_sequence_vector\"] if len(i) != 50]"
   ],
   "metadata": {
    "collapsed": false,
    "ExecuteTime": {
     "start_time": "2023-08-03T08:42:25.708539900Z"
    }
   }
  },
  {
   "cell_type": "code",
   "execution_count": null,
   "outputs": [],
   "source": [
    "inference_df = inference_df[inference_df['modified_sequence_vector'].apply(lambda x: len(x) <= 50)]"
   ],
   "metadata": {
    "collapsed": false,
    "ExecuteTime": {
     "start_time": "2023-08-03T08:42:25.709538Z"
    }
   }
  },
  {
   "cell_type": "markdown",
   "source": [],
   "metadata": {
    "collapsed": false
   }
  },
  {
   "cell_type": "code",
   "execution_count": 37,
   "outputs": [
    {
     "ename": "NameError",
     "evalue": "name 'inference_df' is not defined",
     "output_type": "error",
     "traceback": [
      "\u001B[1;31m---------------------------------------------------------------------------\u001B[0m",
      "\u001B[1;31mNameError\u001B[0m                                 Traceback (most recent call last)",
      "Cell \u001B[1;32mIn[37], line 1\u001B[0m\n\u001B[1;32m----> 1\u001B[0m [\u001B[38;5;28mlen\u001B[39m(i) \u001B[38;5;28;01mfor\u001B[39;00m i \u001B[38;5;129;01min\u001B[39;00m \u001B[43minference_df\u001B[49m[\u001B[38;5;124m\"\u001B[39m\u001B[38;5;124mmodified_sequence_vector\u001B[39m\u001B[38;5;124m\"\u001B[39m] \u001B[38;5;28;01mif\u001B[39;00m \u001B[38;5;28mlen\u001B[39m(i) \u001B[38;5;241m!=\u001B[39m \u001B[38;5;241m50\u001B[39m]\n",
      "\u001B[1;31mNameError\u001B[0m: name 'inference_df' is not defined"
     ]
    }
   ],
   "source": [
    "[len(i) for i in inference_df[\"modified_sequence_vector\"] if len(i) != 50]"
   ],
   "metadata": {
    "collapsed": false,
    "ExecuteTime": {
     "start_time": "2023-08-03T08:42:25.744538500Z"
    }
   }
  },
  {
   "cell_type": "code",
   "execution_count": null,
   "outputs": [],
   "source": [
    "[i for i in inference_df[\"precursor_charge\"] if i not in [2,3,4]]"
   ],
   "metadata": {
    "collapsed": false,
    "ExecuteTime": {
     "start_time": "2023-08-03T08:42:25.757303300Z"
    }
   }
  },
  {
   "cell_type": "code",
   "execution_count": null,
   "outputs": [],
   "source": [
    "[i for i in inference_df[\"precursor_intensity\"] if i > 1000000000000]"
   ],
   "metadata": {
    "collapsed": false,
    "ExecuteTime": {
     "start_time": "2023-08-03T08:42:25.758304Z"
    }
   }
  },
  {
   "cell_type": "code",
   "execution_count": null,
   "outputs": [],
   "source": [
    "inference_df"
   ],
   "metadata": {
    "collapsed": false,
    "ExecuteTime": {
     "start_time": "2023-08-03T08:42:25.759305100Z"
    }
   }
  },
  {
   "cell_type": "markdown",
   "source": [],
   "metadata": {
    "collapsed": false
   }
  },
  {
   "cell_type": "code",
   "execution_count": 38,
   "outputs": [
    {
     "ename": "NameError",
     "evalue": "name 'inference_df' is not defined",
     "output_type": "error",
     "traceback": [
      "\u001B[1;31m---------------------------------------------------------------------------\u001B[0m",
      "\u001B[1;31mNameError\u001B[0m                                 Traceback (most recent call last)",
      "Cell \u001B[1;32mIn[38], line 1\u001B[0m\n\u001B[1;32m----> 1\u001B[0m inference_df[\u001B[38;5;28mlist\u001B[39m(\u001B[38;5;28mrange\u001B[39m(\u001B[38;5;241m0\u001B[39m, \u001B[38;5;241m50\u001B[39m))] \u001B[38;5;241m=\u001B[39m pd\u001B[38;5;241m.\u001B[39mDataFrame(\u001B[43minference_df\u001B[49m[\u001B[38;5;124m\"\u001B[39m\u001B[38;5;124mmodified_sequence_vector\u001B[39m\u001B[38;5;124m\"\u001B[39m]\u001B[38;5;241m.\u001B[39mtolist(), index\u001B[38;5;241m=\u001B[39m inference_df\u001B[38;5;241m.\u001B[39mindex)\n",
      "\u001B[1;31mNameError\u001B[0m: name 'inference_df' is not defined"
     ]
    }
   ],
   "source": [
    "inference_df[list(range(0, 50))] = pd.DataFrame(inference_df[\"modified_sequence_vector\"].tolist(), index= inference_df.index)"
   ],
   "metadata": {
    "collapsed": false,
    "ExecuteTime": {
     "start_time": "2023-08-03T08:42:25.830829100Z"
    }
   }
  },
  {
   "cell_type": "code",
   "execution_count": null,
   "outputs": [],
   "source": [
    "inference_df.drop(\"modified_sequence_vector\", axis=1, inplace=True)"
   ],
   "metadata": {
    "collapsed": false,
    "ExecuteTime": {
     "start_time": "2023-08-03T08:42:25.843902500Z"
    }
   }
  },
  {
   "cell_type": "code",
   "execution_count": null,
   "outputs": [],
   "source": [
    "inference_df.head(4)"
   ],
   "metadata": {
    "collapsed": false,
    "ExecuteTime": {
     "start_time": "2023-08-03T08:42:25.844902200Z"
    }
   }
  },
  {
   "cell_type": "code",
   "execution_count": null,
   "outputs": [],
   "source": [
    "inference_ds = tf.convert_to_tensor(inference_df)"
   ],
   "metadata": {
    "collapsed": false,
    "ExecuteTime": {
     "start_time": "2023-08-03T08:42:25.845904400Z"
    }
   }
  },
  {
   "cell_type": "code",
   "execution_count": null,
   "outputs": [],
   "source": [
    "inference_target = inference_ds[:, 0]\n",
    "inference_features = inference_ds[:, 1:]"
   ],
   "metadata": {
    "collapsed": false,
    "ExecuteTime": {
     "start_time": "2023-08-03T08:42:25.846907800Z"
    }
   }
  },
  {
   "cell_type": "code",
   "execution_count": null,
   "outputs": [],
   "source": [
    "inference_target_labels =  np.array([one_hot_precursor(i, charges=charge_ranges) for i in inference_target])"
   ],
   "metadata": {
    "collapsed": false,
    "ExecuteTime": {
     "start_time": "2023-08-03T08:42:25.847905400Z"
    }
   }
  },
  {
   "cell_type": "code",
   "execution_count": null,
   "outputs": [],
   "source": [
    "results = model_cce.evaluate(inference_features, inference_target_labels, batch_size=256)\n",
    "print(\"test loss, test acc:\", results)"
   ],
   "metadata": {
    "collapsed": false,
    "ExecuteTime": {
     "start_time": "2023-08-03T08:42:25.849904200Z"
    }
   }
  },
  {
   "cell_type": "markdown",
   "source": [
    "## Evaluate the models\n",
    "- confusion matrix\n",
    "- accuracy\n",
    "- loss"
   ],
   "metadata": {
    "collapsed": false
   }
  },
  {
   "cell_type": "markdown",
   "source": [
    "Confusion Matrix"
   ],
   "metadata": {
    "collapsed": false
   }
  },
  {
   "cell_type": "code",
   "execution_count": 39,
   "outputs": [
    {
     "ename": "AxisError",
     "evalue": "axis 1 is out of bounds for array of dimension 1",
     "output_type": "error",
     "traceback": [
      "\u001B[1;31m---------------------------------------------------------------------------\u001B[0m",
      "\u001B[1;31mAxisError\u001B[0m                                 Traceback (most recent call last)",
      "Cell \u001B[1;32mIn[39], line 2\u001B[0m\n\u001B[0;32m      1\u001B[0m \u001B[38;5;28;01mimport\u001B[39;00m \u001B[38;5;21;01msklearn\u001B[39;00m\n\u001B[1;32m----> 2\u001B[0m matrix \u001B[38;5;241m=\u001B[39m sklearn\u001B[38;5;241m.\u001B[39mmetrics\u001B[38;5;241m.\u001B[39mconfusion_matrix(\u001B[43mtrain_ds_labels\u001B[49m\u001B[38;5;241;43m.\u001B[39;49m\u001B[43margmax\u001B[49m\u001B[43m(\u001B[49m\u001B[43maxis\u001B[49m\u001B[38;5;241;43m=\u001B[39;49m\u001B[38;5;241;43m1\u001B[39;49m\u001B[43m)\u001B[49m, inference_target_labels\u001B[38;5;241m.\u001B[39margmax(axis\u001B[38;5;241m=\u001B[39m\u001B[38;5;241m1\u001B[39m))\n",
      "\u001B[1;31mAxisError\u001B[0m: axis 1 is out of bounds for array of dimension 1"
     ]
    }
   ],
   "source": [
    "import sklearn\n",
    "matrix = sklearn.metrics.confusion_matrix(train_ds_labels.argmax(axis=1), inference_target_labels.argmax(axis=1))"
   ],
   "metadata": {
    "collapsed": false,
    "ExecuteTime": {
     "start_time": "2023-08-03T08:42:26.001443700Z"
    }
   }
  },
  {
   "cell_type": "code",
   "execution_count": null,
   "outputs": [],
   "source": [
    "#!pip install scikit-learn\n",
    "#!pip install numpy --upgrade\n",
    "#!pip install pandas --upgrade\n",
    "#!pip install matplotlib --upgrade\n",
    "from sklearn.metrics import confusion_matrix\n",
    "from sklearn.metrics import classification_report\n",
    "import pandas as pd\n",
    "#do_predictions = model.predict(test_ds)\n",
    "\n",
    "y_pred = []\n",
    "y_true = []\n",
    "\n",
    "# iterate over the dataset\n",
    "for index, i in enumerate(inference_ds):   # use dataset.unbatch() with repeat\n",
    "   print(inference_target_labels[index])\n",
    "   print(inference_features[index])\n",
    "   # append true labels\n",
    "   y_true.append(inference_target_labels[index])\n",
    "   # compute predictions\n",
    "   preds = model_cce.predict(inference_features[index])\n",
    "   # append predicted labels\n",
    "   y_pred.append(np.argmax(preds, axis = -1))\n",
    "# convert the true and predicted labels into tensors\n",
    "true_labels = tf.cast(tf.concat([item for item in y_true], axis = 0), tf.float32)\n",
    "predicted_labels = tf.cast(tf.concat([item for item in y_pred], axis = 0), tf.float32)\n",
    "\n",
    "\n",
    "cm = confusion_matrix(true_labels, predicted_labels)\n",
    "#print(cm)\n",
    "report = classification_report(true_labels,predicted_labels, target_names=class_names)\n",
    "\n",
    "report_dict = classification_report(true_labels, predicted_labels, output_dict=True)\n",
    "#print(report_dict)\n",
    "print(report)\n",
    "\n",
    "#pd.DataFrame(report_dict).transpose()\n"
   ],
   "metadata": {
    "collapsed": false,
    "ExecuteTime": {
     "start_time": "2023-08-03T08:42:26.013394300Z"
    }
   }
  },
  {
   "cell_type": "markdown",
   "source": [
    "Accuracy/ Sens/ Spec"
   ],
   "metadata": {
    "collapsed": false,
    "ExecuteTime": {
     "end_time": "2023-07-24T12:31:25.645324800Z",
     "start_time": "2023-07-24T12:31:25.552652300Z"
    }
   },
   "outputs": [],
   "execution_count": 15
  },
  {
   "cell_type": "code",
   "execution_count": 40,
   "outputs": [
    {
     "ename": "NameError",
     "evalue": "name 'true_labels' is not defined",
     "output_type": "error",
     "traceback": [
      "\u001B[1;31m---------------------------------------------------------------------------\u001B[0m",
      "\u001B[1;31mNameError\u001B[0m                                 Traceback (most recent call last)",
      "Cell \u001B[1;32mIn[40], line 30\u001B[0m\n\u001B[0;32m     26\u001B[0m     \u001B[38;5;28;01mreturn\u001B[39;00m numerator \u001B[38;5;241m/\u001B[39m (denominator \u001B[38;5;241m+\u001B[39m K\u001B[38;5;241m.\u001B[39mepsilon())\n\u001B[0;32m     29\u001B[0m \u001B[38;5;66;03m#print(true_labels, predicted_labels)\u001B[39;00m\n\u001B[1;32m---> 30\u001B[0m \u001B[38;5;28mprint\u001B[39m(\u001B[38;5;124m\"\u001B[39m\u001B[38;5;124m matthews_correlation(rounded): \u001B[39m\u001B[38;5;124m\"\u001B[39m, (matthews_correlation(\u001B[43mtrue_labels\u001B[49m, predicted_labels)\u001B[38;5;241m.\u001B[39mnumpy()))\n",
      "\u001B[1;31mNameError\u001B[0m: name 'true_labels' is not defined"
     ]
    }
   ],
   "source": [
    "import keras.backend as K\n",
    "def matthews_correlation(y_true, y_pred):\n",
    "    #print(y_pred.shape, y_true.shape)\n",
    "    y_pred_pos = K.round(K.clip(y_pred, 0, 1))\n",
    "    y_pred_neg = 1 - y_pred_pos\n",
    "\n",
    "    y_pos = K.round(K.clip(y_true, 0, 1))\n",
    "    y_neg = 1 - y_pos\n",
    "\n",
    "    tp = K.sum(K.cast(y_pos * y_pred_pos, 'float32'))\n",
    "    tn = K.sum(K.cast(y_neg * y_pred_neg, 'float32'))\n",
    "    fp = K.sum(K.cast(y_neg * y_pred_pos, 'float32'))\n",
    "    fn = K.sum(K.cast(y_pos * y_pred_neg, 'float32'))\n",
    "\n",
    "    print(\"OVERALL:\")\n",
    "    print(\" Accuracy \", ((tp + tn) / (tp + tn + fp + fn)).numpy())\n",
    "    print(\" Sensitivity \", (tp / (tp + fn)).numpy())\n",
    "    print(\" Specificity \", (tn / (tn + fp)).numpy())\n",
    "\n",
    "    numerator = (tp * tn - fp * fn)\n",
    "    #print(tp.numpy(), fp.numpy())\n",
    "    test = (((tp + fp) * (tp + fn) * (tn + fp) * (tn + fn)))\n",
    "    #print(test)\n",
    "    denominator = K.sqrt(K.cast(test, 'float32'))\n",
    "\n",
    "    return numerator / (denominator + K.epsilon())\n",
    "\n",
    "\n",
    "#print(true_labels, predicted_labels)\n",
    "print(\" matthews_correlation(rounded): \", (matthews_correlation(true_labels, predicted_labels).numpy()))"
   ],
   "metadata": {
    "collapsed": false,
    "ExecuteTime": {
     "start_time": "2023-08-03T08:42:26.111427600Z"
    }
   }
  },
  {
   "cell_type": "markdown",
   "source": [
    "MCC"
   ],
   "metadata": {
    "collapsed": false,
    "ExecuteTime": {
     "end_time": "2023-07-24T12:31:59.929377Z",
     "start_time": "2023-07-24T12:31:45.294917300Z"
    }
   },
   "outputs": [
    {
     "ename": "ValueError",
     "evalue": "Columns must be same length as key",
     "output_type": "error",
     "traceback": [
      "\u001B[1;31m---------------------------------------------------------------------------\u001B[0m",
      "\u001B[1;31mValueError\u001B[0m                                Traceback (most recent call last)",
      "Cell \u001B[1;32mIn[18], line 3\u001B[0m\n\u001B[0;32m      1\u001B[0m split_to_columns \u001B[38;5;241m=\u001B[39m \u001B[38;5;28;01mTrue\u001B[39;00m \u001B[38;5;66;03m# TODO SET BOOL\u001B[39;00m\n\u001B[0;32m      2\u001B[0m \u001B[38;5;28;01mif\u001B[39;00m split_to_columns:\n\u001B[1;32m----> 3\u001B[0m     \u001B[43minference_df\u001B[49m\u001B[43m[\u001B[49m\u001B[38;5;28;43mlist\u001B[39;49m\u001B[43m(\u001B[49m\u001B[38;5;28;43mrange\u001B[39;49m\u001B[43m(\u001B[49m\u001B[38;5;241;43m0\u001B[39;49m\u001B[43m,\u001B[49m\u001B[43m \u001B[49m\u001B[38;5;241;43m40\u001B[39;49m\u001B[43m)\u001B[49m\u001B[43m)\u001B[49m\u001B[43m]\u001B[49m \u001B[38;5;241m=\u001B[39m pd\u001B[38;5;241m.\u001B[39mDataFrame(inference_df[\u001B[38;5;124m\"\u001B[39m\u001B[38;5;124mmodified_sequence_vector\u001B[39m\u001B[38;5;124m\"\u001B[39m]\u001B[38;5;241m.\u001B[39mtolist(), index\u001B[38;5;241m=\u001B[39m inference_df\u001B[38;5;241m.\u001B[39mindex)\n\u001B[0;32m      4\u001B[0m     inference_df\u001B[38;5;241m.\u001B[39mdrop(\u001B[38;5;124m\"\u001B[39m\u001B[38;5;124mmodified_sequence_vector\u001B[39m\u001B[38;5;124m\"\u001B[39m, axis\u001B[38;5;241m=\u001B[39m\u001B[38;5;241m1\u001B[39m, inplace\u001B[38;5;241m=\u001B[39m\u001B[38;5;28;01mTrue\u001B[39;00m)\n",
      "File \u001B[1;32m~\\OneDrive\\Dokumente\\GitHub\\BachelorThesis\\venv\\Lib\\site-packages\\pandas\\core\\frame.py:3968\u001B[0m, in \u001B[0;36mDataFrame.__setitem__\u001B[1;34m(self, key, value)\u001B[0m\n\u001B[0;32m   3966\u001B[0m     \u001B[38;5;28mself\u001B[39m\u001B[38;5;241m.\u001B[39m_setitem_frame(key, value)\n\u001B[0;32m   3967\u001B[0m \u001B[38;5;28;01melif\u001B[39;00m \u001B[38;5;28misinstance\u001B[39m(key, (Series, np\u001B[38;5;241m.\u001B[39mndarray, \u001B[38;5;28mlist\u001B[39m, Index)):\n\u001B[1;32m-> 3968\u001B[0m     \u001B[38;5;28;43mself\u001B[39;49m\u001B[38;5;241;43m.\u001B[39;49m\u001B[43m_setitem_array\u001B[49m\u001B[43m(\u001B[49m\u001B[43mkey\u001B[49m\u001B[43m,\u001B[49m\u001B[43m \u001B[49m\u001B[43mvalue\u001B[49m\u001B[43m)\u001B[49m\n\u001B[0;32m   3969\u001B[0m \u001B[38;5;28;01melif\u001B[39;00m \u001B[38;5;28misinstance\u001B[39m(value, DataFrame):\n\u001B[0;32m   3970\u001B[0m     \u001B[38;5;28mself\u001B[39m\u001B[38;5;241m.\u001B[39m_set_item_frame_value(key, value)\n",
      "File \u001B[1;32m~\\OneDrive\\Dokumente\\GitHub\\BachelorThesis\\venv\\Lib\\site-packages\\pandas\\core\\frame.py:4010\u001B[0m, in \u001B[0;36mDataFrame._setitem_array\u001B[1;34m(self, key, value)\u001B[0m\n\u001B[0;32m   4005\u001B[0m \u001B[38;5;28;01melse\u001B[39;00m:\n\u001B[0;32m   4006\u001B[0m     \u001B[38;5;66;03m# Note: unlike self.iloc[:, indexer] = value, this will\u001B[39;00m\n\u001B[0;32m   4007\u001B[0m     \u001B[38;5;66;03m#  never try to overwrite values inplace\u001B[39;00m\n\u001B[0;32m   4009\u001B[0m     \u001B[38;5;28;01mif\u001B[39;00m \u001B[38;5;28misinstance\u001B[39m(value, DataFrame):\n\u001B[1;32m-> 4010\u001B[0m         \u001B[43mcheck_key_length\u001B[49m\u001B[43m(\u001B[49m\u001B[38;5;28;43mself\u001B[39;49m\u001B[38;5;241;43m.\u001B[39;49m\u001B[43mcolumns\u001B[49m\u001B[43m,\u001B[49m\u001B[43m \u001B[49m\u001B[43mkey\u001B[49m\u001B[43m,\u001B[49m\u001B[43m \u001B[49m\u001B[43mvalue\u001B[49m\u001B[43m)\u001B[49m\n\u001B[0;32m   4011\u001B[0m         \u001B[38;5;28;01mfor\u001B[39;00m k1, k2 \u001B[38;5;129;01min\u001B[39;00m \u001B[38;5;28mzip\u001B[39m(key, value\u001B[38;5;241m.\u001B[39mcolumns):\n\u001B[0;32m   4012\u001B[0m             \u001B[38;5;28mself\u001B[39m[k1] \u001B[38;5;241m=\u001B[39m value[k2]\n",
      "File \u001B[1;32m~\\OneDrive\\Dokumente\\GitHub\\BachelorThesis\\venv\\Lib\\site-packages\\pandas\\core\\indexers\\utils.py:401\u001B[0m, in \u001B[0;36mcheck_key_length\u001B[1;34m(columns, key, value)\u001B[0m\n\u001B[0;32m    399\u001B[0m \u001B[38;5;28;01mif\u001B[39;00m columns\u001B[38;5;241m.\u001B[39mis_unique:\n\u001B[0;32m    400\u001B[0m     \u001B[38;5;28;01mif\u001B[39;00m \u001B[38;5;28mlen\u001B[39m(value\u001B[38;5;241m.\u001B[39mcolumns) \u001B[38;5;241m!=\u001B[39m \u001B[38;5;28mlen\u001B[39m(key):\n\u001B[1;32m--> 401\u001B[0m         \u001B[38;5;28;01mraise\u001B[39;00m \u001B[38;5;167;01mValueError\u001B[39;00m(\u001B[38;5;124m\"\u001B[39m\u001B[38;5;124mColumns must be same length as key\u001B[39m\u001B[38;5;124m\"\u001B[39m)\n\u001B[0;32m    402\u001B[0m \u001B[38;5;28;01melse\u001B[39;00m:\n\u001B[0;32m    403\u001B[0m     \u001B[38;5;66;03m# Missing keys in columns are represented as -1\u001B[39;00m\n\u001B[0;32m    404\u001B[0m     \u001B[38;5;28;01mif\u001B[39;00m \u001B[38;5;28mlen\u001B[39m(columns\u001B[38;5;241m.\u001B[39mget_indexer_non_unique(key)[\u001B[38;5;241m0\u001B[39m]) \u001B[38;5;241m!=\u001B[39m \u001B[38;5;28mlen\u001B[39m(value\u001B[38;5;241m.\u001B[39mcolumns):\n",
      "\u001B[1;31mValueError\u001B[0m: Columns must be same length as key"
     ]
    }
   ],
   "execution_count": 18
  },
  {
   "cell_type": "code",
   "execution_count": 41,
   "outputs": [
    {
     "ename": "NameError",
     "evalue": "name 'true_labels' is not defined",
     "output_type": "error",
     "traceback": [
      "\u001B[1;31m---------------------------------------------------------------------------\u001B[0m",
      "\u001B[1;31mNameError\u001B[0m                                 Traceback (most recent call last)",
      "Cell \u001B[1;32mIn[41], line 3\u001B[0m\n\u001B[0;32m      1\u001B[0m \u001B[38;5;28;01mfrom\u001B[39;00m \u001B[38;5;21;01msklearn\u001B[39;00m\u001B[38;5;21;01m.\u001B[39;00m\u001B[38;5;21;01mmetrics\u001B[39;00m \u001B[38;5;28;01mimport\u001B[39;00m matthews_corrcoef\n\u001B[1;32m----> 3\u001B[0m \u001B[38;5;28mprint\u001B[39m(\u001B[38;5;124m\"\u001B[39m\u001B[38;5;124mmatthews_correlation:\u001B[39m\u001B[38;5;124m\"\u001B[39m, matthews_corrcoef(\u001B[43mtrue_labels\u001B[49m, predicted_labels))\n",
      "\u001B[1;31mNameError\u001B[0m: name 'true_labels' is not defined"
     ]
    }
   ],
   "source": [
    "from sklearn.metrics import matthews_corrcoef\n",
    "\n",
    "print(\"matthews_correlation:\", matthews_corrcoef(true_labels, predicted_labels))"
   ],
   "metadata": {
    "collapsed": false,
    "ExecuteTime": {
     "start_time": "2023-08-03T08:42:26.195470800Z"
    }
   }
  },
  {
   "cell_type": "markdown",
   "source": [
    "Direct eval:"
   ],
   "metadata": {
    "collapsed": false
   }
  },
  {
   "cell_type": "code",
   "execution_count": 42,
   "outputs": [],
   "source": [
    "from tensorflow.keras.metrics import Precision, Recall, BinaryAccuracy\n",
    "\n",
    "eval_prec = Precision()\n",
    "eval_rec = Recall()\n",
    "eval_acc = BinaryAccuracy()"
   ],
   "metadata": {
    "collapsed": false,
    "ExecuteTime": {
     "end_time": "2023-08-03T08:42:28.231146800Z",
     "start_time": "2023-08-03T08:42:26.279159100Z"
    }
   }
  },
  {
   "cell_type": "code",
   "execution_count": 43,
   "outputs": [
    {
     "ename": "NameError",
     "evalue": "name 'test_ds' is not defined",
     "output_type": "error",
     "traceback": [
      "\u001B[1;31m---------------------------------------------------------------------------\u001B[0m",
      "\u001B[1;31mNameError\u001B[0m                                 Traceback (most recent call last)",
      "Cell \u001B[1;32mIn[43], line 1\u001B[0m\n\u001B[1;32m----> 1\u001B[0m \u001B[38;5;28;01mfor\u001B[39;00m batch \u001B[38;5;129;01min\u001B[39;00m \u001B[43mtest_ds\u001B[49m\u001B[38;5;241m.\u001B[39mas_numpy_iterator():\n\u001B[0;32m      2\u001B[0m     X, y \u001B[38;5;241m=\u001B[39m batch\n\u001B[0;32m      3\u001B[0m     y \u001B[38;5;241m=\u001B[39m tf\u001B[38;5;241m.\u001B[39mkeras\u001B[38;5;241m.\u001B[39mutils\u001B[38;5;241m.\u001B[39mto_categorical(y, num_classes\u001B[38;5;241m=\u001B[39m\u001B[38;5;241m13\u001B[39m, dtype\u001B[38;5;241m=\u001B[39m\u001B[38;5;124m'\u001B[39m\u001B[38;5;124mint\u001B[39m\u001B[38;5;124m'\u001B[39m)\n",
      "\u001B[1;31mNameError\u001B[0m: name 'test_ds' is not defined"
     ]
    }
   ],
   "source": [
    "for batch in test_ds.as_numpy_iterator():\n",
    "    X, y = batch\n",
    "    y = tf.keras.utils.to_categorical(y, num_classes=13, dtype='int')\n",
    "    yhat = model.predict(X)\n",
    "    eval_prec.update_state(y, yhat)\n",
    "    eval_rec.update_state(y, yhat)\n",
    "    eval_acc.update_state(y, yhat)"
   ],
   "metadata": {
    "collapsed": false,
    "ExecuteTime": {
     "start_time": "2023-08-03T08:42:26.338089500Z"
    }
   }
  },
  {
   "cell_type": "code",
   "execution_count": null,
   "outputs": [],
   "source": [
    "print(f'Precision: {eval_prec.result().numpy()}, Recall: {eval_rec.result().numpy()}, Accuracy: {eval_acc.result().numpy()}')"
   ],
   "metadata": {
    "collapsed": false,
    "ExecuteTime": {
     "start_time": "2023-08-03T08:42:26.352244Z"
    }
   }
  }
 ],
 "metadata": {
  "kernelspec": {
   "display_name": "Python 3",
   "language": "python",
   "name": "python3"
  },
  "language_info": {
   "codemirror_mode": {
    "name": "ipython",
    "version": 2
   },
   "file_extension": ".py",
   "mimetype": "text/x-python",
   "name": "python",
   "nbconvert_exporter": "python",
   "pygments_lexer": "ipython2",
   "version": "2.7.6"
  }
 },
 "nbformat": 4,
 "nbformat_minor": 0
}

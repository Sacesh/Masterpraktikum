{
 "cells": [
  {
   "cell_type": "markdown",
   "source": [
    "### Dependencies"
   ],
   "metadata": {
    "collapsed": false
   }
  },
  {
   "cell_type": "code",
   "execution_count": 41,
   "outputs": [],
   "source": [],
   "metadata": {
    "collapsed": false,
    "ExecuteTime": {
     "end_time": "2023-08-03T07:47:14.041354200Z",
     "start_time": "2023-08-03T07:47:13.840455900Z"
    }
   }
  },
  {
   "cell_type": "markdown",
   "source": [
    "### Setup"
   ],
   "metadata": {
    "collapsed": false
   }
  },
  {
   "cell_type": "code",
   "execution_count": 41,
   "outputs": [],
   "source": [],
   "metadata": {
    "collapsed": false,
    "ExecuteTime": {
     "end_time": "2023-08-03T07:47:14.041354200Z",
     "start_time": "2023-08-03T07:47:13.848313300Z"
    }
   }
  },
  {
   "cell_type": "markdown",
   "source": [
    "### Data import"
   ],
   "metadata": {
    "collapsed": false
   }
  },
  {
   "cell_type": "code",
   "execution_count": 41,
   "outputs": [],
   "source": [],
   "metadata": {
    "collapsed": false,
    "ExecuteTime": {
     "end_time": "2023-08-03T07:47:14.056992400Z",
     "start_time": "2023-08-03T07:47:13.857519400Z"
    }
   }
  },
  {
   "cell_type": "markdown",
   "source": [
    "### Data preprocessing\n",
    "- remove all columns except: 'modified_sequence', 'precursor_charge', 'precursor_intensity'\n",
    "- filter out unwanted charge states\n",
    "- filter for most abundant charge state per sequence by precursor_intensity after normalizing the values // what if there is no precursor_intensity\n",
    "- generate sequence encoding // first layer - embedding layer\n",
    "- generate precursor_charge one-hot encoding"
   ],
   "metadata": {
    "collapsed": false
   }
  },
  {
   "cell_type": "markdown",
   "source": [
    "#### Filter columns"
   ],
   "metadata": {
    "collapsed": false
   }
  },
  {
   "cell_type": "code",
   "execution_count": 41,
   "outputs": [],
   "source": [],
   "metadata": {
    "collapsed": false,
    "ExecuteTime": {
     "end_time": "2023-08-03T07:47:14.169790500Z",
     "start_time": "2023-08-03T07:47:13.878881100Z"
    }
   }
  },
  {
   "cell_type": "markdown",
   "source": [
    "#### Filter wanted charge range"
   ],
   "metadata": {
    "collapsed": false
   }
  },
  {
   "cell_type": "code",
   "execution_count": 41,
   "outputs": [],
   "source": [],
   "metadata": {
    "collapsed": false,
    "ExecuteTime": {
     "end_time": "2023-08-03T07:47:14.169790500Z",
     "start_time": "2023-08-03T07:47:13.888103300Z"
    }
   }
  },
  {
   "cell_type": "markdown",
   "source": [
    "### Filter most abundant charge state"
   ],
   "metadata": {
    "collapsed": false
   }
  },
  {
   "cell_type": "markdown",
   "source": [
    "#### Normalize precursor intensity"
   ],
   "metadata": {
    "collapsed": false
   }
  },
  {
   "cell_type": "code",
   "execution_count": 41,
   "outputs": [],
   "source": [],
   "metadata": {
    "collapsed": false,
    "ExecuteTime": {
     "end_time": "2023-08-03T07:47:14.169790500Z",
     "start_time": "2023-08-03T07:47:13.903566200Z"
    }
   }
  },
  {
   "cell_type": "markdown",
   "source": [
    "#### Filter for highest precursor intensity per sequence"
   ],
   "metadata": {
    "collapsed": false
   }
  },
  {
   "cell_type": "code",
   "execution_count": 41,
   "outputs": [],
   "source": [],
   "metadata": {
    "collapsed": false,
    "ExecuteTime": {
     "end_time": "2023-08-03T07:47:14.169790500Z",
     "start_time": "2023-08-03T07:47:13.904070900Z"
    }
   }
  },
  {
   "cell_type": "markdown",
   "source": [
    "#### Generate sequence encoding"
   ],
   "metadata": {
    "collapsed": false
   }
  },
  {
   "cell_type": "code",
   "execution_count": 41,
   "outputs": [],
   "source": [],
   "metadata": {
    "collapsed": false,
    "ExecuteTime": {
     "end_time": "2023-08-03T07:47:14.169790500Z",
     "start_time": "2023-08-03T07:47:13.914010300Z"
    }
   }
  },
  {
   "cell_type": "markdown",
   "source": [
    "#### Generate precursor_charge one-hot encoding"
   ],
   "metadata": {
    "collapsed": false
   }
  },
  {
   "cell_type": "code",
   "execution_count": 41,
   "outputs": [],
   "source": [],
   "metadata": {
    "collapsed": false,
    "ExecuteTime": {
     "end_time": "2023-08-03T07:47:14.169790500Z",
     "start_time": "2023-08-03T07:47:13.934564100Z"
    }
   }
  },
  {
   "cell_type": "markdown",
   "source": [
    "# Models\n",
    "\n",
    "General idea:\n",
    "Input: mod_seq_encoded, precursor_charge // precursor_charge_onehot\n",
    "Output: 5 nodes --> highest value == most probable charge for input sequence\n",
    "Use: Softmax, Crossentropy loss\n",
    "\n",
    "\n",
    "random split:\n",
    "- PROSITE\n",
    "- CCE\n",
    "- SCCE // ?\n",
    "\n",
    "stratified split:\n",
    "- PROSITE\n",
    "- CCE\n",
    "- SCCE // ?\n",
    "\n",
    "evaluate models by:\n",
    "- categorical accuracy\n",
    "- f1 score // ?"
   ],
   "metadata": {
    "collapsed": false
   }
  },
  {
   "cell_type": "markdown",
   "source": [
    "#### Random split"
   ],
   "metadata": {
    "collapsed": false
   }
  },
  {
   "cell_type": "code",
   "execution_count": 41,
   "outputs": [],
   "source": [],
   "metadata": {
    "collapsed": false,
    "ExecuteTime": {
     "end_time": "2023-08-03T07:47:14.182800300Z",
     "start_time": "2023-08-03T07:47:13.959521600Z"
    }
   }
  },
  {
   "cell_type": "markdown",
   "source": [
    "#### Stratified split"
   ],
   "metadata": {
    "collapsed": false
   }
  },
  {
   "cell_type": "code",
   "execution_count": 41,
   "outputs": [],
   "source": [],
   "metadata": {
    "collapsed": false,
    "ExecuteTime": {
     "end_time": "2023-08-03T07:47:14.182800300Z",
     "start_time": "2023-08-03T07:47:13.961537600Z"
    }
   }
  },
  {
   "cell_type": "markdown",
   "source": [
    "#### PROSITE"
   ],
   "metadata": {
    "collapsed": false
   }
  },
  {
   "cell_type": "code",
   "execution_count": 42,
   "outputs": [],
   "source": [
    "# model"
   ],
   "metadata": {
    "collapsed": false,
    "ExecuteTime": {
     "end_time": "2023-08-03T07:47:14.198436Z",
     "start_time": "2023-08-03T07:47:13.979668400Z"
    }
   }
  },
  {
   "cell_type": "code",
   "execution_count": 43,
   "outputs": [],
   "source": [
    "# training with random split"
   ],
   "metadata": {
    "collapsed": false,
    "ExecuteTime": {
     "end_time": "2023-08-03T07:47:14.198436Z",
     "start_time": "2023-08-03T07:47:13.979668400Z"
    }
   }
  },
  {
   "cell_type": "code",
   "execution_count": 44,
   "outputs": [],
   "source": [
    "# training with stratified split"
   ],
   "metadata": {
    "collapsed": false,
    "ExecuteTime": {
     "end_time": "2023-08-03T07:47:14.198436Z",
     "start_time": "2023-08-03T07:47:13.993750600Z"
    }
   }
  },
  {
   "cell_type": "code",
   "execution_count": 45,
   "outputs": [],
   "source": [
    "# eval"
   ],
   "metadata": {
    "collapsed": false,
    "ExecuteTime": {
     "end_time": "2023-08-03T07:47:14.214061900Z",
     "start_time": "2023-08-03T07:47:13.994255Z"
    }
   }
  },
  {
   "cell_type": "markdown",
   "source": [
    "#### CCE"
   ],
   "metadata": {
    "collapsed": false
   }
  },
  {
   "cell_type": "code",
   "execution_count": 46,
   "outputs": [],
   "source": [
    "# model"
   ],
   "metadata": {
    "collapsed": false,
    "ExecuteTime": {
     "end_time": "2023-08-03T07:47:14.214061900Z",
     "start_time": "2023-08-03T07:47:13.999851Z"
    }
   }
  },
  {
   "cell_type": "code",
   "execution_count": 47,
   "outputs": [],
   "source": [
    "# training with random split"
   ],
   "metadata": {
    "collapsed": false,
    "ExecuteTime": {
     "end_time": "2023-08-03T07:47:14.214061900Z",
     "start_time": "2023-08-03T07:47:14.009368100Z"
    }
   }
  },
  {
   "cell_type": "code",
   "execution_count": 48,
   "outputs": [],
   "source": [
    "# training with stratified split"
   ],
   "metadata": {
    "collapsed": false,
    "ExecuteTime": {
     "end_time": "2023-08-03T07:47:14.214061900Z",
     "start_time": "2023-08-03T07:47:14.011539700Z"
    }
   }
  },
  {
   "cell_type": "code",
   "execution_count": 49,
   "outputs": [],
   "source": [
    "# eval"
   ],
   "metadata": {
    "collapsed": false,
    "ExecuteTime": {
     "end_time": "2023-08-03T07:47:14.214061900Z",
     "start_time": "2023-08-03T07:47:14.016572400Z"
    }
   }
  },
  {
   "cell_type": "markdown",
   "source": [
    "#### SCCE"
   ],
   "metadata": {
    "collapsed": false
   }
  },
  {
   "cell_type": "code",
   "execution_count": 50,
   "outputs": [],
   "source": [
    "# model"
   ],
   "metadata": {
    "collapsed": false,
    "ExecuteTime": {
     "end_time": "2023-08-03T07:47:14.214061900Z",
     "start_time": "2023-08-03T07:47:14.026062800Z"
    }
   }
  },
  {
   "cell_type": "code",
   "execution_count": 51,
   "outputs": [],
   "source": [
    "# training with random split"
   ],
   "metadata": {
    "collapsed": false,
    "ExecuteTime": {
     "end_time": "2023-08-03T07:47:14.214061900Z",
     "start_time": "2023-08-03T07:47:14.026568100Z"
    }
   }
  },
  {
   "cell_type": "code",
   "execution_count": 52,
   "outputs": [],
   "source": [
    "# training with stratified split"
   ],
   "metadata": {
    "collapsed": false,
    "ExecuteTime": {
     "end_time": "2023-08-03T07:47:14.214061900Z",
     "start_time": "2023-08-03T07:47:14.032622900Z"
    }
   }
  },
  {
   "cell_type": "code",
   "execution_count": 22,
   "outputs": [],
   "source": [
    "# eval"
   ],
   "metadata": {
    "collapsed": false,
    "ExecuteTime": {
     "end_time": "2023-08-03T07:29:55.080108600Z",
     "start_time": "2023-08-03T07:29:54.846714600Z"
    }
   }
  }
 ],
 "metadata": {
  "kernelspec": {
   "display_name": "Python 3",
   "language": "python",
   "name": "python3"
  },
  "language_info": {
   "codemirror_mode": {
    "name": "ipython",
    "version": 2
   },
   "file_extension": ".py",
   "mimetype": "text/x-python",
   "name": "python",
   "nbconvert_exporter": "python",
   "pygments_lexer": "ipython2",
   "version": "2.7.6"
  }
 },
 "nbformat": 4,
 "nbformat_minor": 0
}

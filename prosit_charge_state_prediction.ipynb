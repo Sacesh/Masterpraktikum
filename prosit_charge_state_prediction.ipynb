{
 "cells": [
  {
   "cell_type": "markdown",
   "source": [
    "# Playground to implement W&B as well as start hyperparameter-tuning"
   ],
   "metadata": {
    "collapsed": false
   }
  },
  {
   "cell_type": "markdown",
   "source": [
    "# WanDB"
   ],
   "metadata": {
    "collapsed": false
   }
  },
  {
   "cell_type": "code",
   "execution_count": 127,
   "outputs": [],
   "source": [
    "#%pip install wandb"
   ],
   "metadata": {
    "collapsed": false,
    "ExecuteTime": {
     "end_time": "2023-07-22T12:48:27.642365200Z",
     "start_time": "2023-07-22T12:48:27.393759500Z"
    }
   }
  },
  {
   "cell_type": "code",
   "execution_count": 5,
   "outputs": [],
   "source": [
    "import subprocess\n",
    "import wandb\n",
    "from wandb.keras import WandbCallback\n",
    "import tensorflow as tf\n",
    "import os"
   ],
   "metadata": {
    "collapsed": false,
    "ExecuteTime": {
     "end_time": "2023-07-28T07:53:39.724388300Z",
     "start_time": "2023-07-28T07:53:39.701842900Z"
    }
   }
  },
  {
   "cell_type": "code",
   "execution_count": 2,
   "outputs": [
    {
     "data": {
      "text/plain": "0"
     },
     "execution_count": 2,
     "metadata": {},
     "output_type": "execute_result"
    }
   ],
   "source": [
    "subprocess.call(['wandb', 'login', '4e8d3dcb1584ad129b3b49ccc34f65b20116ae54'])"
   ],
   "metadata": {
    "collapsed": false,
    "ExecuteTime": {
     "end_time": "2023-07-28T07:52:31.505860100Z",
     "start_time": "2023-07-28T07:52:27.191334300Z"
    }
   }
  },
  {
   "cell_type": "code",
   "execution_count": 3,
   "outputs": [
    {
     "name": "stderr",
     "output_type": "stream",
     "text": [
      "\u001B[34m\u001B[1mwandb\u001B[0m: Currently logged in as: \u001B[33mnkopp\u001B[0m (\u001B[33mteam-bioinf\u001B[0m). Use \u001B[1m`wandb login --relogin`\u001B[0m to force relogin\n"
     ]
    },
    {
     "data": {
      "text/plain": "<IPython.core.display.HTML object>",
      "text/html": "wandb version 0.15.7 is available!  To upgrade, please run:\n $ pip install wandb --upgrade"
     },
     "metadata": {},
     "output_type": "display_data"
    },
    {
     "data": {
      "text/plain": "<IPython.core.display.HTML object>",
      "text/html": "Tracking run with wandb version 0.15.5"
     },
     "metadata": {},
     "output_type": "display_data"
    },
    {
     "data": {
      "text/plain": "<IPython.core.display.HTML object>",
      "text/html": "Run data is saved locally in <code>C:\\Users\\micro\\OneDrive\\Dokumente\\GitHub\\Masterpraktikum\\wandb\\run-20230728_095235-thva0abf</code>"
     },
     "metadata": {},
     "output_type": "display_data"
    },
    {
     "data": {
      "text/plain": "<IPython.core.display.HTML object>",
      "text/html": "Syncing run <strong><a href='https://wandb.ai/team-bioinf/precursor_charge_prediction/runs/thva0abf' target=\"_blank\">fiery-grass-8</a></strong> to <a href='https://wandb.ai/team-bioinf/precursor_charge_prediction' target=\"_blank\">Weights & Biases</a> (<a href='https://wandb.me/run' target=\"_blank\">docs</a>)<br/>"
     },
     "metadata": {},
     "output_type": "display_data"
    },
    {
     "data": {
      "text/plain": "<IPython.core.display.HTML object>",
      "text/html": " View project at <a href='https://wandb.ai/team-bioinf/precursor_charge_prediction' target=\"_blank\">https://wandb.ai/team-bioinf/precursor_charge_prediction</a>"
     },
     "metadata": {},
     "output_type": "display_data"
    },
    {
     "data": {
      "text/plain": "<IPython.core.display.HTML object>",
      "text/html": " View run at <a href='https://wandb.ai/team-bioinf/precursor_charge_prediction/runs/thva0abf' target=\"_blank\">https://wandb.ai/team-bioinf/precursor_charge_prediction/runs/thva0abf</a>"
     },
     "metadata": {},
     "output_type": "display_data"
    },
    {
     "data": {
      "text/html": "<button onClick=\"this.nextSibling.style.display='block';this.style.display='none';\">Display W&B run</button><iframe src='https://wandb.ai/team-bioinf/precursor_charge_prediction/runs/thva0abf?jupyter=true' style='border:none;width:100%;height:420px;display:none;'></iframe>",
      "text/plain": "<wandb.sdk.wandb_run.Run at 0x21a14410c50>"
     },
     "execution_count": 3,
     "metadata": {},
     "output_type": "execute_result"
    }
   ],
   "source": [
    "wandb.init(project='precursor_charge_prediction')"
   ],
   "metadata": {
    "collapsed": false,
    "ExecuteTime": {
     "end_time": "2023-07-28T07:52:36.443920100Z",
     "start_time": "2023-07-28T07:52:32.864051400Z"
    }
   }
  },
  {
   "cell_type": "markdown",
   "source": [
    "# Create DLMOX model class"
   ],
   "metadata": {
    "collapsed": false
   }
  },
  {
   "cell_type": "code",
   "execution_count": null,
   "outputs": [],
   "source": [
    "import numpy as np\n",
    "import tensorflow as tf\n",
    "from tensorflow.keras.layers import Input, Embedding, Concatenate, Dense\n",
    "from tensorflow.keras.models import Model\n",
    "\n",
    "# Sample data (replace this with your own dataset)\n",
    "# Here, the first column contains single integers, and the remaining columns contain 3-tuples.\n",
    "# Each row is represented as a list [int, (int, int, int), (int, int, int), ...]\n",
    "data = [\n",
    "    [1, (10, 20, 30), (40, 50, 60)],\n",
    "    [2, (11, 22, 33), (44, 55, 66)],\n",
    "    [3, (12, 24, 36), (48, 60, 72)],\n",
    "    # Add more data rows here\n",
    "]\n",
    "\n",
    "# Convert the data to numpy arrays\n",
    "data = np.array(data)\n",
    "\n",
    "# Extract the first column (single integer column)\n",
    "integer_data = data[:, 0]\n",
    "\n",
    "# Extract the rest of the columns (3-tuple columns)\n",
    "tuple_data = data[:, 1:]\n",
    "\n",
    "# Define the number of unique integer values in the first column (adjust this based on your dataset)\n",
    "num_unique_integers = 10  # Just an example, you should set this based on your data\n",
    "\n",
    "# Define the number of features in the 3-tuple columns (always 3 in this case)\n",
    "num_features_in_tuple = 3\n",
    "\n",
    "# Model inputs\n",
    "integer_input = Input(shape=(1,), name='integer_input')\n",
    "tuple_input = Input(shape=(tuple_data.shape[1], num_features_in_tuple), name='tuple_input')\n",
    "\n",
    "# Embedding layer for the integer input\n",
    "embedded_integer = Embedding(input_dim=num_unique_integers, output_dim=10, input_length=1)(integer_input)\n",
    "\n",
    "# Flatten the embedded_integer layer to match the shape of the tuple_input\n",
    "flattened_integer = tf.keras.layers.Flatten()(embedded_integer)\n",
    "\n",
    "# Concatenate the flattened_integer and tuple_input\n",
    "concatenated = Concatenate(axis=-1)([flattened_integer, tuple_input])\n",
    "\n",
    "# Add additional layers as needed\n",
    "# Example: dense_layer = Dense(64, activation='relu')(concatenated)\n",
    "\n",
    "# Model output\n",
    "# Example: output = Dense(num_classes, activation='softmax')(dense_layer)\n",
    "\n",
    "# Create the model\n",
    "model = Model(inputs=[integer_input, tuple_input], outputs=output)\n",
    "\n",
    "# Compile the model (add loss, optimizer, metrics as appropriate for your task)\n",
    "# Example: model.compile(loss='categorical_crossentropy', optimizer='adam', metrics=['accuracy'])\n",
    "\n",
    "# Print the model summary\n",
    "model.summary()\n"
   ],
   "metadata": {
    "collapsed": false
   }
  },
  {
   "cell_type": "markdown",
   "source": [
    " 1.23 A B C D E\n",
    " 1.23 E D C A B\n",
    " o o o o o o\n",
    "\n",
    " 1.23, ABC, BCD, CDE, ABCD, BCDE"
   ],
   "metadata": {
    "collapsed": false
   }
  },
  {
   "cell_type": "code",
   "execution_count": 10,
   "outputs": [],
   "source": [
    "#%pip install dlomix\n",
    "from dlomix.constants import ALPHABET_UNMOD\n",
    "from dlomix.layers.attention import AttentionLayer, DecoderAttentionLayer\n",
    "class PrositChargeStatePredictor(tf.keras.Model):\n",
    "\n",
    "    def __init__(\n",
    "        self,\n",
    "        embedding_output_dim=16,\n",
    "        seq_length=30,\n",
    "        vocab_dict=ALPHABET_UNMOD,\n",
    "        dropout_rate=0.5,\n",
    "        latent_dropout_rate=0.1,\n",
    "        recurrent_layers_sizes=(256, 512),\n",
    "        regressor_layer_size=512,\n",
    "    ):\n",
    "        super(PrositChargeStatePredictor, self).__init__()\n",
    "\n",
    "        # tie the count of embeddings to the size of the vocabulary (count of amino acids)\n",
    "        self.embeddings_count = len(vocab_dict) + 2\n",
    "\n",
    "        self.dropout_rate = dropout_rate\n",
    "        self.latent_dropout_rate = latent_dropout_rate\n",
    "        self.regressor_layer_size = regressor_layer_size\n",
    "        self.recurrent_layers_sizes = recurrent_layers_sizes\n",
    "\n",
    "        self.string_lookup = preprocessing.StringLookup(\n",
    "            vocabulary=list(vocab_dict.keys())\n",
    "        )\n",
    "\n",
    "        self.embedding = tf.keras.layers.Embedding(\n",
    "            input_dim=self.embeddings_count,\n",
    "            output_dim=embedding_output_dim,\n",
    "            input_length=seq_length,\n",
    "        )\n",
    "        self._build_encoder()\n",
    "\n",
    "        self.attention = AttentionLayer()\n",
    "\n",
    "        self.regressor = tf.keras.Sequential(\n",
    "            [\n",
    "                tf.keras.layers.Dense(self.regressor_layer_size, activation=\"relu\"),\n",
    "                tf.keras.layers.Dropout(rate=self.latent_dropout_rate),\n",
    "            ]\n",
    "        )\n",
    "\n",
    "        self.output_layer = tf.keras.layers.Dense(1)\n",
    "\n",
    "    def _build_encoder(self):\n",
    "        self.encoder = tf.keras.Sequential(\n",
    "            [\n",
    "                tf.keras.layers.Bidirectional(\n",
    "                    tf.keras.layers.GRU(\n",
    "                        units=self.recurrent_layers_sizes[0], return_sequences=True\n",
    "                    )\n",
    "                ),\n",
    "                tf.keras.layers.Dropout(rate=self.dropout_rate),\n",
    "                tf.keras.layers.GRU(\n",
    "                    units=self.recurrent_layers_sizes[1], return_sequences=True\n",
    "                ),\n",
    "                tf.keras.layers.Dropout(rate=self.dropout_rate),\n",
    "            ]\n",
    "        )\n",
    "\n",
    "    def call(self, inputs, **kwargs):\n",
    "        x = self.string_lookup(inputs)\n",
    "        x = self.embedding(x)\n",
    "        x = self.encoder(x)\n",
    "        x = self.attention(x)\n",
    "        x = self.regressor(x)\n",
    "        x = self.output_layer(x)\n",
    "        return x"
   ],
   "metadata": {
    "collapsed": false,
    "ExecuteTime": {
     "end_time": "2023-07-28T07:56:43.172861100Z",
     "start_time": "2023-07-28T07:56:43.146836900Z"
    }
   }
  },
  {
   "cell_type": "markdown",
   "source": [
    "# Create DLomix dataset format"
   ],
   "metadata": {
    "collapsed": false
   }
  },
  {
   "cell_type": "code",
   "execution_count": 144,
   "outputs": [
    {
     "name": "stdout",
     "output_type": "stream",
     "text": [
      "['ABC' 'ABC' 'ABC']\n",
      "[1.12312300e+00 5.15151234e+08 1.23123123e+08]\n",
      "[1 2 3]\n",
      "['ABC' 'ABC' 'ABC']\n",
      "[1.12312300e+00 5.15151234e+08 1.23123123e+08]\n",
      "[1 2 3]\n"
     ]
    }
   ],
   "source": [
    "import json\n",
    "import pandas as pd\n",
    "import numpy as np\n",
    "import tensorflow as tf\n",
    "from dlomix.constants import DEFAULT_PARQUET_ENGINE\n",
    "\n",
    "\"\"\"\n",
    " TODO: check if it is better to abstract out a generic class for TF dataset wrapper, including:\n",
    " - splitting data logic (e.g. include task-specific stratification based on sequence length, iRT values)\n",
    " - loading data logic\n",
    " \"\"\"\n",
    "\n",
    "# take into consideration if the pandas dataframe is pickled or not and then call read_pickle instead of read_csv\n",
    "# allow the possiblity to have three different dataset objects, one for train, val, and test\n",
    "\n",
    "\n",
    "class ChargeStateDataset:\n",
    "    r\"\"\"A dataset class for Retention Time prediction tasks. It initialize a dataset object wrapping tf.Dataset and some relevant preprocessing steps.\n",
    "\n",
    "    Parameters\n",
    "    -----------\n",
    "    data_source : str, tuple of two numpy.ndarray, numpy.ndarray, optional\n",
    "        source can be a tuple of two arrays (sequences, targets), single array (sequences), useful for test data, or a str with a file path to a csv file. Defaults to None.\n",
    "    sep : str, optional\n",
    "        separator to be used if the data source is a CSV file. Defaults to \",\".\n",
    "    sequence_col :  str, optional\n",
    "        name of the column containing the sequences in the provided CSV. Defaults to \"sequence\".\n",
    "    target_col : str, optional\n",
    "        name of the column containing the targets (indexed retention time). Defaults to \"irt\".\n",
    "    feature_cols : list, optional\n",
    "        a list of columns containing other features that can be used later as inputs to a model. Defaults to None.\n",
    "    normalize_targets : bool, optional\n",
    "        a boolean whether to normalize the targets or not (subtract mean and divied by standard deviation). Defaults to False.\n",
    "    seq_length : int, optional\n",
    "        the sequence length to be used, where all sequences will be padded to this length, longer sequences will be removed and not truncated. Defaults to 0.\n",
    "    batch_size : int, optional\n",
    "        the batch size to be used for consuming the dataset in training a model. Defaults to 32.\n",
    "    val_ratio : int, optional\n",
    "        a fraction to determine the size of the validation data (0.2 = 20%). Defaults to 0.\n",
    "    seed: int, optional\n",
    "        a seed to use for splitting the data to allow for a reproducible split. Defaults to 21.\n",
    "    test :bool, optional\n",
    "        a boolean whether the dataset is a test dataset or not. Defaults to False.\n",
    "    path_aminoacid_atomcounts : str, optional\n",
    "        a string with a path to a CSV table with the atom counts of the different amino acids (can be used for feature extraction). Defaults to None.\n",
    "    sample_run : bool, optional\n",
    "        a boolean to limit the number of examples to a small number, SAMPLE_RUN_N, for testing and debugging purposes. Defaults to False.\n",
    "    \"\"\"\n",
    "    ATOM_TABLE = None\n",
    "    SPLIT_NAMES = [\"train\", \"val\", \"test\"]\n",
    "    BATCHES_TO_PREFETCH = tf.data.AUTOTUNE\n",
    "\n",
    "    SAMPLE_RUN_N = 100\n",
    "    METADATA_KEY = \"metadata\"\n",
    "    PARAMS_KEY = \"parameters\"\n",
    "    TARGET_NAME_KEY = \"target_column_key\"\n",
    "\n",
    "    # TODO: For test dataset --> examples with longer sequences --> do not drop, add NaN for prediction\n",
    "\n",
    "    def __init__(\n",
    "        self,\n",
    "        data_source=None,\n",
    "        sep=\",\",\n",
    "        intensity_col=\"precursor_intensity\",\n",
    "        sequence_col=\"modified_sequence\", # TODO !!!\n",
    "        target_col=\"precursor_charge\",\n",
    "        feature_cols=None,\n",
    "        normalize_targets=False,\n",
    "        seq_length=0,\n",
    "        batch_size=32,\n",
    "        val_ratio=0,\n",
    "        seed=21,\n",
    "        test=False,\n",
    "        path_aminoacid_atomcounts=None,\n",
    "        sample_run=False,\n",
    "    ):\n",
    "        super(ChargeStateDataset, self).__init__()\n",
    "\n",
    "        np.random.seed(seed)\n",
    "        self.seed = seed\n",
    "\n",
    "        self.data_source = data_source\n",
    "        self.sep = sep\n",
    "        self.intensity_col = intensity_col\n",
    "        self.sequence_col = sequence_col.lower()\n",
    "        self.target_col = target_col.lower()\n",
    "        if feature_cols:\n",
    "            self.feature_cols = [f.lower() for f in feature_cols]\n",
    "        else:\n",
    "            self.feature_cols = []\n",
    "\n",
    "        self.normalize_targets = normalize_targets\n",
    "        self.sample_run = sample_run\n",
    "\n",
    "        # if seq_length is 0 (default) -> no padding\n",
    "        self.seq_length = seq_length\n",
    "\n",
    "        self._data_mean = 0\n",
    "        self._data_std = 1\n",
    "\n",
    "        self.batch_size = batch_size\n",
    "        self.val_ratio = val_ratio\n",
    "        self.testing_mode = test\n",
    "\n",
    "        self.main_split = (\n",
    "            ChargeStateDataset.SPLIT_NAMES[2]\n",
    "            if self.testing_mode\n",
    "            else ChargeStateDataset.SPLIT_NAMES[0]\n",
    "        )\n",
    "\n",
    "        self.sequences = None\n",
    "        self.targets = None\n",
    "        self.features_df = None\n",
    "        self.example_id = None\n",
    "\n",
    "        # if path to counts lookup table is provided, include count features, otherwise not\n",
    "        self.include_count_features = True if path_aminoacid_atomcounts else False\n",
    "\n",
    "        if self.include_count_features:\n",
    "            self.aminoacid_atom_counts_csv_path = (\n",
    "                path_aminoacid_atomcounts  # \"../lookups/aa_comp_rel.csv\"\n",
    "            )\n",
    "            self._init_atom_table()\n",
    "\n",
    "        # initialize TF Datasets dict\n",
    "        self.tf_dataset = (\n",
    "            {self.main_split: None, ChargeStateDataset.SPLIT_NAMES[1]: None}\n",
    "            if val_ratio != 0\n",
    "            else {self.main_split: None}\n",
    "        )\n",
    "\n",
    "        self.indicies_dict = (\n",
    "            {self.main_split: None, ChargeStateDataset.SPLIT_NAMES[1]: None}\n",
    "            if val_ratio != 0\n",
    "            else {self.main_split: None}\n",
    "        )\n",
    "\n",
    "        # if data is provided with the constructor call --> load, otherwise --> done\n",
    "        if self.data_source is not None:\n",
    "            self.load_data(data=data_source)\n",
    "\n",
    "    def _init_atom_table(self):\n",
    "        atom_counts = pd.read_csv(self.aminoacid_atom_counts_csv_path)\n",
    "        atom_counts = atom_counts.astype(str)\n",
    "\n",
    "        keys_tensor = tf.constant(atom_counts[\"aa\"].values)\n",
    "        values_tensor = tf.constant(\n",
    "            [\"_\".join(c) for c in list(atom_counts.iloc[:, 1:].values)]\n",
    "        )\n",
    "        init = tf.lookup.KeyValueTensorInitializer(keys_tensor, values_tensor)\n",
    "        ChargeStateDataset.ATOM_TABLE = tf.lookup.StaticHashTable(\n",
    "            init, default_value=\"0_0_0_0_0\"\n",
    "        )\n",
    "\n",
    "    def load_data(self, data):\n",
    "        \"\"\"Load data into the dataset object, can be used to load data at a later point after initialization.\n",
    "        This function triggers the whole pipeline of: data loading, validation (against sequence length), splitting, building TensorFlow dataset objects, and apply preprocessing.\n",
    "\n",
    "        :param data: can be: tuple of two arrays (sequences, targets), single array (sequences), useful for test data, or a `str` with a file path toa csv file\n",
    "        :return: None\n",
    "        \"\"\"\n",
    "        self.data_source = data\n",
    "\n",
    "        self._read_data()\n",
    "        self._validate_remove_long_sequences()\n",
    "        self._split_data()\n",
    "        self._build_tf_dataset()\n",
    "        self._preprocess_tf_dataset()\n",
    "\n",
    "    \"\"\"\n",
    "    numpy array --> either a tuple or a single array\n",
    "        - Tuple --> means (sequences, targets)\n",
    "        - single ndarray --> means sequences only, useful for test dataset\n",
    "    str --> path to csv file or compressed csv file\n",
    "    \"\"\"\n",
    "\n",
    "    def _read_data(self):\n",
    "        if isinstance(self.data_source, dict):\n",
    "            self._update_data_loading_for_json_format()\n",
    "\n",
    "        if isinstance(self.data_source, tuple):\n",
    "            tuple_size_is_two = len(self.data_source) == 2\n",
    "            if tuple_size_is_two:\n",
    "                tuple_elements_are_ndarray = isinstance(\n",
    "                    self.data_source[0], np.ndarray\n",
    "                ) and isinstance(self.data_source[1], np.ndarray)\n",
    "                if tuple_elements_are_ndarray:\n",
    "                    self.sequences = self.data_source[0]\n",
    "                    self.targets = self.data_source[1]\n",
    "            else:\n",
    "                raise ValueError(\n",
    "                    \"If a tuple is provided, it has to have a length of 2 and both elements should be numpy arrays.\"\n",
    "                )\n",
    "\n",
    "        elif isinstance(self.data_source, np.ndarray):\n",
    "            self.sequences = self.data_source\n",
    "            self.targets = np.zeros(self.sequences.shape[0])\n",
    "            self._data_mean, self._data_std = 0, 1\n",
    "\n",
    "        elif isinstance(self.data_source, (str, dict)):\n",
    "            if isinstance(self.data_source, dict):\n",
    "                #  a dict is passed via the json\n",
    "                df = pd.DataFrame(self.data_source)\n",
    "            else:\n",
    "                # a string path is passed via the json or as a constructor argument\n",
    "                df = self._resolve_string_data_path()\n",
    "\n",
    "            # used only for testing with a smaller sample from a csv file\n",
    "            if self.sample_run:\n",
    "                df = df.head(ChargeStateDataset.SAMPLE_RUN_N)\n",
    "\n",
    "            # lower all column names\n",
    "            df.columns = [col_name.lower() for col_name in df.columns]\n",
    "\n",
    "            self.sequences, self.targets, self.intensities = (\n",
    "                df[self.sequence_col].values,\n",
    "                df[self.target_col].values,\n",
    "                df[self.intensity_col].values,\n",
    "            )\n",
    "            self._data_mean, self._data_std = np.mean(self.targets), np.std(\n",
    "                self.targets\n",
    "            )\n",
    "\n",
    "            self.features_df = df[self.feature_cols]\n",
    "        else:\n",
    "            raise ValueError(\n",
    "                \"Data source has to be either a tuple of two numpy arrays, a single numpy array, \"\n",
    "                \"or a string with a path to a csv/parquet/json file.\"\n",
    "            )\n",
    "\n",
    "        # give the index of the element as an ID for later reference if needed\n",
    "        self.example_id = list(range(len(self.sequences)))\n",
    "\n",
    "    def _update_data_loading_for_json_format(self):\n",
    "        json_dict = self.data_source\n",
    "\n",
    "        self.data_source = json_dict.get(ChargeStateDataset.METADATA_KEY, \"\")\n",
    "        self.target_col = json_dict.get(ChargeStateDataset.PARAMS_KEY, {}).get(\n",
    "            ChargeStateDataset.TARGET_NAME_KEY, self.target_col\n",
    "        )\n",
    "        # ToDo: make dynamic based on parameters\n",
    "        self.sequence_col = \"modified_sequence\"\n",
    "        self.intensity_col = \"precursor_intensity\"\n",
    "\n",
    "    def _resolve_string_data_path(self):\n",
    "        is_json_file = self.data_source.endswith(\".json\")\n",
    "\n",
    "        if is_json_file:\n",
    "            json_dict = read_json_file(self.data_source)\n",
    "            self._update_data_loading_for_json_format(json_dict)\n",
    "\n",
    "        is_parquet_url = \".parquet\" in self.data_source and self.data_source.startswith(\n",
    "            \"http\"\n",
    "        )\n",
    "        is_parquet_file = self.data_source.endswith(\".parquet\")\n",
    "        is_csv_file = self.data_source.endswith(\".csv\")\n",
    "\n",
    "        if is_parquet_url or is_parquet_file:\n",
    "            df = read_parquet_file_pandas(self.data_source, DEFAULT_PARQUET_ENGINE)\n",
    "            return df\n",
    "        elif is_csv_file:\n",
    "            df = pd.read_csv(self.data_source)\n",
    "            return df\n",
    "        else:\n",
    "            raise ValueError(\n",
    "                \"Invalid data source provided as a string, please provide a path to a csv, parquet, or \"\n",
    "                \"or a json file.\"\n",
    "            )\n",
    "\n",
    "    def _validate_remove_long_sequences(self) -> None:\n",
    "        \"\"\"\n",
    "        Validate if all sequences are shorter than the padding length, otherwise drop them.\n",
    "        \"\"\"\n",
    "        assert self.sequences.shape[0] > 0, \"No sequences in the provided data.\"\n",
    "        assert len(self.sequences) == len(\n",
    "            self.targets\n",
    "        ), \"Count of examples does not match for sequences and targets.\"\n",
    "\n",
    "        limit = self.seq_length\n",
    "        vectorized_len = np.vectorize(lambda x: len(x))\n",
    "        mask = vectorized_len(self.sequences) <= limit\n",
    "        self.sequences, self.targets = self.sequences[mask], self.targets[mask]\n",
    "        # once feature columns are introduced, apply the mask to the feature columns (subset the dataframe as well)\n",
    "\n",
    "    def _split_data(self):\n",
    "        n = len(self.sequences)\n",
    "\n",
    "        if self.val_ratio != 0 and (not self.testing_mode):\n",
    "            # add randomization for now and later consider the splitting logic\n",
    "            self.indicies_dict[ChargeStateDataset.SPLIT_NAMES[1]] = np.arange(n)[\n",
    "                : int(n * self.val_ratio)\n",
    "            ]\n",
    "            self.indicies_dict[self.main_split] = np.arange(n)[\n",
    "                int(n * self.val_ratio) :\n",
    "            ]\n",
    "        else:\n",
    "            self.indicies_dict[self.main_split] = np.arange(n)\n",
    "\n",
    "    def _build_tf_dataset(self):\n",
    "        # consider adding the feature columns or extra inputs\n",
    "        for split in self.tf_dataset.keys():\n",
    "            self.tf_dataset[split] = tf.data.Dataset.from_tensor_slices(\n",
    "                (\n",
    "                    self.sequences[self.indicies_dict[split]],\n",
    "                    self.targets[self.indicies_dict[split]],\n",
    "                )\n",
    "            )\n",
    "\n",
    "    def _preprocess_tf_dataset(self):\n",
    "        for split in self.tf_dataset.keys():\n",
    "            # avoid normalizing targets for test data --> should not be needed\n",
    "            if self.normalize_targets and not self.testing_mode:\n",
    "                self.tf_dataset[split] = self.tf_dataset[split].map(\n",
    "                    lambda s, t: self._normalize_target(s, t),\n",
    "                    num_parallel_calls=tf.data.AUTOTUNE,\n",
    "                )\n",
    "\n",
    "            self.tf_dataset[split] = (\n",
    "                self.tf_dataset[split]\n",
    "                .map(\n",
    "                    lambda s, t: self._split_sequence(s, t),\n",
    "                    num_parallel_calls=tf.data.AUTOTUNE,\n",
    "                )\n",
    "                .map(\n",
    "                    lambda s, t: self._pad_sequences(s, t),\n",
    "                    num_parallel_calls=tf.data.AUTOTUNE,\n",
    "                )\n",
    "            )\n",
    "\n",
    "            if self.include_count_features:\n",
    "                self.tf_dataset[split] = (\n",
    "                    self.tf_dataset[split]\n",
    "                    .map(\n",
    "                        ChargeStateDataset._convert_inputs_to_dict,\n",
    "                        num_parallel_calls=tf.data.AUTOTUNE,\n",
    "                    )\n",
    "                    .map(\n",
    "                        lambda s, t: self._generate_single_counts(s, t),\n",
    "                        num_parallel_calls=tf.data.AUTOTUNE,\n",
    "                    )\n",
    "                    .map(\n",
    "                        lambda s, t: self._generate_di_counts(s, t),\n",
    "                        num_parallel_calls=tf.data.AUTOTUNE,\n",
    "                    )\n",
    "                )\n",
    "\n",
    "            self.tf_dataset[split] = (\n",
    "                self.tf_dataset[split]\n",
    "                .batch(self.batch_size)\n",
    "                .prefetch(ChargeStateDataset.BATCHES_TO_PREFETCH)\n",
    "            )\n",
    "\n",
    "    def get_split_targets(self, split=\"val\"):\n",
    "        \"\"\"Retrieve all targets (original labels) for a specific split.\n",
    "\n",
    "        :param split: a string specifiying the split name (train, val, test)\n",
    "        :return: nd.array with the targets\n",
    "        \"\"\"\n",
    "        if split not in self.indicies_dict.keys():\n",
    "            raise ValueError(\n",
    "                \"requested split does not exist, availabe splits are: \"\n",
    "                + list(self.indicies_dict.keys())\n",
    "            )\n",
    "\n",
    "        return self.targets[self.indicies_dict[split]]\n",
    "\n",
    "    def denormalize_targets(self, targets):\n",
    "        \"\"\"Denormalize the given targets (can also be predictions) by multiplying the standard deviation and adding the mean.\n",
    "\n",
    "        :param targets: an nd.array with targets or predictions\n",
    "        :return: a denormalized nd.array with the targets or the predictions\n",
    "        \"\"\"\n",
    "        return targets * self._data_std + self._data_mean\n",
    "\n",
    "    def _pad_sequences(self, seq, target):\n",
    "        pad_len = tf.abs(self.seq_length - tf.size(seq))\n",
    "        paddings = tf.concat([[0], [pad_len]], axis=0)\n",
    "        seq = tf.pad(seq, [paddings], \"CONSTANT\")\n",
    "        seq.set_shape([self.seq_length])\n",
    "        return seq, target\n",
    "\n",
    "    def _normalize_target(self, seq, target):\n",
    "\n",
    "        target = tf.math.divide(\n",
    "            tf.math.subtract(target, self._data_mean), self._data_std\n",
    "        )\n",
    "        return seq, target\n",
    "\n",
    "    def _split_sequence(self, seq, target):\n",
    "        splitted_seq = tf.strings.bytes_split(seq)\n",
    "\n",
    "        return splitted_seq, target\n",
    "\n",
    "    \"\"\"\n",
    "    if more than one input is added, inputs are added to a python dict, the following methods assume that\n",
    "    \"\"\"\n",
    "\n",
    "    @staticmethod\n",
    "    def _convert_inputs_to_dict(seq, target):\n",
    "        return {\"seq\": seq}, target\n",
    "\n",
    "    def _generate_single_counts(self, inputs, target):\n",
    "        inputs[\"counts\"] = tf.map_fn(\n",
    "            lambda x: ChargeStateDataset.ATOM_TABLE.lookup(x), inputs[\"seq\"]\n",
    "        )\n",
    "        inputs[\"counts\"] = tf.map_fn(\n",
    "            lambda x: tf.strings.split(x, sep=\"_\"), inputs[\"counts\"]\n",
    "        )\n",
    "        inputs[\"counts\"] = tf.strings.to_number(inputs[\"counts\"])\n",
    "        inputs[\"counts\"].set_shape([self.seq_length, 5])\n",
    "\n",
    "        return inputs, target\n",
    "\n",
    "    def _generate_di_counts(self, inputs, target):\n",
    "        # add every two neighboring elements without overlap [0 0 1 1 2 2 .... pad_length/2 pad_length/2]\n",
    "        segments_to_add = [i // 2 for i in range(self.seq_length)]\n",
    "        inputs[\"di_counts\"] = tf.math.segment_sum(\n",
    "            inputs[\"counts\"], tf.constant(segments_to_add)\n",
    "        )\n",
    "        inputs[\"di_counts\"].set_shape([self.seq_length // 2, 5])\n",
    "\n",
    "        return inputs, target\n",
    "\n",
    "    def _get_tf_dataset(self, split=None):\n",
    "        assert (\n",
    "            split in self.tf_dataset.keys()\n",
    "        ), f\"Requested data split is not available, available splits are {self.tf_dataset.keys()}\"\n",
    "        if split in self.tf_dataset.keys():\n",
    "            return self.tf_dataset[split]\n",
    "        return self.tf_dataset\n",
    "\n",
    "    @property\n",
    "    def train_data(self):\n",
    "        \"\"\"TensorFlow Dataset object for the training data\"\"\"\n",
    "        return self._get_tf_dataset(ChargeStateDataset.SPLIT_NAMES[0])\n",
    "\n",
    "    @property\n",
    "    def val_data(self):\n",
    "        \"\"\"TensorFlow Dataset object for the validation data\"\"\"\n",
    "        return self._get_tf_dataset(ChargeStateDataset.SPLIT_NAMES[1])\n",
    "\n",
    "    @property\n",
    "    def test_data(self):\n",
    "        \"\"\"TensorFlow Dataset object for the test data\"\"\"\n",
    "        return self._get_tf_dataset(ChargeStateDataset.SPLIT_NAMES[2])\n",
    "\n",
    "    @property\n",
    "    def data_mean(self):\n",
    "        \"\"\"Mean value of the targets\"\"\"\n",
    "        return self._data_mean\n",
    "\n",
    "    @property\n",
    "    def data_std(self):\n",
    "        \"\"\"Standard deviation value of the targets\"\"\"\n",
    "        return self._data_std\n",
    "\n",
    "    @data_mean.setter\n",
    "    def data_mean(self, value):\n",
    "        self._data_mean = value\n",
    "\n",
    "    @data_std.setter\n",
    "    def data_std(self, value):\n",
    "        self._data_std = value\n",
    "\n",
    "\n",
    "# to go to reader classes or reader utils\n",
    "\n",
    "\n",
    "def read_parquet_file_pandas(filepath, parquet_engine):\n",
    "    try:\n",
    "        df = pd.read_parquet(filepath, engine=parquet_engine)\n",
    "    except ImportError:\n",
    "        raise ImportError(\n",
    "            \"Parquet engine is missing, please install fastparquet using pip or conda.\"\n",
    "        )\n",
    "    return df\n",
    "\n",
    "\n",
    "def read_json_file(filepath):\n",
    "    with open(filepath, \"r\") as j:\n",
    "        json_dict = json.loads(j.read())\n",
    "    return json_dict\n",
    "\n",
    "\n",
    "if __name__ == \"__main__\":\n",
    "    test_data_dict = {\n",
    "        \"metadata\": {\n",
    "            \"linear rt\": [1, 2, 3],\n",
    "            \"modified_sequence\": [\"ABC\", \"ABC\", \"ABC\"],\n",
    "            \"precursor_intensity\": [1.123123, 515151234.123, 123123123.],\n",
    "        },\n",
    "        \"annotations\": {},\n",
    "        \"parameters\": {\"target_column_key\": \"linear rt\"},\n",
    "    }\n",
    "\n",
    "    pd.DataFrame(test_data_dict[\"metadata\"]).to_parquet(\"metadata.parquet\")\n",
    "\n",
    "    test_data_dict_file = {\n",
    "        \"metadata\": \"metadata.parquet\",\n",
    "        \"annotations\": {},\n",
    "        \"parameters\": {\"target_column_key\": \"linear rt\"},\n",
    "    }\n",
    "\n",
    "    rtdataset = ChargeStateDataset(data_source=test_data_dict, seq_length=20)\n",
    "    print(rtdataset.sequences)\n",
    "    print(rtdataset.intensities)\n",
    "    print(rtdataset.targets)\n",
    "\n",
    "    rtdataset = ChargeStateDataset(data_source=test_data_dict_file, seq_length=20)\n",
    "    print(rtdataset.sequences)\n",
    "    print(rtdataset.intensities)\n",
    "    print(rtdataset.targets)"
   ],
   "metadata": {
    "collapsed": false,
    "ExecuteTime": {
     "end_time": "2023-07-28T10:04:32.850857600Z",
     "start_time": "2023-07-28T10:04:32.722353600Z"
    }
   }
  },
  {
   "cell_type": "code",
   "execution_count": null,
   "outputs": [],
   "source": [
    " \"Training examples\", batch_size * len(rtdata.train_data)"
   ],
   "metadata": {
    "collapsed": false
   }
  },
  {
   "cell_type": "code",
   "execution_count": null,
   "outputs": [],
   "source": [
    "\"Validation examples\", batch_size * len(rtdata.val_data)"
   ],
   "metadata": {
    "collapsed": false
   }
  },
  {
   "cell_type": "code",
   "execution_count": 41,
   "outputs": [],
   "source": [
    "# if needed, add config params to wandb.config\n",
    "\n",
    "config = wandb.config\n",
    "\n",
    "config.seq_length = 30\n",
    "config.batch_size = batch_size\n",
    "config.val_ratio = 0.2"
   ],
   "metadata": {
    "collapsed": false,
    "ExecuteTime": {
     "end_time": "2023-07-28T08:17:26.481273500Z",
     "start_time": "2023-07-28T08:17:26.393894600Z"
    }
   }
  },
  {
   "cell_type": "markdown",
   "source": [
    "# Model"
   ],
   "metadata": {
    "collapsed": false
   }
  },
  {
   "cell_type": "code",
   "execution_count": 46,
   "outputs": [],
   "source": [
    "#%pip install preprocessing\n",
    "from tensorflow.keras.layers.experimental import preprocessing\n",
    "model = PrositChargeStatePredictor(seq_length=50)"
   ],
   "metadata": {
    "collapsed": false,
    "ExecuteTime": {
     "end_time": "2023-07-28T08:19:57.648283500Z",
     "start_time": "2023-07-28T08:19:57.582090900Z"
    }
   }
  },
  {
   "cell_type": "markdown",
   "source": [
    "# Eval Metric"
   ],
   "metadata": {
    "collapsed": false
   }
  },
  {
   "cell_type": "code",
   "execution_count": 68,
   "outputs": [],
   "source": [
    "import tensorflow as tf\n",
    "import tensorflow.keras.backend as K\n",
    "\n",
    "\n",
    "class TimeDeltaMetric(tf.keras.metrics.Metric):\n",
    "    \"\"\"Implementation of the time delta metric as a Keras Metric.\n",
    "\n",
    "    Parameters\n",
    "    ----------\n",
    "        mean (int, optional): Mean value of the targets in case normalization was performed. Defaults to 0.\n",
    "        std (int, optional): Standard deviation value of the targets in case normalization was performed. Defaults to 1.\n",
    "        percentage (float, optional): What percentage of the data points to consider, this is specific to the conmputation of the metric. Defaults to 0.95 which corresponds to 95% of the datapoints and is the mostly used value in papers.\n",
    "        name (str, optional): Name of the metric so that it can be reported and used later in Keras History objects. Defaults to 'timedelta'.\n",
    "        rescale_targets (bool, optional): Whether to rescale (denormalize) targets or not. Defaults to False.\n",
    "        rescale_predictions (bool, optional): Whether to rescale (denormalize) predictions or not. Defaults to False.\n",
    "        double_delta (bool, optional): Whether to multiple the computed delta by 2 in order to make it two-sided or not. Defaults to False.\n",
    "    \"\"\"\n",
    "\n",
    "    def __init__(\n",
    "        self,\n",
    "        mean=0,\n",
    "        std=1,\n",
    "        percentage=0.95,\n",
    "        name=\"timedelta\",\n",
    "        rescale_targets=False,\n",
    "        rescale_predictions=False,\n",
    "        double_delta=False,\n",
    "        **kwargs\n",
    "    ):\n",
    "\n",
    "        super(TimeDeltaMetric, self).__init__(name=name, **kwargs)\n",
    "        self.delta = self.add_weight(name=\"delta\", initializer=\"zeros\")\n",
    "        self.batch_count = self.add_weight(name=\"batch-count\", initializer=\"zeros\")\n",
    "        self.mean = mean\n",
    "        self.std = std\n",
    "        self.percentage = percentage\n",
    "        self.rescale_targets = rescale_targets\n",
    "        self.rescale_predictions = rescale_predictions\n",
    "        self.double_delta = double_delta\n",
    "\n",
    "    def update_state(self, y_true, y_pred, sample_weight=None):\n",
    "        # rescale\n",
    "        if self.rescale_targets:\n",
    "            y_true = y_true * self.std + self.mean\n",
    "\n",
    "        if self.rescale_predictions:\n",
    "            y_pred = y_pred * self.std + self.mean\n",
    "\n",
    "        # find position of the index\n",
    "        length = tf.shape(y_true)[0]\n",
    "        mark = tf.cast(length) * self.percentage # TODO NIK dtype=tf.float32\n",
    "        mark = tf.cast(mark, dtype=tf.int32)\n",
    "\n",
    "        # compute residuals and sort\n",
    "        abs_error = tf.abs(y_true - y_pred)\n",
    "        d = tf.sort(abs_error)[mark - 1]\n",
    "\n",
    "        # two-sided delta\n",
    "        if self.double_delta:\n",
    "            d = d * 2\n",
    "\n",
    "        # update count of batches\n",
    "        self.batch_count.assign_add(1.0)\n",
    "\n",
    "        # update delta\n",
    "        self.delta.assign_add(tf.math.reduce_sum(d))\n",
    "\n",
    "    def result(self):\n",
    "        # this is simple averaging over the batches, more complex reduction can be added based on domain expertises\n",
    "        # Examples are: take max or min of both deltas (translates to a strict or a relaxed metric)\n",
    "        return tf.math.divide(self.delta, self.batch_count)\n",
    "\n",
    "\n",
    "# code adopted and modified based on:\n",
    "# https://github.com/horsepurve/DeepRTplus/blob/cde829ef4bd8b38a216d668cf79757c07133b34b/RTdata_emb.py\n",
    "def delta95_metric(y_true, y_pred):\n",
    "    mark95 = tf.cast(\n",
    "        tf.cast(tf.shape(y_true)[0]) * 0.95, dtype=tf.int32 # TODO NIK dtype=tf.float32 , dtype=tf.float32\n",
    "    )\n",
    "    abs_error = K.abs(y_true - y_pred)\n",
    "    delta = tf.sort(abs_error)[mark95 - 1]\n",
    "    norm_range = K.max(y_true) - K.min(y_true)\n",
    "    return (delta * 2) / (norm_range)"
   ],
   "metadata": {
    "collapsed": false,
    "ExecuteTime": {
     "end_time": "2023-07-28T08:33:12.702670900Z",
     "start_time": "2023-07-28T08:33:12.677687300Z"
    }
   }
  },
  {
   "cell_type": "markdown",
   "source": [
    "# Training"
   ],
   "metadata": {
    "collapsed": false
   }
  },
  {
   "cell_type": "code",
   "execution_count": 73,
   "outputs": [],
   "source": [
    "# compile the model  with the optimizer and the metrics we want to use, we can add our custom timedelta metric\n",
    "\n",
    "# you can also import tensorflow and build your custom optimizer object and pass it\n",
    "\n",
    "model.compile(optimizer='adam',\n",
    "              loss='mse',\n",
    "              metrics=['mean_absolute_error']) # , TimeDeltaMetric()"
   ],
   "metadata": {
    "collapsed": false,
    "ExecuteTime": {
     "end_time": "2023-07-28T08:34:20.465539800Z",
     "start_time": "2023-07-28T08:34:20.437046100Z"
    }
   }
  },
  {
   "cell_type": "code",
   "execution_count": 74,
   "outputs": [],
   "source": [
    "# add more parameters to config as per need\n",
    "\n",
    "config.lr = 0.0001\n",
    "config.optimizer = \"adam\""
   ],
   "metadata": {
    "collapsed": false,
    "ExecuteTime": {
     "end_time": "2023-07-28T08:34:21.725883400Z",
     "start_time": "2023-07-28T08:34:21.692539600Z"
    }
   }
  },
  {
   "cell_type": "code",
   "execution_count": 75,
   "outputs": [],
   "source": [
    "# Define early stopping\n",
    "early_stopping = tf.keras.callbacks.EarlyStopping(monitor='val_loss', patience=3)"
   ],
   "metadata": {
    "collapsed": false,
    "ExecuteTime": {
     "end_time": "2023-07-28T08:34:23.412094300Z",
     "start_time": "2023-07-28T08:34:23.403566800Z"
    }
   }
  },
  {
   "cell_type": "code",
   "execution_count": 77,
   "outputs": [
    {
     "name": "stdout",
     "output_type": "stream",
     "text": [
      "Model: \"prosit_charge_state_predictor_3\"\n",
      "_________________________________________________________________\n",
      " Layer (type)                Output Shape              Param #   \n",
      "=================================================================\n",
      " string_lookup (StringLookup  multiple                 0         \n",
      " )                                                               \n",
      "                                                                 \n",
      " embedding (Embedding)       multiple                  352       \n",
      "                                                                 \n",
      " sequential (Sequential)     (None, 50, 512)           1996800   \n",
      "                                                                 \n",
      " attention_layer (AttentionL  multiple                 562       \n",
      " ayer)                                                           \n",
      "                                                                 \n",
      " sequential_1 (Sequential)   (None, 512)               262656    \n",
      "                                                                 \n",
      " dense_1 (Dense)             multiple                  513       \n",
      "                                                                 \n",
      "=================================================================\n",
      "Total params: 2,260,883\n",
      "Trainable params: 2,260,883\n",
      "Non-trainable params: 0\n",
      "_________________________________________________________________\n"
     ]
    }
   ],
   "source": [
    "model.summary()"
   ],
   "metadata": {
    "collapsed": false,
    "ExecuteTime": {
     "end_time": "2023-07-28T08:41:56.749265700Z",
     "start_time": "2023-07-28T08:41:56.721863Z"
    }
   }
  },
  {
   "cell_type": "code",
   "execution_count": 76,
   "outputs": [
    {
     "name": "stdout",
     "output_type": "stream",
     "text": [
      "Epoch 1/30\n",
      "   153/151963 [..............................] - ETA: 16:52:11 - loss: 0.6353 - mean_absolute_error: 0.6058"
     ]
    },
    {
     "ename": "KeyboardInterrupt",
     "evalue": "",
     "output_type": "error",
     "traceback": [
      "\u001B[1;31m---------------------------------------------------------------------------\u001B[0m",
      "\u001B[1;31mKeyboardInterrupt\u001B[0m                         Traceback (most recent call last)",
      "Cell \u001B[1;32mIn[76], line 3\u001B[0m\n\u001B[0;32m      1\u001B[0m \u001B[38;5;66;03m# here we pass the WandbCallback to model.fit\u001B[39;00m\n\u001B[1;32m----> 3\u001B[0m history \u001B[38;5;241m=\u001B[39m \u001B[43mmodel\u001B[49m\u001B[38;5;241;43m.\u001B[39;49m\u001B[43mfit\u001B[49m\u001B[43m(\u001B[49m\u001B[43mcsdata\u001B[49m\u001B[38;5;241;43m.\u001B[39;49m\u001B[43mtrain_data\u001B[49m\u001B[43m,\u001B[49m\n\u001B[0;32m      4\u001B[0m \u001B[43m                    \u001B[49m\u001B[43mvalidation_data\u001B[49m\u001B[38;5;241;43m=\u001B[39;49m\u001B[43mcsdata\u001B[49m\u001B[38;5;241;43m.\u001B[39;49m\u001B[43mval_data\u001B[49m\u001B[43m,\u001B[49m\n\u001B[0;32m      5\u001B[0m \u001B[43m                    \u001B[49m\u001B[43mepochs\u001B[49m\u001B[38;5;241;43m=\u001B[39;49m\u001B[38;5;241;43m30\u001B[39;49m\u001B[43m,\u001B[49m\u001B[43m \u001B[49m\u001B[43mcallbacks\u001B[49m\u001B[38;5;241;43m=\u001B[39;49m\u001B[43m[\u001B[49m\u001B[43mearly_stopping\u001B[49m\u001B[43m,\u001B[49m\u001B[43m \u001B[49m\u001B[43mWandbCallback\u001B[49m\u001B[43m(\u001B[49m\u001B[43m)\u001B[49m\u001B[43m]\u001B[49m\u001B[43m \u001B[49m\u001B[43m)\u001B[49m\n",
      "File \u001B[1;32m~\\OneDrive\\Dokumente\\GitHub\\BachelorThesis\\venv\\Lib\\site-packages\\wandb\\integration\\keras\\keras.py:174\u001B[0m, in \u001B[0;36mpatch_tf_keras.<locals>.new_v2\u001B[1;34m(*args, **kwargs)\u001B[0m\n\u001B[0;32m    172\u001B[0m     \u001B[38;5;28;01mfor\u001B[39;00m cbk \u001B[38;5;129;01min\u001B[39;00m cbks:\n\u001B[0;32m    173\u001B[0m         set_wandb_attrs(cbk, val_data)\n\u001B[1;32m--> 174\u001B[0m \u001B[38;5;28;01mreturn\u001B[39;00m \u001B[43mold_v2\u001B[49m\u001B[43m(\u001B[49m\u001B[38;5;241;43m*\u001B[39;49m\u001B[43margs\u001B[49m\u001B[43m,\u001B[49m\u001B[43m \u001B[49m\u001B[38;5;241;43m*\u001B[39;49m\u001B[38;5;241;43m*\u001B[39;49m\u001B[43mkwargs\u001B[49m\u001B[43m)\u001B[49m\n",
      "File \u001B[1;32m~\\OneDrive\\Dokumente\\GitHub\\BachelorThesis\\venv\\Lib\\site-packages\\wandb\\integration\\keras\\keras.py:174\u001B[0m, in \u001B[0;36mpatch_tf_keras.<locals>.new_v2\u001B[1;34m(*args, **kwargs)\u001B[0m\n\u001B[0;32m    172\u001B[0m     \u001B[38;5;28;01mfor\u001B[39;00m cbk \u001B[38;5;129;01min\u001B[39;00m cbks:\n\u001B[0;32m    173\u001B[0m         set_wandb_attrs(cbk, val_data)\n\u001B[1;32m--> 174\u001B[0m \u001B[38;5;28;01mreturn\u001B[39;00m \u001B[43mold_v2\u001B[49m\u001B[43m(\u001B[49m\u001B[38;5;241;43m*\u001B[39;49m\u001B[43margs\u001B[49m\u001B[43m,\u001B[49m\u001B[43m \u001B[49m\u001B[38;5;241;43m*\u001B[39;49m\u001B[38;5;241;43m*\u001B[39;49m\u001B[43mkwargs\u001B[49m\u001B[43m)\u001B[49m\n",
      "File \u001B[1;32m~\\OneDrive\\Dokumente\\GitHub\\BachelorThesis\\venv\\Lib\\site-packages\\wandb\\integration\\keras\\keras.py:174\u001B[0m, in \u001B[0;36mpatch_tf_keras.<locals>.new_v2\u001B[1;34m(*args, **kwargs)\u001B[0m\n\u001B[0;32m    172\u001B[0m     \u001B[38;5;28;01mfor\u001B[39;00m cbk \u001B[38;5;129;01min\u001B[39;00m cbks:\n\u001B[0;32m    173\u001B[0m         set_wandb_attrs(cbk, val_data)\n\u001B[1;32m--> 174\u001B[0m \u001B[38;5;28;01mreturn\u001B[39;00m \u001B[43mold_v2\u001B[49m\u001B[43m(\u001B[49m\u001B[38;5;241;43m*\u001B[39;49m\u001B[43margs\u001B[49m\u001B[43m,\u001B[49m\u001B[43m \u001B[49m\u001B[38;5;241;43m*\u001B[39;49m\u001B[38;5;241;43m*\u001B[39;49m\u001B[43mkwargs\u001B[49m\u001B[43m)\u001B[49m\n",
      "File \u001B[1;32m~\\OneDrive\\Dokumente\\GitHub\\BachelorThesis\\venv\\Lib\\site-packages\\keras\\utils\\traceback_utils.py:65\u001B[0m, in \u001B[0;36mfilter_traceback.<locals>.error_handler\u001B[1;34m(*args, **kwargs)\u001B[0m\n\u001B[0;32m     63\u001B[0m filtered_tb \u001B[38;5;241m=\u001B[39m \u001B[38;5;28;01mNone\u001B[39;00m\n\u001B[0;32m     64\u001B[0m \u001B[38;5;28;01mtry\u001B[39;00m:\n\u001B[1;32m---> 65\u001B[0m     \u001B[38;5;28;01mreturn\u001B[39;00m \u001B[43mfn\u001B[49m\u001B[43m(\u001B[49m\u001B[38;5;241;43m*\u001B[39;49m\u001B[43margs\u001B[49m\u001B[43m,\u001B[49m\u001B[43m \u001B[49m\u001B[38;5;241;43m*\u001B[39;49m\u001B[38;5;241;43m*\u001B[39;49m\u001B[43mkwargs\u001B[49m\u001B[43m)\u001B[49m\n\u001B[0;32m     66\u001B[0m \u001B[38;5;28;01mexcept\u001B[39;00m \u001B[38;5;167;01mException\u001B[39;00m \u001B[38;5;28;01mas\u001B[39;00m e:\n\u001B[0;32m     67\u001B[0m     filtered_tb \u001B[38;5;241m=\u001B[39m _process_traceback_frames(e\u001B[38;5;241m.\u001B[39m__traceback__)\n",
      "File \u001B[1;32m~\\OneDrive\\Dokumente\\GitHub\\BachelorThesis\\venv\\Lib\\site-packages\\keras\\engine\\training.py:1685\u001B[0m, in \u001B[0;36mModel.fit\u001B[1;34m(self, x, y, batch_size, epochs, verbose, callbacks, validation_split, validation_data, shuffle, class_weight, sample_weight, initial_epoch, steps_per_epoch, validation_steps, validation_batch_size, validation_freq, max_queue_size, workers, use_multiprocessing)\u001B[0m\n\u001B[0;32m   1677\u001B[0m \u001B[38;5;28;01mwith\u001B[39;00m tf\u001B[38;5;241m.\u001B[39mprofiler\u001B[38;5;241m.\u001B[39mexperimental\u001B[38;5;241m.\u001B[39mTrace(\n\u001B[0;32m   1678\u001B[0m     \u001B[38;5;124m\"\u001B[39m\u001B[38;5;124mtrain\u001B[39m\u001B[38;5;124m\"\u001B[39m,\n\u001B[0;32m   1679\u001B[0m     epoch_num\u001B[38;5;241m=\u001B[39mepoch,\n\u001B[1;32m   (...)\u001B[0m\n\u001B[0;32m   1682\u001B[0m     _r\u001B[38;5;241m=\u001B[39m\u001B[38;5;241m1\u001B[39m,\n\u001B[0;32m   1683\u001B[0m ):\n\u001B[0;32m   1684\u001B[0m     callbacks\u001B[38;5;241m.\u001B[39mon_train_batch_begin(step)\n\u001B[1;32m-> 1685\u001B[0m     tmp_logs \u001B[38;5;241m=\u001B[39m \u001B[38;5;28;43mself\u001B[39;49m\u001B[38;5;241;43m.\u001B[39;49m\u001B[43mtrain_function\u001B[49m\u001B[43m(\u001B[49m\u001B[43miterator\u001B[49m\u001B[43m)\u001B[49m\n\u001B[0;32m   1686\u001B[0m     \u001B[38;5;28;01mif\u001B[39;00m data_handler\u001B[38;5;241m.\u001B[39mshould_sync:\n\u001B[0;32m   1687\u001B[0m         context\u001B[38;5;241m.\u001B[39masync_wait()\n",
      "File \u001B[1;32m~\\OneDrive\\Dokumente\\GitHub\\BachelorThesis\\venv\\Lib\\site-packages\\tensorflow\\python\\util\\traceback_utils.py:150\u001B[0m, in \u001B[0;36mfilter_traceback.<locals>.error_handler\u001B[1;34m(*args, **kwargs)\u001B[0m\n\u001B[0;32m    148\u001B[0m filtered_tb \u001B[38;5;241m=\u001B[39m \u001B[38;5;28;01mNone\u001B[39;00m\n\u001B[0;32m    149\u001B[0m \u001B[38;5;28;01mtry\u001B[39;00m:\n\u001B[1;32m--> 150\u001B[0m   \u001B[38;5;28;01mreturn\u001B[39;00m \u001B[43mfn\u001B[49m\u001B[43m(\u001B[49m\u001B[38;5;241;43m*\u001B[39;49m\u001B[43margs\u001B[49m\u001B[43m,\u001B[49m\u001B[43m \u001B[49m\u001B[38;5;241;43m*\u001B[39;49m\u001B[38;5;241;43m*\u001B[39;49m\u001B[43mkwargs\u001B[49m\u001B[43m)\u001B[49m\n\u001B[0;32m    151\u001B[0m \u001B[38;5;28;01mexcept\u001B[39;00m \u001B[38;5;167;01mException\u001B[39;00m \u001B[38;5;28;01mas\u001B[39;00m e:\n\u001B[0;32m    152\u001B[0m   filtered_tb \u001B[38;5;241m=\u001B[39m _process_traceback_frames(e\u001B[38;5;241m.\u001B[39m__traceback__)\n",
      "File \u001B[1;32m~\\OneDrive\\Dokumente\\GitHub\\BachelorThesis\\venv\\Lib\\site-packages\\tensorflow\\python\\eager\\polymorphic_function\\polymorphic_function.py:894\u001B[0m, in \u001B[0;36mFunction.__call__\u001B[1;34m(self, *args, **kwds)\u001B[0m\n\u001B[0;32m    891\u001B[0m compiler \u001B[38;5;241m=\u001B[39m \u001B[38;5;124m\"\u001B[39m\u001B[38;5;124mxla\u001B[39m\u001B[38;5;124m\"\u001B[39m \u001B[38;5;28;01mif\u001B[39;00m \u001B[38;5;28mself\u001B[39m\u001B[38;5;241m.\u001B[39m_jit_compile \u001B[38;5;28;01melse\u001B[39;00m \u001B[38;5;124m\"\u001B[39m\u001B[38;5;124mnonXla\u001B[39m\u001B[38;5;124m\"\u001B[39m\n\u001B[0;32m    893\u001B[0m \u001B[38;5;28;01mwith\u001B[39;00m OptionalXlaContext(\u001B[38;5;28mself\u001B[39m\u001B[38;5;241m.\u001B[39m_jit_compile):\n\u001B[1;32m--> 894\u001B[0m   result \u001B[38;5;241m=\u001B[39m \u001B[38;5;28;43mself\u001B[39;49m\u001B[38;5;241;43m.\u001B[39;49m\u001B[43m_call\u001B[49m\u001B[43m(\u001B[49m\u001B[38;5;241;43m*\u001B[39;49m\u001B[43margs\u001B[49m\u001B[43m,\u001B[49m\u001B[43m \u001B[49m\u001B[38;5;241;43m*\u001B[39;49m\u001B[38;5;241;43m*\u001B[39;49m\u001B[43mkwds\u001B[49m\u001B[43m)\u001B[49m\n\u001B[0;32m    896\u001B[0m new_tracing_count \u001B[38;5;241m=\u001B[39m \u001B[38;5;28mself\u001B[39m\u001B[38;5;241m.\u001B[39mexperimental_get_tracing_count()\n\u001B[0;32m    897\u001B[0m without_tracing \u001B[38;5;241m=\u001B[39m (tracing_count \u001B[38;5;241m==\u001B[39m new_tracing_count)\n",
      "File \u001B[1;32m~\\OneDrive\\Dokumente\\GitHub\\BachelorThesis\\venv\\Lib\\site-packages\\tensorflow\\python\\eager\\polymorphic_function\\polymorphic_function.py:926\u001B[0m, in \u001B[0;36mFunction._call\u001B[1;34m(self, *args, **kwds)\u001B[0m\n\u001B[0;32m    923\u001B[0m   \u001B[38;5;28mself\u001B[39m\u001B[38;5;241m.\u001B[39m_lock\u001B[38;5;241m.\u001B[39mrelease()\n\u001B[0;32m    924\u001B[0m   \u001B[38;5;66;03m# In this case we have created variables on the first call, so we run the\u001B[39;00m\n\u001B[0;32m    925\u001B[0m   \u001B[38;5;66;03m# defunned version which is guaranteed to never create variables.\u001B[39;00m\n\u001B[1;32m--> 926\u001B[0m   \u001B[38;5;28;01mreturn\u001B[39;00m \u001B[38;5;28;43mself\u001B[39;49m\u001B[38;5;241;43m.\u001B[39;49m\u001B[43m_no_variable_creation_fn\u001B[49m\u001B[43m(\u001B[49m\u001B[38;5;241;43m*\u001B[39;49m\u001B[43margs\u001B[49m\u001B[43m,\u001B[49m\u001B[43m \u001B[49m\u001B[38;5;241;43m*\u001B[39;49m\u001B[38;5;241;43m*\u001B[39;49m\u001B[43mkwds\u001B[49m\u001B[43m)\u001B[49m  \u001B[38;5;66;03m# pylint: disable=not-callable\u001B[39;00m\n\u001B[0;32m    927\u001B[0m \u001B[38;5;28;01melif\u001B[39;00m \u001B[38;5;28mself\u001B[39m\u001B[38;5;241m.\u001B[39m_variable_creation_fn \u001B[38;5;129;01mis\u001B[39;00m \u001B[38;5;129;01mnot\u001B[39;00m \u001B[38;5;28;01mNone\u001B[39;00m:\n\u001B[0;32m    928\u001B[0m   \u001B[38;5;66;03m# Release the lock early so that multiple threads can perform the call\u001B[39;00m\n\u001B[0;32m    929\u001B[0m   \u001B[38;5;66;03m# in parallel.\u001B[39;00m\n\u001B[0;32m    930\u001B[0m   \u001B[38;5;28mself\u001B[39m\u001B[38;5;241m.\u001B[39m_lock\u001B[38;5;241m.\u001B[39mrelease()\n",
      "File \u001B[1;32m~\\OneDrive\\Dokumente\\GitHub\\BachelorThesis\\venv\\Lib\\site-packages\\tensorflow\\python\\eager\\polymorphic_function\\tracing_compiler.py:143\u001B[0m, in \u001B[0;36mTracingCompiler.__call__\u001B[1;34m(self, *args, **kwargs)\u001B[0m\n\u001B[0;32m    140\u001B[0m \u001B[38;5;28;01mwith\u001B[39;00m \u001B[38;5;28mself\u001B[39m\u001B[38;5;241m.\u001B[39m_lock:\n\u001B[0;32m    141\u001B[0m   (concrete_function,\n\u001B[0;32m    142\u001B[0m    filtered_flat_args) \u001B[38;5;241m=\u001B[39m \u001B[38;5;28mself\u001B[39m\u001B[38;5;241m.\u001B[39m_maybe_define_function(args, kwargs)\n\u001B[1;32m--> 143\u001B[0m \u001B[38;5;28;01mreturn\u001B[39;00m \u001B[43mconcrete_function\u001B[49m\u001B[38;5;241;43m.\u001B[39;49m\u001B[43m_call_flat\u001B[49m\u001B[43m(\u001B[49m\n\u001B[0;32m    144\u001B[0m \u001B[43m    \u001B[49m\u001B[43mfiltered_flat_args\u001B[49m\u001B[43m,\u001B[49m\u001B[43m \u001B[49m\u001B[43mcaptured_inputs\u001B[49m\u001B[38;5;241;43m=\u001B[39;49m\u001B[43mconcrete_function\u001B[49m\u001B[38;5;241;43m.\u001B[39;49m\u001B[43mcaptured_inputs\u001B[49m\u001B[43m)\u001B[49m\n",
      "File \u001B[1;32m~\\OneDrive\\Dokumente\\GitHub\\BachelorThesis\\venv\\Lib\\site-packages\\tensorflow\\python\\eager\\polymorphic_function\\monomorphic_function.py:1757\u001B[0m, in \u001B[0;36mConcreteFunction._call_flat\u001B[1;34m(self, args, captured_inputs, cancellation_manager)\u001B[0m\n\u001B[0;32m   1753\u001B[0m possible_gradient_type \u001B[38;5;241m=\u001B[39m gradients_util\u001B[38;5;241m.\u001B[39mPossibleTapeGradientTypes(args)\n\u001B[0;32m   1754\u001B[0m \u001B[38;5;28;01mif\u001B[39;00m (possible_gradient_type \u001B[38;5;241m==\u001B[39m gradients_util\u001B[38;5;241m.\u001B[39mPOSSIBLE_GRADIENT_TYPES_NONE\n\u001B[0;32m   1755\u001B[0m     \u001B[38;5;129;01mand\u001B[39;00m executing_eagerly):\n\u001B[0;32m   1756\u001B[0m   \u001B[38;5;66;03m# No tape is watching; skip to running the function.\u001B[39;00m\n\u001B[1;32m-> 1757\u001B[0m   \u001B[38;5;28;01mreturn\u001B[39;00m \u001B[38;5;28mself\u001B[39m\u001B[38;5;241m.\u001B[39m_build_call_outputs(\u001B[38;5;28;43mself\u001B[39;49m\u001B[38;5;241;43m.\u001B[39;49m\u001B[43m_inference_function\u001B[49m\u001B[38;5;241;43m.\u001B[39;49m\u001B[43mcall\u001B[49m\u001B[43m(\u001B[49m\n\u001B[0;32m   1758\u001B[0m \u001B[43m      \u001B[49m\u001B[43mctx\u001B[49m\u001B[43m,\u001B[49m\u001B[43m \u001B[49m\u001B[43margs\u001B[49m\u001B[43m,\u001B[49m\u001B[43m \u001B[49m\u001B[43mcancellation_manager\u001B[49m\u001B[38;5;241;43m=\u001B[39;49m\u001B[43mcancellation_manager\u001B[49m\u001B[43m)\u001B[49m)\n\u001B[0;32m   1759\u001B[0m forward_backward \u001B[38;5;241m=\u001B[39m \u001B[38;5;28mself\u001B[39m\u001B[38;5;241m.\u001B[39m_select_forward_and_backward_functions(\n\u001B[0;32m   1760\u001B[0m     args,\n\u001B[0;32m   1761\u001B[0m     possible_gradient_type,\n\u001B[0;32m   1762\u001B[0m     executing_eagerly)\n\u001B[0;32m   1763\u001B[0m forward_function, args_with_tangents \u001B[38;5;241m=\u001B[39m forward_backward\u001B[38;5;241m.\u001B[39mforward()\n",
      "File \u001B[1;32m~\\OneDrive\\Dokumente\\GitHub\\BachelorThesis\\venv\\Lib\\site-packages\\tensorflow\\python\\eager\\polymorphic_function\\monomorphic_function.py:381\u001B[0m, in \u001B[0;36m_EagerDefinedFunction.call\u001B[1;34m(self, ctx, args, cancellation_manager)\u001B[0m\n\u001B[0;32m    379\u001B[0m \u001B[38;5;28;01mwith\u001B[39;00m _InterpolateFunctionError(\u001B[38;5;28mself\u001B[39m):\n\u001B[0;32m    380\u001B[0m   \u001B[38;5;28;01mif\u001B[39;00m cancellation_manager \u001B[38;5;129;01mis\u001B[39;00m \u001B[38;5;28;01mNone\u001B[39;00m:\n\u001B[1;32m--> 381\u001B[0m     outputs \u001B[38;5;241m=\u001B[39m \u001B[43mexecute\u001B[49m\u001B[38;5;241;43m.\u001B[39;49m\u001B[43mexecute\u001B[49m\u001B[43m(\u001B[49m\n\u001B[0;32m    382\u001B[0m \u001B[43m        \u001B[49m\u001B[38;5;28;43mstr\u001B[39;49m\u001B[43m(\u001B[49m\u001B[38;5;28;43mself\u001B[39;49m\u001B[38;5;241;43m.\u001B[39;49m\u001B[43msignature\u001B[49m\u001B[38;5;241;43m.\u001B[39;49m\u001B[43mname\u001B[49m\u001B[43m)\u001B[49m\u001B[43m,\u001B[49m\n\u001B[0;32m    383\u001B[0m \u001B[43m        \u001B[49m\u001B[43mnum_outputs\u001B[49m\u001B[38;5;241;43m=\u001B[39;49m\u001B[38;5;28;43mself\u001B[39;49m\u001B[38;5;241;43m.\u001B[39;49m\u001B[43m_num_outputs\u001B[49m\u001B[43m,\u001B[49m\n\u001B[0;32m    384\u001B[0m \u001B[43m        \u001B[49m\u001B[43minputs\u001B[49m\u001B[38;5;241;43m=\u001B[39;49m\u001B[43margs\u001B[49m\u001B[43m,\u001B[49m\n\u001B[0;32m    385\u001B[0m \u001B[43m        \u001B[49m\u001B[43mattrs\u001B[49m\u001B[38;5;241;43m=\u001B[39;49m\u001B[43mattrs\u001B[49m\u001B[43m,\u001B[49m\n\u001B[0;32m    386\u001B[0m \u001B[43m        \u001B[49m\u001B[43mctx\u001B[49m\u001B[38;5;241;43m=\u001B[39;49m\u001B[43mctx\u001B[49m\u001B[43m)\u001B[49m\n\u001B[0;32m    387\u001B[0m   \u001B[38;5;28;01melse\u001B[39;00m:\n\u001B[0;32m    388\u001B[0m     outputs \u001B[38;5;241m=\u001B[39m execute\u001B[38;5;241m.\u001B[39mexecute_with_cancellation(\n\u001B[0;32m    389\u001B[0m         \u001B[38;5;28mstr\u001B[39m(\u001B[38;5;28mself\u001B[39m\u001B[38;5;241m.\u001B[39msignature\u001B[38;5;241m.\u001B[39mname),\n\u001B[0;32m    390\u001B[0m         num_outputs\u001B[38;5;241m=\u001B[39m\u001B[38;5;28mself\u001B[39m\u001B[38;5;241m.\u001B[39m_num_outputs,\n\u001B[1;32m   (...)\u001B[0m\n\u001B[0;32m    393\u001B[0m         ctx\u001B[38;5;241m=\u001B[39mctx,\n\u001B[0;32m    394\u001B[0m         cancellation_manager\u001B[38;5;241m=\u001B[39mcancellation_manager)\n",
      "File \u001B[1;32m~\\OneDrive\\Dokumente\\GitHub\\BachelorThesis\\venv\\Lib\\site-packages\\tensorflow\\python\\eager\\execute.py:52\u001B[0m, in \u001B[0;36mquick_execute\u001B[1;34m(op_name, num_outputs, inputs, attrs, ctx, name)\u001B[0m\n\u001B[0;32m     50\u001B[0m \u001B[38;5;28;01mtry\u001B[39;00m:\n\u001B[0;32m     51\u001B[0m   ctx\u001B[38;5;241m.\u001B[39mensure_initialized()\n\u001B[1;32m---> 52\u001B[0m   tensors \u001B[38;5;241m=\u001B[39m \u001B[43mpywrap_tfe\u001B[49m\u001B[38;5;241;43m.\u001B[39;49m\u001B[43mTFE_Py_Execute\u001B[49m\u001B[43m(\u001B[49m\u001B[43mctx\u001B[49m\u001B[38;5;241;43m.\u001B[39;49m\u001B[43m_handle\u001B[49m\u001B[43m,\u001B[49m\u001B[43m \u001B[49m\u001B[43mdevice_name\u001B[49m\u001B[43m,\u001B[49m\u001B[43m \u001B[49m\u001B[43mop_name\u001B[49m\u001B[43m,\u001B[49m\n\u001B[0;32m     53\u001B[0m \u001B[43m                                      \u001B[49m\u001B[43minputs\u001B[49m\u001B[43m,\u001B[49m\u001B[43m \u001B[49m\u001B[43mattrs\u001B[49m\u001B[43m,\u001B[49m\u001B[43m \u001B[49m\u001B[43mnum_outputs\u001B[49m\u001B[43m)\u001B[49m\n\u001B[0;32m     54\u001B[0m \u001B[38;5;28;01mexcept\u001B[39;00m core\u001B[38;5;241m.\u001B[39m_NotOkStatusException \u001B[38;5;28;01mas\u001B[39;00m e:\n\u001B[0;32m     55\u001B[0m   \u001B[38;5;28;01mif\u001B[39;00m name \u001B[38;5;129;01mis\u001B[39;00m \u001B[38;5;129;01mnot\u001B[39;00m \u001B[38;5;28;01mNone\u001B[39;00m:\n",
      "\u001B[1;31mKeyboardInterrupt\u001B[0m: "
     ]
    }
   ],
   "source": [
    "# here we pass the WandbCallback to model.fit\n",
    "\n",
    "history = model.fit(csdata.train_data,\n",
    "                    validation_data=csdata.val_data,\n",
    "                    epochs=30, callbacks=[early_stopping, WandbCallback()] )"
   ],
   "metadata": {
    "collapsed": false,
    "ExecuteTime": {
     "end_time": "2023-07-28T08:35:31.100225400Z",
     "start_time": "2023-07-28T08:34:24.224802900Z"
    }
   }
  },
  {
   "cell_type": "markdown",
   "source": [
    "# OLD STUFF - IGNORE"
   ],
   "metadata": {
    "collapsed": false
   }
  },
  {
   "cell_type": "markdown",
   "source": [],
   "metadata": {
    "collapsed": false
   }
  },
  {
   "cell_type": "markdown",
   "source": [],
   "metadata": {
    "collapsed": false
   }
  },
  {
   "cell_type": "markdown",
   "source": [
    "## Setup"
   ],
   "metadata": {
    "collapsed": false
   }
  },
  {
   "cell_type": "code",
   "execution_count": null,
   "outputs": [],
   "source": [
    "#%pip install seaborn"
   ],
   "metadata": {
    "collapsed": false
   }
  },
  {
   "cell_type": "code",
   "execution_count": 12,
   "outputs": [],
   "source": [
    "import re\n",
    "import os\n",
    "import random\n",
    "import numpy as np\n",
    "import pandas as pd\n",
    "import tensorflow as tf\n",
    "import matplotlib.pyplot as plt\n",
    "from sklearn.model_selection import train_test_split\n",
    "from tensorflow.keras.callbacks import ModelCheckpoint\n",
    "from sklearn.utils import class_weight\n",
    "from sklearn.model_selection import StratifiedShuffleSplit\n",
    "from sklearn.metrics import confusion_matrix, classification_report\n",
    "import seaborn as sns\n",
    "import wandb\n",
    "from wandb.keras import WandbCallback\n",
    "import keras"
   ],
   "metadata": {
    "collapsed": false,
    "ExecuteTime": {
     "end_time": "2023-07-28T08:02:55.851981800Z",
     "start_time": "2023-07-28T08:02:55.660866300Z"
    }
   }
  },
  {
   "cell_type": "code",
   "execution_count": 120,
   "outputs": [],
   "source": [
    "train_datapath = [\"data/\"+file for file in os.listdir('data') if file.endswith(\".parquet\")][0]\n",
    "batch_size = 32"
   ],
   "metadata": {
    "collapsed": false,
    "ExecuteTime": {
     "end_time": "2023-07-28T09:48:53.359252400Z",
     "start_time": "2023-07-28T09:48:53.333610800Z"
    }
   }
  },
  {
   "cell_type": "code",
   "execution_count": 121,
   "outputs": [],
   "source": [
    "csdata = ChargeStateDataset(data_source=train_datapath,seq_length=50, batch_size=batch_size, val_ratio=0.2, test=False)"
   ],
   "metadata": {
    "collapsed": false,
    "ExecuteTime": {
     "end_time": "2023-07-28T09:48:57.871876400Z",
     "start_time": "2023-07-28T09:48:54.511548200Z"
    }
   }
  },
  {
   "cell_type": "markdown",
   "source": [
    "# Dataset batches + split"
   ],
   "metadata": {
    "collapsed": false
   }
  },
  {
   "cell_type": "code",
   "execution_count": 122,
   "outputs": [],
   "source": [
    "import re\n",
    "# the dictionary\n",
    "aa_syntax_dictionary = dict()\n",
    "for index, i in enumerate(list('XACDEFGHIKLMNPQRSTVWY')): # added X for 0 value\n",
    "    aa_syntax_dictionary[i] = index * 100\n",
    "    if i != 'X': # ignore 0 value for X\n",
    "        for count in range(0, 100):\n",
    "            aa_syntax_dictionary[i + \"[UNIMOD:\" + str(count) + \"]\"] = index * 100 + count\n",
    "\n",
    "def seq_translator(sequence, dictionary=aa_syntax_dictionary, print_result=False):\n",
    "    \"\"\"\n",
    "    Translates a sequence into a vector of integers\n",
    "    :param sequence: string\n",
    "    :param dictionary: dictionary\n",
    "    :return: list\n",
    "    \"\"\"\n",
    "    pattern = r'[A-Z]\\[[^\\]]*\\]|.' # regex pattern to match amino acids and modifications\n",
    "\n",
    "    result = [match for match in re.findall(pattern, sequence)]\n",
    "\n",
    "    if print_result:\n",
    "        print(result)\n",
    "    # Fill the list with \"X\" characters until it reaches a length of 40\n",
    "    result += ['X'] * (50 - len(result))\n",
    "\n",
    "    return [dictionary[aa] for aa in result]\n",
    "\n",
    "\n",
    "def one_hot_precursor(int_value, charges=[2,3,4]):\n",
    "    \"\"\"\n",
    "    One-hot encodes the precursor charge\n",
    "    :param df: dataframe\n",
    "    :param max_charge_included: int\n",
    "    :return: dataframe\n",
    "    \"\"\"\n",
    "    one_hot = [1 if x == int_value else 0 for x in charges]\n",
    "\n",
    "    return one_hot"
   ],
   "metadata": {
    "collapsed": false,
    "ExecuteTime": {
     "end_time": "2023-07-28T09:48:57.880603600Z",
     "start_time": "2023-07-28T09:48:57.873873400Z"
    }
   }
  },
  {
   "cell_type": "code",
   "execution_count": 123,
   "outputs": [
    {
     "name": "stdout",
     "output_type": "stream",
     "text": [
      "['A', 'A', 'C[UNIMOD:4]', 'L', 'L', 'V', 'A', 'W']\n",
      "[100, 100, 204, 1000, 1000, 1800, 100, 1900, 0, 0, 0, 0, 0, 0, 0, 0, 0, 0, 0, 0, 0, 0, 0, 0, 0, 0, 0, 0, 0, 0, 0, 0, 0, 0, 0, 0, 0, 0, 0, 0, 0, 0, 0, 0, 0, 0, 0, 0, 0, 0]\n",
      "[1, 0, 0]\n"
     ]
    }
   ],
   "source": [
    "print(seq_translator('AAC[UNIMOD:4]LLVAW', print_result=True))\n",
    "print(one_hot_precursor(2))"
   ],
   "metadata": {
    "collapsed": false,
    "ExecuteTime": {
     "end_time": "2023-07-28T09:49:01.263022900Z",
     "start_time": "2023-07-28T09:49:01.203883500Z"
    }
   }
  },
  {
   "cell_type": "code",
   "execution_count": 124,
   "outputs": [
    {
     "name": "stdout",
     "output_type": "stream",
     "text": [
      "data/Thermo_SRM_Pool_meta_data.parquet\n"
     ]
    }
   ],
   "source": [
    "file_list = [\"data/\"+file for file in os.listdir('data') if file.endswith('.parquet')]\n",
    "print(file_list[0])"
   ],
   "metadata": {
    "collapsed": false,
    "ExecuteTime": {
     "end_time": "2023-07-28T09:49:03.121326Z",
     "start_time": "2023-07-28T09:49:03.048584500Z"
    }
   }
  },
  {
   "cell_type": "markdown",
   "source": [
    "### import parquet files, drop all columns we dont need for training, one-hot encode precursor charge, translate sequence"
   ],
   "metadata": {
    "collapsed": false
   }
  },
  {
   "cell_type": "code",
   "execution_count": 125,
   "outputs": [],
   "source": [
    "batches_parquet = dict()\n",
    "counter = 0\n",
    "for file in file_list:\n",
    "    df = pd.read_parquet(file, engine='fastparquet')\n",
    "    # drop all columns we dont need for training\n",
    "    for column in df.columns:\n",
    "        if column not in [\"modified_sequence\",\"precursor_intensity\", \"precursor_charge\"]:\n",
    "            df.drop(column, axis=1, inplace=True)\n",
    "    charge_ranges = [2, 3, 4] # TODO SET RANGES\n",
    "    df = df[df[\"precursor_charge\"].isin(charge_ranges)] # remove 7+ charge states // only take charge states 2,3,4\n",
    "    df[\"modified_sequence_vector\"] = df[\"modified_sequence\"].apply(seq_translator)\n",
    "    df[\"precursor_charge_vector\"] = df[\"precursor_charge\"].apply(one_hot_precursor, args=(charge_ranges,))\n",
    "    df = df.dropna(subset=['precursor_intensity']) # drop rows with no precursor intensity\n",
    "    batches_parquet[file] = df\n",
    "    counter += 1\n",
    "    if counter > 1:\n",
    "        break # TODO REMOVE BREAK FOR FIRST FILE IN LIST"
   ],
   "metadata": {
    "collapsed": false,
    "ExecuteTime": {
     "end_time": "2023-07-28T09:50:24.073572300Z",
     "start_time": "2023-07-28T09:49:04.984322400Z"
    }
   }
  },
  {
   "cell_type": "code",
   "execution_count": 126,
   "outputs": [],
   "source": [
    "num_classes = len(charge_ranges)\n",
    "class_names = charge_ranges"
   ],
   "metadata": {
    "collapsed": false,
    "ExecuteTime": {
     "end_time": "2023-07-28T09:50:54.218844900Z",
     "start_time": "2023-07-28T09:50:54.182608Z"
    }
   }
  },
  {
   "cell_type": "code",
   "execution_count": 127,
   "outputs": [
    {
     "data": {
      "text/plain": "      modified_sequence  precursor_charge  precursor_intensity  \\\n0  LPGSLETYVEQEQGENANDR                 2           29525630.0   \n1       HGSLQEYLQNDTGSK                 2           13188580.0   \n2        VEEEEEINSELTAR                 2           20663460.0   \n3  LPGSLETYVEQEQGENANDR                 2           19884630.0   \n4  NSSTAEINETTTSSTDFLAR                 2           12804420.0   \n\n                            modified_sequence_vector precursor_charge_vector  \n0  [1000, 1300, 600, 1600, 1000, 400, 1700, 2000,...               [1, 0, 0]  \n1  [700, 600, 1600, 1000, 1400, 400, 2000, 1000, ...               [1, 0, 0]  \n2  [1800, 400, 400, 400, 400, 400, 800, 1200, 160...               [1, 0, 0]  \n3  [1000, 1300, 600, 1600, 1000, 400, 1700, 2000,...               [1, 0, 0]  \n4  [1200, 1600, 1600, 1700, 100, 400, 800, 1200, ...               [1, 0, 0]  ",
      "text/html": "<div>\n<style scoped>\n    .dataframe tbody tr th:only-of-type {\n        vertical-align: middle;\n    }\n\n    .dataframe tbody tr th {\n        vertical-align: top;\n    }\n\n    .dataframe thead th {\n        text-align: right;\n    }\n</style>\n<table border=\"1\" class=\"dataframe\">\n  <thead>\n    <tr style=\"text-align: right;\">\n      <th></th>\n      <th>modified_sequence</th>\n      <th>precursor_charge</th>\n      <th>precursor_intensity</th>\n      <th>modified_sequence_vector</th>\n      <th>precursor_charge_vector</th>\n    </tr>\n  </thead>\n  <tbody>\n    <tr>\n      <th>0</th>\n      <td>LPGSLETYVEQEQGENANDR</td>\n      <td>2</td>\n      <td>29525630.0</td>\n      <td>[1000, 1300, 600, 1600, 1000, 400, 1700, 2000,...</td>\n      <td>[1, 0, 0]</td>\n    </tr>\n    <tr>\n      <th>1</th>\n      <td>HGSLQEYLQNDTGSK</td>\n      <td>2</td>\n      <td>13188580.0</td>\n      <td>[700, 600, 1600, 1000, 1400, 400, 2000, 1000, ...</td>\n      <td>[1, 0, 0]</td>\n    </tr>\n    <tr>\n      <th>2</th>\n      <td>VEEEEEINSELTAR</td>\n      <td>2</td>\n      <td>20663460.0</td>\n      <td>[1800, 400, 400, 400, 400, 400, 800, 1200, 160...</td>\n      <td>[1, 0, 0]</td>\n    </tr>\n    <tr>\n      <th>3</th>\n      <td>LPGSLETYVEQEQGENANDR</td>\n      <td>2</td>\n      <td>19884630.0</td>\n      <td>[1000, 1300, 600, 1600, 1000, 400, 1700, 2000,...</td>\n      <td>[1, 0, 0]</td>\n    </tr>\n    <tr>\n      <th>4</th>\n      <td>NSSTAEINETTTSSTDFLAR</td>\n      <td>2</td>\n      <td>12804420.0</td>\n      <td>[1200, 1600, 1600, 1700, 100, 400, 800, 1200, ...</td>\n      <td>[1, 0, 0]</td>\n    </tr>\n  </tbody>\n</table>\n</div>"
     },
     "execution_count": 127,
     "metadata": {},
     "output_type": "execute_result"
    }
   ],
   "source": [
    "batches_parquet[file_list[0]].head()"
   ],
   "metadata": {
    "collapsed": false,
    "ExecuteTime": {
     "end_time": "2023-07-28T09:50:55.727533200Z",
     "start_time": "2023-07-28T09:50:55.669571800Z"
    }
   }
  },
  {
   "cell_type": "code",
   "execution_count": 128,
   "outputs": [
    {
     "data": {
      "text/plain": "2    4331294\n3    1523398\n4     115577\nName: precursor_charge, dtype: int64"
     },
     "execution_count": 128,
     "metadata": {},
     "output_type": "execute_result"
    }
   ],
   "source": [
    "batches_parquet[file_list[0]][\"precursor_charge\"].value_counts()"
   ],
   "metadata": {
    "collapsed": false,
    "ExecuteTime": {
     "end_time": "2023-07-28T09:50:58.220554400Z",
     "start_time": "2023-07-28T09:50:58.142436600Z"
    }
   }
  },
  {
   "cell_type": "markdown",
   "source": [
    "# Multi-label-dictionary"
   ],
   "metadata": {
    "collapsed": false
   }
  },
  {
   "cell_type": "code",
   "execution_count": 125,
   "outputs": [],
   "source": [
    "def multi_label_one_hot_precursor(charge_list, charges_included=[2,3,4]):\n",
    "\n",
    "    one_hot_encoded = [1 if label in charge_list else 0 for label in charges_included]\n",
    "\n",
    "    return one_hot_encoded"
   ],
   "metadata": {
    "collapsed": false,
    "ExecuteTime": {
     "end_time": "2023-07-24T13:46:16.430045900Z",
     "start_time": "2023-07-24T13:46:16.416104900Z"
    }
   }
  },
  {
   "cell_type": "code",
   "execution_count": 18,
   "outputs": [
    {
     "data": {
      "text/plain": "              modified_sequence  \\\n0          AAAASAAEAGIATTGTEGER   \n1         AAAC[UNIMOD:4]FFEQPPR   \n2                    AAADFATHGK   \n3      AAADLMAYC[UNIMOD:4]EAHAK   \n4            AAADSDPNLDPLMNPHIR   \n...                         ...   \n70310           YYVYWYQQLPGTTPK   \n70311            YYYENSDQPIDLTK   \n70312             YYYGHYLDDYHTK   \n70313              YYYSDNFFDGQR   \n70314             YYYVPADFVEYEK   \n\n                                        precursor_charge  \n0      [2, 2, 2, 2, 2, 2, 2, 2, 2, 2, 3, 2, 2, 3, 3, ...  \n1      [2, 2, 2, 2, 2, 2, 2, 2, 2, 2, 2, 2, 2, 2, 2, ...  \n2      [2, 2, 2, 2, 2, 2, 2, 2, 2, 2, 2, 2, 2, 2, 2, ...  \n3       [2, 2, 2, 2, 2, 2, 2, 2, 2, 2, 2, 2, 2, 2, 2, 2]  \n4                                           [3, 3, 3, 3]  \n...                                                  ...  \n70310         [2, 2, 3, 3, 2, 2, 2, 2, 2, 2, 2, 2, 2, 2]  \n70311         [2, 2, 2, 2, 2, 2, 2, 2, 2, 2, 2, 2, 2, 2]  \n70312  [2, 2, 2, 2, 3, 3, 3, 3, 3, 3, 3, 3, 4, 3, 4, ...  \n70313  [2, 2, 2, 2, 2, 2, 2, 2, 2, 2, 2, 2, 2, 2, 2, ...  \n70314  [2, 2, 2, 2, 2, 2, 2, 2, 2, 2, 2, 2, 2, 2, 2, ...  \n\n[70315 rows x 2 columns]",
      "text/html": "<div>\n<style scoped>\n    .dataframe tbody tr th:only-of-type {\n        vertical-align: middle;\n    }\n\n    .dataframe tbody tr th {\n        vertical-align: top;\n    }\n\n    .dataframe thead th {\n        text-align: right;\n    }\n</style>\n<table border=\"1\" class=\"dataframe\">\n  <thead>\n    <tr style=\"text-align: right;\">\n      <th></th>\n      <th>modified_sequence</th>\n      <th>precursor_charge</th>\n    </tr>\n  </thead>\n  <tbody>\n    <tr>\n      <th>0</th>\n      <td>AAAASAAEAGIATTGTEGER</td>\n      <td>[2, 2, 2, 2, 2, 2, 2, 2, 2, 2, 3, 2, 2, 3, 3, ...</td>\n    </tr>\n    <tr>\n      <th>1</th>\n      <td>AAAC[UNIMOD:4]FFEQPPR</td>\n      <td>[2, 2, 2, 2, 2, 2, 2, 2, 2, 2, 2, 2, 2, 2, 2, ...</td>\n    </tr>\n    <tr>\n      <th>2</th>\n      <td>AAADFATHGK</td>\n      <td>[2, 2, 2, 2, 2, 2, 2, 2, 2, 2, 2, 2, 2, 2, 2, ...</td>\n    </tr>\n    <tr>\n      <th>3</th>\n      <td>AAADLMAYC[UNIMOD:4]EAHAK</td>\n      <td>[2, 2, 2, 2, 2, 2, 2, 2, 2, 2, 2, 2, 2, 2, 2, 2]</td>\n    </tr>\n    <tr>\n      <th>4</th>\n      <td>AAADSDPNLDPLMNPHIR</td>\n      <td>[3, 3, 3, 3]</td>\n    </tr>\n    <tr>\n      <th>...</th>\n      <td>...</td>\n      <td>...</td>\n    </tr>\n    <tr>\n      <th>70310</th>\n      <td>YYVYWYQQLPGTTPK</td>\n      <td>[2, 2, 3, 3, 2, 2, 2, 2, 2, 2, 2, 2, 2, 2]</td>\n    </tr>\n    <tr>\n      <th>70311</th>\n      <td>YYYENSDQPIDLTK</td>\n      <td>[2, 2, 2, 2, 2, 2, 2, 2, 2, 2, 2, 2, 2, 2]</td>\n    </tr>\n    <tr>\n      <th>70312</th>\n      <td>YYYGHYLDDYHTK</td>\n      <td>[2, 2, 2, 2, 3, 3, 3, 3, 3, 3, 3, 3, 4, 3, 4, ...</td>\n    </tr>\n    <tr>\n      <th>70313</th>\n      <td>YYYSDNFFDGQR</td>\n      <td>[2, 2, 2, 2, 2, 2, 2, 2, 2, 2, 2, 2, 2, 2, 2, ...</td>\n    </tr>\n    <tr>\n      <th>70314</th>\n      <td>YYYVPADFVEYEK</td>\n      <td>[2, 2, 2, 2, 2, 2, 2, 2, 2, 2, 2, 2, 2, 2, 2, ...</td>\n    </tr>\n  </tbody>\n</table>\n<p>70315 rows × 2 columns</p>\n</div>"
     },
     "execution_count": 18,
     "metadata": {},
     "output_type": "execute_result"
    }
   ],
   "source": [
    "# Grouping by \"modified_sequence\" and aggregating precursor_charge into a list\n",
    "grouped_df = batches_parquet[file_list[0]].groupby(\"modified_sequence\")[\"precursor_charge\"].agg(list).reset_index()\n",
    "grouped_df"
   ],
   "metadata": {
    "collapsed": false,
    "ExecuteTime": {
     "end_time": "2023-07-24T11:45:52.373993600Z",
     "start_time": "2023-07-24T11:45:50.193380400Z"
    }
   }
  },
  {
   "cell_type": "code",
   "execution_count": 13,
   "outputs": [],
   "source": [
    "multi_label_df = grouped_df.copy()\n",
    "multi_label_df[\"precursor_charge\"] = grouped_df[\"precursor_charge\"].apply(multi_label_one_hot_precursor)\n",
    "multi_label_df[\"modified_sequence_vector\"] = grouped_df[\"modified_sequence\"].apply(seq_translator)\n"
   ],
   "metadata": {
    "collapsed": false,
    "ExecuteTime": {
     "end_time": "2023-07-24T07:44:35.263841600Z",
     "start_time": "2023-07-24T07:44:34.826792400Z"
    }
   }
  },
  {
   "cell_type": "code",
   "execution_count": 14,
   "outputs": [
    {
     "data": {
      "text/plain": "              modified_sequence precursor_charge  \\\n0          AAAASAAEAGIATTGTEGER        [1, 1, 0]   \n1         AAAC[UNIMOD:4]FFEQPPR        [1, 0, 0]   \n2                    AAADFATHGK        [1, 0, 0]   \n3      AAADLMAYC[UNIMOD:4]EAHAK        [1, 0, 0]   \n4            AAADSDPNLDPLMNPHIR        [0, 1, 0]   \n...                         ...              ...   \n70910           YYVYWYQQLPGTTPK        [1, 1, 0]   \n70911            YYYENSDQPIDLTK        [1, 0, 0]   \n70912             YYYGHYLDDYHTK        [1, 1, 1]   \n70913              YYYSDNFFDGQR        [1, 0, 0]   \n70914             YYYVPADFVEYEK        [1, 0, 0]   \n\n                                modified_sequence_vector  \n0      [100, 100, 100, 100, 1600, 100, 100, 400, 100,...  \n1      [100, 100, 100, 204, 500, 500, 400, 1400, 1300...  \n2      [100, 100, 100, 300, 500, 100, 1700, 700, 600,...  \n3      [100, 100, 100, 300, 1000, 1100, 100, 2000, 20...  \n4      [100, 100, 100, 300, 1600, 300, 1300, 1200, 10...  \n...                                                  ...  \n70910  [2000, 2000, 1800, 2000, 1900, 2000, 1400, 140...  \n70911  [2000, 2000, 2000, 400, 1200, 1600, 300, 1400,...  \n70912  [2000, 2000, 2000, 600, 700, 2000, 1000, 300, ...  \n70913  [2000, 2000, 2000, 1600, 300, 1200, 500, 500, ...  \n70914  [2000, 2000, 2000, 1800, 1300, 100, 300, 500, ...  \n\n[70915 rows x 3 columns]",
      "text/html": "<div>\n<style scoped>\n    .dataframe tbody tr th:only-of-type {\n        vertical-align: middle;\n    }\n\n    .dataframe tbody tr th {\n        vertical-align: top;\n    }\n\n    .dataframe thead th {\n        text-align: right;\n    }\n</style>\n<table border=\"1\" class=\"dataframe\">\n  <thead>\n    <tr style=\"text-align: right;\">\n      <th></th>\n      <th>modified_sequence</th>\n      <th>precursor_charge</th>\n      <th>modified_sequence_vector</th>\n    </tr>\n  </thead>\n  <tbody>\n    <tr>\n      <th>0</th>\n      <td>AAAASAAEAGIATTGTEGER</td>\n      <td>[1, 1, 0]</td>\n      <td>[100, 100, 100, 100, 1600, 100, 100, 400, 100,...</td>\n    </tr>\n    <tr>\n      <th>1</th>\n      <td>AAAC[UNIMOD:4]FFEQPPR</td>\n      <td>[1, 0, 0]</td>\n      <td>[100, 100, 100, 204, 500, 500, 400, 1400, 1300...</td>\n    </tr>\n    <tr>\n      <th>2</th>\n      <td>AAADFATHGK</td>\n      <td>[1, 0, 0]</td>\n      <td>[100, 100, 100, 300, 500, 100, 1700, 700, 600,...</td>\n    </tr>\n    <tr>\n      <th>3</th>\n      <td>AAADLMAYC[UNIMOD:4]EAHAK</td>\n      <td>[1, 0, 0]</td>\n      <td>[100, 100, 100, 300, 1000, 1100, 100, 2000, 20...</td>\n    </tr>\n    <tr>\n      <th>4</th>\n      <td>AAADSDPNLDPLMNPHIR</td>\n      <td>[0, 1, 0]</td>\n      <td>[100, 100, 100, 300, 1600, 300, 1300, 1200, 10...</td>\n    </tr>\n    <tr>\n      <th>...</th>\n      <td>...</td>\n      <td>...</td>\n      <td>...</td>\n    </tr>\n    <tr>\n      <th>70910</th>\n      <td>YYVYWYQQLPGTTPK</td>\n      <td>[1, 1, 0]</td>\n      <td>[2000, 2000, 1800, 2000, 1900, 2000, 1400, 140...</td>\n    </tr>\n    <tr>\n      <th>70911</th>\n      <td>YYYENSDQPIDLTK</td>\n      <td>[1, 0, 0]</td>\n      <td>[2000, 2000, 2000, 400, 1200, 1600, 300, 1400,...</td>\n    </tr>\n    <tr>\n      <th>70912</th>\n      <td>YYYGHYLDDYHTK</td>\n      <td>[1, 1, 1]</td>\n      <td>[2000, 2000, 2000, 600, 700, 2000, 1000, 300, ...</td>\n    </tr>\n    <tr>\n      <th>70913</th>\n      <td>YYYSDNFFDGQR</td>\n      <td>[1, 0, 0]</td>\n      <td>[2000, 2000, 2000, 1600, 300, 1200, 500, 500, ...</td>\n    </tr>\n    <tr>\n      <th>70914</th>\n      <td>YYYVPADFVEYEK</td>\n      <td>[1, 0, 0]</td>\n      <td>[2000, 2000, 2000, 1800, 1300, 100, 300, 500, ...</td>\n    </tr>\n  </tbody>\n</table>\n<p>70915 rows × 3 columns</p>\n</div>"
     },
     "execution_count": 14,
     "metadata": {},
     "output_type": "execute_result"
    }
   ],
   "source": [
    "multi_label_df"
   ],
   "metadata": {
    "collapsed": false,
    "ExecuteTime": {
     "end_time": "2023-07-24T07:44:36.368611500Z",
     "start_time": "2023-07-24T07:44:36.341081200Z"
    }
   }
  },
  {
   "cell_type": "markdown",
   "source": [
    "### import preprocessed df's"
   ],
   "metadata": {
    "collapsed": false
   }
  },
  {
   "cell_type": "code",
   "execution_count": 351,
   "outputs": [],
   "source": [
    "# Make validation data\n",
    "sample_df = batches_parquet[file_list[0]][[\"precursor_charge\", \"precursor_intensity\", \"modified_sequence_vector\"]].copy()"
   ],
   "metadata": {
    "collapsed": false,
    "ExecuteTime": {
     "end_time": "2023-07-28T11:23:54.203761400Z",
     "start_time": "2023-07-28T11:23:54.005231600Z"
    }
   }
  },
  {
   "cell_type": "code",
   "execution_count": 352,
   "outputs": [
    {
     "data": {
      "text/plain": "         precursor_charge  precursor_intensity  \\\n0                       2           29525630.0   \n1                       2           13188580.0   \n2                       2           20663460.0   \n3                       2           19884630.0   \n4                       2           12804420.0   \n...                   ...                  ...   \n6080601                 3             573697.7   \n6080602                 3             573697.7   \n6080603                 3             114742.8   \n6080604                 3             114742.8   \n6080605                 3             202114.2   \n\n                                                                                                                                                                                        modified_sequence_vector  \n0        [1000, 1300, 600, 1600, 1000, 400, 1700, 2000, 1800, 400, 1400, 400, 1400, 600, 400, 1200, 100, 1200, 300, 1500, 0, 0, 0, 0, 0, 0, 0, 0, 0, 0, 0, 0, 0, 0, 0, 0, 0, 0, 0, 0, 0, 0, 0, 0, 0, 0, 0, 0,...  \n1                  [700, 600, 1600, 1000, 1400, 400, 2000, 1000, 1400, 1200, 300, 1700, 600, 1600, 900, 0, 0, 0, 0, 0, 0, 0, 0, 0, 0, 0, 0, 0, 0, 0, 0, 0, 0, 0, 0, 0, 0, 0, 0, 0, 0, 0, 0, 0, 0, 0, 0, 0, 0, 0]  \n2                       [1800, 400, 400, 400, 400, 400, 800, 1200, 1600, 400, 1000, 1700, 100, 1500, 0, 0, 0, 0, 0, 0, 0, 0, 0, 0, 0, 0, 0, 0, 0, 0, 0, 0, 0, 0, 0, 0, 0, 0, 0, 0, 0, 0, 0, 0, 0, 0, 0, 0, 0, 0]  \n3        [1000, 1300, 600, 1600, 1000, 400, 1700, 2000, 1800, 400, 1400, 400, 1400, 600, 400, 1200, 100, 1200, 300, 1500, 0, 0, 0, 0, 0, 0, 0, 0, 0, 0, 0, 0, 0, 0, 0, 0, 0, 0, 0, 0, 0, 0, 0, 0, 0, 0, 0, 0,...  \n4        [1200, 1600, 1600, 1700, 100, 400, 800, 1200, 400, 1700, 1700, 1700, 1600, 1600, 1700, 300, 500, 1000, 100, 1500, 0, 0, 0, 0, 0, 0, 0, 0, 0, 0, 0, 0, 0, 0, 0, 0, 0, 0, 0, 0, 0, 0, 0, 0, 0, 0, 0, 0...  \n...                                                                                                                                                                                                          ...  \n6080601  [2000, 1600, 1400, 1000, 500, 204, 600, 1000, 1300, 1600, 1000, 700, 1600, 400, 1600, 1000, 1800, 100, 1700, 500, 1100, 600, 1600, 1400, 600, 1000, 1300, 900, 0, 0, 0, 0, 0, 0, 0, 0, 0, 0, 0, 0, 0...  \n6080602  [2000, 1600, 1400, 1000, 500, 204, 600, 1000, 1300, 1600, 1000, 700, 1600, 400, 1600, 1000, 1800, 100, 1700, 500, 1100, 600, 1600, 1400, 600, 1000, 1300, 900, 0, 0, 0, 0, 0, 0, 0, 0, 0, 0, 0, 0, 0...  \n6080603  [400, 1100, 400, 1200, 500, 1800, 1400, 1600, 1600, 600, 400, 300, 600, 800, 1800, 1800, 500, 1600, 1000, 600, 1600, 1000, 500, 1400, 1200, 1800, 1700, 400, 400, 900, 0, 0, 0, 0, 0, 0, 0, 0, 0, 0,...  \n6080604  [400, 1100, 400, 1200, 500, 1800, 1400, 1600, 1600, 600, 400, 300, 600, 800, 1800, 1800, 500, 1600, 1000, 600, 1600, 1000, 500, 1400, 1200, 1800, 1700, 400, 400, 900, 0, 0, 0, 0, 0, 0, 0, 0, 0, 0,...  \n6080605  [2000, 1600, 1400, 1000, 500, 204, 600, 1000, 1300, 1600, 1000, 700, 1600, 400, 1600, 1000, 1800, 100, 1700, 500, 1100, 600, 1600, 1400, 600, 1000, 1300, 900, 0, 0, 0, 0, 0, 0, 0, 0, 0, 0, 0, 0, 0...  \n\n[5970269 rows x 3 columns]",
      "text/html": "<div>\n<style scoped>\n    .dataframe tbody tr th:only-of-type {\n        vertical-align: middle;\n    }\n\n    .dataframe tbody tr th {\n        vertical-align: top;\n    }\n\n    .dataframe thead th {\n        text-align: right;\n    }\n</style>\n<table border=\"1\" class=\"dataframe\">\n  <thead>\n    <tr style=\"text-align: right;\">\n      <th></th>\n      <th>precursor_charge</th>\n      <th>precursor_intensity</th>\n      <th>modified_sequence_vector</th>\n    </tr>\n  </thead>\n  <tbody>\n    <tr>\n      <th>0</th>\n      <td>2</td>\n      <td>29525630.0</td>\n      <td>[1000, 1300, 600, 1600, 1000, 400, 1700, 2000, 1800, 400, 1400, 400, 1400, 600, 400, 1200, 100, 1200, 300, 1500, 0, 0, 0, 0, 0, 0, 0, 0, 0, 0, 0, 0, 0, 0, 0, 0, 0, 0, 0, 0, 0, 0, 0, 0, 0, 0, 0, 0,...</td>\n    </tr>\n    <tr>\n      <th>1</th>\n      <td>2</td>\n      <td>13188580.0</td>\n      <td>[700, 600, 1600, 1000, 1400, 400, 2000, 1000, 1400, 1200, 300, 1700, 600, 1600, 900, 0, 0, 0, 0, 0, 0, 0, 0, 0, 0, 0, 0, 0, 0, 0, 0, 0, 0, 0, 0, 0, 0, 0, 0, 0, 0, 0, 0, 0, 0, 0, 0, 0, 0, 0]</td>\n    </tr>\n    <tr>\n      <th>2</th>\n      <td>2</td>\n      <td>20663460.0</td>\n      <td>[1800, 400, 400, 400, 400, 400, 800, 1200, 1600, 400, 1000, 1700, 100, 1500, 0, 0, 0, 0, 0, 0, 0, 0, 0, 0, 0, 0, 0, 0, 0, 0, 0, 0, 0, 0, 0, 0, 0, 0, 0, 0, 0, 0, 0, 0, 0, 0, 0, 0, 0, 0]</td>\n    </tr>\n    <tr>\n      <th>3</th>\n      <td>2</td>\n      <td>19884630.0</td>\n      <td>[1000, 1300, 600, 1600, 1000, 400, 1700, 2000, 1800, 400, 1400, 400, 1400, 600, 400, 1200, 100, 1200, 300, 1500, 0, 0, 0, 0, 0, 0, 0, 0, 0, 0, 0, 0, 0, 0, 0, 0, 0, 0, 0, 0, 0, 0, 0, 0, 0, 0, 0, 0,...</td>\n    </tr>\n    <tr>\n      <th>4</th>\n      <td>2</td>\n      <td>12804420.0</td>\n      <td>[1200, 1600, 1600, 1700, 100, 400, 800, 1200, 400, 1700, 1700, 1700, 1600, 1600, 1700, 300, 500, 1000, 100, 1500, 0, 0, 0, 0, 0, 0, 0, 0, 0, 0, 0, 0, 0, 0, 0, 0, 0, 0, 0, 0, 0, 0, 0, 0, 0, 0, 0, 0...</td>\n    </tr>\n    <tr>\n      <th>...</th>\n      <td>...</td>\n      <td>...</td>\n      <td>...</td>\n    </tr>\n    <tr>\n      <th>6080601</th>\n      <td>3</td>\n      <td>573697.7</td>\n      <td>[2000, 1600, 1400, 1000, 500, 204, 600, 1000, 1300, 1600, 1000, 700, 1600, 400, 1600, 1000, 1800, 100, 1700, 500, 1100, 600, 1600, 1400, 600, 1000, 1300, 900, 0, 0, 0, 0, 0, 0, 0, 0, 0, 0, 0, 0, 0...</td>\n    </tr>\n    <tr>\n      <th>6080602</th>\n      <td>3</td>\n      <td>573697.7</td>\n      <td>[2000, 1600, 1400, 1000, 500, 204, 600, 1000, 1300, 1600, 1000, 700, 1600, 400, 1600, 1000, 1800, 100, 1700, 500, 1100, 600, 1600, 1400, 600, 1000, 1300, 900, 0, 0, 0, 0, 0, 0, 0, 0, 0, 0, 0, 0, 0...</td>\n    </tr>\n    <tr>\n      <th>6080603</th>\n      <td>3</td>\n      <td>114742.8</td>\n      <td>[400, 1100, 400, 1200, 500, 1800, 1400, 1600, 1600, 600, 400, 300, 600, 800, 1800, 1800, 500, 1600, 1000, 600, 1600, 1000, 500, 1400, 1200, 1800, 1700, 400, 400, 900, 0, 0, 0, 0, 0, 0, 0, 0, 0, 0,...</td>\n    </tr>\n    <tr>\n      <th>6080604</th>\n      <td>3</td>\n      <td>114742.8</td>\n      <td>[400, 1100, 400, 1200, 500, 1800, 1400, 1600, 1600, 600, 400, 300, 600, 800, 1800, 1800, 500, 1600, 1000, 600, 1600, 1000, 500, 1400, 1200, 1800, 1700, 400, 400, 900, 0, 0, 0, 0, 0, 0, 0, 0, 0, 0,...</td>\n    </tr>\n    <tr>\n      <th>6080605</th>\n      <td>3</td>\n      <td>202114.2</td>\n      <td>[2000, 1600, 1400, 1000, 500, 204, 600, 1000, 1300, 1600, 1000, 700, 1600, 400, 1600, 1000, 1800, 100, 1700, 500, 1100, 600, 1600, 1400, 600, 1000, 1300, 900, 0, 0, 0, 0, 0, 0, 0, 0, 0, 0, 0, 0, 0...</td>\n    </tr>\n  </tbody>\n</table>\n<p>5970269 rows × 3 columns</p>\n</div>"
     },
     "execution_count": 352,
     "metadata": {},
     "output_type": "execute_result"
    }
   ],
   "source": [
    "sample_df"
   ],
   "metadata": {
    "collapsed": false,
    "ExecuteTime": {
     "end_time": "2023-07-28T11:23:55.987936200Z",
     "start_time": "2023-07-28T11:23:55.957802500Z"
    }
   }
  },
  {
   "cell_type": "code",
   "execution_count": 353,
   "outputs": [],
   "source": [
    "# Split the data into train, validation, and test sets\n",
    "sample_df[\"precursor_intensity\"] = sample_df[\"precursor_intensity\"] # TODO or times 10 -> 0.1 = 1 .astype(int)\n",
    "main_ds = np.array(sample_df[[\"precursor_intensity\", \"modified_sequence_vector\"]]) # to list\n",
    "main_ds_labels = np.array(sample_df['precursor_charge'])\n",
    "max_len = max(sample_df.loc[:, 'modified_sequence_vector'].apply(len))  # Find the maximum length\n",
    "\n",
    "\n",
    "# Create an instance of StratifiedShuffleSplit\n",
    "sss = StratifiedShuffleSplit(n_splits=1, test_size=0.2, random_state=42)\n",
    "\n",
    "# Perform the split\n",
    "train_indicies, val_indicies = next(sss.split(main_ds, main_ds_labels))\n",
    "train_ds, train_ds_labels = main_ds[train_indicies], main_ds_labels[train_indicies]\n",
    "val_ds, val_ds_labels = main_ds[val_indicies], main_ds_labels[val_indicies]\n",
    "\n",
    "\n",
    "charges = [2,3,4] # TODO SELECT CLASSES\n",
    "num_classes = len(charges)\n",
    "\n",
    "train_ds_labels, val_ds_labels = np.array([one_hot_precursor(i, charges = charges) for i in train_ds_labels]), np.array([one_hot_precursor(i, charges = charges) for i in val_ds_labels])"
   ],
   "metadata": {
    "collapsed": false,
    "ExecuteTime": {
     "end_time": "2023-07-28T11:24:13.187297400Z",
     "start_time": "2023-07-28T11:23:57.397612400Z"
    }
   }
  },
  {
   "cell_type": "markdown",
   "source": [
    "### Model"
   ],
   "metadata": {
    "collapsed": false
   }
  },
  {
   "cell_type": "code",
   "execution_count": 354,
   "outputs": [
    {
     "data": {
      "text/plain": "array([[6341258.0,\n        list([1135, 1200, 600, 800, 1135, 1000, 1500, 0, 0, 0, 0, 0, 0, 0, 0, 0, 0, 0, 0, 0, 0, 0, 0, 0, 0, 0, 0, 0, 0, 0, 0, 0, 0, 0, 0, 0, 0, 0, 0, 0, 0, 0, 0, 0, 0, 0, 0, 0, 0, 0])],\n       [2154173.0,\n        list([600, 800, 100, 1800, 300, 100, 1000, 1700, 500, 1700, 700, 700, 1800, 800, 1600, 1200, 1700, 1700, 300, 900, 0, 0, 0, 0, 0, 0, 0, 0, 0, 0, 0, 0, 0, 0, 0, 0, 0, 0, 0, 0, 0, 0, 0, 0, 0, 0, 0, 0, 0, 0])],\n       [11590040.0,\n        list([600, 100, 400, 204, 500, 400, 400, 1000, 1600, 900, 0, 0, 0, 0, 0, 0, 0, 0, 0, 0, 0, 0, 0, 0, 0, 0, 0, 0, 0, 0, 0, 0, 0, 0, 0, 0, 0, 0, 0, 0, 0, 0, 0, 0, 0, 0, 0, 0, 0, 0])],\n       ...,\n       [1622503.0,\n        list([204, 1000, 300, 600, 2000, 800, 600, 300, 1600, 800, 1500, 0, 0, 0, 0, 0, 0, 0, 0, 0, 0, 0, 0, 0, 0, 0, 0, 0, 0, 0, 0, 0, 0, 0, 0, 0, 0, 0, 0, 0, 0, 0, 0, 0, 0, 0, 0, 0, 0, 0])],\n       [66814520.0,\n        list([1000, 1800, 1600, 1000, 400, 400, 100, 1400, 100, 1500, 0, 0, 0, 0, 0, 0, 0, 0, 0, 0, 0, 0, 0, 0, 0, 0, 0, 0, 0, 0, 0, 0, 0, 0, 0, 0, 0, 0, 0, 0, 0, 0, 0, 0, 0, 0, 0, 0, 0, 0])],\n       [7357780.0,\n        list([400, 1700, 600, 600, 100, 400, 600, 1700, 600, 300, 100, 1800, 1000, 600, 400, 900, 0, 0, 0, 0, 0, 0, 0, 0, 0, 0, 0, 0, 0, 0, 0, 0, 0, 0, 0, 0, 0, 0, 0, 0, 0, 0, 0, 0, 0, 0, 0, 0, 0, 0])]],\n      dtype=object)"
     },
     "execution_count": 354,
     "metadata": {},
     "output_type": "execute_result"
    }
   ],
   "source": [
    "train_ds"
   ],
   "metadata": {
    "collapsed": false,
    "ExecuteTime": {
     "end_time": "2023-07-28T11:24:13.196277100Z",
     "start_time": "2023-07-28T11:24:13.189296100Z"
    }
   }
  },
  {
   "cell_type": "code",
   "execution_count": 355,
   "outputs": [
    {
     "data": {
      "text/plain": "(4776215, 2)"
     },
     "execution_count": 355,
     "metadata": {},
     "output_type": "execute_result"
    }
   ],
   "source": [
    "train_ds.shape"
   ],
   "metadata": {
    "collapsed": false,
    "ExecuteTime": {
     "end_time": "2023-07-28T11:24:13.215458Z",
     "start_time": "2023-07-28T11:24:13.194250500Z"
    }
   }
  },
  {
   "cell_type": "code",
   "execution_count": 380,
   "outputs": [],
   "source": [
    "train_ds_a, train_ds_b, val_ds_a, val_ds_b = train_ds[:, 0], train_ds[:, 1:], val_ds[:, 0], val_ds[:, 1:]"
   ],
   "metadata": {
    "collapsed": false,
    "ExecuteTime": {
     "end_time": "2023-07-28T11:30:09.973012600Z",
     "start_time": "2023-07-28T11:30:09.942823100Z"
    }
   }
  },
  {
   "cell_type": "code",
   "execution_count": 381,
   "outputs": [],
   "source": [
    "train_ds_a = train_ds_a.reshape(train_ds_a.shape[0], 1)"
   ],
   "metadata": {
    "collapsed": false,
    "ExecuteTime": {
     "end_time": "2023-07-28T11:30:12.612278200Z",
     "start_time": "2023-07-28T11:30:12.585396900Z"
    }
   }
  },
  {
   "cell_type": "code",
   "execution_count": 382,
   "outputs": [
    {
     "data": {
      "text/plain": "(4776215, 1)"
     },
     "execution_count": 382,
     "metadata": {},
     "output_type": "execute_result"
    }
   ],
   "source": [
    "train_ds_a.shape"
   ],
   "metadata": {
    "collapsed": false,
    "ExecuteTime": {
     "end_time": "2023-07-28T11:30:14.300931800Z",
     "start_time": "2023-07-28T11:30:14.248840800Z"
    }
   }
  },
  {
   "cell_type": "code",
   "execution_count": 383,
   "outputs": [],
   "source": [
    "train_ds_a = tf.convert_to_tensor(train_ds_a, dtype=tf.float32)"
   ],
   "metadata": {
    "collapsed": false,
    "ExecuteTime": {
     "end_time": "2023-07-28T11:30:16.803468400Z",
     "start_time": "2023-07-28T11:30:15.595565500Z"
    }
   }
  },
  {
   "cell_type": "code",
   "execution_count": 384,
   "outputs": [
    {
     "data": {
      "text/plain": "array([[list([1135, 1200, 600, 800, 1135, 1000, 1500, 0, 0, 0, 0, 0, 0, 0, 0, 0, 0, 0, 0, 0, 0, 0, 0, 0, 0, 0, 0, 0, 0, 0, 0, 0, 0, 0, 0, 0, 0, 0, 0, 0, 0, 0, 0, 0, 0, 0, 0, 0, 0, 0])],\n       [list([600, 800, 100, 1800, 300, 100, 1000, 1700, 500, 1700, 700, 700, 1800, 800, 1600, 1200, 1700, 1700, 300, 900, 0, 0, 0, 0, 0, 0, 0, 0, 0, 0, 0, 0, 0, 0, 0, 0, 0, 0, 0, 0, 0, 0, 0, 0, 0, 0, 0, 0, 0, 0])],\n       [list([600, 100, 400, 204, 500, 400, 400, 1000, 1600, 900, 0, 0, 0, 0, 0, 0, 0, 0, 0, 0, 0, 0, 0, 0, 0, 0, 0, 0, 0, 0, 0, 0, 0, 0, 0, 0, 0, 0, 0, 0, 0, 0, 0, 0, 0, 0, 0, 0, 0, 0])],\n       ...,\n       [list([204, 1000, 300, 600, 2000, 800, 600, 300, 1600, 800, 1500, 0, 0, 0, 0, 0, 0, 0, 0, 0, 0, 0, 0, 0, 0, 0, 0, 0, 0, 0, 0, 0, 0, 0, 0, 0, 0, 0, 0, 0, 0, 0, 0, 0, 0, 0, 0, 0, 0, 0])],\n       [list([1000, 1800, 1600, 1000, 400, 400, 100, 1400, 100, 1500, 0, 0, 0, 0, 0, 0, 0, 0, 0, 0, 0, 0, 0, 0, 0, 0, 0, 0, 0, 0, 0, 0, 0, 0, 0, 0, 0, 0, 0, 0, 0, 0, 0, 0, 0, 0, 0, 0, 0, 0])],\n       [list([400, 1700, 600, 600, 100, 400, 600, 1700, 600, 300, 100, 1800, 1000, 600, 400, 900, 0, 0, 0, 0, 0, 0, 0, 0, 0, 0, 0, 0, 0, 0, 0, 0, 0, 0, 0, 0, 0, 0, 0, 0, 0, 0, 0, 0, 0, 0, 0, 0, 0, 0])]],\n      dtype=object)"
     },
     "execution_count": 384,
     "metadata": {},
     "output_type": "execute_result"
    }
   ],
   "source": [
    "train_ds_b"
   ],
   "metadata": {
    "collapsed": false,
    "ExecuteTime": {
     "end_time": "2023-07-28T11:30:26.015028400Z",
     "start_time": "2023-07-28T11:30:25.962855300Z"
    }
   }
  },
  {
   "cell_type": "code",
   "execution_count": 385,
   "outputs": [],
   "source": [
    "train_ds_b = np.array(train_ds_b)"
   ],
   "metadata": {
    "collapsed": false,
    "ExecuteTime": {
     "end_time": "2023-07-28T11:30:43.854166100Z",
     "start_time": "2023-07-28T11:30:43.750633300Z"
    }
   }
  },
  {
   "cell_type": "code",
   "execution_count": 386,
   "outputs": [
    {
     "ename": "ValueError",
     "evalue": "setting an array element with a sequence.",
     "output_type": "error",
     "traceback": [
      "\u001B[1;31m---------------------------------------------------------------------------\u001B[0m",
      "\u001B[1;31mValueError\u001B[0m                                Traceback (most recent call last)",
      "Cell \u001B[1;32mIn[386], line 1\u001B[0m\n\u001B[1;32m----> 1\u001B[0m train_ds_b \u001B[38;5;241m=\u001B[39m \u001B[43mtf\u001B[49m\u001B[38;5;241;43m.\u001B[39;49m\u001B[43mconvert_to_tensor\u001B[49m\u001B[43m(\u001B[49m\u001B[43mtrain_ds_b\u001B[49m\u001B[43m,\u001B[49m\u001B[43m \u001B[49m\u001B[43mdtype\u001B[49m\u001B[38;5;241;43m=\u001B[39;49m\u001B[43mtf\u001B[49m\u001B[38;5;241;43m.\u001B[39;49m\u001B[43mfloat32\u001B[49m\u001B[43m)\u001B[49m\n",
      "File \u001B[1;32m~\\OneDrive\\Dokumente\\GitHub\\BachelorThesis\\venv\\Lib\\site-packages\\tensorflow\\python\\util\\traceback_utils.py:153\u001B[0m, in \u001B[0;36mfilter_traceback.<locals>.error_handler\u001B[1;34m(*args, **kwargs)\u001B[0m\n\u001B[0;32m    151\u001B[0m \u001B[38;5;28;01mexcept\u001B[39;00m \u001B[38;5;167;01mException\u001B[39;00m \u001B[38;5;28;01mas\u001B[39;00m e:\n\u001B[0;32m    152\u001B[0m   filtered_tb \u001B[38;5;241m=\u001B[39m _process_traceback_frames(e\u001B[38;5;241m.\u001B[39m__traceback__)\n\u001B[1;32m--> 153\u001B[0m   \u001B[38;5;28;01mraise\u001B[39;00m e\u001B[38;5;241m.\u001B[39mwith_traceback(filtered_tb) \u001B[38;5;28;01mfrom\u001B[39;00m \u001B[38;5;28mNone\u001B[39m\n\u001B[0;32m    154\u001B[0m \u001B[38;5;28;01mfinally\u001B[39;00m:\n\u001B[0;32m    155\u001B[0m   \u001B[38;5;28;01mdel\u001B[39;00m filtered_tb\n",
      "File \u001B[1;32m~\\OneDrive\\Dokumente\\GitHub\\BachelorThesis\\venv\\Lib\\site-packages\\tensorflow\\python\\framework\\constant_op.py:103\u001B[0m, in \u001B[0;36mconvert_to_eager_tensor\u001B[1;34m(value, ctx, dtype)\u001B[0m\n\u001B[0;32m    101\u001B[0m     dtype \u001B[38;5;241m=\u001B[39m dtypes\u001B[38;5;241m.\u001B[39mas_dtype(dtype)\u001B[38;5;241m.\u001B[39mas_datatype_enum\n\u001B[0;32m    102\u001B[0m ctx\u001B[38;5;241m.\u001B[39mensure_initialized()\n\u001B[1;32m--> 103\u001B[0m \u001B[38;5;28;01mreturn\u001B[39;00m \u001B[43mops\u001B[49m\u001B[38;5;241;43m.\u001B[39;49m\u001B[43mEagerTensor\u001B[49m\u001B[43m(\u001B[49m\u001B[43mvalue\u001B[49m\u001B[43m,\u001B[49m\u001B[43m \u001B[49m\u001B[43mctx\u001B[49m\u001B[38;5;241;43m.\u001B[39;49m\u001B[43mdevice_name\u001B[49m\u001B[43m,\u001B[49m\u001B[43m \u001B[49m\u001B[43mdtype\u001B[49m\u001B[43m)\u001B[49m\n",
      "\u001B[1;31mValueError\u001B[0m: setting an array element with a sequence."
     ]
    }
   ],
   "source": [
    "train_ds_b = tf.convert_to_tensor(train_ds_b, dtype=tf.float32)"
   ],
   "metadata": {
    "collapsed": false,
    "ExecuteTime": {
     "end_time": "2023-07-28T11:30:45.596942900Z",
     "start_time": "2023-07-28T11:30:45.540553300Z"
    }
   }
  },
  {
   "cell_type": "code",
   "execution_count": 387,
   "outputs": [
    {
     "data": {
      "text/plain": "array([[list([1135, 1200, 600, 800, 1135, 1000, 1500, 0, 0, 0, 0, 0, 0, 0, 0, 0, 0, 0, 0, 0, 0, 0, 0, 0, 0, 0, 0, 0, 0, 0, 0, 0, 0, 0, 0, 0, 0, 0, 0, 0, 0, 0, 0, 0, 0, 0, 0, 0, 0, 0])],\n       [list([600, 800, 100, 1800, 300, 100, 1000, 1700, 500, 1700, 700, 700, 1800, 800, 1600, 1200, 1700, 1700, 300, 900, 0, 0, 0, 0, 0, 0, 0, 0, 0, 0, 0, 0, 0, 0, 0, 0, 0, 0, 0, 0, 0, 0, 0, 0, 0, 0, 0, 0, 0, 0])],\n       [list([600, 100, 400, 204, 500, 400, 400, 1000, 1600, 900, 0, 0, 0, 0, 0, 0, 0, 0, 0, 0, 0, 0, 0, 0, 0, 0, 0, 0, 0, 0, 0, 0, 0, 0, 0, 0, 0, 0, 0, 0, 0, 0, 0, 0, 0, 0, 0, 0, 0, 0])],\n       ...,\n       [list([204, 1000, 300, 600, 2000, 800, 600, 300, 1600, 800, 1500, 0, 0, 0, 0, 0, 0, 0, 0, 0, 0, 0, 0, 0, 0, 0, 0, 0, 0, 0, 0, 0, 0, 0, 0, 0, 0, 0, 0, 0, 0, 0, 0, 0, 0, 0, 0, 0, 0, 0])],\n       [list([1000, 1800, 1600, 1000, 400, 400, 100, 1400, 100, 1500, 0, 0, 0, 0, 0, 0, 0, 0, 0, 0, 0, 0, 0, 0, 0, 0, 0, 0, 0, 0, 0, 0, 0, 0, 0, 0, 0, 0, 0, 0, 0, 0, 0, 0, 0, 0, 0, 0, 0, 0])],\n       [list([400, 1700, 600, 600, 100, 400, 600, 1700, 600, 300, 100, 1800, 1000, 600, 400, 900, 0, 0, 0, 0, 0, 0, 0, 0, 0, 0, 0, 0, 0, 0, 0, 0, 0, 0, 0, 0, 0, 0, 0, 0, 0, 0, 0, 0, 0, 0, 0, 0, 0, 0])]],\n      dtype=object)"
     },
     "execution_count": 387,
     "metadata": {},
     "output_type": "execute_result"
    }
   ],
   "source": [
    "train_ds_b"
   ],
   "metadata": {
    "collapsed": false,
    "ExecuteTime": {
     "end_time": "2023-07-28T11:30:54.848785600Z",
     "start_time": "2023-07-28T11:30:54.799773900Z"
    }
   }
  },
  {
   "cell_type": "code",
   "execution_count": 388,
   "outputs": [
    {
     "ename": "ValueError",
     "evalue": "A `Concatenate` layer requires inputs with matching shapes except for the concatenation axis. Received: input_shape=[(None, 4776215, 1), (None, 4776215, 32)]",
     "output_type": "error",
     "traceback": [
      "\u001B[1;31m---------------------------------------------------------------------------\u001B[0m",
      "\u001B[1;31mValueError\u001B[0m                                Traceback (most recent call last)",
      "Cell \u001B[1;32mIn[388], line 14\u001B[0m\n\u001B[0;32m     12\u001B[0m y \u001B[38;5;241m=\u001B[39m Model(inputs\u001B[38;5;241m=\u001B[39minputB, outputs\u001B[38;5;241m=\u001B[39my)\n\u001B[0;32m     13\u001B[0m \u001B[38;5;66;03m# combine the output of the two branches\u001B[39;00m\n\u001B[1;32m---> 14\u001B[0m combined \u001B[38;5;241m=\u001B[39m \u001B[43mconcatenate\u001B[49m\u001B[43m(\u001B[49m\u001B[43m[\u001B[49m\u001B[43mx\u001B[49m\u001B[38;5;241;43m.\u001B[39;49m\u001B[43moutput\u001B[49m\u001B[43m,\u001B[49m\u001B[43m \u001B[49m\u001B[43my\u001B[49m\u001B[38;5;241;43m.\u001B[39;49m\u001B[43moutput\u001B[49m\u001B[43m]\u001B[49m\u001B[43m,\u001B[49m\u001B[43m \u001B[49m\u001B[43maxis\u001B[49m\u001B[38;5;241;43m=\u001B[39;49m\u001B[38;5;241;43m1\u001B[39;49m\u001B[43m)\u001B[49m\n\u001B[0;32m     15\u001B[0m \u001B[38;5;66;03m# apply a FC layer and then a regression p0rediction on the\u001B[39;00m\n\u001B[0;32m     16\u001B[0m \u001B[38;5;66;03m# combined outputs\u001B[39;00m\n\u001B[0;32m     17\u001B[0m z \u001B[38;5;241m=\u001B[39m Dense((inputA\u001B[38;5;241m.\u001B[39mshape[\u001B[38;5;241m1\u001B[39m]\u001B[38;5;241m+\u001B[39minputB\u001B[38;5;241m.\u001B[39mshape[\u001B[38;5;241m1\u001B[39m]), activation\u001B[38;5;241m=\u001B[39m\u001B[38;5;124m\"\u001B[39m\u001B[38;5;124mrelu\u001B[39m\u001B[38;5;124m\"\u001B[39m)(combined) \u001B[38;5;66;03m# 1 + 50 = 51\u001B[39;00m\n",
      "File \u001B[1;32m~\\OneDrive\\Dokumente\\GitHub\\BachelorThesis\\venv\\Lib\\site-packages\\keras\\layers\\merging\\concatenate.py:231\u001B[0m, in \u001B[0;36mconcatenate\u001B[1;34m(inputs, axis, **kwargs)\u001B[0m\n\u001B[0;32m    199\u001B[0m \u001B[38;5;129m@keras_export\u001B[39m(\u001B[38;5;124m\"\u001B[39m\u001B[38;5;124mkeras.layers.concatenate\u001B[39m\u001B[38;5;124m\"\u001B[39m)\n\u001B[0;32m    200\u001B[0m \u001B[38;5;28;01mdef\u001B[39;00m \u001B[38;5;21mconcatenate\u001B[39m(inputs, axis\u001B[38;5;241m=\u001B[39m\u001B[38;5;241m-\u001B[39m\u001B[38;5;241m1\u001B[39m, \u001B[38;5;241m*\u001B[39m\u001B[38;5;241m*\u001B[39mkwargs):\n\u001B[0;32m    201\u001B[0m \u001B[38;5;250m    \u001B[39m\u001B[38;5;124;03m\"\"\"Functional interface to the `Concatenate` layer.\u001B[39;00m\n\u001B[0;32m    202\u001B[0m \n\u001B[0;32m    203\u001B[0m \u001B[38;5;124;03m    >>> x = np.arange(20).reshape(2, 2, 5)\u001B[39;00m\n\u001B[1;32m   (...)\u001B[0m\n\u001B[0;32m    229\u001B[0m \u001B[38;5;124;03m        A tensor, the concatenation of the inputs alongside axis `axis`.\u001B[39;00m\n\u001B[0;32m    230\u001B[0m \u001B[38;5;124;03m    \"\"\"\u001B[39;00m\n\u001B[1;32m--> 231\u001B[0m     \u001B[38;5;28;01mreturn\u001B[39;00m \u001B[43mConcatenate\u001B[49m\u001B[43m(\u001B[49m\u001B[43maxis\u001B[49m\u001B[38;5;241;43m=\u001B[39;49m\u001B[43maxis\u001B[49m\u001B[43m,\u001B[49m\u001B[43m \u001B[49m\u001B[38;5;241;43m*\u001B[39;49m\u001B[38;5;241;43m*\u001B[39;49m\u001B[43mkwargs\u001B[49m\u001B[43m)\u001B[49m\u001B[43m(\u001B[49m\u001B[43minputs\u001B[49m\u001B[43m)\u001B[49m\n",
      "File \u001B[1;32m~\\OneDrive\\Dokumente\\GitHub\\BachelorThesis\\venv\\Lib\\site-packages\\keras\\utils\\traceback_utils.py:70\u001B[0m, in \u001B[0;36mfilter_traceback.<locals>.error_handler\u001B[1;34m(*args, **kwargs)\u001B[0m\n\u001B[0;32m     67\u001B[0m     filtered_tb \u001B[38;5;241m=\u001B[39m _process_traceback_frames(e\u001B[38;5;241m.\u001B[39m__traceback__)\n\u001B[0;32m     68\u001B[0m     \u001B[38;5;66;03m# To get the full stack trace, call:\u001B[39;00m\n\u001B[0;32m     69\u001B[0m     \u001B[38;5;66;03m# `tf.debugging.disable_traceback_filtering()`\u001B[39;00m\n\u001B[1;32m---> 70\u001B[0m     \u001B[38;5;28;01mraise\u001B[39;00m e\u001B[38;5;241m.\u001B[39mwith_traceback(filtered_tb) \u001B[38;5;28;01mfrom\u001B[39;00m \u001B[38;5;28mNone\u001B[39m\n\u001B[0;32m     71\u001B[0m \u001B[38;5;28;01mfinally\u001B[39;00m:\n\u001B[0;32m     72\u001B[0m     \u001B[38;5;28;01mdel\u001B[39;00m filtered_tb\n",
      "File \u001B[1;32m~\\OneDrive\\Dokumente\\GitHub\\BachelorThesis\\venv\\Lib\\site-packages\\keras\\layers\\merging\\concatenate.py:131\u001B[0m, in \u001B[0;36mConcatenate.build\u001B[1;34m(self, input_shape)\u001B[0m\n\u001B[0;32m    125\u001B[0m unique_dims \u001B[38;5;241m=\u001B[39m \u001B[38;5;28mset\u001B[39m(\n\u001B[0;32m    126\u001B[0m     shape[axis]\n\u001B[0;32m    127\u001B[0m     \u001B[38;5;28;01mfor\u001B[39;00m shape \u001B[38;5;129;01min\u001B[39;00m shape_set\n\u001B[0;32m    128\u001B[0m     \u001B[38;5;28;01mif\u001B[39;00m shape[axis] \u001B[38;5;129;01mis\u001B[39;00m \u001B[38;5;129;01mnot\u001B[39;00m \u001B[38;5;28;01mNone\u001B[39;00m\n\u001B[0;32m    129\u001B[0m )\n\u001B[0;32m    130\u001B[0m \u001B[38;5;28;01mif\u001B[39;00m \u001B[38;5;28mlen\u001B[39m(unique_dims) \u001B[38;5;241m>\u001B[39m \u001B[38;5;241m1\u001B[39m:\n\u001B[1;32m--> 131\u001B[0m     \u001B[38;5;28;01mraise\u001B[39;00m \u001B[38;5;167;01mValueError\u001B[39;00m(err_msg)\n",
      "\u001B[1;31mValueError\u001B[0m: A `Concatenate` layer requires inputs with matching shapes except for the concatenation axis. Received: input_shape=[(None, 4776215, 1), (None, 4776215, 32)]"
     ]
    }
   ],
   "source": [
    "from keras import Sequential, Model\n",
    "from keras.layers import Embedding, Flatten, Dense, Conv1D, MaxPooling1D, Input, concatenate, Rescaling\n",
    "# define two sets of inputs\n",
    "inputA = Input(shape=(train_ds_a.shape[0],1)) # TODO only 1 column for intensities\n",
    "inputB = Input(shape=train_ds_b.shape)\n",
    "# the first branch operates on the first input\n",
    "x = Model(inputs=inputA, outputs=inputA)\n",
    "# the second branch operates on the second input\n",
    "#y = Rescaling(scale=1./2000)(inputB) # for dictionary of 2000 words (X = 0, aa 1-20 in 100 steps)\n",
    "y = Conv1D(filters=32, kernel_size=3, strides=1, activation=\"relu\", padding='same')(inputB)\n",
    "#y = MaxPooling1D(pool_size=3)(y)0\n",
    "y = Model(inputs=inputB, outputs=y)\n",
    "# combine the output of the two branches\n",
    "combined = concatenate([x.output, y.output], axis=1)\n",
    "# apply a FC layer and then a regression p0rediction on the\n",
    "# combined outputs\n",
    "z = Dense((inputA.shape[1]+inputB.shape[1]), activation=\"relu\")(combined) # 1 + 50 = 51\n",
    "z = Dense(num_classes, activation=\"linear\")(z)\n",
    "# our model will accept the inputs of the two branches and\n",
    "# then output a single value\n",
    "model = Model(inputs=[x.input, y.input], outputs=z)"
   ],
   "metadata": {
    "collapsed": false,
    "ExecuteTime": {
     "end_time": "2023-07-28T11:30:56.901210800Z",
     "start_time": "2023-07-28T11:30:56.819927200Z"
    }
   }
  },
  {
   "cell_type": "code",
   "execution_count": 363,
   "outputs": [
    {
     "name": "stdout",
     "output_type": "stream",
     "text": [
      "Model: \"model_110\"\n",
      "__________________________________________________________________________________________________\n",
      " Layer (type)                   Output Shape         Param #     Connected to                     \n",
      "==================================================================================================\n",
      " input_140 (InputLayer)         [(None, 4776215, 1)  0           []                               \n",
      "                                ]                                                                 \n",
      "                                                                                                  \n",
      " input_139 (InputLayer)         [(None, 4776215, 1)  0           []                               \n",
      "                                ]                                                                 \n",
      "                                                                                                  \n",
      " conv1d_62 (Conv1D)             (None, 4776215, 32)  128         ['input_140[0][0]']              \n",
      "                                                                                                  \n",
      " concatenate_29 (Concatenate)   (None, 4776215, 33)  0           ['input_139[0][0]',              \n",
      "                                                                  'conv1d_62[0][0]']              \n",
      "                                                                                                  \n",
      " dense_17 (Dense)               (None, 4776215, 955  324782620   ['concatenate_29[0][0]']         \n",
      "                                2430)                                                             \n",
      "                                                                                                  \n",
      " dense_18 (Dense)               (None, 4776215, 3)   28657293    ['dense_17[0][0]']               \n",
      "                                                                                                  \n",
      "==================================================================================================\n",
      "Total params: 353,440,041\n",
      "Trainable params: 353,440,041\n",
      "Non-trainable params: 0\n",
      "__________________________________________________________________________________________________\n"
     ]
    }
   ],
   "source": [
    "model.summary()"
   ],
   "metadata": {
    "collapsed": false,
    "ExecuteTime": {
     "end_time": "2023-07-28T11:25:58.201142800Z",
     "start_time": "2023-07-28T11:25:58.146896100Z"
    }
   }
  },
  {
   "cell_type": "code",
   "execution_count": 364,
   "outputs": [
    {
     "data": {
      "image/png": "[encoded data removed]",
      "text/plain": "<IPython.core.display.Image object>"
     },
     "execution_count": 364,
     "metadata": {},
     "output_type": "execute_result"
    }
   ],
   "source": [
    "# plot model\n",
    "tf.keras.utils.plot_model(model, show_shapes=True, show_layer_names=True)"
   ],
   "metadata": {
    "collapsed": false,
    "ExecuteTime": {
     "end_time": "2023-07-28T11:26:01.455536900Z",
     "start_time": "2023-07-28T11:26:01.228122500Z"
    }
   }
  },
  {
   "cell_type": "code",
   "execution_count": 389,
   "outputs": [],
   "source": [
    "# Compile the model\n",
    "model.compile(loss=tf.keras.losses.CategoricalCrossentropy(), optimizer=keras.optimizers.Adam(learning_rate=0.0001), metrics=['accuracy'])"
   ],
   "metadata": {
    "collapsed": false,
    "ExecuteTime": {
     "end_time": "2023-07-28T11:31:01.806642900Z",
     "start_time": "2023-07-28T11:31:01.771462400Z"
    }
   }
  },
  {
   "cell_type": "code",
   "execution_count": 390,
   "outputs": [],
   "source": [
    "checkpoint_callback = ModelCheckpoint('precursor_charge_prediction_model_v1/cce_wo7_allSequences.h5', monitor='val_accuracy', save_best_only=True, mode='max')\n",
    "\n",
    "# Define early stopping\n",
    "early_stopping = tf.keras.callbacks.EarlyStopping(monitor='val_loss', patience=3)"
   ],
   "metadata": {
    "collapsed": false,
    "ExecuteTime": {
     "end_time": "2023-07-28T11:31:03.031603300Z",
     "start_time": "2023-07-28T11:31:02.999911400Z"
    }
   }
  },
  {
   "cell_type": "code",
   "execution_count": 391,
   "outputs": [
    {
     "ename": "ValueError",
     "evalue": "Failed to convert a NumPy array to a Tensor (Unsupported object type list).",
     "output_type": "error",
     "traceback": [
      "\u001B[1;31m---------------------------------------------------------------------------\u001B[0m",
      "\u001B[1;31mValueError\u001B[0m                                Traceback (most recent call last)",
      "Cell \u001B[1;32mIn[391], line 3\u001B[0m\n\u001B[0;32m      1\u001B[0m \u001B[38;5;66;03m# Train the model\u001B[39;00m\n\u001B[0;32m      2\u001B[0m \u001B[38;5;66;03m# X_train, X_test, y_train, y_test\u001B[39;00m\n\u001B[1;32m----> 3\u001B[0m history \u001B[38;5;241m=\u001B[39m \u001B[43mmodel\u001B[49m\u001B[38;5;241;43m.\u001B[39;49m\u001B[43mfit\u001B[49m\u001B[43m(\u001B[49m\u001B[43m[\u001B[49m\u001B[43mtrain_ds_a\u001B[49m\u001B[43m,\u001B[49m\u001B[43m \u001B[49m\u001B[43mtrain_ds_b\u001B[49m\u001B[43m]\u001B[49m\u001B[43m,\u001B[49m\u001B[43m \u001B[49m\u001B[43mtrain_ds_labels\u001B[49m\u001B[43m,\u001B[49m\u001B[43m \u001B[49m\u001B[43mepochs\u001B[49m\u001B[38;5;241;43m=\u001B[39;49m\u001B[38;5;241;43m30\u001B[39;49m\u001B[43m,\u001B[49m\u001B[43m \u001B[49m\u001B[43mbatch_size\u001B[49m\u001B[38;5;241;43m=\u001B[39;49m\u001B[38;5;241;43m256\u001B[39;49m\u001B[43m,\u001B[49m\u001B[43m \u001B[49m\u001B[43mvalidation_data\u001B[49m\u001B[38;5;241;43m=\u001B[39;49m\u001B[43m(\u001B[49m\u001B[43m[\u001B[49m\u001B[43mval_ds_a\u001B[49m\u001B[43m,\u001B[49m\u001B[43m \u001B[49m\u001B[43mval_ds_b\u001B[49m\u001B[43m]\u001B[49m\u001B[43m,\u001B[49m\u001B[43m \u001B[49m\u001B[43mval_ds_labels\u001B[49m\u001B[43m)\u001B[49m\u001B[43m,\u001B[49m\u001B[43m \u001B[49m\u001B[43mcallbacks\u001B[49m\u001B[38;5;241;43m=\u001B[39;49m\u001B[43m[\u001B[49m\u001B[43mWandbCallback\u001B[49m\u001B[43m(\u001B[49m\u001B[43m)\u001B[49m\u001B[43m]\u001B[49m\u001B[43m)\u001B[49m\n",
      "File \u001B[1;32m~\\OneDrive\\Dokumente\\GitHub\\BachelorThesis\\venv\\Lib\\site-packages\\wandb\\integration\\keras\\keras.py:174\u001B[0m, in \u001B[0;36mpatch_tf_keras.<locals>.new_v2\u001B[1;34m(*args, **kwargs)\u001B[0m\n\u001B[0;32m    172\u001B[0m     \u001B[38;5;28;01mfor\u001B[39;00m cbk \u001B[38;5;129;01min\u001B[39;00m cbks:\n\u001B[0;32m    173\u001B[0m         set_wandb_attrs(cbk, val_data)\n\u001B[1;32m--> 174\u001B[0m \u001B[38;5;28;01mreturn\u001B[39;00m \u001B[43mold_v2\u001B[49m\u001B[43m(\u001B[49m\u001B[38;5;241;43m*\u001B[39;49m\u001B[43margs\u001B[49m\u001B[43m,\u001B[49m\u001B[43m \u001B[49m\u001B[38;5;241;43m*\u001B[39;49m\u001B[38;5;241;43m*\u001B[39;49m\u001B[43mkwargs\u001B[49m\u001B[43m)\u001B[49m\n",
      "File \u001B[1;32m~\\OneDrive\\Dokumente\\GitHub\\BachelorThesis\\venv\\Lib\\site-packages\\wandb\\integration\\keras\\keras.py:174\u001B[0m, in \u001B[0;36mpatch_tf_keras.<locals>.new_v2\u001B[1;34m(*args, **kwargs)\u001B[0m\n\u001B[0;32m    172\u001B[0m     \u001B[38;5;28;01mfor\u001B[39;00m cbk \u001B[38;5;129;01min\u001B[39;00m cbks:\n\u001B[0;32m    173\u001B[0m         set_wandb_attrs(cbk, val_data)\n\u001B[1;32m--> 174\u001B[0m \u001B[38;5;28;01mreturn\u001B[39;00m \u001B[43mold_v2\u001B[49m\u001B[43m(\u001B[49m\u001B[38;5;241;43m*\u001B[39;49m\u001B[43margs\u001B[49m\u001B[43m,\u001B[49m\u001B[43m \u001B[49m\u001B[38;5;241;43m*\u001B[39;49m\u001B[38;5;241;43m*\u001B[39;49m\u001B[43mkwargs\u001B[49m\u001B[43m)\u001B[49m\n",
      "File \u001B[1;32m~\\OneDrive\\Dokumente\\GitHub\\BachelorThesis\\venv\\Lib\\site-packages\\wandb\\integration\\keras\\keras.py:174\u001B[0m, in \u001B[0;36mpatch_tf_keras.<locals>.new_v2\u001B[1;34m(*args, **kwargs)\u001B[0m\n\u001B[0;32m    172\u001B[0m     \u001B[38;5;28;01mfor\u001B[39;00m cbk \u001B[38;5;129;01min\u001B[39;00m cbks:\n\u001B[0;32m    173\u001B[0m         set_wandb_attrs(cbk, val_data)\n\u001B[1;32m--> 174\u001B[0m \u001B[38;5;28;01mreturn\u001B[39;00m \u001B[43mold_v2\u001B[49m\u001B[43m(\u001B[49m\u001B[38;5;241;43m*\u001B[39;49m\u001B[43margs\u001B[49m\u001B[43m,\u001B[49m\u001B[43m \u001B[49m\u001B[38;5;241;43m*\u001B[39;49m\u001B[38;5;241;43m*\u001B[39;49m\u001B[43mkwargs\u001B[49m\u001B[43m)\u001B[49m\n",
      "File \u001B[1;32m~\\OneDrive\\Dokumente\\GitHub\\BachelorThesis\\venv\\Lib\\site-packages\\keras\\utils\\traceback_utils.py:70\u001B[0m, in \u001B[0;36mfilter_traceback.<locals>.error_handler\u001B[1;34m(*args, **kwargs)\u001B[0m\n\u001B[0;32m     67\u001B[0m     filtered_tb \u001B[38;5;241m=\u001B[39m _process_traceback_frames(e\u001B[38;5;241m.\u001B[39m__traceback__)\n\u001B[0;32m     68\u001B[0m     \u001B[38;5;66;03m# To get the full stack trace, call:\u001B[39;00m\n\u001B[0;32m     69\u001B[0m     \u001B[38;5;66;03m# `tf.debugging.disable_traceback_filtering()`\u001B[39;00m\n\u001B[1;32m---> 70\u001B[0m     \u001B[38;5;28;01mraise\u001B[39;00m e\u001B[38;5;241m.\u001B[39mwith_traceback(filtered_tb) \u001B[38;5;28;01mfrom\u001B[39;00m \u001B[38;5;28mNone\u001B[39m\n\u001B[0;32m     71\u001B[0m \u001B[38;5;28;01mfinally\u001B[39;00m:\n\u001B[0;32m     72\u001B[0m     \u001B[38;5;28;01mdel\u001B[39;00m filtered_tb\n",
      "File \u001B[1;32m~\\OneDrive\\Dokumente\\GitHub\\BachelorThesis\\venv\\Lib\\site-packages\\tensorflow\\python\\framework\\constant_op.py:103\u001B[0m, in \u001B[0;36mconvert_to_eager_tensor\u001B[1;34m(value, ctx, dtype)\u001B[0m\n\u001B[0;32m    101\u001B[0m     dtype \u001B[38;5;241m=\u001B[39m dtypes\u001B[38;5;241m.\u001B[39mas_dtype(dtype)\u001B[38;5;241m.\u001B[39mas_datatype_enum\n\u001B[0;32m    102\u001B[0m ctx\u001B[38;5;241m.\u001B[39mensure_initialized()\n\u001B[1;32m--> 103\u001B[0m \u001B[38;5;28;01mreturn\u001B[39;00m \u001B[43mops\u001B[49m\u001B[38;5;241;43m.\u001B[39;49m\u001B[43mEagerTensor\u001B[49m\u001B[43m(\u001B[49m\u001B[43mvalue\u001B[49m\u001B[43m,\u001B[49m\u001B[43m \u001B[49m\u001B[43mctx\u001B[49m\u001B[38;5;241;43m.\u001B[39;49m\u001B[43mdevice_name\u001B[49m\u001B[43m,\u001B[49m\u001B[43m \u001B[49m\u001B[43mdtype\u001B[49m\u001B[43m)\u001B[49m\n",
      "\u001B[1;31mValueError\u001B[0m: Failed to convert a NumPy array to a Tensor (Unsupported object type list)."
     ]
    }
   ],
   "source": [
    "# Train the model\n",
    "# X_train, X_test, y_train, y_test\n",
    "history = model.fit([train_ds_a, train_ds_b], train_ds_labels, epochs=30, batch_size=256, validation_data=([val_ds_a, val_ds_b], val_ds_labels), callbacks=[WandbCallback()])"
   ],
   "metadata": {
    "collapsed": false,
    "ExecuteTime": {
     "end_time": "2023-07-28T11:31:04.571948400Z",
     "start_time": "2023-07-28T11:31:04.432624600Z"
    }
   }
  },
  {
   "cell_type": "code",
   "execution_count": null,
   "outputs": [],
   "source": [
    "model_cce.summary()"
   ],
   "metadata": {
    "collapsed": false,
    "ExecuteTime": {
     "start_time": "2023-07-28T11:11:23.132445900Z"
    }
   }
  },
  {
   "cell_type": "code",
   "execution_count": null,
   "outputs": [],
   "source": [
    "# Access the loss, validation loss, and accuracy from the history object\n",
    "loss = history_cce.history['loss']\n",
    "val_loss = history_cce.history['val_loss']\n",
    "accuracy = history_cce.history['accuracy']\n",
    "val_accuracy = history_cce.history['val_accuracy']\n",
    "\n",
    "# Plot the loss, validation loss, and accuracy curves\n",
    "epochs = range(1, len(loss) + 1)\n",
    "\n",
    "# Create subplots\n",
    "fig2, (ax1, ax2) = plt.subplots(1, 2, figsize=(12, 6))\n",
    "\n",
    "# Plot loss and validation loss\n",
    "ax1.plot(epochs, loss, 'b', label='Training Loss')\n",
    "ax1.plot(epochs, val_loss, 'r', label='Validation Loss')\n",
    "ax1.set_title('Training and Validation Loss')\n",
    "ax1.set_xlabel('Epochs')\n",
    "ax1.set_ylabel('Loss')\n",
    "ax1.legend()\n",
    "\n",
    "# Plot accuracy and validation accuracy\n",
    "ax2.plot(epochs, accuracy, 'b', label='Training Accuracy')\n",
    "ax2.plot(epochs, val_accuracy, 'r', label='Validation Accuracy')\n",
    "ax2.set_title('Training and Validation Accuracy')\n",
    "ax2.set_xlabel('Epochs')\n",
    "ax2.set_ylabel('Accuracy')\n",
    "ax2.legend()\n",
    "\n",
    "# Adjust spacing between subplots\n",
    "plt.tight_layout()\n",
    "\n",
    "# Show the plots\n",
    "plt.show()"
   ],
   "metadata": {
    "collapsed": false,
    "ExecuteTime": {
     "start_time": "2023-07-28T11:11:23.133445700Z"
    }
   }
  },
  {
   "cell_type": "code",
   "execution_count": null,
   "outputs": [],
   "source": [
    "model_cce.save('precursor_charge_prediction_model_cce_alpha/cce_wo7_allSequences.h5')"
   ],
   "metadata": {
    "collapsed": false,
    "ExecuteTime": {
     "start_time": "2023-07-28T11:11:23.134445900Z"
    }
   }
  },
  {
   "cell_type": "markdown",
   "source": [
    "## Check in with Franzi's group for reporting"
   ],
   "metadata": {
    "collapsed": false
   },
   "outputs": [],
   "execution_count": 63
  },
  {
   "cell_type": "markdown",
   "source": [
    "### Multilable Model\n",
    "#### WIP in precursor_charge_predictor"
   ],
   "metadata": {
    "collapsed": false,
    "ExecuteTime": {
     "end_time": "2023-07-24T12:27:56.122188900Z",
     "start_time": "2023-07-24T12:27:55.994945600Z"
    }
   },
   "outputs": [],
   "execution_count": 3
  },
  {
   "cell_type": "code",
   "execution_count": null,
   "outputs": [],
   "source": [],
   "metadata": {
    "collapsed": false,
    "ExecuteTime": {
     "start_time": "2023-07-28T11:11:23.135445400Z"
    }
   }
  },
  {
   "cell_type": "markdown",
   "source": [
    "## Model Testing\n",
    "### check if models only predict charge 2 or also other charges. Due to 'overrepresentation' the best bet for the model could be to only output charge state 2"
   ],
   "metadata": {
    "collapsed": false,
    "ExecuteTime": {
     "end_time": "2023-07-24T12:28:17.283401900Z",
     "start_time": "2023-07-24T12:28:17.212145Z"
    }
   },
   "outputs": [
    {
     "ename": "TypeError",
     "evalue": "'NoneType' object is not subscriptable",
     "output_type": "error",
     "traceback": [
      "\u001B[1;31m---------------------------------------------------------------------------\u001B[0m",
      "\u001B[1;31mTypeError\u001B[0m                                 Traceback (most recent call last)",
      "Cell \u001B[1;32mIn[6], line 2\u001B[0m\n\u001B[0;32m      1\u001B[0m \u001B[38;5;66;03m# Access the loss, validation loss, and accuracy from the history object\u001B[39;00m\n\u001B[1;32m----> 2\u001B[0m loss \u001B[38;5;241m=\u001B[39m \u001B[43mhistory_cce\u001B[49m\u001B[38;5;241;43m.\u001B[39;49m\u001B[43mhistory\u001B[49m\u001B[43m[\u001B[49m\u001B[38;5;124;43m'\u001B[39;49m\u001B[38;5;124;43mloss\u001B[39;49m\u001B[38;5;124;43m'\u001B[39;49m\u001B[43m]\u001B[49m\n\u001B[0;32m      3\u001B[0m val_loss \u001B[38;5;241m=\u001B[39m history_cce\u001B[38;5;241m.\u001B[39mhistory[\u001B[38;5;124m'\u001B[39m\u001B[38;5;124mval_loss\u001B[39m\u001B[38;5;124m'\u001B[39m]\n\u001B[0;32m      4\u001B[0m accuracy \u001B[38;5;241m=\u001B[39m history_cce\u001B[38;5;241m.\u001B[39mhistory[\u001B[38;5;124m'\u001B[39m\u001B[38;5;124maccuracy\u001B[39m\u001B[38;5;124m'\u001B[39m]\n",
      "\u001B[1;31mTypeError\u001B[0m: 'NoneType' object is not subscriptable"
     ]
    }
   ],
   "execution_count": 6
  },
  {
   "cell_type": "code",
   "execution_count": null,
   "outputs": [],
   "source": [],
   "metadata": {
    "collapsed": false,
    "ExecuteTime": {
     "start_time": "2023-07-28T11:11:23.136444900Z"
    }
   }
  },
  {
   "cell_type": "markdown",
   "source": [
    "## Hyperparameter Tuning"
   ],
   "metadata": {
    "collapsed": false
   }
  },
  {
   "cell_type": "code",
   "execution_count": null,
   "outputs": [],
   "source": [],
   "metadata": {
    "collapsed": false,
    "ExecuteTime": {
     "start_time": "2023-07-28T11:11:23.137445100Z"
    }
   }
  },
  {
   "cell_type": "markdown",
   "source": [],
   "metadata": {
    "collapsed": false
   }
  },
  {
   "cell_type": "code",
   "execution_count": null,
   "outputs": [],
   "source": [],
   "metadata": {
    "collapsed": false,
    "ExecuteTime": {
     "start_time": "2023-07-28T11:11:23.137951300Z"
    }
   }
  },
  {
   "cell_type": "markdown",
   "source": [
    "# Inference"
   ],
   "metadata": {
    "collapsed": false
   }
  },
  {
   "cell_type": "code",
   "execution_count": 285,
   "outputs": [
    {
     "data": {
      "text/plain": "2    1401912\n3     787278\n4     220159\nName: precursor_charge, dtype: int64"
     },
     "execution_count": 285,
     "metadata": {},
     "output_type": "execute_result"
    }
   ],
   "source": [
    "batches_parquet[file_list[1]][\"precursor_charge\"].value_counts()"
   ],
   "metadata": {
    "collapsed": false,
    "ExecuteTime": {
     "end_time": "2023-07-28T11:11:24.358207500Z",
     "start_time": "2023-07-28T11:11:23.156493Z"
    }
   }
  },
  {
   "cell_type": "code",
   "execution_count": 286,
   "outputs": [],
   "source": [
    "last_model = keras.models.load_model('precursor_charge_prediction_model_cce_alpha/cce_wo7_allSequences.h5')"
   ],
   "metadata": {
    "collapsed": false,
    "ExecuteTime": {
     "end_time": "2023-07-28T11:11:24.530808400Z",
     "start_time": "2023-07-28T11:11:23.194770300Z"
    }
   }
  },
  {
   "cell_type": "code",
   "execution_count": 287,
   "outputs": [
    {
     "data": {
      "text/plain": "dict_keys(['data/Thermo_SRM_Pool_meta_data.parquet', 'data/TUM_aspn_meta_data.parquet'])"
     },
     "execution_count": 287,
     "metadata": {},
     "output_type": "execute_result"
    }
   ],
   "source": [
    "batches_parquet.keys()"
   ],
   "metadata": {
    "collapsed": false,
    "ExecuteTime": {
     "end_time": "2023-07-28T11:11:24.530808400Z",
     "start_time": "2023-07-28T11:11:23.321022600Z"
    }
   }
  },
  {
   "cell_type": "code",
   "execution_count": 288,
   "outputs": [],
   "source": [
    "# Make validation data\n",
    "inference_df = batches_parquet[file_list[1]][[\"precursor_charge\", \"modified_sequence_vector\", \"precursor_intensity\"]].copy()"
   ],
   "metadata": {
    "collapsed": false,
    "ExecuteTime": {
     "end_time": "2023-07-28T11:11:24.610632200Z",
     "start_time": "2023-07-28T11:11:23.325924800Z"
    }
   }
  },
  {
   "cell_type": "code",
   "execution_count": 289,
   "outputs": [
    {
     "data": {
      "text/plain": "   precursor_charge                           modified_sequence_vector  \\\n0                 2  [300, 1600, 1800, 600, 400, 800, 1700, 900, 40...   \n1                 2  [300, 1600, 1800, 600, 400, 800, 1700, 900, 40...   \n2                 2  [300, 1600, 1800, 600, 400, 800, 1700, 900, 40...   \n3                 2  [300, 1600, 1800, 600, 400, 800, 1700, 900, 40...   \n\n   precursor_intensity  \n0            7552496.0  \n1            7674974.0  \n2            3298128.0  \n3            1224600.0  ",
      "text/html": "<div>\n<style scoped>\n    .dataframe tbody tr th:only-of-type {\n        vertical-align: middle;\n    }\n\n    .dataframe tbody tr th {\n        vertical-align: top;\n    }\n\n    .dataframe thead th {\n        text-align: right;\n    }\n</style>\n<table border=\"1\" class=\"dataframe\">\n  <thead>\n    <tr style=\"text-align: right;\">\n      <th></th>\n      <th>precursor_charge</th>\n      <th>modified_sequence_vector</th>\n      <th>precursor_intensity</th>\n    </tr>\n  </thead>\n  <tbody>\n    <tr>\n      <th>0</th>\n      <td>2</td>\n      <td>[300, 1600, 1800, 600, 400, 800, 1700, 900, 40...</td>\n      <td>7552496.0</td>\n    </tr>\n    <tr>\n      <th>1</th>\n      <td>2</td>\n      <td>[300, 1600, 1800, 600, 400, 800, 1700, 900, 40...</td>\n      <td>7674974.0</td>\n    </tr>\n    <tr>\n      <th>2</th>\n      <td>2</td>\n      <td>[300, 1600, 1800, 600, 400, 800, 1700, 900, 40...</td>\n      <td>3298128.0</td>\n    </tr>\n    <tr>\n      <th>3</th>\n      <td>2</td>\n      <td>[300, 1600, 1800, 600, 400, 800, 1700, 900, 40...</td>\n      <td>1224600.0</td>\n    </tr>\n  </tbody>\n</table>\n</div>"
     },
     "execution_count": 289,
     "metadata": {},
     "output_type": "execute_result"
    }
   ],
   "source": [
    "inference_df.head(4)"
   ],
   "metadata": {
    "collapsed": false,
    "ExecuteTime": {
     "end_time": "2023-07-28T11:11:24.610632200Z",
     "start_time": "2023-07-28T11:11:23.484310Z"
    }
   }
  },
  {
   "cell_type": "code",
   "execution_count": 290,
   "outputs": [
    {
     "data": {
      "text/plain": "[]"
     },
     "execution_count": 290,
     "metadata": {},
     "output_type": "execute_result"
    }
   ],
   "source": [
    "[len(i) for i in inference_df[\"modified_sequence_vector\"] if len(i) != 50]"
   ],
   "metadata": {
    "collapsed": false,
    "ExecuteTime": {
     "end_time": "2023-07-28T11:11:24.628463100Z",
     "start_time": "2023-07-28T11:11:23.493961600Z"
    }
   }
  },
  {
   "cell_type": "code",
   "execution_count": 291,
   "outputs": [],
   "source": [
    "inference_df = inference_df[inference_df['modified_sequence_vector'].apply(lambda x: len(x) <= 50)]"
   ],
   "metadata": {
    "collapsed": false,
    "ExecuteTime": {
     "end_time": "2023-07-28T11:11:24.872379Z",
     "start_time": "2023-07-28T11:11:23.802639100Z"
    }
   }
  },
  {
   "cell_type": "markdown",
   "source": [],
   "metadata": {
    "collapsed": false
   }
  },
  {
   "cell_type": "code",
   "execution_count": 292,
   "outputs": [
    {
     "data": {
      "text/plain": "[]"
     },
     "execution_count": 292,
     "metadata": {},
     "output_type": "execute_result"
    }
   ],
   "source": [
    "[len(i) for i in inference_df[\"modified_sequence_vector\"] if len(i) != 50]"
   ],
   "metadata": {
    "collapsed": false
   }
  },
  {
   "cell_type": "code",
   "execution_count": 293,
   "outputs": [
    {
     "data": {
      "text/plain": "[]"
     },
     "execution_count": 293,
     "metadata": {},
     "output_type": "execute_result"
    }
   ],
   "source": [
    "[i for i in inference_df[\"precursor_charge\"] if i not in [2,3,4]]"
   ],
   "metadata": {
    "collapsed": false
   }
  },
  {
   "cell_type": "code",
   "execution_count": 294,
   "outputs": [
    {
     "data": {
      "text/plain": "[]"
     },
     "execution_count": 294,
     "metadata": {},
     "output_type": "execute_result"
    }
   ],
   "source": [
    "[i for i in inference_df[\"precursor_intensity\"] if i > 1000000000000]"
   ],
   "metadata": {
    "collapsed": false
   }
  },
  {
   "cell_type": "code",
   "execution_count": 295,
   "outputs": [
    {
     "data": {
      "text/plain": "         precursor_charge                           modified_sequence_vector  \\\n0                       2  [300, 1600, 1800, 600, 400, 800, 1700, 900, 40...   \n1                       2  [300, 1600, 1800, 600, 400, 800, 1700, 900, 40...   \n2                       2  [300, 1600, 1800, 600, 400, 800, 1700, 900, 40...   \n3                       2  [300, 1600, 1800, 600, 400, 800, 1700, 900, 40...   \n4                       2  [300, 1600, 1800, 600, 400, 800, 1700, 900, 40...   \n...                   ...                                                ...   \n2586142                 3  [300, 1800, 1000, 1600, 1200, 204, 400, 500, 1...   \n2586148                 3  [300, 800, 1500, 800, 900, 400, 400, 400, 1300...   \n2586154                 4  [300, 400, 1400, 1800, 100, 1000, 900, 900, 90...   \n2586155                 3  [300, 1300, 300, 1300, 1400, 1300, 1500, 2000,...   \n2586165                 3  [300, 900, 900, 600, 1600, 900, 1200, 500, 170...   \n\n         precursor_intensity  \n0                  7552496.0  \n1                  7674974.0  \n2                  3298128.0  \n3                  1224600.0  \n4                  3298128.0  \n...                      ...  \n2586142           10454540.0  \n2586148            5171662.0  \n2586154           37526080.0  \n2586155            8926203.0  \n2586165             199662.0  \n\n[2409349 rows x 3 columns]",
      "text/html": "<div>\n<style scoped>\n    .dataframe tbody tr th:only-of-type {\n        vertical-align: middle;\n    }\n\n    .dataframe tbody tr th {\n        vertical-align: top;\n    }\n\n    .dataframe thead th {\n        text-align: right;\n    }\n</style>\n<table border=\"1\" class=\"dataframe\">\n  <thead>\n    <tr style=\"text-align: right;\">\n      <th></th>\n      <th>precursor_charge</th>\n      <th>modified_sequence_vector</th>\n      <th>precursor_intensity</th>\n    </tr>\n  </thead>\n  <tbody>\n    <tr>\n      <th>0</th>\n      <td>2</td>\n      <td>[300, 1600, 1800, 600, 400, 800, 1700, 900, 40...</td>\n      <td>7552496.0</td>\n    </tr>\n    <tr>\n      <th>1</th>\n      <td>2</td>\n      <td>[300, 1600, 1800, 600, 400, 800, 1700, 900, 40...</td>\n      <td>7674974.0</td>\n    </tr>\n    <tr>\n      <th>2</th>\n      <td>2</td>\n      <td>[300, 1600, 1800, 600, 400, 800, 1700, 900, 40...</td>\n      <td>3298128.0</td>\n    </tr>\n    <tr>\n      <th>3</th>\n      <td>2</td>\n      <td>[300, 1600, 1800, 600, 400, 800, 1700, 900, 40...</td>\n      <td>1224600.0</td>\n    </tr>\n    <tr>\n      <th>4</th>\n      <td>2</td>\n      <td>[300, 1600, 1800, 600, 400, 800, 1700, 900, 40...</td>\n      <td>3298128.0</td>\n    </tr>\n    <tr>\n      <th>...</th>\n      <td>...</td>\n      <td>...</td>\n      <td>...</td>\n    </tr>\n    <tr>\n      <th>2586142</th>\n      <td>3</td>\n      <td>[300, 1800, 1000, 1600, 1200, 204, 400, 500, 1...</td>\n      <td>10454540.0</td>\n    </tr>\n    <tr>\n      <th>2586148</th>\n      <td>3</td>\n      <td>[300, 800, 1500, 800, 900, 400, 400, 400, 1300...</td>\n      <td>5171662.0</td>\n    </tr>\n    <tr>\n      <th>2586154</th>\n      <td>4</td>\n      <td>[300, 400, 1400, 1800, 100, 1000, 900, 900, 90...</td>\n      <td>37526080.0</td>\n    </tr>\n    <tr>\n      <th>2586155</th>\n      <td>3</td>\n      <td>[300, 1300, 300, 1300, 1400, 1300, 1500, 2000,...</td>\n      <td>8926203.0</td>\n    </tr>\n    <tr>\n      <th>2586165</th>\n      <td>3</td>\n      <td>[300, 900, 900, 600, 1600, 900, 1200, 500, 170...</td>\n      <td>199662.0</td>\n    </tr>\n  </tbody>\n</table>\n<p>2409349 rows × 3 columns</p>\n</div>"
     },
     "execution_count": 295,
     "metadata": {},
     "output_type": "execute_result"
    }
   ],
   "source": [
    "inference_df"
   ],
   "metadata": {
    "collapsed": false
   }
  },
  {
   "cell_type": "markdown",
   "source": [],
   "metadata": {
    "collapsed": false
   }
  },
  {
   "cell_type": "code",
   "execution_count": 296,
   "outputs": [
    {
     "ename": "KeyboardInterrupt",
     "evalue": "",
     "output_type": "error",
     "traceback": [
      "\u001B[1;31m---------------------------------------------------------------------------\u001B[0m",
      "\u001B[1;31mKeyboardInterrupt\u001B[0m                         Traceback (most recent call last)",
      "Cell \u001B[1;32mIn[296], line 1\u001B[0m\n\u001B[1;32m----> 1\u001B[0m inference_df[\u001B[38;5;28mlist\u001B[39m(\u001B[38;5;28mrange\u001B[39m(\u001B[38;5;241m0\u001B[39m, \u001B[38;5;241m50\u001B[39m))] \u001B[38;5;241m=\u001B[39m \u001B[43mpd\u001B[49m\u001B[38;5;241;43m.\u001B[39;49m\u001B[43mDataFrame\u001B[49m\u001B[43m(\u001B[49m\u001B[43minference_df\u001B[49m\u001B[43m[\u001B[49m\u001B[38;5;124;43m\"\u001B[39;49m\u001B[38;5;124;43mmodified_sequence_vector\u001B[39;49m\u001B[38;5;124;43m\"\u001B[39;49m\u001B[43m]\u001B[49m\u001B[38;5;241;43m.\u001B[39;49m\u001B[43mtolist\u001B[49m\u001B[43m(\u001B[49m\u001B[43m)\u001B[49m\u001B[43m,\u001B[49m\u001B[43m \u001B[49m\u001B[43mindex\u001B[49m\u001B[38;5;241;43m=\u001B[39;49m\u001B[43m \u001B[49m\u001B[43minference_df\u001B[49m\u001B[38;5;241;43m.\u001B[39;49m\u001B[43mindex\u001B[49m\u001B[43m)\u001B[49m\n",
      "File \u001B[1;32m~\\OneDrive\\Dokumente\\GitHub\\BachelorThesis\\venv\\Lib\\site-packages\\pandas\\core\\frame.py:746\u001B[0m, in \u001B[0;36mDataFrame.__init__\u001B[1;34m(self, data, index, columns, dtype, copy)\u001B[0m\n\u001B[0;32m    744\u001B[0m     \u001B[38;5;28;01mif\u001B[39;00m columns \u001B[38;5;129;01mis\u001B[39;00m \u001B[38;5;129;01mnot\u001B[39;00m \u001B[38;5;28;01mNone\u001B[39;00m:\n\u001B[0;32m    745\u001B[0m         columns \u001B[38;5;241m=\u001B[39m ensure_index(columns)\n\u001B[1;32m--> 746\u001B[0m     arrays, columns, index \u001B[38;5;241m=\u001B[39m \u001B[43mnested_data_to_arrays\u001B[49m\u001B[43m(\u001B[49m\n\u001B[0;32m    747\u001B[0m \u001B[43m        \u001B[49m\u001B[38;5;66;43;03m# error: Argument 3 to \"nested_data_to_arrays\" has incompatible\u001B[39;49;00m\n\u001B[0;32m    748\u001B[0m \u001B[43m        \u001B[49m\u001B[38;5;66;43;03m# type \"Optional[Collection[Any]]\"; expected \"Optional[Index]\"\u001B[39;49;00m\n\u001B[0;32m    749\u001B[0m \u001B[43m        \u001B[49m\u001B[43mdata\u001B[49m\u001B[43m,\u001B[49m\n\u001B[0;32m    750\u001B[0m \u001B[43m        \u001B[49m\u001B[43mcolumns\u001B[49m\u001B[43m,\u001B[49m\n\u001B[0;32m    751\u001B[0m \u001B[43m        \u001B[49m\u001B[43mindex\u001B[49m\u001B[43m,\u001B[49m\u001B[43m  \u001B[49m\u001B[38;5;66;43;03m# type: ignore[arg-type]\u001B[39;49;00m\n\u001B[0;32m    752\u001B[0m \u001B[43m        \u001B[49m\u001B[43mdtype\u001B[49m\u001B[43m,\u001B[49m\n\u001B[0;32m    753\u001B[0m \u001B[43m    \u001B[49m\u001B[43m)\u001B[49m\n\u001B[0;32m    754\u001B[0m     mgr \u001B[38;5;241m=\u001B[39m arrays_to_mgr(\n\u001B[0;32m    755\u001B[0m         arrays,\n\u001B[0;32m    756\u001B[0m         columns,\n\u001B[1;32m   (...)\u001B[0m\n\u001B[0;32m    759\u001B[0m         typ\u001B[38;5;241m=\u001B[39mmanager,\n\u001B[0;32m    760\u001B[0m     )\n\u001B[0;32m    761\u001B[0m \u001B[38;5;28;01melse\u001B[39;00m:\n",
      "File \u001B[1;32m~\\OneDrive\\Dokumente\\GitHub\\BachelorThesis\\venv\\Lib\\site-packages\\pandas\\core\\internals\\construction.py:510\u001B[0m, in \u001B[0;36mnested_data_to_arrays\u001B[1;34m(data, columns, index, dtype)\u001B[0m\n\u001B[0;32m    507\u001B[0m \u001B[38;5;28;01mif\u001B[39;00m is_named_tuple(data[\u001B[38;5;241m0\u001B[39m]) \u001B[38;5;129;01mand\u001B[39;00m columns \u001B[38;5;129;01mis\u001B[39;00m \u001B[38;5;28;01mNone\u001B[39;00m:\n\u001B[0;32m    508\u001B[0m     columns \u001B[38;5;241m=\u001B[39m ensure_index(data[\u001B[38;5;241m0\u001B[39m]\u001B[38;5;241m.\u001B[39m_fields)\n\u001B[1;32m--> 510\u001B[0m arrays, columns \u001B[38;5;241m=\u001B[39m \u001B[43mto_arrays\u001B[49m\u001B[43m(\u001B[49m\u001B[43mdata\u001B[49m\u001B[43m,\u001B[49m\u001B[43m \u001B[49m\u001B[43mcolumns\u001B[49m\u001B[43m,\u001B[49m\u001B[43m \u001B[49m\u001B[43mdtype\u001B[49m\u001B[38;5;241;43m=\u001B[39;49m\u001B[43mdtype\u001B[49m\u001B[43m)\u001B[49m\n\u001B[0;32m    511\u001B[0m columns \u001B[38;5;241m=\u001B[39m ensure_index(columns)\n\u001B[0;32m    513\u001B[0m \u001B[38;5;28;01mif\u001B[39;00m index \u001B[38;5;129;01mis\u001B[39;00m \u001B[38;5;28;01mNone\u001B[39;00m:\n",
      "File \u001B[1;32m~\\OneDrive\\Dokumente\\GitHub\\BachelorThesis\\venv\\Lib\\site-packages\\pandas\\core\\internals\\construction.py:875\u001B[0m, in \u001B[0;36mto_arrays\u001B[1;34m(data, columns, dtype)\u001B[0m\n\u001B[0;32m    872\u001B[0m     data \u001B[38;5;241m=\u001B[39m [\u001B[38;5;28mtuple\u001B[39m(x) \u001B[38;5;28;01mfor\u001B[39;00m x \u001B[38;5;129;01min\u001B[39;00m data]\n\u001B[0;32m    873\u001B[0m     arr \u001B[38;5;241m=\u001B[39m _list_to_arrays(data)\n\u001B[1;32m--> 875\u001B[0m content, columns \u001B[38;5;241m=\u001B[39m \u001B[43m_finalize_columns_and_data\u001B[49m\u001B[43m(\u001B[49m\u001B[43marr\u001B[49m\u001B[43m,\u001B[49m\u001B[43m \u001B[49m\u001B[43mcolumns\u001B[49m\u001B[43m,\u001B[49m\u001B[43m \u001B[49m\u001B[43mdtype\u001B[49m\u001B[43m)\u001B[49m\n\u001B[0;32m    876\u001B[0m \u001B[38;5;28;01mreturn\u001B[39;00m content, columns\n",
      "File \u001B[1;32m~\\OneDrive\\Dokumente\\GitHub\\BachelorThesis\\venv\\Lib\\site-packages\\pandas\\core\\internals\\construction.py:975\u001B[0m, in \u001B[0;36m_finalize_columns_and_data\u001B[1;34m(content, columns, dtype)\u001B[0m\n\u001B[0;32m    972\u001B[0m     \u001B[38;5;28;01mraise\u001B[39;00m \u001B[38;5;167;01mValueError\u001B[39;00m(err) \u001B[38;5;28;01mfrom\u001B[39;00m \u001B[38;5;21;01merr\u001B[39;00m\n\u001B[0;32m    974\u001B[0m \u001B[38;5;28;01mif\u001B[39;00m \u001B[38;5;28mlen\u001B[39m(contents) \u001B[38;5;129;01mand\u001B[39;00m contents[\u001B[38;5;241m0\u001B[39m]\u001B[38;5;241m.\u001B[39mdtype \u001B[38;5;241m==\u001B[39m np\u001B[38;5;241m.\u001B[39mobject_:\n\u001B[1;32m--> 975\u001B[0m     contents \u001B[38;5;241m=\u001B[39m \u001B[43m_convert_object_array\u001B[49m\u001B[43m(\u001B[49m\u001B[43mcontents\u001B[49m\u001B[43m,\u001B[49m\u001B[43m \u001B[49m\u001B[43mdtype\u001B[49m\u001B[38;5;241;43m=\u001B[39;49m\u001B[43mdtype\u001B[49m\u001B[43m)\u001B[49m\n\u001B[0;32m    977\u001B[0m \u001B[38;5;28;01mreturn\u001B[39;00m contents, columns\n",
      "File \u001B[1;32m~\\OneDrive\\Dokumente\\GitHub\\BachelorThesis\\venv\\Lib\\site-packages\\pandas\\core\\internals\\construction.py:1060\u001B[0m, in \u001B[0;36m_convert_object_array\u001B[1;34m(content, dtype)\u001B[0m\n\u001B[0;32m   1057\u001B[0m         arr \u001B[38;5;241m=\u001B[39m maybe_cast_to_datetime(arr, dtype)\n\u001B[0;32m   1058\u001B[0m     \u001B[38;5;28;01mreturn\u001B[39;00m arr\n\u001B[1;32m-> 1060\u001B[0m arrays \u001B[38;5;241m=\u001B[39m \u001B[43m[\u001B[49m\u001B[43mconvert\u001B[49m\u001B[43m(\u001B[49m\u001B[43marr\u001B[49m\u001B[43m)\u001B[49m\u001B[43m \u001B[49m\u001B[38;5;28;43;01mfor\u001B[39;49;00m\u001B[43m \u001B[49m\u001B[43marr\u001B[49m\u001B[43m \u001B[49m\u001B[38;5;129;43;01min\u001B[39;49;00m\u001B[43m \u001B[49m\u001B[43mcontent\u001B[49m\u001B[43m]\u001B[49m\n\u001B[0;32m   1062\u001B[0m \u001B[38;5;28;01mreturn\u001B[39;00m arrays\n",
      "File \u001B[1;32m~\\OneDrive\\Dokumente\\GitHub\\BachelorThesis\\venv\\Lib\\site-packages\\pandas\\core\\internals\\construction.py:1060\u001B[0m, in \u001B[0;36m<listcomp>\u001B[1;34m(.0)\u001B[0m\n\u001B[0;32m   1057\u001B[0m         arr \u001B[38;5;241m=\u001B[39m maybe_cast_to_datetime(arr, dtype)\n\u001B[0;32m   1058\u001B[0m     \u001B[38;5;28;01mreturn\u001B[39;00m arr\n\u001B[1;32m-> 1060\u001B[0m arrays \u001B[38;5;241m=\u001B[39m [\u001B[43mconvert\u001B[49m\u001B[43m(\u001B[49m\u001B[43marr\u001B[49m\u001B[43m)\u001B[49m \u001B[38;5;28;01mfor\u001B[39;00m arr \u001B[38;5;129;01min\u001B[39;00m content]\n\u001B[0;32m   1062\u001B[0m \u001B[38;5;28;01mreturn\u001B[39;00m arrays\n",
      "File \u001B[1;32m~\\OneDrive\\Dokumente\\GitHub\\BachelorThesis\\venv\\Lib\\site-packages\\pandas\\core\\internals\\construction.py:1057\u001B[0m, in \u001B[0;36m_convert_object_array.<locals>.convert\u001B[1;34m(arr)\u001B[0m\n\u001B[0;32m   1055\u001B[0m \u001B[38;5;28;01mif\u001B[39;00m dtype \u001B[38;5;241m!=\u001B[39m np\u001B[38;5;241m.\u001B[39mdtype(\u001B[38;5;124m\"\u001B[39m\u001B[38;5;124mO\u001B[39m\u001B[38;5;124m\"\u001B[39m):\n\u001B[0;32m   1056\u001B[0m     arr \u001B[38;5;241m=\u001B[39m lib\u001B[38;5;241m.\u001B[39mmaybe_convert_objects(arr)\n\u001B[1;32m-> 1057\u001B[0m     arr \u001B[38;5;241m=\u001B[39m \u001B[43mmaybe_cast_to_datetime\u001B[49m\u001B[43m(\u001B[49m\u001B[43marr\u001B[49m\u001B[43m,\u001B[49m\u001B[43m \u001B[49m\u001B[43mdtype\u001B[49m\u001B[43m)\u001B[49m\n\u001B[0;32m   1058\u001B[0m \u001B[38;5;28;01mreturn\u001B[39;00m arr\n",
      "File \u001B[1;32m~\\OneDrive\\Dokumente\\GitHub\\BachelorThesis\\venv\\Lib\\site-packages\\pandas\\core\\dtypes\\cast.py:1291\u001B[0m, in \u001B[0;36mmaybe_cast_to_datetime\u001B[1;34m(value, dtype)\u001B[0m\n\u001B[0;32m   1281\u001B[0m         warnings\u001B[38;5;241m.\u001B[39mwarn(\n\u001B[0;32m   1282\u001B[0m             \u001B[38;5;124mf\u001B[39m\u001B[38;5;124m\"\u001B[39m\u001B[38;5;124mInferring \u001B[39m\u001B[38;5;132;01m{\u001B[39;00mvalue\u001B[38;5;241m.\u001B[39mdtype\u001B[38;5;132;01m}\u001B[39;00m\u001B[38;5;124m from data containing strings is deprecated \u001B[39m\u001B[38;5;124m\"\u001B[39m\n\u001B[0;32m   1283\u001B[0m             \u001B[38;5;124m\"\u001B[39m\u001B[38;5;124mand will be removed in a future version. To retain the old behavior \u001B[39m\u001B[38;5;124m\"\u001B[39m\n\u001B[1;32m   (...)\u001B[0m\n\u001B[0;32m   1286\u001B[0m             stacklevel\u001B[38;5;241m=\u001B[39mfind_stack_level(),\n\u001B[0;32m   1287\u001B[0m         )\n\u001B[0;32m   1288\u001B[0m     \u001B[38;5;28;01mreturn\u001B[39;00m value\n\u001B[1;32m-> 1291\u001B[0m \u001B[38;5;28;01mdef\u001B[39;00m \u001B[38;5;21mmaybe_cast_to_datetime\u001B[39m(\n\u001B[0;32m   1292\u001B[0m     value: ExtensionArray \u001B[38;5;241m|\u001B[39m np\u001B[38;5;241m.\u001B[39mndarray \u001B[38;5;241m|\u001B[39m \u001B[38;5;28mlist\u001B[39m, dtype: DtypeObj \u001B[38;5;241m|\u001B[39m \u001B[38;5;28;01mNone\u001B[39;00m\n\u001B[0;32m   1293\u001B[0m ) \u001B[38;5;241m-\u001B[39m\u001B[38;5;241m>\u001B[39m ExtensionArray \u001B[38;5;241m|\u001B[39m np\u001B[38;5;241m.\u001B[39mndarray:\n\u001B[0;32m   1294\u001B[0m \u001B[38;5;250m    \u001B[39m\u001B[38;5;124;03m\"\"\"\u001B[39;00m\n\u001B[0;32m   1295\u001B[0m \u001B[38;5;124;03m    try to cast the array/value to a datetimelike dtype, converting float\u001B[39;00m\n\u001B[0;32m   1296\u001B[0m \u001B[38;5;124;03m    nan to iNaT\u001B[39;00m\n\u001B[0;32m   1297\u001B[0m \n\u001B[0;32m   1298\u001B[0m \u001B[38;5;124;03m    We allow a list *only* when dtype is not None.\u001B[39;00m\n\u001B[0;32m   1299\u001B[0m \u001B[38;5;124;03m    \"\"\"\u001B[39;00m\n\u001B[0;32m   1300\u001B[0m     \u001B[38;5;28;01mfrom\u001B[39;00m \u001B[38;5;21;01mpandas\u001B[39;00m\u001B[38;5;21;01m.\u001B[39;00m\u001B[38;5;21;01mcore\u001B[39;00m\u001B[38;5;21;01m.\u001B[39;00m\u001B[38;5;21;01marrays\u001B[39;00m\u001B[38;5;21;01m.\u001B[39;00m\u001B[38;5;21;01mdatetimes\u001B[39;00m \u001B[38;5;28;01mimport\u001B[39;00m sequence_to_datetimes\n",
      "\u001B[1;31mKeyboardInterrupt\u001B[0m: "
     ]
    }
   ],
   "source": [
    "inference_df[list(range(0, 50))] = pd.DataFrame(inference_df[\"modified_sequence_vector\"].tolist(), index= inference_df.index)"
   ],
   "metadata": {
    "collapsed": false
   }
  },
  {
   "cell_type": "code",
   "execution_count": null,
   "outputs": [],
   "source": [
    "inference_df.drop(\"modified_sequence_vector\", axis=1, inplace=True)"
   ],
   "metadata": {
    "collapsed": false
   }
  },
  {
   "cell_type": "code",
   "execution_count": null,
   "outputs": [],
   "source": [
    "inference_df.head(4)"
   ],
   "metadata": {
    "collapsed": false
   }
  },
  {
   "cell_type": "code",
   "execution_count": null,
   "outputs": [],
   "source": [
    "inference_ds = tf.convert_to_tensor(inference_df)"
   ],
   "metadata": {
    "collapsed": false
   }
  },
  {
   "cell_type": "code",
   "execution_count": null,
   "outputs": [],
   "source": [
    "inference_target = inference_ds[:, 0]\n",
    "inference_features = inference_ds[:, 1:]"
   ],
   "metadata": {
    "collapsed": false
   }
  },
  {
   "cell_type": "code",
   "execution_count": null,
   "outputs": [],
   "source": [
    "inference_target_labels =  np.array([one_hot_precursor(i, charges=charge_ranges) for i in inference_target])"
   ],
   "metadata": {
    "collapsed": false
   }
  },
  {
   "cell_type": "code",
   "execution_count": null,
   "outputs": [],
   "source": [
    "results = model_cce.evaluate(inference_features, inference_target_labels, batch_size=256)\n",
    "print(\"test loss, test acc:\", results)"
   ],
   "metadata": {
    "collapsed": false
   }
  },
  {
   "cell_type": "markdown",
   "source": [
    "## Evaluate the models\n",
    "- confusion matrix\n",
    "- accuracy\n",
    "- loss"
   ],
   "metadata": {
    "collapsed": false
   }
  },
  {
   "cell_type": "markdown",
   "source": [
    "Confusion Matrix"
   ],
   "metadata": {
    "collapsed": false
   }
  },
  {
   "cell_type": "code",
   "execution_count": null,
   "outputs": [],
   "source": [
    "import sklearn\n",
    "matrix = sklearn.metrics.confusion_matrix(train_ds_labels.argmax(axis=1), inference_target_labels.argmax(axis=1))"
   ],
   "metadata": {
    "collapsed": false
   }
  },
  {
   "cell_type": "code",
   "execution_count": null,
   "outputs": [],
   "source": [
    "#!pip install scikit-learn\n",
    "#!pip install numpy --upgrade\n",
    "#!pip install pandas --upgrade\n",
    "#!pip install matplotlib --upgrade\n",
    "from sklearn.metrics import confusion_matrix\n",
    "from sklearn.metrics import classification_report\n",
    "import pandas as pd\n",
    "#do_predictions = model.predict(test_ds)\n",
    "\n",
    "y_pred = []\n",
    "y_true = []\n",
    "\n",
    "# iterate over the dataset\n",
    "for index, i in enumerate(inference_ds):   # use dataset.unbatch() with repeat\n",
    "   print(inference_target_labels[index])\n",
    "   print(inference_features[index])\n",
    "   # append true labels\n",
    "   y_true.append(inference_target_labels[index])\n",
    "   # compute predictions\n",
    "   preds = model_cce.predict(inference_features[index])\n",
    "   # append predicted labels\n",
    "   y_pred.append(np.argmax(preds, axis = -1))\n",
    "# convert the true and predicted labels into tensors\n",
    "true_labels = tf.cast(tf.concat([item for item in y_true], axis = 0), tf.float32)\n",
    "predicted_labels = tf.cast(tf.concat([item for item in y_pred], axis = 0), tf.float32)\n",
    "\n",
    "\n",
    "cm = confusion_matrix(true_labels, predicted_labels)\n",
    "#print(cm)\n",
    "report = classification_report(true_labels,predicted_labels, target_names=class_names)\n",
    "\n",
    "report_dict = classification_report(true_labels, predicted_labels, output_dict=True)\n",
    "#print(report_dict)\n",
    "print(report)\n",
    "\n",
    "#pd.DataFrame(report_dict).transpose()\n"
   ],
   "metadata": {
    "collapsed": false
   }
  },
  {
   "cell_type": "markdown",
   "source": [
    "Accuracy/ Sens/ Spec"
   ],
   "metadata": {
    "collapsed": false,
    "ExecuteTime": {
     "end_time": "2023-07-24T12:31:25.645324800Z",
     "start_time": "2023-07-24T12:31:25.552652300Z"
    }
   },
   "outputs": [],
   "execution_count": 15
  },
  {
   "cell_type": "code",
   "execution_count": null,
   "outputs": [],
   "source": [
    "import keras.backend as K\n",
    "def matthews_correlation(y_true, y_pred):\n",
    "    #print(y_pred.shape, y_true.shape)\n",
    "    y_pred_pos = K.round(K.clip(y_pred, 0, 1))\n",
    "    y_pred_neg = 1 - y_pred_pos\n",
    "\n",
    "    y_pos = K.round(K.clip(y_true, 0, 1))\n",
    "    y_neg = 1 - y_pos\n",
    "\n",
    "    tp = K.sum(K.cast(y_pos * y_pred_pos, 'float32'))\n",
    "    tn = K.sum(K.cast(y_neg * y_pred_neg, 'float32'))\n",
    "    fp = K.sum(K.cast(y_neg * y_pred_pos, 'float32'))\n",
    "    fn = K.sum(K.cast(y_pos * y_pred_neg, 'float32'))\n",
    "\n",
    "    print(\"OVERALL:\")\n",
    "    print(\" Accuracy \", ((tp + tn) / (tp + tn + fp + fn)).numpy())\n",
    "    print(\" Sensitivity \", (tp / (tp + fn)).numpy())\n",
    "    print(\" Specificity \", (tn / (tn + fp)).numpy())\n",
    "\n",
    "    numerator = (tp * tn - fp * fn)\n",
    "    #print(tp.numpy(), fp.numpy())\n",
    "    test = (((tp + fp) * (tp + fn) * (tn + fp) * (tn + fn)))\n",
    "    #print(test)\n",
    "    denominator = K.sqrt(K.cast(test, 'float32'))\n",
    "\n",
    "    return numerator / (denominator + K.epsilon())\n",
    "\n",
    "\n",
    "#print(true_labels, predicted_labels)\n",
    "print(\" matthews_correlation(rounded): \", (matthews_correlation(true_labels, predicted_labels).numpy()))"
   ],
   "metadata": {
    "collapsed": false
   }
  },
  {
   "cell_type": "markdown",
   "source": [
    "MCC"
   ],
   "metadata": {
    "collapsed": false,
    "ExecuteTime": {
     "end_time": "2023-07-24T12:31:59.929377Z",
     "start_time": "2023-07-24T12:31:45.294917300Z"
    }
   },
   "outputs": [
    {
     "ename": "ValueError",
     "evalue": "Columns must be same length as key",
     "output_type": "error",
     "traceback": [
      "\u001B[1;31m---------------------------------------------------------------------------\u001B[0m",
      "\u001B[1;31mValueError\u001B[0m                                Traceback (most recent call last)",
      "Cell \u001B[1;32mIn[18], line 3\u001B[0m\n\u001B[0;32m      1\u001B[0m split_to_columns \u001B[38;5;241m=\u001B[39m \u001B[38;5;28;01mTrue\u001B[39;00m \u001B[38;5;66;03m# TODO SET BOOL\u001B[39;00m\n\u001B[0;32m      2\u001B[0m \u001B[38;5;28;01mif\u001B[39;00m split_to_columns:\n\u001B[1;32m----> 3\u001B[0m     \u001B[43minference_df\u001B[49m\u001B[43m[\u001B[49m\u001B[38;5;28;43mlist\u001B[39;49m\u001B[43m(\u001B[49m\u001B[38;5;28;43mrange\u001B[39;49m\u001B[43m(\u001B[49m\u001B[38;5;241;43m0\u001B[39;49m\u001B[43m,\u001B[49m\u001B[43m \u001B[49m\u001B[38;5;241;43m40\u001B[39;49m\u001B[43m)\u001B[49m\u001B[43m)\u001B[49m\u001B[43m]\u001B[49m \u001B[38;5;241m=\u001B[39m pd\u001B[38;5;241m.\u001B[39mDataFrame(inference_df[\u001B[38;5;124m\"\u001B[39m\u001B[38;5;124mmodified_sequence_vector\u001B[39m\u001B[38;5;124m\"\u001B[39m]\u001B[38;5;241m.\u001B[39mtolist(), index\u001B[38;5;241m=\u001B[39m inference_df\u001B[38;5;241m.\u001B[39mindex)\n\u001B[0;32m      4\u001B[0m     inference_df\u001B[38;5;241m.\u001B[39mdrop(\u001B[38;5;124m\"\u001B[39m\u001B[38;5;124mmodified_sequence_vector\u001B[39m\u001B[38;5;124m\"\u001B[39m, axis\u001B[38;5;241m=\u001B[39m\u001B[38;5;241m1\u001B[39m, inplace\u001B[38;5;241m=\u001B[39m\u001B[38;5;28;01mTrue\u001B[39;00m)\n",
      "File \u001B[1;32m~\\OneDrive\\Dokumente\\GitHub\\BachelorThesis\\venv\\Lib\\site-packages\\pandas\\core\\frame.py:3968\u001B[0m, in \u001B[0;36mDataFrame.__setitem__\u001B[1;34m(self, key, value)\u001B[0m\n\u001B[0;32m   3966\u001B[0m     \u001B[38;5;28mself\u001B[39m\u001B[38;5;241m.\u001B[39m_setitem_frame(key, value)\n\u001B[0;32m   3967\u001B[0m \u001B[38;5;28;01melif\u001B[39;00m \u001B[38;5;28misinstance\u001B[39m(key, (Series, np\u001B[38;5;241m.\u001B[39mndarray, \u001B[38;5;28mlist\u001B[39m, Index)):\n\u001B[1;32m-> 3968\u001B[0m     \u001B[38;5;28;43mself\u001B[39;49m\u001B[38;5;241;43m.\u001B[39;49m\u001B[43m_setitem_array\u001B[49m\u001B[43m(\u001B[49m\u001B[43mkey\u001B[49m\u001B[43m,\u001B[49m\u001B[43m \u001B[49m\u001B[43mvalue\u001B[49m\u001B[43m)\u001B[49m\n\u001B[0;32m   3969\u001B[0m \u001B[38;5;28;01melif\u001B[39;00m \u001B[38;5;28misinstance\u001B[39m(value, DataFrame):\n\u001B[0;32m   3970\u001B[0m     \u001B[38;5;28mself\u001B[39m\u001B[38;5;241m.\u001B[39m_set_item_frame_value(key, value)\n",
      "File \u001B[1;32m~\\OneDrive\\Dokumente\\GitHub\\BachelorThesis\\venv\\Lib\\site-packages\\pandas\\core\\frame.py:4010\u001B[0m, in \u001B[0;36mDataFrame._setitem_array\u001B[1;34m(self, key, value)\u001B[0m\n\u001B[0;32m   4005\u001B[0m \u001B[38;5;28;01melse\u001B[39;00m:\n\u001B[0;32m   4006\u001B[0m     \u001B[38;5;66;03m# Note: unlike self.iloc[:, indexer] = value, this will\u001B[39;00m\n\u001B[0;32m   4007\u001B[0m     \u001B[38;5;66;03m#  never try to overwrite values inplace\u001B[39;00m\n\u001B[0;32m   4009\u001B[0m     \u001B[38;5;28;01mif\u001B[39;00m \u001B[38;5;28misinstance\u001B[39m(value, DataFrame):\n\u001B[1;32m-> 4010\u001B[0m         \u001B[43mcheck_key_length\u001B[49m\u001B[43m(\u001B[49m\u001B[38;5;28;43mself\u001B[39;49m\u001B[38;5;241;43m.\u001B[39;49m\u001B[43mcolumns\u001B[49m\u001B[43m,\u001B[49m\u001B[43m \u001B[49m\u001B[43mkey\u001B[49m\u001B[43m,\u001B[49m\u001B[43m \u001B[49m\u001B[43mvalue\u001B[49m\u001B[43m)\u001B[49m\n\u001B[0;32m   4011\u001B[0m         \u001B[38;5;28;01mfor\u001B[39;00m k1, k2 \u001B[38;5;129;01min\u001B[39;00m \u001B[38;5;28mzip\u001B[39m(key, value\u001B[38;5;241m.\u001B[39mcolumns):\n\u001B[0;32m   4012\u001B[0m             \u001B[38;5;28mself\u001B[39m[k1] \u001B[38;5;241m=\u001B[39m value[k2]\n",
      "File \u001B[1;32m~\\OneDrive\\Dokumente\\GitHub\\BachelorThesis\\venv\\Lib\\site-packages\\pandas\\core\\indexers\\utils.py:401\u001B[0m, in \u001B[0;36mcheck_key_length\u001B[1;34m(columns, key, value)\u001B[0m\n\u001B[0;32m    399\u001B[0m \u001B[38;5;28;01mif\u001B[39;00m columns\u001B[38;5;241m.\u001B[39mis_unique:\n\u001B[0;32m    400\u001B[0m     \u001B[38;5;28;01mif\u001B[39;00m \u001B[38;5;28mlen\u001B[39m(value\u001B[38;5;241m.\u001B[39mcolumns) \u001B[38;5;241m!=\u001B[39m \u001B[38;5;28mlen\u001B[39m(key):\n\u001B[1;32m--> 401\u001B[0m         \u001B[38;5;28;01mraise\u001B[39;00m \u001B[38;5;167;01mValueError\u001B[39;00m(\u001B[38;5;124m\"\u001B[39m\u001B[38;5;124mColumns must be same length as key\u001B[39m\u001B[38;5;124m\"\u001B[39m)\n\u001B[0;32m    402\u001B[0m \u001B[38;5;28;01melse\u001B[39;00m:\n\u001B[0;32m    403\u001B[0m     \u001B[38;5;66;03m# Missing keys in columns are represented as -1\u001B[39;00m\n\u001B[0;32m    404\u001B[0m     \u001B[38;5;28;01mif\u001B[39;00m \u001B[38;5;28mlen\u001B[39m(columns\u001B[38;5;241m.\u001B[39mget_indexer_non_unique(key)[\u001B[38;5;241m0\u001B[39m]) \u001B[38;5;241m!=\u001B[39m \u001B[38;5;28mlen\u001B[39m(value\u001B[38;5;241m.\u001B[39mcolumns):\n",
      "\u001B[1;31mValueError\u001B[0m: Columns must be same length as key"
     ]
    }
   ],
   "execution_count": 18
  },
  {
   "cell_type": "code",
   "execution_count": null,
   "outputs": [],
   "source": [
    "from sklearn.metrics import matthews_corrcoef\n",
    "\n",
    "print(\"matthews_correlation:\", matthews_corrcoef(true_labels, predicted_labels))"
   ],
   "metadata": {
    "collapsed": false
   }
  },
  {
   "cell_type": "markdown",
   "source": [
    "Direct eval:"
   ],
   "metadata": {
    "collapsed": false
   }
  },
  {
   "cell_type": "code",
   "execution_count": null,
   "outputs": [],
   "source": [
    "from tensorflow.keras.metrics import Precision, Recall, BinaryAccuracy\n",
    "\n",
    "eval_prec = Precision()\n",
    "eval_rec = Recall()\n",
    "eval_acc = BinaryAccuracy()"
   ],
   "metadata": {
    "collapsed": false
   }
  },
  {
   "cell_type": "code",
   "execution_count": null,
   "outputs": [],
   "source": [
    "for batch in test_ds.as_numpy_iterator():\n",
    "    X, y = batch\n",
    "    y = tf.keras.utils.to_categorical(y, num_classes=13, dtype='int')\n",
    "    yhat = model.predict(X)\n",
    "    eval_prec.update_state(y, yhat)\n",
    "    eval_rec.update_state(y, yhat)\n",
    "    eval_acc.update_state(y, yhat)"
   ],
   "metadata": {
    "collapsed": false
   }
  },
  {
   "cell_type": "code",
   "execution_count": null,
   "outputs": [],
   "source": [
    "print(f'Precision: {eval_prec.result().numpy()}, Recall: {eval_rec.result().numpy()}, Accuracy: {eval_acc.result().numpy()}')"
   ],
   "metadata": {
    "collapsed": false
   }
  }
 ],
 "metadata": {
  "kernelspec": {
   "display_name": "Python 3",
   "language": "python",
   "name": "python3"
  },
  "language_info": {
   "codemirror_mode": {
    "name": "ipython",
    "version": 2
   },
   "file_extension": ".py",
   "mimetype": "text/x-python",
   "name": "python",
   "nbconvert_exporter": "python",
   "pygments_lexer": "ipython2",
   "version": "2.7.6"
  }
 },
 "nbformat": 4,
 "nbformat_minor": 0
}

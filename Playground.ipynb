{
 "cells": [
  {
   "cell_type": "code",
   "execution_count": 9,
   "metadata": {
    "collapsed": true,
    "ExecuteTime": {
     "end_time": "2023-07-03T15:35:32.965900400Z",
     "start_time": "2023-07-03T15:35:32.962387500Z"
    }
   },
   "outputs": [],
   "source": [
    "import numpy as np\n",
    "import pandas as pd\n",
    "import tensorflow as tf\n",
    "import re"
   ]
  },
  {
   "cell_type": "code",
   "execution_count": 2,
   "outputs": [],
   "source": [
    "df = pd.read_parquet(\"data/Thermo_SRM_Pool_meta_data.parquet\", engine='fastparquet')"
   ],
   "metadata": {
    "collapsed": false,
    "ExecuteTime": {
     "end_time": "2023-07-03T15:30:30.706672200Z",
     "start_time": "2023-07-03T15:30:28.375985600Z"
    }
   }
  },
  {
   "cell_type": "code",
   "execution_count": 3,
   "outputs": [
    {
     "data": {
      "text/plain": "                                                raw_file  scan_number  \\\n0           01640c_BC1-Thermo_SRM_Pool_3_01_01-DDA-1h-R2        34736   \n1           01640c_BC1-Thermo_SRM_Pool_3_01_01-DDA-1h-R2        25591   \n2           01640c_BC1-Thermo_SRM_Pool_3_01_01-DDA-1h-R2        24831   \n3           01640c_BC1-Thermo_SRM_Pool_3_01_01-DDA-1h-R2        34870   \n4           01640c_BC1-Thermo_SRM_Pool_3_01_01-DDA-1h-R2        33125   \n...                                                  ...          ...   \n6080601  01640c_BC7-Thermo_SRM_Pool_51_01_01-3xHCD-1h-R2        48700   \n6080602  01640c_BC7-Thermo_SRM_Pool_51_01_01-3xHCD-1h-R2        48699   \n6080603  01640c_BC7-Thermo_SRM_Pool_51_01_01-3xHCD-1h-R2        45095   \n6080604  01640c_BC7-Thermo_SRM_Pool_51_01_01-3xHCD-1h-R2        45096   \n6080605  01640c_BC7-Thermo_SRM_Pool_51_01_01-3xHCD-1h-R2        48744   \n\n                              modified_sequence  precursor_charge  \\\n0                          LPGSLETYVEQEQGENANDR                 2   \n1                               HGSLQEYLQNDTGSK                 2   \n2                                VEEEEEINSELTAR                 2   \n3                          LPGSLETYVEQEQGENANDR                 2   \n4                          NSSTAEINETTTSSTDFLAR                 2   \n...                                         ...               ...   \n6080601  YSQLFC[UNIMOD:4]GLPSLHSESLVATFMGSQGLPK                 3   \n6080602  YSQLFC[UNIMOD:4]GLPSLHSESLVATFMGSQGLPK                 3   \n6080603          EMENFVQSSGEDGIVVFSLGSLFQNVTEEK                 3   \n6080604          EMENFVQSSGEDGIVVFSLGSLFQNVTEEK                 3   \n6080605  YSQLFC[UNIMOD:4]GLPSLHSESLVATFMGSQGLPK                 3   \n\n         precursor_intensity          mz  precursor_mz fragmentation  \\\n0                 29525630.0  1125.01950   1125.018331           CID   \n1                 13188580.0   838.89737    838.894401           HCD   \n2                 20663460.0   824.38904    824.388401           CID   \n3                 19884630.0  1125.01950   1125.018831           CID   \n4                 12804420.0  1073.00070   1072.999855           CID   \n...                      ...         ...           ...           ...   \n6080601             573697.7  1018.84030   1018.840102           HCD   \n6080602             573697.7  1018.84030   1018.840102           HCD   \n6080603             114742.8  1107.19400   1106.862187           HCD   \n6080604             114742.8  1107.19400   1106.862187           HCD   \n6080605             202114.2  1018.84030   1019.509063           HCD   \n\n        mass_analyzer  retention_time  indexed_retention_time  \\\n0                ITMS          38.411               62.827337   \n1                FTMS          30.394               42.030163   \n2                ITMS          29.737               40.325817   \n3                ITMS          38.539               63.159386   \n4                ITMS          36.990               59.141072   \n...               ...             ...                     ...   \n6080601          FTMS          56.168              111.878402   \n6080602          FTMS          56.168              111.878402   \n6080603          FTMS          52.253              101.767741   \n6080604          FTMS          52.254              101.770323   \n6080605          FTMS          56.214              111.997199   \n\n         andromeda_score  peptide_length  orig_collision_energy  \\\n0                 447.14              20                   35.0   \n1                 417.84              15                   28.0   \n2                 365.69              14                   35.0   \n3                 365.02              20                   35.0   \n4                 356.50              20                   35.0   \n...                  ...             ...                    ...   \n6080601             0.00              28                   35.0   \n6080602             0.00              28                   30.0   \n6080603             0.00              30                   25.0   \n6080604             0.00              30                   30.0   \n6080605             0.00              28                   35.0   \n\n         aligned_collision_energy  \n0                       35.000000  \n1                       31.447596  \n2                       35.000000  \n3                       35.000000  \n4                       35.000000  \n...                           ...  \n6080601                 36.314648  \n6080602                 31.314648  \n6080603                 26.314648  \n6080604                 31.314648  \n6080605                 36.314648  \n\n[6080606 rows x 15 columns]",
      "text/html": "<div>\n<style scoped>\n    .dataframe tbody tr th:only-of-type {\n        vertical-align: middle;\n    }\n\n    .dataframe tbody tr th {\n        vertical-align: top;\n    }\n\n    .dataframe thead th {\n        text-align: right;\n    }\n</style>\n<table border=\"1\" class=\"dataframe\">\n  <thead>\n    <tr style=\"text-align: right;\">\n      <th></th>\n      <th>raw_file</th>\n      <th>scan_number</th>\n      <th>modified_sequence</th>\n      <th>precursor_charge</th>\n      <th>precursor_intensity</th>\n      <th>mz</th>\n      <th>precursor_mz</th>\n      <th>fragmentation</th>\n      <th>mass_analyzer</th>\n      <th>retention_time</th>\n      <th>indexed_retention_time</th>\n      <th>andromeda_score</th>\n      <th>peptide_length</th>\n      <th>orig_collision_energy</th>\n      <th>aligned_collision_energy</th>\n    </tr>\n  </thead>\n  <tbody>\n    <tr>\n      <th>0</th>\n      <td>01640c_BC1-Thermo_SRM_Pool_3_01_01-DDA-1h-R2</td>\n      <td>34736</td>\n      <td>LPGSLETYVEQEQGENANDR</td>\n      <td>2</td>\n      <td>29525630.0</td>\n      <td>1125.01950</td>\n      <td>1125.018331</td>\n      <td>CID</td>\n      <td>ITMS</td>\n      <td>38.411</td>\n      <td>62.827337</td>\n      <td>447.14</td>\n      <td>20</td>\n      <td>35.0</td>\n      <td>35.000000</td>\n    </tr>\n    <tr>\n      <th>1</th>\n      <td>01640c_BC1-Thermo_SRM_Pool_3_01_01-DDA-1h-R2</td>\n      <td>25591</td>\n      <td>HGSLQEYLQNDTGSK</td>\n      <td>2</td>\n      <td>13188580.0</td>\n      <td>838.89737</td>\n      <td>838.894401</td>\n      <td>HCD</td>\n      <td>FTMS</td>\n      <td>30.394</td>\n      <td>42.030163</td>\n      <td>417.84</td>\n      <td>15</td>\n      <td>28.0</td>\n      <td>31.447596</td>\n    </tr>\n    <tr>\n      <th>2</th>\n      <td>01640c_BC1-Thermo_SRM_Pool_3_01_01-DDA-1h-R2</td>\n      <td>24831</td>\n      <td>VEEEEEINSELTAR</td>\n      <td>2</td>\n      <td>20663460.0</td>\n      <td>824.38904</td>\n      <td>824.388401</td>\n      <td>CID</td>\n      <td>ITMS</td>\n      <td>29.737</td>\n      <td>40.325817</td>\n      <td>365.69</td>\n      <td>14</td>\n      <td>35.0</td>\n      <td>35.000000</td>\n    </tr>\n    <tr>\n      <th>3</th>\n      <td>01640c_BC1-Thermo_SRM_Pool_3_01_01-DDA-1h-R2</td>\n      <td>34870</td>\n      <td>LPGSLETYVEQEQGENANDR</td>\n      <td>2</td>\n      <td>19884630.0</td>\n      <td>1125.01950</td>\n      <td>1125.018831</td>\n      <td>CID</td>\n      <td>ITMS</td>\n      <td>38.539</td>\n      <td>63.159386</td>\n      <td>365.02</td>\n      <td>20</td>\n      <td>35.0</td>\n      <td>35.000000</td>\n    </tr>\n    <tr>\n      <th>4</th>\n      <td>01640c_BC1-Thermo_SRM_Pool_3_01_01-DDA-1h-R2</td>\n      <td>33125</td>\n      <td>NSSTAEINETTTSSTDFLAR</td>\n      <td>2</td>\n      <td>12804420.0</td>\n      <td>1073.00070</td>\n      <td>1072.999855</td>\n      <td>CID</td>\n      <td>ITMS</td>\n      <td>36.990</td>\n      <td>59.141072</td>\n      <td>356.50</td>\n      <td>20</td>\n      <td>35.0</td>\n      <td>35.000000</td>\n    </tr>\n    <tr>\n      <th>...</th>\n      <td>...</td>\n      <td>...</td>\n      <td>...</td>\n      <td>...</td>\n      <td>...</td>\n      <td>...</td>\n      <td>...</td>\n      <td>...</td>\n      <td>...</td>\n      <td>...</td>\n      <td>...</td>\n      <td>...</td>\n      <td>...</td>\n      <td>...</td>\n      <td>...</td>\n    </tr>\n    <tr>\n      <th>6080601</th>\n      <td>01640c_BC7-Thermo_SRM_Pool_51_01_01-3xHCD-1h-R2</td>\n      <td>48700</td>\n      <td>YSQLFC[UNIMOD:4]GLPSLHSESLVATFMGSQGLPK</td>\n      <td>3</td>\n      <td>573697.7</td>\n      <td>1018.84030</td>\n      <td>1018.840102</td>\n      <td>HCD</td>\n      <td>FTMS</td>\n      <td>56.168</td>\n      <td>111.878402</td>\n      <td>0.00</td>\n      <td>28</td>\n      <td>35.0</td>\n      <td>36.314648</td>\n    </tr>\n    <tr>\n      <th>6080602</th>\n      <td>01640c_BC7-Thermo_SRM_Pool_51_01_01-3xHCD-1h-R2</td>\n      <td>48699</td>\n      <td>YSQLFC[UNIMOD:4]GLPSLHSESLVATFMGSQGLPK</td>\n      <td>3</td>\n      <td>573697.7</td>\n      <td>1018.84030</td>\n      <td>1018.840102</td>\n      <td>HCD</td>\n      <td>FTMS</td>\n      <td>56.168</td>\n      <td>111.878402</td>\n      <td>0.00</td>\n      <td>28</td>\n      <td>30.0</td>\n      <td>31.314648</td>\n    </tr>\n    <tr>\n      <th>6080603</th>\n      <td>01640c_BC7-Thermo_SRM_Pool_51_01_01-3xHCD-1h-R2</td>\n      <td>45095</td>\n      <td>EMENFVQSSGEDGIVVFSLGSLFQNVTEEK</td>\n      <td>3</td>\n      <td>114742.8</td>\n      <td>1107.19400</td>\n      <td>1106.862187</td>\n      <td>HCD</td>\n      <td>FTMS</td>\n      <td>52.253</td>\n      <td>101.767741</td>\n      <td>0.00</td>\n      <td>30</td>\n      <td>25.0</td>\n      <td>26.314648</td>\n    </tr>\n    <tr>\n      <th>6080604</th>\n      <td>01640c_BC7-Thermo_SRM_Pool_51_01_01-3xHCD-1h-R2</td>\n      <td>45096</td>\n      <td>EMENFVQSSGEDGIVVFSLGSLFQNVTEEK</td>\n      <td>3</td>\n      <td>114742.8</td>\n      <td>1107.19400</td>\n      <td>1106.862187</td>\n      <td>HCD</td>\n      <td>FTMS</td>\n      <td>52.254</td>\n      <td>101.770323</td>\n      <td>0.00</td>\n      <td>30</td>\n      <td>30.0</td>\n      <td>31.314648</td>\n    </tr>\n    <tr>\n      <th>6080605</th>\n      <td>01640c_BC7-Thermo_SRM_Pool_51_01_01-3xHCD-1h-R2</td>\n      <td>48744</td>\n      <td>YSQLFC[UNIMOD:4]GLPSLHSESLVATFMGSQGLPK</td>\n      <td>3</td>\n      <td>202114.2</td>\n      <td>1018.84030</td>\n      <td>1019.509063</td>\n      <td>HCD</td>\n      <td>FTMS</td>\n      <td>56.214</td>\n      <td>111.997199</td>\n      <td>0.00</td>\n      <td>28</td>\n      <td>35.0</td>\n      <td>36.314648</td>\n    </tr>\n  </tbody>\n</table>\n<p>6080606 rows × 15 columns</p>\n</div>"
     },
     "execution_count": 3,
     "metadata": {},
     "output_type": "execute_result"
    }
   ],
   "source": [
    "df"
   ],
   "metadata": {
    "collapsed": false,
    "ExecuteTime": {
     "end_time": "2023-07-03T15:30:39.240549500Z",
     "start_time": "2023-07-03T15:30:39.229211100Z"
    }
   }
  },
  {
   "cell_type": "code",
   "execution_count": 13,
   "outputs": [
    {
     "name": "stdout",
     "output_type": "stream",
     "text": [
      "6080606\n"
     ]
    }
   ],
   "source": [
    "print(len(df))"
   ],
   "metadata": {
    "collapsed": false,
    "ExecuteTime": {
     "end_time": "2023-07-03T15:36:13.909708300Z",
     "start_time": "2023-07-03T15:36:13.888111200Z"
    }
   }
  },
  {
   "cell_type": "markdown",
   "source": [],
   "metadata": {
    "collapsed": false
   }
  },
  {
   "cell_type": "markdown",
   "source": [
    "### Remove all sequences containing '[UNIMOD:'"
   ],
   "metadata": {
    "collapsed": false
   }
  },
  {
   "cell_type": "code",
   "execution_count": 10,
   "outputs": [],
   "source": [
    "def delete_entries_with_partial_string(dataframe, column_name, partial_string):\n",
    "    escaped_string = re.escape(partial_string)\n",
    "    dataframe = dataframe[~dataframe[column_name].str.contains(escaped_string)]\n",
    "    return dataframe"
   ],
   "metadata": {
    "collapsed": false,
    "ExecuteTime": {
     "end_time": "2023-07-03T15:35:37.211600300Z",
     "start_time": "2023-07-03T15:35:37.187604700Z"
    }
   }
  },
  {
   "cell_type": "code",
   "execution_count": 11,
   "outputs": [],
   "source": [
    "df_filtered = delete_entries_with_partial_string(df, 'modified_sequence', '[UNIMOD:')"
   ],
   "metadata": {
    "collapsed": false,
    "ExecuteTime": {
     "end_time": "2023-07-03T15:35:41.463507200Z",
     "start_time": "2023-07-03T15:35:38.847353600Z"
    }
   }
  },
  {
   "cell_type": "code",
   "execution_count": 14,
   "outputs": [
    {
     "data": {
      "text/plain": "                                                raw_file  scan_number  \\\n0           01640c_BC1-Thermo_SRM_Pool_3_01_01-DDA-1h-R2        34736   \n1           01640c_BC1-Thermo_SRM_Pool_3_01_01-DDA-1h-R2        25591   \n2           01640c_BC1-Thermo_SRM_Pool_3_01_01-DDA-1h-R2        24831   \n3           01640c_BC1-Thermo_SRM_Pool_3_01_01-DDA-1h-R2        34870   \n4           01640c_BC1-Thermo_SRM_Pool_3_01_01-DDA-1h-R2        33125   \n...                                                  ...          ...   \n6080594  01640c_BC7-Thermo_SRM_Pool_51_01_01-3xHCD-1h-R2        36450   \n6080599  01640c_BC7-Thermo_SRM_Pool_51_01_01-3xHCD-1h-R2        23590   \n6080600  01640c_BC7-Thermo_SRM_Pool_51_01_01-3xHCD-1h-R2        23589   \n6080603  01640c_BC7-Thermo_SRM_Pool_51_01_01-3xHCD-1h-R2        45095   \n6080604  01640c_BC7-Thermo_SRM_Pool_51_01_01-3xHCD-1h-R2        45096   \n\n                      modified_sequence  precursor_charge  \\\n0                  LPGSLETYVEQEQGENANDR                 2   \n1                       HGSLQEYLQNDTGSK                 2   \n2                        VEEEEEINSELTAR                 2   \n3                  LPGSLETYVEQEQGENANDR                 2   \n4                  NSSTAEINETTTSSTDFLAR                 2   \n...                                 ...               ...   \n6080594                    HGIGSLLLESLK                 3   \n6080599               ALEAENSALALENENQR                 2   \n6080600               ALEAENSALALENENQR                 2   \n6080603  EMENFVQSSGEDGIVVFSLGSLFQNVTEEK                 3   \n6080604  EMENFVQSSGEDGIVVFSLGSLFQNVTEEK                 3   \n\n         precursor_intensity          mz  precursor_mz fragmentation  \\\n0                 29525630.0  1125.01950   1125.018331           CID   \n1                 13188580.0   838.89737    838.894401           HCD   \n2                 20663460.0   824.38904    824.388401           CID   \n3                 19884630.0  1125.01950   1125.018831           CID   \n4                 12804420.0  1073.00070   1072.999855           CID   \n...                      ...         ...           ...           ...   \n6080594                  NaN   422.91872    422.918197           HCD   \n6080599                  NaN   936.45832    936.458702           HCD   \n6080600                  NaN   936.45832    936.458702           HCD   \n6080603             114742.8  1107.19400   1106.862187           HCD   \n6080604             114742.8  1107.19400   1106.862187           HCD   \n\n        mass_analyzer  retention_time  indexed_retention_time  \\\n0                ITMS          38.411               62.827337   \n1                FTMS          30.394               42.030163   \n2                ITMS          29.737               40.325817   \n3                ITMS          38.539               63.159386   \n4                ITMS          36.990               59.141072   \n...               ...             ...                     ...   \n6080594          FTMS          43.933               80.280972   \n6080599          FTMS          32.472               50.682432   \n6080600          FTMS          32.472               50.682432   \n6080603          FTMS          52.253              101.767741   \n6080604          FTMS          52.254              101.770323   \n\n         andromeda_score  peptide_length  orig_collision_energy  \\\n0                 447.14              20                   35.0   \n1                 417.84              15                   28.0   \n2                 365.69              14                   35.0   \n3                 365.02              20                   35.0   \n4                 356.50              20                   35.0   \n...                  ...             ...                    ...   \n6080594             0.00              12                   30.0   \n6080599             0.00              17                   35.0   \n6080600             0.00              17                   30.0   \n6080603             0.00              30                   25.0   \n6080604             0.00              30                   30.0   \n\n         aligned_collision_energy  \\\n0                       35.000000   \n1                       31.447596   \n2                       35.000000   \n3                       35.000000   \n4                       35.000000   \n...                           ...   \n6080594                 31.314648   \n6080599                 36.314648   \n6080600                 31.314648   \n6080603                 26.314648   \n6080604                 31.314648   \n\n                                           sequence_vector  \n0        [9, 12, 5, 15, 9, 3, 16, 19, 17, 3, 13, 3, 13,...  \n1        [6, 5, 15, 9, 13, 3, 19, 9, 13, 11, 2, 16, 5, ...  \n2          [17, 3, 3, 3, 3, 3, 7, 11, 15, 3, 9, 16, 0, 14]  \n3        [9, 12, 5, 15, 9, 3, 16, 19, 17, 3, 13, 3, 13,...  \n4        [11, 15, 15, 16, 0, 3, 7, 11, 3, 16, 16, 16, 1...  \n...                                                    ...  \n6080594             [6, 5, 7, 5, 15, 9, 9, 9, 3, 15, 9, 8]  \n6080599  [0, 9, 3, 0, 3, 11, 15, 0, 9, 0, 9, 3, 11, 3, ...  \n6080600  [0, 9, 3, 0, 3, 11, 15, 0, 9, 0, 9, 3, 11, 3, ...  \n6080603  [3, 10, 3, 11, 4, 17, 13, 15, 15, 5, 3, 2, 5, ...  \n6080604  [3, 10, 3, 11, 4, 17, 13, 15, 15, 5, 3, 2, 5, ...  \n\n[4761432 rows x 16 columns]",
      "text/html": "<div>\n<style scoped>\n    .dataframe tbody tr th:only-of-type {\n        vertical-align: middle;\n    }\n\n    .dataframe tbody tr th {\n        vertical-align: top;\n    }\n\n    .dataframe thead th {\n        text-align: right;\n    }\n</style>\n<table border=\"1\" class=\"dataframe\">\n  <thead>\n    <tr style=\"text-align: right;\">\n      <th></th>\n      <th>raw_file</th>\n      <th>scan_number</th>\n      <th>modified_sequence</th>\n      <th>precursor_charge</th>\n      <th>precursor_intensity</th>\n      <th>mz</th>\n      <th>precursor_mz</th>\n      <th>fragmentation</th>\n      <th>mass_analyzer</th>\n      <th>retention_time</th>\n      <th>indexed_retention_time</th>\n      <th>andromeda_score</th>\n      <th>peptide_length</th>\n      <th>orig_collision_energy</th>\n      <th>aligned_collision_energy</th>\n      <th>sequence_vector</th>\n    </tr>\n  </thead>\n  <tbody>\n    <tr>\n      <th>0</th>\n      <td>01640c_BC1-Thermo_SRM_Pool_3_01_01-DDA-1h-R2</td>\n      <td>34736</td>\n      <td>LPGSLETYVEQEQGENANDR</td>\n      <td>2</td>\n      <td>29525630.0</td>\n      <td>1125.01950</td>\n      <td>1125.018331</td>\n      <td>CID</td>\n      <td>ITMS</td>\n      <td>38.411</td>\n      <td>62.827337</td>\n      <td>447.14</td>\n      <td>20</td>\n      <td>35.0</td>\n      <td>35.000000</td>\n      <td>[9, 12, 5, 15, 9, 3, 16, 19, 17, 3, 13, 3, 13,...</td>\n    </tr>\n    <tr>\n      <th>1</th>\n      <td>01640c_BC1-Thermo_SRM_Pool_3_01_01-DDA-1h-R2</td>\n      <td>25591</td>\n      <td>HGSLQEYLQNDTGSK</td>\n      <td>2</td>\n      <td>13188580.0</td>\n      <td>838.89737</td>\n      <td>838.894401</td>\n      <td>HCD</td>\n      <td>FTMS</td>\n      <td>30.394</td>\n      <td>42.030163</td>\n      <td>417.84</td>\n      <td>15</td>\n      <td>28.0</td>\n      <td>31.447596</td>\n      <td>[6, 5, 15, 9, 13, 3, 19, 9, 13, 11, 2, 16, 5, ...</td>\n    </tr>\n    <tr>\n      <th>2</th>\n      <td>01640c_BC1-Thermo_SRM_Pool_3_01_01-DDA-1h-R2</td>\n      <td>24831</td>\n      <td>VEEEEEINSELTAR</td>\n      <td>2</td>\n      <td>20663460.0</td>\n      <td>824.38904</td>\n      <td>824.388401</td>\n      <td>CID</td>\n      <td>ITMS</td>\n      <td>29.737</td>\n      <td>40.325817</td>\n      <td>365.69</td>\n      <td>14</td>\n      <td>35.0</td>\n      <td>35.000000</td>\n      <td>[17, 3, 3, 3, 3, 3, 7, 11, 15, 3, 9, 16, 0, 14]</td>\n    </tr>\n    <tr>\n      <th>3</th>\n      <td>01640c_BC1-Thermo_SRM_Pool_3_01_01-DDA-1h-R2</td>\n      <td>34870</td>\n      <td>LPGSLETYVEQEQGENANDR</td>\n      <td>2</td>\n      <td>19884630.0</td>\n      <td>1125.01950</td>\n      <td>1125.018831</td>\n      <td>CID</td>\n      <td>ITMS</td>\n      <td>38.539</td>\n      <td>63.159386</td>\n      <td>365.02</td>\n      <td>20</td>\n      <td>35.0</td>\n      <td>35.000000</td>\n      <td>[9, 12, 5, 15, 9, 3, 16, 19, 17, 3, 13, 3, 13,...</td>\n    </tr>\n    <tr>\n      <th>4</th>\n      <td>01640c_BC1-Thermo_SRM_Pool_3_01_01-DDA-1h-R2</td>\n      <td>33125</td>\n      <td>NSSTAEINETTTSSTDFLAR</td>\n      <td>2</td>\n      <td>12804420.0</td>\n      <td>1073.00070</td>\n      <td>1072.999855</td>\n      <td>CID</td>\n      <td>ITMS</td>\n      <td>36.990</td>\n      <td>59.141072</td>\n      <td>356.50</td>\n      <td>20</td>\n      <td>35.0</td>\n      <td>35.000000</td>\n      <td>[11, 15, 15, 16, 0, 3, 7, 11, 3, 16, 16, 16, 1...</td>\n    </tr>\n    <tr>\n      <th>...</th>\n      <td>...</td>\n      <td>...</td>\n      <td>...</td>\n      <td>...</td>\n      <td>...</td>\n      <td>...</td>\n      <td>...</td>\n      <td>...</td>\n      <td>...</td>\n      <td>...</td>\n      <td>...</td>\n      <td>...</td>\n      <td>...</td>\n      <td>...</td>\n      <td>...</td>\n      <td>...</td>\n    </tr>\n    <tr>\n      <th>6080594</th>\n      <td>01640c_BC7-Thermo_SRM_Pool_51_01_01-3xHCD-1h-R2</td>\n      <td>36450</td>\n      <td>HGIGSLLLESLK</td>\n      <td>3</td>\n      <td>NaN</td>\n      <td>422.91872</td>\n      <td>422.918197</td>\n      <td>HCD</td>\n      <td>FTMS</td>\n      <td>43.933</td>\n      <td>80.280972</td>\n      <td>0.00</td>\n      <td>12</td>\n      <td>30.0</td>\n      <td>31.314648</td>\n      <td>[6, 5, 7, 5, 15, 9, 9, 9, 3, 15, 9, 8]</td>\n    </tr>\n    <tr>\n      <th>6080599</th>\n      <td>01640c_BC7-Thermo_SRM_Pool_51_01_01-3xHCD-1h-R2</td>\n      <td>23590</td>\n      <td>ALEAENSALALENENQR</td>\n      <td>2</td>\n      <td>NaN</td>\n      <td>936.45832</td>\n      <td>936.458702</td>\n      <td>HCD</td>\n      <td>FTMS</td>\n      <td>32.472</td>\n      <td>50.682432</td>\n      <td>0.00</td>\n      <td>17</td>\n      <td>35.0</td>\n      <td>36.314648</td>\n      <td>[0, 9, 3, 0, 3, 11, 15, 0, 9, 0, 9, 3, 11, 3, ...</td>\n    </tr>\n    <tr>\n      <th>6080600</th>\n      <td>01640c_BC7-Thermo_SRM_Pool_51_01_01-3xHCD-1h-R2</td>\n      <td>23589</td>\n      <td>ALEAENSALALENENQR</td>\n      <td>2</td>\n      <td>NaN</td>\n      <td>936.45832</td>\n      <td>936.458702</td>\n      <td>HCD</td>\n      <td>FTMS</td>\n      <td>32.472</td>\n      <td>50.682432</td>\n      <td>0.00</td>\n      <td>17</td>\n      <td>30.0</td>\n      <td>31.314648</td>\n      <td>[0, 9, 3, 0, 3, 11, 15, 0, 9, 0, 9, 3, 11, 3, ...</td>\n    </tr>\n    <tr>\n      <th>6080603</th>\n      <td>01640c_BC7-Thermo_SRM_Pool_51_01_01-3xHCD-1h-R2</td>\n      <td>45095</td>\n      <td>EMENFVQSSGEDGIVVFSLGSLFQNVTEEK</td>\n      <td>3</td>\n      <td>114742.8</td>\n      <td>1107.19400</td>\n      <td>1106.862187</td>\n      <td>HCD</td>\n      <td>FTMS</td>\n      <td>52.253</td>\n      <td>101.767741</td>\n      <td>0.00</td>\n      <td>30</td>\n      <td>25.0</td>\n      <td>26.314648</td>\n      <td>[3, 10, 3, 11, 4, 17, 13, 15, 15, 5, 3, 2, 5, ...</td>\n    </tr>\n    <tr>\n      <th>6080604</th>\n      <td>01640c_BC7-Thermo_SRM_Pool_51_01_01-3xHCD-1h-R2</td>\n      <td>45096</td>\n      <td>EMENFVQSSGEDGIVVFSLGSLFQNVTEEK</td>\n      <td>3</td>\n      <td>114742.8</td>\n      <td>1107.19400</td>\n      <td>1106.862187</td>\n      <td>HCD</td>\n      <td>FTMS</td>\n      <td>52.254</td>\n      <td>101.770323</td>\n      <td>0.00</td>\n      <td>30</td>\n      <td>30.0</td>\n      <td>31.314648</td>\n      <td>[3, 10, 3, 11, 4, 17, 13, 15, 15, 5, 3, 2, 5, ...</td>\n    </tr>\n  </tbody>\n</table>\n<p>4761432 rows × 16 columns</p>\n</div>"
     },
     "execution_count": 14,
     "metadata": {},
     "output_type": "execute_result"
    }
   ],
   "source": [
    "df_filtered"
   ],
   "metadata": {
    "collapsed": false,
    "ExecuteTime": {
     "end_time": "2023-07-03T15:36:25.341789900Z",
     "start_time": "2023-07-03T15:36:25.321586800Z"
    }
   }
  },
  {
   "cell_type": "markdown",
   "source": [
    "amount of [UNIMOD: -sequences"
   ],
   "metadata": {
    "collapsed": false
   }
  },
  {
   "cell_type": "code",
   "execution_count": 17,
   "outputs": [
    {
     "name": "stdout",
     "output_type": "stream",
     "text": [
      "1319174\n"
     ]
    }
   ],
   "source": [
    "print(len(df)-len(df_filtered))"
   ],
   "metadata": {
    "collapsed": false,
    "ExecuteTime": {
     "end_time": "2023-07-03T15:37:03.927267Z",
     "start_time": "2023-07-03T15:37:03.912044700Z"
    }
   }
  },
  {
   "cell_type": "code",
   "execution_count": 5,
   "outputs": [],
   "source": [
    "# Convert protein sequences to numerical representation\n",
    "amino_acids = list('ACDEFGHIKLMNPQRSTVWY')  # List of amino acids\n",
    "\n",
    "def sequence_to_vector(sequence):\n",
    "    vector = []\n",
    "    for amino_acid in sequence:\n",
    "        if amino_acid in amino_acids:\n",
    "            vector.append(amino_acids.index(amino_acid))\n",
    "        else:\n",
    "            vector.append(len(amino_acids))  # Handle unknown amino acids\n",
    "    return vector\n",
    "\n",
    "df['sequence_vector'] = df['modified_sequence'].apply(sequence_to_vector)"
   ],
   "metadata": {
    "collapsed": false,
    "ExecuteTime": {
     "end_time": "2023-07-03T15:31:40.559477500Z",
     "start_time": "2023-07-03T15:31:08.470843600Z"
    }
   }
  },
  {
   "cell_type": "code",
   "execution_count": 6,
   "outputs": [
    {
     "data": {
      "text/plain": "                                                raw_file  scan_number  \\\n0           01640c_BC1-Thermo_SRM_Pool_3_01_01-DDA-1h-R2        34736   \n1           01640c_BC1-Thermo_SRM_Pool_3_01_01-DDA-1h-R2        25591   \n2           01640c_BC1-Thermo_SRM_Pool_3_01_01-DDA-1h-R2        24831   \n3           01640c_BC1-Thermo_SRM_Pool_3_01_01-DDA-1h-R2        34870   \n4           01640c_BC1-Thermo_SRM_Pool_3_01_01-DDA-1h-R2        33125   \n...                                                  ...          ...   \n6080601  01640c_BC7-Thermo_SRM_Pool_51_01_01-3xHCD-1h-R2        48700   \n6080602  01640c_BC7-Thermo_SRM_Pool_51_01_01-3xHCD-1h-R2        48699   \n6080603  01640c_BC7-Thermo_SRM_Pool_51_01_01-3xHCD-1h-R2        45095   \n6080604  01640c_BC7-Thermo_SRM_Pool_51_01_01-3xHCD-1h-R2        45096   \n6080605  01640c_BC7-Thermo_SRM_Pool_51_01_01-3xHCD-1h-R2        48744   \n\n                              modified_sequence  precursor_charge  \\\n0                          LPGSLETYVEQEQGENANDR                 2   \n1                               HGSLQEYLQNDTGSK                 2   \n2                                VEEEEEINSELTAR                 2   \n3                          LPGSLETYVEQEQGENANDR                 2   \n4                          NSSTAEINETTTSSTDFLAR                 2   \n...                                         ...               ...   \n6080601  YSQLFC[UNIMOD:4]GLPSLHSESLVATFMGSQGLPK                 3   \n6080602  YSQLFC[UNIMOD:4]GLPSLHSESLVATFMGSQGLPK                 3   \n6080603          EMENFVQSSGEDGIVVFSLGSLFQNVTEEK                 3   \n6080604          EMENFVQSSGEDGIVVFSLGSLFQNVTEEK                 3   \n6080605  YSQLFC[UNIMOD:4]GLPSLHSESLVATFMGSQGLPK                 3   \n\n         precursor_intensity          mz  precursor_mz fragmentation  \\\n0                 29525630.0  1125.01950   1125.018331           CID   \n1                 13188580.0   838.89737    838.894401           HCD   \n2                 20663460.0   824.38904    824.388401           CID   \n3                 19884630.0  1125.01950   1125.018831           CID   \n4                 12804420.0  1073.00070   1072.999855           CID   \n...                      ...         ...           ...           ...   \n6080601             573697.7  1018.84030   1018.840102           HCD   \n6080602             573697.7  1018.84030   1018.840102           HCD   \n6080603             114742.8  1107.19400   1106.862187           HCD   \n6080604             114742.8  1107.19400   1106.862187           HCD   \n6080605             202114.2  1018.84030   1019.509063           HCD   \n\n        mass_analyzer  retention_time  indexed_retention_time  \\\n0                ITMS          38.411               62.827337   \n1                FTMS          30.394               42.030163   \n2                ITMS          29.737               40.325817   \n3                ITMS          38.539               63.159386   \n4                ITMS          36.990               59.141072   \n...               ...             ...                     ...   \n6080601          FTMS          56.168              111.878402   \n6080602          FTMS          56.168              111.878402   \n6080603          FTMS          52.253              101.767741   \n6080604          FTMS          52.254              101.770323   \n6080605          FTMS          56.214              111.997199   \n\n         andromeda_score  peptide_length  orig_collision_energy  \\\n0                 447.14              20                   35.0   \n1                 417.84              15                   28.0   \n2                 365.69              14                   35.0   \n3                 365.02              20                   35.0   \n4                 356.50              20                   35.0   \n...                  ...             ...                    ...   \n6080601             0.00              28                   35.0   \n6080602             0.00              28                   30.0   \n6080603             0.00              30                   25.0   \n6080604             0.00              30                   30.0   \n6080605             0.00              28                   35.0   \n\n         aligned_collision_energy  \\\n0                       35.000000   \n1                       31.447596   \n2                       35.000000   \n3                       35.000000   \n4                       35.000000   \n...                           ...   \n6080601                 36.314648   \n6080602                 31.314648   \n6080603                 26.314648   \n6080604                 31.314648   \n6080605                 36.314648   \n\n                                           sequence_vector  \n0        [9, 12, 5, 15, 9, 3, 16, 19, 17, 3, 13, 3, 13,...  \n1        [6, 5, 15, 9, 13, 3, 19, 9, 13, 11, 2, 16, 5, ...  \n2          [17, 3, 3, 3, 3, 3, 7, 11, 15, 3, 9, 16, 0, 14]  \n3        [9, 12, 5, 15, 9, 3, 16, 19, 17, 3, 13, 3, 13,...  \n4        [11, 15, 15, 16, 0, 3, 7, 11, 3, 16, 16, 16, 1...  \n...                                                    ...  \n6080601  [19, 15, 13, 9, 4, 1, 20, 20, 11, 7, 10, 20, 2...  \n6080602  [19, 15, 13, 9, 4, 1, 20, 20, 11, 7, 10, 20, 2...  \n6080603  [3, 10, 3, 11, 4, 17, 13, 15, 15, 5, 3, 2, 5, ...  \n6080604  [3, 10, 3, 11, 4, 17, 13, 15, 15, 5, 3, 2, 5, ...  \n6080605  [19, 15, 13, 9, 4, 1, 20, 20, 11, 7, 10, 20, 2...  \n\n[6080606 rows x 16 columns]",
      "text/html": "<div>\n<style scoped>\n    .dataframe tbody tr th:only-of-type {\n        vertical-align: middle;\n    }\n\n    .dataframe tbody tr th {\n        vertical-align: top;\n    }\n\n    .dataframe thead th {\n        text-align: right;\n    }\n</style>\n<table border=\"1\" class=\"dataframe\">\n  <thead>\n    <tr style=\"text-align: right;\">\n      <th></th>\n      <th>raw_file</th>\n      <th>scan_number</th>\n      <th>modified_sequence</th>\n      <th>precursor_charge</th>\n      <th>precursor_intensity</th>\n      <th>mz</th>\n      <th>precursor_mz</th>\n      <th>fragmentation</th>\n      <th>mass_analyzer</th>\n      <th>retention_time</th>\n      <th>indexed_retention_time</th>\n      <th>andromeda_score</th>\n      <th>peptide_length</th>\n      <th>orig_collision_energy</th>\n      <th>aligned_collision_energy</th>\n      <th>sequence_vector</th>\n    </tr>\n  </thead>\n  <tbody>\n    <tr>\n      <th>0</th>\n      <td>01640c_BC1-Thermo_SRM_Pool_3_01_01-DDA-1h-R2</td>\n      <td>34736</td>\n      <td>LPGSLETYVEQEQGENANDR</td>\n      <td>2</td>\n      <td>29525630.0</td>\n      <td>1125.01950</td>\n      <td>1125.018331</td>\n      <td>CID</td>\n      <td>ITMS</td>\n      <td>38.411</td>\n      <td>62.827337</td>\n      <td>447.14</td>\n      <td>20</td>\n      <td>35.0</td>\n      <td>35.000000</td>\n      <td>[9, 12, 5, 15, 9, 3, 16, 19, 17, 3, 13, 3, 13,...</td>\n    </tr>\n    <tr>\n      <th>1</th>\n      <td>01640c_BC1-Thermo_SRM_Pool_3_01_01-DDA-1h-R2</td>\n      <td>25591</td>\n      <td>HGSLQEYLQNDTGSK</td>\n      <td>2</td>\n      <td>13188580.0</td>\n      <td>838.89737</td>\n      <td>838.894401</td>\n      <td>HCD</td>\n      <td>FTMS</td>\n      <td>30.394</td>\n      <td>42.030163</td>\n      <td>417.84</td>\n      <td>15</td>\n      <td>28.0</td>\n      <td>31.447596</td>\n      <td>[6, 5, 15, 9, 13, 3, 19, 9, 13, 11, 2, 16, 5, ...</td>\n    </tr>\n    <tr>\n      <th>2</th>\n      <td>01640c_BC1-Thermo_SRM_Pool_3_01_01-DDA-1h-R2</td>\n      <td>24831</td>\n      <td>VEEEEEINSELTAR</td>\n      <td>2</td>\n      <td>20663460.0</td>\n      <td>824.38904</td>\n      <td>824.388401</td>\n      <td>CID</td>\n      <td>ITMS</td>\n      <td>29.737</td>\n      <td>40.325817</td>\n      <td>365.69</td>\n      <td>14</td>\n      <td>35.0</td>\n      <td>35.000000</td>\n      <td>[17, 3, 3, 3, 3, 3, 7, 11, 15, 3, 9, 16, 0, 14]</td>\n    </tr>\n    <tr>\n      <th>3</th>\n      <td>01640c_BC1-Thermo_SRM_Pool_3_01_01-DDA-1h-R2</td>\n      <td>34870</td>\n      <td>LPGSLETYVEQEQGENANDR</td>\n      <td>2</td>\n      <td>19884630.0</td>\n      <td>1125.01950</td>\n      <td>1125.018831</td>\n      <td>CID</td>\n      <td>ITMS</td>\n      <td>38.539</td>\n      <td>63.159386</td>\n      <td>365.02</td>\n      <td>20</td>\n      <td>35.0</td>\n      <td>35.000000</td>\n      <td>[9, 12, 5, 15, 9, 3, 16, 19, 17, 3, 13, 3, 13,...</td>\n    </tr>\n    <tr>\n      <th>4</th>\n      <td>01640c_BC1-Thermo_SRM_Pool_3_01_01-DDA-1h-R2</td>\n      <td>33125</td>\n      <td>NSSTAEINETTTSSTDFLAR</td>\n      <td>2</td>\n      <td>12804420.0</td>\n      <td>1073.00070</td>\n      <td>1072.999855</td>\n      <td>CID</td>\n      <td>ITMS</td>\n      <td>36.990</td>\n      <td>59.141072</td>\n      <td>356.50</td>\n      <td>20</td>\n      <td>35.0</td>\n      <td>35.000000</td>\n      <td>[11, 15, 15, 16, 0, 3, 7, 11, 3, 16, 16, 16, 1...</td>\n    </tr>\n    <tr>\n      <th>...</th>\n      <td>...</td>\n      <td>...</td>\n      <td>...</td>\n      <td>...</td>\n      <td>...</td>\n      <td>...</td>\n      <td>...</td>\n      <td>...</td>\n      <td>...</td>\n      <td>...</td>\n      <td>...</td>\n      <td>...</td>\n      <td>...</td>\n      <td>...</td>\n      <td>...</td>\n      <td>...</td>\n    </tr>\n    <tr>\n      <th>6080601</th>\n      <td>01640c_BC7-Thermo_SRM_Pool_51_01_01-3xHCD-1h-R2</td>\n      <td>48700</td>\n      <td>YSQLFC[UNIMOD:4]GLPSLHSESLVATFMGSQGLPK</td>\n      <td>3</td>\n      <td>573697.7</td>\n      <td>1018.84030</td>\n      <td>1018.840102</td>\n      <td>HCD</td>\n      <td>FTMS</td>\n      <td>56.168</td>\n      <td>111.878402</td>\n      <td>0.00</td>\n      <td>28</td>\n      <td>35.0</td>\n      <td>36.314648</td>\n      <td>[19, 15, 13, 9, 4, 1, 20, 20, 11, 7, 10, 20, 2...</td>\n    </tr>\n    <tr>\n      <th>6080602</th>\n      <td>01640c_BC7-Thermo_SRM_Pool_51_01_01-3xHCD-1h-R2</td>\n      <td>48699</td>\n      <td>YSQLFC[UNIMOD:4]GLPSLHSESLVATFMGSQGLPK</td>\n      <td>3</td>\n      <td>573697.7</td>\n      <td>1018.84030</td>\n      <td>1018.840102</td>\n      <td>HCD</td>\n      <td>FTMS</td>\n      <td>56.168</td>\n      <td>111.878402</td>\n      <td>0.00</td>\n      <td>28</td>\n      <td>30.0</td>\n      <td>31.314648</td>\n      <td>[19, 15, 13, 9, 4, 1, 20, 20, 11, 7, 10, 20, 2...</td>\n    </tr>\n    <tr>\n      <th>6080603</th>\n      <td>01640c_BC7-Thermo_SRM_Pool_51_01_01-3xHCD-1h-R2</td>\n      <td>45095</td>\n      <td>EMENFVQSSGEDGIVVFSLGSLFQNVTEEK</td>\n      <td>3</td>\n      <td>114742.8</td>\n      <td>1107.19400</td>\n      <td>1106.862187</td>\n      <td>HCD</td>\n      <td>FTMS</td>\n      <td>52.253</td>\n      <td>101.767741</td>\n      <td>0.00</td>\n      <td>30</td>\n      <td>25.0</td>\n      <td>26.314648</td>\n      <td>[3, 10, 3, 11, 4, 17, 13, 15, 15, 5, 3, 2, 5, ...</td>\n    </tr>\n    <tr>\n      <th>6080604</th>\n      <td>01640c_BC7-Thermo_SRM_Pool_51_01_01-3xHCD-1h-R2</td>\n      <td>45096</td>\n      <td>EMENFVQSSGEDGIVVFSLGSLFQNVTEEK</td>\n      <td>3</td>\n      <td>114742.8</td>\n      <td>1107.19400</td>\n      <td>1106.862187</td>\n      <td>HCD</td>\n      <td>FTMS</td>\n      <td>52.254</td>\n      <td>101.770323</td>\n      <td>0.00</td>\n      <td>30</td>\n      <td>30.0</td>\n      <td>31.314648</td>\n      <td>[3, 10, 3, 11, 4, 17, 13, 15, 15, 5, 3, 2, 5, ...</td>\n    </tr>\n    <tr>\n      <th>6080605</th>\n      <td>01640c_BC7-Thermo_SRM_Pool_51_01_01-3xHCD-1h-R2</td>\n      <td>48744</td>\n      <td>YSQLFC[UNIMOD:4]GLPSLHSESLVATFMGSQGLPK</td>\n      <td>3</td>\n      <td>202114.2</td>\n      <td>1018.84030</td>\n      <td>1019.509063</td>\n      <td>HCD</td>\n      <td>FTMS</td>\n      <td>56.214</td>\n      <td>111.997199</td>\n      <td>0.00</td>\n      <td>28</td>\n      <td>35.0</td>\n      <td>36.314648</td>\n      <td>[19, 15, 13, 9, 4, 1, 20, 20, 11, 7, 10, 20, 2...</td>\n    </tr>\n  </tbody>\n</table>\n<p>6080606 rows × 16 columns</p>\n</div>"
     },
     "execution_count": 6,
     "metadata": {},
     "output_type": "execute_result"
    }
   ],
   "source": [
    "df"
   ],
   "metadata": {
    "collapsed": false,
    "ExecuteTime": {
     "end_time": "2023-07-03T15:33:25.840254700Z",
     "start_time": "2023-07-03T15:33:25.822215Z"
    }
   }
  },
  {
   "cell_type": "markdown",
   "source": [
    "### Pad sequence_vectors to the max sequence length"
   ],
   "metadata": {
    "collapsed": false
   }
  },
  {
   "cell_type": "code",
   "execution_count": 30,
   "outputs": [],
   "source": [
    "def pad_sequences(dataframe, column_name):\n",
    "    max_length = max(dataframe.loc[:, column_name].apply(len))  # Find the maximum length\n",
    "    dataframe.loc[:, column_name] = dataframe.loc[:, column_name].apply(lambda x: np.pad(x, (0, max_length - len(x)), 'constant'))  # Pad the sequences\n",
    "    return dataframe"
   ],
   "metadata": {
    "collapsed": false,
    "ExecuteTime": {
     "end_time": "2023-07-03T17:25:51.492573800Z",
     "start_time": "2023-07-03T17:25:51.478552900Z"
    }
   }
  },
  {
   "cell_type": "code",
   "execution_count": 31,
   "outputs": [
    {
     "name": "stderr",
     "output_type": "stream",
     "text": [
      "C:\\Users\\Florian\\AppData\\Local\\Temp\\ipykernel_19184\\3823474037.py:3: SettingWithCopyWarning: \n",
      "A value is trying to be set on a copy of a slice from a DataFrame.\n",
      "Try using .loc[row_indexer,col_indexer] = value instead\n",
      "\n",
      "See the caveats in the documentation: https://pandas.pydata.org/pandas-docs/stable/user_guide/indexing.html#returning-a-view-versus-a-copy\n",
      "  dataframe.loc[:, column_name] = dataframe.loc[:, column_name].apply(lambda x: np.pad(x, (0, max_length - len(x)), 'constant'))  # Pad the sequences\n"
     ]
    }
   ],
   "source": [
    "df_filtered_padded = pad_sequences(df_filtered, 'sequence_vector')"
   ],
   "metadata": {
    "collapsed": false,
    "ExecuteTime": {
     "end_time": "2023-07-03T17:27:02.747217500Z",
     "start_time": "2023-07-03T17:25:51.896807100Z"
    }
   }
  },
  {
   "cell_type": "code",
   "execution_count": 32,
   "outputs": [
    {
     "data": {
      "text/plain": "                                                raw_file  scan_number  \\\n0           01640c_BC1-Thermo_SRM_Pool_3_01_01-DDA-1h-R2        34736   \n1           01640c_BC1-Thermo_SRM_Pool_3_01_01-DDA-1h-R2        25591   \n2           01640c_BC1-Thermo_SRM_Pool_3_01_01-DDA-1h-R2        24831   \n3           01640c_BC1-Thermo_SRM_Pool_3_01_01-DDA-1h-R2        34870   \n4           01640c_BC1-Thermo_SRM_Pool_3_01_01-DDA-1h-R2        33125   \n...                                                  ...          ...   \n6080594  01640c_BC7-Thermo_SRM_Pool_51_01_01-3xHCD-1h-R2        36450   \n6080599  01640c_BC7-Thermo_SRM_Pool_51_01_01-3xHCD-1h-R2        23590   \n6080600  01640c_BC7-Thermo_SRM_Pool_51_01_01-3xHCD-1h-R2        23589   \n6080603  01640c_BC7-Thermo_SRM_Pool_51_01_01-3xHCD-1h-R2        45095   \n6080604  01640c_BC7-Thermo_SRM_Pool_51_01_01-3xHCD-1h-R2        45096   \n\n                      modified_sequence  precursor_charge  \\\n0                  LPGSLETYVEQEQGENANDR                 2   \n1                       HGSLQEYLQNDTGSK                 2   \n2                        VEEEEEINSELTAR                 2   \n3                  LPGSLETYVEQEQGENANDR                 2   \n4                  NSSTAEINETTTSSTDFLAR                 2   \n...                                 ...               ...   \n6080594                    HGIGSLLLESLK                 3   \n6080599               ALEAENSALALENENQR                 2   \n6080600               ALEAENSALALENENQR                 2   \n6080603  EMENFVQSSGEDGIVVFSLGSLFQNVTEEK                 3   \n6080604  EMENFVQSSGEDGIVVFSLGSLFQNVTEEK                 3   \n\n         precursor_intensity          mz  precursor_mz fragmentation  \\\n0                 29525630.0  1125.01950   1125.018331           CID   \n1                 13188580.0   838.89737    838.894401           HCD   \n2                 20663460.0   824.38904    824.388401           CID   \n3                 19884630.0  1125.01950   1125.018831           CID   \n4                 12804420.0  1073.00070   1072.999855           CID   \n...                      ...         ...           ...           ...   \n6080594                  NaN   422.91872    422.918197           HCD   \n6080599                  NaN   936.45832    936.458702           HCD   \n6080600                  NaN   936.45832    936.458702           HCD   \n6080603             114742.8  1107.19400   1106.862187           HCD   \n6080604             114742.8  1107.19400   1106.862187           HCD   \n\n        mass_analyzer  retention_time  indexed_retention_time  \\\n0                ITMS          38.411               62.827337   \n1                FTMS          30.394               42.030163   \n2                ITMS          29.737               40.325817   \n3                ITMS          38.539               63.159386   \n4                ITMS          36.990               59.141072   \n...               ...             ...                     ...   \n6080594          FTMS          43.933               80.280972   \n6080599          FTMS          32.472               50.682432   \n6080600          FTMS          32.472               50.682432   \n6080603          FTMS          52.253              101.767741   \n6080604          FTMS          52.254              101.770323   \n\n         andromeda_score  peptide_length  orig_collision_energy  \\\n0                 447.14              20                   35.0   \n1                 417.84              15                   28.0   \n2                 365.69              14                   35.0   \n3                 365.02              20                   35.0   \n4                 356.50              20                   35.0   \n...                  ...             ...                    ...   \n6080594             0.00              12                   30.0   \n6080599             0.00              17                   35.0   \n6080600             0.00              17                   30.0   \n6080603             0.00              30                   25.0   \n6080604             0.00              30                   30.0   \n\n         aligned_collision_energy  \\\n0                       35.000000   \n1                       31.447596   \n2                       35.000000   \n3                       35.000000   \n4                       35.000000   \n...                           ...   \n6080594                 31.314648   \n6080599                 36.314648   \n6080600                 31.314648   \n6080603                 26.314648   \n6080604                 31.314648   \n\n                                           sequence_vector  \n0        [0, 0, 0, 0, 0, 0, 0, 0, 0, 0, 0, 0, 0, 0, 0, ...  \n1        [0, 0, 0, 0, 0, 0, 0, 0, 0, 0, 0, 0, 0, 0, 0, ...  \n2        [0, 0, 0, 0, 0, 0, 0, 0, 0, 0, 0, 0, 0, 0, 0, ...  \n3        [0, 0, 0, 0, 0, 0, 0, 0, 0, 0, 0, 0, 0, 0, 0, ...  \n4        [0, 0, 0, 0, 0, 0, 0, 0, 0, 0, 0, 0, 0, 0, 0, ...  \n...                                                    ...  \n6080594  [0, 0, 0, 0, 0, 0, 0, 0, 0, 0, 0, 0, 0, 0, 0, ...  \n6080599  [0, 0, 0, 0, 0, 0, 0, 0, 0, 0, 0, 0, 0, 0, 0, ...  \n6080600  [0, 0, 0, 0, 0, 0, 0, 0, 0, 0, 0, 0, 0, 0, 0, ...  \n6080603  [0, 0, 0, 0, 0, 0, 0, 0, 0, 0, 0, 0, 0, 0, 0, ...  \n6080604  [0, 0, 0, 0, 0, 0, 0, 0, 0, 0, 0, 0, 0, 0, 0, ...  \n\n[4761432 rows x 16 columns]",
      "text/html": "<div>\n<style scoped>\n    .dataframe tbody tr th:only-of-type {\n        vertical-align: middle;\n    }\n\n    .dataframe tbody tr th {\n        vertical-align: top;\n    }\n\n    .dataframe thead th {\n        text-align: right;\n    }\n</style>\n<table border=\"1\" class=\"dataframe\">\n  <thead>\n    <tr style=\"text-align: right;\">\n      <th></th>\n      <th>raw_file</th>\n      <th>scan_number</th>\n      <th>modified_sequence</th>\n      <th>precursor_charge</th>\n      <th>precursor_intensity</th>\n      <th>mz</th>\n      <th>precursor_mz</th>\n      <th>fragmentation</th>\n      <th>mass_analyzer</th>\n      <th>retention_time</th>\n      <th>indexed_retention_time</th>\n      <th>andromeda_score</th>\n      <th>peptide_length</th>\n      <th>orig_collision_energy</th>\n      <th>aligned_collision_energy</th>\n      <th>sequence_vector</th>\n    </tr>\n  </thead>\n  <tbody>\n    <tr>\n      <th>0</th>\n      <td>01640c_BC1-Thermo_SRM_Pool_3_01_01-DDA-1h-R2</td>\n      <td>34736</td>\n      <td>LPGSLETYVEQEQGENANDR</td>\n      <td>2</td>\n      <td>29525630.0</td>\n      <td>1125.01950</td>\n      <td>1125.018331</td>\n      <td>CID</td>\n      <td>ITMS</td>\n      <td>38.411</td>\n      <td>62.827337</td>\n      <td>447.14</td>\n      <td>20</td>\n      <td>35.0</td>\n      <td>35.000000</td>\n      <td>[0, 0, 0, 0, 0, 0, 0, 0, 0, 0, 0, 0, 0, 0, 0, ...</td>\n    </tr>\n    <tr>\n      <th>1</th>\n      <td>01640c_BC1-Thermo_SRM_Pool_3_01_01-DDA-1h-R2</td>\n      <td>25591</td>\n      <td>HGSLQEYLQNDTGSK</td>\n      <td>2</td>\n      <td>13188580.0</td>\n      <td>838.89737</td>\n      <td>838.894401</td>\n      <td>HCD</td>\n      <td>FTMS</td>\n      <td>30.394</td>\n      <td>42.030163</td>\n      <td>417.84</td>\n      <td>15</td>\n      <td>28.0</td>\n      <td>31.447596</td>\n      <td>[0, 0, 0, 0, 0, 0, 0, 0, 0, 0, 0, 0, 0, 0, 0, ...</td>\n    </tr>\n    <tr>\n      <th>2</th>\n      <td>01640c_BC1-Thermo_SRM_Pool_3_01_01-DDA-1h-R2</td>\n      <td>24831</td>\n      <td>VEEEEEINSELTAR</td>\n      <td>2</td>\n      <td>20663460.0</td>\n      <td>824.38904</td>\n      <td>824.388401</td>\n      <td>CID</td>\n      <td>ITMS</td>\n      <td>29.737</td>\n      <td>40.325817</td>\n      <td>365.69</td>\n      <td>14</td>\n      <td>35.0</td>\n      <td>35.000000</td>\n      <td>[0, 0, 0, 0, 0, 0, 0, 0, 0, 0, 0, 0, 0, 0, 0, ...</td>\n    </tr>\n    <tr>\n      <th>3</th>\n      <td>01640c_BC1-Thermo_SRM_Pool_3_01_01-DDA-1h-R2</td>\n      <td>34870</td>\n      <td>LPGSLETYVEQEQGENANDR</td>\n      <td>2</td>\n      <td>19884630.0</td>\n      <td>1125.01950</td>\n      <td>1125.018831</td>\n      <td>CID</td>\n      <td>ITMS</td>\n      <td>38.539</td>\n      <td>63.159386</td>\n      <td>365.02</td>\n      <td>20</td>\n      <td>35.0</td>\n      <td>35.000000</td>\n      <td>[0, 0, 0, 0, 0, 0, 0, 0, 0, 0, 0, 0, 0, 0, 0, ...</td>\n    </tr>\n    <tr>\n      <th>4</th>\n      <td>01640c_BC1-Thermo_SRM_Pool_3_01_01-DDA-1h-R2</td>\n      <td>33125</td>\n      <td>NSSTAEINETTTSSTDFLAR</td>\n      <td>2</td>\n      <td>12804420.0</td>\n      <td>1073.00070</td>\n      <td>1072.999855</td>\n      <td>CID</td>\n      <td>ITMS</td>\n      <td>36.990</td>\n      <td>59.141072</td>\n      <td>356.50</td>\n      <td>20</td>\n      <td>35.0</td>\n      <td>35.000000</td>\n      <td>[0, 0, 0, 0, 0, 0, 0, 0, 0, 0, 0, 0, 0, 0, 0, ...</td>\n    </tr>\n    <tr>\n      <th>...</th>\n      <td>...</td>\n      <td>...</td>\n      <td>...</td>\n      <td>...</td>\n      <td>...</td>\n      <td>...</td>\n      <td>...</td>\n      <td>...</td>\n      <td>...</td>\n      <td>...</td>\n      <td>...</td>\n      <td>...</td>\n      <td>...</td>\n      <td>...</td>\n      <td>...</td>\n      <td>...</td>\n    </tr>\n    <tr>\n      <th>6080594</th>\n      <td>01640c_BC7-Thermo_SRM_Pool_51_01_01-3xHCD-1h-R2</td>\n      <td>36450</td>\n      <td>HGIGSLLLESLK</td>\n      <td>3</td>\n      <td>NaN</td>\n      <td>422.91872</td>\n      <td>422.918197</td>\n      <td>HCD</td>\n      <td>FTMS</td>\n      <td>43.933</td>\n      <td>80.280972</td>\n      <td>0.00</td>\n      <td>12</td>\n      <td>30.0</td>\n      <td>31.314648</td>\n      <td>[0, 0, 0, 0, 0, 0, 0, 0, 0, 0, 0, 0, 0, 0, 0, ...</td>\n    </tr>\n    <tr>\n      <th>6080599</th>\n      <td>01640c_BC7-Thermo_SRM_Pool_51_01_01-3xHCD-1h-R2</td>\n      <td>23590</td>\n      <td>ALEAENSALALENENQR</td>\n      <td>2</td>\n      <td>NaN</td>\n      <td>936.45832</td>\n      <td>936.458702</td>\n      <td>HCD</td>\n      <td>FTMS</td>\n      <td>32.472</td>\n      <td>50.682432</td>\n      <td>0.00</td>\n      <td>17</td>\n      <td>35.0</td>\n      <td>36.314648</td>\n      <td>[0, 0, 0, 0, 0, 0, 0, 0, 0, 0, 0, 0, 0, 0, 0, ...</td>\n    </tr>\n    <tr>\n      <th>6080600</th>\n      <td>01640c_BC7-Thermo_SRM_Pool_51_01_01-3xHCD-1h-R2</td>\n      <td>23589</td>\n      <td>ALEAENSALALENENQR</td>\n      <td>2</td>\n      <td>NaN</td>\n      <td>936.45832</td>\n      <td>936.458702</td>\n      <td>HCD</td>\n      <td>FTMS</td>\n      <td>32.472</td>\n      <td>50.682432</td>\n      <td>0.00</td>\n      <td>17</td>\n      <td>30.0</td>\n      <td>31.314648</td>\n      <td>[0, 0, 0, 0, 0, 0, 0, 0, 0, 0, 0, 0, 0, 0, 0, ...</td>\n    </tr>\n    <tr>\n      <th>6080603</th>\n      <td>01640c_BC7-Thermo_SRM_Pool_51_01_01-3xHCD-1h-R2</td>\n      <td>45095</td>\n      <td>EMENFVQSSGEDGIVVFSLGSLFQNVTEEK</td>\n      <td>3</td>\n      <td>114742.8</td>\n      <td>1107.19400</td>\n      <td>1106.862187</td>\n      <td>HCD</td>\n      <td>FTMS</td>\n      <td>52.253</td>\n      <td>101.767741</td>\n      <td>0.00</td>\n      <td>30</td>\n      <td>25.0</td>\n      <td>26.314648</td>\n      <td>[0, 0, 0, 0, 0, 0, 0, 0, 0, 0, 0, 0, 0, 0, 0, ...</td>\n    </tr>\n    <tr>\n      <th>6080604</th>\n      <td>01640c_BC7-Thermo_SRM_Pool_51_01_01-3xHCD-1h-R2</td>\n      <td>45096</td>\n      <td>EMENFVQSSGEDGIVVFSLGSLFQNVTEEK</td>\n      <td>3</td>\n      <td>114742.8</td>\n      <td>1107.19400</td>\n      <td>1106.862187</td>\n      <td>HCD</td>\n      <td>FTMS</td>\n      <td>52.254</td>\n      <td>101.770323</td>\n      <td>0.00</td>\n      <td>30</td>\n      <td>30.0</td>\n      <td>31.314648</td>\n      <td>[0, 0, 0, 0, 0, 0, 0, 0, 0, 0, 0, 0, 0, 0, 0, ...</td>\n    </tr>\n  </tbody>\n</table>\n<p>4761432 rows × 16 columns</p>\n</div>"
     },
     "execution_count": 32,
     "metadata": {},
     "output_type": "execute_result"
    }
   ],
   "source": [
    "df_filtered_padded"
   ],
   "metadata": {
    "collapsed": false,
    "ExecuteTime": {
     "end_time": "2023-07-03T17:27:02.772868Z",
     "start_time": "2023-07-03T17:27:02.748183Z"
    }
   }
  },
  {
   "cell_type": "markdown",
   "source": [
    "## One-Hot-Encoding Sequences"
   ],
   "metadata": {
    "collapsed": false
   }
  },
  {
   "cell_type": "code",
   "execution_count": null,
   "outputs": [],
   "source": [
    "from sklearn.preprocessing import OneHotEncoder"
   ],
   "metadata": {
    "collapsed": false
   }
  },
  {
   "cell_type": "code",
   "execution_count": null,
   "outputs": [],
   "source": [
    "# Extract the protein sequences\n",
    "sequences = df_filtered['modified_sequence'].tolist()\n",
    "\n",
    "# Create an instance of the OneHotEncoder\n",
    "encoder = OneHotEncoder(sparse=True, dtype=int)\n",
    "\n",
    "# Fit and transform the sequences\n",
    "encoded_sequences = encoder.fit_transform(np.array(sequences).reshape(-1, 1))\n",
    "\n",
    "# Convert the encoded sequences to a DataFrame\n",
    "encoded_df = pd.DataFrame.sparse.from_spmatrix(encoded_sequences, columns=encoder.categories_[0])\n",
    "\n",
    "# Concatenate the encoded sequences with the original dataframe\n",
    "df_encoded = pd.concat([df_filtered, encoded_df], axis=1)\n",
    "\n",
    "# Print the encoded dataframe\n",
    "print(df_encoded.head())"
   ],
   "metadata": {
    "collapsed": false
   }
  }
 ],
 "metadata": {
  "kernelspec": {
   "display_name": "Python 3",
   "language": "python",
   "name": "python3"
  },
  "language_info": {
   "codemirror_mode": {
    "name": "ipython",
    "version": 2
   },
   "file_extension": ".py",
   "mimetype": "text/x-python",
   "name": "python",
   "nbconvert_exporter": "python",
   "pygments_lexer": "ipython2",
   "version": "2.7.6"
  }
 },
 "nbformat": 4,
 "nbformat_minor": 0
}

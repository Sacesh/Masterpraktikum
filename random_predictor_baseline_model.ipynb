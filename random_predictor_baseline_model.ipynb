{
 "cells": [
  {
   "cell_type": "markdown",
   "source": [
    "# Playground to implement W&B as well as start hyperparameter-tuning"
   ],
   "metadata": {
    "collapsed": false
   }
  },
  {
   "cell_type": "markdown",
   "source": [
    "## Setup"
   ],
   "metadata": {
    "collapsed": false
   }
  },
  {
   "cell_type": "code",
   "execution_count": 1,
   "outputs": [],
   "source": [
    "#%pip install seaborn"
   ],
   "metadata": {
    "collapsed": false,
    "ExecuteTime": {
     "end_time": "2023-09-09T16:48:35.975189700Z",
     "start_time": "2023-09-09T16:48:35.632910700Z"
    }
   }
  },
  {
   "cell_type": "code",
   "execution_count": 2,
   "outputs": [],
   "source": [
    "import re\n",
    "import os\n",
    "import random\n",
    "import numpy as np\n",
    "import pandas as pd\n",
    "import tensorflow as tf\n",
    "import matplotlib.pyplot as plt\n",
    "from sklearn.model_selection import train_test_split\n",
    "from tensorflow.keras.callbacks import ModelCheckpoint\n",
    "from sklearn.utils import class_weight\n",
    "from sklearn.model_selection import StratifiedShuffleSplit\n",
    "from sklearn.metrics import confusion_matrix, classification_report\n",
    "import seaborn as sns\n",
    "import wandb\n",
    "from wandb.keras import WandbCallback\n",
    "import keras"
   ],
   "metadata": {
    "collapsed": false,
    "ExecuteTime": {
     "end_time": "2023-09-09T16:48:39.561380200Z",
     "start_time": "2023-09-09T16:48:35.636718200Z"
    }
   }
  },
  {
   "cell_type": "code",
   "execution_count": 3,
   "outputs": [],
   "source": [
    "train_datapath = [\"data/\"+file for file in os.listdir('data') if file.endswith(\".parquet\")][0]\n",
    "batch_size = 32"
   ],
   "metadata": {
    "collapsed": false,
    "ExecuteTime": {
     "end_time": "2023-09-09T16:48:39.570377700Z",
     "start_time": "2023-09-09T16:48:39.029456400Z"
    }
   }
  },
  {
   "cell_type": "markdown",
   "source": [
    "# Dataset batches + split"
   ],
   "metadata": {
    "collapsed": false
   }
  },
  {
   "cell_type": "code",
   "execution_count": 4,
   "outputs": [],
   "source": [
    "import re\n",
    "\n",
    "def one_hot_precursor(int_value, charges=[1,2,3,4,5,6]):\n",
    "    \"\"\"\n",
    "    One-hot encodes the precursor charge\n",
    "    :param df: dataframe\n",
    "    :param max_charge_included: int\n",
    "    :return: dataframe\n",
    "    \"\"\"\n",
    "    one_hot = [1 if x == int_value else 0 for x in charges]\n",
    "\n",
    "    return one_hot"
   ],
   "metadata": {
    "collapsed": false,
    "ExecuteTime": {
     "end_time": "2023-09-09T16:48:39.571378800Z",
     "start_time": "2023-09-09T16:48:39.034553100Z"
    }
   }
  },
  {
   "cell_type": "code",
   "execution_count": 5,
   "outputs": [
    {
     "name": "stdout",
     "output_type": "stream",
     "text": [
      "data/Thermo_SRM_Pool_meta_data.parquet\n"
     ]
    }
   ],
   "source": [
    "file_list = [\"data/\"+file for file in os.listdir('data') if file.endswith('.parquet')]\n",
    "print(file_list[0])"
   ],
   "metadata": {
    "collapsed": false,
    "ExecuteTime": {
     "end_time": "2023-09-09T16:48:39.571378800Z",
     "start_time": "2023-09-09T16:48:39.050279500Z"
    }
   }
  },
  {
   "cell_type": "markdown",
   "source": [
    "### import parquet files, drop all columns we dont need for training, one-hot encode precursor charge, translate sequence"
   ],
   "metadata": {
    "collapsed": false
   }
  },
  {
   "cell_type": "code",
   "execution_count": 6,
   "outputs": [],
   "source": [
    "batches_parquet = dict()\n",
    "counter = 0\n",
    "for file in file_list:\n",
    "    df = pd.read_parquet(file, engine='fastparquet')\n",
    "    # drop all columns we dont need for training\n",
    "    for column in df.columns:\n",
    "        if column not in [\"modified_sequence\",\"precursor_intensity\", \"precursor_charge\"]:\n",
    "            df.drop(column, axis=1, inplace=True)\n",
    "    charge_ranges = [1, 2, 3, 4, 5, 6] # TODO SET RANGES\n",
    "    df = df[df[\"precursor_charge\"].isin(charge_ranges)] # remove 7+ charge states // only take charge states 2,3,4\n",
    "    df = df.dropna(subset=['precursor_intensity']) # drop rows with no precursor intensity\n",
    "    batches_parquet[file] = df\n",
    "    counter += 1\n",
    "    #if counter > 1:\n",
    "    #    break # TODO REMOVE BREAK FOR FIRST FILE IN LIST"
   ],
   "metadata": {
    "collapsed": false,
    "ExecuteTime": {
     "end_time": "2023-09-09T16:49:21.523558300Z",
     "start_time": "2023-09-09T16:48:39.059971400Z"
    }
   }
  },
  {
   "cell_type": "code",
   "execution_count": 7,
   "outputs": [],
   "source": [
    "vocabulary = []\n",
    "vocabulary+=list('XACDEFGHIKLMNPQRSTVWY')\n",
    "max_len_seq = 0\n",
    "\n",
    "for df in batches_parquet.values():\n",
    "    if max_len_seq < df['modified_sequence'].str.len().max():\n",
    "        max_len_seq = df['modified_sequence'].str.len().max()\n",
    "    annotations = re.findall(r'(\\w\\[UNIMOD:\\d+\\])', ' '.join(df['modified_sequence']))\n",
    "    #annotations = re.findall(r'[A-Z]\\[[^\\]]*\\]|.', ' '.join(df['modified_sequence']))\n",
    "    for item in annotations:\n",
    "        if item not in vocabulary:\n",
    "                vocabulary.append(item)"
   ],
   "metadata": {
    "collapsed": false,
    "ExecuteTime": {
     "end_time": "2023-09-09T16:50:03.020316800Z",
     "start_time": "2023-09-09T16:49:21.523558300Z"
    }
   }
  },
  {
   "cell_type": "code",
   "execution_count": 8,
   "outputs": [
    {
     "name": "stdout",
     "output_type": "stream",
     "text": [
      "['X', 'A', 'C', 'D', 'E', 'F', 'G', 'H', 'I', 'K', 'L', 'M', 'N', 'P', 'Q', 'R', 'S', 'T', 'V', 'W', 'Y', 'C[UNIMOD:4]', 'M[UNIMOD:35]']\n"
     ]
    },
    {
     "data": {
      "text/plain": "23"
     },
     "execution_count": 8,
     "metadata": {},
     "output_type": "execute_result"
    }
   ],
   "source": [
    "print(vocabulary)\n",
    "voc_len = len(vocabulary)\n",
    "voc_len"
   ],
   "metadata": {
    "collapsed": false,
    "ExecuteTime": {
     "end_time": "2023-09-09T16:50:03.053649300Z",
     "start_time": "2023-09-09T16:50:03.021316400Z"
    }
   }
  },
  {
   "cell_type": "code",
   "execution_count": 9,
   "outputs": [],
   "source": [
    "num_classes = len(charge_ranges)\n",
    "class_names = charge_ranges"
   ],
   "metadata": {
    "collapsed": false,
    "ExecuteTime": {
     "end_time": "2023-09-09T16:50:03.074271800Z",
     "start_time": "2023-09-09T16:50:03.029587800Z"
    }
   }
  },
  {
   "cell_type": "code",
   "execution_count": 10,
   "outputs": [
    {
     "data": {
      "text/plain": "      modified_sequence  precursor_charge  precursor_intensity\n0  LPGSLETYVEQEQGENANDR                 2           29525630.0\n1       HGSLQEYLQNDTGSK                 2           13188580.0\n2        VEEEEEINSELTAR                 2           20663460.0\n3  LPGSLETYVEQEQGENANDR                 2           19884630.0\n4  NSSTAEINETTTSSTDFLAR                 2           12804420.0",
      "text/html": "<div>\n<style scoped>\n    .dataframe tbody tr th:only-of-type {\n        vertical-align: middle;\n    }\n\n    .dataframe tbody tr th {\n        vertical-align: top;\n    }\n\n    .dataframe thead th {\n        text-align: right;\n    }\n</style>\n<table border=\"1\" class=\"dataframe\">\n  <thead>\n    <tr style=\"text-align: right;\">\n      <th></th>\n      <th>modified_sequence</th>\n      <th>precursor_charge</th>\n      <th>precursor_intensity</th>\n    </tr>\n  </thead>\n  <tbody>\n    <tr>\n      <th>0</th>\n      <td>LPGSLETYVEQEQGENANDR</td>\n      <td>2</td>\n      <td>29525630.0</td>\n    </tr>\n    <tr>\n      <th>1</th>\n      <td>HGSLQEYLQNDTGSK</td>\n      <td>2</td>\n      <td>13188580.0</td>\n    </tr>\n    <tr>\n      <th>2</th>\n      <td>VEEEEEINSELTAR</td>\n      <td>2</td>\n      <td>20663460.0</td>\n    </tr>\n    <tr>\n      <th>3</th>\n      <td>LPGSLETYVEQEQGENANDR</td>\n      <td>2</td>\n      <td>19884630.0</td>\n    </tr>\n    <tr>\n      <th>4</th>\n      <td>NSSTAEINETTTSSTDFLAR</td>\n      <td>2</td>\n      <td>12804420.0</td>\n    </tr>\n  </tbody>\n</table>\n</div>"
     },
     "execution_count": 10,
     "metadata": {},
     "output_type": "execute_result"
    }
   ],
   "source": [
    "batches_parquet[file_list[0]].head()"
   ],
   "metadata": {
    "collapsed": false,
    "ExecuteTime": {
     "end_time": "2023-09-09T16:50:03.075274100Z",
     "start_time": "2023-09-09T16:50:03.040701500Z"
    }
   }
  },
  {
   "cell_type": "code",
   "execution_count": 11,
   "outputs": [
    {
     "data": {
      "text/plain": "['data/Thermo_SRM_Pool_meta_data.parquet',\n 'data/TUM_aspn_meta_data.parquet',\n 'data/TUM_first_pool_meta_data.parquet',\n 'data/TUM_HLA2_meta_data.parquet',\n 'data/TUM_HLA_meta_data.parquet',\n 'data/TUM_isoform_meta_data.parquet',\n 'data/TUM_lysn_meta_data.parquet',\n 'data/TUM_missing_first_meta_data.parquet',\n 'data/TUM_proteo_TMT_meta_data.parquet',\n 'data/TUM_second_addon_meta_data.parquet',\n 'data/TUM_second_pool_meta_data.parquet',\n 'data/TUM_third_pool_meta_data.parquet']"
     },
     "execution_count": 11,
     "metadata": {},
     "output_type": "execute_result"
    }
   ],
   "source": [
    "file_list"
   ],
   "metadata": {
    "collapsed": false,
    "ExecuteTime": {
     "end_time": "2023-09-09T16:50:03.178854200Z",
     "start_time": "2023-09-09T16:50:03.052645300Z"
    }
   }
  },
  {
   "cell_type": "code",
   "execution_count": 12,
   "outputs": [
    {
     "data": {
      "text/plain": "2    4331294\n3    1523398\n4     115577\n5       2723\n1       1022\n6        143\nName: precursor_charge, dtype: int64"
     },
     "execution_count": 12,
     "metadata": {},
     "output_type": "execute_result"
    }
   ],
   "source": [
    "batches_parquet[file_list[0]][\"precursor_charge\"].value_counts()"
   ],
   "metadata": {
    "collapsed": false,
    "ExecuteTime": {
     "end_time": "2023-09-09T16:50:03.312380800Z",
     "start_time": "2023-09-09T16:50:03.057271600Z"
    }
   }
  },
  {
   "cell_type": "markdown",
   "source": [
    "# Normalisieren:"
   ],
   "metadata": {
    "collapsed": false
   }
  },
  {
   "cell_type": "code",
   "execution_count": 13,
   "outputs": [],
   "source": [
    "def normalize_for_most_abundant(df_charge_list, df_intensity_list):\n",
    "    # Get the index of the most abundant precursor intensity\n",
    "    charge_dict = dict()\n",
    "    for index, i in enumerate(df_charge_list):\n",
    "        charge_dict[i] = []\n",
    "        charge_dict[i].append(df_intensity_list[index])\n",
    "\n",
    "    # Normalize the precursor intensity based on the most abundant precursor intensity\n",
    "    for key, value in charge_dict.items():\n",
    "        if len(value) > 1:\n",
    "         charge_dict[key] = sum(value) - min(value) / (max(value) - min(value))\n",
    "\n",
    "    # convert list of one float to float values\n",
    "    charge_dict = {key: value[0] for key, value in charge_dict.items()}\n",
    "\n",
    "    return charge_dict"
   ],
   "metadata": {
    "collapsed": false,
    "ExecuteTime": {
     "end_time": "2023-09-09T16:50:03.313592700Z",
     "start_time": "2023-09-09T16:50:03.090792800Z"
    }
   }
  },
  {
   "cell_type": "code",
   "execution_count": 14,
   "outputs": [],
   "source": [
    "def get_most_abundant(df_charge_list, df_intensity_list, distributions=False):\n",
    "    # Get the index of the most abundant precursor intensity\n",
    "    charge_dict = dict()\n",
    "    for index, i in enumerate(df_charge_list):\n",
    "        if i not in charge_dict:\n",
    "            charge_dict[i] = df_intensity_list[index]\n",
    "        else:\n",
    "            charge_dict[i] += df_intensity_list[index]\n",
    "    if distributions:\n",
    "        #print(charge_dict)\n",
    "        return charge_dict\n",
    "    else:\n",
    "        return max(charge_dict, key=charge_dict.get)\n"
   ],
   "metadata": {
    "collapsed": false,
    "ExecuteTime": {
     "end_time": "2023-09-09T16:50:03.313592700Z",
     "start_time": "2023-09-09T16:50:03.096231400Z"
    }
   }
  },
  {
   "cell_type": "code",
   "execution_count": 15,
   "outputs": [
    {
     "name": "stderr",
     "output_type": "stream",
     "text": [
      "C:\\Users\\micro\\AppData\\Local\\Temp\\ipykernel_7300\\2139590162.py:4: FutureWarning: Indexing with multiple keys (implicitly converted to a tuple of keys) will be deprecated, use a list instead.\n",
      "  df_dict[file] = batches_parquet[file].groupby(\"modified_sequence\")[\"precursor_charge\", \"precursor_intensity\"].agg(list).reset_index()\n",
      "C:\\Users\\micro\\AppData\\Local\\Temp\\ipykernel_7300\\2139590162.py:4: FutureWarning: Indexing with multiple keys (implicitly converted to a tuple of keys) will be deprecated, use a list instead.\n",
      "  df_dict[file] = batches_parquet[file].groupby(\"modified_sequence\")[\"precursor_charge\", \"precursor_intensity\"].agg(list).reset_index()\n",
      "C:\\Users\\micro\\AppData\\Local\\Temp\\ipykernel_7300\\2139590162.py:4: FutureWarning: Indexing with multiple keys (implicitly converted to a tuple of keys) will be deprecated, use a list instead.\n",
      "  df_dict[file] = batches_parquet[file].groupby(\"modified_sequence\")[\"precursor_charge\", \"precursor_intensity\"].agg(list).reset_index()\n",
      "C:\\Users\\micro\\AppData\\Local\\Temp\\ipykernel_7300\\2139590162.py:4: FutureWarning: Indexing with multiple keys (implicitly converted to a tuple of keys) will be deprecated, use a list instead.\n",
      "  df_dict[file] = batches_parquet[file].groupby(\"modified_sequence\")[\"precursor_charge\", \"precursor_intensity\"].agg(list).reset_index()\n",
      "C:\\Users\\micro\\AppData\\Local\\Temp\\ipykernel_7300\\2139590162.py:4: FutureWarning: Indexing with multiple keys (implicitly converted to a tuple of keys) will be deprecated, use a list instead.\n",
      "  df_dict[file] = batches_parquet[file].groupby(\"modified_sequence\")[\"precursor_charge\", \"precursor_intensity\"].agg(list).reset_index()\n",
      "C:\\Users\\micro\\AppData\\Local\\Temp\\ipykernel_7300\\2139590162.py:4: FutureWarning: Indexing with multiple keys (implicitly converted to a tuple of keys) will be deprecated, use a list instead.\n",
      "  df_dict[file] = batches_parquet[file].groupby(\"modified_sequence\")[\"precursor_charge\", \"precursor_intensity\"].agg(list).reset_index()\n",
      "C:\\Users\\micro\\AppData\\Local\\Temp\\ipykernel_7300\\2139590162.py:4: FutureWarning: Indexing with multiple keys (implicitly converted to a tuple of keys) will be deprecated, use a list instead.\n",
      "  df_dict[file] = batches_parquet[file].groupby(\"modified_sequence\")[\"precursor_charge\", \"precursor_intensity\"].agg(list).reset_index()\n",
      "C:\\Users\\micro\\AppData\\Local\\Temp\\ipykernel_7300\\2139590162.py:4: FutureWarning: Indexing with multiple keys (implicitly converted to a tuple of keys) will be deprecated, use a list instead.\n",
      "  df_dict[file] = batches_parquet[file].groupby(\"modified_sequence\")[\"precursor_charge\", \"precursor_intensity\"].agg(list).reset_index()\n",
      "C:\\Users\\micro\\AppData\\Local\\Temp\\ipykernel_7300\\2139590162.py:4: FutureWarning: Indexing with multiple keys (implicitly converted to a tuple of keys) will be deprecated, use a list instead.\n",
      "  df_dict[file] = batches_parquet[file].groupby(\"modified_sequence\")[\"precursor_charge\", \"precursor_intensity\"].agg(list).reset_index()\n",
      "C:\\Users\\micro\\AppData\\Local\\Temp\\ipykernel_7300\\2139590162.py:4: FutureWarning: Indexing with multiple keys (implicitly converted to a tuple of keys) will be deprecated, use a list instead.\n",
      "  df_dict[file] = batches_parquet[file].groupby(\"modified_sequence\")[\"precursor_charge\", \"precursor_intensity\"].agg(list).reset_index()\n",
      "C:\\Users\\micro\\AppData\\Local\\Temp\\ipykernel_7300\\2139590162.py:4: FutureWarning: Indexing with multiple keys (implicitly converted to a tuple of keys) will be deprecated, use a list instead.\n",
      "  df_dict[file] = batches_parquet[file].groupby(\"modified_sequence\")[\"precursor_charge\", \"precursor_intensity\"].agg(list).reset_index()\n",
      "C:\\Users\\micro\\AppData\\Local\\Temp\\ipykernel_7300\\2139590162.py:4: FutureWarning: Indexing with multiple keys (implicitly converted to a tuple of keys) will be deprecated, use a list instead.\n",
      "  df_dict[file] = batches_parquet[file].groupby(\"modified_sequence\")[\"precursor_charge\", \"precursor_intensity\"].agg(list).reset_index()\n"
     ]
    }
   ],
   "source": [
    "# load all parquets into df\n",
    "df_dict = dict()\n",
    "for file in file_list:\n",
    "    df_dict[file] = batches_parquet[file].groupby(\"modified_sequence\")[\"precursor_charge\", \"precursor_intensity\"].agg(list).reset_index()"
   ],
   "metadata": {
    "collapsed": false,
    "ExecuteTime": {
     "end_time": "2023-09-09T16:50:45.092462800Z",
     "start_time": "2023-09-09T16:50:03.103344300Z"
    }
   }
  },
  {
   "cell_type": "markdown",
   "source": [
    "# init merged_df"
   ],
   "metadata": {
    "collapsed": false
   }
  },
  {
   "cell_type": "code",
   "execution_count": 16,
   "outputs": [
    {
     "name": "stderr",
     "output_type": "stream",
     "text": [
      "C:\\Users\\micro\\AppData\\Local\\Temp\\ipykernel_7300\\1215419649.py:1: FutureWarning: Indexing with multiple keys (implicitly converted to a tuple of keys) will be deprecated, use a list instead.\n",
      "  merged_df = pd.concat(list(df_dict.values())).groupby(\"modified_sequence\")[\"precursor_charge\", \"precursor_intensity\"].sum().reset_index()\n"
     ]
    }
   ],
   "source": [
    "merged_df = pd.concat(list(df_dict.values())).groupby(\"modified_sequence\")[\"precursor_charge\", \"precursor_intensity\"].sum().reset_index()"
   ],
   "metadata": {
    "collapsed": false,
    "ExecuteTime": {
     "end_time": "2023-09-09T16:50:47.115499600Z",
     "start_time": "2023-09-09T16:50:45.080221500Z"
    }
   }
  },
  {
   "cell_type": "code",
   "execution_count": 17,
   "outputs": [],
   "source": [
    "merged_df['seq_len_prepadding'] = merged_df['modified_sequence'].apply(lambda x: len(x))"
   ],
   "metadata": {
    "collapsed": false,
    "ExecuteTime": {
     "end_time": "2023-09-09T16:50:47.414941400Z",
     "start_time": "2023-09-09T16:50:47.115499600Z"
    }
   }
  },
  {
   "cell_type": "code",
   "execution_count": 18,
   "outputs": [
    {
     "data": {
      "text/plain": "87     9\n82     8\n85     7\n89     6\n90     5\n107    4\n97     4\n95     4\n92     4\n83     3\n86     3\n98     3\n91     2\n84     2\n93     2\n88     2\n96     2\n110    2\n105    1\n104    1\n102    1\n94     1\n103    1\n115    1\n99     1\n125    1\n108    1\nName: seq_len_prepadding, dtype: int64"
     },
     "execution_count": 18,
     "metadata": {},
     "output_type": "execute_result"
    }
   ],
   "source": [
    "len_counts = merged_df['seq_len_prepadding'].value_counts()\n",
    "seq_too_long = len_counts[len_counts <= 10]\n",
    "seq_too_long"
   ],
   "metadata": {
    "collapsed": false,
    "ExecuteTime": {
     "end_time": "2023-09-09T16:50:47.434223200Z",
     "start_time": "2023-09-09T16:50:47.415941800Z"
    }
   }
  },
  {
   "cell_type": "code",
   "execution_count": 19,
   "outputs": [
    {
     "data": {
      "text/plain": "    seq_len  count\n0        50   1087\n1        51    764\n2        52    595\n3        53    426\n4        56    385\n5        57    385\n6        55    382\n7        58    373\n8        54    366\n9        59    290\n10       60    245\n11       61    199\n12       62    140\n13       63    105\n14       67     86\n15       66     81\n16       65     78\n17       64     78\n18       68     72\n19       69     69\n20       70     67\n21       71     34\n22       72     31\n23       75     26\n24       77     21\n25       74     21\n26       78     21\n27       73     18\n28       81     17\n29       79     16\n30       80     15\n31       76     13\n32      100     12\n33       87      9\n34       82      8\n35       85      7\n36       89      6\n37       90      5\n38      107      4\n39       97      4\n40       95      4\n41       92      4\n42       83      3\n43       86      3\n44       98      3\n45       91      2\n46       84      2\n47       93      2\n48       88      2\n49       96      2\n50      110      2\n51      105      1\n52      104      1\n53      102      1\n54       94      1\n55      103      1\n56      115      1\n57       99      1\n58      125      1\n59      108      1",
      "text/html": "<div>\n<style scoped>\n    .dataframe tbody tr th:only-of-type {\n        vertical-align: middle;\n    }\n\n    .dataframe tbody tr th {\n        vertical-align: top;\n    }\n\n    .dataframe thead th {\n        text-align: right;\n    }\n</style>\n<table border=\"1\" class=\"dataframe\">\n  <thead>\n    <tr style=\"text-align: right;\">\n      <th></th>\n      <th>seq_len</th>\n      <th>count</th>\n    </tr>\n  </thead>\n  <tbody>\n    <tr>\n      <th>0</th>\n      <td>50</td>\n      <td>1087</td>\n    </tr>\n    <tr>\n      <th>1</th>\n      <td>51</td>\n      <td>764</td>\n    </tr>\n    <tr>\n      <th>2</th>\n      <td>52</td>\n      <td>595</td>\n    </tr>\n    <tr>\n      <th>3</th>\n      <td>53</td>\n      <td>426</td>\n    </tr>\n    <tr>\n      <th>4</th>\n      <td>56</td>\n      <td>385</td>\n    </tr>\n    <tr>\n      <th>5</th>\n      <td>57</td>\n      <td>385</td>\n    </tr>\n    <tr>\n      <th>6</th>\n      <td>55</td>\n      <td>382</td>\n    </tr>\n    <tr>\n      <th>7</th>\n      <td>58</td>\n      <td>373</td>\n    </tr>\n    <tr>\n      <th>8</th>\n      <td>54</td>\n      <td>366</td>\n    </tr>\n    <tr>\n      <th>9</th>\n      <td>59</td>\n      <td>290</td>\n    </tr>\n    <tr>\n      <th>10</th>\n      <td>60</td>\n      <td>245</td>\n    </tr>\n    <tr>\n      <th>11</th>\n      <td>61</td>\n      <td>199</td>\n    </tr>\n    <tr>\n      <th>12</th>\n      <td>62</td>\n      <td>140</td>\n    </tr>\n    <tr>\n      <th>13</th>\n      <td>63</td>\n      <td>105</td>\n    </tr>\n    <tr>\n      <th>14</th>\n      <td>67</td>\n      <td>86</td>\n    </tr>\n    <tr>\n      <th>15</th>\n      <td>66</td>\n      <td>81</td>\n    </tr>\n    <tr>\n      <th>16</th>\n      <td>65</td>\n      <td>78</td>\n    </tr>\n    <tr>\n      <th>17</th>\n      <td>64</td>\n      <td>78</td>\n    </tr>\n    <tr>\n      <th>18</th>\n      <td>68</td>\n      <td>72</td>\n    </tr>\n    <tr>\n      <th>19</th>\n      <td>69</td>\n      <td>69</td>\n    </tr>\n    <tr>\n      <th>20</th>\n      <td>70</td>\n      <td>67</td>\n    </tr>\n    <tr>\n      <th>21</th>\n      <td>71</td>\n      <td>34</td>\n    </tr>\n    <tr>\n      <th>22</th>\n      <td>72</td>\n      <td>31</td>\n    </tr>\n    <tr>\n      <th>23</th>\n      <td>75</td>\n      <td>26</td>\n    </tr>\n    <tr>\n      <th>24</th>\n      <td>77</td>\n      <td>21</td>\n    </tr>\n    <tr>\n      <th>25</th>\n      <td>74</td>\n      <td>21</td>\n    </tr>\n    <tr>\n      <th>26</th>\n      <td>78</td>\n      <td>21</td>\n    </tr>\n    <tr>\n      <th>27</th>\n      <td>73</td>\n      <td>18</td>\n    </tr>\n    <tr>\n      <th>28</th>\n      <td>81</td>\n      <td>17</td>\n    </tr>\n    <tr>\n      <th>29</th>\n      <td>79</td>\n      <td>16</td>\n    </tr>\n    <tr>\n      <th>30</th>\n      <td>80</td>\n      <td>15</td>\n    </tr>\n    <tr>\n      <th>31</th>\n      <td>76</td>\n      <td>13</td>\n    </tr>\n    <tr>\n      <th>32</th>\n      <td>100</td>\n      <td>12</td>\n    </tr>\n    <tr>\n      <th>33</th>\n      <td>87</td>\n      <td>9</td>\n    </tr>\n    <tr>\n      <th>34</th>\n      <td>82</td>\n      <td>8</td>\n    </tr>\n    <tr>\n      <th>35</th>\n      <td>85</td>\n      <td>7</td>\n    </tr>\n    <tr>\n      <th>36</th>\n      <td>89</td>\n      <td>6</td>\n    </tr>\n    <tr>\n      <th>37</th>\n      <td>90</td>\n      <td>5</td>\n    </tr>\n    <tr>\n      <th>38</th>\n      <td>107</td>\n      <td>4</td>\n    </tr>\n    <tr>\n      <th>39</th>\n      <td>97</td>\n      <td>4</td>\n    </tr>\n    <tr>\n      <th>40</th>\n      <td>95</td>\n      <td>4</td>\n    </tr>\n    <tr>\n      <th>41</th>\n      <td>92</td>\n      <td>4</td>\n    </tr>\n    <tr>\n      <th>42</th>\n      <td>83</td>\n      <td>3</td>\n    </tr>\n    <tr>\n      <th>43</th>\n      <td>86</td>\n      <td>3</td>\n    </tr>\n    <tr>\n      <th>44</th>\n      <td>98</td>\n      <td>3</td>\n    </tr>\n    <tr>\n      <th>45</th>\n      <td>91</td>\n      <td>2</td>\n    </tr>\n    <tr>\n      <th>46</th>\n      <td>84</td>\n      <td>2</td>\n    </tr>\n    <tr>\n      <th>47</th>\n      <td>93</td>\n      <td>2</td>\n    </tr>\n    <tr>\n      <th>48</th>\n      <td>88</td>\n      <td>2</td>\n    </tr>\n    <tr>\n      <th>49</th>\n      <td>96</td>\n      <td>2</td>\n    </tr>\n    <tr>\n      <th>50</th>\n      <td>110</td>\n      <td>2</td>\n    </tr>\n    <tr>\n      <th>51</th>\n      <td>105</td>\n      <td>1</td>\n    </tr>\n    <tr>\n      <th>52</th>\n      <td>104</td>\n      <td>1</td>\n    </tr>\n    <tr>\n      <th>53</th>\n      <td>102</td>\n      <td>1</td>\n    </tr>\n    <tr>\n      <th>54</th>\n      <td>94</td>\n      <td>1</td>\n    </tr>\n    <tr>\n      <th>55</th>\n      <td>103</td>\n      <td>1</td>\n    </tr>\n    <tr>\n      <th>56</th>\n      <td>115</td>\n      <td>1</td>\n    </tr>\n    <tr>\n      <th>57</th>\n      <td>99</td>\n      <td>1</td>\n    </tr>\n    <tr>\n      <th>58</th>\n      <td>125</td>\n      <td>1</td>\n    </tr>\n    <tr>\n      <th>59</th>\n      <td>108</td>\n      <td>1</td>\n    </tr>\n  </tbody>\n</table>\n</div>"
     },
     "execution_count": 19,
     "metadata": {},
     "output_type": "execute_result"
    }
   ],
   "source": [
    "seq_lengths = merged_df['seq_len_prepadding'].value_counts().index.values, merged_df['seq_len_prepadding'].value_counts().values\n",
    "seq_too_long = pd.DataFrame()\n",
    "seq_too_long['seq_len'] = seq_lengths[0][seq_lengths[0] >= 50]\n",
    "seq_too_long['count'] = seq_lengths[1][seq_lengths[0] >= 50]\n",
    "seq_too_long"
   ],
   "metadata": {
    "collapsed": false,
    "ExecuteTime": {
     "end_time": "2023-09-09T16:50:47.499586700Z",
     "start_time": "2023-09-09T16:50:47.425186400Z"
    }
   }
  },
  {
   "cell_type": "code",
   "execution_count": 20,
   "outputs": [],
   "source": [
    "# give smallest seq_len when count <= 100\n",
    "seq_len_cutoff_df = seq_too_long[seq_too_long['count'] <= 100]\n",
    "seq_len_cutoff = min(seq_len_cutoff_df['seq_len'])"
   ],
   "metadata": {
    "collapsed": false,
    "ExecuteTime": {
     "end_time": "2023-09-09T16:50:47.502587300Z",
     "start_time": "2023-09-09T16:50:47.449221600Z"
    }
   }
  },
  {
   "cell_type": "code",
   "execution_count": 21,
   "outputs": [
    {
     "data": {
      "text/plain": "64"
     },
     "execution_count": 21,
     "metadata": {},
     "output_type": "execute_result"
    }
   ],
   "source": [
    "seq_len_cutoff"
   ],
   "metadata": {
    "collapsed": false,
    "ExecuteTime": {
     "end_time": "2023-09-09T16:50:47.520593400Z",
     "start_time": "2023-09-09T16:50:47.455624300Z"
    }
   }
  },
  {
   "cell_type": "code",
   "execution_count": 22,
   "outputs": [],
   "source": [
    "# reapply max len\n",
    "max_len_seq = seq_len_cutoff-1"
   ],
   "metadata": {
    "collapsed": false,
    "ExecuteTime": {
     "end_time": "2023-09-09T16:50:47.520593400Z",
     "start_time": "2023-09-09T16:50:47.463349500Z"
    }
   }
  },
  {
   "cell_type": "code",
   "execution_count": 23,
   "outputs": [],
   "source": [
    "def seq_translator(sequence, dictionary=vocabulary, max_len=max_len_seq, print_result=False, no_padding=False):\n",
    "    \"\"\"\n",
    "    Translates a sequence into a vector of integers\n",
    "    :param print_result:\n",
    "    :param max_len:\n",
    "    :param sequence: string\n",
    "    :param dictionary: dictionary\n",
    "    :return: list\n",
    "    \"\"\"\n",
    "    pattern = r'[A-Z]\\[[^\\]]*\\]|.' # regex pattern to match amino acids and modifications\n",
    "    #pattern = r'(\\w\\[UNIMOD:\\d+\\])' # regex pattern to match amino acids and modifications\n",
    "\n",
    "    result = [match for match in re.findall(pattern, sequence)]\n",
    "\n",
    "    # Fill the list with \"X\" characters until it reaches a length of 40\n",
    "    if not no_padding:\n",
    "        result += ['X'] * (max_len - len(result))\n",
    "    if print_result:\n",
    "        print(result)\n",
    "\n",
    "    aa_dictionary = dict()\n",
    "    for index, aa in enumerate(dictionary):\n",
    "        aa_dictionary[aa] = index\n",
    "\n",
    "    return [aa_dictionary[aa] for aa in result]"
   ],
   "metadata": {
    "collapsed": false,
    "ExecuteTime": {
     "end_time": "2023-09-09T16:50:47.520593400Z",
     "start_time": "2023-09-09T16:50:47.472006500Z"
    }
   }
  },
  {
   "cell_type": "code",
   "execution_count": 24,
   "outputs": [],
   "source": [
    "delete_a_row = True\n",
    "if delete_a_row:\n",
    "# delete row if seq_len_prepadding larger or equal to seq_len_cutoff\n",
    "    index_to_delete_seq = merged_df[merged_df['seq_len_prepadding'] >= seq_len_cutoff].index\n",
    "    merged_df.drop(index_to_delete_seq, inplace=True)"
   ],
   "metadata": {
    "collapsed": false,
    "ExecuteTime": {
     "end_time": "2023-09-09T16:50:47.757247300Z",
     "start_time": "2023-09-09T16:50:47.480591400Z"
    }
   }
  },
  {
   "cell_type": "code",
   "execution_count": 25,
   "outputs": [
    {
     "data": {
      "text/plain": "Empty DataFrame\nColumns: [modified_sequence, precursor_charge, precursor_intensity, seq_len_prepadding]\nIndex: []",
      "text/html": "<div>\n<style scoped>\n    .dataframe tbody tr th:only-of-type {\n        vertical-align: middle;\n    }\n\n    .dataframe tbody tr th {\n        vertical-align: top;\n    }\n\n    .dataframe thead th {\n        text-align: right;\n    }\n</style>\n<table border=\"1\" class=\"dataframe\">\n  <thead>\n    <tr style=\"text-align: right;\">\n      <th></th>\n      <th>modified_sequence</th>\n      <th>precursor_charge</th>\n      <th>precursor_intensity</th>\n      <th>seq_len_prepadding</th>\n    </tr>\n  </thead>\n  <tbody>\n  </tbody>\n</table>\n</div>"
     },
     "execution_count": 25,
     "metadata": {},
     "output_type": "execute_result"
    }
   ],
   "source": [
    "# output all sequences with seq_len_prepadding >= 50\n",
    "merged_df[merged_df['seq_len_prepadding'] >= seq_len_cutoff]"
   ],
   "metadata": {
    "collapsed": false,
    "ExecuteTime": {
     "end_time": "2023-09-09T16:50:47.771254400Z",
     "start_time": "2023-09-09T16:50:47.672885100Z"
    }
   }
  },
  {
   "cell_type": "code",
   "execution_count": 26,
   "outputs": [],
   "source": [
    "merged_df['normalized'] = merged_df.apply(lambda x: normalize_for_most_abundant(x[\"precursor_charge\"], x[\"precursor_intensity\"]), axis=1)"
   ],
   "metadata": {
    "collapsed": false,
    "ExecuteTime": {
     "end_time": "2023-09-09T16:50:58.788332Z",
     "start_time": "2023-09-09T16:50:47.679730600Z"
    }
   }
  },
  {
   "cell_type": "code",
   "execution_count": 27,
   "outputs": [],
   "source": [
    "merged_df['pre_normalization'] = merged_df.apply(lambda x: get_most_abundant(x[\"precursor_charge\"], x[\"precursor_intensity\"], True), axis=1)"
   ],
   "metadata": {
    "collapsed": false,
    "ExecuteTime": {
     "end_time": "2023-09-09T16:51:08.790427400Z",
     "start_time": "2023-09-09T16:50:58.789331100Z"
    }
   }
  },
  {
   "cell_type": "code",
   "execution_count": 28,
   "outputs": [],
   "source": [
    "# return key for max value in dict\n",
    "merged_df['most_abundant_charge'] = merged_df['normalized'].apply(lambda x: max(x, key=x.get))"
   ],
   "metadata": {
    "collapsed": false,
    "ExecuteTime": {
     "end_time": "2023-09-09T16:51:09.256721100Z",
     "start_time": "2023-09-09T16:51:08.790427400Z"
    }
   }
  },
  {
   "cell_type": "code",
   "execution_count": 29,
   "outputs": [],
   "source": [
    "merged_df[\"most_abundant_charge_vector\"] = merged_df[\"most_abundant_charge\"].apply(one_hot_precursor, args=(charge_ranges,))"
   ],
   "metadata": {
    "collapsed": false,
    "ExecuteTime": {
     "end_time": "2023-09-09T16:51:11.881859700Z",
     "start_time": "2023-09-09T16:51:09.256721100Z"
    }
   }
  },
  {
   "cell_type": "code",
   "execution_count": 30,
   "outputs": [],
   "source": [
    "merged_df[\"modified_sequence_vector\"] = merged_df[\"modified_sequence\"].apply(seq_translator)"
   ],
   "metadata": {
    "collapsed": false,
    "ExecuteTime": {
     "end_time": "2023-09-09T16:51:19.193404400Z",
     "start_time": "2023-09-09T16:51:11.881859700Z"
    }
   }
  },
  {
   "cell_type": "code",
   "execution_count": 31,
   "outputs": [
    {
     "data": {
      "text/plain": "             modified_sequence  \\\n0       AAAAAAAAAAAAAAAAGLGLGP   \n1        AAAAAAAAAAAAAAAASAGGK   \n2       AAAAAAAAAAAAAAAGAGAGAK   \n3   AAAAAAAAAAAAAAASGFAYPGTSER   \n4              AAAAAAAAAAAAAAG   \n5            AAAAAAAAAAAAAAGAG   \n6       AAAAAAAAAAAAAAGGLALGLH   \n7          AAAAAAAAAAAAAAVTSGV   \n8             AAAAAAAAAAAAAGAG   \n9               AAAAAAAAAAAAAK   \n10            AAAAAAAAAAAAHLPS   \n\n                                     precursor_charge  \\\n0   [2, 3, 2, 1, 1, 2, 2, 2, 2, 2, 2, 3, 3, 3, 3, ...   \n1       [2, 2, 2, 2, 2, 2, 2, 2, 2, 2, 2, 2, 2, 2, 2]   \n2                                        [2, 2, 2, 2]   \n3   [2, 2, 2, 2, 2, 2, 2, 2, 2, 2, 2, 2, 2, 2, 2, ...   \n4   [1, 1, 1, 1, 1, 1, 1, 1, 1, 1, 1, 1, 1, 1, 1, ...   \n5   [1, 1, 1, 1, 1, 1, 1, 1, 1, 1, 1, 1, 1, 1, 1, ...   \n6   [2, 2, 2, 2, 2, 2, 2, 2, 2, 2, 2, 2, 2, 2, 2, ...   \n7   [2, 2, 2, 2, 2, 2, 2, 2, 2, 2, 2, 2, 2, 2, 2, ...   \n8   [1, 2, 1, 1, 1, 1, 1, 2, 2, 2, 2, 2, 2, 2, 1, ...   \n9   [1, 2, 2, 2, 2, 2, 1, 1, 1, 2, 2, 1, 1, 2, 2, ...   \n10  [2, 2, 2, 2, 2, 2, 2, 2, 2, 2, 2, 2, 2, 2, 2, ...   \n\n                                  precursor_intensity  seq_len_prepadding  \\\n0   [12746190.0, 2009914.0, 12746190.0, 791369.9, ...                  22   \n1   [5944787.0, 5944787.0, 8502878.0, 6425294.0, 8...                  21   \n2        [3067981.0, 3067981.0, 3067981.0, 3067981.0]                  22   \n3   [11913300.0, 11913300.0, 11913300.0, 11913300....                  26   \n4   [1573785.0, 4638296.0, 7934979.0, 2019978.0, 4...                  15   \n5   [853119.3, 4332449.0, 3688977.0, 3469130.0, 33...                  17   \n6   [33516080.0, 33516080.0, 8522070.0, 4549188.0,...                  22   \n7   [4576179.0, 3336856.0, 4954145.0, 4317804.0, 3...                  19   \n8   [1233316.0, 2671238.0, 11414430.0, 13683660.0,...                  16   \n9   [2540360.0, 31115000.0, 31115000.0, 70371250.0...                  14   \n10  [27030420.0, 22099630.0, 71770480.0, 22099630....                  16   \n\n                                  normalized  \\\n0   {2: 588796.3, 3: 4654280.0, 1: 791369.9}   \n1                              {2: 303307.5}   \n2                             {2: 3067981.0}   \n3               {2: 8093413.0, 3: 1414907.0}   \n4                             {1: 1124818.0}   \n5                              {1: 679216.3}   \n6                              {2: 365943.3}   \n7              {2: 14611910.0, 1: 1211272.0}   \n8               {1: 1879604.0, 2: 2586197.0}   \n9              {1: 8372130.0, 2: 15308280.0}   \n10                            {2: 5810305.0}   \n\n                                 pre_normalization  most_abundant_charge  \\\n0   {2: 1043873837.3, 3: 30130627.0, 1: 1582739.8}                     3   \n1                                 {2: 107202221.5}                     2   \n2                                  {2: 12271924.0}                     2   \n3                   {2: 148659685.0, 3: 4244721.0}                     2   \n4                           {1: 546950229.4000001}                     1   \n5                                  {1: 52634067.9}                     1   \n6                           {2: 6848110396.300002}                     2   \n7            {2: 225462597.40000004, 1: 5840742.2}                     2   \n8                 {1: 349665943.5, 2: 228379326.3}                     2   \n9                 {1: 99493666.2, 2: 6574531120.0}                     2   \n10                               {2: 9446767331.0}                     2   \n\n   most_abundant_charge_vector  \\\n0           [0, 0, 1, 0, 0, 0]   \n1           [0, 1, 0, 0, 0, 0]   \n2           [0, 1, 0, 0, 0, 0]   \n3           [0, 1, 0, 0, 0, 0]   \n4           [1, 0, 0, 0, 0, 0]   \n5           [1, 0, 0, 0, 0, 0]   \n6           [0, 1, 0, 0, 0, 0]   \n7           [0, 1, 0, 0, 0, 0]   \n8           [0, 1, 0, 0, 0, 0]   \n9           [0, 1, 0, 0, 0, 0]   \n10          [0, 1, 0, 0, 0, 0]   \n\n                             modified_sequence_vector  \n0   [1, 1, 1, 1, 1, 1, 1, 1, 1, 1, 1, 1, 1, 1, 1, ...  \n1   [1, 1, 1, 1, 1, 1, 1, 1, 1, 1, 1, 1, 1, 1, 1, ...  \n2   [1, 1, 1, 1, 1, 1, 1, 1, 1, 1, 1, 1, 1, 1, 1, ...  \n3   [1, 1, 1, 1, 1, 1, 1, 1, 1, 1, 1, 1, 1, 1, 1, ...  \n4   [1, 1, 1, 1, 1, 1, 1, 1, 1, 1, 1, 1, 1, 1, 6, ...  \n5   [1, 1, 1, 1, 1, 1, 1, 1, 1, 1, 1, 1, 1, 1, 6, ...  \n6   [1, 1, 1, 1, 1, 1, 1, 1, 1, 1, 1, 1, 1, 1, 6, ...  \n7   [1, 1, 1, 1, 1, 1, 1, 1, 1, 1, 1, 1, 1, 1, 18,...  \n8   [1, 1, 1, 1, 1, 1, 1, 1, 1, 1, 1, 1, 1, 6, 1, ...  \n9   [1, 1, 1, 1, 1, 1, 1, 1, 1, 1, 1, 1, 1, 9, 0, ...  \n10  [1, 1, 1, 1, 1, 1, 1, 1, 1, 1, 1, 1, 7, 10, 13...  ",
      "text/html": "<div>\n<style scoped>\n    .dataframe tbody tr th:only-of-type {\n        vertical-align: middle;\n    }\n\n    .dataframe tbody tr th {\n        vertical-align: top;\n    }\n\n    .dataframe thead th {\n        text-align: right;\n    }\n</style>\n<table border=\"1\" class=\"dataframe\">\n  <thead>\n    <tr style=\"text-align: right;\">\n      <th></th>\n      <th>modified_sequence</th>\n      <th>precursor_charge</th>\n      <th>precursor_intensity</th>\n      <th>seq_len_prepadding</th>\n      <th>normalized</th>\n      <th>pre_normalization</th>\n      <th>most_abundant_charge</th>\n      <th>most_abundant_charge_vector</th>\n      <th>modified_sequence_vector</th>\n    </tr>\n  </thead>\n  <tbody>\n    <tr>\n      <th>0</th>\n      <td>AAAAAAAAAAAAAAAAGLGLGP</td>\n      <td>[2, 3, 2, 1, 1, 2, 2, 2, 2, 2, 2, 3, 3, 3, 3, ...</td>\n      <td>[12746190.0, 2009914.0, 12746190.0, 791369.9, ...</td>\n      <td>22</td>\n      <td>{2: 588796.3, 3: 4654280.0, 1: 791369.9}</td>\n      <td>{2: 1043873837.3, 3: 30130627.0, 1: 1582739.8}</td>\n      <td>3</td>\n      <td>[0, 0, 1, 0, 0, 0]</td>\n      <td>[1, 1, 1, 1, 1, 1, 1, 1, 1, 1, 1, 1, 1, 1, 1, ...</td>\n    </tr>\n    <tr>\n      <th>1</th>\n      <td>AAAAAAAAAAAAAAAASAGGK</td>\n      <td>[2, 2, 2, 2, 2, 2, 2, 2, 2, 2, 2, 2, 2, 2, 2]</td>\n      <td>[5944787.0, 5944787.0, 8502878.0, 6425294.0, 8...</td>\n      <td>21</td>\n      <td>{2: 303307.5}</td>\n      <td>{2: 107202221.5}</td>\n      <td>2</td>\n      <td>[0, 1, 0, 0, 0, 0]</td>\n      <td>[1, 1, 1, 1, 1, 1, 1, 1, 1, 1, 1, 1, 1, 1, 1, ...</td>\n    </tr>\n    <tr>\n      <th>2</th>\n      <td>AAAAAAAAAAAAAAAGAGAGAK</td>\n      <td>[2, 2, 2, 2]</td>\n      <td>[3067981.0, 3067981.0, 3067981.0, 3067981.0]</td>\n      <td>22</td>\n      <td>{2: 3067981.0}</td>\n      <td>{2: 12271924.0}</td>\n      <td>2</td>\n      <td>[0, 1, 0, 0, 0, 0]</td>\n      <td>[1, 1, 1, 1, 1, 1, 1, 1, 1, 1, 1, 1, 1, 1, 1, ...</td>\n    </tr>\n    <tr>\n      <th>3</th>\n      <td>AAAAAAAAAAAAAAASGFAYPGTSER</td>\n      <td>[2, 2, 2, 2, 2, 2, 2, 2, 2, 2, 2, 2, 2, 2, 2, ...</td>\n      <td>[11913300.0, 11913300.0, 11913300.0, 11913300....</td>\n      <td>26</td>\n      <td>{2: 8093413.0, 3: 1414907.0}</td>\n      <td>{2: 148659685.0, 3: 4244721.0}</td>\n      <td>2</td>\n      <td>[0, 1, 0, 0, 0, 0]</td>\n      <td>[1, 1, 1, 1, 1, 1, 1, 1, 1, 1, 1, 1, 1, 1, 1, ...</td>\n    </tr>\n    <tr>\n      <th>4</th>\n      <td>AAAAAAAAAAAAAAG</td>\n      <td>[1, 1, 1, 1, 1, 1, 1, 1, 1, 1, 1, 1, 1, 1, 1, ...</td>\n      <td>[1573785.0, 4638296.0, 7934979.0, 2019978.0, 4...</td>\n      <td>15</td>\n      <td>{1: 1124818.0}</td>\n      <td>{1: 546950229.4000001}</td>\n      <td>1</td>\n      <td>[1, 0, 0, 0, 0, 0]</td>\n      <td>[1, 1, 1, 1, 1, 1, 1, 1, 1, 1, 1, 1, 1, 1, 6, ...</td>\n    </tr>\n    <tr>\n      <th>5</th>\n      <td>AAAAAAAAAAAAAAGAG</td>\n      <td>[1, 1, 1, 1, 1, 1, 1, 1, 1, 1, 1, 1, 1, 1, 1, ...</td>\n      <td>[853119.3, 4332449.0, 3688977.0, 3469130.0, 33...</td>\n      <td>17</td>\n      <td>{1: 679216.3}</td>\n      <td>{1: 52634067.9}</td>\n      <td>1</td>\n      <td>[1, 0, 0, 0, 0, 0]</td>\n      <td>[1, 1, 1, 1, 1, 1, 1, 1, 1, 1, 1, 1, 1, 1, 6, ...</td>\n    </tr>\n    <tr>\n      <th>6</th>\n      <td>AAAAAAAAAAAAAAGGLALGLH</td>\n      <td>[2, 2, 2, 2, 2, 2, 2, 2, 2, 2, 2, 2, 2, 2, 2, ...</td>\n      <td>[33516080.0, 33516080.0, 8522070.0, 4549188.0,...</td>\n      <td>22</td>\n      <td>{2: 365943.3}</td>\n      <td>{2: 6848110396.300002}</td>\n      <td>2</td>\n      <td>[0, 1, 0, 0, 0, 0]</td>\n      <td>[1, 1, 1, 1, 1, 1, 1, 1, 1, 1, 1, 1, 1, 1, 6, ...</td>\n    </tr>\n    <tr>\n      <th>7</th>\n      <td>AAAAAAAAAAAAAAVTSGV</td>\n      <td>[2, 2, 2, 2, 2, 2, 2, 2, 2, 2, 2, 2, 2, 2, 2, ...</td>\n      <td>[4576179.0, 3336856.0, 4954145.0, 4317804.0, 3...</td>\n      <td>19</td>\n      <td>{2: 14611910.0, 1: 1211272.0}</td>\n      <td>{2: 225462597.40000004, 1: 5840742.2}</td>\n      <td>2</td>\n      <td>[0, 1, 0, 0, 0, 0]</td>\n      <td>[1, 1, 1, 1, 1, 1, 1, 1, 1, 1, 1, 1, 1, 1, 18,...</td>\n    </tr>\n    <tr>\n      <th>8</th>\n      <td>AAAAAAAAAAAAAGAG</td>\n      <td>[1, 2, 1, 1, 1, 1, 1, 2, 2, 2, 2, 2, 2, 2, 1, ...</td>\n      <td>[1233316.0, 2671238.0, 11414430.0, 13683660.0,...</td>\n      <td>16</td>\n      <td>{1: 1879604.0, 2: 2586197.0}</td>\n      <td>{1: 349665943.5, 2: 228379326.3}</td>\n      <td>2</td>\n      <td>[0, 1, 0, 0, 0, 0]</td>\n      <td>[1, 1, 1, 1, 1, 1, 1, 1, 1, 1, 1, 1, 1, 6, 1, ...</td>\n    </tr>\n    <tr>\n      <th>9</th>\n      <td>AAAAAAAAAAAAAK</td>\n      <td>[1, 2, 2, 2, 2, 2, 1, 1, 1, 2, 2, 1, 1, 2, 2, ...</td>\n      <td>[2540360.0, 31115000.0, 31115000.0, 70371250.0...</td>\n      <td>14</td>\n      <td>{1: 8372130.0, 2: 15308280.0}</td>\n      <td>{1: 99493666.2, 2: 6574531120.0}</td>\n      <td>2</td>\n      <td>[0, 1, 0, 0, 0, 0]</td>\n      <td>[1, 1, 1, 1, 1, 1, 1, 1, 1, 1, 1, 1, 1, 9, 0, ...</td>\n    </tr>\n    <tr>\n      <th>10</th>\n      <td>AAAAAAAAAAAAHLPS</td>\n      <td>[2, 2, 2, 2, 2, 2, 2, 2, 2, 2, 2, 2, 2, 2, 2, ...</td>\n      <td>[27030420.0, 22099630.0, 71770480.0, 22099630....</td>\n      <td>16</td>\n      <td>{2: 5810305.0}</td>\n      <td>{2: 9446767331.0}</td>\n      <td>2</td>\n      <td>[0, 1, 0, 0, 0, 0]</td>\n      <td>[1, 1, 1, 1, 1, 1, 1, 1, 1, 1, 1, 1, 7, 10, 13...</td>\n    </tr>\n  </tbody>\n</table>\n</div>"
     },
     "execution_count": 31,
     "metadata": {},
     "output_type": "execute_result"
    }
   ],
   "source": [
    "merged_df.head(11)"
   ],
   "metadata": {
    "collapsed": false,
    "ExecuteTime": {
     "end_time": "2023-09-09T16:51:19.245477700Z",
     "start_time": "2023-09-09T16:51:19.193404400Z"
    }
   }
  },
  {
   "cell_type": "code",
   "execution_count": 32,
   "outputs": [
    {
     "data": {
      "text/plain": "830820"
     },
     "execution_count": 32,
     "metadata": {},
     "output_type": "execute_result"
    }
   ],
   "source": [
    "len(merged_df)"
   ],
   "metadata": {
    "collapsed": false,
    "ExecuteTime": {
     "end_time": "2023-09-09T16:51:19.257476800Z",
     "start_time": "2023-09-09T16:51:19.217126200Z"
    }
   }
  },
  {
   "cell_type": "code",
   "execution_count": 33,
   "outputs": [
    {
     "data": {
      "text/plain": "2    452544\n3    259972\n4     65966\n1     41352\n5      9069\n6      1917\nName: most_abundant_charge, dtype: int64"
     },
     "execution_count": 33,
     "metadata": {},
     "output_type": "execute_result"
    }
   ],
   "source": [
    "merged_df[\"most_abundant_charge\"].value_counts()"
   ],
   "metadata": {
    "collapsed": false,
    "ExecuteTime": {
     "end_time": "2023-09-09T16:51:19.333991500Z",
     "start_time": "2023-09-09T16:51:19.224816800Z"
    }
   }
  },
  {
   "cell_type": "code",
   "execution_count": 34,
   "outputs": [],
   "source": [
    "#get the"
   ],
   "metadata": {
    "collapsed": false,
    "ExecuteTime": {
     "end_time": "2023-09-09T16:51:19.333991500Z",
     "start_time": "2023-09-09T16:51:19.237210900Z"
    }
   }
  },
  {
   "cell_type": "code",
   "execution_count": 35,
   "outputs": [
    {
     "name": "stdout",
     "output_type": "stream",
     "text": [
      "data/Thermo_SRM_Pool_meta_data.parquet\n"
     ]
    },
    {
     "name": "stderr",
     "output_type": "stream",
     "text": [
      "C:\\Users\\micro\\AppData\\Local\\Temp\\ipykernel_7300\\365009680.py:2: FutureWarning: Indexing with multiple keys (implicitly converted to a tuple of keys) will be deprecated, use a list instead.\n",
      "  look_up_df = batches_parquet[file_list[0]].groupby(\"modified_sequence\")[\"precursor_charge\", \"precursor_intensity\"].agg(list).reset_index()\n"
     ]
    },
    {
     "data": {
      "text/plain": "70445"
     },
     "execution_count": 35,
     "metadata": {},
     "output_type": "execute_result"
    }
   ],
   "source": [
    "print(file_list[0])\n",
    "look_up_df = batches_parquet[file_list[0]].groupby(\"modified_sequence\")[\"precursor_charge\", \"precursor_intensity\"].agg(list).reset_index()\n",
    "len(look_up_df)"
   ],
   "metadata": {
    "collapsed": false,
    "ExecuteTime": {
     "end_time": "2023-09-09T16:51:22.906163300Z",
     "start_time": "2023-09-09T16:51:19.242408400Z"
    }
   }
  },
  {
   "cell_type": "markdown",
   "source": [
    "# Embedding model test:"
   ],
   "metadata": {
    "collapsed": false
   }
  },
  {
   "cell_type": "code",
   "execution_count": 37,
   "outputs": [],
   "source": [
    "df1 = merged_df.sample(frac = 0.1, random_state = 42)\n",
    "test_ds_embed = np.array(df1['modified_sequence_vector'])\n",
    "test_ds_embed_raw = np.array(df1['modified_sequence'])\n",
    "test_labels_embed = np.array(df1['most_abundant_charge_vector'])\n",
    "test_true_labels_normalized = np.array(df1['normalized'])"
   ],
   "metadata": {
    "collapsed": false,
    "ExecuteTime": {
     "end_time": "2023-09-09T16:53:34.913093600Z",
     "start_time": "2023-09-09T16:53:34.663946100Z"
    }
   }
  },
  {
   "cell_type": "code",
   "execution_count": 38,
   "outputs": [],
   "source": [
    "test_ds_embed = [np.array(x) for x in test_ds_embed]"
   ],
   "metadata": {
    "collapsed": false,
    "ExecuteTime": {
     "end_time": "2023-09-09T16:53:36.407894500Z",
     "start_time": "2023-09-09T16:53:35.955701700Z"
    }
   }
  },
  {
   "cell_type": "code",
   "execution_count": 39,
   "outputs": [],
   "source": [
    "test_labels_embed = [np.array(x) for x in test_labels_embed]"
   ],
   "metadata": {
    "collapsed": false,
    "ExecuteTime": {
     "end_time": "2023-09-09T16:53:37.138828500Z",
     "start_time": "2023-09-09T16:53:37.025163700Z"
    }
   }
  },
  {
   "cell_type": "code",
   "execution_count": 40,
   "outputs": [],
   "source": [
    "test_ds_embed = tf.convert_to_tensor(test_ds_embed)\n",
    "test_labels_embed = tf.convert_to_tensor(test_labels_embed)"
   ],
   "metadata": {
    "collapsed": false,
    "ExecuteTime": {
     "end_time": "2023-09-09T16:53:38.865191500Z",
     "start_time": "2023-09-09T16:53:38.298839800Z"
    }
   }
  },
  {
   "cell_type": "markdown",
   "source": [
    "# The random predictor baseline model"
   ],
   "metadata": {
    "collapsed": false
   }
  },
  {
   "cell_type": "code",
   "execution_count": 41,
   "outputs": [
    {
     "data": {
      "text/plain": "                 modified_sequence  \\\n202733                 EVAAARAAETE   \n676563                SNSLRLSLIGDR   \n187277  EM[UNIMOD:35]LTRAIKTQLVLLT   \n332706                 IPRVTTPLSSL   \n\n                                         precursor_charge  \\\n202733                                                [2]   \n676563  [3, 3, 3, 3, 3, 3, 3, 3, 3, 3, 3, 3, 3, 2, 2, ...   \n187277  [3, 3, 2, 3, 2, 3, 3, 2, 3, 3, 3, 3, 3, 3, 3, ...   \n332706  [2, 2, 2, 2, 2, 2, 2, 2, 2, 2, 2, 2, 2, 2, 2, ...   \n\n                                      precursor_intensity  seq_len_prepadding  \\\n202733                                        [2308078.0]                  11   \n676563  [235036700.0, 97028600.0, 40602360.0, 23503670...                  12   \n187277  [36243780.0, 20539810.0, 7780559.0, 4336029.0,...                  26   \n332706  [46604460.0, 3748077.0, 46604460.0, 2759318.0,...                  11   \n\n                            normalized                  pre_normalization  \\\n202733                  {2: 2308078.0}                     {2: 2308078.0}   \n676563  {3: 15888960.0, 2: 41187530.0}  {3: 8432234945.0, 2: 318124150.0}   \n187277   {3: 48770720.0, 2: 7114500.0}   {3: 2520368785.0, 2: 22675618.0}   \n332706                  {2: 9628667.0}                  {2: 4689524063.0}   \n\n        most_abundant_charge most_abundant_charge_vector  \\\n202733                     2          [0, 1, 0, 0, 0, 0]   \n676563                     2          [0, 1, 0, 0, 0, 0]   \n187277                     3          [0, 0, 1, 0, 0, 0]   \n332706                     2          [0, 1, 0, 0, 0, 0]   \n\n                                 modified_sequence_vector  \n202733  [4, 18, 1, 1, 1, 15, 1, 1, 4, 17, 4, 0, 0, 0, ...  \n676563  [16, 12, 16, 10, 15, 10, 16, 10, 8, 6, 3, 15, ...  \n187277  [4, 22, 10, 17, 15, 1, 8, 9, 17, 14, 10, 18, 1...  \n332706  [8, 13, 15, 18, 17, 17, 13, 10, 16, 16, 10, 0,...  ",
      "text/html": "<div>\n<style scoped>\n    .dataframe tbody tr th:only-of-type {\n        vertical-align: middle;\n    }\n\n    .dataframe tbody tr th {\n        vertical-align: top;\n    }\n\n    .dataframe thead th {\n        text-align: right;\n    }\n</style>\n<table border=\"1\" class=\"dataframe\">\n  <thead>\n    <tr style=\"text-align: right;\">\n      <th></th>\n      <th>modified_sequence</th>\n      <th>precursor_charge</th>\n      <th>precursor_intensity</th>\n      <th>seq_len_prepadding</th>\n      <th>normalized</th>\n      <th>pre_normalization</th>\n      <th>most_abundant_charge</th>\n      <th>most_abundant_charge_vector</th>\n      <th>modified_sequence_vector</th>\n    </tr>\n  </thead>\n  <tbody>\n    <tr>\n      <th>202733</th>\n      <td>EVAAARAAETE</td>\n      <td>[2]</td>\n      <td>[2308078.0]</td>\n      <td>11</td>\n      <td>{2: 2308078.0}</td>\n      <td>{2: 2308078.0}</td>\n      <td>2</td>\n      <td>[0, 1, 0, 0, 0, 0]</td>\n      <td>[4, 18, 1, 1, 1, 15, 1, 1, 4, 17, 4, 0, 0, 0, ...</td>\n    </tr>\n    <tr>\n      <th>676563</th>\n      <td>SNSLRLSLIGDR</td>\n      <td>[3, 3, 3, 3, 3, 3, 3, 3, 3, 3, 3, 3, 3, 2, 2, ...</td>\n      <td>[235036700.0, 97028600.0, 40602360.0, 23503670...</td>\n      <td>12</td>\n      <td>{3: 15888960.0, 2: 41187530.0}</td>\n      <td>{3: 8432234945.0, 2: 318124150.0}</td>\n      <td>2</td>\n      <td>[0, 1, 0, 0, 0, 0]</td>\n      <td>[16, 12, 16, 10, 15, 10, 16, 10, 8, 6, 3, 15, ...</td>\n    </tr>\n    <tr>\n      <th>187277</th>\n      <td>EM[UNIMOD:35]LTRAIKTQLVLLT</td>\n      <td>[3, 3, 2, 3, 2, 3, 3, 2, 3, 3, 3, 3, 3, 3, 3, ...</td>\n      <td>[36243780.0, 20539810.0, 7780559.0, 4336029.0,...</td>\n      <td>26</td>\n      <td>{3: 48770720.0, 2: 7114500.0}</td>\n      <td>{3: 2520368785.0, 2: 22675618.0}</td>\n      <td>3</td>\n      <td>[0, 0, 1, 0, 0, 0]</td>\n      <td>[4, 22, 10, 17, 15, 1, 8, 9, 17, 14, 10, 18, 1...</td>\n    </tr>\n    <tr>\n      <th>332706</th>\n      <td>IPRVTTPLSSL</td>\n      <td>[2, 2, 2, 2, 2, 2, 2, 2, 2, 2, 2, 2, 2, 2, 2, ...</td>\n      <td>[46604460.0, 3748077.0, 46604460.0, 2759318.0,...</td>\n      <td>11</td>\n      <td>{2: 9628667.0}</td>\n      <td>{2: 4689524063.0}</td>\n      <td>2</td>\n      <td>[0, 1, 0, 0, 0, 0]</td>\n      <td>[8, 13, 15, 18, 17, 17, 13, 10, 16, 16, 10, 0,...</td>\n    </tr>\n  </tbody>\n</table>\n</div>"
     },
     "execution_count": 41,
     "metadata": {},
     "output_type": "execute_result"
    }
   ],
   "source": [
    "df1.head(4)"
   ],
   "metadata": {
    "collapsed": false,
    "ExecuteTime": {
     "end_time": "2023-09-09T16:53:39.931643400Z",
     "start_time": "2023-09-09T16:53:39.852102400Z"
    }
   }
  },
  {
   "cell_type": "code",
   "execution_count": 43,
   "outputs": [
    {
     "name": "stdout",
     "output_type": "stream",
     "text": [
      "2 45328 54.56\n",
      "3 26040 31.34\n",
      "4 6503 7.83\n",
      "1 4126 4.97\n",
      "5 903 1.09\n",
      "6 182 0.22\n",
      "total:  83082\n"
     ]
    }
   ],
   "source": [
    "# count all values\n",
    "dist_dict_testset = dict()\n",
    "for x in df1[\"most_abundant_charge\"].value_counts().index:\n",
    "    # as percentage\n",
    "    print(x, df1[\"most_abundant_charge\"].value_counts()[x], round(df1[\"most_abundant_charge\"].value_counts()[x]/sum(df1[\"most_abundant_charge\"].value_counts())*100, 2))\n",
    "    dist_dict_testset[x] = round(df1[\"most_abundant_charge\"].value_counts()[x]/sum(df1[\"most_abundant_charge\"].value_counts())*100, 2)\n",
    "# print total\n",
    "print(\"total: \", sum(df1[\"most_abundant_charge\"].value_counts()))"
   ],
   "metadata": {
    "collapsed": false,
    "ExecuteTime": {
     "end_time": "2023-09-09T16:53:43.197644100Z",
     "start_time": "2023-09-09T16:53:43.108418500Z"
    }
   }
  },
  {
   "cell_type": "code",
   "execution_count": 44,
   "outputs": [
    {
     "name": "stdout",
     "output_type": "stream",
     "text": [
      "2 452544 54.47\n",
      "3 259972 31.29\n",
      "4 65966 7.94\n",
      "1 41352 4.98\n",
      "5 9069 1.09\n",
      "6 1917 0.23\n",
      "total:  830820\n"
     ]
    }
   ],
   "source": [
    "# count all values\n",
    "dist_dict = dict()\n",
    "for x in merged_df[\"most_abundant_charge\"].value_counts().index:\n",
    "    # as percentage\n",
    "    print(x, merged_df[\"most_abundant_charge\"].value_counts()[x], round(merged_df[\"most_abundant_charge\"].value_counts()[x]/sum(merged_df[\"most_abundant_charge\"].value_counts())*100, 2))\n",
    "    dist_dict[x] = round(merged_df[\"most_abundant_charge\"].value_counts()[x]/sum(merged_df[\"most_abundant_charge\"].value_counts())*100, 2)\n",
    "# print total\n",
    "print(\"total: \", sum(merged_df[\"most_abundant_charge\"].value_counts()))"
   ],
   "metadata": {
    "collapsed": false,
    "ExecuteTime": {
     "end_time": "2023-09-09T16:53:44.898794300Z",
     "start_time": "2023-09-09T16:53:44.754995600Z"
    }
   }
  },
  {
   "cell_type": "code",
   "execution_count": 45,
   "outputs": [
    {
     "data": {
      "text/plain": "            modified_sequence  \\\n0      AAAAAAAAAAAAAAAAGLGLGP   \n1       AAAAAAAAAAAAAAAASAGGK   \n2      AAAAAAAAAAAAAAAGAGAGAK   \n3  AAAAAAAAAAAAAAASGFAYPGTSER   \n\n                                    precursor_charge  \\\n0  [2, 3, 2, 1, 1, 2, 2, 2, 2, 2, 2, 3, 3, 3, 3, ...   \n1      [2, 2, 2, 2, 2, 2, 2, 2, 2, 2, 2, 2, 2, 2, 2]   \n2                                       [2, 2, 2, 2]   \n3  [2, 2, 2, 2, 2, 2, 2, 2, 2, 2, 2, 2, 2, 2, 2, ...   \n\n                                 precursor_intensity  seq_len_prepadding  \\\n0  [12746190.0, 2009914.0, 12746190.0, 791369.9, ...                  22   \n1  [5944787.0, 5944787.0, 8502878.0, 6425294.0, 8...                  21   \n2       [3067981.0, 3067981.0, 3067981.0, 3067981.0]                  22   \n3  [11913300.0, 11913300.0, 11913300.0, 11913300....                  26   \n\n                                 normalized  \\\n0  {2: 588796.3, 3: 4654280.0, 1: 791369.9}   \n1                             {2: 303307.5}   \n2                            {2: 3067981.0}   \n3              {2: 8093413.0, 3: 1414907.0}   \n\n                                pre_normalization  most_abundant_charge  \\\n0  {2: 1043873837.3, 3: 30130627.0, 1: 1582739.8}                     3   \n1                                {2: 107202221.5}                     2   \n2                                 {2: 12271924.0}                     2   \n3                  {2: 148659685.0, 3: 4244721.0}                     2   \n\n  most_abundant_charge_vector  \\\n0          [0, 0, 1, 0, 0, 0]   \n1          [0, 1, 0, 0, 0, 0]   \n2          [0, 1, 0, 0, 0, 0]   \n3          [0, 1, 0, 0, 0, 0]   \n\n                            modified_sequence_vector  \n0  [1, 1, 1, 1, 1, 1, 1, 1, 1, 1, 1, 1, 1, 1, 1, ...  \n1  [1, 1, 1, 1, 1, 1, 1, 1, 1, 1, 1, 1, 1, 1, 1, ...  \n2  [1, 1, 1, 1, 1, 1, 1, 1, 1, 1, 1, 1, 1, 1, 1, ...  \n3  [1, 1, 1, 1, 1, 1, 1, 1, 1, 1, 1, 1, 1, 1, 1, ...  ",
      "text/html": "<div>\n<style scoped>\n    .dataframe tbody tr th:only-of-type {\n        vertical-align: middle;\n    }\n\n    .dataframe tbody tr th {\n        vertical-align: top;\n    }\n\n    .dataframe thead th {\n        text-align: right;\n    }\n</style>\n<table border=\"1\" class=\"dataframe\">\n  <thead>\n    <tr style=\"text-align: right;\">\n      <th></th>\n      <th>modified_sequence</th>\n      <th>precursor_charge</th>\n      <th>precursor_intensity</th>\n      <th>seq_len_prepadding</th>\n      <th>normalized</th>\n      <th>pre_normalization</th>\n      <th>most_abundant_charge</th>\n      <th>most_abundant_charge_vector</th>\n      <th>modified_sequence_vector</th>\n    </tr>\n  </thead>\n  <tbody>\n    <tr>\n      <th>0</th>\n      <td>AAAAAAAAAAAAAAAAGLGLGP</td>\n      <td>[2, 3, 2, 1, 1, 2, 2, 2, 2, 2, 2, 3, 3, 3, 3, ...</td>\n      <td>[12746190.0, 2009914.0, 12746190.0, 791369.9, ...</td>\n      <td>22</td>\n      <td>{2: 588796.3, 3: 4654280.0, 1: 791369.9}</td>\n      <td>{2: 1043873837.3, 3: 30130627.0, 1: 1582739.8}</td>\n      <td>3</td>\n      <td>[0, 0, 1, 0, 0, 0]</td>\n      <td>[1, 1, 1, 1, 1, 1, 1, 1, 1, 1, 1, 1, 1, 1, 1, ...</td>\n    </tr>\n    <tr>\n      <th>1</th>\n      <td>AAAAAAAAAAAAAAAASAGGK</td>\n      <td>[2, 2, 2, 2, 2, 2, 2, 2, 2, 2, 2, 2, 2, 2, 2]</td>\n      <td>[5944787.0, 5944787.0, 8502878.0, 6425294.0, 8...</td>\n      <td>21</td>\n      <td>{2: 303307.5}</td>\n      <td>{2: 107202221.5}</td>\n      <td>2</td>\n      <td>[0, 1, 0, 0, 0, 0]</td>\n      <td>[1, 1, 1, 1, 1, 1, 1, 1, 1, 1, 1, 1, 1, 1, 1, ...</td>\n    </tr>\n    <tr>\n      <th>2</th>\n      <td>AAAAAAAAAAAAAAAGAGAGAK</td>\n      <td>[2, 2, 2, 2]</td>\n      <td>[3067981.0, 3067981.0, 3067981.0, 3067981.0]</td>\n      <td>22</td>\n      <td>{2: 3067981.0}</td>\n      <td>{2: 12271924.0}</td>\n      <td>2</td>\n      <td>[0, 1, 0, 0, 0, 0]</td>\n      <td>[1, 1, 1, 1, 1, 1, 1, 1, 1, 1, 1, 1, 1, 1, 1, ...</td>\n    </tr>\n    <tr>\n      <th>3</th>\n      <td>AAAAAAAAAAAAAAASGFAYPGTSER</td>\n      <td>[2, 2, 2, 2, 2, 2, 2, 2, 2, 2, 2, 2, 2, 2, 2, ...</td>\n      <td>[11913300.0, 11913300.0, 11913300.0, 11913300....</td>\n      <td>26</td>\n      <td>{2: 8093413.0, 3: 1414907.0}</td>\n      <td>{2: 148659685.0, 3: 4244721.0}</td>\n      <td>2</td>\n      <td>[0, 1, 0, 0, 0, 0]</td>\n      <td>[1, 1, 1, 1, 1, 1, 1, 1, 1, 1, 1, 1, 1, 1, 1, ...</td>\n    </tr>\n  </tbody>\n</table>\n</div>"
     },
     "execution_count": 45,
     "metadata": {},
     "output_type": "execute_result"
    }
   ],
   "source": [
    "merged_df.head(4)"
   ],
   "metadata": {
    "collapsed": false,
    "ExecuteTime": {
     "end_time": "2023-09-09T16:53:49.077478200Z",
     "start_time": "2023-09-09T16:53:48.998567100Z"
    }
   }
  },
  {
   "cell_type": "code",
   "execution_count": 46,
   "outputs": [
    {
     "data": {
      "text/plain": "dict_items([(2, 54.47), (3, 31.29), (4, 7.94), (1, 4.98), (5, 1.09), (6, 0.23)])"
     },
     "execution_count": 46,
     "metadata": {},
     "output_type": "execute_result"
    }
   ],
   "source": [
    "dist_dict.items()"
   ],
   "metadata": {
    "collapsed": false,
    "ExecuteTime": {
     "end_time": "2023-09-09T16:53:56.649776100Z",
     "start_time": "2023-09-09T16:53:56.563728900Z"
    }
   }
  },
  {
   "cell_type": "code",
   "execution_count": 71,
   "outputs": [],
   "source": [
    "random_range = []\n",
    "for key, value in dist_dict.items():\n",
    "    for i in range(int(value)):\n",
    "        random_range.append(key)"
   ],
   "metadata": {
    "collapsed": false,
    "ExecuteTime": {
     "end_time": "2023-09-09T17:38:07.109497500Z",
     "start_time": "2023-09-09T17:38:07.014834900Z"
    }
   }
  },
  {
   "cell_type": "code",
   "execution_count": 72,
   "outputs": [],
   "source": [
    "def random_predictor(anything, randomizer=random_range):\n",
    "    return random.choice(random_range)"
   ],
   "metadata": {
    "collapsed": false,
    "ExecuteTime": {
     "end_time": "2023-09-09T17:38:09.397684300Z",
     "start_time": "2023-09-09T17:38:09.316779200Z"
    }
   }
  },
  {
   "cell_type": "code",
   "execution_count": null,
   "outputs": [],
   "source": [
    "accuracy_list = []\n",
    "\n",
    "for num in range(1):\n",
    "    # iterate through all rows of df1\n",
    "    df1['random_label'] = df1['most_abundant_charge'].apply(random_predictor)\n",
    "    \n",
    "    correct_random = 0\n",
    "    wrong_random = 0\n",
    "    total_random = 0\n",
    "    for index, row in df1.iterrows():\n",
    "        total_random += 1\n",
    "        if row['random_label'] == row['most_abundant_charge']:\n",
    "            correct_random += 1\n",
    "        else:\n",
    "            wrong_random += 1\n",
    "            \n",
    "    ## return accuracy\n",
    "    #print(\"correct: \", correct_random, \"wrong: \", wrong_random, \"total: \", total_random)\n",
    "    #print(\"accuracy: \", correct_random/total_random)\n",
    "    accuracy_list.append(correct_random/total_random)"
   ],
   "metadata": {
    "collapsed": false
   }
  },
  {
   "cell_type": "code",
   "execution_count": 90,
   "outputs": [
    {
     "ename": "KeyboardInterrupt",
     "evalue": "",
     "output_type": "error",
     "traceback": [
      "\u001B[1;31m---------------------------------------------------------------------------\u001B[0m",
      "\u001B[1;31mKeyboardInterrupt\u001B[0m                         Traceback (most recent call last)",
      "Cell \u001B[1;32mIn[90], line 12\u001B[0m\n\u001B[0;32m     10\u001B[0m \u001B[38;5;28;01mfor\u001B[39;00m index, row \u001B[38;5;129;01min\u001B[39;00m df1\u001B[38;5;241m.\u001B[39miterrows():\n\u001B[0;32m     11\u001B[0m     total_random \u001B[38;5;241m+\u001B[39m\u001B[38;5;241m=\u001B[39m \u001B[38;5;241m1\u001B[39m\n\u001B[1;32m---> 12\u001B[0m     \u001B[38;5;28;01mif\u001B[39;00m \u001B[43mrow\u001B[49m\u001B[43m[\u001B[49m\u001B[38;5;124;43m'\u001B[39;49m\u001B[38;5;124;43mrandom_label\u001B[39;49m\u001B[38;5;124;43m'\u001B[39;49m\u001B[43m]\u001B[49m \u001B[38;5;241m==\u001B[39m row[\u001B[38;5;124m'\u001B[39m\u001B[38;5;124mmost_abundant_charge\u001B[39m\u001B[38;5;124m'\u001B[39m]:\n\u001B[0;32m     13\u001B[0m         correct_random \u001B[38;5;241m+\u001B[39m\u001B[38;5;241m=\u001B[39m \u001B[38;5;241m1\u001B[39m\n\u001B[0;32m     14\u001B[0m     \u001B[38;5;28;01melse\u001B[39;00m:\n",
      "File \u001B[1;32m~\\OneDrive\\Dokumente\\GitHub\\BachelorThesis\\venv\\Lib\\site-packages\\pandas\\core\\series.py:967\u001B[0m, in \u001B[0;36mSeries.__getitem__\u001B[1;34m(self, key)\u001B[0m\n\u001B[0;32m    966\u001B[0m \u001B[38;5;28;01mdef\u001B[39;00m \u001B[38;5;21m__getitem__\u001B[39m(\u001B[38;5;28mself\u001B[39m, key):\n\u001B[1;32m--> 967\u001B[0m     \u001B[43mcheck_deprecated_indexers\u001B[49m\u001B[43m(\u001B[49m\u001B[43mkey\u001B[49m\u001B[43m)\u001B[49m\n\u001B[0;32m    968\u001B[0m     key \u001B[38;5;241m=\u001B[39m com\u001B[38;5;241m.\u001B[39mapply_if_callable(key, \u001B[38;5;28mself\u001B[39m)\n\u001B[0;32m    970\u001B[0m     \u001B[38;5;28;01mif\u001B[39;00m key \u001B[38;5;129;01mis\u001B[39;00m \u001B[38;5;28mEllipsis\u001B[39m:\n",
      "File \u001B[1;32m~\\OneDrive\\Dokumente\\GitHub\\BachelorThesis\\venv\\Lib\\site-packages\\pandas\\core\\indexing.py:2656\u001B[0m, in \u001B[0;36mcheck_deprecated_indexers\u001B[1;34m(key)\u001B[0m\n\u001B[0;32m   2644\u001B[0m \u001B[38;5;250m    \u001B[39m\u001B[38;5;124;03m\"\"\"\u001B[39;00m\n\u001B[0;32m   2645\u001B[0m \u001B[38;5;124;03m    Returns\u001B[39;00m\n\u001B[0;32m   2646\u001B[0m \u001B[38;5;124;03m    -------\u001B[39;00m\n\u001B[0;32m   2647\u001B[0m \u001B[38;5;124;03m    bool\u001B[39;00m\n\u001B[0;32m   2648\u001B[0m \u001B[38;5;124;03m    \"\"\"\u001B[39;00m\n\u001B[0;32m   2649\u001B[0m     \u001B[38;5;28;01mreturn\u001B[39;00m (\n\u001B[0;32m   2650\u001B[0m         obj\u001B[38;5;241m.\u001B[39mstart \u001B[38;5;129;01mis\u001B[39;00m \u001B[38;5;129;01mnot\u001B[39;00m \u001B[38;5;28;01mNone\u001B[39;00m\n\u001B[0;32m   2651\u001B[0m         \u001B[38;5;129;01mor\u001B[39;00m obj\u001B[38;5;241m.\u001B[39mstop \u001B[38;5;129;01mis\u001B[39;00m \u001B[38;5;129;01mnot\u001B[39;00m \u001B[38;5;28;01mNone\u001B[39;00m\n\u001B[0;32m   2652\u001B[0m         \u001B[38;5;129;01mor\u001B[39;00m (obj\u001B[38;5;241m.\u001B[39mstep \u001B[38;5;129;01mis\u001B[39;00m \u001B[38;5;129;01mnot\u001B[39;00m \u001B[38;5;28;01mNone\u001B[39;00m \u001B[38;5;129;01mand\u001B[39;00m obj\u001B[38;5;241m.\u001B[39mstep \u001B[38;5;241m!=\u001B[39m \u001B[38;5;241m1\u001B[39m)\n\u001B[0;32m   2653\u001B[0m     )\n\u001B[1;32m-> 2656\u001B[0m \u001B[38;5;28;01mdef\u001B[39;00m \u001B[38;5;21mcheck_deprecated_indexers\u001B[39m(key) \u001B[38;5;241m-\u001B[39m\u001B[38;5;241m>\u001B[39m \u001B[38;5;28;01mNone\u001B[39;00m:\n\u001B[0;32m   2657\u001B[0m \u001B[38;5;250m    \u001B[39m\u001B[38;5;124;03m\"\"\"Checks if the key is a deprecated indexer.\"\"\"\u001B[39;00m\n\u001B[0;32m   2658\u001B[0m     \u001B[38;5;28;01mif\u001B[39;00m (\n\u001B[0;32m   2659\u001B[0m         \u001B[38;5;28misinstance\u001B[39m(key, \u001B[38;5;28mset\u001B[39m)\n\u001B[0;32m   2660\u001B[0m         \u001B[38;5;129;01mor\u001B[39;00m \u001B[38;5;28misinstance\u001B[39m(key, \u001B[38;5;28mtuple\u001B[39m)\n\u001B[0;32m   2661\u001B[0m         \u001B[38;5;129;01mand\u001B[39;00m \u001B[38;5;28many\u001B[39m(\u001B[38;5;28misinstance\u001B[39m(x, \u001B[38;5;28mset\u001B[39m) \u001B[38;5;28;01mfor\u001B[39;00m x \u001B[38;5;129;01min\u001B[39;00m key)\n\u001B[0;32m   2662\u001B[0m     ):\n",
      "\u001B[1;31mKeyboardInterrupt\u001B[0m: "
     ]
    }
   ],
   "source": [
    "accuracy_list = []\n",
    "\n",
    "for num in range(10000):\n",
    "    # iterate through all rows of df1\n",
    "    df1['random_label'] = df1['most_abundant_charge'].apply(random_predictor)\n",
    "    \n",
    "    correct_random = 0\n",
    "    wrong_random = 0\n",
    "    total_random = 0\n",
    "    for index, row in df1.iterrows():\n",
    "        total_random += 1\n",
    "        if row['random_label'] == row['most_abundant_charge']:\n",
    "            correct_random += 1\n",
    "        else:\n",
    "            wrong_random += 1\n",
    "            \n",
    "    ## return accuracy\n",
    "    #print(\"correct: \", correct_random, \"wrong: \", wrong_random, \"total: \", total_random)\n",
    "    #print(\"accuracy: \", correct_random/total_random)\n",
    "    accuracy_list.append(correct_random/total_random)\n"
   ],
   "metadata": {
    "collapsed": false,
    "ExecuteTime": {
     "end_time": "2023-09-10T00:12:44.092389900Z",
     "start_time": "2023-09-09T17:41:04.801878100Z"
    }
   }
  },
  {
   "cell_type": "code",
   "execution_count": 96,
   "outputs": [],
   "source": [
    "# save to file: accuracy_list\n",
    "import pickle\n",
    "with open('random_accuracy_list.pickle', 'wb') as f:\n",
    "    pickle.dump(accuracy_list, f)\n",
    "    "
   ],
   "metadata": {
    "collapsed": false,
    "ExecuteTime": {
     "end_time": "2023-09-10T00:14:34.344427900Z",
     "start_time": "2023-09-10T00:14:34.263933100Z"
    }
   }
  },
  {
   "cell_type": "code",
   "execution_count": 97,
   "outputs": [
    {
     "data": {
      "text/plain": "[0.413085866974796,\n 0.4103175176331817,\n 0.41166558339953296,\n 0.40869261693266895,\n 0.4134951012252955,\n 0.41017308201535835,\n 0.41386822657133915,\n 0.4118340916203269,\n 0.4119544546351797,\n 0.41390433547579497,\n 0.41178594641438576,\n 0.40966755735297655,\n 0.4137960087624275,\n 0.40927035940396234,\n 0.41317012108519297,\n 0.4093546135143593,\n 0.41205074504706196,\n 0.41087118750150453,\n 0.41359139163717773,\n 0.4112563491490335,\n 0.412568306010929,\n 0.415023711513926,\n 0.4100406826990202,\n 0.41102765942081315,\n 0.41049806215546086,\n 0.41118413134012183,\n 0.4132423388941046,\n 0.40961941214703546,\n 0.41590236152235144,\n 0.41178594641438576,\n 0.41073878818516646,\n 0.41214703545894416,\n 0.4114730025757685,\n 0.4097157025589177,\n 0.41097951421487205,\n 0.41013697311090247,\n 0.4098842107797116,\n 0.41090729640596035,\n 0.41078693339110756,\n 0.41193038203220916,\n 0.41290532245251677,\n 0.41221925326785586,\n 0.41218314436340003,\n 0.411280421752004,\n 0.4103054813316964,\n 0.4105221347584314,\n 0.411280421752004,\n 0.40973977516188825,\n 0.41292939505548737,\n 0.4112322765460629,\n 0.4088370525504923,\n 0.4118942731277533,\n 0.41206278134854724,\n 0.4104739895524903,\n 0.4152042560362052,\n 0.41453022315302956,\n 0.41051009845694614,\n 0.411882236826268,\n 0.4139163717772803,\n 0.4108350785970487,\n 0.4114007847668568,\n 0.41314604848222236,\n 0.4126405238198406,\n 0.4124359066945909,\n 0.41292939505548737,\n 0.4138802628728244,\n 0.4120146361426061,\n 0.4086805806311837,\n 0.41109987722972485,\n 0.4140006258876772,\n 0.411882236826268,\n 0.4106545340747695,\n 0.41106376832526903,\n 0.41242387039310563,\n 0.41262848751835535,\n 0.41182205531884164,\n 0.4154329457644255,\n 0.4080787655569197,\n 0.40913796008762426,\n 0.41093136900893096,\n 0.41069064297922536,\n 0.41238776148864975,\n 0.4136515731446041,\n 0.4106424977732842,\n 0.40993235598565275,\n 0.41117209503863655,\n 0.4127127416287523,\n 0.4110396957222984,\n 0.4121229628559736,\n 0.4096795936544619,\n 0.41351917382826603,\n 0.4099925374930791,\n 0.41342288341638384,\n 0.4107748970896223,\n 0.41233961628270865,\n 0.40910185118316844,\n 0.4096795936544619,\n 0.41024529982427,\n 0.4146024409619412,\n 0.4112322765460629,\n 0.4106063888688284,\n 0.4111119135312101,\n 0.41017308201535835,\n 0.4114007847668568,\n 0.4109674779133868,\n 0.4080546929539491,\n 0.40898148816831564,\n 0.41197852723815026,\n 0.41270070532726705,\n 0.41069064297922536,\n 0.4117618738114152,\n 0.41397655328470667,\n 0.41129245805348935,\n 0.41278495943766397,\n 0.41063046147179894,\n 0.4124960882020173,\n 0.4117137286054741,\n 0.4091981415950507,\n 0.41129245805348935,\n 0.4138080450639128,\n 0.4120748176500325,\n 0.41397655328470667,\n 0.41545701836739607,\n 0.4127127416287523,\n 0.41526443754363157,\n 0.4121349991574589,\n 0.4101249368094172,\n 0.4116776197010183,\n 0.4107989696925929,\n 0.41318215738667824,\n 0.41203870874557663,\n 0.41433764232926507,\n 0.4079945114465227,\n 0.4137358272550011,\n 0.4110156231193279,\n 0.4107147155821959,\n 0.41345899232083966,\n 0.40949904913218266,\n 0.40958330324257963,\n 0.40934257721287404,\n 0.40993235598565275,\n 0.410161045713873,\n 0.4097518114633735,\n 0.40898148816831564,\n 0.4129534676584579,\n 0.4138441539683686,\n 0.41318215738667824,\n 0.41099155051635733,\n 0.41245997929756145,\n 0.4116054018921066,\n 0.41182205531884164,\n 0.4095351580366385,\n 0.4115572566861655,\n 0.41351917382826603,\n 0.4113285669579452,\n 0.4105943525673431,\n 0.411280421752004,\n 0.4106424977732842,\n 0.40905370597722734,\n 0.4099925374930791,\n 0.4134349197178691,\n 0.4130377217688549,\n 0.40789822103464046,\n 0.41214703545894416,\n 0.41329048410004576,\n 0.4111600587371512,\n 0.4118340916203269,\n 0.4135312101297513,\n 0.41022122722129944,\n 0.41366360944608943,\n 0.41078693339110756,\n 0.4124479429960762,\n 0.41202667244409136,\n 0.41014900941238774,\n 0.41359139163717773,\n 0.4138441539683686,\n 0.4097758840663441,\n 0.41214703545894416,\n 0.4127729231361787,\n 0.41061842517031366,\n 0.41156929298765077,\n 0.4112082039430924,\n 0.4123275799812234,\n 0.4123275799812234,\n 0.41146096627428325,\n 0.4138802628728244,\n 0.4114007847668568,\n 0.4123155436797381,\n 0.41459040466045594,\n 0.41221925326785586,\n 0.41306179437182544,\n 0.411882236826268,\n 0.4090777785801979,\n 0.4100406826990202,\n 0.41066657037625476,\n 0.41447004164560314,\n 0.41129245805348935,\n 0.41106376832526903,\n 0.4118942731277533,\n 0.41134060325943045,\n 0.41273681423172287,\n 0.40921017789653596,\n 0.4087527984400953,\n 0.41221925326785586,\n 0.41310993957776654,\n 0.4131941936881635,\n 0.4111600587371512,\n 0.4115452203846802,\n 0.41650417659661537,\n 0.4108350785970487,\n 0.4137960087624275,\n 0.41020919091981417,\n 0.4121229628559736,\n 0.40901759707277147,\n 0.41066657037625476,\n 0.4138802628728244,\n 0.41174983750992994,\n 0.4126405238198406,\n 0.41327844779856043,\n 0.41338677451192796,\n 0.41038973544209334,\n 0.4115572566861655,\n 0.40973977516188825,\n 0.4103536265376375,\n 0.41315808478370764,\n 0.4143617149322356,\n 0.41038973544209334,\n 0.4111961676416071,\n 0.41209889025300306,\n 0.4122072169663706,\n 0.4117979827158711,\n 0.4117979827158711,\n 0.412399797790135,\n 0.4126405238198406,\n 0.4117257649069594,\n 0.41209889025300306,\n 0.4111600587371512,\n 0.41185816422329746,\n 0.40986013817674105,\n 0.41078693339110756,\n 0.41402469849064777,\n 0.4143617149322356,\n 0.41161743819359187,\n 0.41038973544209334,\n 0.41149707517873907,\n 0.4149153848005585,\n 0.4095231217351532,\n 0.4126766327242965,\n 0.4120868539515178,\n 0.41205074504706196,\n 0.40877687104306587,\n 0.4085361450133603,\n 0.41118413134012183,\n 0.4116415107965624,\n 0.4117739101129005,\n 0.4102332635227847,\n 0.4107147155821959,\n 0.41078693339110756,\n 0.4100888279049614,\n 0.4098481018752558,\n 0.41285717724657567,\n 0.4107147155821959,\n 0.41025733612575527,\n 0.41002864639753495,\n 0.41235165258419393,\n 0.4135552827327219,\n 0.41475891288124983,\n 0.412568306010929,\n 0.41173780120844466,\n 0.4114007847668568,\n 0.41430153342480924,\n 0.41117209503863655,\n 0.4124960882020173,\n 0.41294143135697264,\n 0.41409691629955947,\n 0.41199056353963553,\n 0.40969162995594716,\n 0.4122433258708264,\n 0.41156929298765077,\n 0.41302568546736956,\n 0.4137358272550011,\n 0.4112322765460629,\n 0.41414506150550057,\n 0.41185816422329746,\n 0.4107267518836812,\n 0.4107748970896223,\n 0.4129173587540021,\n 0.41366360944608943,\n 0.4122072169663706,\n 0.41306179437182544,\n 0.4116535470980477,\n 0.41330252040153104,\n 0.4112322765460629,\n 0.4122433258708264,\n 0.41078693339110756,\n 0.41069064297922536,\n 0.4126405238198406,\n 0.41329048410004576,\n 0.41106376832526903,\n 0.4119544546351797,\n 0.4113285669579452,\n 0.4136756457475747,\n 0.41002864639753495,\n 0.4123275799812234,\n 0.41013697311090247,\n 0.41097951421487205,\n 0.4116054018921066,\n 0.4116415107965624,\n 0.4122553621723117,\n 0.41286921354806094,\n 0.41081100599407816,\n 0.4097758840663441,\n 0.4115211477817096,\n 0.41178594641438576,\n 0.41058231626585784,\n 0.41357935533569246,\n 0.40951108543366793,\n 0.41369971835054525,\n 0.4126645964228112,\n 0.41156929298765077,\n 0.4118340916203269,\n 0.41330252040153104,\n 0.408825016249007,\n 0.41075082448665173,\n 0.41097951421487205,\n 0.4114368936713127,\n 0.4128331046436051,\n 0.4104739895524903,\n 0.4123757251871645,\n 0.4130377217688549,\n 0.4096555210514913,\n 0.4113165306564599,\n 0.4115933655906213,\n 0.41057027996437256,\n 0.40809080185840496,\n 0.4112322765460629,\n 0.4134830649238102,\n 0.4105341710599167,\n 0.41245997929756145,\n 0.41106376832526903,\n 0.413603427938663,\n 0.4137598998579716,\n 0.4088851977564334,\n 0.41330252040153104,\n 0.41203870874557663,\n 0.4115452203846802,\n 0.4105341710599167,\n 0.41094340531041623,\n 0.41410895260104474,\n 0.41193038203220916,\n 0.4131941936881635,\n 0.4125201608049878,\n 0.41182205531884164,\n 0.4110396957222984,\n 0.4123155436797381,\n 0.41297754026142847,\n 0.41297754026142847,\n 0.41274885053320814,\n 0.41046195325100504,\n 0.41046195325100504,\n 0.41034159023615224,\n 0.41193038203220916,\n 0.4091138874846537,\n 0.410847114898534,\n 0.40958330324257963,\n 0.4094870128306974,\n 0.41182205531884164,\n 0.41230350737825283,\n 0.4104258443465492,\n 0.4100888279049614,\n 0.4105582436628873,\n 0.4111359861341807,\n 0.4110758046267543,\n 0.41106376832526903,\n 0.4141570978069859,\n 0.4127729231361787,\n 0.4066344093786861,\n 0.4124960882020173,\n 0.4122072169663706,\n 0.4096073758455502,\n 0.4118340916203269,\n 0.41354324643123663,\n 0.41209889025300306,\n 0.4125201608049878,\n 0.4110156231193279,\n 0.4109674779133868,\n 0.41057027996437256,\n 0.4097758840663441,\n 0.4090777785801979,\n 0.4148552032931321,\n 0.4139163717772803,\n 0.41166558339953296,\n 0.4120146361426061,\n 0.4140006258876772,\n 0.41063046147179894,\n 0.4104138080450639,\n 0.41218314436340003,\n 0.4098842107797116,\n 0.4115211477817096,\n 0.4110758046267543,\n 0.4120025998411208,\n 0.41345899232083966,\n 0.4102332635227847,\n 0.41197852723815026,\n 0.4126886690257818,\n 0.41097951421487205,\n 0.41315808478370764,\n 0.41156929298765077,\n 0.4126766327242965,\n 0.41438578753520616,\n 0.4114368936713127,\n 0.410546207361402,\n 0.41049806215546086,\n 0.41081100599407816,\n 0.4126405238198406,\n 0.4125321971064731,\n 0.41024529982427,\n 0.4085120724103897,\n 0.41094340531041623,\n 0.4112563491490335,\n 0.41203870874557663,\n 0.41156929298765077,\n 0.40922221419802124,\n 0.41190630942923856,\n 0.4110396957222984,\n 0.40973977516188825,\n 0.41211092655448833,\n 0.4105221347584314,\n 0.4104860258539756,\n 0.4122072169663706,\n 0.41211092655448833,\n 0.4123636888856792,\n 0.4079584025420669,\n 0.41109987722972485,\n 0.40842781829999275,\n 0.41447004164560314,\n 0.41347102862232493,\n 0.4135673190342072,\n 0.41202667244409136,\n 0.41218314436340003,\n 0.4080787655569197,\n 0.4129655039599432,\n 0.41026937242724054,\n 0.4132062299896488,\n 0.4110035868178426,\n 0.40798247514503744,\n 0.4109193327074457,\n 0.4120146361426061,\n 0.4133747382104427,\n 0.4125321971064731,\n 0.41223128956934113,\n 0.41046195325100504,\n 0.4063936833489805,\n 0.41347102862232493,\n 0.4119183457307239,\n 0.4098962470811969,\n 0.4128812498495462,\n 0.4095231217351532,\n 0.411882236826268,\n 0.411364675862401,\n 0.4114368936713127,\n 0.4116776197010183,\n 0.4126044149153848,\n 0.4106786066777401,\n 0.4127729231361787,\n 0.4124118340916203,\n 0.40966755735297655,\n 0.41073878818516646,\n 0.41335066560747213,\n 0.4132423388941046,\n 0.41298957656291374,\n 0.41014900941238774,\n 0.41278495943766397,\n 0.4137598998579716,\n 0.41093136900893096,\n 0.4099203196841674,\n 0.4105221347584314,\n 0.4101971546183289,\n 0.4115331840831949,\n 0.41330252040153104,\n 0.4122794347752822,\n 0.41037769914060807,\n 0.410847114898534,\n 0.412399797790135,\n 0.4126766327242965,\n 0.4139284080787656,\n 0.41063046147179894,\n 0.41158132928913604,\n 0.4111600587371512,\n 0.4104017717435786,\n 0.4136395368431188,\n 0.41302568546736956,\n 0.41563756288967524,\n 0.41025733612575527,\n 0.4131340121807371,\n 0.4109674779133868,\n 0.4084157819985075,\n 0.40837967309405165,\n 0.41371175465203053,\n 0.4124359066945909,\n 0.41026937242724054,\n 0.40648997376086277,\n 0.4129534676584579,\n 0.4141330252040153,\n 0.41438578753520616,\n 0.41069064297922536,\n 0.41170169230398884,\n 0.4123275799812234,\n 0.40998050119159385,\n 0.4094870128306974,\n 0.41487927589610263,\n 0.41203870874557663,\n 0.4105943525673431,\n 0.4100888279049614,\n 0.41341084711489856,\n 0.41105173202378376,\n 0.4114368936713127,\n 0.4116776197010183,\n 0.41233961628270865,\n 0.41398858958619195,\n 0.41105173202378376,\n 0.41126838545051875,\n 0.40949904913218266,\n 0.4109554416119015,\n 0.41063046147179894,\n 0.41306179437182544,\n 0.4122553621723117,\n 0.4131219758792518,\n 0.4114730025757685,\n 0.41223128956934113,\n 0.41318215738667824,\n 0.4108952601044751,\n 0.41037769914060807,\n 0.41034159023615224,\n 0.4116535470980477,\n 0.41366360944608943,\n 0.4106063888688284,\n 0.41090729640596035,\n 0.41386822657133915,\n 0.4122072169663706,\n 0.41187020052478274,\n 0.41049806215546086,\n 0.41193038203220916,\n 0.41242387039310563,\n 0.41445800534411786,\n 0.41290532245251677,\n 0.409944392287138,\n 0.41203870874557663,\n 0.4113044943549746,\n 0.4113165306564599,\n 0.41217110806191476,\n 0.4089213066608892,\n 0.4108350785970487,\n 0.411966490936665,\n 0.41174983750992994,\n 0.4113285669579452,\n 0.4117257649069594,\n 0.4149755663079849,\n 0.4117257649069594,\n 0.4112443128475482,\n 0.409727738860403,\n 0.4115452203846802,\n 0.4129173587540021,\n 0.4094388676247563,\n 0.4106063888688284,\n 0.41017308201535835,\n 0.4128451409450904,\n 0.41285717724657567,\n 0.4138441539683686,\n 0.4101249368094172,\n 0.41285717724657567,\n 0.4111600587371512,\n 0.41211092655448833,\n 0.4113526395609157,\n 0.410847114898534,\n 0.409727738860403,\n 0.4080546929539491,\n 0.4132543751955899,\n 0.4113165306564599,\n 0.41206278134854724,\n 0.4130377217688549,\n 0.41070267928071064,\n 0.40922221419802124,\n 0.41278495943766397,\n 0.41094340531041623,\n 0.4104739895524903,\n 0.4122553621723117,\n 0.413603427938663,\n 0.40969162995594716,\n 0.41166558339953296,\n 0.4088731614549481,\n 0.4125321971064731,\n 0.4119183457307239,\n 0.41025733612575527,\n 0.40951108543366793,\n 0.4103536265376375,\n 0.41323030259261934,\n 0.4168532293396885,\n 0.41097951421487205,\n 0.4116415107965624,\n 0.4085842902193014,\n 0.4139163717772803,\n 0.41049806215546086,\n 0.40939072241881513,\n 0.41297754026142847,\n 0.41161743819359187,\n 0.41044991694951977,\n 0.41194241833369444,\n 0.4112322765460629,\n 0.4107267518836812,\n 0.4120748176500325,\n 0.40777785801978766,\n 0.41118413134012183,\n 0.4154449820659108,\n 0.4131219758792518,\n 0.41304975807034017,\n 0.41205074504706196,\n 0.41442189643966204,\n 0.411882236826268,\n 0.41242387039310563,\n 0.4094388676247563,\n 0.4114368936713127,\n 0.4107748970896223,\n 0.4110035868178426,\n 0.4117739101129005,\n 0.4121951806648853,\n 0.4098721744782263,\n 0.4127127416287523,\n 0.41069064297922536,\n 0.41390433547579497,\n 0.4113526395609157,\n 0.41014900941238774,\n 0.4110758046267543,\n 0.4117979827158711,\n 0.4115331840831949,\n 0.41242387039310563,\n 0.41314604848222236,\n 0.41162947449507714,\n 0.40966755735297655,\n 0.4126886690257818,\n 0.413001612864399,\n 0.41273681423172287,\n 0.4122553621723117,\n 0.41495149370501433,\n 0.41209889025300306,\n 0.4115211477817096,\n 0.40765749500493487,\n 0.4136515731446041,\n 0.4107989696925929,\n 0.4092342504995065,\n 0.415240364940661,\n 0.4112322765460629,\n 0.4110035868178426,\n 0.412568306010929,\n 0.41285717724657567,\n 0.41162947449507714,\n 0.41118413134012183,\n 0.4098842107797116,\n 0.4127247779302376,\n 0.412568306010929,\n 0.41093136900893096,\n 0.4146866950723382,\n 0.41238776148864975,\n 0.4140728436965889,\n 0.41302568546736956,\n 0.41005271900050555,\n 0.41081100599407816,\n 0.4136395368431188,\n 0.4130377217688549,\n 0.4132543751955899,\n 0.41197852723815026,\n 0.41304975807034017,\n 0.4111600587371512,\n 0.41416913410847117,\n 0.41046195325100504,\n 0.41297754026142847,\n 0.4122072169663706,\n 0.40922221419802124,\n 0.4117979827158711,\n 0.41209889025300306,\n 0.4109193327074457,\n 0.4120025998411208,\n 0.4119183457307239,\n 0.40981199297079995,\n 0.41073878818516646,\n 0.4089453792638598,\n 0.4115211477817096,\n 0.4127127416287523,\n 0.4139284080787656,\n 0.41051009845694614,\n 0.41090729640596035,\n 0.40966755735297655,\n 0.41017308201535835,\n 0.4126525601213259,\n 0.41037769914060807,\n 0.41032955393466697,\n 0.4105221347584314,\n 0.41278495943766397,\n 0.4117137286054741,\n 0.40777785801978766,\n 0.4107147155821959,\n 0.4107147155821959,\n 0.4096555210514913,\n 0.41223128956934113,\n 0.4137598998579716,\n 0.41122024024457765,\n 0.4100045737945644,\n 0.4114007847668568,\n 0.41057027996437256,\n 0.4138802628728244,\n 0.41439782383669144,\n 0.41105173202378376,\n 0.4142413519173828,\n 0.41049806215546086,\n 0.4098721744782263,\n 0.41369971835054525,\n 0.410847114898534,\n 0.41082304229556343,\n 0.4124118340916203,\n 0.41214703545894416,\n 0.41250812450350255,\n 0.41351917382826603,\n 0.4139524806817361,\n 0.4116535470980477,\n 0.4139163717772803,\n 0.4095351580366385,\n 0.409426831323271,\n 0.411364675862401,\n 0.4134830649238102,\n 0.4119544546351797,\n 0.4120146361426061,\n 0.4088370525504923,\n 0.41386822657133915,\n 0.4106545340747695,\n 0.41462651356491176,\n 0.4107147155821959,\n 0.4094870128306974,\n 0.4117257649069594,\n 0.41270070532726705,\n 0.4128451409450904,\n 0.41081100599407816,\n 0.41178594641438576,\n 0.41144892997279797,\n 0.41545701836739607,\n 0.4122072169663706,\n 0.41223128956934113,\n 0.4099925374930791,\n 0.4093666498158446,\n 0.4126044149153848,\n 0.41223128956934113,\n 0.4130738306733107,\n 0.4131941936881635,\n 0.4104138080450639,\n 0.41182205531884164,\n 0.4133145567030163,\n 0.4102332635227847,\n 0.4137960087624275,\n 0.412399797790135,\n 0.4115452203846802,\n 0.4114007847668568,\n 0.4129655039599432,\n 0.40760934979899377,\n 0.40905370597722734,\n 0.41206278134854724,\n 0.41102765942081315,\n 0.4118942731277533,\n 0.41298957656291374,\n 0.41138874846537155,\n 0.4117739101129005,\n 0.4138321176668833,\n 0.4139163717772803,\n 0.4112322765460629,\n 0.410161045713873,\n 0.41558941768373414,\n 0.4102934450302111,\n 0.4115331840831949,\n 0.4098360655737705,\n 0.4136756457475747,\n 0.41020919091981417,\n 0.41185816422329746,\n 0.4115933655906213,\n 0.41368768204906,\n 0.4120146361426061,\n 0.409643484750006,\n 0.4113285669579452,\n 0.4140006258876772,\n 0.4158060711104692,\n 0.41339881081341323,\n 0.41439782383669144,\n 0.41032955393466697,\n 0.41335066560747213,\n 0.41187020052478274,\n 0.4114248573698274,\n 0.41185816422329746,\n 0.4129534676584579,\n 0.4150959293228377,\n 0.41238776148864975,\n 0.41278495943766397,\n 0.41270070532726705,\n 0.4129534676584579,\n 0.41270070532726705,\n 0.41081100599407816,\n 0.41093136900893096,\n 0.4117979827158711,\n 0.4125562697094437,\n 0.4115933655906213,\n 0.41078693339110756,\n 0.4124720155990467,\n 0.4109554416119015,\n 0.40990828338268215,\n 0.4090657422787126,\n 0.41168965600250357,\n 0.41199056353963553,\n 0.41450615055005896,\n 0.4127247779302376,\n 0.4096795936544619,\n 0.41371175465203053,\n 0.410546207361402,\n 0.4131219758792518,\n 0.4102814087287258,\n 0.4146505861678823,\n 0.4126886690257818,\n 0.4101971546183289,\n 0.4103536265376375,\n 0.41317012108519297,\n 0.4120868539515178,\n 0.4114368936713127,\n 0.41310993957776654,\n 0.4136515731446041,\n 0.4118461279218122,\n 0.4151440745287788,\n 0.41044991694951977,\n 0.4073204785633471,\n 0.4115933655906213,\n 0.4130377217688549,\n 0.4142413519173828,\n 0.41273681423172287,\n 0.4100767916034761,\n 0.41230350737825283,\n 0.4109674779133868,\n 0.41398858958619195,\n 0.4114730025757685,\n 0.4121229628559736,\n 0.4117979827158711,\n 0.4098481018752558,\n 0.41082304229556343,\n 0.41273681423172287,\n 0.4106424977732842,\n 0.4149153848005585,\n 0.41181001901735637,\n 0.4100767916034761,\n 0.411280421752004,\n 0.4094027587203004,\n 0.41211092655448833,\n 0.41362750054163355,\n 0.41351917382826603,\n 0.4136756457475747,\n 0.40921017789653596,\n 0.41075082448665173,\n 0.41286921354806094,\n 0.41156929298765077,\n 0.411882236826268,\n 0.40986013817674105,\n 0.4152162923376905,\n 0.41338677451192796,\n 0.41126838545051875,\n 0.4114128210683421,\n 0.413603427938663,\n 0.411364675862401,\n 0.41235165258419393,\n 0.412484051900532,\n 0.411364675862401,\n 0.41374786355648635,\n 0.4122433258708264,\n 0.4115452203846802,\n 0.4123636888856792,\n 0.41097951421487205,\n 0.4115452203846802,\n 0.4108952601044751,\n 0.4097157025589177,\n 0.41362750054163355,\n 0.4128932861510315,\n 0.4116776197010183,\n 0.41245997929756145,\n 0.40813894706434606,\n 0.41292939505548737,\n 0.41258034231241425,\n 0.40945090392624156,\n 0.4118340916203269,\n 0.4100406826990202,\n 0.4134830649238102,\n 0.41474687657976456,\n 0.41286921354806094,\n 0.4111119135312101,\n 0.4123757251871645,\n 0.4133145567030163,\n 0.41158132928913604,\n 0.40896945186683037,\n 0.41073878818516646,\n 0.41005271900050555,\n 0.41390433547579497,\n 0.41168965600250357,\n 0.4137358272550011,\n 0.4086805806311837,\n 0.4115331840831949,\n 0.41017308201535835,\n 0.412399797790135,\n 0.41471076767530873,\n 0.4106786066777401,\n 0.41049806215546086,\n 0.41453022315302956,\n 0.4080787655569197,\n 0.4132543751955899,\n 0.41285717724657567,\n 0.4124118340916203,\n 0.41209889025300306,\n 0.4120868539515178,\n 0.4114368936713127,\n 0.4117979827158711,\n 0.4110878409282396,\n 0.41081100599407816,\n 0.41087118750150453,\n 0.41292939505548737,\n 0.4105943525673431,\n 0.4134951012252955,\n 0.41017308201535835,\n 0.4076815676079054,\n 0.41203870874557663,\n 0.41106376832526903,\n 0.4117979827158711,\n 0.41490334849907323,\n 0.40889723405791867,\n 0.40921017789653596,\n 0.4129173587540021,\n 0.41178594641438576,\n 0.4110878409282396,\n 0.41245997929756145,\n 0.4104017717435786,\n 0.4127608868346934,\n 0.4084759635059339,\n 0.41221925326785586,\n 0.41280903204063457,\n 0.4088731614549481,\n 0.41390433547579497,\n 0.4114730025757685,\n 0.41093136900893096,\n 0.41278495943766397,\n 0.41382008136539805,\n 0.4113526395609157,\n 0.4118340916203269,\n 0.4092342504995065,\n 0.4149755663079849,\n 0.4121229628559736,\n 0.41073878818516646,\n 0.41182205531884164,\n 0.4110396957222984,\n 0.41025733612575527,\n 0.4127127416287523,\n 0.4121951806648853,\n 0.4116054018921066,\n 0.4107989696925929,\n 0.4134951012252955,\n 0.41304975807034017,\n 0.4158903252208661,\n 0.4132543751955899,\n 0.4107147155821959,\n 0.4142533882188681,\n 0.40966755735297655,\n 0.4096795936544619,\n 0.41085915120001926,\n 0.4133627019089574,\n 0.40937868611732986,\n 0.4115331840831949,\n 0.4119183457307239,\n 0.4115572566861655,\n 0.41134060325943045,\n 0.41369971835054525,\n 0.40969162995594716,\n 0.4122072169663706,\n 0.4126405238198406,\n 0.41306179437182544,\n 0.4099203196841674,\n 0.4131941936881635,\n 0.411966490936665,\n 0.4120025998411208,\n 0.4097518114633735,\n 0.4125201608049878,\n 0.41230350737825283,\n 0.41025733612575527,\n 0.4117257649069594,\n 0.41044991694951977,\n 0.41273681423172287,\n 0.41471076767530873,\n 0.4134830649238102,\n 0.41233961628270865,\n 0.4120025998411208,\n 0.41162947449507714,\n 0.41459040466045594,\n 0.4087648347415806,\n 0.409944392287138,\n ...]"
     },
     "execution_count": 97,
     "metadata": {},
     "output_type": "execute_result"
    }
   ],
   "source": [
    "accuracy_list"
   ],
   "metadata": {
    "collapsed": false,
    "ExecuteTime": {
     "end_time": "2023-09-10T00:14:40.429169700Z",
     "start_time": "2023-09-10T00:14:40.315984400Z"
    }
   }
  },
  {
   "cell_type": "code",
   "execution_count": 93,
   "outputs": [
    {
     "name": "stdout",
     "output_type": "stream",
     "text": [
      "mean accuracy:  0.4117069861035889\n"
     ]
    }
   ],
   "source": [
    "print(\"mean accuracy: \", np.mean(accuracy_list))"
   ],
   "metadata": {
    "collapsed": false,
    "ExecuteTime": {
     "end_time": "2023-09-10T00:13:08.874263900Z",
     "start_time": "2023-09-10T00:13:08.782231900Z"
    }
   }
  },
  {
   "cell_type": "code",
   "execution_count": 95,
   "outputs": [
    {
     "name": "stdout",
     "output_type": "stream",
     "text": [
      "len_list accuracy:  7976\n"
     ]
    }
   ],
   "source": [
    "print(\"len_list accuracy: \", len(accuracy_list))"
   ],
   "metadata": {
    "collapsed": false,
    "ExecuteTime": {
     "end_time": "2023-09-10T00:13:31.680829400Z",
     "start_time": "2023-09-10T00:13:31.581294700Z"
    }
   }
  },
  {
   "cell_type": "code",
   "execution_count": 92,
   "outputs": [
    {
     "data": {
      "text/plain": "<Figure size 640x480 with 1 Axes>",
      "image/png": "[encoded data removed]"
     },
     "metadata": {},
     "output_type": "display_data"
    }
   ],
   "source": [
    "# plot accuracy_list for accuracy from 0% to 100% and add a vertical line at 78,74%\n",
    "plt.plot(accuracy_list)\n",
    "plt.axhline(y=0.7874, color='r', linestyle='-')\n",
    "plt.show()"
   ],
   "metadata": {
    "collapsed": false,
    "ExecuteTime": {
     "end_time": "2023-09-10T00:12:53.219934500Z",
     "start_time": "2023-09-10T00:12:53.059194400Z"
    }
   }
  },
  {
   "cell_type": "code",
   "execution_count": 51,
   "outputs": [
    {
     "data": {
      "text/plain": "                 modified_sequence  \\\n202733                 EVAAARAAETE   \n676563                SNSLRLSLIGDR   \n187277  EM[UNIMOD:35]LTRAIKTQLVLLT   \n332706                 IPRVTTPLSSL   \n\n                                         precursor_charge  \\\n202733                                                [2]   \n676563  [3, 3, 3, 3, 3, 3, 3, 3, 3, 3, 3, 3, 3, 2, 2, ...   \n187277  [3, 3, 2, 3, 2, 3, 3, 2, 3, 3, 3, 3, 3, 3, 3, ...   \n332706  [2, 2, 2, 2, 2, 2, 2, 2, 2, 2, 2, 2, 2, 2, 2, ...   \n\n                                      precursor_intensity  seq_len_prepadding  \\\n202733                                        [2308078.0]                  11   \n676563  [235036700.0, 97028600.0, 40602360.0, 23503670...                  12   \n187277  [36243780.0, 20539810.0, 7780559.0, 4336029.0,...                  26   \n332706  [46604460.0, 3748077.0, 46604460.0, 2759318.0,...                  11   \n\n                            normalized                  pre_normalization  \\\n202733                  {2: 2308078.0}                     {2: 2308078.0}   \n676563  {3: 15888960.0, 2: 41187530.0}  {3: 8432234945.0, 2: 318124150.0}   \n187277   {3: 48770720.0, 2: 7114500.0}   {3: 2520368785.0, 2: 22675618.0}   \n332706                  {2: 9628667.0}                  {2: 4689524063.0}   \n\n        most_abundant_charge most_abundant_charge_vector  \\\n202733                     2          [0, 1, 0, 0, 0, 0]   \n676563                     2          [0, 1, 0, 0, 0, 0]   \n187277                     3          [0, 0, 1, 0, 0, 0]   \n332706                     2          [0, 1, 0, 0, 0, 0]   \n\n                                 modified_sequence_vector  random_label  \n202733  [4, 18, 1, 1, 1, 15, 1, 1, 4, 17, 4, 0, 0, 0, ...             1  \n676563  [16, 12, 16, 10, 15, 10, 16, 10, 8, 6, 3, 15, ...             2  \n187277  [4, 22, 10, 17, 15, 1, 8, 9, 17, 14, 10, 18, 1...             3  \n332706  [8, 13, 15, 18, 17, 17, 13, 10, 16, 16, 10, 0,...             2  ",
      "text/html": "<div>\n<style scoped>\n    .dataframe tbody tr th:only-of-type {\n        vertical-align: middle;\n    }\n\n    .dataframe tbody tr th {\n        vertical-align: top;\n    }\n\n    .dataframe thead th {\n        text-align: right;\n    }\n</style>\n<table border=\"1\" class=\"dataframe\">\n  <thead>\n    <tr style=\"text-align: right;\">\n      <th></th>\n      <th>modified_sequence</th>\n      <th>precursor_charge</th>\n      <th>precursor_intensity</th>\n      <th>seq_len_prepadding</th>\n      <th>normalized</th>\n      <th>pre_normalization</th>\n      <th>most_abundant_charge</th>\n      <th>most_abundant_charge_vector</th>\n      <th>modified_sequence_vector</th>\n      <th>random_label</th>\n    </tr>\n  </thead>\n  <tbody>\n    <tr>\n      <th>202733</th>\n      <td>EVAAARAAETE</td>\n      <td>[2]</td>\n      <td>[2308078.0]</td>\n      <td>11</td>\n      <td>{2: 2308078.0}</td>\n      <td>{2: 2308078.0}</td>\n      <td>2</td>\n      <td>[0, 1, 0, 0, 0, 0]</td>\n      <td>[4, 18, 1, 1, 1, 15, 1, 1, 4, 17, 4, 0, 0, 0, ...</td>\n      <td>1</td>\n    </tr>\n    <tr>\n      <th>676563</th>\n      <td>SNSLRLSLIGDR</td>\n      <td>[3, 3, 3, 3, 3, 3, 3, 3, 3, 3, 3, 3, 3, 2, 2, ...</td>\n      <td>[235036700.0, 97028600.0, 40602360.0, 23503670...</td>\n      <td>12</td>\n      <td>{3: 15888960.0, 2: 41187530.0}</td>\n      <td>{3: 8432234945.0, 2: 318124150.0}</td>\n      <td>2</td>\n      <td>[0, 1, 0, 0, 0, 0]</td>\n      <td>[16, 12, 16, 10, 15, 10, 16, 10, 8, 6, 3, 15, ...</td>\n      <td>2</td>\n    </tr>\n    <tr>\n      <th>187277</th>\n      <td>EM[UNIMOD:35]LTRAIKTQLVLLT</td>\n      <td>[3, 3, 2, 3, 2, 3, 3, 2, 3, 3, 3, 3, 3, 3, 3, ...</td>\n      <td>[36243780.0, 20539810.0, 7780559.0, 4336029.0,...</td>\n      <td>26</td>\n      <td>{3: 48770720.0, 2: 7114500.0}</td>\n      <td>{3: 2520368785.0, 2: 22675618.0}</td>\n      <td>3</td>\n      <td>[0, 0, 1, 0, 0, 0]</td>\n      <td>[4, 22, 10, 17, 15, 1, 8, 9, 17, 14, 10, 18, 1...</td>\n      <td>3</td>\n    </tr>\n    <tr>\n      <th>332706</th>\n      <td>IPRVTTPLSSL</td>\n      <td>[2, 2, 2, 2, 2, 2, 2, 2, 2, 2, 2, 2, 2, 2, 2, ...</td>\n      <td>[46604460.0, 3748077.0, 46604460.0, 2759318.0,...</td>\n      <td>11</td>\n      <td>{2: 9628667.0}</td>\n      <td>{2: 4689524063.0}</td>\n      <td>2</td>\n      <td>[0, 1, 0, 0, 0, 0]</td>\n      <td>[8, 13, 15, 18, 17, 17, 13, 10, 16, 16, 10, 0,...</td>\n      <td>2</td>\n    </tr>\n  </tbody>\n</table>\n</div>"
     },
     "execution_count": 51,
     "metadata": {},
     "output_type": "execute_result"
    }
   ],
   "source": [
    "df1.head(4)"
   ],
   "metadata": {
    "collapsed": false,
    "ExecuteTime": {
     "end_time": "2023-09-09T16:54:06.762547400Z",
     "start_time": "2023-09-09T16:54:06.662932400Z"
    }
   }
  },
  {
   "cell_type": "code",
   "execution_count": 52,
   "outputs": [],
   "source": [
    "def get_topK(label_dict, k=1):\n",
    "    allowed_keys = list()\n",
    "    sorted_values = sorted(label_dict.values(), reverse=True)\n",
    "    for i in sorted_values:\n",
    "        for key, value in label_dict.items():\n",
    "            if i == value and len(allowed_keys) <= k:\n",
    "                #allowed_keys.append((key, value))\n",
    "                allowed_keys.append(key)\n",
    "    return allowed_keys"
   ],
   "metadata": {
    "collapsed": false,
    "ExecuteTime": {
     "end_time": "2023-09-09T16:54:08.619903300Z",
     "start_time": "2023-09-09T16:54:08.536695600Z"
    }
   }
  },
  {
   "cell_type": "code",
   "execution_count": 53,
   "outputs": [],
   "source": [
    "# TopK-Metrics\n",
    "df1['pred_label'] = df1['random_label'].apply(lambda x: x)\n",
    "df1['topK'] = df1['normalized'].apply(get_topK)"
   ],
   "metadata": {
    "collapsed": false,
    "ExecuteTime": {
     "end_time": "2023-09-09T16:54:10.466607400Z",
     "start_time": "2023-09-09T16:54:10.336293500Z"
    }
   }
  },
  {
   "cell_type": "code",
   "execution_count": 54,
   "outputs": [
    {
     "data": {
      "text/plain": "                 modified_sequence  \\\n202733                 EVAAARAAETE   \n676563                SNSLRLSLIGDR   \n187277  EM[UNIMOD:35]LTRAIKTQLVLLT   \n332706                 IPRVTTPLSSL   \n\n                                         precursor_charge  \\\n202733                                                [2]   \n676563  [3, 3, 3, 3, 3, 3, 3, 3, 3, 3, 3, 3, 3, 2, 2, ...   \n187277  [3, 3, 2, 3, 2, 3, 3, 2, 3, 3, 3, 3, 3, 3, 3, ...   \n332706  [2, 2, 2, 2, 2, 2, 2, 2, 2, 2, 2, 2, 2, 2, 2, ...   \n\n                                      precursor_intensity  seq_len_prepadding  \\\n202733                                        [2308078.0]                  11   \n676563  [235036700.0, 97028600.0, 40602360.0, 23503670...                  12   \n187277  [36243780.0, 20539810.0, 7780559.0, 4336029.0,...                  26   \n332706  [46604460.0, 3748077.0, 46604460.0, 2759318.0,...                  11   \n\n                            normalized                  pre_normalization  \\\n202733                  {2: 2308078.0}                     {2: 2308078.0}   \n676563  {3: 15888960.0, 2: 41187530.0}  {3: 8432234945.0, 2: 318124150.0}   \n187277   {3: 48770720.0, 2: 7114500.0}   {3: 2520368785.0, 2: 22675618.0}   \n332706                  {2: 9628667.0}                  {2: 4689524063.0}   \n\n        most_abundant_charge most_abundant_charge_vector  \\\n202733                     2          [0, 1, 0, 0, 0, 0]   \n676563                     2          [0, 1, 0, 0, 0, 0]   \n187277                     3          [0, 0, 1, 0, 0, 0]   \n332706                     2          [0, 1, 0, 0, 0, 0]   \n\n                                 modified_sequence_vector  random_label  \\\n202733  [4, 18, 1, 1, 1, 15, 1, 1, 4, 17, 4, 0, 0, 0, ...             1   \n676563  [16, 12, 16, 10, 15, 10, 16, 10, 8, 6, 3, 15, ...             2   \n187277  [4, 22, 10, 17, 15, 1, 8, 9, 17, 14, 10, 18, 1...             3   \n332706  [8, 13, 15, 18, 17, 17, 13, 10, 16, 16, 10, 0,...             2   \n\n        pred_label    topK  \n202733           1     [2]  \n676563           2  [2, 3]  \n187277           3  [3, 2]  \n332706           2     [2]  ",
      "text/html": "<div>\n<style scoped>\n    .dataframe tbody tr th:only-of-type {\n        vertical-align: middle;\n    }\n\n    .dataframe tbody tr th {\n        vertical-align: top;\n    }\n\n    .dataframe thead th {\n        text-align: right;\n    }\n</style>\n<table border=\"1\" class=\"dataframe\">\n  <thead>\n    <tr style=\"text-align: right;\">\n      <th></th>\n      <th>modified_sequence</th>\n      <th>precursor_charge</th>\n      <th>precursor_intensity</th>\n      <th>seq_len_prepadding</th>\n      <th>normalized</th>\n      <th>pre_normalization</th>\n      <th>most_abundant_charge</th>\n      <th>most_abundant_charge_vector</th>\n      <th>modified_sequence_vector</th>\n      <th>random_label</th>\n      <th>pred_label</th>\n      <th>topK</th>\n    </tr>\n  </thead>\n  <tbody>\n    <tr>\n      <th>202733</th>\n      <td>EVAAARAAETE</td>\n      <td>[2]</td>\n      <td>[2308078.0]</td>\n      <td>11</td>\n      <td>{2: 2308078.0}</td>\n      <td>{2: 2308078.0}</td>\n      <td>2</td>\n      <td>[0, 1, 0, 0, 0, 0]</td>\n      <td>[4, 18, 1, 1, 1, 15, 1, 1, 4, 17, 4, 0, 0, 0, ...</td>\n      <td>1</td>\n      <td>1</td>\n      <td>[2]</td>\n    </tr>\n    <tr>\n      <th>676563</th>\n      <td>SNSLRLSLIGDR</td>\n      <td>[3, 3, 3, 3, 3, 3, 3, 3, 3, 3, 3, 3, 3, 2, 2, ...</td>\n      <td>[235036700.0, 97028600.0, 40602360.0, 23503670...</td>\n      <td>12</td>\n      <td>{3: 15888960.0, 2: 41187530.0}</td>\n      <td>{3: 8432234945.0, 2: 318124150.0}</td>\n      <td>2</td>\n      <td>[0, 1, 0, 0, 0, 0]</td>\n      <td>[16, 12, 16, 10, 15, 10, 16, 10, 8, 6, 3, 15, ...</td>\n      <td>2</td>\n      <td>2</td>\n      <td>[2, 3]</td>\n    </tr>\n    <tr>\n      <th>187277</th>\n      <td>EM[UNIMOD:35]LTRAIKTQLVLLT</td>\n      <td>[3, 3, 2, 3, 2, 3, 3, 2, 3, 3, 3, 3, 3, 3, 3, ...</td>\n      <td>[36243780.0, 20539810.0, 7780559.0, 4336029.0,...</td>\n      <td>26</td>\n      <td>{3: 48770720.0, 2: 7114500.0}</td>\n      <td>{3: 2520368785.0, 2: 22675618.0}</td>\n      <td>3</td>\n      <td>[0, 0, 1, 0, 0, 0]</td>\n      <td>[4, 22, 10, 17, 15, 1, 8, 9, 17, 14, 10, 18, 1...</td>\n      <td>3</td>\n      <td>3</td>\n      <td>[3, 2]</td>\n    </tr>\n    <tr>\n      <th>332706</th>\n      <td>IPRVTTPLSSL</td>\n      <td>[2, 2, 2, 2, 2, 2, 2, 2, 2, 2, 2, 2, 2, 2, 2, ...</td>\n      <td>[46604460.0, 3748077.0, 46604460.0, 2759318.0,...</td>\n      <td>11</td>\n      <td>{2: 9628667.0}</td>\n      <td>{2: 4689524063.0}</td>\n      <td>2</td>\n      <td>[0, 1, 0, 0, 0, 0]</td>\n      <td>[8, 13, 15, 18, 17, 17, 13, 10, 16, 16, 10, 0,...</td>\n      <td>2</td>\n      <td>2</td>\n      <td>[2]</td>\n    </tr>\n  </tbody>\n</table>\n</div>"
     },
     "execution_count": 54,
     "metadata": {},
     "output_type": "execute_result"
    }
   ],
   "source": [
    "df1.head(4)"
   ],
   "metadata": {
    "collapsed": false,
    "ExecuteTime": {
     "end_time": "2023-09-09T16:54:11.702479300Z",
     "start_time": "2023-09-09T16:54:11.615509800Z"
    }
   }
  },
  {
   "cell_type": "code",
   "execution_count": 55,
   "outputs": [
    {
     "name": "stdout",
     "output_type": "stream",
     "text": [
      "Correct:  47344 Wrong:  35738 Total:  83082\n",
      "TopK-Accuracy:  0.5698466575190776\n"
     ]
    }
   ],
   "source": [
    "# TopK-Metrics\n",
    "# iterate over all rows in predict_df and compare true_label with topK and set column topK_inference to either True or False\n",
    "df1['topK_inference'] = None\n",
    "for index, row in df1.iterrows():\n",
    "        if row['pred_label'] is None:\n",
    "            df1.at[index, 'topK_inference'] = None\n",
    "        elif row['pred_label'] in row['topK']:\n",
    "            df1.at[index, 'topK_inference'] = True\n",
    "        else:\n",
    "            df1.at[index, 'topK_inference'] = False\n",
    "# calculate accuracy for topK_inference\n",
    "topK_true = df1['topK_inference'].value_counts()[True] \n",
    "topK_false = df1['topK_inference'].value_counts()[False]\n",
    "topK_total = topK_true + topK_false\n",
    "print(\"Correct: \", topK_true, \"Wrong: \", topK_false, \"Total: \",topK_total)\n",
    "\n",
    "topK_accuracy = df1['topK_inference'].value_counts()[True] / (df1['topK_inference'].value_counts()[True] + df1['topK_inference'].value_counts()[False])\n",
    "print(\"TopK-Accuracy: \", topK_accuracy)"
   ],
   "metadata": {
    "collapsed": false,
    "ExecuteTime": {
     "end_time": "2023-09-09T16:54:17.580354800Z",
     "start_time": "2023-09-09T16:54:13.765574Z"
    }
   }
  }
 ],
 "metadata": {
  "kernelspec": {
   "display_name": "Python 3",
   "language": "python",
   "name": "python3"
  },
  "language_info": {
   "codemirror_mode": {
    "name": "ipython",
    "version": 2
   },
   "file_extension": ".py",
   "mimetype": "text/x-python",
   "name": "python",
   "nbconvert_exporter": "python",
   "pygments_lexer": "ipython2",
   "version": "2.7.6"
  }
 },
 "nbformat": 4,
 "nbformat_minor": 0
}

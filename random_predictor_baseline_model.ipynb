{
 "cells": [
  {
   "cell_type": "markdown",
   "source": [
    "# Playground to implement W&B as well as start hyperparameter-tuning"
   ],
   "metadata": {
    "collapsed": false
   }
  },
  {
   "cell_type": "markdown",
   "source": [
    "## Setup"
   ],
   "metadata": {
    "collapsed": false
   }
  },
  {
   "cell_type": "code",
   "execution_count": 1,
   "outputs": [],
   "source": [
    "#%pip install seaborn"
   ],
   "metadata": {
    "collapsed": false,
    "ExecuteTime": {
     "end_time": "2023-09-10T10:59:37.640330100Z",
     "start_time": "2023-09-10T10:59:37.275611Z"
    }
   }
  },
  {
   "cell_type": "code",
   "execution_count": 2,
   "outputs": [],
   "source": [
    "import re\n",
    "import os\n",
    "import random\n",
    "import numpy as np\n",
    "import pandas as pd\n",
    "import tensorflow as tf\n",
    "import matplotlib.pyplot as plt\n",
    "from sklearn.model_selection import train_test_split\n",
    "from tensorflow.keras.callbacks import ModelCheckpoint\n",
    "from sklearn.utils import class_weight\n",
    "from sklearn.model_selection import StratifiedShuffleSplit\n",
    "from sklearn.metrics import confusion_matrix, classification_report\n",
    "import seaborn as sns\n",
    "import wandb\n",
    "from wandb.keras import WandbCallback\n",
    "import keras"
   ],
   "metadata": {
    "collapsed": false,
    "ExecuteTime": {
     "end_time": "2023-09-10T10:59:42.234994800Z",
     "start_time": "2023-09-10T10:59:37.278618400Z"
    }
   }
  },
  {
   "cell_type": "code",
   "execution_count": 3,
   "outputs": [],
   "source": [
    "train_datapath = [\"data/\"+file for file in os.listdir('data') if file.endswith(\".parquet\")][0]\n",
    "batch_size = 32"
   ],
   "metadata": {
    "collapsed": false,
    "ExecuteTime": {
     "end_time": "2023-09-10T10:59:42.263592900Z",
     "start_time": "2023-09-10T10:59:42.235995400Z"
    }
   }
  },
  {
   "cell_type": "markdown",
   "source": [
    "# Dataset batches + split"
   ],
   "metadata": {
    "collapsed": false
   }
  },
  {
   "cell_type": "code",
   "execution_count": 4,
   "outputs": [],
   "source": [
    "import re\n",
    "\n",
    "def one_hot_precursor(int_value, charges=[1,2,3,4,5,6]):\n",
    "    \"\"\"\n",
    "    One-hot encodes the precursor charge\n",
    "    :param df: dataframe\n",
    "    :param max_charge_included: int\n",
    "    :return: dataframe\n",
    "    \"\"\"\n",
    "    one_hot = [1 if x == int_value else 0 for x in charges]\n",
    "\n",
    "    return one_hot"
   ],
   "metadata": {
    "collapsed": false,
    "ExecuteTime": {
     "end_time": "2023-09-10T10:59:42.266593700Z",
     "start_time": "2023-09-10T10:59:42.239615100Z"
    }
   }
  },
  {
   "cell_type": "code",
   "execution_count": 5,
   "outputs": [
    {
     "name": "stdout",
     "output_type": "stream",
     "text": [
      "data/Thermo_SRM_Pool_meta_data.parquet\n"
     ]
    }
   ],
   "source": [
    "file_list = [\"data/\"+file for file in os.listdir('data') if file.endswith('.parquet')]\n",
    "print(file_list[0])"
   ],
   "metadata": {
    "collapsed": false,
    "ExecuteTime": {
     "end_time": "2023-09-10T10:59:42.340591200Z",
     "start_time": "2023-09-10T10:59:42.250197300Z"
    }
   }
  },
  {
   "cell_type": "markdown",
   "source": [
    "### import parquet files, drop all columns we dont need for training, one-hot encode precursor charge, translate sequence"
   ],
   "metadata": {
    "collapsed": false
   }
  },
  {
   "cell_type": "code",
   "execution_count": 6,
   "outputs": [],
   "source": [
    "batches_parquet = dict()\n",
    "counter = 0\n",
    "for file in file_list:\n",
    "    df = pd.read_parquet(file, engine='fastparquet')\n",
    "    # drop all columns we dont need for training\n",
    "    for column in df.columns:\n",
    "        if column not in [\"modified_sequence\",\"precursor_intensity\", \"precursor_charge\"]:\n",
    "            df.drop(column, axis=1, inplace=True)\n",
    "    charge_ranges = [1, 2, 3, 4, 5, 6] # TODO SET RANGES\n",
    "    df = df[df[\"precursor_charge\"].isin(charge_ranges)] # remove 7+ charge states // only take charge states 2,3,4\n",
    "    df = df.dropna(subset=['precursor_intensity']) # drop rows with no precursor intensity\n",
    "    batches_parquet[file] = df\n",
    "    counter += 1\n",
    "    #if counter > 1:\n",
    "    #    break # TODO REMOVE BREAK FOR FIRST FILE IN LIST"
   ],
   "metadata": {
    "collapsed": false,
    "ExecuteTime": {
     "end_time": "2023-09-10T11:00:25.020722100Z",
     "start_time": "2023-09-10T10:59:42.265593700Z"
    }
   }
  },
  {
   "cell_type": "code",
   "execution_count": 7,
   "outputs": [],
   "source": [
    "vocabulary = []\n",
    "vocabulary+=list('XACDEFGHIKLMNPQRSTVWY')\n",
    "max_len_seq = 0\n",
    "\n",
    "for df in batches_parquet.values():\n",
    "    if max_len_seq < df['modified_sequence'].str.len().max():\n",
    "        max_len_seq = df['modified_sequence'].str.len().max()\n",
    "    annotations = re.findall(r'(\\w\\[UNIMOD:\\d+\\])', ' '.join(df['modified_sequence']))\n",
    "    #annotations = re.findall(r'[A-Z]\\[[^\\]]*\\]|.', ' '.join(df['modified_sequence']))\n",
    "    for item in annotations:\n",
    "        if item not in vocabulary:\n",
    "                vocabulary.append(item)"
   ],
   "metadata": {
    "collapsed": false,
    "ExecuteTime": {
     "end_time": "2023-09-10T11:01:06.861068400Z",
     "start_time": "2023-09-10T11:00:25.022720900Z"
    }
   }
  },
  {
   "cell_type": "code",
   "execution_count": 8,
   "outputs": [
    {
     "name": "stdout",
     "output_type": "stream",
     "text": [
      "['X', 'A', 'C', 'D', 'E', 'F', 'G', 'H', 'I', 'K', 'L', 'M', 'N', 'P', 'Q', 'R', 'S', 'T', 'V', 'W', 'Y', 'C[UNIMOD:4]', 'M[UNIMOD:35]']\n"
     ]
    },
    {
     "data": {
      "text/plain": "23"
     },
     "execution_count": 8,
     "metadata": {},
     "output_type": "execute_result"
    }
   ],
   "source": [
    "print(vocabulary)\n",
    "voc_len = len(vocabulary)\n",
    "voc_len"
   ],
   "metadata": {
    "collapsed": false,
    "ExecuteTime": {
     "end_time": "2023-09-10T11:01:06.942765600Z",
     "start_time": "2023-09-10T11:01:06.855516900Z"
    }
   }
  },
  {
   "cell_type": "code",
   "execution_count": 9,
   "outputs": [],
   "source": [
    "num_classes = len(charge_ranges)\n",
    "class_names = charge_ranges"
   ],
   "metadata": {
    "collapsed": false,
    "ExecuteTime": {
     "end_time": "2023-09-10T11:01:06.945759400Z",
     "start_time": "2023-09-10T11:01:06.864105200Z"
    }
   }
  },
  {
   "cell_type": "code",
   "execution_count": 10,
   "outputs": [
    {
     "data": {
      "text/plain": "      modified_sequence  precursor_charge  precursor_intensity\n0  LPGSLETYVEQEQGENANDR                 2           29525630.0\n1       HGSLQEYLQNDTGSK                 2           13188580.0\n2        VEEEEEINSELTAR                 2           20663460.0\n3  LPGSLETYVEQEQGENANDR                 2           19884630.0\n4  NSSTAEINETTTSSTDFLAR                 2           12804420.0",
      "text/html": "<div>\n<style scoped>\n    .dataframe tbody tr th:only-of-type {\n        vertical-align: middle;\n    }\n\n    .dataframe tbody tr th {\n        vertical-align: top;\n    }\n\n    .dataframe thead th {\n        text-align: right;\n    }\n</style>\n<table border=\"1\" class=\"dataframe\">\n  <thead>\n    <tr style=\"text-align: right;\">\n      <th></th>\n      <th>modified_sequence</th>\n      <th>precursor_charge</th>\n      <th>precursor_intensity</th>\n    </tr>\n  </thead>\n  <tbody>\n    <tr>\n      <th>0</th>\n      <td>LPGSLETYVEQEQGENANDR</td>\n      <td>2</td>\n      <td>29525630.0</td>\n    </tr>\n    <tr>\n      <th>1</th>\n      <td>HGSLQEYLQNDTGSK</td>\n      <td>2</td>\n      <td>13188580.0</td>\n    </tr>\n    <tr>\n      <th>2</th>\n      <td>VEEEEEINSELTAR</td>\n      <td>2</td>\n      <td>20663460.0</td>\n    </tr>\n    <tr>\n      <th>3</th>\n      <td>LPGSLETYVEQEQGENANDR</td>\n      <td>2</td>\n      <td>19884630.0</td>\n    </tr>\n    <tr>\n      <th>4</th>\n      <td>NSSTAEINETTTSSTDFLAR</td>\n      <td>2</td>\n      <td>12804420.0</td>\n    </tr>\n  </tbody>\n</table>\n</div>"
     },
     "execution_count": 10,
     "metadata": {},
     "output_type": "execute_result"
    }
   ],
   "source": [
    "batches_parquet[file_list[0]].head()"
   ],
   "metadata": {
    "collapsed": false,
    "ExecuteTime": {
     "end_time": "2023-09-10T11:01:06.987083Z",
     "start_time": "2023-09-10T11:01:06.878411800Z"
    }
   }
  },
  {
   "cell_type": "code",
   "execution_count": 11,
   "outputs": [
    {
     "data": {
      "text/plain": "['data/Thermo_SRM_Pool_meta_data.parquet',\n 'data/TUM_aspn_meta_data.parquet',\n 'data/TUM_first_pool_meta_data.parquet',\n 'data/TUM_HLA2_meta_data.parquet',\n 'data/TUM_HLA_meta_data.parquet',\n 'data/TUM_isoform_meta_data.parquet',\n 'data/TUM_lysn_meta_data.parquet',\n 'data/TUM_missing_first_meta_data.parquet',\n 'data/TUM_proteo_TMT_meta_data.parquet',\n 'data/TUM_second_addon_meta_data.parquet',\n 'data/TUM_second_pool_meta_data.parquet',\n 'data/TUM_third_pool_meta_data.parquet']"
     },
     "execution_count": 11,
     "metadata": {},
     "output_type": "execute_result"
    }
   ],
   "source": [
    "file_list"
   ],
   "metadata": {
    "collapsed": false,
    "ExecuteTime": {
     "end_time": "2023-09-10T11:01:06.987083Z",
     "start_time": "2023-09-10T11:01:06.895885100Z"
    }
   }
  },
  {
   "cell_type": "code",
   "execution_count": 12,
   "outputs": [
    {
     "data": {
      "text/plain": "2    4331294\n3    1523398\n4     115577\n5       2723\n1       1022\n6        143\nName: precursor_charge, dtype: int64"
     },
     "execution_count": 12,
     "metadata": {},
     "output_type": "execute_result"
    }
   ],
   "source": [
    "batches_parquet[file_list[0]][\"precursor_charge\"].value_counts()"
   ],
   "metadata": {
    "collapsed": false,
    "ExecuteTime": {
     "end_time": "2023-09-10T11:01:06.988085900Z",
     "start_time": "2023-09-10T11:01:06.902098400Z"
    }
   }
  },
  {
   "cell_type": "markdown",
   "source": [
    "# Normalisieren:"
   ],
   "metadata": {
    "collapsed": false
   }
  },
  {
   "cell_type": "code",
   "execution_count": 13,
   "outputs": [],
   "source": [
    "def normalize_for_most_abundant(df_charge_list, df_intensity_list):\n",
    "    # Get the index of the most abundant precursor intensity\n",
    "    charge_dict = dict()\n",
    "    for index, i in enumerate(df_charge_list):\n",
    "        charge_dict[i] = []\n",
    "        charge_dict[i].append(df_intensity_list[index])\n",
    "\n",
    "    # Normalize the precursor intensity based on the most abundant precursor intensity\n",
    "    for key, value in charge_dict.items():\n",
    "        if len(value) > 1:\n",
    "         charge_dict[key] = sum(value) - min(value) / (max(value) - min(value))\n",
    "\n",
    "    # convert list of one float to float values\n",
    "    charge_dict = {key: value[0] for key, value in charge_dict.items()}\n",
    "\n",
    "    return charge_dict"
   ],
   "metadata": {
    "collapsed": false,
    "ExecuteTime": {
     "end_time": "2023-09-10T11:01:07.069596700Z",
     "start_time": "2023-09-10T11:01:06.943763200Z"
    }
   }
  },
  {
   "cell_type": "code",
   "execution_count": 14,
   "outputs": [],
   "source": [
    "def get_most_abundant(df_charge_list, df_intensity_list, distributions=False):\n",
    "    # Get the index of the most abundant precursor intensity\n",
    "    charge_dict = dict()\n",
    "    for index, i in enumerate(df_charge_list):\n",
    "        if i not in charge_dict:\n",
    "            charge_dict[i] = df_intensity_list[index]\n",
    "        else:\n",
    "            charge_dict[i] += df_intensity_list[index]\n",
    "    if distributions:\n",
    "        #print(charge_dict)\n",
    "        return charge_dict\n",
    "    else:\n",
    "        return max(charge_dict, key=charge_dict.get)\n"
   ],
   "metadata": {
    "collapsed": false,
    "ExecuteTime": {
     "end_time": "2023-09-10T11:01:07.070596800Z",
     "start_time": "2023-09-10T11:01:06.952619Z"
    }
   }
  },
  {
   "cell_type": "code",
   "execution_count": 15,
   "outputs": [
    {
     "name": "stderr",
     "output_type": "stream",
     "text": [
      "C:\\Users\\micro\\AppData\\Local\\Temp\\ipykernel_1600\\2139590162.py:4: FutureWarning: Indexing with multiple keys (implicitly converted to a tuple of keys) will be deprecated, use a list instead.\n",
      "  df_dict[file] = batches_parquet[file].groupby(\"modified_sequence\")[\"precursor_charge\", \"precursor_intensity\"].agg(list).reset_index()\n",
      "C:\\Users\\micro\\AppData\\Local\\Temp\\ipykernel_1600\\2139590162.py:4: FutureWarning: Indexing with multiple keys (implicitly converted to a tuple of keys) will be deprecated, use a list instead.\n",
      "  df_dict[file] = batches_parquet[file].groupby(\"modified_sequence\")[\"precursor_charge\", \"precursor_intensity\"].agg(list).reset_index()\n",
      "C:\\Users\\micro\\AppData\\Local\\Temp\\ipykernel_1600\\2139590162.py:4: FutureWarning: Indexing with multiple keys (implicitly converted to a tuple of keys) will be deprecated, use a list instead.\n",
      "  df_dict[file] = batches_parquet[file].groupby(\"modified_sequence\")[\"precursor_charge\", \"precursor_intensity\"].agg(list).reset_index()\n",
      "C:\\Users\\micro\\AppData\\Local\\Temp\\ipykernel_1600\\2139590162.py:4: FutureWarning: Indexing with multiple keys (implicitly converted to a tuple of keys) will be deprecated, use a list instead.\n",
      "  df_dict[file] = batches_parquet[file].groupby(\"modified_sequence\")[\"precursor_charge\", \"precursor_intensity\"].agg(list).reset_index()\n",
      "C:\\Users\\micro\\AppData\\Local\\Temp\\ipykernel_1600\\2139590162.py:4: FutureWarning: Indexing with multiple keys (implicitly converted to a tuple of keys) will be deprecated, use a list instead.\n",
      "  df_dict[file] = batches_parquet[file].groupby(\"modified_sequence\")[\"precursor_charge\", \"precursor_intensity\"].agg(list).reset_index()\n",
      "C:\\Users\\micro\\AppData\\Local\\Temp\\ipykernel_1600\\2139590162.py:4: FutureWarning: Indexing with multiple keys (implicitly converted to a tuple of keys) will be deprecated, use a list instead.\n",
      "  df_dict[file] = batches_parquet[file].groupby(\"modified_sequence\")[\"precursor_charge\", \"precursor_intensity\"].agg(list).reset_index()\n",
      "C:\\Users\\micro\\AppData\\Local\\Temp\\ipykernel_1600\\2139590162.py:4: FutureWarning: Indexing with multiple keys (implicitly converted to a tuple of keys) will be deprecated, use a list instead.\n",
      "  df_dict[file] = batches_parquet[file].groupby(\"modified_sequence\")[\"precursor_charge\", \"precursor_intensity\"].agg(list).reset_index()\n",
      "C:\\Users\\micro\\AppData\\Local\\Temp\\ipykernel_1600\\2139590162.py:4: FutureWarning: Indexing with multiple keys (implicitly converted to a tuple of keys) will be deprecated, use a list instead.\n",
      "  df_dict[file] = batches_parquet[file].groupby(\"modified_sequence\")[\"precursor_charge\", \"precursor_intensity\"].agg(list).reset_index()\n",
      "C:\\Users\\micro\\AppData\\Local\\Temp\\ipykernel_1600\\2139590162.py:4: FutureWarning: Indexing with multiple keys (implicitly converted to a tuple of keys) will be deprecated, use a list instead.\n",
      "  df_dict[file] = batches_parquet[file].groupby(\"modified_sequence\")[\"precursor_charge\", \"precursor_intensity\"].agg(list).reset_index()\n",
      "C:\\Users\\micro\\AppData\\Local\\Temp\\ipykernel_1600\\2139590162.py:4: FutureWarning: Indexing with multiple keys (implicitly converted to a tuple of keys) will be deprecated, use a list instead.\n",
      "  df_dict[file] = batches_parquet[file].groupby(\"modified_sequence\")[\"precursor_charge\", \"precursor_intensity\"].agg(list).reset_index()\n",
      "C:\\Users\\micro\\AppData\\Local\\Temp\\ipykernel_1600\\2139590162.py:4: FutureWarning: Indexing with multiple keys (implicitly converted to a tuple of keys) will be deprecated, use a list instead.\n",
      "  df_dict[file] = batches_parquet[file].groupby(\"modified_sequence\")[\"precursor_charge\", \"precursor_intensity\"].agg(list).reset_index()\n",
      "C:\\Users\\micro\\AppData\\Local\\Temp\\ipykernel_1600\\2139590162.py:4: FutureWarning: Indexing with multiple keys (implicitly converted to a tuple of keys) will be deprecated, use a list instead.\n",
      "  df_dict[file] = batches_parquet[file].groupby(\"modified_sequence\")[\"precursor_charge\", \"precursor_intensity\"].agg(list).reset_index()\n"
     ]
    }
   ],
   "source": [
    "# load all parquets into df\n",
    "df_dict = dict()\n",
    "for file in file_list:\n",
    "    df_dict[file] = batches_parquet[file].groupby(\"modified_sequence\")[\"precursor_charge\", \"precursor_intensity\"].agg(list).reset_index()"
   ],
   "metadata": {
    "collapsed": false,
    "ExecuteTime": {
     "end_time": "2023-09-10T11:01:49.067058900Z",
     "start_time": "2023-09-10T11:01:06.963077100Z"
    }
   }
  },
  {
   "cell_type": "markdown",
   "source": [
    "# init merged_df"
   ],
   "metadata": {
    "collapsed": false
   }
  },
  {
   "cell_type": "code",
   "execution_count": 16,
   "outputs": [
    {
     "name": "stderr",
     "output_type": "stream",
     "text": [
      "C:\\Users\\micro\\AppData\\Local\\Temp\\ipykernel_1600\\1215419649.py:1: FutureWarning: Indexing with multiple keys (implicitly converted to a tuple of keys) will be deprecated, use a list instead.\n",
      "  merged_df = pd.concat(list(df_dict.values())).groupby(\"modified_sequence\")[\"precursor_charge\", \"precursor_intensity\"].sum().reset_index()\n"
     ]
    }
   ],
   "source": [
    "merged_df = pd.concat(list(df_dict.values())).groupby(\"modified_sequence\")[\"precursor_charge\", \"precursor_intensity\"].sum().reset_index()"
   ],
   "metadata": {
    "collapsed": false,
    "ExecuteTime": {
     "end_time": "2023-09-10T11:01:51.233038500Z",
     "start_time": "2023-09-10T11:01:49.034062100Z"
    }
   }
  },
  {
   "cell_type": "code",
   "execution_count": 17,
   "outputs": [],
   "source": [
    "merged_df['seq_len_prepadding'] = merged_df['modified_sequence'].apply(lambda x: len(x))"
   ],
   "metadata": {
    "collapsed": false,
    "ExecuteTime": {
     "end_time": "2023-09-10T11:01:51.534286300Z",
     "start_time": "2023-09-10T11:01:51.235044100Z"
    }
   }
  },
  {
   "cell_type": "code",
   "execution_count": 18,
   "outputs": [
    {
     "data": {
      "text/plain": "87     9\n82     8\n85     7\n89     6\n90     5\n107    4\n97     4\n95     4\n92     4\n83     3\n86     3\n98     3\n91     2\n84     2\n93     2\n88     2\n96     2\n110    2\n105    1\n104    1\n102    1\n94     1\n103    1\n115    1\n99     1\n125    1\n108    1\nName: seq_len_prepadding, dtype: int64"
     },
     "execution_count": 18,
     "metadata": {},
     "output_type": "execute_result"
    }
   ],
   "source": [
    "len_counts = merged_df['seq_len_prepadding'].value_counts()\n",
    "seq_too_long = len_counts[len_counts <= 10]\n",
    "seq_too_long"
   ],
   "metadata": {
    "collapsed": false,
    "ExecuteTime": {
     "end_time": "2023-09-10T11:01:51.571814900Z",
     "start_time": "2023-09-10T11:01:51.534286300Z"
    }
   }
  },
  {
   "cell_type": "code",
   "execution_count": 19,
   "outputs": [
    {
     "data": {
      "text/plain": "    seq_len  count\n0        50   1087\n1        51    764\n2        52    595\n3        53    426\n4        56    385\n5        57    385\n6        55    382\n7        58    373\n8        54    366\n9        59    290\n10       60    245\n11       61    199\n12       62    140\n13       63    105\n14       67     86\n15       66     81\n16       65     78\n17       64     78\n18       68     72\n19       69     69\n20       70     67\n21       71     34\n22       72     31\n23       75     26\n24       77     21\n25       74     21\n26       78     21\n27       73     18\n28       81     17\n29       79     16\n30       80     15\n31       76     13\n32      100     12\n33       87      9\n34       82      8\n35       85      7\n36       89      6\n37       90      5\n38      107      4\n39       97      4\n40       95      4\n41       92      4\n42       83      3\n43       86      3\n44       98      3\n45       91      2\n46       84      2\n47       93      2\n48       88      2\n49       96      2\n50      110      2\n51      105      1\n52      104      1\n53      102      1\n54       94      1\n55      103      1\n56      115      1\n57       99      1\n58      125      1\n59      108      1",
      "text/html": "<div>\n<style scoped>\n    .dataframe tbody tr th:only-of-type {\n        vertical-align: middle;\n    }\n\n    .dataframe tbody tr th {\n        vertical-align: top;\n    }\n\n    .dataframe thead th {\n        text-align: right;\n    }\n</style>\n<table border=\"1\" class=\"dataframe\">\n  <thead>\n    <tr style=\"text-align: right;\">\n      <th></th>\n      <th>seq_len</th>\n      <th>count</th>\n    </tr>\n  </thead>\n  <tbody>\n    <tr>\n      <th>0</th>\n      <td>50</td>\n      <td>1087</td>\n    </tr>\n    <tr>\n      <th>1</th>\n      <td>51</td>\n      <td>764</td>\n    </tr>\n    <tr>\n      <th>2</th>\n      <td>52</td>\n      <td>595</td>\n    </tr>\n    <tr>\n      <th>3</th>\n      <td>53</td>\n      <td>426</td>\n    </tr>\n    <tr>\n      <th>4</th>\n      <td>56</td>\n      <td>385</td>\n    </tr>\n    <tr>\n      <th>5</th>\n      <td>57</td>\n      <td>385</td>\n    </tr>\n    <tr>\n      <th>6</th>\n      <td>55</td>\n      <td>382</td>\n    </tr>\n    <tr>\n      <th>7</th>\n      <td>58</td>\n      <td>373</td>\n    </tr>\n    <tr>\n      <th>8</th>\n      <td>54</td>\n      <td>366</td>\n    </tr>\n    <tr>\n      <th>9</th>\n      <td>59</td>\n      <td>290</td>\n    </tr>\n    <tr>\n      <th>10</th>\n      <td>60</td>\n      <td>245</td>\n    </tr>\n    <tr>\n      <th>11</th>\n      <td>61</td>\n      <td>199</td>\n    </tr>\n    <tr>\n      <th>12</th>\n      <td>62</td>\n      <td>140</td>\n    </tr>\n    <tr>\n      <th>13</th>\n      <td>63</td>\n      <td>105</td>\n    </tr>\n    <tr>\n      <th>14</th>\n      <td>67</td>\n      <td>86</td>\n    </tr>\n    <tr>\n      <th>15</th>\n      <td>66</td>\n      <td>81</td>\n    </tr>\n    <tr>\n      <th>16</th>\n      <td>65</td>\n      <td>78</td>\n    </tr>\n    <tr>\n      <th>17</th>\n      <td>64</td>\n      <td>78</td>\n    </tr>\n    <tr>\n      <th>18</th>\n      <td>68</td>\n      <td>72</td>\n    </tr>\n    <tr>\n      <th>19</th>\n      <td>69</td>\n      <td>69</td>\n    </tr>\n    <tr>\n      <th>20</th>\n      <td>70</td>\n      <td>67</td>\n    </tr>\n    <tr>\n      <th>21</th>\n      <td>71</td>\n      <td>34</td>\n    </tr>\n    <tr>\n      <th>22</th>\n      <td>72</td>\n      <td>31</td>\n    </tr>\n    <tr>\n      <th>23</th>\n      <td>75</td>\n      <td>26</td>\n    </tr>\n    <tr>\n      <th>24</th>\n      <td>77</td>\n      <td>21</td>\n    </tr>\n    <tr>\n      <th>25</th>\n      <td>74</td>\n      <td>21</td>\n    </tr>\n    <tr>\n      <th>26</th>\n      <td>78</td>\n      <td>21</td>\n    </tr>\n    <tr>\n      <th>27</th>\n      <td>73</td>\n      <td>18</td>\n    </tr>\n    <tr>\n      <th>28</th>\n      <td>81</td>\n      <td>17</td>\n    </tr>\n    <tr>\n      <th>29</th>\n      <td>79</td>\n      <td>16</td>\n    </tr>\n    <tr>\n      <th>30</th>\n      <td>80</td>\n      <td>15</td>\n    </tr>\n    <tr>\n      <th>31</th>\n      <td>76</td>\n      <td>13</td>\n    </tr>\n    <tr>\n      <th>32</th>\n      <td>100</td>\n      <td>12</td>\n    </tr>\n    <tr>\n      <th>33</th>\n      <td>87</td>\n      <td>9</td>\n    </tr>\n    <tr>\n      <th>34</th>\n      <td>82</td>\n      <td>8</td>\n    </tr>\n    <tr>\n      <th>35</th>\n      <td>85</td>\n      <td>7</td>\n    </tr>\n    <tr>\n      <th>36</th>\n      <td>89</td>\n      <td>6</td>\n    </tr>\n    <tr>\n      <th>37</th>\n      <td>90</td>\n      <td>5</td>\n    </tr>\n    <tr>\n      <th>38</th>\n      <td>107</td>\n      <td>4</td>\n    </tr>\n    <tr>\n      <th>39</th>\n      <td>97</td>\n      <td>4</td>\n    </tr>\n    <tr>\n      <th>40</th>\n      <td>95</td>\n      <td>4</td>\n    </tr>\n    <tr>\n      <th>41</th>\n      <td>92</td>\n      <td>4</td>\n    </tr>\n    <tr>\n      <th>42</th>\n      <td>83</td>\n      <td>3</td>\n    </tr>\n    <tr>\n      <th>43</th>\n      <td>86</td>\n      <td>3</td>\n    </tr>\n    <tr>\n      <th>44</th>\n      <td>98</td>\n      <td>3</td>\n    </tr>\n    <tr>\n      <th>45</th>\n      <td>91</td>\n      <td>2</td>\n    </tr>\n    <tr>\n      <th>46</th>\n      <td>84</td>\n      <td>2</td>\n    </tr>\n    <tr>\n      <th>47</th>\n      <td>93</td>\n      <td>2</td>\n    </tr>\n    <tr>\n      <th>48</th>\n      <td>88</td>\n      <td>2</td>\n    </tr>\n    <tr>\n      <th>49</th>\n      <td>96</td>\n      <td>2</td>\n    </tr>\n    <tr>\n      <th>50</th>\n      <td>110</td>\n      <td>2</td>\n    </tr>\n    <tr>\n      <th>51</th>\n      <td>105</td>\n      <td>1</td>\n    </tr>\n    <tr>\n      <th>52</th>\n      <td>104</td>\n      <td>1</td>\n    </tr>\n    <tr>\n      <th>53</th>\n      <td>102</td>\n      <td>1</td>\n    </tr>\n    <tr>\n      <th>54</th>\n      <td>94</td>\n      <td>1</td>\n    </tr>\n    <tr>\n      <th>55</th>\n      <td>103</td>\n      <td>1</td>\n    </tr>\n    <tr>\n      <th>56</th>\n      <td>115</td>\n      <td>1</td>\n    </tr>\n    <tr>\n      <th>57</th>\n      <td>99</td>\n      <td>1</td>\n    </tr>\n    <tr>\n      <th>58</th>\n      <td>125</td>\n      <td>1</td>\n    </tr>\n    <tr>\n      <th>59</th>\n      <td>108</td>\n      <td>1</td>\n    </tr>\n  </tbody>\n</table>\n</div>"
     },
     "execution_count": 19,
     "metadata": {},
     "output_type": "execute_result"
    }
   ],
   "source": [
    "seq_lengths = merged_df['seq_len_prepadding'].value_counts().index.values, merged_df['seq_len_prepadding'].value_counts().values\n",
    "seq_too_long = pd.DataFrame()\n",
    "seq_too_long['seq_len'] = seq_lengths[0][seq_lengths[0] >= 50]\n",
    "seq_too_long['count'] = seq_lengths[1][seq_lengths[0] >= 50]\n",
    "seq_too_long"
   ],
   "metadata": {
    "collapsed": false,
    "ExecuteTime": {
     "end_time": "2023-09-10T11:01:51.625227600Z",
     "start_time": "2023-09-10T11:01:51.548344900Z"
    }
   }
  },
  {
   "cell_type": "code",
   "execution_count": 20,
   "outputs": [],
   "source": [
    "# give smallest seq_len when count <= 100\n",
    "seq_len_cutoff_df = seq_too_long[seq_too_long['count'] <= 100]\n",
    "seq_len_cutoff = min(seq_len_cutoff_df['seq_len'])"
   ],
   "metadata": {
    "collapsed": false,
    "ExecuteTime": {
     "end_time": "2023-09-10T11:01:51.697473600Z",
     "start_time": "2023-09-10T11:01:51.572817200Z"
    }
   }
  },
  {
   "cell_type": "code",
   "execution_count": 21,
   "outputs": [
    {
     "data": {
      "text/plain": "64"
     },
     "execution_count": 21,
     "metadata": {},
     "output_type": "execute_result"
    }
   ],
   "source": [
    "seq_len_cutoff"
   ],
   "metadata": {
    "collapsed": false,
    "ExecuteTime": {
     "end_time": "2023-09-10T11:01:51.697473600Z",
     "start_time": "2023-09-10T11:01:51.583674600Z"
    }
   }
  },
  {
   "cell_type": "code",
   "execution_count": 22,
   "outputs": [],
   "source": [
    "# reapply max len\n",
    "max_len_seq = seq_len_cutoff-1"
   ],
   "metadata": {
    "collapsed": false,
    "ExecuteTime": {
     "end_time": "2023-09-10T11:01:51.697473600Z",
     "start_time": "2023-09-10T11:01:51.595290100Z"
    }
   }
  },
  {
   "cell_type": "code",
   "execution_count": 23,
   "outputs": [],
   "source": [
    "def seq_translator(sequence, dictionary=vocabulary, max_len=max_len_seq, print_result=False, no_padding=False):\n",
    "    \"\"\"\n",
    "    Translates a sequence into a vector of integers\n",
    "    :param print_result:\n",
    "    :param max_len:\n",
    "    :param sequence: string\n",
    "    :param dictionary: dictionary\n",
    "    :return: list\n",
    "    \"\"\"\n",
    "    pattern = r'[A-Z]\\[[^\\]]*\\]|.' # regex pattern to match amino acids and modifications\n",
    "    #pattern = r'(\\w\\[UNIMOD:\\d+\\])' # regex pattern to match amino acids and modifications\n",
    "\n",
    "    result = [match for match in re.findall(pattern, sequence)]\n",
    "\n",
    "    # Fill the list with \"X\" characters until it reaches a length of 40\n",
    "    if not no_padding:\n",
    "        result += ['X'] * (max_len - len(result))\n",
    "    if print_result:\n",
    "        print(result)\n",
    "\n",
    "    aa_dictionary = dict()\n",
    "    for index, aa in enumerate(dictionary):\n",
    "        aa_dictionary[aa] = index\n",
    "\n",
    "    return [aa_dictionary[aa] for aa in result]"
   ],
   "metadata": {
    "collapsed": false,
    "ExecuteTime": {
     "end_time": "2023-09-10T11:01:51.731994500Z",
     "start_time": "2023-09-10T11:01:51.608146100Z"
    }
   }
  },
  {
   "cell_type": "code",
   "execution_count": 24,
   "outputs": [],
   "source": [
    "delete_a_row = True\n",
    "if delete_a_row:\n",
    "# delete row if seq_len_prepadding larger or equal to seq_len_cutoff\n",
    "    index_to_delete_seq = merged_df[merged_df['seq_len_prepadding'] >= seq_len_cutoff].index\n",
    "    merged_df.drop(index_to_delete_seq, inplace=True)"
   ],
   "metadata": {
    "collapsed": false,
    "ExecuteTime": {
     "end_time": "2023-09-10T11:01:52.002173200Z",
     "start_time": "2023-09-10T11:01:51.620229200Z"
    }
   }
  },
  {
   "cell_type": "code",
   "execution_count": 25,
   "outputs": [
    {
     "data": {
      "text/plain": "Empty DataFrame\nColumns: [modified_sequence, precursor_charge, precursor_intensity, seq_len_prepadding]\nIndex: []",
      "text/html": "<div>\n<style scoped>\n    .dataframe tbody tr th:only-of-type {\n        vertical-align: middle;\n    }\n\n    .dataframe tbody tr th {\n        vertical-align: top;\n    }\n\n    .dataframe thead th {\n        text-align: right;\n    }\n</style>\n<table border=\"1\" class=\"dataframe\">\n  <thead>\n    <tr style=\"text-align: right;\">\n      <th></th>\n      <th>modified_sequence</th>\n      <th>precursor_charge</th>\n      <th>precursor_intensity</th>\n      <th>seq_len_prepadding</th>\n    </tr>\n  </thead>\n  <tbody>\n  </tbody>\n</table>\n</div>"
     },
     "execution_count": 25,
     "metadata": {},
     "output_type": "execute_result"
    }
   ],
   "source": [
    "# output all sequences with seq_len_prepadding >= 50\n",
    "merged_df[merged_df['seq_len_prepadding'] >= seq_len_cutoff]"
   ],
   "metadata": {
    "collapsed": false,
    "ExecuteTime": {
     "end_time": "2023-09-10T11:01:52.005175100Z",
     "start_time": "2023-09-10T11:01:51.811859200Z"
    }
   }
  },
  {
   "cell_type": "code",
   "execution_count": 26,
   "outputs": [],
   "source": [
    "merged_df['normalized'] = merged_df.apply(lambda x: normalize_for_most_abundant(x[\"precursor_charge\"], x[\"precursor_intensity\"]), axis=1)"
   ],
   "metadata": {
    "collapsed": false,
    "ExecuteTime": {
     "end_time": "2023-09-10T11:02:02.903862300Z",
     "start_time": "2023-09-10T11:01:51.818649600Z"
    }
   }
  },
  {
   "cell_type": "code",
   "execution_count": 27,
   "outputs": [],
   "source": [
    "merged_df['pre_normalization'] = merged_df.apply(lambda x: get_most_abundant(x[\"precursor_charge\"], x[\"precursor_intensity\"], True), axis=1)"
   ],
   "metadata": {
    "collapsed": false,
    "ExecuteTime": {
     "end_time": "2023-09-10T11:02:13.034658200Z",
     "start_time": "2023-09-10T11:02:02.904859200Z"
    }
   }
  },
  {
   "cell_type": "code",
   "execution_count": 28,
   "outputs": [],
   "source": [
    "# return key for max value in dict\n",
    "merged_df['most_abundant_charge'] = merged_df['normalized'].apply(lambda x: max(x, key=x.get))"
   ],
   "metadata": {
    "collapsed": false,
    "ExecuteTime": {
     "end_time": "2023-09-10T11:02:13.506007Z",
     "start_time": "2023-09-10T11:02:13.035467700Z"
    }
   }
  },
  {
   "cell_type": "code",
   "execution_count": 29,
   "outputs": [],
   "source": [
    "merged_df[\"most_abundant_charge_vector\"] = merged_df[\"most_abundant_charge\"].apply(one_hot_precursor, args=(charge_ranges,))"
   ],
   "metadata": {
    "collapsed": false,
    "ExecuteTime": {
     "end_time": "2023-09-10T11:02:16.173728600Z",
     "start_time": "2023-09-10T11:02:13.507008200Z"
    }
   }
  },
  {
   "cell_type": "code",
   "execution_count": 30,
   "outputs": [],
   "source": [
    "merged_df[\"modified_sequence_vector\"] = merged_df[\"modified_sequence\"].apply(seq_translator)"
   ],
   "metadata": {
    "collapsed": false,
    "ExecuteTime": {
     "end_time": "2023-09-10T11:02:23.603576500Z",
     "start_time": "2023-09-10T11:02:16.174729600Z"
    }
   }
  },
  {
   "cell_type": "code",
   "execution_count": 31,
   "outputs": [
    {
     "data": {
      "text/plain": "             modified_sequence  \\\n0       AAAAAAAAAAAAAAAAGLGLGP   \n1        AAAAAAAAAAAAAAAASAGGK   \n2       AAAAAAAAAAAAAAAGAGAGAK   \n3   AAAAAAAAAAAAAAASGFAYPGTSER   \n4              AAAAAAAAAAAAAAG   \n5            AAAAAAAAAAAAAAGAG   \n6       AAAAAAAAAAAAAAGGLALGLH   \n7          AAAAAAAAAAAAAAVTSGV   \n8             AAAAAAAAAAAAAGAG   \n9               AAAAAAAAAAAAAK   \n10            AAAAAAAAAAAAHLPS   \n\n                                     precursor_charge  \\\n0   [2, 3, 2, 1, 1, 2, 2, 2, 2, 2, 2, 3, 3, 3, 3, ...   \n1       [2, 2, 2, 2, 2, 2, 2, 2, 2, 2, 2, 2, 2, 2, 2]   \n2                                        [2, 2, 2, 2]   \n3   [2, 2, 2, 2, 2, 2, 2, 2, 2, 2, 2, 2, 2, 2, 2, ...   \n4   [1, 1, 1, 1, 1, 1, 1, 1, 1, 1, 1, 1, 1, 1, 1, ...   \n5   [1, 1, 1, 1, 1, 1, 1, 1, 1, 1, 1, 1, 1, 1, 1, ...   \n6   [2, 2, 2, 2, 2, 2, 2, 2, 2, 2, 2, 2, 2, 2, 2, ...   \n7   [2, 2, 2, 2, 2, 2, 2, 2, 2, 2, 2, 2, 2, 2, 2, ...   \n8   [1, 2, 1, 1, 1, 1, 1, 2, 2, 2, 2, 2, 2, 2, 1, ...   \n9   [1, 2, 2, 2, 2, 2, 1, 1, 1, 2, 2, 1, 1, 2, 2, ...   \n10  [2, 2, 2, 2, 2, 2, 2, 2, 2, 2, 2, 2, 2, 2, 2, ...   \n\n                                  precursor_intensity  seq_len_prepadding  \\\n0   [12746190.0, 2009914.0, 12746190.0, 791369.9, ...                  22   \n1   [5944787.0, 5944787.0, 8502878.0, 6425294.0, 8...                  21   \n2        [3067981.0, 3067981.0, 3067981.0, 3067981.0]                  22   \n3   [11913300.0, 11913300.0, 11913300.0, 11913300....                  26   \n4   [1573785.0, 4638296.0, 7934979.0, 2019978.0, 4...                  15   \n5   [853119.3, 4332449.0, 3688977.0, 3469130.0, 33...                  17   \n6   [33516080.0, 33516080.0, 8522070.0, 4549188.0,...                  22   \n7   [4576179.0, 3336856.0, 4954145.0, 4317804.0, 3...                  19   \n8   [1233316.0, 2671238.0, 11414430.0, 13683660.0,...                  16   \n9   [2540360.0, 31115000.0, 31115000.0, 70371250.0...                  14   \n10  [27030420.0, 22099630.0, 71770480.0, 22099630....                  16   \n\n                                  normalized  \\\n0   {2: 588796.3, 3: 4654280.0, 1: 791369.9}   \n1                              {2: 303307.5}   \n2                             {2: 3067981.0}   \n3               {2: 8093413.0, 3: 1414907.0}   \n4                             {1: 1124818.0}   \n5                              {1: 679216.3}   \n6                              {2: 365943.3}   \n7              {2: 14611910.0, 1: 1211272.0}   \n8               {1: 1879604.0, 2: 2586197.0}   \n9              {1: 8372130.0, 2: 15308280.0}   \n10                            {2: 5810305.0}   \n\n                                 pre_normalization  most_abundant_charge  \\\n0   {2: 1043873837.3, 3: 30130627.0, 1: 1582739.8}                     3   \n1                                 {2: 107202221.5}                     2   \n2                                  {2: 12271924.0}                     2   \n3                   {2: 148659685.0, 3: 4244721.0}                     2   \n4                           {1: 546950229.4000001}                     1   \n5                                  {1: 52634067.9}                     1   \n6                           {2: 6848110396.300002}                     2   \n7            {2: 225462597.40000004, 1: 5840742.2}                     2   \n8                 {1: 349665943.5, 2: 228379326.3}                     2   \n9                 {1: 99493666.2, 2: 6574531120.0}                     2   \n10                               {2: 9446767331.0}                     2   \n\n   most_abundant_charge_vector  \\\n0           [0, 0, 1, 0, 0, 0]   \n1           [0, 1, 0, 0, 0, 0]   \n2           [0, 1, 0, 0, 0, 0]   \n3           [0, 1, 0, 0, 0, 0]   \n4           [1, 0, 0, 0, 0, 0]   \n5           [1, 0, 0, 0, 0, 0]   \n6           [0, 1, 0, 0, 0, 0]   \n7           [0, 1, 0, 0, 0, 0]   \n8           [0, 1, 0, 0, 0, 0]   \n9           [0, 1, 0, 0, 0, 0]   \n10          [0, 1, 0, 0, 0, 0]   \n\n                             modified_sequence_vector  \n0   [1, 1, 1, 1, 1, 1, 1, 1, 1, 1, 1, 1, 1, 1, 1, ...  \n1   [1, 1, 1, 1, 1, 1, 1, 1, 1, 1, 1, 1, 1, 1, 1, ...  \n2   [1, 1, 1, 1, 1, 1, 1, 1, 1, 1, 1, 1, 1, 1, 1, ...  \n3   [1, 1, 1, 1, 1, 1, 1, 1, 1, 1, 1, 1, 1, 1, 1, ...  \n4   [1, 1, 1, 1, 1, 1, 1, 1, 1, 1, 1, 1, 1, 1, 6, ...  \n5   [1, 1, 1, 1, 1, 1, 1, 1, 1, 1, 1, 1, 1, 1, 6, ...  \n6   [1, 1, 1, 1, 1, 1, 1, 1, 1, 1, 1, 1, 1, 1, 6, ...  \n7   [1, 1, 1, 1, 1, 1, 1, 1, 1, 1, 1, 1, 1, 1, 18,...  \n8   [1, 1, 1, 1, 1, 1, 1, 1, 1, 1, 1, 1, 1, 6, 1, ...  \n9   [1, 1, 1, 1, 1, 1, 1, 1, 1, 1, 1, 1, 1, 9, 0, ...  \n10  [1, 1, 1, 1, 1, 1, 1, 1, 1, 1, 1, 1, 7, 10, 13...  ",
      "text/html": "<div>\n<style scoped>\n    .dataframe tbody tr th:only-of-type {\n        vertical-align: middle;\n    }\n\n    .dataframe tbody tr th {\n        vertical-align: top;\n    }\n\n    .dataframe thead th {\n        text-align: right;\n    }\n</style>\n<table border=\"1\" class=\"dataframe\">\n  <thead>\n    <tr style=\"text-align: right;\">\n      <th></th>\n      <th>modified_sequence</th>\n      <th>precursor_charge</th>\n      <th>precursor_intensity</th>\n      <th>seq_len_prepadding</th>\n      <th>normalized</th>\n      <th>pre_normalization</th>\n      <th>most_abundant_charge</th>\n      <th>most_abundant_charge_vector</th>\n      <th>modified_sequence_vector</th>\n    </tr>\n  </thead>\n  <tbody>\n    <tr>\n      <th>0</th>\n      <td>AAAAAAAAAAAAAAAAGLGLGP</td>\n      <td>[2, 3, 2, 1, 1, 2, 2, 2, 2, 2, 2, 3, 3, 3, 3, ...</td>\n      <td>[12746190.0, 2009914.0, 12746190.0, 791369.9, ...</td>\n      <td>22</td>\n      <td>{2: 588796.3, 3: 4654280.0, 1: 791369.9}</td>\n      <td>{2: 1043873837.3, 3: 30130627.0, 1: 1582739.8}</td>\n      <td>3</td>\n      <td>[0, 0, 1, 0, 0, 0]</td>\n      <td>[1, 1, 1, 1, 1, 1, 1, 1, 1, 1, 1, 1, 1, 1, 1, ...</td>\n    </tr>\n    <tr>\n      <th>1</th>\n      <td>AAAAAAAAAAAAAAAASAGGK</td>\n      <td>[2, 2, 2, 2, 2, 2, 2, 2, 2, 2, 2, 2, 2, 2, 2]</td>\n      <td>[5944787.0, 5944787.0, 8502878.0, 6425294.0, 8...</td>\n      <td>21</td>\n      <td>{2: 303307.5}</td>\n      <td>{2: 107202221.5}</td>\n      <td>2</td>\n      <td>[0, 1, 0, 0, 0, 0]</td>\n      <td>[1, 1, 1, 1, 1, 1, 1, 1, 1, 1, 1, 1, 1, 1, 1, ...</td>\n    </tr>\n    <tr>\n      <th>2</th>\n      <td>AAAAAAAAAAAAAAAGAGAGAK</td>\n      <td>[2, 2, 2, 2]</td>\n      <td>[3067981.0, 3067981.0, 3067981.0, 3067981.0]</td>\n      <td>22</td>\n      <td>{2: 3067981.0}</td>\n      <td>{2: 12271924.0}</td>\n      <td>2</td>\n      <td>[0, 1, 0, 0, 0, 0]</td>\n      <td>[1, 1, 1, 1, 1, 1, 1, 1, 1, 1, 1, 1, 1, 1, 1, ...</td>\n    </tr>\n    <tr>\n      <th>3</th>\n      <td>AAAAAAAAAAAAAAASGFAYPGTSER</td>\n      <td>[2, 2, 2, 2, 2, 2, 2, 2, 2, 2, 2, 2, 2, 2, 2, ...</td>\n      <td>[11913300.0, 11913300.0, 11913300.0, 11913300....</td>\n      <td>26</td>\n      <td>{2: 8093413.0, 3: 1414907.0}</td>\n      <td>{2: 148659685.0, 3: 4244721.0}</td>\n      <td>2</td>\n      <td>[0, 1, 0, 0, 0, 0]</td>\n      <td>[1, 1, 1, 1, 1, 1, 1, 1, 1, 1, 1, 1, 1, 1, 1, ...</td>\n    </tr>\n    <tr>\n      <th>4</th>\n      <td>AAAAAAAAAAAAAAG</td>\n      <td>[1, 1, 1, 1, 1, 1, 1, 1, 1, 1, 1, 1, 1, 1, 1, ...</td>\n      <td>[1573785.0, 4638296.0, 7934979.0, 2019978.0, 4...</td>\n      <td>15</td>\n      <td>{1: 1124818.0}</td>\n      <td>{1: 546950229.4000001}</td>\n      <td>1</td>\n      <td>[1, 0, 0, 0, 0, 0]</td>\n      <td>[1, 1, 1, 1, 1, 1, 1, 1, 1, 1, 1, 1, 1, 1, 6, ...</td>\n    </tr>\n    <tr>\n      <th>5</th>\n      <td>AAAAAAAAAAAAAAGAG</td>\n      <td>[1, 1, 1, 1, 1, 1, 1, 1, 1, 1, 1, 1, 1, 1, 1, ...</td>\n      <td>[853119.3, 4332449.0, 3688977.0, 3469130.0, 33...</td>\n      <td>17</td>\n      <td>{1: 679216.3}</td>\n      <td>{1: 52634067.9}</td>\n      <td>1</td>\n      <td>[1, 0, 0, 0, 0, 0]</td>\n      <td>[1, 1, 1, 1, 1, 1, 1, 1, 1, 1, 1, 1, 1, 1, 6, ...</td>\n    </tr>\n    <tr>\n      <th>6</th>\n      <td>AAAAAAAAAAAAAAGGLALGLH</td>\n      <td>[2, 2, 2, 2, 2, 2, 2, 2, 2, 2, 2, 2, 2, 2, 2, ...</td>\n      <td>[33516080.0, 33516080.0, 8522070.0, 4549188.0,...</td>\n      <td>22</td>\n      <td>{2: 365943.3}</td>\n      <td>{2: 6848110396.300002}</td>\n      <td>2</td>\n      <td>[0, 1, 0, 0, 0, 0]</td>\n      <td>[1, 1, 1, 1, 1, 1, 1, 1, 1, 1, 1, 1, 1, 1, 6, ...</td>\n    </tr>\n    <tr>\n      <th>7</th>\n      <td>AAAAAAAAAAAAAAVTSGV</td>\n      <td>[2, 2, 2, 2, 2, 2, 2, 2, 2, 2, 2, 2, 2, 2, 2, ...</td>\n      <td>[4576179.0, 3336856.0, 4954145.0, 4317804.0, 3...</td>\n      <td>19</td>\n      <td>{2: 14611910.0, 1: 1211272.0}</td>\n      <td>{2: 225462597.40000004, 1: 5840742.2}</td>\n      <td>2</td>\n      <td>[0, 1, 0, 0, 0, 0]</td>\n      <td>[1, 1, 1, 1, 1, 1, 1, 1, 1, 1, 1, 1, 1, 1, 18,...</td>\n    </tr>\n    <tr>\n      <th>8</th>\n      <td>AAAAAAAAAAAAAGAG</td>\n      <td>[1, 2, 1, 1, 1, 1, 1, 2, 2, 2, 2, 2, 2, 2, 1, ...</td>\n      <td>[1233316.0, 2671238.0, 11414430.0, 13683660.0,...</td>\n      <td>16</td>\n      <td>{1: 1879604.0, 2: 2586197.0}</td>\n      <td>{1: 349665943.5, 2: 228379326.3}</td>\n      <td>2</td>\n      <td>[0, 1, 0, 0, 0, 0]</td>\n      <td>[1, 1, 1, 1, 1, 1, 1, 1, 1, 1, 1, 1, 1, 6, 1, ...</td>\n    </tr>\n    <tr>\n      <th>9</th>\n      <td>AAAAAAAAAAAAAK</td>\n      <td>[1, 2, 2, 2, 2, 2, 1, 1, 1, 2, 2, 1, 1, 2, 2, ...</td>\n      <td>[2540360.0, 31115000.0, 31115000.0, 70371250.0...</td>\n      <td>14</td>\n      <td>{1: 8372130.0, 2: 15308280.0}</td>\n      <td>{1: 99493666.2, 2: 6574531120.0}</td>\n      <td>2</td>\n      <td>[0, 1, 0, 0, 0, 0]</td>\n      <td>[1, 1, 1, 1, 1, 1, 1, 1, 1, 1, 1, 1, 1, 9, 0, ...</td>\n    </tr>\n    <tr>\n      <th>10</th>\n      <td>AAAAAAAAAAAAHLPS</td>\n      <td>[2, 2, 2, 2, 2, 2, 2, 2, 2, 2, 2, 2, 2, 2, 2, ...</td>\n      <td>[27030420.0, 22099630.0, 71770480.0, 22099630....</td>\n      <td>16</td>\n      <td>{2: 5810305.0}</td>\n      <td>{2: 9446767331.0}</td>\n      <td>2</td>\n      <td>[0, 1, 0, 0, 0, 0]</td>\n      <td>[1, 1, 1, 1, 1, 1, 1, 1, 1, 1, 1, 1, 7, 10, 13...</td>\n    </tr>\n  </tbody>\n</table>\n</div>"
     },
     "execution_count": 31,
     "metadata": {},
     "output_type": "execute_result"
    }
   ],
   "source": [
    "merged_df.head(11)"
   ],
   "metadata": {
    "collapsed": false,
    "ExecuteTime": {
     "end_time": "2023-09-10T11:02:23.639016600Z",
     "start_time": "2023-09-10T11:02:23.604579500Z"
    }
   }
  },
  {
   "cell_type": "code",
   "execution_count": 32,
   "outputs": [
    {
     "data": {
      "text/plain": "830820"
     },
     "execution_count": 32,
     "metadata": {},
     "output_type": "execute_result"
    }
   ],
   "source": [
    "len(merged_df)"
   ],
   "metadata": {
    "collapsed": false,
    "ExecuteTime": {
     "end_time": "2023-09-10T11:02:23.652165400Z",
     "start_time": "2023-09-10T11:02:23.627081200Z"
    }
   }
  },
  {
   "cell_type": "code",
   "execution_count": 33,
   "outputs": [
    {
     "data": {
      "text/plain": "2    452544\n3    259972\n4     65966\n1     41352\n5      9069\n6      1917\nName: most_abundant_charge, dtype: int64"
     },
     "execution_count": 33,
     "metadata": {},
     "output_type": "execute_result"
    }
   ],
   "source": [
    "merged_df[\"most_abundant_charge\"].value_counts()"
   ],
   "metadata": {
    "collapsed": false,
    "ExecuteTime": {
     "end_time": "2023-09-10T11:02:23.865881200Z",
     "start_time": "2023-09-10T11:02:23.639016600Z"
    }
   }
  },
  {
   "cell_type": "code",
   "execution_count": 34,
   "outputs": [],
   "source": [
    "#get the"
   ],
   "metadata": {
    "collapsed": false,
    "ExecuteTime": {
     "end_time": "2023-09-10T11:02:23.866880400Z",
     "start_time": "2023-09-10T11:02:23.654683500Z"
    }
   }
  },
  {
   "cell_type": "code",
   "execution_count": 35,
   "outputs": [
    {
     "name": "stdout",
     "output_type": "stream",
     "text": [
      "data/Thermo_SRM_Pool_meta_data.parquet\n"
     ]
    },
    {
     "name": "stderr",
     "output_type": "stream",
     "text": [
      "C:\\Users\\micro\\AppData\\Local\\Temp\\ipykernel_1600\\365009680.py:2: FutureWarning: Indexing with multiple keys (implicitly converted to a tuple of keys) will be deprecated, use a list instead.\n",
      "  look_up_df = batches_parquet[file_list[0]].groupby(\"modified_sequence\")[\"precursor_charge\", \"precursor_intensity\"].agg(list).reset_index()\n"
     ]
    },
    {
     "data": {
      "text/plain": "70445"
     },
     "execution_count": 35,
     "metadata": {},
     "output_type": "execute_result"
    }
   ],
   "source": [
    "print(file_list[0])\n",
    "look_up_df = batches_parquet[file_list[0]].groupby(\"modified_sequence\")[\"precursor_charge\", \"precursor_intensity\"].agg(list).reset_index()\n",
    "len(look_up_df)"
   ],
   "metadata": {
    "collapsed": false,
    "ExecuteTime": {
     "end_time": "2023-09-10T11:02:27.277908600Z",
     "start_time": "2023-09-10T11:02:23.666023600Z"
    }
   }
  },
  {
   "cell_type": "markdown",
   "source": [
    "# Embedding model test:"
   ],
   "metadata": {
    "collapsed": false
   }
  },
  {
   "cell_type": "code",
   "execution_count": 36,
   "outputs": [],
   "source": [
    "df1 = merged_df.sample(frac = 0.1, random_state = 42)\n",
    "test_ds_embed = np.array(df1['modified_sequence_vector'])\n",
    "test_ds_embed_raw = np.array(df1['modified_sequence'])\n",
    "test_labels_embed = np.array(df1['most_abundant_charge_vector'])\n",
    "test_true_labels_normalized = np.array(df1['normalized'])"
   ],
   "metadata": {
    "collapsed": false,
    "ExecuteTime": {
     "end_time": "2023-09-10T11:02:27.457411300Z",
     "start_time": "2023-09-10T11:02:27.248845400Z"
    }
   }
  },
  {
   "cell_type": "code",
   "execution_count": 37,
   "outputs": [],
   "source": [
    "test_ds_embed = [np.array(x) for x in test_ds_embed]"
   ],
   "metadata": {
    "collapsed": false,
    "ExecuteTime": {
     "end_time": "2023-09-10T11:02:27.860214800Z",
     "start_time": "2023-09-10T11:02:27.458412300Z"
    }
   }
  },
  {
   "cell_type": "code",
   "execution_count": 38,
   "outputs": [],
   "source": [
    "test_labels_embed = [np.array(x) for x in test_labels_embed]"
   ],
   "metadata": {
    "collapsed": false,
    "ExecuteTime": {
     "end_time": "2023-09-10T11:02:27.942351200Z",
     "start_time": "2023-09-10T11:02:27.860214800Z"
    }
   }
  },
  {
   "cell_type": "code",
   "execution_count": 39,
   "outputs": [],
   "source": [
    "test_ds_embed = tf.convert_to_tensor(test_ds_embed)\n",
    "test_labels_embed = tf.convert_to_tensor(test_labels_embed)"
   ],
   "metadata": {
    "collapsed": false,
    "ExecuteTime": {
     "end_time": "2023-09-10T11:02:28.458053Z",
     "start_time": "2023-09-10T11:02:27.942351200Z"
    }
   }
  },
  {
   "cell_type": "markdown",
   "source": [
    "Add topk\n"
   ],
   "metadata": {
    "collapsed": false
   }
  },
  {
   "cell_type": "code",
   "execution_count": 40,
   "outputs": [],
   "source": [
    "def get_topK(label_dict, k=1):\n",
    "    allowed_keys = list()\n",
    "    sorted_values = sorted(label_dict.values(), reverse=True)\n",
    "    for i in sorted_values:\n",
    "        for key, value in label_dict.items():\n",
    "            if i == value and len(allowed_keys) <= k:\n",
    "                #allowed_keys.append((key, value))\n",
    "                allowed_keys.append(key)\n",
    "    return allowed_keys\n",
    "df1['topK'] = df1['normalized'].apply(get_topK)"
   ],
   "metadata": {
    "collapsed": false,
    "ExecuteTime": {
     "end_time": "2023-09-10T11:02:28.556955800Z",
     "start_time": "2023-09-10T11:02:28.460054800Z"
    }
   }
  },
  {
   "cell_type": "markdown",
   "source": [
    "# The random predictor baseline model"
   ],
   "metadata": {
    "collapsed": false
   }
  },
  {
   "cell_type": "code",
   "execution_count": 41,
   "outputs": [
    {
     "data": {
      "text/plain": "                 modified_sequence  \\\n202733                 EVAAARAAETE   \n676563                SNSLRLSLIGDR   \n187277  EM[UNIMOD:35]LTRAIKTQLVLLT   \n332706                 IPRVTTPLSSL   \n\n                                         precursor_charge  \\\n202733                                                [2]   \n676563  [3, 3, 3, 3, 3, 3, 3, 3, 3, 3, 3, 3, 3, 2, 2, ...   \n187277  [3, 3, 2, 3, 2, 3, 3, 2, 3, 3, 3, 3, 3, 3, 3, ...   \n332706  [2, 2, 2, 2, 2, 2, 2, 2, 2, 2, 2, 2, 2, 2, 2, ...   \n\n                                      precursor_intensity  seq_len_prepadding  \\\n202733                                        [2308078.0]                  11   \n676563  [235036700.0, 97028600.0, 40602360.0, 23503670...                  12   \n187277  [36243780.0, 20539810.0, 7780559.0, 4336029.0,...                  26   \n332706  [46604460.0, 3748077.0, 46604460.0, 2759318.0,...                  11   \n\n                            normalized                  pre_normalization  \\\n202733                  {2: 2308078.0}                     {2: 2308078.0}   \n676563  {3: 15888960.0, 2: 41187530.0}  {3: 8432234945.0, 2: 318124150.0}   \n187277   {3: 48770720.0, 2: 7114500.0}   {3: 2520368785.0, 2: 22675618.0}   \n332706                  {2: 9628667.0}                  {2: 4689524063.0}   \n\n        most_abundant_charge most_abundant_charge_vector  \\\n202733                     2          [0, 1, 0, 0, 0, 0]   \n676563                     2          [0, 1, 0, 0, 0, 0]   \n187277                     3          [0, 0, 1, 0, 0, 0]   \n332706                     2          [0, 1, 0, 0, 0, 0]   \n\n                                 modified_sequence_vector    topK  \n202733  [4, 18, 1, 1, 1, 15, 1, 1, 4, 17, 4, 0, 0, 0, ...     [2]  \n676563  [16, 12, 16, 10, 15, 10, 16, 10, 8, 6, 3, 15, ...  [2, 3]  \n187277  [4, 22, 10, 17, 15, 1, 8, 9, 17, 14, 10, 18, 1...  [3, 2]  \n332706  [8, 13, 15, 18, 17, 17, 13, 10, 16, 16, 10, 0,...     [2]  ",
      "text/html": "<div>\n<style scoped>\n    .dataframe tbody tr th:only-of-type {\n        vertical-align: middle;\n    }\n\n    .dataframe tbody tr th {\n        vertical-align: top;\n    }\n\n    .dataframe thead th {\n        text-align: right;\n    }\n</style>\n<table border=\"1\" class=\"dataframe\">\n  <thead>\n    <tr style=\"text-align: right;\">\n      <th></th>\n      <th>modified_sequence</th>\n      <th>precursor_charge</th>\n      <th>precursor_intensity</th>\n      <th>seq_len_prepadding</th>\n      <th>normalized</th>\n      <th>pre_normalization</th>\n      <th>most_abundant_charge</th>\n      <th>most_abundant_charge_vector</th>\n      <th>modified_sequence_vector</th>\n      <th>topK</th>\n    </tr>\n  </thead>\n  <tbody>\n    <tr>\n      <th>202733</th>\n      <td>EVAAARAAETE</td>\n      <td>[2]</td>\n      <td>[2308078.0]</td>\n      <td>11</td>\n      <td>{2: 2308078.0}</td>\n      <td>{2: 2308078.0}</td>\n      <td>2</td>\n      <td>[0, 1, 0, 0, 0, 0]</td>\n      <td>[4, 18, 1, 1, 1, 15, 1, 1, 4, 17, 4, 0, 0, 0, ...</td>\n      <td>[2]</td>\n    </tr>\n    <tr>\n      <th>676563</th>\n      <td>SNSLRLSLIGDR</td>\n      <td>[3, 3, 3, 3, 3, 3, 3, 3, 3, 3, 3, 3, 3, 2, 2, ...</td>\n      <td>[235036700.0, 97028600.0, 40602360.0, 23503670...</td>\n      <td>12</td>\n      <td>{3: 15888960.0, 2: 41187530.0}</td>\n      <td>{3: 8432234945.0, 2: 318124150.0}</td>\n      <td>2</td>\n      <td>[0, 1, 0, 0, 0, 0]</td>\n      <td>[16, 12, 16, 10, 15, 10, 16, 10, 8, 6, 3, 15, ...</td>\n      <td>[2, 3]</td>\n    </tr>\n    <tr>\n      <th>187277</th>\n      <td>EM[UNIMOD:35]LTRAIKTQLVLLT</td>\n      <td>[3, 3, 2, 3, 2, 3, 3, 2, 3, 3, 3, 3, 3, 3, 3, ...</td>\n      <td>[36243780.0, 20539810.0, 7780559.0, 4336029.0,...</td>\n      <td>26</td>\n      <td>{3: 48770720.0, 2: 7114500.0}</td>\n      <td>{3: 2520368785.0, 2: 22675618.0}</td>\n      <td>3</td>\n      <td>[0, 0, 1, 0, 0, 0]</td>\n      <td>[4, 22, 10, 17, 15, 1, 8, 9, 17, 14, 10, 18, 1...</td>\n      <td>[3, 2]</td>\n    </tr>\n    <tr>\n      <th>332706</th>\n      <td>IPRVTTPLSSL</td>\n      <td>[2, 2, 2, 2, 2, 2, 2, 2, 2, 2, 2, 2, 2, 2, 2, ...</td>\n      <td>[46604460.0, 3748077.0, 46604460.0, 2759318.0,...</td>\n      <td>11</td>\n      <td>{2: 9628667.0}</td>\n      <td>{2: 4689524063.0}</td>\n      <td>2</td>\n      <td>[0, 1, 0, 0, 0, 0]</td>\n      <td>[8, 13, 15, 18, 17, 17, 13, 10, 16, 16, 10, 0,...</td>\n      <td>[2]</td>\n    </tr>\n  </tbody>\n</table>\n</div>"
     },
     "execution_count": 41,
     "metadata": {},
     "output_type": "execute_result"
    }
   ],
   "source": [
    "df1.head(4)"
   ],
   "metadata": {
    "collapsed": false,
    "ExecuteTime": {
     "end_time": "2023-09-10T11:02:28.592490100Z",
     "start_time": "2023-09-10T11:02:28.557958100Z"
    }
   }
  },
  {
   "cell_type": "code",
   "execution_count": 42,
   "outputs": [
    {
     "name": "stdout",
     "output_type": "stream",
     "text": [
      "2 45328 54.56\n",
      "3 26040 31.34\n",
      "4 6503 7.83\n",
      "1 4126 4.97\n",
      "5 903 1.09\n",
      "6 182 0.22\n",
      "total:  83082\n"
     ]
    }
   ],
   "source": [
    "# count all values\n",
    "dist_dict_testset = dict()\n",
    "for x in df1[\"most_abundant_charge\"].value_counts().index:\n",
    "    # as percentage\n",
    "    print(x, df1[\"most_abundant_charge\"].value_counts()[x], round(df1[\"most_abundant_charge\"].value_counts()[x]/sum(df1[\"most_abundant_charge\"].value_counts())*100, 2))\n",
    "    dist_dict_testset[x] = round(df1[\"most_abundant_charge\"].value_counts()[x]/sum(df1[\"most_abundant_charge\"].value_counts())*100, 2)\n",
    "# print total\n",
    "print(\"total: \", sum(df1[\"most_abundant_charge\"].value_counts()))"
   ],
   "metadata": {
    "collapsed": false,
    "ExecuteTime": {
     "end_time": "2023-09-10T11:02:28.686732800Z",
     "start_time": "2023-09-10T11:02:28.572491Z"
    }
   }
  },
  {
   "cell_type": "code",
   "execution_count": 43,
   "outputs": [
    {
     "name": "stdout",
     "output_type": "stream",
     "text": [
      "2 452544 54.47\n",
      "3 259972 31.29\n",
      "4 65966 7.94\n",
      "1 41352 4.98\n",
      "5 9069 1.09\n",
      "6 1917 0.23\n",
      "total:  830820\n"
     ]
    }
   ],
   "source": [
    "# count all values\n",
    "dist_dict = dict()\n",
    "for x in merged_df[\"most_abundant_charge\"].value_counts().index:\n",
    "    # as percentage\n",
    "    print(x, merged_df[\"most_abundant_charge\"].value_counts()[x], round(merged_df[\"most_abundant_charge\"].value_counts()[x]/sum(merged_df[\"most_abundant_charge\"].value_counts())*100, 2))\n",
    "    dist_dict[x] = round(merged_df[\"most_abundant_charge\"].value_counts()[x]/sum(merged_df[\"most_abundant_charge\"].value_counts())*100, 2)\n",
    "# print total\n",
    "print(\"total: \", sum(merged_df[\"most_abundant_charge\"].value_counts()))"
   ],
   "metadata": {
    "collapsed": false,
    "ExecuteTime": {
     "end_time": "2023-09-10T11:02:28.882962100Z",
     "start_time": "2023-09-10T11:02:28.602215600Z"
    }
   }
  },
  {
   "cell_type": "code",
   "execution_count": 44,
   "outputs": [
    {
     "data": {
      "text/plain": "            modified_sequence  \\\n0      AAAAAAAAAAAAAAAAGLGLGP   \n1       AAAAAAAAAAAAAAAASAGGK   \n2      AAAAAAAAAAAAAAAGAGAGAK   \n3  AAAAAAAAAAAAAAASGFAYPGTSER   \n\n                                    precursor_charge  \\\n0  [2, 3, 2, 1, 1, 2, 2, 2, 2, 2, 2, 3, 3, 3, 3, ...   \n1      [2, 2, 2, 2, 2, 2, 2, 2, 2, 2, 2, 2, 2, 2, 2]   \n2                                       [2, 2, 2, 2]   \n3  [2, 2, 2, 2, 2, 2, 2, 2, 2, 2, 2, 2, 2, 2, 2, ...   \n\n                                 precursor_intensity  seq_len_prepadding  \\\n0  [12746190.0, 2009914.0, 12746190.0, 791369.9, ...                  22   \n1  [5944787.0, 5944787.0, 8502878.0, 6425294.0, 8...                  21   \n2       [3067981.0, 3067981.0, 3067981.0, 3067981.0]                  22   \n3  [11913300.0, 11913300.0, 11913300.0, 11913300....                  26   \n\n                                 normalized  \\\n0  {2: 588796.3, 3: 4654280.0, 1: 791369.9}   \n1                             {2: 303307.5}   \n2                            {2: 3067981.0}   \n3              {2: 8093413.0, 3: 1414907.0}   \n\n                                pre_normalization  most_abundant_charge  \\\n0  {2: 1043873837.3, 3: 30130627.0, 1: 1582739.8}                     3   \n1                                {2: 107202221.5}                     2   \n2                                 {2: 12271924.0}                     2   \n3                  {2: 148659685.0, 3: 4244721.0}                     2   \n\n  most_abundant_charge_vector  \\\n0          [0, 0, 1, 0, 0, 0]   \n1          [0, 1, 0, 0, 0, 0]   \n2          [0, 1, 0, 0, 0, 0]   \n3          [0, 1, 0, 0, 0, 0]   \n\n                            modified_sequence_vector  \n0  [1, 1, 1, 1, 1, 1, 1, 1, 1, 1, 1, 1, 1, 1, 1, ...  \n1  [1, 1, 1, 1, 1, 1, 1, 1, 1, 1, 1, 1, 1, 1, 1, ...  \n2  [1, 1, 1, 1, 1, 1, 1, 1, 1, 1, 1, 1, 1, 1, 1, ...  \n3  [1, 1, 1, 1, 1, 1, 1, 1, 1, 1, 1, 1, 1, 1, 1, ...  ",
      "text/html": "<div>\n<style scoped>\n    .dataframe tbody tr th:only-of-type {\n        vertical-align: middle;\n    }\n\n    .dataframe tbody tr th {\n        vertical-align: top;\n    }\n\n    .dataframe thead th {\n        text-align: right;\n    }\n</style>\n<table border=\"1\" class=\"dataframe\">\n  <thead>\n    <tr style=\"text-align: right;\">\n      <th></th>\n      <th>modified_sequence</th>\n      <th>precursor_charge</th>\n      <th>precursor_intensity</th>\n      <th>seq_len_prepadding</th>\n      <th>normalized</th>\n      <th>pre_normalization</th>\n      <th>most_abundant_charge</th>\n      <th>most_abundant_charge_vector</th>\n      <th>modified_sequence_vector</th>\n    </tr>\n  </thead>\n  <tbody>\n    <tr>\n      <th>0</th>\n      <td>AAAAAAAAAAAAAAAAGLGLGP</td>\n      <td>[2, 3, 2, 1, 1, 2, 2, 2, 2, 2, 2, 3, 3, 3, 3, ...</td>\n      <td>[12746190.0, 2009914.0, 12746190.0, 791369.9, ...</td>\n      <td>22</td>\n      <td>{2: 588796.3, 3: 4654280.0, 1: 791369.9}</td>\n      <td>{2: 1043873837.3, 3: 30130627.0, 1: 1582739.8}</td>\n      <td>3</td>\n      <td>[0, 0, 1, 0, 0, 0]</td>\n      <td>[1, 1, 1, 1, 1, 1, 1, 1, 1, 1, 1, 1, 1, 1, 1, ...</td>\n    </tr>\n    <tr>\n      <th>1</th>\n      <td>AAAAAAAAAAAAAAAASAGGK</td>\n      <td>[2, 2, 2, 2, 2, 2, 2, 2, 2, 2, 2, 2, 2, 2, 2]</td>\n      <td>[5944787.0, 5944787.0, 8502878.0, 6425294.0, 8...</td>\n      <td>21</td>\n      <td>{2: 303307.5}</td>\n      <td>{2: 107202221.5}</td>\n      <td>2</td>\n      <td>[0, 1, 0, 0, 0, 0]</td>\n      <td>[1, 1, 1, 1, 1, 1, 1, 1, 1, 1, 1, 1, 1, 1, 1, ...</td>\n    </tr>\n    <tr>\n      <th>2</th>\n      <td>AAAAAAAAAAAAAAAGAGAGAK</td>\n      <td>[2, 2, 2, 2]</td>\n      <td>[3067981.0, 3067981.0, 3067981.0, 3067981.0]</td>\n      <td>22</td>\n      <td>{2: 3067981.0}</td>\n      <td>{2: 12271924.0}</td>\n      <td>2</td>\n      <td>[0, 1, 0, 0, 0, 0]</td>\n      <td>[1, 1, 1, 1, 1, 1, 1, 1, 1, 1, 1, 1, 1, 1, 1, ...</td>\n    </tr>\n    <tr>\n      <th>3</th>\n      <td>AAAAAAAAAAAAAAASGFAYPGTSER</td>\n      <td>[2, 2, 2, 2, 2, 2, 2, 2, 2, 2, 2, 2, 2, 2, 2, ...</td>\n      <td>[11913300.0, 11913300.0, 11913300.0, 11913300....</td>\n      <td>26</td>\n      <td>{2: 8093413.0, 3: 1414907.0}</td>\n      <td>{2: 148659685.0, 3: 4244721.0}</td>\n      <td>2</td>\n      <td>[0, 1, 0, 0, 0, 0]</td>\n      <td>[1, 1, 1, 1, 1, 1, 1, 1, 1, 1, 1, 1, 1, 1, 1, ...</td>\n    </tr>\n  </tbody>\n</table>\n</div>"
     },
     "execution_count": 44,
     "metadata": {},
     "output_type": "execute_result"
    }
   ],
   "source": [
    "merged_df.head(4)"
   ],
   "metadata": {
    "collapsed": false,
    "ExecuteTime": {
     "end_time": "2023-09-10T11:02:28.884962400Z",
     "start_time": "2023-09-10T11:02:28.727726600Z"
    }
   }
  },
  {
   "cell_type": "code",
   "execution_count": 44,
   "outputs": [],
   "source": [],
   "metadata": {
    "collapsed": false,
    "ExecuteTime": {
     "end_time": "2023-09-10T11:02:28.884962400Z",
     "start_time": "2023-09-10T11:02:28.739764700Z"
    }
   }
  },
  {
   "cell_type": "code",
   "execution_count": 45,
   "outputs": [
    {
     "data": {
      "text/plain": "dict_items([(2, 54.47), (3, 31.29), (4, 7.94), (1, 4.98), (5, 1.09), (6, 0.23)])"
     },
     "execution_count": 45,
     "metadata": {},
     "output_type": "execute_result"
    }
   ],
   "source": [
    "dist_dict.items()"
   ],
   "metadata": {
    "collapsed": false,
    "ExecuteTime": {
     "end_time": "2023-09-10T11:02:28.884962400Z",
     "start_time": "2023-09-10T11:02:28.741285500Z"
    }
   }
  },
  {
   "cell_type": "code",
   "execution_count": 46,
   "outputs": [],
   "source": [
    "random_range = []\n",
    "random_range += [k for k, v in dist_dict.items() for _ in range(int(v*1000))]"
   ],
   "metadata": {
    "collapsed": false,
    "ExecuteTime": {
     "end_time": "2023-09-10T11:02:28.885963500Z",
     "start_time": "2023-09-10T11:02:28.750407300Z"
    }
   }
  },
  {
   "cell_type": "code",
   "execution_count": 47,
   "outputs": [],
   "source": [
    "def random_predictor(anything, randomizer=random_range):\n",
    "    return random.choice(randomizer)"
   ],
   "metadata": {
    "collapsed": false,
    "ExecuteTime": {
     "end_time": "2023-09-10T11:02:28.886961900Z",
     "start_time": "2023-09-10T11:02:28.764214300Z"
    }
   }
  },
  {
   "cell_type": "code",
   "execution_count": 48,
   "outputs": [],
   "source": [
    "def random_predictor_total_random(anything, randomizer=None):\n",
    "    if randomizer is None:\n",
    "        randomizer = [1, 2, 3, 4, 5, 6]\n",
    "    return random.choice(randomizer)"
   ],
   "metadata": {
    "collapsed": false,
    "ExecuteTime": {
     "end_time": "2023-09-10T11:02:28.886961900Z",
     "start_time": "2023-09-10T11:02:28.775496600Z"
    }
   }
  },
  {
   "cell_type": "code",
   "execution_count": 49,
   "outputs": [],
   "source": [
    "accuracy_list = []\n",
    "\n",
    "for num in range(1):\n",
    "    # iterate through all rows of df1\n",
    "    df1['random_label'] = df1['most_abundant_charge'].apply(random_predictor)\n",
    "    \n",
    "    correct_random = 0\n",
    "    wrong_random = 0\n",
    "    total_random = 0\n",
    "    for index, row in df1.iterrows():\n",
    "        total_random += 1\n",
    "        if row['random_label'] == row['most_abundant_charge']:\n",
    "            correct_random += 1\n",
    "        else:\n",
    "            wrong_random += 1\n",
    "            \n",
    "    ## return accuracy\n",
    "    #print(\"correct: \", correct_random, \"wrong: \", wrong_random, \"total: \", total_random)\n",
    "    #print(\"accuracy: \", correct_random/total_random)\n",
    "    accuracy_list.append(correct_random/total_random)"
   ],
   "metadata": {
    "collapsed": false,
    "ExecuteTime": {
     "end_time": "2023-09-10T11:02:31.435204200Z",
     "start_time": "2023-09-10T11:02:28.787958800Z"
    }
   }
  },
  {
   "cell_type": "code",
   "execution_count": 67,
   "outputs": [],
   "source": [
    "accuracy_list = []\n",
    "topk_accuracy_list = []\n",
    "\n",
    "accuracy_list_x = []\n",
    "topk_accuracy_list_x = []\n",
    "\n",
    "run_count = 10\n",
    "for num in range(run_count):\n",
    "    # iterate through all rows of df1\n",
    "    df1['random_label'] = df1['most_abundant_charge'].apply(random_predictor)\n",
    "    df1['random_label_x'] = df1['most_abundant_charge'].apply(random_predictor_total_random)\n",
    "    total_random = 0\n",
    "    \n",
    "    correct_random_x = 0\n",
    "    wrong_random_x = 0\n",
    "        \n",
    "    correct_random = 0\n",
    "    wrong_random = 0\n",
    "\n",
    "    \n",
    "    topk_correct_random_x = 0\n",
    "    topk_wrong_random_x = 0\n",
    "        \n",
    "    topk_correct_random = 0\n",
    "    topk_wrong_random = 0\n",
    "    \n",
    "    \n",
    "    for index, row in df1.iterrows():\n",
    "        total_random += 1\n",
    "        \n",
    "        if row['random_label'] == row['most_abundant_charge']:\n",
    "            correct_random += 1\n",
    "        else:\n",
    "            wrong_random += 1\n",
    "        if row['random_label'] in row['topK']:\n",
    "            topk_correct_random += 1\n",
    "        else:\n",
    "            topk_wrong_random += 1\n",
    "            \n",
    "        if row['random_label_x'] == row['most_abundant_charge']:\n",
    "            correct_random_x += 1\n",
    "        else:\n",
    "            wrong_random_x += 1\n",
    "        if row['random_label_x'] in row['topK']:\n",
    "            topk_correct_random_x += 1\n",
    "        else:\n",
    "            topk_wrong_random_x += 1\n",
    "    ## return accuracy\n",
    "    #print(\"correct: \", correct_random, \"wrong: \", wrong_random, \"total: \", total_random)\n",
    "    #print(\"accuracy: \", correct_random/total_random)\n",
    "    accuracy_list.append(correct_random/total_random)\n",
    "    topk_accuracy_list.append(topk_correct_random/total_random)\n",
    "    \n",
    "    accuracy_list_x.append(correct_random_x/total_random)\n",
    "    topk_accuracy_list_x.append(topk_correct_random_x/total_random)\n"
   ],
   "metadata": {
    "collapsed": false,
    "ExecuteTime": {
     "end_time": "2023-09-10T11:07:38.256000100Z",
     "start_time": "2023-09-10T11:07:04.286222200Z"
    }
   }
  },
  {
   "cell_type": "code",
   "execution_count": 51,
   "outputs": [],
   "source": [
    "# save to file: accuracy_list\n",
    "import pickle\n",
    "with open('random_accuracy_list.pickle', 'wb') as f:\n",
    "    pickle.dump(accuracy_list, f)\n",
    "    "
   ],
   "metadata": {
    "collapsed": false,
    "ExecuteTime": {
     "end_time": "2023-09-10T11:02:34.809166500Z",
     "start_time": "2023-09-10T11:02:34.779783700Z"
    }
   }
  },
  {
   "cell_type": "code",
   "execution_count": 52,
   "outputs": [
    {
     "data": {
      "text/plain": "[0.4035771888014251]"
     },
     "execution_count": 52,
     "metadata": {},
     "output_type": "execute_result"
    }
   ],
   "source": [
    "accuracy_list"
   ],
   "metadata": {
    "collapsed": false,
    "ExecuteTime": {
     "end_time": "2023-09-10T11:02:34.987745300Z",
     "start_time": "2023-09-10T11:02:34.784162Z"
    }
   }
  },
  {
   "cell_type": "code",
   "execution_count": 53,
   "outputs": [
    {
     "name": "stdout",
     "output_type": "stream",
     "text": [
      "mean accuracy:  0.4035771888014251\n"
     ]
    }
   ],
   "source": [
    "print(\"mean accuracy: \", np.mean(accuracy_list))"
   ],
   "metadata": {
    "collapsed": false,
    "ExecuteTime": {
     "end_time": "2023-09-10T11:02:34.990745800Z",
     "start_time": "2023-09-10T11:02:34.961924900Z"
    }
   }
  },
  {
   "cell_type": "code",
   "execution_count": 54,
   "outputs": [
    {
     "name": "stdout",
     "output_type": "stream",
     "text": [
      "len_list accuracy:  1\n"
     ]
    }
   ],
   "source": [
    "print(\"len_list accuracy: \", len(accuracy_list))"
   ],
   "metadata": {
    "collapsed": false,
    "ExecuteTime": {
     "end_time": "2023-09-10T11:02:34.991744300Z",
     "start_time": "2023-09-10T11:02:34.972940Z"
    }
   }
  },
  {
   "cell_type": "code",
   "execution_count": 68,
   "outputs": [
    {
     "data": {
      "text/plain": "<Figure size 640x480 with 1 Axes>",
      "image/png": "[encoded data removed]"
     },
     "metadata": {},
     "output_type": "display_data"
    }
   ],
   "source": [
    "# plot accuracy_list for accuracy from 0% to 100% and add a vertical line at 78,74%\n",
    "plt.plot(accuracy_list)\n",
    "plt.plot(topk_accuracy_list)\n",
    "plt.plot(accuracy_list_x)\n",
    "plt.plot(topk_accuracy_list_x)\n",
    "\n",
    "plt.axhline(y=0.7874, color='r', linestyle='--')\n",
    "plt.axhline(y=0.9582, color='g', linestyle='--')\n",
    "# add legend\n",
    "plt.legend(['weighted random acc', 'weighted random topK2 acc','total random acc', 'total random topK2 acc', 'best model acc','best model topK2 acc', ], loc='lower right')\n",
    "# add title\n",
    "plt.title(f'random predictor accuracy\\n *weighted by most abundant charge-state in full dataset\\n **total random by np.choice of CSs [1,2,3,4,5,6]\\n {run_count} runs for randomizer')\n",
    "# add x and y labels\n",
    "plt.xlabel('Iteration')\n",
    "plt.ylabel('Accuracy')\n",
    "# show plot\n",
    "plt.show()"
   ],
   "metadata": {
    "collapsed": false,
    "ExecuteTime": {
     "end_time": "2023-09-10T11:07:38.435277500Z",
     "start_time": "2023-09-10T11:07:38.258000900Z"
    }
   }
  },
  {
   "cell_type": "code",
   "execution_count": 69,
   "outputs": [
    {
     "data": {
      "text/plain": "<Figure size 640x480 with 1 Axes>",
      "image/png": "[encoded data removed]"
     },
     "metadata": {},
     "output_type": "display_data"
    }
   ],
   "source": [
    "# plot accuracy_list as barplot\n",
    "# y as count of how many times the accuracy was achieved\n",
    "# x as accuracy\n",
    "plt.hist(accuracy_list, bins=10, color='b', label='weighted random acc', linewidth=0, edgecolor='black')\n",
    "plt.hist(topk_accuracy_list, bins=10, color='g', label='weighted random topK2 acc', linewidth=0, edgecolor='black')\n",
    "plt.hist(accuracy_list_x, bins=10, color='r', label='total random acc', linewidth=0, edgecolor='black')\n",
    "plt.hist(topk_accuracy_list_x, bins=10, color='y', label='total random topK2 acc', linewidth=0, edgecolor='black')\n",
    "\n",
    "plt.axvline(x=0.7874, color='r', linestyle='--', label='best model acc')\n",
    "plt.axvline(x=0.9582, color='g', linestyle='--', label='best model topK2 acc')\n",
    "# add legend\n",
    "plt.legend(loc='upper right')\n",
    "\n",
    "\n",
    "# add title\n",
    "plt.title(f'random predictor accuracy\\n *weighted by most abundant charge-state in full dataset\\n **total random by np.choice of CSs [1,2,3,4,5,6]\\n {run_count} runs for randomizer')\n",
    "# add x and y labels\n",
    "plt.ylabel('Bin-Count')\n",
    "plt.xlabel('Accuracy')\n",
    "# show plot\n",
    "plt.show()\n",
    "\n",
    "\n"
   ],
   "metadata": {
    "collapsed": false,
    "ExecuteTime": {
     "end_time": "2023-09-10T11:07:38.690287100Z",
     "start_time": "2023-09-10T11:07:38.436279100Z"
    }
   }
  },
  {
   "cell_type": "code",
   "execution_count": 65,
   "outputs": [
    {
     "name": "stdout",
     "output_type": "stream",
     "text": [
      "{2: 0.5447000000000001, 3: 0.31290000000000007, 4: 0.07940000000000001, 1: 0.049800000000000004, 5: 0.010900000000000002, 6: 0.0023000000000000004}\n"
     ]
    }
   ],
   "source": [
    "print(dist_dict)"
   ],
   "metadata": {
    "collapsed": false,
    "ExecuteTime": {
     "end_time": "2023-09-10T11:05:58.191362700Z",
     "start_time": "2023-09-10T11:05:58.093208Z"
    }
   }
  },
  {
   "cell_type": "code",
   "execution_count": 58,
   "outputs": [],
   "source": [
    "# true labels\n",
    "true_label_list = df1['most_abundant_charge'].tolist()"
   ],
   "metadata": {
    "collapsed": false,
    "ExecuteTime": {
     "end_time": "2023-09-10T11:04:45.234369800Z",
     "start_time": "2023-09-10T11:04:45.139452800Z"
    }
   }
  },
  {
   "cell_type": "code",
   "execution_count": 66,
   "outputs": [
    {
     "ename": "KeyError",
     "evalue": "'1'",
     "output_type": "error",
     "traceback": [
      "\u001B[1;31m---------------------------------------------------------------------------\u001B[0m",
      "\u001B[1;31mKeyError\u001B[0m                                  Traceback (most recent call last)",
      "Cell \u001B[1;32mIn[66], line 21\u001B[0m\n\u001B[0;32m     19\u001B[0m     probability \u001B[38;5;241m=\u001B[39m \u001B[38;5;241m1.0\u001B[39m  \u001B[38;5;66;03m# Initialize with 1.0\u001B[39;00m\n\u001B[0;32m     20\u001B[0m     \u001B[38;5;28;01mfor\u001B[39;00m label \u001B[38;5;129;01min\u001B[39;00m order:\n\u001B[1;32m---> 21\u001B[0m         probability \u001B[38;5;241m*\u001B[39m\u001B[38;5;241m=\u001B[39m \u001B[43mdist_dict\u001B[49m\u001B[43m[\u001B[49m\u001B[43mlabel\u001B[49m\u001B[43m]\u001B[49m\n\u001B[0;32m     22\u001B[0m     order_probabilities\u001B[38;5;241m.\u001B[39mappend(probability)\n\u001B[0;32m     24\u001B[0m \u001B[38;5;66;03m# Step 4: Plot the probability distribution\u001B[39;00m\n",
      "\u001B[1;31mKeyError\u001B[0m: '1'"
     ]
    }
   ],
   "source": [
    "import matplotlib.pyplot as plt\n",
    "import itertools\n",
    "\n",
    "# Sample label list and probabilities by label dictionary\n",
    "label_list = ['1', '2', '3', '4', '5', '6']\n",
    "#dist_dict = {'A': 0.2, 'B': 0.5, 'C': 0.3}\n",
    "\n",
    "# Step 1: Normalize probabilities\n",
    "total_probability = sum(dist_dict.values())\n",
    "if total_probability != 1:\n",
    "    dist_dict = {label: probability / total_probability for label, probability in dist_dict.items()}\n",
    "\n",
    "# Step 2: Generate all possible permutations of labels with repetitions\n",
    "order_permutations = list(itertools.product(label_list, repeat=len(label_list)))\n",
    "\n",
    "# Step 3: Calculate the probability of each order\n",
    "order_probabilities = []\n",
    "for order in order_permutations:\n",
    "    probability = 1.0  # Initialize with 1.0\n",
    "    for label in order:\n",
    "        probability *= dist_dict[label]\n",
    "    order_probabilities.append(probability)\n",
    "\n",
    "# Step 4: Plot the probability distribution\n",
    "plt.figure(figsize=(12, 6))\n",
    "plt.bar(range(len(order_probabilities)), order_probabilities, align='center')\n",
    "plt.xticks(range(len(order_probabilities)), [''.join(order) for order in order_permutations], rotation=45)\n",
    "plt.xlabel('Order')\n",
    "plt.ylabel('Probability')\n",
    "plt.title('Probability Distribution of Orders with Repetitions Allowed')\n",
    "plt.tight_layout()\n",
    "plt.show()"
   ],
   "metadata": {
    "collapsed": false,
    "ExecuteTime": {
     "end_time": "2023-09-10T11:06:41.712606700Z",
     "start_time": "2023-09-10T11:06:41.635567300Z"
    }
   }
  },
  {
   "cell_type": "code",
   "execution_count": null,
   "outputs": [],
   "source": [],
   "metadata": {
    "collapsed": false,
    "ExecuteTime": {
     "start_time": "2023-09-10T10:37:48.135626600Z"
    }
   }
  },
  {
   "cell_type": "code",
   "execution_count": null,
   "outputs": [],
   "source": [
    "df1.head(4)"
   ],
   "metadata": {
    "collapsed": false,
    "ExecuteTime": {
     "start_time": "2023-09-10T10:37:48.135626600Z"
    }
   }
  },
  {
   "cell_type": "code",
   "execution_count": null,
   "outputs": [],
   "source": [
    "def get_topK(label_dict, k=1):\n",
    "    allowed_keys = list()\n",
    "    sorted_values = sorted(label_dict.values(), reverse=True)\n",
    "    for i in sorted_values:\n",
    "        for key, value in label_dict.items():\n",
    "            if i == value and len(allowed_keys) <= k:\n",
    "                #allowed_keys.append((key, value))\n",
    "                allowed_keys.append(key)\n",
    "    return allowed_keys"
   ],
   "metadata": {
    "collapsed": false,
    "ExecuteTime": {
     "start_time": "2023-09-10T10:37:48.137626400Z"
    }
   }
  },
  {
   "cell_type": "code",
   "execution_count": null,
   "outputs": [],
   "source": [
    "# TopK-Metrics\n",
    "df1['pred_label'] = df1['random_label'].apply(lambda x: x)\n",
    "df1['topK'] = df1['normalized'].apply(get_topK)"
   ],
   "metadata": {
    "collapsed": false,
    "ExecuteTime": {
     "start_time": "2023-09-10T10:37:48.138628800Z"
    }
   }
  },
  {
   "cell_type": "code",
   "execution_count": null,
   "outputs": [],
   "source": [
    "df1.head(4)"
   ],
   "metadata": {
    "collapsed": false,
    "ExecuteTime": {
     "start_time": "2023-09-10T10:37:48.139627100Z"
    }
   }
  },
  {
   "cell_type": "code",
   "execution_count": null,
   "outputs": [],
   "source": [
    "# TopK-Metrics\n",
    "# iterate over all rows in predict_df and compare true_label with topK and set column topK_inference to either True or False\n",
    "df1['topK_inference'] = None\n",
    "for index, row in df1.iterrows():\n",
    "        if row['pred_label'] is None:\n",
    "            df1.at[index, 'topK_inference'] = None\n",
    "        elif row['pred_label'] in row['topK']:\n",
    "            df1.at[index, 'topK_inference'] = True\n",
    "        else:\n",
    "            df1.at[index, 'topK_inference'] = False\n",
    "# calculate accuracy for topK_inference\n",
    "topK_true = df1['topK_inference'].value_counts()[True] \n",
    "topK_false = df1['topK_inference'].value_counts()[False]\n",
    "topK_total = topK_true + topK_false\n",
    "print(\"Correct: \", topK_true, \"Wrong: \", topK_false, \"Total: \",topK_total)\n",
    "\n",
    "topK_accuracy = df1['topK_inference'].value_counts()[True] / (df1['topK_inference'].value_counts()[True] + df1['topK_inference'].value_counts()[False])\n",
    "print(\"TopK-Accuracy: \", topK_accuracy)"
   ],
   "metadata": {
    "collapsed": false,
    "ExecuteTime": {
     "start_time": "2023-09-10T10:37:48.139627100Z"
    }
   }
  }
 ],
 "metadata": {
  "kernelspec": {
   "display_name": "Python 3",
   "language": "python",
   "name": "python3"
  },
  "language_info": {
   "codemirror_mode": {
    "name": "ipython",
    "version": 2
   },
   "file_extension": ".py",
   "mimetype": "text/x-python",
   "name": "python",
   "nbconvert_exporter": "python",
   "pygments_lexer": "ipython2",
   "version": "2.7.6"
  }
 },
 "nbformat": 4,
 "nbformat_minor": 0
}
